{
 "cells": [
  {
   "cell_type": "markdown",
   "id": "f20a0ff7-033f-4c3f-b697-e778f70cb7b5",
   "metadata": {},
   "source": [
    "# for문의 기본 개념\n",
    "## 반복 가능한 객체(iterable)\n",
    "* 파이썬의 for문은 시퀀스 자료형(문자열, 리스트, 튜플 등) 또는 이터러블 객체(예: range, dict, set 등)에 대해서 순회(iteration)합니다.\n",
    "* 예) 리스트 [1, 2, 3]를 for문으로 순회하면, 각 요소를 하나씩 꺼내서 반복문 안의 코드를 실행합니다.\n",
    "\n",
    "```\n",
    "for 변수 in 반복가능한객체:\n",
    "    # 반복할 코드\n",
    "```\n",
    "\n",
    "* 반복가능한객체에서 원소를 하나씩 꺼내어 변수에 대입하고, 반복문 블록을 실행합니다."
   ]
  },
  {
   "cell_type": "markdown",
   "id": "d08440a1-98d7-424f-a85c-f1e74dea06a7",
   "metadata": {},
   "source": [
    "## 1. range() 함수와 for문\n",
    "### range(끝)\n",
    "* range(n)은 0부터 n-1까지의 정수를 생성합니다."
   ]
  },
  {
   "cell_type": "code",
   "execution_count": 1,
   "id": "9fd839d9-99ee-4dad-9947-5d384325a464",
   "metadata": {},
   "outputs": [
    {
     "name": "stdout",
     "output_type": "stream",
     "text": [
      "0\n",
      "1\n",
      "2\n",
      "3\n",
      "4\n"
     ]
    }
   ],
   "source": [
    "for i in range(5):\n",
    "    print(i)\n",
    "# 출력: 0 1 2 3 4"
   ]
  },
  {
   "cell_type": "markdown",
   "id": "b4a8a887-d6e1-46bb-85e6-daf205b6619a",
   "metadata": {},
   "source": [
    "### range(시작, 끝, 단계)\n",
    "* range(start, end, step) 형태로 작성할 수 있습니다.\n",
    "* start부터 end-1까지 step 간격으로 숫자를 생성합니다."
   ]
  },
  {
   "cell_type": "code",
   "execution_count": 3,
   "id": "6e40b707-48ff-4a99-81a6-fd66f512310e",
   "metadata": {},
   "outputs": [
    {
     "name": "stdout",
     "output_type": "stream",
     "text": [
      "1 2 3 4 5 "
     ]
    }
   ],
   "source": [
    "for i in range(1, 6):\n",
    "    print(i, end=' ')\n",
    "# 출력: 1 2 3 4 5"
   ]
  },
  {
   "cell_type": "code",
   "execution_count": 4,
   "id": "b133b2f6-4475-44cb-9853-8150390ffd35",
   "metadata": {},
   "outputs": [
    {
     "name": "stdout",
     "output_type": "stream",
     "text": [
      "0 2 4 6 8 "
     ]
    }
   ],
   "source": [
    "for i in range(0, 10, 2):\n",
    "    print(i, end=' ')\n",
    "# 출력: 0 2 4 6 8"
   ]
  },
  {
   "cell_type": "markdown",
   "id": "29c6cc2f-60e7-4cea-a3fc-66fc2e8d82cf",
   "metadata": {},
   "source": [
    "* range()를 활용한 누적 합 예시"
   ]
  },
  {
   "cell_type": "code",
   "execution_count": 5,
   "id": "e19d3e1c-874b-4a27-a12e-ac1e723d338d",
   "metadata": {},
   "outputs": [
    {
     "name": "stdout",
     "output_type": "stream",
     "text": [
      "1부터 5까지 합: 15\n"
     ]
    }
   ],
   "source": [
    "total = 0\n",
    "for i in range(1, 6):\n",
    "    total += i\n",
    "print(\"1부터 5까지 합:\", total)\n",
    "# 결과: 1부터 5까지 합: 15"
   ]
  },
  {
   "cell_type": "markdown",
   "id": "7cdd971c-4a18-47de-905d-be5441b48f11",
   "metadata": {},
   "source": [
    "## 2. for문을 이용한 시퀀스 순회\n",
    "* 리스트 순회"
   ]
  },
  {
   "cell_type": "code",
   "execution_count": 6,
   "id": "82a2d62f-2d36-45ff-9758-43a39f120a39",
   "metadata": {},
   "outputs": [
    {
     "name": "stdout",
     "output_type": "stream",
     "text": [
      "apple\n",
      "banana\n",
      "orange\n"
     ]
    }
   ],
   "source": [
    "fruits = [\"apple\", \"banana\", \"orange\"]\n",
    "for fruit in fruits:\n",
    "    print(fruit)\n",
    "# apple\n",
    "# banana\n",
    "# orange"
   ]
  },
  {
   "cell_type": "markdown",
   "id": "93e4238e-ea72-4137-b338-bf82c6ce35d4",
   "metadata": {},
   "source": [
    "* 문자열 순회"
   ]
  },
  {
   "cell_type": "code",
   "execution_count": 7,
   "id": "5e5bb8af-3316-443a-a583-103ff223b0f1",
   "metadata": {},
   "outputs": [
    {
     "name": "stdout",
     "output_type": "stream",
     "text": [
      "H\n",
      "e\n",
      "l\n",
      "l\n",
      "o\n"
     ]
    }
   ],
   "source": [
    "text = \"Hello\"\n",
    "for ch in text:\n",
    "    print(ch)\n",
    "# H\n",
    "# e\n",
    "# l\n",
    "# l\n",
    "# o"
   ]
  },
  {
   "cell_type": "markdown",
   "id": "61eb5c36-678b-4df5-a940-0e14034574d0",
   "metadata": {},
   "source": [
    "### 튜플, 집합, 딕셔너리 순회\n",
    "* 튜플: 리스트와 동일하게 순회\n",
    "* 집합(set): 순서는 없지만, for문으로 원소를 하나씩 꺼낼 수 있습니다 (순서는 예측 불가)\n",
    "* 딕셔너리: 기본적으로 키를 순회합니다."
   ]
  },
  {
   "cell_type": "code",
   "execution_count": 8,
   "id": "7285c1fb-c96e-445d-9dbe-8cfb9ec6fa5d",
   "metadata": {},
   "outputs": [
    {
     "name": "stdout",
     "output_type": "stream",
     "text": [
      "a 1\n",
      "b 2\n",
      "c 3\n"
     ]
    }
   ],
   "source": [
    "my_dict = {\"a\": 1, \"b\": 2, \"c\": 3}\n",
    "for key in my_dict:\n",
    "    print(key, my_dict[key])\n",
    "# a 1\n",
    "# b 2\n",
    "# c 3"
   ]
  },
  {
   "cell_type": "markdown",
   "id": "26bdc669-6f3d-4491-a932-6b8352c02540",
   "metadata": {},
   "source": [
    "## enumerate와 zip\n",
    "* enumerate: 시퀀스를 순회하면서, 인덱스와 값을 동시에 추출할 수 있습니다."
   ]
  },
  {
   "cell_type": "code",
   "execution_count": 9,
   "id": "9171362f-f85c-4f43-83e6-f2e206c89aec",
   "metadata": {},
   "outputs": [
    {
     "name": "stdout",
     "output_type": "stream",
     "text": [
      "0 apple\n",
      "1 banana\n",
      "2 orange\n"
     ]
    }
   ],
   "source": [
    "fruits = [\"apple\", \"banana\", \"orange\"]\n",
    "for index, fruit in enumerate(fruits):\n",
    "    print(index, fruit)\n",
    "# 0 apple\n",
    "# 1 banana\n",
    "# 2 orange"
   ]
  },
  {
   "cell_type": "markdown",
   "id": "29768718-13f3-4e0c-9c38-64cbc4afb18b",
   "metadata": {},
   "source": [
    "* zip: 여러 시퀀스를 병렬로 묶어서 동시에 순회할 수 있습니다."
   ]
  },
  {
   "cell_type": "code",
   "execution_count": 10,
   "id": "9d537ba6-ac5f-474c-872e-dfd2cda4cf4b",
   "metadata": {},
   "outputs": [
    {
     "name": "stdout",
     "output_type": "stream",
     "text": [
      "월 20\n",
      "화 22\n",
      "수 19\n"
     ]
    }
   ],
   "source": [
    "days = [\"월\", \"화\", \"수\"]\n",
    "temperatures = [20, 22, 19]\n",
    "for day, temp in zip(days, temperatures):\n",
    "    print(day, temp)\n",
    "# 월 20\n",
    "# 화 22\n",
    "# 수 19"
   ]
  },
  {
   "cell_type": "markdown",
   "id": "f394891c-a901-4c92-ac93-1030641a2067",
   "metadata": {},
   "source": [
    "## 중첩 for문\n",
    "* for문 안에 또 다른 for문을 작성할 수 있습니다.\n",
    "* 예를 들어, 구구단의 각 단을 출력하거나 2차원 리스트를 순회할 때 사용합니다."
   ]
  },
  {
   "cell_type": "code",
   "execution_count": 11,
   "id": "beda08af-db6c-4d40-9e85-bab1e46d4bf6",
   "metadata": {},
   "outputs": [
    {
     "name": "stdout",
     "output_type": "stream",
     "text": [
      "2 x 1 = 2\n",
      "2 x 2 = 4\n",
      "2 x 3 = 6\n",
      "2 x 4 = 8\n",
      "2 x 5 = 10\n",
      "2 x 6 = 12\n",
      "2 x 7 = 14\n",
      "2 x 8 = 16\n",
      "2 x 9 = 18\n",
      "---\n",
      "3 x 1 = 3\n",
      "3 x 2 = 6\n",
      "3 x 3 = 9\n",
      "3 x 4 = 12\n",
      "3 x 5 = 15\n",
      "3 x 6 = 18\n",
      "3 x 7 = 21\n",
      "3 x 8 = 24\n",
      "3 x 9 = 27\n",
      "---\n",
      "4 x 1 = 4\n",
      "4 x 2 = 8\n",
      "4 x 3 = 12\n",
      "4 x 4 = 16\n",
      "4 x 5 = 20\n",
      "4 x 6 = 24\n",
      "4 x 7 = 28\n",
      "4 x 8 = 32\n",
      "4 x 9 = 36\n",
      "---\n",
      "5 x 1 = 5\n",
      "5 x 2 = 10\n",
      "5 x 3 = 15\n",
      "5 x 4 = 20\n",
      "5 x 5 = 25\n",
      "5 x 6 = 30\n",
      "5 x 7 = 35\n",
      "5 x 8 = 40\n",
      "5 x 9 = 45\n",
      "---\n",
      "6 x 1 = 6\n",
      "6 x 2 = 12\n",
      "6 x 3 = 18\n",
      "6 x 4 = 24\n",
      "6 x 5 = 30\n",
      "6 x 6 = 36\n",
      "6 x 7 = 42\n",
      "6 x 8 = 48\n",
      "6 x 9 = 54\n",
      "---\n",
      "7 x 1 = 7\n",
      "7 x 2 = 14\n",
      "7 x 3 = 21\n",
      "7 x 4 = 28\n",
      "7 x 5 = 35\n",
      "7 x 6 = 42\n",
      "7 x 7 = 49\n",
      "7 x 8 = 56\n",
      "7 x 9 = 63\n",
      "---\n",
      "8 x 1 = 8\n",
      "8 x 2 = 16\n",
      "8 x 3 = 24\n",
      "8 x 4 = 32\n",
      "8 x 5 = 40\n",
      "8 x 6 = 48\n",
      "8 x 7 = 56\n",
      "8 x 8 = 64\n",
      "8 x 9 = 72\n",
      "---\n",
      "9 x 1 = 9\n",
      "9 x 2 = 18\n",
      "9 x 3 = 27\n",
      "9 x 4 = 36\n",
      "9 x 5 = 45\n",
      "9 x 6 = 54\n",
      "9 x 7 = 63\n",
      "9 x 8 = 72\n",
      "9 x 9 = 81\n",
      "---\n"
     ]
    }
   ],
   "source": [
    "for i in range(2, 10):        # 2단부터 9단\n",
    "    for j in range(1, 10):    # 1부터 9\n",
    "        print(f\"{i} x {j} = {i*j}\")\n",
    "    print(\"---\")"
   ]
  },
  {
   "cell_type": "markdown",
   "id": "6e501a87-0bc5-4409-8e0f-e97c7e3f8966",
   "metadata": {},
   "source": [
    "## for문에서의 break와 continue\n",
    "* break: for 반복을 즉시 종료합니다."
   ]
  },
  {
   "cell_type": "code",
   "execution_count": 12,
   "id": "e5b9e725-e606-4b07-ac35-0b8f3497b992",
   "metadata": {},
   "outputs": [
    {
     "name": "stdout",
     "output_type": "stream",
     "text": [
      "0 1 2 3 4 "
     ]
    }
   ],
   "source": [
    "for i in range(10):\n",
    "    if i == 5:\n",
    "        break\n",
    "    print(i, end=' ')\n",
    "# 출력: 0 1 2 3 4"
   ]
  },
  {
   "cell_type": "markdown",
   "id": "0a34cd34-0cea-4ceb-999e-0a11dc257ee2",
   "metadata": {},
   "source": [
    "* continue: 현재 반복을 스킵하고 다음 반복으로 넘어갑니다."
   ]
  },
  {
   "cell_type": "code",
   "execution_count": 13,
   "id": "ccf483b1-225b-4286-a3d6-5a696ba548c5",
   "metadata": {},
   "outputs": [
    {
     "name": "stdout",
     "output_type": "stream",
     "text": [
      "0 1 3 4 "
     ]
    }
   ],
   "source": [
    "for i in range(5):\n",
    "    if i == 2:\n",
    "        continue\n",
    "    print(i, end=' ')\n",
    "# 출력: 0 1 3 4\n",
    "# (2는 스킵됨)"
   ]
  },
  {
   "cell_type": "markdown",
   "id": "2dd83e15-509c-4012-a0bd-ba645ff25b4b",
   "metadata": {},
   "source": [
    "## for ~ else 구문\n",
    "* while ~ else와 유사하게, for문이 정상적으로 끝까지 반복을 마치면 else 블록이 실행됩니다.\n",
    "* 중간에 break로 빠져나오면 else 블록은 실행되지 않습니다."
   ]
  },
  {
   "cell_type": "code",
   "execution_count": 14,
   "id": "c927296a-be60-43b6-9c9a-d52e82728ce2",
   "metadata": {},
   "outputs": [
    {
     "name": "stdout",
     "output_type": "stream",
     "text": [
      "1\n",
      "2\n"
     ]
    }
   ],
   "source": [
    "for i in range(1, 5):\n",
    "    if i == 3:\n",
    "        break\n",
    "    print(i)\n",
    "else:\n",
    "    print(\"모든 반복 완료\")  # break로 인해 실행되지 않음"
   ]
  },
  {
   "cell_type": "markdown",
   "id": "64138418-4d26-4332-b1d2-2f1cbcb62146",
   "metadata": {},
   "source": [
    "## 연습문제\n",
    "1. for i in range(5):를 사용하여 0부터 4까지 숫자를 한 줄에 출력하세요."
   ]
  },
  {
   "cell_type": "code",
   "execution_count": 1,
   "id": "e9960c1b-489f-43d4-b120-219f7ea006c0",
   "metadata": {},
   "outputs": [
    {
     "name": "stdout",
     "output_type": "stream",
     "text": [
      "0 1 2 3 4 "
     ]
    }
   ],
   "source": [
    "for i in range(5):\n",
    "    print(i, end=\" \")"
   ]
  },
  {
   "cell_type": "markdown",
   "id": "c9ea7660-05fb-4262-893f-1e2d545d61e2",
   "metadata": {},
   "source": [
    "2. 리스트 colors = [\"red\", \"blue\", \"green\"]를 for문으로 순회하여 색상을 순서대로 출력하세요."
   ]
  },
  {
   "cell_type": "code",
   "execution_count": 4,
   "id": "010e96b2-07db-49a8-9a54-2a3ef64919b6",
   "metadata": {},
   "outputs": [
    {
     "name": "stdout",
     "output_type": "stream",
     "text": [
      "red\n",
      "blue\n",
      "green\n"
     ]
    }
   ],
   "source": [
    "colors = [\"red\", \"blue\", \"green\"]\n",
    "for i in colors:\n",
    "    print(i)"
   ]
  },
  {
   "cell_type": "markdown",
   "id": "4ec66f33-dd88-4193-9745-27bd451653e8",
   "metadata": {},
   "source": [
    "3. for i in range(1, 6):를 사용해 1 + 2 + 3 + 4 + 5 누적 합을 구하고 출력하세요."
   ]
  },
  {
   "cell_type": "code",
   "execution_count": 5,
   "id": "bb7f68d4-0c13-4130-b5a9-2e7d4d907e6d",
   "metadata": {},
   "outputs": [
    {
     "data": {
      "text/plain": [
       "15"
      ]
     },
     "execution_count": 5,
     "metadata": {},
     "output_type": "execute_result"
    }
   ],
   "source": [
    "sum = 0\n",
    "for i in range(1, 6):\n",
    "    sum = sum + i\n",
    "sum\n",
    "\n",
    "# sum([i for i in range(1, 6)])\n",
    "\n",
    "# [i for i in range(1, 6)]      # 넣어주고 싶은 변수를 for문 앞에 적어기기\n",
    "# [i*j for i in range(1, 6) for j in range(1, 6) if i % 2 == 0]     # 이중for문도 가능.  조건 걸어주기도 가능 (ex.i가 짝수일때만)"
   ]
  },
  {
   "cell_type": "markdown",
   "id": "a0c163a4-b2f5-44bc-9a92-0dd863f2c0d2",
   "metadata": {},
   "source": [
    "4. 문자열 text = \"Hello\"에서 각 문자를 하나씩 꺼내어 출력하세요."
   ]
  },
  {
   "cell_type": "code",
   "execution_count": 7,
   "id": "9977e90a-7256-4790-b1f5-96010b67b9bb",
   "metadata": {},
   "outputs": [
    {
     "name": "stdout",
     "output_type": "stream",
     "text": [
      "H\n",
      "e\n",
      "l\n",
      "l\n",
      "o\n"
     ]
    }
   ],
   "source": [
    "text = \"Hello\"\n",
    "for i in range(0, 5):\n",
    "    print(text[i])\n",
    "\n",
    "# for i in text:\n",
    "#     print(i)"
   ]
  },
  {
   "cell_type": "markdown",
   "id": "ca948272-c66c-4ab0-b695-619d34fb400e",
   "metadata": {},
   "source": [
    "5. for i in range(10):에서 i가 5가 되면 break하고, 그렇지 않으면 i를 출력하세요."
   ]
  },
  {
   "cell_type": "code",
   "execution_count": 8,
   "id": "b15f0783-5dcf-4b36-81b2-0c80b5c13efc",
   "metadata": {},
   "outputs": [
    {
     "name": "stdout",
     "output_type": "stream",
     "text": [
      "0\n",
      "1\n",
      "2\n",
      "3\n",
      "4\n"
     ]
    }
   ],
   "source": [
    "for i in range(10):\n",
    "    if i == 5:\n",
    "        break\n",
    "    else:\n",
    "        print(i)"
   ]
  },
  {
   "cell_type": "markdown",
   "id": "c1d3239f-f455-40a0-8b01-d5adcfe81422",
   "metadata": {},
   "source": [
    "6. for i in range(1, 11): 에서 짝수만 더한 합을 구해 출력하세요. (2+4+6+8+10=30)"
   ]
  },
  {
   "cell_type": "code",
   "execution_count": 10,
   "id": "c53ebbed-bc5f-4594-8bac-ae97f553faff",
   "metadata": {},
   "outputs": [
    {
     "data": {
      "text/plain": [
       "30"
      ]
     },
     "execution_count": 10,
     "metadata": {},
     "output_type": "execute_result"
    }
   ],
   "source": [
    "sum = 0\n",
    "for i in range(1, 11): \n",
    "    if i % 2 == 0:\n",
    "        sum = sum + i\n",
    "sum"
   ]
  },
  {
   "cell_type": "markdown",
   "id": "cb4acdb7-df10-4aac-9791-2133c3d478fc",
   "metadata": {},
   "source": [
    "7. 리스트 names = [\"Alice\", \"Bob\", \"Charlie\"]를 enumerate로 순회하며, \"0번째 이름은 Alice\" 이런 식으로 인덱스와 함께 출력하세요."
   ]
  },
  {
   "cell_type": "code",
   "execution_count": 18,
   "id": "322614a2-5991-4fca-8a17-b0ab011c1b44",
   "metadata": {},
   "outputs": [
    {
     "name": "stdout",
     "output_type": "stream",
     "text": [
      "0번째 이름은 Alice\n",
      "1번째 이름은 Bob\n",
      "2번째 이름은 Charlie\n"
     ]
    }
   ],
   "source": [
    "names = [\"Alice\", \"Bob\", \"Charlie\"]\n",
    "for i in enumerate(names):\n",
    "    print(f\"{i[0]}번째 이름은 {i[1]}\")\n",
    "\n",
    "# for i, j in enumerate(names):\n",
    "#     print(f\"{i}번째 이름은 {j}\")"
   ]
  },
  {
   "cell_type": "markdown",
   "id": "024cc7c0-718f-46ed-b9f8-413ae4b9d7a2",
   "metadata": {},
   "source": [
    "8. 아래 두 리스트를 zip으로 묶어서 \"국어 점수는 90점\", \"영어 점수는 85점\", \"수학 점수는 95점\" 형태로 출력하세요."
   ]
  },
  {
   "cell_type": "code",
   "execution_count": 25,
   "id": "e323cd20-5739-45e9-8928-97a0277b051a",
   "metadata": {},
   "outputs": [
    {
     "name": "stdout",
     "output_type": "stream",
     "text": [
      "국어 점수는 90점\n",
      "영어 점수는 85점\n",
      "수학 점수는 95점\n"
     ]
    }
   ],
   "source": [
    "subjects = [\"국어\", \"영어\", \"수학\"]\n",
    "scores = [90, 85, 95]\n",
    "for i in zip(subjects, scores):\n",
    "    print(f\"{i[0]} 점수는 {i[1]}점\")\n",
    "\n",
    "# for i, j in list*zip(subjects, scores)):\n",
    "#     print(f\"{i} 점수는 {j}점\")"
   ]
  },
  {
   "cell_type": "markdown",
   "id": "34563ece-9a6a-4775-8845-670806c42d7e",
   "metadata": {},
   "source": [
    "10. for i in range(1, 6):에서 i가 짝수이면 출력하지 않고, 홀수이면 출력하세요."
   ]
  },
  {
   "cell_type": "code",
   "execution_count": 26,
   "id": "34f15b96-1e97-4e85-9971-7348f101a23a",
   "metadata": {},
   "outputs": [
    {
     "name": "stdout",
     "output_type": "stream",
     "text": [
      "1\n",
      "3\n",
      "5\n"
     ]
    }
   ],
   "source": [
    "for i in range(1, 6):\n",
    "    if i % 2 != 0:\n",
    "        print(i)"
   ]
  },
  {
   "cell_type": "markdown",
   "id": "bfd10a81-f522-4f3b-b7bc-f156a06643d5",
   "metadata": {},
   "source": [
    "11. 리스트 nums = [3, 7, 2, 9, 1]에서 for문을 사용하여 최댓값을 찾고 출력하세요. (max() 내장 함수 사용 금지)"
   ]
  },
  {
   "cell_type": "code",
   "execution_count": 30,
   "id": "5ee0d787-df1a-44bd-89ac-dd6c7aaee751",
   "metadata": {},
   "outputs": [
    {
     "name": "stdout",
     "output_type": "stream",
     "text": [
      "9\n"
     ]
    }
   ],
   "source": [
    "nums = [3, 7, 2, 9, 1]\n",
    "max = nums[0]\n",
    "for i in range(5):\n",
    "    if (nums[i] > max):\n",
    "        max = nums[i]\n",
    "print(max)\n",
    "\n",
    "\n",
    "# value = 0\n",
    "# nums = [3, 7, 2, 9, 1]\n",
    "# for i in nums:\n",
    "#     if i >= value:\n",
    "#         value = i\n",
    "# value"
   ]
  },
  {
   "cell_type": "markdown",
   "id": "0bcea927-8684-4859-bc88-f9a11b196c50",
   "metadata": {},
   "source": [
    "13. 문자열 words = [\"hello\", \"world\"]에서 각 단어를 뒤집어서 출력하세요. (예: \"hello\" -> \"olleh\") (힌트: [::-1] 슬라이싱 사용 가능)"
   ]
  },
  {
   "cell_type": "code",
   "execution_count": 39,
   "id": "a1cc00db-fa68-4a19-b8d7-df3963c15ba2",
   "metadata": {},
   "outputs": [
    {
     "name": "stdout",
     "output_type": "stream",
     "text": [
      "olleh\n",
      "dlrow\n"
     ]
    }
   ],
   "source": [
    "words = [\"hello\", \"world\"]\n",
    "for i in range(len(words)):\n",
    "    print(words[i][::-1])\n",
    "\n",
    "# for i in words:\n",
    "#     print(i[::-1])"
   ]
  },
  {
   "cell_type": "markdown",
   "id": "bc0afd21-e9b2-43af-8366-2c2950cdd015",
   "metadata": {},
   "source": [
    "14. 사용자에게 정수 n을 입력받아, 높이가 n인 간단한 왼쪽 정렬 별 피라미드를 출력하세요. 예를 들어 n=4일 때,\n",
    "\n",
    "```\n",
    "*\n",
    "**\n",
    "***\n",
    "****\n",
    "```"
   ]
  },
  {
   "cell_type": "code",
   "execution_count": 2,
   "id": "c17aacba-7623-42f6-bd52-016a097cc63c",
   "metadata": {},
   "outputs": [
    {
     "name": "stdin",
     "output_type": "stream",
     "text": [
      "입력:  4\n"
     ]
    },
    {
     "name": "stdout",
     "output_type": "stream",
     "text": [
      "*\n",
      "**\n",
      "***\n",
      "****\n"
     ]
    }
   ],
   "source": [
    "n = int(input(\"입력: \"))\n",
    "for i in range(1, n+1):\n",
    "    print(\"*\" * i)           # 문자열 * 숫자  가능"
   ]
  },
  {
   "cell_type": "code",
   "execution_count": null,
   "id": "d30f8d10-92ef-4fd0-99ae-463ff08025de",
   "metadata": {},
   "outputs": [],
   "source": []
  }
 ],
 "metadata": {
  "kernelspec": {
   "display_name": "Python 3 (ipykernel)",
   "language": "python",
   "name": "python3"
  },
  "language_info": {
   "codemirror_mode": {
    "name": "ipython",
    "version": 3
   },
   "file_extension": ".py",
   "mimetype": "text/x-python",
   "name": "python",
   "nbconvert_exporter": "python",
   "pygments_lexer": "ipython3",
   "version": "3.12.7"
  }
 },
 "nbformat": 4,
 "nbformat_minor": 5
}
