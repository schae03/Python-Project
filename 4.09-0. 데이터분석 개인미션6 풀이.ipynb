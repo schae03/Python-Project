{
 "cells": [
  {
   "cell_type": "code",
   "execution_count": 4,
   "id": "2b9ef0dc-72f2-4112-9ad6-000fc3488422",
   "metadata": {},
   "outputs": [
    {
     "data": {
      "text/html": [
       "<div>\n",
       "<style scoped>\n",
       "    .dataframe tbody tr th:only-of-type {\n",
       "        vertical-align: middle;\n",
       "    }\n",
       "\n",
       "    .dataframe tbody tr th {\n",
       "        vertical-align: top;\n",
       "    }\n",
       "\n",
       "    .dataframe thead th {\n",
       "        text-align: right;\n",
       "    }\n",
       "</style>\n",
       "<table border=\"1\" class=\"dataframe\">\n",
       "  <thead>\n",
       "    <tr style=\"text-align: right;\">\n",
       "      <th></th>\n",
       "      <th>Code_Num</th>\n",
       "      <th>Datetime</th>\n",
       "      <th>Process_Type</th>\n",
       "      <th>ST</th>\n",
       "      <th>Tube Furnace CP</th>\n",
       "      <th>Tube Furnace1 OP</th>\n",
       "      <th>Tube Furnace1 Temp</th>\n",
       "      <th>Tube Furnace2 OP</th>\n",
       "      <th>Tube Furnace2 Temp</th>\n",
       "      <th>Tube Furnace3 OP</th>\n",
       "      <th>Tube Furnace3 Temp</th>\n",
       "      <th>Tube Furnace4 OP</th>\n",
       "      <th>Tube Furnace4 Temp</th>\n",
       "      <th>Z1-OP1</th>\n",
       "      <th>Z1-OP2</th>\n",
       "      <th>Z1-Temp</th>\n",
       "    </tr>\n",
       "  </thead>\n",
       "  <tbody>\n",
       "    <tr>\n",
       "      <th>2</th>\n",
       "      <td>GroupA</td>\n",
       "      <td>2022-01-03 11:22</td>\n",
       "      <td>OP-A</td>\n",
       "      <td>68.724636</td>\n",
       "      <td>0.454914</td>\n",
       "      <td>78.946336</td>\n",
       "      <td>866.441979</td>\n",
       "      <td>62.235532</td>\n",
       "      <td>882.850031</td>\n",
       "      <td>52.218350</td>\n",
       "      <td>864.373065</td>\n",
       "      <td>72.705558</td>\n",
       "      <td>893.530501</td>\n",
       "      <td>72.909936</td>\n",
       "      <td>71.579322</td>\n",
       "      <td>99.614201</td>\n",
       "    </tr>\n",
       "    <tr>\n",
       "      <th>3</th>\n",
       "      <td>GroupA</td>\n",
       "      <td>2022-01-03 11:22</td>\n",
       "      <td>OP-A</td>\n",
       "      <td>69.161116</td>\n",
       "      <td>0.456540</td>\n",
       "      <td>78.445719</td>\n",
       "      <td>876.350472</td>\n",
       "      <td>61.608260</td>\n",
       "      <td>906.208463</td>\n",
       "      <td>52.863552</td>\n",
       "      <td>891.107865</td>\n",
       "      <td>73.975640</td>\n",
       "      <td>896.347636</td>\n",
       "      <td>68.754355</td>\n",
       "      <td>73.537496</td>\n",
       "      <td>99.376221</td>\n",
       "    </tr>\n",
       "    <tr>\n",
       "      <th>4</th>\n",
       "      <td>GroupA</td>\n",
       "      <td>2022-01-03 11:22</td>\n",
       "      <td>OP-C</td>\n",
       "      <td>69.181098</td>\n",
       "      <td>0.460100</td>\n",
       "      <td>76.673808</td>\n",
       "      <td>903.587677</td>\n",
       "      <td>61.589311</td>\n",
       "      <td>867.215131</td>\n",
       "      <td>52.297196</td>\n",
       "      <td>893.206883</td>\n",
       "      <td>71.887865</td>\n",
       "      <td>871.594283</td>\n",
       "      <td>69.692302</td>\n",
       "      <td>72.461153</td>\n",
       "      <td>99.809053</td>\n",
       "    </tr>\n",
       "    <tr>\n",
       "      <th>5</th>\n",
       "      <td>GroupA</td>\n",
       "      <td>2022-01-03 11:22</td>\n",
       "      <td>OP-C</td>\n",
       "      <td>69.472810</td>\n",
       "      <td>0.459051</td>\n",
       "      <td>76.161977</td>\n",
       "      <td>893.336100</td>\n",
       "      <td>61.131382</td>\n",
       "      <td>901.009384</td>\n",
       "      <td>52.514548</td>\n",
       "      <td>891.501638</td>\n",
       "      <td>71.805968</td>\n",
       "      <td>882.495792</td>\n",
       "      <td>73.802112</td>\n",
       "      <td>72.207883</td>\n",
       "      <td>99.770424</td>\n",
       "    </tr>\n",
       "    <tr>\n",
       "      <th>6</th>\n",
       "      <td>GroupA</td>\n",
       "      <td>2022-01-03 11:22</td>\n",
       "      <td>OP-C</td>\n",
       "      <td>69.189685</td>\n",
       "      <td>0.459515</td>\n",
       "      <td>75.879256</td>\n",
       "      <td>898.617693</td>\n",
       "      <td>59.644186</td>\n",
       "      <td>889.460401</td>\n",
       "      <td>52.466639</td>\n",
       "      <td>864.222256</td>\n",
       "      <td>71.868823</td>\n",
       "      <td>877.136764</td>\n",
       "      <td>71.219875</td>\n",
       "      <td>76.886609</td>\n",
       "      <td>99.852337</td>\n",
       "    </tr>\n",
       "  </tbody>\n",
       "</table>\n",
       "</div>"
      ],
      "text/plain": [
       "  Code_Num          Datetime Process_Type         ST  Tube Furnace CP  \\\n",
       "2   GroupA  2022-01-03 11:22         OP-A  68.724636         0.454914   \n",
       "3   GroupA  2022-01-03 11:22         OP-A  69.161116         0.456540   \n",
       "4   GroupA  2022-01-03 11:22         OP-C  69.181098         0.460100   \n",
       "5   GroupA  2022-01-03 11:22         OP-C  69.472810         0.459051   \n",
       "6   GroupA  2022-01-03 11:22         OP-C  69.189685         0.459515   \n",
       "\n",
       "   Tube Furnace1 OP  Tube Furnace1 Temp  Tube Furnace2 OP  Tube Furnace2 Temp  \\\n",
       "2         78.946336          866.441979         62.235532          882.850031   \n",
       "3         78.445719          876.350472         61.608260          906.208463   \n",
       "4         76.673808          903.587677         61.589311          867.215131   \n",
       "5         76.161977          893.336100         61.131382          901.009384   \n",
       "6         75.879256          898.617693         59.644186          889.460401   \n",
       "\n",
       "   Tube Furnace3 OP  Tube Furnace3 Temp  Tube Furnace4 OP  Tube Furnace4 Temp  \\\n",
       "2         52.218350          864.373065         72.705558          893.530501   \n",
       "3         52.863552          891.107865         73.975640          896.347636   \n",
       "4         52.297196          893.206883         71.887865          871.594283   \n",
       "5         52.514548          891.501638         71.805968          882.495792   \n",
       "6         52.466639          864.222256         71.868823          877.136764   \n",
       "\n",
       "      Z1-OP1     Z1-OP2    Z1-Temp  \n",
       "2  72.909936  71.579322  99.614201  \n",
       "3  68.754355  73.537496  99.376221  \n",
       "4  69.692302  72.461153  99.809053  \n",
       "5  73.802112  72.207883  99.770424  \n",
       "6  71.219875  76.886609  99.852337  "
      ]
     },
     "execution_count": 4,
     "metadata": {},
     "output_type": "execute_result"
    }
   ],
   "source": [
    "import pandas as pd\n",
    "df = pd.read_csv(\"08_Data.csv\")\n",
    "del df['Unnamed: 0']\n",
    "df = df.dropna()\n",
    "df.head()"
   ]
  },
  {
   "cell_type": "code",
   "execution_count": 5,
   "id": "c31db4a9-9561-412d-a0e0-371ca078869e",
   "metadata": {},
   "outputs": [
    {
     "name": "stdout",
     "output_type": "stream",
     "text": [
      "<class 'pandas.core.frame.DataFrame'>\n",
      "Index: 92847 entries, 2 to 93042\n",
      "Data columns (total 16 columns):\n",
      " #   Column              Non-Null Count  Dtype  \n",
      "---  ------              --------------  -----  \n",
      " 0   Code_Num            92847 non-null  object \n",
      " 1   Datetime            92847 non-null  object \n",
      " 2   Process_Type        92847 non-null  object \n",
      " 3   ST                  92847 non-null  float64\n",
      " 4   Tube Furnace CP     92847 non-null  float64\n",
      " 5   Tube Furnace1 OP    92847 non-null  float64\n",
      " 6   Tube Furnace1 Temp  92847 non-null  float64\n",
      " 7   Tube Furnace2 OP    92847 non-null  float64\n",
      " 8   Tube Furnace2 Temp  92847 non-null  float64\n",
      " 9   Tube Furnace3 OP    92847 non-null  float64\n",
      " 10  Tube Furnace3 Temp  92847 non-null  float64\n",
      " 11  Tube Furnace4 OP    92847 non-null  float64\n",
      " 12  Tube Furnace4 Temp  92847 non-null  float64\n",
      " 13  Z1-OP1              92847 non-null  float64\n",
      " 14  Z1-OP2              92847 non-null  float64\n",
      " 15  Z1-Temp             92847 non-null  float64\n",
      "dtypes: float64(13), object(3)\n",
      "memory usage: 12.0+ MB\n"
     ]
    }
   ],
   "source": [
    "df.info()"
   ]
  },
  {
   "cell_type": "code",
   "execution_count": 8,
   "id": "1a9a1742-244e-44e7-bf2a-59b1ffb7b568",
   "metadata": {},
   "outputs": [
    {
     "name": "stdout",
     "output_type": "stream",
     "text": [
      "<class 'pandas.core.frame.DataFrame'>\n",
      "Index: 92847 entries, 2 to 93042\n",
      "Data columns (total 13 columns):\n",
      " #   Column              Non-Null Count  Dtype  \n",
      "---  ------              --------------  -----  \n",
      " 0   ST                  92847 non-null  float64\n",
      " 1   Tube Furnace CP     92847 non-null  float64\n",
      " 2   Tube Furnace1 OP    92847 non-null  float64\n",
      " 3   Tube Furnace1 Temp  92847 non-null  float64\n",
      " 4   Tube Furnace2 OP    92847 non-null  float64\n",
      " 5   Tube Furnace2 Temp  92847 non-null  float64\n",
      " 6   Tube Furnace3 OP    92847 non-null  float64\n",
      " 7   Tube Furnace3 Temp  92847 non-null  float64\n",
      " 8   Tube Furnace4 OP    92847 non-null  float64\n",
      " 9   Tube Furnace4 Temp  92847 non-null  float64\n",
      " 10  Z1-OP1              92847 non-null  float64\n",
      " 11  Z1-OP2              92847 non-null  float64\n",
      " 12  Z1-Temp             92847 non-null  float64\n",
      "dtypes: float64(13)\n",
      "memory usage: 9.9 MB\n"
     ]
    }
   ],
   "source": [
    "# 1. Tube Furnace CP와 상관관계가 가장 높은 항목 5개\n",
    "df2 = df.select_dtypes(\"number\")       # 숫자타입의 데이터만\n",
    "df2.info()"
   ]
  },
  {
   "cell_type": "code",
   "execution_count": 11,
   "id": "afdf940e-6ac3-44c4-bed5-d23ec41c3675",
   "metadata": {},
   "outputs": [
    {
     "name": "stdout",
     "output_type": "stream",
     "text": [
      "ShapiroResult(statistic=0.9919430002985946, pvalue=6.02471638456974e-53)\n",
      "ShapiroResult(statistic=0.8279351822232911, pvalue=6.238117360027577e-126)\n",
      "ShapiroResult(statistic=0.8379390017251848, pvalue=3.375856440793524e-124)\n",
      "ShapiroResult(statistic=0.9660302816626498, pvalue=2.7391515538805105e-83)\n",
      "ShapiroResult(statistic=0.7957573455358531, pvalue=5.843029033678003e-131)\n",
      "ShapiroResult(statistic=0.9555939199731938, pvalue=1.0288044992152465e-89)\n",
      "ShapiroResult(statistic=0.9985487437265089, pvalue=5.850228179713368e-26)\n",
      "ShapiroResult(statistic=0.9556536257641134, pvalue=1.1097111593721895e-89)\n",
      "ShapiroResult(statistic=0.9666071778406905, pvalue=6.920306018754893e-83)\n",
      "ShapiroResult(statistic=0.9557398150385935, pvalue=1.2380480815967524e-89)\n",
      "ShapiroResult(statistic=0.9999705673953138, pvalue=0.6708496664714432)\n",
      "ShapiroResult(statistic=0.9999709053923321, pvalue=0.6824632442875107)\n",
      "ShapiroResult(statistic=0.9700945098859223, pvalue=2.559879352696689e-80)\n"
     ]
    }
   ],
   "source": [
    "# 정규성 확인 \n",
    "\n",
    "from scipy.stats import shapiro\n",
    "import warnings\n",
    "warnings.filterwarnings(\"ignore\")\n",
    "\n",
    "for i in df2:\n",
    "    A = df2[i]\n",
    "    print(shapiro(A))\n",
    "    \n",
    "# 대부분이 정규성을 따르지 않음 => 스피어만 상관계수로 확인"
   ]
  },
  {
   "cell_type": "code",
   "execution_count": 19,
   "id": "89d62d6e-1cfd-4ba3-b38b-46bd53a1563d",
   "metadata": {},
   "outputs": [
    {
     "data": {
      "text/plain": [
       "['Tube Furnace1 OP', 'Tube Furnace3 OP', 'Z1-Temp', 'Tube Furnace4 OP', 'ST']"
      ]
     },
     "execution_count": 19,
     "metadata": {},
     "output_type": "execute_result"
    }
   ],
   "source": [
    "cols = list(abs(df2.corr(method=\"spearman\")['Tube Furnace CP']).sort_values(ascending = False).iloc[1:6].index)\n",
    "cols"
   ]
  },
  {
   "cell_type": "code",
   "execution_count": 24,
   "id": "2061d83c-3979-4f0f-90b4-30f39d8f0a21",
   "metadata": {},
   "outputs": [
    {
     "name": "stdout",
     "output_type": "stream",
     "text": [
      "                            OLS Regression Results                            \n",
      "==============================================================================\n",
      "Dep. Variable:        Tube Furnace CP   R-squared:                       0.014\n",
      "Model:                            OLS   Adj. R-squared:                  0.014\n",
      "Method:                 Least Squares   F-statistic:                     273.1\n",
      "Date:                Wed, 09 Apr 2025   Prob (F-statistic):          5.48e-291\n",
      "Time:                        09:15:55   Log-Likelihood:             3.5426e+05\n",
      "No. Observations:               92847   AIC:                        -7.085e+05\n",
      "Df Residuals:                   92841   BIC:                        -7.085e+05\n",
      "Df Model:                           5                                         \n",
      "Covariance Type:            nonrobust                                         \n",
      "====================================================================================\n",
      "                       coef    std err          t      P>|t|      [0.025      0.975]\n",
      "------------------------------------------------------------------------------------\n",
      "const                0.5305      0.004    131.570      0.000       0.523       0.538\n",
      "Tube Furnace1 OP -1.587e-05   8.43e-07    -18.818      0.000   -1.75e-05   -1.42e-05\n",
      "Tube Furnace3 OP     0.0002   9.58e-06     23.968      0.000       0.000       0.000\n",
      "Z1-Temp             -0.0007   4.01e-05    -16.690      0.000      -0.001      -0.001\n",
      "Tube Furnace4 OP -8.974e-05   7.48e-06    -11.999      0.000      -0.000   -7.51e-05\n",
      "ST                  -0.0002   2.91e-05     -6.183      0.000      -0.000      -0.000\n",
      "==============================================================================\n",
      "Omnibus:                    43399.570   Durbin-Watson:                   0.597\n",
      "Prob(Omnibus):                  0.000   Jarque-Bera (JB):          1823426.834\n",
      "Skew:                          -1.553   Prob(JB):                         0.00\n",
      "Kurtosis:                      24.487   Cond. No.                     3.86e+04\n",
      "==============================================================================\n",
      "\n",
      "Notes:\n",
      "[1] Standard Errors assume that the covariance matrix of the errors is correctly specified.\n",
      "[2] The condition number is large, 3.86e+04. This might indicate that there are\n",
      "strong multicollinearity or other numerical problems.\n"
     ]
    }
   ],
   "source": [
    "from scipy.stats import stats\n",
    "import statsmodels.api as sm\n",
    "\n",
    "# 회귀선의 기울기가 유의미하고 특정한 경향성을 따르는지.\n",
    "# - 기울기가 유의미한 통계량을 보이지만, Tube Furnace CP 변동을 거의 설명하지못한다.\n",
    "\n",
    "# 각 독립 변수의 회귀 계수는 통계적으로 유의미하다.\n",
    "\n",
    "X = df[cols]\n",
    "Y = df['Tube Furnace CP']\n",
    "\n",
    "X = sm.add_constant(X)      # 상수항 추가\n",
    "\n",
    "model = sm.OLS(Y, X).fit()\n",
    "print(model.summary())\n",
    "\n",
    "\n",
    "# 3-1. F-statistic으로 보니 유의미하긴한데, R-squared값이 너무 낮음\n",
    "# = 기울기가 유의미한 통계량을 보이지만, Tube Furnace CP 변동을 거의 설명하지 못한다\n",
    "\n",
    "# 3-2. 각 독립 변수의 회귀 계수는 통계적으로 유의미하다"
   ]
  },
  {
   "cell_type": "code",
   "execution_count": 26,
   "id": "5a0c8259-72a5-47ec-914b-67ea5de9ec04",
   "metadata": {},
   "outputs": [
    {
     "data": {
      "image/png": "[encoded data removed]",
      "text/plain": [
       "<Figure size 640x480 with 1 Axes>"
      ]
     },
     "metadata": {},
     "output_type": "display_data"
    }
   ],
   "source": [
    "import matplotlib.pyplot as plt\n",
    "\n",
    "residuals = model.resid    # 잔차값으로 실행 가능\n",
    "\n",
    "plt.hist(residuals)\n",
    "plt.grid()\n",
    "plt.show()\n",
    "\n",
    "# 히스토그램 결과 - 정규분포처럼 생겼나?? 가운데에 너무 몰렸음 "
   ]
  },
  {
   "cell_type": "code",
   "execution_count": 29,
   "id": "5cb5ec2c-658c-48a9-842d-33ac22f5b0a6",
   "metadata": {},
   "outputs": [
    {
     "data": {
      "image/png": "[encoded data removed]",
      "text/plain": [
       "<Figure size 640x480 with 1 Axes>"
      ]
     },
     "metadata": {},
     "output_type": "display_data"
    }
   ],
   "source": [
    "sm.qqplot(residuals, line = '45', fit = True)\n",
    "plt.show()\n",
    "\n",
    "# Q-Q plot 결과 - 정규성을 별로 따르는 거 같지 않아보임"
   ]
  },
  {
   "cell_type": "code",
   "execution_count": 31,
   "id": "17fdd75a-567f-43e9-8262-aa7ca336a482",
   "metadata": {},
   "outputs": [
    {
     "data": {
      "text/plain": [
       "ShapiroResult(statistic=0.8417036864891464, pvalue=1.6040245716264592e-123)"
      ]
     },
     "execution_count": 31,
     "metadata": {},
     "output_type": "execute_result"
    }
   ],
   "source": [
    "shapiro(residuals)\n",
    "\n",
    "# 샤피로 결과 - 잔차는 정규성을 따르지 않는다"
   ]
  },
  {
   "cell_type": "code",
   "execution_count": 35,
   "id": "e2550d68-c3f9-48ea-92d2-0d3238550970",
   "metadata": {},
   "outputs": [
    {
     "data": {
      "text/plain": [
       "0    0.438375\n",
       "dtype: float64"
      ]
     },
     "execution_count": 35,
     "metadata": {},
     "output_type": "execute_result"
    }
   ],
   "source": [
    "# 5개의 설명변수 값이 50, 80, 100, 75, 200 일때 Tube Furnace CP 값 예측\n",
    "A = pd.DataFrame([{\"const\" : 1,\n",
    "                 cols[0] : 50,\n",
    "                 cols[1] : 80,\n",
    "                 cols[2] : 100,\n",
    "                 cols[3] : 75,\n",
    "                 cols[4] : 200}])\n",
    "\n",
    "model.predict(A)"
   ]
  },
  {
   "cell_type": "code",
   "execution_count": 37,
   "id": "ab810481-76a9-492e-be29-7344d8d5e000",
   "metadata": {},
   "outputs": [],
   "source": [
    "# Z1-OP1(공정건조온도 출력량)의 분포 이상치를 판별하고\n",
    "# Code_Num(공정배치그룹)과 이상치 분류를 만들어서 독립성 검정.\n",
    "\n",
    "mean = df['Z1-OP1'].mean()\n",
    "std = df['Z1-OP1'].std()"
   ]
  },
  {
   "cell_type": "code",
   "execution_count": 45,
   "id": "cd76eb93-b78e-4149-a7cb-7afb7c6b5f97",
   "metadata": {},
   "outputs": [
    {
     "data": {
      "text/plain": [
       "Chi2ContingencyResult(statistic=4.989089966683042, pvalue=0.41721311617336254, dof=5, expected_freq=array([[7.32284511e+03, 1.71548892e+01],\n",
       "       [1.30893362e+04, 3.06637802e+01],\n",
       "       [2.69109570e+04, 6.30430493e+01],\n",
       "       [3.16528483e+04, 7.41516581e+01],\n",
       "       [6.20147210e+03, 1.45279007e+01],\n",
       "       [7.45254128e+03, 1.74587224e+01]]))"
      ]
     },
     "execution_count": 45,
     "metadata": {},
     "output_type": "execute_result"
    }
   ],
   "source": [
    "from scipy import stats\n",
    "\n",
    "df[\"Label\"] = abs(df['Z1-OP1'] - mean) > 3 * std\n",
    "# False값이 정상, True값이 비정상\n",
    "\n",
    "A = pd.crosstab(df['Code_Num'], df['Label'])\n",
    "stats.chi2_contingency(A)\n",
    "\n",
    "# p > 0.05 => 차이없다"
   ]
  },
  {
   "cell_type": "code",
   "execution_count": null,
   "id": "4774a843-3a18-424a-996b-6008c18d9de0",
   "metadata": {},
   "outputs": [],
   "source": []
  },
  {
   "cell_type": "code",
   "execution_count": null,
   "id": "0717110a-a81c-41f8-8773-79bf96658786",
   "metadata": {},
   "outputs": [],
   "source": []
  }
 ],
 "metadata": {
  "kernelspec": {
   "display_name": "Python 3 (ipykernel)",
   "language": "python",
   "name": "python3"
  },
  "language_info": {
   "codemirror_mode": {
    "name": "ipython",
    "version": 3
   },
   "file_extension": ".py",
   "mimetype": "text/x-python",
   "name": "python",
   "nbconvert_exporter": "python",
   "pygments_lexer": "ipython3",
   "version": "3.12.7"
  }
 },
 "nbformat": 4,
 "nbformat_minor": 5
}
