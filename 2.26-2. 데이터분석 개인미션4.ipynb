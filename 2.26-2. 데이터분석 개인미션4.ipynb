{
 "cells": [
  {
   "cell_type": "markdown",
   "id": "3915af8b-7430-4f77-9ec9-645ad5eb6e3c",
   "metadata": {},
   "source": [
    "1.  **데이터 전처리**\n",
    "    - 3개 데이터 파일을 불러와 전처리하시오.\n",
    "    - 각 파일의 상단에 기재된 기간(월) 정보를 활용하여 **기간** 컬럼을 추가할 것.\n",
    "    - 컬럼명 **합계**는 앞에 공백이 포함되어 있으므로 **“ 합계”** 로 되어 있음을 확인하고 처리할 것."
   ]
  },
  {
   "cell_type": "code",
   "execution_count": 3,
   "id": "45d2aa69-4e5a-4d68-ab88-fc9ea95a6617",
   "metadata": {},
   "outputs": [],
   "source": [
    "import pandas as pd\n",
    "df1 = pd.read_excel(\"Data/07_ERP/기간별상품매출현황_202306.xlsx\")\n",
    "df2 = pd.read_excel(\"Data/07_ERP/기간별상품매출현황_202307.xlsx\")\n",
    "df3 = pd.read_excel(\"Data/07_ERP/기간별상품매출현황_202308.xlsx\")"
   ]
  },
  {
   "cell_type": "code",
   "execution_count": 4,
   "id": "385a2a0a-6850-4da7-8632-c5c0bf281225",
   "metadata": {},
   "outputs": [
    {
     "data": {
      "text/html": [
       "<div>\n",
       "<style scoped>\n",
       "    .dataframe tbody tr th:only-of-type {\n",
       "        vertical-align: middle;\n",
       "    }\n",
       "\n",
       "    .dataframe tbody tr th {\n",
       "        vertical-align: top;\n",
       "    }\n",
       "\n",
       "    .dataframe thead th {\n",
       "        text-align: right;\n",
       "    }\n",
       "</style>\n",
       "<table border=\"1\" class=\"dataframe\">\n",
       "  <thead>\n",
       "    <tr style=\"text-align: right;\">\n",
       "      <th></th>\n",
       "      <th>순번</th>\n",
       "      <th>상품코드</th>\n",
       "      <th>상품명</th>\n",
       "      <th>합계</th>\n",
       "      <th>지점</th>\n",
       "      <th>판매량</th>\n",
       "      <th>기간</th>\n",
       "    </tr>\n",
       "  </thead>\n",
       "  <tbody>\n",
       "    <tr>\n",
       "      <th>0</th>\n",
       "      <td>1.0</td>\n",
       "      <td>1.801828e+06</td>\n",
       "      <td>자연숨결 식약처 허가 초미세먼지 마스크 대형 60매(KF94)</td>\n",
       "      <td>65402</td>\n",
       "      <td>(1154)의정부점</td>\n",
       "      <td>174</td>\n",
       "      <td>6월</td>\n",
       "    </tr>\n",
       "    <tr>\n",
       "      <th>1</th>\n",
       "      <td>2.0</td>\n",
       "      <td>1.801859e+06</td>\n",
       "      <td>블루방역황사마스크 65매 KF94</td>\n",
       "      <td>1</td>\n",
       "      <td>(1154)의정부점</td>\n",
       "      <td>0</td>\n",
       "      <td>6월</td>\n",
       "    </tr>\n",
       "    <tr>\n",
       "      <th>2</th>\n",
       "      <td>3.0</td>\n",
       "      <td>4.078618e+07</td>\n",
       "      <td>클린위즈 매직클리너 얼룩제거 세트</td>\n",
       "      <td>2158</td>\n",
       "      <td>(1154)의정부점</td>\n",
       "      <td>4</td>\n",
       "      <td>6월</td>\n",
       "    </tr>\n",
       "    <tr>\n",
       "      <th>3</th>\n",
       "      <td>4.0</td>\n",
       "      <td>4.100136e+07</td>\n",
       "      <td>트루마리 순수휴지 30미터 90롤</td>\n",
       "      <td>3649</td>\n",
       "      <td>(1154)의정부점</td>\n",
       "      <td>14</td>\n",
       "      <td>6월</td>\n",
       "    </tr>\n",
       "    <tr>\n",
       "      <th>4</th>\n",
       "      <td>5.0</td>\n",
       "      <td>8.800532e+07</td>\n",
       "      <td>자연숨결 식약처 허가 초미세먼지 마스크 대형30매 + 중형 30매(KF94)</td>\n",
       "      <td>1</td>\n",
       "      <td>(1154)의정부점</td>\n",
       "      <td>0</td>\n",
       "      <td>6월</td>\n",
       "    </tr>\n",
       "    <tr>\n",
       "      <th>...</th>\n",
       "      <td>...</td>\n",
       "      <td>...</td>\n",
       "      <td>...</td>\n",
       "      <td>...</td>\n",
       "      <td>...</td>\n",
       "      <td>...</td>\n",
       "      <td>...</td>\n",
       "    </tr>\n",
       "    <tr>\n",
       "      <th>73825</th>\n",
       "      <td>111.0</td>\n",
       "      <td>8.801858e+12</td>\n",
       "      <td>[닥터오렌지팡팡클리너]1+1+1세트(66종)</td>\n",
       "      <td>179</td>\n",
       "      <td>(L46)용호점</td>\n",
       "      <td>0</td>\n",
       "      <td>6월</td>\n",
       "    </tr>\n",
       "    <tr>\n",
       "      <th>73826</th>\n",
       "      <td>112.0</td>\n",
       "      <td>8.801858e+12</td>\n",
       "      <td>[숨]100%천연펄프화장지_90롤</td>\n",
       "      <td>212</td>\n",
       "      <td>(L46)용호점</td>\n",
       "      <td>0</td>\n",
       "      <td>6월</td>\n",
       "    </tr>\n",
       "    <tr>\n",
       "      <th>73827</th>\n",
       "      <td>113.0</td>\n",
       "      <td>8.801858e+12</td>\n",
       "      <td>[숨]100%천연펄프화장지_30롤</td>\n",
       "      <td>6564</td>\n",
       "      <td>(L46)용호점</td>\n",
       "      <td>0</td>\n",
       "      <td>6월</td>\n",
       "    </tr>\n",
       "    <tr>\n",
       "      <th>73828</th>\n",
       "      <td>114.0</td>\n",
       "      <td>8.801858e+12</td>\n",
       "      <td>[한예지]25m_90롤세트</td>\n",
       "      <td>125144</td>\n",
       "      <td>(L46)용호점</td>\n",
       "      <td>122</td>\n",
       "      <td>6월</td>\n",
       "    </tr>\n",
       "    <tr>\n",
       "      <th>73829</th>\n",
       "      <td>115.0</td>\n",
       "      <td>8.801858e+12</td>\n",
       "      <td>[닥터홀스]변기크리너풀세트</td>\n",
       "      <td>22796</td>\n",
       "      <td>(L46)용호점</td>\n",
       "      <td>24</td>\n",
       "      <td>6월</td>\n",
       "    </tr>\n",
       "  </tbody>\n",
       "</table>\n",
       "<p>73830 rows × 7 columns</p>\n",
       "</div>"
      ],
      "text/plain": [
       "          순번          상품코드                                         상품명  \\\n",
       "0        1.0  1.801828e+06          자연숨결 식약처 허가 초미세먼지 마스크 대형 60매(KF94)   \n",
       "1        2.0  1.801859e+06                          블루방역황사마스크 65매 KF94   \n",
       "2        3.0  4.078618e+07                          클린위즈 매직클리너 얼룩제거 세트   \n",
       "3        4.0  4.100136e+07                          트루마리 순수휴지 30미터 90롤   \n",
       "4        5.0  8.800532e+07  자연숨결 식약처 허가 초미세먼지 마스크 대형30매 + 중형 30매(KF94)   \n",
       "...      ...           ...                                         ...   \n",
       "73825  111.0  8.801858e+12                    [닥터오렌지팡팡클리너]1+1+1세트(66종)   \n",
       "73826  112.0  8.801858e+12                          [숨]100%천연펄프화장지_90롤   \n",
       "73827  113.0  8.801858e+12                          [숨]100%천연펄프화장지_30롤   \n",
       "73828  114.0  8.801858e+12                              [한예지]25m_90롤세트   \n",
       "73829  115.0  8.801858e+12                              [닥터홀스]변기크리너풀세트   \n",
       "\n",
       "           합계          지점  판매량  기간  \n",
       "0       65402  (1154)의정부점  174  6월  \n",
       "1           1  (1154)의정부점    0  6월  \n",
       "2        2158  (1154)의정부점    4  6월  \n",
       "3        3649  (1154)의정부점   14  6월  \n",
       "4           1  (1154)의정부점    0  6월  \n",
       "...       ...         ...  ...  ..  \n",
       "73825     179    (L46)용호점    0  6월  \n",
       "73826     212    (L46)용호점    0  6월  \n",
       "73827    6564    (L46)용호점    0  6월  \n",
       "73828  125144    (L46)용호점  122  6월  \n",
       "73829   22796    (L46)용호점   24  6월  \n",
       "\n",
       "[73830 rows x 7 columns]"
      ]
     },
     "execution_count": 4,
     "metadata": {},
     "output_type": "execute_result"
    }
   ],
   "source": [
    "df1 = pd.read_excel(\"Data/07_ERP/기간별상품매출현황_202306.xlsx\", header = 2)\n",
    "df1 = df1.iloc[2:].reset_index()\n",
    "del df1[\"index\"]\n",
    "df1 = pd.melt(df1, id_vars = [\"순번\", \"상품코드\", \"상품명\", \" 합계\"], var_name = \"지점\", value_name = \"판매량\")\n",
    "df1[\"기간\"] = \"6월\"\n",
    "df1"
   ]
  },
  {
   "cell_type": "code",
   "execution_count": 5,
   "id": "81518d47-16d4-4f3f-89c3-488e72e05da8",
   "metadata": {},
   "outputs": [
    {
     "data": {
      "text/html": [
       "<div>\n",
       "<style scoped>\n",
       "    .dataframe tbody tr th:only-of-type {\n",
       "        vertical-align: middle;\n",
       "    }\n",
       "\n",
       "    .dataframe tbody tr th {\n",
       "        vertical-align: top;\n",
       "    }\n",
       "\n",
       "    .dataframe thead th {\n",
       "        text-align: right;\n",
       "    }\n",
       "</style>\n",
       "<table border=\"1\" class=\"dataframe\">\n",
       "  <thead>\n",
       "    <tr style=\"text-align: right;\">\n",
       "      <th></th>\n",
       "      <th>순번</th>\n",
       "      <th>상품코드</th>\n",
       "      <th>상품명</th>\n",
       "      <th>합계</th>\n",
       "      <th>지점</th>\n",
       "      <th>판매량</th>\n",
       "      <th>기간</th>\n",
       "    </tr>\n",
       "  </thead>\n",
       "  <tbody>\n",
       "    <tr>\n",
       "      <th>0</th>\n",
       "      <td>1.0</td>\n",
       "      <td>1.801828e+06</td>\n",
       "      <td>자연숨결 식약처 허가 초미세먼지 마스크 대형 60매(KF94)</td>\n",
       "      <td>111624</td>\n",
       "      <td>(1154)의정부점</td>\n",
       "      <td>440</td>\n",
       "      <td>7월</td>\n",
       "    </tr>\n",
       "    <tr>\n",
       "      <th>1</th>\n",
       "      <td>2.0</td>\n",
       "      <td>4.078618e+07</td>\n",
       "      <td>블루방역황사마스크 65매 KF94</td>\n",
       "      <td>11460</td>\n",
       "      <td>(1154)의정부점</td>\n",
       "      <td>34</td>\n",
       "      <td>7월</td>\n",
       "    </tr>\n",
       "    <tr>\n",
       "      <th>2</th>\n",
       "      <td>3.0</td>\n",
       "      <td>4.100136e+07</td>\n",
       "      <td>클린위즈 매직클리너 얼룩제거 세트</td>\n",
       "      <td>5709</td>\n",
       "      <td>(1154)의정부점</td>\n",
       "      <td>25</td>\n",
       "      <td>7월</td>\n",
       "    </tr>\n",
       "    <tr>\n",
       "      <th>3</th>\n",
       "      <td>4.0</td>\n",
       "      <td>8.800532e+07</td>\n",
       "      <td>트루마리 순수휴지 30미터 90롤</td>\n",
       "      <td>1</td>\n",
       "      <td>(1154)의정부점</td>\n",
       "      <td>0</td>\n",
       "      <td>7월</td>\n",
       "    </tr>\n",
       "    <tr>\n",
       "      <th>4</th>\n",
       "      <td>5.0</td>\n",
       "      <td>1.820000e+10</td>\n",
       "      <td>자연숨결 식약처 허가 초미세먼지 마스크 대형30매 + 중형 30매(KF94)</td>\n",
       "      <td>21489</td>\n",
       "      <td>(1154)의정부점</td>\n",
       "      <td>173</td>\n",
       "      <td>7월</td>\n",
       "    </tr>\n",
       "    <tr>\n",
       "      <th>...</th>\n",
       "      <td>...</td>\n",
       "      <td>...</td>\n",
       "      <td>...</td>\n",
       "      <td>...</td>\n",
       "      <td>...</td>\n",
       "      <td>...</td>\n",
       "      <td>...</td>\n",
       "    </tr>\n",
       "    <tr>\n",
       "      <th>78403</th>\n",
       "      <td>117.0</td>\n",
       "      <td>8.801858e+12</td>\n",
       "      <td>[닥터오렌지팡팡클리너]1세트</td>\n",
       "      <td>819</td>\n",
       "      <td>(L46)용호점</td>\n",
       "      <td>0</td>\n",
       "      <td>7월</td>\n",
       "    </tr>\n",
       "    <tr>\n",
       "      <th>78404</th>\n",
       "      <td>118.0</td>\n",
       "      <td>8.801858e+12</td>\n",
       "      <td>[화이트]변기크리너1세트</td>\n",
       "      <td>1209</td>\n",
       "      <td>(L46)용호점</td>\n",
       "      <td>0</td>\n",
       "      <td>7월</td>\n",
       "    </tr>\n",
       "    <tr>\n",
       "      <th>78405</th>\n",
       "      <td>119.0</td>\n",
       "      <td>8.801858e+12</td>\n",
       "      <td>[화이트]변기크리너풀세트</td>\n",
       "      <td>7982</td>\n",
       "      <td>(L46)용호점</td>\n",
       "      <td>0</td>\n",
       "      <td>7월</td>\n",
       "    </tr>\n",
       "    <tr>\n",
       "      <th>78406</th>\n",
       "      <td>120.0</td>\n",
       "      <td>8.801858e+12</td>\n",
       "      <td>[네이처브릴랑]세탁세제풀세트</td>\n",
       "      <td>137349</td>\n",
       "      <td>(L46)용호점</td>\n",
       "      <td>106</td>\n",
       "      <td>7월</td>\n",
       "    </tr>\n",
       "    <tr>\n",
       "      <th>78407</th>\n",
       "      <td>121.0</td>\n",
       "      <td>8.801858e+12</td>\n",
       "      <td>[네이처브릴랑]세탁세제1통</td>\n",
       "      <td>25326</td>\n",
       "      <td>(L46)용호점</td>\n",
       "      <td>19</td>\n",
       "      <td>7월</td>\n",
       "    </tr>\n",
       "  </tbody>\n",
       "</table>\n",
       "<p>78408 rows × 7 columns</p>\n",
       "</div>"
      ],
      "text/plain": [
       "          순번          상품코드                                         상품명  \\\n",
       "0        1.0  1.801828e+06          자연숨결 식약처 허가 초미세먼지 마스크 대형 60매(KF94)   \n",
       "1        2.0  4.078618e+07                          블루방역황사마스크 65매 KF94   \n",
       "2        3.0  4.100136e+07                          클린위즈 매직클리너 얼룩제거 세트   \n",
       "3        4.0  8.800532e+07                          트루마리 순수휴지 30미터 90롤   \n",
       "4        5.0  1.820000e+10  자연숨결 식약처 허가 초미세먼지 마스크 대형30매 + 중형 30매(KF94)   \n",
       "...      ...           ...                                         ...   \n",
       "78403  117.0  8.801858e+12                             [닥터오렌지팡팡클리너]1세트   \n",
       "78404  118.0  8.801858e+12                               [화이트]변기크리너1세트   \n",
       "78405  119.0  8.801858e+12                               [화이트]변기크리너풀세트   \n",
       "78406  120.0  8.801858e+12                             [네이처브릴랑]세탁세제풀세트   \n",
       "78407  121.0  8.801858e+12                              [네이처브릴랑]세탁세제1통   \n",
       "\n",
       "           합계          지점  판매량  기간  \n",
       "0      111624  (1154)의정부점  440  7월  \n",
       "1       11460  (1154)의정부점   34  7월  \n",
       "2        5709  (1154)의정부점   25  7월  \n",
       "3           1  (1154)의정부점    0  7월  \n",
       "4       21489  (1154)의정부점  173  7월  \n",
       "...       ...         ...  ...  ..  \n",
       "78403     819    (L46)용호점    0  7월  \n",
       "78404    1209    (L46)용호점    0  7월  \n",
       "78405    7982    (L46)용호점    0  7월  \n",
       "78406  137349    (L46)용호점  106  7월  \n",
       "78407   25326    (L46)용호점   19  7월  \n",
       "\n",
       "[78408 rows x 7 columns]"
      ]
     },
     "execution_count": 5,
     "metadata": {},
     "output_type": "execute_result"
    }
   ],
   "source": [
    "df2 = pd.read_excel(\"Data/07_ERP/기간별상품매출현황_202307.xlsx\", header = 2)\n",
    "df2 = df2.iloc[2:].reset_index()\n",
    "del df2[\"index\"]\n",
    "df2 = pd.melt(df2, id_vars = [\"순번\", \"상품코드\", \"상품명\", \" 합계\"], var_name = \"지점\", value_name = \"판매량\")\n",
    "df2[\"기간\"] = \"7월\"\n",
    "df2"
   ]
  },
  {
   "cell_type": "code",
   "execution_count": 6,
   "id": "9a2f887b-4df0-413a-81fe-1b59671cc1f4",
   "metadata": {},
   "outputs": [
    {
     "data": {
      "text/html": [
       "<div>\n",
       "<style scoped>\n",
       "    .dataframe tbody tr th:only-of-type {\n",
       "        vertical-align: middle;\n",
       "    }\n",
       "\n",
       "    .dataframe tbody tr th {\n",
       "        vertical-align: top;\n",
       "    }\n",
       "\n",
       "    .dataframe thead th {\n",
       "        text-align: right;\n",
       "    }\n",
       "</style>\n",
       "<table border=\"1\" class=\"dataframe\">\n",
       "  <thead>\n",
       "    <tr style=\"text-align: right;\">\n",
       "      <th></th>\n",
       "      <th>순번</th>\n",
       "      <th>상품코드</th>\n",
       "      <th>상품명</th>\n",
       "      <th>합계</th>\n",
       "      <th>지점</th>\n",
       "      <th>판매량</th>\n",
       "      <th>기간</th>\n",
       "    </tr>\n",
       "  </thead>\n",
       "  <tbody>\n",
       "    <tr>\n",
       "      <th>0</th>\n",
       "      <td>1.0</td>\n",
       "      <td>1.801828e+06</td>\n",
       "      <td>자연숨결 식약처 허가 초미세먼지 마스크 대형 60매(KF94)</td>\n",
       "      <td>90488</td>\n",
       "      <td>(1154)의정부점</td>\n",
       "      <td>420</td>\n",
       "      <td>8월</td>\n",
       "    </tr>\n",
       "    <tr>\n",
       "      <th>1</th>\n",
       "      <td>2.0</td>\n",
       "      <td>4.078618e+07</td>\n",
       "      <td>블루방역황사마스크 65매 KF94</td>\n",
       "      <td>4122</td>\n",
       "      <td>(1154)의정부점</td>\n",
       "      <td>17</td>\n",
       "      <td>8월</td>\n",
       "    </tr>\n",
       "    <tr>\n",
       "      <th>2</th>\n",
       "      <td>3.0</td>\n",
       "      <td>4.100136e+07</td>\n",
       "      <td>클린위즈 매직클리너 얼룩제거 세트</td>\n",
       "      <td>8718</td>\n",
       "      <td>(1154)의정부점</td>\n",
       "      <td>43</td>\n",
       "      <td>8월</td>\n",
       "    </tr>\n",
       "    <tr>\n",
       "      <th>3</th>\n",
       "      <td>4.0</td>\n",
       "      <td>8.800532e+07</td>\n",
       "      <td>트루마리 순수휴지 30미터 90롤</td>\n",
       "      <td>24</td>\n",
       "      <td>(1154)의정부점</td>\n",
       "      <td>0</td>\n",
       "      <td>8월</td>\n",
       "    </tr>\n",
       "    <tr>\n",
       "      <th>4</th>\n",
       "      <td>5.0</td>\n",
       "      <td>1.820000e+10</td>\n",
       "      <td>자연숨결 식약처 허가 초미세먼지 마스크 대형30매 + 중형 30매(KF94)</td>\n",
       "      <td>17383</td>\n",
       "      <td>(1154)의정부점</td>\n",
       "      <td>97</td>\n",
       "      <td>8월</td>\n",
       "    </tr>\n",
       "    <tr>\n",
       "      <th>...</th>\n",
       "      <td>...</td>\n",
       "      <td>...</td>\n",
       "      <td>...</td>\n",
       "      <td>...</td>\n",
       "      <td>...</td>\n",
       "      <td>...</td>\n",
       "      <td>...</td>\n",
       "    </tr>\n",
       "    <tr>\n",
       "      <th>84755</th>\n",
       "      <td>126.0</td>\n",
       "      <td>8.801858e+12</td>\n",
       "      <td>[쨍하고해뜰집]제습제풀세트(다용도제습제30통+지시겔1봉)</td>\n",
       "      <td>653</td>\n",
       "      <td>(L46)용호점</td>\n",
       "      <td>0</td>\n",
       "      <td>8월</td>\n",
       "    </tr>\n",
       "    <tr>\n",
       "      <th>84756</th>\n",
       "      <td>127.0</td>\n",
       "      <td>8.801858e+12</td>\n",
       "      <td>[리얼뽀송이]제습제세트</td>\n",
       "      <td>3233</td>\n",
       "      <td>(L46)용호점</td>\n",
       "      <td>0</td>\n",
       "      <td>8월</td>\n",
       "    </tr>\n",
       "    <tr>\n",
       "      <th>84757</th>\n",
       "      <td>128.0</td>\n",
       "      <td>8.801858e+12</td>\n",
       "      <td>[미라클워터]다목적세정제17종괴물용량풀세트</td>\n",
       "      <td>8433</td>\n",
       "      <td>(L46)용호점</td>\n",
       "      <td>0</td>\n",
       "      <td>8월</td>\n",
       "    </tr>\n",
       "    <tr>\n",
       "      <th>84758</th>\n",
       "      <td>129.0</td>\n",
       "      <td>8.801858e+12</td>\n",
       "      <td>[쨍하고해뜰집]지시겔1봉(20개)</td>\n",
       "      <td>135839</td>\n",
       "      <td>(L46)용호점</td>\n",
       "      <td>145</td>\n",
       "      <td>8월</td>\n",
       "    </tr>\n",
       "    <tr>\n",
       "      <th>84759</th>\n",
       "      <td>130.0</td>\n",
       "      <td>8.801858e+12</td>\n",
       "      <td>[리얼뽀송이]제습제1팩(단품)</td>\n",
       "      <td>28631</td>\n",
       "      <td>(L46)용호점</td>\n",
       "      <td>29</td>\n",
       "      <td>8월</td>\n",
       "    </tr>\n",
       "  </tbody>\n",
       "</table>\n",
       "<p>84760 rows × 7 columns</p>\n",
       "</div>"
      ],
      "text/plain": [
       "          순번          상품코드                                         상품명  \\\n",
       "0        1.0  1.801828e+06          자연숨결 식약처 허가 초미세먼지 마스크 대형 60매(KF94)   \n",
       "1        2.0  4.078618e+07                          블루방역황사마스크 65매 KF94   \n",
       "2        3.0  4.100136e+07                          클린위즈 매직클리너 얼룩제거 세트   \n",
       "3        4.0  8.800532e+07                          트루마리 순수휴지 30미터 90롤   \n",
       "4        5.0  1.820000e+10  자연숨결 식약처 허가 초미세먼지 마스크 대형30매 + 중형 30매(KF94)   \n",
       "...      ...           ...                                         ...   \n",
       "84755  126.0  8.801858e+12             [쨍하고해뜰집]제습제풀세트(다용도제습제30통+지시겔1봉)   \n",
       "84756  127.0  8.801858e+12                                [리얼뽀송이]제습제세트   \n",
       "84757  128.0  8.801858e+12                     [미라클워터]다목적세정제17종괴물용량풀세트   \n",
       "84758  129.0  8.801858e+12                          [쨍하고해뜰집]지시겔1봉(20개)   \n",
       "84759  130.0  8.801858e+12                            [리얼뽀송이]제습제1팩(단품)   \n",
       "\n",
       "           합계          지점  판매량  기간  \n",
       "0       90488  (1154)의정부점  420  8월  \n",
       "1        4122  (1154)의정부점   17  8월  \n",
       "2        8718  (1154)의정부점   43  8월  \n",
       "3          24  (1154)의정부점    0  8월  \n",
       "4       17383  (1154)의정부점   97  8월  \n",
       "...       ...         ...  ...  ..  \n",
       "84755     653    (L46)용호점    0  8월  \n",
       "84756    3233    (L46)용호점    0  8월  \n",
       "84757    8433    (L46)용호점    0  8월  \n",
       "84758  135839    (L46)용호점  145  8월  \n",
       "84759   28631    (L46)용호점   29  8월  \n",
       "\n",
       "[84760 rows x 7 columns]"
      ]
     },
     "execution_count": 6,
     "metadata": {},
     "output_type": "execute_result"
    }
   ],
   "source": [
    "df3 = pd.read_excel(\"Data/07_ERP/기간별상품매출현황_202308.xlsx\", header = 2)\n",
    "df3 = df3.iloc[2:].reset_index()\n",
    "del df3[\"index\"]\n",
    "df3 = pd.melt(df3, id_vars = [\"순번\", \"상품코드\", \"상품명\", \" 합계\"], var_name = \"지점\", value_name = \"판매량\")\n",
    "df3[\"기간\"] = \"8월\"\n",
    "df3"
   ]
  },
  {
   "cell_type": "code",
   "execution_count": 7,
   "id": "2f88cbe2-2bed-497d-94be-a5a4c19de959",
   "metadata": {},
   "outputs": [
    {
     "data": {
      "text/html": [
       "<div>\n",
       "<style scoped>\n",
       "    .dataframe tbody tr th:only-of-type {\n",
       "        vertical-align: middle;\n",
       "    }\n",
       "\n",
       "    .dataframe tbody tr th {\n",
       "        vertical-align: top;\n",
       "    }\n",
       "\n",
       "    .dataframe thead th {\n",
       "        text-align: right;\n",
       "    }\n",
       "</style>\n",
       "<table border=\"1\" class=\"dataframe\">\n",
       "  <thead>\n",
       "    <tr style=\"text-align: right;\">\n",
       "      <th></th>\n",
       "      <th>순번</th>\n",
       "      <th>상품코드</th>\n",
       "      <th>상품명</th>\n",
       "      <th>합계</th>\n",
       "      <th>지점</th>\n",
       "      <th>판매량</th>\n",
       "      <th>기간</th>\n",
       "    </tr>\n",
       "  </thead>\n",
       "  <tbody>\n",
       "    <tr>\n",
       "      <th>0</th>\n",
       "      <td>1.0</td>\n",
       "      <td>1.801828e+06</td>\n",
       "      <td>자연숨결 식약처 허가 초미세먼지 마스크 대형 60매(KF94)</td>\n",
       "      <td>65402</td>\n",
       "      <td>(1154)의정부점</td>\n",
       "      <td>174</td>\n",
       "      <td>6월</td>\n",
       "    </tr>\n",
       "    <tr>\n",
       "      <th>1</th>\n",
       "      <td>2.0</td>\n",
       "      <td>1.801859e+06</td>\n",
       "      <td>블루방역황사마스크 65매 KF94</td>\n",
       "      <td>1</td>\n",
       "      <td>(1154)의정부점</td>\n",
       "      <td>0</td>\n",
       "      <td>6월</td>\n",
       "    </tr>\n",
       "    <tr>\n",
       "      <th>2</th>\n",
       "      <td>3.0</td>\n",
       "      <td>4.078618e+07</td>\n",
       "      <td>클린위즈 매직클리너 얼룩제거 세트</td>\n",
       "      <td>2158</td>\n",
       "      <td>(1154)의정부점</td>\n",
       "      <td>4</td>\n",
       "      <td>6월</td>\n",
       "    </tr>\n",
       "    <tr>\n",
       "      <th>3</th>\n",
       "      <td>4.0</td>\n",
       "      <td>4.100136e+07</td>\n",
       "      <td>트루마리 순수휴지 30미터 90롤</td>\n",
       "      <td>3649</td>\n",
       "      <td>(1154)의정부점</td>\n",
       "      <td>14</td>\n",
       "      <td>6월</td>\n",
       "    </tr>\n",
       "    <tr>\n",
       "      <th>4</th>\n",
       "      <td>5.0</td>\n",
       "      <td>8.800532e+07</td>\n",
       "      <td>자연숨결 식약처 허가 초미세먼지 마스크 대형30매 + 중형 30매(KF94)</td>\n",
       "      <td>1</td>\n",
       "      <td>(1154)의정부점</td>\n",
       "      <td>0</td>\n",
       "      <td>6월</td>\n",
       "    </tr>\n",
       "    <tr>\n",
       "      <th>...</th>\n",
       "      <td>...</td>\n",
       "      <td>...</td>\n",
       "      <td>...</td>\n",
       "      <td>...</td>\n",
       "      <td>...</td>\n",
       "      <td>...</td>\n",
       "      <td>...</td>\n",
       "    </tr>\n",
       "    <tr>\n",
       "      <th>236993</th>\n",
       "      <td>126.0</td>\n",
       "      <td>8.801858e+12</td>\n",
       "      <td>[쨍하고해뜰집]제습제풀세트(다용도제습제30통+지시겔1봉)</td>\n",
       "      <td>653</td>\n",
       "      <td>(L46)용호점</td>\n",
       "      <td>0</td>\n",
       "      <td>8월</td>\n",
       "    </tr>\n",
       "    <tr>\n",
       "      <th>236994</th>\n",
       "      <td>127.0</td>\n",
       "      <td>8.801858e+12</td>\n",
       "      <td>[리얼뽀송이]제습제세트</td>\n",
       "      <td>3233</td>\n",
       "      <td>(L46)용호점</td>\n",
       "      <td>0</td>\n",
       "      <td>8월</td>\n",
       "    </tr>\n",
       "    <tr>\n",
       "      <th>236995</th>\n",
       "      <td>128.0</td>\n",
       "      <td>8.801858e+12</td>\n",
       "      <td>[미라클워터]다목적세정제17종괴물용량풀세트</td>\n",
       "      <td>8433</td>\n",
       "      <td>(L46)용호점</td>\n",
       "      <td>0</td>\n",
       "      <td>8월</td>\n",
       "    </tr>\n",
       "    <tr>\n",
       "      <th>236996</th>\n",
       "      <td>129.0</td>\n",
       "      <td>8.801858e+12</td>\n",
       "      <td>[쨍하고해뜰집]지시겔1봉(20개)</td>\n",
       "      <td>135839</td>\n",
       "      <td>(L46)용호점</td>\n",
       "      <td>145</td>\n",
       "      <td>8월</td>\n",
       "    </tr>\n",
       "    <tr>\n",
       "      <th>236997</th>\n",
       "      <td>130.0</td>\n",
       "      <td>8.801858e+12</td>\n",
       "      <td>[리얼뽀송이]제습제1팩(단품)</td>\n",
       "      <td>28631</td>\n",
       "      <td>(L46)용호점</td>\n",
       "      <td>29</td>\n",
       "      <td>8월</td>\n",
       "    </tr>\n",
       "  </tbody>\n",
       "</table>\n",
       "<p>236998 rows × 7 columns</p>\n",
       "</div>"
      ],
      "text/plain": [
       "           순번          상품코드                                         상품명  \\\n",
       "0         1.0  1.801828e+06          자연숨결 식약처 허가 초미세먼지 마스크 대형 60매(KF94)   \n",
       "1         2.0  1.801859e+06                          블루방역황사마스크 65매 KF94   \n",
       "2         3.0  4.078618e+07                          클린위즈 매직클리너 얼룩제거 세트   \n",
       "3         4.0  4.100136e+07                          트루마리 순수휴지 30미터 90롤   \n",
       "4         5.0  8.800532e+07  자연숨결 식약처 허가 초미세먼지 마스크 대형30매 + 중형 30매(KF94)   \n",
       "...       ...           ...                                         ...   \n",
       "236993  126.0  8.801858e+12             [쨍하고해뜰집]제습제풀세트(다용도제습제30통+지시겔1봉)   \n",
       "236994  127.0  8.801858e+12                                [리얼뽀송이]제습제세트   \n",
       "236995  128.0  8.801858e+12                     [미라클워터]다목적세정제17종괴물용량풀세트   \n",
       "236996  129.0  8.801858e+12                          [쨍하고해뜰집]지시겔1봉(20개)   \n",
       "236997  130.0  8.801858e+12                            [리얼뽀송이]제습제1팩(단품)   \n",
       "\n",
       "            합계          지점  판매량  기간  \n",
       "0        65402  (1154)의정부점  174  6월  \n",
       "1            1  (1154)의정부점    0  6월  \n",
       "2         2158  (1154)의정부점    4  6월  \n",
       "3         3649  (1154)의정부점   14  6월  \n",
       "4            1  (1154)의정부점    0  6월  \n",
       "...        ...         ...  ...  ..  \n",
       "236993     653    (L46)용호점    0  8월  \n",
       "236994    3233    (L46)용호점    0  8월  \n",
       "236995    8433    (L46)용호점    0  8월  \n",
       "236996  135839    (L46)용호점  145  8월  \n",
       "236997   28631    (L46)용호점   29  8월  \n",
       "\n",
       "[236998 rows x 7 columns]"
      ]
     },
     "execution_count": 7,
     "metadata": {},
     "output_type": "execute_result"
    }
   ],
   "source": [
    "df = pd.concat([df1, df2, df3], ignore_index = True)\n",
    "df"
   ]
  },
  {
   "cell_type": "markdown",
   "id": "5ac5217c-504c-4111-8d10-3cc7479e44d0",
   "metadata": {},
   "source": [
    "2. **상위 2개 지점 선정**\n",
    "    \n",
    "    각 지점별 **판매량**의 합계를 계산하여, 그 중 합계가 가장 높은 상위 2개 지점을 확인하시오."
   ]
  },
  {
   "cell_type": "code",
   "execution_count": 8,
   "id": "6a849989-d6dc-479c-a09a-b7e3f09762a1",
   "metadata": {},
   "outputs": [
    {
     "data": {
      "text/plain": [
       "지점\n",
       "(610)부천점    67612\n",
       "(600)안양점    62987\n",
       "Name: 판매량, dtype: object"
      ]
     },
     "execution_count": 8,
     "metadata": {},
     "output_type": "execute_result"
    }
   ],
   "source": [
    "df.groupby(\"지점\")[\"판매량\"].sum().sort_values(ascending = False).head(2)"
   ]
  },
  {
   "cell_type": "markdown",
   "id": "220edc7f-703f-4be5-9687-70d48752914c",
   "metadata": {},
   "source": [
    "3. **히스토그램 시각화**\n",
    "    \n",
    "    2번에서 확인한 상위 2개 지점의 **판매량** 데이터를 히스토그램으로 시각화하시오."
   ]
  },
  {
   "cell_type": "code",
   "execution_count": 9,
   "id": "b2a6c103-5594-453a-9ff6-8dbad48fac13",
   "metadata": {},
   "outputs": [
    {
     "data": {
      "image/png": "[encoded data removed]",
      "text/plain": [
       "<Figure size 640x480 with 1 Axes>"
      ]
     },
     "metadata": {},
     "output_type": "display_data"
    }
   ],
   "source": [
    "import seaborn as sns \n",
    "import matplotlib.pyplot as plt\n",
    "import koreanize_matplotlib\n",
    "\n",
    "sns.histplot(df[df[\"지점\"] == \"(610)부천점\"][\"판매량\"], label=\"부천점\", color=\"red\", bins=10)\n",
    "sns.histplot(df[df[\"지점\"] == \"(600)안양점\"][\"판매량\"], label=\"안양점\", color=\"blue\", bins=10)\n",
    "plt.show()"
   ]
  },
  {
   "cell_type": "markdown",
   "id": "2d655506-1749-4cf1-9781-441cc152ed1e",
   "metadata": {},
   "source": [
    "4. **기간별 최고 판매 지점 및 저장 함수 생성**\n",
    "    - 각 기간(월)별로 **판매량** 합이 가장 높은 지점을 확인하시오.\n",
    "    - 특정 기간(월)을 입력하면, 해당 월의 각 지점별 **판매량** 합계를 **result_{월}.xlsx** 파일로 저장하는 함수를 작성하시오."
   ]
  },
  {
   "cell_type": "code",
   "execution_count": 10,
   "id": "35acb996-1e9a-469b-8716-ea8a1c0ae5e0",
   "metadata": {},
   "outputs": [
    {
     "name": "stdout",
     "output_type": "stream",
     "text": [
      "6월 :  지점\n",
      "(610)부천점    20594\n",
      "Name: 판매량, dtype: object\n",
      "7월 :  지점\n",
      "(610)부천점    22347\n",
      "Name: 판매량, dtype: object\n",
      "8월 :  지점\n",
      "(740)속초점    26197\n",
      "Name: 판매량, dtype: object\n"
     ]
    }
   ],
   "source": [
    "print(\"6월 : \", df[df[\"기간\"] == \"6월\"].groupby(\"지점\")[\"판매량\"].sum().sort_values(ascending = False).head(1))\n",
    "print(\"7월 : \", df[df[\"기간\"] == \"7월\"].groupby(\"지점\")[\"판매량\"].sum().sort_values(ascending = False).head(1))\n",
    "print(\"8월 : \", df[df[\"기간\"] == \"8월\"].groupby(\"지점\")[\"판매량\"].sum().sort_values(ascending = False).head(1))"
   ]
  },
  {
   "cell_type": "code",
   "execution_count": 11,
   "id": "906f5a00-7a57-4e57-9718-b59d74c76a42",
   "metadata": {},
   "outputs": [
    {
     "name": "stdin",
     "output_type": "stream",
     "text": [
      "특정 기간(월) 입력 :  6\n"
     ]
    }
   ],
   "source": [
    "def func(m):\n",
    "    return df[df[\"기간\"] == f\"{m}월\"].groupby(\"지점\")[\"판매량\"].sum().to_excel(f\"result_{m}.xlsx\")\n",
    "\n",
    "m = input(\"특정 기간(월) 입력 : \")\n",
    "func(m)"
   ]
  },
  {
   "cell_type": "markdown",
   "id": "db1bcdb8-066e-4e45-bc64-daae3889c20e",
   "metadata": {},
   "source": [
    "5. **정규성 검정**\n",
    "    \n",
    "    2번에서 선정한 2개 지점의 **판매량** 데이터에 대해 각각 정규성 검정을 수행하고, 그 결과에 따른 결론을 작성하시오."
   ]
  },
  {
   "cell_type": "code",
   "execution_count": 12,
   "id": "5c50c554-eb9b-46c2-974a-b204ac35a4d5",
   "metadata": {},
   "outputs": [],
   "source": [
    "# 1. (610)부천점의 판매량 데이터에 대한 정규성 검정\n",
    "\n",
    "first = df[df[\"지점\"] == \"(610)부천점\"][\"판매량\"].astype(dtype='int64')"
   ]
  },
  {
   "cell_type": "code",
   "execution_count": 13,
   "id": "5de97d0e-f0df-460b-a68d-674df874d607",
   "metadata": {},
   "outputs": [
    {
     "data": {
      "image/png": "[encoded data removed]",
      "text/plain": [
       "<Figure size 640x480 with 1 Axes>"
      ]
     },
     "metadata": {},
     "output_type": "display_data"
    }
   ],
   "source": [
    "plt.hist(first)\n",
    "plt.show()"
   ]
  },
  {
   "cell_type": "code",
   "execution_count": 14,
   "id": "4b62c44e-cd54-4379-a01a-786e3b718654",
   "metadata": {},
   "outputs": [
    {
     "data": {
      "image/png": "[encoded data removed]",
      "text/plain": [
       "<Figure size 640x480 with 1 Axes>"
      ]
     },
     "metadata": {},
     "output_type": "display_data"
    }
   ],
   "source": [
    "import numpy as np\n",
    "import scipy.stats as stats\n",
    "\n",
    "stats.probplot(first, dist = \"norm\", plot = plt)\n",
    "plt.show()"
   ]
  },
  {
   "cell_type": "code",
   "execution_count": 15,
   "id": "d556eb15-e33f-4b49-90d9-c87d88acdcda",
   "metadata": {},
   "outputs": [
    {
     "data": {
      "text/plain": [
       "(0.35796291261487223, 7.24716285463559e-34)"
      ]
     },
     "execution_count": 15,
     "metadata": {},
     "output_type": "execute_result"
    }
   ],
   "source": [
    "# 귀무가설 : 이 분포가 정규성을 보인다\n",
    "# 대립가설 : 이 분포가 정규성을 보이지 않는다 \n",
    "\n",
    "values, p = stats.shapiro(first)\n",
    "values, p\n",
    "\n",
    "# p < 0.05 ; 귀무가설 기각. 정규성을 보이지 않는다 "
   ]
  },
  {
   "cell_type": "code",
   "execution_count": null,
   "id": "20454e60-9ded-48a4-8bdc-938df441c7d9",
   "metadata": {},
   "outputs": [],
   "source": []
  },
  {
   "cell_type": "code",
   "execution_count": 16,
   "id": "54ec46c6-fc40-42cb-aaa1-106af1d5f896",
   "metadata": {},
   "outputs": [],
   "source": [
    "# 2. 600)안양점의 판매량 데이터에 대한 정규성 검정\n",
    "\n",
    "second = df[df[\"지점\"] == \"(600)안양점\"][\"판매량\"].astype(dtype='int64')"
   ]
  },
  {
   "cell_type": "code",
   "execution_count": 17,
   "id": "56a9001d-a476-49be-8d75-f85bf69fd8e2",
   "metadata": {},
   "outputs": [
    {
     "data": {
      "image/png": "[encoded data removed]",
      "text/plain": [
       "<Figure size 640x480 with 1 Axes>"
      ]
     },
     "metadata": {},
     "output_type": "display_data"
    }
   ],
   "source": [
    "plt.hist(second)\n",
    "plt.show()"
   ]
  },
  {
   "cell_type": "code",
   "execution_count": 18,
   "id": "b3ce7e57-2294-4718-a84f-739139920402",
   "metadata": {},
   "outputs": [
    {
     "data": {
      "image/png": "[encoded data removed]",
      "text/plain": [
       "<Figure size 640x480 with 1 Axes>"
      ]
     },
     "metadata": {},
     "output_type": "display_data"
    }
   ],
   "source": [
    "stats.probplot(second, dist = \"norm\", plot = plt)\n",
    "plt.show()"
   ]
  },
  {
   "cell_type": "code",
   "execution_count": 19,
   "id": "e6f37c9f-5370-4893-a39b-b10d7d25c029",
   "metadata": {},
   "outputs": [
    {
     "data": {
      "text/plain": [
       "(0.44767860990061403, 5.195484375652869e-32)"
      ]
     },
     "execution_count": 19,
     "metadata": {},
     "output_type": "execute_result"
    }
   ],
   "source": [
    "# 귀무가설 : 이 분포가 정규성을 보인다\n",
    "# 대립가설 : 이 분포가 정규성을 보이지 않는다 \n",
    "\n",
    "values, p = stats.shapiro(second)\n",
    "values, p\n",
    "\n",
    "# p < 0.05 ; 귀무가설 기각. 정규성을 보이지 않는다 "
   ]
  },
  {
   "cell_type": "markdown",
   "id": "376fa270-3413-4968-ac7b-c81bedb4a828",
   "metadata": {},
   "source": [
    "6. **가설 검정**\n",
    "    - 2번에서 선정한 2개 지점의 **판매량** 대표값 차이를 비교하고자 할 때, 적절한 가설(귀무가설과 대립가설)을 수립하시오."
   ]
  },
  {
   "cell_type": "code",
   "execution_count": 20,
   "id": "fd3a401f-f808-4355-8816-3715fed3dfc3",
   "metadata": {},
   "outputs": [],
   "source": [
    "# 두 지점의 판매량 대표값 차이를 비교\n",
    "# 두 지점 모두 판매량 데이터가 정규성을 보이지 않으므로, 대표값을 중앙값으로 선정 \n",
    "\n",
    "# 귀무가설 : (610)부천점의 판매량의 중앙값과 (600)안양점의 판매량의 중앙값이 같다\n",
    "# 대립가설 : (610)부천점의 판매량의 중앙값과 (600)안양점의 판매량의 중앙값이 다르다"
   ]
  },
  {
   "cell_type": "markdown",
   "id": "55491391-87dc-4b93-8ff9-34ff4987834d",
   "metadata": {},
   "source": [
    "7. **상품분류에 따른 판매량 대표값 차이 검정**\n",
    "    - **상품명**을 기반으로 ‘마스크’와 ‘휴지’ 제품을 구분하되, 해당 두 제품 외의 상품은 **기타**로 분류하여 **상품분류**라는 파생변수를 생성하시오.\n",
    "    - ‘마스크’와 ‘휴지’ 두 상품의 **판매량** 대표값 차이에 대해 가설을 수립하고, 가설 검정을 수행하시오.\n",
    "      "
   ]
  },
  {
   "cell_type": "code",
   "execution_count": 26,
   "id": "003307bd-759a-4afd-9ef1-8c099d74971f",
   "metadata": {},
   "outputs": [],
   "source": [
    "import warnings\n",
    "warnings.filterwarnings(action='ignore')\n",
    "\n",
    "df[\"상품분류\"] = \"기타\"\n",
    "for i in range(len(df)):\n",
    "    if \"마스크\" in df[\"상품명\"][i]:\n",
    "        df[\"상품분류\"][i] = \"마스크\"\n",
    "    elif \"휴지\" in df[\"상품명\"][i]:\n",
    "        df[\"상품분류\"][i] = \"휴지\""
   ]
  },
  {
   "cell_type": "code",
   "execution_count": 24,
   "id": "62ad7b3e-34bb-422c-936d-6a9ff801800a",
   "metadata": {},
   "outputs": [
    {
     "data": {
      "text/html": [
       "<div>\n",
       "<style scoped>\n",
       "    .dataframe tbody tr th:only-of-type {\n",
       "        vertical-align: middle;\n",
       "    }\n",
       "\n",
       "    .dataframe tbody tr th {\n",
       "        vertical-align: top;\n",
       "    }\n",
       "\n",
       "    .dataframe thead th {\n",
       "        text-align: right;\n",
       "    }\n",
       "</style>\n",
       "<table border=\"1\" class=\"dataframe\">\n",
       "  <thead>\n",
       "    <tr style=\"text-align: right;\">\n",
       "      <th></th>\n",
       "      <th>순번</th>\n",
       "      <th>상품코드</th>\n",
       "      <th>상품명</th>\n",
       "      <th>합계</th>\n",
       "      <th>지점</th>\n",
       "      <th>판매량</th>\n",
       "      <th>기간</th>\n",
       "      <th>상품분류</th>\n",
       "    </tr>\n",
       "  </thead>\n",
       "  <tbody>\n",
       "    <tr>\n",
       "      <th>0</th>\n",
       "      <td>1.0</td>\n",
       "      <td>1.801828e+06</td>\n",
       "      <td>자연숨결 식약처 허가 초미세먼지 마스크 대형 60매(KF94)</td>\n",
       "      <td>65402</td>\n",
       "      <td>(1154)의정부점</td>\n",
       "      <td>174</td>\n",
       "      <td>6월</td>\n",
       "      <td>마스크</td>\n",
       "    </tr>\n",
       "    <tr>\n",
       "      <th>1</th>\n",
       "      <td>2.0</td>\n",
       "      <td>1.801859e+06</td>\n",
       "      <td>블루방역황사마스크 65매 KF94</td>\n",
       "      <td>1</td>\n",
       "      <td>(1154)의정부점</td>\n",
       "      <td>0</td>\n",
       "      <td>6월</td>\n",
       "      <td>마스크</td>\n",
       "    </tr>\n",
       "    <tr>\n",
       "      <th>2</th>\n",
       "      <td>3.0</td>\n",
       "      <td>4.078618e+07</td>\n",
       "      <td>클린위즈 매직클리너 얼룩제거 세트</td>\n",
       "      <td>2158</td>\n",
       "      <td>(1154)의정부점</td>\n",
       "      <td>4</td>\n",
       "      <td>6월</td>\n",
       "      <td>기타</td>\n",
       "    </tr>\n",
       "    <tr>\n",
       "      <th>3</th>\n",
       "      <td>4.0</td>\n",
       "      <td>4.100136e+07</td>\n",
       "      <td>트루마리 순수휴지 30미터 90롤</td>\n",
       "      <td>3649</td>\n",
       "      <td>(1154)의정부점</td>\n",
       "      <td>14</td>\n",
       "      <td>6월</td>\n",
       "      <td>휴지</td>\n",
       "    </tr>\n",
       "    <tr>\n",
       "      <th>4</th>\n",
       "      <td>5.0</td>\n",
       "      <td>8.800532e+07</td>\n",
       "      <td>자연숨결 식약처 허가 초미세먼지 마스크 대형30매 + 중형 30매(KF94)</td>\n",
       "      <td>1</td>\n",
       "      <td>(1154)의정부점</td>\n",
       "      <td>0</td>\n",
       "      <td>6월</td>\n",
       "      <td>마스크</td>\n",
       "    </tr>\n",
       "    <tr>\n",
       "      <th>...</th>\n",
       "      <td>...</td>\n",
       "      <td>...</td>\n",
       "      <td>...</td>\n",
       "      <td>...</td>\n",
       "      <td>...</td>\n",
       "      <td>...</td>\n",
       "      <td>...</td>\n",
       "      <td>...</td>\n",
       "    </tr>\n",
       "    <tr>\n",
       "      <th>236993</th>\n",
       "      <td>126.0</td>\n",
       "      <td>8.801858e+12</td>\n",
       "      <td>[쨍하고해뜰집]제습제풀세트(다용도제습제30통+지시겔1봉)</td>\n",
       "      <td>653</td>\n",
       "      <td>(L46)용호점</td>\n",
       "      <td>0</td>\n",
       "      <td>8월</td>\n",
       "      <td>기타</td>\n",
       "    </tr>\n",
       "    <tr>\n",
       "      <th>236994</th>\n",
       "      <td>127.0</td>\n",
       "      <td>8.801858e+12</td>\n",
       "      <td>[리얼뽀송이]제습제세트</td>\n",
       "      <td>3233</td>\n",
       "      <td>(L46)용호점</td>\n",
       "      <td>0</td>\n",
       "      <td>8월</td>\n",
       "      <td>기타</td>\n",
       "    </tr>\n",
       "    <tr>\n",
       "      <th>236995</th>\n",
       "      <td>128.0</td>\n",
       "      <td>8.801858e+12</td>\n",
       "      <td>[미라클워터]다목적세정제17종괴물용량풀세트</td>\n",
       "      <td>8433</td>\n",
       "      <td>(L46)용호점</td>\n",
       "      <td>0</td>\n",
       "      <td>8월</td>\n",
       "      <td>기타</td>\n",
       "    </tr>\n",
       "    <tr>\n",
       "      <th>236996</th>\n",
       "      <td>129.0</td>\n",
       "      <td>8.801858e+12</td>\n",
       "      <td>[쨍하고해뜰집]지시겔1봉(20개)</td>\n",
       "      <td>135839</td>\n",
       "      <td>(L46)용호점</td>\n",
       "      <td>145</td>\n",
       "      <td>8월</td>\n",
       "      <td>기타</td>\n",
       "    </tr>\n",
       "    <tr>\n",
       "      <th>236997</th>\n",
       "      <td>130.0</td>\n",
       "      <td>8.801858e+12</td>\n",
       "      <td>[리얼뽀송이]제습제1팩(단품)</td>\n",
       "      <td>28631</td>\n",
       "      <td>(L46)용호점</td>\n",
       "      <td>29</td>\n",
       "      <td>8월</td>\n",
       "      <td>기타</td>\n",
       "    </tr>\n",
       "  </tbody>\n",
       "</table>\n",
       "<p>236998 rows × 8 columns</p>\n",
       "</div>"
      ],
      "text/plain": [
       "           순번          상품코드                                         상품명  \\\n",
       "0         1.0  1.801828e+06          자연숨결 식약처 허가 초미세먼지 마스크 대형 60매(KF94)   \n",
       "1         2.0  1.801859e+06                          블루방역황사마스크 65매 KF94   \n",
       "2         3.0  4.078618e+07                          클린위즈 매직클리너 얼룩제거 세트   \n",
       "3         4.0  4.100136e+07                          트루마리 순수휴지 30미터 90롤   \n",
       "4         5.0  8.800532e+07  자연숨결 식약처 허가 초미세먼지 마스크 대형30매 + 중형 30매(KF94)   \n",
       "...       ...           ...                                         ...   \n",
       "236993  126.0  8.801858e+12             [쨍하고해뜰집]제습제풀세트(다용도제습제30통+지시겔1봉)   \n",
       "236994  127.0  8.801858e+12                                [리얼뽀송이]제습제세트   \n",
       "236995  128.0  8.801858e+12                     [미라클워터]다목적세정제17종괴물용량풀세트   \n",
       "236996  129.0  8.801858e+12                          [쨍하고해뜰집]지시겔1봉(20개)   \n",
       "236997  130.0  8.801858e+12                            [리얼뽀송이]제습제1팩(단품)   \n",
       "\n",
       "            합계          지점  판매량  기간 상품분류  \n",
       "0        65402  (1154)의정부점  174  6월  마스크  \n",
       "1            1  (1154)의정부점    0  6월  마스크  \n",
       "2         2158  (1154)의정부점    4  6월   기타  \n",
       "3         3649  (1154)의정부점   14  6월   휴지  \n",
       "4            1  (1154)의정부점    0  6월  마스크  \n",
       "...        ...         ...  ...  ..  ...  \n",
       "236993     653    (L46)용호점    0  8월   기타  \n",
       "236994    3233    (L46)용호점    0  8월   기타  \n",
       "236995    8433    (L46)용호점    0  8월   기타  \n",
       "236996  135839    (L46)용호점  145  8월   기타  \n",
       "236997   28631    (L46)용호점   29  8월   기타  \n",
       "\n",
       "[236998 rows x 8 columns]"
      ]
     },
     "execution_count": 24,
     "metadata": {},
     "output_type": "execute_result"
    }
   ],
   "source": [
    "df"
   ]
  },
  {
   "cell_type": "code",
   "execution_count": 31,
   "id": "71c63833-b387-4296-ba5e-90979e29287b",
   "metadata": {},
   "outputs": [],
   "source": [
    "# 먼저 마스크와 휴지 각각의 판매량의 대표값을 구해본다 \n",
    "\n",
    "# 마스크의 판매량의 대표값\n",
    "mask = df[df[\"상품분류\"] == \"마스크\"][\"판매량\"].astype(dtype='int64')"
   ]
  },
  {
   "cell_type": "code",
   "execution_count": 32,
   "id": "c4b8a0d6-8d4f-4fc9-a105-8a813ea56743",
   "metadata": {},
   "outputs": [
    {
     "data": {
      "image/png": "[encoded data removed]",
      "text/plain": [
       "<Figure size 640x480 with 1 Axes>"
      ]
     },
     "metadata": {},
     "output_type": "display_data"
    }
   ],
   "source": [
    "plt.hist(mask)\n",
    "plt.show()"
   ]
  },
  {
   "cell_type": "code",
   "execution_count": 34,
   "id": "f10d2a1d-1260-4131-9f99-70d8bf723dbf",
   "metadata": {},
   "outputs": [
    {
     "data": {
      "image/png": "[encoded data removed]",
      "text/plain": [
       "<Figure size 640x480 with 1 Axes>"
      ]
     },
     "metadata": {},
     "output_type": "display_data"
    }
   ],
   "source": [
    "stats.probplot(mask, dist = \"norm\", plot = plt)\n",
    "plt.show()"
   ]
  },
  {
   "cell_type": "code",
   "execution_count": 35,
   "id": "2c4313b1-d753-4ed7-8a22-67c5ddc3eaa3",
   "metadata": {},
   "outputs": [
    {
     "data": {
      "text/plain": [
       "(0.254183938975428, 2.6757121296880768e-129)"
      ]
     },
     "execution_count": 35,
     "metadata": {},
     "output_type": "execute_result"
    }
   ],
   "source": [
    "values, p = stats.shapiro(mask)\n",
    "values, p\n",
    "\n",
    "# p < 0.05 ; 귀무가설 기각. 정규성을 보이지 않는다 \n",
    "# 따라서 마스크의 판매량의 대표값은 중앙값으로 해야한다."
   ]
  },
  {
   "cell_type": "code",
   "execution_count": 36,
   "id": "6d40f255-d0c8-43c9-a8b7-39f8291fbe8d",
   "metadata": {},
   "outputs": [],
   "source": [
    "# 휴지의 판매량의 대표값\n",
    "paper = df[df[\"상품분류\"] == \"휴지\"][\"판매량\"].astype(dtype='int64')"
   ]
  },
  {
   "cell_type": "code",
   "execution_count": 37,
   "id": "a19e07df-f609-43c4-a490-62c201858e6f",
   "metadata": {},
   "outputs": [
    {
     "data": {
      "image/png": "[encoded data removed]",
      "text/plain": [
       "<Figure size 640x480 with 1 Axes>"
      ]
     },
     "metadata": {},
     "output_type": "display_data"
    }
   ],
   "source": [
    "plt.hist(paper)\n",
    "plt.show()"
   ]
  },
  {
   "cell_type": "code",
   "execution_count": 38,
   "id": "f328a85e-74a0-4ff5-af00-418e89b1892d",
   "metadata": {},
   "outputs": [
    {
     "data": {
      "image/png": "[encoded data removed]",
      "text/plain": [
       "<Figure size 640x480 with 1 Axes>"
      ]
     },
     "metadata": {},
     "output_type": "display_data"
    }
   ],
   "source": [
    "stats.probplot(paper, dist = \"norm\", plot = plt)\n",
    "plt.show()"
   ]
  },
  {
   "cell_type": "code",
   "execution_count": 41,
   "id": "0168929d-9efb-4668-af34-5d83ae568d67",
   "metadata": {},
   "outputs": [
    {
     "data": {
      "text/plain": [
       "(0.20406100540547523, 3.595421754886747e-131)"
      ]
     },
     "execution_count": 41,
     "metadata": {},
     "output_type": "execute_result"
    }
   ],
   "source": [
    "values, p = stats.shapiro(paper)\n",
    "values, p\n",
    "\n",
    "# p < 0.05 ; 귀무가설 기각. 정규성을 보이지 않는다 \n",
    "# 따라서 휴지의 판매량의 대표값도 중앙값으로 해야한다."
   ]
  },
  {
   "cell_type": "code",
   "execution_count": 43,
   "id": "d6b10089-5c8c-4ad3-8b46-fbf2f41c1e61",
   "metadata": {},
   "outputs": [
    {
     "data": {
      "text/plain": [
       "MannwhitneyuResult(statistic=246259217.5, pvalue=1.6401012528287495e-88)"
      ]
     },
     "execution_count": 43,
     "metadata": {},
     "output_type": "execute_result"
    }
   ],
   "source": [
    "# 귀무가설: 마스크와 휴지의 판매량 중앙값은 차이가 없다\n",
    "# 대립가설 : 마스크와 휴지의 판매량 중앙값은 차이가 있다\n",
    "\n",
    "stats.mannwhitneyu(mask, paper)\n",
    "# p < 0.05 ; 귀무가설 기각. 마스크와 휴지의 판매량의 중앙값은 차이가 있다"
   ]
  },
  {
   "cell_type": "code",
   "execution_count": 44,
   "id": "7ca557ab-332d-4f56-bdc8-4e52c68b46be",
   "metadata": {},
   "outputs": [
    {
     "data": {
      "text/plain": [
       "MannwhitneyuResult(statistic=246259217.5, pvalue=8.200506264143748e-89)"
      ]
     },
     "execution_count": 44,
     "metadata": {},
     "output_type": "execute_result"
    }
   ],
   "source": [
    "# 대립가설 : 마스크 판매량의 중앙값이 휴지 판매량의 중앙값보다 크다\n",
    "\n",
    "stats.mannwhitneyu(mask, paper, alternative = \"greater\")\n",
    "# p < 0.05 ; 즉 마스크 판매량의 중앙값이 휴지 판매량의 중앙값보다 크다"
   ]
  },
  {
   "cell_type": "markdown",
   "id": "2d4d5290-be1e-4976-85cd-38ffd24a5a10",
   "metadata": {},
   "source": [
    "8. **제품 불량률 확률 계산**\n",
    "    \n",
    "    한 회사의 제품 불량률이 10%일 때, 30개의 제품을 검사하여 5개 이상의 불량품이 나올 확률을 계산하시오."
   ]
  },
  {
   "cell_type": "code",
   "execution_count": 46,
   "id": "d1512fcf-d38a-4cc8-be32-03d1019fca36",
   "metadata": {},
   "outputs": [
    {
     "data": {
      "text/plain": [
       "0.17549487903389516"
      ]
     },
     "execution_count": 46,
     "metadata": {},
     "output_type": "execute_result"
    }
   ],
   "source": [
    "from scipy.stats import binom\n",
    "\n",
    "1 - binom.cdf(4, 30, 0.1)\n",
    "\n",
    "# 불량품이 5개 이상 = 1 - (4개 이하)"
   ]
  },
  {
   "cell_type": "markdown",
   "id": "45804897-c402-4f2f-8e7d-4e4c65c4e960",
   "metadata": {},
   "source": [
    "9. **고객센터 문의 건수 확률 계산**\n",
    "    \n",
    "    어느 고객센터에 하루 평균 3건의 문의가 온다고 할 때, 하루에 문의가 5건 이상 올 확률을 계산하시오."
   ]
  },
  {
   "cell_type": "code",
   "execution_count": 48,
   "id": "2afaf01b-c079-4760-989b-71c81c724cfe",
   "metadata": {},
   "outputs": [
    {
     "data": {
      "text/plain": [
       "0.1847367554762278"
      ]
     },
     "execution_count": 48,
     "metadata": {},
     "output_type": "execute_result"
    }
   ],
   "source": [
    "from scipy.stats import poisson\n",
    "\n",
    "1 - poisson.cdf(4, 3)\n",
    "\n",
    "# 5건 이상 = 1 - (4건 이하)"
   ]
  },
  {
   "cell_type": "markdown",
   "id": "9b753275-ca7d-4785-871b-ad80b4f0e387",
   "metadata": {},
   "source": [
    "10. **데이터 표준화 및 시각화**\n",
    "    \n",
    "    '01_Data.csv' 파일의 **Amount_Month** 데이터를 표준화하여 표준 정규분포로 변환한 후, 그 결과를 그래프로 시각화하시오."
   ]
  },
  {
   "cell_type": "code",
   "execution_count": 60,
   "id": "2c3c6c61-36d4-4c50-8f5d-646f19a8d889",
   "metadata": {},
   "outputs": [
    {
     "data": {
      "image/png": "[encoded data removed]",
      "text/plain": [
       "<Figure size 640x480 with 1 Axes>"
      ]
     },
     "metadata": {},
     "output_type": "display_data"
    }
   ],
   "source": [
    "import pandas as pd\n",
    "df1 = pd.read_csv(\"Data/01_Data.csv\")\n",
    "df1[\"표준화\"] = (df1[\"Amount_Month\"] - df1[\"Amount_Month\"].mean()) / df1[\"Amount_Month\"].std()\n",
    "\n",
    "sns.histplot(df1[\"표준화\"], bins=30)\n",
    "plt.grid()\n",
    "plt.show()"
   ]
  },
  {
   "cell_type": "code",
   "execution_count": null,
   "id": "61e50a38-dbc9-44a2-b643-907abe59a4d9",
   "metadata": {},
   "outputs": [],
   "source": []
  }
 ],
 "metadata": {
  "kernelspec": {
   "display_name": "Python 3 (ipykernel)",
   "language": "python",
   "name": "python3"
  },
  "language_info": {
   "codemirror_mode": {
    "name": "ipython",
    "version": 3
   },
   "file_extension": ".py",
   "mimetype": "text/x-python",
   "name": "python",
   "nbconvert_exporter": "python",
   "pygments_lexer": "ipython3",
   "version": "3.12.7"
  }
 },
 "nbformat": 4,
 "nbformat_minor": 5
}
