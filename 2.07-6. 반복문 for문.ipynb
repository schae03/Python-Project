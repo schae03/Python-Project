{
 "cells": [
  {
   "cell_type": "code",
   "execution_count": 1,
   "id": "def33715-fb3c-4ea2-be6d-55f05b2335bd",
   "metadata": {},
   "outputs": [
    {
     "name": "stdout",
     "output_type": "stream",
     "text": [
      "p\n",
      "y\n",
      "t\n",
      "h\n",
      "o\n",
      "n\n"
     ]
    }
   ],
   "source": [
    "# 반복문 for문\n",
    "# for 변수이름 in 반복하고 싶은 것:\n",
    "\n",
    "text = \"python\"\n",
    "\n",
    "# 변수 text 안에 있는 것들을 순서대로 변수 t에 넣는다\n",
    "for t in text:\n",
    "    print(t)"
   ]
  },
  {
   "cell_type": "code",
   "execution_count": 2,
   "id": "d88ad6d6-3475-4058-9265-e53769d208c7",
   "metadata": {},
   "outputs": [
    {
     "name": "stdout",
     "output_type": "stream",
     "text": [
      "1\n",
      "3\n",
      "5\n",
      "4\n",
      "2\n"
     ]
    }
   ],
   "source": [
    "box = [1,3,5,4,2]\n",
    "\n",
    "for n in box:\n",
    "    print(n)"
   ]
  },
  {
   "cell_type": "code",
   "execution_count": 5,
   "id": "aa21dc4b-3ced-4936-8e9e-f2864cafe7a3",
   "metadata": {},
   "outputs": [
    {
     "name": "stdout",
     "output_type": "stream",
     "text": [
      "0\n",
      "1\n",
      "2\n",
      "3\n",
      "4\n",
      "5\n",
      "6\n",
      "7\n",
      "8\n",
      "9\n"
     ]
    }
   ],
   "source": [
    "for i in range(10):       # 0부터 9까지 (10만큼의 범위) 순서대로 반복\n",
    "    print(i)\n",
    "\n",
    "#range(3,10)      # 3부터 9까지 (10전까지)\n",
    "#range(1,10,2):   # 0부터 9까지 2씩 증가시키면서 반복"
   ]
  },
  {
   "cell_type": "code",
   "execution_count": 8,
   "id": "635274e5-779c-4f49-8901-881653ff1de0",
   "metadata": {},
   "outputs": [
    {
     "name": "stdout",
     "output_type": "stream",
     "text": [
      "2 X 1 = 2\n",
      "2 X 2 = 4\n",
      "2 X 3 = 6\n",
      "2 X 4 = 8\n",
      "2 X 5 = 10\n",
      "2 X 6 = 12\n",
      "2 X 7 = 14\n",
      "2 X 8 = 16\n",
      "2 X 9 = 18\n",
      "\n",
      "3 X 1 = 3\n",
      "3 X 2 = 6\n",
      "3 X 3 = 9\n",
      "3 X 4 = 12\n",
      "3 X 5 = 15\n",
      "3 X 6 = 18\n",
      "3 X 7 = 21\n",
      "3 X 8 = 24\n",
      "3 X 9 = 27\n",
      "\n",
      "4 X 1 = 4\n",
      "4 X 2 = 8\n",
      "4 X 3 = 12\n",
      "4 X 4 = 16\n",
      "4 X 5 = 20\n",
      "4 X 6 = 24\n",
      "4 X 7 = 28\n",
      "4 X 8 = 32\n",
      "4 X 9 = 36\n",
      "\n",
      "5 X 1 = 5\n",
      "5 X 2 = 10\n",
      "5 X 3 = 15\n",
      "5 X 4 = 20\n",
      "5 X 5 = 25\n",
      "5 X 6 = 30\n",
      "5 X 7 = 35\n",
      "5 X 8 = 40\n",
      "5 X 9 = 45\n",
      "\n",
      "6 X 1 = 6\n",
      "6 X 2 = 12\n",
      "6 X 3 = 18\n",
      "6 X 4 = 24\n",
      "6 X 5 = 30\n",
      "6 X 6 = 36\n",
      "6 X 7 = 42\n",
      "6 X 8 = 48\n",
      "6 X 9 = 54\n",
      "\n",
      "7 X 1 = 7\n",
      "7 X 2 = 14\n",
      "7 X 3 = 21\n",
      "7 X 4 = 28\n",
      "7 X 5 = 35\n",
      "7 X 6 = 42\n",
      "7 X 7 = 49\n",
      "7 X 8 = 56\n",
      "7 X 9 = 63\n",
      "\n",
      "8 X 1 = 8\n",
      "8 X 2 = 16\n",
      "8 X 3 = 24\n",
      "8 X 4 = 32\n",
      "8 X 5 = 40\n",
      "8 X 6 = 48\n",
      "8 X 7 = 56\n",
      "8 X 8 = 64\n",
      "8 X 9 = 72\n",
      "\n",
      "9 X 1 = 9\n",
      "9 X 2 = 18\n",
      "9 X 3 = 27\n",
      "9 X 4 = 36\n",
      "9 X 5 = 45\n",
      "9 X 6 = 54\n",
      "9 X 7 = 63\n",
      "9 X 8 = 72\n",
      "9 X 9 = 81\n",
      "\n"
     ]
    }
   ],
   "source": [
    "    # 2단부터 9단까지 구구단 - 2중 for문 형로로\n",
    "for n1 in range(2,10):\n",
    "    for n2 in range(1,10):\n",
    "        print(f\"{n1} X {n2} = {n1 * n2}\")\n",
    "    print()"
   ]
  },
  {
   "cell_type": "code",
   "execution_count": 10,
   "id": "f52a852e-5336-4149-99e3-4eb30be599c9",
   "metadata": {},
   "outputs": [
    {
     "name": "stdout",
     "output_type": "stream",
     "text": [
      "8145060 [45, 45, 45, 45, 45, 45]\n"
     ]
    }
   ],
   "source": [
    "# 로또 - 1~45번에서 6개의 조합\n",
    "count = 0\n",
    "for n1 in range(1,46):\n",
    "    for n2 in range(n1+1,46):       # n1과 범위 겹치지 않게 n1+1을 시작점으로 \n",
    "        for n3 in range(n2+1,46):\n",
    "            for n4 in range(n3+1,46):\n",
    "                for n5 in range(n4+1,46):\n",
    "                    for n6 in range(n5+1,46):\n",
    "                        count+=1\n",
    "                        #print(count, [n1,n2,n3,n4,n5,n6])\n",
    "\n",
    "print(count, [n1,n2,n3,n4,n5,n6])               "
   ]
  },
  {
   "cell_type": "code",
   "execution_count": 11,
   "id": "b0a6630c-f190-4ce0-8c8d-c5a6179d1312",
   "metadata": {},
   "outputs": [
    {
     "data": {
      "text/plain": [
       "1.2277380399898834e-05"
      ]
     },
     "execution_count": 11,
     "metadata": {},
     "output_type": "execute_result"
    }
   ],
   "source": [
    "1 / 8145060 * 100          # 로또당첨확률 0.00001퍼센트"
   ]
  },
  {
   "cell_type": "code",
   "execution_count": 14,
   "id": "3f0b274d-0fef-48a3-b1e2-53c3d4063663",
   "metadata": {},
   "outputs": [
    {
     "name": "stdout",
     "output_type": "stream",
     "text": [
      "(0, 'paper')\n",
      "(1, 'phone')\n",
      "(2, 'money')\n"
     ]
    }
   ],
   "source": [
    "box = [\"paper\", \"phone\", \"money\"]\n",
    "for i in enumerate(box):          # enumerate 함수: 아이템값에 위치값도 함께 보여줌.\n",
    "    print(i)"
   ]
  },
  {
   "cell_type": "code",
   "execution_count": null,
   "id": "ee1a981f-5bd4-4624-a6ba-02a72b016337",
   "metadata": {},
   "outputs": [],
   "source": []
  },
  {
   "cell_type": "code",
   "execution_count": null,
   "id": "67e47c81-7111-4410-aafa-01ced0e5bb4c",
   "metadata": {},
   "outputs": [],
   "source": []
  },
  {
   "cell_type": "code",
   "execution_count": null,
   "id": "7feb927b-ecd8-4e44-a1e3-6a4dbe7a0ab2",
   "metadata": {},
   "outputs": [],
   "source": []
  }
 ],
 "metadata": {
  "kernelspec": {
   "display_name": "Python 3 (ipykernel)",
   "language": "python",
   "name": "python3"
  },
  "language_info": {
   "codemirror_mode": {
    "name": "ipython",
    "version": 3
   },
   "file_extension": ".py",
   "mimetype": "text/x-python",
   "name": "python",
   "nbconvert_exporter": "python",
   "pygments_lexer": "ipython3",
   "version": "3.12.7"
  }
 },
 "nbformat": 4,
 "nbformat_minor": 5
}
