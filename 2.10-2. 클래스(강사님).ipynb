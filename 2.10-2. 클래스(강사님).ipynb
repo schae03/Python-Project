{
 "cells": [
  {
   "cell_type": "markdown",
   "id": "bba5aa8b-a5ac-4e2b-91f9-a4e4128d1e59",
   "metadata": {},
   "source": [
    "# 클래스란 무엇인가?\n",
    "## 클래스(Class)\n",
    "* 파이썬에서 클래스는 객체지향 프로그래밍(OOP)의 핵심 개념입니다.\n",
    "* 특정 객체를 정의하기 위한 설계도(청사진) 라고 볼 수 있습니다.\n",
    "* 클래스는 속성(변수)과 메서드(함수)를 함께 묶어서 하나의 객체로 만들 수 있습니다.\n",
    "\n",
    "## 객체(Object)\n",
    "* 클래스를 기반으로 생성된 실체(Instance) 를 객체라고 합니다.\n",
    "* 예: Person이라는 클래스를 만든 뒤, john = Person()처럼 생성한 것을 객체(인스턴스)라고 부릅니다."
   ]
  },
  {
   "cell_type": "markdown",
   "id": "a3fb85e9-c0fa-4543-9c90-0aac4e175e53",
   "metadata": {},
   "source": [
    "## 1. 클래스와 객체의 기본 사용\n",
    "### __init__ 메서드\n",
    "* “초기화 메서드”라고 하며, 객체를 생성할 때 자동으로 호출됩니다.\n",
    "* self는 인스턴스 자기 자신을 가리키는 키워드.\n",
    "* self.name, self.age처럼 인스턴스 변수를 초기화합니다.\n",
    "\n",
    "### 메서드\n",
    "* 클래스 내부에 정의된 함수입니다.\n",
    "* greet(self)처럼 첫 번째 매개변수로 self를 받아야 합니다(인스턴스 메서드인 경우)."
   ]
  },
  {
   "cell_type": "code",
   "execution_count": 1,
   "id": "6a66e30b-dfc4-4fc3-a757-7d7580ec20d4",
   "metadata": {},
   "outputs": [],
   "source": [
    "class Person:\n",
    "    # 클래스 속성(멤버 변수)\n",
    "    species = \"Homo Sapiens\"  # 모든 Person이 공통으로 갖는 특성 (클래스 변수)\n",
    "\n",
    "    def __init__(self, name, age):\n",
    "        # 인스턴스 속성(인스턴스 변수)\n",
    "        self.name = name\n",
    "        self.age = age\n",
    "\n",
    "    def greet(self):\n",
    "        print(f\"안녕하세요, 제 이름은 {self.name}이고, 나이는 {self.age}살입니다.\")"
   ]
  },
  {
   "cell_type": "markdown",
   "id": "403ea53a-708e-46a8-b617-ced1725871d4",
   "metadata": {},
   "source": [
    "### 객체 생성과 사용\n",
    "* person1, person2는 각각 Person 클래스의 인스턴스(객체)입니다.\n",
    "* __init__이 호출되어 name, age가 인스턴스마다 다르게 저장됩니다."
   ]
  },
  {
   "cell_type": "code",
   "execution_count": 2,
   "id": "e93a5232-35f2-4b9f-b1a2-76f7ea385f8c",
   "metadata": {},
   "outputs": [
    {
     "name": "stdout",
     "output_type": "stream",
     "text": [
      "안녕하세요, 제 이름은 Alice이고, 나이는 25살입니다.\n",
      "안녕하세요, 제 이름은 Bob이고, 나이는 30살입니다.\n",
      "Homo Sapiens\n",
      "Homo Sapiens\n"
     ]
    }
   ],
   "source": [
    "# Person 클래스 사용 예시\n",
    "person1 = Person(\"Alice\", 25)\n",
    "person2 = Person(\"Bob\", 30)\n",
    "\n",
    "person1.greet()  # 안녕하세요, 제 이름은 Alice이고, 나이는 25살입니다.\n",
    "person2.greet()  # 안녕하세요, 제 이름은 Bob이고, 나이는 30살입니다.\n",
    "\n",
    "# 클래스 변수 참조\n",
    "print(Person.species)   # Homo Sapiens\n",
    "print(person1.species)  # Homo Sapiens (인스턴스 통해서도 접근 가능)"
   ]
  },
  {
   "cell_type": "markdown",
   "id": "9310d9ab-3594-49ea-8b10-f7d99e661acf",
   "metadata": {},
   "source": [
    "## 2. 클래스 변수와 인스턴스 변수\n",
    "### 클래스 변수\n",
    "* 클래스 본체에 선언된 변수 (species 처럼).\n",
    "* 모든 인스턴스가 공유하는 속성값.\n",
    "* 클래스명으로도 접근 가능(Person.species).\n",
    "\n",
    "### 인스턴스 변수\n",
    "* __init__ 내부에서 self.xxx 형태로 선언된 변수(self.name, self.age 등).\n",
    "* 각 인스턴스마다 고유한 값을 가집니다."
   ]
  },
  {
   "cell_type": "markdown",
   "id": "bc96cf81-3394-470c-8bb7-8ae992474766",
   "metadata": {},
   "source": [
    "## 3. 메서드 종류\n",
    "### 인스턴스 메서드(Instance Method)\n",
    "* 첫 번째 인자로 self를 받음.\n",
    "* 각 객체(인스턴스)의 속성에 접근하거나, 동작을 수행할 때 사용."
   ]
  },
  {
   "cell_type": "code",
   "execution_count": 3,
   "id": "d5d47781-14fa-4850-abce-06397f62a92f",
   "metadata": {},
   "outputs": [],
   "source": [
    "def greet(self):\n",
    "    print(f\"안녕하세요, {self.name}입니다.\")"
   ]
  },
  {
   "cell_type": "markdown",
   "id": "0ddde4d9-9183-4ead-b633-7ff2fcfc772d",
   "metadata": {},
   "source": [
    "### 클래스 메서드(Class Method)\n",
    "* 첫 번째 인자로 cls(클래스 자기 자신)를 받음.\n",
    "* @classmethod 데코레이터를 붙여 사용.\n",
    "* 클래스 변수에 접근하거나, 클래스를 위한 동작(예: 인스턴스 생성 방법의 변경 등)을 정의할 때 사용."
   ]
  },
  {
   "cell_type": "code",
   "execution_count": 4,
   "id": "8f4d851f-7fe8-442f-9c46-ed493b6f2681",
   "metadata": {},
   "outputs": [],
   "source": [
    "class Person:\n",
    "    species = \"Homo Sapiens\"\n",
    "\n",
    "    @classmethod\n",
    "    def get_species(cls):\n",
    "        return cls.species"
   ]
  },
  {
   "cell_type": "code",
   "execution_count": 5,
   "id": "94ee603e-84f8-47ab-a983-29cfa4f30596",
   "metadata": {},
   "outputs": [
    {
     "name": "stdout",
     "output_type": "stream",
     "text": [
      "Homo Sapiens\n"
     ]
    }
   ],
   "source": [
    "print(Person.get_species())  # \"Homo Sapiens\""
   ]
  },
  {
   "cell_type": "markdown",
   "id": "bc658189-d755-435c-96cc-1a7ee086dc4b",
   "metadata": {},
   "source": [
    "### 정적 메서드(Static Method)\n",
    "* @staticmethod 데코레이터를 붙여 사용.\n",
    "* self나 cls를 받지 않음 (즉, 인스턴스나 클래스에 의존하지 않는 메서드).\n",
    "* 일반적으로 클래스 이름 공간 안에 두되, 로직만 공유할 때 사용."
   ]
  },
  {
   "cell_type": "code",
   "execution_count": 7,
   "id": "a95d5acb-0820-40f1-b6c8-a2920b565655",
   "metadata": {},
   "outputs": [
    {
     "name": "stdout",
     "output_type": "stream",
     "text": [
      "15\n"
     ]
    }
   ],
   "source": [
    "class MathHelper:\n",
    "    \n",
    "    @staticmethod\n",
    "    def add(a, b):\n",
    "        return a + b\n",
    "\n",
    "print(MathHelper.add(10, 5))  # 15"
   ]
  },
  {
   "cell_type": "markdown",
   "id": "08e19206-1d55-49ca-a562-76a12f78ad8f",
   "metadata": {},
   "source": [
    "## 4. 상속(Inheritance)\n",
    "* 한 클래스가 다른 클래스를 상속받으면, 상속받는 클래스(자식 클래스)는 부모 클래스의 속성과 메서드를 물려받습니다.\n",
    "* 중복 코드를 줄이고, 객체지향 구조를 보다 효율적으로 만들 수 있습니다."
   ]
  },
  {
   "cell_type": "code",
   "execution_count": 8,
   "id": "cb7f7108-d5de-463c-b0c9-1f4eaee2643c",
   "metadata": {},
   "outputs": [
    {
     "name": "stdout",
     "output_type": "stream",
     "text": [
      "초코가 멍멍 하고 짖습니다.\n"
     ]
    }
   ],
   "source": [
    "# Dog 클래스에서 Animal의 기능(name 속성, 혹은 메서드)을 물려받음.\n",
    "# speak() 메서드를 오버라이딩하여 Dog 객체만의 기능으로 재정의했습니다.\n",
    "\n",
    "class Animal:\n",
    "    def __init__(self, name):\n",
    "        self.name = name\n",
    "\n",
    "    def speak(self):\n",
    "        print(\"동물이 소리를 냅니다.\")\n",
    "\n",
    "# Dog 클래스는 Animal 클래스를 상속받음\n",
    "class Dog(Animal):\n",
    "    def speak(self):\n",
    "        # 메서드 오버라이딩(Overriding)\n",
    "        print(f\"{self.name}가 멍멍 하고 짖습니다.\")\n",
    "\n",
    "dog1 = Dog(\"초코\")\n",
    "dog1.speak()  # 초코가 멍멍 하고 짖습니다."
   ]
  },
  {
   "cell_type": "markdown",
   "id": "859cf922-48c5-4a89-91fe-71849a19d04d",
   "metadata": {},
   "source": [
    "## 5. 캡슐화, 정보은닉(파이썬 스타일)\n",
    "* 파이썬은 언어 차원에서 private(비공개) 접근 제어자를 강제하지 않습니다.\n",
    "* 관례상, 이중 밑줄(__) 로 시작하면 ‘사적인’(private) 속성으로 간주합니다."
   ]
  },
  {
   "cell_type": "code",
   "execution_count": 9,
   "id": "4a16e63f-c7f3-4a3c-8922-3ce44ac029a5",
   "metadata": {},
   "outputs": [],
   "source": [
    "# 사실상 접근 가능하지만(‘_클래스이름__변수명’ 형태로),\n",
    "# 개발자 간 약속(이 변수는 직접 조작하지 마세요)으로 이해합니다.\n",
    "\n",
    "class BankAccount:\n",
    "    def __init__(self, owner, balance):\n",
    "        self.owner = owner\n",
    "        self.__balance = balance  # 이중 밑줄\n",
    "\n",
    "    def deposit(self, amount):\n",
    "        self.__balance += amount\n",
    "\n",
    "    def withdraw(self, amount):\n",
    "        if self.__balance >= amount:\n",
    "            self.__balance -= amount\n",
    "        else:\n",
    "            print(\"잔고 부족!\")\n",
    "\n",
    "    def get_balance(self):\n",
    "        return self.__balance"
   ]
  },
  {
   "cell_type": "markdown",
   "id": "06a6a713-9b42-4dc4-afa1-789cd5e667de",
   "metadata": {},
   "source": [
    "## 연습문제\n",
    "1. Car 클래스를 만들고, __init__에서 brand, model, year를 받아서 인스턴스 변수를 저장하게 해보세요.  \n",
    "describe() 메서드를 만들어, \"브랜드: ..., 모델: ..., 연식: ...\" 형태로 출력하게 해보세요."
   ]
  },
  {
   "cell_type": "code",
   "execution_count": null,
   "id": "270fe5f0-7b6c-4dc9-9267-376622faca0d",
   "metadata": {},
   "outputs": [],
   "source": []
  }
 ],
 "metadata": {
  "kernelspec": {
   "display_name": "Python 3 (ipykernel)",
   "language": "python",
   "name": "python3"
  },
  "language_info": {
   "codemirror_mode": {
    "name": "ipython",
    "version": 3
   },
   "file_extension": ".py",
   "mimetype": "text/x-python",
   "name": "python",
   "nbconvert_exporter": "python",
   "pygments_lexer": "ipython3",
   "version": "3.12.7"
  }
 },
 "nbformat": 4,
 "nbformat_minor": 5
}
