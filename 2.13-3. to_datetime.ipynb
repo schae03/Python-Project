{
 "cells": [
  {
   "cell_type": "code",
   "execution_count": 8,
   "id": "2f0fafa9-e54b-4c22-8d26-c4b73de5efce",
   "metadata": {},
   "outputs": [
    {
     "data": {
      "text/plain": [
       "0    2025-02-13 13:30:00\n",
       "1    2025-03-01 09:15:00\n",
       "2    2025-04-15 13:26:40\n",
       "dtype: object"
      ]
     },
     "execution_count": 8,
     "metadata": {},
     "output_type": "execute_result"
    }
   ],
   "source": [
    "# to_datetime()\n",
    "\n",
    "import pandas as pd\n",
    "s = pd.Series([\"2025-02-13 13:30:00\",\n",
    "              \"2025-03-01 09:15:00\",\n",
    "              \"2025-04-15 13:26:40\"])\n",
    "s"
   ]
  },
  {
   "cell_type": "code",
   "execution_count": 2,
   "id": "6d3eec6a-eceb-40e2-a088-13ad22ad86ab",
   "metadata": {},
   "outputs": [
    {
     "data": {
      "text/plain": [
       "0   2025-02-13 13:30:00\n",
       "1   2025-03-01 09:15:00\n",
       "2   2025-04-15 13:26:40\n",
       "dtype: datetime64[ns]"
      ]
     },
     "execution_count": 2,
     "metadata": {},
     "output_type": "execute_result"
    }
   ],
   "source": [
    "pd.to_datetime(s)        # to_datetime  :  데이터타입이 datetime으로 바뀜"
   ]
  },
  {
   "cell_type": "code",
   "execution_count": 3,
   "id": "5bfcf793-7711-48f6-a1d1-ebf81cc4e0b0",
   "metadata": {},
   "outputs": [
    {
     "data": {
      "text/plain": [
       "0   2025-02-13 13:30:00\n",
       "1   2025-03-01 09:15:00\n",
       "2   2025-04-15 13:26:40\n",
       "dtype: datetime64[ns]"
      ]
     },
     "execution_count": 3,
     "metadata": {},
     "output_type": "execute_result"
    }
   ],
   "source": [
    "pd.to_datetime(s, format = \"%Y-%m-%d %H:%M:%S\")           # 정확히 어떤 포맷으로 돼있는지 적어줄수있음 \n",
    "# 년 : %Y  /  월 : %m  /  일 : %d   /  시간 : %H  /  분 : %M  /  초 : %S"
   ]
  },
  {
   "cell_type": "code",
   "execution_count": 5,
   "id": "495c1462-6f75-4b83-9615-cffe8ebc88f6",
   "metadata": {},
   "outputs": [
    {
     "data": {
      "text/plain": [
       "0   1970-05-23 17:53:53\n",
       "1   1970-01-07 03:48:43\n",
       "2   1970-01-04 22:47:14\n",
       "dtype: datetime64[ns]"
      ]
     },
     "execution_count": 5,
     "metadata": {},
     "output_type": "execute_result"
    }
   ],
   "source": [
    "# Unix 타임스탬프    //   1970년도 1월1일 오전0시 기준\n",
    "s = pd.Series([12333233, 532123, 341234])\n",
    "pd.to_datetime(s, unit = \"s\")       # 초단위로 계산해보면 "
   ]
  },
  {
   "cell_type": "code",
   "execution_count": 17,
   "id": "c8b12d81-2749-45a1-9dc0-27e02fc4391d",
   "metadata": {},
   "outputs": [
    {
     "data": {
      "text/plain": [
       "0   2025-02-13 13:30:00\n",
       "1                   NaT\n",
       "2   2025-04-15 13:26:40\n",
       "dtype: datetime64[ns]"
      ]
     },
     "execution_count": 17,
     "metadata": {},
     "output_type": "execute_result"
    }
   ],
   "source": [
    "s = pd.Series([\"2025-02-13 13:30:00\",\n",
    "              \"2025-13-01 09:15:00\",           # 만약 13월이면\n",
    "              \"2025-04-15 13:26:40\"])\n",
    "\n",
    "s = pd.to_datetime(s, format = \"%Y-%m-%d %H:%M:%S\",\n",
    "                  errors = \"coerce\")        # errors = \"coerce\" : 에러가 나면 누락값으로 처리해라\n",
    "s"
   ]
  },
  {
   "cell_type": "code",
   "execution_count": 30,
   "id": "81b9abae-b6eb-45c2-bd79-30553896efd9",
   "metadata": {},
   "outputs": [
    {
     "data": {
      "text/plain": [
       "0    2025-02\n",
       "1    2025-03\n",
       "2    2025-04\n",
       "dtype: period[M]"
      ]
     },
     "execution_count": 30,
     "metadata": {},
     "output_type": "execute_result"
    }
   ],
   "source": [
    "# .dt  :  datetime 안의 값으로 접근  (.str이 문자열 안으로 접근하는것처럼)\n",
    "\n",
    "s.dt.year\n",
    "s.dt.month\n",
    "s.dt.dayofweek  # 요일  (0이 월요일)\n",
    "s.dt.day_name()\n",
    "s.dt.is_month_start    # 월초면 true\n",
    "s.dt.quarter   # 몇 분기인지\n",
    "s.dt.to_period(\"M\")   # "
   ]
  },
  {
   "cell_type": "code",
   "execution_count": null,
   "id": "78ce8052-7ce3-4308-b67d-7f88cf20ba34",
   "metadata": {},
   "outputs": [],
   "source": []
  },
  {
   "cell_type": "code",
   "execution_count": null,
   "id": "570a4029-401b-43ca-bc7b-9e5d756bfb50",
   "metadata": {},
   "outputs": [],
   "source": []
  },
  {
   "cell_type": "code",
   "execution_count": null,
   "id": "a3e9e5b1-5eff-44d2-9ff5-f8c8e926b486",
   "metadata": {},
   "outputs": [],
   "source": []
  },
  {
   "cell_type": "code",
   "execution_count": null,
   "id": "f67a0b4e-1015-413a-95de-d85fc38a981b",
   "metadata": {},
   "outputs": [],
   "source": []
  },
  {
   "cell_type": "code",
   "execution_count": null,
   "id": "f10ffdc9-7f73-4c05-bf62-fc765d0fbf8e",
   "metadata": {},
   "outputs": [],
   "source": []
  },
  {
   "cell_type": "code",
   "execution_count": null,
   "id": "17572edb-0d20-4ad3-bbec-ca64f4c842f2",
   "metadata": {},
   "outputs": [],
   "source": []
  }
 ],
 "metadata": {
  "kernelspec": {
   "display_name": "Python 3 (ipykernel)",
   "language": "python",
   "name": "python3"
  },
  "language_info": {
   "codemirror_mode": {
    "name": "ipython",
    "version": 3
   },
   "file_extension": ".py",
   "mimetype": "text/x-python",
   "name": "python",
   "nbconvert_exporter": "python",
   "pygments_lexer": "ipython3",
   "version": "3.12.7"
  }
 },
 "nbformat": 4,
 "nbformat_minor": 5
}
