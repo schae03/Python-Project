{
 "cells": [
  {
   "cell_type": "code",
   "execution_count": 3,
   "id": "8b7befaa-54f9-4600-a86b-94019fcf94af",
   "metadata": {},
   "outputs": [],
   "source": [
    "# 불 자료형 : 참과 거짓\n",
    "a = True\n",
    "b = False"
   ]
  },
  {
   "cell_type": "code",
   "execution_count": 4,
   "id": "6b4050ed-0887-4746-adf4-81f4a37a6432",
   "metadata": {},
   "outputs": [
    {
     "data": {
      "text/plain": [
       "True"
      ]
     },
     "execution_count": 4,
     "metadata": {},
     "output_type": "execute_result"
    }
   ],
   "source": [
    "5 >= 3"
   ]
  },
  {
   "cell_type": "code",
   "execution_count": 15,
   "id": "7f590a5d-c76f-456f-b609-2399ba2f79a9",
   "metadata": {},
   "outputs": [
    {
     "data": {
      "text/plain": [
       "True"
      ]
     },
     "execution_count": 15,
     "metadata": {},
     "output_type": "execute_result"
    }
   ],
   "source": [
    "# 모든 것은 참과 거짓으로 구분할 수가 있다.\n",
    "# 비어있으면 거짓  (숫자는 0 빼고 다 참)\n",
    "\n",
    "bool(5)        # True\n",
    "bool(-5)       # True\n",
    "bool(0)        # False\n",
    "bool([])       # False\n",
    "bool(\"\")       # False\n",
    "bool(\"t\")      # True"
   ]
  },
  {
   "cell_type": "code",
   "execution_count": 14,
   "id": "27bb5b9e-7654-4ca6-8f0a-f0dcc492dff3",
   "metadata": {},
   "outputs": [
    {
     "data": {
      "text/plain": [
       "True"
      ]
     },
     "execution_count": 14,
     "metadata": {},
     "output_type": "execute_result"
    }
   ],
   "source": [
    "# != : 다르다\n",
    "5 == True      # False. 5는 참이나, 참은 5가 아니므로\n",
    "bool(5) == True"
   ]
  },
  {
   "cell_type": "code",
   "execution_count": 16,
   "id": "cfce282e-cb9f-46d4-86da-e9a91df1b0f7",
   "metadata": {},
   "outputs": [
    {
     "data": {
      "text/plain": [
       "True"
      ]
     },
     "execution_count": 16,
     "metadata": {},
     "output_type": "execute_result"
    }
   ],
   "source": [
    "box = [1,2,3]\n",
    "all(box)          # all : 모든 값이 다 참이어야 True"
   ]
  },
  {
   "cell_type": "code",
   "execution_count": 17,
   "id": "cef23434-1d2c-4590-b4a0-bc140c0c7596",
   "metadata": {},
   "outputs": [
    {
     "data": {
      "text/plain": [
       "True"
      ]
     },
     "execution_count": 17,
     "metadata": {},
     "output_type": "execute_result"
    }
   ],
   "source": [
    "box = [0,0,0,5]\n",
    "any(box)          # any : 단 한개라도 참이면 True"
   ]
  },
  {
   "cell_type": "code",
   "execution_count": 20,
   "id": "4ae44f17-9d35-4eaa-9337-df08ce4dc98a",
   "metadata": {},
   "outputs": [
    {
     "data": {
      "text/plain": [
       "(False, True)"
      ]
     },
     "execution_count": 20,
     "metadata": {},
     "output_type": "execute_result"
    }
   ],
   "source": [
    "a = True             # True가 1\n",
    "b = False            # Fasle 0\n",
    "\n",
    "# and: a와 b가 모두 참이어야 참     //   or: a와 b 중 하나라도 참이면 참\n",
    "a and b, a or b"
   ]
  },
  {
   "cell_type": "code",
   "execution_count": 21,
   "id": "3e25a48f-e5a6-4f7b-a1ef-66d5ef74d916",
   "metadata": {},
   "outputs": [
    {
     "data": {
      "text/plain": [
       "0"
      ]
     },
     "execution_count": 21,
     "metadata": {},
     "output_type": "execute_result"
    }
   ],
   "source": [
    "int(\"5\") + int(\"3\")      # 8\n",
    "int(True)                # 1\n",
    "int(False)               # 0"
   ]
  },
  {
   "cell_type": "code",
   "execution_count": 22,
   "id": "303cc7ca-acfa-4628-bfe5-f58c78e24bb3",
   "metadata": {},
   "outputs": [
    {
     "data": {
      "text/plain": [
       "True"
      ]
     },
     "execution_count": 22,
     "metadata": {},
     "output_type": "execute_result"
    }
   ],
   "source": [
    "not b"
   ]
  },
  {
   "cell_type": "code",
   "execution_count": null,
   "id": "e396a0ca-4feb-4d47-b679-5854c9dbcfad",
   "metadata": {},
   "outputs": [],
   "source": []
  },
  {
   "cell_type": "code",
   "execution_count": null,
   "id": "ba6c385b-cfb3-4abb-969a-bc6917c882b5",
   "metadata": {},
   "outputs": [],
   "source": []
  }
 ],
 "metadata": {
  "kernelspec": {
   "display_name": "Python 3 (ipykernel)",
   "language": "python",
   "name": "python3"
  },
  "language_info": {
   "codemirror_mode": {
    "name": "ipython",
    "version": 3
   },
   "file_extension": ".py",
   "mimetype": "text/x-python",
   "name": "python",
   "nbconvert_exporter": "python",
   "pygments_lexer": "ipython3",
   "version": "3.12.7"
  }
 },
 "nbformat": 4,
 "nbformat_minor": 5
}
