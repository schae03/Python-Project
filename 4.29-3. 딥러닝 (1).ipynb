{
 "cells": [
  {
   "cell_type": "markdown",
   "id": "1834ab51-7844-4ad0-b5bc-059e1f209c63",
   "metadata": {},
   "source": [
    "# 딥러닝 (1)\n",
    "## 퍼셉트론  -  퍼셉트론이 은닉층이 하나라도 껴있으면 딥러닝\n",
    "퍼셉트론은 인공 신경망(Artificial Neural Network)의 가장 기본적인 구성 요소 중 하나로, 사람의 뇌에 있는 뉴런(신경 세포)의 작동 방식을 모방하여 만들어졌습니다. 간단히 말해, 여러 개의 입력을 받아 각각에 중요도(가중치)를 곱한 후, 모두 더한 값이 특정 기준치(임계값)를 넘으면 '활성화'(보통 1)되고, 넘지 못하면 '비활성화'(보통 0)되는 매우 단순한 분류기(Classifier)입니다."
   ]
  },
  {
   "cell_type": "code",
   "execution_count": 1,
   "id": "ab28136a-4aa1-4aab-a851-efff6e3da7e0",
   "metadata": {},
   "outputs": [],
   "source": [
    "import numpy as np"
   ]
  },
  {
   "cell_type": "markdown",
   "id": "89180794-840f-4843-a003-da99d1474d4e",
   "metadata": {},
   "source": [
    "### AND 게이트\n",
    "AND 게이트는 두 개의 입력이 모두 참(1)일 때만 결과가 참(1)이 되고, 그 외의 경우에는 모두 거짓(0)이 되는 논리 회로입니다."
   ]
  },
  {
   "cell_type": "code",
   "execution_count": 2,
   "id": "38c656dc-60da-47be-9617-278353206cae",
   "metadata": {},
   "outputs": [],
   "source": [
    "x = np.array([0.5, 0.3])\n",
    "w = np.array([0.2, -0.5])\n",
    "b = 0.3       # 편향"
   ]
  },
  {
   "cell_type": "code",
   "execution_count": 5,
   "id": "20c9efa0-5ca3-4879-b22c-a0ee695d792d",
   "metadata": {},
   "outputs": [
    {
     "data": {
      "text/plain": [
       "0.25"
      ]
     },
     "execution_count": 5,
     "metadata": {},
     "output_type": "execute_result"
    }
   ],
   "source": [
    "sum(x * w) + b    # y^값"
   ]
  },
  {
   "cell_type": "code",
   "execution_count": 12,
   "id": "2f3385c9-dbce-43c1-9201-267160760199",
   "metadata": {},
   "outputs": [],
   "source": [
    "# AND게이트 함수\n",
    "def AND(x1, x2):\n",
    "    x = np.array([x1, x2])\n",
    "    w = np.array([0.5, 0.5])\n",
    "    b = -0.7\n",
    "    value = sum(x*w) + b       # 이 value값이 어떤 임계를 넘으면 1을 return하게\n",
    "    if value > 0:\n",
    "        return 1\n",
    "    else:\n",
    "        return 0"
   ]
  },
  {
   "cell_type": "code",
   "execution_count": 13,
   "id": "c53246f9-4f45-4e62-8f64-2767beedd6c2",
   "metadata": {},
   "outputs": [
    {
     "name": "stdout",
     "output_type": "stream",
     "text": [
      "0\n",
      "0\n",
      "0\n",
      "1\n"
     ]
    }
   ],
   "source": [
    "# AND: 둘다 1일때만 1이어야함  <-  이조건만족하도록 위의 가중치 수정\n",
    "print(AND(0, 0))\n",
    "print(AND(0, 1))\n",
    "print(AND(1, 0))\n",
    "print(AND(1, 1))"
   ]
  },
  {
   "cell_type": "code",
   "execution_count": null,
   "id": "76dd0e5c-64b6-4c9d-876a-9110d62c0374",
   "metadata": {},
   "outputs": [],
   "source": []
  },
  {
   "cell_type": "markdown",
   "id": "1b08ad7e-1fd2-43d9-8134-5c6372a7afeb",
   "metadata": {},
   "source": [
    "### OR 게이트\n",
    "OR 게이트는 두 개의 입력 중 하나라도 참(1)이면 결과가 참(1)이 되고, 두 입력이 모두 거짓(0)일 때만 결과가 거짓(0)이 되는 논리 게이트입니다."
   ]
  },
  {
   "cell_type": "code",
   "execution_count": 40,
   "id": "600e7f0a-3c1a-4ec4-bb88-4290089473fc",
   "metadata": {},
   "outputs": [],
   "source": [
    "# OR게이트 함수\n",
    "def OR(x1, x2):\n",
    "    x = np.array([x1, x2])\n",
    "    w = np.array([0.5, 0.5])\n",
    "    b = -0.3\n",
    "    value = sum(x*w) + b       # 이 value값이 어떤 임계를 넘으면 1을 return하게\n",
    "    if value > 0:\n",
    "        return 1\n",
    "    else:\n",
    "        return 0"
   ]
  },
  {
   "cell_type": "code",
   "execution_count": 41,
   "id": "972425c1-ed03-49ba-a046-9f824ad5aabd",
   "metadata": {},
   "outputs": [
    {
     "name": "stdout",
     "output_type": "stream",
     "text": [
      "0\n",
      "1\n",
      "1\n",
      "1\n"
     ]
    }
   ],
   "source": [
    "# OR: 단하나라도 1이면 1  <-  이조건만족하도록 위의 가중치 수정\n",
    "print(OR(0, 0))\n",
    "print(OR(0, 1))\n",
    "print(OR(1, 0))\n",
    "print(OR(1, 1))"
   ]
  },
  {
   "cell_type": "markdown",
   "id": "435ef2c0-bee1-4833-a708-4e200f0accac",
   "metadata": {},
   "source": [
    "### NAND 게이트\n",
    "NAND 게이트는 두 개의 입력이 모두 참(1)일 때만 결과가 거짓(0)이 되고, 그 외의 경우에는 모두 참(1)이 되는 논리 게이트입니다."
   ]
  },
  {
   "cell_type": "code",
   "execution_count": 42,
   "id": "3695c139-93d7-4b90-94c8-b73b41b7097d",
   "metadata": {},
   "outputs": [],
   "source": [
    "# NAND게이트 함수 - AND의 반대\n",
    "def NAND(x1, x2):\n",
    "    x = np.array([x1, x2])\n",
    "    w = np.array([0.5, 0.5])\n",
    "    b = -0.7\n",
    "    value = sum(x*w) + b       # 이 value값이 어떤 임계를 넘으면 1을 return하게\n",
    "    if value > 0:\n",
    "        return 0\n",
    "    else:\n",
    "        return 1"
   ]
  },
  {
   "cell_type": "code",
   "execution_count": 43,
   "id": "bd54310f-53c5-4594-a3b9-f2f49cf8315e",
   "metadata": {},
   "outputs": [
    {
     "name": "stdout",
     "output_type": "stream",
     "text": [
      "1\n",
      "1\n",
      "1\n",
      "0\n"
     ]
    }
   ],
   "source": [
    "print(NAND(0, 0))\n",
    "print(NAND(0, 1))\n",
    "print(NAND(1, 0))\n",
    "print(NAND(1, 1))"
   ]
  },
  {
   "cell_type": "markdown",
   "id": "4838f332-bf32-4265-b8b2-9ec925b63964",
   "metadata": {},
   "source": [
    "# 비선형 게이트 "
   ]
  },
  {
   "cell_type": "markdown",
   "id": "b88ce7f1-5fc7-4a15-a80a-d184f431f9fc",
   "metadata": {},
   "source": [
    "### XOR 게이트\n",
    "XOR 게이트는 \"Exclusive OR(배타적 논리합)\"의 줄임말로, 두 개의 입력이 서로 다를 때만 결과가 참(1)이 되고, 두 입력이 서로 같으면 결과가 거짓(0)이 되는 논리 게이트입니다. XOR 게이트에 대해 설명해 드릴게요. XOR 게이트는 퍼셉트론의 역사에서 매우 중요한 의미를 가집니다. 바로 단일 퍼셉트론(Single Perceptron)으로는 해결할 수 없는 문제의 대표적인 예시이기 때문입니다."
   ]
  },
  {
   "cell_type": "code",
   "execution_count": 72,
   "id": "889416d1-b475-4e8f-abcf-71948d7c5ef2",
   "metadata": {},
   "outputs": [],
   "source": [
    "# XOR게이트 함수  <-  선형모델로는 불가능.\n",
    "# 딥러닝 : 선형모델으로 비선형모델을 표현\n",
    "def XOR(x1, x2):\n",
    "    s1 = NAND(x1, x2)\n",
    "    s2 = OR(x1, x2)\n",
    "    y = AND(s1, s2)\n",
    "    return y"
   ]
  },
  {
   "cell_type": "code",
   "execution_count": 71,
   "id": "5376c1ec-ea36-419c-9f60-111c8c04cdcd",
   "metadata": {},
   "outputs": [
    {
     "name": "stdout",
     "output_type": "stream",
     "text": [
      "0\n",
      "1\n",
      "1\n",
      "0\n"
     ]
    }
   ],
   "source": [
    "# XOR: 두 입력이 같을때는 0, 다르면 1 \n",
    "print(XOR(0, 0))\n",
    "print(XOR(0, 1))\n",
    "print(XOR(1, 0))\n",
    "print(XOR(1, 1))"
   ]
  },
  {
   "cell_type": "markdown",
   "id": "86366a6e-a540-4341-b4f2-d8f2188df99a",
   "metadata": {},
   "source": [
    "### 계단 함수\n",
    "계단 함수는 이름 그대로 그래프 모양이 계단처럼 생긴 아주 간단한 함수입니다. 하는 역할은 더 간단해요. 입력값이 특정 기준점(임계값, threshold)보다 크거나 같으면 하나의 값(보통 1)을 출력하고, 기준점보다 작으면 다른 값(보통 0)을 출력합니다."
   ]
  },
  {
   "cell_type": "code",
   "execution_count": 73,
   "id": "d5a3251f-e235-4f91-b496-ddc6d288f0ae",
   "metadata": {},
   "outputs": [],
   "source": [
    "def step_func(x):\n",
    "    y = x > 0\n",
    "    return y.astype(int)"
   ]
  },
  {
   "cell_type": "code",
   "execution_count": 81,
   "id": "ba358474-d368-4af1-be87-9464489e98a5",
   "metadata": {},
   "outputs": [
    {
     "data": {
      "image/png": "[encoded data removed]",
      "text/plain": [
       "<Figure size 640x480 with 1 Axes>"
      ]
     },
     "metadata": {},
     "output_type": "display_data"
    }
   ],
   "source": [
    "import matplotlib.pyplot as plt\n",
    "\n",
    "x = np.linspace(-5, 5, 1000)\n",
    "y = step_func(x)\n",
    "\n",
    "plt.plot(x,y)\n",
    "plt.axvline(0, color = \"red\", linestyle = \"--\")\n",
    "plt.grid()\n",
    "plt.show()\n",
    "\n",
    "# 비선형으로 표현하긴하지만, 정확하게 데이터를 표현해주진 못한다"
   ]
  },
  {
   "cell_type": "markdown",
   "id": "6681c858-03f2-48cc-908a-2e23ca2979af",
   "metadata": {},
   "source": [
    "### 시그모이드 함수\n",
    "시그모이드 함수는 로지스틱 함수(Logistic Function)라고도 불리며, 그 모양이 마치 알파벳 'S'자와 비슷하게 생긴 함수입니다. 이 함수의 가장 큰 특징은 어떤 입력값이 들어오든 출력값을 항상 0과 1 사이의 값으로 변환해준다는 것입니다."
   ]
  },
  {
   "cell_type": "code",
   "execution_count": 82,
   "id": "fb6526a1-c481-42fd-a5be-c4a08a9ad54e",
   "metadata": {},
   "outputs": [],
   "source": [
    "def sigmoid(x):\n",
    "    return 1 / (1 + np.exp(-x))"
   ]
  },
  {
   "cell_type": "code",
   "execution_count": 84,
   "id": "19be89c9-d020-4561-851d-e2136695591a",
   "metadata": {},
   "outputs": [
    {
     "data": {
      "image/png": "[encoded data removed]",
      "text/plain": [
       "<Figure size 640x480 with 1 Axes>"
      ]
     },
     "metadata": {},
     "output_type": "display_data"
    }
   ],
   "source": [
    "x = np.linspace(-10, 10, 1000)\n",
    "y = sigmoid(x)\n",
    "\n",
    "plt.plot(x,y)\n",
    "plt.axvline(0, color = \"red\", linestyle = \"--\")\n",
    "plt.grid()\n",
    "plt.show()"
   ]
  },
  {
   "cell_type": "code",
   "execution_count": null,
   "id": "fe9207e6-a0fd-40f7-9e08-6e1aa84ea632",
   "metadata": {},
   "outputs": [],
   "source": [
    "# 입력층 / 은닉층(여러게) / 출력층  =>  은닉층 여러개면  출력층에서의 오차값 미분해서 바로 앞 은닉층으로, 또 미분해서 그 앞 은닉층으로, ...\n",
    "# 딥러닝으로 은닉층 여러개만들면 오히려 학습이 안됨 \n",
    "# => 시그모이드 쓰면 값의 70%가 날라감  =>  기울기 소실 문제"
   ]
  },
  {
   "cell_type": "markdown",
   "id": "35f0da3e-108e-4402-99df-4b19aa661719",
   "metadata": {},
   "source": [
    "### 렐루 함수\n",
    "ReLU 함수는 정말 매우 매우 간단합니다. 작동 방식은 다음과 같습니다.\n",
    "* 입력값(x)이 0보다 크면, 입력값을 그대로 출력합니다.\n",
    "* 입력값(x)이 0 이하이면 (0 또는 음수), 0을 출력합니다."
   ]
  },
  {
   "cell_type": "code",
   "execution_count": 85,
   "id": "0257582a-069b-412c-a908-93741400aa54",
   "metadata": {},
   "outputs": [],
   "source": [
    "def relu(x):\n",
    "    return np.maximum(0, x)"
   ]
  },
  {
   "cell_type": "code",
   "execution_count": 86,
   "id": "a8697714-ef10-4eb3-b219-e610ffa74aac",
   "metadata": {},
   "outputs": [
    {
     "data": {
      "image/png": "[encoded data removed]",
      "text/plain": [
       "<Figure size 640x480 with 1 Axes>"
      ]
     },
     "metadata": {},
     "output_type": "display_data"
    }
   ],
   "source": [
    "x = np.linspace(-5, 5, 100)\n",
    "y = relu(x)\n",
    "\n",
    "plt.plot(x,y)\n",
    "plt.axvline(0, color = \"red\", linestyle = \"--\")\n",
    "plt.grid()\n",
    "plt.show()"
   ]
  },
  {
   "cell_type": "code",
   "execution_count": null,
   "id": "bd25f53c-6a15-413d-a80c-6fe5d5a7f265",
   "metadata": {},
   "outputs": [],
   "source": []
  },
  {
   "cell_type": "markdown",
   "id": "00ee7ca8-fd1c-4901-ad13-b71535fc7804",
   "metadata": {},
   "source": [
    "## 연습문제\n",
    "1. 입력 x1 = 1, x2 = 0 이 주어졌을 때, 다음 각 논리 게이트의 출력 y 값은 무엇일까요?\n",
    "* AND 게이트: y = ?\n",
    "* OR 게이트: y = ?\n",
    "* NAND 게이트: y = ?\n",
    "* XOR 게이트: y = ?"
   ]
  },
  {
   "cell_type": "code",
   "execution_count": 87,
   "id": "cd110d68-2761-497a-863e-3423f4dcb4ac",
   "metadata": {},
   "outputs": [
    {
     "name": "stdout",
     "output_type": "stream",
     "text": [
      "0\n",
      "1\n",
      "1\n",
      "1\n"
     ]
    }
   ],
   "source": [
    "print(AND(1, 0))   # 둘다 1일때만 1.\n",
    "print(OR(1, 0))\n",
    "print(NAND(1, 0))\n",
    "print(XOR(1, 0))   # 두개 다르니까 1"
   ]
  },
  {
   "cell_type": "markdown",
   "id": "387c0206-edf0-4b52-af24-1745915d3106",
   "metadata": {},
   "source": [
    "2. AND, OR, NAND, XOR 게이트 중에서, 단일 퍼셉트론으로 구현할 수 없는 게이트는 무엇인가요? 그 이유는 무엇인가요?AND, OR, NAND, XOR 게이트 중에서, 단일 퍼셉트론으로 구현할 수 없는 게이트는 무엇인가요? 그 이유는 무엇인가요?"
   ]
  },
  {
   "cell_type": "markdown",
   "id": "a2a3fc91-24dc-4791-be10-3ee75548101d",
   "metadata": {},
   "source": [
    "=> XOR 게이트. 선형으로는 구현할 수 없기 때문"
   ]
  },
  {
   "cell_type": "markdown",
   "id": "3e6a75f9-6c58-4784-9bca-2438eca24748",
   "metadata": {},
   "source": [
    "3. 입력값 x = -2 일 때, 다음 각 활성화 함수의 출력값을 (계산기를 사용하거나 손으로) 계산해 보세요. (시그모이드 계산 시 e≈2.718 로 가정)\n",
    "* 계단 함수 (임계값 0): step(-2) = ?\n",
    "* 시그모이드 함수: sigmoid(-2) = 1 / (1 + e^(-(-2))) = ?\n",
    "* ReLU 함수: ReLU(-2) = ?"
   ]
  },
  {
   "cell_type": "markdown",
   "id": "3d94c1d1-7dc7-454a-aa6b-71915e87b8e2",
   "metadata": {},
   "source": [
    "=> step(-2) = 0   \n",
    "sigmoid(-2) = 0.119   \n",
    "ReLU(-2) = 0   "
   ]
  },
  {
   "cell_type": "markdown",
   "id": "99318815-64b8-4f3a-9bc8-775fb5bdbc32",
   "metadata": {},
   "source": [
    "4. 다음 NumPy 배열 inputs 에 대해 계단 함수, 시그모이드 함수, ReLU 함수를 각각 적용한 결과 배열을 NumPy 코드로 작성하고 출력하세요."
   ]
  },
  {
   "cell_type": "code",
   "execution_count": 90,
   "id": "51b8706f-b28e-49dd-9497-791e744e077a",
   "metadata": {},
   "outputs": [
    {
     "name": "stdout",
     "output_type": "stream",
     "text": [
      "[0 0 0 1 1]\n",
      "[0.04742587 0.37754067 0.5        0.81757448 0.98201379]\n",
      "[0.  0.  0.  1.5 4. ]\n"
     ]
    }
   ],
   "source": [
    "inputs = np.array([-3.0, -0.5, 0.0, 1.5, 4.0])\n",
    "\n",
    "\n",
    "# 여기에 각 활성화 함수를 적용하는 코드를 작성하세요\n",
    "step_output = step_func(inputs)\n",
    "sigmoid_output = sigmoid(inputs)\n",
    "relu_output = relu(inputs)\n",
    "\n",
    "print(step_output)\n",
    "print(sigmoid_output)\n",
    "print(relu_output)"
   ]
  },
  {
   "cell_type": "markdown",
   "id": "7632ecd9-0056-453d-9034-92387610f6a3",
   "metadata": {},
   "source": [
    "5. 다음과 같이 3차원 NumPy 배열 arr3d 가 생성되었다고 가정합니다. 이 배열의 shape, ndim (차원 수), size (전체 요소 개수)를 확인하는 코드를 작성하고 결과를 예측해보세요."
   ]
  },
  {
   "cell_type": "code",
   "execution_count": 113,
   "id": "7a5bee7e-1025-4b4a-8a26-b8cc58182c8e",
   "metadata": {},
   "outputs": [
    {
     "data": {
      "text/plain": [
       "((2, 2, 2), 3, 8)"
      ]
     },
     "execution_count": 113,
     "metadata": {},
     "output_type": "execute_result"
    }
   ],
   "source": [
    "arr3d = np.array([[[10, 11], [12, 13]],\n",
    "                  [[20, 21], [22, 23]]])\n",
    "\n",
    "shape = arr3d.shape     # 2행 2열짜리가 2개 => 3차원\n",
    "ndim = arr3d.ndim\n",
    "size = arr3d.size\n",
    "\n",
    "shape, ndim, size"
   ]
  },
  {
   "cell_type": "markdown",
   "id": "acd530d8-5ca6-4cf1-8769-6adaab262bf6",
   "metadata": {},
   "source": [
    "6. 다음 행렬 A와 B의 shape가 주어졌을 때, 행렬 곱 A @ B 가 가능한지 판단하고, 가능하다면 결과 행렬의 shape는 무엇일지 예측하세요.\n",
    "* A.shape = (3, 4), B.shape = (4, 5) -> A @ B 가능? 결과 shape?\n",
    "* A.shape = (2, 3), B.shape = (2, 4) -> A @ B 가능? 결과 shape?\n",
    "* A.shape = (5, 1), B.shape = (1, 7) -> A @ B 가능? 결과 shape?\n",
    "* A.shape = (4, 2), B.shape = (3, 4) -> A @ B 가능? 결과 shape?"
   ]
  },
  {
   "cell_type": "markdown",
   "id": "1e439686-bb3d-491d-ba69-cf40cb4f5fbe",
   "metadata": {},
   "source": [
    "=> 1, 3번째 가능 : (3, 5), (5, 7)   \n",
    "2, 4번째 불가능"
   ]
  },
  {
   "cell_type": "markdown",
   "id": "dd78ad1a-f597-42f1-8a24-5c122864cf5a",
   "metadata": {},
   "source": [
    "7. 다음 두 행렬 matrix_a 와 matrix_b 의 행렬 곱(matrix_a @ matrix_b) 결과를 NumPy 코드로 계산하고 출력하세요."
   ]
  },
  {
   "cell_type": "code",
   "execution_count": 114,
   "id": "019f1b25-a7c9-4121-bb59-f640bd80ac14",
   "metadata": {},
   "outputs": [
    {
     "name": "stdout",
     "output_type": "stream",
     "text": [
      "[[ 4 -2  1]\n",
      " [-2  4  0]]\n",
      "(2, 2) (2, 3)\n"
     ]
    }
   ],
   "source": [
    "matrix_a = np.array([[1, -1],\n",
    "                     [0,  2]])\n",
    "\n",
    "matrix_b = np.array([[3, 0, 1],\n",
    "                     [-1, 2, 0]])\n",
    "\n",
    "# 행렬 곱 결과를 계산하고 출력하는 코드를 작성하세요\n",
    "print(matrix_a @ matrix_b)\n",
    "print(matrix_a.shape, matrix_b.shape)"
   ]
  },
  {
   "cell_type": "markdown",
   "id": "0940deb2-9b03-477d-b8e8-a645c4148e8c",
   "metadata": {},
   "source": [
    "8. 문제 7의 matrix_a 와 다음과 같은 matrix_c 에 대해, 행렬 곱 (@) 과 요소별 곱 (*) 을 각각 계산하고 그 결과가 어떻게 다른지 설명하세요."
   ]
  },
  {
   "cell_type": "code",
   "execution_count": 98,
   "id": "4151c76d-7641-4934-9aa7-ab84f14d06ad",
   "metadata": {},
   "outputs": [
    {
     "name": "stdout",
     "output_type": "stream",
     "text": [
      "[[ 2  3]\n",
      " [ 6 -4]]\n",
      "[[ 5 -1]\n",
      " [ 0 -4]]\n"
     ]
    }
   ],
   "source": [
    "matrix_a = np.array([[1, -1],\n",
    "                     [0,  2]])\n",
    "\n",
    "matrix_c = np.array([[5, 1],\n",
    "                     [3, -2]])\n",
    "\n",
    "print(matrix_a @ matrix_c)\n",
    "print(matrix_a * matrix_c)"
   ]
  },
  {
   "cell_type": "markdown",
   "id": "9a23d8d9-7923-4258-ba8c-eaf51c143a73",
   "metadata": {},
   "source": [
    "9. 입력 x = [0.5, -1.0], 가중치 w = [0.8, 0.3], 편향 b = -0.1 인 퍼셉트론이 있다고 가정합니다.\n",
    "* 가중합 z = (x[0]*w[0] + x[1]*w[1]) + b 를 계산하세요.\n",
    "* 계산된 가중합 z 에 계단 함수(임계값 0)를 적용한 최종 출력값 y 를 구하세요.\n",
    "\n",
    "(NumPy를 사용해도 좋고, 직접 계산해도 좋습니다.)"
   ]
  },
  {
   "cell_type": "code",
   "execution_count": 118,
   "id": "b1ef17bd-2fac-48ac-9862-448fb1a9a4a2",
   "metadata": {},
   "outputs": [
    {
     "data": {
      "text/plain": [
       "1"
      ]
     },
     "execution_count": 118,
     "metadata": {},
     "output_type": "execute_result"
    }
   ],
   "source": [
    "x = np.array([0.5, -1.0])\n",
    "w = np.array([0.8, 0.3])\n",
    "b = -0.1\n",
    "\n",
    "# z = (x[0]*w[0] + x[1]*w[1]) + b\n",
    "z = sum(x * w) + b\n",
    "y = step_func(z)\n",
    "y"
   ]
  },
  {
   "cell_type": "markdown",
   "id": "30b4cc39-88f9-4575-9a0b-70243880a99e",
   "metadata": {},
   "source": [
    "10. 문제 9에서 계산된 가중합 z 값을 다음 활성화 함수에 각각 적용했을 때의 출력값을 계산하세요. (NumPy 함수 사용 권장)\n",
    "* 시그모이드 함수: sigmoid(z) = ?\n",
    "* ReLU 함수: ReLU(z) = ?"
   ]
  },
  {
   "cell_type": "code",
   "execution_count": 119,
   "id": "94815826-3d0d-4bc2-897f-875919a48305",
   "metadata": {},
   "outputs": [
    {
     "data": {
      "text/plain": [
       "(0.5, 2.7755575615628914e-17)"
      ]
     },
     "execution_count": 119,
     "metadata": {},
     "output_type": "execute_result"
    }
   ],
   "source": [
    "sigmoid(z), relu(z)"
   ]
  },
  {
   "cell_type": "code",
   "execution_count": null,
   "id": "71caf29b-fa77-416a-9333-ac72dc0427fc",
   "metadata": {},
   "outputs": [],
   "source": []
  }
 ],
 "metadata": {
  "kernelspec": {
   "display_name": "Python 3 (ipykernel)",
   "language": "python",
   "name": "python3"
  },
  "language_info": {
   "codemirror_mode": {
    "name": "ipython",
    "version": 3
   },
   "file_extension": ".py",
   "mimetype": "text/x-python",
   "name": "python",
   "nbconvert_exporter": "python",
   "pygments_lexer": "ipython3",
   "version": "3.12.7"
  }
 },
 "nbformat": 4,
 "nbformat_minor": 5
}
