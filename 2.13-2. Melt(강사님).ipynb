{
 "cells": [
  {
   "cell_type": "markdown",
   "id": "627be917-f781-477c-92b6-7bf8a12a6730",
   "metadata": {},
   "source": [
    "# Melt\n",
    "pandas.melt 함수는 데이터프레임의 구조를 wide(넓은) 형식에서 long(긴) 형식으로 변환할 때 사용하는 매우 유용한 함수입니다. 이를 통해 여러 열로 분리되어 있는 데이터를 하나의 열로 모으거나, 분석 및 시각화에 보다 적합한 형태로 재구조화할 수 있습니다.\n",
    "\n",
    "* Wide Format: 데이터가 여러 열에 걸쳐 분포되어 있는 형태입니다.\n",
    "  예를 들어, 학생들의 여러 시험 점수가 각기 다른 열에 저장되어 있는 경우가 해당됩니다.\n",
    "* Long Format: 데이터가 한 열에 변수의 이름(예: 시험 이름)과 다른 열에 값(예: 점수)으로 저장된 형태입니다. 분석 도구나 시각화 라이브러리에서는 long format이 더 유리할 때가 많습니다."
   ]
  },
  {
   "cell_type": "code",
   "execution_count": 2,
   "id": "1e288255-24c8-4d3a-86af-9fdf88d8b0c0",
   "metadata": {},
   "outputs": [
    {
     "data": {
      "text/html": [
       "<div>\n",
       "<style scoped>\n",
       "    .dataframe tbody tr th:only-of-type {\n",
       "        vertical-align: middle;\n",
       "    }\n",
       "\n",
       "    .dataframe tbody tr th {\n",
       "        vertical-align: top;\n",
       "    }\n",
       "\n",
       "    .dataframe thead th {\n",
       "        text-align: right;\n",
       "    }\n",
       "</style>\n",
       "<table border=\"1\" class=\"dataframe\">\n",
       "  <thead>\n",
       "    <tr style=\"text-align: right;\">\n",
       "      <th></th>\n",
       "      <th>religion</th>\n",
       "      <th>&lt;$10k</th>\n",
       "      <th>$10-20k</th>\n",
       "      <th>$20-30k</th>\n",
       "      <th>$30-40k</th>\n",
       "      <th>$40-50k</th>\n",
       "      <th>$50-75k</th>\n",
       "      <th>$75-100k</th>\n",
       "      <th>$100-150k</th>\n",
       "      <th>&gt;150k</th>\n",
       "      <th>Don't know/refused</th>\n",
       "    </tr>\n",
       "  </thead>\n",
       "  <tbody>\n",
       "    <tr>\n",
       "      <th>0</th>\n",
       "      <td>Agnostic</td>\n",
       "      <td>27</td>\n",
       "      <td>34</td>\n",
       "      <td>60</td>\n",
       "      <td>81</td>\n",
       "      <td>76</td>\n",
       "      <td>137</td>\n",
       "      <td>122</td>\n",
       "      <td>109</td>\n",
       "      <td>84</td>\n",
       "      <td>96</td>\n",
       "    </tr>\n",
       "    <tr>\n",
       "      <th>1</th>\n",
       "      <td>Atheist</td>\n",
       "      <td>12</td>\n",
       "      <td>27</td>\n",
       "      <td>37</td>\n",
       "      <td>52</td>\n",
       "      <td>35</td>\n",
       "      <td>70</td>\n",
       "      <td>73</td>\n",
       "      <td>59</td>\n",
       "      <td>74</td>\n",
       "      <td>76</td>\n",
       "    </tr>\n",
       "    <tr>\n",
       "      <th>2</th>\n",
       "      <td>Buddhist</td>\n",
       "      <td>27</td>\n",
       "      <td>21</td>\n",
       "      <td>30</td>\n",
       "      <td>34</td>\n",
       "      <td>33</td>\n",
       "      <td>58</td>\n",
       "      <td>62</td>\n",
       "      <td>39</td>\n",
       "      <td>53</td>\n",
       "      <td>54</td>\n",
       "    </tr>\n",
       "    <tr>\n",
       "      <th>3</th>\n",
       "      <td>Catholic</td>\n",
       "      <td>418</td>\n",
       "      <td>617</td>\n",
       "      <td>732</td>\n",
       "      <td>670</td>\n",
       "      <td>638</td>\n",
       "      <td>1116</td>\n",
       "      <td>949</td>\n",
       "      <td>792</td>\n",
       "      <td>633</td>\n",
       "      <td>1489</td>\n",
       "    </tr>\n",
       "    <tr>\n",
       "      <th>4</th>\n",
       "      <td>Don’t know/refused</td>\n",
       "      <td>15</td>\n",
       "      <td>14</td>\n",
       "      <td>15</td>\n",
       "      <td>11</td>\n",
       "      <td>10</td>\n",
       "      <td>35</td>\n",
       "      <td>21</td>\n",
       "      <td>17</td>\n",
       "      <td>18</td>\n",
       "      <td>116</td>\n",
       "    </tr>\n",
       "  </tbody>\n",
       "</table>\n",
       "</div>"
      ],
      "text/plain": [
       "             religion  <$10k  $10-20k  $20-30k  $30-40k  $40-50k  $50-75k  \\\n",
       "0            Agnostic     27       34       60       81       76      137   \n",
       "1             Atheist     12       27       37       52       35       70   \n",
       "2            Buddhist     27       21       30       34       33       58   \n",
       "3            Catholic    418      617      732      670      638     1116   \n",
       "4  Don’t know/refused     15       14       15       11       10       35   \n",
       "\n",
       "   $75-100k  $100-150k  >150k  Don't know/refused  \n",
       "0       122        109     84                  96  \n",
       "1        73         59     74                  76  \n",
       "2        62         39     53                  54  \n",
       "3       949        792    633                1489  \n",
       "4        21         17     18                 116  "
      ]
     },
     "execution_count": 2,
     "metadata": {},
     "output_type": "execute_result"
    }
   ],
   "source": [
    "import pandas as pd\n",
    "\n",
    "pew = pd.read_csv(\"pew.csv\")\n",
    "pew.head()"
   ]
  },
  {
   "cell_type": "markdown",
   "id": "a7d7f118-de28-4829-a07d-6391c904aeaa",
   "metadata": {},
   "source": [
    "## 함수 주요 파라미터\n",
    "* frame: 변환할 데이터프레임.\n",
    "* id_vars: 고정할(식별자 역할을 하는) 열의 이름이나 리스트. 이 열들은 melt 후에도 그대로 유지됩니다.\n",
    "* value_vars: 변환 대상(녹여낼) 열의 이름이나 리스트. 이 열들의 값들이 하나의 열로 합쳐집니다. 지정하지 않으면, id_vars에 포함되지 않은 모든 열이 대상이 됩니다.\n",
    "* var_name: 새로운 \"변수 이름\" 열의 이름을 지정합니다. 지정하지 않으면 기본적으로 'variable'이라는 이름이 사용됩니다.\n",
    "* value_name: 새로운 \"값\" 열의 이름을 지정합니다. 기본값은 'value'입니다.\n",
    "* col_level: 멀티인덱스 컬럼을 가진 경우, 특정 레벨을 지정할 수 있습니다.\n",
    "* ignore_index: 결과 데이터프레임의 인덱스를 무시하고 0부터 다시 생성할지 여부를 결정합니다. (기본값은 True)"
   ]
  },
  {
   "cell_type": "code",
   "execution_count": 4,
   "id": "73ed1401-136a-4f62-a648-d7bbdd5e8d73",
   "metadata": {},
   "outputs": [
    {
     "data": {
      "text/html": [
       "<div>\n",
       "<style scoped>\n",
       "    .dataframe tbody tr th:only-of-type {\n",
       "        vertical-align: middle;\n",
       "    }\n",
       "\n",
       "    .dataframe tbody tr th {\n",
       "        vertical-align: top;\n",
       "    }\n",
       "\n",
       "    .dataframe thead th {\n",
       "        text-align: right;\n",
       "    }\n",
       "</style>\n",
       "<table border=\"1\" class=\"dataframe\">\n",
       "  <thead>\n",
       "    <tr style=\"text-align: right;\">\n",
       "      <th></th>\n",
       "      <th>religion</th>\n",
       "      <th>income</th>\n",
       "      <th>count</th>\n",
       "    </tr>\n",
       "  </thead>\n",
       "  <tbody>\n",
       "    <tr>\n",
       "      <th>0</th>\n",
       "      <td>Agnostic</td>\n",
       "      <td>&lt;$10k</td>\n",
       "      <td>27</td>\n",
       "    </tr>\n",
       "    <tr>\n",
       "      <th>1</th>\n",
       "      <td>Atheist</td>\n",
       "      <td>&lt;$10k</td>\n",
       "      <td>12</td>\n",
       "    </tr>\n",
       "    <tr>\n",
       "      <th>2</th>\n",
       "      <td>Buddhist</td>\n",
       "      <td>&lt;$10k</td>\n",
       "      <td>27</td>\n",
       "    </tr>\n",
       "    <tr>\n",
       "      <th>3</th>\n",
       "      <td>Catholic</td>\n",
       "      <td>&lt;$10k</td>\n",
       "      <td>418</td>\n",
       "    </tr>\n",
       "    <tr>\n",
       "      <th>4</th>\n",
       "      <td>Don’t know/refused</td>\n",
       "      <td>&lt;$10k</td>\n",
       "      <td>15</td>\n",
       "    </tr>\n",
       "    <tr>\n",
       "      <th>...</th>\n",
       "      <td>...</td>\n",
       "      <td>...</td>\n",
       "      <td>...</td>\n",
       "    </tr>\n",
       "    <tr>\n",
       "      <th>175</th>\n",
       "      <td>Orthodox</td>\n",
       "      <td>Don't know/refused</td>\n",
       "      <td>73</td>\n",
       "    </tr>\n",
       "    <tr>\n",
       "      <th>176</th>\n",
       "      <td>Other Christian</td>\n",
       "      <td>Don't know/refused</td>\n",
       "      <td>18</td>\n",
       "    </tr>\n",
       "    <tr>\n",
       "      <th>177</th>\n",
       "      <td>Other Faiths</td>\n",
       "      <td>Don't know/refused</td>\n",
       "      <td>71</td>\n",
       "    </tr>\n",
       "    <tr>\n",
       "      <th>178</th>\n",
       "      <td>Other World Religions</td>\n",
       "      <td>Don't know/refused</td>\n",
       "      <td>8</td>\n",
       "    </tr>\n",
       "    <tr>\n",
       "      <th>179</th>\n",
       "      <td>Unaffiliated</td>\n",
       "      <td>Don't know/refused</td>\n",
       "      <td>597</td>\n",
       "    </tr>\n",
       "  </tbody>\n",
       "</table>\n",
       "<p>180 rows × 3 columns</p>\n",
       "</div>"
      ],
      "text/plain": [
       "                  religion              income  count\n",
       "0                 Agnostic               <$10k     27\n",
       "1                  Atheist               <$10k     12\n",
       "2                 Buddhist               <$10k     27\n",
       "3                 Catholic               <$10k    418\n",
       "4       Don’t know/refused               <$10k     15\n",
       "..                     ...                 ...    ...\n",
       "175               Orthodox  Don't know/refused     73\n",
       "176        Other Christian  Don't know/refused     18\n",
       "177           Other Faiths  Don't know/refused     71\n",
       "178  Other World Religions  Don't know/refused      8\n",
       "179           Unaffiliated  Don't know/refused    597\n",
       "\n",
       "[180 rows x 3 columns]"
      ]
     },
     "execution_count": 4,
     "metadata": {},
     "output_type": "execute_result"
    }
   ],
   "source": [
    "pew2 = pd.melt(pew, id_vars = \"religion\", var_name = \"income\", value_name = \"count\")\n",
    "pew2"
   ]
  },
  {
   "cell_type": "markdown",
   "id": "552eb767-f650-456a-b415-c325e4df63f8",
   "metadata": {},
   "source": [
    "# .str 접근자\n",
    "Pandas의 .str 접근자는 Series(혹은 Index) 내에 저장된 문자열 데이터를 효율적으로 다루기 위한 벡터화된(string vectorized) 문자열 연산 기능을 제공합니다. 이는 파이썬의 기본 문자열 함수들을 for문 등 반복문 없이 Series의 모든 요소에 동시에 적용할 수 있도록 해주어, 코드 작성이 간결해지고 성능상 이점도 있습니다.\n",
    "\n",
    "* 소문자/대문자 변환"
   ]
  },
  {
   "cell_type": "code",
   "execution_count": 6,
   "id": "81df0f0c-f854-4404-ab7b-3c53d9841ffd",
   "metadata": {},
   "outputs": [
    {
     "data": {
      "text/plain": [
       "0     apple\n",
       "1    banana\n",
       "2    cherry\n",
       "dtype: object"
      ]
     },
     "execution_count": 6,
     "metadata": {},
     "output_type": "execute_result"
    }
   ],
   "source": [
    "s = pd.Series(['Apple', 'Banana', 'Cherry'])\n",
    "s.str.lower()"
   ]
  },
  {
   "cell_type": "code",
   "execution_count": 7,
   "id": "7e53af3f-47c2-460c-a4ca-2c4b2d9e1d61",
   "metadata": {},
   "outputs": [
    {
     "data": {
      "text/plain": [
       "0     APPLE\n",
       "1    BANANA\n",
       "2    CHERRY\n",
       "dtype: object"
      ]
     },
     "execution_count": 7,
     "metadata": {},
     "output_type": "execute_result"
    }
   ],
   "source": [
    "s.str.upper()"
   ]
  },
  {
   "cell_type": "markdown",
   "id": "48e5206c-6034-427b-bc16-bc146782a6f6",
   "metadata": {},
   "source": [
    "* 문자열 길이 구하기"
   ]
  },
  {
   "cell_type": "code",
   "execution_count": 8,
   "id": "682f3878-d55f-4951-9b01-6e9d889c0f20",
   "metadata": {},
   "outputs": [
    {
     "data": {
      "text/plain": [
       "0    5\n",
       "1    6\n",
       "2    6\n",
       "dtype: int64"
      ]
     },
     "execution_count": 8,
     "metadata": {},
     "output_type": "execute_result"
    }
   ],
   "source": [
    "s.str.len()"
   ]
  },
  {
   "cell_type": "markdown",
   "id": "bc4ca937-9245-4d23-87ed-54e34299d0cd",
   "metadata": {},
   "source": [
    "* 특정 문자열 포함 여부 확인 (contains)"
   ]
  },
  {
   "cell_type": "code",
   "execution_count": 9,
   "id": "75544cf4-1778-4c7f-b7eb-b23dede1ac68",
   "metadata": {},
   "outputs": [
    {
     "data": {
      "text/plain": [
       "0    False\n",
       "1     True\n",
       "2    False\n",
       "dtype: bool"
      ]
     },
     "execution_count": 9,
     "metadata": {},
     "output_type": "execute_result"
    }
   ],
   "source": [
    "s.str.contains('an')"
   ]
  },
  {
   "cell_type": "markdown",
   "id": "fddf0a1e-e916-4df6-a8d6-f873481bdfd9",
   "metadata": {},
   "source": [
    "* 문자열 시작/끝 여부 확인"
   ]
  },
  {
   "cell_type": "code",
   "execution_count": 12,
   "id": "56403a27-7da8-4fad-bb9a-a235cd9c97c9",
   "metadata": {},
   "outputs": [
    {
     "data": {
      "text/plain": [
       "0     True\n",
       "1    False\n",
       "2    False\n",
       "dtype: bool"
      ]
     },
     "execution_count": 12,
     "metadata": {},
     "output_type": "execute_result"
    }
   ],
   "source": [
    "s.str.startswith('A')"
   ]
  },
  {
   "cell_type": "code",
   "execution_count": 13,
   "id": "20c09f14-d9db-4c7b-ae8d-3227677eadc3",
   "metadata": {},
   "outputs": [
    {
     "data": {
      "text/plain": [
       "0    False\n",
       "1    False\n",
       "2     True\n",
       "dtype: bool"
      ]
     },
     "execution_count": 13,
     "metadata": {},
     "output_type": "execute_result"
    }
   ],
   "source": [
    "s.str.endswith('y')"
   ]
  },
  {
   "cell_type": "markdown",
   "id": "a43d42f3-0ba4-49d5-9328-c8e7cc19ab18",
   "metadata": {},
   "source": [
    "* 문자열 분할 (split)"
   ]
  },
  {
   "cell_type": "code",
   "execution_count": 14,
   "id": "4fc98c29-c758-4dbd-bda0-df4888f57c9f",
   "metadata": {},
   "outputs": [
    {
     "data": {
      "text/plain": [
       "0         [John, Doe]\n",
       "1       [Jane, Smith]\n",
       "2    [Alice, Johnson]\n",
       "dtype: object"
      ]
     },
     "execution_count": 14,
     "metadata": {},
     "output_type": "execute_result"
    }
   ],
   "source": [
    "s2 = pd.Series(['John Doe', 'Jane Smith', 'Alice Johnson'])\n",
    "# 공백을 기준으로 분할하여 리스트로 반환\n",
    "s2.str.split()"
   ]
  },
  {
   "cell_type": "markdown",
   "id": "39d2a46c-1e3e-463c-a714-6f6b55f52b19",
   "metadata": {},
   "source": [
    "* 문자열 연결 (join)"
   ]
  },
  {
   "cell_type": "code",
   "execution_count": 15,
   "id": "01a51491-d0d6-4f39-b7c8-1fd58da858f3",
   "metadata": {},
   "outputs": [
    {
     "data": {
      "text/plain": [
       "0    2025-02-13\n",
       "1    2025-03-01\n",
       "dtype: object"
      ]
     },
     "execution_count": 15,
     "metadata": {},
     "output_type": "execute_result"
    }
   ],
   "source": [
    "# 리스트 형태의 문자열을 '-'로 연결\n",
    "s3 = pd.Series([['2025', '02', '13'], ['2025', '03', '01']])\n",
    "s3.str.join('-')"
   ]
  },
  {
   "cell_type": "markdown",
   "id": "1c36402f-8052-4dcf-b2f2-324372eed64b",
   "metadata": {},
   "source": [
    "* 문자열 치환 (replace)"
   ]
  },
  {
   "cell_type": "code",
   "execution_count": 16,
   "id": "6f51e7ac-bccd-472e-83f6-159e5f281d97",
   "metadata": {},
   "outputs": [
    {
     "data": {
      "text/plain": [
       "0     apple tart\n",
       "1    banana tart\n",
       "2    cherry tart\n",
       "dtype: object"
      ]
     },
     "execution_count": 16,
     "metadata": {},
     "output_type": "execute_result"
    }
   ],
   "source": [
    "s4 = pd.Series(['apple pie', 'banana pie', 'cherry pie'])\n",
    "# 'pie'를 'tart'로 변경 (정규표현식 사용 가능)\n",
    "s4.str.replace('pie', 'tart')"
   ]
  },
  {
   "cell_type": "markdown",
   "id": "e34024d4-08af-4101-bd44-bb8c7b7d03f7",
   "metadata": {},
   "source": [
    "* 정규표현식 기반 추출 (extract)"
   ]
  },
  {
   "cell_type": "code",
   "execution_count": 19,
   "id": "f63d8cf1-d885-44a2-9cc6-dc5cbd78427c",
   "metadata": {},
   "outputs": [
    {
     "data": {
      "text/html": [
       "<div>\n",
       "<style scoped>\n",
       "    .dataframe tbody tr th:only-of-type {\n",
       "        vertical-align: middle;\n",
       "    }\n",
       "\n",
       "    .dataframe tbody tr th {\n",
       "        vertical-align: top;\n",
       "    }\n",
       "\n",
       "    .dataframe thead th {\n",
       "        text-align: right;\n",
       "    }\n",
       "</style>\n",
       "<table border=\"1\" class=\"dataframe\">\n",
       "  <thead>\n",
       "    <tr style=\"text-align: right;\">\n",
       "      <th></th>\n",
       "      <th>0</th>\n",
       "    </tr>\n",
       "  </thead>\n",
       "  <tbody>\n",
       "    <tr>\n",
       "      <th>0</th>\n",
       "      <td>12345</td>\n",
       "    </tr>\n",
       "    <tr>\n",
       "      <th>1</th>\n",
       "      <td>67890</td>\n",
       "    </tr>\n",
       "  </tbody>\n",
       "</table>\n",
       "</div>"
      ],
      "text/plain": [
       "       0\n",
       "0  12345\n",
       "1  67890"
      ]
     },
     "execution_count": 19,
     "metadata": {},
     "output_type": "execute_result"
    }
   ],
   "source": [
    "s5 = pd.Series(['Order: 12345', 'Order: 67890'])\n",
    "# 숫자 부분만 추출\n",
    "s5.str.extract(r'(\\d+)')"
   ]
  },
  {
   "cell_type": "markdown",
   "id": "96813582-e197-4e93-bdc8-d99c05b43cb7",
   "metadata": {},
   "source": [
    "* 문자열 트리밍 (strip, lstrip, rstrip)"
   ]
  },
  {
   "cell_type": "code",
   "execution_count": 22,
   "id": "321d29e8-0aa6-4e30-bf8f-528c5aa9c55f",
   "metadata": {},
   "outputs": [
    {
     "data": {
      "text/plain": [
       "0    hello\n",
       "1    world\n",
       "dtype: object"
      ]
     },
     "execution_count": 22,
     "metadata": {},
     "output_type": "execute_result"
    }
   ],
   "source": [
    "s6 = pd.Series(['  hello  ', '  world'])\n",
    "s6.str.strip()   # 양쪽 공백 제거"
   ]
  },
  {
   "cell_type": "code",
   "execution_count": 24,
   "id": "fd903223-17b1-489b-b049-2b2bb3b27d15",
   "metadata": {},
   "outputs": [
    {
     "data": {
      "text/plain": [
       "0    hello  \n",
       "1      world\n",
       "dtype: object"
      ]
     },
     "execution_count": 24,
     "metadata": {},
     "output_type": "execute_result"
    }
   ],
   "source": [
    "s6.str.lstrip()  # 왼쪽 공백 제거"
   ]
  },
  {
   "cell_type": "code",
   "execution_count": 25,
   "id": "0b2b9d7c-256a-40be-97bc-ea4ba346e8f5",
   "metadata": {},
   "outputs": [
    {
     "data": {
      "text/plain": [
       "0      hello\n",
       "1      world\n",
       "dtype: object"
      ]
     },
     "execution_count": 25,
     "metadata": {},
     "output_type": "execute_result"
    }
   ],
   "source": [
    "s6.str.rstrip()  # 오른쪽 공백 제거"
   ]
  },
  {
   "cell_type": "markdown",
   "id": "879798ea-f729-41ee-9b3e-1d912ba59f2f",
   "metadata": {},
   "source": [
    "* 문자열 패딩 (pad, zfill)"
   ]
  },
  {
   "cell_type": "code",
   "execution_count": 26,
   "id": "4070a46a-9bed-4f39-b0b8-c3f40d304617",
   "metadata": {},
   "outputs": [
    {
     "data": {
      "text/plain": [
       "0    001\n",
       "1    012\n",
       "2    123\n",
       "dtype: object"
      ]
     },
     "execution_count": 26,
     "metadata": {},
     "output_type": "execute_result"
    }
   ],
   "source": [
    "s7 = pd.Series(['1', '12', '123'])\n",
    "# 왼쪽을 0으로 채워 3자리 문자열로 만듦\n",
    "s7.str.zfill(3)"
   ]
  },
  {
   "cell_type": "markdown",
   "id": "a45fbdf8-5dd3-4e70-9878-96bb97651e1a",
   "metadata": {},
   "source": [
    "* 대체 작업 (get_dummies)"
   ]
  },
  {
   "cell_type": "code",
   "execution_count": 27,
   "id": "92f73883-2f71-47fe-980e-d20325305fe4",
   "metadata": {},
   "outputs": [
    {
     "data": {
      "text/html": [
       "<div>\n",
       "<style scoped>\n",
       "    .dataframe tbody tr th:only-of-type {\n",
       "        vertical-align: middle;\n",
       "    }\n",
       "\n",
       "    .dataframe tbody tr th {\n",
       "        vertical-align: top;\n",
       "    }\n",
       "\n",
       "    .dataframe thead th {\n",
       "        text-align: right;\n",
       "    }\n",
       "</style>\n",
       "<table border=\"1\" class=\"dataframe\">\n",
       "  <thead>\n",
       "    <tr style=\"text-align: right;\">\n",
       "      <th></th>\n",
       "      <th>blue</th>\n",
       "      <th>green</th>\n",
       "      <th>red</th>\n",
       "    </tr>\n",
       "  </thead>\n",
       "  <tbody>\n",
       "    <tr>\n",
       "      <th>0</th>\n",
       "      <td>0</td>\n",
       "      <td>0</td>\n",
       "      <td>1</td>\n",
       "    </tr>\n",
       "    <tr>\n",
       "      <th>1</th>\n",
       "      <td>1</td>\n",
       "      <td>0</td>\n",
       "      <td>0</td>\n",
       "    </tr>\n",
       "    <tr>\n",
       "      <th>2</th>\n",
       "      <td>0</td>\n",
       "      <td>0</td>\n",
       "      <td>1</td>\n",
       "    </tr>\n",
       "    <tr>\n",
       "      <th>3</th>\n",
       "      <td>0</td>\n",
       "      <td>1</td>\n",
       "      <td>0</td>\n",
       "    </tr>\n",
       "  </tbody>\n",
       "</table>\n",
       "</div>"
      ],
      "text/plain": [
       "   blue  green  red\n",
       "0     0      0    1\n",
       "1     1      0    0\n",
       "2     0      0    1\n",
       "3     0      1    0"
      ]
     },
     "execution_count": 27,
     "metadata": {},
     "output_type": "execute_result"
    }
   ],
   "source": [
    "s8 = pd.Series(['red', 'blue', 'red', 'green'])\n",
    "s8.str.get_dummies()"
   ]
  },
  {
   "cell_type": "markdown",
   "id": "9f68cca6-4a3f-49ba-b0cb-4df1031e2a69",
   "metadata": {},
   "source": [
    "## 연습문제\n",
    "1. 이 데이터를 long format으로 변환하세요.\n",
    "결과 DataFrame은 다음 열을 포함해야 합니다. (학생, 과목, 점수)."
   ]
  },
  {
   "cell_type": "code",
   "execution_count": 6,
   "id": "b1e8fa48-ea2e-40f9-a4d2-02d7b4c3ca5e",
   "metadata": {},
   "outputs": [
    {
     "data": {
      "text/html": [
       "<div>\n",
       "<style scoped>\n",
       "    .dataframe tbody tr th:only-of-type {\n",
       "        vertical-align: middle;\n",
       "    }\n",
       "\n",
       "    .dataframe tbody tr th {\n",
       "        vertical-align: top;\n",
       "    }\n",
       "\n",
       "    .dataframe thead th {\n",
       "        text-align: right;\n",
       "    }\n",
       "</style>\n",
       "<table border=\"1\" class=\"dataframe\">\n",
       "  <thead>\n",
       "    <tr style=\"text-align: right;\">\n",
       "      <th></th>\n",
       "      <th>학생</th>\n",
       "      <th>과목</th>\n",
       "      <th>점수</th>\n",
       "    </tr>\n",
       "  </thead>\n",
       "  <tbody>\n",
       "    <tr>\n",
       "      <th>0</th>\n",
       "      <td>철수</td>\n",
       "      <td>수학</td>\n",
       "      <td>80</td>\n",
       "    </tr>\n",
       "    <tr>\n",
       "      <th>1</th>\n",
       "      <td>영희</td>\n",
       "      <td>수학</td>\n",
       "      <td>90</td>\n",
       "    </tr>\n",
       "    <tr>\n",
       "      <th>2</th>\n",
       "      <td>민수</td>\n",
       "      <td>수학</td>\n",
       "      <td>75</td>\n",
       "    </tr>\n",
       "    <tr>\n",
       "      <th>3</th>\n",
       "      <td>철수</td>\n",
       "      <td>영어</td>\n",
       "      <td>85</td>\n",
       "    </tr>\n",
       "    <tr>\n",
       "      <th>4</th>\n",
       "      <td>영희</td>\n",
       "      <td>영어</td>\n",
       "      <td>95</td>\n",
       "    </tr>\n",
       "    <tr>\n",
       "      <th>5</th>\n",
       "      <td>민수</td>\n",
       "      <td>영어</td>\n",
       "      <td>80</td>\n",
       "    </tr>\n",
       "    <tr>\n",
       "      <th>6</th>\n",
       "      <td>철수</td>\n",
       "      <td>과학</td>\n",
       "      <td>78</td>\n",
       "    </tr>\n",
       "    <tr>\n",
       "      <th>7</th>\n",
       "      <td>영희</td>\n",
       "      <td>과학</td>\n",
       "      <td>88</td>\n",
       "    </tr>\n",
       "    <tr>\n",
       "      <th>8</th>\n",
       "      <td>민수</td>\n",
       "      <td>과학</td>\n",
       "      <td>92</td>\n",
       "    </tr>\n",
       "  </tbody>\n",
       "</table>\n",
       "</div>"
      ],
      "text/plain": [
       "   학생  과목  점수\n",
       "0  철수  수학  80\n",
       "1  영희  수학  90\n",
       "2  민수  수학  75\n",
       "3  철수  영어  85\n",
       "4  영희  영어  95\n",
       "5  민수  영어  80\n",
       "6  철수  과학  78\n",
       "7  영희  과학  88\n",
       "8  민수  과학  92"
      ]
     },
     "execution_count": 6,
     "metadata": {},
     "output_type": "execute_result"
    }
   ],
   "source": [
    "import pandas as pd\n",
    "\n",
    "data = {\n",
    "    '학생': ['철수', '영희', '민수'],\n",
    "    '수학': [80, 90, 75],\n",
    "    '영어': [85, 95, 80],\n",
    "    '과학': [78, 88, 92]\n",
    "}\n",
    "\n",
    "df = pd.DataFrame(data)\n",
    "pd.melt(df, id_vars = \"학생\", var_name = \"과목\", value_name = \"점수\")"
   ]
  },
  {
   "cell_type": "markdown",
   "id": "d75d0b51-a6a7-4f59-98ad-339f65afea8c",
   "metadata": {},
   "source": [
    "2. 데이터를 long format으로 변환하세요.\n",
    "변환 후 DataFrame은 제품, 월, 판매량 열을 가져야 합니다."
   ]
  },
  {
   "cell_type": "code",
   "execution_count": 7,
   "id": "958865f8-19e7-436b-bafb-a94af758d9cc",
   "metadata": {},
   "outputs": [
    {
     "data": {
      "text/html": [
       "<div>\n",
       "<style scoped>\n",
       "    .dataframe tbody tr th:only-of-type {\n",
       "        vertical-align: middle;\n",
       "    }\n",
       "\n",
       "    .dataframe tbody tr th {\n",
       "        vertical-align: top;\n",
       "    }\n",
       "\n",
       "    .dataframe thead th {\n",
       "        text-align: right;\n",
       "    }\n",
       "</style>\n",
       "<table border=\"1\" class=\"dataframe\">\n",
       "  <thead>\n",
       "    <tr style=\"text-align: right;\">\n",
       "      <th></th>\n",
       "      <th>제품</th>\n",
       "      <th>월</th>\n",
       "      <th>판매량</th>\n",
       "    </tr>\n",
       "  </thead>\n",
       "  <tbody>\n",
       "    <tr>\n",
       "      <th>0</th>\n",
       "      <td>A</td>\n",
       "      <td>월1</td>\n",
       "      <td>100</td>\n",
       "    </tr>\n",
       "    <tr>\n",
       "      <th>1</th>\n",
       "      <td>B</td>\n",
       "      <td>월1</td>\n",
       "      <td>150</td>\n",
       "    </tr>\n",
       "    <tr>\n",
       "      <th>2</th>\n",
       "      <td>C</td>\n",
       "      <td>월1</td>\n",
       "      <td>200</td>\n",
       "    </tr>\n",
       "    <tr>\n",
       "      <th>3</th>\n",
       "      <td>A</td>\n",
       "      <td>월2</td>\n",
       "      <td>110</td>\n",
       "    </tr>\n",
       "    <tr>\n",
       "      <th>4</th>\n",
       "      <td>B</td>\n",
       "      <td>월2</td>\n",
       "      <td>160</td>\n",
       "    </tr>\n",
       "    <tr>\n",
       "      <th>5</th>\n",
       "      <td>C</td>\n",
       "      <td>월2</td>\n",
       "      <td>210</td>\n",
       "    </tr>\n",
       "    <tr>\n",
       "      <th>6</th>\n",
       "      <td>A</td>\n",
       "      <td>월3</td>\n",
       "      <td>120</td>\n",
       "    </tr>\n",
       "    <tr>\n",
       "      <th>7</th>\n",
       "      <td>B</td>\n",
       "      <td>월3</td>\n",
       "      <td>170</td>\n",
       "    </tr>\n",
       "    <tr>\n",
       "      <th>8</th>\n",
       "      <td>C</td>\n",
       "      <td>월3</td>\n",
       "      <td>220</td>\n",
       "    </tr>\n",
       "  </tbody>\n",
       "</table>\n",
       "</div>"
      ],
      "text/plain": [
       "  제품   월  판매량\n",
       "0  A  월1  100\n",
       "1  B  월1  150\n",
       "2  C  월1  200\n",
       "3  A  월2  110\n",
       "4  B  월2  160\n",
       "5  C  월2  210\n",
       "6  A  월3  120\n",
       "7  B  월3  170\n",
       "8  C  월3  220"
      ]
     },
     "execution_count": 7,
     "metadata": {},
     "output_type": "execute_result"
    }
   ],
   "source": [
    "data = {\n",
    "    '제품': ['A', 'B', 'C'],\n",
    "    '월1': [100, 150, 200],\n",
    "    '월2': [110, 160, 210],\n",
    "    '월3': [120, 170, 220]\n",
    "}\n",
    "\n",
    "df = pd.DataFrame(data)\n",
    "df\n",
    "pd.melt(df, id_vars = \"제품\", var_name = \"월\", value_name = \"판매량\")"
   ]
  },
  {
   "cell_type": "markdown",
   "id": "74cd0e09-aa4c-4141-944e-1f6b20075c7d",
   "metadata": {},
   "source": [
    "3. .str 접근자를 사용하여 각 주소에서 시/도 부분(예: \"서울특별시\", \"부산광역시\")만 추출하는 코드를 작성하세요."
   ]
  },
  {
   "cell_type": "code",
   "execution_count": 35,
   "id": "981aec48-e466-4f8a-be6c-425676160b7e",
   "metadata": {},
   "outputs": [
    {
     "data": {
      "text/plain": [
       "0    서울특별시\n",
       "1    부산광역시\n",
       "Name: 주소, dtype: object"
      ]
     },
     "execution_count": 35,
     "metadata": {},
     "output_type": "execute_result"
    }
   ],
   "source": [
    "data = {\n",
    "    '이름': ['김철수', '이영희'],\n",
    "    '주소': ['서울특별시 강남구', '부산광역시 해운대구']\n",
    "}\n",
    "\n",
    "df = pd.DataFrame(data)\n",
    "df\n",
    "\n",
    "df[\"주소\"].str.split().str[0]"
   ]
  },
  {
   "cell_type": "markdown",
   "id": "565d7bba-e32f-4080-9b6a-f93e344c346e",
   "metadata": {},
   "source": [
    "4. .str 메소드를 사용하여 '-'를 기준으로 문자열을 분리하고,\n",
    "분리된 결과에서 앞부분은 제품명, 뒷부분은 제품번호라는 새 열에 저장하는 코드를 작성하세요."
   ]
  },
  {
   "cell_type": "code",
   "execution_count": 60,
   "id": "9f4a0ae1-bb33-4556-9719-2c0adae84140",
   "metadata": {},
   "outputs": [
    {
     "data": {
      "text/html": [
       "<div>\n",
       "<style scoped>\n",
       "    .dataframe tbody tr th:only-of-type {\n",
       "        vertical-align: middle;\n",
       "    }\n",
       "\n",
       "    .dataframe tbody tr th {\n",
       "        vertical-align: top;\n",
       "    }\n",
       "\n",
       "    .dataframe thead th {\n",
       "        text-align: right;\n",
       "    }\n",
       "</style>\n",
       "<table border=\"1\" class=\"dataframe\">\n",
       "  <thead>\n",
       "    <tr style=\"text-align: right;\">\n",
       "      <th></th>\n",
       "      <th>제품코드</th>\n",
       "      <th>제품명</th>\n",
       "      <th>제품번호</th>\n",
       "    </tr>\n",
       "  </thead>\n",
       "  <tbody>\n",
       "    <tr>\n",
       "      <th>0</th>\n",
       "      <td>AB-1234</td>\n",
       "      <td>AB</td>\n",
       "      <td>1234</td>\n",
       "    </tr>\n",
       "    <tr>\n",
       "      <th>1</th>\n",
       "      <td>CD-5678</td>\n",
       "      <td>CD</td>\n",
       "      <td>5678</td>\n",
       "    </tr>\n",
       "    <tr>\n",
       "      <th>2</th>\n",
       "      <td>EF-9101</td>\n",
       "      <td>EF</td>\n",
       "      <td>9101</td>\n",
       "    </tr>\n",
       "  </tbody>\n",
       "</table>\n",
       "</div>"
      ],
      "text/plain": [
       "      제품코드 제품명  제품번호\n",
       "0  AB-1234  AB  1234\n",
       "1  CD-5678  CD  5678\n",
       "2  EF-9101  EF  9101"
      ]
     },
     "execution_count": 60,
     "metadata": {},
     "output_type": "execute_result"
    }
   ],
   "source": [
    "data = {\n",
    "    '제품코드': ['AB-1234', 'CD-5678', 'EF-9101']\n",
    "}\n",
    "\n",
    "df = pd.DataFrame(data)\n",
    "df\n",
    "\n",
    "df[\"제품명\"] = df[\"제품코드\"].str.split(\"-\").str[0]\n",
    "df[\"제품번호\"] = df[\"제품코드\"].str.split(\"-\").str[1]\n",
    "\n",
    "df"
   ]
  },
  {
   "cell_type": "markdown",
   "id": "27dad32c-722f-4445-841a-e115261a2a31",
   "metadata": {},
   "source": [
    "5. ```이름``` 열의 공백을 제거하고 모두 소문자로 변환하는 코드를 작성하세요."
   ]
  },
  {
   "cell_type": "code",
   "execution_count": 22,
   "id": "893782ae-46e7-45e1-8d0c-84a68ecb5358",
   "metadata": {},
   "outputs": [
    {
     "data": {
      "text/plain": [
       "0      alice\n",
       "1        bob\n",
       "2    charlie\n",
       "Name: 이름, dtype: object"
      ]
     },
     "execution_count": 22,
     "metadata": {},
     "output_type": "execute_result"
    }
   ],
   "source": [
    "data = {\n",
    "    '이름': ['  Alice  ', '  Bob', 'Charlie  '],\n",
    "    '점수': [85, 90, 95]\n",
    "}\n",
    "\n",
    "df = pd.DataFrame(data)\n",
    "df\n",
    "\n",
    "df[\"이름\"].str.strip().str.lower()"
   ]
  },
  {
   "cell_type": "markdown",
   "id": "ab2c7ae3-db6f-40e4-acec-a2febdbac2a0",
   "metadata": {},
   "source": [
    "6. 데이터를 long format으로 변환하고,\n",
    "새로운 열 이름은 도시, 월, 기온이 되어야 합니다."
   ]
  },
  {
   "cell_type": "code",
   "execution_count": 21,
   "id": "633f38eb-f0c3-4555-8764-2df17ba7e841",
   "metadata": {},
   "outputs": [
    {
     "data": {
      "text/html": [
       "<div>\n",
       "<style scoped>\n",
       "    .dataframe tbody tr th:only-of-type {\n",
       "        vertical-align: middle;\n",
       "    }\n",
       "\n",
       "    .dataframe tbody tr th {\n",
       "        vertical-align: top;\n",
       "    }\n",
       "\n",
       "    .dataframe thead th {\n",
       "        text-align: right;\n",
       "    }\n",
       "</style>\n",
       "<table border=\"1\" class=\"dataframe\">\n",
       "  <thead>\n",
       "    <tr style=\"text-align: right;\">\n",
       "      <th></th>\n",
       "      <th>도시</th>\n",
       "      <th>월</th>\n",
       "      <th>기온</th>\n",
       "    </tr>\n",
       "  </thead>\n",
       "  <tbody>\n",
       "    <tr>\n",
       "      <th>0</th>\n",
       "      <td>서울</td>\n",
       "      <td>1월</td>\n",
       "      <td>0</td>\n",
       "    </tr>\n",
       "    <tr>\n",
       "      <th>1</th>\n",
       "      <td>부산</td>\n",
       "      <td>1월</td>\n",
       "      <td>5</td>\n",
       "    </tr>\n",
       "    <tr>\n",
       "      <th>2</th>\n",
       "      <td>서울</td>\n",
       "      <td>2월</td>\n",
       "      <td>2</td>\n",
       "    </tr>\n",
       "    <tr>\n",
       "      <th>3</th>\n",
       "      <td>부산</td>\n",
       "      <td>2월</td>\n",
       "      <td>7</td>\n",
       "    </tr>\n",
       "    <tr>\n",
       "      <th>4</th>\n",
       "      <td>서울</td>\n",
       "      <td>3월</td>\n",
       "      <td>8</td>\n",
       "    </tr>\n",
       "    <tr>\n",
       "      <th>5</th>\n",
       "      <td>부산</td>\n",
       "      <td>3월</td>\n",
       "      <td>12</td>\n",
       "    </tr>\n",
       "  </tbody>\n",
       "</table>\n",
       "</div>"
      ],
      "text/plain": [
       "   도시   월  기온\n",
       "0  서울  1월   0\n",
       "1  부산  1월   5\n",
       "2  서울  2월   2\n",
       "3  부산  2월   7\n",
       "4  서울  3월   8\n",
       "5  부산  3월  12"
      ]
     },
     "execution_count": 21,
     "metadata": {},
     "output_type": "execute_result"
    }
   ],
   "source": [
    "data = {\n",
    "    '도시': ['서울', '부산'],\n",
    "    '1월': [0, 5],\n",
    "    '2월': [2, 7],\n",
    "    '3월': [8, 12]\n",
    "}\n",
    "\n",
    "df = pd.DataFrame(data)\n",
    "df\n",
    "\n",
    "pd.melt(df, id_vars = \"도시\", var_name = \"월\", value_name = \"기온\")"
   ]
  },
  {
   "cell_type": "markdown",
   "id": "f9edb156-0d78-47fe-bd7d-7d4de71f668d",
   "metadata": {},
   "source": [
    "7. .str 접근자를 사용하여 각 문장에서 첫 번째 단어만 추출하는 코드를 작성하세요."
   ]
  },
  {
   "cell_type": "code",
   "execution_count": 42,
   "id": "7d18245f-cb94-4164-aed3-ba4afa18600a",
   "metadata": {},
   "outputs": [
    {
     "data": {
      "text/plain": [
       "0     Hello\n",
       "1    Python\n",
       "2    Pandas\n",
       "Name: 문장, dtype: object"
      ]
     },
     "execution_count": 42,
     "metadata": {},
     "output_type": "execute_result"
    }
   ],
   "source": [
    "data = {\n",
    "    '문장': ['Hello world', 'Python is fun', 'Pandas is powerful']\n",
    "}\n",
    "\n",
    "df = pd.DataFrame(data)\n",
    "df[\"문장\"].str.split().str[0]"
   ]
  },
  {
   "cell_type": "markdown",
   "id": "1648f991-1110-4df6-9ce2-f96c39abf263",
   "metadata": {},
   "source": [
    "8. 각 URL이 'https'로 시작하는지 여부를 판단하는 코드를 작성하세요."
   ]
  },
  {
   "cell_type": "code",
   "execution_count": 43,
   "id": "9b9f3720-c247-4639-8c89-5b646c8926ca",
   "metadata": {},
   "outputs": [
    {
     "data": {
      "text/plain": [
       "0     True\n",
       "1    False\n",
       "2     True\n",
       "Name: URL, dtype: bool"
      ]
     },
     "execution_count": 43,
     "metadata": {},
     "output_type": "execute_result"
    }
   ],
   "source": [
    "data = {\n",
    "    '사이트': ['Google', 'Facebook', 'Naver'],\n",
    "    'URL': ['https://www.google.com', 'http://www.facebook.com', 'https://www.naver.com']\n",
    "}\n",
    "\n",
    "df = pd.DataFrame(data)\n",
    "df[\"URL\"].str.startswith(\"https\")"
   ]
  },
  {
   "cell_type": "markdown",
   "id": "94057702-26e8-4bc1-a7b8-203bdf35581a",
   "metadata": {},
   "source": [
    "9. 먼저, pandas.melt 함수를 사용하여 DataFrame을 long format으로 변환하세요.\n",
    "결과는 날짜, 판매채널, 정보 열을 가져야 합니다.\n",
    "그 후, .str 접근자를 사용하여 정보 열에서 ':'를 기준으로 분리하고,\n",
    "분리된 앞부분은 제품명, 뒷부분은 가격이라는 새 열에 저장하는 코드를 작성하세요."
   ]
  },
  {
   "cell_type": "code",
   "execution_count": 61,
   "id": "5a97268d-2864-4546-9d23-1e2b079ee693",
   "metadata": {},
   "outputs": [
    {
     "data": {
      "text/html": [
       "<div>\n",
       "<style scoped>\n",
       "    .dataframe tbody tr th:only-of-type {\n",
       "        vertical-align: middle;\n",
       "    }\n",
       "\n",
       "    .dataframe tbody tr th {\n",
       "        vertical-align: top;\n",
       "    }\n",
       "\n",
       "    .dataframe thead th {\n",
       "        text-align: right;\n",
       "    }\n",
       "</style>\n",
       "<table border=\"1\" class=\"dataframe\">\n",
       "  <thead>\n",
       "    <tr style=\"text-align: right;\">\n",
       "      <th></th>\n",
       "      <th>날짜</th>\n",
       "      <th>판매채널</th>\n",
       "      <th>정보</th>\n",
       "      <th>제품명</th>\n",
       "      <th>가격</th>\n",
       "    </tr>\n",
       "  </thead>\n",
       "  <tbody>\n",
       "    <tr>\n",
       "      <th>0</th>\n",
       "      <td>2025-01-01</td>\n",
       "      <td>온라인</td>\n",
       "      <td>사과:1000</td>\n",
       "      <td>사과</td>\n",
       "      <td>1000</td>\n",
       "    </tr>\n",
       "    <tr>\n",
       "      <th>1</th>\n",
       "      <td>2025-01-02</td>\n",
       "      <td>온라인</td>\n",
       "      <td>바나나:1500</td>\n",
       "      <td>바나나</td>\n",
       "      <td>1500</td>\n",
       "    </tr>\n",
       "    <tr>\n",
       "      <th>2</th>\n",
       "      <td>2025-01-01</td>\n",
       "      <td>오프라인</td>\n",
       "      <td>사과:1100</td>\n",
       "      <td>사과</td>\n",
       "      <td>1100</td>\n",
       "    </tr>\n",
       "    <tr>\n",
       "      <th>3</th>\n",
       "      <td>2025-01-02</td>\n",
       "      <td>오프라인</td>\n",
       "      <td>바나나:1400</td>\n",
       "      <td>바나나</td>\n",
       "      <td>1400</td>\n",
       "    </tr>\n",
       "  </tbody>\n",
       "</table>\n",
       "</div>"
      ],
      "text/plain": [
       "           날짜  판매채널        정보  제품명    가격\n",
       "0  2025-01-01   온라인   사과:1000   사과  1000\n",
       "1  2025-01-02   온라인  바나나:1500  바나나  1500\n",
       "2  2025-01-01  오프라인   사과:1100   사과  1100\n",
       "3  2025-01-02  오프라인  바나나:1400  바나나  1400"
      ]
     },
     "execution_count": 61,
     "metadata": {},
     "output_type": "execute_result"
    }
   ],
   "source": [
    "data = {\n",
    "    '날짜': ['2025-01-01', '2025-01-02'],\n",
    "    '온라인': ['사과:1000', '바나나:1500'],\n",
    "    '오프라인': ['사과:1100', '바나나:1400']\n",
    "}\n",
    "\n",
    "df = pd.DataFrame(data)\n",
    "df2 = pd.melt(df, id_vars = \"날짜\", var_name = \"판매채널\", value_name = \"정보\")\n",
    "\n",
    "df2[\"제품명\"] = df2[\"정보\"].str.split(\":\").str[0]\n",
    "df2[\"가격\"] = df2[\"정보\"].str.split(\":\").str[1]\n",
    "\n",
    "df2"
   ]
  },
  {
   "cell_type": "markdown",
   "id": "ea1874fd-a1a7-45c1-8c04-1d86af121f11",
   "metadata": {},
   "source": [
    "10. 이 시리즈를 아래와 같은 시리즈로 변환하세요.\n",
    "\n",
    "```\n",
    "0    python_pandas\n",
    "1    data_analysis\n",
    "dtype: object\n",
    "```"
   ]
  },
  {
   "cell_type": "code",
   "execution_count": 64,
   "id": "d647bd4a-8b35-4e62-9e90-d6aff551533b",
   "metadata": {},
   "outputs": [
    {
     "data": {
      "text/plain": [
       "0    Python_Pandas\n",
       "1    Data_Analysis\n",
       "dtype: object"
      ]
     },
     "execution_count": 64,
     "metadata": {},
     "output_type": "execute_result"
    }
   ],
   "source": [
    "s9 = pd.Series(['  Python Pandas  ', ' Data Analysis  '])\n",
    "\n",
    "#s9.str.capitalize().str.strip().str.replace(\" \", \"_\")        내가\n",
    "\n",
    "s9.str.strip().str.split().str.join(\"_\")"
   ]
  },
  {
   "cell_type": "code",
   "execution_count": null,
   "id": "cc254604-f54a-4671-b5e6-1db35a8ad904",
   "metadata": {},
   "outputs": [],
   "source": []
  }
 ],
 "metadata": {
  "kernelspec": {
   "display_name": "Python 3 (ipykernel)",
   "language": "python",
   "name": "python3"
  },
  "language_info": {
   "codemirror_mode": {
    "name": "ipython",
    "version": 3
   },
   "file_extension": ".py",
   "mimetype": "text/x-python",
   "name": "python",
   "nbconvert_exporter": "python",
   "pygments_lexer": "ipython3",
   "version": "3.12.7"
  }
 },
 "nbformat": 4,
 "nbformat_minor": 5
}
