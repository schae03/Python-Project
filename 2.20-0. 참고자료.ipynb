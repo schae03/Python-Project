{
 "cells": [
  {
   "cell_type": "raw",
   "id": "718ad279-f929-472e-beca-14950b828783",
   "metadata": {},
   "source": [
    "<리스트 컴프리헨션>\n",
    "표현식 for 항목 in 반복가능객체 if 조건문 \n",
    "\n",
    "---\n",
    "\n",
    "1.\n",
    "for i in numbers:\n",
    "    box.append(i * 2)\n",
    "2.\n",
    "for i in range(len(numbers)):\n",
    "    box.append(numbers[i] * 2)\n",
    "\n",
    "---\n",
    "\n",
    "문자열->리스트->문자열\n",
    "def solution(my_string, num1, num2):\n",
    "    s = list(my_string)\n",
    "    s[num1],s[num2] = s[num2],s[num1]\n",
    "    return ''.join(s)    # 리스트의 각 요소를 문자열로 다시 합쳐줌 \n",
    "\n",
    "---\n",
    "\n",
    "def solution(num_list, n):\n",
    "    return num_list[n:] + num_list[:n]\n",
    "\n",
    "---\n",
    "\n",
    "lambda 매개변수 : 표현식  <<  \n",
    "map(함수, 리스트)  <<  리스트로부터 원소를 하나씩 꺼내서 함수를 적용시킨 다음, 그 결과를 새로운 리스트에 담아줌\n",
    "\n",
    ">>> (lambda x,y: x + y)(10, 20)\n",
    "30\n",
    "\n",
    ">>> list(map(lambda x: x ** 2, range(5)))    \n",
    "[0, 1, 4, 9, 16]\n"
   ]
  },
  {
   "cell_type": "code",
   "execution_count": null,
   "id": "a50c90c4-9bf9-471a-b0a4-47c6460bc76d",
   "metadata": {},
   "outputs": [],
   "source": [
    "import pandas as pd\n",
    "import numpy as np\n",
    "import matplotlib.pyplot as plt\n",
    "import scipy.stats as stats\n",
    "import koreanize_matplotlib\n",
    "from statsmodels.formula.api import ols\n",
    "import statsmodels.api as sm\n",
    "import seaborn as sns\n",
    "from statsmodels.stats.multicomp import pairwise_tukeyhsd"
   ]
  },
  {
   "cell_type": "raw",
   "id": "76a0be2b-2541-439e-bf26-e9680f7d0c56",
   "metadata": {},
   "source": [
    "히스토그램 : plt.hist\n",
    "\n",
    ">>> (여기서부턴 다 stats.~) <<<\n",
    "\n",
    "정규분포 따르는지 : shapiro\n",
    "분산이 동일한지 : levene\n",
    "\n",
    "ㄴ 이 두개는 모든 분석에서 공통으로\n",
    "\n",
    "\n",
    "----\n",
    "<단일 표본 / 대응 표본 검정>\n",
    "\n",
    "1) 정규성 보일때\n",
    "- 어떤 특정 값과 비교할 때 : stats.ttest_1samp\n",
    "- 효과의 여부를 확인할때 : stats.ttest_rel\n",
    "\n",
    "2) 정규성 안보일때\n",
    "-> 중앙값으로 확인 : stats.wilcoxon\n",
    "\n",
    "----\n",
    "<독립 표본 검정>\n",
    "\n",
    "1) 정규성 보일때\n",
    "분산 동일할때 : ttest_ind(class1, class2, equal_var = True)\n",
    "분산 동일하지 않을때 : ttest_ind(class1, class2, equal_var = False) \n",
    "\n",
    "2) 정규성 하나라도 안보일때\n",
    "-> 중앙값으로 확인 : mannwhitneyu"
   ]
  },
  {
   "cell_type": "raw",
   "id": "961330f4-544f-437e-9e0e-cda8654710ff",
   "metadata": {},
   "source": [
    "<일원 분산 분석> : 정규성 - 분산 - 일원분산분석 - 사후분석 - 시각화\n",
    "\n",
    "1) 정규성 보일때\n",
    "- f_oneway\n",
    "\n",
    "2) 정규성 안보일떄\n",
    "- stats.kruskal\n",
    "\n",
    "사후 분석(일원 분산 분석이 유의미한 경우에) - pairwise_tukeyhsd\n",
    "\n",
    "---\n",
    "<이원 분산 분석> : 정규성 - 분산 - 이원분산분석 - 사후분석 - 시각화\n",
    "\n",
    "정규성 확인 - groupby, shapiro\n",
    "분산이 동일한지 확인 - groupby, levene\n",
    "이원분산분석  - ols, stats.anova_lm\n",
    "사후 분석 - pairwise_tukeyhsd"
   ]
  },
  {
   "cell_type": "raw",
   "id": "5bfb8a7d-dace-4922-9da9-3cff0ee7cff3",
   "metadata": {},
   "source": [
    "<독립성 검정> \n",
    "stats.chisquare(observed, expected)\n",
    "\n",
    "<적합도 검정> \n",
    "stats.chi2_contingency(df)\n",
    "\n",
    "<이항분포>\n",
    "-확률질량함수 : binom.pmf (앞면횟수, 총시행횟수, 앞면의 확률)             # 정확하게 특정개 나올 확률\n",
    "-시뮬레이션   : np.random.binomial (앞면횟수, 앞면의 확률, 시뮬레이션 수)\n",
    "-누적분포함수 : binom.cdf                                              # 특정개수 이하로 나올 확률"
   ]
  },
  {
   "cell_type": "code",
   "execution_count": null,
   "id": "c79c2bd6-8130-43ca-89a5-42b21c712621",
   "metadata": {},
   "outputs": [],
   "source": []
  }
 ],
 "metadata": {
  "kernelspec": {
   "display_name": "Python 3 (ipykernel)",
   "language": "python",
   "name": "python3"
  },
  "language_info": {
   "codemirror_mode": {
    "name": "ipython",
    "version": 3
   },
   "file_extension": ".py",
   "mimetype": "text/x-python",
   "name": "python",
   "nbconvert_exporter": "python",
   "pygments_lexer": "ipython3",
   "version": "3.12.7"
  }
 },
 "nbformat": 4,
 "nbformat_minor": 5
}
