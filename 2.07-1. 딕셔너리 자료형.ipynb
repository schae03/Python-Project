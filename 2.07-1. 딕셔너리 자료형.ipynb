{
 "cells": [
  {
   "cell_type": "code",
   "execution_count": 2,
   "id": "88e96e8b-d8e9-4c8d-84c3-9bc707253e49",
   "metadata": {},
   "outputs": [
    {
     "data": {
      "text/plain": [
       "False"
      ]
     },
     "execution_count": 2,
     "metadata": {},
     "output_type": "execute_result"
    }
   ],
   "source": [
    "# 딕셔너리 자료형  //  무조건 key값 기준으로 판단/수행\n",
    "dic = {\"이름\" : \"홍길동\", \n",
    "      \"나이\" : 40,\n",
    "      \"성별\" : \"남자\"}   #엔터키 안쳐도됨. 콤마로 구분\n",
    "      # key  &  value  가 쌍으로\n",
    "\n",
    "#len(dic)     # =3.  한뭉탱이가 하나\n",
    "\n",
    "\"홍길동\" in dic      #False\n",
    "\"이름\" in dic        #True"
   ]
  },
  {
   "cell_type": "code",
   "execution_count": 4,
   "id": "3cac49d1-0583-44ff-a331-857cc1bb31c2",
   "metadata": {},
   "outputs": [
    {
     "data": {
      "text/plain": [
       "'홍길동'"
      ]
     },
     "execution_count": 4,
     "metadata": {},
     "output_type": "execute_result"
    }
   ],
   "source": [
    "dic[\"이름\"]       # 접근도 key값 기준\n",
    "# dic[\"홍길동\"]은 오류"
   ]
  },
  {
   "cell_type": "code",
   "execution_count": 8,
   "id": "8a4853b6-58fb-4e3b-9958-ba8a98ecab4b",
   "metadata": {},
   "outputs": [
    {
     "data": {
      "text/plain": [
       "'그런 키값 없습니다'"
      ]
     },
     "execution_count": 8,
     "metadata": {},
     "output_type": "execute_result"
    }
   ],
   "source": [
    "dic.get(\"이상형\", \"그런 키값 없습니다\")"
   ]
  },
  {
   "cell_type": "code",
   "execution_count": 9,
   "id": "dfeb2b0d-03da-43e2-bfaa-36c94b9091dd",
   "metadata": {},
   "outputs": [
    {
     "data": {
      "text/plain": [
       "{'이름': '홍길동', '나이': 40, '성별': '남자', '이상형': '장원영'}"
      ]
     },
     "execution_count": 9,
     "metadata": {},
     "output_type": "execute_result"
    }
   ],
   "source": [
    "# 값 추가.\n",
    "dic['이상형'] = \"장원영\"         # 없는 키값에 접근해서 해당하는 value값 추가\n",
    "dic"
   ]
  },
  {
   "cell_type": "code",
   "execution_count": 10,
   "id": "3081ef61-9801-4268-9f98-8fa882cfb6bd",
   "metadata": {},
   "outputs": [
    {
     "data": {
      "text/plain": [
       "{'이름': '강동원', '나이': 40, '성별': '남자', '이상형': '장원영'}"
      ]
     },
     "execution_count": 10,
     "metadata": {},
     "output_type": "execute_result"
    }
   ],
   "source": [
    "# 키값은 고유하다.\n",
    "dic['이름'] = \"강동원\"        # 값 추가되는 것이 아니라 변경됨\n",
    "dic"
   ]
  },
  {
   "cell_type": "code",
   "execution_count": 11,
   "id": "5347e0f3-fc39-4cfe-a378-05d6278e5bbe",
   "metadata": {},
   "outputs": [
    {
     "data": {
      "text/plain": [
       "{'이름': '강동원', '나이': 40, '성별': '남자'}"
      ]
     },
     "execution_count": 11,
     "metadata": {},
     "output_type": "execute_result"
    }
   ],
   "source": [
    "# 값 삭제.\n",
    "del dic['이상형']\n",
    "dic"
   ]
  },
  {
   "cell_type": "code",
   "execution_count": 12,
   "id": "b31c9e11-3ac8-45f1-b279-b9a5ed303919",
   "metadata": {},
   "outputs": [
    {
     "data": {
      "text/plain": [
       "{'이름': '강동원', '나이': 40}"
      ]
     },
     "execution_count": 12,
     "metadata": {},
     "output_type": "execute_result"
    }
   ],
   "source": [
    "z = dic.pop(\"성별\")      # 성별에 대한 값을 뽑아내서 z에 저장.\n",
    "dic"
   ]
  },
  {
   "cell_type": "code",
   "execution_count": 13,
   "id": "1e400890-8678-498f-b6ba-c68f183069e2",
   "metadata": {},
   "outputs": [
    {
     "data": {
      "text/plain": [
       "'남자'"
      ]
     },
     "execution_count": 13,
     "metadata": {},
     "output_type": "execute_result"
    }
   ],
   "source": [
    "z"
   ]
  },
  {
   "cell_type": "code",
   "execution_count": 15,
   "id": "a96d8725-3616-426d-8433-b1fd65b4ead4",
   "metadata": {},
   "outputs": [
    {
     "data": {
      "text/plain": [
       "(dict_keys(['이름', '나이']), dict_values(['강동원', 40]))"
      ]
     },
     "execution_count": 15,
     "metadata": {},
     "output_type": "execute_result"
    }
   ],
   "source": [
    "dic.keys(),            dic.values()    \n",
    "# # dic 함수의 key값들만   //   value값들만 확인"
   ]
  },
  {
   "cell_type": "code",
   "execution_count": 16,
   "id": "f74aaa14-75c9-45d1-a888-1f7b3799f9d4",
   "metadata": {},
   "outputs": [
    {
     "data": {
      "text/plain": [
       "dict_items([('이름', '강동원'), ('나이', 40)])"
      ]
     },
     "execution_count": 16,
     "metadata": {},
     "output_type": "execute_result"
    }
   ],
   "source": [
    "# 키-밸류가 튜플로 묶여서 리스트에 저장.\n",
    "dic.items()"
   ]
  },
  {
   "cell_type": "code",
   "execution_count": 20,
   "id": "0146a51a-3439-4ed1-bd9e-f479421365ff",
   "metadata": {},
   "outputs": [
    {
     "data": {
      "text/plain": [
       "{'이름': '홍길동', '나이': 40, '사는곳': '대구'}"
      ]
     },
     "execution_count": 20,
     "metadata": {},
     "output_type": "execute_result"
    }
   ],
   "source": [
    "# 딕셔너리끼리 합쳐야 하는 경우.\n",
    "dic2 = {\"사는곳\" : \"대구\", \"이름\" : \"홍길동\"}\n",
    "\n",
    "dic.update(dic2)\n",
    "dic        # 합치는 데이터의 중복된 키값의 밸류값이 업데이트됨"
   ]
  },
  {
   "cell_type": "code",
   "execution_count": 23,
   "id": "ae78fb49-31e8-41a9-a60a-fd353c134195",
   "metadata": {},
   "outputs": [
    {
     "name": "stdout",
     "output_type": "stream",
     "text": [
      "이름 홍길동\n",
      "나이 40\n",
      "사는곳 대구\n"
     ]
    }
   ],
   "source": [
    "# dic 안에 있는 것들을 순서대로 변수 i에 넣는다.\n",
    "for i,j in dic.items():\n",
    "    print(i,j)                       # 변수 i,j에 각각 key,value 할당 가능 "
   ]
  },
  {
   "cell_type": "code",
   "execution_count": null,
   "id": "71e8a836-7d86-442b-b28b-d1c3ae05d849",
   "metadata": {},
   "outputs": [],
   "source": []
  },
  {
   "cell_type": "code",
   "execution_count": null,
   "id": "48ae6ed0-283b-458d-a583-6587e21dc7bb",
   "metadata": {},
   "outputs": [],
   "source": []
  },
  {
   "cell_type": "code",
   "execution_count": null,
   "id": "3f08ff41-3f9a-4fbf-8c78-7885642f8a8e",
   "metadata": {},
   "outputs": [],
   "source": []
  }
 ],
 "metadata": {
  "kernelspec": {
   "display_name": "Python 3 (ipykernel)",
   "language": "python",
   "name": "python3"
  },
  "language_info": {
   "codemirror_mode": {
    "name": "ipython",
    "version": 3
   },
   "file_extension": ".py",
   "mimetype": "text/x-python",
   "name": "python",
   "nbconvert_exporter": "python",
   "pygments_lexer": "ipython3",
   "version": "3.12.7"
  }
 },
 "nbformat": 4,
 "nbformat_minor": 5
}
