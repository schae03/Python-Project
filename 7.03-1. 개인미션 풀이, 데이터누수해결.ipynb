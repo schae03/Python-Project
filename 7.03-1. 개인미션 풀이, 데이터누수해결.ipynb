{
 "cells": [
  {
   "cell_type": "code",
   "execution_count": 1,
   "id": "a83787c7-8235-4cea-858c-17ea256de5be",
   "metadata": {},
   "outputs": [
    {
     "data": {
      "text/html": [
       "<div>\n",
       "<style scoped>\n",
       "    .dataframe tbody tr th:only-of-type {\n",
       "        vertical-align: middle;\n",
       "    }\n",
       "\n",
       "    .dataframe tbody tr th {\n",
       "        vertical-align: top;\n",
       "    }\n",
       "\n",
       "    .dataframe thead th {\n",
       "        text-align: right;\n",
       "    }\n",
       "</style>\n",
       "<table border=\"1\" class=\"dataframe\">\n",
       "  <thead>\n",
       "    <tr style=\"text-align: right;\">\n",
       "      <th></th>\n",
       "      <th>Symbol</th>\n",
       "      <th>Name</th>\n",
       "      <th>Sector</th>\n",
       "      <th>Industry</th>\n",
       "    </tr>\n",
       "  </thead>\n",
       "  <tbody>\n",
       "    <tr>\n",
       "      <th>0</th>\n",
       "      <td>MMM</td>\n",
       "      <td>3M</td>\n",
       "      <td>Industrials</td>\n",
       "      <td>Industrial Conglomerates</td>\n",
       "    </tr>\n",
       "    <tr>\n",
       "      <th>1</th>\n",
       "      <td>AOS</td>\n",
       "      <td>A. O. Smith</td>\n",
       "      <td>Industrials</td>\n",
       "      <td>Building Products</td>\n",
       "    </tr>\n",
       "    <tr>\n",
       "      <th>2</th>\n",
       "      <td>ABT</td>\n",
       "      <td>Abbott Laboratories</td>\n",
       "      <td>Health Care</td>\n",
       "      <td>Health Care Equipment</td>\n",
       "    </tr>\n",
       "    <tr>\n",
       "      <th>3</th>\n",
       "      <td>ABBV</td>\n",
       "      <td>AbbVie</td>\n",
       "      <td>Health Care</td>\n",
       "      <td>Biotechnology</td>\n",
       "    </tr>\n",
       "    <tr>\n",
       "      <th>4</th>\n",
       "      <td>ACN</td>\n",
       "      <td>Accenture</td>\n",
       "      <td>Information Technology</td>\n",
       "      <td>IT Consulting &amp; Other Services</td>\n",
       "    </tr>\n",
       "  </tbody>\n",
       "</table>\n",
       "</div>"
      ],
      "text/plain": [
       "  Symbol                 Name                  Sector  \\\n",
       "0    MMM                   3M             Industrials   \n",
       "1    AOS          A. O. Smith             Industrials   \n",
       "2    ABT  Abbott Laboratories             Health Care   \n",
       "3   ABBV               AbbVie             Health Care   \n",
       "4    ACN            Accenture  Information Technology   \n",
       "\n",
       "                         Industry  \n",
       "0        Industrial Conglomerates  \n",
       "1               Building Products  \n",
       "2           Health Care Equipment  \n",
       "3                   Biotechnology  \n",
       "4  IT Consulting & Other Services  "
      ]
     },
     "execution_count": 1,
     "metadata": {},
     "output_type": "execute_result"
    }
   ],
   "source": [
    "import FinanceDataReader as fdr\n",
    "\n",
    "sp500 = fdr.StockListing(\"S&P500\")\n",
    "sp500.head()"
   ]
  },
  {
   "cell_type": "code",
   "execution_count": 2,
   "id": "bc90cf22-6d50-45c6-8eb7-0d3051a79838",
   "metadata": {},
   "outputs": [
    {
     "data": {
      "text/plain": [
       "1980-12-12          NaN\n",
       "1980-12-15          NaN\n",
       "1980-12-16          NaN\n",
       "1980-12-17          NaN\n",
       "1980-12-18          NaN\n",
       "                ...    \n",
       "2025-06-27    49.770113\n",
       "2025-06-30    56.806887\n",
       "2025-07-01    60.653082\n",
       "2025-07-02    66.289029\n",
       "2025-07-03    67.493758\n",
       "Name: Close, Length: 11230, dtype: float64"
      ]
     },
     "execution_count": 2,
     "metadata": {},
     "output_type": "execute_result"
    }
   ],
   "source": [
    "# rsi값 만드는 함수\n",
    "\n",
    "def make_rsi(close, periods = 14):\n",
    "    delta = close.diff()\n",
    "    gain = delta.where(delta > 0, 0).ewm(alpha = 1/periods, min_periods = periods, adjust = False).mean()     \n",
    "    # 오른날만 데이터 가져오고 오르지 않는 날은 0으로 채움        # alpha값은 14일을 기준으로 구하므로 1/14.  최소기간은 14일을 지키도록\n",
    "    loss = -delta.where(delta < 0, 0).ewm(alpha = 1/periods, min_periods = periods, adjust = False).mean()\n",
    "    rs = gain / (loss + 1e-9)\n",
    "    return 100 - (100 / (1 + rs))\n",
    "\n",
    "df = fdr.DataReader(\"AAPL\")\n",
    "make_rsi(df[\"Close\"])"
   ]
  },
  {
   "cell_type": "code",
   "execution_count": 3,
   "id": "a7239526-7905-4fb6-9f83-34ee048c5f72",
   "metadata": {},
   "outputs": [
    {
     "name": "stderr",
     "output_type": "stream",
     "text": [
      "100%|████████████████████████████████████████████████████████████████████████████████| 502/502 [05:37<00:00,  1.49it/s]\n"
     ]
    }
   ],
   "source": [
    "from tqdm import tqdm\n",
    "import pandas as pd\n",
    "\n",
    "sp500_dic = {}\n",
    "for i in tqdm(range(len(sp500))):\n",
    "    try:\n",
    "        row = sp500.iloc[i]\n",
    "        symbol = row[\"Symbol\"]\n",
    "        name = row[\"Name\"]\n",
    "        df = fdr.DataReader(symbol)\n",
    "        df['RSI'] = make_rsi(df['Close'])\n",
    "        df['Change'] = df['Close'].pct_change() * 100           # 변화율\n",
    "        df = df.dropna()\n",
    "        sp500_dic[symbol] = [name, df]\n",
    "    except:\n",
    "        continue"
   ]
  },
  {
   "cell_type": "markdown",
   "id": "15819b93-806b-4e3d-b9e8-2abef3fb4c94",
   "metadata": {},
   "source": [
    "#### 1일 후의 가격 예측"
   ]
  },
  {
   "cell_type": "code",
   "execution_count": 26,
   "id": "5652c00d-6432-4b86-8817-b83a935a6d0d",
   "metadata": {},
   "outputs": [],
   "source": [
    "# 왜 특성을 추가해도 성능이 비슷한가?  왜 항상 좋게 나오는가?\n",
    "# 데이터 누수문제 = 미래데이터가 데이터 학습 시에 영향을 미친다 \n",
    "\n",
    "year = 2017\n",
    "period = 1      # 1일 후의 가격을 예측하겠다\n",
    "\n",
    "train_x = [] \n",
    "train_y = []\n",
    "test_x = [] \n",
    "test_y = []\n",
    "\n",
    "for symbol in sp500_dic:\n",
    "    name = sp500_dic[symbol][0]\n",
    "    df = sp500_dic[symbol][1].copy()[[\"Close\", \"Change\", \"RSI\"]]    # 종가데이터, 변화율, RSI\n",
    "\n",
    "    # 특정시점 기준으로 분리해서 데이터 섞이지 않게.... 데이터 누수문제 해결\n",
    "    train = df[df.index.year < year].values\n",
    "    test = df[df.index.year >= year].values\n",
    "\n",
    "    for i in range(len(train) - period):\n",
    "        a = train[i, 1:]   # Close값 빼고 Change,RSI만 가져옴\n",
    "        before = train[i, 0]      # i날짜에 대한 종가\n",
    "        after = train[i+period, 0]    # 그다음날(i+1)날짜에 대한 종가\n",
    "        b = (after-before)/before*100 >= 5       # 1일 후 가격이 5% 이상 올랐는지 확인\n",
    "        train_x.append(a)\n",
    "        train_y.append(b)\n",
    "\n",
    "    for i in range(len(test) - period):\n",
    "        a = test[i, 1:]\n",
    "        before = test[i, 0]\n",
    "        after = test[i+period, 0]\n",
    "        b = (after-before)/before*100 >= 5\n",
    "        test_x.append(a)\n",
    "        test_y.append(b)"
   ]
  },
  {
   "cell_type": "code",
   "execution_count": 27,
   "id": "f473e975-9163-48f1-9c3c-b4bc11cdc3de",
   "metadata": {},
   "outputs": [
    {
     "name": "stdout",
     "output_type": "stream",
     "text": [
      "              precision    recall  f1-score   support\n",
      "\n",
      "       False       0.98      1.00      0.99   1030263\n",
      "        True       0.08      0.00      0.00     16170\n",
      "\n",
      "    accuracy                           0.98   1046433\n",
      "   macro avg       0.53      0.50      0.50   1046433\n",
      "weighted avg       0.97      0.98      0.98   1046433\n",
      "\n"
     ]
    }
   ],
   "source": [
    "from sklearn.metrics import classification_report\n",
    "from xgboost import XGBClassifier\n",
    "\n",
    "model = XGBClassifier()\n",
    "model.fit(train_x, train_y)\n",
    "\n",
    "pred = model.predict(test_x)\n",
    "\n",
    "report = classification_report(test_y, pred)\n",
    "print(report)\n",
    "\n",
    "# 정밀도 떨어짐 - 데이터 누수문제 해결된걸로 보임"
   ]
  },
  {
   "cell_type": "markdown",
   "id": "cf596a26-4735-45ba-8c55-5d75b8407504",
   "metadata": {},
   "source": [
    "#### 40일 후의 가격 예측"
   ]
  },
  {
   "cell_type": "code",
   "execution_count": 4,
   "id": "2517f039-9e5e-4b52-8ba0-22e10eb64630",
   "metadata": {},
   "outputs": [],
   "source": [
    "# 왜 특성을 추가해도 성능이 비슷한가?  왜 항상 좋게 나오는가?\n",
    "# 데이터 누수문제 = 미래데이터가 데이터 학습 시에 영향을 미친다 \n",
    "\n",
    "year = 2017\n",
    "period = 40      # 40일 후의 가격을 예측하겠다\n",
    "\n",
    "train_x = [] \n",
    "train_y = []\n",
    "test_x = [] \n",
    "test_y = []\n",
    "\n",
    "for symbol in sp500_dic:\n",
    "    name = sp500_dic[symbol][0]\n",
    "    df = sp500_dic[symbol][1].copy()[[\"Close\", \"Change\", \"RSI\"]]    # 종가데이터, 변화율, RSI\n",
    "\n",
    "    # 특정시점 기준으로 분리해서 데이터 섞이지 않게.... 데이터 누수문제 해결\n",
    "    train = df[df.index.year < year].values\n",
    "    test = df[df.index.year >= year].values\n",
    "\n",
    "    for i in range(len(train) - period):\n",
    "        a = train[i, 1:]   # Close값 빼고 Change,RSI만 가져옴\n",
    "        before = train[i, 0]      # i날짜에 대한 종가\n",
    "        after = train[i+period, 0]    # 그다음날(i+40)날짜에 대한 종가\n",
    "        b = (after-before)/before*100 >= 5       # 40일 후 가격이 5% 이상 올랐는지 확인\n",
    "        train_x.append(a)\n",
    "        train_y.append(b)\n",
    "\n",
    "    for i in range(len(test) - period):\n",
    "        a = test[i, 1:]\n",
    "        before = test[i, 0]\n",
    "        after = test[i+period, 0]\n",
    "        b = (after-before)/before*100 >= 5\n",
    "        test_x.append(a)\n",
    "        test_y.append(b)"
   ]
  },
  {
   "cell_type": "code",
   "execution_count": 5,
   "id": "d0fd86ef-49b8-42d9-90f8-3eed80a5a096",
   "metadata": {},
   "outputs": [
    {
     "name": "stdout",
     "output_type": "stream",
     "text": [
      "              precision    recall  f1-score   support\n",
      "\n",
      "       False       0.62      1.00      0.76    631294\n",
      "        True       0.51      0.01      0.01    394005\n",
      "\n",
      "    accuracy                           0.62   1025299\n",
      "   macro avg       0.56      0.50      0.39   1025299\n",
      "weighted avg       0.57      0.62      0.47   1025299\n",
      "\n"
     ]
    }
   ],
   "source": [
    "from sklearn.metrics import classification_report\n",
    "from xgboost import XGBClassifier\n",
    "\n",
    "model = XGBClassifier()\n",
    "model.fit(train_x, train_y)\n",
    "\n",
    "pred = model.predict(test_x)\n",
    "\n",
    "report = classification_report(test_y, pred)\n",
    "print(report)\n",
    "\n",
    "# 40일 후를 예측하면 1일 후를 예측했을때에 비해 rsi가 변동될 시간이 더 있어서 정밀도 좀더올라감"
   ]
  }
 ],
 "metadata": {
  "kernelspec": {
   "display_name": "Python 3 (ipykernel)",
   "language": "python",
   "name": "python3"
  },
  "language_info": {
   "codemirror_mode": {
    "name": "ipython",
    "version": 3
   },
   "file_extension": ".py",
   "mimetype": "text/x-python",
   "name": "python",
   "nbconvert_exporter": "python",
   "pygments_lexer": "ipython3",
   "version": "3.12.7"
  }
 },
 "nbformat": 4,
 "nbformat_minor": 5
}
