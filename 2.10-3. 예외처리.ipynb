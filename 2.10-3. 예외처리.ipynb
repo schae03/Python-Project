{
 "cells": [
  {
   "cell_type": "code",
   "execution_count": 7,
   "id": "927f9caf-66f0-476c-bf09-ba105c230f1c",
   "metadata": {},
   "outputs": [
    {
     "name": "stdin",
     "output_type": "stream",
     "text": [
      "입력:  ㅎㅎ\n"
     ]
    },
    {
     "name": "stdout",
     "output_type": "stream",
     "text": [
      "제대로된 숫자를 넣어주세요.\n"
     ]
    }
   ],
   "source": [
    "# 예외처리: 에러가 발생했을때 그 에러를 무시하는 방법 \n",
    "\n",
    "try:\n",
    "    n = int(input(\"입력: \"))\n",
    "    result = 10 / n          # 입력값이 0이면 에러남 // 문자를 입력해도 에러남.\n",
    "    print(result)\n",
    "except ZeroDivisionError:    # 에러가 이거라면, 에러 발생시키지 말고 이걸 실행해라.\n",
    "    print(\"0으로 나누지마세요.\")\n",
    "except ValueError:\n",
    "    print(\"제대로된 숫자를 넣어주세요.\")"
   ]
  },
  {
   "cell_type": "code",
   "execution_count": 10,
   "id": "febd4a40-4eda-412c-aa97-d003c1ae1135",
   "metadata": {},
   "outputs": [
    {
     "name": "stdin",
     "output_type": "stream",
     "text": [
      "입력:  ㅎㅎ\n"
     ]
    }
   ],
   "source": [
    "# try 안에서 에러가 났을 때, 에러를 발생시키지 말고 except를 실행해라.    어떤 에러가 나든.\n",
    "try:\n",
    "    n = int(input(\"입력: \"))\n",
    "    result = 10 / n\n",
    "    print(result)\n",
    "except:\n",
    "    pass"
   ]
  },
  {
   "cell_type": "code",
   "execution_count": 18,
   "id": "744cc373-cff7-4d5f-af63-30baad14973a",
   "metadata": {},
   "outputs": [],
   "source": [
    "# 파일 생성\n",
    "\n",
    "# 메모장파일 만들기\n",
    "f = open(\"test.txt\", \"wt\")         # write text : 무언가를 (새롭게) 쓰기 위해서 열었다\n",
    "# f = open(\"test.txt\", \"at\")         # attach text : 이어서 작성\n",
    "\n",
    "for n in range(1,11):\n",
    "    f.write(f\"{n}번째 줄입니다.\\n\")\n",
    "\n",
    "f.close()      # 저장하고 닫기\n",
    "\n",
    "# \"wt\"일떈 두 번 실행해도 여러번 작성되진 X.   여러번 쓰고 싶으면 \"wt\"말고 \"at\""
   ]
  },
  {
   "cell_type": "code",
   "execution_count": 20,
   "id": "b57b7b89-45c4-4909-93ce-17285b4a5c3c",
   "metadata": {},
   "outputs": [
    {
     "data": {
      "text/plain": [
       "['1번째 줄입니다.',\n",
       " '2번째 줄입니다.',\n",
       " '3번째 줄입니다.',\n",
       " '4번째 줄입니다.',\n",
       " '5번째 줄입니다.',\n",
       " '6번째 줄입니다.',\n",
       " '7번째 줄입니다.',\n",
       " '8번째 줄입니다.',\n",
       " '9번째 줄입니다.',\n",
       " '10번째 줄입니다.',\n",
       " '']"
      ]
     },
     "execution_count": 20,
     "metadata": {},
     "output_type": "execute_result"
    }
   ],
   "source": [
    "f = open(\"test.txt\", 'rt')        # read text : 읽기 위해서 열었다\n",
    "\n",
    "text = f.read()\n",
    "f.close()\n",
    "\n",
    "text.split(\"\\n\")"
   ]
  },
  {
   "cell_type": "code",
   "execution_count": 21,
   "id": "a5ee8926-69f7-492c-82b9-50f000440f08",
   "metadata": {},
   "outputs": [],
   "source": [
    "# pickle: 객체 그 자체를 저장하고싶을때  (텍스트형태로 말고)\n",
    "import pickle  \n",
    "\n",
    "box = [1,2,3,4,5] \n",
    "\n",
    "f = open(\"my_list.txt\", \"wb\")         # write binary : 이진법으로 무언가를 적기 위해서 열었다\n",
    "pickle.dump(box, f)             # box를 f에 저장해버리겠다 \n",
    "f.close()"
   ]
  },
  {
   "cell_type": "code",
   "execution_count": 24,
   "id": "b1f5d417-497f-40fd-a8fa-44682c4e8777",
   "metadata": {},
   "outputs": [
    {
     "data": {
      "text/plain": [
       "[1, 2, 3, 4, 5]"
      ]
     },
     "execution_count": 24,
     "metadata": {},
     "output_type": "execute_result"
    }
   ],
   "source": [
    "f = open(\"my_list.txt\", \"rb\")\n",
    "box2 = pickle.load(f)\n",
    "f.close()\n",
    "\n",
    "box2\n",
    "box2[0]\n",
    "box2[2:4]"
   ]
  },
  {
   "cell_type": "code",
   "execution_count": 28,
   "id": "9a81030d-b5bb-451e-a672-1f3689afaa21",
   "metadata": {},
   "outputs": [
    {
     "name": "stdout",
     "output_type": "stream",
     "text": [
      "                                  2026\n",
      "\n",
      "      January                   February                   March\n",
      "Mo Tu We Th Fr Sa Su      Mo Tu We Th Fr Sa Su      Mo Tu We Th Fr Sa Su\n",
      "          1  2  3  4                         1                         1\n",
      " 5  6  7  8  9 10 11       2  3  4  5  6  7  8       2  3  4  5  6  7  8\n",
      "12 13 14 15 16 17 18       9 10 11 12 13 14 15       9 10 11 12 13 14 15\n",
      "19 20 21 22 23 24 25      16 17 18 19 20 21 22      16 17 18 19 20 21 22\n",
      "26 27 28 29 30 31         23 24 25 26 27 28         23 24 25 26 27 28 29\n",
      "                                                    30 31\n",
      "\n",
      "       April                      May                       June\n",
      "Mo Tu We Th Fr Sa Su      Mo Tu We Th Fr Sa Su      Mo Tu We Th Fr Sa Su\n",
      "       1  2  3  4  5                   1  2  3       1  2  3  4  5  6  7\n",
      " 6  7  8  9 10 11 12       4  5  6  7  8  9 10       8  9 10 11 12 13 14\n",
      "13 14 15 16 17 18 19      11 12 13 14 15 16 17      15 16 17 18 19 20 21\n",
      "20 21 22 23 24 25 26      18 19 20 21 22 23 24      22 23 24 25 26 27 28\n",
      "27 28 29 30               25 26 27 28 29 30 31      29 30\n",
      "\n",
      "        July                     August                  September\n",
      "Mo Tu We Th Fr Sa Su      Mo Tu We Th Fr Sa Su      Mo Tu We Th Fr Sa Su\n",
      "       1  2  3  4  5                      1  2          1  2  3  4  5  6\n",
      " 6  7  8  9 10 11 12       3  4  5  6  7  8  9       7  8  9 10 11 12 13\n",
      "13 14 15 16 17 18 19      10 11 12 13 14 15 16      14 15 16 17 18 19 20\n",
      "20 21 22 23 24 25 26      17 18 19 20 21 22 23      21 22 23 24 25 26 27\n",
      "27 28 29 30 31            24 25 26 27 28 29 30      28 29 30\n",
      "                          31\n",
      "\n",
      "      October                   November                  December\n",
      "Mo Tu We Th Fr Sa Su      Mo Tu We Th Fr Sa Su      Mo Tu We Th Fr Sa Su\n",
      "          1  2  3  4                         1          1  2  3  4  5  6\n",
      " 5  6  7  8  9 10 11       2  3  4  5  6  7  8       7  8  9 10 11 12 13\n",
      "12 13 14 15 16 17 18       9 10 11 12 13 14 15      14 15 16 17 18 19 20\n",
      "19 20 21 22 23 24 25      16 17 18 19 20 21 22      21 22 23 24 25 26 27\n",
      "26 27 28 29 30 31         23 24 25 26 27 28 29      28 29 30 31\n",
      "                          30\n",
      "\n"
     ]
    }
   ],
   "source": [
    "# 라이브러리 : 달력\n",
    "\n",
    "import calendar\n",
    "\n",
    "print(calendar.calendar(2026))"
   ]
  },
  {
   "cell_type": "code",
   "execution_count": 31,
   "id": "a02bf04a-dbd1-4ae2-87ec-4c8a2bc52f7e",
   "metadata": {},
   "outputs": [
    {
     "data": {
      "text/plain": [
       "calendar.TUESDAY"
      ]
     },
     "execution_count": 31,
     "metadata": {},
     "output_type": "execute_result"
    }
   ],
   "source": [
    "calendar.weekday(2003,9,2)"
   ]
  },
  {
   "cell_type": "code",
   "execution_count": 35,
   "id": "f53b5b03-7319-4862-8bc9-ee8c006f909f",
   "metadata": {},
   "outputs": [
    {
     "data": {
      "text/plain": [
       "calendar.MONDAY"
      ]
     },
     "execution_count": 35,
     "metadata": {},
     "output_type": "execute_result"
    }
   ],
   "source": [
    "from calendar import weekday as wd        # 많은 calender의 함수 중 weekday만 가져옴 \n",
    "\n",
    "weekday(2025,2,10)        # weekday만 가져오면 앞에  \"calendar.\"도 안붙여도됨\n",
    "wd(2025,2,10)"
   ]
  },
  {
   "cell_type": "code",
   "execution_count": 36,
   "id": "1aea7c2e-6772-4349-ae0a-16599f080919",
   "metadata": {},
   "outputs": [
    {
     "data": {
      "text/plain": [
       "calendar.MONDAY"
      ]
     },
     "execution_count": 36,
     "metadata": {},
     "output_type": "execute_result"
    }
   ],
   "source": [
    "import calendar as cd         # 이름 짧게 지어주기 가능\n",
    "cd.weekday(2025,2,10)"
   ]
  },
  {
   "cell_type": "code",
   "execution_count": null,
   "id": "04141a95-5460-4608-a50a-3e108e8467ca",
   "metadata": {},
   "outputs": [],
   "source": [
    "!pip install tqdm      # !pip install로 라이브러리 설치 가능 "
   ]
  }
 ],
 "metadata": {
  "kernelspec": {
   "display_name": "Python 3 (ipykernel)",
   "language": "python",
   "name": "python3"
  },
  "language_info": {
   "codemirror_mode": {
    "name": "ipython",
    "version": 3
   },
   "file_extension": ".py",
   "mimetype": "text/x-python",
   "name": "python",
   "nbconvert_exporter": "python",
   "pygments_lexer": "ipython3",
   "version": "3.12.7"
  }
 },
 "nbformat": 4,
 "nbformat_minor": 5
}
