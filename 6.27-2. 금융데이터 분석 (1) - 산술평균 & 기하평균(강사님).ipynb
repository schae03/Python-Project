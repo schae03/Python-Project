{
 "cells": [
  {
   "cell_type": "markdown",
   "id": "61042795-71a5-4d4d-b4be-16dd29e5ceda",
   "metadata": {},
   "source": [
    "# 금융 데이터 분석 (1)\n",
    "## 산술평균\n",
    "산술평균은 가장 흔하게 사용되는 평균의 한 종류로, 주어진 모든 수(데이터)의 값을 더한 후 그 수의 개수로 나눈 값을 의미합니다. 일상생활에서 우리가 보통 '평균'이라고 말할 때 가리키는 것이 바로 이 산술평균입니다. 예를 들어, 시험 점수가 80점, 90점, 100점일 때, 세 과목의 평균 점수는 (80 + 90 + 100) / 3 = 90점이 됩니다."
   ]
  },
  {
   "cell_type": "code",
   "execution_count": 19,
   "id": "82973bcf-e88e-4e15-884a-ca4a95b878a8",
   "metadata": {},
   "outputs": [
    {
     "data": {
      "text/html": [
       "<div>\n",
       "<style scoped>\n",
       "    .dataframe tbody tr th:only-of-type {\n",
       "        vertical-align: middle;\n",
       "    }\n",
       "\n",
       "    .dataframe tbody tr th {\n",
       "        vertical-align: top;\n",
       "    }\n",
       "\n",
       "    .dataframe thead th {\n",
       "        text-align: right;\n",
       "    }\n",
       "</style>\n",
       "<table border=\"1\" class=\"dataframe\">\n",
       "  <thead>\n",
       "    <tr style=\"text-align: right;\">\n",
       "      <th></th>\n",
       "      <th>Open</th>\n",
       "      <th>High</th>\n",
       "      <th>Low</th>\n",
       "      <th>Close</th>\n",
       "      <th>Volume</th>\n",
       "      <th>Change</th>\n",
       "    </tr>\n",
       "    <tr>\n",
       "      <th>Date</th>\n",
       "      <th></th>\n",
       "      <th></th>\n",
       "      <th></th>\n",
       "      <th></th>\n",
       "      <th></th>\n",
       "      <th></th>\n",
       "    </tr>\n",
       "  </thead>\n",
       "  <tbody>\n",
       "    <tr>\n",
       "      <th>2013-04-15</th>\n",
       "      <td>30060</td>\n",
       "      <td>30699</td>\n",
       "      <td>30060</td>\n",
       "      <td>30460</td>\n",
       "      <td>215346</td>\n",
       "      <td>NaN</td>\n",
       "    </tr>\n",
       "    <tr>\n",
       "      <th>2013-04-16</th>\n",
       "      <td>30100</td>\n",
       "      <td>30640</td>\n",
       "      <td>30020</td>\n",
       "      <td>30560</td>\n",
       "      <td>371037</td>\n",
       "      <td>0.003283</td>\n",
       "    </tr>\n",
       "    <tr>\n",
       "      <th>2013-04-17</th>\n",
       "      <td>31320</td>\n",
       "      <td>31320</td>\n",
       "      <td>30280</td>\n",
       "      <td>30360</td>\n",
       "      <td>209822</td>\n",
       "      <td>-0.006545</td>\n",
       "    </tr>\n",
       "    <tr>\n",
       "      <th>2013-04-18</th>\n",
       "      <td>30400</td>\n",
       "      <td>30440</td>\n",
       "      <td>29619</td>\n",
       "      <td>29660</td>\n",
       "      <td>267168</td>\n",
       "      <td>-0.023057</td>\n",
       "    </tr>\n",
       "    <tr>\n",
       "      <th>2013-04-19</th>\n",
       "      <td>29299</td>\n",
       "      <td>29839</td>\n",
       "      <td>29100</td>\n",
       "      <td>29500</td>\n",
       "      <td>314080</td>\n",
       "      <td>-0.005394</td>\n",
       "    </tr>\n",
       "  </tbody>\n",
       "</table>\n",
       "</div>"
      ],
      "text/plain": [
       "             Open   High    Low  Close  Volume    Change\n",
       "Date                                                    \n",
       "2013-04-15  30060  30699  30060  30460  215346       NaN\n",
       "2013-04-16  30100  30640  30020  30560  371037  0.003283\n",
       "2013-04-17  31320  31320  30280  30360  209822 -0.006545\n",
       "2013-04-18  30400  30440  29619  29660  267168 -0.023057\n",
       "2013-04-19  29299  29839  29100  29500  314080 -0.005394"
      ]
     },
     "execution_count": 19,
     "metadata": {},
     "output_type": "execute_result"
    }
   ],
   "source": [
    "import FinanceDataReader as fdr\n",
    "df = fdr.DataReader(\"005930\")\n",
    "df.head()"
   ]
  },
  {
   "cell_type": "code",
   "execution_count": 40,
   "id": "68339b90-e9a9-4856-a7d7-b0e9192baa96",
   "metadata": {},
   "outputs": [],
   "source": [
    "# 연간 수익률 계산 함수 (산술 평균 계산에 필요)\n",
    "def return_year(x):\n",
    "    A = x.iloc[0]\n",
    "    B = x.iloc[-1]\n",
    "    return (B - A) / A"
   ]
  },
  {
   "cell_type": "code",
   "execution_count": 21,
   "id": "897380a0-de1a-4b47-ba14-71549b85c2b7",
   "metadata": {},
   "outputs": [
    {
     "data": {
      "text/plain": [
       "Date\n",
       "2013   -0.099146\n",
       "2014    0.013751\n",
       "2015   -0.052632\n",
       "2016    0.495436\n",
       "2017    0.411634\n",
       "2018   -0.241474\n",
       "2019    0.440000\n",
       "2020    0.467391\n",
       "2021   -0.056627\n",
       "2022   -0.296438\n",
       "2023    0.414414\n",
       "2024   -0.331658\n",
       "2025    0.194757\n",
       "Name: Close, dtype: float64"
      ]
     },
     "execution_count": 21,
     "metadata": {},
     "output_type": "execute_result"
    }
   ],
   "source": [
    "# 각 연도의 실제 수익률 계산\n",
    "year_return = df.groupby(df.index.year)['Close'].apply(return_year)\n",
    "year_return"
   ]
  },
  {
   "cell_type": "code",
   "execution_count": 22,
   "id": "08adcb45-77d2-467a-915e-1194db266290",
   "metadata": {},
   "outputs": [
    {
     "data": {
      "text/plain": [
       "0.10456991329883311"
      ]
     },
     "execution_count": 22,
     "metadata": {},
     "output_type": "execute_result"
    }
   ],
   "source": [
    "# 산술 평균 계산\n",
    "amean_return = year_return.mean()\n",
    "amean_return"
   ]
  },
  {
   "cell_type": "code",
   "execution_count": 23,
   "id": "2ae4e6cb-7de3-441c-8d4c-6eff673f6f09",
   "metadata": {},
   "outputs": [],
   "source": [
    "start_price = df.iloc[0]['Close']      # 전체 기간의 시작 가격\n",
    "end_price = df.iloc[-1]['Close']        # 전체 기간의 최종 가격\n",
    "start_date = df.index[0]                # 시작 날짜\n",
    "end_date = df.index[-1]                  # 최종 날짜"
   ]
  },
  {
   "cell_type": "code",
   "execution_count": 24,
   "id": "8ed4c783-cd4e-4b6f-a371-240136404d94",
   "metadata": {},
   "outputs": [
    {
     "data": {
      "text/plain": [
       "12.216290212183436"
      ]
     },
     "execution_count": 24,
     "metadata": {},
     "output_type": "execute_result"
    }
   ],
   "source": [
    "# 전체 투자 기간을 '연(year)' 단위로 계산\n",
    "total_years = (end_date - start_date).days / 365.25          # 4년에 1번있는 윤년 때문\n",
    "total_years"
   ]
  },
  {
   "cell_type": "code",
   "execution_count": 25,
   "id": "51887090-24d7-4448-a6d2-637d20e15234",
   "metadata": {},
   "outputs": [
    {
     "name": "stdout",
     "output_type": "stream",
     "text": [
      "실제 최종 주가: 63,800 원\n"
     ]
    }
   ],
   "source": [
    "print(f\"실제 최종 주가: {end_price:,.0f} 원\")"
   ]
  },
  {
   "cell_type": "code",
   "execution_count": 26,
   "id": "8b4efe8f-657b-4e83-8a9f-c00a38c07fb2",
   "metadata": {},
   "outputs": [
    {
     "name": "stdout",
     "output_type": "stream",
     "text": [
      "산술 평균 시뮬레이션 최종 주가: 102,657 원\n"
     ]
    }
   ],
   "source": [
    "# 산술 평균 기반 시뮬레이션\n",
    "simulated_price_amean = start_price * ((1 + amean_return) ** total_years)\n",
    "print(f\"산술 평균 시뮬레이션 최종 주가: {simulated_price_amean:,.0f} 원\")"
   ]
  },
  {
   "cell_type": "markdown",
   "id": "67633a48-ad1e-4d55-9d56-b59039ddc627",
   "metadata": {},
   "source": [
    "## 기하평균\n",
    "기하평균은 주어진 n개의 양수 값들을 모두 곱한 후, 그 곱에 n제곱근을 취한 값입니다. 주로 변화율의 평균을 계산할 때 사용되며, 각 데이터가 비율적인 관계를 가질 때 산술평균보다 더 유용한 지표가 됩니다.\n",
    "\n",
    "예를 들어, 100만 원을 투자했다고 상상해 봅시다. 3년간의 수익률이 다음과 같습니다. 1년 차: +60% 수익 (엄청난 대박이 터졌습니다!), 2년 차: -30% 손실 (시장이 조정받으며 손실을 봤습니다.), 3년 차: -25% 손실 (하락장이 이어지며 추가 손실을 봤습니다.). 산술평균으로는 ```\"매년 약 1.67%씩 꾸준히 이익을 본 것\"```처럼 계산됩니다. 이 숫자만 보면 3년 후에 원금보다 돈이 조금이라도 늘었을 것이라고 기대하게 됩니다. 하지만 3년 후, 100만 원이 84만 원이 되었습니다. 산술평균의 예측과 정반대로, 실제로는 16만 원의 손실을 기록했습니다. 이처럼 투자 기간이 길어지고 변동성이 클수록, 산술평균은 현실을 심각하게 왜곡할 수 있습니다. 따라서 진정한 연평균 투자 성과를 알려면 반드시 기하평균을 사용해야만 합니다."
   ]
  },
  {
   "cell_type": "code",
   "execution_count": 27,
   "id": "9b8899b0-7296-4c4d-b4d8-cbc1863e8404",
   "metadata": {},
   "outputs": [
    {
     "data": {
      "text/plain": [
       "Date\n",
       "2013    0.900854\n",
       "2014    0.913241\n",
       "2015    0.865176\n",
       "2016    1.293815\n",
       "2017    1.826393\n",
       "2018    1.385367\n",
       "2019    1.994929\n",
       "2020    2.927341\n",
       "2021    2.761576\n",
       "2022    1.942941\n",
       "2023    2.748123\n",
       "2024    1.836685\n",
       "2025    2.194392\n",
       "Name: Close, dtype: float64"
      ]
     },
     "execution_count": 27,
     "metadata": {},
     "output_type": "execute_result"
    }
   ],
   "source": [
    "(year_return + 1).cumprod()"
   ]
  },
  {
   "cell_type": "code",
   "execution_count": 28,
   "id": "18923fb3-5f41-43ce-9973-97e568ebe308",
   "metadata": {},
   "outputs": [
    {
     "data": {
      "text/plain": [
       "0.062389624274940214"
      ]
     },
     "execution_count": 28,
     "metadata": {},
     "output_type": "execute_result"
    }
   ],
   "source": [
    "# 정확한 CAGR 계산\n",
    "cagr = (end_price / start_price) ** (1 / total_years) - 1\n",
    "cagr"
   ]
  },
  {
   "cell_type": "code",
   "execution_count": 29,
   "id": "0aa17a90-2bbb-49a1-a2dd-8c2aed2178e3",
   "metadata": {},
   "outputs": [
    {
     "name": "stdout",
     "output_type": "stream",
     "text": [
      "기하 평균 시뮬레이션 최종 주가: 63,800 원\n"
     ]
    }
   ],
   "source": [
    "# 기하 평균(CAGR) 기반 시뮬레이션\n",
    "simulated_price_cagr = start_price * ((1 + cagr) ** total_years)\n",
    "print(f\"기하 평균 시뮬레이션 최종 주가: {simulated_price_cagr:,.0f} 원\")"
   ]
  },
  {
   "cell_type": "markdown",
   "id": "db99db8d-fe72-4e32-a228-2a433d4eac92",
   "metadata": {},
   "source": [
    "## 연평균 수익률이 가장 좋은 종목은?"
   ]
  },
  {
   "cell_type": "code",
   "execution_count": 12,
   "id": "d20fb943-1ee6-4951-b866-750bc9e3cf0b",
   "metadata": {},
   "outputs": [
    {
     "name": "stderr",
     "output_type": "stream",
     "text": [
      "100%|████████████████████████████████████████████████████████████████████████████████| 962/962 [01:44<00:00,  9.19it/s]\n"
     ]
    }
   ],
   "source": [
    "from tqdm import tqdm\n",
    "\n",
    "kospi = fdr.StockListing(\"KOSPI\")\n",
    "\n",
    "total = []\n",
    "\n",
    "for i in tqdm(range(len(kospi))):\n",
    "\n",
    "    try:\n",
    "        row = kospi.iloc[i]\n",
    "        code = row['Code']\n",
    "        name = row['Name']\n",
    "        df = fdr.DataReader(\"NAVER:\" + code).copy()\n",
    "    \n",
    "        start_price = df.iloc[0]['Close']\n",
    "        end_price = df.iloc[-1]['Close']\n",
    "        start_date = df.index[0]\n",
    "        end_date = df.index[-1]\n",
    "    \n",
    "        total_years = (end_date - start_date).days / 365.25\n",
    "\n",
    "        cagr = ((end_price / start_price) ** (1 / total_years) - 1) * 100\n",
    "        total.append([code, name, cagr, total_years])\n",
    "    \n",
    "    except:\n",
    "        continue"
   ]
  },
  {
   "cell_type": "code",
   "execution_count": 13,
   "id": "52c89a70-bf1d-4185-9862-5224e177f651",
   "metadata": {},
   "outputs": [
    {
     "data": {
      "text/html": [
       "<div>\n",
       "<style scoped>\n",
       "    .dataframe tbody tr th:only-of-type {\n",
       "        vertical-align: middle;\n",
       "    }\n",
       "\n",
       "    .dataframe tbody tr th {\n",
       "        vertical-align: top;\n",
       "    }\n",
       "\n",
       "    .dataframe thead th {\n",
       "        text-align: right;\n",
       "    }\n",
       "</style>\n",
       "<table border=\"1\" class=\"dataframe\">\n",
       "  <thead>\n",
       "    <tr style=\"text-align: right;\">\n",
       "      <th></th>\n",
       "      <th>코드번호</th>\n",
       "      <th>종목</th>\n",
       "      <th>연평균 수익률</th>\n",
       "      <th>기간</th>\n",
       "    </tr>\n",
       "  </thead>\n",
       "  <tbody>\n",
       "    <tr>\n",
       "      <th>55</th>\n",
       "      <td>003230</td>\n",
       "      <td>삼양식품</td>\n",
       "      <td>38.263625</td>\n",
       "      <td>12.221766</td>\n",
       "    </tr>\n",
       "    <tr>\n",
       "      <th>56</th>\n",
       "      <td>042700</td>\n",
       "      <td>한미반도체</td>\n",
       "      <td>37.381886</td>\n",
       "      <td>12.221766</td>\n",
       "    </tr>\n",
       "    <tr>\n",
       "      <th>26</th>\n",
       "      <td>138040</td>\n",
       "      <td>메리츠금융지주</td>\n",
       "      <td>31.884240</td>\n",
       "      <td>12.221766</td>\n",
       "    </tr>\n",
       "    <tr>\n",
       "      <th>459</th>\n",
       "      <td>003350</td>\n",
       "      <td>한국화장품제조</td>\n",
       "      <td>24.938072</td>\n",
       "      <td>12.221766</td>\n",
       "    </tr>\n",
       "    <tr>\n",
       "      <th>712</th>\n",
       "      <td>019175</td>\n",
       "      <td>신풍제약우</td>\n",
       "      <td>24.567623</td>\n",
       "      <td>12.221766</td>\n",
       "    </tr>\n",
       "    <tr>\n",
       "      <th>...</th>\n",
       "      <td>...</td>\n",
       "      <td>...</td>\n",
       "      <td>...</td>\n",
       "      <td>...</td>\n",
       "    </tr>\n",
       "    <tr>\n",
       "      <th>730</th>\n",
       "      <td>001470</td>\n",
       "      <td>삼부토건</td>\n",
       "      <td>-28.516868</td>\n",
       "      <td>12.221766</td>\n",
       "    </tr>\n",
       "    <tr>\n",
       "      <th>290</th>\n",
       "      <td>016380</td>\n",
       "      <td>KG스틸</td>\n",
       "      <td>-30.593428</td>\n",
       "      <td>12.221766</td>\n",
       "    </tr>\n",
       "    <tr>\n",
       "      <th>661</th>\n",
       "      <td>011810</td>\n",
       "      <td>STX</td>\n",
       "      <td>-31.743243</td>\n",
       "      <td>12.221766</td>\n",
       "    </tr>\n",
       "    <tr>\n",
       "      <th>866</th>\n",
       "      <td>090370</td>\n",
       "      <td>메타랩스</td>\n",
       "      <td>-32.700706</td>\n",
       "      <td>12.221766</td>\n",
       "    </tr>\n",
       "    <tr>\n",
       "      <th>847</th>\n",
       "      <td>025620</td>\n",
       "      <td>제이준코스메틱</td>\n",
       "      <td>-39.282749</td>\n",
       "      <td>12.221766</td>\n",
       "    </tr>\n",
       "  </tbody>\n",
       "</table>\n",
       "<p>762 rows × 4 columns</p>\n",
       "</div>"
      ],
      "text/plain": [
       "       코드번호       종목    연평균 수익률         기간\n",
       "55   003230     삼양식품  38.263625  12.221766\n",
       "56   042700    한미반도체  37.381886  12.221766\n",
       "26   138040  메리츠금융지주  31.884240  12.221766\n",
       "459  003350  한국화장품제조  24.938072  12.221766\n",
       "712  019175    신풍제약우  24.567623  12.221766\n",
       "..      ...      ...        ...        ...\n",
       "730  001470     삼부토건 -28.516868  12.221766\n",
       "290  016380     KG스틸 -30.593428  12.221766\n",
       "661  011810      STX -31.743243  12.221766\n",
       "866  090370     메타랩스 -32.700706  12.221766\n",
       "847  025620  제이준코스메틱 -39.282749  12.221766\n",
       "\n",
       "[762 rows x 4 columns]"
      ]
     },
     "execution_count": 13,
     "metadata": {},
     "output_type": "execute_result"
    }
   ],
   "source": [
    "import pandas as pd\n",
    "result = pd.DataFrame(total, columns = ['코드번호', '종목', '연평균 수익률', '기간']).sort_values(\"연평균 수익률\", ascending = False)\n",
    "result[result['기간'] >= 12]"
   ]
  },
  {
   "cell_type": "markdown",
   "id": "b4a45f23-9071-463d-a49e-7db9ea73a138",
   "metadata": {},
   "source": [
    "## 연습문제\n",
    "1. 초기 투자금이 100만원일 때, 3년간 연 수익률이 각각 +50%, -50%, +20% 였다고 가정해봅시다.\n",
    "    * 3년간의 산술평균 수익률을 계산하세요.\n",
    "    * 3년 후의 최종 자산을 계산하고, 이를 바탕으로 실제 ```연평균 복리 수익률(CAGR, 기하평균)```을 계산하세요."
   ]
  },
  {
   "cell_type": "markdown",
   "id": "4491cf65-d143-47ac-9a48-de51f6508769",
   "metadata": {},
   "source": [
    "- 3년간의 산술평균 수익률을 계산하세요."
   ]
  },
  {
   "cell_type": "code",
   "execution_count": 14,
   "id": "39d8e763-e13d-4a72-bd03-178c969e4580",
   "metadata": {},
   "outputs": [
    {
     "data": {
      "text/plain": [
       "1213629.6296296297"
      ]
     },
     "execution_count": 14,
     "metadata": {},
     "output_type": "execute_result"
    }
   ],
   "source": [
    "money = 1000000\n",
    "box = [0.5, -0.5, 0.2]\n",
    "\n",
    "# 산술평균\n",
    "rate = sum(box) / len(box)\n",
    "\n",
    "for i in box:\n",
    "    money *= (1 + rate)\n",
    "\n",
    "money"
   ]
  },
  {
   "cell_type": "markdown",
   "id": "8609ec38-f32c-43bc-9505-a273c5f21fd9",
   "metadata": {},
   "source": [
    "- 3년 후의 최종 자산을 계산하고, 이를 바탕으로 실제 연평균 복리 수익률(CAGR, 기하평균)을 계산하세요."
   ]
  },
  {
   "cell_type": "code",
   "execution_count": 15,
   "id": "910a75fb-95e0-4cf6-bdda-a65511db2e6c",
   "metadata": {},
   "outputs": [
    {
     "data": {
      "text/plain": [
       "-0.03451061539437028"
      ]
     },
     "execution_count": 15,
     "metadata": {},
     "output_type": "execute_result"
    }
   ],
   "source": [
    "money = 1000000\n",
    "\n",
    "# 기하평균\n",
    "A = 1\n",
    "for i in box:\n",
    "    A *= (i + 1)\n",
    "\n",
    "A ** (1/3) - 1"
   ]
  },
  {
   "cell_type": "markdown",
   "id": "239ff621-df09-4470-a90d-cefd82caa3a2",
   "metadata": {},
   "source": [
    "2. SK하이닉스(종목코드: 000660)의 전체 상장 기간 데이터를 사용하여 다음을 계산하고 설명하세요.\n",
    "    * 연도별 수익률을 구하고, 이들의 산술평균을 계산하세요.\n",
    "    * 전체 기간의 시작가와 최종가를 이용해 ```연평균 복리 수익률(CAGR)```을 계산하세요.\n",
    "    * 산술평균과 CAGR로 각각 시뮬레이션한 최종 주가와 실제 최종 주가를 비교하세요."
   ]
  },
  {
   "cell_type": "markdown",
   "id": "60a90ab0-f9af-4410-9ee9-ab2c101f908a",
   "metadata": {},
   "source": [
    "- 연도별 수익률을 구하고, 이들의 산술평균을 계산하세요."
   ]
  },
  {
   "cell_type": "code",
   "execution_count": 37,
   "id": "2aa0340d-3dd7-4462-a5d3-2c66b14729d6",
   "metadata": {},
   "outputs": [
    {
     "data": {
      "text/plain": [
       "0.2566884234991776"
      ]
     },
     "execution_count": 37,
     "metadata": {},
     "output_type": "execute_result"
    }
   ],
   "source": [
    "import FinanceDataReader as fdr\n",
    "df = fdr.DataReader(\"000660\")\n",
    "\n",
    "start_date = df.index[0]\n",
    "end_date = df.index[-1]\n",
    "total_years = (end_date - start_date).days / 365.25\n",
    "\n",
    "start_price = df.iloc[0][\"Close\"]\n",
    "end_price = df.iloc[-1][\"Close\"]\n",
    "\n",
    "A = df.groupby(df.index.year)[\"Close\"].apply(lambda x: (x.iloc[-1] - x.iloc[0]) / x.iloc[0])\n",
    "A.mean()"
   ]
  },
  {
   "cell_type": "markdown",
   "id": "e6c6b55b-ab91-4dfe-9989-8dfbc0d96ac9",
   "metadata": {},
   "source": [
    "- 전체 기간의 시작가와 최종가를 이용해 연평균 복리 수익률(CAGR)을 계산하세요."
   ]
  },
  {
   "cell_type": "code",
   "execution_count": 38,
   "id": "173d3dfe-1315-4e81-8532-016a78913164",
   "metadata": {},
   "outputs": [
    {
     "data": {
      "text/plain": [
       "0.20291802069554898"
      ]
     },
     "execution_count": 38,
     "metadata": {},
     "output_type": "execute_result"
    }
   ],
   "source": [
    "(end_price / start_price) ** (1 / total_years) - 1"
   ]
  },
  {
   "cell_type": "markdown",
   "id": "45e85b66-4269-474a-8d3c-844f5db63fae",
   "metadata": {},
   "source": [
    "- 산술평균과 CAGR로 각각 시뮬레이션한 최종 주가와 실제 최종 주가를 비교하세요."
   ]
  },
  {
   "cell_type": "code",
   "execution_count": 42,
   "id": "70c24f4a-6b84-4f7e-b45a-f80682d59220",
   "metadata": {},
   "outputs": [
    {
     "name": "stdout",
     "output_type": "stream",
     "text": [
      "산술 평균 시뮬레이션 최종 주가: 475,151 원\n",
      "기하 평균 시뮬레이션 최종 주가: 278,500 원\n",
      "실제 최종 주가: 278,500 원\n"
     ]
    }
   ],
   "source": [
    "# 산술 평균 기반 시뮬레이션\n",
    "def return_year(x):\n",
    "    A = x.iloc[0]\n",
    "    B = x.iloc[-1]\n",
    "    return (B - A) / A\n",
    "year_return = df.groupby(df.index.year)['Close'].apply(return_year)\n",
    "amean_return = year_return.mean()\n",
    "simulated_price_amean = start_price * ((1 + amean_return) ** total_years)\n",
    "print(f\"산술 평균 시뮬레이션 최종 주가: {simulated_price_amean:,.0f} 원\")\n",
    "\n",
    "# 기하 평균(CAGR) 기반 시뮬레이션\n",
    "cagr = (end_price / start_price) ** (1 / total_years) - 1\n",
    "simulated_price_cagr = start_price * ((1 + cagr) ** total_years)\n",
    "print(f\"기하 평균 시뮬레이션 최종 주가: {simulated_price_cagr:,.0f} 원\")\n",
    "\n",
    "print(f\"실제 최종 주가: {end_price:,.0f} 원\")"
   ]
  },
  {
   "cell_type": "markdown",
   "id": "a5047066-5af3-4a0f-aa31-7d5cbd7e345b",
   "metadata": {},
   "source": [
    "3. 네이버(NAVER, 종목코드: 035420)의 최근 5년간 (오늘을 기준으로) 데이터를 사용하여 연평균 복리 수익률(CAGR)을 계산하세요."
   ]
  },
  {
   "cell_type": "code",
   "execution_count": 43,
   "id": "84f43c40-18e8-479d-a70a-21ddbe9a68be",
   "metadata": {},
   "outputs": [
    {
     "data": {
      "text/html": [
       "<div>\n",
       "<style scoped>\n",
       "    .dataframe tbody tr th:only-of-type {\n",
       "        vertical-align: middle;\n",
       "    }\n",
       "\n",
       "    .dataframe tbody tr th {\n",
       "        vertical-align: top;\n",
       "    }\n",
       "\n",
       "    .dataframe thead th {\n",
       "        text-align: right;\n",
       "    }\n",
       "</style>\n",
       "<table border=\"1\" class=\"dataframe\">\n",
       "  <thead>\n",
       "    <tr style=\"text-align: right;\">\n",
       "      <th></th>\n",
       "      <th>Open</th>\n",
       "      <th>High</th>\n",
       "      <th>Low</th>\n",
       "      <th>Close</th>\n",
       "      <th>Volume</th>\n",
       "      <th>Change</th>\n",
       "    </tr>\n",
       "    <tr>\n",
       "      <th>Date</th>\n",
       "      <th></th>\n",
       "      <th></th>\n",
       "      <th></th>\n",
       "      <th></th>\n",
       "      <th></th>\n",
       "      <th></th>\n",
       "    </tr>\n",
       "  </thead>\n",
       "  <tbody>\n",
       "    <tr>\n",
       "      <th>2020-07-03</th>\n",
       "      <td>276500</td>\n",
       "      <td>280500</td>\n",
       "      <td>274500</td>\n",
       "      <td>277500</td>\n",
       "      <td>971940</td>\n",
       "      <td>0.001805</td>\n",
       "    </tr>\n",
       "    <tr>\n",
       "      <th>2020-07-06</th>\n",
       "      <td>278000</td>\n",
       "      <td>287500</td>\n",
       "      <td>278000</td>\n",
       "      <td>281500</td>\n",
       "      <td>1211636</td>\n",
       "      <td>0.014414</td>\n",
       "    </tr>\n",
       "    <tr>\n",
       "      <th>2020-07-07</th>\n",
       "      <td>285000</td>\n",
       "      <td>289500</td>\n",
       "      <td>279000</td>\n",
       "      <td>279500</td>\n",
       "      <td>1365047</td>\n",
       "      <td>-0.007105</td>\n",
       "    </tr>\n",
       "    <tr>\n",
       "      <th>2020-07-08</th>\n",
       "      <td>280000</td>\n",
       "      <td>284500</td>\n",
       "      <td>274000</td>\n",
       "      <td>282500</td>\n",
       "      <td>1353345</td>\n",
       "      <td>0.010733</td>\n",
       "    </tr>\n",
       "    <tr>\n",
       "      <th>2020-07-09</th>\n",
       "      <td>286500</td>\n",
       "      <td>296500</td>\n",
       "      <td>284500</td>\n",
       "      <td>287500</td>\n",
       "      <td>2006662</td>\n",
       "      <td>0.017699</td>\n",
       "    </tr>\n",
       "    <tr>\n",
       "      <th>...</th>\n",
       "      <td>...</td>\n",
       "      <td>...</td>\n",
       "      <td>...</td>\n",
       "      <td>...</td>\n",
       "      <td>...</td>\n",
       "      <td>...</td>\n",
       "    </tr>\n",
       "    <tr>\n",
       "      <th>2025-06-27</th>\n",
       "      <td>263500</td>\n",
       "      <td>265000</td>\n",
       "      <td>252000</td>\n",
       "      <td>257500</td>\n",
       "      <td>2316733</td>\n",
       "      <td>-0.013410</td>\n",
       "    </tr>\n",
       "    <tr>\n",
       "      <th>2025-06-30</th>\n",
       "      <td>257000</td>\n",
       "      <td>268000</td>\n",
       "      <td>255500</td>\n",
       "      <td>262500</td>\n",
       "      <td>2219752</td>\n",
       "      <td>0.019417</td>\n",
       "    </tr>\n",
       "    <tr>\n",
       "      <th>2025-07-01</th>\n",
       "      <td>264000</td>\n",
       "      <td>269000</td>\n",
       "      <td>260000</td>\n",
       "      <td>262000</td>\n",
       "      <td>1791173</td>\n",
       "      <td>-0.001905</td>\n",
       "    </tr>\n",
       "    <tr>\n",
       "      <th>2025-07-02</th>\n",
       "      <td>263000</td>\n",
       "      <td>263500</td>\n",
       "      <td>250000</td>\n",
       "      <td>252000</td>\n",
       "      <td>1870730</td>\n",
       "      <td>-0.038168</td>\n",
       "    </tr>\n",
       "    <tr>\n",
       "      <th>2025-07-03</th>\n",
       "      <td>250500</td>\n",
       "      <td>260000</td>\n",
       "      <td>249500</td>\n",
       "      <td>253000</td>\n",
       "      <td>1194730</td>\n",
       "      <td>0.003968</td>\n",
       "    </tr>\n",
       "  </tbody>\n",
       "</table>\n",
       "<p>1227 rows × 6 columns</p>\n",
       "</div>"
      ],
      "text/plain": [
       "              Open    High     Low   Close   Volume    Change\n",
       "Date                                                         \n",
       "2020-07-03  276500  280500  274500  277500   971940  0.001805\n",
       "2020-07-06  278000  287500  278000  281500  1211636  0.014414\n",
       "2020-07-07  285000  289500  279000  279500  1365047 -0.007105\n",
       "2020-07-08  280000  284500  274000  282500  1353345  0.010733\n",
       "2020-07-09  286500  296500  284500  287500  2006662  0.017699\n",
       "...            ...     ...     ...     ...      ...       ...\n",
       "2025-06-27  263500  265000  252000  257500  2316733 -0.013410\n",
       "2025-06-30  257000  268000  255500  262500  2219752  0.019417\n",
       "2025-07-01  264000  269000  260000  262000  1791173 -0.001905\n",
       "2025-07-02  263000  263500  250000  252000  1870730 -0.038168\n",
       "2025-07-03  250500  260000  249500  253000  1194730  0.003968\n",
       "\n",
       "[1227 rows x 6 columns]"
      ]
     },
     "execution_count": 43,
     "metadata": {},
     "output_type": "execute_result"
    }
   ],
   "source": [
    "import FinanceDataReader as fdr\n",
    "from datetime import datetime, timedelta\n",
    "\n",
    "end_date = datetime.today()\n",
    "start_date = end_date - timedelta(days=365.25 * 5)\n",
    "\n",
    "start_str = start_date.strftime('%Y-%m-%d')\n",
    "end_str = end_date.strftime('%Y-%m-%d')\n",
    "\n",
    "df = fdr.DataReader('035420', start=start_str, end=end_str)\n",
    "df"
   ]
  },
  {
   "cell_type": "code",
   "execution_count": 45,
   "id": "08960093-093e-4a64-af96-33960305dda2",
   "metadata": {},
   "outputs": [
    {
     "data": {
      "text/plain": [
       "-0.007537693001550716"
      ]
     },
     "execution_count": 45,
     "metadata": {},
     "output_type": "execute_result"
    }
   ],
   "source": [
    "start_price = df.iloc[0][\"Close\"]\n",
    "end_price = df.iloc[-1][\"Close\"]\n",
    "\n",
    "cagr = (end_price / start_price) ** (1 / total_years) - 1\n",
    "cagr"
   ]
  },
  {
   "cell_type": "markdown",
   "id": "98076bb9-4e77-4fb6-a5be-9e3f0585fe9a",
   "metadata": {},
   "source": [
    "4. 카카오(035720)와 삼성SDI(006400)의 2015년 1월 1일부터 현재까지의 데이터를 각각 불러와 CAGR을 계산하고, 어느 종목의 연평균 수익률이 더 높았는지 비교하세요."
   ]
  },
  {
   "cell_type": "code",
   "execution_count": 50,
   "id": "91c687a6-e0b0-4fba-b175-8462708c806a",
   "metadata": {},
   "outputs": [],
   "source": [
    "import FinanceDataReader as fdr\n",
    "from datetime import datetime\n",
    "\n",
    "start_date = datetime.strptime(\"2015-01-01\", \"%Y-%m-%d\")\n",
    "end_date = datetime.today()\n",
    "total_years = (end_date - start_date).days / 365.25\n",
    "\n",
    "start_str = start_date.strftime('%Y-%m-%d')\n",
    "end_str = end_date.strftime('%Y-%m-%d')\n",
    "\n",
    "kakao = fdr.DataReader(\"035720\", start=start_str, end=end_str)\n",
    "sdi = fdr.DataReader(\"006400\", start=start_str, end=end_str)"
   ]
  },
  {
   "cell_type": "code",
   "execution_count": 51,
   "id": "09bdc5dd-bba7-468e-84db-aa3e379c4aaa",
   "metadata": {},
   "outputs": [
    {
     "data": {
      "text/plain": [
       "0.07611312564009332"
      ]
     },
     "execution_count": 51,
     "metadata": {},
     "output_type": "execute_result"
    }
   ],
   "source": [
    "start_price = kakao.iloc[0][\"Close\"]\n",
    "end_price = kakao.iloc[-1][\"Close\"]\n",
    "\n",
    "cagr_kakao = (end_price / start_price) ** (1 / total_years) - 1\n",
    "cagr_kakao"
   ]
  },
  {
   "cell_type": "code",
   "execution_count": 52,
   "id": "25c65e60-1731-4494-ab10-1fd3d4d7aee1",
   "metadata": {},
   "outputs": [
    {
     "data": {
      "text/plain": [
       "0.04686401274061991"
      ]
     },
     "execution_count": 52,
     "metadata": {},
     "output_type": "execute_result"
    }
   ],
   "source": [
    "start_price = sdi.iloc[0][\"Close\"]\n",
    "end_price = sdi.iloc[-1][\"Close\"]\n",
    "\n",
    "cagr_sdi = (end_price / start_price) ** (1 / total_years) - 1\n",
    "cagr_sdi"
   ]
  },
  {
   "cell_type": "markdown",
   "id": "9d66e2d5-bfe5-40f9-8583-b94096015c14",
   "metadata": {},
   "source": [
    "5. 강의 내용에서는 코스피(KOSPI) 시장을 분석했습니다. 이번에는 코스닥(KOSDAQ) 시장에 상장된 종목 중, 상장 기간이 10년 이상인 종목들을 대상으로 연평균 복리 수익률(CAGR)이 가장 높은 상위 5개 종목을 찾아보세요."
   ]
  },
  {
   "cell_type": "code",
   "execution_count": null,
   "id": "1ba1de47-88fa-4df6-a017-d57a7b7a43ad",
   "metadata": {},
   "outputs": [],
   "source": []
  },
  {
   "cell_type": "markdown",
   "id": "79a164f8-b186-469f-93f2-944743b1881d",
   "metadata": {},
   "source": [
    "------"
   ]
  },
  {
   "cell_type": "markdown",
   "id": "1bf58938-48d0-4c21-b1f2-46e2365d5fba",
   "metadata": {},
   "source": [
    "## 네이버 증권 크롤링"
   ]
  },
  {
   "cell_type": "code",
   "execution_count": 46,
   "id": "d36b4b7c-2f23-49c0-9db7-045bdc480834",
   "metadata": {},
   "outputs": [
    {
     "data": {
      "text/html": [
       "<div>\n",
       "<style scoped>\n",
       "    .dataframe tbody tr th:only-of-type {\n",
       "        vertical-align: middle;\n",
       "    }\n",
       "\n",
       "    .dataframe tbody tr th {\n",
       "        vertical-align: top;\n",
       "    }\n",
       "\n",
       "    .dataframe thead th {\n",
       "        text-align: right;\n",
       "    }\n",
       "</style>\n",
       "<table border=\"1\" class=\"dataframe\">\n",
       "  <thead>\n",
       "    <tr style=\"text-align: right;\">\n",
       "      <th></th>\n",
       "      <th>날짜</th>\n",
       "      <th>종가</th>\n",
       "      <th>전일비</th>\n",
       "      <th>시가</th>\n",
       "      <th>고가</th>\n",
       "      <th>저가</th>\n",
       "      <th>거래량</th>\n",
       "    </tr>\n",
       "  </thead>\n",
       "  <tbody>\n",
       "    <tr>\n",
       "      <th>1</th>\n",
       "      <td>2025.06.27</td>\n",
       "      <td>60900.0</td>\n",
       "      <td>상승  700</td>\n",
       "      <td>60100.0</td>\n",
       "      <td>61600.0</td>\n",
       "      <td>60000.0</td>\n",
       "      <td>12706607.0</td>\n",
       "    </tr>\n",
       "    <tr>\n",
       "      <th>2</th>\n",
       "      <td>2025.06.26</td>\n",
       "      <td>60200.0</td>\n",
       "      <td>하락  1,100</td>\n",
       "      <td>61300.0</td>\n",
       "      <td>61300.0</td>\n",
       "      <td>59900.0</td>\n",
       "      <td>19402300.0</td>\n",
       "    </tr>\n",
       "    <tr>\n",
       "      <th>3</th>\n",
       "      <td>2025.06.25</td>\n",
       "      <td>61300.0</td>\n",
       "      <td>상승  800</td>\n",
       "      <td>61500.0</td>\n",
       "      <td>61600.0</td>\n",
       "      <td>60300.0</td>\n",
       "      <td>23933612.0</td>\n",
       "    </tr>\n",
       "    <tr>\n",
       "      <th>4</th>\n",
       "      <td>2025.06.24</td>\n",
       "      <td>60500.0</td>\n",
       "      <td>상승  2,500</td>\n",
       "      <td>59400.0</td>\n",
       "      <td>60600.0</td>\n",
       "      <td>59300.0</td>\n",
       "      <td>23737899.0</td>\n",
       "    </tr>\n",
       "    <tr>\n",
       "      <th>5</th>\n",
       "      <td>2025.06.23</td>\n",
       "      <td>58000.0</td>\n",
       "      <td>하락  1,500</td>\n",
       "      <td>58400.0</td>\n",
       "      <td>58500.0</td>\n",
       "      <td>57600.0</td>\n",
       "      <td>16551694.0</td>\n",
       "    </tr>\n",
       "    <tr>\n",
       "      <th>9</th>\n",
       "      <td>2025.06.20</td>\n",
       "      <td>59500.0</td>\n",
       "      <td>상승  300</td>\n",
       "      <td>59400.0</td>\n",
       "      <td>59800.0</td>\n",
       "      <td>59100.0</td>\n",
       "      <td>18072251.0</td>\n",
       "    </tr>\n",
       "    <tr>\n",
       "      <th>10</th>\n",
       "      <td>2025.06.19</td>\n",
       "      <td>59200.0</td>\n",
       "      <td>하락  600</td>\n",
       "      <td>60500.0</td>\n",
       "      <td>60600.0</td>\n",
       "      <td>59000.0</td>\n",
       "      <td>16876278.0</td>\n",
       "    </tr>\n",
       "    <tr>\n",
       "      <th>11</th>\n",
       "      <td>2025.06.18</td>\n",
       "      <td>59800.0</td>\n",
       "      <td>상승  1,700</td>\n",
       "      <td>58000.0</td>\n",
       "      <td>59800.0</td>\n",
       "      <td>57900.0</td>\n",
       "      <td>17620705.0</td>\n",
       "    </tr>\n",
       "    <tr>\n",
       "      <th>12</th>\n",
       "      <td>2025.06.17</td>\n",
       "      <td>58100.0</td>\n",
       "      <td>상승  900</td>\n",
       "      <td>57800.0</td>\n",
       "      <td>59800.0</td>\n",
       "      <td>57400.0</td>\n",
       "      <td>28637003.0</td>\n",
       "    </tr>\n",
       "    <tr>\n",
       "      <th>13</th>\n",
       "      <td>2025.06.16</td>\n",
       "      <td>57200.0</td>\n",
       "      <td>하락  1,100</td>\n",
       "      <td>58000.0</td>\n",
       "      <td>58100.0</td>\n",
       "      <td>56900.0</td>\n",
       "      <td>22200872.0</td>\n",
       "    </tr>\n",
       "  </tbody>\n",
       "</table>\n",
       "</div>"
      ],
      "text/plain": [
       "            날짜       종가        전일비       시가       고가       저가         거래량\n",
       "1   2025.06.27  60900.0    상승  700  60100.0  61600.0  60000.0  12706607.0\n",
       "2   2025.06.26  60200.0  하락  1,100  61300.0  61300.0  59900.0  19402300.0\n",
       "3   2025.06.25  61300.0    상승  800  61500.0  61600.0  60300.0  23933612.0\n",
       "4   2025.06.24  60500.0  상승  2,500  59400.0  60600.0  59300.0  23737899.0\n",
       "5   2025.06.23  58000.0  하락  1,500  58400.0  58500.0  57600.0  16551694.0\n",
       "9   2025.06.20  59500.0    상승  300  59400.0  59800.0  59100.0  18072251.0\n",
       "10  2025.06.19  59200.0    하락  600  60500.0  60600.0  59000.0  16876278.0\n",
       "11  2025.06.18  59800.0  상승  1,700  58000.0  59800.0  57900.0  17620705.0\n",
       "12  2025.06.17  58100.0    상승  900  57800.0  59800.0  57400.0  28637003.0\n",
       "13  2025.06.16  57200.0  하락  1,100  58000.0  58100.0  56900.0  22200872.0"
      ]
     },
     "execution_count": 46,
     "metadata": {},
     "output_type": "execute_result"
    }
   ],
   "source": [
    "import undetected_chromedriver as uc\n",
    "from bs4 import BeautifulSoup\n",
    "import pandas as pd\n",
    "import warnings\n",
    "warnings.filterwarnings(\"ignore\")\n",
    "\n",
    "driver = uc.Chrome()\n",
    "driver.get(\"https://finance.naver.com/item/sise_day.naver?code=005930&page=1\")\n",
    "\n",
    "html = BeautifulSoup(driver.page_source)\n",
    "html.find(\"table\")\n",
    "pd.read_html(str(html.find(\"table\")))[0].dropna()"
   ]
  },
  {
   "cell_type": "code",
   "execution_count": 47,
   "id": "f4dd9e5d-0e8f-44da-bef4-cf2d6778facd",
   "metadata": {},
   "outputs": [],
   "source": [
    "import pandas as pd\n",
    "import warnings\n",
    "warnings.filterwarnings(\"ignore\")\n",
    "\n",
    "total = []\n",
    "for n in range(1, 728):\n",
    "    driver.implicitly_wait(10)\n",
    "    driver.get(f\"https://finance.naver.com/item/sise_day.naver?code=005930&page={n}\")\n",
    "    html = BeautifulSoup(driver.page_source)\n",
    "    table = pd.read_html(str(html.find(\"table\")))[0].dropna()\n",
    "    total.append(table)"
   ]
  },
  {
   "cell_type": "code",
   "execution_count": 50,
   "id": "67817e80-13e0-4c4a-a608-0f9abbbd6b9f",
   "metadata": {},
   "outputs": [
    {
     "data": {
      "text/html": [
       "<div>\n",
       "<style scoped>\n",
       "    .dataframe tbody tr th:only-of-type {\n",
       "        vertical-align: middle;\n",
       "    }\n",
       "\n",
       "    .dataframe tbody tr th {\n",
       "        vertical-align: top;\n",
       "    }\n",
       "\n",
       "    .dataframe thead th {\n",
       "        text-align: right;\n",
       "    }\n",
       "</style>\n",
       "<table border=\"1\" class=\"dataframe\">\n",
       "  <thead>\n",
       "    <tr style=\"text-align: right;\">\n",
       "      <th></th>\n",
       "      <th>날짜</th>\n",
       "      <th>종가</th>\n",
       "      <th>전일비</th>\n",
       "      <th>시가</th>\n",
       "      <th>고가</th>\n",
       "      <th>저가</th>\n",
       "      <th>거래량</th>\n",
       "    </tr>\n",
       "  </thead>\n",
       "  <tbody>\n",
       "    <tr>\n",
       "      <th>0</th>\n",
       "      <td>2025.06.27</td>\n",
       "      <td>60900.0</td>\n",
       "      <td>상승  700</td>\n",
       "      <td>60100.0</td>\n",
       "      <td>61600.0</td>\n",
       "      <td>60000.0</td>\n",
       "      <td>12706607.0</td>\n",
       "    </tr>\n",
       "    <tr>\n",
       "      <th>1</th>\n",
       "      <td>2025.06.26</td>\n",
       "      <td>60200.0</td>\n",
       "      <td>하락  1,100</td>\n",
       "      <td>61300.0</td>\n",
       "      <td>61300.0</td>\n",
       "      <td>59900.0</td>\n",
       "      <td>19402300.0</td>\n",
       "    </tr>\n",
       "    <tr>\n",
       "      <th>2</th>\n",
       "      <td>2025.06.25</td>\n",
       "      <td>61300.0</td>\n",
       "      <td>상승  800</td>\n",
       "      <td>61500.0</td>\n",
       "      <td>61600.0</td>\n",
       "      <td>60300.0</td>\n",
       "      <td>23933612.0</td>\n",
       "    </tr>\n",
       "    <tr>\n",
       "      <th>3</th>\n",
       "      <td>2025.06.24</td>\n",
       "      <td>60500.0</td>\n",
       "      <td>상승  2,500</td>\n",
       "      <td>59400.0</td>\n",
       "      <td>60600.0</td>\n",
       "      <td>59300.0</td>\n",
       "      <td>23737899.0</td>\n",
       "    </tr>\n",
       "    <tr>\n",
       "      <th>4</th>\n",
       "      <td>2025.06.23</td>\n",
       "      <td>58000.0</td>\n",
       "      <td>하락  1,500</td>\n",
       "      <td>58400.0</td>\n",
       "      <td>58500.0</td>\n",
       "      <td>57600.0</td>\n",
       "      <td>16551694.0</td>\n",
       "    </tr>\n",
       "    <tr>\n",
       "      <th>...</th>\n",
       "      <td>...</td>\n",
       "      <td>...</td>\n",
       "      <td>...</td>\n",
       "      <td>...</td>\n",
       "      <td>...</td>\n",
       "      <td>...</td>\n",
       "      <td>...</td>\n",
       "    </tr>\n",
       "    <tr>\n",
       "      <th>7257</th>\n",
       "      <td>1996.06.29</td>\n",
       "      <td>68500.0</td>\n",
       "      <td>상승  400</td>\n",
       "      <td>68100.0</td>\n",
       "      <td>69100.0</td>\n",
       "      <td>67100.0</td>\n",
       "      <td>96710.0</td>\n",
       "    </tr>\n",
       "    <tr>\n",
       "      <th>7258</th>\n",
       "      <td>1996.06.28</td>\n",
       "      <td>68100.0</td>\n",
       "      <td>상승  1,200</td>\n",
       "      <td>67300.0</td>\n",
       "      <td>68500.0</td>\n",
       "      <td>67200.0</td>\n",
       "      <td>138430.0</td>\n",
       "    </tr>\n",
       "    <tr>\n",
       "      <th>7259</th>\n",
       "      <td>1996.06.27</td>\n",
       "      <td>66900.0</td>\n",
       "      <td>하락  800</td>\n",
       "      <td>67500.0</td>\n",
       "      <td>67700.0</td>\n",
       "      <td>66700.0</td>\n",
       "      <td>155450.0</td>\n",
       "    </tr>\n",
       "    <tr>\n",
       "      <th>7260</th>\n",
       "      <td>1996.06.26</td>\n",
       "      <td>67700.0</td>\n",
       "      <td>상승  200</td>\n",
       "      <td>67600.0</td>\n",
       "      <td>67900.0</td>\n",
       "      <td>66000.0</td>\n",
       "      <td>136630.0</td>\n",
       "    </tr>\n",
       "    <tr>\n",
       "      <th>7261</th>\n",
       "      <td>1996.06.25</td>\n",
       "      <td>67500.0</td>\n",
       "      <td>보합0</td>\n",
       "      <td>66500.0</td>\n",
       "      <td>68300.0</td>\n",
       "      <td>65600.0</td>\n",
       "      <td>112960.0</td>\n",
       "    </tr>\n",
       "  </tbody>\n",
       "</table>\n",
       "<p>7262 rows × 7 columns</p>\n",
       "</div>"
      ],
      "text/plain": [
       "              날짜       종가        전일비       시가       고가       저가         거래량\n",
       "0     2025.06.27  60900.0    상승  700  60100.0  61600.0  60000.0  12706607.0\n",
       "1     2025.06.26  60200.0  하락  1,100  61300.0  61300.0  59900.0  19402300.0\n",
       "2     2025.06.25  61300.0    상승  800  61500.0  61600.0  60300.0  23933612.0\n",
       "3     2025.06.24  60500.0  상승  2,500  59400.0  60600.0  59300.0  23737899.0\n",
       "4     2025.06.23  58000.0  하락  1,500  58400.0  58500.0  57600.0  16551694.0\n",
       "...          ...      ...        ...      ...      ...      ...         ...\n",
       "7257  1996.06.29  68500.0    상승  400  68100.0  69100.0  67100.0     96710.0\n",
       "7258  1996.06.28  68100.0  상승  1,200  67300.0  68500.0  67200.0    138430.0\n",
       "7259  1996.06.27  66900.0    하락  800  67500.0  67700.0  66700.0    155450.0\n",
       "7260  1996.06.26  67700.0    상승  200  67600.0  67900.0  66000.0    136630.0\n",
       "7261  1996.06.25  67500.0        보합0  66500.0  68300.0  65600.0    112960.0\n",
       "\n",
       "[7262 rows x 7 columns]"
      ]
     },
     "execution_count": 50,
     "metadata": {},
     "output_type": "execute_result"
    }
   ],
   "source": [
    "pd.concat(total, ignore_index=True)      \n",
    "# 크롤링 완"
   ]
  },
  {
   "cell_type": "markdown",
   "id": "c2539551-53db-491f-bfce-a668e63fbaac",
   "metadata": {},
   "source": [
    "----"
   ]
  },
  {
   "cell_type": "code",
   "execution_count": 53,
   "id": "b4a08b1a-c2af-408d-9ca1-097ca226be35",
   "metadata": {},
   "outputs": [
    {
     "data": {
      "text/html": [
       "<div>\n",
       "<style scoped>\n",
       "    .dataframe tbody tr th:only-of-type {\n",
       "        vertical-align: middle;\n",
       "    }\n",
       "\n",
       "    .dataframe tbody tr th {\n",
       "        vertical-align: top;\n",
       "    }\n",
       "\n",
       "    .dataframe thead th {\n",
       "        text-align: right;\n",
       "    }\n",
       "</style>\n",
       "<table border=\"1\" class=\"dataframe\">\n",
       "  <thead>\n",
       "    <tr style=\"text-align: right;\">\n",
       "      <th></th>\n",
       "      <th>종가</th>\n",
       "      <th>시가</th>\n",
       "      <th>고가</th>\n",
       "      <th>저가</th>\n",
       "      <th>거래량</th>\n",
       "    </tr>\n",
       "    <tr>\n",
       "      <th>날짜</th>\n",
       "      <th></th>\n",
       "      <th></th>\n",
       "      <th></th>\n",
       "      <th></th>\n",
       "      <th></th>\n",
       "    </tr>\n",
       "  </thead>\n",
       "  <tbody>\n",
       "    <tr>\n",
       "      <th>1996-06-25</th>\n",
       "      <td>67500</td>\n",
       "      <td>66500</td>\n",
       "      <td>68300</td>\n",
       "      <td>65600</td>\n",
       "      <td>112960</td>\n",
       "    </tr>\n",
       "    <tr>\n",
       "      <th>1996-06-26</th>\n",
       "      <td>67700</td>\n",
       "      <td>67600</td>\n",
       "      <td>67900</td>\n",
       "      <td>66000</td>\n",
       "      <td>136630</td>\n",
       "    </tr>\n",
       "    <tr>\n",
       "      <th>1996-06-27</th>\n",
       "      <td>66900</td>\n",
       "      <td>67500</td>\n",
       "      <td>67700</td>\n",
       "      <td>66700</td>\n",
       "      <td>155450</td>\n",
       "    </tr>\n",
       "    <tr>\n",
       "      <th>1996-06-28</th>\n",
       "      <td>68100</td>\n",
       "      <td>67300</td>\n",
       "      <td>68500</td>\n",
       "      <td>67200</td>\n",
       "      <td>138430</td>\n",
       "    </tr>\n",
       "    <tr>\n",
       "      <th>1996-06-29</th>\n",
       "      <td>68500</td>\n",
       "      <td>68100</td>\n",
       "      <td>69100</td>\n",
       "      <td>67100</td>\n",
       "      <td>96710</td>\n",
       "    </tr>\n",
       "    <tr>\n",
       "      <th>...</th>\n",
       "      <td>...</td>\n",
       "      <td>...</td>\n",
       "      <td>...</td>\n",
       "      <td>...</td>\n",
       "      <td>...</td>\n",
       "    </tr>\n",
       "    <tr>\n",
       "      <th>2025-06-23</th>\n",
       "      <td>58000</td>\n",
       "      <td>58400</td>\n",
       "      <td>58500</td>\n",
       "      <td>57600</td>\n",
       "      <td>16551694</td>\n",
       "    </tr>\n",
       "    <tr>\n",
       "      <th>2025-06-24</th>\n",
       "      <td>60500</td>\n",
       "      <td>59400</td>\n",
       "      <td>60600</td>\n",
       "      <td>59300</td>\n",
       "      <td>23737899</td>\n",
       "    </tr>\n",
       "    <tr>\n",
       "      <th>2025-06-25</th>\n",
       "      <td>61300</td>\n",
       "      <td>61500</td>\n",
       "      <td>61600</td>\n",
       "      <td>60300</td>\n",
       "      <td>23933612</td>\n",
       "    </tr>\n",
       "    <tr>\n",
       "      <th>2025-06-26</th>\n",
       "      <td>60200</td>\n",
       "      <td>61300</td>\n",
       "      <td>61300</td>\n",
       "      <td>59900</td>\n",
       "      <td>19402300</td>\n",
       "    </tr>\n",
       "    <tr>\n",
       "      <th>2025-06-27</th>\n",
       "      <td>61000</td>\n",
       "      <td>60100</td>\n",
       "      <td>61600</td>\n",
       "      <td>60000</td>\n",
       "      <td>12589490</td>\n",
       "    </tr>\n",
       "  </tbody>\n",
       "</table>\n",
       "<p>7262 rows × 5 columns</p>\n",
       "</div>"
      ],
      "text/plain": [
       "               종가     시가     고가     저가       거래량\n",
       "날짜                                              \n",
       "1996-06-25  67500  66500  68300  65600    112960\n",
       "1996-06-26  67700  67600  67900  66000    136630\n",
       "1996-06-27  66900  67500  67700  66700    155450\n",
       "1996-06-28  68100  67300  68500  67200    138430\n",
       "1996-06-29  68500  68100  69100  67100     96710\n",
       "...           ...    ...    ...    ...       ...\n",
       "2025-06-23  58000  58400  58500  57600  16551694\n",
       "2025-06-24  60500  59400  60600  59300  23737899\n",
       "2025-06-25  61300  61500  61600  60300  23933612\n",
       "2025-06-26  60200  61300  61300  59900  19402300\n",
       "2025-06-27  61000  60100  61600  60000  12589490\n",
       "\n",
       "[7262 rows x 5 columns]"
      ]
     },
     "execution_count": 53,
     "metadata": {},
     "output_type": "execute_result"
    }
   ],
   "source": [
    "df = pd.read_excel(\"Data/Samsung.xlsx\")\n",
    "df[\"날짜\"] = pd.to_datetime(df[\"날짜\"])\n",
    "df.set_index(\"날짜\", inplace=True)\n",
    "del df[\"전일비\"]\n",
    "df.sort_index(inplace = True)\n",
    "df"
   ]
  },
  {
   "cell_type": "code",
   "execution_count": 55,
   "id": "1b8746e4-d243-4577-9cec-63430482e0f2",
   "metadata": {},
   "outputs": [
    {
     "data": {
      "image/png": "[encoded data removed]",
      "text/plain": [
       "<Figure size 640x480 with 1 Axes>"
      ]
     },
     "metadata": {},
     "output_type": "display_data"
    }
   ],
   "source": [
    "import matplotlib.pyplot as plt\n",
    "import koreanize_matplotlib\n",
    "\n",
    "df[\"종가\"].plot()\n",
    "plt.grid()\n",
    "plt.show()\n",
    "# 폭락같아보이지만 액면분할"
   ]
  },
  {
   "cell_type": "code",
   "execution_count": 62,
   "id": "36233c0f-2dfd-4236-bcdf-675ae794f2d3",
   "metadata": {},
   "outputs": [],
   "source": [
    "train = df[df.index.year < 2024]\n",
    "test = df[df.index.year >= 2024]    # 어느 시점을 기점으로 train,test 나눔\n",
    "\n",
    "# train 데이터의 시험지, 정답지\n",
    "train_x = []\n",
    "train_y = []\n",
    "for i in range(len(train) - 1):\n",
    "    A = train.iloc[i].values\n",
    "    B = train.iloc[i+1][\"종가\"]\n",
    "    train_x.append(A)\n",
    "    train_y.append(B)\n",
    "\n",
    "# test 데이터의 시험지, 정답지\n",
    "test_x = []\n",
    "test_y = []\n",
    "for i in range(len(test) - 1):\n",
    "    A = test.iloc[i].values\n",
    "    B = test.iloc[i+1][\"종가\"]\n",
    "    test_x.append(A)\n",
    "    test_y.append(B)"
   ]
  },
  {
   "cell_type": "code",
   "execution_count": 63,
   "id": "90534a3c-d5dd-48fa-a622-357e5b11ff7e",
   "metadata": {},
   "outputs": [
    {
     "data": {
      "text/plain": [
       "0.9832919316002243"
      ]
     },
     "execution_count": 63,
     "metadata": {},
     "output_type": "execute_result"
    }
   ],
   "source": [
    "from sklearn.ensemble import RandomForestRegressor\n",
    "\n",
    "model = RandomForestRegressor()\n",
    "model.fit(train_x, train_y)\n",
    "model.score(test_x, test_y)"
   ]
  },
  {
   "cell_type": "code",
   "execution_count": 66,
   "id": "62719873-d82b-4542-8764-936a992e2a66",
   "metadata": {},
   "outputs": [
    {
     "data": {
      "image/png": "[encoded data removed]",
      "text/plain": [
       "<Figure size 640x480 with 1 Axes>"
      ]
     },
     "metadata": {},
     "output_type": "display_data"
    }
   ],
   "source": [
    "pred = model.predict(train_x)\n",
    "\n",
    "plt.plot(train[\"종가\"].values)\n",
    "plt.plot(pred)\n",
    "plt.legend([\"실제\", \"예측\"])\n",
    "plt.grid()\n",
    "plt.show()\n",
    "\n",
    "# 두 그래프가 겹쳐서나온다 = 모델이 훈련데이터를 잘 학습했다는 뜻"
   ]
  },
  {
   "cell_type": "code",
   "execution_count": 71,
   "id": "513eeedf-fd65-40d3-9d3d-75a8a20e06ac",
   "metadata": {},
   "outputs": [
    {
     "data": {
      "image/png": "[encoded data removed]",
      "text/plain": [
       "<Figure size 2000x1000 with 1 Axes>"
      ]
     },
     "metadata": {},
     "output_type": "display_data"
    }
   ],
   "source": [
    "pred = model.predict(test_x)\n",
    "\n",
    "plt.figure(figsize = (20, 10))\n",
    "plt.plot(test[\"종가\"].values)\n",
    "plt.plot(pred)\n",
    "plt.legend([\"실제\", \"예측\"])\n",
    "plt.grid()\n",
    "plt.show()"
   ]
  },
  {
   "cell_type": "code",
   "execution_count": 73,
   "id": "1f72f111-6c78-4f13-91bc-c40d9d2cdb7f",
   "metadata": {},
   "outputs": [
    {
     "data": {
      "text/plain": [
       "array([60852.])"
      ]
     },
     "execution_count": 73,
     "metadata": {},
     "output_type": "execute_result"
    }
   ],
   "source": [
    "A = df.iloc[-1].values\n",
    "model.predict([A])"
   ]
  },
  {
   "cell_type": "code",
   "execution_count": 95,
   "id": "f282bb27-8548-45b5-842e-907f81d59d82",
   "metadata": {},
   "outputs": [
    {
     "data": {
      "text/plain": [
       "0.03629849598733139"
      ]
     },
     "execution_count": 95,
     "metadata": {},
     "output_type": "execute_result"
    }
   ],
   "source": [
    "(fdr.DataReader(\"005930\")['Change'] * 100).mean()"
   ]
  },
  {
   "cell_type": "markdown",
   "id": "f4ec8d0e-6970-424f-a34b-5f1186b21a12",
   "metadata": {},
   "source": [
    "# 머신러닝으로 주식데이터 예측해서 써먹으려면 회귀보단 분류로 해야함"
   ]
  },
  {
   "cell_type": "code",
   "execution_count": 78,
   "id": "1dad9203-6393-48ea-b1fb-21abce2054d9",
   "metadata": {},
   "outputs": [],
   "source": [
    "train_x = []\n",
    "train_y = []\n",
    "for i in range(len(train) - 1):\n",
    "    A = train.iloc[i].values\n",
    "    B = train.iloc[i][\"종가\"] * 1.03 <= train.iloc[i+1][\"종가\"]   # 다음날 종가가 3%이상 올라갔다면 true\n",
    "    train_x.append(A)\n",
    "    train_y.append(B)\n",
    "\n",
    "test_x = []\n",
    "test_y = []\n",
    "for i in range(len(test) - 1):\n",
    "    A = test.iloc[i].values\n",
    "    B = test.iloc[i][\"종가\"] * 1.03 <= test.iloc[i+1][\"종가\"]   # 다음날 종가가 3%이상 올라갔다면 true\n",
    "    test_x.append(A)\n",
    "    test_y.append(B)"
   ]
  },
  {
   "cell_type": "code",
   "execution_count": 84,
   "id": "2d341aa1-f8c1-4abc-8c86-2690f4bc3c46",
   "metadata": {},
   "outputs": [
    {
     "name": "stdout",
     "output_type": "stream",
     "text": [
      "              precision    recall  f1-score   support\n",
      "\n",
      "       False       0.93      1.00      0.96       335\n",
      "        True       0.00      0.00      0.00        25\n",
      "\n",
      "    accuracy                           0.93       360\n",
      "   macro avg       0.47      0.50      0.48       360\n",
      "weighted avg       0.87      0.93      0.90       360\n",
      "\n"
     ]
    }
   ],
   "source": [
    "from sklearn.ensemble import RandomForestClassifier\n",
    "from sklearn.metrics import classification_report\n",
    "\n",
    "model = RandomForestClassifier()\n",
    "model.fit(train_x, train_y)\n",
    "\n",
    "pred = model.predict(test_x)\n",
    "\n",
    "report = classification_report(test_y, pred)\n",
    "print(report)\n",
    "\n",
    "# true에 대한 정확도 0% -> 모델 수정필요"
   ]
  },
  {
   "cell_type": "code",
   "execution_count": 89,
   "id": "75efa875-fd7b-46fc-861d-43074482db7c",
   "metadata": {},
   "outputs": [],
   "source": [
    "# 10일치 묶기\n",
    "window = 10\n",
    "\n",
    "train_x = []\n",
    "train_y = []\n",
    "for i in range(len(train) - window):\n",
    "    A = train.iloc[i : i + window].values.flatten()\n",
    "    B = train.iloc[i + window - 1]['종가'] * 1.03 <= train.iloc[i + window]['종가']\n",
    "    train_x.append(A)\n",
    "    train_y.append(B)\n",
    "\n",
    "test_x = []\n",
    "test_y = []\n",
    "for i in range(len(test) - window):\n",
    "    A = test.iloc[i : i + window].values.flatten()\n",
    "    B = test.iloc[i + window - 1]['종가'] * 1.03 <= test.iloc[i + window]['종가']\n",
    "    test_x.append(A)\n",
    "    test_y.append(B)"
   ]
  },
  {
   "cell_type": "code",
   "execution_count": 94,
   "id": "645530c6-2320-4b64-a6f5-db95718963c4",
   "metadata": {},
   "outputs": [
    {
     "name": "stdout",
     "output_type": "stream",
     "text": [
      "              precision    recall  f1-score   support\n",
      "\n",
      "       False       0.93      1.00      0.96       326\n",
      "        True       0.00      0.00      0.00        25\n",
      "\n",
      "    accuracy                           0.93       351\n",
      "   macro avg       0.46      0.50      0.48       351\n",
      "weighted avg       0.86      0.93      0.89       351\n",
      "\n"
     ]
    }
   ],
   "source": [
    "from xgboost import XGBClassifier\n",
    "\n",
    "model = XGBClassifier()\n",
    "model.fit(train_x, train_y)\n",
    "\n",
    "pred = model.predict(test_x)\n",
    "\n",
    "report = classification_report(test_y, pred)\n",
    "print(report)\n",
    "\n",
    "# 여전히 0% 나오지만, 내부의 여러 문제점은 고쳐진 상태"
   ]
  },
  {
   "cell_type": "code",
   "execution_count": null,
   "id": "177e50a3-a122-45c3-a877-f80c4896e1f1",
   "metadata": {},
   "outputs": [],
   "source": []
  }
 ],
 "metadata": {
  "kernelspec": {
   "display_name": "Python 3 (ipykernel)",
   "language": "python",
   "name": "python3"
  },
  "language_info": {
   "codemirror_mode": {
    "name": "ipython",
    "version": 3
   },
   "file_extension": ".py",
   "mimetype": "text/x-python",
   "name": "python",
   "nbconvert_exporter": "python",
   "pygments_lexer": "ipython3",
   "version": "3.12.7"
  }
 },
 "nbformat": 4,
 "nbformat_minor": 5
}
