{
 "cells": [
  {
   "cell_type": "markdown",
   "id": "e4d69495-f290-48ff-98f1-3e90d31529b6",
   "metadata": {},
   "source": [
    "# 일원 분산 분석(One-way ANOVA)\n",
    "일원 분산 분석(One-way ANOVA)은 세 개 이상의 독립된 그룹 간의 평균 차이가 통계적으로 유의미한지를 검정하는 방법입니다. 이 방법은 한 개의 범주형 독립변수(요인)에 따른 여러 집단의 종속변수 평균을 비교할 때 사용됩니다.\n",
    "\n",
    "* 정규성: 각 그룹의 데이터가 정규분포를 따른다고 가정합니다.\n",
    "* 등분산성 (Homogeneity of Variance): 각 그룹의 분산이 동일하다고 가정합니다.\n",
    "* 독립성: 각 관측치는 서로 독립적이어야 합니다."
   ]
  },
  {
   "cell_type": "code",
   "execution_count": 19,
   "id": "59bc444f-e47f-45df-a9e6-ed6750c1c787",
   "metadata": {},
   "outputs": [
    {
     "data": {
      "text/html": [
       "<div>\n",
       "<style scoped>\n",
       "    .dataframe tbody tr th:only-of-type {\n",
       "        vertical-align: middle;\n",
       "    }\n",
       "\n",
       "    .dataframe tbody tr th {\n",
       "        vertical-align: top;\n",
       "    }\n",
       "\n",
       "    .dataframe thead th {\n",
       "        text-align: right;\n",
       "    }\n",
       "</style>\n",
       "<table border=\"1\" class=\"dataframe\">\n",
       "  <thead>\n",
       "    <tr style=\"text-align: right;\">\n",
       "      <th></th>\n",
       "      <th>A</th>\n",
       "      <th>B</th>\n",
       "      <th>C</th>\n",
       "      <th>D</th>\n",
       "    </tr>\n",
       "  </thead>\n",
       "  <tbody>\n",
       "    <tr>\n",
       "      <th>0</th>\n",
       "      <td>10.5</td>\n",
       "      <td>11.9</td>\n",
       "      <td>11.2</td>\n",
       "      <td>9.8</td>\n",
       "    </tr>\n",
       "    <tr>\n",
       "      <th>1</th>\n",
       "      <td>11.3</td>\n",
       "      <td>12.4</td>\n",
       "      <td>11.7</td>\n",
       "      <td>9.4</td>\n",
       "    </tr>\n",
       "    <tr>\n",
       "      <th>2</th>\n",
       "      <td>10.8</td>\n",
       "      <td>12.1</td>\n",
       "      <td>11.6</td>\n",
       "      <td>9.1</td>\n",
       "    </tr>\n",
       "    <tr>\n",
       "      <th>3</th>\n",
       "      <td>9.6</td>\n",
       "      <td>13.2</td>\n",
       "      <td>10.9</td>\n",
       "      <td>9.5</td>\n",
       "    </tr>\n",
       "    <tr>\n",
       "      <th>4</th>\n",
       "      <td>11.1</td>\n",
       "      <td>12.5</td>\n",
       "      <td>11.3</td>\n",
       "      <td>9.6</td>\n",
       "    </tr>\n",
       "  </tbody>\n",
       "</table>\n",
       "</div>"
      ],
      "text/plain": [
       "      A     B     C    D\n",
       "0  10.5  11.9  11.2  9.8\n",
       "1  11.3  12.4  11.7  9.4\n",
       "2  10.8  12.1  11.6  9.1\n",
       "3   9.6  13.2  10.9  9.5\n",
       "4  11.1  12.5  11.3  9.6"
      ]
     },
     "execution_count": 19,
     "metadata": {},
     "output_type": "execute_result"
    }
   ],
   "source": [
    "# 4종류의 비료를 사용한 식물의 성장에 대한 실험\n",
    "# 식물 40개를 무작위로 10개씩 나누고, 화학 비료 A,B,C,D 를 일정 기간 사용한 후 성장량을 측정\n",
    "# 성장의 차이가 있는지 유의수준 0.05 하에서 검정.\n",
    "\n",
    "import pandas as pd\n",
    "\n",
    "# 귀무가설: 네 가지 비료는 효과가 동일하다.\n",
    "# 대립가설: 비료의 효과에는 차이가 있다. (적어도 두 가지 비료의 효과에는 차이가 있다.)\n",
    "\n",
    "df = pd.DataFrame({\n",
    "    'A': [10.5, 11.3, 10.8, 9.6, 11.1, 10.2, 10.9, 11.4, 10.5, 10.3],\n",
    "    'B': [11.9, 12.4, 12.1, 13.2, 12.5, 11.8, 12.2, 12.9, 12.4, 12.3],\n",
    "    'C': [11.2, 11.7, 11.6, 10.9, 11.3, 11.1, 10.8, 11.5, 11.4, 11.0],\n",
    "    'D': [9.8, 9.4, 9.1, 9.5, 9.6, 9.9, 9.2, 9.7, 9.3, 9.4]\n",
    "})\n",
    "\n",
    "df.head()"
   ]
  },
  {
   "cell_type": "code",
   "execution_count": 20,
   "id": "4d675813-7101-4070-90ea-97ec23bee46b",
   "metadata": {},
   "outputs": [
    {
     "name": "stdout",
     "output_type": "stream",
     "text": [
      "ShapiroResult(statistic=0.9649054066073813, pvalue=0.8400161543468654)\n",
      "ShapiroResult(statistic=0.9468040874196029, pvalue=0.6308700692815115)\n",
      "ShapiroResult(statistic=0.9701646110856055, pvalue=0.892367306190296)\n",
      "ShapiroResult(statistic=0.9752339025839644, pvalue=0.9346854448707653)\n"
     ]
    }
   ],
   "source": [
    "# 정규성 만족하는지 확인 - shapiro \n",
    "\n",
    "import numpy as np\n",
    "import matplotlib.pyplot as plt\n",
    "import scipy.stats as stats\n",
    "import koreanize_matplotlib\n",
    "\n",
    "print(stats.shapiro(df['A']))\n",
    "print(stats.shapiro(df['B']))\n",
    "print(stats.shapiro(df['C']))\n",
    "print(stats.shapiro(df['D']))\n",
    "\n",
    "# p > 0.05 ; 네 개 다 정규성 만족. "
   ]
  },
  {
   "cell_type": "code",
   "execution_count": 21,
   "id": "c4db26bb-47a8-42f3-8871-f0a2d79baec3",
   "metadata": {},
   "outputs": [
    {
     "data": {
      "text/plain": [
       "LeveneResult(statistic=1.9355354288758708, pvalue=0.14127835331346628)"
      ]
     },
     "execution_count": 21,
     "metadata": {},
     "output_type": "execute_result"
    }
   ],
   "source": [
    "# 분산이 동일한지 확인 - levene\n",
    "\n",
    "stats.levene(df['A'], df['B'], df['C'], df['D'])\n",
    "\n",
    "# p>= > 0.05 ; 분산도 동일하다고 추론 가능"
   ]
  },
  {
   "cell_type": "code",
   "execution_count": 22,
   "id": "eef899d5-6e46-44d0-9a64-7e01f253a0a5",
   "metadata": {},
   "outputs": [
    {
     "data": {
      "text/plain": [
       "F_onewayResult(statistic=89.12613851177174, pvalue=1.001838152252373e-16)"
      ]
     },
     "execution_count": 22,
     "metadata": {},
     "output_type": "execute_result"
    }
   ],
   "source": [
    "## 차이가 있는지 확인하는 방법 (일원분산분석) 1) - f_oneway\n",
    "\n",
    "# H0: 네 개 중 어떤 것도 차이가 없다 (ㅁ=ㅁ=ㅁ=ㅁ)\n",
    "# H1: 네 개 중 적어도 두 개는 유의미한 차이가 있다 \n",
    "\n",
    "stats.f_oneway(df['A'], df['B'], df['C'], df['D'])\n",
    "\n",
    "# p < 0.05 ; H0기각.  네 개 중 적어도 두 개는 유의미한 차이가 있다 \n",
    "# F통계량 = 89 ; 그룹 간에 평균 차이가 그룹 내 변동에 비해 89배 정도 크다."
   ]
  },
  {
   "cell_type": "code",
   "execution_count": 10,
   "id": "9107ff01-dbad-4eb3-87da-1fa9754d6dd7",
   "metadata": {},
   "outputs": [
    {
     "data": {
      "text/html": [
       "<div>\n",
       "<style scoped>\n",
       "    .dataframe tbody tr th:only-of-type {\n",
       "        vertical-align: middle;\n",
       "    }\n",
       "\n",
       "    .dataframe tbody tr th {\n",
       "        vertical-align: top;\n",
       "    }\n",
       "\n",
       "    .dataframe thead th {\n",
       "        text-align: right;\n",
       "    }\n",
       "</style>\n",
       "<table border=\"1\" class=\"dataframe\">\n",
       "  <thead>\n",
       "    <tr style=\"text-align: right;\">\n",
       "      <th></th>\n",
       "      <th>df</th>\n",
       "      <th>sum_sq</th>\n",
       "      <th>mean_sq</th>\n",
       "      <th>F</th>\n",
       "      <th>PR(&gt;F)</th>\n",
       "    </tr>\n",
       "  </thead>\n",
       "  <tbody>\n",
       "    <tr>\n",
       "      <th>C(variable)</th>\n",
       "      <td>3.0</td>\n",
       "      <td>43.21875</td>\n",
       "      <td>14.406250</td>\n",
       "      <td>89.126139</td>\n",
       "      <td>1.001838e-16</td>\n",
       "    </tr>\n",
       "    <tr>\n",
       "      <th>Residual</th>\n",
       "      <td>36.0</td>\n",
       "      <td>5.81900</td>\n",
       "      <td>0.161639</td>\n",
       "      <td>NaN</td>\n",
       "      <td>NaN</td>\n",
       "    </tr>\n",
       "  </tbody>\n",
       "</table>\n",
       "</div>"
      ],
      "text/plain": [
       "               df    sum_sq    mean_sq          F        PR(>F)\n",
       "C(variable)   3.0  43.21875  14.406250  89.126139  1.001838e-16\n",
       "Residual     36.0   5.81900   0.161639        NaN           NaN"
      ]
     },
     "execution_count": 10,
     "metadata": {},
     "output_type": "execute_result"
    }
   ],
   "source": [
    "## 차이가 있는지 확인하는 방법 (일원분산분석) 2) -  ols, stats.anova_lm\n",
    "\n",
    "# 같은 열로 쭉 내려서 적어줌 - melt \n",
    "\n",
    "df2 = pd.melt(df)\n",
    "\n",
    "# 성장 차이를 보고 싶다 = variable을 가지고 value를 보고싶다 = value를 종속변수(y)로.\n",
    "# 범주형 변수일 때는 앞에 C붙여줄것 \n",
    "\n",
    "from statsmodels.formula.api import ols\n",
    "import statsmodels.api as sm\n",
    "\n",
    "model = ols('value ~ C(variable)', data = df2).fit()\n",
    "\n",
    "sm.stats.anova_lm(model)\n",
    "\n",
    "# p < 0.05 ; H0기각. 네 개 중 적어도 두 개의 분산에 유의미한 차이가 있다?"
   ]
  },
  {
   "cell_type": "code",
   "execution_count": 13,
   "id": "8d52c99a-e148-4121-bfa3-c760e1c0d5d7",
   "metadata": {},
   "outputs": [
    {
     "name": "stdout",
     "output_type": "stream",
     "text": [
      "Multiple Comparison of Means - Tukey HSD, FWER=0.05 \n",
      "====================================================\n",
      "group1 group2 meandiff p-adj   lower   upper  reject\n",
      "----------------------------------------------------\n",
      "     A      B     1.71    0.0  1.2258  2.1942   True\n",
      "     A      C     0.59 0.0118  0.1058  1.0742   True\n",
      "     A      D    -1.17    0.0 -1.6542 -0.6858   True\n",
      "     B      C    -1.12    0.0 -1.6042 -0.6358   True\n",
      "     B      D    -2.88    0.0 -3.3642 -2.3958   True\n",
      "     C      D    -1.76    0.0 -2.2442 -1.2758   True\n",
      "----------------------------------------------------\n"
     ]
    }
   ],
   "source": [
    "# 사후 분석(일원 분산 분석이 유의미한 경우에) - pairwise_tukeyhsd\n",
    "# 어떤 비료가 유의미한지 확인 \n",
    "\n",
    "from statsmodels.stats.multicomp import pairwise_tukeyhsd\n",
    "import matplotlib.pyplot as plt\n",
    "\n",
    "report = pairwise_tukeyhsd(endog = df2['value'],  groups = df2['variable'], alpha = 0.05)\n",
    "print(report)\n",
    "\n",
    "# 각각 두집단씩 비교.. 모든 경우에 대해 해줌 \n",
    "# 다 p < 0.05 ; 효과가 있다?"
   ]
  },
  {
   "cell_type": "code",
   "execution_count": 15,
   "id": "bc6aebbf-db16-4612-bf98-114a6a99310d",
   "metadata": {},
   "outputs": [
    {
     "data": {
      "image/png": "[encoded data removed]",
      "text/plain": [
       "<Figure size 1000x600 with 1 Axes>"
      ]
     },
     "metadata": {},
     "output_type": "display_data"
    }
   ],
   "source": [
    "# 시각화\n",
    "report.plot_simultaneous()\n",
    "plt.show()\n",
    "\n",
    "# 네 개 집단의 평균의 차 확인 가능 "
   ]
  },
  {
   "cell_type": "code",
   "execution_count": null,
   "id": "56e2531d-d191-4d81-8d5c-ece2c7ac14cf",
   "metadata": {},
   "outputs": [],
   "source": []
  },
  {
   "cell_type": "markdown",
   "id": "8b09c7cf-5136-427c-b1d0-7e864a81b482",
   "metadata": {},
   "source": [
    "* 만약 정규성을 따르지 않으면?"
   ]
  },
  {
   "cell_type": "code",
   "execution_count": 14,
   "id": "004abc11-5ca7-498f-aca3-ed0652fd7c5f",
   "metadata": {},
   "outputs": [
    {
     "data": {
      "text/plain": [
       "KruskalResult(statistic=33.91729415078395, pvalue=2.0624565034628142e-07)"
      ]
     },
     "execution_count": 14,
     "metadata": {},
     "output_type": "execute_result"
    }
   ],
   "source": [
    "# 크루스칼 윌리스 검정 // 세 개 이상의 독립된 집단의 >>중앙값<< 차이가 통계적으로 유의미한지 \n",
    "stats.kruskal(df['A'], df['B'], df['C'], df['D'])"
   ]
  },
  {
   "cell_type": "code",
   "execution_count": null,
   "id": "63512208-b062-4a48-bc5e-532a7451fb2f",
   "metadata": {},
   "outputs": [],
   "source": [
    "# 만약 분산이 동일하지 않으면  -->  그냥 검정을 하지말 것."
   ]
  },
  {
   "cell_type": "markdown",
   "id": "b4b68567-a4f5-4ce6-b089-7fca7c962ada",
   "metadata": {},
   "source": [
    "## 연습문제\n",
    "한 연구자가 세 가지 다른 교육 방법(교육 방법 A, 교육 방법 B, 교육 방법 C)이 학생들의 시험 점수에 미치는 영향을 알아보고자 하였습니다. 각 교육 방법을 적용받은 학생들의 시험 점수가 아래와 같이 주어졌다고 가정합니다."
   ]
  },
  {
   "cell_type": "code",
   "execution_count": 23,
   "id": "21ec5adf-cfb3-4706-a147-7ef2b7b95856",
   "metadata": {},
   "outputs": [],
   "source": [
    "A1 = [70, 72, 68, 74, 69, 73, 70, 71, 72, 70]\n",
    "B1 = [75, 78, 74, 77, 76, 80, 79, 75, 78, 77]\n",
    "C1 = [82, 85, 80, 83, 81, 84, 86, 82, 83, 85]"
   ]
  },
  {
   "cell_type": "code",
   "execution_count": 24,
   "id": "44402de5-cc52-4f7f-8284-636baa36ac75",
   "metadata": {},
   "outputs": [
    {
     "name": "stdout",
     "output_type": "stream",
     "text": [
      "ShapiroResult(statistic=0.9692121326757147, pvalue=0.8834456534794826)\n",
      "ShapiroResult(statistic=0.9691888544165497, pvalue=0.8832241960495848)\n",
      "ShapiroResult(statistic=0.9691888544165495, pvalue=0.8832241960495825)\n"
     ]
    }
   ],
   "source": [
    "#df = pd.DataFrame({\n",
    "#    'A' : [70, 72, 68, 74, 69, 73, 70, 71, 72, 70],\n",
    "#    'B' : [75, 78, 74, 77, 76, 80, 79, 75, 78, 77],\n",
    "#    'C' : [82, 85, 80, 83, 81, 84, 86, 82, 83, 85]\n",
    "#})\n",
    "\n",
    "df = pd.DataFrame({'A':A1,'B':B1,'C':C1})\n",
    "\n",
    "df.head()\n",
    "\n",
    "print(stats.shapiro(df['A']))\n",
    "print(stats.shapiro(df['B']))\n",
    "print(stats.shapiro(df['C']))\n",
    "\n",
    "# p > 0.05 ; 세 개 다 정규성 만족. "
   ]
  },
  {
   "cell_type": "code",
   "execution_count": 25,
   "id": "bb775e52-ef98-411b-83a5-06a4b64906b6",
   "metadata": {},
   "outputs": [
    {
     "data": {
      "text/plain": [
       "LeveneResult(statistic=0.0, pvalue=1.0)"
      ]
     },
     "execution_count": 25,
     "metadata": {},
     "output_type": "execute_result"
    }
   ],
   "source": [
    "stats.levene(df['A'], df['B'], df['C'])\n",
    "\n",
    "# p > 0.05 ; 세 개의 분산 동일 "
   ]
  },
  {
   "cell_type": "code",
   "execution_count": 26,
   "id": "b0b11792-d068-43e2-b077-5463c38c71fa",
   "metadata": {},
   "outputs": [
    {
     "data": {
      "text/plain": [
       "F_onewayResult(statistic=103.90486039296802, pvalue=2.083261762272435e-13)"
      ]
     },
     "execution_count": 26,
     "metadata": {},
     "output_type": "execute_result"
    }
   ],
   "source": [
    "## 일원분산분석 1) -  f_oneway\n",
    "\n",
    "# H0: 세 개 중 어떤 것도 차이가 없다 (ㅁ=ㅁ=ㅁ=ㅁ)\n",
    "# H1: 세 개 중 적어도 두 개는 유의미한 차이가 있다 \n",
    "\n",
    "stats.f_oneway(df['A'], df['B'], df['C'])\n",
    "\n",
    "# p < 0.05 ; H0기각.   즉 세 개 중 적어도 두 개는 유의미한 차이가 있다 \n",
    "# statistic = 103 ; 그룹 간에 평균 차이가 그룹 내 변동에 비해 103배 정도 크다."
   ]
  },
  {
   "cell_type": "code",
   "execution_count": 27,
   "id": "395e0791-1f6d-4060-8074-2aef063f87c8",
   "metadata": {},
   "outputs": [
    {
     "data": {
      "text/html": [
       "<div>\n",
       "<style scoped>\n",
       "    .dataframe tbody tr th:only-of-type {\n",
       "        vertical-align: middle;\n",
       "    }\n",
       "\n",
       "    .dataframe tbody tr th {\n",
       "        vertical-align: top;\n",
       "    }\n",
       "\n",
       "    .dataframe thead th {\n",
       "        text-align: right;\n",
       "    }\n",
       "</style>\n",
       "<table border=\"1\" class=\"dataframe\">\n",
       "  <thead>\n",
       "    <tr style=\"text-align: right;\">\n",
       "      <th></th>\n",
       "      <th>variable</th>\n",
       "      <th>value</th>\n",
       "    </tr>\n",
       "  </thead>\n",
       "  <tbody>\n",
       "    <tr>\n",
       "      <th>0</th>\n",
       "      <td>A</td>\n",
       "      <td>70</td>\n",
       "    </tr>\n",
       "    <tr>\n",
       "      <th>1</th>\n",
       "      <td>A</td>\n",
       "      <td>72</td>\n",
       "    </tr>\n",
       "    <tr>\n",
       "      <th>2</th>\n",
       "      <td>A</td>\n",
       "      <td>68</td>\n",
       "    </tr>\n",
       "    <tr>\n",
       "      <th>3</th>\n",
       "      <td>A</td>\n",
       "      <td>74</td>\n",
       "    </tr>\n",
       "    <tr>\n",
       "      <th>4</th>\n",
       "      <td>A</td>\n",
       "      <td>69</td>\n",
       "    </tr>\n",
       "    <tr>\n",
       "      <th>5</th>\n",
       "      <td>A</td>\n",
       "      <td>73</td>\n",
       "    </tr>\n",
       "    <tr>\n",
       "      <th>6</th>\n",
       "      <td>A</td>\n",
       "      <td>70</td>\n",
       "    </tr>\n",
       "    <tr>\n",
       "      <th>7</th>\n",
       "      <td>A</td>\n",
       "      <td>71</td>\n",
       "    </tr>\n",
       "    <tr>\n",
       "      <th>8</th>\n",
       "      <td>A</td>\n",
       "      <td>72</td>\n",
       "    </tr>\n",
       "    <tr>\n",
       "      <th>9</th>\n",
       "      <td>A</td>\n",
       "      <td>70</td>\n",
       "    </tr>\n",
       "    <tr>\n",
       "      <th>10</th>\n",
       "      <td>B</td>\n",
       "      <td>75</td>\n",
       "    </tr>\n",
       "    <tr>\n",
       "      <th>11</th>\n",
       "      <td>B</td>\n",
       "      <td>78</td>\n",
       "    </tr>\n",
       "    <tr>\n",
       "      <th>12</th>\n",
       "      <td>B</td>\n",
       "      <td>74</td>\n",
       "    </tr>\n",
       "    <tr>\n",
       "      <th>13</th>\n",
       "      <td>B</td>\n",
       "      <td>77</td>\n",
       "    </tr>\n",
       "    <tr>\n",
       "      <th>14</th>\n",
       "      <td>B</td>\n",
       "      <td>76</td>\n",
       "    </tr>\n",
       "    <tr>\n",
       "      <th>15</th>\n",
       "      <td>B</td>\n",
       "      <td>80</td>\n",
       "    </tr>\n",
       "    <tr>\n",
       "      <th>16</th>\n",
       "      <td>B</td>\n",
       "      <td>79</td>\n",
       "    </tr>\n",
       "    <tr>\n",
       "      <th>17</th>\n",
       "      <td>B</td>\n",
       "      <td>75</td>\n",
       "    </tr>\n",
       "    <tr>\n",
       "      <th>18</th>\n",
       "      <td>B</td>\n",
       "      <td>78</td>\n",
       "    </tr>\n",
       "    <tr>\n",
       "      <th>19</th>\n",
       "      <td>B</td>\n",
       "      <td>77</td>\n",
       "    </tr>\n",
       "    <tr>\n",
       "      <th>20</th>\n",
       "      <td>C</td>\n",
       "      <td>82</td>\n",
       "    </tr>\n",
       "    <tr>\n",
       "      <th>21</th>\n",
       "      <td>C</td>\n",
       "      <td>85</td>\n",
       "    </tr>\n",
       "    <tr>\n",
       "      <th>22</th>\n",
       "      <td>C</td>\n",
       "      <td>80</td>\n",
       "    </tr>\n",
       "    <tr>\n",
       "      <th>23</th>\n",
       "      <td>C</td>\n",
       "      <td>83</td>\n",
       "    </tr>\n",
       "    <tr>\n",
       "      <th>24</th>\n",
       "      <td>C</td>\n",
       "      <td>81</td>\n",
       "    </tr>\n",
       "    <tr>\n",
       "      <th>25</th>\n",
       "      <td>C</td>\n",
       "      <td>84</td>\n",
       "    </tr>\n",
       "    <tr>\n",
       "      <th>26</th>\n",
       "      <td>C</td>\n",
       "      <td>86</td>\n",
       "    </tr>\n",
       "    <tr>\n",
       "      <th>27</th>\n",
       "      <td>C</td>\n",
       "      <td>82</td>\n",
       "    </tr>\n",
       "    <tr>\n",
       "      <th>28</th>\n",
       "      <td>C</td>\n",
       "      <td>83</td>\n",
       "    </tr>\n",
       "    <tr>\n",
       "      <th>29</th>\n",
       "      <td>C</td>\n",
       "      <td>85</td>\n",
       "    </tr>\n",
       "  </tbody>\n",
       "</table>\n",
       "</div>"
      ],
      "text/plain": [
       "   variable  value\n",
       "0         A     70\n",
       "1         A     72\n",
       "2         A     68\n",
       "3         A     74\n",
       "4         A     69\n",
       "5         A     73\n",
       "6         A     70\n",
       "7         A     71\n",
       "8         A     72\n",
       "9         A     70\n",
       "10        B     75\n",
       "11        B     78\n",
       "12        B     74\n",
       "13        B     77\n",
       "14        B     76\n",
       "15        B     80\n",
       "16        B     79\n",
       "17        B     75\n",
       "18        B     78\n",
       "19        B     77\n",
       "20        C     82\n",
       "21        C     85\n",
       "22        C     80\n",
       "23        C     83\n",
       "24        C     81\n",
       "25        C     84\n",
       "26        C     86\n",
       "27        C     82\n",
       "28        C     83\n",
       "29        C     85"
      ]
     },
     "execution_count": 27,
     "metadata": {},
     "output_type": "execute_result"
    }
   ],
   "source": [
    "# 같은 열로 쭉 내려서 적어줌 - melt \n",
    "\n",
    "df2 = pd.melt(df)\n",
    "df2"
   ]
  },
  {
   "cell_type": "code",
   "execution_count": 28,
   "id": "73c6d765-d6a0-43cb-b513-35a1a104cf3f",
   "metadata": {},
   "outputs": [
    {
     "data": {
      "text/html": [
       "<div>\n",
       "<style scoped>\n",
       "    .dataframe tbody tr th:only-of-type {\n",
       "        vertical-align: middle;\n",
       "    }\n",
       "\n",
       "    .dataframe tbody tr th {\n",
       "        vertical-align: top;\n",
       "    }\n",
       "\n",
       "    .dataframe thead th {\n",
       "        text-align: right;\n",
       "    }\n",
       "</style>\n",
       "<table border=\"1\" class=\"dataframe\">\n",
       "  <thead>\n",
       "    <tr style=\"text-align: right;\">\n",
       "      <th></th>\n",
       "      <th>df</th>\n",
       "      <th>sum_sq</th>\n",
       "      <th>mean_sq</th>\n",
       "      <th>F</th>\n",
       "      <th>PR(&gt;F)</th>\n",
       "    </tr>\n",
       "  </thead>\n",
       "  <tbody>\n",
       "    <tr>\n",
       "      <th>C(variable)</th>\n",
       "      <td>2.0</td>\n",
       "      <td>744.266667</td>\n",
       "      <td>372.133333</td>\n",
       "      <td>103.90486</td>\n",
       "      <td>2.083262e-13</td>\n",
       "    </tr>\n",
       "    <tr>\n",
       "      <th>Residual</th>\n",
       "      <td>27.0</td>\n",
       "      <td>96.700000</td>\n",
       "      <td>3.581481</td>\n",
       "      <td>NaN</td>\n",
       "      <td>NaN</td>\n",
       "    </tr>\n",
       "  </tbody>\n",
       "</table>\n",
       "</div>"
      ],
      "text/plain": [
       "               df      sum_sq     mean_sq          F        PR(>F)\n",
       "C(variable)   2.0  744.266667  372.133333  103.90486  2.083262e-13\n",
       "Residual     27.0   96.700000    3.581481        NaN           NaN"
      ]
     },
     "execution_count": 28,
     "metadata": {},
     "output_type": "execute_result"
    }
   ],
   "source": [
    "## 일원분산분석 2) -  stats.anova_lm\n",
    "\n",
    "# 교육법에 따른 점수의 차이를 보고 싶다 = variable을 가지고 value를 보고싶다 = value를 종속변수(y)로.\n",
    "# 범주형 변수일 때는 앞에 C붙여줄것 \n",
    "\n",
    "from statsmodels.stats.multicomp import pairwise_tukeyhsd\n",
    "import matplotlib.pyplot as plt\n",
    "\n",
    "from statsmodels.formula.api import ols\n",
    "import statsmodels.api as sm\n",
    "\n",
    "model = ols('value ~ C(variable)', data = df2).fit()\n",
    "\n",
    "sm.stats.anova_lm(model)\n",
    "\n",
    "# p < 0.05 ; H0기각.  네 개 중 적어도 두 개의 분산에 유의미한 차이가 있다?"
   ]
  },
  {
   "cell_type": "code",
   "execution_count": 29,
   "id": "889ba87c-3dbd-4ad4-917c-57d2ff00c9ba",
   "metadata": {},
   "outputs": [
    {
     "name": "stdout",
     "output_type": "stream",
     "text": [
      "Multiple Comparison of Means - Tukey HSD, FWER=0.05\n",
      "===================================================\n",
      "group1 group2 meandiff p-adj  lower   upper  reject\n",
      "---------------------------------------------------\n",
      "     A      B      6.0   0.0  3.9016  8.0984   True\n",
      "     A      C     12.2   0.0 10.1016 14.2984   True\n",
      "     B      C      6.2   0.0  4.1016  8.2984   True\n",
      "---------------------------------------------------\n"
     ]
    }
   ],
   "source": [
    "# 사후 분석(일원 분산 분석이 유의미한 경우에) - pairwise_tukeyhsd\n",
    "# 어떤 교육법이 유의미한지 확인 \n",
    "\n",
    "from statsmodels.stats.multicomp import pairwise_tukeyhsd\n",
    "import matplotlib.pyplot as plt\n",
    "\n",
    "report = pairwise_tukeyhsd(endog = df2['value'],  groups = df2['variable'], alpha = 0.05)\n",
    "print(report)\n",
    "\n",
    "# 각각 두집단씩 비교.. 모든 경우에 대해 해줌 \n",
    "# 다 p < 0.05 ; 모든 교육방법이 효과가 있다"
   ]
  },
  {
   "cell_type": "code",
   "execution_count": 17,
   "id": "29ee10a1-d708-4886-adde-274cb88a39fe",
   "metadata": {},
   "outputs": [
    {
     "data": {
      "image/png": "[encoded data removed]",
      "text/plain": [
       "<Figure size 1000x600 with 1 Axes>"
      ]
     },
     "metadata": {},
     "output_type": "display_data"
    }
   ],
   "source": [
    "# 시각화\n",
    "report.plot_simultaneous()\n",
    "plt.show()\n",
    "\n",
    "# 세 개 집단의 평균의 차 확인 가능 "
   ]
  },
  {
   "cell_type": "code",
   "execution_count": null,
   "id": "72180ac4-16f8-4a01-bde4-145713e017af",
   "metadata": {},
   "outputs": [],
   "source": []
  }
 ],
 "metadata": {
  "kernelspec": {
   "display_name": "Python 3 (ipykernel)",
   "language": "python",
   "name": "python3"
  },
  "language_info": {
   "codemirror_mode": {
    "name": "ipython",
    "version": 3
   },
   "file_extension": ".py",
   "mimetype": "text/x-python",
   "name": "python",
   "nbconvert_exporter": "python",
   "pygments_lexer": "ipython3",
   "version": "3.12.7"
  }
 },
 "nbformat": 4,
 "nbformat_minor": 5
}
