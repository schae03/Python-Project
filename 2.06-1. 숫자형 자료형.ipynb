{
 "cells": [
  {
   "cell_type": "code",
   "execution_count": 5,
   "id": "6bf46689-dc57-4112-afe9-d0e91232676b",
   "metadata": {},
   "outputs": [
    {
     "name": "stdout",
     "output_type": "stream",
     "text": [
      "10\n"
     ]
    }
   ],
   "source": [
    "# 정수형 자료형  //  변수 a에 10을 넣어라.  //  변수에는 하나의 값만 저장\n",
    "a = 5\n",
    "a = 10\n",
    "print(a)        # shift+ enter 누르면 출력됨 "
   ]
  },
  {
   "cell_type": "code",
   "execution_count": 6,
   "id": "f7bafd45-3be7-4934-af56-9884fcccc709",
   "metadata": {},
   "outputs": [
    {
     "name": "stdout",
     "output_type": "stream",
     "text": [
      "3\n",
      "10\n",
      "10\n"
     ]
    }
   ],
   "source": [
    "a = 0b11            #0b__ : 2진법\n",
    "print(a)\n",
    "\n",
    "b = 0o12            #0o__ : 8진법\n",
    "print(b)\n",
    "\n",
    "c = 0xA            #0x__ : 16진법\n",
    "print(c)"
   ]
  },
  {
   "cell_type": "code",
   "execution_count": 1,
   "id": "6cdd43ca-02fe-4cac-a3af-430811958717",
   "metadata": {},
   "outputs": [
    {
     "name": "stdout",
     "output_type": "stream",
     "text": [
      "558.14\n"
     ]
    }
   ],
   "source": [
    "a = 3.14\n",
    "b = 555\n",
    "print(a + b)   # 파이썬은 변수 타입 달라도 연산해줄 수 있음 (다른 언어는 안 됨)"
   ]
  },
  {
   "cell_type": "code",
   "execution_count": 13,
   "id": "110885ea-dcc0-4a09-9cd8-95f9f07cb932",
   "metadata": {},
   "outputs": [
    {
     "name": "stdout",
     "output_type": "stream",
     "text": [
      "120000000.0\n",
      "3.14e-07\n"
     ]
    }
   ],
   "source": [
    "# 지수표현\n",
    "print(1.2e8)    # 1.2 * 10^8\n",
    "print(3.14e-7)  # 3.14 * 10^(-7)"
   ]
  },
  {
   "cell_type": "code",
   "execution_count": 17,
   "id": "fb06a80b-697f-4614-92c7-28b0c4a64d1d",
   "metadata": {},
   "outputs": [
    {
     "name": "stdout",
     "output_type": "stream",
     "text": [
      "(4+2j)\n",
      "(2-3j)\n"
     ]
    }
   ],
   "source": [
    "# 복소수  -  j로 표현\n",
    "a = 4 + 2j\n",
    "b = 2 - 3j\n",
    "\n",
    "print(a)\n",
    "print(b)"
   ]
  },
  {
   "cell_type": "code",
   "execution_count": 19,
   "id": "5ad26a1b-7273-43d5-9691-bf5691a6fa12",
   "metadata": {},
   "outputs": [
    {
     "name": "stdout",
     "output_type": "stream",
     "text": [
      "4.0\n",
      "2.0\n",
      "(6-1j)\n",
      "(14-8j)\n"
     ]
    }
   ],
   "source": [
    "print(a.real)        # .real : 실수부분만 뽑아줌\n",
    "print(a.imag)        # .imag : 허수부분만 뽑아줌\n",
    "print(a + b)\n",
    "print(a * b)"
   ]
  },
  {
   "cell_type": "code",
   "execution_count": 23,
   "id": "1690ed48-2286-417f-91a8-a1e02362b057",
   "metadata": {},
   "outputs": [
    {
     "name": "stdout",
     "output_type": "stream",
     "text": [
      "0.30000000000000004\n",
      "0.3\n"
     ]
    }
   ],
   "source": [
    "# decimal 라는 라이브러리로부터 Decimal 라는 함수를 가져와라.\n",
    "from decimal import Decimal\n",
    "\n",
    "print(0.1 + 0.2)\n",
    "\n",
    "a = Decimal(\"0.1\")   # 문자열로 넣을 것. 숫자형으로 넣어도 괜찮긴함\n",
    "b = Decimal(\"0.2\")\n",
    "print(a + b)"
   ]
  },
  {
   "cell_type": "code",
   "execution_count": 27,
   "id": "235bebaa-4aa8-4293-85d7-882201fb93a1",
   "metadata": {},
   "outputs": [
    {
     "name": "stdout",
     "output_type": "stream",
     "text": [
      "13/21\n",
      "13\n",
      "21\n"
     ]
    }
   ],
   "source": [
    "# 분수 계산\n",
    "from fractions import Fraction\n",
    "\n",
    "a = Fraction(1,3)       # 1/3\n",
    "b = Fraction(2,7)\n",
    "c = a + b\n",
    "\n",
    "print(c)\n",
    "print(c.numerator)      # .numerator : 분자만 꺼낼 수 있음\n",
    "print(c.denominator)    # .denominator : 분모만"
   ]
  },
  {
   "cell_type": "code",
   "execution_count": 28,
   "id": "abfc05b7-48bc-4705-ba6f-7ec74c96cf26",
   "metadata": {},
   "outputs": [
    {
     "name": "stdout",
     "output_type": "stream",
     "text": [
      "13\n",
      "7\n",
      "30\n",
      "3.3333333333333335\n",
      "1000\n",
      "3\n",
      "1\n"
     ]
    }
   ],
   "source": [
    "# 연산자 활용\n",
    "a = 10\n",
    "b = 3\n",
    "\n",
    "print(a + b)\n",
    "print(a - b)\n",
    "print(a * b)\n",
    "print(a / b)\n",
    "\n",
    "print(a ** b)  # a의 b제곱\n",
    "print(a // b)  # a를 b로 나누었을때 몫\n",
    "print(a % b)   # a를 b로 나누었을때 나머지"
   ]
  },
  {
   "cell_type": "code",
   "execution_count": 2,
   "id": "26c1524a-ad47-4f3a-af82-f6003b0fd4f5",
   "metadata": {},
   "outputs": [
    {
     "name": "stdout",
     "output_type": "stream",
     "text": [
      "5\n",
      "3.142\n"
     ]
    }
   ],
   "source": [
    "print(abs(-5))  # 절대값\n",
    "print(round(3.141592, 3))  # 반올림. 두 자리까지 표현하겠다"
   ]
  },
  {
   "cell_type": "code",
   "execution_count": 30,
   "id": "0ee9b4a0-53d9-41fd-ace1-7d80b0b06ce6",
   "metadata": {},
   "outputs": [
    {
     "data": {
      "text/plain": [
       "12340"
      ]
     },
     "execution_count": 30,
     "metadata": {},
     "output_type": "execute_result"
    }
   ],
   "source": [
    "round(12345, -1)   # 일의자리에서 반올림한다는뜻         단,  .5에 대해선 가장 가까운 짝수로 반올림 "
   ]
  },
  {
   "cell_type": "code",
   "execution_count": 33,
   "id": "e58a56fe-ec04-4d76-acda-5e68b95dad8e",
   "metadata": {},
   "outputs": [
    {
     "name": "stdout",
     "output_type": "stream",
     "text": [
      "15\n",
      "5\n",
      "1\n"
     ]
    }
   ],
   "source": [
    "print(sum([1,2,3,4,5]))  # 총합\n",
    "print(max([1,2,3,4,5]))  # 최대값\n",
    "print(min([1,2,3,4,5]))  # 최소값"
   ]
  },
  {
   "cell_type": "code",
   "execution_count": null,
   "id": "c0ed7b5d-e0c5-49c9-8565-4f1c7e423014",
   "metadata": {},
   "outputs": [],
   "source": []
  }
 ],
 "metadata": {
  "kernelspec": {
   "display_name": "Python 3 (ipykernel)",
   "language": "python",
   "name": "python3"
  },
  "language_info": {
   "codemirror_mode": {
    "name": "ipython",
    "version": 3
   },
   "file_extension": ".py",
   "mimetype": "text/x-python",
   "name": "python",
   "nbconvert_exporter": "python",
   "pygments_lexer": "ipython3",
   "version": "3.12.7"
  }
 },
 "nbformat": 4,
 "nbformat_minor": 5
}
