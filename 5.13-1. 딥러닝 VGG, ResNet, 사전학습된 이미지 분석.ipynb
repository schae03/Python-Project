{
 "cells": [
  {
   "cell_type": "markdown",
   "id": "37df86b7-3141-4103-b731-2c3b350b9916",
   "metadata": {},
   "source": [
    "# 심화된 CNN 알고리즘 "
   ]
  },
  {
   "cell_type": "code",
   "execution_count": 2,
   "id": "937d4855-606f-4b03-b203-e0abe1c63f2a",
   "metadata": {},
   "outputs": [],
   "source": [
    "# 심화된 CNN 알고리즘 \n",
    "from tensorflow import keras\n",
    "(train_x, train_y), (test_x, test_y) = keras.datasets.fashion_mnist.load_data()"
   ]
  },
  {
   "cell_type": "code",
   "execution_count": 6,
   "id": "0d87ca3a-2dfd-4947-9157-171150f5e8bd",
   "metadata": {},
   "outputs": [
    {
     "data": {
      "text/plain": [
       "(60000, 28, 28)"
      ]
     },
     "execution_count": 6,
     "metadata": {},
     "output_type": "execute_result"
    }
   ],
   "source": [
    "train_x.shape         # 현재는 흑백데이터라 3차원"
   ]
  },
  {
   "cell_type": "code",
   "execution_count": 7,
   "id": "1dbdd506-1ea9-45b5-bbda-f8bdc0ea9a8b",
   "metadata": {},
   "outputs": [],
   "source": [
    "# 개수/가로/세로/채널\n",
    "train_scaled = train_x.reshape(-1, 28, 28, 1) / 255\n",
    "test_scaled = test_x.reshape(-1, 28, 28, 1) / 255"
   ]
  },
  {
   "cell_type": "markdown",
   "id": "d7bb324c-d77d-442a-aa93-b316344255c1",
   "metadata": {},
   "source": [
    "# 깊게 탐색하는 CNN 알고리즘 (유사하게 구현)"
   ]
  },
  {
   "cell_type": "markdown",
   "id": "784c1e78-385e-413a-96c2-39c13b6f85c0",
   "metadata": {},
   "source": [
    "## VGG Net: 작은(3x3) 컨볼루션 필터 + 맥스 풀링을 반복적으로 사용\n",
    "이미지의 특징을 여러번 잡고 풀링"
   ]
  },
  {
   "cell_type": "code",
   "execution_count": 13,
   "id": "2d0e71a3-5f3a-4feb-a269-99d93b4a9af7",
   "metadata": {},
   "outputs": [
    {
     "data": {
      "text/html": [
       "<pre style=\"white-space:pre;overflow-x:auto;line-height:normal;font-family:Menlo,'DejaVu Sans Mono',consolas,'Courier New',monospace\"><span style=\"font-weight: bold\">Model: \"sequential_4\"</span>\n",
       "</pre>\n"
      ],
      "text/plain": [
       "\u001b[1mModel: \"sequential_4\"\u001b[0m\n"
      ]
     },
     "metadata": {},
     "output_type": "display_data"
    },
    {
     "data": {
      "text/html": [
       "<pre style=\"white-space:pre;overflow-x:auto;line-height:normal;font-family:Menlo,'DejaVu Sans Mono',consolas,'Courier New',monospace\">┏━━━━━━━━━━━━━━━━━━━━━━━━━━━━━━━━━━━━━━┳━━━━━━━━━━━━━━━━━━━━━━━━━━━━━┳━━━━━━━━━━━━━━━━━┓\n",
       "┃<span style=\"font-weight: bold\"> Layer (type)                         </span>┃<span style=\"font-weight: bold\"> Output Shape                </span>┃<span style=\"font-weight: bold\">         Param # </span>┃\n",
       "┡━━━━━━━━━━━━━━━━━━━━━━━━━━━━━━━━━━━━━━╇━━━━━━━━━━━━━━━━━━━━━━━━━━━━━╇━━━━━━━━━━━━━━━━━┩\n",
       "│ conv2d_18 (<span style=\"color: #0087ff; text-decoration-color: #0087ff\">Conv2D</span>)                   │ (<span style=\"color: #00d7ff; text-decoration-color: #00d7ff\">None</span>, <span style=\"color: #00af00; text-decoration-color: #00af00\">28</span>, <span style=\"color: #00af00; text-decoration-color: #00af00\">28</span>, <span style=\"color: #00af00; text-decoration-color: #00af00\">32</span>)          │             <span style=\"color: #00af00; text-decoration-color: #00af00\">320</span> │\n",
       "├──────────────────────────────────────┼─────────────────────────────┼─────────────────┤\n",
       "│ conv2d_19 (<span style=\"color: #0087ff; text-decoration-color: #0087ff\">Conv2D</span>)                   │ (<span style=\"color: #00d7ff; text-decoration-color: #00d7ff\">None</span>, <span style=\"color: #00af00; text-decoration-color: #00af00\">28</span>, <span style=\"color: #00af00; text-decoration-color: #00af00\">28</span>, <span style=\"color: #00af00; text-decoration-color: #00af00\">32</span>)          │           <span style=\"color: #00af00; text-decoration-color: #00af00\">9,248</span> │\n",
       "├──────────────────────────────────────┼─────────────────────────────┼─────────────────┤\n",
       "│ max_pooling2d_9 (<span style=\"color: #0087ff; text-decoration-color: #0087ff\">MaxPooling2D</span>)       │ (<span style=\"color: #00d7ff; text-decoration-color: #00d7ff\">None</span>, <span style=\"color: #00af00; text-decoration-color: #00af00\">14</span>, <span style=\"color: #00af00; text-decoration-color: #00af00\">14</span>, <span style=\"color: #00af00; text-decoration-color: #00af00\">32</span>)          │               <span style=\"color: #00af00; text-decoration-color: #00af00\">0</span> │\n",
       "├──────────────────────────────────────┼─────────────────────────────┼─────────────────┤\n",
       "│ conv2d_20 (<span style=\"color: #0087ff; text-decoration-color: #0087ff\">Conv2D</span>)                   │ (<span style=\"color: #00d7ff; text-decoration-color: #00d7ff\">None</span>, <span style=\"color: #00af00; text-decoration-color: #00af00\">14</span>, <span style=\"color: #00af00; text-decoration-color: #00af00\">14</span>, <span style=\"color: #00af00; text-decoration-color: #00af00\">64</span>)          │          <span style=\"color: #00af00; text-decoration-color: #00af00\">18,496</span> │\n",
       "├──────────────────────────────────────┼─────────────────────────────┼─────────────────┤\n",
       "│ conv2d_21 (<span style=\"color: #0087ff; text-decoration-color: #0087ff\">Conv2D</span>)                   │ (<span style=\"color: #00d7ff; text-decoration-color: #00d7ff\">None</span>, <span style=\"color: #00af00; text-decoration-color: #00af00\">14</span>, <span style=\"color: #00af00; text-decoration-color: #00af00\">14</span>, <span style=\"color: #00af00; text-decoration-color: #00af00\">64</span>)          │          <span style=\"color: #00af00; text-decoration-color: #00af00\">36,928</span> │\n",
       "├──────────────────────────────────────┼─────────────────────────────┼─────────────────┤\n",
       "│ max_pooling2d_10 (<span style=\"color: #0087ff; text-decoration-color: #0087ff\">MaxPooling2D</span>)      │ (<span style=\"color: #00d7ff; text-decoration-color: #00d7ff\">None</span>, <span style=\"color: #00af00; text-decoration-color: #00af00\">7</span>, <span style=\"color: #00af00; text-decoration-color: #00af00\">7</span>, <span style=\"color: #00af00; text-decoration-color: #00af00\">64</span>)            │               <span style=\"color: #00af00; text-decoration-color: #00af00\">0</span> │\n",
       "├──────────────────────────────────────┼─────────────────────────────┼─────────────────┤\n",
       "│ conv2d_22 (<span style=\"color: #0087ff; text-decoration-color: #0087ff\">Conv2D</span>)                   │ (<span style=\"color: #00d7ff; text-decoration-color: #00d7ff\">None</span>, <span style=\"color: #00af00; text-decoration-color: #00af00\">7</span>, <span style=\"color: #00af00; text-decoration-color: #00af00\">7</span>, <span style=\"color: #00af00; text-decoration-color: #00af00\">128</span>)           │          <span style=\"color: #00af00; text-decoration-color: #00af00\">73,856</span> │\n",
       "├──────────────────────────────────────┼─────────────────────────────┼─────────────────┤\n",
       "│ conv2d_23 (<span style=\"color: #0087ff; text-decoration-color: #0087ff\">Conv2D</span>)                   │ (<span style=\"color: #00d7ff; text-decoration-color: #00d7ff\">None</span>, <span style=\"color: #00af00; text-decoration-color: #00af00\">7</span>, <span style=\"color: #00af00; text-decoration-color: #00af00\">7</span>, <span style=\"color: #00af00; text-decoration-color: #00af00\">128</span>)           │         <span style=\"color: #00af00; text-decoration-color: #00af00\">147,584</span> │\n",
       "├──────────────────────────────────────┼─────────────────────────────┼─────────────────┤\n",
       "│ max_pooling2d_11 (<span style=\"color: #0087ff; text-decoration-color: #0087ff\">MaxPooling2D</span>)      │ (<span style=\"color: #00d7ff; text-decoration-color: #00d7ff\">None</span>, <span style=\"color: #00af00; text-decoration-color: #00af00\">3</span>, <span style=\"color: #00af00; text-decoration-color: #00af00\">3</span>, <span style=\"color: #00af00; text-decoration-color: #00af00\">128</span>)           │               <span style=\"color: #00af00; text-decoration-color: #00af00\">0</span> │\n",
       "├──────────────────────────────────────┼─────────────────────────────┼─────────────────┤\n",
       "│ flatten_1 (<span style=\"color: #0087ff; text-decoration-color: #0087ff\">Flatten</span>)                  │ (<span style=\"color: #00d7ff; text-decoration-color: #00d7ff\">None</span>, <span style=\"color: #00af00; text-decoration-color: #00af00\">1152</span>)                │               <span style=\"color: #00af00; text-decoration-color: #00af00\">0</span> │\n",
       "├──────────────────────────────────────┼─────────────────────────────┼─────────────────┤\n",
       "│ dense_3 (<span style=\"color: #0087ff; text-decoration-color: #0087ff\">Dense</span>)                      │ (<span style=\"color: #00d7ff; text-decoration-color: #00d7ff\">None</span>, <span style=\"color: #00af00; text-decoration-color: #00af00\">128</span>)                 │         <span style=\"color: #00af00; text-decoration-color: #00af00\">147,584</span> │\n",
       "├──────────────────────────────────────┼─────────────────────────────┼─────────────────┤\n",
       "│ dense_4 (<span style=\"color: #0087ff; text-decoration-color: #0087ff\">Dense</span>)                      │ (<span style=\"color: #00d7ff; text-decoration-color: #00d7ff\">None</span>, <span style=\"color: #00af00; text-decoration-color: #00af00\">128</span>)                 │          <span style=\"color: #00af00; text-decoration-color: #00af00\">16,512</span> │\n",
       "├──────────────────────────────────────┼─────────────────────────────┼─────────────────┤\n",
       "│ dense_5 (<span style=\"color: #0087ff; text-decoration-color: #0087ff\">Dense</span>)                      │ (<span style=\"color: #00d7ff; text-decoration-color: #00d7ff\">None</span>, <span style=\"color: #00af00; text-decoration-color: #00af00\">10</span>)                  │           <span style=\"color: #00af00; text-decoration-color: #00af00\">1,290</span> │\n",
       "└──────────────────────────────────────┴─────────────────────────────┴─────────────────┘\n",
       "</pre>\n"
      ],
      "text/plain": [
       "┏━━━━━━━━━━━━━━━━━━━━━━━━━━━━━━━━━━━━━━┳━━━━━━━━━━━━━━━━━━━━━━━━━━━━━┳━━━━━━━━━━━━━━━━━┓\n",
       "┃\u001b[1m \u001b[0m\u001b[1mLayer (type)                        \u001b[0m\u001b[1m \u001b[0m┃\u001b[1m \u001b[0m\u001b[1mOutput Shape               \u001b[0m\u001b[1m \u001b[0m┃\u001b[1m \u001b[0m\u001b[1m        Param #\u001b[0m\u001b[1m \u001b[0m┃\n",
       "┡━━━━━━━━━━━━━━━━━━━━━━━━━━━━━━━━━━━━━━╇━━━━━━━━━━━━━━━━━━━━━━━━━━━━━╇━━━━━━━━━━━━━━━━━┩\n",
       "│ conv2d_18 (\u001b[38;5;33mConv2D\u001b[0m)                   │ (\u001b[38;5;45mNone\u001b[0m, \u001b[38;5;34m28\u001b[0m, \u001b[38;5;34m28\u001b[0m, \u001b[38;5;34m32\u001b[0m)          │             \u001b[38;5;34m320\u001b[0m │\n",
       "├──────────────────────────────────────┼─────────────────────────────┼─────────────────┤\n",
       "│ conv2d_19 (\u001b[38;5;33mConv2D\u001b[0m)                   │ (\u001b[38;5;45mNone\u001b[0m, \u001b[38;5;34m28\u001b[0m, \u001b[38;5;34m28\u001b[0m, \u001b[38;5;34m32\u001b[0m)          │           \u001b[38;5;34m9,248\u001b[0m │\n",
       "├──────────────────────────────────────┼─────────────────────────────┼─────────────────┤\n",
       "│ max_pooling2d_9 (\u001b[38;5;33mMaxPooling2D\u001b[0m)       │ (\u001b[38;5;45mNone\u001b[0m, \u001b[38;5;34m14\u001b[0m, \u001b[38;5;34m14\u001b[0m, \u001b[38;5;34m32\u001b[0m)          │               \u001b[38;5;34m0\u001b[0m │\n",
       "├──────────────────────────────────────┼─────────────────────────────┼─────────────────┤\n",
       "│ conv2d_20 (\u001b[38;5;33mConv2D\u001b[0m)                   │ (\u001b[38;5;45mNone\u001b[0m, \u001b[38;5;34m14\u001b[0m, \u001b[38;5;34m14\u001b[0m, \u001b[38;5;34m64\u001b[0m)          │          \u001b[38;5;34m18,496\u001b[0m │\n",
       "├──────────────────────────────────────┼─────────────────────────────┼─────────────────┤\n",
       "│ conv2d_21 (\u001b[38;5;33mConv2D\u001b[0m)                   │ (\u001b[38;5;45mNone\u001b[0m, \u001b[38;5;34m14\u001b[0m, \u001b[38;5;34m14\u001b[0m, \u001b[38;5;34m64\u001b[0m)          │          \u001b[38;5;34m36,928\u001b[0m │\n",
       "├──────────────────────────────────────┼─────────────────────────────┼─────────────────┤\n",
       "│ max_pooling2d_10 (\u001b[38;5;33mMaxPooling2D\u001b[0m)      │ (\u001b[38;5;45mNone\u001b[0m, \u001b[38;5;34m7\u001b[0m, \u001b[38;5;34m7\u001b[0m, \u001b[38;5;34m64\u001b[0m)            │               \u001b[38;5;34m0\u001b[0m │\n",
       "├──────────────────────────────────────┼─────────────────────────────┼─────────────────┤\n",
       "│ conv2d_22 (\u001b[38;5;33mConv2D\u001b[0m)                   │ (\u001b[38;5;45mNone\u001b[0m, \u001b[38;5;34m7\u001b[0m, \u001b[38;5;34m7\u001b[0m, \u001b[38;5;34m128\u001b[0m)           │          \u001b[38;5;34m73,856\u001b[0m │\n",
       "├──────────────────────────────────────┼─────────────────────────────┼─────────────────┤\n",
       "│ conv2d_23 (\u001b[38;5;33mConv2D\u001b[0m)                   │ (\u001b[38;5;45mNone\u001b[0m, \u001b[38;5;34m7\u001b[0m, \u001b[38;5;34m7\u001b[0m, \u001b[38;5;34m128\u001b[0m)           │         \u001b[38;5;34m147,584\u001b[0m │\n",
       "├──────────────────────────────────────┼─────────────────────────────┼─────────────────┤\n",
       "│ max_pooling2d_11 (\u001b[38;5;33mMaxPooling2D\u001b[0m)      │ (\u001b[38;5;45mNone\u001b[0m, \u001b[38;5;34m3\u001b[0m, \u001b[38;5;34m3\u001b[0m, \u001b[38;5;34m128\u001b[0m)           │               \u001b[38;5;34m0\u001b[0m │\n",
       "├──────────────────────────────────────┼─────────────────────────────┼─────────────────┤\n",
       "│ flatten_1 (\u001b[38;5;33mFlatten\u001b[0m)                  │ (\u001b[38;5;45mNone\u001b[0m, \u001b[38;5;34m1152\u001b[0m)                │               \u001b[38;5;34m0\u001b[0m │\n",
       "├──────────────────────────────────────┼─────────────────────────────┼─────────────────┤\n",
       "│ dense_3 (\u001b[38;5;33mDense\u001b[0m)                      │ (\u001b[38;5;45mNone\u001b[0m, \u001b[38;5;34m128\u001b[0m)                 │         \u001b[38;5;34m147,584\u001b[0m │\n",
       "├──────────────────────────────────────┼─────────────────────────────┼─────────────────┤\n",
       "│ dense_4 (\u001b[38;5;33mDense\u001b[0m)                      │ (\u001b[38;5;45mNone\u001b[0m, \u001b[38;5;34m128\u001b[0m)                 │          \u001b[38;5;34m16,512\u001b[0m │\n",
       "├──────────────────────────────────────┼─────────────────────────────┼─────────────────┤\n",
       "│ dense_5 (\u001b[38;5;33mDense\u001b[0m)                      │ (\u001b[38;5;45mNone\u001b[0m, \u001b[38;5;34m10\u001b[0m)                  │           \u001b[38;5;34m1,290\u001b[0m │\n",
       "└──────────────────────────────────────┴─────────────────────────────┴─────────────────┘\n"
      ]
     },
     "metadata": {},
     "output_type": "display_data"
    },
    {
     "data": {
      "text/html": [
       "<pre style=\"white-space:pre;overflow-x:auto;line-height:normal;font-family:Menlo,'DejaVu Sans Mono',consolas,'Courier New',monospace\"><span style=\"font-weight: bold\"> Total params: </span><span style=\"color: #00af00; text-decoration-color: #00af00\">451,818</span> (1.72 MB)\n",
       "</pre>\n"
      ],
      "text/plain": [
       "\u001b[1m Total params: \u001b[0m\u001b[38;5;34m451,818\u001b[0m (1.72 MB)\n"
      ]
     },
     "metadata": {},
     "output_type": "display_data"
    },
    {
     "data": {
      "text/html": [
       "<pre style=\"white-space:pre;overflow-x:auto;line-height:normal;font-family:Menlo,'DejaVu Sans Mono',consolas,'Courier New',monospace\"><span style=\"font-weight: bold\"> Trainable params: </span><span style=\"color: #00af00; text-decoration-color: #00af00\">451,818</span> (1.72 MB)\n",
       "</pre>\n"
      ],
      "text/plain": [
       "\u001b[1m Trainable params: \u001b[0m\u001b[38;5;34m451,818\u001b[0m (1.72 MB)\n"
      ]
     },
     "metadata": {},
     "output_type": "display_data"
    },
    {
     "data": {
      "text/html": [
       "<pre style=\"white-space:pre;overflow-x:auto;line-height:normal;font-family:Menlo,'DejaVu Sans Mono',consolas,'Courier New',monospace\"><span style=\"font-weight: bold\"> Non-trainable params: </span><span style=\"color: #00af00; text-decoration-color: #00af00\">0</span> (0.00 B)\n",
       "</pre>\n"
      ],
      "text/plain": [
       "\u001b[1m Non-trainable params: \u001b[0m\u001b[38;5;34m0\u001b[0m (0.00 B)\n"
      ]
     },
     "metadata": {},
     "output_type": "display_data"
    }
   ],
   "source": [
    "from keras.layers import Input, Conv2D, MaxPooling2D, Flatten, Dense, Dropout\n",
    "\n",
    "model = keras.Sequential([         # 인공신경망 만드는 도화지\n",
    "    Input(shape = (28, 28, 1)),\n",
    "\n",
    "    # 특징을 32번씩 여러번 잡고 맥스풀링\n",
    "    Conv2D(32, kernel_size = (3,3), activation=\"relu\", padding=\"same\"),        # 필터는 32개, 커널사이즈는 3,3\n",
    "    Conv2D(32, kernel_size = (3,3), activation=\"relu\", padding=\"same\"),\n",
    "    MaxPooling2D((2,2)),       # 가로세로 사이즈를 1/2로 줄여줌\n",
    "\n",
    "    # 특징을 64번씩 여러번 잡고 맥스풀링\n",
    "    Conv2D(64, kernel_size = (3,3), activation=\"relu\", padding=\"same\"),        # 필터는 64개, 커널사이즈는 3,3\n",
    "    Conv2D(64, kernel_size = (3,3), activation=\"relu\", padding=\"same\"),\n",
    "    MaxPooling2D((2,2)),\n",
    "\n",
    "    # 특징을 128번씩 여러번 잡고 맥스풀링\n",
    "    Conv2D(128, kernel_size = (3,3), activation=\"relu\", padding=\"same\"), \n",
    "    Conv2D(128, kernel_size = (3,3), activation=\"relu\", padding=\"same\"),\n",
    "    MaxPooling2D((2,2)),\n",
    "\n",
    "    Flatten(),        # 은닉층에 노드를 넣어줘야 하니 쭉 펴준다\n",
    "    Dense(128, activation=\"relu\"),      # 은닉층\n",
    "    # Dropout(0.3)    # 과대적합 나면 추가\n",
    "    Dense(128, activation=\"relu\"),      # 은닉층\n",
    "    Dense(10, activation=\"softmax\"),      # 출력층\n",
    "])\n",
    "\n",
    "model.summary()\n",
    "\n",
    "# 가로,세로는 점점 줄어들고, 채널 수(정보량)은 점점 늘어난다  =  좁고 깊은 구조"
   ]
  },
  {
   "cell_type": "markdown",
   "id": "f40d0255-12d9-477e-a39c-c5014493bed5",
   "metadata": {},
   "source": [
    "45만개의 파라미터를 구현해야한다"
   ]
  },
  {
   "cell_type": "code",
   "execution_count": 15,
   "id": "68dacd13-3c0a-4430-a1d5-b726f4b56aff",
   "metadata": {},
   "outputs": [
    {
     "name": "stdout",
     "output_type": "stream",
     "text": [
      "Epoch 1/5\n",
      "\u001b[1m1500/1500\u001b[0m \u001b[32m━━━━━━━━━━━━━━━━━━━━\u001b[0m\u001b[37m\u001b[0m \u001b[1m43s\u001b[0m 28ms/step - accuracy: 0.9163 - loss: 0.2258 - val_accuracy: 0.9203 - val_loss: 0.2251\n",
      "Epoch 2/5\n",
      "\u001b[1m1500/1500\u001b[0m \u001b[32m━━━━━━━━━━━━━━━━━━━━\u001b[0m\u001b[37m\u001b[0m \u001b[1m43s\u001b[0m 29ms/step - accuracy: 0.9320 - loss: 0.1884 - val_accuracy: 0.9197 - val_loss: 0.2243\n",
      "Epoch 3/5\n",
      "\u001b[1m1500/1500\u001b[0m \u001b[32m━━━━━━━━━━━━━━━━━━━━\u001b[0m\u001b[37m\u001b[0m \u001b[1m46s\u001b[0m 31ms/step - accuracy: 0.9398 - loss: 0.1626 - val_accuracy: 0.9241 - val_loss: 0.2073\n",
      "Epoch 4/5\n",
      "\u001b[1m1500/1500\u001b[0m \u001b[32m━━━━━━━━━━━━━━━━━━━━\u001b[0m\u001b[37m\u001b[0m \u001b[1m49s\u001b[0m 33ms/step - accuracy: 0.9489 - loss: 0.1409 - val_accuracy: 0.9183 - val_loss: 0.2205\n",
      "Epoch 5/5\n",
      "\u001b[1m1500/1500\u001b[0m \u001b[32m━━━━━━━━━━━━━━━━━━━━\u001b[0m\u001b[37m\u001b[0m \u001b[1m55s\u001b[0m 36ms/step - accuracy: 0.9526 - loss: 0.1250 - val_accuracy: 0.9202 - val_loss: 0.2254\n"
     ]
    }
   ],
   "source": [
    "model.compile(loss = 'sparse_categorical_crossentropy',\n",
    "              metrics = ['accuracy'],\n",
    "              optimizer = 'adam')\n",
    "\n",
    "history = model.fit(train_scaled, train_y, epochs = 5,\n",
    "                    # validation_data=(test_scaled, test_y),\n",
    "                    validation_split=0.2)      # 검증데이터 따로 안만들고 훈련데이터 쪼개서 검증 가능"
   ]
  },
  {
   "cell_type": "code",
   "execution_count": 16,
   "id": "e9501f59-5052-43d2-9fec-1687055f2246",
   "metadata": {},
   "outputs": [
    {
     "name": "stdout",
     "output_type": "stream",
     "text": [
      "\u001b[1m313/313\u001b[0m \u001b[32m━━━━━━━━━━━━━━━━━━━━\u001b[0m\u001b[37m\u001b[0m \u001b[1m4s\u001b[0m 11ms/step - accuracy: 0.9180 - loss: 0.2533\n"
     ]
    },
    {
     "data": {
      "text/plain": [
       "[0.24761055409908295, 0.9172999858856201]"
      ]
     },
     "execution_count": 16,
     "metadata": {},
     "output_type": "execute_result"
    }
   ],
   "source": [
    "model.evaluate(test_scaled, test_y)\n",
    "\n",
    "# 성능 91.7%"
   ]
  },
  {
   "cell_type": "code",
   "execution_count": 17,
   "id": "8b24bc99-9aff-40d4-8e67-1f95d10a7af9",
   "metadata": {},
   "outputs": [
    {
     "data": {
      "image/png": "[encoded data removed]",
      "text/plain": [
       "<Figure size 640x480 with 1 Axes>"
      ]
     },
     "metadata": {},
     "output_type": "display_data"
    }
   ],
   "source": [
    "import matplotlib.pyplot as plt\n",
    "\n",
    "plt.plot(history.history[\"loss\"])\n",
    "plt.plot(history.history[\"val_loss\"])\n",
    "plt.legend([\"train\", \"test\"])\n",
    "plt.grid()\n",
    "plt.show()\n",
    "\n",
    "# 모델이 단순해서 과적합이 발생했으나, 코드 느낌만 알기 "
   ]
  },
  {
   "cell_type": "markdown",
   "id": "5f142d39-e262-4264-a975-c09f9d4b063f",
   "metadata": {},
   "source": [
    "## ResNet: 여러개의 컨볼루션을 거쳐도 형태가 깨지지 않게. \n",
    "### 컨볼루션 레이어 이미지 + 원본 이미지 = Residual Block\n",
    "형태도 유지하면서 특징도 저장할 수 있게 ; f(x) + x   \n"
   ]
  },
  {
   "cell_type": "code",
   "execution_count": 26,
   "id": "dd7ddeda-4668-465b-aaf1-f6b6ad912041",
   "metadata": {},
   "outputs": [],
   "source": [
    "from keras.layers import BatchNormalization, Activation, Add, GlobalAveragePooling2D\n",
    "\n",
    "def Residual_block(input_x, filters, stride=1):       # stride: 몇칸씩 움직여가며 특징을 잡는지\n",
    "    x = input_x\n",
    "    short_cut = input_x        # 나중에 더해주기 위해 따로 빼놓은것\n",
    "\n",
    "    x = Conv2D(filters, kernel_size=(3,3), padding=\"same\")(x)        # x를 통과시킨다?\n",
    "    x = BatchNormalization()(x)\n",
    "    x = Activation(\"relu\")(x)         # relu에 x 통과시킴\n",
    "\n",
    "    x = Conv2D(filters, kernel_size=(3,3), padding=\"same\")(x)\n",
    "    x = BatchNormalization()(x)\n",
    "\n",
    "    x = Add()([x, short_cut])       # 컨볼루션 레이어 통과한 x와 원본 x 더해짐\n",
    "    x = Activation(\"relu\")(x)\n",
    "\n",
    "    return x"
   ]
  },
  {
   "cell_type": "code",
   "execution_count": 32,
   "id": "58d58b9f-ddd2-4156-a4ad-9d97b00cb4e9",
   "metadata": {},
   "outputs": [
    {
     "ename": "ValueError",
     "evalue": "Inputs have incompatible shapes. Received shapes (28, 28, 64) and (28, 28, 32)",
     "output_type": "error",
     "traceback": [
      "\u001b[1;31m---------------------------------------------------------------------------\u001b[0m",
      "\u001b[1;31mValueError\u001b[0m                                Traceback (most recent call last)",
      "Cell \u001b[1;32mIn[32], line 10\u001b[0m\n\u001b[0;32m      7\u001b[0m x \u001b[38;5;241m=\u001b[39m Residual_block(x, filters\u001b[38;5;241m=\u001b[39m\u001b[38;5;241m32\u001b[39m)        \u001b[38;5;66;03m# 컨볼루션 층을 2번 거켰는데도 원본데이터를 유지\u001b[39;00m\n\u001b[0;32m      8\u001b[0m x \u001b[38;5;241m=\u001b[39m Residual_block(x, filters\u001b[38;5;241m=\u001b[39m\u001b[38;5;241m32\u001b[39m)        \u001b[38;5;66;03m# 컨볼루션 층 또 2번 거침.  총 4번\u001b[39;00m\n\u001b[1;32m---> 10\u001b[0m x \u001b[38;5;241m=\u001b[39m Residual_block(x, filters\u001b[38;5;241m=\u001b[39m\u001b[38;5;241m64\u001b[39m, stride\u001b[38;5;241m=\u001b[39m\u001b[38;5;241m2\u001b[39m)    \u001b[38;5;66;03m# 두칸씩 움직이면서 이미지의 특징을 64번 잡음\u001b[39;00m\n\u001b[0;32m     11\u001b[0m x \u001b[38;5;241m=\u001b[39m Residual_block(x, filters\u001b[38;5;241m=\u001b[39m\u001b[38;5;241m64\u001b[39m) \n\u001b[0;32m     13\u001b[0m x \u001b[38;5;241m=\u001b[39m GlobalAveragePooling2D()(x)\n",
      "Cell \u001b[1;32mIn[26], line 14\u001b[0m, in \u001b[0;36mResidual_block\u001b[1;34m(input_x, filters, stride)\u001b[0m\n\u001b[0;32m     11\u001b[0m x \u001b[38;5;241m=\u001b[39m Conv2D(filters, kernel_size\u001b[38;5;241m=\u001b[39m(\u001b[38;5;241m3\u001b[39m,\u001b[38;5;241m3\u001b[39m), padding\u001b[38;5;241m=\u001b[39m\u001b[38;5;124m\"\u001b[39m\u001b[38;5;124msame\u001b[39m\u001b[38;5;124m\"\u001b[39m)(x)\n\u001b[0;32m     12\u001b[0m x \u001b[38;5;241m=\u001b[39m BatchNormalization()(x)\n\u001b[1;32m---> 14\u001b[0m x \u001b[38;5;241m=\u001b[39m Add()([x, short_cut])       \u001b[38;5;66;03m# 컨볼루션 레이어 통과한 x와 원본 x 더해짐\u001b[39;00m\n\u001b[0;32m     15\u001b[0m x \u001b[38;5;241m=\u001b[39m Activation(\u001b[38;5;124m\"\u001b[39m\u001b[38;5;124mrelu\u001b[39m\u001b[38;5;124m\"\u001b[39m)(x)\n\u001b[0;32m     17\u001b[0m \u001b[38;5;28;01mreturn\u001b[39;00m x\n",
      "File \u001b[1;32m~\\anaconda3\\Lib\\site-packages\\keras\\src\\utils\\traceback_utils.py:122\u001b[0m, in \u001b[0;36mfilter_traceback.<locals>.error_handler\u001b[1;34m(*args, **kwargs)\u001b[0m\n\u001b[0;32m    119\u001b[0m     filtered_tb \u001b[38;5;241m=\u001b[39m _process_traceback_frames(e\u001b[38;5;241m.\u001b[39m__traceback__)\n\u001b[0;32m    120\u001b[0m     \u001b[38;5;66;03m# To get the full stack trace, call:\u001b[39;00m\n\u001b[0;32m    121\u001b[0m     \u001b[38;5;66;03m# `keras.config.disable_traceback_filtering()`\u001b[39;00m\n\u001b[1;32m--> 122\u001b[0m     \u001b[38;5;28;01mraise\u001b[39;00m e\u001b[38;5;241m.\u001b[39mwith_traceback(filtered_tb) \u001b[38;5;28;01mfrom\u001b[39;00m \u001b[38;5;28;01mNone\u001b[39;00m\n\u001b[0;32m    123\u001b[0m \u001b[38;5;28;01mfinally\u001b[39;00m:\n\u001b[0;32m    124\u001b[0m     \u001b[38;5;28;01mdel\u001b[39;00m filtered_tb\n",
      "File \u001b[1;32m~\\anaconda3\\Lib\\site-packages\\keras\\src\\layers\\merging\\base_merge.py:93\u001b[0m, in \u001b[0;36mMerge._compute_elemwise_op_output_shape\u001b[1;34m(self, shape1, shape2)\u001b[0m\n\u001b[0;32m     91\u001b[0m     \u001b[38;5;28;01melse\u001b[39;00m:\n\u001b[0;32m     92\u001b[0m         \u001b[38;5;28;01mif\u001b[39;00m i \u001b[38;5;241m!=\u001b[39m j:\n\u001b[1;32m---> 93\u001b[0m             \u001b[38;5;28;01mraise\u001b[39;00m \u001b[38;5;167;01mValueError\u001b[39;00m(\n\u001b[0;32m     94\u001b[0m                 \u001b[38;5;124m\"\u001b[39m\u001b[38;5;124mInputs have incompatible shapes. \u001b[39m\u001b[38;5;124m\"\u001b[39m\n\u001b[0;32m     95\u001b[0m                 \u001b[38;5;124mf\u001b[39m\u001b[38;5;124m\"\u001b[39m\u001b[38;5;124mReceived shapes \u001b[39m\u001b[38;5;132;01m{\u001b[39;00mshape1\u001b[38;5;132;01m}\u001b[39;00m\u001b[38;5;124m and \u001b[39m\u001b[38;5;132;01m{\u001b[39;00mshape2\u001b[38;5;132;01m}\u001b[39;00m\u001b[38;5;124m\"\u001b[39m\n\u001b[0;32m     96\u001b[0m             )\n\u001b[0;32m     97\u001b[0m         output_shape\u001b[38;5;241m.\u001b[39mappend(i)\n\u001b[0;32m     98\u001b[0m \u001b[38;5;28;01mreturn\u001b[39;00m \u001b[38;5;28mtuple\u001b[39m(output_shape)\n",
      "\u001b[1;31mValueError\u001b[0m: Inputs have incompatible shapes. Received shapes (28, 28, 64) and (28, 28, 32)"
     ]
    }
   ],
   "source": [
    "inputs = Input(shape = (28, 28, 1))\n",
    "\n",
    "x = Conv2D(32, kernel_size=(3,3), padding=\"same\")(inputs)\n",
    "x = BatchNormalization()(x)\n",
    "x = Activation(\"relu\")(x)\n",
    "\n",
    "x = Residual_block(x, filters=32)        # 컨볼루션 층을 2번 거켰는데도 원본데이터를 유지\n",
    "x = Residual_block(x, filters=32)        # 컨볼루션 층 또 2번 거침.  총 4번\n",
    "\n",
    "x = Residual_block(x, filters=64, stride=2)    # 두칸씩 움직이면서 이미지의 특징을 64번 잡음\n",
    "x = Residual_block(x, filters=64) \n",
    "\n",
    "x = GlobalAveragePooling2D()(x)\n",
    "\n",
    "outputs = Dense(10, activation=\"softmax\")(x)"
   ]
  },
  {
   "cell_type": "code",
   "execution_count": 33,
   "id": "c510fbe6-7162-417b-ab57-98ed6ff6f422",
   "metadata": {
    "scrolled": true
   },
   "outputs": [
    {
     "name": "stdout",
     "output_type": "stream",
     "text": [
      "데이터 로드 및 전처리 시작...\n",
      "모델 구성 시작...\n"
     ]
    },
    {
     "data": {
      "text/html": [
       "<pre style=\"white-space:pre;overflow-x:auto;line-height:normal;font-family:Menlo,'DejaVu Sans Mono',consolas,'Courier New',monospace\"><span style=\"font-weight: bold\">Model: \"functional_8\"</span>\n",
       "</pre>\n"
      ],
      "text/plain": [
       "\u001b[1mModel: \"functional_8\"\u001b[0m\n"
      ]
     },
     "metadata": {},
     "output_type": "display_data"
    },
    {
     "data": {
      "text/html": [
       "<pre style=\"white-space:pre;overflow-x:auto;line-height:normal;font-family:Menlo,'DejaVu Sans Mono',consolas,'Courier New',monospace\">┏━━━━━━━━━━━━━━━━━━━━━━━━━━━━━━━┳━━━━━━━━━━━━━━━━━━━━━━━━━━━┳━━━━━━━━━━━━━━━━━┳━━━━━━━━━━━━━━━━━━━━━━━━━━━━┓\n",
       "┃<span style=\"font-weight: bold\"> Layer (type)                  </span>┃<span style=\"font-weight: bold\"> Output Shape              </span>┃<span style=\"font-weight: bold\">         Param # </span>┃<span style=\"font-weight: bold\"> Connected to               </span>┃\n",
       "┡━━━━━━━━━━━━━━━━━━━━━━━━━━━━━━━╇━━━━━━━━━━━━━━━━━━━━━━━━━━━╇━━━━━━━━━━━━━━━━━╇━━━━━━━━━━━━━━━━━━━━━━━━━━━━┩\n",
       "│ input_layer_12 (<span style=\"color: #0087ff; text-decoration-color: #0087ff\">InputLayer</span>)   │ (<span style=\"color: #00d7ff; text-decoration-color: #00d7ff\">None</span>, <span style=\"color: #00af00; text-decoration-color: #00af00\">28</span>, <span style=\"color: #00af00; text-decoration-color: #00af00\">28</span>, <span style=\"color: #00af00; text-decoration-color: #00af00\">1</span>)         │               <span style=\"color: #00af00; text-decoration-color: #00af00\">0</span> │ -                          │\n",
       "├───────────────────────────────┼───────────────────────────┼─────────────────┼────────────────────────────┤\n",
       "│ conv2d_46 (<span style=\"color: #0087ff; text-decoration-color: #0087ff\">Conv2D</span>)            │ (<span style=\"color: #00d7ff; text-decoration-color: #00d7ff\">None</span>, <span style=\"color: #00af00; text-decoration-color: #00af00\">28</span>, <span style=\"color: #00af00; text-decoration-color: #00af00\">28</span>, <span style=\"color: #00af00; text-decoration-color: #00af00\">32</span>)        │             <span style=\"color: #00af00; text-decoration-color: #00af00\">320</span> │ input_layer_12[<span style=\"color: #00af00; text-decoration-color: #00af00\">0</span>][<span style=\"color: #00af00; text-decoration-color: #00af00\">0</span>]       │\n",
       "├───────────────────────────────┼───────────────────────────┼─────────────────┼────────────────────────────┤\n",
       "│ batch_normalization_22        │ (<span style=\"color: #00d7ff; text-decoration-color: #00d7ff\">None</span>, <span style=\"color: #00af00; text-decoration-color: #00af00\">28</span>, <span style=\"color: #00af00; text-decoration-color: #00af00\">28</span>, <span style=\"color: #00af00; text-decoration-color: #00af00\">32</span>)        │             <span style=\"color: #00af00; text-decoration-color: #00af00\">128</span> │ conv2d_46[<span style=\"color: #00af00; text-decoration-color: #00af00\">0</span>][<span style=\"color: #00af00; text-decoration-color: #00af00\">0</span>]            │\n",
       "│ (<span style=\"color: #0087ff; text-decoration-color: #0087ff\">BatchNormalization</span>)          │                           │                 │                            │\n",
       "├───────────────────────────────┼───────────────────────────┼─────────────────┼────────────────────────────┤\n",
       "│ activation_21 (<span style=\"color: #0087ff; text-decoration-color: #0087ff\">Activation</span>)    │ (<span style=\"color: #00d7ff; text-decoration-color: #00d7ff\">None</span>, <span style=\"color: #00af00; text-decoration-color: #00af00\">28</span>, <span style=\"color: #00af00; text-decoration-color: #00af00\">28</span>, <span style=\"color: #00af00; text-decoration-color: #00af00\">32</span>)        │               <span style=\"color: #00af00; text-decoration-color: #00af00\">0</span> │ batch_normalization_22[<span style=\"color: #00af00; text-decoration-color: #00af00\">0</span>]… │\n",
       "├───────────────────────────────┼───────────────────────────┼─────────────────┼────────────────────────────┤\n",
       "│ conv2d_47 (<span style=\"color: #0087ff; text-decoration-color: #0087ff\">Conv2D</span>)            │ (<span style=\"color: #00d7ff; text-decoration-color: #00d7ff\">None</span>, <span style=\"color: #00af00; text-decoration-color: #00af00\">28</span>, <span style=\"color: #00af00; text-decoration-color: #00af00\">28</span>, <span style=\"color: #00af00; text-decoration-color: #00af00\">32</span>)        │           <span style=\"color: #00af00; text-decoration-color: #00af00\">9,248</span> │ activation_21[<span style=\"color: #00af00; text-decoration-color: #00af00\">0</span>][<span style=\"color: #00af00; text-decoration-color: #00af00\">0</span>]        │\n",
       "├───────────────────────────────┼───────────────────────────┼─────────────────┼────────────────────────────┤\n",
       "│ batch_normalization_23        │ (<span style=\"color: #00d7ff; text-decoration-color: #00d7ff\">None</span>, <span style=\"color: #00af00; text-decoration-color: #00af00\">28</span>, <span style=\"color: #00af00; text-decoration-color: #00af00\">28</span>, <span style=\"color: #00af00; text-decoration-color: #00af00\">32</span>)        │             <span style=\"color: #00af00; text-decoration-color: #00af00\">128</span> │ conv2d_47[<span style=\"color: #00af00; text-decoration-color: #00af00\">0</span>][<span style=\"color: #00af00; text-decoration-color: #00af00\">0</span>]            │\n",
       "│ (<span style=\"color: #0087ff; text-decoration-color: #0087ff\">BatchNormalization</span>)          │                           │                 │                            │\n",
       "├───────────────────────────────┼───────────────────────────┼─────────────────┼────────────────────────────┤\n",
       "│ activation_22 (<span style=\"color: #0087ff; text-decoration-color: #0087ff\">Activation</span>)    │ (<span style=\"color: #00d7ff; text-decoration-color: #00d7ff\">None</span>, <span style=\"color: #00af00; text-decoration-color: #00af00\">28</span>, <span style=\"color: #00af00; text-decoration-color: #00af00\">28</span>, <span style=\"color: #00af00; text-decoration-color: #00af00\">32</span>)        │               <span style=\"color: #00af00; text-decoration-color: #00af00\">0</span> │ batch_normalization_23[<span style=\"color: #00af00; text-decoration-color: #00af00\">0</span>]… │\n",
       "├───────────────────────────────┼───────────────────────────┼─────────────────┼────────────────────────────┤\n",
       "│ conv2d_48 (<span style=\"color: #0087ff; text-decoration-color: #0087ff\">Conv2D</span>)            │ (<span style=\"color: #00d7ff; text-decoration-color: #00d7ff\">None</span>, <span style=\"color: #00af00; text-decoration-color: #00af00\">28</span>, <span style=\"color: #00af00; text-decoration-color: #00af00\">28</span>, <span style=\"color: #00af00; text-decoration-color: #00af00\">32</span>)        │           <span style=\"color: #00af00; text-decoration-color: #00af00\">9,248</span> │ activation_22[<span style=\"color: #00af00; text-decoration-color: #00af00\">0</span>][<span style=\"color: #00af00; text-decoration-color: #00af00\">0</span>]        │\n",
       "├───────────────────────────────┼───────────────────────────┼─────────────────┼────────────────────────────┤\n",
       "│ batch_normalization_24        │ (<span style=\"color: #00d7ff; text-decoration-color: #00d7ff\">None</span>, <span style=\"color: #00af00; text-decoration-color: #00af00\">28</span>, <span style=\"color: #00af00; text-decoration-color: #00af00\">28</span>, <span style=\"color: #00af00; text-decoration-color: #00af00\">32</span>)        │             <span style=\"color: #00af00; text-decoration-color: #00af00\">128</span> │ conv2d_48[<span style=\"color: #00af00; text-decoration-color: #00af00\">0</span>][<span style=\"color: #00af00; text-decoration-color: #00af00\">0</span>]            │\n",
       "│ (<span style=\"color: #0087ff; text-decoration-color: #0087ff\">BatchNormalization</span>)          │                           │                 │                            │\n",
       "├───────────────────────────────┼───────────────────────────┼─────────────────┼────────────────────────────┤\n",
       "│ add_7 (<span style=\"color: #0087ff; text-decoration-color: #0087ff\">Add</span>)                   │ (<span style=\"color: #00d7ff; text-decoration-color: #00d7ff\">None</span>, <span style=\"color: #00af00; text-decoration-color: #00af00\">28</span>, <span style=\"color: #00af00; text-decoration-color: #00af00\">28</span>, <span style=\"color: #00af00; text-decoration-color: #00af00\">32</span>)        │               <span style=\"color: #00af00; text-decoration-color: #00af00\">0</span> │ batch_normalization_24[<span style=\"color: #00af00; text-decoration-color: #00af00\">0</span>]… │\n",
       "│                               │                           │                 │ activation_21[<span style=\"color: #00af00; text-decoration-color: #00af00\">0</span>][<span style=\"color: #00af00; text-decoration-color: #00af00\">0</span>]        │\n",
       "├───────────────────────────────┼───────────────────────────┼─────────────────┼────────────────────────────┤\n",
       "│ activation_23 (<span style=\"color: #0087ff; text-decoration-color: #0087ff\">Activation</span>)    │ (<span style=\"color: #00d7ff; text-decoration-color: #00d7ff\">None</span>, <span style=\"color: #00af00; text-decoration-color: #00af00\">28</span>, <span style=\"color: #00af00; text-decoration-color: #00af00\">28</span>, <span style=\"color: #00af00; text-decoration-color: #00af00\">32</span>)        │               <span style=\"color: #00af00; text-decoration-color: #00af00\">0</span> │ add_7[<span style=\"color: #00af00; text-decoration-color: #00af00\">0</span>][<span style=\"color: #00af00; text-decoration-color: #00af00\">0</span>]                │\n",
       "├───────────────────────────────┼───────────────────────────┼─────────────────┼────────────────────────────┤\n",
       "│ conv2d_49 (<span style=\"color: #0087ff; text-decoration-color: #0087ff\">Conv2D</span>)            │ (<span style=\"color: #00d7ff; text-decoration-color: #00d7ff\">None</span>, <span style=\"color: #00af00; text-decoration-color: #00af00\">28</span>, <span style=\"color: #00af00; text-decoration-color: #00af00\">28</span>, <span style=\"color: #00af00; text-decoration-color: #00af00\">32</span>)        │           <span style=\"color: #00af00; text-decoration-color: #00af00\">9,248</span> │ activation_23[<span style=\"color: #00af00; text-decoration-color: #00af00\">0</span>][<span style=\"color: #00af00; text-decoration-color: #00af00\">0</span>]        │\n",
       "├───────────────────────────────┼───────────────────────────┼─────────────────┼────────────────────────────┤\n",
       "│ batch_normalization_25        │ (<span style=\"color: #00d7ff; text-decoration-color: #00d7ff\">None</span>, <span style=\"color: #00af00; text-decoration-color: #00af00\">28</span>, <span style=\"color: #00af00; text-decoration-color: #00af00\">28</span>, <span style=\"color: #00af00; text-decoration-color: #00af00\">32</span>)        │             <span style=\"color: #00af00; text-decoration-color: #00af00\">128</span> │ conv2d_49[<span style=\"color: #00af00; text-decoration-color: #00af00\">0</span>][<span style=\"color: #00af00; text-decoration-color: #00af00\">0</span>]            │\n",
       "│ (<span style=\"color: #0087ff; text-decoration-color: #0087ff\">BatchNormalization</span>)          │                           │                 │                            │\n",
       "├───────────────────────────────┼───────────────────────────┼─────────────────┼────────────────────────────┤\n",
       "│ activation_24 (<span style=\"color: #0087ff; text-decoration-color: #0087ff\">Activation</span>)    │ (<span style=\"color: #00d7ff; text-decoration-color: #00d7ff\">None</span>, <span style=\"color: #00af00; text-decoration-color: #00af00\">28</span>, <span style=\"color: #00af00; text-decoration-color: #00af00\">28</span>, <span style=\"color: #00af00; text-decoration-color: #00af00\">32</span>)        │               <span style=\"color: #00af00; text-decoration-color: #00af00\">0</span> │ batch_normalization_25[<span style=\"color: #00af00; text-decoration-color: #00af00\">0</span>]… │\n",
       "├───────────────────────────────┼───────────────────────────┼─────────────────┼────────────────────────────┤\n",
       "│ conv2d_50 (<span style=\"color: #0087ff; text-decoration-color: #0087ff\">Conv2D</span>)            │ (<span style=\"color: #00d7ff; text-decoration-color: #00d7ff\">None</span>, <span style=\"color: #00af00; text-decoration-color: #00af00\">28</span>, <span style=\"color: #00af00; text-decoration-color: #00af00\">28</span>, <span style=\"color: #00af00; text-decoration-color: #00af00\">32</span>)        │           <span style=\"color: #00af00; text-decoration-color: #00af00\">9,248</span> │ activation_24[<span style=\"color: #00af00; text-decoration-color: #00af00\">0</span>][<span style=\"color: #00af00; text-decoration-color: #00af00\">0</span>]        │\n",
       "├───────────────────────────────┼───────────────────────────┼─────────────────┼────────────────────────────┤\n",
       "│ batch_normalization_26        │ (<span style=\"color: #00d7ff; text-decoration-color: #00d7ff\">None</span>, <span style=\"color: #00af00; text-decoration-color: #00af00\">28</span>, <span style=\"color: #00af00; text-decoration-color: #00af00\">28</span>, <span style=\"color: #00af00; text-decoration-color: #00af00\">32</span>)        │             <span style=\"color: #00af00; text-decoration-color: #00af00\">128</span> │ conv2d_50[<span style=\"color: #00af00; text-decoration-color: #00af00\">0</span>][<span style=\"color: #00af00; text-decoration-color: #00af00\">0</span>]            │\n",
       "│ (<span style=\"color: #0087ff; text-decoration-color: #0087ff\">BatchNormalization</span>)          │                           │                 │                            │\n",
       "├───────────────────────────────┼───────────────────────────┼─────────────────┼────────────────────────────┤\n",
       "│ add_8 (<span style=\"color: #0087ff; text-decoration-color: #0087ff\">Add</span>)                   │ (<span style=\"color: #00d7ff; text-decoration-color: #00d7ff\">None</span>, <span style=\"color: #00af00; text-decoration-color: #00af00\">28</span>, <span style=\"color: #00af00; text-decoration-color: #00af00\">28</span>, <span style=\"color: #00af00; text-decoration-color: #00af00\">32</span>)        │               <span style=\"color: #00af00; text-decoration-color: #00af00\">0</span> │ batch_normalization_26[<span style=\"color: #00af00; text-decoration-color: #00af00\">0</span>]… │\n",
       "│                               │                           │                 │ activation_23[<span style=\"color: #00af00; text-decoration-color: #00af00\">0</span>][<span style=\"color: #00af00; text-decoration-color: #00af00\">0</span>]        │\n",
       "├───────────────────────────────┼───────────────────────────┼─────────────────┼────────────────────────────┤\n",
       "│ activation_25 (<span style=\"color: #0087ff; text-decoration-color: #0087ff\">Activation</span>)    │ (<span style=\"color: #00d7ff; text-decoration-color: #00d7ff\">None</span>, <span style=\"color: #00af00; text-decoration-color: #00af00\">28</span>, <span style=\"color: #00af00; text-decoration-color: #00af00\">28</span>, <span style=\"color: #00af00; text-decoration-color: #00af00\">32</span>)        │               <span style=\"color: #00af00; text-decoration-color: #00af00\">0</span> │ add_8[<span style=\"color: #00af00; text-decoration-color: #00af00\">0</span>][<span style=\"color: #00af00; text-decoration-color: #00af00\">0</span>]                │\n",
       "├───────────────────────────────┼───────────────────────────┼─────────────────┼────────────────────────────┤\n",
       "│ conv2d_51 (<span style=\"color: #0087ff; text-decoration-color: #0087ff\">Conv2D</span>)            │ (<span style=\"color: #00d7ff; text-decoration-color: #00d7ff\">None</span>, <span style=\"color: #00af00; text-decoration-color: #00af00\">14</span>, <span style=\"color: #00af00; text-decoration-color: #00af00\">14</span>, <span style=\"color: #00af00; text-decoration-color: #00af00\">64</span>)        │          <span style=\"color: #00af00; text-decoration-color: #00af00\">18,496</span> │ activation_25[<span style=\"color: #00af00; text-decoration-color: #00af00\">0</span>][<span style=\"color: #00af00; text-decoration-color: #00af00\">0</span>]        │\n",
       "├───────────────────────────────┼───────────────────────────┼─────────────────┼────────────────────────────┤\n",
       "│ batch_normalization_27        │ (<span style=\"color: #00d7ff; text-decoration-color: #00d7ff\">None</span>, <span style=\"color: #00af00; text-decoration-color: #00af00\">14</span>, <span style=\"color: #00af00; text-decoration-color: #00af00\">14</span>, <span style=\"color: #00af00; text-decoration-color: #00af00\">64</span>)        │             <span style=\"color: #00af00; text-decoration-color: #00af00\">256</span> │ conv2d_51[<span style=\"color: #00af00; text-decoration-color: #00af00\">0</span>][<span style=\"color: #00af00; text-decoration-color: #00af00\">0</span>]            │\n",
       "│ (<span style=\"color: #0087ff; text-decoration-color: #0087ff\">BatchNormalization</span>)          │                           │                 │                            │\n",
       "├───────────────────────────────┼───────────────────────────┼─────────────────┼────────────────────────────┤\n",
       "│ activation_26 (<span style=\"color: #0087ff; text-decoration-color: #0087ff\">Activation</span>)    │ (<span style=\"color: #00d7ff; text-decoration-color: #00d7ff\">None</span>, <span style=\"color: #00af00; text-decoration-color: #00af00\">14</span>, <span style=\"color: #00af00; text-decoration-color: #00af00\">14</span>, <span style=\"color: #00af00; text-decoration-color: #00af00\">64</span>)        │               <span style=\"color: #00af00; text-decoration-color: #00af00\">0</span> │ batch_normalization_27[<span style=\"color: #00af00; text-decoration-color: #00af00\">0</span>]… │\n",
       "├───────────────────────────────┼───────────────────────────┼─────────────────┼────────────────────────────┤\n",
       "│ conv2d_52 (<span style=\"color: #0087ff; text-decoration-color: #0087ff\">Conv2D</span>)            │ (<span style=\"color: #00d7ff; text-decoration-color: #00d7ff\">None</span>, <span style=\"color: #00af00; text-decoration-color: #00af00\">14</span>, <span style=\"color: #00af00; text-decoration-color: #00af00\">14</span>, <span style=\"color: #00af00; text-decoration-color: #00af00\">64</span>)        │          <span style=\"color: #00af00; text-decoration-color: #00af00\">36,928</span> │ activation_26[<span style=\"color: #00af00; text-decoration-color: #00af00\">0</span>][<span style=\"color: #00af00; text-decoration-color: #00af00\">0</span>]        │\n",
       "├───────────────────────────────┼───────────────────────────┼─────────────────┼────────────────────────────┤\n",
       "│ conv2d_53 (<span style=\"color: #0087ff; text-decoration-color: #0087ff\">Conv2D</span>)            │ (<span style=\"color: #00d7ff; text-decoration-color: #00d7ff\">None</span>, <span style=\"color: #00af00; text-decoration-color: #00af00\">14</span>, <span style=\"color: #00af00; text-decoration-color: #00af00\">14</span>, <span style=\"color: #00af00; text-decoration-color: #00af00\">64</span>)        │           <span style=\"color: #00af00; text-decoration-color: #00af00\">2,112</span> │ activation_25[<span style=\"color: #00af00; text-decoration-color: #00af00\">0</span>][<span style=\"color: #00af00; text-decoration-color: #00af00\">0</span>]        │\n",
       "├───────────────────────────────┼───────────────────────────┼─────────────────┼────────────────────────────┤\n",
       "│ batch_normalization_28        │ (<span style=\"color: #00d7ff; text-decoration-color: #00d7ff\">None</span>, <span style=\"color: #00af00; text-decoration-color: #00af00\">14</span>, <span style=\"color: #00af00; text-decoration-color: #00af00\">14</span>, <span style=\"color: #00af00; text-decoration-color: #00af00\">64</span>)        │             <span style=\"color: #00af00; text-decoration-color: #00af00\">256</span> │ conv2d_52[<span style=\"color: #00af00; text-decoration-color: #00af00\">0</span>][<span style=\"color: #00af00; text-decoration-color: #00af00\">0</span>]            │\n",
       "│ (<span style=\"color: #0087ff; text-decoration-color: #0087ff\">BatchNormalization</span>)          │                           │                 │                            │\n",
       "├───────────────────────────────┼───────────────────────────┼─────────────────┼────────────────────────────┤\n",
       "│ batch_normalization_29        │ (<span style=\"color: #00d7ff; text-decoration-color: #00d7ff\">None</span>, <span style=\"color: #00af00; text-decoration-color: #00af00\">14</span>, <span style=\"color: #00af00; text-decoration-color: #00af00\">14</span>, <span style=\"color: #00af00; text-decoration-color: #00af00\">64</span>)        │             <span style=\"color: #00af00; text-decoration-color: #00af00\">256</span> │ conv2d_53[<span style=\"color: #00af00; text-decoration-color: #00af00\">0</span>][<span style=\"color: #00af00; text-decoration-color: #00af00\">0</span>]            │\n",
       "│ (<span style=\"color: #0087ff; text-decoration-color: #0087ff\">BatchNormalization</span>)          │                           │                 │                            │\n",
       "├───────────────────────────────┼───────────────────────────┼─────────────────┼────────────────────────────┤\n",
       "│ add_9 (<span style=\"color: #0087ff; text-decoration-color: #0087ff\">Add</span>)                   │ (<span style=\"color: #00d7ff; text-decoration-color: #00d7ff\">None</span>, <span style=\"color: #00af00; text-decoration-color: #00af00\">14</span>, <span style=\"color: #00af00; text-decoration-color: #00af00\">14</span>, <span style=\"color: #00af00; text-decoration-color: #00af00\">64</span>)        │               <span style=\"color: #00af00; text-decoration-color: #00af00\">0</span> │ batch_normalization_28[<span style=\"color: #00af00; text-decoration-color: #00af00\">0</span>]… │\n",
       "│                               │                           │                 │ batch_normalization_29[<span style=\"color: #00af00; text-decoration-color: #00af00\">0</span>]… │\n",
       "├───────────────────────────────┼───────────────────────────┼─────────────────┼────────────────────────────┤\n",
       "│ activation_27 (<span style=\"color: #0087ff; text-decoration-color: #0087ff\">Activation</span>)    │ (<span style=\"color: #00d7ff; text-decoration-color: #00d7ff\">None</span>, <span style=\"color: #00af00; text-decoration-color: #00af00\">14</span>, <span style=\"color: #00af00; text-decoration-color: #00af00\">14</span>, <span style=\"color: #00af00; text-decoration-color: #00af00\">64</span>)        │               <span style=\"color: #00af00; text-decoration-color: #00af00\">0</span> │ add_9[<span style=\"color: #00af00; text-decoration-color: #00af00\">0</span>][<span style=\"color: #00af00; text-decoration-color: #00af00\">0</span>]                │\n",
       "├───────────────────────────────┼───────────────────────────┼─────────────────┼────────────────────────────┤\n",
       "│ conv2d_54 (<span style=\"color: #0087ff; text-decoration-color: #0087ff\">Conv2D</span>)            │ (<span style=\"color: #00d7ff; text-decoration-color: #00d7ff\">None</span>, <span style=\"color: #00af00; text-decoration-color: #00af00\">14</span>, <span style=\"color: #00af00; text-decoration-color: #00af00\">14</span>, <span style=\"color: #00af00; text-decoration-color: #00af00\">64</span>)        │          <span style=\"color: #00af00; text-decoration-color: #00af00\">36,928</span> │ activation_27[<span style=\"color: #00af00; text-decoration-color: #00af00\">0</span>][<span style=\"color: #00af00; text-decoration-color: #00af00\">0</span>]        │\n",
       "├───────────────────────────────┼───────────────────────────┼─────────────────┼────────────────────────────┤\n",
       "│ batch_normalization_30        │ (<span style=\"color: #00d7ff; text-decoration-color: #00d7ff\">None</span>, <span style=\"color: #00af00; text-decoration-color: #00af00\">14</span>, <span style=\"color: #00af00; text-decoration-color: #00af00\">14</span>, <span style=\"color: #00af00; text-decoration-color: #00af00\">64</span>)        │             <span style=\"color: #00af00; text-decoration-color: #00af00\">256</span> │ conv2d_54[<span style=\"color: #00af00; text-decoration-color: #00af00\">0</span>][<span style=\"color: #00af00; text-decoration-color: #00af00\">0</span>]            │\n",
       "│ (<span style=\"color: #0087ff; text-decoration-color: #0087ff\">BatchNormalization</span>)          │                           │                 │                            │\n",
       "├───────────────────────────────┼───────────────────────────┼─────────────────┼────────────────────────────┤\n",
       "│ activation_28 (<span style=\"color: #0087ff; text-decoration-color: #0087ff\">Activation</span>)    │ (<span style=\"color: #00d7ff; text-decoration-color: #00d7ff\">None</span>, <span style=\"color: #00af00; text-decoration-color: #00af00\">14</span>, <span style=\"color: #00af00; text-decoration-color: #00af00\">14</span>, <span style=\"color: #00af00; text-decoration-color: #00af00\">64</span>)        │               <span style=\"color: #00af00; text-decoration-color: #00af00\">0</span> │ batch_normalization_30[<span style=\"color: #00af00; text-decoration-color: #00af00\">0</span>]… │\n",
       "├───────────────────────────────┼───────────────────────────┼─────────────────┼────────────────────────────┤\n",
       "│ conv2d_55 (<span style=\"color: #0087ff; text-decoration-color: #0087ff\">Conv2D</span>)            │ (<span style=\"color: #00d7ff; text-decoration-color: #00d7ff\">None</span>, <span style=\"color: #00af00; text-decoration-color: #00af00\">14</span>, <span style=\"color: #00af00; text-decoration-color: #00af00\">14</span>, <span style=\"color: #00af00; text-decoration-color: #00af00\">64</span>)        │          <span style=\"color: #00af00; text-decoration-color: #00af00\">36,928</span> │ activation_28[<span style=\"color: #00af00; text-decoration-color: #00af00\">0</span>][<span style=\"color: #00af00; text-decoration-color: #00af00\">0</span>]        │\n",
       "├───────────────────────────────┼───────────────────────────┼─────────────────┼────────────────────────────┤\n",
       "│ batch_normalization_31        │ (<span style=\"color: #00d7ff; text-decoration-color: #00d7ff\">None</span>, <span style=\"color: #00af00; text-decoration-color: #00af00\">14</span>, <span style=\"color: #00af00; text-decoration-color: #00af00\">14</span>, <span style=\"color: #00af00; text-decoration-color: #00af00\">64</span>)        │             <span style=\"color: #00af00; text-decoration-color: #00af00\">256</span> │ conv2d_55[<span style=\"color: #00af00; text-decoration-color: #00af00\">0</span>][<span style=\"color: #00af00; text-decoration-color: #00af00\">0</span>]            │\n",
       "│ (<span style=\"color: #0087ff; text-decoration-color: #0087ff\">BatchNormalization</span>)          │                           │                 │                            │\n",
       "├───────────────────────────────┼───────────────────────────┼─────────────────┼────────────────────────────┤\n",
       "│ add_10 (<span style=\"color: #0087ff; text-decoration-color: #0087ff\">Add</span>)                  │ (<span style=\"color: #00d7ff; text-decoration-color: #00d7ff\">None</span>, <span style=\"color: #00af00; text-decoration-color: #00af00\">14</span>, <span style=\"color: #00af00; text-decoration-color: #00af00\">14</span>, <span style=\"color: #00af00; text-decoration-color: #00af00\">64</span>)        │               <span style=\"color: #00af00; text-decoration-color: #00af00\">0</span> │ batch_normalization_31[<span style=\"color: #00af00; text-decoration-color: #00af00\">0</span>]… │\n",
       "│                               │                           │                 │ activation_27[<span style=\"color: #00af00; text-decoration-color: #00af00\">0</span>][<span style=\"color: #00af00; text-decoration-color: #00af00\">0</span>]        │\n",
       "├───────────────────────────────┼───────────────────────────┼─────────────────┼────────────────────────────┤\n",
       "│ activation_29 (<span style=\"color: #0087ff; text-decoration-color: #0087ff\">Activation</span>)    │ (<span style=\"color: #00d7ff; text-decoration-color: #00d7ff\">None</span>, <span style=\"color: #00af00; text-decoration-color: #00af00\">14</span>, <span style=\"color: #00af00; text-decoration-color: #00af00\">14</span>, <span style=\"color: #00af00; text-decoration-color: #00af00\">64</span>)        │               <span style=\"color: #00af00; text-decoration-color: #00af00\">0</span> │ add_10[<span style=\"color: #00af00; text-decoration-color: #00af00\">0</span>][<span style=\"color: #00af00; text-decoration-color: #00af00\">0</span>]               │\n",
       "├───────────────────────────────┼───────────────────────────┼─────────────────┼────────────────────────────┤\n",
       "│ global_average_pooling2d_2    │ (<span style=\"color: #00d7ff; text-decoration-color: #00d7ff\">None</span>, <span style=\"color: #00af00; text-decoration-color: #00af00\">64</span>)                │               <span style=\"color: #00af00; text-decoration-color: #00af00\">0</span> │ activation_29[<span style=\"color: #00af00; text-decoration-color: #00af00\">0</span>][<span style=\"color: #00af00; text-decoration-color: #00af00\">0</span>]        │\n",
       "│ (<span style=\"color: #0087ff; text-decoration-color: #0087ff\">GlobalAveragePooling2D</span>)      │                           │                 │                            │\n",
       "├───────────────────────────────┼───────────────────────────┼─────────────────┼────────────────────────────┤\n",
       "│ dense_8 (<span style=\"color: #0087ff; text-decoration-color: #0087ff\">Dense</span>)               │ (<span style=\"color: #00d7ff; text-decoration-color: #00d7ff\">None</span>, <span style=\"color: #00af00; text-decoration-color: #00af00\">10</span>)                │             <span style=\"color: #00af00; text-decoration-color: #00af00\">650</span> │ global_average_pooling2d_… │\n",
       "└───────────────────────────────┴───────────────────────────┴─────────────────┴────────────────────────────┘\n",
       "</pre>\n"
      ],
      "text/plain": [
       "┏━━━━━━━━━━━━━━━━━━━━━━━━━━━━━━━┳━━━━━━━━━━━━━━━━━━━━━━━━━━━┳━━━━━━━━━━━━━━━━━┳━━━━━━━━━━━━━━━━━━━━━━━━━━━━┓\n",
       "┃\u001b[1m \u001b[0m\u001b[1mLayer (type)                 \u001b[0m\u001b[1m \u001b[0m┃\u001b[1m \u001b[0m\u001b[1mOutput Shape             \u001b[0m\u001b[1m \u001b[0m┃\u001b[1m \u001b[0m\u001b[1m        Param #\u001b[0m\u001b[1m \u001b[0m┃\u001b[1m \u001b[0m\u001b[1mConnected to              \u001b[0m\u001b[1m \u001b[0m┃\n",
       "┡━━━━━━━━━━━━━━━━━━━━━━━━━━━━━━━╇━━━━━━━━━━━━━━━━━━━━━━━━━━━╇━━━━━━━━━━━━━━━━━╇━━━━━━━━━━━━━━━━━━━━━━━━━━━━┩\n",
       "│ input_layer_12 (\u001b[38;5;33mInputLayer\u001b[0m)   │ (\u001b[38;5;45mNone\u001b[0m, \u001b[38;5;34m28\u001b[0m, \u001b[38;5;34m28\u001b[0m, \u001b[38;5;34m1\u001b[0m)         │               \u001b[38;5;34m0\u001b[0m │ -                          │\n",
       "├───────────────────────────────┼───────────────────────────┼─────────────────┼────────────────────────────┤\n",
       "│ conv2d_46 (\u001b[38;5;33mConv2D\u001b[0m)            │ (\u001b[38;5;45mNone\u001b[0m, \u001b[38;5;34m28\u001b[0m, \u001b[38;5;34m28\u001b[0m, \u001b[38;5;34m32\u001b[0m)        │             \u001b[38;5;34m320\u001b[0m │ input_layer_12[\u001b[38;5;34m0\u001b[0m][\u001b[38;5;34m0\u001b[0m]       │\n",
       "├───────────────────────────────┼───────────────────────────┼─────────────────┼────────────────────────────┤\n",
       "│ batch_normalization_22        │ (\u001b[38;5;45mNone\u001b[0m, \u001b[38;5;34m28\u001b[0m, \u001b[38;5;34m28\u001b[0m, \u001b[38;5;34m32\u001b[0m)        │             \u001b[38;5;34m128\u001b[0m │ conv2d_46[\u001b[38;5;34m0\u001b[0m][\u001b[38;5;34m0\u001b[0m]            │\n",
       "│ (\u001b[38;5;33mBatchNormalization\u001b[0m)          │                           │                 │                            │\n",
       "├───────────────────────────────┼───────────────────────────┼─────────────────┼────────────────────────────┤\n",
       "│ activation_21 (\u001b[38;5;33mActivation\u001b[0m)    │ (\u001b[38;5;45mNone\u001b[0m, \u001b[38;5;34m28\u001b[0m, \u001b[38;5;34m28\u001b[0m, \u001b[38;5;34m32\u001b[0m)        │               \u001b[38;5;34m0\u001b[0m │ batch_normalization_22[\u001b[38;5;34m0\u001b[0m]… │\n",
       "├───────────────────────────────┼───────────────────────────┼─────────────────┼────────────────────────────┤\n",
       "│ conv2d_47 (\u001b[38;5;33mConv2D\u001b[0m)            │ (\u001b[38;5;45mNone\u001b[0m, \u001b[38;5;34m28\u001b[0m, \u001b[38;5;34m28\u001b[0m, \u001b[38;5;34m32\u001b[0m)        │           \u001b[38;5;34m9,248\u001b[0m │ activation_21[\u001b[38;5;34m0\u001b[0m][\u001b[38;5;34m0\u001b[0m]        │\n",
       "├───────────────────────────────┼───────────────────────────┼─────────────────┼────────────────────────────┤\n",
       "│ batch_normalization_23        │ (\u001b[38;5;45mNone\u001b[0m, \u001b[38;5;34m28\u001b[0m, \u001b[38;5;34m28\u001b[0m, \u001b[38;5;34m32\u001b[0m)        │             \u001b[38;5;34m128\u001b[0m │ conv2d_47[\u001b[38;5;34m0\u001b[0m][\u001b[38;5;34m0\u001b[0m]            │\n",
       "│ (\u001b[38;5;33mBatchNormalization\u001b[0m)          │                           │                 │                            │\n",
       "├───────────────────────────────┼───────────────────────────┼─────────────────┼────────────────────────────┤\n",
       "│ activation_22 (\u001b[38;5;33mActivation\u001b[0m)    │ (\u001b[38;5;45mNone\u001b[0m, \u001b[38;5;34m28\u001b[0m, \u001b[38;5;34m28\u001b[0m, \u001b[38;5;34m32\u001b[0m)        │               \u001b[38;5;34m0\u001b[0m │ batch_normalization_23[\u001b[38;5;34m0\u001b[0m]… │\n",
       "├───────────────────────────────┼───────────────────────────┼─────────────────┼────────────────────────────┤\n",
       "│ conv2d_48 (\u001b[38;5;33mConv2D\u001b[0m)            │ (\u001b[38;5;45mNone\u001b[0m, \u001b[38;5;34m28\u001b[0m, \u001b[38;5;34m28\u001b[0m, \u001b[38;5;34m32\u001b[0m)        │           \u001b[38;5;34m9,248\u001b[0m │ activation_22[\u001b[38;5;34m0\u001b[0m][\u001b[38;5;34m0\u001b[0m]        │\n",
       "├───────────────────────────────┼───────────────────────────┼─────────────────┼────────────────────────────┤\n",
       "│ batch_normalization_24        │ (\u001b[38;5;45mNone\u001b[0m, \u001b[38;5;34m28\u001b[0m, \u001b[38;5;34m28\u001b[0m, \u001b[38;5;34m32\u001b[0m)        │             \u001b[38;5;34m128\u001b[0m │ conv2d_48[\u001b[38;5;34m0\u001b[0m][\u001b[38;5;34m0\u001b[0m]            │\n",
       "│ (\u001b[38;5;33mBatchNormalization\u001b[0m)          │                           │                 │                            │\n",
       "├───────────────────────────────┼───────────────────────────┼─────────────────┼────────────────────────────┤\n",
       "│ add_7 (\u001b[38;5;33mAdd\u001b[0m)                   │ (\u001b[38;5;45mNone\u001b[0m, \u001b[38;5;34m28\u001b[0m, \u001b[38;5;34m28\u001b[0m, \u001b[38;5;34m32\u001b[0m)        │               \u001b[38;5;34m0\u001b[0m │ batch_normalization_24[\u001b[38;5;34m0\u001b[0m]… │\n",
       "│                               │                           │                 │ activation_21[\u001b[38;5;34m0\u001b[0m][\u001b[38;5;34m0\u001b[0m]        │\n",
       "├───────────────────────────────┼───────────────────────────┼─────────────────┼────────────────────────────┤\n",
       "│ activation_23 (\u001b[38;5;33mActivation\u001b[0m)    │ (\u001b[38;5;45mNone\u001b[0m, \u001b[38;5;34m28\u001b[0m, \u001b[38;5;34m28\u001b[0m, \u001b[38;5;34m32\u001b[0m)        │               \u001b[38;5;34m0\u001b[0m │ add_7[\u001b[38;5;34m0\u001b[0m][\u001b[38;5;34m0\u001b[0m]                │\n",
       "├───────────────────────────────┼───────────────────────────┼─────────────────┼────────────────────────────┤\n",
       "│ conv2d_49 (\u001b[38;5;33mConv2D\u001b[0m)            │ (\u001b[38;5;45mNone\u001b[0m, \u001b[38;5;34m28\u001b[0m, \u001b[38;5;34m28\u001b[0m, \u001b[38;5;34m32\u001b[0m)        │           \u001b[38;5;34m9,248\u001b[0m │ activation_23[\u001b[38;5;34m0\u001b[0m][\u001b[38;5;34m0\u001b[0m]        │\n",
       "├───────────────────────────────┼───────────────────────────┼─────────────────┼────────────────────────────┤\n",
       "│ batch_normalization_25        │ (\u001b[38;5;45mNone\u001b[0m, \u001b[38;5;34m28\u001b[0m, \u001b[38;5;34m28\u001b[0m, \u001b[38;5;34m32\u001b[0m)        │             \u001b[38;5;34m128\u001b[0m │ conv2d_49[\u001b[38;5;34m0\u001b[0m][\u001b[38;5;34m0\u001b[0m]            │\n",
       "│ (\u001b[38;5;33mBatchNormalization\u001b[0m)          │                           │                 │                            │\n",
       "├───────────────────────────────┼───────────────────────────┼─────────────────┼────────────────────────────┤\n",
       "│ activation_24 (\u001b[38;5;33mActivation\u001b[0m)    │ (\u001b[38;5;45mNone\u001b[0m, \u001b[38;5;34m28\u001b[0m, \u001b[38;5;34m28\u001b[0m, \u001b[38;5;34m32\u001b[0m)        │               \u001b[38;5;34m0\u001b[0m │ batch_normalization_25[\u001b[38;5;34m0\u001b[0m]… │\n",
       "├───────────────────────────────┼───────────────────────────┼─────────────────┼────────────────────────────┤\n",
       "│ conv2d_50 (\u001b[38;5;33mConv2D\u001b[0m)            │ (\u001b[38;5;45mNone\u001b[0m, \u001b[38;5;34m28\u001b[0m, \u001b[38;5;34m28\u001b[0m, \u001b[38;5;34m32\u001b[0m)        │           \u001b[38;5;34m9,248\u001b[0m │ activation_24[\u001b[38;5;34m0\u001b[0m][\u001b[38;5;34m0\u001b[0m]        │\n",
       "├───────────────────────────────┼───────────────────────────┼─────────────────┼────────────────────────────┤\n",
       "│ batch_normalization_26        │ (\u001b[38;5;45mNone\u001b[0m, \u001b[38;5;34m28\u001b[0m, \u001b[38;5;34m28\u001b[0m, \u001b[38;5;34m32\u001b[0m)        │             \u001b[38;5;34m128\u001b[0m │ conv2d_50[\u001b[38;5;34m0\u001b[0m][\u001b[38;5;34m0\u001b[0m]            │\n",
       "│ (\u001b[38;5;33mBatchNormalization\u001b[0m)          │                           │                 │                            │\n",
       "├───────────────────────────────┼───────────────────────────┼─────────────────┼────────────────────────────┤\n",
       "│ add_8 (\u001b[38;5;33mAdd\u001b[0m)                   │ (\u001b[38;5;45mNone\u001b[0m, \u001b[38;5;34m28\u001b[0m, \u001b[38;5;34m28\u001b[0m, \u001b[38;5;34m32\u001b[0m)        │               \u001b[38;5;34m0\u001b[0m │ batch_normalization_26[\u001b[38;5;34m0\u001b[0m]… │\n",
       "│                               │                           │                 │ activation_23[\u001b[38;5;34m0\u001b[0m][\u001b[38;5;34m0\u001b[0m]        │\n",
       "├───────────────────────────────┼───────────────────────────┼─────────────────┼────────────────────────────┤\n",
       "│ activation_25 (\u001b[38;5;33mActivation\u001b[0m)    │ (\u001b[38;5;45mNone\u001b[0m, \u001b[38;5;34m28\u001b[0m, \u001b[38;5;34m28\u001b[0m, \u001b[38;5;34m32\u001b[0m)        │               \u001b[38;5;34m0\u001b[0m │ add_8[\u001b[38;5;34m0\u001b[0m][\u001b[38;5;34m0\u001b[0m]                │\n",
       "├───────────────────────────────┼───────────────────────────┼─────────────────┼────────────────────────────┤\n",
       "│ conv2d_51 (\u001b[38;5;33mConv2D\u001b[0m)            │ (\u001b[38;5;45mNone\u001b[0m, \u001b[38;5;34m14\u001b[0m, \u001b[38;5;34m14\u001b[0m, \u001b[38;5;34m64\u001b[0m)        │          \u001b[38;5;34m18,496\u001b[0m │ activation_25[\u001b[38;5;34m0\u001b[0m][\u001b[38;5;34m0\u001b[0m]        │\n",
       "├───────────────────────────────┼───────────────────────────┼─────────────────┼────────────────────────────┤\n",
       "│ batch_normalization_27        │ (\u001b[38;5;45mNone\u001b[0m, \u001b[38;5;34m14\u001b[0m, \u001b[38;5;34m14\u001b[0m, \u001b[38;5;34m64\u001b[0m)        │             \u001b[38;5;34m256\u001b[0m │ conv2d_51[\u001b[38;5;34m0\u001b[0m][\u001b[38;5;34m0\u001b[0m]            │\n",
       "│ (\u001b[38;5;33mBatchNormalization\u001b[0m)          │                           │                 │                            │\n",
       "├───────────────────────────────┼───────────────────────────┼─────────────────┼────────────────────────────┤\n",
       "│ activation_26 (\u001b[38;5;33mActivation\u001b[0m)    │ (\u001b[38;5;45mNone\u001b[0m, \u001b[38;5;34m14\u001b[0m, \u001b[38;5;34m14\u001b[0m, \u001b[38;5;34m64\u001b[0m)        │               \u001b[38;5;34m0\u001b[0m │ batch_normalization_27[\u001b[38;5;34m0\u001b[0m]… │\n",
       "├───────────────────────────────┼───────────────────────────┼─────────────────┼────────────────────────────┤\n",
       "│ conv2d_52 (\u001b[38;5;33mConv2D\u001b[0m)            │ (\u001b[38;5;45mNone\u001b[0m, \u001b[38;5;34m14\u001b[0m, \u001b[38;5;34m14\u001b[0m, \u001b[38;5;34m64\u001b[0m)        │          \u001b[38;5;34m36,928\u001b[0m │ activation_26[\u001b[38;5;34m0\u001b[0m][\u001b[38;5;34m0\u001b[0m]        │\n",
       "├───────────────────────────────┼───────────────────────────┼─────────────────┼────────────────────────────┤\n",
       "│ conv2d_53 (\u001b[38;5;33mConv2D\u001b[0m)            │ (\u001b[38;5;45mNone\u001b[0m, \u001b[38;5;34m14\u001b[0m, \u001b[38;5;34m14\u001b[0m, \u001b[38;5;34m64\u001b[0m)        │           \u001b[38;5;34m2,112\u001b[0m │ activation_25[\u001b[38;5;34m0\u001b[0m][\u001b[38;5;34m0\u001b[0m]        │\n",
       "├───────────────────────────────┼───────────────────────────┼─────────────────┼────────────────────────────┤\n",
       "│ batch_normalization_28        │ (\u001b[38;5;45mNone\u001b[0m, \u001b[38;5;34m14\u001b[0m, \u001b[38;5;34m14\u001b[0m, \u001b[38;5;34m64\u001b[0m)        │             \u001b[38;5;34m256\u001b[0m │ conv2d_52[\u001b[38;5;34m0\u001b[0m][\u001b[38;5;34m0\u001b[0m]            │\n",
       "│ (\u001b[38;5;33mBatchNormalization\u001b[0m)          │                           │                 │                            │\n",
       "├───────────────────────────────┼───────────────────────────┼─────────────────┼────────────────────────────┤\n",
       "│ batch_normalization_29        │ (\u001b[38;5;45mNone\u001b[0m, \u001b[38;5;34m14\u001b[0m, \u001b[38;5;34m14\u001b[0m, \u001b[38;5;34m64\u001b[0m)        │             \u001b[38;5;34m256\u001b[0m │ conv2d_53[\u001b[38;5;34m0\u001b[0m][\u001b[38;5;34m0\u001b[0m]            │\n",
       "│ (\u001b[38;5;33mBatchNormalization\u001b[0m)          │                           │                 │                            │\n",
       "├───────────────────────────────┼───────────────────────────┼─────────────────┼────────────────────────────┤\n",
       "│ add_9 (\u001b[38;5;33mAdd\u001b[0m)                   │ (\u001b[38;5;45mNone\u001b[0m, \u001b[38;5;34m14\u001b[0m, \u001b[38;5;34m14\u001b[0m, \u001b[38;5;34m64\u001b[0m)        │               \u001b[38;5;34m0\u001b[0m │ batch_normalization_28[\u001b[38;5;34m0\u001b[0m]… │\n",
       "│                               │                           │                 │ batch_normalization_29[\u001b[38;5;34m0\u001b[0m]… │\n",
       "├───────────────────────────────┼───────────────────────────┼─────────────────┼────────────────────────────┤\n",
       "│ activation_27 (\u001b[38;5;33mActivation\u001b[0m)    │ (\u001b[38;5;45mNone\u001b[0m, \u001b[38;5;34m14\u001b[0m, \u001b[38;5;34m14\u001b[0m, \u001b[38;5;34m64\u001b[0m)        │               \u001b[38;5;34m0\u001b[0m │ add_9[\u001b[38;5;34m0\u001b[0m][\u001b[38;5;34m0\u001b[0m]                │\n",
       "├───────────────────────────────┼───────────────────────────┼─────────────────┼────────────────────────────┤\n",
       "│ conv2d_54 (\u001b[38;5;33mConv2D\u001b[0m)            │ (\u001b[38;5;45mNone\u001b[0m, \u001b[38;5;34m14\u001b[0m, \u001b[38;5;34m14\u001b[0m, \u001b[38;5;34m64\u001b[0m)        │          \u001b[38;5;34m36,928\u001b[0m │ activation_27[\u001b[38;5;34m0\u001b[0m][\u001b[38;5;34m0\u001b[0m]        │\n",
       "├───────────────────────────────┼───────────────────────────┼─────────────────┼────────────────────────────┤\n",
       "│ batch_normalization_30        │ (\u001b[38;5;45mNone\u001b[0m, \u001b[38;5;34m14\u001b[0m, \u001b[38;5;34m14\u001b[0m, \u001b[38;5;34m64\u001b[0m)        │             \u001b[38;5;34m256\u001b[0m │ conv2d_54[\u001b[38;5;34m0\u001b[0m][\u001b[38;5;34m0\u001b[0m]            │\n",
       "│ (\u001b[38;5;33mBatchNormalization\u001b[0m)          │                           │                 │                            │\n",
       "├───────────────────────────────┼───────────────────────────┼─────────────────┼────────────────────────────┤\n",
       "│ activation_28 (\u001b[38;5;33mActivation\u001b[0m)    │ (\u001b[38;5;45mNone\u001b[0m, \u001b[38;5;34m14\u001b[0m, \u001b[38;5;34m14\u001b[0m, \u001b[38;5;34m64\u001b[0m)        │               \u001b[38;5;34m0\u001b[0m │ batch_normalization_30[\u001b[38;5;34m0\u001b[0m]… │\n",
       "├───────────────────────────────┼───────────────────────────┼─────────────────┼────────────────────────────┤\n",
       "│ conv2d_55 (\u001b[38;5;33mConv2D\u001b[0m)            │ (\u001b[38;5;45mNone\u001b[0m, \u001b[38;5;34m14\u001b[0m, \u001b[38;5;34m14\u001b[0m, \u001b[38;5;34m64\u001b[0m)        │          \u001b[38;5;34m36,928\u001b[0m │ activation_28[\u001b[38;5;34m0\u001b[0m][\u001b[38;5;34m0\u001b[0m]        │\n",
       "├───────────────────────────────┼───────────────────────────┼─────────────────┼────────────────────────────┤\n",
       "│ batch_normalization_31        │ (\u001b[38;5;45mNone\u001b[0m, \u001b[38;5;34m14\u001b[0m, \u001b[38;5;34m14\u001b[0m, \u001b[38;5;34m64\u001b[0m)        │             \u001b[38;5;34m256\u001b[0m │ conv2d_55[\u001b[38;5;34m0\u001b[0m][\u001b[38;5;34m0\u001b[0m]            │\n",
       "│ (\u001b[38;5;33mBatchNormalization\u001b[0m)          │                           │                 │                            │\n",
       "├───────────────────────────────┼───────────────────────────┼─────────────────┼────────────────────────────┤\n",
       "│ add_10 (\u001b[38;5;33mAdd\u001b[0m)                  │ (\u001b[38;5;45mNone\u001b[0m, \u001b[38;5;34m14\u001b[0m, \u001b[38;5;34m14\u001b[0m, \u001b[38;5;34m64\u001b[0m)        │               \u001b[38;5;34m0\u001b[0m │ batch_normalization_31[\u001b[38;5;34m0\u001b[0m]… │\n",
       "│                               │                           │                 │ activation_27[\u001b[38;5;34m0\u001b[0m][\u001b[38;5;34m0\u001b[0m]        │\n",
       "├───────────────────────────────┼───────────────────────────┼─────────────────┼────────────────────────────┤\n",
       "│ activation_29 (\u001b[38;5;33mActivation\u001b[0m)    │ (\u001b[38;5;45mNone\u001b[0m, \u001b[38;5;34m14\u001b[0m, \u001b[38;5;34m14\u001b[0m, \u001b[38;5;34m64\u001b[0m)        │               \u001b[38;5;34m0\u001b[0m │ add_10[\u001b[38;5;34m0\u001b[0m][\u001b[38;5;34m0\u001b[0m]               │\n",
       "├───────────────────────────────┼───────────────────────────┼─────────────────┼────────────────────────────┤\n",
       "│ global_average_pooling2d_2    │ (\u001b[38;5;45mNone\u001b[0m, \u001b[38;5;34m64\u001b[0m)                │               \u001b[38;5;34m0\u001b[0m │ activation_29[\u001b[38;5;34m0\u001b[0m][\u001b[38;5;34m0\u001b[0m]        │\n",
       "│ (\u001b[38;5;33mGlobalAveragePooling2D\u001b[0m)      │                           │                 │                            │\n",
       "├───────────────────────────────┼───────────────────────────┼─────────────────┼────────────────────────────┤\n",
       "│ dense_8 (\u001b[38;5;33mDense\u001b[0m)               │ (\u001b[38;5;45mNone\u001b[0m, \u001b[38;5;34m10\u001b[0m)                │             \u001b[38;5;34m650\u001b[0m │ global_average_pooling2d_… │\n",
       "└───────────────────────────────┴───────────────────────────┴─────────────────┴────────────────────────────┘\n"
      ]
     },
     "metadata": {},
     "output_type": "display_data"
    },
    {
     "data": {
      "text/html": [
       "<pre style=\"white-space:pre;overflow-x:auto;line-height:normal;font-family:Menlo,'DejaVu Sans Mono',consolas,'Courier New',monospace\"><span style=\"font-weight: bold\"> Total params: </span><span style=\"color: #00af00; text-decoration-color: #00af00\">171,274</span> (669.04 KB)\n",
       "</pre>\n"
      ],
      "text/plain": [
       "\u001b[1m Total params: \u001b[0m\u001b[38;5;34m171,274\u001b[0m (669.04 KB)\n"
      ]
     },
     "metadata": {},
     "output_type": "display_data"
    },
    {
     "data": {
      "text/html": [
       "<pre style=\"white-space:pre;overflow-x:auto;line-height:normal;font-family:Menlo,'DejaVu Sans Mono',consolas,'Courier New',monospace\"><span style=\"font-weight: bold\"> Trainable params: </span><span style=\"color: #00af00; text-decoration-color: #00af00\">170,314</span> (665.29 KB)\n",
       "</pre>\n"
      ],
      "text/plain": [
       "\u001b[1m Trainable params: \u001b[0m\u001b[38;5;34m170,314\u001b[0m (665.29 KB)\n"
      ]
     },
     "metadata": {},
     "output_type": "display_data"
    },
    {
     "data": {
      "text/html": [
       "<pre style=\"white-space:pre;overflow-x:auto;line-height:normal;font-family:Menlo,'DejaVu Sans Mono',consolas,'Courier New',monospace\"><span style=\"font-weight: bold\"> Non-trainable params: </span><span style=\"color: #00af00; text-decoration-color: #00af00\">960</span> (3.75 KB)\n",
       "</pre>\n"
      ],
      "text/plain": [
       "\u001b[1m Non-trainable params: \u001b[0m\u001b[38;5;34m960\u001b[0m (3.75 KB)\n"
      ]
     },
     "metadata": {},
     "output_type": "display_data"
    },
    {
     "name": "stdout",
     "output_type": "stream",
     "text": [
      "모델 구성 완료.\n"
     ]
    }
   ],
   "source": [
    "import tensorflow as tf\n",
    "from tensorflow.keras.layers import Input, Conv2D, BatchNormalization, Activation, Add, GlobalAveragePooling2D, Dense\n",
    "from tensorflow.keras.models import Model\n",
    "from tensorflow.keras.utils import to_categorical\n",
    "import numpy as np\n",
    "import matplotlib.pyplot as plt # 데이터 확인용\n",
    "from tensorflow import keras\n",
    "\n",
    "print(\"데이터 로드 및 전처리 시작...\")\n",
    "(x_train, y_train), (x_test, y_test) = tf.keras.datasets.fashion_mnist.load_data()\n",
    "\n",
    "# 이미지 데이터 형태 변환 (높이, 너비, 채널) 및 스케일링 (0-255 -> 0-1)\n",
    "x_train = x_train.astype('float32') / 255.0\n",
    "x_test = x_test.astype('float32') / 255.0\n",
    "x_train = np.expand_dims(x_train, axis=-1) # (60000, 28, 28) -> (60000, 28, 28, 1)\n",
    "x_test = np.expand_dims(x_test, axis=-1)   # (10000, 28, 28) -> (10000, 28, 28, 1)\n",
    "\n",
    "# 라벨을 원-핫 인코딩\n",
    "num_classes = 10\n",
    "y_train = to_categorical(y_train, num_classes)\n",
    "y_test = to_categorical(y_test, num_classes)\n",
    "\n",
    "def resnet_block(input_tensor, filters, stride=1):\n",
    "    \"\"\"ResNet 기본 잔차 블록\"\"\"\n",
    "    x = input_tensor\n",
    "    shortcut = input_tensor # 스킵 연결을 위한 원래 입력 저장\n",
    "\n",
    "    # 첫 번째 컨볼루션 레이어\n",
    "    x = Conv2D(filters, kernel_size=3, strides=stride, padding='same', kernel_initializer='he_normal')(x)\n",
    "    x = BatchNormalization()(x) # 배치 정규화\n",
    "    x = Activation('relu')(x)   # ReLU 활성화 함수\n",
    "\n",
    "    # 두 번째 컨볼루션 레이어\n",
    "    x = Conv2D(filters, kernel_size=3, padding='same', kernel_initializer='he_normal')(x)\n",
    "    x = BatchNormalization()(x) # 배치 정규화\n",
    "\n",
    "    # --- 스킵 연결 처리 ---\n",
    "    # 만약 입력 텐서의 차원과 출력 텐서의 차원이 다르다면 (필터 수 증가 또는 스트라이드 > 1)\n",
    "    # 스킵 연결 경로에 1x1 컨볼루션을 적용하여 차원을 맞춰줍니다.\n",
    "    if stride != 1 or input_tensor.shape[-1] != filters:\n",
    "        shortcut = Conv2D(filters, kernel_size=1, strides=stride, padding='valid', kernel_initializer='he_normal')(shortcut)\n",
    "        shortcut = BatchNormalization()(shortcut) # 스킵 연결에도 배치 정규화 적용\n",
    "\n",
    "    # 최종 출력 = 블록 결과 + 스킵 연결 결과\n",
    "    x = Add()([x, shortcut]) # 두 텐서를 더함\n",
    "    x = Activation('relu')(x) # 최종 활성화 함수\n",
    "\n",
    "    return x\n",
    "\n",
    "# --- 3. ResNet 모델 구성 ---\n",
    "print(\"모델 구성 시작...\")\n",
    "input_shape = (28, 28, 1) # Fashion MNIST 이미지 입력 형태\n",
    "inputs = Input(shape=input_shape) # 모델의 입력 레이어\n",
    "\n",
    "# 초기 컨볼루션 레이어\n",
    "x = Conv2D(32, kernel_size=3, strides=1, padding='same', kernel_initializer='he_normal')(inputs)\n",
    "x = BatchNormalization()(x)\n",
    "x = Activation('relu')(x)\n",
    "\n",
    "# ResNet 스테이지 (예시: 간단하게 2개의 스테이지 구성)\n",
    "# 스테이지 1: 필터 수 32, 스트라이드 1 (다운샘플링 없음)\n",
    "x = resnet_block(x, filters=32)\n",
    "x = resnet_block(x, filters=32)\n",
    "\n",
    "# 스테이지 2: 필터 수 64, 첫 번째 블록에서 스트라이드 2 (다운샘플링)\n",
    "x = resnet_block(x, filters=64, stride=2) # 공간 크기 절반으로 줄어듦 (14x14)\n",
    "x = resnet_block(x, filters=64)\n",
    "\n",
    "# 마지막 레이어\n",
    "# Global Average Pooling: 각 채널별 평균을 계산하여 공간 차원 제거\n",
    "x = GlobalAveragePooling2D()(x)\n",
    "# Dense 레이어: 분류를 위한 완전 연결 레이어\n",
    "outputs = Dense(num_classes, activation='softmax', kernel_initializer='he_normal')(x)\n",
    "\n",
    "# 모델 생성\n",
    "model = Model(inputs=inputs, outputs=outputs)\n",
    "\n",
    "model.summary() # 모델 구조 요약 출력\n",
    "print(\"모델 구성 완료.\")"
   ]
  },
  {
   "cell_type": "code",
   "execution_count": 35,
   "id": "66959c96-dd75-4f81-a414-49feca55c52e",
   "metadata": {
    "scrolled": true
   },
   "outputs": [
    {
     "name": "stdout",
     "output_type": "stream",
     "text": [
      "모델 컴파일 시작...\n",
      "모델 컴파일 완료.\n",
      "모델 학습 시작...\n",
      "Epoch 1/100\n",
      "\u001b[1m469/469\u001b[0m \u001b[32m━━━━━━━━━━━━━━━━━━━━\u001b[0m\u001b[37m\u001b[0m \u001b[1m155s\u001b[0m 322ms/step - accuracy: 0.7252 - loss: 0.8012 - val_accuracy: 0.8084 - val_loss: 0.5385\n",
      "Epoch 2/100\n",
      "\u001b[1m469/469\u001b[0m \u001b[32m━━━━━━━━━━━━━━━━━━━━\u001b[0m\u001b[37m\u001b[0m \u001b[1m190s\u001b[0m 406ms/step - accuracy: 0.8831 - loss: 0.3297 - val_accuracy: 0.8574 - val_loss: 0.3953\n",
      "Epoch 3/100\n",
      "\u001b[1m469/469\u001b[0m \u001b[32m━━━━━━━━━━━━━━━━━━━━\u001b[0m\u001b[37m\u001b[0m \u001b[1m206s\u001b[0m 440ms/step - accuracy: 0.9054 - loss: 0.2651 - val_accuracy: 0.8599 - val_loss: 0.4168\n",
      "Epoch 4/100\n",
      "\u001b[1m469/469\u001b[0m \u001b[32m━━━━━━━━━━━━━━━━━━━━\u001b[0m\u001b[37m\u001b[0m \u001b[1m195s\u001b[0m 416ms/step - accuracy: 0.9164 - loss: 0.2328 - val_accuracy: 0.8775 - val_loss: 0.3486\n",
      "Epoch 5/100\n",
      "\u001b[1m469/469\u001b[0m \u001b[32m━━━━━━━━━━━━━━━━━━━━\u001b[0m\u001b[37m\u001b[0m \u001b[1m201s\u001b[0m 429ms/step - accuracy: 0.9264 - loss: 0.2082 - val_accuracy: 0.8895 - val_loss: 0.3057\n",
      "Epoch 6/100\n",
      "\u001b[1m469/469\u001b[0m \u001b[32m━━━━━━━━━━━━━━━━━━━━\u001b[0m\u001b[37m\u001b[0m \u001b[1m207s\u001b[0m 439ms/step - accuracy: 0.9334 - loss: 0.1880 - val_accuracy: 0.7682 - val_loss: 0.7435\n",
      "Epoch 7/100\n",
      "\u001b[1m469/469\u001b[0m \u001b[32m━━━━━━━━━━━━━━━━━━━━\u001b[0m\u001b[37m\u001b[0m \u001b[1m203s\u001b[0m 434ms/step - accuracy: 0.9366 - loss: 0.1797 - val_accuracy: 0.8461 - val_loss: 0.4765\n",
      "Epoch 8/100\n",
      "\u001b[1m469/469\u001b[0m \u001b[32m━━━━━━━━━━━━━━━━━━━━\u001b[0m\u001b[37m\u001b[0m \u001b[1m206s\u001b[0m 439ms/step - accuracy: 0.9399 - loss: 0.1637 - val_accuracy: 0.8927 - val_loss: 0.3155\n",
      "Epoch 9/100\n",
      "\u001b[1m469/469\u001b[0m \u001b[32m━━━━━━━━━━━━━━━━━━━━\u001b[0m\u001b[37m\u001b[0m \u001b[1m212s\u001b[0m 452ms/step - accuracy: 0.9459 - loss: 0.1551 - val_accuracy: 0.8185 - val_loss: 0.6514\n",
      "Epoch 10/100\n",
      "\u001b[1m469/469\u001b[0m \u001b[32m━━━━━━━━━━━━━━━━━━━━\u001b[0m\u001b[37m\u001b[0m \u001b[1m213s\u001b[0m 453ms/step - accuracy: 0.9523 - loss: 0.1366 - val_accuracy: 0.8725 - val_loss: 0.4081\n",
      "Epoch 11/100\n",
      "\u001b[1m469/469\u001b[0m \u001b[32m━━━━━━━━━━━━━━━━━━━━\u001b[0m\u001b[37m\u001b[0m \u001b[1m209s\u001b[0m 445ms/step - accuracy: 0.9554 - loss: 0.1262 - val_accuracy: 0.8551 - val_loss: 0.5029\n",
      "Epoch 12/100\n",
      "\u001b[1m469/469\u001b[0m \u001b[32m━━━━━━━━━━━━━━━━━━━━\u001b[0m\u001b[37m\u001b[0m \u001b[1m207s\u001b[0m 441ms/step - accuracy: 0.9604 - loss: 0.1156 - val_accuracy: 0.8793 - val_loss: 0.3717\n",
      "Epoch 13/100\n",
      "\u001b[1m469/469\u001b[0m \u001b[32m━━━━━━━━━━━━━━━━━━━━\u001b[0m\u001b[37m\u001b[0m \u001b[1m207s\u001b[0m 442ms/step - accuracy: 0.9610 - loss: 0.1059 - val_accuracy: 0.8800 - val_loss: 0.3952\n",
      "Epoch 14/100\n",
      "\u001b[1m469/469\u001b[0m \u001b[32m━━━━━━━━━━━━━━━━━━━━\u001b[0m\u001b[37m\u001b[0m \u001b[1m214s\u001b[0m 456ms/step - accuracy: 0.9692 - loss: 0.0902 - val_accuracy: 0.8975 - val_loss: 0.3452\n",
      "Epoch 15/100\n",
      "\u001b[1m469/469\u001b[0m \u001b[32m━━━━━━━━━━━━━━━━━━━━\u001b[0m\u001b[37m\u001b[0m \u001b[1m215s\u001b[0m 458ms/step - accuracy: 0.9721 - loss: 0.0816 - val_accuracy: 0.8603 - val_loss: 0.5330\n",
      "Epoch 16/100\n",
      "\u001b[1m469/469\u001b[0m \u001b[32m━━━━━━━━━━━━━━━━━━━━\u001b[0m\u001b[37m\u001b[0m \u001b[1m212s\u001b[0m 452ms/step - accuracy: 0.9753 - loss: 0.0732 - val_accuracy: 0.8566 - val_loss: 0.6147\n",
      "Epoch 17/100\n",
      "\u001b[1m469/469\u001b[0m \u001b[32m━━━━━━━━━━━━━━━━━━━━\u001b[0m\u001b[37m\u001b[0m \u001b[1m240s\u001b[0m 512ms/step - accuracy: 0.9773 - loss: 0.0683 - val_accuracy: 0.9013 - val_loss: 0.3491\n",
      "Epoch 18/100\n",
      "\u001b[1m469/469\u001b[0m \u001b[32m━━━━━━━━━━━━━━━━━━━━\u001b[0m\u001b[37m\u001b[0m \u001b[1m217s\u001b[0m 463ms/step - accuracy: 0.9805 - loss: 0.0597 - val_accuracy: 0.8931 - val_loss: 0.3869\n",
      "Epoch 19/100\n",
      "\u001b[1m469/469\u001b[0m \u001b[32m━━━━━━━━━━━━━━━━━━━━\u001b[0m\u001b[37m\u001b[0m \u001b[1m214s\u001b[0m 457ms/step - accuracy: 0.9826 - loss: 0.0509 - val_accuracy: 0.8531 - val_loss: 0.6490\n",
      "Epoch 20/100\n",
      "\u001b[1m469/469\u001b[0m \u001b[32m━━━━━━━━━━━━━━━━━━━━\u001b[0m\u001b[37m\u001b[0m \u001b[1m216s\u001b[0m 461ms/step - accuracy: 0.9831 - loss: 0.0504 - val_accuracy: 0.8963 - val_loss: 0.4558\n",
      "Epoch 21/100\n",
      "\u001b[1m469/469\u001b[0m \u001b[32m━━━━━━━━━━━━━━━━━━━━\u001b[0m\u001b[37m\u001b[0m \u001b[1m203s\u001b[0m 432ms/step - accuracy: 0.9852 - loss: 0.0439 - val_accuracy: 0.9009 - val_loss: 0.3707\n",
      "Epoch 22/100\n",
      "\u001b[1m469/469\u001b[0m \u001b[32m━━━━━━━━━━━━━━━━━━━━\u001b[0m\u001b[37m\u001b[0m \u001b[1m204s\u001b[0m 434ms/step - accuracy: 0.9860 - loss: 0.0398 - val_accuracy: 0.8813 - val_loss: 0.4890\n",
      "Epoch 23/100\n",
      "\u001b[1m469/469\u001b[0m \u001b[32m━━━━━━━━━━━━━━━━━━━━\u001b[0m\u001b[37m\u001b[0m \u001b[1m204s\u001b[0m 436ms/step - accuracy: 0.9886 - loss: 0.0351 - val_accuracy: 0.8646 - val_loss: 0.5648\n",
      "Epoch 24/100\n",
      "\u001b[1m469/469\u001b[0m \u001b[32m━━━━━━━━━━━━━━━━━━━━\u001b[0m\u001b[37m\u001b[0m \u001b[1m204s\u001b[0m 435ms/step - accuracy: 0.9896 - loss: 0.0345 - val_accuracy: 0.8694 - val_loss: 0.5616\n",
      "Epoch 25/100\n",
      "\u001b[1m469/469\u001b[0m \u001b[32m━━━━━━━━━━━━━━━━━━━━\u001b[0m\u001b[37m\u001b[0m \u001b[1m200s\u001b[0m 426ms/step - accuracy: 0.9896 - loss: 0.0303 - val_accuracy: 0.8493 - val_loss: 0.7931\n",
      "모델 학습 완료.\n"
     ]
    }
   ],
   "source": [
    "# --- 4. 모델 컴파일 ---\n",
    "print(\"모델 컴파일 시작...\")\n",
    "# 옵티마이저: Adam 사용\n",
    "# 손실 함수: 다중 클래스 분류이므로 categorical_crossentropy 사용 (원-핫 인코딩된 라벨)\n",
    "# 측정 지표: 정확도(accuracy) 사용\n",
    "model.compile(optimizer='adam',\n",
    "              loss='categorical_crossentropy',\n",
    "              metrics=['accuracy'])\n",
    "print(\"모델 컴파일 완료.\")\n",
    "\n",
    "es = keras.callbacks.EarlyStopping(patience=20, restore_best_weights=True)\n",
    "\n",
    "# --- 5. 모델 학습 ---\n",
    "print(\"모델 학습 시작...\")\n",
    "# epochs: 전체 데이터셋을 몇 번 반복 학습할 것인지\n",
    "# batch_size: 한 번에 학습할 데이터 샘플 수\n",
    "# validation_split: 학습 데이터 중 검증 데이터로 사용할 비율 (학습 중 모델 성능 모니터링)\n",
    "history = model.fit(x_train, y_train,\n",
    "                    epochs=100, # 예시로 15 에폭 학습\n",
    "                    batch_size=128,\n",
    "                    validation_data = (x_test, y_test),\n",
    "                    callbacks = [es]) # 학습 데이터의 10%를 검증에 사용\n",
    "print(\"모델 학습 완료.\")"
   ]
  },
  {
   "cell_type": "code",
   "execution_count": 38,
   "id": "92217d03-62c1-4bfd-9f98-90090a6520ed",
   "metadata": {},
   "outputs": [
    {
     "name": "stdout",
     "output_type": "stream",
     "text": [
      "모델 평가 시작...\n",
      "테스트 손실 (Test loss): 0.3057\n",
      "테스트 정확도 (Test accuracy): 0.8895\n",
      "모델 평가 완료.\n"
     ]
    },
    {
     "data": {
      "image/png": "[encoded data removed]",
      "text/plain": [
       "<Figure size 1200x400 with 2 Axes>"
      ]
     },
     "metadata": {},
     "output_type": "display_data"
    }
   ],
   "source": [
    "# --- 6. 모델 평가 ---\n",
    "print(\"모델 평가 시작...\")\n",
    "loss, accuracy = model.evaluate(x_test, y_test, verbose=0)\n",
    "print(f'테스트 손실 (Test loss): {loss:.4f}')\n",
    "print(f'테스트 정확도 (Test accuracy): {accuracy:.4f}')\n",
    "print(\"모델 평가 완료.\")\n",
    "\n",
    "# --- 학습 과정 시각화 (선택 사항) ---\n",
    "# 학습 및 검증 정확도 시각화\n",
    "plt.figure(figsize=(12, 4))\n",
    "plt.subplot(1, 2, 1)\n",
    "plt.plot(history.history['accuracy'], label='Train Accuracy')\n",
    "plt.plot(history.history['val_accuracy'], label='Validation Accuracy')\n",
    "plt.xlabel('Epoch')\n",
    "plt.ylabel('Accuracy')\n",
    "plt.title('Training and Validation Accuracy')\n",
    "plt.legend()\n",
    "plt.grid(True)\n",
    "\n",
    "# 학습 및 검증 손실 시각화\n",
    "plt.subplot(1, 2, 2)\n",
    "plt.plot(history.history['loss'], label='Train Loss')\n",
    "plt.plot(history.history['val_loss'], label='Validation Loss')\n",
    "plt.xlabel('Epoch')\n",
    "plt.ylabel('Loss')\n",
    "plt.title('Training and Validation Loss')\n",
    "plt.legend()\n",
    "plt.grid(True)\n",
    "plt.show()"
   ]
  },
  {
   "cell_type": "markdown",
   "id": "3a372a4f-5e82-4800-a244-a8991c27bde6",
   "metadata": {},
   "source": [
    "# 사전학습된 이미지 분석 딥러닝 모델\n",
    "분류 / 검출 / 트랙 / 포즈 등 가능. yolo1~11   \n",
    "사람이 버스에 타는 사진을 올렸을때, "
   ]
  },
  {
   "cell_type": "code",
   "execution_count": 40,
   "id": "72d0f8ac-d1a7-48f3-b1b7-77d2c61a3724",
   "metadata": {},
   "outputs": [],
   "source": [
    "# !pip install ultralytics\n",
    "# !pip3 install torch torchvision torchaudio"
   ]
  },
  {
   "cell_type": "code",
   "execution_count": 3,
   "id": "639c3799-6e4c-4e80-892b-a1552b4ff89c",
   "metadata": {},
   "outputs": [],
   "source": [
    "from ultralytics import YOLO"
   ]
  },
  {
   "cell_type": "markdown",
   "id": "30a3797a-fa8b-41ec-a2c8-54550babf9b3",
   "metadata": {},
   "source": [
    "## 1. 분류 "
   ]
  },
  {
   "cell_type": "code",
   "execution_count": 4,
   "id": "7412265f-7ad0-4b90-afbc-e8539c16e039",
   "metadata": {},
   "outputs": [],
   "source": [
    "# 이미지 분류\n",
    "model = YOLO(\"yolo11n-cls.pt\")"
   ]
  },
  {
   "cell_type": "code",
   "execution_count": 5,
   "id": "a7c7af6f-7b9e-4187-933d-2640dab2e0be",
   "metadata": {},
   "outputs": [
    {
     "data": {
      "text/plain": [
       "1000"
      ]
     },
     "execution_count": 5,
     "metadata": {},
     "output_type": "execute_result"
    }
   ],
   "source": [
    "len(model.names)"
   ]
  },
  {
   "cell_type": "code",
   "execution_count": 6,
   "id": "fe9c2d93-97dd-47a2-b91d-bb0ce0df898c",
   "metadata": {},
   "outputs": [
    {
     "name": "stdout",
     "output_type": "stream",
     "text": [
      "\n",
      "image 1/1 C:\\Users\\campus4D019\\Desktop\\Python\\BUS.jpeg: 224x224 streetcar 0.34, trolleybus 0.30, minibus 0.30, passenger_car 0.04, forklift 0.01, 20.7ms\n",
      "Speed: 6.2ms preprocess, 20.7ms inference, 0.1ms postprocess per image at shape (1, 3, 224, 224)\n",
      "Results saved to \u001b[1mruns\\classify\\predict2\u001b[0m\n"
     ]
    }
   ],
   "source": [
    "results = model(\"BUS.jpeg\", save=True)\n",
    "# streetcar일 확률이 34%, trolleybus일 확률이 30%, ... - classify 폴더"
   ]
  },
  {
   "cell_type": "markdown",
   "id": "8d45837a-9d1a-4392-9d3d-3445e07fd06e",
   "metadata": {},
   "source": [
    "## 2. 검출"
   ]
  },
  {
   "cell_type": "code",
   "execution_count": 7,
   "id": "6d1536d5-aaac-4242-b301-2c2c141de7f7",
   "metadata": {},
   "outputs": [],
   "source": [
    "model = YOLO(\"yolo11n.pt\")     # 모델 검출 "
   ]
  },
  {
   "cell_type": "code",
   "execution_count": 8,
   "id": "898ac7a5-54c8-4192-b560-c985ca782b9a",
   "metadata": {},
   "outputs": [
    {
     "name": "stdout",
     "output_type": "stream",
     "text": [
      "\n",
      "image 1/1 C:\\Users\\campus4D019\\Desktop\\Python\\BUS.jpeg: 448x640 6 persons, 1 bus, 2 handbags, 82.1ms\n",
      "Speed: 2.3ms preprocess, 82.1ms inference, 1.5ms postprocess per image at shape (1, 3, 448, 640)\n",
      "Results saved to \u001b[1mruns\\detect\\predict2\u001b[0m\n"
     ]
    }
   ],
   "source": [
    "results = model(\"BUS.jpeg\", save=True)\n",
    "# 사람이 6명, 버스가 1개, ... - detect 폴더"
   ]
  },
  {
   "cell_type": "code",
   "execution_count": 9,
   "id": "cdad2998-6f82-4c79-a67b-5c1e852071ab",
   "metadata": {},
   "outputs": [
    {
     "name": "stdout",
     "output_type": "stream",
     "text": [
      "tensor([ 5.,  0.,  0.,  0.,  0.,  0.,  0., 26., 26.])\n"
     ]
    }
   ],
   "source": [
    "for i in results:\n",
    "    # print(i.boxes.xywh)\n",
    "    print(i.boxes.cls)"
   ]
  },
  {
   "cell_type": "code",
   "execution_count": 10,
   "id": "ce76e453-6a16-4e70-9e01-45aea90e5720",
   "metadata": {
    "scrolled": true
   },
   "outputs": [
    {
     "data": {
      "text/plain": [
       "[ultralytics.engine.results.Results object with attributes:\n",
       " \n",
       " boxes: ultralytics.engine.results.Boxes object\n",
       " keypoints: None\n",
       " masks: None\n",
       " names: {0: 'person', 1: 'bicycle', 2: 'car', 3: 'motorcycle', 4: 'airplane', 5: 'bus', 6: 'train', 7: 'truck', 8: 'boat', 9: 'traffic light', 10: 'fire hydrant', 11: 'stop sign', 12: 'parking meter', 13: 'bench', 14: 'bird', 15: 'cat', 16: 'dog', 17: 'horse', 18: 'sheep', 19: 'cow', 20: 'elephant', 21: 'bear', 22: 'zebra', 23: 'giraffe', 24: 'backpack', 25: 'umbrella', 26: 'handbag', 27: 'tie', 28: 'suitcase', 29: 'frisbee', 30: 'skis', 31: 'snowboard', 32: 'sports ball', 33: 'kite', 34: 'baseball bat', 35: 'baseball glove', 36: 'skateboard', 37: 'surfboard', 38: 'tennis racket', 39: 'bottle', 40: 'wine glass', 41: 'cup', 42: 'fork', 43: 'knife', 44: 'spoon', 45: 'bowl', 46: 'banana', 47: 'apple', 48: 'sandwich', 49: 'orange', 50: 'broccoli', 51: 'carrot', 52: 'hot dog', 53: 'pizza', 54: 'donut', 55: 'cake', 56: 'chair', 57: 'couch', 58: 'potted plant', 59: 'bed', 60: 'dining table', 61: 'toilet', 62: 'tv', 63: 'laptop', 64: 'mouse', 65: 'remote', 66: 'keyboard', 67: 'cell phone', 68: 'microwave', 69: 'oven', 70: 'toaster', 71: 'sink', 72: 'refrigerator', 73: 'book', 74: 'clock', 75: 'vase', 76: 'scissors', 77: 'teddy bear', 78: 'hair drier', 79: 'toothbrush'}\n",
       " obb: None\n",
       " orig_img: array([[[207, 236, 251],\n",
       "         [206, 235, 250],\n",
       "         [209, 238, 253],\n",
       "         ...,\n",
       "         [101, 133, 216],\n",
       "         [102, 137, 217],\n",
       "         [102, 132, 203]],\n",
       " \n",
       "        [[169, 195, 209],\n",
       "         [175, 201, 215],\n",
       "         [196, 222, 236],\n",
       "         ...,\n",
       "         [ 89, 120, 205],\n",
       "         [ 90, 125, 205],\n",
       "         [ 92, 121, 195]],\n",
       " \n",
       "        [[201, 222, 230],\n",
       "         [186, 207, 215],\n",
       "         [207, 228, 236],\n",
       "         ...,\n",
       "         [ 82, 113, 198],\n",
       "         [ 83, 117, 201],\n",
       "         [ 88, 116, 193]],\n",
       " \n",
       "        ...,\n",
       " \n",
       "        [[147, 182, 215],\n",
       "         [156, 191, 224],\n",
       "         [165, 200, 233],\n",
       "         ...,\n",
       "         [118, 124, 135],\n",
       "         [147, 153, 164],\n",
       "         [147, 153, 164]],\n",
       " \n",
       "        [[121, 153, 188],\n",
       "         [152, 184, 219],\n",
       "         [165, 197, 232],\n",
       "         ...,\n",
       "         [156, 162, 173],\n",
       "         [158, 164, 175],\n",
       "         [147, 153, 164]],\n",
       " \n",
       "        [[123, 153, 188],\n",
       "         [154, 184, 219],\n",
       "         [167, 197, 232],\n",
       "         ...,\n",
       "         [156, 162, 173],\n",
       "         [158, 164, 175],\n",
       "         [147, 153, 164]]], dtype=uint8)\n",
       " orig_shape: (186, 271)\n",
       " path: 'C:\\\\Users\\\\campus4D019\\\\Desktop\\\\Python\\\\BUS.jpeg'\n",
       " probs: None\n",
       " save_dir: 'runs\\\\detect\\\\predict2'\n",
       " speed: {'preprocess': 2.2511999995913357, 'inference': 82.08920000470243, 'postprocess': 1.5275000041583553}]"
      ]
     },
     "execution_count": 10,
     "metadata": {},
     "output_type": "execute_result"
    }
   ],
   "source": [
    "results\n",
    "\n",
    "# 검출값 확인 가능"
   ]
  },
  {
   "cell_type": "markdown",
   "id": "d7dd18d3-e07d-4ea9-ad99-b9d04020a41a",
   "metadata": {},
   "source": [
    "이미지 라벨링 사이트 - roboflow      \n",
    "하나하나 노가다 작업을 해야돼서 좀 어렵긴 함"
   ]
  },
  {
   "cell_type": "code",
   "execution_count": 16,
   "id": "837e87a9-1345-4b88-81cb-89eb8f1148de",
   "metadata": {},
   "outputs": [],
   "source": [
    "# !wget -O RockPaperScissors.zip https://universe.roboflow.com/ds/vHmqQxEOVX?key=pEz9eVNfhE"
   ]
  },
  {
   "cell_type": "code",
   "execution_count": 17,
   "id": "ef635c60-8a5c-493c-8fb9-a8681098a1e4",
   "metadata": {},
   "outputs": [],
   "source": [
    "# import zipfile\n",
    "# zip_ref = zipfile.ZipFile(\"/content/RockPaperScissors.zip\", \"r\")\n",
    "# zip_ref.extractall(\"/content/RockPaperScissors\")     # 압축 풀어라\n",
    "# zip_ref.close()"
   ]
  },
  {
   "cell_type": "code",
   "execution_count": 14,
   "id": "ba7b99d7-52b6-4f5f-ae9a-6c08df47a208",
   "metadata": {},
   "outputs": [
    {
     "name": "stdout",
     "output_type": "stream",
     "text": [
      "압축이 'Data/RockPaperScissors' 폴더에 성공적으로 풀렸습니다.\n"
     ]
    }
   ],
   "source": [
    "import requests\n",
    "import zipfile\n",
    "import os\n",
    "\n",
    "# 경로 설정\n",
    "zip_path = \"Data/RockPaperScissors.zip\"\n",
    "extract_path = \"Data/RockPaperScissors\"  # \"/content/\" 디렉토리가 아닌 현재 작업 디렉토리에 풀림\n",
    "\n",
    "# 다운로드\n",
    "url = \"https://universe.roboflow.com/ds/vHmqQxEOVX?key=pEz9eVNfhE\"\n",
    "response = requests.get(url)\n",
    "\n",
    "with open(zip_path, \"wb\") as f:\n",
    "    f.write(response.content)\n",
    "\n",
    "# 압축 해제\n",
    "with zipfile.ZipFile(zip_path, 'r') as zip_ref:\n",
    "    zip_ref.extractall(extract_path)\n",
    "\n",
    "print(f\"압축이 '{extract_path}' 폴더에 성공적으로 풀렸습니다.\")"
   ]
  },
  {
   "cell_type": "code",
   "execution_count": 19,
   "id": "304d78d0-e171-47d8-af24-f57f8ed23512",
   "metadata": {},
   "outputs": [],
   "source": [
    "# !cat \"Data/RockPaperScissors/data.yaml\""
   ]
  },
  {
   "cell_type": "code",
   "execution_count": 21,
   "id": "520d40a0-45c2-4367-8ae2-0fbd3fe597e5",
   "metadata": {},
   "outputs": [
    {
     "name": "stdout",
     "output_type": "stream",
     "text": [
      "train: ../train/images\n",
      "val: ../valid/images\n",
      "test: ../test/images\n",
      "\n",
      "nc: 3\n",
      "names: ['Paper', 'Rock', 'Scissors']\n",
      "\n",
      "roboflow:\n",
      "  workspace: roboflow-58fyf\n",
      "  project: rock-paper-scissors-sxsw\n",
      "  version: 14\n",
      "  license: Private\n",
      "  url: https://universe.roboflow.com/roboflow-58fyf/rock-paper-scissors-sxsw/dataset/14\n"
     ]
    }
   ],
   "source": [
    "with open(\"Data/RockPaperScissors/data.yaml\", \"r\", encoding=\"utf-8\") as f:\n",
    "    content = f.read()\n",
    "    print(content)"
   ]
  },
  {
   "cell_type": "code",
   "execution_count": 22,
   "id": "ff4e89e7-ef93-4257-a659-1d75052e9470",
   "metadata": {},
   "outputs": [],
   "source": [
    "# 경로를 새롭게 만들어줌\n",
    "new_data = {\"train\" : \"Data/RockPaperScissors/train/images\",\n",
    "            \"test\" : \"Data/RockPaperScissors/test/images\",\n",
    "            \"val\" : \"Data/RockPaperScissors/valid/images\",\n",
    "            \"names\" : ['Paper', 'Rock', 'Scissors'],\n",
    "            \"nc\" : 3}       # number of class. 정답이 3개이므로 3"
   ]
  },
  {
   "cell_type": "code",
   "execution_count": 23,
   "id": "55e5a133-3bd4-487a-9ba5-6780bdf86a89",
   "metadata": {},
   "outputs": [
    {
     "name": "stdout",
     "output_type": "stream",
     "text": [
      "Requirement already satisfied: PyYAML in c:\\users\\campus4d019\\anaconda3\\lib\\site-packages (6.0.1)\n"
     ]
    }
   ],
   "source": [
    "!pip install PyYAML"
   ]
  },
  {
   "cell_type": "code",
   "execution_count": 24,
   "id": "a189d34b-60a2-4988-a867-9ae140ed6ee3",
   "metadata": {},
   "outputs": [],
   "source": [
    "import yaml \n",
    "\n",
    "with open(\"Data/RockPaperScissors/new_data.yaml\", \"w\") as f:\n",
    "    yaml.dump(new_data, f)"
   ]
  },
  {
   "cell_type": "code",
   "execution_count": 25,
   "id": "ba0e7b0e-657c-4dcb-b21e-ad54c3a62dcb",
   "metadata": {},
   "outputs": [
    {
     "name": "stdout",
     "output_type": "stream",
     "text": [
      "Ultralytics 8.3.133  Python-3.12.7 torch-2.7.0+cpu CPU (12th Gen Intel Core(TM) i5-1235U)\n",
      "\u001b[34m\u001b[1mengine\\trainer: \u001b[0magnostic_nms=False, amp=True, augment=False, auto_augment=randaugment, batch=16, bgr=0.0, box=7.5, cache=False, cfg=None, classes=None, close_mosaic=10, cls=0.5, conf=None, copy_paste=0.0, copy_paste_mode=flip, cos_lr=False, cutmix=0.0, data=Data/RockPaperScissors/new_data.yaml, degrees=0.0, deterministic=True, device=cpu, dfl=1.5, dnn=False, dropout=0.0, dynamic=False, embed=None, epochs=100, erasing=0.4, exist_ok=False, fliplr=0.5, flipud=0.0, format=torchscript, fraction=1.0, freeze=None, half=False, hsv_h=0.015, hsv_s=0.7, hsv_v=0.4, imgsz=640, int8=False, iou=0.7, keras=False, kobj=1.0, line_width=None, lr0=0.01, lrf=0.01, mask_ratio=4, max_det=300, mixup=0.0, mode=train, model=yolo11n.pt, momentum=0.937, mosaic=1.0, multi_scale=False, name=train, nbs=64, nms=False, opset=None, optimize=False, optimizer=auto, overlap_mask=True, patience=5, perspective=0.0, plots=True, pose=12.0, pretrained=True, profile=False, project=None, rect=False, resume=False, retina_masks=False, save=True, save_conf=False, save_crop=False, save_dir=runs\\detect\\train, save_frames=False, save_json=False, save_period=-1, save_txt=False, scale=0.5, seed=0, shear=0.0, show=False, show_boxes=True, show_conf=True, show_labels=True, simplify=True, single_cls=False, source=None, split=val, stream_buffer=False, task=detect, time=None, tracker=botsort.yaml, translate=0.1, val=True, verbose=True, vid_stride=1, visualize=False, warmup_bias_lr=0.1, warmup_epochs=3.0, warmup_momentum=0.8, weight_decay=0.0005, workers=8, workspace=None\n",
      "\n"
     ]
    },
    {
     "ename": "RuntimeError",
     "evalue": "Dataset 'Data/RockPaperScissors/new_data.yaml' error  Dataset 'Data/RockPaperScissors/new_data.yaml' images not found, missing path 'C:\\Users\\campus4D019\\Desktop\\Python\\datasets\\Data\\RockPaperScissors\\Data\\RockPaperScissors\\valid\\images'\nNote dataset download directory is 'C:\\Users\\campus4D019\\Desktop\\Python\\datasets'. You can update this in 'C:\\Users\\campus4D019\\AppData\\Roaming\\Ultralytics\\settings.json'",
     "output_type": "error",
     "traceback": [
      "\u001b[1;31m---------------------------------------------------------------------------\u001b[0m",
      "\u001b[1;31mFileNotFoundError\u001b[0m                         Traceback (most recent call last)",
      "File \u001b[1;32m~\\anaconda3\\Lib\\site-packages\\ultralytics\\engine\\trainer.py:587\u001b[0m, in \u001b[0;36mBaseTrainer.get_dataset\u001b[1;34m(self)\u001b[0m\n\u001b[0;32m    581\u001b[0m \u001b[38;5;28;01melif\u001b[39;00m \u001b[38;5;28mself\u001b[39m\u001b[38;5;241m.\u001b[39margs\u001b[38;5;241m.\u001b[39mdata\u001b[38;5;241m.\u001b[39msplit(\u001b[38;5;124m\"\u001b[39m\u001b[38;5;124m.\u001b[39m\u001b[38;5;124m\"\u001b[39m)[\u001b[38;5;241m-\u001b[39m\u001b[38;5;241m1\u001b[39m] \u001b[38;5;129;01min\u001b[39;00m {\u001b[38;5;124m\"\u001b[39m\u001b[38;5;124myaml\u001b[39m\u001b[38;5;124m\"\u001b[39m, \u001b[38;5;124m\"\u001b[39m\u001b[38;5;124myml\u001b[39m\u001b[38;5;124m\"\u001b[39m} \u001b[38;5;129;01mor\u001b[39;00m \u001b[38;5;28mself\u001b[39m\u001b[38;5;241m.\u001b[39margs\u001b[38;5;241m.\u001b[39mtask \u001b[38;5;129;01min\u001b[39;00m {\n\u001b[0;32m    582\u001b[0m     \u001b[38;5;124m\"\u001b[39m\u001b[38;5;124mdetect\u001b[39m\u001b[38;5;124m\"\u001b[39m,\n\u001b[0;32m    583\u001b[0m     \u001b[38;5;124m\"\u001b[39m\u001b[38;5;124msegment\u001b[39m\u001b[38;5;124m\"\u001b[39m,\n\u001b[0;32m    584\u001b[0m     \u001b[38;5;124m\"\u001b[39m\u001b[38;5;124mpose\u001b[39m\u001b[38;5;124m\"\u001b[39m,\n\u001b[0;32m    585\u001b[0m     \u001b[38;5;124m\"\u001b[39m\u001b[38;5;124mobb\u001b[39m\u001b[38;5;124m\"\u001b[39m,\n\u001b[0;32m    586\u001b[0m }:\n\u001b[1;32m--> 587\u001b[0m     data \u001b[38;5;241m=\u001b[39m check_det_dataset(\u001b[38;5;28mself\u001b[39m\u001b[38;5;241m.\u001b[39margs\u001b[38;5;241m.\u001b[39mdata)\n\u001b[0;32m    588\u001b[0m     \u001b[38;5;28;01mif\u001b[39;00m \u001b[38;5;124m\"\u001b[39m\u001b[38;5;124myaml_file\u001b[39m\u001b[38;5;124m\"\u001b[39m \u001b[38;5;129;01min\u001b[39;00m data:\n",
      "File \u001b[1;32m~\\anaconda3\\Lib\\site-packages\\ultralytics\\data\\utils.py:454\u001b[0m, in \u001b[0;36mcheck_det_dataset\u001b[1;34m(dataset, autodownload)\u001b[0m\n\u001b[0;32m    453\u001b[0m     m \u001b[38;5;241m+\u001b[39m\u001b[38;5;241m=\u001b[39m \u001b[38;5;124mf\u001b[39m\u001b[38;5;124m\"\u001b[39m\u001b[38;5;130;01m\\n\u001b[39;00m\u001b[38;5;124mNote dataset download directory is \u001b[39m\u001b[38;5;124m'\u001b[39m\u001b[38;5;132;01m{\u001b[39;00mDATASETS_DIR\u001b[38;5;132;01m}\u001b[39;00m\u001b[38;5;124m'\u001b[39m\u001b[38;5;124m. You can update this in \u001b[39m\u001b[38;5;124m'\u001b[39m\u001b[38;5;132;01m{\u001b[39;00mSETTINGS_FILE\u001b[38;5;132;01m}\u001b[39;00m\u001b[38;5;124m'\u001b[39m\u001b[38;5;124m\"\u001b[39m\n\u001b[1;32m--> 454\u001b[0m     \u001b[38;5;28;01mraise\u001b[39;00m \u001b[38;5;167;01mFileNotFoundError\u001b[39;00m(m)\n\u001b[0;32m    455\u001b[0m t \u001b[38;5;241m=\u001b[39m time\u001b[38;5;241m.\u001b[39mtime()\n",
      "\u001b[1;31mFileNotFoundError\u001b[0m: Dataset 'Data/RockPaperScissors/new_data.yaml' images not found, missing path 'C:\\Users\\campus4D019\\Desktop\\Python\\datasets\\Data\\RockPaperScissors\\Data\\RockPaperScissors\\valid\\images'\nNote dataset download directory is 'C:\\Users\\campus4D019\\Desktop\\Python\\datasets'. You can update this in 'C:\\Users\\campus4D019\\AppData\\Roaming\\Ultralytics\\settings.json'",
      "\nThe above exception was the direct cause of the following exception:\n",
      "\u001b[1;31mRuntimeError\u001b[0m                              Traceback (most recent call last)",
      "Cell \u001b[1;32mIn[25], line 2\u001b[0m\n\u001b[0;32m      1\u001b[0m model \u001b[38;5;241m=\u001b[39m YOLO(\u001b[38;5;124m\"\u001b[39m\u001b[38;5;124myolo11n.pt\u001b[39m\u001b[38;5;124m\"\u001b[39m)\n\u001b[1;32m----> 2\u001b[0m model\u001b[38;5;241m.\u001b[39mtrain(data \u001b[38;5;241m=\u001b[39m \u001b[38;5;124m\"\u001b[39m\u001b[38;5;124mData/RockPaperScissors/new_data.yaml\u001b[39m\u001b[38;5;124m\"\u001b[39m,\n\u001b[0;32m      3\u001b[0m             epochs \u001b[38;5;241m=\u001b[39m \u001b[38;5;241m100\u001b[39m, patience \u001b[38;5;241m=\u001b[39m \u001b[38;5;241m5\u001b[39m, imgsz \u001b[38;5;241m=\u001b[39m \u001b[38;5;241m640\u001b[39m)\n",
      "File \u001b[1;32m~\\anaconda3\\Lib\\site-packages\\ultralytics\\engine\\model.py:787\u001b[0m, in \u001b[0;36mModel.train\u001b[1;34m(self, trainer, **kwargs)\u001b[0m\n\u001b[0;32m    784\u001b[0m \u001b[38;5;28;01mif\u001b[39;00m args\u001b[38;5;241m.\u001b[39mget(\u001b[38;5;124m\"\u001b[39m\u001b[38;5;124mresume\u001b[39m\u001b[38;5;124m\"\u001b[39m):\n\u001b[0;32m    785\u001b[0m     args[\u001b[38;5;124m\"\u001b[39m\u001b[38;5;124mresume\u001b[39m\u001b[38;5;124m\"\u001b[39m] \u001b[38;5;241m=\u001b[39m \u001b[38;5;28mself\u001b[39m\u001b[38;5;241m.\u001b[39mckpt_path\n\u001b[1;32m--> 787\u001b[0m \u001b[38;5;28mself\u001b[39m\u001b[38;5;241m.\u001b[39mtrainer \u001b[38;5;241m=\u001b[39m (trainer \u001b[38;5;129;01mor\u001b[39;00m \u001b[38;5;28mself\u001b[39m\u001b[38;5;241m.\u001b[39m_smart_load(\u001b[38;5;124m\"\u001b[39m\u001b[38;5;124mtrainer\u001b[39m\u001b[38;5;124m\"\u001b[39m))(overrides\u001b[38;5;241m=\u001b[39margs, _callbacks\u001b[38;5;241m=\u001b[39m\u001b[38;5;28mself\u001b[39m\u001b[38;5;241m.\u001b[39mcallbacks)\n\u001b[0;32m    788\u001b[0m \u001b[38;5;28;01mif\u001b[39;00m \u001b[38;5;129;01mnot\u001b[39;00m args\u001b[38;5;241m.\u001b[39mget(\u001b[38;5;124m\"\u001b[39m\u001b[38;5;124mresume\u001b[39m\u001b[38;5;124m\"\u001b[39m):  \u001b[38;5;66;03m# manually set model only if not resuming\u001b[39;00m\n\u001b[0;32m    789\u001b[0m     \u001b[38;5;28mself\u001b[39m\u001b[38;5;241m.\u001b[39mtrainer\u001b[38;5;241m.\u001b[39mmodel \u001b[38;5;241m=\u001b[39m \u001b[38;5;28mself\u001b[39m\u001b[38;5;241m.\u001b[39mtrainer\u001b[38;5;241m.\u001b[39mget_model(weights\u001b[38;5;241m=\u001b[39m\u001b[38;5;28mself\u001b[39m\u001b[38;5;241m.\u001b[39mmodel \u001b[38;5;28;01mif\u001b[39;00m \u001b[38;5;28mself\u001b[39m\u001b[38;5;241m.\u001b[39mckpt \u001b[38;5;28;01melse\u001b[39;00m \u001b[38;5;28;01mNone\u001b[39;00m, cfg\u001b[38;5;241m=\u001b[39m\u001b[38;5;28mself\u001b[39m\u001b[38;5;241m.\u001b[39mmodel\u001b[38;5;241m.\u001b[39myaml)\n",
      "File \u001b[1;32m~\\anaconda3\\Lib\\site-packages\\ultralytics\\engine\\trainer.py:137\u001b[0m, in \u001b[0;36mBaseTrainer.__init__\u001b[1;34m(self, cfg, overrides, _callbacks)\u001b[0m\n\u001b[0;32m    135\u001b[0m \u001b[38;5;28mself\u001b[39m\u001b[38;5;241m.\u001b[39mmodel \u001b[38;5;241m=\u001b[39m check_model_file_from_stem(\u001b[38;5;28mself\u001b[39m\u001b[38;5;241m.\u001b[39margs\u001b[38;5;241m.\u001b[39mmodel)  \u001b[38;5;66;03m# add suffix, i.e. yolo11n -> yolo11n.pt\u001b[39;00m\n\u001b[0;32m    136\u001b[0m \u001b[38;5;28;01mwith\u001b[39;00m torch_distributed_zero_first(LOCAL_RANK):  \u001b[38;5;66;03m# avoid auto-downloading dataset multiple times\u001b[39;00m\n\u001b[1;32m--> 137\u001b[0m     \u001b[38;5;28mself\u001b[39m\u001b[38;5;241m.\u001b[39mdata \u001b[38;5;241m=\u001b[39m \u001b[38;5;28mself\u001b[39m\u001b[38;5;241m.\u001b[39mget_dataset()\n\u001b[0;32m    139\u001b[0m \u001b[38;5;28mself\u001b[39m\u001b[38;5;241m.\u001b[39mema \u001b[38;5;241m=\u001b[39m \u001b[38;5;28;01mNone\u001b[39;00m\n\u001b[0;32m    141\u001b[0m \u001b[38;5;66;03m# Optimization utils init\u001b[39;00m\n",
      "File \u001b[1;32m~\\anaconda3\\Lib\\site-packages\\ultralytics\\engine\\trainer.py:591\u001b[0m, in \u001b[0;36mBaseTrainer.get_dataset\u001b[1;34m(self)\u001b[0m\n\u001b[0;32m    589\u001b[0m             \u001b[38;5;28mself\u001b[39m\u001b[38;5;241m.\u001b[39margs\u001b[38;5;241m.\u001b[39mdata \u001b[38;5;241m=\u001b[39m data[\u001b[38;5;124m\"\u001b[39m\u001b[38;5;124myaml_file\u001b[39m\u001b[38;5;124m\"\u001b[39m]  \u001b[38;5;66;03m# for validating 'yolo train data=url.zip' usage\u001b[39;00m\n\u001b[0;32m    590\u001b[0m \u001b[38;5;28;01mexcept\u001b[39;00m \u001b[38;5;167;01mException\u001b[39;00m \u001b[38;5;28;01mas\u001b[39;00m e:\n\u001b[1;32m--> 591\u001b[0m     \u001b[38;5;28;01mraise\u001b[39;00m \u001b[38;5;167;01mRuntimeError\u001b[39;00m(emojis(\u001b[38;5;124mf\u001b[39m\u001b[38;5;124m\"\u001b[39m\u001b[38;5;124mDataset \u001b[39m\u001b[38;5;124m'\u001b[39m\u001b[38;5;132;01m{\u001b[39;00mclean_url(\u001b[38;5;28mself\u001b[39m\u001b[38;5;241m.\u001b[39margs\u001b[38;5;241m.\u001b[39mdata)\u001b[38;5;132;01m}\u001b[39;00m\u001b[38;5;124m'\u001b[39m\u001b[38;5;124m error ❌ \u001b[39m\u001b[38;5;132;01m{\u001b[39;00me\u001b[38;5;132;01m}\u001b[39;00m\u001b[38;5;124m\"\u001b[39m)) \u001b[38;5;28;01mfrom\u001b[39;00m \u001b[38;5;21;01me\u001b[39;00m\n\u001b[0;32m    592\u001b[0m \u001b[38;5;28;01mif\u001b[39;00m \u001b[38;5;28mself\u001b[39m\u001b[38;5;241m.\u001b[39margs\u001b[38;5;241m.\u001b[39msingle_cls:\n\u001b[0;32m    593\u001b[0m     LOGGER\u001b[38;5;241m.\u001b[39minfo(\u001b[38;5;124m\"\u001b[39m\u001b[38;5;124mOverriding class names with single class.\u001b[39m\u001b[38;5;124m\"\u001b[39m)\n",
      "\u001b[1;31mRuntimeError\u001b[0m: Dataset 'Data/RockPaperScissors/new_data.yaml' error  Dataset 'Data/RockPaperScissors/new_data.yaml' images not found, missing path 'C:\\Users\\campus4D019\\Desktop\\Python\\datasets\\Data\\RockPaperScissors\\Data\\RockPaperScissors\\valid\\images'\nNote dataset download directory is 'C:\\Users\\campus4D019\\Desktop\\Python\\datasets'. You can update this in 'C:\\Users\\campus4D019\\AppData\\Roaming\\Ultralytics\\settings.json'"
     ]
    }
   ],
   "source": [
    "model = YOLO(\"yolo11n.pt\")\n",
    "model.train(data = \"Data/RockPaperScissors/new_data.yaml\",\n",
    "            epochs = 100, patience = 5, imgsz = 640)  \n",
    "        # 몇번학습할지, 학습시 몇번 참을건지, 이미지 사이즈"
   ]
  },
  {
   "cell_type": "code",
   "execution_count": 26,
   "id": "b6e5d8f9-cdc5-41ed-87f6-316b8c825edb",
   "metadata": {
    "scrolled": true
   },
   "outputs": [
    {
     "name": "stdout",
     "output_type": "stream",
     "text": [
      "\n",
      "image 1/304 C:\\Users\\campus4D019\\Desktop\\Python\\Data\\RockPaperScissors\\test\\images\\10e0gvm_jpg.rf.3b68a834fab647f30a57fc3ea92d4cd2.jpg: 640x640 (no detections), 122.3ms\n",
      "image 2/304 C:\\Users\\campus4D019\\Desktop\\Python\\Data\\RockPaperScissors\\test\\images\\15208484cellblock_jpg.rf.95cbda1e169a66105fbf2aa22959a73b.jpg: 640x640 (no detections), 101.4ms\n",
      "image 3/304 C:\\Users\\campus4D019\\Desktop\\Python\\Data\\RockPaperScissors\\test\\images\\19171_298_298_1_0_jpg.rf.0024dfb25d7b5a13a78e94fca47ef004.jpg: 640x640 1 person, 2 chairs, 114.2ms\n",
      "image 4/304 C:\\Users\\campus4D019\\Desktop\\Python\\Data\\RockPaperScissors\\test\\images\\20061004021831_jpg.rf.8667d8aa5599deb901289c024eed4313.jpg: 640x640 15 chairs, 3 dining tables, 91.9ms\n",
      "image 5/304 C:\\Users\\campus4D019\\Desktop\\Python\\Data\\RockPaperScissors\\test\\images\\20220216_221550_jpg.rf.02a071a383151953fcf8671fc7fca3af.jpg: 640x640 1 person, 1 tv, 86.6ms\n",
      "image 6/304 C:\\Users\\campus4D019\\Desktop\\Python\\Data\\RockPaperScissors\\test\\images\\20220216_221819_jpg.rf.295ebb583293f91f74e1700f0ab0639a.jpg: 640x640 1 person, 1 cup, 1 chair, 93.9ms\n",
      "image 7/304 C:\\Users\\campus4D019\\Desktop\\Python\\Data\\RockPaperScissors\\test\\images\\20220216_221856_jpg.rf.c551cb3856f480cba36d6aa58e3300cd.jpg: 640x640 1 person, 92.9ms\n",
      "image 8/304 C:\\Users\\campus4D019\\Desktop\\Python\\Data\\RockPaperScissors\\test\\images\\20220216_222153_jpg.rf.a2bd5f6dd7833d67c9cb2e1d9ca298cc.jpg: 640x640 1 person, 93.5ms\n",
      "image 9/304 C:\\Users\\campus4D019\\Desktop\\Python\\Data\\RockPaperScissors\\test\\images\\20220216_222607_jpg.rf.2d3554cdf3b954df7e481bf1b22a1e47.jpg: 640x640 1 person, 106.2ms\n",
      "image 10/304 C:\\Users\\campus4D019\\Desktop\\Python\\Data\\RockPaperScissors\\test\\images\\CARDS_LIVINGROOM_B_T_frame_0124_jpg.rf.9950e0cf7efb81973a65899429e2d42c.jpg: 640x640 1 person, 1 tie, 1 dining table, 105.5ms\n",
      "image 11/304 C:\\Users\\campus4D019\\Desktop\\Python\\Data\\RockPaperScissors\\test\\images\\CARDS_OFFICE_S_B_frame_0057_jpg.rf.63d2ab9abbc8a04ca7731f44722ef94e.jpg: 640x640 1 person, 1 cell phone, 111.6ms\n",
      "image 12/304 C:\\Users\\campus4D019\\Desktop\\Python\\Data\\RockPaperScissors\\test\\images\\CARDS_OFFICE_T_H_frame_0223_jpg.rf.3a4ae068939baaf6572c3ef4b88b4969.jpg: 640x640 1 person, 1 knife, 1 chair, 89.7ms\n",
      "image 13/304 C:\\Users\\campus4D019\\Desktop\\Python\\Data\\RockPaperScissors\\test\\images\\CHESS_COURTYARD_B_T_frame_1110_jpg.rf.7ea7ef51dbcf36a70d5df4d38f81a8c4.jpg: 640x640 1 person, 1 baseball bat, 97.5ms\n",
      "image 14/304 C:\\Users\\campus4D019\\Desktop\\Python\\Data\\RockPaperScissors\\test\\images\\CHESS_OFFICE_S_B_frame_1971_jpg.rf.a5a3eecbd23b190bc2a8a490f5a759cf.jpg: 640x640 3 persons, 1 cake, 120.2ms\n",
      "image 15/304 C:\\Users\\campus4D019\\Desktop\\Python\\Data\\RockPaperScissors\\test\\images\\ComfortSuites_MEETINGM_jpg.rf.7df474edf604511bd9e2c941b5b488d9.jpg: 640x640 4 wine glasss, 2 knifes, 15 chairs, 2 potted plants, 7 dining tables, 1 vase, 124.0ms\n",
      "image 16/304 C:\\Users\\campus4D019\\Desktop\\Python\\Data\\RockPaperScissors\\test\\images\\Cool-Video-of-Ocean-Fish-Swimming_mp4-16_jpg.rf.3384a3151cadacb3612efe53b8cac2aa.jpg: 640x640 (no detections), 113.3ms\n",
      "image 17/304 C:\\Users\\campus4D019\\Desktop\\Python\\Data\\RockPaperScissors\\test\\images\\Cool-Video-of-Ocean-Fish-Swimming_mp4-18_jpg.rf.1d10e523f1e57a1418ddb9b104a99c82.jpg: 640x640 1 banana, 103.3ms\n",
      "image 18/304 C:\\Users\\campus4D019\\Desktop\\Python\\Data\\RockPaperScissors\\test\\images\\Cool-Video-of-Ocean-Fish-Swimming_mp4-4_jpg.rf.24c9b38caee8612c879e110396cbe2ff.jpg: 640x640 1 bird, 132.7ms\n",
      "image 19/304 C:\\Users\\campus4D019\\Desktop\\Python\\Data\\RockPaperScissors\\test\\images\\IMG-2728_JPG_jpg.rf.23ac958eb0ec053b18e971bbf460fadb.jpg: 640x640 1 bench, 95.9ms\n",
      "image 20/304 C:\\Users\\campus4D019\\Desktop\\Python\\Data\\RockPaperScissors\\test\\images\\IMG_5567_mp4-108_jpg.rf.2271a32fd2956bb7be9c2f53eeb7e5f6.jpg: 640x640 1 person, 1 bowl, 82.5ms\n",
      "image 21/304 C:\\Users\\campus4D019\\Desktop\\Python\\Data\\RockPaperScissors\\test\\images\\IMG_5567_mp4-119_jpg.rf.2f38334928cd4739e1bc77f07c696546.jpg: 640x640 1 person, 1 pizza, 1 mouse, 101.1ms\n",
      "image 22/304 C:\\Users\\campus4D019\\Desktop\\Python\\Data\\RockPaperScissors\\test\\images\\IMG_5567_mp4-122_jpg.rf.0e2628bd614df82765fce9324fe3a58c.jpg: 640x640 1 bowl, 1 pizza, 1 mouse, 97.0ms\n",
      "image 23/304 C:\\Users\\campus4D019\\Desktop\\Python\\Data\\RockPaperScissors\\test\\images\\IMG_5567_mp4-134_jpg.rf.963da6ff86ed50acb07b6c2ae70e32b1.jpg: 640x640 1 person, 97.3ms\n",
      "image 24/304 C:\\Users\\campus4D019\\Desktop\\Python\\Data\\RockPaperScissors\\test\\images\\IMG_5567_mp4-148_jpg.rf.114bb58b3a26f84baec9d8f32bc9604e.jpg: 640x640 1 person, 1 bowl, 99.5ms\n",
      "image 25/304 C:\\Users\\campus4D019\\Desktop\\Python\\Data\\RockPaperScissors\\test\\images\\IMG_5567_mp4-151_jpg.rf.7907a251976a32625438278b9380e2cb.jpg: 640x640 1 person, 1 bowl, 87.5ms\n",
      "image 26/304 C:\\Users\\campus4D019\\Desktop\\Python\\Data\\RockPaperScissors\\test\\images\\IMG_5567_mp4-155_jpg.rf.b25e6e8a7bc0bd23dfe68e8200b2b971.jpg: 640x640 1 bowl, 96.8ms\n",
      "image 27/304 C:\\Users\\campus4D019\\Desktop\\Python\\Data\\RockPaperScissors\\test\\images\\IMG_5567_mp4-160_jpg.rf.dac9f07b7d5b970ba5c39ae832b8ecf4.jpg: 640x640 1 person, 98.1ms\n",
      "image 28/304 C:\\Users\\campus4D019\\Desktop\\Python\\Data\\RockPaperScissors\\test\\images\\IMG_5567_mp4-166_jpg.rf.8a46fe3296e8b49c846022f3f610e5bb.jpg: 640x640 1 person, 108.0ms\n",
      "image 29/304 C:\\Users\\campus4D019\\Desktop\\Python\\Data\\RockPaperScissors\\test\\images\\IMG_5567_mp4-16_jpg.rf.d32a3cb377e3bc260a0a841e47831a4a.jpg: 640x640 1 person, 88.0ms\n",
      "image 30/304 C:\\Users\\campus4D019\\Desktop\\Python\\Data\\RockPaperScissors\\test\\images\\IMG_5567_mp4-171_jpg.rf.5523c97f48e74fe1431c1f01be79265b.jpg: 640x640 1 person, 113.3ms\n",
      "image 31/304 C:\\Users\\campus4D019\\Desktop\\Python\\Data\\RockPaperScissors\\test\\images\\IMG_5567_mp4-183_jpg.rf.92060b56a1cba3db884f4f8b220f87df.jpg: 640x640 1 pizza, 1 potted plant, 1 mouse, 120.5ms\n",
      "image 32/304 C:\\Users\\campus4D019\\Desktop\\Python\\Data\\RockPaperScissors\\test\\images\\IMG_5567_mp4-1_jpg.rf.3e33ee3bf73d16e37b19506db8a1d100.jpg: 640x640 (no detections), 103.3ms\n",
      "image 33/304 C:\\Users\\campus4D019\\Desktop\\Python\\Data\\RockPaperScissors\\test\\images\\IMG_5567_mp4-24_jpg.rf.ee8c385fc11d4bf2f85267e0d680b0d9.jpg: 640x640 1 person, 1 donut, 1 clock, 113.4ms\n",
      "image 34/304 C:\\Users\\campus4D019\\Desktop\\Python\\Data\\RockPaperScissors\\test\\images\\IMG_5567_mp4-47_jpg.rf.61520fe3d72cefd48583258e645419bc.jpg: 640x640 1 bowl, 1 pizza, 114.1ms\n",
      "image 35/304 C:\\Users\\campus4D019\\Desktop\\Python\\Data\\RockPaperScissors\\test\\images\\IMG_5567_mp4-56_jpg.rf.7271d3b836d6215c40224f5bf5a8ad61.jpg: 640x640 1 person, 115.0ms\n",
      "image 36/304 C:\\Users\\campus4D019\\Desktop\\Python\\Data\\RockPaperScissors\\test\\images\\IMG_5567_mp4-58_jpg.rf.c801fb264502df84d2a0a7582584a113.jpg: 640x640 1 person, 127.8ms\n",
      "image 37/304 C:\\Users\\campus4D019\\Desktop\\Python\\Data\\RockPaperScissors\\test\\images\\IMG_5567_mp4-64_jpg.rf.d852ee0cc2066350d9598d82be866e7c.jpg: 640x640 1 person, 1 bowl, 118.4ms\n",
      "image 38/304 C:\\Users\\campus4D019\\Desktop\\Python\\Data\\RockPaperScissors\\test\\images\\IMG_5567_mp4-78_jpg.rf.2e4bf0323dda4f836bb5cb47157fcf71.jpg: 640x640 1 person, 103.3ms\n",
      "image 39/304 C:\\Users\\campus4D019\\Desktop\\Python\\Data\\RockPaperScissors\\test\\images\\IMG_5567_mp4-80_jpg.rf.66d407bba2be74696d891711bcd1d8c9.jpg: 640x640 1 person, 1 bowl, 119.5ms\n",
      "image 40/304 C:\\Users\\campus4D019\\Desktop\\Python\\Data\\RockPaperScissors\\test\\images\\IMG_5567_mp4-98_jpg.rf.072da12c4f193d065889c22751c5317c.jpg: 640x640 1 pizza, 1 mouse, 102.1ms\n",
      "image 41/304 C:\\Users\\campus4D019\\Desktop\\Python\\Data\\RockPaperScissors\\test\\images\\IMG_5636_MOV-17_jpg.rf.991f22663e48d08941126326b01eb058.jpg: 640x640 1 person, 1 toothbrush, 102.8ms\n",
      "image 42/304 C:\\Users\\campus4D019\\Desktop\\Python\\Data\\RockPaperScissors\\test\\images\\IMG_5636_MOV-31_jpg.rf.372f95db69cc8886d4d02032d4ebf34e.jpg: 640x640 1 person, 1 bicycle, 98.4ms\n",
      "image 43/304 C:\\Users\\campus4D019\\Desktop\\Python\\Data\\RockPaperScissors\\test\\images\\IMG_5636_MOV-32_jpg.rf.dce699cdb84ff3b641f7d7a6a201fb7f.jpg: 640x640 1 person, 121.3ms\n",
      "image 44/304 C:\\Users\\campus4D019\\Desktop\\Python\\Data\\RockPaperScissors\\test\\images\\IMG_5636_MOV-35_jpg.rf.d245cd780f83277f25726d00c42299ab.jpg: 640x640 1 person, 127.9ms\n",
      "image 45/304 C:\\Users\\campus4D019\\Desktop\\Python\\Data\\RockPaperScissors\\test\\images\\IMG_5636_MOV-38_jpg.rf.d7be4af05520f529b708f49fd21b5dc7.jpg: 640x640 1 person, 118.0ms\n",
      "image 46/304 C:\\Users\\campus4D019\\Desktop\\Python\\Data\\RockPaperScissors\\test\\images\\IMG_5636_MOV-3_jpg.rf.d455956a1f5c5ab84ffa1f28fa36ff65.jpg: 640x640 1 person, 105.6ms\n",
      "image 47/304 C:\\Users\\campus4D019\\Desktop\\Python\\Data\\RockPaperScissors\\test\\images\\IMG_5636_MOV-40_jpg.rf.3b0f4c04864723de576c09017e995293.jpg: 640x640 1 person, 99.6ms\n",
      "image 48/304 C:\\Users\\campus4D019\\Desktop\\Python\\Data\\RockPaperScissors\\test\\images\\IMG_5636_MOV-55_jpg.rf.a75be1f09855b68db30ab5335ec7125b.jpg: 640x640 1 person, 131.3ms\n",
      "image 49/304 C:\\Users\\campus4D019\\Desktop\\Python\\Data\\RockPaperScissors\\test\\images\\IMG_5636_MOV-80_jpg.rf.57a447e1f1e3a5d994eb882d9dc1172d.jpg: 640x640 1 person, 110.1ms\n",
      "image 50/304 C:\\Users\\campus4D019\\Desktop\\Python\\Data\\RockPaperScissors\\test\\images\\IMG_7043_MOV-107_jpg.rf.b19f7859f30f08a85fdd015b594e750d.jpg: 640x640 (no detections), 106.6ms\n",
      "image 51/304 C:\\Users\\campus4D019\\Desktop\\Python\\Data\\RockPaperScissors\\test\\images\\IMG_7043_MOV-112_jpg.rf.5fa1355476dfc949a08c471fe3394e11.jpg: 640x640 1 bird, 1 banana, 115.7ms\n",
      "image 52/304 C:\\Users\\campus4D019\\Desktop\\Python\\Data\\RockPaperScissors\\test\\images\\IMG_7043_MOV-139_jpg.rf.b6b23a62277aa37ccc59065c897979a5.jpg: 640x640 1 dog, 1 donut, 101.1ms\n",
      "image 53/304 C:\\Users\\campus4D019\\Desktop\\Python\\Data\\RockPaperScissors\\test\\images\\IMG_7043_MOV-13_jpg.rf.357623d0c7642153a6890a9650ce4e3e.jpg: 640x640 1 person, 93.0ms\n",
      "image 54/304 C:\\Users\\campus4D019\\Desktop\\Python\\Data\\RockPaperScissors\\test\\images\\IMG_7043_MOV-144_jpg.rf.a51a81239b9089ad1abd207a1a62e83d.jpg: 640x640 (no detections), 107.8ms\n",
      "image 55/304 C:\\Users\\campus4D019\\Desktop\\Python\\Data\\RockPaperScissors\\test\\images\\IMG_7043_MOV-145_jpg.rf.09cecb6ca13b48599674708861f9e47a.jpg: 640x640 (no detections), 93.8ms\n",
      "image 56/304 C:\\Users\\campus4D019\\Desktop\\Python\\Data\\RockPaperScissors\\test\\images\\IMG_7043_MOV-157_jpg.rf.30eede3e63f2f4b0584c162a0bc96ec0.jpg: 640x640 2 persons, 111.5ms\n",
      "image 57/304 C:\\Users\\campus4D019\\Desktop\\Python\\Data\\RockPaperScissors\\test\\images\\IMG_7043_MOV-15_jpg.rf.273d7dca247d2d3ba88e5cce4545163d.jpg: 640x640 1 scissors, 106.6ms\n",
      "image 58/304 C:\\Users\\campus4D019\\Desktop\\Python\\Data\\RockPaperScissors\\test\\images\\IMG_7043_MOV-169_jpg.rf.cd49bbf1ad18b370a058c427a463989a.jpg: 640x640 (no detections), 124.1ms\n",
      "image 59/304 C:\\Users\\campus4D019\\Desktop\\Python\\Data\\RockPaperScissors\\test\\images\\IMG_7043_MOV-16_jpg.rf.3966bc9b069fd8ef804967f4e5135eaf.jpg: 640x640 1 airplane, 1 scissors, 110.5ms\n",
      "image 60/304 C:\\Users\\campus4D019\\Desktop\\Python\\Data\\RockPaperScissors\\test\\images\\IMG_7043_MOV-177_jpg.rf.eb554844ab1f6aca4a93b965884e813b.jpg: 640x640 1 dog, 1 banana, 120.6ms\n",
      "image 61/304 C:\\Users\\campus4D019\\Desktop\\Python\\Data\\RockPaperScissors\\test\\images\\IMG_7043_MOV-17_jpg.rf.ea3da5a3a11b96609abf166ab74ef448.jpg: 640x640 1 scissors, 120.9ms\n",
      "image 62/304 C:\\Users\\campus4D019\\Desktop\\Python\\Data\\RockPaperScissors\\test\\images\\IMG_7043_MOV-184_jpg.rf.c889bfea24b933061fe8b3e17669829f.jpg: 640x640 1 person, 100.2ms\n",
      "image 63/304 C:\\Users\\campus4D019\\Desktop\\Python\\Data\\RockPaperScissors\\test\\images\\IMG_7043_MOV-18_jpg.rf.a49776cf1eaf613d8f852b143e85caec.jpg: 640x640 1 scissors, 113.2ms\n",
      "image 64/304 C:\\Users\\campus4D019\\Desktop\\Python\\Data\\RockPaperScissors\\test\\images\\IMG_7043_MOV-195_jpg.rf.f1995411308ce3dd103b615cd693295a.jpg: 640x640 1 person, 1 scissors, 109.2ms\n",
      "image 65/304 C:\\Users\\campus4D019\\Desktop\\Python\\Data\\RockPaperScissors\\test\\images\\IMG_7043_MOV-1_jpg.rf.3998de532d2e00e2f0a97fd552b338e6.jpg: 640x640 (no detections), 98.7ms\n",
      "image 66/304 C:\\Users\\campus4D019\\Desktop\\Python\\Data\\RockPaperScissors\\test\\images\\IMG_7043_MOV-26_jpg.rf.3d787069141cab2904f954aa22fe94c0.jpg: 640x640 1 dog, 92.0ms\n",
      "image 67/304 C:\\Users\\campus4D019\\Desktop\\Python\\Data\\RockPaperScissors\\test\\images\\IMG_7043_MOV-61_jpg.rf.2d21ad90e68a1e815569828f8fc42b83.jpg: 640x640 (no detections), 114.5ms\n",
      "image 68/304 C:\\Users\\campus4D019\\Desktop\\Python\\Data\\RockPaperScissors\\test\\images\\IMG_7043_MOV-66_jpg.rf.df85eb36076d3c01f38c67d2e791dcaa.jpg: 640x640 (no detections), 89.1ms\n",
      "image 69/304 C:\\Users\\campus4D019\\Desktop\\Python\\Data\\RockPaperScissors\\test\\images\\IMG_7043_MOV-67_jpg.rf.673c5564dd7d387c67502e0b3e9a9ab6.jpg: 640x640 (no detections), 81.7ms\n",
      "image 70/304 C:\\Users\\campus4D019\\Desktop\\Python\\Data\\RockPaperScissors\\test\\images\\IMG_7043_MOV-84_jpg.rf.20901886485a1aa1b9a1f0bcd2a28f3c.jpg: 640x640 1 person, 98.4ms\n",
      "image 71/304 C:\\Users\\campus4D019\\Desktop\\Python\\Data\\RockPaperScissors\\test\\images\\IMG_7043_MOV-96_jpg.rf.45c29c1b7497e8dd1cadf768dee741d6.jpg: 640x640 1 person, 1 dog, 86.4ms\n",
      "image 72/304 C:\\Users\\campus4D019\\Desktop\\Python\\Data\\RockPaperScissors\\test\\images\\IMG_7077_MOV-106_jpg.rf.70485649471c0d185b71d8061224b4b6.jpg: 640x640 2 persons, 1 bottle, 1 tv, 1 scissors, 105.9ms\n",
      "image 73/304 C:\\Users\\campus4D019\\Desktop\\Python\\Data\\RockPaperScissors\\test\\images\\IMG_7077_MOV-131_jpg.rf.1c654bd706a1474c95b2d083cb7e497c.jpg: 640x640 2 persons, 2 bottles, 1 tv, 92.7ms\n",
      "image 74/304 C:\\Users\\campus4D019\\Desktop\\Python\\Data\\RockPaperScissors\\test\\images\\IMG_7077_MOV-132_jpg.rf.be6fd09da23c5e648a8db251f5f7f8ca.jpg: 640x640 3 persons, 1 bottle, 2 tvs, 108.0ms\n",
      "image 75/304 C:\\Users\\campus4D019\\Desktop\\Python\\Data\\RockPaperScissors\\test\\images\\IMG_7077_MOV-140_jpg.rf.ee1490b6ffd301843b9e0a8fe986e13a.jpg: 640x640 2 persons, 1 tv, 119.0ms\n",
      "image 76/304 C:\\Users\\campus4D019\\Desktop\\Python\\Data\\RockPaperScissors\\test\\images\\IMG_7077_MOV-142_jpg.rf.43130fe62324f92a8bad3e53833d11f5.jpg: 640x640 2 persons, 1 tv, 104.5ms\n",
      "image 77/304 C:\\Users\\campus4D019\\Desktop\\Python\\Data\\RockPaperScissors\\test\\images\\IMG_7077_MOV-147_jpg.rf.baeda945c38560b08c98dcfbca11a513.jpg: 640x640 2 persons, 1 tv, 108.2ms\n",
      "image 78/304 C:\\Users\\campus4D019\\Desktop\\Python\\Data\\RockPaperScissors\\test\\images\\IMG_7077_MOV-19_jpg.rf.bc707fa7baf2981dd6b2cf4a68613fc8.jpg: 640x640 2 persons, 1 bird, 1 tv, 1 laptop, 104.7ms\n",
      "image 79/304 C:\\Users\\campus4D019\\Desktop\\Python\\Data\\RockPaperScissors\\test\\images\\IMG_7077_MOV-20_jpg.rf.5691c9cc997ed097c4e95215ad6426de.jpg: 640x640 2 persons, 1 tv, 114.6ms\n",
      "image 80/304 C:\\Users\\campus4D019\\Desktop\\Python\\Data\\RockPaperScissors\\test\\images\\IMG_7077_MOV-32_jpg.rf.91d74f5f9c24078b4a2e6aa852c43c2f.jpg: 640x640 2 persons, 1 airplane, 1 bottle, 1 tv, 97.4ms\n",
      "image 81/304 C:\\Users\\campus4D019\\Desktop\\Python\\Data\\RockPaperScissors\\test\\images\\IMG_7077_MOV-33_jpg.rf.cd465196b51e6ae745aa5eb93200382b.jpg: 640x640 2 persons, 1 airplane, 2 bottles, 1 tv, 98.9ms\n",
      "image 82/304 C:\\Users\\campus4D019\\Desktop\\Python\\Data\\RockPaperScissors\\test\\images\\IMG_7077_MOV-7_jpg.rf.b0eb4230274c3b51407b9c1034629203.jpg: 640x640 2 persons, 1 bird, 1 tv, 100.8ms\n",
      "image 83/304 C:\\Users\\campus4D019\\Desktop\\Python\\Data\\RockPaperScissors\\test\\images\\IMG_7079_MOV-122_jpg.rf.68d18b962dadd557ab3f4c88fc3ada9d.jpg: 640x640 1 person, 109.9ms\n",
      "image 84/304 C:\\Users\\campus4D019\\Desktop\\Python\\Data\\RockPaperScissors\\test\\images\\IMG_7079_MOV-124_jpg.rf.7c1dd5883f4883684e97c8c50a71603f.jpg: 640x640 1 person, 116.9ms\n",
      "image 85/304 C:\\Users\\campus4D019\\Desktop\\Python\\Data\\RockPaperScissors\\test\\images\\IMG_7079_MOV-137_jpg.rf.67ffd0c756d7f2e22a5f15dd5d3120ff.jpg: 640x640 1 person, 99.1ms\n",
      "image 86/304 C:\\Users\\campus4D019\\Desktop\\Python\\Data\\RockPaperScissors\\test\\images\\IMG_7079_MOV-149_jpg.rf.3449e202f62c165ceabe8f868a60dec2.jpg: 640x640 1 person, 102.6ms\n",
      "image 87/304 C:\\Users\\campus4D019\\Desktop\\Python\\Data\\RockPaperScissors\\test\\images\\IMG_7079_MOV-20_jpg.rf.e3993679769f543db8bbe74fe9afc903.jpg: 640x640 1 person, 117.5ms\n",
      "image 88/304 C:\\Users\\campus4D019\\Desktop\\Python\\Data\\RockPaperScissors\\test\\images\\IMG_7079_MOV-23_jpg.rf.123a8de8c8da646e4a25f1cedcd4c71c.jpg: 640x640 1 person, 90.1ms\n",
      "image 89/304 C:\\Users\\campus4D019\\Desktop\\Python\\Data\\RockPaperScissors\\test\\images\\IMG_7079_MOV-40_jpg.rf.7efb1b91025be3decb78d5c0b9c705de.jpg: 640x640 1 person, 84.6ms\n",
      "image 90/304 C:\\Users\\campus4D019\\Desktop\\Python\\Data\\RockPaperScissors\\test\\images\\IMG_7079_MOV-52_jpg.rf.38a4c13e463fd2bec504bd496f0f3e56.jpg: 640x640 1 person, 92.4ms\n",
      "image 91/304 C:\\Users\\campus4D019\\Desktop\\Python\\Data\\RockPaperScissors\\test\\images\\IMG_7079_MOV-55_jpg.rf.6cc0b375cd6b10947909d8fcd139c20f.jpg: 640x640 1 person, 120.2ms\n",
      "image 92/304 C:\\Users\\campus4D019\\Desktop\\Python\\Data\\RockPaperScissors\\test\\images\\IMG_7079_MOV-65_jpg.rf.b3f9a7e4bdfce282cdae7ccaacd65661.jpg: 640x640 1 person, 101.4ms\n",
      "image 93/304 C:\\Users\\campus4D019\\Desktop\\Python\\Data\\RockPaperScissors\\test\\images\\JENGA_COURTYARD_S_T_frame_0229_jpg.rf.6af0b06195b3c6dd5ab03311c5f0a53e.jpg: 640x640 3 persons, 1 baseball bat, 88.8ms\n",
      "image 94/304 C:\\Users\\campus4D019\\Desktop\\Python\\Data\\RockPaperScissors\\test\\images\\JENGA_OFFICE_B_S_frame_1353_jpg.rf.aa252c3f825f07d3bbf9d23d13847256.jpg: 640x640 2 persons, 1 knife, 90.1ms\n",
      "image 95/304 C:\\Users\\campus4D019\\Desktop\\Python\\Data\\RockPaperScissors\\test\\images\\JENGA_OFFICE_S_B_frame_1667_jpg.rf.7c1c0a4a7e13a81ff6056f0925816698.jpg: 640x640 1 person, 80.7ms\n",
      "image 96/304 C:\\Users\\campus4D019\\Desktop\\Python\\Data\\RockPaperScissors\\test\\images\\JWitt-RCP_mp4-17_jpg.rf.d14af488785ef93da8c4be30c5f1dedf.jpg: 640x640 1 person, 102.7ms\n",
      "image 97/304 C:\\Users\\campus4D019\\Desktop\\Python\\Data\\RockPaperScissors\\test\\images\\JWitt-RCP_mp4-18_jpg.rf.d054523013f5920bc8feed994cea2c85.jpg: 640x640 1 person, 101.5ms\n",
      "image 98/304 C:\\Users\\campus4D019\\Desktop\\Python\\Data\\RockPaperScissors\\test\\images\\JWitt-RCP_mp4-24_jpg.rf.aff5e1e18f0242e9fba1d1a7cd9c39bf.jpg: 640x640 1 couch, 1 bed, 1 book, 105.0ms\n",
      "image 99/304 C:\\Users\\campus4D019\\Desktop\\Python\\Data\\RockPaperScissors\\test\\images\\JWitt-RCP_mp4-2_jpg.rf.08f34c86631e096235a52c67a997e211.jpg: 640x640 (no detections), 113.4ms\n",
      "image 100/304 C:\\Users\\campus4D019\\Desktop\\Python\\Data\\RockPaperScissors\\test\\images\\JWitt-RCP_mp4-38_jpg.rf.d7ad5422c90321f53ccda0a2c3acf343.jpg: 640x640 1 person, 1 bed, 114.7ms\n",
      "image 101/304 C:\\Users\\campus4D019\\Desktop\\Python\\Data\\RockPaperScissors\\test\\images\\JWitt-RCP_mp4-41_jpg.rf.373530a2e9ad204d31526843b5cf95b2.jpg: 640x640 1 person, 1 bed, 107.5ms\n",
      "image 102/304 C:\\Users\\campus4D019\\Desktop\\Python\\Data\\RockPaperScissors\\test\\images\\JWitt-RCP_mp4-60_jpg.rf.0b87e172f5828cb369eef54dbf0158b9.jpg: 640x640 1 person, 1 bed, 109.6ms\n",
      "image 103/304 C:\\Users\\campus4D019\\Desktop\\Python\\Data\\RockPaperScissors\\test\\images\\JWitt-RCP_mp4-64_jpg.rf.184e0e828afeedb2c24813832d12639b.jpg: 640x640 1 person, 1 bed, 107.2ms\n",
      "image 104/304 C:\\Users\\campus4D019\\Desktop\\Python\\Data\\RockPaperScissors\\test\\images\\JWitt-RCP_mp4-70_jpg.rf.ca4e316be45a5d970af916489368e33a.jpg: 640x640 1 person, 94.2ms\n",
      "image 105/304 C:\\Users\\campus4D019\\Desktop\\Python\\Data\\RockPaperScissors\\test\\images\\JWitt-RCP_mp4-72_jpg.rf.6876d0f549782db43a9222b79b387f9a.jpg: 640x640 2 persons, 110.6ms\n",
      "image 106/304 C:\\Users\\campus4D019\\Desktop\\Python\\Data\\RockPaperScissors\\test\\images\\JWitt-RCP_mp4-92_jpg.rf.e76184a6543c9899e452bee9788d493e.jpg: 640x640 2 persons, 117.6ms\n",
      "image 107/304 C:\\Users\\campus4D019\\Desktop\\Python\\Data\\RockPaperScissors\\test\\images\\PUZZLE_OFFICE_T_S_frame_2187_jpg.rf.4329d3c38449092210d0ab6755c9ee14.jpg: 640x640 2 persons, 128.7ms\n",
      "image 108/304 C:\\Users\\campus4D019\\Desktop\\Python\\Data\\RockPaperScissors\\test\\images\\Photo-on-2-16-22-at-10-19-AM-6_jpg.rf.c27e1ad3b402ec9d02f695cb0c1afe28.jpg: 640x640 1 person, 1 clock, 109.5ms\n",
      "image 109/304 C:\\Users\\campus4D019\\Desktop\\Python\\Data\\RockPaperScissors\\test\\images\\Photo-on-2-16-22-at-10-20-AM-16_jpg.rf.77e43b8cc06d204239d719afc63ae511.jpg: 640x640 1 person, 1 bottle, 1 clock, 119.7ms\n",
      "image 110/304 C:\\Users\\campus4D019\\Desktop\\Python\\Data\\RockPaperScissors\\test\\images\\Photo-on-2-16-22-at-10-20-AM-7_jpg.rf.04c02e8a8898821f6a8e1b3c12192c15.jpg: 640x640 1 person, 1 clock, 113.9ms\n",
      "image 111/304 C:\\Users\\campus4D019\\Desktop\\Python\\Data\\RockPaperScissors\\test\\images\\Photo-on-2-16-22-at-10-20-AM-8_jpg.rf.4ca8cca39999846857087afdf6cbf6cb.jpg: 640x640 1 person, 1 clock, 123.8ms\n",
      "image 112/304 C:\\Users\\campus4D019\\Desktop\\Python\\Data\\RockPaperScissors\\test\\images\\Screen-Recording-2023-03-11-at-9_48_18-PM_mov-113_jpg.rf.9cb9fce04dc260d13687702cebfd4b65.jpg: 640x640 1 person, 126.8ms\n",
      "image 113/304 C:\\Users\\campus4D019\\Desktop\\Python\\Data\\RockPaperScissors\\test\\images\\Screen-Recording-2023-03-11-at-9_48_18-PM_mov-117_jpg.rf.d56b63383b0bcf3d081960cfcf5039bb.jpg: 640x640 3 persons, 1 bottle, 1 chair, 1 refrigerator, 105.6ms\n",
      "image 114/304 C:\\Users\\campus4D019\\Desktop\\Python\\Data\\RockPaperScissors\\test\\images\\Screen-Recording-2023-03-11-at-9_48_18-PM_mov-118_jpg.rf.9f270623fc82abbad06d6dfb83f212c0.jpg: 640x640 2 persons, 1 bottle, 2 chairs, 1 tv, 1 refrigerator, 120.5ms\n",
      "image 115/304 C:\\Users\\campus4D019\\Desktop\\Python\\Data\\RockPaperScissors\\test\\images\\Screen-Recording-2023-03-11-at-9_48_18-PM_mov-144_jpg.rf.55267b7f91608741bef3280221c47edd.jpg: 640x640 1 person, 1 potted plant, 125.1ms\n",
      "image 116/304 C:\\Users\\campus4D019\\Desktop\\Python\\Data\\RockPaperScissors\\test\\images\\Screen-Recording-2023-03-11-at-9_48_18-PM_mov-147_jpg.rf.1f3da63190398b1b04d780e3b0c21242.jpg: 640x640 2 persons, 1 chair, 1 couch, 1 tv, 1 laptop, 2 books, 97.5ms\n",
      "image 117/304 C:\\Users\\campus4D019\\Desktop\\Python\\Data\\RockPaperScissors\\test\\images\\Screen-Recording-2023-03-11-at-9_48_18-PM_mov-157_jpg.rf.ce9ebedbd733609ff3d12a897cabf169.jpg: 640x640 3 persons, 122.0ms\n",
      "image 118/304 C:\\Users\\campus4D019\\Desktop\\Python\\Data\\RockPaperScissors\\test\\images\\Screen-Recording-2023-03-11-at-9_48_18-PM_mov-163_jpg.rf.1f8b6907d3a79b6c2c3549098c93605e.jpg: 640x640 2 persons, 1 potted plant, 1 tv, 103.3ms\n",
      "image 119/304 C:\\Users\\campus4D019\\Desktop\\Python\\Data\\RockPaperScissors\\test\\images\\Screen-Recording-2023-03-11-at-9_48_18-PM_mov-165_jpg.rf.a1ee9f788cdfe9aa8818ddcfa9e43b29.jpg: 640x640 2 persons, 1 chair, 1 potted plant, 1 tv, 110.5ms\n",
      "image 120/304 C:\\Users\\campus4D019\\Desktop\\Python\\Data\\RockPaperScissors\\test\\images\\Screen-Recording-2023-03-11-at-9_48_18-PM_mov-186_jpg.rf.7a53246e14e43654dc35d16cf3c1dce4.jpg: 640x640 2 persons, 128.8ms\n",
      "image 121/304 C:\\Users\\campus4D019\\Desktop\\Python\\Data\\RockPaperScissors\\test\\images\\Screen-Recording-2023-03-11-at-9_48_18-PM_mov-245_jpg.rf.bfb5818f0482d5718b7bc65e2b14a06f.jpg: 640x640 3 persons, 2 suitcases, 2 potted plants, 112.3ms\n",
      "image 122/304 C:\\Users\\campus4D019\\Desktop\\Python\\Data\\RockPaperScissors\\test\\images\\Screen-Recording-2023-03-11-at-9_48_18-PM_mov-248_jpg.rf.d25029aa8b7783684652028ee88ac32b.jpg: 640x640 1 person, 105.0ms\n",
      "image 123/304 C:\\Users\\campus4D019\\Desktop\\Python\\Data\\RockPaperScissors\\test\\images\\Screen-Recording-2023-03-11-at-9_48_18-PM_mov-249_jpg.rf.169375553540c1fd5d4ab4f2be00ef10.jpg: 640x640 1 person, 95.8ms\n",
      "image 124/304 C:\\Users\\campus4D019\\Desktop\\Python\\Data\\RockPaperScissors\\test\\images\\Screen-Recording-2023-03-11-at-9_48_18-PM_mov-250_jpg.rf.605bdcceb95f7ea177ffa2c3c7d2bbce.jpg: 640x640 2 persons, 113.0ms\n",
      "image 125/304 C:\\Users\\campus4D019\\Desktop\\Python\\Data\\RockPaperScissors\\test\\images\\Screen-Recording-2023-03-11-at-9_48_18-PM_mov-257_jpg.rf.e25a3c12a2feb615048e15067a8ef3c6.jpg: 640x640 1 potted plant, 2 toilets, 110.4ms\n",
      "image 126/304 C:\\Users\\campus4D019\\Desktop\\Python\\Data\\RockPaperScissors\\test\\images\\Screen-Recording-2023-03-11-at-9_48_18-PM_mov-258_jpg.rf.721b7a387ea2dc96469d14431a8372d5.jpg: 640x640 1 potted plant, 131.0ms\n",
      "image 127/304 C:\\Users\\campus4D019\\Desktop\\Python\\Data\\RockPaperScissors\\test\\images\\Screen-Recording-2023-03-11-at-9_48_18-PM_mov-289_jpg.rf.955e6ecd36bb97279951f81b4dd8e373.jpg: 640x640 2 persons, 103.8ms\n",
      "image 128/304 C:\\Users\\campus4D019\\Desktop\\Python\\Data\\RockPaperScissors\\test\\images\\Screen-Recording-2023-03-11-at-9_48_18-PM_mov-30_jpg.rf.d5ac0f9d03c507989927fb8a72d1fd61.jpg: 640x640 2 persons, 99.1ms\n",
      "image 129/304 C:\\Users\\campus4D019\\Desktop\\Python\\Data\\RockPaperScissors\\test\\images\\Screen-Recording-2023-03-11-at-9_48_18-PM_mov-50_jpg.rf.d61b1eed7dccd6e72984ec9ec3f34384.jpg: 640x640 2 persons, 111.8ms\n",
      "image 130/304 C:\\Users\\campus4D019\\Desktop\\Python\\Data\\RockPaperScissors\\test\\images\\Screen-Recording-2023-03-11-at-9_48_18-PM_mov-55_jpg.rf.5b26078d91ee3539d9580efdedd67d10.jpg: 640x640 1 person, 111.2ms\n",
      "image 131/304 C:\\Users\\campus4D019\\Desktop\\Python\\Data\\RockPaperScissors\\test\\images\\Screen-Recording-2023-03-11-at-9_48_18-PM_mov-62_jpg.rf.d5a443ab6707f85b244d1cffedf5d410.jpg: 640x640 1 person, 2 bottles, 1 cup, 94.8ms\n",
      "image 132/304 C:\\Users\\campus4D019\\Desktop\\Python\\Data\\RockPaperScissors\\test\\images\\Screen-Recording-2023-03-11-at-9_48_18-PM_mov-6_jpg.rf.b10722df9aefe1ce3f9d9a03fcfb634e.jpg: 640x640 1 person, 1 tie, 98.8ms\n",
      "image 133/304 C:\\Users\\campus4D019\\Desktop\\Python\\Data\\RockPaperScissors\\test\\images\\Screen-Recording-2023-03-11-at-9_48_18-PM_mov-71_jpg.rf.6ea4e21ff5f84c28837abd82a3dec635.jpg: 640x640 2 persons, 385.4ms\n",
      "image 134/304 C:\\Users\\campus4D019\\Desktop\\Python\\Data\\RockPaperScissors\\test\\images\\Screen-Recording-2023-03-11-at-9_48_18-PM_mov-77_jpg.rf.1f20ac9d2c0e8e3926da5a83680839ce.jpg: 640x640 1 person, 122.2ms\n",
      "image 135/304 C:\\Users\\campus4D019\\Desktop\\Python\\Data\\RockPaperScissors\\test\\images\\Screen-Recording-2023-03-11-at-9_48_18-PM_mov-7_jpg.rf.2ff1d006866f54dc02e86037efd3e9ac.jpg: 640x640 1 person, 1 tie, 112.9ms\n",
      "image 136/304 C:\\Users\\campus4D019\\Desktop\\Python\\Data\\RockPaperScissors\\test\\images\\Screen-Recording-2023-03-11-at-9_48_18-PM_mov-80_jpg.rf.0c63bfa51ec1f9c2d1ed9ea421e12bda.jpg: 640x640 1 person, 1 tv, 107.5ms\n",
      "image 137/304 C:\\Users\\campus4D019\\Desktop\\Python\\Data\\RockPaperScissors\\test\\images\\Screen-Recording-2023-03-11-at-9_48_18-PM_mov-89_jpg.rf.7f2e37c792e26793cc71aaff4448613c.jpg: 640x640 2 persons, 1 cell phone, 1 sink, 1 book, 112.6ms\n",
      "image 138/304 C:\\Users\\campus4D019\\Desktop\\Python\\Data\\RockPaperScissors\\test\\images\\Screen-Recording-2023-03-11-at-9_48_18-PM_mov-8_jpg.rf.67a5912885694a0d3a5a0183154b8301.jpg: 640x640 1 person, 1 tie, 110.8ms\n",
      "image 139/304 C:\\Users\\campus4D019\\Desktop\\Python\\Data\\RockPaperScissors\\test\\images\\Screen-Recording-2023-03-11-at-9_48_18-PM_mov-94_jpg.rf.b4fdf88bf5a54c48db4f4faa91dda1b4.jpg: 640x640 2 persons, 98.2ms\n",
      "image 140/304 C:\\Users\\campus4D019\\Desktop\\Python\\Data\\RockPaperScissors\\test\\images\\Screen-Shot-2021-05-12-at-3-28-58-PM_png_jpg.rf.132e50c0afb53595b25ac3848ca71607.jpg: 640x640 1 person, 94.4ms\n",
      "image 141/304 C:\\Users\\campus4D019\\Desktop\\Python\\Data\\RockPaperScissors\\test\\images\\Screen-Shot-2022-02-08-at-12-58-44-PM_png.rf.aacd18a7433e7abe941150429310232d.jpg: 640x640 1 person, 1 potted plant, 101.3ms\n",
      "image 142/304 C:\\Users\\campus4D019\\Desktop\\Python\\Data\\RockPaperScissors\\test\\images\\Screen-Shot-2022-02-08-at-12-58-48-PM_png.rf.0f97b360502b3bc1b891663903b9f0a5.jpg: 640x640 1 person, 1 potted plant, 107.6ms\n",
      "image 143/304 C:\\Users\\campus4D019\\Desktop\\Python\\Data\\RockPaperScissors\\test\\images\\Screen-Shot-2022-02-08-at-12-59-16-PM_png.rf.9a4b713a727b7438f3f586b6d78bb2ee.jpg: 640x640 1 person, 1 potted plant, 97.5ms\n",
      "image 144/304 C:\\Users\\campus4D019\\Desktop\\Python\\Data\\RockPaperScissors\\test\\images\\Screen-Shot-2022-02-08-at-12-59-31-PM_png.rf.efae1890d252f2d283b211bb83a9c0d3.jpg: 640x640 1 person, 2 chairs, 1 potted plant, 112.3ms\n",
      "image 145/304 C:\\Users\\campus4D019\\Desktop\\Python\\Data\\RockPaperScissors\\test\\images\\Screen-Shot-2022-02-14-at-1-09-28-PM_png.rf.004276a608618ac17b2eb2b2d69fb1c0.jpg: 640x640 2 persons, 106.9ms\n",
      "image 146/304 C:\\Users\\campus4D019\\Desktop\\Python\\Data\\RockPaperScissors\\test\\images\\Screen-Shot-2022-02-16-at-1-28-19-PM_png.rf.16295d31b11de7462aeac81289db9b5b.jpg: 640x640 1 person, 129.2ms\n",
      "image 147/304 C:\\Users\\campus4D019\\Desktop\\Python\\Data\\RockPaperScissors\\test\\images\\Screen-Shot-2022-02-16-at-11-16-38-AM-2-_png.rf.82cc2730d041879145364efbac5afdd9.jpg: 640x640 1 person, 99.6ms\n",
      "image 148/304 C:\\Users\\campus4D019\\Desktop\\Python\\Data\\RockPaperScissors\\test\\images\\Screen-Shot-2022-02-16-at-11-20-55-AM-2-_png.rf.c2533ba64b63f5d4fee768b1de212ab0.jpg: 640x640 1 person, 100.7ms\n",
      "image 149/304 C:\\Users\\campus4D019\\Desktop\\Python\\Data\\RockPaperScissors\\test\\images\\carcel_139_19_flickr_jpg.rf.608ce249d6d4d2bd7de7001d3aad115d.jpg: 640x640 (no detections), 141.3ms\n",
      "image 150/304 C:\\Users\\campus4D019\\Desktop\\Python\\Data\\RockPaperScissors\\test\\images\\chambre_resto_1_jpg.rf.22de5c723c4df940478c12c8f6e39093.jpg: 640x640 2 wine glasss, 6 chairs, 1 potted plant, 2 dining tables, 1 vase, 105.3ms\n",
      "image 151/304 C:\\Users\\campus4D019\\Desktop\\Python\\Data\\RockPaperScissors\\test\\images\\egohands-public-1620849847487_png_jpg.rf.355777ab941573cef1e27f30d003bf2c.jpg: 640x640 1 person, 86.6ms\n",
      "image 152/304 C:\\Users\\campus4D019\\Desktop\\Python\\Data\\RockPaperScissors\\test\\images\\egohands-public-1620849869759_png_jpg.rf.1297a5523b200f54839c058fbe6ec9ea.jpg: 640x640 1 person, 98.8ms\n",
      "image 153/304 C:\\Users\\campus4D019\\Desktop\\Python\\Data\\RockPaperScissors\\test\\images\\egohands-public-1620849871605_png_jpg.rf.566b1b47cbd3b1558121ca2e797f5ff7.jpg: 640x640 1 person, 1 cell phone, 113.2ms\n",
      "image 154/304 C:\\Users\\campus4D019\\Desktop\\Python\\Data\\RockPaperScissors\\test\\images\\egohands-public-1620849873632_png_jpg.rf.58189125abe16b757adf8cd2799ed616.jpg: 640x640 1 person, 121.8ms\n",
      "image 155/304 C:\\Users\\campus4D019\\Desktop\\Python\\Data\\RockPaperScissors\\test\\images\\egohands-public-1620850453735_png_jpg.rf.1bbddd3a801574ef7e470163dda4920d.jpg: 640x640 1 person, 1 chair, 115.5ms\n",
      "image 156/304 C:\\Users\\campus4D019\\Desktop\\Python\\Data\\RockPaperScissors\\test\\images\\egohands-public-1620852224787_png_jpg.rf.d80d54face65897e5d03cd518bb2be1c.jpg: 640x640 1 person, 101.6ms\n",
      "image 157/304 C:\\Users\\campus4D019\\Desktop\\Python\\Data\\RockPaperScissors\\test\\images\\egohands-public-1620852256502_png_jpg.rf.b7a5cc4785712f79c89a9ff3ca7c883e.jpg: 640x640 1 person, 150.1ms\n",
      "image 158/304 C:\\Users\\campus4D019\\Desktop\\Python\\Data\\RockPaperScissors\\test\\images\\egohands-public-1621214243875_png_jpg.rf.7837991d81c2de31222f518161f69814.jpg: 640x640 1 person, 3 chairs, 118.9ms\n",
      "image 159/304 C:\\Users\\campus4D019\\Desktop\\Python\\Data\\RockPaperScissors\\test\\images\\egohands-public-1621214254945_png_jpg.rf.3e24d3c3c3b3e91be6191a7f31fa0ca5.jpg: 640x640 1 person, 2 chairs, 1 dining table, 108.2ms\n",
      "image 160/304 C:\\Users\\campus4D019\\Desktop\\Python\\Data\\RockPaperScissors\\test\\images\\egohands-public-1621214710295_png_jpg.rf.f776cb3d2b155a770446eb19960934b0.jpg: 640x640 1 person, 1 chair, 109.0ms\n",
      "image 161/304 C:\\Users\\campus4D019\\Desktop\\Python\\Data\\RockPaperScissors\\test\\images\\egohands-public-1621349890675_png_jpg.rf.0d6f828c1a48a7515a87a85c468da676.jpg: 640x640 1 person, 110.5ms\n",
      "image 162/304 C:\\Users\\campus4D019\\Desktop\\Python\\Data\\RockPaperScissors\\test\\images\\egohands-public-1621349891794_png_jpg.rf.314e704aa30f0c6f8675eb99fbe65b13.jpg: 640x640 1 person, 121.3ms\n",
      "image 163/304 C:\\Users\\campus4D019\\Desktop\\Python\\Data\\RockPaperScissors\\test\\images\\egohands-public-1621363183329_png_jpg.rf.cad1a0ab3184fabf1bc8ea7f2499c3a0.jpg: 640x640 1 person, 112.6ms\n",
      "image 164/304 C:\\Users\\campus4D019\\Desktop\\Python\\Data\\RockPaperScissors\\test\\images\\egohands-public-1621363477842_png_jpg.rf.c4555a1ea52826e060ed06d311f8ab79.jpg: 640x640 1 person, 129.3ms\n",
      "image 165/304 C:\\Users\\campus4D019\\Desktop\\Python\\Data\\RockPaperScissors\\test\\images\\egohands-public-1621519206541_png_jpg.rf.3034663ab0cffee88341726112cb0d78.jpg: 640x640 1 person, 2 chairs, 1 tv, 106.6ms\n",
      "image 166/304 C:\\Users\\campus4D019\\Desktop\\Python\\Data\\RockPaperScissors\\test\\images\\egohands-public-1622124256821_png_jpg.rf.cf89aa12adbc212966358a3d439692d1.jpg: 640x640 1 person, 1 chair, 110.0ms\n",
      "image 167/304 C:\\Users\\campus4D019\\Desktop\\Python\\Data\\RockPaperScissors\\test\\images\\egohands-public-1622127393755_png_jpg.rf.b2fd9abb11628423f5f82ffd4a5cadb1.jpg: 640x640 1 person, 100.0ms\n",
      "image 168/304 C:\\Users\\campus4D019\\Desktop\\Python\\Data\\RockPaperScissors\\test\\images\\egohands-public-1622730832103_png_jpg.rf.114588fe3eb0def9cc5eef067655fdd6.jpg: 640x640 2 persons, 116.9ms\n",
      "image 169/304 C:\\Users\\campus4D019\\Desktop\\Python\\Data\\RockPaperScissors\\test\\images\\egohands-public-1622746667780_png_jpg.rf.49d74ea9c63b6504d5e5beb3784f1712.jpg: 640x640 1 person, 117.3ms\n",
      "image 170/304 C:\\Users\\campus4D019\\Desktop\\Python\\Data\\RockPaperScissors\\test\\images\\egohands-public-1622746679719_png_jpg.rf.e0b20ac1bc42903872a851d56363604c.jpg: 640x640 1 person, 108.3ms\n",
      "image 171/304 C:\\Users\\campus4D019\\Desktop\\Python\\Data\\RockPaperScissors\\test\\images\\egohands-public-1622748405009_png_jpg.rf.94b2a32daad24b1e1963b47feceac216.jpg: 640x640 1 person, 110.9ms\n",
      "image 172/304 C:\\Users\\campus4D019\\Desktop\\Python\\Data\\RockPaperScissors\\test\\images\\egohands-public-1623336383872_png_jpg.rf.cf24523398344a8240cd8cde25acd064.jpg: 640x640 1 person, 2 ties, 112.5ms\n",
      "image 173/304 C:\\Users\\campus4D019\\Desktop\\Python\\Data\\RockPaperScissors\\test\\images\\egohands-public-1623336386373_png_jpg.rf.10cd0ece7487b1b1582c242a05f8fd9e.jpg: 640x640 1 person, 112.5ms\n",
      "image 174/304 C:\\Users\\campus4D019\\Desktop\\Python\\Data\\RockPaperScissors\\test\\images\\egohands-public-1623336387512_png_jpg.rf.9e7c231fb295e3e836961da66d47de13.jpg: 640x640 1 person, 116.4ms\n",
      "image 175/304 C:\\Users\\campus4D019\\Desktop\\Python\\Data\\RockPaperScissors\\test\\images\\egohands-public-1623358708554_png_jpg.rf.929c159b5b804ed9e946685faf03ddb3.jpg: 640x640 1 person, 97.8ms\n",
      "image 176/304 C:\\Users\\campus4D019\\Desktop\\Python\\Data\\RockPaperScissors\\test\\images\\egohands-public-1623358709389_png_jpg.rf.01566636003f63ab6cd0dbad04d98c62.jpg: 640x640 1 person, 1 tie, 101.2ms\n",
      "image 177/304 C:\\Users\\campus4D019\\Desktop\\Python\\Data\\RockPaperScissors\\test\\images\\egohands-public-1623712814722_png_jpg.rf.2163babbd15cbf7b4c00b5beaa7a7710.jpg: 640x640 1 person, 2 chairs, 116.3ms\n",
      "image 178/304 C:\\Users\\campus4D019\\Desktop\\Python\\Data\\RockPaperScissors\\test\\images\\egohands-public-1623712835471_png_jpg.rf.8c679818aa9234261ac76d7264d40370.jpg: 640x640 1 person, 3 chairs, 1 dining table, 101.6ms\n",
      "image 179/304 C:\\Users\\campus4D019\\Desktop\\Python\\Data\\RockPaperScissors\\test\\images\\egohands-public-1623712843454_png_jpg.rf.333149ecf9979a41d4598c020ff495d5.jpg: 640x640 1 person, 3 chairs, 105.3ms\n",
      "image 180/304 C:\\Users\\campus4D019\\Desktop\\Python\\Data\\RockPaperScissors\\test\\images\\egohands-public-1623712844639_png_jpg.rf.f367afe758cbd1e77f075efca47b609a.jpg: 640x640 1 person, 3 chairs, 1 dining table, 106.7ms\n",
      "image 181/304 C:\\Users\\campus4D019\\Desktop\\Python\\Data\\RockPaperScissors\\test\\images\\egohands-public-1623873260110_png_jpg.rf.84b43e7ca2a946655f10eea306a4bce8.jpg: 640x640 1 person, 118.7ms\n",
      "image 182/304 C:\\Users\\campus4D019\\Desktop\\Python\\Data\\RockPaperScissors\\test\\images\\egohands-public-1623941906012_png_jpg.rf.8a047c76589778bf09add91a34b3c00a.jpg: 640x640 1 person, 139.4ms\n",
      "image 183/304 C:\\Users\\campus4D019\\Desktop\\Python\\Data\\RockPaperScissors\\test\\images\\egohands-public-1623941913075_png_jpg.rf.cb60fdc53d02264d4be632b399497aaf.jpg: 640x640 1 person, 136.8ms\n",
      "image 184/304 C:\\Users\\campus4D019\\Desktop\\Python\\Data\\RockPaperScissors\\test\\images\\egohands-public-1624053425083_png_jpg.rf.d52bb48c201c5c93bc964cd38699dcf2.jpg: 640x640 1 person, 106.8ms\n",
      "image 185/304 C:\\Users\\campus4D019\\Desktop\\Python\\Data\\RockPaperScissors\\test\\images\\egohands-public-1624053426194_png_jpg.rf.dedd446bdb62335d1dc58b8ba18ecfa6.jpg: 640x640 2 persons, 120.1ms\n",
      "image 186/304 C:\\Users\\campus4D019\\Desktop\\Python\\Data\\RockPaperScissors\\test\\images\\egohands-public-1624053436504_png_jpg.rf.855309535d1ea4ab1aa9b671702dde8a.jpg: 640x640 1 person, 1 toothbrush, 102.3ms\n",
      "image 187/304 C:\\Users\\campus4D019\\Desktop\\Python\\Data\\RockPaperScissors\\test\\images\\egohands-public-1624298524238_png_jpg.rf.cf993a96edab8e76fb6937040bc58101.jpg: 640x640 1 person, 100.9ms\n",
      "image 188/304 C:\\Users\\campus4D019\\Desktop\\Python\\Data\\RockPaperScissors\\test\\images\\egohands-public-1624298528652_png_jpg.rf.5b2572c05375a8c46d5fd05a9954029f.jpg: 640x640 1 person, 108.3ms\n",
      "image 189/304 C:\\Users\\campus4D019\\Desktop\\Python\\Data\\RockPaperScissors\\test\\images\\egohands-public-1624298530518_png_jpg.rf.a18a7a8fcf34ef59fd64413b170fad15.jpg: 640x640 1 person, 92.1ms\n",
      "image 190/304 C:\\Users\\campus4D019\\Desktop\\Python\\Data\\RockPaperScissors\\test\\images\\egohands-public-1624377520223_png_jpg.rf.a9ef8b283bb6d6e68bf16203164d4a01.jpg: 640x640 1 person, 98.1ms\n",
      "image 191/304 C:\\Users\\campus4D019\\Desktop\\Python\\Data\\RockPaperScissors\\test\\images\\egohands-public-1624377532027_png_jpg.rf.513d7d6afe41b27987bb3c8a66c19970.jpg: 640x640 2 persons, 94.7ms\n",
      "image 192/304 C:\\Users\\campus4D019\\Desktop\\Python\\Data\\RockPaperScissors\\test\\images\\egohands-public-1624377541413_png_jpg.rf.8e04f2fb15a409c623c4922e864b5dfc.jpg: 640x640 1 person, 94.3ms\n",
      "image 193/304 C:\\Users\\campus4D019\\Desktop\\Python\\Data\\RockPaperScissors\\test\\images\\egohands-public-1624465888641_png_jpg.rf.886253ff4aaf0b15969b9fa1a918c6de.jpg: 640x640 1 person, 111.5ms\n",
      "image 194/304 C:\\Users\\campus4D019\\Desktop\\Python\\Data\\RockPaperScissors\\test\\images\\egohands-public-1624465891194_png_jpg.rf.cce4854600f5f798809a3246bf81105c.jpg: 640x640 1 person, 134.0ms\n",
      "image 195/304 C:\\Users\\campus4D019\\Desktop\\Python\\Data\\RockPaperScissors\\test\\images\\egohands-public-1624465893587_png_jpg.rf.7c8862d645019ad2d8acb3573a29f088.jpg: 640x640 1 person, 149.2ms\n",
      "image 196/304 C:\\Users\\campus4D019\\Desktop\\Python\\Data\\RockPaperScissors\\test\\images\\egohands-public-1624465898166_png_jpg.rf.477c6287df684bd72cb83142c20e0e43.jpg: 640x640 1 person, 140.0ms\n",
      "image 197/304 C:\\Users\\campus4D019\\Desktop\\Python\\Data\\RockPaperScissors\\test\\images\\egohands-public-1624546403485_png_jpg.rf.c241020a875a6778bd65016ea5eedc7c.jpg: 640x640 1 person, 139.2ms\n",
      "image 198/304 C:\\Users\\campus4D019\\Desktop\\Python\\Data\\RockPaperScissors\\test\\images\\egohands-public-1624550293327_png_jpg.rf.6816402821a508691b7ae00dd31641be.jpg: 640x640 1 person, 127.5ms\n",
      "image 199/304 C:\\Users\\campus4D019\\Desktop\\Python\\Data\\RockPaperScissors\\test\\images\\egohands-public-1624550304613_png_jpg.rf.cb681128bfe82a3081a2f77b470dbf69.jpg: 640x640 1 person, 1 cell phone, 105.1ms\n",
      "image 200/304 C:\\Users\\campus4D019\\Desktop\\Python\\Data\\RockPaperScissors\\test\\images\\egohands-public-1624561277010_png_jpg.rf.1d53c965da07a3b244757a22a4ca5c27.jpg: 640x640 1 person, 115.9ms\n",
      "image 201/304 C:\\Users\\campus4D019\\Desktop\\Python\\Data\\RockPaperScissors\\test\\images\\egohands-public-1624563397953_png_jpg.rf.d91c17bd3b3481665f2ae5d901f89bd5.jpg: 640x640 1 person, 96.6ms\n",
      "image 202/304 C:\\Users\\campus4D019\\Desktop\\Python\\Data\\RockPaperScissors\\test\\images\\egohands-public-1624563408999_png_jpg.rf.4ed01641a8913addd0c7377c2cf3fc5a.jpg: 640x640 1 person, 130.8ms\n",
      "image 203/304 C:\\Users\\campus4D019\\Desktop\\Python\\Data\\RockPaperScissors\\test\\images\\egohands-public-1624563408999_png_jpg.rf.91ce76eb19209917f78da8ae04f7866c.jpg: 640x640 1 person, 96.4ms\n",
      "image 204/304 C:\\Users\\campus4D019\\Desktop\\Python\\Data\\RockPaperScissors\\test\\images\\egohands-public-1624972107897_png_jpg.rf.6991f44b248b35d3394482a26fcaeb56.jpg: 640x640 1 person, 90.1ms\n",
      "image 205/304 C:\\Users\\campus4D019\\Desktop\\Python\\Data\\RockPaperScissors\\test\\images\\egohands-public-1624972110245_png_jpg.rf.a29609159d22c4c5d1419fafcd994a01.jpg: 640x640 1 person, 106.0ms\n",
      "image 206/304 C:\\Users\\campus4D019\\Desktop\\Python\\Data\\RockPaperScissors\\test\\images\\egohands-public-1624972111157_png_jpg.rf.d94c729f73301e904197c5b771acdffd.jpg: 640x640 1 person, 100.6ms\n",
      "image 207/304 C:\\Users\\campus4D019\\Desktop\\Python\\Data\\RockPaperScissors\\test\\images\\egohands-public-1624972114651_png_jpg.rf.ef138093d547561329d551a00b1dd099.jpg: 640x640 1 person, 90.2ms\n",
      "image 208/304 C:\\Users\\campus4D019\\Desktop\\Python\\Data\\RockPaperScissors\\test\\images\\egohands-public-1624972119689_png_jpg.rf.8dc857cc75e8188dea073e478b5c3b5c.jpg: 640x640 1 person, 94.8ms\n",
      "image 209/304 C:\\Users\\campus4D019\\Desktop\\Python\\Data\\RockPaperScissors\\test\\images\\egohands-public-1625012666756_png_jpg.rf.ea90cb61eb0df5c403f532f6b044bc1b.jpg: 640x640 1 person, 91.4ms\n",
      "image 210/304 C:\\Users\\campus4D019\\Desktop\\Python\\Data\\RockPaperScissors\\test\\images\\egohands-public-1625012668003_png_jpg.rf.5aaa24c5a3833cab04fb4cb340510ffa.jpg: 640x640 1 person, 104.3ms\n",
      "image 211/304 C:\\Users\\campus4D019\\Desktop\\Python\\Data\\RockPaperScissors\\test\\images\\egohands-public-1625012671555_png_jpg.rf.0a99704085308772b0d8ddbcdf87e8e0.jpg: 640x640 1 person, 115.9ms\n",
      "image 212/304 C:\\Users\\campus4D019\\Desktop\\Python\\Data\\RockPaperScissors\\test\\images\\egohands-public-1625070637052_png_jpg.rf.4831b8b5b4057eed162f008511422485.jpg: 640x640 1 person, 140.7ms\n",
      "image 213/304 C:\\Users\\campus4D019\\Desktop\\Python\\Data\\RockPaperScissors\\test\\images\\egohands-public-1625070644197_png_jpg.rf.4f0b60525b84c74557317b24d793143b.jpg: 640x640 1 person, 116.0ms\n",
      "image 214/304 C:\\Users\\campus4D019\\Desktop\\Python\\Data\\RockPaperScissors\\test\\images\\egohands-public-1625070651933_png_jpg.rf.602d0a93768d7063d0f393630d006d97.jpg: 640x640 1 person, 96.1ms\n",
      "image 215/304 C:\\Users\\campus4D019\\Desktop\\Python\\Data\\RockPaperScissors\\test\\images\\egohands-public-1625151611781_png_jpg.rf.276832091344ab8e788895ff056f90c3.jpg: 640x640 1 person, 112.3ms\n",
      "image 216/304 C:\\Users\\campus4D019\\Desktop\\Python\\Data\\RockPaperScissors\\test\\images\\egohands-public-1625254249011_png_jpg.rf.a769a196160400a15fa323398ecc9af1.jpg: 640x640 1 person, 127.1ms\n",
      "image 217/304 C:\\Users\\campus4D019\\Desktop\\Python\\Data\\RockPaperScissors\\test\\images\\egohands-public-1625679159400_png_jpg.rf.9935c5c7f6181515a77387926a2a6a65.jpg: 640x640 1 person, 167.2ms\n",
      "image 218/304 C:\\Users\\campus4D019\\Desktop\\Python\\Data\\RockPaperScissors\\test\\images\\egohands-public-1625756311389_png_jpg.rf.2f6d92cb4bae80686a11e160b80a732e.jpg: 640x640 1 person, 109.0ms\n",
      "image 219/304 C:\\Users\\campus4D019\\Desktop\\Python\\Data\\RockPaperScissors\\test\\images\\egohands-public-1625756317309_png_jpg.rf.5d603793ab3eacafcd5e6c804cfbda9f.jpg: 640x640 1 person, 107.2ms\n",
      "image 220/304 C:\\Users\\campus4D019\\Desktop\\Python\\Data\\RockPaperScissors\\test\\images\\egohands-public-1625860387830_png_jpg.rf.b0a0431257a5a83748b7dcd23ba73803.jpg: 640x640 1 person, 133.3ms\n",
      "image 221/304 C:\\Users\\campus4D019\\Desktop\\Python\\Data\\RockPaperScissors\\test\\images\\egohands-public-1625860395055_png_jpg.rf.368bde93a2201f581727bd6a2956acd0.jpg: 640x640 1 person, 100.2ms\n",
      "image 222/304 C:\\Users\\campus4D019\\Desktop\\Python\\Data\\RockPaperScissors\\test\\images\\egohands-public-1626201612073_png_jpg.rf.9b77b0ddfbf7c75057d27cf8b10c480d.jpg: 640x640 1 person, 110.5ms\n",
      "image 223/304 C:\\Users\\campus4D019\\Desktop\\Python\\Data\\RockPaperScissors\\test\\images\\egohands-public-1626201614270_png_jpg.rf.3d48501d9c5bb8ae3bafa6d5257e6db7.jpg: 640x640 1 person, 103.9ms\n",
      "image 224/304 C:\\Users\\campus4D019\\Desktop\\Python\\Data\\RockPaperScissors\\test\\images\\egohands-public-1626355936259_png_jpg.rf.8205d5ab628834642e297b6ac593d93a.jpg: 640x640 1 person, 2 chairs, 1 potted plant, 132.6ms\n",
      "image 225/304 C:\\Users\\campus4D019\\Desktop\\Python\\Data\\RockPaperScissors\\test\\images\\egohands-public-1626386619095_png_jpg.rf.f19dff48b779f48abf4b40bd5a1b0d55.jpg: 640x640 1 person, 144.0ms\n",
      "image 226/304 C:\\Users\\campus4D019\\Desktop\\Python\\Data\\RockPaperScissors\\test\\images\\egohands-public-1626460203729_png_jpg.rf.6dc0a1c489c8c0a7112bed68c427f51d.jpg: 640x640 1 person, 126.2ms\n",
      "image 227/304 C:\\Users\\campus4D019\\Desktop\\Python\\Data\\RockPaperScissors\\test\\images\\egohands-public-1626460207007_png_jpg.rf.cf87a2a31fa16a4c9e9e6b6a8b4cabab.jpg: 640x640 2 persons, 116.9ms\n",
      "image 228/304 C:\\Users\\campus4D019\\Desktop\\Python\\Data\\RockPaperScissors\\test\\images\\egohands-public-1626460211490_png_jpg.rf.cb10bda888b53763c3919e1d9dcd4ea7.jpg: 640x640 1 person, 104.6ms\n",
      "image 229/304 C:\\Users\\campus4D019\\Desktop\\Python\\Data\\RockPaperScissors\\test\\images\\egohands-public-1626460213979_png_jpg.rf.a67c957fe2bc101e80271299ed534331.jpg: 640x640 1 person, 109.0ms\n",
      "image 230/304 C:\\Users\\campus4D019\\Desktop\\Python\\Data\\RockPaperScissors\\test\\images\\egohands-public-1626966059622_png_jpg.rf.ef128dce794cd7ccbeda2e68664d5e35.jpg: 640x640 1 person, 2 books, 109.6ms\n",
      "image 231/304 C:\\Users\\campus4D019\\Desktop\\Python\\Data\\RockPaperScissors\\test\\images\\egohands-public-1626966060817_png_jpg.rf.42ad988920eebbec5f7276dd80f80160.jpg: 640x640 1 person, 120.1ms\n",
      "image 232/304 C:\\Users\\campus4D019\\Desktop\\Python\\Data\\RockPaperScissors\\test\\images\\egohands-public-1626966067167_png_jpg.rf.078d6d120ba5d71e55e8c0980340a393.jpg: 640x640 1 person, 1 book, 121.2ms\n",
      "image 233/304 C:\\Users\\campus4D019\\Desktop\\Python\\Data\\RockPaperScissors\\test\\images\\egohands-public-1627056101745_png_jpg.rf.bccf961ac55c3d76e6ff466cb72c6587.jpg: 640x640 1 person, 120.6ms\n",
      "image 234/304 C:\\Users\\campus4D019\\Desktop\\Python\\Data\\RockPaperScissors\\test\\images\\egohands-public-1627056109772_png_jpg.rf.6db6b75965c5f99b0639d32962848dcd.jpg: 640x640 1 person, 103.4ms\n",
      "image 235/304 C:\\Users\\campus4D019\\Desktop\\Python\\Data\\RockPaperScissors\\test\\images\\egohands-public-1628705398306_png_jpg.rf.74053c0d03cbe83d98edfa70ff23c80d.jpg: 640x640 1 person, 109.9ms\n",
      "image 236/304 C:\\Users\\campus4D019\\Desktop\\Python\\Data\\RockPaperScissors\\test\\images\\egohands-public-1628705401923_png_jpg.rf.434abe1d39a91bac7b87283b74a719c1.jpg: 640x640 1 person, 115.9ms\n",
      "image 237/304 C:\\Users\\campus4D019\\Desktop\\Python\\Data\\RockPaperScissors\\test\\images\\jail02_jpg.rf.f56231c6c631762f4833370a84411995.jpg: 640x640 (no detections), 336.7ms\n",
      "image 238/304 C:\\Users\\campus4D019\\Desktop\\Python\\Data\\RockPaperScissors\\test\\images\\piscina_cubierta_05_06_altavista_jpg.rf.59eaa057da41281113c013f98e34c936.jpg: 640x640 1 umbrella, 122.6ms\n",
      "image 239/304 C:\\Users\\campus4D019\\Desktop\\Python\\Data\\RockPaperScissors\\test\\images\\piscina_nott1_jpg.rf.4d91d976c248d9baebdfc4bab13a6a3f.jpg: 640x640 (no detections), 124.8ms\n",
      "image 240/304 C:\\Users\\campus4D019\\Desktop\\Python\\Data\\RockPaperScissors\\test\\images\\prison_cell_03_11_altavista_jpg.rf.8e647855bea53096f7b74f272b968944.jpg: 640x640 (no detections), 145.8ms\n",
      "image 241/304 C:\\Users\\campus4D019\\Desktop\\Python\\Data\\RockPaperScissors\\test\\images\\restaurant_01_09_altavista_jpg.rf.793d33a57d4b941f4d4de6ca483d5b6a.jpg: 640x640 8 persons, 1 wine glass, 2 spoons, 9 chairs, 2 potted plants, 1 dining table, 132.0ms\n",
      "image 242/304 C:\\Users\\campus4D019\\Desktop\\Python\\Data\\RockPaperScissors\\test\\images\\restaurant_06_10_altavista_jpg.rf.4a53ad0063f6a7a26771cfef9b4f07b7.jpg: 640x640 10 chairs, 1 potted plant, 4 dining tables, 133.2ms\n",
      "image 243/304 C:\\Users\\campus4D019\\Desktop\\Python\\Data\\RockPaperScissors\\test\\images\\restaurant_08_15_altavista_jpg.rf.0112e2cb108ae49c966643ebc28e1406.jpg: 640x640 3 wine glasss, 13 chairs, 2 potted plants, 2 dining tables, 126.7ms\n",
      "image 244/304 C:\\Users\\campus4D019\\Desktop\\Python\\Data\\RockPaperScissors\\test\\images\\restaurant_11_10_altavista_jpg.rf.33d3b084cee7cfb07dacc153e4b4a4b7.jpg: 640x640 4 chairs, 2 potted plants, 1 dining table, 90.6ms\n",
      "image 245/304 C:\\Users\\campus4D019\\Desktop\\Python\\Data\\RockPaperScissors\\test\\images\\restaurant_26_14_altavista_jpg.rf.7c7f3fb8cf09172851efcda5c308d0b1.jpg: 640x640 1 person, 1 car, 3 wine glasss, 1 bowl, 4 chairs, 2 potted plants, 2 dining tables, 1 vase, 115.2ms\n",
      "image 246/304 C:\\Users\\campus4D019\\Desktop\\Python\\Data\\RockPaperScissors\\test\\images\\youtube-114_jpg.rf.ebc8336a5476116bcade1e78b8fbcb8b.jpg: 640x640 2 persons, 99.4ms\n",
      "image 247/304 C:\\Users\\campus4D019\\Desktop\\Python\\Data\\RockPaperScissors\\test\\images\\youtube-115_jpg.rf.2800bdb9db9e04287b5e232bc67267f2.jpg: 640x640 2 persons, 109.7ms\n",
      "image 248/304 C:\\Users\\campus4D019\\Desktop\\Python\\Data\\RockPaperScissors\\test\\images\\youtube-117_jpg.rf.7bee65e734adbfd002489c416ede931f.jpg: 640x640 2 persons, 108.2ms\n",
      "image 249/304 C:\\Users\\campus4D019\\Desktop\\Python\\Data\\RockPaperScissors\\test\\images\\youtube-11_jpg.rf.e4dfdfb93e5d7d2eef8c334a02f85b15.jpg: 640x640 3 persons, 116.2ms\n",
      "image 250/304 C:\\Users\\campus4D019\\Desktop\\Python\\Data\\RockPaperScissors\\test\\images\\youtube-124_jpg.rf.9e09975f0f79e0f6e7142a81fb8a203a.jpg: 640x640 3 persons, 124.7ms\n",
      "image 251/304 C:\\Users\\campus4D019\\Desktop\\Python\\Data\\RockPaperScissors\\test\\images\\youtube-124_jpg.rf.9e514844ec7d73ea9e3d480497bc959c.jpg: 640x640 2 persons, 127.3ms\n",
      "image 252/304 C:\\Users\\campus4D019\\Desktop\\Python\\Data\\RockPaperScissors\\test\\images\\youtube-127_jpg.rf.77b42072c208590f5ba5531781db8548.jpg: 640x640 2 persons, 102.7ms\n",
      "image 253/304 C:\\Users\\campus4D019\\Desktop\\Python\\Data\\RockPaperScissors\\test\\images\\youtube-133_jpg.rf.489478ec43834862d9343efcb7746a39.jpg: 640x640 3 persons, 144.9ms\n",
      "image 254/304 C:\\Users\\campus4D019\\Desktop\\Python\\Data\\RockPaperScissors\\test\\images\\youtube-137_jpg.rf.aa6adfefdcc6b129368507db98dee129.jpg: 640x640 3 persons, 150.1ms\n",
      "image 255/304 C:\\Users\\campus4D019\\Desktop\\Python\\Data\\RockPaperScissors\\test\\images\\youtube-139_jpg.rf.5d7aa1ef20cf3694a0bc6ded2049f31f.jpg: 640x640 1 person, 121.4ms\n",
      "image 256/304 C:\\Users\\campus4D019\\Desktop\\Python\\Data\\RockPaperScissors\\test\\images\\youtube-20_jpg.rf.16cb7c3d5159b64ac3b8ef368b05bb99.jpg: 640x640 1 person, 128.3ms\n",
      "image 257/304 C:\\Users\\campus4D019\\Desktop\\Python\\Data\\RockPaperScissors\\test\\images\\youtube-25_jpg.rf.121bbf3873487349ba7e5e2cde55dcef.jpg: 640x640 1 person, 129.3ms\n",
      "image 258/304 C:\\Users\\campus4D019\\Desktop\\Python\\Data\\RockPaperScissors\\test\\images\\youtube-29_jpg.rf.dc2dcea463314f8b47667142adb650fb.jpg: 640x640 1 person, 144.2ms\n",
      "image 259/304 C:\\Users\\campus4D019\\Desktop\\Python\\Data\\RockPaperScissors\\test\\images\\youtube-34_jpg.rf.348de6113db6e57567e97707f44d67c3.jpg: 640x640 1 person, 112.6ms\n",
      "image 260/304 C:\\Users\\campus4D019\\Desktop\\Python\\Data\\RockPaperScissors\\test\\images\\youtube-37_jpg.rf.c37e20e61025e5b29cf34add1e2ee3bc.jpg: 640x640 1 person, 116.8ms\n",
      "image 261/304 C:\\Users\\campus4D019\\Desktop\\Python\\Data\\RockPaperScissors\\test\\images\\youtube-39_jpg.rf.b9e13672096b17ca25211a4166114c8c.jpg: 640x640 1 person, 106.2ms\n",
      "image 262/304 C:\\Users\\campus4D019\\Desktop\\Python\\Data\\RockPaperScissors\\test\\images\\youtube-3_jpg.rf.efdfbd6b9dd687268ca188c0ae3f54da.jpg: 640x640 1 person, 99.6ms\n",
      "image 263/304 C:\\Users\\campus4D019\\Desktop\\Python\\Data\\RockPaperScissors\\test\\images\\youtube-40_jpg.rf.a39bd6b610c103709408b34c32d3b97f.jpg: 640x640 1 person, 104.9ms\n",
      "image 264/304 C:\\Users\\campus4D019\\Desktop\\Python\\Data\\RockPaperScissors\\test\\images\\youtube-46_jpg.rf.a445d2725c0fa51ab9c496a7be94c522.jpg: 640x640 1 person, 113.3ms\n",
      "image 265/304 C:\\Users\\campus4D019\\Desktop\\Python\\Data\\RockPaperScissors\\test\\images\\youtube-50_jpg.rf.8feac9da5300444c7e16fa9ba30ce2f2.jpg: 640x640 1 person, 125.8ms\n",
      "image 266/304 C:\\Users\\campus4D019\\Desktop\\Python\\Data\\RockPaperScissors\\test\\images\\youtube-51_jpg.rf.592602e13fd91f20c176e68d59a21d1e.jpg: 640x640 (no detections), 101.7ms\n",
      "image 267/304 C:\\Users\\campus4D019\\Desktop\\Python\\Data\\RockPaperScissors\\test\\images\\youtube-56_jpg.rf.7676322ce508982f24ee8eb4f6266ab9.jpg: 640x640 3 persons, 97.4ms\n",
      "image 268/304 C:\\Users\\campus4D019\\Desktop\\Python\\Data\\RockPaperScissors\\test\\images\\youtube-58_jpg.rf.38a083eefa3d90155ecfae628b3df0de.jpg: 640x640 1 person, 104.1ms\n",
      "image 269/304 C:\\Users\\campus4D019\\Desktop\\Python\\Data\\RockPaperScissors\\test\\images\\youtube-59_jpg.rf.60f4826abbf282fb647605441bfb1024.jpg: 640x640 1 person, 105.0ms\n",
      "image 270/304 C:\\Users\\campus4D019\\Desktop\\Python\\Data\\RockPaperScissors\\test\\images\\youtube-63_jpg.rf.ca761368d61451ada0968062870a7026.jpg: 640x640 3 persons, 113.1ms\n",
      "image 271/304 C:\\Users\\campus4D019\\Desktop\\Python\\Data\\RockPaperScissors\\test\\images\\youtube-70_jpg.rf.73d1fdcd2f9c5a15646637453c1450c1.jpg: 640x640 (no detections), 95.3ms\n",
      "image 272/304 C:\\Users\\campus4D019\\Desktop\\Python\\Data\\RockPaperScissors\\test\\images\\youtube-84_jpg.rf.a53d50d8ad44fcf9ea8d0d88777572c8.jpg: 640x640 1 person, 128.6ms\n",
      "image 273/304 C:\\Users\\campus4D019\\Desktop\\Python\\Data\\RockPaperScissors\\test\\images\\youtube-93_jpg.rf.b6c1dc39154e28cce2bd5ea57387ab48.jpg: 640x640 1 person, 147.6ms\n",
      "image 274/304 C:\\Users\\campus4D019\\Desktop\\Python\\Data\\RockPaperScissors\\test\\images\\zoom_tests_RockPaperScissors-mohamed_mp4-104_jpg.rf.c1ebff6b365222f9b62fdc7e3bf7e506.jpg: 640x640 1 person, 134.3ms\n",
      "image 275/304 C:\\Users\\campus4D019\\Desktop\\Python\\Data\\RockPaperScissors\\test\\images\\zoom_tests_RockPaperScissors-mohamed_mp4-107_jpg.rf.056c26adf21336e65bd2ff9fcfe79df9.jpg: 640x640 1 person, 1 carrot, 110.6ms\n",
      "image 276/304 C:\\Users\\campus4D019\\Desktop\\Python\\Data\\RockPaperScissors\\test\\images\\zoom_tests_RockPaperScissors-mohamed_mp4-108_jpg.rf.527a140c46f5e84195dbc3ddc8206609.jpg: 640x640 1 person, 122.2ms\n",
      "image 277/304 C:\\Users\\campus4D019\\Desktop\\Python\\Data\\RockPaperScissors\\test\\images\\zoom_tests_RockPaperScissors-mohamed_mp4-110_jpg.rf.e17cde25ba79b045f283a8fc44402bd3.jpg: 640x640 1 person, 174.8ms\n",
      "image 278/304 C:\\Users\\campus4D019\\Desktop\\Python\\Data\\RockPaperScissors\\test\\images\\zoom_tests_RockPaperScissors-mohamed_mp4-114_jpg.rf.c8fbb658b2a760720af7c1caa2d40109.jpg: 640x640 1 person, 125.3ms\n",
      "image 279/304 C:\\Users\\campus4D019\\Desktop\\Python\\Data\\RockPaperScissors\\test\\images\\zoom_tests_RockPaperScissors-mohamed_mp4-12_jpg.rf.a48869bbb5abcb89e54734ab74eca4d8.jpg: 640x640 1 person, 152.7ms\n",
      "image 280/304 C:\\Users\\campus4D019\\Desktop\\Python\\Data\\RockPaperScissors\\test\\images\\zoom_tests_RockPaperScissors-mohamed_mp4-137_jpg.rf.fbd52216775bbb38da609b7e8062468e.jpg: 640x640 1 person, 1 carrot, 144.8ms\n",
      "image 281/304 C:\\Users\\campus4D019\\Desktop\\Python\\Data\\RockPaperScissors\\test\\images\\zoom_tests_RockPaperScissors-mohamed_mp4-143_jpg.rf.61aed70a8b309a6e2669b9463a1c41e5.jpg: 640x640 1 person, 154.2ms\n",
      "image 282/304 C:\\Users\\campus4D019\\Desktop\\Python\\Data\\RockPaperScissors\\test\\images\\zoom_tests_RockPaperScissors-mohamed_mp4-147_jpg.rf.e86b6adc544f78df64a5381e42f172d2.jpg: 640x640 1 person, 105.9ms\n",
      "image 283/304 C:\\Users\\campus4D019\\Desktop\\Python\\Data\\RockPaperScissors\\test\\images\\zoom_tests_RockPaperScissors-mohamed_mp4-157_jpg.rf.f6cfde7f0bb724f694018558aecfedb9.jpg: 640x640 1 person, 114.8ms\n",
      "image 284/304 C:\\Users\\campus4D019\\Desktop\\Python\\Data\\RockPaperScissors\\test\\images\\zoom_tests_RockPaperScissors-mohamed_mp4-164_jpg.rf.7cc3e8d09931a94a6b4d5d614a65489f.jpg: 640x640 1 person, 108.9ms\n",
      "image 285/304 C:\\Users\\campus4D019\\Desktop\\Python\\Data\\RockPaperScissors\\test\\images\\zoom_tests_RockPaperScissors-mohamed_mp4-178_jpg.rf.ee8324347a3a0a594b255fd0a59fedcf.jpg: 640x640 1 person, 110.8ms\n",
      "image 286/304 C:\\Users\\campus4D019\\Desktop\\Python\\Data\\RockPaperScissors\\test\\images\\zoom_tests_RockPaperScissors-mohamed_mp4-187_jpg.rf.2154ec5df3d2d8bf8513669e06da5780.jpg: 640x640 2 persons, 108.4ms\n",
      "image 287/304 C:\\Users\\campus4D019\\Desktop\\Python\\Data\\RockPaperScissors\\test\\images\\zoom_tests_RockPaperScissors-mohamed_mp4-199_jpg.rf.e41365af3ed167f0050d5d1e7425c300.jpg: 640x640 1 person, 138.5ms\n",
      "image 288/304 C:\\Users\\campus4D019\\Desktop\\Python\\Data\\RockPaperScissors\\test\\images\\zoom_tests_RockPaperScissors-mohamed_mp4-209_jpg.rf.e4dd83596f9cea2dfd035682050ea5a3.jpg: 640x640 1 person, 106.8ms\n",
      "image 289/304 C:\\Users\\campus4D019\\Desktop\\Python\\Data\\RockPaperScissors\\test\\images\\zoom_tests_RockPaperScissors-mohamed_mp4-216_jpg.rf.9bcc315b8ad5a2d871fec32702f25f76.jpg: 640x640 1 person, 123.0ms\n",
      "image 290/304 C:\\Users\\campus4D019\\Desktop\\Python\\Data\\RockPaperScissors\\test\\images\\zoom_tests_RockPaperScissors-mohamed_mp4-238_jpg.rf.a2ec0e42afe8e5b3b40e3def5a9b1c8e.jpg: 640x640 1 person, 102.5ms\n",
      "image 291/304 C:\\Users\\campus4D019\\Desktop\\Python\\Data\\RockPaperScissors\\test\\images\\zoom_tests_RockPaperScissors-mohamed_mp4-243_jpg.rf.818dafee2d571efd51884e8f30315bf4.jpg: 640x640 1 person, 117.4ms\n",
      "image 292/304 C:\\Users\\campus4D019\\Desktop\\Python\\Data\\RockPaperScissors\\test\\images\\zoom_tests_RockPaperScissors-mohamed_mp4-256_jpg.rf.c195df5dd565a69fb342bef482a8dab6.jpg: 640x640 1 person, 129.1ms\n",
      "image 293/304 C:\\Users\\campus4D019\\Desktop\\Python\\Data\\RockPaperScissors\\test\\images\\zoom_tests_RockPaperScissors-mohamed_mp4-27_jpg.rf.85bfca1bea8df3e5255f26112a7a0aad.jpg: 640x640 1 person, 140.7ms\n",
      "image 294/304 C:\\Users\\campus4D019\\Desktop\\Python\\Data\\RockPaperScissors\\test\\images\\zoom_tests_RockPaperScissors-mohamed_mp4-285_jpg.rf.7222941ab529a16277de5f941f652e85.jpg: 640x640 1 person, 99.2ms\n",
      "image 295/304 C:\\Users\\campus4D019\\Desktop\\Python\\Data\\RockPaperScissors\\test\\images\\zoom_tests_RockPaperScissors-mohamed_mp4-291_jpg.rf.d534df04c30fd69fdda812687610b6e2.jpg: 640x640 2 persons, 121.0ms\n",
      "image 296/304 C:\\Users\\campus4D019\\Desktop\\Python\\Data\\RockPaperScissors\\test\\images\\zoom_tests_RockPaperScissors-mohamed_mp4-37_jpg.rf.2485e257dda9802813673d000ba3ad96.jpg: 640x640 1 person, 100.3ms\n",
      "image 297/304 C:\\Users\\campus4D019\\Desktop\\Python\\Data\\RockPaperScissors\\test\\images\\zoom_tests_RockPaperScissors-mohamed_mp4-3_jpg.rf.a4a9d7c93efd42a20130d8a843713222.jpg: 640x640 1 person, 125.3ms\n",
      "image 298/304 C:\\Users\\campus4D019\\Desktop\\Python\\Data\\RockPaperScissors\\test\\images\\zoom_tests_RockPaperScissors-mohamed_mp4-42_jpg.rf.67dfbb4133d5bd1c428aec6500bbc909.jpg: 640x640 2 persons, 120.3ms\n",
      "image 299/304 C:\\Users\\campus4D019\\Desktop\\Python\\Data\\RockPaperScissors\\test\\images\\zoom_tests_RockPaperScissors-mohamed_mp4-58_jpg.rf.7c8250645d18838f38fdbbf1f2f29add.jpg: 640x640 1 person, 118.6ms\n",
      "image 300/304 C:\\Users\\campus4D019\\Desktop\\Python\\Data\\RockPaperScissors\\test\\images\\zoom_tests_RockPaperScissors-mohamed_mp4-72_jpg.rf.ef3fa23e245712c301c395e6c0da275e.jpg: 640x640 1 person, 114.8ms\n",
      "image 301/304 C:\\Users\\campus4D019\\Desktop\\Python\\Data\\RockPaperScissors\\test\\images\\zoom_tests_RockPaperScissors-mohamed_mp4-74_jpg.rf.c7a636a1ca423ca14dd9c46da92a1347.jpg: 640x640 2 persons, 131.8ms\n",
      "image 302/304 C:\\Users\\campus4D019\\Desktop\\Python\\Data\\RockPaperScissors\\test\\images\\zoom_tests_RockPaperScissors-mohamed_mp4-79_jpg.rf.5c30402c620144506cc2dc9bc87d3573.jpg: 640x640 1 person, 104.1ms\n",
      "image 303/304 C:\\Users\\campus4D019\\Desktop\\Python\\Data\\RockPaperScissors\\test\\images\\zoom_tests_RockPaperScissors-mohamed_mp4-87_jpg.rf.02bbad88be3d329e5c8a4864029c4330.jpg: 640x640 1 person, 147.4ms\n",
      "image 304/304 C:\\Users\\campus4D019\\Desktop\\Python\\Data\\RockPaperScissors\\test\\images\\zoom_tests_RockPaperScissors-mohamed_mp4-99_jpg.rf.4b5086b96398894f6916c2da8bcb8472.jpg: 640x640 1 person, 137.6ms\n",
      "Speed: 3.1ms preprocess, 113.5ms inference, 1.4ms postprocess per image at shape (1, 3, 640, 640)\n",
      "Results saved to \u001b[1mruns\\detect\\predict3\u001b[0m\n"
     ]
    }
   ],
   "source": [
    "results = model(\"Data/RockPaperScissors/test/images\", save = True)"
   ]
  },
  {
   "cell_type": "code",
   "execution_count": null,
   "id": "ac8989d4-a320-4036-8665-24f3eb2b5c4d",
   "metadata": {},
   "outputs": [],
   "source": []
  },
  {
   "cell_type": "code",
   "execution_count": null,
   "id": "c96dfde0-99c4-47c3-ba08-6d7841944f1a",
   "metadata": {},
   "outputs": [],
   "source": []
  },
  {
   "cell_type": "code",
   "execution_count": null,
   "id": "3e56d02a-eece-4552-b692-0ffc02d88e74",
   "metadata": {},
   "outputs": [],
   "source": []
  }
 ],
 "metadata": {
  "kernelspec": {
   "display_name": "Python 3 (ipykernel)",
   "language": "python",
   "name": "python3"
  },
  "language_info": {
   "codemirror_mode": {
    "name": "ipython",
    "version": 3
   },
   "file_extension": ".py",
   "mimetype": "text/x-python",
   "name": "python",
   "nbconvert_exporter": "python",
   "pygments_lexer": "ipython3",
   "version": "3.12.7"
  }
 },
 "nbformat": 4,
 "nbformat_minor": 5
}
