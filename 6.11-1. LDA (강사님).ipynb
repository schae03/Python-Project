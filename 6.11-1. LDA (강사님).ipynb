{
 "cells": [
  {
   "cell_type": "markdown",
   "id": "6f5af5ac-ed3c-43ad-85e6-7b94f4eef955",
   "metadata": {},
   "source": [
    "# LDA 토픽모델링\n",
    "```LDA(Latent Dirichlet Allocation, 잠재 디리클레 할당)```는 주어진 문서 집합에서 어떤 주제(Topic)들이 있는지 자동으로 찾아내는 대표적인 토픽 모델링 알고리즘입니다. '이 문서들은 어떤 주제들에 대해 이야기하고 있을까?'라는 질문에 대한 답을 통계적인 방법으로 찾아주는 것이죠. 예를 들어, \"사과, 배, 맛있다\"라는 문서와 \"아이폰, 앱, 비싸다\"라는 문서가 있다면, LDA는 '과일'과 'IT 기기'라는 두 가지 주제를 발견하고, 각 문서가 어떤 주제에 더 가까운지를 확률적으로 나타내 줍니다."
   ]
  },
  {
   "cell_type": "code",
   "execution_count": 1,
   "id": "2b123ddb-1008-4ea2-8bef-4b3cae4f188a",
   "metadata": {},
   "outputs": [],
   "source": [
    "from konlpy.tag import Okt\n",
    "from gensim.corpora import Dictionary\n",
    "from gensim.models import LdaModel\n",
    "\n",
    "documents = [\n",
    "    \"국토교통부는 부동산 투기 근절을 위해 강력한 세금 정책을 예고했습니다. 다주택자에 대한 규제가 핵심입니다.\",\n",
    "    \"정부의 새로운 공급 대책 발표 이후, 부동산 시장의 반응은 엇갈리고 있습니다. 전문가들은 정책의 실효성에 주목합니다.\",\n",
    "    \"치솟는 집값 안정을 위해 정부는 대출 총량 규제를 더욱 강화할 방침입니다. 서민들의 내 집 마련이 어려워지고 있습니다.\",\n",
    "    \"이번 부동산 정책은 신혼부부와 청년층을 위한 특별 공급 물량 확대에 초점을 맞추고 있습니다.\",\n",
    "    \"부동산 시장의 과열을 막기 위해 금리 인상과 같은 금융 정책이 함께 동원되어야 한다는 목소리가 높습니다.\",\n",
    "    \"최근 반려동물을 가족처럼 여기는 사람들이 늘어나면서 펫팸족이라는 신조어가 생겼습니다. 동물에 대한 사랑이 깊어지고 있습니다.\",\n",
    "    \"유기견 보호소에서는 매일 새로운 강아지들이 구조되고 있습니다. 많은 유기견들이 새로운 가족을 기다리며 입양을 희망합니다.\",\n",
    "    \"강아지 입양 전에는 신중한 고민이 필요합니다. 한 생명을 책임지는 일이기에 사랑과 헌신이 중요합니다.\",\n",
    "    \"동물보호단체는 유기동물 안락사를 줄이기 위해 사회적인 관심과 적극적인 입양 캠페인이 필요하다고 강조했습니다.\",\n",
    "    \"길고양이들을 위한 겨울나기 쉼터가 마련되었습니다. 시민들의 따뜻한 사랑 덕분에 동물들이 추운 겨울을 보낼 수 있게 됐습니다.\"\n",
    "]"
   ]
  },
  {
   "cell_type": "code",
   "execution_count": 2,
   "id": "f4fc9f4a-81d3-4f6e-912e-4b0ad0339329",
   "metadata": {},
   "outputs": [],
   "source": [
    "okt = Okt()\n",
    "tokenized_docs = [okt.nouns(i) for i in documents]"
   ]
  },
  {
   "cell_type": "code",
   "execution_count": 3,
   "id": "0618b85f-c21f-48d3-bc5c-4c609ac7df17",
   "metadata": {
    "scrolled": true
   },
   "outputs": [
    {
     "data": {
      "text/plain": [
       "[(0, '국토교통부'),\n",
       " (1, '규제'),\n",
       " (2, '근절'),\n",
       " (3, '대한'),\n",
       " (4, '부동산'),\n",
       " (5, '세금'),\n",
       " (6, '예고'),\n",
       " (7, '위해'),\n",
       " (8, '정책'),\n",
       " (9, '주택'),\n",
       " (10, '투기'),\n",
       " (11, '핵심'),\n",
       " (12, '공급'),\n",
       " (13, '대책'),\n",
       " (14, '반응'),\n",
       " (15, '발표'),\n",
       " (16, '시장'),\n",
       " (17, '실효'),\n",
       " (18, '이후'),\n",
       " (19, '전문가'),\n",
       " (20, '정부'),\n",
       " (21, '주목'),\n",
       " (22, '내'),\n",
       " (23, '대출'),\n",
       " (24, '더욱'),\n",
       " (25, '마련'),\n",
       " (26, '방침'),\n",
       " (27, '서민'),\n",
       " (28, '안정'),\n",
       " (29, '집'),\n",
       " (30, '집값'),\n",
       " (31, '총량'),\n",
       " (32, '물량'),\n",
       " (33, '신혼부부'),\n",
       " (34, '위'),\n",
       " (35, '이번'),\n",
       " (36, '청년'),\n",
       " (37, '초점'),\n",
       " (38, '층'),\n",
       " (39, '특별'),\n",
       " (40, '확대'),\n",
       " (41, '과열'),\n",
       " (42, '금리'),\n",
       " (43, '금융'),\n",
       " (44, '동원'),\n",
       " (45, '목소리'),\n",
       " (46, '인상'),\n",
       " (47, '가족'),\n",
       " (48, '동물'),\n",
       " (49, '반려동물'),\n",
       " (50, '사람'),\n",
       " (51, '사랑'),\n",
       " (52, '신조어'),\n",
       " (53, '최근'),\n",
       " (54, '펫팸족'),\n",
       " (55, '강아지'),\n",
       " (56, '구조'),\n",
       " (57, '매일'),\n",
       " (58, '보호'),\n",
       " (59, '소'),\n",
       " (60, '유기견'),\n",
       " (61, '입양'),\n",
       " (62, '희망'),\n",
       " (63, '고민'),\n",
       " (64, '생명'),\n",
       " (65, '이기'),\n",
       " (66, '전'),\n",
       " (67, '헌신'),\n",
       " (68, '강조'),\n",
       " (69, '관심'),\n",
       " (70, '단체'),\n",
       " (71, '동물보호'),\n",
       " (72, '사회'),\n",
       " (73, '안락사'),\n",
       " (74, '유기동물'),\n",
       " (75, '적극'),\n",
       " (76, '캠페인'),\n",
       " (77, '겨울'),\n",
       " (78, '겨울나기'),\n",
       " (79, '길고양이'),\n",
       " (80, '덕분'),\n",
       " (81, '수'),\n",
       " (82, '시민'),\n",
       " (83, '터')]"
      ]
     },
     "execution_count": 3,
     "metadata": {},
     "output_type": "execute_result"
    }
   ],
   "source": [
    "# 단어 사전(Dictionary) 생성\n",
    "# 각 단어에 고유한 ID를 부여합니다.\n",
    "dictionary = Dictionary(tokenized_docs)\n",
    "list(dictionary.items())"
   ]
  },
  {
   "cell_type": "code",
   "execution_count": 4,
   "id": "889da0f9-f4fc-4d48-a927-a94da68f7b8d",
   "metadata": {
    "scrolled": true
   },
   "outputs": [
    {
     "data": {
      "text/plain": [
       "[[(0, 1),\n",
       "  (1, 1),\n",
       "  (2, 1),\n",
       "  (3, 1),\n",
       "  (4, 1),\n",
       "  (5, 1),\n",
       "  (6, 1),\n",
       "  (7, 1),\n",
       "  (8, 1),\n",
       "  (9, 1),\n",
       "  (10, 1),\n",
       "  (11, 1)],\n",
       " [(4, 1),\n",
       "  (8, 1),\n",
       "  (12, 1),\n",
       "  (13, 1),\n",
       "  (14, 1),\n",
       "  (15, 1),\n",
       "  (16, 1),\n",
       "  (17, 1),\n",
       "  (18, 1),\n",
       "  (19, 1),\n",
       "  (20, 1),\n",
       "  (21, 1)],\n",
       " [(1, 1),\n",
       "  (7, 1),\n",
       "  (20, 1),\n",
       "  (22, 1),\n",
       "  (23, 1),\n",
       "  (24, 1),\n",
       "  (25, 1),\n",
       "  (26, 1),\n",
       "  (27, 1),\n",
       "  (28, 1),\n",
       "  (29, 1),\n",
       "  (30, 1),\n",
       "  (31, 1)],\n",
       " [(4, 1),\n",
       "  (8, 1),\n",
       "  (12, 1),\n",
       "  (32, 1),\n",
       "  (33, 1),\n",
       "  (34, 1),\n",
       "  (35, 1),\n",
       "  (36, 1),\n",
       "  (37, 1),\n",
       "  (38, 1),\n",
       "  (39, 1),\n",
       "  (40, 1)],\n",
       " [(4, 1),\n",
       "  (7, 1),\n",
       "  (8, 1),\n",
       "  (16, 1),\n",
       "  (41, 1),\n",
       "  (42, 1),\n",
       "  (43, 1),\n",
       "  (44, 1),\n",
       "  (45, 1),\n",
       "  (46, 1)],\n",
       " [(3, 1),\n",
       "  (47, 1),\n",
       "  (48, 1),\n",
       "  (49, 1),\n",
       "  (50, 1),\n",
       "  (51, 1),\n",
       "  (52, 1),\n",
       "  (53, 1),\n",
       "  (54, 1)],\n",
       " [(47, 1),\n",
       "  (55, 1),\n",
       "  (56, 1),\n",
       "  (57, 1),\n",
       "  (58, 1),\n",
       "  (59, 1),\n",
       "  (60, 2),\n",
       "  (61, 1),\n",
       "  (62, 1)],\n",
       " [(51, 1), (55, 1), (61, 1), (63, 1), (64, 1), (65, 1), (66, 1), (67, 1)],\n",
       " [(7, 1),\n",
       "  (61, 1),\n",
       "  (68, 1),\n",
       "  (69, 1),\n",
       "  (70, 1),\n",
       "  (71, 1),\n",
       "  (72, 1),\n",
       "  (73, 1),\n",
       "  (74, 1),\n",
       "  (75, 1),\n",
       "  (76, 1)],\n",
       " [(25, 1),\n",
       "  (34, 1),\n",
       "  (48, 1),\n",
       "  (51, 1),\n",
       "  (77, 1),\n",
       "  (78, 1),\n",
       "  (79, 1),\n",
       "  (80, 1),\n",
       "  (81, 1),\n",
       "  (82, 1),\n",
       "  (83, 1)]]"
      ]
     },
     "execution_count": 4,
     "metadata": {},
     "output_type": "execute_result"
    }
   ],
   "source": [
    "# 코퍼스(Corpus) 생성\n",
    "# 각 문서를 (단어 ID, 단어 빈도수) 형태의 벡터로 변환합니다.\n",
    "corpus = [dictionary.doc2bow(doc) for doc in tokenized_docs]\n",
    "corpus"
   ]
  },
  {
   "cell_type": "code",
   "execution_count": 5,
   "id": "580adbff-9c92-45f5-9b58-751c681b8716",
   "metadata": {},
   "outputs": [
    {
     "name": "stdout",
     "output_type": "stream",
     "text": [
      "토픽 수 = 2, Coherence Score = 0.3755\n",
      "토픽 수 = 3, Coherence Score = 0.2679\n",
      "토픽 수 = 4, Coherence Score = 0.3298\n",
      "토픽 수 = 5, Coherence Score = 0.2482\n",
      "토픽 수 = 6, Coherence Score = 0.2886\n",
      "토픽 수 = 7, Coherence Score = 0.3383\n",
      "토픽 수 = 8, Coherence Score = 0.3619\n",
      "토픽 수 = 9, Coherence Score = 0.3439\n",
      "토픽 수 = 10, Coherence Score = 0.2968\n"
     ]
    }
   ],
   "source": [
    "from gensim.models import LdaModel, CoherenceModel\n",
    "\n",
    "coherence_values = []\n",
    "k_range = range(2, 11)  # 2개부터 10개까지의 토픽 수를 테스트\n",
    "\n",
    "for num_topics in k_range:\n",
    "    # LDA 모델 훈련\n",
    "    model = LdaModel(corpus=corpus,\n",
    "                     id2word=dictionary,\n",
    "                     num_topics=num_topics,\n",
    "                     passes=100)\n",
    "    \n",
    "    # Coherence 모델 생성 및 점수 계산\n",
    "    # coherence='c_v'는 가장 널리 쓰이는 일관성 측정 방법 중 하나입니다.\n",
    "    coherencemodel = CoherenceModel(model=model, texts=tokenized_docs, dictionary=dictionary)\n",
    "    coherence_values.append(coherencemodel.get_coherence())\n",
    "    print(f\"토픽 수 = {num_topics}, Coherence Score = {coherencemodel.get_coherence():.4f}\")"
   ]
  },
  {
   "cell_type": "code",
   "execution_count": 6,
   "id": "e0b92c9f-eb75-4542-a9b8-ee90ecad2287",
   "metadata": {},
   "outputs": [
    {
     "data": {
      "image/png": "[encoded data removed]",
      "text/plain": [
       "<Figure size 1000x500 with 1 Axes>"
      ]
     },
     "metadata": {},
     "output_type": "display_data"
    }
   ],
   "source": [
    "import matplotlib.pyplot as plt\n",
    "\n",
    "# 그래프로 표현\n",
    "plt.figure(figsize=(10, 5))\n",
    "plt.plot(k_range, coherence_values, marker='o')\n",
    "plt.xlabel(\"Number of Topics (K)\")\n",
    "plt.ylabel(\"Coherence Score\")\n",
    "plt.title(\"Coherence Scores for Different Numbers of Topics\")\n",
    "plt.xticks(k_range)\n",
    "plt.grid(True)\n",
    "plt.show()"
   ]
  },
  {
   "cell_type": "code",
   "execution_count": 7,
   "id": "33739a0b-9739-4604-ae20-b92969831944",
   "metadata": {},
   "outputs": [],
   "source": [
    "# LDA 모델 훈련\n",
    "# 주제의 개수(num_topics)와 사전(id2word)을 지정합니다.\n",
    "# passes는 모델 훈련 반복 횟수입니다.\n"
   ]
  },
  {
   "cell_type": "code",
   "execution_count": 8,
   "id": "8dee1fcd-429f-4797-b753-cb3322129bbf",
   "metadata": {},
   "outputs": [
    {
     "name": "stdout",
     "output_type": "stream",
     "text": [
      "추출된 주제:\n",
      "(0, '0.038*\"입양\" + 0.027*\"사랑\" + 0.027*\"유기견\" + 0.027*\"강아지\" + 0.027*\"가족\"')\n",
      "(1, '0.035*\"정책\" + 0.035*\"부동산\" + 0.035*\"위해\" + 0.025*\"정부\" + 0.025*\"규제\"')\n"
     ]
    }
   ],
   "source": [
    "num_topics = 2  # 예시로 2개의 주제를 추출하도록 설정\n",
    "lda_model = LdaModel(corpus, num_topics=num_topics, id2word=dictionary, passes=15)\n",
    "\n",
    "# 결과 확인\n",
    "topics = lda_model.print_topics(num_words=5) # 각 주제별로 연관성이 높은 단어 5개씩 출력\n",
    "print(\"추출된 주제:\")\n",
    "for topic in topics:\n",
    "    print(topic)"
   ]
  },
  {
   "cell_type": "code",
   "execution_count": 9,
   "id": "8724636f-fbb8-4390-9768-08bf98c93a98",
   "metadata": {},
   "outputs": [
    {
     "name": "stdout",
     "output_type": "stream",
     "text": [
      "문서 1의 주제 분포: [(0, 0.04210965), (1, 0.9578904)]\n",
      "문서 2의 주제 분포: [(0, 0.04171676), (1, 0.95828325)]\n",
      "문서 3의 주제 분포: [(0, 0.03738517), (1, 0.9626149)]\n",
      "문서 4의 주제 분포: [(0, 0.94556814), (1, 0.054431874)]\n",
      "문서 5의 주제 분포: [(0, 0.048517097), (1, 0.9514829)]\n",
      "문서 6의 주제 분포: [(0, 0.9438674), (1, 0.05613267)]\n",
      "문서 7의 주제 분포: [(0, 0.9532734), (1, 0.0467266)]\n",
      "문서 8의 주제 분포: [(0, 0.94183135), (1, 0.0581687)]\n",
      "문서 9의 주제 분포: [(0, 0.95285547), (1, 0.047144555)]\n",
      "문서 10의 주제 분포: [(0, 0.050747182), (1, 0.9492528)]\n"
     ]
    }
   ],
   "source": [
    "import numpy as np\n",
    "\n",
    "def make_topic(x):\n",
    "    box = []\n",
    "    for i in x:\n",
    "        box.append(i[1])\n",
    "    return np.argmax(box)\n",
    "\n",
    "box = []\n",
    "# 새로운 문서에 대한 주제 추론\n",
    "for i, doc_bow in enumerate(corpus):\n",
    "    doc_topics = lda_model.get_document_topics(doc_bow)\n",
    "    print(f\"문서 {i+1}의 주제 분포:\", doc_topics)\n",
    "    box.append(make_topic(doc_topics))"
   ]
  },
  {
   "cell_type": "code",
   "execution_count": 10,
   "id": "8d37b0e4-d5bf-4cdc-85dc-5b549497fb45",
   "metadata": {},
   "outputs": [
    {
     "data": {
      "text/html": [
       "<div>\n",
       "<style scoped>\n",
       "    .dataframe tbody tr th:only-of-type {\n",
       "        vertical-align: middle;\n",
       "    }\n",
       "\n",
       "    .dataframe tbody tr th {\n",
       "        vertical-align: top;\n",
       "    }\n",
       "\n",
       "    .dataframe thead th {\n",
       "        text-align: right;\n",
       "    }\n",
       "</style>\n",
       "<table border=\"1\" class=\"dataframe\">\n",
       "  <thead>\n",
       "    <tr style=\"text-align: right;\">\n",
       "      <th></th>\n",
       "      <th>내용</th>\n",
       "      <th>label</th>\n",
       "    </tr>\n",
       "  </thead>\n",
       "  <tbody>\n",
       "    <tr>\n",
       "      <th>0</th>\n",
       "      <td>국토교통부는 부동산 투기 근절을 위해 강력한 세금 정책을 예고했습니다. 다주택자에 ...</td>\n",
       "      <td>1</td>\n",
       "    </tr>\n",
       "    <tr>\n",
       "      <th>1</th>\n",
       "      <td>정부의 새로운 공급 대책 발표 이후, 부동산 시장의 반응은 엇갈리고 있습니다. 전문...</td>\n",
       "      <td>1</td>\n",
       "    </tr>\n",
       "    <tr>\n",
       "      <th>2</th>\n",
       "      <td>치솟는 집값 안정을 위해 정부는 대출 총량 규제를 더욱 강화할 방침입니다. 서민들의...</td>\n",
       "      <td>1</td>\n",
       "    </tr>\n",
       "    <tr>\n",
       "      <th>3</th>\n",
       "      <td>이번 부동산 정책은 신혼부부와 청년층을 위한 특별 공급 물량 확대에 초점을 맞추고 ...</td>\n",
       "      <td>0</td>\n",
       "    </tr>\n",
       "    <tr>\n",
       "      <th>4</th>\n",
       "      <td>부동산 시장의 과열을 막기 위해 금리 인상과 같은 금융 정책이 함께 동원되어야 한다...</td>\n",
       "      <td>1</td>\n",
       "    </tr>\n",
       "    <tr>\n",
       "      <th>5</th>\n",
       "      <td>최근 반려동물을 가족처럼 여기는 사람들이 늘어나면서 펫팸족이라는 신조어가 생겼습니다...</td>\n",
       "      <td>0</td>\n",
       "    </tr>\n",
       "    <tr>\n",
       "      <th>6</th>\n",
       "      <td>유기견 보호소에서는 매일 새로운 강아지들이 구조되고 있습니다. 많은 유기견들이 새로...</td>\n",
       "      <td>0</td>\n",
       "    </tr>\n",
       "    <tr>\n",
       "      <th>7</th>\n",
       "      <td>강아지 입양 전에는 신중한 고민이 필요합니다. 한 생명을 책임지는 일이기에 사랑과 ...</td>\n",
       "      <td>0</td>\n",
       "    </tr>\n",
       "    <tr>\n",
       "      <th>8</th>\n",
       "      <td>동물보호단체는 유기동물 안락사를 줄이기 위해 사회적인 관심과 적극적인 입양 캠페인이...</td>\n",
       "      <td>0</td>\n",
       "    </tr>\n",
       "    <tr>\n",
       "      <th>9</th>\n",
       "      <td>길고양이들을 위한 겨울나기 쉼터가 마련되었습니다. 시민들의 따뜻한 사랑 덕분에 동물...</td>\n",
       "      <td>1</td>\n",
       "    </tr>\n",
       "  </tbody>\n",
       "</table>\n",
       "</div>"
      ],
      "text/plain": [
       "                                                  내용  label\n",
       "0  국토교통부는 부동산 투기 근절을 위해 강력한 세금 정책을 예고했습니다. 다주택자에 ...      1\n",
       "1  정부의 새로운 공급 대책 발표 이후, 부동산 시장의 반응은 엇갈리고 있습니다. 전문...      1\n",
       "2  치솟는 집값 안정을 위해 정부는 대출 총량 규제를 더욱 강화할 방침입니다. 서민들의...      1\n",
       "3  이번 부동산 정책은 신혼부부와 청년층을 위한 특별 공급 물량 확대에 초점을 맞추고 ...      0\n",
       "4  부동산 시장의 과열을 막기 위해 금리 인상과 같은 금융 정책이 함께 동원되어야 한다...      1\n",
       "5  최근 반려동물을 가족처럼 여기는 사람들이 늘어나면서 펫팸족이라는 신조어가 생겼습니다...      0\n",
       "6  유기견 보호소에서는 매일 새로운 강아지들이 구조되고 있습니다. 많은 유기견들이 새로...      0\n",
       "7  강아지 입양 전에는 신중한 고민이 필요합니다. 한 생명을 책임지는 일이기에 사랑과 ...      0\n",
       "8  동물보호단체는 유기동물 안락사를 줄이기 위해 사회적인 관심과 적극적인 입양 캠페인이...      0\n",
       "9  길고양이들을 위한 겨울나기 쉼터가 마련되었습니다. 시민들의 따뜻한 사랑 덕분에 동물...      1"
      ]
     },
     "execution_count": 10,
     "metadata": {},
     "output_type": "execute_result"
    }
   ],
   "source": [
    "import pandas as pd\n",
    "df = pd.DataFrame(documents, columns = ['내용'])\n",
    "df['label'] = box\n",
    "df"
   ]
  },
  {
   "cell_type": "code",
   "execution_count": 11,
   "id": "bc67c4d1-b897-45ba-81b6-bec93a8bed47",
   "metadata": {},
   "outputs": [],
   "source": [
    "# !pip install pyLDAvis"
   ]
  },
  {
   "cell_type": "code",
   "execution_count": 12,
   "id": "be189793-1432-4df8-97f4-46efaf9eb2f2",
   "metadata": {},
   "outputs": [
    {
     "data": {
      "text/html": [
       "\n",
       "<link rel=\"stylesheet\" type=\"text/css\" href=\"https://cdn.jsdelivr.net/gh/bmabey/pyLDAvis@3.4.0/pyLDAvis/js/ldavis.v1.0.0.css\">\n",
       "\n",
       "\n",
       "<div id=\"ldavis_el1799619869317991204002464971\" style=\"background-color:white;\"></div>\n",
       "<script type=\"text/javascript\">\n",
       "\n",
       "var ldavis_el1799619869317991204002464971_data = {\"mdsDat\": {\"x\": [0.06562921893558785, -0.06562921893558785], \"y\": [0.0, 0.0], \"topics\": [1, 2], \"cluster\": [1, 1], \"Freq\": [53.77291396428793, 46.22708603571207]}, \"tinfo\": {\"Term\": [\"\\uc785\\uc591\", \"\\uc720\\uae30\\uacac\", \"\\uac15\\uc544\\uc9c0\", \"\\uac00\\uc871\", \"\\uc815\\ubd80\", \"\\uaddc\\uc81c\", \"\\uc2dc\\uc7a5\", \"\\ub9c8\\ub828\", \"\\uc18c\", \"\\ud76c\\ub9dd\", \"\\uad6c\\uc870\", \"\\ub9e4\\uc77c\", \"\\ubcf4\\ud638\", \"\\ub2e8\\uccb4\", \"\\uc548\\ub77d\\uc0ac\", \"\\ucea0\\ud398\\uc778\", \"\\uc801\\uadf9\", \"\\ub3d9\\ubb3c\\ubcf4\\ud638\", \"\\uc720\\uae30\\ub3d9\\ubb3c\", \"\\uad00\\uc2ec\", \"\\uac15\\uc870\", \"\\uc0ac\\ud68c\", \"\\uace0\\ubbfc\", \"\\ucd08\\uc810\", \"\\uc774\\uae30\", \"\\uce35\", \"\\ud655\\ub300\", \"\\ubb3c\\ub7c9\", \"\\uccad\\ub144\", \"\\ud2b9\\ubcc4\", \"\\uc815\\ubd80\", \"\\uaddc\\uc81c\", \"\\uc2dc\\uc7a5\", \"\\ub9c8\\ub828\", \"\\ubc29\\uce68\", \"\\ub300\\ucd9c\", \"\\uc9d1\\uac12\", \"\\ub0b4\", \"\\uc11c\\ubbfc\", \"\\uc9d1\", \"\\uc548\\uc815\", \"\\ub354\\uc6b1\", \"\\ucd1d\\ub7c9\", \"\\ubc18\\uc751\", \"\\ubc1c\\ud45c\", \"\\ub300\\ucc45\", \"\\uc804\\ubb38\\uac00\", \"\\uc2e4\\ud6a8\", \"\\uc8fc\\ubaa9\", \"\\uc774\\ud6c4\", \"\\uc608\\uace0\", \"\\uc138\\uae08\", \"\\uacfc\\uc5f4\", \"\\ub3d9\\uc6d0\", \"\\uc8fc\\ud0dd\", \"\\ubaa9\\uc18c\\ub9ac\", \"\\uae08\\uc735\", \"\\uc778\\uc0c1\", \"\\ud22c\\uae30\", \"\\ud575\\uc2ec\", \"\\uc815\\ucc45\", \"\\ubd80\\ub3d9\\uc0b0\", \"\\uc704\\ud574\", \"\\uacf5\\uae09\", \"\\ub300\\ud55c\", \"\\uc704\", \"\\ub3d9\\ubb3c\", \"\\uc785\\uc591\", \"\\uc720\\uae30\\uacac\", \"\\uac15\\uc544\\uc9c0\", \"\\uac00\\uc871\", \"\\uc18c\", \"\\ud76c\\ub9dd\", \"\\uad6c\\uc870\", \"\\ub9e4\\uc77c\", \"\\ubcf4\\ud638\", \"\\ub2e8\\uccb4\", \"\\uc548\\ub77d\\uc0ac\", \"\\ucea0\\ud398\\uc778\", \"\\uc801\\uadf9\", \"\\ub3d9\\ubb3c\\ubcf4\\ud638\", \"\\uc720\\uae30\\ub3d9\\ubb3c\", \"\\uad00\\uc2ec\", \"\\uac15\\uc870\", \"\\uc0ac\\ud68c\", \"\\uace0\\ubbfc\", \"\\ucd08\\uc810\", \"\\uc774\\uae30\", \"\\uce35\", \"\\ud655\\ub300\", \"\\ubb3c\\ub7c9\", \"\\uccad\\ub144\", \"\\ud2b9\\ubcc4\", \"\\uc774\\ubc88\", \"\\uc2e0\\ud63c\\ubd80\\ubd80\", \"\\uc804\", \"\\ud5cc\\uc2e0\", \"\\uc0ac\\ub791\", \"\\ub3d9\\ubb3c\", \"\\uc704\"], \"Freq\": [2.0, 1.0, 1.0, 1.0, 1.0, 1.0, 1.0, 1.0, 1.0, 1.0, 1.0, 1.0, 1.0, 1.0, 1.0, 1.0, 1.0, 1.0, 1.0, 1.0, 1.0, 1.0, 1.0, 1.0, 1.0, 1.0, 1.0, 1.0, 1.0, 1.0, 1.448621477403112, 1.4482574764461453, 1.4482145319053086, 1.4481938709297424, 0.8688921892403122, 0.868886672435318, 0.8688846712413496, 0.868883805860174, 0.8688824537020873, 0.8688785054004737, 0.8688728804228327, 0.8688688239485722, 0.8688657951144578, 0.8686112107898751, 0.868578650823145, 0.8685726472412396, 0.868567887644774, 0.8685591256603715, 0.8685535006827305, 0.8685440896624463, 0.868404601034212, 0.8683704725641012, 0.8683699857871899, 0.8683661997445469, 0.8683236878942979, 0.868321632614006, 0.8683177924850395, 0.868305244457994, 0.8682812301303724, 0.8682697097434728, 2.0582682367901888, 2.058178669838519, 2.046765157514162, 0.8746874847140144, 0.8731255257784662, 0.8705265156766658, 0.8695738932613534, 1.899543536783542, 1.3574171351424342, 1.356650686580664, 1.356536026173401, 0.8140383033593802, 0.8140332817357044, 0.8140209136625771, 0.8139945966347949, 0.8139793457777056, 0.8136617745767294, 0.8136356435350093, 0.8136196487336717, 0.8136188117963924, 0.813597795371379, 0.8135869151867482, 0.8135711993645037, 0.8135581803401591, 0.8134827629919917, 0.8133099819403332, 0.81330337943513, 0.8132936151668715, 0.8132903604107854, 0.813283757905582, 0.8132681350763686, 0.8132667401809031, 0.8132241493726902, 0.813215222041711, 0.8132141991183697, 0.8131879750836185, 0.8131810935993221, 1.3692199036341168, 0.8155390248941835, 0.814646477782333], \"Total\": [2.0, 1.0, 1.0, 1.0, 1.0, 1.0, 1.0, 1.0, 1.0, 1.0, 1.0, 1.0, 1.0, 1.0, 1.0, 1.0, 1.0, 1.0, 1.0, 1.0, 1.0, 1.0, 1.0, 1.0, 1.0, 1.0, 1.0, 1.0, 1.0, 1.0, 1.7215931509512892, 1.7215701089426032, 1.721567500128977, 1.7215660654625768, 1.1416257541325305, 1.141625375192501, 1.141625326852184, 1.1416251356704836, 1.1416251551596046, 1.1416249033309747, 1.141624509211329, 1.1416242422030831, 1.1416240961529307, 1.141607992456431, 1.1416059109556218, 1.1416056031968673, 1.141605330514149, 1.1416047519164774, 1.1416044507898628, 1.1416037811144957, 1.1415949476948621, 1.1415928088274265, 1.1415927637674128, 1.1415925347082068, 1.1415898471234973, 1.1415896749520837, 1.141589415054812, 1.14158865389445, 1.1415871903768537, 1.1415864571815542, 2.846889312935628, 2.8468839046770427, 2.8461649628935533, 1.6854351366772766, 1.6853367020641188, 1.6851729934589987, 1.6851129181555369, 2.1922309190437845, 1.6486919989788815, 1.648743146325876, 1.6487508562254682, 1.1052371488681876, 1.1052374547473738, 1.1052382837371737, 1.1052400104681117, 1.105240985508064, 1.105262346253125, 1.1052641507974783, 1.1052651931880344, 1.1052652486750925, 1.1052666780743199, 1.1052673994060738, 1.1052684503441057, 1.105269385591217, 1.1052743946060524, 1.1052859397447865, 1.1052864766342814, 1.105286961724321, 1.1052873037087458, 1.1052877865119173, 1.1052888222703332, 1.1052889147487632, 1.1052916753227815, 1.1052924294437039, 1.105292380074185, 1.1052940645823455, 1.105294538838041, 2.2278751744308822, 1.6851129181555369, 1.6851729934589987], \"Category\": [\"Default\", \"Default\", \"Default\", \"Default\", \"Default\", \"Default\", \"Default\", \"Default\", \"Default\", \"Default\", \"Default\", \"Default\", \"Default\", \"Default\", \"Default\", \"Default\", \"Default\", \"Default\", \"Default\", \"Default\", \"Default\", \"Default\", \"Default\", \"Default\", \"Default\", \"Default\", \"Default\", \"Default\", \"Default\", \"Default\", \"Topic1\", \"Topic1\", \"Topic1\", \"Topic1\", \"Topic1\", \"Topic1\", \"Topic1\", \"Topic1\", \"Topic1\", \"Topic1\", \"Topic1\", \"Topic1\", \"Topic1\", \"Topic1\", \"Topic1\", \"Topic1\", \"Topic1\", \"Topic1\", \"Topic1\", \"Topic1\", \"Topic1\", \"Topic1\", \"Topic1\", \"Topic1\", \"Topic1\", \"Topic1\", \"Topic1\", \"Topic1\", \"Topic1\", \"Topic1\", \"Topic1\", \"Topic1\", \"Topic1\", \"Topic1\", \"Topic1\", \"Topic1\", \"Topic1\", \"Topic2\", \"Topic2\", \"Topic2\", \"Topic2\", \"Topic2\", \"Topic2\", \"Topic2\", \"Topic2\", \"Topic2\", \"Topic2\", \"Topic2\", \"Topic2\", \"Topic2\", \"Topic2\", \"Topic2\", \"Topic2\", \"Topic2\", \"Topic2\", \"Topic2\", \"Topic2\", \"Topic2\", \"Topic2\", \"Topic2\", \"Topic2\", \"Topic2\", \"Topic2\", \"Topic2\", \"Topic2\", \"Topic2\", \"Topic2\", \"Topic2\", \"Topic2\", \"Topic2\"], \"logprob\": [30.0, 29.0, 28.0, 27.0, 26.0, 25.0, 24.0, 23.0, 22.0, 21.0, 20.0, 19.0, 18.0, 17.0, 16.0, 15.0, 14.0, 13.0, 12.0, 11.0, 10.0, 9.0, 8.0, 7.0, 6.0, 5.0, 4.0, 3.0, 2.0, 1.0, -3.6911, -3.6914, -3.6914, -3.6914, -4.2023, -4.2023, -4.2023, -4.2023, -4.2023, -4.2023, -4.2023, -4.2023, -4.2023, -4.2026, -4.2026, -4.2026, -4.2026, -4.2027, -4.2027, -4.2027, -4.2028, -4.2029, -4.2029, -4.2029, -4.2029, -4.2029, -4.2029, -4.2029, -4.203, -4.203, -3.3399, -3.3399, -3.3455, -4.1956, -4.1974, -4.2004, -4.2015, -3.2689, -3.6049, -3.6055, -3.6056, -4.1163, -4.1163, -4.1163, -4.1163, -4.1163, -4.1167, -4.1168, -4.1168, -4.1168, -4.1168, -4.1168, -4.1168, -4.1169, -4.117, -4.1172, -4.1172, -4.1172, -4.1172, -4.1172, -4.1172, -4.1172, -4.1173, -4.1173, -4.1173, -4.1173, -4.1173, -3.5963, -4.1144, -4.1155], \"loglift\": [30.0, 29.0, 28.0, 27.0, 26.0, 25.0, 24.0, 23.0, 22.0, 21.0, 20.0, 19.0, 18.0, 17.0, 16.0, 15.0, 14.0, 13.0, 12.0, 11.0, 10.0, 9.0, 8.0, 7.0, 6.0, 5.0, 4.0, 3.0, 2.0, 1.0, 0.4478, 0.4475, 0.4475, 0.4475, 0.3474, 0.3474, 0.3474, 0.3474, 0.3474, 0.3474, 0.3474, 0.3474, 0.3474, 0.3471, 0.3471, 0.3471, 0.3471, 0.347, 0.347, 0.347, 0.3469, 0.3468, 0.3468, 0.3468, 0.3468, 0.3468, 0.3468, 0.3468, 0.3467, 0.3467, 0.296, 0.296, 0.2907, -0.0355, -0.0372, -0.0401, -0.0412, 0.6283, 0.5772, 0.5766, 0.5765, 0.4658, 0.4658, 0.4658, 0.4657, 0.4657, 0.4653, 0.4653, 0.4653, 0.4653, 0.4652, 0.4652, 0.4652, 0.4652, 0.4651, 0.4649, 0.4648, 0.4648, 0.4648, 0.4648, 0.4648, 0.4648, 0.4647, 0.4647, 0.4647, 0.4647, 0.4647, 0.2848, 0.0459, 0.0447]}, \"token.table\": {\"Topic\": [2, 2, 2, 2, 1, 2, 1, 2, 2, 1, 1, 1, 2, 1, 1, 1, 2, 1, 1, 2, 2, 1, 1, 2, 1, 2, 1, 1, 1, 2, 1, 2, 1, 2, 2, 1, 1, 2, 1, 2, 1, 2, 1, 1, 1, 2, 1, 2, 2, 2, 2, 2, 1, 1, 2, 2, 2, 1, 1, 1, 2, 1, 1, 1, 1, 2, 2, 1, 2, 2, 1, 2, 1, 2, 2, 2], \"Freq\": [0.6065197760014076, 0.606522612226434, 0.9047568068350074, 0.9047432560581588, 0.5933185906942902, 0.5933185906942902, 0.8759691124003474, 0.9047575724147991, 0.904782267058893, 0.580865103782619, 0.8759716819483528, 0.8759442734349868, 0.9047625691674309, 0.8759592605359281, 0.8759440896549623, 0.5933532443548215, 0.5933532443548215, 0.8759449589737341, 0.5934320419871705, 0.5934320419871705, 0.9047590231728296, 0.8759692881625246, 0.580866468073245, 0.9047808535057118, 0.8759714825223637, 0.9047408965431648, 0.8759574272498487, 0.8759590243912757, 0.8759437989026925, 0.9047800553110268, 0.7025225007294018, 0.3512612503647009, 0.44885818176750103, 0.44885818176750103, 0.9047527065497841, 0.8759442584814061, 0.875969077824814, 0.904783196098724, 0.5808659840088068, 0.9047379842905295, 0.8759599137277965, 0.9047610919783046, 0.8759447541038097, 0.8759674366282242, 0.5934108865270814, 0.5934108865270814, 0.7026999580399234, 0.3513499790199617, 0.6065414283682766, 0.9047584326990552, 0.9047424195069972, 0.9047379438790711, 0.8759606586303924, 0.8759722660071733, 0.9123126503809952, 0.9047601932646698, 0.9047366054370946, 0.8759594697666894, 0.5808573294145813, 0.702521166141742, 0.351260583070871, 0.8759601447840464, 0.8759713504107749, 0.8759444517041028, 0.8759441267454278, 0.904740820844389, 0.9047428165819144, 0.8759450710350468, 0.9047421395727078, 0.9047602386858788, 0.8759733890057808, 0.9047385611657368, 0.8759739516084355, 0.9047362172360558, 0.9047417443703183, 0.9047829456961101], \"Term\": [\"\\uac00\\uc871\", \"\\uac15\\uc544\\uc9c0\", \"\\uac15\\uc870\", \"\\uace0\\ubbfc\", \"\\uacf5\\uae09\", \"\\uacf5\\uae09\", \"\\uacfc\\uc5f4\", \"\\uad00\\uc2ec\", \"\\uad6c\\uc870\", \"\\uaddc\\uc81c\", \"\\uae08\\uc735\", \"\\ub0b4\", \"\\ub2e8\\uccb4\", \"\\ub300\\ucc45\", \"\\ub300\\ucd9c\", \"\\ub300\\ud55c\", \"\\ub300\\ud55c\", \"\\ub354\\uc6b1\", \"\\ub3d9\\ubb3c\", \"\\ub3d9\\ubb3c\", \"\\ub3d9\\ubb3c\\ubcf4\\ud638\", \"\\ub3d9\\uc6d0\", \"\\ub9c8\\ub828\", \"\\ub9e4\\uc77c\", \"\\ubaa9\\uc18c\\ub9ac\", \"\\ubb3c\\ub7c9\", \"\\ubc18\\uc751\", \"\\ubc1c\\ud45c\", \"\\ubc29\\uce68\", \"\\ubcf4\\ud638\", \"\\ubd80\\ub3d9\\uc0b0\", \"\\ubd80\\ub3d9\\uc0b0\", \"\\uc0ac\\ub791\", \"\\uc0ac\\ub791\", \"\\uc0ac\\ud68c\", \"\\uc11c\\ubbfc\", \"\\uc138\\uae08\", \"\\uc18c\", \"\\uc2dc\\uc7a5\", \"\\uc2e0\\ud63c\\ubd80\\ubd80\", \"\\uc2e4\\ud6a8\", \"\\uc548\\ub77d\\uc0ac\", \"\\uc548\\uc815\", \"\\uc608\\uace0\", \"\\uc704\", \"\\uc704\", \"\\uc704\\ud574\", \"\\uc704\\ud574\", \"\\uc720\\uae30\\uacac\", \"\\uc720\\uae30\\ub3d9\\ubb3c\", \"\\uc774\\uae30\", \"\\uc774\\ubc88\", \"\\uc774\\ud6c4\", \"\\uc778\\uc0c1\", \"\\uc785\\uc591\", \"\\uc801\\uadf9\", \"\\uc804\", \"\\uc804\\ubb38\\uac00\", \"\\uc815\\ubd80\", \"\\uc815\\ucc45\", \"\\uc815\\ucc45\", \"\\uc8fc\\ubaa9\", \"\\uc8fc\\ud0dd\", \"\\uc9d1\", \"\\uc9d1\\uac12\", \"\\uccad\\ub144\", \"\\ucd08\\uc810\", \"\\ucd1d\\ub7c9\", \"\\uce35\", \"\\ucea0\\ud398\\uc778\", \"\\ud22c\\uae30\", \"\\ud2b9\\ubcc4\", \"\\ud575\\uc2ec\", \"\\ud5cc\\uc2e0\", \"\\ud655\\ub300\", \"\\ud76c\\ub9dd\"]}, \"R\": 30, \"lambda.step\": 0.01, \"plot.opts\": {\"xlab\": \"PC1\", \"ylab\": \"PC2\"}, \"topic.order\": [2, 1]};\n",
       "\n",
       "function LDAvis_load_lib(url, callback){\n",
       "  var s = document.createElement('script');\n",
       "  s.src = url;\n",
       "  s.async = true;\n",
       "  s.onreadystatechange = s.onload = callback;\n",
       "  s.onerror = function(){console.warn(\"failed to load library \" + url);};\n",
       "  document.getElementsByTagName(\"head\")[0].appendChild(s);\n",
       "}\n",
       "\n",
       "if(typeof(LDAvis) !== \"undefined\"){\n",
       "   // already loaded: just create the visualization\n",
       "   !function(LDAvis){\n",
       "       new LDAvis(\"#\" + \"ldavis_el1799619869317991204002464971\", ldavis_el1799619869317991204002464971_data);\n",
       "   }(LDAvis);\n",
       "}else if(typeof define === \"function\" && define.amd){\n",
       "   // require.js is available: use it to load d3/LDAvis\n",
       "   require.config({paths: {d3: \"https://d3js.org/d3.v5\"}});\n",
       "   require([\"d3\"], function(d3){\n",
       "      window.d3 = d3;\n",
       "      LDAvis_load_lib(\"https://cdn.jsdelivr.net/gh/bmabey/pyLDAvis@3.4.0/pyLDAvis/js/ldavis.v3.0.0.js\", function(){\n",
       "        new LDAvis(\"#\" + \"ldavis_el1799619869317991204002464971\", ldavis_el1799619869317991204002464971_data);\n",
       "      });\n",
       "    });\n",
       "}else{\n",
       "    // require.js not available: dynamically load d3 & LDAvis\n",
       "    LDAvis_load_lib(\"https://d3js.org/d3.v5.js\", function(){\n",
       "         LDAvis_load_lib(\"https://cdn.jsdelivr.net/gh/bmabey/pyLDAvis@3.4.0/pyLDAvis/js/ldavis.v3.0.0.js\", function(){\n",
       "                 new LDAvis(\"#\" + \"ldavis_el1799619869317991204002464971\", ldavis_el1799619869317991204002464971_data);\n",
       "            })\n",
       "         });\n",
       "}\n",
       "</script>"
      ],
      "text/plain": [
       "<IPython.core.display.HTML object>"
      ]
     },
     "execution_count": 12,
     "metadata": {},
     "output_type": "execute_result"
    }
   ],
   "source": [
    "import pyLDAvis\n",
    "import pyLDAvis.gensim_models\n",
    "\n",
    "vis_data = pyLDAvis.gensim_models.prepare(lda_model, corpus, dictionary)\n",
    "pyLDAvis.display(vis_data)"
   ]
  },
  {
   "cell_type": "markdown",
   "id": "1d2cfe97-6eef-4d3a-b2bb-61e5e8932785",
   "metadata": {},
   "source": [
    "## 연습문제\n",
    "1. 기존 documents 리스트에 '스포츠'와 관련된 새로운 문장 2개를 추가한 후, 전체 코드를 다시 실행하여 토픽의 개수와 내용이 어떻게 변하는지 관찰하고 설명해보세요."
   ]
  },
  {
   "cell_type": "code",
   "execution_count": 16,
   "id": "4acdf5ac-965b-4ff1-b0c0-f39d08267c3a",
   "metadata": {},
   "outputs": [],
   "source": [
    "new_docs = [\n",
    "    \"손흥민 선수가 프리미어리그에서 멋진 골을 기록했습니다. 축구 팬들이 열광하고 있습니다.\",\n",
    "    \"류현진 선수가 메이저리그 마운드에 올라 뛰어난 투구로 팀을 승리로 이끌었습니다. 야구 시즌이 돌아왔습니다.\"\n",
    "]\n",
    "\n",
    "documents += new_docs"
   ]
  },
  {
   "cell_type": "code",
   "execution_count": 20,
   "id": "dc42e207-1045-4f84-bbc0-547be6214f47",
   "metadata": {},
   "outputs": [
    {
     "name": "stdout",
     "output_type": "stream",
     "text": [
      "토픽 수 = 2, Coherence Score = 0.4481\n",
      "토픽 수 = 3, Coherence Score = 0.2934\n",
      "토픽 수 = 4, Coherence Score = 0.3043\n",
      "토픽 수 = 5, Coherence Score = 0.2609\n",
      "토픽 수 = 6, Coherence Score = 0.3811\n",
      "토픽 수 = 7, Coherence Score = 0.2672\n",
      "토픽 수 = 8, Coherence Score = 0.3765\n",
      "토픽 수 = 9, Coherence Score = 0.3743\n",
      "토픽 수 = 10, Coherence Score = 0.3171\n"
     ]
    }
   ],
   "source": [
    "tokenized_docs = [okt.nouns(i) for i in documents]\n",
    "\n",
    "dictionary = Dictionary(tokenized_docs)\n",
    "\n",
    "corpus = [dictionary.doc2bow(doc) for doc in tokenized_docs]\n",
    "\n",
    "coherence_values = []\n",
    "k_range = range(2, 11)  # 2개부터 10개까지의 토픽 수를 테스트\n",
    "\n",
    "for num_topics in k_range:\n",
    "    # LDA 모델 훈련\n",
    "    model = LdaModel(corpus=corpus,\n",
    "                     id2word=dictionary,\n",
    "                     num_topics=num_topics,\n",
    "                     passes=100)\n",
    "    \n",
    "    # Coherence 모델 생성 및 점수 계산\n",
    "    # coherence='c_v'는 가장 널리 쓰이는 일관성 측정 방법 중 하나입니다.\n",
    "    coherencemodel = CoherenceModel(model=model, texts=tokenized_docs, dictionary=dictionary)\n",
    "    coherence_values.append(coherencemodel.get_coherence())\n",
    "    print(f\"토픽 수 = {num_topics}, Coherence Score = {coherencemodel.get_coherence():.4f}\")"
   ]
  },
  {
   "cell_type": "code",
   "execution_count": 21,
   "id": "bc56e353-2f09-46a8-9a29-73dd23810835",
   "metadata": {},
   "outputs": [
    {
     "data": {
      "image/png": "[encoded data removed]",
      "text/plain": [
       "<Figure size 1000x500 with 1 Axes>"
      ]
     },
     "metadata": {},
     "output_type": "display_data"
    }
   ],
   "source": [
    "plt.figure(figsize=(10, 5))\n",
    "plt.plot(k_range, coherence_values, marker='o')\n",
    "plt.xlabel(\"Number of Topics (K)\")\n",
    "plt.ylabel(\"Coherence Score\")\n",
    "plt.title(\"Coherence Scores for Different Numbers of Topics\")\n",
    "plt.xticks(k_range)\n",
    "plt.grid(True)\n",
    "plt.show()"
   ]
  },
  {
   "cell_type": "code",
   "execution_count": 23,
   "id": "44eb5800-d022-48d0-b6fc-faa82316ba96",
   "metadata": {},
   "outputs": [
    {
     "name": "stdout",
     "output_type": "stream",
     "text": [
      "추출된 주제:\n",
      "(0, '0.036*\"정책\" + 0.036*\"부동산\" + 0.021*\"대한\" + 0.021*\"공급\" + 0.021*\"위\"')\n",
      "(1, '0.043*\"위해\" + 0.030*\"마련\" + 0.017*\"입양\" + 0.017*\"사랑\" + 0.017*\"정부\"')\n",
      "(2, '0.029*\"선수\" + 0.029*\"가족\" + 0.029*\"유기견\" + 0.017*\"시장\" + 0.017*\"대책\"')\n"
     ]
    }
   ],
   "source": [
    "num_topics = 3  # 예시로 2개의 주제를 추출하도록 설정\n",
    "lda_model = LdaModel(corpus, num_topics=num_topics, id2word=dictionary, passes=15)\n",
    "\n",
    "# 결과 확인\n",
    "topics = lda_model.print_topics(num_words=5) # 각 주제별로 연관성이 높은 단어 5개씩 출력\n",
    "print(\"추출된 주제:\")\n",
    "for topic in topics:\n",
    "    print(topic)"
   ]
  },
  {
   "cell_type": "markdown",
   "id": "6492a1cc-020d-4a57-9821-9e69805fb6be",
   "metadata": {},
   "source": [
    "2. Coherence Score 계산 결과를 참고하여, 최적의 토픽 개수인 2 대신 3으로 설정(num_topics = 3)하여 LDA 모델을 다시 훈련시켜 보세요. 그리고 추출된 3개의 주제가 각각 무엇을 의미하는지 해석해보세요."
   ]
  },
  {
   "cell_type": "code",
   "execution_count": null,
   "id": "35f4f7ba-3981-4ed9-84b5-998d8f3b2267",
   "metadata": {},
   "outputs": [],
   "source": []
  },
  {
   "cell_type": "markdown",
   "id": "836536f0-7f83-4022-b77f-30180b220aac",
   "metadata": {},
   "source": [
    "3. okt.nouns()를 사용하여 명사만 추출했던 기존 방식 대신, okt.morphs()를 사용하여 모든 형태소를 추출하는 방식으로 변경해보세요. 토큰화 방식 변경 후, 생성되는 사전(dictionary)과 최종 토픽 결과가 어떻게 달라지는지 비교해보세요."
   ]
  },
  {
   "cell_type": "code",
   "execution_count": 24,
   "id": "074ed684-34e7-4588-80b2-a8e98e703f74",
   "metadata": {},
   "outputs": [
    {
     "name": "stdout",
     "output_type": "stream",
     "text": [
      "토픽 수 = 2, Coherence Score = 0.2882\n",
      "토픽 수 = 3, Coherence Score = 0.2608\n",
      "토픽 수 = 4, Coherence Score = 0.5427\n",
      "토픽 수 = 5, Coherence Score = 0.5624\n",
      "토픽 수 = 6, Coherence Score = 0.3739\n",
      "토픽 수 = 7, Coherence Score = 0.3842\n",
      "토픽 수 = 8, Coherence Score = 0.5986\n",
      "토픽 수 = 9, Coherence Score = 0.5176\n",
      "토픽 수 = 10, Coherence Score = 0.5174\n"
     ]
    }
   ],
   "source": [
    "tokenized_docs = [okt.morphs(i) for i in documents]\n",
    "\n",
    "dictionary = Dictionary(tokenized_docs)\n",
    "\n",
    "corpus = [dictionary.doc2bow(doc) for doc in tokenized_docs]\n",
    "\n",
    "coherence_values = []\n",
    "k_range = range(2, 11)  # 2개부터 10개까지의 토픽 수를 테스트\n",
    "\n",
    "for num_topics in k_range:\n",
    "    # LDA 모델 훈련\n",
    "    model = LdaModel(corpus=corpus,\n",
    "                     id2word=dictionary,\n",
    "                     num_topics=num_topics,\n",
    "                     passes=100)\n",
    "    \n",
    "    # Coherence 모델 생성 및 점수 계산\n",
    "    # coherence='c_v'는 가장 널리 쓰이는 일관성 측정 방법 중 하나입니다.\n",
    "    coherencemodel = CoherenceModel(model=model, texts=tokenized_docs, dictionary=dictionary)\n",
    "    coherence_values.append(coherencemodel.get_coherence())\n",
    "    print(f\"토픽 수 = {num_topics}, Coherence Score = {coherencemodel.get_coherence():.4f}\")"
   ]
  },
  {
   "cell_type": "code",
   "execution_count": 25,
   "id": "9a0db540-e206-4435-8be8-7ab162bfe4d3",
   "metadata": {},
   "outputs": [
    {
     "name": "stdout",
     "output_type": "stream",
     "text": [
      "추출된 주제:\n",
      "(0, '0.006*\".\" + 0.006*\"을\" + 0.006*\"이\" + 0.006*\"있습니다\" + 0.006*\"에\"')\n",
      "(1, '0.060*\".\" + 0.053*\"이\" + 0.038*\"을\" + 0.023*\"입양\" + 0.023*\"과\"')\n",
      "(2, '0.006*\"이\" + 0.006*\".\" + 0.006*\"을\" + 0.006*\"사랑\" + 0.006*\"에\"')\n",
      "(3, '0.006*\".\" + 0.006*\"집값\" + 0.006*\"집\" + 0.006*\"총량\" + 0.006*\"위해\"')\n",
      "(4, '0.054*\".\" + 0.029*\"했습니다\" + 0.029*\"가\" + 0.029*\"있습니다\" + 0.029*\"선수\"')\n",
      "(5, '0.063*\".\" + 0.040*\"들\" + 0.040*\"을\" + 0.040*\"의\" + 0.024*\"에\"')\n",
      "(6, '0.006*\".\" + 0.006*\"을\" + 0.006*\"강력한\" + 0.006*\"대한\" + 0.006*\"규제\"')\n",
      "(7, '0.047*\"을\" + 0.047*\".\" + 0.032*\"있습니다\" + 0.032*\"에\" + 0.032*\"이\"')\n"
     ]
    }
   ],
   "source": [
    "num_topics = 8  # 예시로 2개의 주제를 추출하도록 설정\n",
    "lda_model = LdaModel(corpus, num_topics=num_topics, id2word=dictionary, passes=15)\n",
    "\n",
    "# 결과 확인\n",
    "topics = lda_model.print_topics(num_words=5) # 각 주제별로 연관성이 높은 단어 5개씩 출력\n",
    "print(\"추출된 주제:\")\n",
    "for topic in topics:\n",
    "    print(topic)"
   ]
  },
  {
   "cell_type": "markdown",
   "id": "89a56194-0419-4c93-a301-5060a3cb038c",
   "metadata": {},
   "source": [
    "4. 아래의 new_sentence를 모델이 학습했던 방식과 동일하게 전처리(토큰화, doc2bow)한 후, 훈련된 lda_model을 사용하여 이 문장이 어떤 토픽에 속할 확률이 가장 높은지 코드를 작성하여 확인해보세요."
   ]
  },
  {
   "cell_type": "code",
   "execution_count": 29,
   "id": "5e685a01-b404-4979-868d-e46875e67927",
   "metadata": {},
   "outputs": [
    {
     "data": {
      "text/plain": [
       "[(0, 0.012500146),\n",
       " (1, 0.012520695),\n",
       " (2, 0.012500146),\n",
       " (3, 0.012500146),\n",
       " (4, 0.012508206),\n",
       " (5, 0.9124584),\n",
       " (6, 0.012500146),\n",
       " (7, 0.012512065)]"
      ]
     },
     "execution_count": 29,
     "metadata": {},
     "output_type": "execute_result"
    }
   ],
   "source": [
    "new_sentence = \"정부가 아파트 가격 안정을 위해 새로운 정책을 내놓았다.\"\n",
    "\n",
    "A = okt.morphs(new_sentence)\n",
    "B = dictionary.doc2bow(A)\n",
    "lda_model.get_document_topics(B)"
   ]
  },
  {
   "cell_type": "markdown",
   "id": "810856ec-a1b8-419f-845b-7864d0be81bd",
   "metadata": {},
   "source": [
    "5. 아래의 my_documents 리스트를 사용하여, 노트북의 전체 과정을 참고하여 처음부터 끝까지 토픽 모델링을 수행해보세요. (토픽 개수는 2로 설정)\n",
    "    * 토큰화 (명사 추출)\n",
    "    * 사전 및 코퍼스 생성\n",
    "    * LDA 모델 훈련\n",
    "    * 결과(토픽별 주요 단어) 출력 및 해석"
   ]
  },
  {
   "cell_type": "code",
   "execution_count": 32,
   "id": "ac64ee3a-862f-496d-89d7-639e50d10767",
   "metadata": {},
   "outputs": [
    {
     "name": "stdout",
     "output_type": "stream",
     "text": [
      "토픽 수 = 2, Coherence Score = 0.4084\n",
      "토픽 수 = 3, Coherence Score = 0.4194\n",
      "토픽 수 = 4, Coherence Score = 0.4157\n",
      "토픽 수 = 5, Coherence Score = 0.4382\n",
      "토픽 수 = 6, Coherence Score = 0.4386\n",
      "토픽 수 = 7, Coherence Score = 0.4085\n",
      "토픽 수 = 8, Coherence Score = 0.4344\n",
      "토픽 수 = 9, Coherence Score = 0.4351\n",
      "토픽 수 = 10, Coherence Score = 0.4391\n"
     ]
    }
   ],
   "source": [
    "my_documents = [\n",
    "    \"오늘 점심은 맛있는 파스타를 먹었다. 저녁에는 치킨을 먹어야겠다.\",\n",
    "    \"주말에 친구와 함께 제주도로 여행을 갈 계획이다. 비행기 표를 예매했다.\",\n",
    "    \"맛집 탐방은 나의 유일한 취미이다. 특히 이탈리안 음식을 좋아한다.\",\n",
    "    \"여름 휴가로 해외 여행을 가고 싶다. 가보고 싶은 여행지가 많다.\"\n",
    "]\n",
    "\n",
    "tokenized_docs = [okt.nouns(i) for i in my_documents]\n",
    "dictionary = Dictionary(tokenized_docs)\n",
    "corpus = [dictionary.doc2bow(i )for i in tokenized_docs]\n",
    "\n",
    "for num_topics in k_range:\n",
    "    # LDA 모델 훈련\n",
    "    model = LdaModel(corpus=corpus,\n",
    "                     id2word=dictionary,\n",
    "                     num_topics=num_topics,\n",
    "                     passes=100)\n",
    "    \n",
    "    # Coherence 모델 생성 및 점수 계산\n",
    "    # coherence='c_v'는 가장 널리 쓰이는 일관성 측정 방법 중 하나입니다.\n",
    "    coherencemodel = CoherenceModel(model=model, texts=tokenized_docs, dictionary=dictionary)\n",
    "    coherence_values.append(coherencemodel.get_coherence())\n",
    "    print(f\"토픽 수 = {num_topics}, Coherence Score = {coherencemodel.get_coherence():.4f}\")"
   ]
  },
  {
   "cell_type": "code",
   "execution_count": 35,
   "id": "670831e8-11a5-4f66-89ae-18a9ddd3c4dc",
   "metadata": {},
   "outputs": [
    {
     "data": {
      "text/plain": [
       "[(0, '0.105*\"여행\" + 0.105*\"여름\" + 0.105*\"해외\" + 0.105*\"여행지\" + 0.105*\"휴가\"'),\n",
       " (1, '0.071*\"탐방\" + 0.071*\"맛집\" + 0.071*\"나\" + 0.071*\"이탈리안\" + 0.071*\"취미\"'),\n",
       " (2, '0.085*\"여행\" + 0.085*\"계획\" + 0.085*\"주말\" + 0.085*\"비행기\" + 0.085*\"제주도\"')]"
      ]
     },
     "execution_count": 35,
     "metadata": {},
     "output_type": "execute_result"
    }
   ],
   "source": [
    "model = LdaModel(corpus=corpus, id2word=dictionary,\n",
    "                 num_topics=3, passes=100)\n",
    "\n",
    "model.print_topics(num_words=5)"
   ]
  },
  {
   "cell_type": "code",
   "execution_count": 36,
   "id": "465473a7-b817-470e-be53-548da1f8e263",
   "metadata": {},
   "outputs": [
    {
     "data": {
      "text/html": [
       "\n",
       "<link rel=\"stylesheet\" type=\"text/css\" href=\"https://cdn.jsdelivr.net/gh/bmabey/pyLDAvis@3.4.0/pyLDAvis/js/ldavis.v1.0.0.css\">\n",
       "\n",
       "\n",
       "<div id=\"ldavis_el1799619869732416804698572841\" style=\"background-color:white;\"></div>\n",
       "<script type=\"text/javascript\">\n",
       "\n",
       "var ldavis_el1799619869732416804698572841_data = {\"mdsDat\": {\"x\": [-0.09839751287788621, 0.07357427237583755, 0.024823240502048736], \"y\": [-0.018045551374186737, -0.04561106401276252, 0.06365661538694925], \"topics\": [1, 2, 3], \"cluster\": [1, 1, 1], \"Freq\": [43.49773878980568, 34.37711533094753, 22.12514587924679]}, \"tinfo\": {\"Term\": [\"\\ud734\\uac00\", \"\\ud574\\uc678\", \"\\uc5ec\\ud589\\uc9c0\", \"\\uc5ec\\ub984\", \"\\uc5ec\\ud589\", \"\\uc81c\\uc8fc\\ub3c4\", \"\\ud45c\", \"\\uc8fc\\ub9d0\", \"\\uce5c\\uad6c\", \"\\uc608\\ub9e4\", \"\\ube44\\ud589\\uae30\", \"\\uacc4\\ud68d\", \"\\ub098\", \"\\ub9db\\uc9d1\", \"\\uc74c\\uc2dd\", \"\\uc774\\ud0c8\\ub9ac\\uc548\", \"\\ucde8\\ubbf8\", \"\\ud0d0\\ubc29\", \"\\uc800\\ub141\", \"\\ud30c\\uc2a4\\ud0c0\", \"\\uce58\\ud0a8\", \"\\uc810\\uc2ec\", \"\\uc624\\ub298\", \"\\ub9db\\uc9d1\", \"\\ud0d0\\ubc29\", \"\\ucde8\\ubbf8\", \"\\uc774\\ud0c8\\ub9ac\\uc548\", \"\\uc74c\\uc2dd\", \"\\ub098\", \"\\uc624\\ub298\", \"\\uc810\\uc2ec\", \"\\uce58\\ud0a8\", \"\\ud30c\\uc2a4\\ud0c0\", \"\\uc800\\ub141\", \"\\ud574\\uc678\", \"\\uc5ec\\ud589\\uc9c0\", \"\\uc5ec\\ub984\", \"\\ud734\\uac00\", \"\\ud45c\", \"\\uc8fc\\ub9d0\", \"\\uc81c\\uc8fc\\ub3c4\", \"\\uc608\\ub9e4\", \"\\ube44\\ud589\\uae30\", \"\\uacc4\\ud68d\", \"\\uce5c\\uad6c\", \"\\uc5ec\\ud589\", \"\\uce5c\\uad6c\", \"\\ud45c\", \"\\uacc4\\ud68d\", \"\\ube44\\ud589\\uae30\", \"\\uc608\\ub9e4\", \"\\uc81c\\uc8fc\\ub3c4\", \"\\uc8fc\\ub9d0\", \"\\uc5ec\\ud589\", \"\\ud574\\uc678\", \"\\uc5ec\\ud589\\uc9c0\", \"\\uc5ec\\ub984\", \"\\ud734\\uac00\", \"\\uc800\\ub141\", \"\\ud30c\\uc2a4\\ud0c0\", \"\\uce58\\ud0a8\", \"\\uc810\\uc2ec\", \"\\uc624\\ub298\", \"\\ub098\", \"\\ub9db\\uc9d1\", \"\\uc74c\\uc2dd\", \"\\uc774\\ud0c8\\ub9ac\\uc548\", \"\\ucde8\\ubbf8\", \"\\ud0d0\\ubc29\", \"\\ud734\\uac00\", \"\\ud574\\uc678\", \"\\uc5ec\\ud589\\uc9c0\", \"\\uc5ec\\ub984\", \"\\uc5ec\\ud589\", \"\\uc81c\\uc8fc\\ub3c4\", \"\\ud45c\", \"\\uc8fc\\ub9d0\", \"\\uce5c\\uad6c\", \"\\uc608\\ub9e4\", \"\\ube44\\ud589\\uae30\", \"\\uacc4\\ud68d\", \"\\uc800\\ub141\", \"\\ud30c\\uc2a4\\ud0c0\", \"\\uce58\\ud0a8\", \"\\uc810\\uc2ec\", \"\\uc624\\ub298\", \"\\ub098\", \"\\ub9db\\uc9d1\", \"\\uc74c\\uc2dd\", \"\\uc774\\ud0c8\\ub9ac\\uc548\", \"\\ucde8\\ubbf8\", \"\\ud0d0\\ubc29\"], \"Freq\": [0.0, 0.0, 0.0, 0.0, 1.0, 1.0, 1.0, 1.0, 1.0, 1.0, 1.0, 1.0, 1.0, 1.0, 1.0, 1.0, 1.0, 1.0, 1.0, 1.0, 1.0, 1.0, 1.0, 0.7454568251906023, 0.7454568251906023, 0.7454568251906023, 0.7454568251906023, 0.7454568251906023, 0.7454568251906023, 0.7453357217045492, 0.7453357217045492, 0.7453357217045492, 0.7453357217045492, 0.7453357217045492, 0.18668174321596248, 0.18668174321596248, 0.18668174321596248, 0.18668174321596248, 0.18664246430751238, 0.18664246430751238, 0.18664246430751238, 0.18664246430751238, 0.18664246430751238, 0.18664246430751238, 0.18664246430751238, 0.18681274420914482, 0.7017163763713468, 0.7017163763713468, 0.7017163763713468, 0.7017163763713468, 0.7017163763713468, 0.7017163763713468, 0.7017163763713468, 0.7020681138417373, 0.17572080506203253, 0.17572080506203253, 0.17572080506203253, 0.17572080506203253, 0.17580396005383098, 0.17580396005383098, 0.17580396005383098, 0.17580396005383098, 0.17580396005383098, 0.17575355377530594, 0.17575355377530594, 0.17575355377530594, 0.17575355377530594, 0.17575355377530594, 0.17575355377530594, 0.558379602619258, 0.558379602619258, 0.558379602619258, 0.558379602619258, 0.5584287001075954, 0.13983000285017658, 0.13983000285017658, 0.13983000285017658, 0.13983000285017658, 0.13983000285017658, 0.13983000285017658, 0.13983000285017658, 0.13996185591565288, 0.13996185591565288, 0.13996185591565288, 0.13996185591565288, 0.13996185591565288, 0.1399113539463841, 0.1399113539463841, 0.1399113539463841, 0.1399113539463841, 0.1399113539463841, 0.1399113539463841], \"Total\": [0.0, 0.0, 0.0, 0.0, 1.0, 1.0, 1.0, 1.0, 1.0, 1.0, 1.0, 1.0, 1.0, 1.0, 1.0, 1.0, 1.0, 1.0, 1.0, 1.0, 1.0, 1.0, 1.0, 1.0611217329122924, 1.0611217329122924, 1.0611217329122924, 1.0611217329122924, 1.0611217329122924, 1.0611217329122924, 1.061101537674033, 1.061101537674033, 1.061101537674033, 1.061101537674033, 1.061101537674033, 0.920782150897253, 0.920782150897253, 0.920782150897253, 0.920782150897253, 1.0281888435290358, 1.0281888435290358, 1.0281888435290358, 1.0281888435290358, 1.0281888435290358, 1.0281888435290358, 1.0281888435290358, 1.4473095581584774, 1.0281888435290358, 1.0281888435290358, 1.0281888435290358, 1.0281888435290358, 1.0281888435290358, 1.0281888435290358, 1.0281888435290358, 1.4473095581584774, 0.920782150897253, 0.920782150897253, 0.920782150897253, 0.920782150897253, 1.061101537674033, 1.061101537674033, 1.061101537674033, 1.061101537674033, 1.061101537674033, 1.0611217329122924, 1.0611217329122924, 1.0611217329122924, 1.0611217329122924, 1.0611217329122924, 1.0611217329122924, 0.920782150897253, 0.920782150897253, 0.920782150897253, 0.920782150897253, 1.4473095581584774, 1.0281888435290358, 1.0281888435290358, 1.0281888435290358, 1.0281888435290358, 1.0281888435290358, 1.0281888435290358, 1.0281888435290358, 1.061101537674033, 1.061101537674033, 1.061101537674033, 1.061101537674033, 1.061101537674033, 1.0611217329122924, 1.0611217329122924, 1.0611217329122924, 1.0611217329122924, 1.0611217329122924, 1.0611217329122924], \"Category\": [\"Default\", \"Default\", \"Default\", \"Default\", \"Default\", \"Default\", \"Default\", \"Default\", \"Default\", \"Default\", \"Default\", \"Default\", \"Default\", \"Default\", \"Default\", \"Default\", \"Default\", \"Default\", \"Default\", \"Default\", \"Default\", \"Default\", \"Default\", \"Topic1\", \"Topic1\", \"Topic1\", \"Topic1\", \"Topic1\", \"Topic1\", \"Topic1\", \"Topic1\", \"Topic1\", \"Topic1\", \"Topic1\", \"Topic1\", \"Topic1\", \"Topic1\", \"Topic1\", \"Topic1\", \"Topic1\", \"Topic1\", \"Topic1\", \"Topic1\", \"Topic1\", \"Topic1\", \"Topic1\", \"Topic2\", \"Topic2\", \"Topic2\", \"Topic2\", \"Topic2\", \"Topic2\", \"Topic2\", \"Topic2\", \"Topic2\", \"Topic2\", \"Topic2\", \"Topic2\", \"Topic2\", \"Topic2\", \"Topic2\", \"Topic2\", \"Topic2\", \"Topic2\", \"Topic2\", \"Topic2\", \"Topic2\", \"Topic2\", \"Topic2\", \"Topic3\", \"Topic3\", \"Topic3\", \"Topic3\", \"Topic3\", \"Topic3\", \"Topic3\", \"Topic3\", \"Topic3\", \"Topic3\", \"Topic3\", \"Topic3\", \"Topic3\", \"Topic3\", \"Topic3\", \"Topic3\", \"Topic3\", \"Topic3\", \"Topic3\", \"Topic3\", \"Topic3\", \"Topic3\", \"Topic3\"], \"logprob\": [23.0, 22.0, 21.0, 20.0, 19.0, 18.0, 17.0, 16.0, 15.0, 14.0, 13.0, 12.0, 11.0, 10.0, 9.0, 8.0, 7.0, 6.0, 5.0, 4.0, 3.0, 2.0, 1.0, -2.6394, -2.6394, -2.6394, -2.6394, -2.6394, -2.6394, -2.6395, -2.6395, -2.6395, -2.6395, -2.6395, -4.0239, -4.0239, -4.0239, -4.0239, -4.0242, -4.0242, -4.0242, -4.0242, -4.0242, -4.0242, -4.0242, -4.0232, -2.4645, -2.4645, -2.4645, -2.4645, -2.4645, -2.4645, -2.4645, -2.464, -3.8491, -3.8491, -3.8491, -3.8491, -3.8487, -3.8487, -3.8487, -3.8487, -3.8487, -3.8489, -3.8489, -3.8489, -3.8489, -3.8489, -3.8489, -2.2523, -2.2523, -2.2523, -2.2523, -2.2522, -3.6369, -3.6369, -3.6369, -3.6369, -3.6369, -3.6369, -3.6369, -3.636, -3.636, -3.636, -3.636, -3.636, -3.6363, -3.6363, -3.6363, -3.6363, -3.6363, -3.6363], \"loglift\": [23.0, 22.0, 21.0, 20.0, 19.0, 18.0, 17.0, 16.0, 15.0, 14.0, 13.0, 12.0, 11.0, 10.0, 9.0, 8.0, 7.0, 6.0, 5.0, 4.0, 3.0, 2.0, 1.0, 0.4794, 0.4794, 0.4794, 0.4794, 0.4794, 0.4794, 0.4792, 0.4792, 0.4792, 0.4792, 0.4792, -0.7634, -0.7634, -0.7634, -0.7634, -0.8739, -0.8739, -0.8739, -0.8739, -0.8739, -0.8739, -0.8739, -1.2149, 0.6858, 0.6858, 0.6858, 0.6858, 0.6858, 0.6858, 0.6858, 0.3443, -0.5885, -0.5885, -0.5885, -0.5885, -0.7299, -0.7299, -0.7299, -0.7299, -0.7299, -0.7302, -0.7302, -0.7302, -0.7302, -0.7302, -0.7302, 1.0083, 1.0083, 1.0083, 1.0083, 0.5561, -0.4867, -0.4867, -0.4867, -0.4867, -0.4867, -0.4867, -0.4867, -0.5172, -0.5172, -0.5172, -0.5172, -0.5172, -0.5176, -0.5176, -0.5176, -0.5176, -0.5176, -0.5176]}, \"token.table\": {\"Topic\": [2, 1, 1, 2, 3, 2, 3, 3, 2, 1, 1, 1, 1, 1, 2, 2, 1, 1, 2, 1, 1, 2, 3, 3], \"Freq\": [0.9725839823039863, 0.942398943479801, 0.942398943479801, 0.9725839823039863, 1.0860332153762466, 0.6909371905706037, 0.6909371905706037, 1.0860332153762466, 0.9725839823039863, 0.9424168795307097, 0.942398943479801, 0.942398943479801, 0.9424168795307097, 0.9424168795307097, 0.9725839823039863, 0.9725839823039863, 0.942398943479801, 0.9424168795307097, 0.9725839823039863, 0.942398943479801, 0.9424168795307097, 0.9725839823039863, 1.0860332153762466, 1.0860332153762466], \"Term\": [\"\\uacc4\\ud68d\", \"\\ub098\", \"\\ub9db\\uc9d1\", \"\\ube44\\ud589\\uae30\", \"\\uc5ec\\ub984\", \"\\uc5ec\\ud589\", \"\\uc5ec\\ud589\", \"\\uc5ec\\ud589\\uc9c0\", \"\\uc608\\ub9e4\", \"\\uc624\\ub298\", \"\\uc74c\\uc2dd\", \"\\uc774\\ud0c8\\ub9ac\\uc548\", \"\\uc800\\ub141\", \"\\uc810\\uc2ec\", \"\\uc81c\\uc8fc\\ub3c4\", \"\\uc8fc\\ub9d0\", \"\\ucde8\\ubbf8\", \"\\uce58\\ud0a8\", \"\\uce5c\\uad6c\", \"\\ud0d0\\ubc29\", \"\\ud30c\\uc2a4\\ud0c0\", \"\\ud45c\", \"\\ud574\\uc678\", \"\\ud734\\uac00\"]}, \"R\": 23, \"lambda.step\": 0.01, \"plot.opts\": {\"xlab\": \"PC1\", \"ylab\": \"PC2\"}, \"topic.order\": [2, 3, 1]};\n",
       "\n",
       "function LDAvis_load_lib(url, callback){\n",
       "  var s = document.createElement('script');\n",
       "  s.src = url;\n",
       "  s.async = true;\n",
       "  s.onreadystatechange = s.onload = callback;\n",
       "  s.onerror = function(){console.warn(\"failed to load library \" + url);};\n",
       "  document.getElementsByTagName(\"head\")[0].appendChild(s);\n",
       "}\n",
       "\n",
       "if(typeof(LDAvis) !== \"undefined\"){\n",
       "   // already loaded: just create the visualization\n",
       "   !function(LDAvis){\n",
       "       new LDAvis(\"#\" + \"ldavis_el1799619869732416804698572841\", ldavis_el1799619869732416804698572841_data);\n",
       "   }(LDAvis);\n",
       "}else if(typeof define === \"function\" && define.amd){\n",
       "   // require.js is available: use it to load d3/LDAvis\n",
       "   require.config({paths: {d3: \"https://d3js.org/d3.v5\"}});\n",
       "   require([\"d3\"], function(d3){\n",
       "      window.d3 = d3;\n",
       "      LDAvis_load_lib(\"https://cdn.jsdelivr.net/gh/bmabey/pyLDAvis@3.4.0/pyLDAvis/js/ldavis.v3.0.0.js\", function(){\n",
       "        new LDAvis(\"#\" + \"ldavis_el1799619869732416804698572841\", ldavis_el1799619869732416804698572841_data);\n",
       "      });\n",
       "    });\n",
       "}else{\n",
       "    // require.js not available: dynamically load d3 & LDAvis\n",
       "    LDAvis_load_lib(\"https://d3js.org/d3.v5.js\", function(){\n",
       "         LDAvis_load_lib(\"https://cdn.jsdelivr.net/gh/bmabey/pyLDAvis@3.4.0/pyLDAvis/js/ldavis.v3.0.0.js\", function(){\n",
       "                 new LDAvis(\"#\" + \"ldavis_el1799619869732416804698572841\", ldavis_el1799619869732416804698572841_data);\n",
       "            })\n",
       "         });\n",
       "}\n",
       "</script>"
      ],
      "text/plain": [
       "<IPython.core.display.HTML object>"
      ]
     },
     "execution_count": 36,
     "metadata": {},
     "output_type": "execute_result"
    }
   ],
   "source": [
    "vis_data = pyLDAvis.gensim_models.prepare(model, corpus, dictionary)\n",
    "pyLDAvis.display(vis_data)"
   ]
  },
  {
   "cell_type": "code",
   "execution_count": null,
   "id": "b8539175-673c-44ae-bfe1-fc5c25132b49",
   "metadata": {},
   "outputs": [],
   "source": []
  }
 ],
 "metadata": {
  "kernelspec": {
   "display_name": "Python 3 (ipykernel)",
   "language": "python",
   "name": "python3"
  },
  "language_info": {
   "codemirror_mode": {
    "name": "ipython",
    "version": 3
   },
   "file_extension": ".py",
   "mimetype": "text/x-python",
   "name": "python",
   "nbconvert_exporter": "python",
   "pygments_lexer": "ipython3",
   "version": "3.12.7"
  }
 },
 "nbformat": 4,
 "nbformat_minor": 5
}
