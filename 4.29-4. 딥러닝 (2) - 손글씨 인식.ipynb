{
 "cells": [
  {
   "cell_type": "markdown",
   "id": "8fb2ed41-6277-45c4-a497-a90cbdeba5e1",
   "metadata": {},
   "source": [
    "# 딥러닝 (2)\n",
    "## 3층 신경망 구현하기\n",
    "```신경망에서의 행렬 곱(Matrix Multiplication)```은 신경망이 입력 데이터로부터 특징(feature)을 학습하고 예측을 수행하는 과정의 핵심적인 연산입니다. 특히, 가장 기본적인 신경망 구성 요소 중 하나인 ```완전 연결 계층(Fully Connected Layer 또는 Dense Layer)```에서 주로 사용됩니다.\n",
    "\n",
    "쉽게 말해, 한 층(layer)의 뉴런(neuron)들과 다음 층의 뉴런들 사이의 모든 연결 관계(가중치)를 고려하여 다음 층의 뉴런들이 받을 신호의 총합을 한 번에 효율적으로 계산하는 방법이 바로 행렬 곱입니다."
   ]
  },
  {
   "cell_type": "code",
   "execution_count": 1,
   "id": "e546ea33-888a-47c7-a69d-024e2bced86c",
   "metadata": {},
   "outputs": [
    {
     "data": {
      "text/plain": [
       "((2,), (2, 3), (3,))"
      ]
     },
     "execution_count": 1,
     "metadata": {},
     "output_type": "execute_result"
    }
   ],
   "source": [
    "import numpy as np\n",
    "\n",
    "X = np.array([1, 0.5])\n",
    "W1 = np.array([[0.1, 0.3, 0.5], [0.2, 0.4, 0.6]])\n",
    "B1 = np.array([0.1, 0.2, 0.3])\n",
    "\n",
    "X.shape, W1.shape, B1.shape"
   ]
  },
  {
   "cell_type": "code",
   "execution_count": 2,
   "id": "91715cee-8397-4856-9484-9da466389976",
   "metadata": {},
   "outputs": [
    {
     "data": {
      "text/plain": [
       "array([0.3, 0.7, 1.1])"
      ]
     },
     "execution_count": 2,
     "metadata": {},
     "output_type": "execute_result"
    }
   ],
   "source": [
    "A1 = X @ W1 + B1      # 한방에 계산 다 가능\n",
    "A1"
   ]
  },
  {
   "cell_type": "code",
   "execution_count": 3,
   "id": "91de2891-961a-431e-a254-8bf43f512168",
   "metadata": {},
   "outputs": [
    {
     "data": {
      "text/plain": [
       "array([0.57444252, 0.66818777, 0.75026011])"
      ]
     },
     "execution_count": 3,
     "metadata": {},
     "output_type": "execute_result"
    }
   ],
   "source": [
    "def sigmoid(x):\n",
    "    return 1 / (1 + np.exp(-x))\n",
    "\n",
    "Z1 = sigmoid(A1)\n",
    "Z1"
   ]
  },
  {
   "cell_type": "code",
   "execution_count": 4,
   "id": "a95e694b-28f0-4bdc-a071-346e7e004bbc",
   "metadata": {},
   "outputs": [
    {
     "data": {
      "text/plain": [
       "array([0.62624937, 0.7710107 ])"
      ]
     },
     "execution_count": 4,
     "metadata": {},
     "output_type": "execute_result"
    }
   ],
   "source": [
    "W2 = np.array([[0.1, 0.4], [0.2, 0.5], [0.3, 0.6]])\n",
    "B2 = np.array([0.1, 0.2])\n",
    "\n",
    "A2 = Z1 @ W2 + B2\n",
    "Z2 = sigmoid(A2)\n",
    "Z2"
   ]
  },
  {
   "cell_type": "code",
   "execution_count": 5,
   "id": "1c3c9a04-dd87-41e1-99bc-2d3cdb788dbb",
   "metadata": {},
   "outputs": [
    {
     "data": {
      "text/plain": [
       "array([0.31682708, 0.69627909])"
      ]
     },
     "execution_count": 5,
     "metadata": {},
     "output_type": "execute_result"
    }
   ],
   "source": [
    "W3 = np.array([[0.1, 0.3], [0.2, 0.4]])\n",
    "B3 = np.array([0.1, 0.2])\n",
    "\n",
    "A3 = Z2 @ W3 + B3\n",
    "A3"
   ]
  },
  {
   "cell_type": "raw",
   "id": "9f407476-0a6a-4b21-b9db-26a80c328a34",
   "metadata": {},
   "source": [
    "    O'   \n",
    "O   O'   O'   O   \n",
    "O   O'   O'   O   "
   ]
  },
  {
   "cell_type": "code",
   "execution_count": 5,
   "id": "e6c41fd9-d22c-4460-8425-c50b1892d236",
   "metadata": {},
   "outputs": [],
   "source": [
    "def init_network():\n",
    "    net = {}\n",
    "    net['W1'] = np.array([[0.1, 0.3, 0.5], [0.2, 0.4, 0.6]])\n",
    "    net['B1'] = np.array([0.1, 0.2, 0.3])\n",
    "    net['W2'] = np.array([[0.9, 0.4], [0.2, 0.5], [0.3, 0.6]])\n",
    "    net['B2'] = np.array([0.9, 0.2])\n",
    "    net['W3'] = np.array([[0.1, 0.3], [0.2, 0.4]])\n",
    "    net['B3'] = np.array([0.9, 0.2])\n",
    "    return net\n",
    "\n",
    "def forward(net, x):\n",
    "    w1, w2, w3 = net['W1'], net['W2'], net['W3']\n",
    "    b1, b2, b3 = net['B1'], net['B2'], net['B3']\n",
    "\n",
    "    a1 = x @ w1 + b1   # 첫번쨰은닉층\n",
    "    z1 = sigmoid(a1)   # 시그모이드\n",
    "\n",
    "    a2 = z1 @ w2 + b2   # 그렇게 나온 값을 두번째 은닉층에\n",
    "    z2 = sigmoid(a2)    # 시그모이드\n",
    "\n",
    "    a3 = z2 @ w3 + b3   # 그렇게 나온 값을 세번째 은닉층에 넣어서 리턴\n",
    "    return a3"
   ]
  },
  {
   "cell_type": "code",
   "execution_count": 6,
   "id": "20a38620-ec43-401a-b464-157c59785c37",
   "metadata": {},
   "outputs": [
    {
     "data": {
      "text/plain": [
       "array([0.75892678, 0.68581514])"
      ]
     },
     "execution_count": 6,
     "metadata": {},
     "output_type": "execute_result"
    }
   ],
   "source": [
    "net = init_network()\n",
    "x = np.array([1, 2])\n",
    "\n",
    "A = forward(net, x)    # 신경망을 끝까지 다 돈 결과값\n",
    "Z = sigmoid(A)\n",
    "Z\n",
    "# 확률값 다 더하면 1이 넘는다? => 소프트맥스로 맞춰줄 수 있음"
   ]
  },
  {
   "cell_type": "code",
   "execution_count": null,
   "id": "97f76b04-4d59-47a2-9fe5-9f5e1b3cf78f",
   "metadata": {},
   "outputs": [],
   "source": []
  },
  {
   "cell_type": "markdown",
   "id": "8633e189-c16b-4705-9a3c-8ab43668c5eb",
   "metadata": {},
   "source": [
    "# 소프트맥스 함수\n",
    "소프트맥스 함수는 신경망의 출력층에서 여러 클래스에 대한 점수(로짓)를 0과 1 사이의 확률값으로 변환하고, 이 확률들의 총합이 1이 되도록 만들어주는 중요한 함수입니다. 지수 함수를 사용하여 점수 차이를 부각하고, 전체 합으로 나누어 정규화합니다."
   ]
  },
  {
   "cell_type": "markdown",
   "id": "aee147dc-6895-434d-a174-b922a451c6bd",
   "metadata": {},
   "source": [
    "Z[0] : 돔일 확률 /  Z[1] : 빙어일 확률"
   ]
  },
  {
   "cell_type": "code",
   "execution_count": 7,
   "id": "cee16ac5-37ac-4f31-90db-c3369db76298",
   "metadata": {},
   "outputs": [
    {
     "data": {
      "text/plain": [
       "array([2.13598261, 1.98538956])"
      ]
     },
     "execution_count": 7,
     "metadata": {},
     "output_type": "execute_result"
    }
   ],
   "source": [
    "exp_x = np.exp(Z)\n",
    "exp_x"
   ]
  },
  {
   "cell_type": "code",
   "execution_count": 8,
   "id": "17525fc4-19c1-4272-aa0a-433be3b3bc36",
   "metadata": {},
   "outputs": [
    {
     "data": {
      "text/plain": [
       "4.121372170044917"
      ]
     },
     "execution_count": 8,
     "metadata": {},
     "output_type": "execute_result"
    }
   ],
   "source": [
    "sum_exp_x = sum(exp_x)\n",
    "sum_exp_x"
   ]
  },
  {
   "cell_type": "code",
   "execution_count": 9,
   "id": "5f631848-7390-4a92-b692-58c2942b3eac",
   "metadata": {},
   "outputs": [
    {
     "data": {
      "text/plain": [
       "array([0.51826977, 0.48173023])"
      ]
     },
     "execution_count": 9,
     "metadata": {},
     "output_type": "execute_result"
    }
   ],
   "source": [
    "exp_x / sum_exp_x"
   ]
  },
  {
   "cell_type": "code",
   "execution_count": 10,
   "id": "6b00b79a-4496-4980-9e7b-0df1b4b47b6a",
   "metadata": {},
   "outputs": [],
   "source": [
    "def softmax(x):\n",
    "    x = x.copy()\n",
    "    exp_x = np.exp(x)\n",
    "    sum_exp_x = sum(exp_x)\n",
    "    return exp_x / sum_exp_x\n",
    "##미완성본"
   ]
  },
  {
   "cell_type": "code",
   "execution_count": 11,
   "id": "0e7a71ac-bf24-4767-922b-9ffddaed6cd3",
   "metadata": {},
   "outputs": [
    {
     "data": {
      "text/plain": [
       "array([0.51826977, 0.48173023])"
      ]
     },
     "execution_count": 11,
     "metadata": {},
     "output_type": "execute_result"
    }
   ],
   "source": [
    "softmax(Z)     \n",
    "# 출력된 두 값이 확률로 변함"
   ]
  },
  {
   "cell_type": "markdown",
   "id": "7f8338ca-2cfa-443c-a110-0647433452e0",
   "metadata": {},
   "source": [
    "### 값이 큰 경우"
   ]
  },
  {
   "cell_type": "code",
   "execution_count": 26,
   "id": "b41929e8-5f83-4699-a1df-6abcdc636054",
   "metadata": {},
   "outputs": [
    {
     "name": "stderr",
     "output_type": "stream",
     "text": [
      "C:\\Users\\campus4D019\\AppData\\Local\\Temp\\ipykernel_1456\\4263536386.py:3: RuntimeWarning: overflow encountered in exp\n",
      "  exp_x = np.exp(x)\n",
      "C:\\Users\\campus4D019\\AppData\\Local\\Temp\\ipykernel_1456\\4263536386.py:5: RuntimeWarning: invalid value encountered in divide\n",
      "  return exp_x / sum_exp_x\n"
     ]
    },
    {
     "data": {
      "text/plain": [
       "array([nan, nan, nan])"
      ]
     },
     "execution_count": 26,
     "metadata": {},
     "output_type": "execute_result"
    }
   ],
   "source": [
    "x = np.array([1010, 1000, 990])\n",
    "softmax(x)\n",
    "\n",
    "# e^1010 이런식으로 너무커서 nan으로 나옴 "
   ]
  },
  {
   "cell_type": "code",
   "execution_count": 19,
   "id": "52a21413-6842-42b5-b49c-d760dae8750c",
   "metadata": {},
   "outputs": [
    {
     "data": {
      "text/plain": [
       "array([9.9995460007e-01, 4.5397868609e-05, 2.0610600462e-09])"
      ]
     },
     "execution_count": 19,
     "metadata": {},
     "output_type": "execute_result"
    }
   ],
   "source": [
    "x = np.array([1010, 1000, 990])\n",
    "c = np.max(x)\n",
    "exp_x = np.exp(x - c)     # 최댓값 빼서 값이 너무 커지는 거 막음\n",
    "sum_exp_x = sum(exp_x)\n",
    "exp_x / sum_exp_x"
   ]
  },
  {
   "cell_type": "code",
   "execution_count": 20,
   "id": "aaf469a3-419f-485d-87ff-b60c0b83c4e6",
   "metadata": {},
   "outputs": [
    {
     "data": {
      "text/plain": [
       "array([0.9999546001, 0.0000453979, 0.0000000021])"
      ]
     },
     "execution_count": 20,
     "metadata": {},
     "output_type": "execute_result"
    }
   ],
   "source": [
    "np.set_printoptions(suppress=True, precision=10)\n",
    "exp_x / sum_exp_x"
   ]
  },
  {
   "cell_type": "raw",
   "id": "cc72100e-f408-410e-9b1a-d31b10bbb591",
   "metadata": {},
   "source": [
    "np.set_printoptions(suppress=True, precision=10)       # 0.999\n",
    "np.set_printoptions(suppress=False, precision=10)      # 9.99e-01"
   ]
  },
  {
   "cell_type": "code",
   "execution_count": 31,
   "id": "6815671b-1793-40d3-ae10-94ab55dd0cb6",
   "metadata": {},
   "outputs": [],
   "source": [
    "# softmax함수 수정\n",
    "def softmax(x):\n",
    "    x = x.copy()\n",
    "    c = np.max(x)\n",
    "    exp_x = np.exp(x - c)\n",
    "    sum_exp_x = sum(exp_x)\n",
    "    return exp_x / sum_exp_x\n",
    "##미완성본"
   ]
  },
  {
   "cell_type": "code",
   "execution_count": 33,
   "id": "9856efa4-db6c-41e7-91a9-c76a3b773119",
   "metadata": {},
   "outputs": [
    {
     "data": {
      "text/plain": [
       "array([9.99954600e-01, 4.53978686e-05, 2.06106005e-09])"
      ]
     },
     "execution_count": 33,
     "metadata": {},
     "output_type": "execute_result"
    }
   ],
   "source": [
    "x = np.array([1010, 1000, 990])\n",
    "softmax(x)\n",
    "# 누락값으로 안나오고 적절한 확률 값으로 나옴"
   ]
  },
  {
   "cell_type": "markdown",
   "id": "74d88a07-4802-43d5-b8c4-2f613d6f90ae",
   "metadata": {},
   "source": [
    "### 값 여러개 예측해야할때"
   ]
  },
  {
   "cell_type": "code",
   "execution_count": 52,
   "id": "d67f3af9-cc32-4b80-90c3-9a2729c80263",
   "metadata": {},
   "outputs": [
    {
     "data": {
      "text/plain": [
       "array([[1.14195199e-01, 4.20100661e-02, 8.43794734e-01],\n",
       "       [2.68917160e-01, 7.30992629e-01, 9.02116571e-05]])"
      ]
     },
     "execution_count": 52,
     "metadata": {},
     "output_type": "execute_result"
    }
   ],
   "source": [
    "a = np.array([[2,1,4], [8,9,0]])\n",
    "c = np.max(a, axis = 1).reshape(2, 1)     # 각 행의 최댓값 구해서 2행1열 형태로 바꾸기 \n",
    "exp_a = np.exp(a - c)\n",
    "sum_exp_a = np.sum(exp_a, axis = 1).reshape(2, 1)     # 각 행별 합\n",
    "exp_a / sum_exp_a"
   ]
  },
  {
   "cell_type": "markdown",
   "id": "64953486-9812-4a3a-a371-95e08a6124ff",
   "metadata": {},
   "source": [
    "### 최종 softmax함수"
   ]
  },
  {
   "cell_type": "code",
   "execution_count": 4,
   "id": "df9d04b4-aed8-4c94-80b6-d35196122781",
   "metadata": {},
   "outputs": [],
   "source": [
    "# 최종 softmax함수\n",
    "def softmax(x):\n",
    "    x = x.copy()\n",
    "\n",
    "    if x.ndim == 1:   # x가 1차원인 경우만 이걸 실행\n",
    "        c = np.max(x)\n",
    "        exp_x = np.exp(x - c)\n",
    "        sum_exp_x = sum(exp_x)\n",
    "        return exp_x / sum_exp_x\n",
    "\n",
    "    elif x.ndim == 2:      # 2차원으로 한번에 값 여러개 들어오면\n",
    "        c = np.max(x, axis = 1).reshape(-1, 1)     # -1: 자동으로 채움\n",
    "        exp_x = np.exp(x - c)\n",
    "        sum_exp_x = np.sum(exp_x, axis = 1).reshape(-1, 1) \n",
    "        return exp_x / sum_exp_x"
   ]
  },
  {
   "cell_type": "code",
   "execution_count": null,
   "id": "c8249178-3594-4696-93d9-b857bd1e799d",
   "metadata": {},
   "outputs": [],
   "source": []
  },
  {
   "cell_type": "markdown",
   "id": "bb553049-ffe5-41c2-91c7-707cfd053717",
   "metadata": {},
   "source": [
    "# 딥러닝을 활용한 손글씨 인식"
   ]
  },
  {
   "cell_type": "code",
   "execution_count": 5,
   "id": "d630c7d3-40b6-4ccd-9f2f-544ebd74de53",
   "metadata": {},
   "outputs": [],
   "source": [
    "import pickle\n",
    "f = open(\"Data/MNIST_DATA.dat\", 'rb')\n",
    "X, Y = pickle.load(f)\n",
    "f.close()"
   ]
  },
  {
   "cell_type": "code",
   "execution_count": 56,
   "id": "03b8d2bf-4b48-42c9-9ddb-7584b0cbc01e",
   "metadata": {},
   "outputs": [
    {
     "data": {
      "text/plain": [
       "((10000, 28, 28), (10000, 10))"
      ]
     },
     "execution_count": 56,
     "metadata": {},
     "output_type": "execute_result"
    }
   ],
   "source": [
    "X.shape, Y.shape"
   ]
  },
  {
   "cell_type": "code",
   "execution_count": 65,
   "id": "1368b2b7-d0d8-4611-9e90-84495f403edf",
   "metadata": {},
   "outputs": [
    {
     "data": {
      "image/png": "[encoded data removed]",
      "text/plain": [
       "<Figure size 640x480 with 1 Axes>"
      ]
     },
     "metadata": {},
     "output_type": "display_data"
    }
   ],
   "source": [
    "import matplotlib.pyplot as plt\n",
    "plt.imshow(X[0], cmap = \"gray\")\n",
    "plt.show()"
   ]
  },
  {
   "cell_type": "code",
   "execution_count": 70,
   "id": "4c7cdee9-f9fb-477c-b29b-e496cc6f6bb2",
   "metadata": {},
   "outputs": [
    {
     "data": {
      "text/plain": [
       "(10000, 784)"
      ]
     },
     "execution_count": 70,
     "metadata": {},
     "output_type": "execute_result"
    }
   ],
   "source": [
    "X_scaled = X.reshape(-1, 28*28) / 255       # 픽셀값이 0~255 사이에서 움직이므로 255로 나눠서 min-max scaling\n",
    "X_scaled.shape"
   ]
  },
  {
   "cell_type": "raw",
   "id": "d352856d-8f17-45c3-adbe-fcedd7e2c56b",
   "metadata": {},
   "source": [
    "784개        50개        100개        10개\n",
    "입력층   1번째은닉층   2번째은닉층    출력층"
   ]
  },
  {
   "cell_type": "code",
   "execution_count": 77,
   "id": "e6733801-4243-4b91-8239-c39dddec1cdc",
   "metadata": {},
   "outputs": [
    {
     "data": {
      "text/plain": [
       "(10000, 50)"
      ]
     },
     "execution_count": 77,
     "metadata": {},
     "output_type": "execute_result"
    }
   ],
   "source": [
    "# 1번쨰 은닉층\n",
    "W1 = np.random.randn(784, 50)\n",
    "B1 = np.random.randn(50)     # 편향개수도 50개\n",
    "\n",
    "A1 = X_scaled @ W1 + B1 \n",
    "Z1 = sigmoid(A1)\n",
    "Z1.shape"
   ]
  },
  {
   "cell_type": "code",
   "execution_count": 78,
   "id": "d25dcdba-632d-4397-8c6f-fa496f1c104e",
   "metadata": {},
   "outputs": [
    {
     "data": {
      "text/plain": [
       "(10000, 100)"
      ]
     },
     "execution_count": 78,
     "metadata": {},
     "output_type": "execute_result"
    }
   ],
   "source": [
    "# 2번째 은닉층\n",
    "W2 = np.random.randn(50, 100)\n",
    "B2 = np.random.randn(100) \n",
    "\n",
    "A2 = Z1 @ W2 + B2\n",
    "Z2 = sigmoid(A2)\n",
    "Z2.shape"
   ]
  },
  {
   "cell_type": "code",
   "execution_count": 86,
   "id": "054fdad9-10b9-46a7-a6da-e2c00a1ce7a1",
   "metadata": {},
   "outputs": [
    {
     "data": {
      "text/plain": [
       "array([[7.17629945e-06, 1.76022123e-16, 6.32031888e-11, ...,\n",
       "        2.52578709e-06, 3.11501524e-10, 4.95658355e-03],\n",
       "       [1.07610233e-03, 6.22396706e-14, 1.01537943e-09, ...,\n",
       "        4.37912841e-06, 6.42196479e-10, 8.79758740e-08],\n",
       "       [4.36395492e-05, 1.06588394e-15, 5.81740932e-12, ...,\n",
       "        1.04712348e-06, 6.92502458e-11, 3.32194246e-05],\n",
       "       ...,\n",
       "       [4.67719052e-05, 1.95249590e-15, 3.22997986e-11, ...,\n",
       "        2.63620067e-04, 9.58294323e-10, 7.67159542e-06],\n",
       "       [7.55909164e-06, 3.83296282e-13, 2.01830474e-10, ...,\n",
       "        2.20197933e-07, 4.17520360e-11, 7.38478977e-04],\n",
       "       [3.71049569e-04, 8.41840959e-14, 1.17495277e-12, ...,\n",
       "        3.48869015e-03, 3.63172825e-10, 2.28178940e-08]])"
      ]
     },
     "execution_count": 86,
     "metadata": {},
     "output_type": "execute_result"
    }
   ],
   "source": [
    "# 출력층 (소프트맥스)\n",
    "W3 = np.random.randn(100, 10)\n",
    "B3 = np.random.randn(10) \n",
    "\n",
    "A3 = Z2 @ W3 + B3\n",
    "pred = softmax(A3)\n",
    "pred         # 10000개의 데이터에 대한 확률"
   ]
  },
  {
   "cell_type": "code",
   "execution_count": 88,
   "id": "1ca405ef-38db-4cc1-a609-832196a3178b",
   "metadata": {},
   "outputs": [
    {
     "data": {
      "text/plain": [
       "array([7.17629945e-06, 1.76022123e-16, 6.32031888e-11, 3.02749581e-09,\n",
       "       2.81382288e-10, 2.21855728e-10, 9.95033710e-01, 2.52578709e-06,\n",
       "       3.11501524e-10, 4.95658355e-03])"
      ]
     },
     "execution_count": 88,
     "metadata": {},
     "output_type": "execute_result"
    }
   ],
   "source": [
    "pred[0]\n",
    "# pred[0]이 0일확률, 1일확률,~~"
   ]
  },
  {
   "cell_type": "code",
   "execution_count": 92,
   "id": "18590c3e-52cc-450a-8faa-953fa2340a29",
   "metadata": {},
   "outputs": [
    {
     "data": {
      "text/plain": [
       "6"
      ]
     },
     "execution_count": 92,
     "metadata": {},
     "output_type": "execute_result"
    }
   ],
   "source": [
    "np.argmax(pred[0])\n",
    "# pred[0]일 가능성이 가장 높은 수"
   ]
  },
  {
   "cell_type": "code",
   "execution_count": 103,
   "id": "d53174b3-b0e7-4ac0-adf9-932eb896a0c4",
   "metadata": {},
   "outputs": [
    {
     "data": {
      "text/plain": [
       "array([6, 6, 6, ..., 6, 6, 6], dtype=int64)"
      ]
     },
     "execution_count": 103,
     "metadata": {},
     "output_type": "execute_result"
    }
   ],
   "source": [
    "np.argmax(pred, axis = 1)"
   ]
  },
  {
   "cell_type": "code",
   "execution_count": 104,
   "id": "7c15e6a4-8b78-426a-be1a-fc044ece95af",
   "metadata": {},
   "outputs": [
    {
     "data": {
      "text/plain": [
       "array([7, 2, 1, ..., 4, 5, 6], dtype=int64)"
      ]
     },
     "execution_count": 104,
     "metadata": {},
     "output_type": "execute_result"
    }
   ],
   "source": [
    "real = np.argmax(Y, axis = 1)   # 정답지\n",
    "real"
   ]
  },
  {
   "cell_type": "code",
   "execution_count": 105,
   "id": "91c06239-6a88-4911-9f38-a42f2a9bdb64",
   "metadata": {},
   "outputs": [
    {
     "name": "stdout",
     "output_type": "stream",
     "text": [
      "              precision    recall  f1-score   support\n",
      "\n",
      "           0       0.04      0.00      0.01       980\n",
      "           1       0.00      0.00      0.00      1135\n",
      "           2       0.00      0.00      0.00      1032\n",
      "           3       0.00      0.00      0.00      1010\n",
      "           4       0.00      0.00      0.00       982\n",
      "           5       0.00      0.00      0.00       892\n",
      "           6       0.10      1.00      0.18       958\n",
      "           7       0.00      0.00      0.00      1028\n",
      "           8       0.00      0.00      0.00       974\n",
      "           9       0.00      0.00      0.00      1009\n",
      "\n",
      "    accuracy                           0.10     10000\n",
      "   macro avg       0.01      0.10      0.02     10000\n",
      "weighted avg       0.01      0.10      0.02     10000\n",
      "\n"
     ]
    }
   ],
   "source": [
    "# 얼마나 맞았는지 비교\n",
    "from sklearn.metrics import classification_report\n",
    "report = classification_report(real, np.argmax(pred, axis = 1),\n",
    "                               zero_division = 0)\n",
    "print(report)"
   ]
  },
  {
   "cell_type": "markdown",
   "id": "77b54eda-89c9-488e-824f-3c11e41edc1e",
   "metadata": {},
   "source": [
    "### 학습된 가중치로 확인"
   ]
  },
  {
   "cell_type": "code",
   "execution_count": 6,
   "id": "6ddef726-76f0-4256-953a-af9c98547184",
   "metadata": {},
   "outputs": [],
   "source": [
    "f = open(\"Data/sample_weight.pkl\", 'rb')      # 학습된 가중치\n",
    "net = pickle.load(f)\n",
    "f.close()"
   ]
  },
  {
   "cell_type": "code",
   "execution_count": 7,
   "id": "73bd8bae-a637-4e7f-b8c3-f57ce06cdaad",
   "metadata": {},
   "outputs": [
    {
     "data": {
      "text/plain": [
       "dict_keys(['b2', 'W1', 'b1', 'W2', 'W3', 'b3'])"
      ]
     },
     "execution_count": 7,
     "metadata": {},
     "output_type": "execute_result"
    }
   ],
   "source": [
    "net.keys()"
   ]
  },
  {
   "cell_type": "code",
   "execution_count": 8,
   "id": "5a1d4701-3bd5-40ed-b851-8108e2c18919",
   "metadata": {},
   "outputs": [
    {
     "name": "stdout",
     "output_type": "stream",
     "text": [
      "b2: (100,)\n",
      "W1: (784, 50)\n",
      "b1: (50,)\n",
      "W2: (50, 100)\n",
      "W3: (100, 10)\n",
      "b3: (10,)\n"
     ]
    }
   ],
   "source": [
    "#내가추가 \n",
    "for key in net:\n",
    "    print(f\"{key}: {net[key].shape}\")"
   ]
  },
  {
   "cell_type": "code",
   "execution_count": 109,
   "id": "1bbe778c-0ac6-4501-af38-ce5e9a64598e",
   "metadata": {},
   "outputs": [
    {
     "data": {
      "text/plain": [
       "(10000, 784)"
      ]
     },
     "execution_count": 109,
     "metadata": {},
     "output_type": "execute_result"
    }
   ],
   "source": [
    "X_scaled.shape"
   ]
  },
  {
   "cell_type": "code",
   "execution_count": 110,
   "id": "8a3bad32-9101-43de-aed1-9475c05ba521",
   "metadata": {},
   "outputs": [
    {
     "data": {
      "text/plain": [
       "array([[-0.00741249, -0.00790439, -0.01307499, ...,  0.01978721,\n",
       "        -0.04331266, -0.01350104],\n",
       "       [-0.01029745, -0.01616653, -0.01228376, ...,  0.01920228,\n",
       "         0.02809811,  0.01450908],\n",
       "       [-0.01309184, -0.00244747, -0.0177224 , ...,  0.00944778,\n",
       "         0.01387301,  0.03393568],\n",
       "       ...,\n",
       "       [ 0.02242565, -0.0296145 , -0.06326169, ..., -0.01012643,\n",
       "         0.01120969,  0.01027199],\n",
       "       [-0.00761533,  0.02028973, -0.01498873, ...,  0.02735376,\n",
       "        -0.01229855,  0.02407041],\n",
       "       [ 0.00027915, -0.06848375,  0.00911191, ..., -0.03183098,\n",
       "         0.00743086, -0.04021148]], dtype=float32)"
      ]
     },
     "execution_count": 110,
     "metadata": {},
     "output_type": "execute_result"
    }
   ],
   "source": [
    "net[\"W1\"]"
   ]
  },
  {
   "cell_type": "code",
   "execution_count": 11,
   "id": "967fbbb7-9288-454f-8f28-14623bb25c5e",
   "metadata": {},
   "outputs": [
    {
     "data": {
      "image/png": "[encoded data removed]",
      "text/plain": [
       "<Figure size 640x480 with 1 Axes>"
      ]
     },
     "metadata": {},
     "output_type": "display_data"
    }
   ],
   "source": [
    "#내가추가 \n",
    "import matplotlib.pyplot as plt\n",
    "import koreanize_matplotlib\n",
    "import warnings\n",
    "warnings.filterwarnings('ignore')\n",
    "\n",
    "# 예: net['W1']의 첫 번째 뉴런 가중치 (shape: (784,))\n",
    "W1 = net['W1']       # shape: (784, 은닉층 뉴런 수)\n",
    "\n",
    "# 첫 번째 뉴런의 가중치를 28x28로 reshape (MNIST 기준)\n",
    "plt.imshow(W1[:, 0].reshape(28, 28), cmap='gray')\n",
    "plt.title(\"W1[:, 0] 가중치 시각화\")\n",
    "plt.axis(\"off\")\n",
    "plt.show()"
   ]
  },
  {
   "cell_type": "code",
   "execution_count": 123,
   "id": "913ceff9-8fbf-40a4-b07b-cc49f6ec3eb5",
   "metadata": {},
   "outputs": [
    {
     "data": {
      "text/plain": [
       "array([[8.44125033e-05, 2.63506448e-06, 7.15494238e-04, ...,\n",
       "        9.97064966e-01, 9.37447336e-06, 8.18311658e-04],\n",
       "       [4.83633078e-03, 1.10458594e-03, 9.44252241e-01, ...,\n",
       "        1.27084349e-06, 1.28642348e-03, 4.78646841e-08],\n",
       "       [1.03583035e-07, 9.88972589e-01, 4.28948968e-03, ...,\n",
       "        2.26997299e-03, 1.23787015e-03, 8.67146780e-05],\n",
       "       ...,\n",
       "       [4.87633309e-07, 7.04747172e-05, 7.31144951e-05, ...,\n",
       "        7.52423895e-04, 5.95428981e-03, 2.20708730e-02],\n",
       "       [6.24384858e-04, 7.67556916e-04, 1.24992092e-04, ...,\n",
       "        3.81287464e-05, 8.62064915e-02, 8.99350225e-05],\n",
       "       [4.28828339e-04, 2.00430152e-06, 2.54056604e-03, ...,\n",
       "        4.34993796e-07, 6.37568425e-06, 3.77514031e-07]])"
      ]
     },
     "execution_count": 123,
     "metadata": {},
     "output_type": "execute_result"
    }
   ],
   "source": [
    "# 1번쨰 은닉층\n",
    "A1 = X_scaled @ net[\"W1\"] + net[\"b1\"]  \n",
    "Z1 = sigmoid(A1)\n",
    "\n",
    "# 2번째 은닉층\n",
    "A2 = Z1 @ net[\"W2\"] + net[\"b2\"]  \n",
    "Z2 = sigmoid(A2)\n",
    "\n",
    "# 출력층 (소프트맥스)\n",
    "A3 = Z2 @ net[\"W3\"] + net[\"b3\"] \n",
    "pred = softmax(A3)\n",
    "pred         # 10000개의 데이터에 대한 확률"
   ]
  },
  {
   "cell_type": "code",
   "execution_count": 124,
   "id": "92bec5ec-25aa-4ac6-9edd-05b099f824c1",
   "metadata": {},
   "outputs": [
    {
     "data": {
      "text/plain": [
       "array([8.44125033e-05, 2.63506448e-06, 7.15494238e-04, 1.25862625e-03,\n",
       "       1.17279510e-06, 4.49908218e-05, 1.62693174e-08, 9.97064966e-01,\n",
       "       9.37447336e-06, 8.18311658e-04])"
      ]
     },
     "execution_count": 124,
     "metadata": {},
     "output_type": "execute_result"
    }
   ],
   "source": [
    "pred[0]"
   ]
  },
  {
   "cell_type": "code",
   "execution_count": 125,
   "id": "2e5639ad-b2fb-436b-ae33-ea67cfd08505",
   "metadata": {},
   "outputs": [
    {
     "data": {
      "text/plain": [
       "7"
      ]
     },
     "execution_count": 125,
     "metadata": {},
     "output_type": "execute_result"
    }
   ],
   "source": [
    "np.argmax(pred[0])"
   ]
  },
  {
   "cell_type": "code",
   "execution_count": 126,
   "id": "2ea0687e-5e5a-48f3-9a10-36966193a80e",
   "metadata": {},
   "outputs": [
    {
     "data": {
      "text/plain": [
       "array([7, 2, 1, ..., 4, 5, 6], dtype=int64)"
      ]
     },
     "execution_count": 126,
     "metadata": {},
     "output_type": "execute_result"
    }
   ],
   "source": [
    "np.argmax(pred, axis = 1)"
   ]
  },
  {
   "cell_type": "code",
   "execution_count": 127,
   "id": "7eb15933-4629-4ff6-97a7-4feab05b85af",
   "metadata": {},
   "outputs": [
    {
     "data": {
      "text/plain": [
       "array([7, 2, 1, ..., 4, 5, 6], dtype=int64)"
      ]
     },
     "execution_count": 127,
     "metadata": {},
     "output_type": "execute_result"
    }
   ],
   "source": [
    "real = np.argmax(Y, axis = 1)   # 정답지\n",
    "real"
   ]
  },
  {
   "cell_type": "code",
   "execution_count": 128,
   "id": "0f8edda2-9099-4e5b-b1b7-286d5b6499e0",
   "metadata": {},
   "outputs": [
    {
     "name": "stdout",
     "output_type": "stream",
     "text": [
      "              precision    recall  f1-score   support\n",
      "\n",
      "           0       0.94      0.98      0.96       980\n",
      "           1       0.98      0.98      0.98      1135\n",
      "           2       0.93      0.92      0.92      1032\n",
      "           3       0.92      0.93      0.92      1010\n",
      "           4       0.93      0.94      0.93       982\n",
      "           5       0.94      0.89      0.91       892\n",
      "           6       0.93      0.95      0.94       958\n",
      "           7       0.94      0.93      0.94      1028\n",
      "           8       0.92      0.91      0.92       974\n",
      "           9       0.92      0.91      0.92      1009\n",
      "\n",
      "    accuracy                           0.94     10000\n",
      "   macro avg       0.93      0.93      0.93     10000\n",
      "weighted avg       0.94      0.94      0.94     10000\n",
      "\n"
     ]
    }
   ],
   "source": [
    "# 얼마나 맞았는지 비교\n",
    "from sklearn.metrics import classification_report\n",
    "report = classification_report(real, np.argmax(pred, axis = 1),\n",
    "                               zero_division = 0)\n",
    "print(report)"
   ]
  },
  {
   "cell_type": "code",
   "execution_count": null,
   "id": "ac8f29ec-0157-4f47-9f85-2b589448b302",
   "metadata": {},
   "outputs": [],
   "source": []
  },
  {
   "cell_type": "code",
   "execution_count": 129,
   "id": "3e060dff-28b0-45ce-82dc-6e470000daa2",
   "metadata": {},
   "outputs": [],
   "source": [
    "## 강사님풀이\n",
    "def forward(net, x):\n",
    "    w1, w2, w3 = net['W1'], net['W2'], net['W3']\n",
    "    b1, b2, b3 = net['b1'], net['b2'], net['b3']\n",
    "\n",
    "    a1 = x @ w1 + b1\n",
    "    z1 = sigmoid(a1)\n",
    "\n",
    "    a2 = z1 @ w2 + b2\n",
    "    z2 = sigmoid(a2)\n",
    "\n",
    "    a3 = z2 @ w3 + b3\n",
    "    return softmax(a3)"
   ]
  },
  {
   "cell_type": "code",
   "execution_count": 132,
   "id": "8828373c-b39c-474f-8a8f-2a6d7f6e8c22",
   "metadata": {},
   "outputs": [
    {
     "name": "stdout",
     "output_type": "stream",
     "text": [
      "              precision    recall  f1-score   support\n",
      "\n",
      "           0       0.94      0.98      0.96       980\n",
      "           1       0.98      0.98      0.98      1135\n",
      "           2       0.93      0.92      0.92      1032\n",
      "           3       0.92      0.93      0.92      1010\n",
      "           4       0.93      0.94      0.93       982\n",
      "           5       0.94      0.89      0.91       892\n",
      "           6       0.93      0.95      0.94       958\n",
      "           7       0.94      0.93      0.94      1028\n",
      "           8       0.92      0.91      0.92       974\n",
      "           9       0.92      0.91      0.92      1009\n",
      "\n",
      "    accuracy                           0.94     10000\n",
      "   macro avg       0.93      0.93      0.93     10000\n",
      "weighted avg       0.94      0.94      0.94     10000\n",
      "\n"
     ]
    }
   ],
   "source": [
    "pred = np.argmax(forward(net, X_scaled), axis = 1)\n",
    "real = np.argmax(Y, axis = 1)\n",
    "\n",
    "report = classification_report(real, pred, zero_division = 0)\n",
    "print(report)"
   ]
  },
  {
   "cell_type": "code",
   "execution_count": null,
   "id": "4f2be053-20f7-4a81-bf50-7b76bbfd6c73",
   "metadata": {},
   "outputs": [],
   "source": []
  },
  {
   "cell_type": "code",
   "execution_count": null,
   "id": "466abff6-6d63-44b5-a111-362a2227888f",
   "metadata": {},
   "outputs": [],
   "source": []
  },
  {
   "cell_type": "code",
   "execution_count": null,
   "id": "1e74fee1-9794-4ece-a62d-737c90250102",
   "metadata": {},
   "outputs": [],
   "source": []
  },
  {
   "cell_type": "markdown",
   "id": "14c4bd27-ea8f-421f-b6da-f9ac6ad52388",
   "metadata": {},
   "source": [
    "# 연습문제\n",
    "1. 입력 데이터 X와 첫 번째 층의 가중치 W1, 편향 B1이 다음과 같을 때, 활성화 함수를 적용하기 전의 가중 합 결과 A1을 계산하세요."
   ]
  },
  {
   "cell_type": "code",
   "execution_count": 133,
   "id": "51f3992a-c7e6-4ead-b610-0a593b68393a",
   "metadata": {},
   "outputs": [
    {
     "data": {
      "text/plain": [
       "array([0.22, 0.52, 0.82])"
      ]
     },
     "execution_count": 133,
     "metadata": {},
     "output_type": "execute_result"
    }
   ],
   "source": [
    "X = np.array([0.8, 0.2])\n",
    "W1 = np.array([[0.1, 0.4, 0.7], [0.2, 0.5, 0.8]])\n",
    "B1 = np.array([0.1, 0.1, 0.1])\n",
    "\n",
    "A1 = X @ W1 + B1\n",
    "A1"
   ]
  },
  {
   "cell_type": "markdown",
   "id": "cfdc9fcb-6406-4d93-9613-83a40a95107f",
   "metadata": {},
   "source": [
    "2. 문제 1에서 계산된 A1 값에 sigmoid 활성화 함수를 적용하여 첫 번째 은닉층의 최종 출력 Z1을 계산하고 출력하세요."
   ]
  },
  {
   "cell_type": "code",
   "execution_count": 134,
   "id": "6aa907c0-1fbc-4e13-9967-d0fc2aeae339",
   "metadata": {},
   "outputs": [
    {
     "data": {
      "text/plain": [
       "array([0.55477924, 0.62714777, 0.69423634])"
      ]
     },
     "execution_count": 134,
     "metadata": {},
     "output_type": "execute_result"
    }
   ],
   "source": [
    "Z1 = sigmoid(A1)\n",
    "Z1"
   ]
  },
  {
   "cell_type": "markdown",
   "id": "ce98da9a-8695-4b08-ab93-1fc6c23141a7",
   "metadata": {},
   "source": [
    "3. 입력 X, 가중치 W, 편향 B가 주어졌을 때, 가중 합을 구하고 sigmoid 활성화 함수를 적용하여 해당 층의 출력 Z를 계산하는 코드를 작성하세요."
   ]
  },
  {
   "cell_type": "code",
   "execution_count": 180,
   "id": "38644909-1810-4dba-a218-d00088c9a96a",
   "metadata": {},
   "outputs": [
    {
     "data": {
      "text/plain": [
       "array([0.55477924, 0.62714777, 0.69423634])"
      ]
     },
     "execution_count": 180,
     "metadata": {},
     "output_type": "execute_result"
    }
   ],
   "source": [
    "X = np.array([0.8, 0.2])\n",
    "W1 = np.array([[0.1, 0.4, 0.7], [0.2, 0.5, 0.8]])\n",
    "B1 = np.array([0.1, 0.1, 0.1])\n",
    "\n",
    "A = X @ W1 + B1\n",
    "Z = sigmoid(A)\n",
    "Z"
   ]
  },
  {
   "cell_type": "markdown",
   "id": "161dd7b9-6376-4690-a407-574d35c283d9",
   "metadata": {},
   "source": [
    "4. 입력 데이터 X의 shape이 (10, 5)이고, 첫 번째 은닉층의 뉴런 수가 8개라고 할 때, 첫 번째 층의 가중치 행렬 W1과 편향 벡터 B1의 적절한 shape은 무엇일까요? 그리고 A1 = X @ W1 + B1 연산 후 A1의 shape은 무엇이 될까요? (NumPy 코드는 작성하지 않고 shape만 답하세요)\n",
    "\n",
    "* W1의 shape: ?\n",
    "* B1의 shape: ?\n",
    "* A1의 shape: ?"
   ]
  },
  {
   "cell_type": "raw",
   "id": "8aabe79d-8a8e-47fc-911f-75779ebbfe41",
   "metadata": {},
   "source": [
    "W1의 shape는 (5, 8)\n",
    "B1의 shape는 (8, )\n",
    "\n",
    "A1의 SHAPE는 (10, 8)"
   ]
  },
  {
   "cell_type": "markdown",
   "id": "5e04e4d2-2367-40ad-b064-1644a260fd2c",
   "metadata": {},
   "source": [
    "5. 신경망의 마지막 층에서 얻은 값 logits = np.array([1.0, 2.0, 0.5]) 가 있다고 가정합니다. 이 값에 softmax 함수를 직접 만들어보면서 이해하고 적용하여 각 클래스에 대한 확률값 probabilities를 계산하고, 계산된 확률값들의 합이 1이 되는지 확인하세요."
   ]
  },
  {
   "cell_type": "code",
   "execution_count": 181,
   "id": "aed35618-4942-488f-9ce0-cf379d36a9ef",
   "metadata": {},
   "outputs": [
    {
     "data": {
      "text/plain": [
       "array([0.2312239 , 0.62853172, 0.14024438])"
      ]
     },
     "execution_count": 181,
     "metadata": {},
     "output_type": "execute_result"
    }
   ],
   "source": [
    "logits = np.array([1.0, 2.0, 0.5])\n",
    "\n",
    "np.exp(logits) / np.sum(np.exp(logits))"
   ]
  },
  {
   "cell_type": "markdown",
   "id": "3ead0b8f-0db1-4d0e-81ac-118990b13160",
   "metadata": {},
   "source": [
    "6. 입력 값 a = np.array([1000, 1010, 990]) 에 대해 강의에서 사용된 이 값에 softmax 함수를 직접 만들어보면서 안정성이 개선된 softmax 함수를 적용한 결과를 계산하세요. 왜 큰 값에 대해 안정성 개선(최댓값 빼기)이 필요한지 간단히 설명하세요."
   ]
  },
  {
   "cell_type": "code",
   "execution_count": 182,
   "id": "06acd469-c9a6-4ced-9e0f-257e3df6c578",
   "metadata": {},
   "outputs": [
    {
     "data": {
      "text/plain": [
       "array([4.53978686e-05, 9.99954600e-01, 2.06106005e-09])"
      ]
     },
     "execution_count": 182,
     "metadata": {},
     "output_type": "execute_result"
    }
   ],
   "source": [
    "a = np.array([1000, 1010, 990])\n",
    "c = np.max(a)\n",
    "\n",
    "np.exp(a-c) / np.sum(np.exp(a-c))"
   ]
  },
  {
   "cell_type": "markdown",
   "id": "07aecd69-afd2-445d-8d84-b60d8fd0475a",
   "metadata": {},
   "source": [
    "7. 여러 샘플(배치)에 대한 값 batch_logits가 2차원 배열로 주어졌을 때, 이 배열을 처리할 수 있는 softmax 함수를 직접 만들어보면서 각 샘플(행)별로 softmax 함수를 적용하여 확률값을 계산하는 코드를 작성하세요."
   ]
  },
  {
   "cell_type": "code",
   "execution_count": 187,
   "id": "34b63fd2-29c9-4f5b-aae5-a04da4351ecf",
   "metadata": {},
   "outputs": [
    {
     "data": {
      "text/plain": [
       "array([[0.24472847, 0.66524096, 0.09003057],\n",
       "       [0.78698604, 0.10650698, 0.10650698],\n",
       "       [0.01587624, 0.86681333, 0.11731043]])"
      ]
     },
     "execution_count": 187,
     "metadata": {},
     "output_type": "execute_result"
    }
   ],
   "source": [
    "batch_logits = np.array([[1, 2, 0], [3, 1, 1], [0, 4, 2]])\n",
    "\n",
    "c = np.max(batch_logits, axis = 1).reshape(-1, 1)\n",
    "A = np.exp(batch_logits - c)\n",
    "B = np.sum(A, axis = 1). reshape(-1, 1)\n",
    "\n",
    "batch_probabilities = A / B\n",
    "batch_probabilities"
   ]
  },
  {
   "cell_type": "markdown",
   "id": "d0e1ccd9-86d7-40f7-a07f-8d7f9252d7b7",
   "metadata": {},
   "source": [
    "8. 문제 7에서 계산된 batch_probabilities 배열 (각 행은 하나의 샘플에 대한 클래스별 확률)이 주어졌을 때, np.argmax 함수를 사용하여 각 샘플에 대해 가장 확률이 높은 클래스의 인덱스를 찾아 predictions 배열에 저장하고 출력하세요."
   ]
  },
  {
   "cell_type": "code",
   "execution_count": 188,
   "id": "cb932307-e517-402f-a219-8968d53eb5da",
   "metadata": {},
   "outputs": [
    {
     "data": {
      "text/plain": [
       "array([1, 0, 1], dtype=int64)"
      ]
     },
     "execution_count": 188,
     "metadata": {},
     "output_type": "execute_result"
    }
   ],
   "source": [
    "pred = np.argmax(batch_probabilities, axis = 1)\n",
    "pred"
   ]
  },
  {
   "cell_type": "markdown",
   "id": "6dd4d30a-5628-4c7e-b080-2be5f53106aa",
   "metadata": {},
   "source": [
    "9. 입력 X, 첫 번째 층의 가중치/편향 (W1, B1), 두 번째 층의 가중치/편향 (W2, B2)가 다음과 같을 때, 첫 번째 층과 두 번째 층 모두 sigmoid 활성화 함수를 사용하여 두 번째 은닉층의 최종 출력 Z2를 계산하세요."
   ]
  },
  {
   "cell_type": "code",
   "execution_count": 179,
   "id": "da0d978f-76f5-4ba1-acd6-deb48bd4349f",
   "metadata": {},
   "outputs": [
    {
     "data": {
      "text/plain": [
       "array([0.62624937, 0.7710107 ])"
      ]
     },
     "execution_count": 179,
     "metadata": {},
     "output_type": "execute_result"
    }
   ],
   "source": [
    "X = np.array([1.0, 0.5])\n",
    "W1 = np.array([[0.1, 0.3, 0.5], [0.2, 0.4, 0.6]])\n",
    "B1 = np.array([0.1, 0.2, 0.3])\n",
    "W2 = np.array([[0.1, 0.4], [0.2, 0.5], [0.3, 0.6]])\n",
    "B2 = np.array([0.1, 0.2])\n",
    "\n",
    "A1 = A1 = X @ W1 + B1 \n",
    "Z1 = sigmoid(A1)\n",
    "\n",
    "A2 = Z1 @ W2 + B2  \n",
    "Z2 = sigmoid(A2)\n",
    "Z2"
   ]
  },
  {
   "cell_type": "markdown",
   "id": "ee0f975b-35d3-45ae-9e78-c526d13f94a9",
   "metadata": {},
   "source": [
    "10. 이 데이터가 어떤 숫자인가요? 학습된 가중치를 활용해서 예측해보세요. (\"sample_weight.pkl\")"
   ]
  },
  {
   "cell_type": "code",
   "execution_count": 189,
   "id": "3f98d271-6819-4958-b899-4c0c645c1627",
   "metadata": {},
   "outputs": [],
   "source": [
    "A = np.array([0.        , 0.        , 0.        , 0.        , 0.        ,\n",
    "       0.        , 0.        , 0.        , 0.        , 0.        ,\n",
    "       0.        , 0.        , 0.        , 0.        , 0.        ,\n",
    "       0.        , 0.        , 0.        , 0.        , 0.        ,\n",
    "       0.        , 0.        , 0.        , 0.        , 0.        ,\n",
    "       0.        , 0.        , 0.        , 0.        , 0.        ,\n",
    "       0.        , 0.        , 0.        , 0.        , 0.        ,\n",
    "       0.        , 0.        , 0.        , 0.        , 0.        ,\n",
    "       0.        , 0.        , 0.        , 0.        , 0.        ,\n",
    "       0.        , 0.        , 0.        , 0.        , 0.        ,\n",
    "       0.        , 0.        , 0.        , 0.        , 0.        ,\n",
    "       0.        , 0.        , 0.        , 0.        , 0.        ,\n",
    "       0.        , 0.        , 0.        , 0.        , 0.        ,\n",
    "       0.        , 0.        , 0.        , 0.        , 0.        ,\n",
    "       0.        , 0.        , 0.        , 0.        , 0.        ,\n",
    "       0.        , 0.        , 0.        , 0.        , 0.        ,\n",
    "       0.        , 0.        , 0.        , 0.        , 0.        ,\n",
    "       0.        , 0.        , 0.        , 0.        , 0.        ,\n",
    "       0.        , 0.        , 0.        , 0.        , 0.        ,\n",
    "       0.        , 0.        , 0.        , 0.        , 0.        ,\n",
    "       0.        , 0.        , 0.        , 0.        , 0.        ,\n",
    "       0.        , 0.        , 0.        , 0.        , 0.        ,\n",
    "       0.        , 0.        , 0.        , 0.        , 0.        ,\n",
    "       0.        , 0.        , 0.        , 0.        , 0.        ,\n",
    "       0.        , 0.        , 0.        , 0.        , 0.        ,\n",
    "       0.        , 0.        , 0.        , 0.        , 0.        ,\n",
    "       0.        , 0.        , 0.        , 0.        , 0.        ,\n",
    "       0.        , 0.        , 0.        , 0.        , 0.        ,\n",
    "       0.        , 0.        , 0.        , 0.        , 0.        ,\n",
    "       0.        , 0.        , 0.        , 0.        , 0.        ,\n",
    "       0.        , 0.        , 0.        , 0.        , 0.        ,\n",
    "       0.        , 0.        , 0.        , 0.        , 0.        ,\n",
    "       0.        , 0.        , 0.        , 0.        , 0.        ,\n",
    "       0.        , 0.        , 0.        , 0.        , 0.        ,\n",
    "       0.        , 0.        , 0.        , 0.        , 0.        ,\n",
    "       0.        , 0.        , 0.        , 0.        , 0.        ,\n",
    "       0.        , 0.        , 0.        , 0.        , 0.        ,\n",
    "       0.        , 0.        , 0.        , 0.        , 0.        ,\n",
    "       0.        , 0.        , 0.        , 0.        , 0.        ,\n",
    "       0.        , 0.        , 0.        , 0.        , 0.        ,\n",
    "       0.        , 0.        , 0.        , 0.        , 0.        ,\n",
    "       0.01568627, 0.14509804, 0.50196078, 0.54901961, 0.54901961,\n",
    "       0.54901961, 0.22745098, 0.0627451 , 0.        , 0.        ,\n",
    "       0.        , 0.        , 0.        , 0.        , 0.        ,\n",
    "       0.        , 0.        , 0.        , 0.        , 0.        ,\n",
    "       0.        , 0.        , 0.        , 0.        , 0.        ,\n",
    "       0.        , 0.18431373, 0.4627451 , 0.76078431, 0.99215686,\n",
    "       0.99215686, 0.99215686, 0.99215686, 0.99215686, 0.99215686,\n",
    "       0.84313725, 0.31372549, 0.        , 0.        , 0.        ,\n",
    "       0.        , 0.        , 0.        , 0.        , 0.        ,\n",
    "       0.        , 0.        , 0.        , 0.        , 0.        ,\n",
    "       0.        , 0.        , 0.        , 0.4       , 0.77647059,\n",
    "       0.99215686, 0.89803922, 0.60784314, 0.12941176, 0.07843137,\n",
    "       0.07843137, 0.16470588, 0.48627451, 0.98431373, 0.96862745,\n",
    "       0.63529412, 0.        , 0.        , 0.        , 0.        ,\n",
    "       0.        , 0.        , 0.        , 0.        , 0.        ,\n",
    "       0.        , 0.        , 0.        , 0.        , 0.        ,\n",
    "       0.24705882, 0.9254902 , 0.95294118, 0.41176471, 0.02352941,\n",
    "       0.        , 0.        , 0.        , 0.        , 0.        ,\n",
    "       0.        , 0.41176471, 0.99215686, 0.95686275, 0.2       ,\n",
    "       0.        , 0.        , 0.        , 0.        , 0.        ,\n",
    "       0.        , 0.        , 0.        , 0.        , 0.        ,\n",
    "       0.        , 0.        , 0.        , 0.94901961, 0.99215686,\n",
    "       0.49411765, 0.        , 0.        , 0.        , 0.        ,\n",
    "       0.        , 0.        , 0.        , 0.        , 0.01960784,\n",
    "       0.78039216, 0.99215686, 0.28235294, 0.        , 0.        ,\n",
    "       0.        , 0.        , 0.        , 0.        , 0.        ,\n",
    "       0.        , 0.        , 0.        , 0.        , 0.        ,\n",
    "       0.        , 1.        , 0.99215686, 0.44705882, 0.        ,\n",
    "       0.        , 0.        , 0.        , 0.        , 0.        ,\n",
    "       0.        , 0.        , 0.        , 0.75294118, 0.99215686,\n",
    "       0.28235294, 0.        , 0.        , 0.        , 0.        ,\n",
    "       0.        , 0.        , 0.        , 0.        , 0.        ,\n",
    "       0.        , 0.        , 0.        , 0.        , 0.40392157,\n",
    "       0.25098039, 0.0745098 , 0.        , 0.        , 0.        ,\n",
    "       0.        , 0.        , 0.        , 0.        , 0.        ,\n",
    "       0.1372549 , 0.95686275, 0.89019608, 0.04705882, 0.        ,\n",
    "       0.        , 0.        , 0.        , 0.        , 0.        ,\n",
    "       0.        , 0.        , 0.        , 0.        , 0.        ,\n",
    "       0.        , 0.        , 0.        , 0.        , 0.        ,\n",
    "       0.        , 0.        , 0.        , 0.        , 0.        ,\n",
    "       0.        , 0.        , 0.        , 0.49803922, 0.99215686,\n",
    "       0.5372549 , 0.        , 0.        , 0.        , 0.        ,\n",
    "       0.        , 0.        , 0.        , 0.        , 0.        ,\n",
    "       0.        , 0.        , 0.        , 0.        , 0.        ,\n",
    "       0.        , 0.        , 0.        , 0.        , 0.        ,\n",
    "       0.        , 0.        , 0.        , 0.        , 0.        ,\n",
    "       0.47058824, 0.99215686, 0.55686275, 0.01176471, 0.        ,\n",
    "       0.        , 0.        , 0.        , 0.        , 0.        ,\n",
    "       0.        , 0.        , 0.        , 0.        , 0.        ,\n",
    "       0.        , 0.        , 0.        , 0.        , 0.        ,\n",
    "       0.        , 0.        , 0.        , 0.        , 0.        ,\n",
    "       0.        , 0.        , 0.27058824, 0.99215686, 0.83529412,\n",
    "       0.10588235, 0.        , 0.        , 0.        , 0.        ,\n",
    "       0.        , 0.        , 0.        , 0.        , 0.        ,\n",
    "       0.        , 0.        , 0.        , 0.        , 0.        ,\n",
    "       0.        , 0.        , 0.        , 0.        , 0.        ,\n",
    "       0.        , 0.        , 0.        , 0.        , 0.47058824,\n",
    "       0.90196078, 0.71764706, 0.10980392, 0.        , 0.        ,\n",
    "       0.        , 0.        , 0.        , 0.        , 0.        ,\n",
    "       0.        , 0.        , 0.        , 0.        , 0.        ,\n",
    "       0.        , 0.        , 0.        , 0.        , 0.        ,\n",
    "       0.        , 0.        , 0.        , 0.        , 0.        ,\n",
    "       0.08627451, 0.62745098, 0.98039216, 0.70588235, 0.01176471,\n",
    "       0.        , 0.        , 0.        , 0.        , 0.        ,\n",
    "       0.        , 0.        , 0.        , 0.        , 0.        ,\n",
    "       0.        , 0.        , 0.        , 0.        , 0.        ,\n",
    "       0.        , 0.        , 0.        , 0.        , 0.        ,\n",
    "       0.        , 0.        , 0.        , 0.76078431, 0.99215686,\n",
    "       0.81176471, 0.30980392, 0.0627451 , 0.1254902 , 0.        ,\n",
    "       0.        , 0.        , 0.        , 0.        , 0.        ,\n",
    "       0.07058824, 0.18431373, 0.        , 0.        , 0.        ,\n",
    "       0.        , 0.        , 0.        , 0.        , 0.        ,\n",
    "       0.        , 0.        , 0.        , 0.        , 0.05098039,\n",
    "       0.60392157, 0.98039216, 0.99215686, 0.99215686, 0.99215686,\n",
    "       0.91372549, 0.92156863, 0.8745098 , 0.89411765, 0.89411765,\n",
    "       0.89411765, 0.78823529, 0.50588235, 0.91764706, 0.95294118,\n",
    "       0.        , 0.        , 0.        , 0.        , 0.        ,\n",
    "       0.        , 0.        , 0.        , 0.        , 0.        ,\n",
    "       0.        , 0.        , 0.27058824, 0.99215686, 0.50980392,\n",
    "       0.3254902 , 0.3254902 , 0.3254902 , 0.3254902 , 0.27058824,\n",
    "       0.55294118, 0.56078431, 0.60392157, 0.35686275, 0.83921569,\n",
    "       0.56078431, 0.89803922, 0.99215686, 0.        , 0.        ,\n",
    "       0.        , 0.        , 0.        , 0.        , 0.        ,\n",
    "       0.        , 0.        , 0.        , 0.        , 0.        ,\n",
    "       0.01568627, 0.14117647, 0.0745098 , 0.        , 0.        ,\n",
    "       0.        , 0.        , 0.        , 0.        , 0.        ,\n",
    "       0.        , 0.        , 0.05882353, 0.        , 0.09019608,\n",
    "       0.14117647, 0.        , 0.        , 0.        , 0.        ,\n",
    "       0.        , 0.        , 0.        , 0.        , 0.        ,\n",
    "       0.        , 0.        , 0.        , 0.        , 0.        ,\n",
    "       0.        , 0.        , 0.        , 0.        , 0.        ,\n",
    "       0.        , 0.        , 0.        , 0.        , 0.        ,\n",
    "       0.        , 0.        , 0.        , 0.        , 0.        ,\n",
    "       0.        , 0.        , 0.        , 0.        , 0.        ,\n",
    "       0.        , 0.        , 0.        , 0.        , 0.        ,\n",
    "       0.        , 0.        , 0.        , 0.        , 0.        ,\n",
    "       0.        , 0.        , 0.        , 0.        , 0.        ,\n",
    "       0.        , 0.        , 0.        , 0.        , 0.        ,\n",
    "       0.        , 0.        , 0.        , 0.        , 0.        ,\n",
    "       0.        , 0.        , 0.        , 0.        , 0.        ,\n",
    "       0.        , 0.        , 0.        , 0.        , 0.        ,\n",
    "       0.        , 0.        , 0.        , 0.        , 0.        ,\n",
    "       0.        , 0.        , 0.        , 0.        , 0.        ,\n",
    "       0.        , 0.        , 0.        , 0.        , 0.        ,\n",
    "       0.        , 0.        , 0.        , 0.        , 0.        ,\n",
    "       0.        , 0.        , 0.        , 0.        , 0.        ,\n",
    "       0.        , 0.        , 0.        , 0.        , 0.        ,\n",
    "       0.        , 0.        , 0.        , 0.        , 0.        ,\n",
    "       0.        , 0.        , 0.        , 0.        , 0.        ,\n",
    "       0.        , 0.        , 0.        , 0.        , 0.        ,\n",
    "       0.        , 0.        , 0.        , 0.        , 0.        ,\n",
    "       0.        , 0.        , 0.        , 0.        , 0.        ,\n",
    "       0.        , 0.        , 0.        , 0.        , 0.        ,\n",
    "       0.        , 0.        , 0.        , 0.        , 0.        ,\n",
    "       0.        , 0.        , 0.        , 0.        , 0.        ,\n",
    "       0.        , 0.        , 0.        , 0.        ])"
   ]
  },
  {
   "cell_type": "code",
   "execution_count": 191,
   "id": "a3654d6a-51a9-4917-b4c1-6c22dc983e5d",
   "metadata": {},
   "outputs": [
    {
     "data": {
      "text/plain": [
       "2"
      ]
     },
     "execution_count": 191,
     "metadata": {},
     "output_type": "execute_result"
    }
   ],
   "source": [
    "np.argmax(forward(net, A))"
   ]
  },
  {
   "cell_type": "code",
   "execution_count": null,
   "id": "566947a2-461d-484c-89ec-191243243ba6",
   "metadata": {},
   "outputs": [],
   "source": []
  }
 ],
 "metadata": {
  "kernelspec": {
   "display_name": "Python 3 (ipykernel)",
   "language": "python",
   "name": "python3"
  },
  "language_info": {
   "codemirror_mode": {
    "name": "ipython",
    "version": 3
   },
   "file_extension": ".py",
   "mimetype": "text/x-python",
   "name": "python",
   "nbconvert_exporter": "python",
   "pygments_lexer": "ipython3",
   "version": "3.12.7"
  }
 },
 "nbformat": 4,
 "nbformat_minor": 5
}
