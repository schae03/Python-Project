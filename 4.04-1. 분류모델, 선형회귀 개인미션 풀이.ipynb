{
 "cells": [
  {
   "cell_type": "markdown",
   "id": "f0b2f42b-58a9-43e4-a992-a1f1694120d3",
   "metadata": {},
   "source": [
    "# 농어 무게 예측 모델링 및 비교 분석 개인미션 풀이"
   ]
  },
  {
   "cell_type": "code",
   "execution_count": 4,
   "id": "840d2e66-3f80-45d4-8ee7-f0ab8bd76901",
   "metadata": {},
   "outputs": [
    {
     "data": {
      "text/html": [
       "<div>\n",
       "<style scoped>\n",
       "    .dataframe tbody tr th:only-of-type {\n",
       "        vertical-align: middle;\n",
       "    }\n",
       "\n",
       "    .dataframe tbody tr th {\n",
       "        vertical-align: top;\n",
       "    }\n",
       "\n",
       "    .dataframe thead th {\n",
       "        text-align: right;\n",
       "    }\n",
       "</style>\n",
       "<table border=\"1\" class=\"dataframe\">\n",
       "  <thead>\n",
       "    <tr style=\"text-align: right;\">\n",
       "      <th></th>\n",
       "      <th>length</th>\n",
       "      <th>height</th>\n",
       "      <th>width</th>\n",
       "      <th>weight</th>\n",
       "    </tr>\n",
       "  </thead>\n",
       "  <tbody>\n",
       "    <tr>\n",
       "      <th>0</th>\n",
       "      <td>8.4</td>\n",
       "      <td>2.11</td>\n",
       "      <td>1.41</td>\n",
       "      <td>5.9</td>\n",
       "    </tr>\n",
       "    <tr>\n",
       "      <th>1</th>\n",
       "      <td>13.7</td>\n",
       "      <td>3.53</td>\n",
       "      <td>2.00</td>\n",
       "      <td>32.0</td>\n",
       "    </tr>\n",
       "    <tr>\n",
       "      <th>2</th>\n",
       "      <td>15.0</td>\n",
       "      <td>3.82</td>\n",
       "      <td>2.43</td>\n",
       "      <td>40.0</td>\n",
       "    </tr>\n",
       "    <tr>\n",
       "      <th>3</th>\n",
       "      <td>16.2</td>\n",
       "      <td>4.59</td>\n",
       "      <td>2.63</td>\n",
       "      <td>51.5</td>\n",
       "    </tr>\n",
       "    <tr>\n",
       "      <th>4</th>\n",
       "      <td>17.4</td>\n",
       "      <td>4.59</td>\n",
       "      <td>2.94</td>\n",
       "      <td>70.0</td>\n",
       "    </tr>\n",
       "  </tbody>\n",
       "</table>\n",
       "</div>"
      ],
      "text/plain": [
       "   length   height   width  weight\n",
       "0     8.4     2.11    1.41     5.9\n",
       "1    13.7     3.53    2.00    32.0\n",
       "2    15.0     3.82    2.43    40.0\n",
       "3    16.2     4.59    2.63    51.5\n",
       "4    17.4     4.59    2.94    70.0"
      ]
     },
     "execution_count": 4,
     "metadata": {},
     "output_type": "execute_result"
    }
   ],
   "source": [
    "from sklearn.linear_model import LinearRegression, ElasticNet\n",
    "import pandas as pd\n",
    "perch = pd.read_csv(\"Data/perch2.csv\")\n",
    "perch.head()"
   ]
  },
  {
   "cell_type": "code",
   "execution_count": 6,
   "id": "ae2849aa-5fb7-4869-b562-7d719247a1ab",
   "metadata": {},
   "outputs": [],
   "source": [
    "# 세개가 문제지, weight가 정답지\n",
    "X = perch.iloc[: :-1]\n",
    "Y = perch[\"weight\"]"
   ]
  },
  {
   "cell_type": "code",
   "execution_count": 7,
   "id": "9826b1d9-8915-4d66-b500-ef6db8f33ef5",
   "metadata": {},
   "outputs": [],
   "source": [
    "from sklearn.model_selection import train_test_split\n",
    "from sklearn.preprocessing import StandardScaler\n",
    "\n",
    "train_x, test_x, train_y, test_y = train_test_split(X,Y)"
   ]
  },
  {
   "cell_type": "code",
   "execution_count": 9,
   "id": "aded66d6-395a-4b92-abdd-dd2396502a9a",
   "metadata": {},
   "outputs": [],
   "source": [
    "# 표준화\n",
    "ss = StandardScaler()\n",
    "train_scaled = ss.fit_transform(train_x)\n",
    "test_scaled = ss.transform(test_x)"
   ]
  },
  {
   "cell_type": "code",
   "execution_count": 10,
   "id": "78f930b8-4e8b-4bf0-84c5-d1647c288a6e",
   "metadata": {},
   "outputs": [],
   "source": [
    "import numpy as np\n",
    "for i in np.arange(0, 1.1, 0.1):\n",
    "    #model = LinearRegression()\n",
    "    model = ElasticNet(l1_ratio=i)\n",
    "    model.fit(train_scaled, train_y)\n",
    "    model.score(test_scaled, test_y)       # 정확도가아니고 R^2값. 성능"
   ]
  },
  {
   "cell_type": "code",
   "execution_count": 11,
   "id": "169a65e6-ec43-4412-b21e-c0fd886f039f",
   "metadata": {},
   "outputs": [],
   "source": [
    "# 성능평가\n",
    "from sklearn.metrics import mean_absolute_error, mean_squared_error\n",
    "\n",
    "pred = model.predict(test_scaled)"
   ]
  },
  {
   "cell_type": "code",
   "execution_count": 12,
   "id": "16de6298-9b53-452e-ab54-88e993e0aed1",
   "metadata": {},
   "outputs": [
    {
     "data": {
      "text/plain": [
       "127.9391560042516"
      ]
     },
     "execution_count": 12,
     "metadata": {},
     "output_type": "execute_result"
    }
   ],
   "source": [
    "# MAE\n",
    "mean_absolute_error(test_y, pred)"
   ]
  },
  {
   "cell_type": "code",
   "execution_count": 13,
   "id": "6bb27f75-1f17-45fb-8bf1-855f83e2c55d",
   "metadata": {},
   "outputs": [
    {
     "data": {
      "text/plain": [
       "143.86178171499037"
      ]
     },
     "execution_count": 13,
     "metadata": {},
     "output_type": "execute_result"
    }
   ],
   "source": [
    "# RMSE\n",
    "mean_squared_error(test_y, pred) ** (1/2)"
   ]
  },
  {
   "cell_type": "markdown",
   "id": "7e995b55-cc8b-4987-86f3-022dd487a6ff",
   "metadata": {},
   "source": []
  },
  {
   "cell_type": "code",
   "execution_count": null,
   "id": "054cac1d-58c9-4a01-b606-21f0fc45d2cd",
   "metadata": {},
   "outputs": [],
   "source": []
  }
 ],
 "metadata": {
  "kernelspec": {
   "display_name": "Python 3 (ipykernel)",
   "language": "python",
   "name": "python3"
  },
  "language_info": {
   "codemirror_mode": {
    "name": "ipython",
    "version": 3
   },
   "file_extension": ".py",
   "mimetype": "text/x-python",
   "name": "python",
   "nbconvert_exporter": "python",
   "pygments_lexer": "ipython3",
   "version": "3.12.7"
  }
 },
 "nbformat": 4,
 "nbformat_minor": 5
}
