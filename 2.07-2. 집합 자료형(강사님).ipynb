{
 "cells": [
  {
   "cell_type": "markdown",
   "id": "90098fb6-4648-4c0f-8731-9359e85a6200",
   "metadata": {},
   "source": [
    "# 집합(Set) 자료형이란?\n",
    "* 중복을 허용하지 않는다. 예를 들어, {1, 1, 2}는 실제로 {1, 2}와 동일한 집합입니다.\n",
    "* 순서가 없다. 따라서 인덱싱을 통해 특정 위치의 값을 가져올 수 없습니다. (리스트/튜플과 달리 시퀀스(Sequence)가 아님)\n",
    "* 가변(Mutable) 자료형입니다. 생성 후에도 원소를 추가·삭제할 수 있습니다."
   ]
  },
  {
   "cell_type": "markdown",
   "id": "edde6ce6-7658-4a4c-9b09-276a8ddd5a9b",
   "metadata": {},
   "source": [
    "## 1. 집합 생성\n",
    "* 중괄호 {} 또는 set() 함수를 사용해 생성할 수 있습니다.\n",
    "* 비어 있는 집합은 반드시 set()으로만 생성할 수 있습니다. ({}는 빈 딕셔너리로 인식)"
   ]
  },
  {
   "cell_type": "code",
   "execution_count": 1,
   "id": "ee366537-ed7a-4c1f-8a3e-9301889cb8f4",
   "metadata": {},
   "outputs": [
    {
     "name": "stdout",
     "output_type": "stream",
     "text": [
      "{1, 2, 3}\n",
      "{1, 2, 3, 4}\n",
      "set()\n"
     ]
    }
   ],
   "source": [
    "# 중괄호를 사용한 집합 생성\n",
    "my_set = {1, 2, 3, 1, 2}\n",
    "print(my_set)\n",
    "# 결과: {1, 2, 3} (중복은 제거됨)\n",
    "\n",
    "# set() 함수를 사용한 집합 생성\n",
    "my_set2 = set([1, 2, 3, 3, 4])\n",
    "print(my_set2)\n",
    "# 결과: {1, 2, 3, 4}\n",
    "\n",
    "# 빈 집합\n",
    "empty_set = set()\n",
    "print(empty_set)  \n",
    "# 결과: set()"
   ]
  },
  {
   "cell_type": "markdown",
   "id": "d0f3a760-e4aa-4a11-9eca-01a4fd355fe1",
   "metadata": {},
   "source": [
    "## 2. 집합의 기본 연산\n",
    "### 원소 추가\n",
    "* add(x): 집합에 원소 x를 추가합니다. 이미 존재하는 값이면 무시됩니다.\n",
    "* update([x, y, z]): 여러 원소를 한꺼번에 추가할 수 있습니다."
   ]
  },
  {
   "cell_type": "code",
   "execution_count": 2,
   "id": "1bc050ee-a9da-40d9-8807-0c8e6490e2c0",
   "metadata": {},
   "outputs": [
    {
     "name": "stdout",
     "output_type": "stream",
     "text": [
      "{1, 2, 3, 4}\n",
      "{1, 2, 3, 4}\n",
      "{1, 2, 3, 4, 5, 6}\n"
     ]
    }
   ],
   "source": [
    "my_set = {1, 2, 3}\n",
    "my_set.add(4)\n",
    "print(my_set)         # {1, 2, 3, 4}\n",
    "\n",
    "my_set.add(2)\n",
    "print(my_set)         # {1, 2, 3, 4} (이미 존재하는 2는 무시됨)\n",
    "\n",
    "my_set.update([5, 6])\n",
    "print(my_set)         # {1, 2, 3, 4, 5, 6}"
   ]
  },
  {
   "cell_type": "markdown",
   "id": "f58b57c0-0589-49a0-8bde-d0ceac78b45c",
   "metadata": {},
   "source": [
    "### 원소 삭제\n",
    "* remove(x): 집합에서 x를 제거합니다. x가 없으면 KeyError 발생\n",
    "* discard(x): x를 제거하되, x가 없어도 에러가 발생하지 않음\n",
    "* pop(): 임의의 원소를 반환하면서 해당 원소를 집합에서 제거(순서가 없기 때문에 “임의의” 원소) 단, CPython 구현에서 해시 테이블의 저장 방식과 관련이 있으며, 작은 숫자나 해시 값이 낮은 요소가 먼저 제거됩니다."
   ]
  },
  {
   "cell_type": "code",
   "execution_count": 6,
   "id": "ad441283-061d-4347-844e-07e353489ab9",
   "metadata": {},
   "outputs": [
    {
     "name": "stdout",
     "output_type": "stream",
     "text": [
      "{1, 3, 4}\n",
      "{1, 3, 4}\n",
      "1\n",
      "{3, 4}\n"
     ]
    }
   ],
   "source": [
    "my_set = {1, 2, 3, 4}\n",
    "my_set.remove(2)\n",
    "print(my_set)        # {1, 3, 4}\n",
    "\n",
    "my_set.discard(10)   # 10은 없지만 에러 없이 그냥 지나감\n",
    "print(my_set)        # {1, 3, 4}\n",
    "\n",
    "removed_item = my_set.pop()\n",
    "print(removed_item)  # 예: 1 (어떤 원소가 제거될지는 예측 불가)\n",
    "print(my_set)        # {3, 4} (남은 원소)"
   ]
  },
  {
   "cell_type": "markdown",
   "id": "d557af31-11e3-4f91-9985-ff48173935ae",
   "metadata": {},
   "source": [
    "### 집합 연산 메서드\n",
    "* clear(): 모든 원소 삭제(빈 집합으로 만듦)\n",
    "* in 연산자: 집합에 특정 원소가 들어있는지 확인"
   ]
  },
  {
   "cell_type": "code",
   "execution_count": 4,
   "id": "b3c6d7a1-44ad-48f6-a81e-8fb706d20afe",
   "metadata": {},
   "outputs": [
    {
     "name": "stdout",
     "output_type": "stream",
     "text": [
      "True\n",
      "False\n",
      "set()\n"
     ]
    }
   ],
   "source": [
    "my_set = {1, 2, 3}\n",
    "print(1 in my_set)    # True\n",
    "print(4 in my_set)    # False\n",
    "\n",
    "my_set.clear()\n",
    "print(my_set)         # set()"
   ]
  },
  {
   "cell_type": "markdown",
   "id": "8d8c82b9-58f5-437e-bf86-912e8d9624d2",
   "metadata": {},
   "source": [
    "## 3. 집합의 집합 연산(Union, Intersection, Difference 등)\n",
    "집합 이론에서 사용하는 합집합(union), 교집합(intersection), 차집합(difference) 등은 파이썬에서도 손쉽게 사용할 수 있습니다.\n",
    "\n",
    "* 합집합 (Union): A | B 또는 A.union(B)"
   ]
  },
  {
   "cell_type": "code",
   "execution_count": 5,
   "id": "cb18bc4a-bdb0-41a7-8b40-eae095a3ac84",
   "metadata": {},
   "outputs": [
    {
     "name": "stdout",
     "output_type": "stream",
     "text": [
      "{1, 2, 3, 4, 5}\n",
      "{1, 2, 3, 4, 5}\n"
     ]
    }
   ],
   "source": [
    "A = {1, 2, 3}\n",
    "B = {3, 4, 5}\n",
    "print(A | B)          # {1, 2, 3, 4, 5}\n",
    "print(A.union(B))     # {1, 2, 3, 4, 5}"
   ]
  },
  {
   "cell_type": "markdown",
   "id": "02936442-22ee-4050-b559-7c530544659c",
   "metadata": {},
   "source": [
    "* 교집합 (Intersection): A & B 또는 A.intersection(B)"
   ]
  },
  {
   "cell_type": "code",
   "execution_count": 6,
   "id": "7dd4f62e-5a41-4d6d-9a17-dd1ee5b244f9",
   "metadata": {},
   "outputs": [
    {
     "name": "stdout",
     "output_type": "stream",
     "text": [
      "{3}\n",
      "{3}\n"
     ]
    }
   ],
   "source": [
    "A = {1, 2, 3}\n",
    "B = {3, 4, 5}\n",
    "print(A & B)              # {3}\n",
    "print(A.intersection(B))  # {3}"
   ]
  },
  {
   "cell_type": "markdown",
   "id": "3ffca9c8-3247-4bb6-8eed-14b06ad3858e",
   "metadata": {},
   "source": [
    "* 차집합 (Difference): A - B 또는 A.difference(B)"
   ]
  },
  {
   "cell_type": "code",
   "execution_count": 7,
   "id": "640495e4-1437-4434-ace6-9a6bd3c526c4",
   "metadata": {},
   "outputs": [
    {
     "name": "stdout",
     "output_type": "stream",
     "text": [
      "{1}\n",
      "{1}\n"
     ]
    }
   ],
   "source": [
    "A = {1, 2, 3}\n",
    "B = {2, 3, 4}\n",
    "print(A - B)              # {1}  (A에는 있지만 B에는 없는 원소)\n",
    "print(A.difference(B))    # {1}"
   ]
  },
  {
   "cell_type": "markdown",
   "id": "b3568cd7-5d83-48d4-a86d-fa0074701708",
   "metadata": {},
   "source": [
    "* 대칭차집합 (Symmetric Difference): A ^ B 또는 A.symmetric_difference(B)\n",
    "* A와 B 중 어느 한 쪽에만 속하는 원소"
   ]
  },
  {
   "cell_type": "code",
   "execution_count": 8,
   "id": "6b74c574-c9fa-46c4-a808-176971d9f3fc",
   "metadata": {},
   "outputs": [
    {
     "name": "stdout",
     "output_type": "stream",
     "text": [
      "{1, 2, 4, 5}\n"
     ]
    }
   ],
   "source": [
    "A = {1, 2, 3}\n",
    "B = {3, 4, 5}\n",
    "print(A ^ B)  # {1, 2, 4, 5}"
   ]
  },
  {
   "cell_type": "markdown",
   "id": "c64c8a1d-95aa-4654-8ef2-510fad241e89",
   "metadata": {},
   "source": [
    "### 부분집합, 상위집합\n",
    "* A.issubset(B): A가 B의 부분집합인지 여부\n",
    "* A.issuperset(B): A가 B의 상위집합인지 여부\n",
    "* A.isdisjoint(B): A와 B가 교집합이 없는지(서로소) 여부"
   ]
  },
  {
   "cell_type": "code",
   "execution_count": 9,
   "id": "d916c5c5-1b41-45d6-a931-a247d0f34335",
   "metadata": {},
   "outputs": [
    {
     "name": "stdout",
     "output_type": "stream",
     "text": [
      "True\n",
      "True\n",
      "True\n"
     ]
    }
   ],
   "source": [
    "A = {1, 2}\n",
    "B = {1, 2, 3}\n",
    "print(A.issubset(B))   # True (A는 B의 부분집합)\n",
    "print(B.issuperset(A)) # True (B는 A의 상위집합)\n",
    "\n",
    "C = {3, 4}\n",
    "print(A.isdisjoint(C)) # True (공통 원소가 없음)"
   ]
  },
  {
   "cell_type": "markdown",
   "id": "15dcbff9-4aac-46c3-80e9-f05d227a92c8",
   "metadata": {},
   "source": [
    "## 연습문제\n",
    "1. 다음 숫자들을 집합으로 생성하세요.\n",
    "* 숫자: 1, 2, 3, 4, 5"
   ]
  },
  {
   "cell_type": "code",
   "execution_count": 1,
   "id": "f2ecb634-4375-44e6-93e1-caeb9b4ca0db",
   "metadata": {},
   "outputs": [
    {
     "data": {
      "text/plain": [
       "{1, 2, 3, 4, 5}"
      ]
     },
     "execution_count": 1,
     "metadata": {},
     "output_type": "execute_result"
    }
   ],
   "source": [
    "A = {1,2,3,4,5}\n",
    "A"
   ]
  },
  {
   "cell_type": "code",
   "execution_count": 17,
   "id": "62b14e19-79c7-428c-9f59-5c17e672aac0",
   "metadata": {},
   "outputs": [
    {
     "data": {
      "text/plain": [
       "{' ', '!', 'f', 'h', 'i', 'n', 'o', 'p', 's', 't', 'u', 'y'}"
      ]
     },
     "execution_count": 17,
     "metadata": {},
     "output_type": "execute_result"
    }
   ],
   "source": [
    "set(\"python is too fun!\")    # 중복된 글자 없어짐 "
   ]
  },
  {
   "cell_type": "markdown",
   "id": "a9812538-0cdc-4414-9db7-ca76d06fb77f",
   "metadata": {},
   "source": [
    "2. 리스트 [1, 2, 3, 2, 4, 1, 5]가 주어졌을 때, 이 리스트를 집합으로 변환하여 중복된 값을 제거한 결과를 출력하는 코드를 작성하세요."
   ]
  },
  {
   "cell_type": "code",
   "execution_count": 16,
   "id": "62530d50-1860-460e-a014-d1baba2fe658",
   "metadata": {},
   "outputs": [
    {
     "data": {
      "text/plain": [
       "{1, 2, 3, 4, 5}"
      ]
     },
     "execution_count": 16,
     "metadata": {},
     "output_type": "execute_result"
    }
   ],
   "source": [
    "a =  [1, 2, 3, 2, 4, 1, 5]\n",
    "set(a)          # 출력 결과가 {1,2,3,4,5}라서 순서 있는것처럼 보일수도 있지만, 순서없음.\n",
    "                # 따라서 list로 바꿔야  인덱스로 접근 가능."
   ]
  },
  {
   "cell_type": "markdown",
   "id": "a6c2b55f-93a2-4129-bc16-59f94438d9b6",
   "metadata": {},
   "source": [
    "3. 다음 집합 s = {1, 2, 3}에 숫자 4를 추가하는 코드를 작성하세요."
   ]
  },
  {
   "cell_type": "code",
   "execution_count": 5,
   "id": "d44be8b1-01ad-4ea2-988c-4912e816641c",
   "metadata": {},
   "outputs": [
    {
     "data": {
      "text/plain": [
       "{1, 2, 3, 4}"
      ]
     },
     "execution_count": 5,
     "metadata": {},
     "output_type": "execute_result"
    }
   ],
   "source": [
    "s = {1, 2, 3}\n",
    "s.add(4)\n",
    "s"
   ]
  },
  {
   "cell_type": "markdown",
   "id": "9640cb80-f8ce-4288-a278-fba32180ea28",
   "metadata": {},
   "source": [
    "4. 집합 s = {1, 2, 3, 4}에서 숫자 3을 삭제하는 코드를 작성하세요."
   ]
  },
  {
   "cell_type": "code",
   "execution_count": 7,
   "id": "a8b88dd5-1c8b-4b74-94c6-252fb13c4f96",
   "metadata": {},
   "outputs": [
    {
     "data": {
      "text/plain": [
       "{1, 2, 4}"
      ]
     },
     "execution_count": 7,
     "metadata": {},
     "output_type": "execute_result"
    }
   ],
   "source": [
    "s = {1, 2, 3, 4}\n",
    "s.remove(3)\n",
    "s"
   ]
  },
  {
   "cell_type": "markdown",
   "id": "76d9a25c-f884-427b-8727-5005e9a21c26",
   "metadata": {},
   "source": [
    "5. 두 집합 set_a = {1, 2, 3}와 set_b = {3, 4, 5}가 주어졌을 때, 두 집합의 합집합을 구하고 출력하는 코드를 작성하세요."
   ]
  },
  {
   "cell_type": "code",
   "execution_count": 18,
   "id": "6b733d20-f1a0-4c31-9bc8-8da8f58715dc",
   "metadata": {},
   "outputs": [
    {
     "data": {
      "text/plain": [
       "{1, 2, 3, 4, 5}"
      ]
     },
     "execution_count": 18,
     "metadata": {},
     "output_type": "execute_result"
    }
   ],
   "source": [
    "set_a = {1, 2, 3}\n",
    "set_b = {3, 4, 5}\n",
    "\n",
    "set_a | set_b"
   ]
  },
  {
   "cell_type": "markdown",
   "id": "6519e2f2-390d-4cd0-ae83-a73140be0dee",
   "metadata": {},
   "source": [
    "6. 같은 두 집합 set_a = {1, 2, 3}와 set_b = {3, 4, 5}에서 두 집합의 교집합을 구하고 출력하는 코드를 작성하세요."
   ]
  },
  {
   "cell_type": "code",
   "execution_count": 19,
   "id": "fce3c2d7-f3b1-4377-80e8-1f86d111d851",
   "metadata": {},
   "outputs": [
    {
     "data": {
      "text/plain": [
       "{3}"
      ]
     },
     "execution_count": 19,
     "metadata": {},
     "output_type": "execute_result"
    }
   ],
   "source": [
    "set_a = {1, 2, 3}\n",
    "set_b = {3, 4, 5}\n",
    "\n",
    "set_a & set_b"
   ]
  },
  {
   "cell_type": "markdown",
   "id": "7106fb41-2a49-4a1d-8dfd-555f5a28c27b",
   "metadata": {},
   "source": [
    "7. 두 집합 set_a = {1, 2, 3}와 set_b = {3, 4, 5}에서 차집합(set_a에서 set_b의 요소 제거)을 구하고 출력하는 코드를 작성하세요."
   ]
  },
  {
   "cell_type": "code",
   "execution_count": 11,
   "id": "76eaadec-cb5e-4774-98f1-cbd5bd5ddedc",
   "metadata": {},
   "outputs": [
    {
     "data": {
      "text/plain": [
       "{1, 2}"
      ]
     },
     "execution_count": 11,
     "metadata": {},
     "output_type": "execute_result"
    }
   ],
   "source": [
    "set_a = {1, 2, 3}\n",
    "set_b = {3, 4, 5}\n",
    "\n",
    "set_a - set_b"
   ]
  },
  {
   "cell_type": "markdown",
   "id": "9931cb39-c6e1-4aec-b81e-554bd002813a",
   "metadata": {},
   "source": [
    "8. 두 집합 set_a = {1, 2, 3}와 set_b = {3, 4, 5}에서 대칭차집합(두 집합 중 한쪽에만 있는 요소)을 구하고 출력하는 코드를 작성하세요."
   ]
  },
  {
   "cell_type": "code",
   "execution_count": 12,
   "id": "25b1bddb-3f5d-40c5-a352-c9dba25daba4",
   "metadata": {},
   "outputs": [
    {
     "data": {
      "text/plain": [
       "{1, 2, 4, 5}"
      ]
     },
     "execution_count": 12,
     "metadata": {},
     "output_type": "execute_result"
    }
   ],
   "source": [
    "set_a = {1, 2, 3}\n",
    "set_b = {3, 4, 5}\n",
    "\n",
    "set_a ^ set_b"
   ]
  },
  {
   "cell_type": "markdown",
   "id": "0d9ce308-ff05-44d4-a672-aa9d71bbf600",
   "metadata": {},
   "source": [
    "9. 집합 s = {1, 2, 3, 4, 5}의 요소 개수를 구하는 코드를 작성하세요."
   ]
  },
  {
   "cell_type": "code",
   "execution_count": 13,
   "id": "76584f4a-1820-4787-bd84-10881ea67416",
   "metadata": {},
   "outputs": [
    {
     "data": {
      "text/plain": [
       "5"
      ]
     },
     "execution_count": 13,
     "metadata": {},
     "output_type": "execute_result"
    }
   ],
   "source": [
    "s = {1, 2, 3, 4, 5}\n",
    "len(s)"
   ]
  },
  {
   "cell_type": "markdown",
   "id": "07cba82d-42dd-4b14-97ca-ef3bd83219fe",
   "metadata": {},
   "source": [
    "10. 집합 s = {1, 2, 3}에 대해 다음 순서대로 작업하는 코드를 작성하세요.\n",
    "* s에 숫자 4를 추가하세요.\n",
    "* s에서 숫자 2를 삭제하세요."
   ]
  },
  {
   "cell_type": "code",
   "execution_count": 14,
   "id": "3f1ae41a-53aa-4d11-a05e-9efd8d7fe487",
   "metadata": {},
   "outputs": [
    {
     "data": {
      "text/plain": [
       "{1, 3, 4}"
      ]
     },
     "execution_count": 14,
     "metadata": {},
     "output_type": "execute_result"
    }
   ],
   "source": [
    "s = {1, 2, 3}\n",
    "s.add(4)\n",
    "s.remove(2)\n",
    "s"
   ]
  },
  {
   "cell_type": "code",
   "execution_count": null,
   "id": "300d095d-6c82-4d9c-883e-4ecae977448c",
   "metadata": {},
   "outputs": [],
   "source": []
  }
 ],
 "metadata": {
  "kernelspec": {
   "display_name": "Python 3 (ipykernel)",
   "language": "python",
   "name": "python3"
  },
  "language_info": {
   "codemirror_mode": {
    "name": "ipython",
    "version": 3
   },
   "file_extension": ".py",
   "mimetype": "text/x-python",
   "name": "python",
   "nbconvert_exporter": "python",
   "pygments_lexer": "ipython3",
   "version": "3.12.7"
  }
 },
 "nbformat": 4,
 "nbformat_minor": 5
}
