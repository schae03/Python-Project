{
 "cells": [
  {
   "cell_type": "markdown",
   "id": "ebf940c1-ef70-40cc-a7c1-f6a7bc696222",
   "metadata": {},
   "source": [
    "# 포아송분포\n",
    "포아송분포(Poisson Distribution)는 단위 시간이나 단위 공간 내에서 어떤 사건이 발생하는 횟수를 모델링할 때 사용됩니다. 여기서 사건은 서로 독립적으로 발생하며, 단위 시간/공간 내에 평균적으로 일정한 횟수 λ (람다)로 발생한다고 가정합니다."
   ]
  },
  {
   "cell_type": "code",
   "execution_count": 4,
   "id": "c28b2f57-9e1b-4ff8-b571-695830b2457b",
   "metadata": {},
   "outputs": [
    {
     "data": {
      "text/plain": [
       "0.049787068367863944"
      ]
     },
     "execution_count": 4,
     "metadata": {},
     "output_type": "execute_result"
    }
   ],
   "source": [
    "import numpy as np\n",
    "import matplotlib.pyplot as plt\n",
    "from scipy.stats import poisson\n",
    "import koreanize_matplotlib\n",
    "\n",
    "np.exp(-3)"
   ]
  },
  {
   "cell_type": "code",
   "execution_count": 3,
   "id": "903e252a-c73a-4987-8d8b-930ed4230114",
   "metadata": {},
   "outputs": [
    {
     "data": {
      "text/plain": [
       "0.049787068367863944"
      ]
     },
     "execution_count": 3,
     "metadata": {},
     "output_type": "execute_result"
    }
   ],
   "source": [
    "poisson.pmf(0,3)"
   ]
  },
  {
   "cell_type": "code",
   "execution_count": 5,
   "id": "89555c02-3c93-4aa0-a53e-c7f323cd233b",
   "metadata": {},
   "outputs": [
    {
     "name": "stdout",
     "output_type": "stream",
     "text": [
      "평균 3번 사고가 나는 곳에 0번 사고가 날 확률 : 4.98%\n",
      "평균 3번 사고가 나는 곳에 1번 사고가 날 확률 : 14.94%\n",
      "평균 3번 사고가 나는 곳에 2번 사고가 날 확률 : 22.40%\n",
      "평균 3번 사고가 나는 곳에 3번 사고가 날 확률 : 22.40%\n",
      "평균 3번 사고가 나는 곳에 4번 사고가 날 확률 : 16.80%\n",
      "평균 3번 사고가 나는 곳에 5번 사고가 날 확률 : 10.08%\n",
      "평균 3번 사고가 나는 곳에 6번 사고가 날 확률 : 5.04%\n",
      "평균 3번 사고가 나는 곳에 7번 사고가 날 확률 : 2.16%\n",
      "평균 3번 사고가 나는 곳에 8번 사고가 날 확률 : 0.81%\n",
      "평균 3번 사고가 나는 곳에 9번 사고가 날 확률 : 0.27%\n",
      "평균 3번 사고가 나는 곳에 10번 사고가 날 확률 : 0.08%\n",
      "평균 3번 사고가 나는 곳에 11번 사고가 날 확률 : 0.02%\n",
      "평균 3번 사고가 나는 곳에 12번 사고가 날 확률 : 0.01%\n",
      "평균 3번 사고가 나는 곳에 13번 사고가 날 확률 : 0.00%\n",
      "평균 3번 사고가 나는 곳에 14번 사고가 날 확률 : 0.00%\n"
     ]
    }
   ],
   "source": [
    "ks = np.arange(0,15)\n",
    "ps = poisson.pmf(ks, 3)\n",
    "\n",
    "for k, p in zip(ks, ps):\n",
    "    print(f\"평균 3번 사고가 나는 곳에 {k}번 사고가 날 확률 : {p*100:.2f}%\")"
   ]
  },
  {
   "cell_type": "code",
   "execution_count": 7,
   "id": "94527fe6-765b-45db-9341-d52d6f18cac9",
   "metadata": {},
   "outputs": [
    {
     "data": {
      "image/png": "[encoded data removed]",
      "text/plain": [
       "<Figure size 640x480 with 1 Axes>"
      ]
     },
     "metadata": {},
     "output_type": "display_data"
    }
   ],
   "source": [
    "plt.stem(ks, ps)\n",
    "plt.grid()\n",
    "plt.show()\n",
    "\n",
    "# 왼쪽으로 치우친것처럼 표현됨 (포아송분포의 형태)"
   ]
  },
  {
   "cell_type": "code",
   "execution_count": 9,
   "id": "78626663-cb82-4ad7-ac31-7698d6d8aed2",
   "metadata": {},
   "outputs": [
    {
     "name": "stdout",
     "output_type": "stream",
     "text": [
      "평균 3번 사고가 발생하는 곳에 0번 이하로 사고가 날 확률 : 4.98%\n",
      "평균 3번 사고가 발생하는 곳에 1번 이하로 사고가 날 확률 : 19.91%\n",
      "평균 3번 사고가 발생하는 곳에 2번 이하로 사고가 날 확률 : 42.32%\n",
      "평균 3번 사고가 발생하는 곳에 3번 이하로 사고가 날 확률 : 64.72%\n",
      "평균 3번 사고가 발생하는 곳에 4번 이하로 사고가 날 확률 : 81.53%\n",
      "평균 3번 사고가 발생하는 곳에 5번 이하로 사고가 날 확률 : 91.61%\n",
      "평균 3번 사고가 발생하는 곳에 6번 이하로 사고가 날 확률 : 96.65%\n",
      "평균 3번 사고가 발생하는 곳에 7번 이하로 사고가 날 확률 : 98.81%\n",
      "평균 3번 사고가 발생하는 곳에 8번 이하로 사고가 날 확률 : 99.62%\n",
      "평균 3번 사고가 발생하는 곳에 9번 이하로 사고가 날 확률 : 99.89%\n",
      "평균 3번 사고가 발생하는 곳에 10번 이하로 사고가 날 확률 : 99.97%\n",
      "평균 3번 사고가 발생하는 곳에 11번 이하로 사고가 날 확률 : 99.99%\n",
      "평균 3번 사고가 발생하는 곳에 12번 이하로 사고가 날 확률 : 100.00%\n",
      "평균 3번 사고가 발생하는 곳에 13번 이하로 사고가 날 확률 : 100.00%\n",
      "평균 3번 사고가 발생하는 곳에 14번 이하로 사고가 날 확률 : 100.00%\n"
     ]
    }
   ],
   "source": [
    "# 누적확률분포  -  poisson.cdf\n",
    "ps = poisson.cdf(ks, 3)\n",
    "\n",
    "for k,p in zip(ks, ps):\n",
    "    print(f\"평균 3번 사고가 발생하는 곳에 {k}번 이하로 사고가 날 확률 : {p*100:.2f}%\")"
   ]
  },
  {
   "cell_type": "code",
   "execution_count": 13,
   "id": "fa362ac7-1897-40b4-bdb1-4f54bd061f99",
   "metadata": {},
   "outputs": [
    {
     "data": {
      "image/png": "[encoded data removed]",
      "text/plain": [
       "<Figure size 640x480 with 1 Axes>"
      ]
     },
     "metadata": {},
     "output_type": "display_data"
    }
   ],
   "source": [
    "# 시뮬레이션\n",
    "num = 10000\n",
    "\n",
    "samples = np.random.poisson(3, num)\n",
    "\n",
    "plt.hist(samples, bins = \"auto\")\n",
    "plt.grid()\n",
    "plt.show()"
   ]
  },
  {
   "cell_type": "code",
   "execution_count": null,
   "id": "852a6305-32e6-4a37-b6e8-09c7896a1659",
   "metadata": {},
   "outputs": [],
   "source": []
  },
  {
   "cell_type": "markdown",
   "id": "5eb5758f-f24c-4911-9c93-8b691f25af84",
   "metadata": {},
   "source": [
    "## 연습문제\n",
    "1. 어떤 현장에서 1시간 동안 평균적으로 λ=4 건의 사건이 발생한다고 한다. 이때 1시간 동안 정확히 2건의 사건이 발생할 확률 P(X=2)를 구하라."
   ]
  },
  {
   "cell_type": "code",
   "execution_count": 15,
   "id": "2b2d1c76-33d6-4753-b716-6b8abaf3f4bb",
   "metadata": {},
   "outputs": [
    {
     "data": {
      "text/plain": [
       "0.14652511110987343"
      ]
     },
     "execution_count": 15,
     "metadata": {},
     "output_type": "execute_result"
    }
   ],
   "source": [
    "poisson.pmf(2, 4)"
   ]
  },
  {
   "cell_type": "markdown",
   "id": "81f85ffe-956d-4374-9392-532f7e7572de",
   "metadata": {},
   "source": [
    "2. 어떤 공장에서 분당 평균 3개의 결함이 발생한다고 한다.\n",
    "만약 2분 동안 결함이 발생한다고 할 때, 결함이 4개 이하로 발생할 누적 확률 P(X≤4)를 구하라."
   ]
  },
  {
   "cell_type": "code",
   "execution_count": 16,
   "id": "38ca65c2-ef60-4994-81a4-cf9526742dad",
   "metadata": {},
   "outputs": [
    {
     "data": {
      "text/plain": [
       "0.2850565003166312"
      ]
     },
     "execution_count": 16,
     "metadata": {},
     "output_type": "execute_result"
    }
   ],
   "source": [
    "poisson.cdf(4, 6)"
   ]
  },
  {
   "cell_type": "markdown",
   "id": "aa6f6bf2-f994-4812-9735-74d87a360644",
   "metadata": {},
   "source": [
    "3. 한 카페에는 하루에 평균 λ=10명의 고객이 방문한다고 한다.\n",
    "하루 동안 15명 이상의 고객이 방문할 확률 P(X≥15)를 구하라."
   ]
  },
  {
   "cell_type": "code",
   "execution_count": 17,
   "id": "19996468-bfc9-4357-b6d0-aa0183422729",
   "metadata": {},
   "outputs": [
    {
     "data": {
      "text/plain": [
       "0.0834584729346628"
      ]
     },
     "execution_count": 17,
     "metadata": {},
     "output_type": "execute_result"
    }
   ],
   "source": [
    "1 - poisson.cdf(14, 10)\n",
    "\n",
    "# 15명 이상 = 1 - (14명 이하)"
   ]
  },
  {
   "cell_type": "markdown",
   "id": "0a53ea86-c641-4c8d-88b6-bc5a8d918f47",
   "metadata": {},
   "source": [
    "4. 어떤 버스 정류장에서 버스는 평균 2분에 한 대 도착한다.\n",
    "이때 5분 동안 도착하는 버스의 수가 2대 이하일 확률 P(X≤2)를 구하라."
   ]
  },
  {
   "cell_type": "code",
   "execution_count": 20,
   "id": "902ae5d9-09d1-4dfa-8e08-85f45e552e62",
   "metadata": {},
   "outputs": [
    {
     "data": {
      "text/plain": [
       "0.5438131158833297"
      ]
     },
     "execution_count": 20,
     "metadata": {},
     "output_type": "execute_result"
    }
   ],
   "source": [
    "# 2분에 1대 = 5분에 2.5대\n",
    "poisson.cdf(2, 2.5)"
   ]
  },
  {
   "cell_type": "markdown",
   "id": "b6793634-f418-4f43-b116-1a6459efde22",
   "metadata": {},
   "source": [
    "5. 평균 λ=4인 포아송분포를 따르는 난수를 파이썬으로 10,000개 생성하고,\n",
    "이를 히스토그램으로 시각화한 후, 생성된 난수의 표본 평균과 표본 분산을 구하여 이론적 값과 비교해 보라."
   ]
  },
  {
   "cell_type": "code",
   "execution_count": 25,
   "id": "88446dfa-4298-4a39-8ee3-da0e2d4cf02a",
   "metadata": {},
   "outputs": [
    {
     "data": {
      "image/png": "[encoded data removed]",
      "text/plain": [
       "<Figure size 640x480 with 1 Axes>"
      ]
     },
     "metadata": {},
     "output_type": "display_data"
    }
   ],
   "source": [
    "num = 10000\n",
    "samples = np.random.poisson(4, num)\n",
    "\n",
    "plt.hist(samples, bins = \"auto\")\n",
    "plt.grid()\n",
    "plt.show()"
   ]
  },
  {
   "cell_type": "code",
   "execution_count": 24,
   "id": "a4c91a29-d193-4400-b0e1-143529e2f613",
   "metadata": {},
   "outputs": [
    {
     "data": {
      "text/plain": [
       "(3.9903, 3.97600591)"
      ]
     },
     "execution_count": 24,
     "metadata": {},
     "output_type": "execute_result"
    }
   ],
   "source": [
    "samples.mean(), samples.var()"
   ]
  },
  {
   "cell_type": "code",
   "execution_count": null,
   "id": "385876db-3b09-490e-a5c9-710fcbdbcd78",
   "metadata": {},
   "outputs": [],
   "source": []
  }
 ],
 "metadata": {
  "kernelspec": {
   "display_name": "Python 3 (ipykernel)",
   "language": "python",
   "name": "python3"
  },
  "language_info": {
   "codemirror_mode": {
    "name": "ipython",
    "version": 3
   },
   "file_extension": ".py",
   "mimetype": "text/x-python",
   "name": "python",
   "nbconvert_exporter": "python",
   "pygments_lexer": "ipython3",
   "version": "3.12.7"
  }
 },
 "nbformat": 4,
 "nbformat_minor": 5
}
