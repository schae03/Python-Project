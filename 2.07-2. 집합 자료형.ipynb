{
 "cells": [
  {
   "cell_type": "code",
   "execution_count": 2,
   "id": "70c4461a-b97e-42ee-a034-238c74770e55",
   "metadata": {},
   "outputs": [],
   "source": [
    "# 집합 자료형   ->   중복된 데이터를 없애고 고유한 데이터만 봐야할 때\n",
    "# 1. 순서가 없다.\n",
    "# 2. 중복을 허용하지 않는다.\n",
    "\n",
    "A = {1,2,3,4,5,6}\n",
    "B = {4,5,6,7,8,9}"
   ]
  },
  {
   "cell_type": "code",
   "execution_count": null,
   "id": "4ec105a7-e56c-4d7e-aa20-684ea73ce31b",
   "metadata": {},
   "outputs": [],
   "source": [
    "C = {}            # 집합과 딕셔너리 모두 중괄호.       비어있는 경우 기본값 딕셔너리 \n",
    "D = set()"
   ]
  },
  {
   "cell_type": "code",
   "execution_count": 3,
   "id": "b8e35650-9435-4177-b592-6f08a2b5639f",
   "metadata": {},
   "outputs": [
    {
     "data": {
      "text/plain": [
       "{4, 5, 6}"
      ]
     },
     "execution_count": 3,
     "metadata": {},
     "output_type": "execute_result"
    }
   ],
   "source": [
    "# 교집합\n",
    "A & B"
   ]
  },
  {
   "cell_type": "code",
   "execution_count": 4,
   "id": "0f4e53ba-31ad-4ef4-9b0a-ad75ba21c486",
   "metadata": {},
   "outputs": [
    {
     "data": {
      "text/plain": [
       "{1, 2, 3, 4, 5, 6, 7, 8, 9}"
      ]
     },
     "execution_count": 4,
     "metadata": {},
     "output_type": "execute_result"
    }
   ],
   "source": [
    "# 합집합 \n",
    "A | B                   #헷갈리지말기!! 합집합이 |, 교집합이 &"
   ]
  },
  {
   "cell_type": "code",
   "execution_count": 5,
   "id": "8cbf0721-b548-41e3-a536-743ee4db06ff",
   "metadata": {},
   "outputs": [
    {
     "data": {
      "text/plain": [
       "{1, 2, 3, 7, 8, 9}"
      ]
     },
     "execution_count": 5,
     "metadata": {},
     "output_type": "execute_result"
    }
   ],
   "source": [
    "# 대칭차집합 : 합집합에서 교집합 뺀 것   (두 차집합의 합)\n",
    "A ^ B "
   ]
  },
  {
   "cell_type": "code",
   "execution_count": 6,
   "id": "27fdd582-a9ca-4375-aaa8-be1160379ad4",
   "metadata": {},
   "outputs": [
    {
     "data": {
      "text/plain": [
       "{1, 2, 3, 4, 5, 6, 7}"
      ]
     },
     "execution_count": 6,
     "metadata": {},
     "output_type": "execute_result"
    }
   ],
   "source": [
    "A.add(7)                  # add : 값 추가할 때.    집합은 중복허용x. 이미있는 값 추가해도 더 생기지 않음\n",
    "A"
   ]
  },
  {
   "cell_type": "code",
   "execution_count": 7,
   "id": "df82a6e7-bf01-4fe5-bdb2-052d7b5ab621",
   "metadata": {},
   "outputs": [
    {
     "data": {
      "text/plain": [
       "{1, 2, 3, 4, 5, 6, 7, 8, 9, 10}"
      ]
     },
     "execution_count": 7,
     "metadata": {},
     "output_type": "execute_result"
    }
   ],
   "source": [
    "A.update([7,8,9,10])      # update : 한번에 여러개의 값을 추가할 때.\n",
    "A"
   ]
  },
  {
   "cell_type": "code",
   "execution_count": 8,
   "id": "83af9935-7662-4f27-8a7c-92c4b3f9ab32",
   "metadata": {},
   "outputs": [
    {
     "data": {
      "text/plain": [
       "{1, 2, 3, 4, 5, 6, 7, 8, 9}"
      ]
     },
     "execution_count": 8,
     "metadata": {},
     "output_type": "execute_result"
    }
   ],
   "source": [
    "# 값 제거\n",
    "A.remove(10)\n",
    "A"
   ]
  },
  {
   "cell_type": "code",
   "execution_count": 10,
   "id": "9ec9bae6-992f-4829-8df3-bddddfe4cc46",
   "metadata": {},
   "outputs": [
    {
     "data": {
      "text/plain": [
       "True"
      ]
     },
     "execution_count": 10,
     "metadata": {},
     "output_type": "execute_result"
    }
   ],
   "source": [
    "A = {1,2,3}\n",
    "B = {1,2,3,4}\n",
    "\n",
    "A <= B               # A는 B의 부분집합"
   ]
  },
  {
   "cell_type": "code",
   "execution_count": 12,
   "id": "43890df8-2ece-4763-b7a4-2e43781d9814",
   "metadata": {},
   "outputs": [
    {
     "data": {
      "text/plain": [
       "True"
      ]
     },
     "execution_count": 12,
     "metadata": {},
     "output_type": "execute_result"
    }
   ],
   "source": [
    "# 공통된 원소가 없다  = 서소소\n",
    "A = {1,2}\n",
    "B = {3,4}\n",
    "\n",
    "A.isdisjoint(B)     #  isdisjoint : 서로 공통된 원소가 없으면 True"
   ]
  },
  {
   "cell_type": "code",
   "execution_count": null,
   "id": "0cbf7985-3c03-4528-9aca-8cf7e2ee0525",
   "metadata": {},
   "outputs": [],
   "source": []
  },
  {
   "cell_type": "code",
   "execution_count": null,
   "id": "87ed0db1-46e6-4718-8441-79b61e3d09a4",
   "metadata": {},
   "outputs": [],
   "source": []
  },
  {
   "cell_type": "code",
   "execution_count": null,
   "id": "31c6dbbc-4426-4d34-8b72-c90250bdcc05",
   "metadata": {},
   "outputs": [],
   "source": []
  }
 ],
 "metadata": {
  "kernelspec": {
   "display_name": "Python 3 (ipykernel)",
   "language": "python",
   "name": "python3"
  },
  "language_info": {
   "codemirror_mode": {
    "name": "ipython",
    "version": 3
   },
   "file_extension": ".py",
   "mimetype": "text/x-python",
   "name": "python",
   "nbconvert_exporter": "python",
   "pygments_lexer": "ipython3",
   "version": "3.12.7"
  }
 },
 "nbformat": 4,
 "nbformat_minor": 5
}
