{
 "cells": [
  {
   "cell_type": "code",
   "execution_count": 1,
   "id": "9f5f506e-a68c-4583-a866-84de2a78cc34",
   "metadata": {},
   "outputs": [],
   "source": [
    "# 함수 만들기\n",
    "# def 함수이름(재료1, 재료2, ...):\n",
    "#     return 아웃풋\n",
    "\n",
    "def add(A, B):\n",
    "    return A + B"
   ]
  },
  {
   "cell_type": "code",
   "execution_count": 2,
   "id": "45c249fb-0ada-4aa3-bd33-d12869245e17",
   "metadata": {},
   "outputs": [
    {
     "data": {
      "text/plain": [
       "9"
      ]
     },
     "execution_count": 2,
     "metadata": {},
     "output_type": "execute_result"
    }
   ],
   "source": [
    "z = add(2, 7)\n",
    "z"
   ]
  },
  {
   "cell_type": "code",
   "execution_count": 8,
   "id": "bc2e41ee-37e0-40c2-9c55-86b6ca68f54a",
   "metadata": {},
   "outputs": [
    {
     "data": {
      "text/plain": [
       "5.0"
      ]
     },
     "execution_count": 8,
     "metadata": {},
     "output_type": "execute_result"
    }
   ],
   "source": [
    "# 퀴즈: 직각 삼각형의 밑변의 길이와 높이의 길이를 넣어주면 빗변의 길이를 반환하는 함수\n",
    "\n",
    "import math\n",
    "def f(A,B):\n",
    "    return math.sqrt(A**2 + B**2)\n",
    "   #return (A**2 + B**2) ** (1/2)    루트 대신 (1/2)제곱해도 동일 \n",
    "z = f(3,4)\n",
    "z"
   ]
  },
  {
   "cell_type": "code",
   "execution_count": 9,
   "id": "1d2aa29f-2351-4535-8583-56e4e98497b8",
   "metadata": {},
   "outputs": [
    {
     "data": {
      "text/plain": [
       "'hello'"
      ]
     },
     "execution_count": 9,
     "metadata": {},
     "output_type": "execute_result"
    }
   ],
   "source": [
    "def say():\n",
    "    return \"hello\"\n",
    "z = say()       # input값이 없어도됨\n",
    "z"
   ]
  },
  {
   "cell_type": "code",
   "execution_count": 10,
   "id": "070c153e-a7a6-4a6b-830a-74a03a62da95",
   "metadata": {},
   "outputs": [],
   "source": [
    "def add(A, B):\n",
    "    print(A + B)"
   ]
  },
  {
   "cell_type": "code",
   "execution_count": 13,
   "id": "2ca2fdff-71b5-4f64-8dfa-bea385abcce7",
   "metadata": {},
   "outputs": [
    {
     "name": "stdout",
     "output_type": "stream",
     "text": [
      "10\n"
     ]
    }
   ],
   "source": [
    "z = add(3, 7)     # 10 출력되나,  숫자 10이 변수 z에 저장된 건 아님.\n",
    "                  # add 함수는 형체X. z에 아무것도 저장하지X"
   ]
  },
  {
   "cell_type": "code",
   "execution_count": 12,
   "id": "9c805724-4ac5-4481-be42-3b64b86ea6e0",
   "metadata": {},
   "outputs": [
    {
     "name": "stdout",
     "output_type": "stream",
     "text": [
      "None\n"
     ]
    }
   ],
   "source": [
    "print(z)"
   ]
  },
  {
   "cell_type": "code",
   "execution_count": 15,
   "id": "b80cad86-bbbf-4c96-b41a-3a3f1a01b038",
   "metadata": {},
   "outputs": [],
   "source": [
    "def func(A, B):\n",
    "    return A+B, A-B, A*B, A/B    #자동으로 튜플로 묶임"
   ]
  },
  {
   "cell_type": "code",
   "execution_count": 18,
   "id": "c357ba40-0e9b-46c3-bf5d-6cab26c943e0",
   "metadata": {},
   "outputs": [],
   "source": [
    "a,b,c,d = func(2, 5)   # 변수 할당도 가능\n",
    "\n",
    "a,b,c,d = func(B=5, A=2)  # 그냥 넣으면 A,B 순서대로 들어가나, 변수 지정해서 순서 바꿀 수 있음"
   ]
  },
  {
   "cell_type": "code",
   "execution_count": 20,
   "id": "4d94d521-e4b9-4d74-b5db-96b0714226ab",
   "metadata": {},
   "outputs": [
    {
     "name": "stdout",
     "output_type": "stream",
     "text": [
      "나의 이름은 홍길동이고, 40살입니다.\n",
      "남자입니다.\n",
      "나의 이름은 장원영이고, 20살입니다.\n",
      "여자입니다.\n"
     ]
    }
   ],
   "source": [
    "def intro(name, age, sex = 5):       # 성별의 기본값 5 할당됨\n",
    "    print(f\"나의 이름은 {name}이고, {age}살입니다.\")\n",
    "    if sex == 5:\n",
    "        print(\"남자입니다.\")\n",
    "    else:\n",
    "        print(\"여자입니다.\")\n",
    "        \n",
    "intro(\"홍길동\", 40)             # sex에 값 할당 안했을 때 기본값 5 할당됨  => 남자입니다 출력\n",
    "intro(\"장원영\", 20, 8)"
   ]
  },
  {
   "cell_type": "code",
   "execution_count": 25,
   "id": "cfd0b6d5-7590-4621-84d4-fffd23d19005",
   "metadata": {},
   "outputs": [
    {
     "name": "stdout",
     "output_type": "stream",
     "text": [
      "(2, 3, 4)\n",
      "(2, 3, 4, 5, 6)\n"
     ]
    }
   ],
   "source": [
    "def func(*x):          # 재료가 몇갠지 모를땐 * 붙여서.\n",
    "    return x\n",
    "\n",
    "print(func(2,3,4))     # 그냥 func(x)로 하고 실행하면 오류남 \n",
    "print(func(2,3,4,5,6)) "
   ]
  },
  {
   "cell_type": "code",
   "execution_count": 26,
   "id": "aaf51af8-2ab4-4265-ade7-fade049bee78",
   "metadata": {},
   "outputs": [
    {
     "data": {
      "text/plain": [
       "{'name': '홍길동', 'age': 40}"
      ]
     },
     "execution_count": 26,
     "metadata": {},
     "output_type": "execute_result"
    }
   ],
   "source": [
    "def func(**x):         # 딕셔너리 형태로 넣어줄땐 ** 붙여서.\n",
    "    return x\n",
    "    \n",
    "func(name = \"홍길동\", age = 40)"
   ]
  },
  {
   "cell_type": "code",
   "execution_count": 30,
   "id": "20d4f418-974c-4765-a1f4-c0bf284b3ea2",
   "metadata": {},
   "outputs": [
    {
     "name": "stdout",
     "output_type": "stream",
     "text": [
      "0\n"
     ]
    }
   ],
   "source": [
    "# 함수 안에 있는 변수는 함수 안에서만 영향을 미침 \n",
    "def func():\n",
    "    # global a      # 여기서 사용하는 변수 a는 전역변수다.   << 이거 넣으면 마지막 출력결과가 5가 나옴\n",
    "    a = 5            # 지역변수\n",
    "    \n",
    "a = 0              # 전역변수\n",
    "func()\n",
    "print(a)       # 5가 아니고 0이 나옴. 왜?   >>   같은 a로 보여도 다른 a임. (a와 func.a)\n",
    "\n",
    "\n",
    "# 두 a가 같다는 걸 명시해주려면 func함수 안에 global a로 명시해줄 것."
   ]
  },
  {
   "cell_type": "code",
   "execution_count": 33,
   "id": "3470fff9-b94f-4db8-8500-c1541b5a4f3b",
   "metadata": {},
   "outputs": [
    {
     "data": {
      "text/plain": [
       "30"
      ]
     },
     "execution_count": 33,
     "metadata": {},
     "output_type": "execute_result"
    }
   ],
   "source": [
    "def func(n):\n",
    "    def func2(x):\n",
    "        return x * n\n",
    "    return func2\n",
    "\n",
    "func_A = func(3)    # n에는 3 저장되고, x는 모름\n",
    "func_A(10)       # x에 10이 저장됨\n",
    "\n",
    "# 함수 안에 함수가 저장되는 형태 ; 클로저?"
   ]
  },
  {
   "cell_type": "code",
   "execution_count": null,
   "id": "1ff2b208-1357-48fb-b243-4c1454cefdb2",
   "metadata": {},
   "outputs": [],
   "source": []
  }
 ],
 "metadata": {
  "kernelspec": {
   "display_name": "Python 3 (ipykernel)",
   "language": "python",
   "name": "python3"
  },
  "language_info": {
   "codemirror_mode": {
    "name": "ipython",
    "version": 3
   },
   "file_extension": ".py",
   "mimetype": "text/x-python",
   "name": "python",
   "nbconvert_exporter": "python",
   "pygments_lexer": "ipython3",
   "version": "3.12.7"
  }
 },
 "nbformat": 4,
 "nbformat_minor": 5
}
