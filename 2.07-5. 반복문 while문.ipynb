{
 "cells": [
  {
   "cell_type": "code",
   "execution_count": 2,
   "id": "7288ef9d-b730-4eb1-a718-96d37fa3e085",
   "metadata": {},
   "outputs": [
    {
     "name": "stdout",
     "output_type": "stream",
     "text": [
      "나무를 1번 찍었습니다.\n",
      "나무를 2번 찍었습니다.\n",
      "나무를 3번 찍었습니다.\n",
      "나무를 4번 찍었습니다.\n",
      "나무를 5번 찍었습니다.\n",
      "나무를 6번 찍었습니다.\n",
      "나무를 7번 찍었습니다.\n",
      "나무를 8번 찍었습니다.\n",
      "나무를 9번 찍었습니다.\n",
      "나무를 10번 찍었습니다.\n",
      "나무가 쓰러졌습니다.ㅠㅠ\n"
     ]
    }
   ],
   "source": [
    "# 반복문\n",
    "# while문 : 조건이 참인 동안 반복      //  몇 번 반복해야할지 모를 때  //  항상 참이되지않게\n",
    "# for문 : 요청한 만큼만 순서대로 반복   //  반복횟수 알 때 \n",
    "\n",
    "hit = 0\n",
    "while hit < 10:         # 몇번반복해야되는지 아는경우라서 for문쓰는게 나을듯.\n",
    "    hit = hit + 1\n",
    "    print(f\"나무를 {hit}번 찍었습니다.\")\n",
    "    if hit == 10:\n",
    "        print(\"나무가 쓰러졌습니다.ㅠㅠ\")"
   ]
  },
  {
   "cell_type": "code",
   "execution_count": 6,
   "id": "e0739bc7-a916-4cf5-9bbc-c6d887497799",
   "metadata": {},
   "outputs": [
    {
     "name": "stdout",
     "output_type": "stream",
     "text": [
      "커피가 9잔 남았습니다.\n",
      "커피가 8잔 남았습니다.\n",
      "커피가 7잔 남았습니다.\n",
      "커피가 6잔 남았습니다.\n",
      "커피가 5잔 남았습니다.\n",
      "커피가 4잔 남았습니다.\n",
      "커피가 3잔 남았습니다.\n",
      "커피가 2잔 남았습니다.\n",
      "커피가 1잔 남았습니다.\n",
      "커피가 0잔 남았습니다.\n",
      "매진되었습니다.\n"
     ]
    }
   ],
   "source": [
    "coffee = 10\n",
    "while True:\n",
    "    coffee = coffee - 1\n",
    "    print(f\"커피가 {coffee}잔 남았습니다.\")\n",
    "    if coffee == 0:\n",
    "        print(\"매진되었습니다.\")\n",
    "        break                     # ★ 반복문을 돌리다가 break를 만나면 그 즉시 반복문을 빠져나온다.\n",
    "else: \n",
    "    print(\"정상종료\")        # break 없이 끝까지 정상 실행된 경우에만 실행"
   ]
  },
  {
   "cell_type": "code",
   "execution_count": 5,
   "id": "d10cd898-d82a-40b5-b658-16cacaf1fcc5",
   "metadata": {},
   "outputs": [
    {
     "name": "stdout",
     "output_type": "stream",
     "text": [
      "1\n",
      "3\n",
      "5\n",
      "7\n",
      "9\n",
      "정상종료\n"
     ]
    }
   ],
   "source": [
    "a = 0\n",
    "while a < 10:   ### 짝수일때는 continue만나서 print 못만나고 이쪽으로 이동\n",
    "    a += 1            # a = a + 1 과 같은 의미\n",
    "    if a % 2 == 0:\n",
    "        continue      # ★ 반복문을 돌리다가 continue를 만나면 그 즉시 반복문의 시작점으로 이동 \n",
    "    print(a)\n",
    "else:\n",
    "    print(\"정상종료\")"
   ]
  },
  {
   "cell_type": "code",
   "execution_count": null,
   "id": "9cb7f346-c699-44ba-93fa-c56980df83db",
   "metadata": {},
   "outputs": [],
   "source": []
  },
  {
   "cell_type": "code",
   "execution_count": null,
   "id": "8c78e8b6-b8fd-4c22-bd3a-74112f39aeb5",
   "metadata": {},
   "outputs": [],
   "source": []
  }
 ],
 "metadata": {
  "kernelspec": {
   "display_name": "Python 3 (ipykernel)",
   "language": "python",
   "name": "python3"
  },
  "language_info": {
   "codemirror_mode": {
    "name": "ipython",
    "version": 3
   },
   "file_extension": ".py",
   "mimetype": "text/x-python",
   "name": "python",
   "nbconvert_exporter": "python",
   "pygments_lexer": "ipython3",
   "version": "3.12.7"
  }
 },
 "nbformat": 4,
 "nbformat_minor": 5
}
