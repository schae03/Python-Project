{
 "cells": [
  {
   "cell_type": "code",
   "execution_count": 2,
   "id": "d4d37359-e61f-460c-af7e-9be2589d076f",
   "metadata": {},
   "outputs": [
    {
     "name": "stdout",
     "output_type": "stream",
     "text": [
      "7 7\n"
     ]
    }
   ],
   "source": [
    "#리스트, 튜플 자료형 : 데이터를 보관하는 자료형\n",
    "box = [1,3,5,4,2,'hello',[2,7]]          # 대괄호 안에 저장하려는 데이터 넣기\n",
    "a = box[6][1]                       # box[-1][-1] 와 같음\n",
    "b = box[-1][-1]\n",
    "\n",
    "print(a, b)"
   ]
  },
  {
   "cell_type": "code",
   "execution_count": 5,
   "id": "294820f0-dd6f-4c52-b1de-ba5aea9c08d0",
   "metadata": {},
   "outputs": [
    {
     "data": {
      "text/plain": [
       "[5, 4, 2]"
      ]
     },
     "execution_count": 5,
     "metadata": {},
     "output_type": "execute_result"
    }
   ],
   "source": [
    "box = [1,3,5,4,2]\n",
    "box[2:5]"
   ]
  },
  {
   "cell_type": "code",
   "execution_count": 17,
   "id": "9146945a-cb2e-4595-9ba4-fbcddd6a68bf",
   "metadata": {},
   "outputs": [
    {
     "data": {
      "text/plain": [
       "[1, 7, 5, 4, 2]"
      ]
     },
     "execution_count": 17,
     "metadata": {},
     "output_type": "execute_result"
    }
   ],
   "source": [
    "a = [1,3,5,4,2]\n",
    "b = a[:]       # 복사의 의미로 할 때에는 b=a[:]꼴로\n",
    "b[1] = 7       # replace는 문자열 전용 함수.  \n",
    "b"
   ]
  },
  {
   "cell_type": "code",
   "execution_count": 18,
   "id": "5808556e-3c1d-44b7-bb56-40848374fdf2",
   "metadata": {},
   "outputs": [
    {
     "data": {
      "text/plain": [
       "[1, 3, 5, 4, 2]"
      ]
     },
     "execution_count": 18,
     "metadata": {},
     "output_type": "execute_result"
    }
   ],
   "source": [
    "a      # 그냥 b=a하면  b값만 수정했는데도, a값도 바뀜"
   ]
  },
  {
   "cell_type": "code",
   "execution_count": 20,
   "id": "6aa20795-0a12-4fb2-bf06-6287e15c1aba",
   "metadata": {},
   "outputs": [
    {
     "data": {
      "text/plain": [
       "[1, 2, 3, 1, 2, 3, 1, 2, 3]"
      ]
     },
     "execution_count": 20,
     "metadata": {},
     "output_type": "execute_result"
    }
   ],
   "source": [
    "a = [1,2,3]\n",
    "b = [4,5,6]\n",
    "a + b\n",
    "a * 3"
   ]
  },
  {
   "cell_type": "code",
   "execution_count": 21,
   "id": "e2da957c-c5e8-4359-9f12-e70273d8dc11",
   "metadata": {},
   "outputs": [
    {
     "name": "stdout",
     "output_type": "stream",
     "text": [
      "[1, 2, 3, 5, 5]\n"
     ]
    }
   ],
   "source": [
    "a.append(5)\n",
    "a.append(5)          # 뒤에서부터 추가\n",
    "print(a)"
   ]
  },
  {
   "cell_type": "code",
   "execution_count": 22,
   "id": "6b7e7d5a-cf1d-40da-a4f2-2126d7f7950a",
   "metadata": {},
   "outputs": [
    {
     "name": "stdout",
     "output_type": "stream",
     "text": [
      "[10, 1, 2, 3, 5, 5]\n"
     ]
    }
   ],
   "source": [
    "a.insert(0,10)      # 0번째에 10 추가.    원하는 위치에 추가할 때에는 insert\n",
    "print(a) "
   ]
  },
  {
   "cell_type": "code",
   "execution_count": 23,
   "id": "a16f1e84-6250-4def-8759-c95e6abb0190",
   "metadata": {},
   "outputs": [
    {
     "name": "stdout",
     "output_type": "stream",
     "text": [
      "[1, 2, 3, 5]\n"
     ]
    }
   ],
   "source": [
    "del a[0]       # 위치값 삭제\n",
    "a.remove(5)    # 해당값(가장 먼저 발견된) 삭제\n",
    "print(a)"
   ]
  },
  {
   "cell_type": "code",
   "execution_count": 24,
   "id": "fe6fcd3e-ed35-4ee4-b006-71868a6e7563",
   "metadata": {},
   "outputs": [
    {
     "name": "stdout",
     "output_type": "stream",
     "text": [
      "None\n"
     ]
    }
   ],
   "source": [
    "z = a.remove(3)      # remove라는게 형체가 없으므로 z에는 아무것도 저장되지x              저장은 안되나 3이라는 값은 삭제됨\n",
    "print(z)     "
   ]
  },
  {
   "cell_type": "code",
   "execution_count": 25,
   "id": "0cbb1989-8067-4a4c-9565-c14c589550ab",
   "metadata": {},
   "outputs": [
    {
     "data": {
      "text/plain": [
       "5"
      ]
     },
     "execution_count": 25,
     "metadata": {},
     "output_type": "execute_result"
    }
   ],
   "source": [
    "z = a.pop()         # 기본 : 가장 뒤에 있는 것을 꺼내라.\n",
    "z"
   ]
  },
  {
   "cell_type": "code",
   "execution_count": 26,
   "id": "6135c20b-ef48-45ca-ab7d-6c33dd831eb2",
   "metadata": {},
   "outputs": [
    {
     "data": {
      "text/plain": [
       "[1, 2]"
      ]
     },
     "execution_count": 26,
     "metadata": {},
     "output_type": "execute_result"
    }
   ],
   "source": [
    "a            # 즉 remove는 삭제해주는것  // pop은 꺼내주는것"
   ]
  },
  {
   "cell_type": "code",
   "execution_count": 39,
   "id": "18ee8f34-9163-45f1-ab64-1a64916fe362",
   "metadata": {},
   "outputs": [
    {
     "data": {
      "text/plain": [
       "1"
      ]
     },
     "execution_count": 39,
     "metadata": {},
     "output_type": "execute_result"
    }
   ],
   "source": [
    "a.pop(0)"
   ]
  },
  {
   "cell_type": "code",
   "execution_count": 40,
   "id": "4c9910e7-7a65-48de-a84b-9ffd2e4c1623",
   "metadata": {},
   "outputs": [
    {
     "data": {
      "text/plain": [
       "[2]"
      ]
     },
     "execution_count": 40,
     "metadata": {},
     "output_type": "execute_result"
    }
   ],
   "source": [
    "a"
   ]
  },
  {
   "cell_type": "code",
   "execution_count": 42,
   "id": "4cffed60-e8f1-4bf1-9e6f-a7dd0d79426c",
   "metadata": {},
   "outputs": [
    {
     "data": {
      "text/plain": [
       "[1, 2, 3, 4, 5]"
      ]
     },
     "execution_count": 42,
     "metadata": {},
     "output_type": "execute_result"
    }
   ],
   "source": [
    "a = [1,3,5,4,2]\n",
    "a.sort()    # 오름차순으로 정렬.   내림차순으로 하려면 sort(reverse = True) \n",
    "a\n",
    "\n",
    "# z = a.sort()   이 또한 형체가 없는 것이라서  z에 넣는다고 해서 z에 정렬된 값 저장되지x. "
   ]
  },
  {
   "cell_type": "code",
   "execution_count": 27,
   "id": "ed603a3b-efcd-4ef7-a979-15427d97adc9",
   "metadata": {},
   "outputs": [
    {
     "data": {
      "text/plain": [
       "[2, 4, 5, 3, 1]"
      ]
     },
     "execution_count": 27,
     "metadata": {},
     "output_type": "execute_result"
    }
   ],
   "source": [
    "a = [1,3,5,4,2]\n",
    "a.reverse()           # 뒤집어\n",
    "a"
   ]
  },
  {
   "cell_type": "code",
   "execution_count": 45,
   "id": "0ef5cd3f-184c-46a4-96d2-1a73e2bc652b",
   "metadata": {},
   "outputs": [
    {
     "data": {
      "text/plain": [
       "[[1, 0], [2, 3], [5, 2], [6, 9]]"
      ]
     },
     "execution_count": 45,
     "metadata": {},
     "output_type": "execute_result"
    }
   ],
   "source": [
    "b = [[1,0],[2,3],[5,2],[6,9]]\n",
    "b.sort()              # 앞에 있는 값을 기준으로 정렬됨.\n",
    "b"
   ]
  },
  {
   "cell_type": "code",
   "execution_count": 46,
   "id": "93d9cacc-5e57-44e2-b881-773c4d83cd86",
   "metadata": {},
   "outputs": [
    {
     "data": {
      "text/plain": [
       "[[1, 0], [5, 2], [2, 3], [6, 9]]"
      ]
     },
     "execution_count": 46,
     "metadata": {},
     "output_type": "execute_result"
    }
   ],
   "source": [
    "b = [[1,0],[2,3],[5,2],[6,9]]        # b 안에는 데이터가 4개 들어있는 것\n",
    "b.sort(key = lambda x : x[1])        # x라는 게 있다면 기준값은 1번째 값을 기준으로 정렬한다\n",
    "b"
   ]
  },
  {
   "cell_type": "code",
   "execution_count": 48,
   "id": "8b34c088-2e80-45b2-8456-5091d3fc43b7",
   "metadata": {},
   "outputs": [
    {
     "name": "stdout",
     "output_type": "stream",
     "text": [
      "4\n",
      "1\n"
     ]
    }
   ],
   "source": [
    "print(a.index(1))   # 위치값\n",
    "print(a.count(1))"
   ]
  },
  {
   "cell_type": "code",
   "execution_count": 51,
   "id": "8522614c-51d9-497f-9808-aff7f98f3e82",
   "metadata": {},
   "outputs": [
    {
     "data": {
      "text/plain": [
       "(1, 3, 5, 4, 2, 1, 3, 5, 4, 2)"
      ]
     },
     "execution_count": 51,
     "metadata": {},
     "output_type": "execute_result"
    }
   ],
   "source": [
    "# 튜플 : 리스트랑 같다.   ()로 묶어줌\n",
    "# 한번 정하면 절대 수정하거나, 삭제할 수가 없다.          => 따라서 remove, append 등 대부분의 함수 쓸 수 X.\n",
    "a = (1,3,5,4,2)\n",
    "a + a\n",
    "#a[1] = 7     ;  오류"
   ]
  },
  {
   "cell_type": "code",
   "execution_count": 53,
   "id": "2b0c9148-0537-4906-9345-df1602565f38",
   "metadata": {},
   "outputs": [
    {
     "data": {
      "text/plain": [
       "(5, 10)"
      ]
     },
     "execution_count": 53,
     "metadata": {},
     "output_type": "execute_result"
    }
   ],
   "source": [
    "b = 5, 10\n",
    "b     # 변수 하나에 값 여러개 넣으면 자동으로 튜플로 묶어줌"
   ]
  },
  {
   "cell_type": "code",
   "execution_count": 54,
   "id": "7dd5fccf-526f-40d6-87be-c78066ad5f70",
   "metadata": {},
   "outputs": [
    {
     "data": {
      "text/plain": [
       "10"
      ]
     },
     "execution_count": 54,
     "metadata": {},
     "output_type": "execute_result"
    }
   ],
   "source": [
    "# 여러 개의 값을 하나의 튜플로 묶는 것 : 패킹\n",
    "# 이미 묶여 있는 것들을 여러 개의 변수로 할당하는 것 : 언패킹\n",
    "a, b, c = 10, 20, 30            # (10, 20, 30) 으로 묶여있는 것\n",
    "a"
   ]
  },
  {
   "cell_type": "code",
   "execution_count": 28,
   "id": "a29459eb-46d8-44a2-9ed7-f0d3b99f868c",
   "metadata": {},
   "outputs": [
    {
     "data": {
      "text/plain": [
       "(1, 2, [3, 4, 5])"
      ]
     },
     "execution_count": 28,
     "metadata": {},
     "output_type": "execute_result"
    }
   ],
   "source": [
    "box = (1,2,3,4,5)\n",
    "\n",
    "a,b,c,d,e = box       # a는1, b는2, ..., e는5\n",
    "# a,b,c = box   :  오류\n",
    "a,b,*c = box    # a는1, b는2, c는[3,4,5]    ; 리스트로 할당됨 주의\n",
    "a,b,c"
   ]
  },
  {
   "cell_type": "code",
   "execution_count": 29,
   "id": "08ba56ff-dddf-4333-b113-d3e1a52895f5",
   "metadata": {},
   "outputs": [
    {
     "name": "stdout",
     "output_type": "stream",
     "text": [
      "20 10\n"
     ]
    }
   ],
   "source": [
    "x = 10\n",
    "y = 20\n",
    "\n",
    "x, y = y, x    # 튜플이 생략된 형태. 실제론 (y,x)\n",
    "\n",
    "print(x, y)"
   ]
  },
  {
   "cell_type": "code",
   "execution_count": 61,
   "id": "35198d51-4d03-44d7-ab34-ec07ba6777b4",
   "metadata": {},
   "outputs": [
    {
     "data": {
      "text/plain": [
       "(1, 2, 3, 4)"
      ]
     },
     "execution_count": 61,
     "metadata": {},
     "output_type": "execute_result"
    }
   ],
   "source": [
    "a = list((1,2,3))      # 수정하려면 튜플을 리스트로 바꿔서 수정\n",
    "a.append(4)\n",
    "tuple(a)"
   ]
  },
  {
   "cell_type": "code",
   "execution_count": 62,
   "id": "9a286b90-d528-4dd1-ab5a-3661c55a65b2",
   "metadata": {},
   "outputs": [
    {
     "data": {
      "text/plain": [
       "['l', 'i', 's', 't']"
      ]
     },
     "execution_count": 62,
     "metadata": {},
     "output_type": "execute_result"
    }
   ],
   "source": [
    "list('list')        # 다른 자료형을 리스트로 바꿀수도 O"
   ]
  },
  {
   "cell_type": "code",
   "execution_count": 64,
   "id": "e4b9b828-66cb-4941-badf-5bfc696d03fd",
   "metadata": {},
   "outputs": [
    {
     "name": "stdout",
     "output_type": "stream",
     "text": [
      "range(1, 11)\n",
      "[1, 2, 3, 4, 5, 6, 7, 8, 9, 10]\n"
     ]
    }
   ],
   "source": [
    "print(range(1,11))\n",
    "print(list(range(1,11)))"
   ]
  },
  {
   "cell_type": "raw",
   "id": "1d920f06-8850-4d8b-92e6-1e31fd63921a",
   "metadata": {},
   "source": []
  }
 ],
 "metadata": {
  "kernelspec": {
   "display_name": "Python 3 (ipykernel)",
   "language": "python",
   "name": "python3"
  },
  "language_info": {
   "codemirror_mode": {
    "name": "ipython",
    "version": 3
   },
   "file_extension": ".py",
   "mimetype": "text/x-python",
   "name": "python",
   "nbconvert_exporter": "python",
   "pygments_lexer": "ipython3",
   "version": "3.12.7"
  }
 },
 "nbformat": 4,
 "nbformat_minor": 5
}
