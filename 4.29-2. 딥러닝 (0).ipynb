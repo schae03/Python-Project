{
 "cells": [
  {
   "cell_type": "markdown",
   "id": "27cc9e9a-f174-43c9-bee3-05053ed08726",
   "metadata": {},
   "source": [
    "# 딥러닝(0)\n",
    "## NumPy\n",
    "* Numerical Python: NumPy는 파이썬으로 수치 계산, 특히 ```다차원 배열(ndarray)```을 쉽고 빠르게 다루기 위해 만들어졌습니다.\n",
    "* 성능: 내부적으로 C언어로 구현되어 있어 파이썬 기본 리스트보다 훨씬 빠르고 메모리를 효율적으로 사용합니다.\n",
    "* 다양한 함수: 선형대수, 푸리에 변환, 난수 생성 등 과학/공학 계산에 필요한 다양한 수학 함수를 제공합니다.\n",
    "* 생태계의 중심: Pandas, SciPy, Matplotlib, Scikit-learn 등 데이터 과학 및 머신러닝 라이브러리들이 NumPy 배열을 기본 데이터 구조로 사용합니다."
   ]
  },
  {
   "cell_type": "code",
   "execution_count": 1,
   "id": "fbfcc8b9-589c-4acd-ae7a-a8d3626aefac",
   "metadata": {},
   "outputs": [
    {
     "name": "stdout",
     "output_type": "stream",
     "text": [
      "NumPy 버전: 1.26.4\n"
     ]
    }
   ],
   "source": [
    "import numpy as np\n",
    "print(f\"NumPy 버전: {np.__version__}\")"
   ]
  },
  {
   "cell_type": "markdown",
   "id": "afe8ac42-8285-4358-80c1-a9f6ec6f173d",
   "metadata": {},
   "source": [
    "### NumPy 배열(ndarray) 생성\n",
    "NumPy의 핵심은 ndarray (N-dimensional array) 객체입니다. 다양한 방법으로 생성할 수 있습니다."
   ]
  },
  {
   "cell_type": "code",
   "execution_count": 6,
   "id": "75597dc4-f916-465b-af1c-85c0c01c8f4d",
   "metadata": {},
   "outputs": [
    {
     "data": {
      "text/plain": [
       "array([ 6,  7,  8,  9, 10])"
      ]
     },
     "execution_count": 6,
     "metadata": {},
     "output_type": "execute_result"
    }
   ],
   "source": [
    "# 1차원 배열 (벡터)\n",
    "list1 = [1, 2, 3, 4, 5]\n",
    "A = np.array(list1)\n",
    "A + 5         # 연산이 병렬적으로 가능"
   ]
  },
  {
   "cell_type": "code",
   "execution_count": 8,
   "id": "48cf7e1b-c9a6-4184-97d1-e6e11e1d1042",
   "metadata": {},
   "outputs": [
    {
     "data": {
      "text/plain": [
       "array([[10, 20, 30],\n",
       "       [40, 50, 60]])"
      ]
     },
     "execution_count": 8,
     "metadata": {},
     "output_type": "execute_result"
    }
   ],
   "source": [
    "# 2차원 배열 (행렬)\n",
    "list2d = [[1, 2, 3], [4, 5, 6]]\n",
    "A = np.array(list2d)\n",
    "A * 10"
   ]
  },
  {
   "cell_type": "code",
   "execution_count": 13,
   "id": "d846f889-8d8f-4b19-9607-1b09ced74425",
   "metadata": {},
   "outputs": [
    {
     "data": {
      "text/plain": [
       "array([[4]])"
      ]
     },
     "execution_count": 13,
     "metadata": {},
     "output_type": "execute_result"
    }
   ],
   "source": [
    "X = np.array([[2, 1]])     # 1행 2열의 2차원행렬 만든것\n",
    "W = np.array([[1], [1]])     # 2행 1열의 2차원행렬\n",
    "B = 1\n",
    "\n",
    "# 행렬곱\n",
    "X @ W + B       # 행렬곱은 골뱅이(@)로"
   ]
  },
  {
   "cell_type": "code",
   "execution_count": null,
   "id": "3acf84bf-68a4-4245-81b6-7de0ff450108",
   "metadata": {},
   "outputs": [],
   "source": []
  },
  {
   "cell_type": "markdown",
   "id": "a99517f2-f0b9-4556-9d03-471a5d68b71d",
   "metadata": {},
   "source": [
    "* 특정 값으로 채워진 배열 생성"
   ]
  },
  {
   "cell_type": "code",
   "execution_count": 14,
   "id": "59cfc853-cca0-44d2-8e74-71f527b4e545",
   "metadata": {},
   "outputs": [
    {
     "data": {
      "text/plain": [
       "array([[0., 0., 0.],\n",
       "       [0., 0., 0.]])"
      ]
     },
     "execution_count": 14,
     "metadata": {},
     "output_type": "execute_result"
    }
   ],
   "source": [
    "# 모든 요소가 0인 배열 생성 (shape 지정)\n",
    "np.zeros((2,3))"
   ]
  },
  {
   "cell_type": "code",
   "execution_count": 15,
   "id": "86374f07-b9ad-4805-bf02-53e74a81cd0b",
   "metadata": {},
   "outputs": [
    {
     "data": {
      "text/plain": [
       "array([[1., 1.],\n",
       "       [1., 1.],\n",
       "       [1., 1.]])"
      ]
     },
     "execution_count": 15,
     "metadata": {},
     "output_type": "execute_result"
    }
   ],
   "source": [
    "# 모든 요소가 1인 배열 생성\n",
    "np.ones((3,2))"
   ]
  },
  {
   "cell_type": "code",
   "execution_count": 16,
   "id": "c31eb379-6aba-4592-92c7-5827f3c18cbd",
   "metadata": {},
   "outputs": [
    {
     "data": {
      "text/plain": [
       "array([[7, 7, 7, 7],\n",
       "       [7, 7, 7, 7]])"
      ]
     },
     "execution_count": 16,
     "metadata": {},
     "output_type": "execute_result"
    }
   ],
   "source": [
    "# 특정 값으로 채워진 배열 생성\n",
    "np.full((2,4), 7)"
   ]
  },
  {
   "cell_type": "markdown",
   "id": "ce077815-320d-4d16-a471-94dbb16f546e",
   "metadata": {},
   "source": [
    "* 연속된 값이나 특정 범위의 값으로 배열 생성"
   ]
  },
  {
   "cell_type": "code",
   "execution_count": 17,
   "id": "e987b0b8-634d-43e0-92d6-40bbb3be884b",
   "metadata": {},
   "outputs": [
    {
     "data": {
      "text/plain": [
       "array([0. , 0.1, 0.2, 0.3, 0.4, 0.5, 0.6, 0.7, 0.8, 0.9, 1. , 1.1, 1.2,\n",
       "       1.3, 1.4, 1.5, 1.6, 1.7, 1.8, 1.9, 2. , 2.1, 2.2, 2.3, 2.4, 2.5,\n",
       "       2.6, 2.7, 2.8, 2.9, 3. , 3.1, 3.2, 3.3, 3.4, 3.5, 3.6, 3.7, 3.8,\n",
       "       3.9, 4. , 4.1, 4.2, 4.3, 4.4, 4.5, 4.6, 4.7, 4.8, 4.9, 5. , 5.1,\n",
       "       5.2, 5.3, 5.4, 5.5, 5.6, 5.7, 5.8, 5.9, 6. , 6.1, 6.2, 6.3, 6.4,\n",
       "       6.5, 6.6, 6.7, 6.8, 6.9, 7. , 7.1, 7.2, 7.3, 7.4, 7.5, 7.6, 7.7,\n",
       "       7.8, 7.9, 8. , 8.1, 8.2, 8.3, 8.4, 8.5, 8.6, 8.7, 8.8, 8.9, 9. ,\n",
       "       9.1, 9.2, 9.3, 9.4, 9.5, 9.6, 9.7, 9.8, 9.9])"
      ]
     },
     "execution_count": 17,
     "metadata": {},
     "output_type": "execute_result"
    }
   ],
   "source": [
    "# 파이썬 range와 유사하지만 ndarray 반환\n",
    "np.arange(0, 10, 0.1)          # range와 달리 증감값 소수로도 줄수있음 "
   ]
  },
  {
   "cell_type": "code",
   "execution_count": 19,
   "id": "eab2572f-66d1-4667-8dd3-d1eb7f93c99b",
   "metadata": {},
   "outputs": [
    {
     "data": {
      "text/plain": [
       "array([0.  , 0.25, 0.5 , 0.75, 1.  ])"
      ]
     },
     "execution_count": 19,
     "metadata": {},
     "output_type": "execute_result"
    }
   ],
   "source": [
    "# 특정 구간을 균일하게 나눈 값으로 배열 생성\n",
    "np.linspace(0, 1, 5)      # 0부터 1까지 균일한 5개로 나눠라"
   ]
  },
  {
   "cell_type": "markdown",
   "id": "dc531c7d-5dad-47c5-af2d-e7ae492fa3f6",
   "metadata": {},
   "source": [
    "* 난수 배열 생성"
   ]
  },
  {
   "cell_type": "code",
   "execution_count": 20,
   "id": "9766170b-84f5-4d93-8de4-3d307bfe55a1",
   "metadata": {},
   "outputs": [
    {
     "data": {
      "text/plain": [
       "array([[0.66075758, 0.18050928, 0.98416739],\n",
       "       [0.50791396, 0.59414775, 0.29962136]])"
      ]
     },
     "execution_count": 20,
     "metadata": {},
     "output_type": "execute_result"
    }
   ],
   "source": [
    "# 0과 1 사이의 균일 분포 난수 (shape 지정)\n",
    "np.random.rand(2, 3)       # 2행 3열짜리 랜덤값을 가진 행렬 만듦"
   ]
  },
  {
   "cell_type": "code",
   "execution_count": 22,
   "id": "fde3638e-1ea9-4e95-9c1a-24b85a879208",
   "metadata": {},
   "outputs": [
    {
     "data": {
      "text/plain": [
       "array([[-0.10696076, -1.34425252,  1.22699819],\n",
       "       [-0.65477154, -0.41654585,  0.99452593]])"
      ]
     },
     "execution_count": 22,
     "metadata": {},
     "output_type": "execute_result"
    }
   ],
   "source": [
    "# 표준 정규 분포(평균 0, 표준편차 1) 난수\n",
    "np.random.randn(2, 3)"
   ]
  },
  {
   "cell_type": "code",
   "execution_count": 25,
   "id": "20dc7487-7f07-4550-ad25-9a232ebe967f",
   "metadata": {},
   "outputs": [
    {
     "data": {
      "text/plain": [
       "array([[2, 2, 5, 6],\n",
       "       [4, 3, 6, 6]])"
      ]
     },
     "execution_count": 25,
     "metadata": {},
     "output_type": "execute_result"
    }
   ],
   "source": [
    "# 특정 범위의 정수 난수\n",
    "np.random.randint(1, 10, size = (2, 4))      # 10포함X.  (1부터 9까지)"
   ]
  },
  {
   "cell_type": "markdown",
   "id": "16cd0482-3a75-4cc6-b81f-287045fc75fe",
   "metadata": {},
   "source": [
    "### 배열의 속성 확인\n",
    "생성된 ndarray 객체의 정보를 확인하는 것은 중요합니다."
   ]
  },
  {
   "cell_type": "code",
   "execution_count": 26,
   "id": "c7e63395-3de3-4106-b57d-03ec36dbe9ad",
   "metadata": {},
   "outputs": [
    {
     "name": "stdout",
     "output_type": "stream",
     "text": [
      "샘플 배열:\n",
      " [[1 2 3]\n",
      " [4 5 6]]\n"
     ]
    }
   ],
   "source": [
    "arr = np.array([[1, 2, 3], [4, 5, 6]])\n",
    "print(\"샘플 배열:\\n\", arr)"
   ]
  },
  {
   "cell_type": "code",
   "execution_count": 27,
   "id": "80e46d2d-d571-4834-a915-4086bf406075",
   "metadata": {},
   "outputs": [
    {
     "data": {
      "text/plain": [
       "(2, 3)"
      ]
     },
     "execution_count": 27,
     "metadata": {},
     "output_type": "execute_result"
    }
   ],
   "source": [
    "# 배열의 형태 (shape): 각 차원의 크기를 튜플로 반환\n",
    "arr.shape     # 2행3열 = 2차원"
   ]
  },
  {
   "cell_type": "code",
   "execution_count": 28,
   "id": "973991ef-301f-408c-abf6-427250f9c591",
   "metadata": {},
   "outputs": [
    {
     "data": {
      "text/plain": [
       "2"
      ]
     },
     "execution_count": 28,
     "metadata": {},
     "output_type": "execute_result"
    }
   ],
   "source": [
    "# 배열의 차원 수 (ndim): 몇 차원 배열인지 정수 반환\n",
    "arr.ndim"
   ]
  },
  {
   "cell_type": "code",
   "execution_count": 29,
   "id": "08994c21-68d3-4caa-b263-8ac7d6bf8a8e",
   "metadata": {},
   "outputs": [
    {
     "data": {
      "text/plain": [
       "6"
      ]
     },
     "execution_count": 29,
     "metadata": {},
     "output_type": "execute_result"
    }
   ],
   "source": [
    "# 배열의 전체 요소 개수 (size)\n",
    "arr.size"
   ]
  },
  {
   "cell_type": "code",
   "execution_count": 30,
   "id": "0cf2c397-680a-490b-9642-d0800f32195e",
   "metadata": {},
   "outputs": [
    {
     "data": {
      "text/plain": [
       "dtype('int32')"
      ]
     },
     "execution_count": 30,
     "metadata": {},
     "output_type": "execute_result"
    }
   ],
   "source": [
    "# 배열 요소의 데이터 타입 (dtype)\n",
    "arr.dtype"
   ]
  },
  {
   "cell_type": "code",
   "execution_count": 37,
   "id": "eca097e1-2eeb-434d-aeb8-5537ccd50922",
   "metadata": {},
   "outputs": [
    {
     "data": {
      "text/plain": [
       "array([1., 2., 3.])"
      ]
     },
     "execution_count": 37,
     "metadata": {},
     "output_type": "execute_result"
    }
   ],
   "source": [
    "# 데이터 타입을 지정하여 배열 생성 가능\n",
    "# float_arr = np.array([1, 2, 3], dtype=np.float64)\n",
    "float_arr = np.array([1, 2, 3], dtype=\"float\")\n",
    "float_arr"
   ]
  },
  {
   "cell_type": "markdown",
   "id": "32fb62ef-83af-4d4e-882e-4dcdbd53fae3",
   "metadata": {},
   "source": [
    "### 인덱싱(Indexing)과 슬라이싱(Slicing)\n",
    "배열의 특정 요소나 부분을 선택하는 방법입니다. 딥러닝에서 데이터의 특정 부분을 추출하거나 조작할 때 매우 중요합니다.\n",
    "\n",
    "* 기본 인덱싱"
   ]
  },
  {
   "cell_type": "code",
   "execution_count": 39,
   "id": "feecf214-e285-4435-a9b8-54db51afd72f",
   "metadata": {},
   "outputs": [
    {
     "name": "stdout",
     "output_type": "stream",
     "text": [
      "1차원 배열: [0 1 2 3 4 5 6 7 8 9] 1\n"
     ]
    }
   ],
   "source": [
    "arr1d = np.arange(10) # [0 1 2 3 4 5 6 7 8 9]\n",
    "print(\"1차원 배열:\", arr1d, arr1d.ndim)"
   ]
  },
  {
   "cell_type": "code",
   "execution_count": 42,
   "id": "9f34ca7d-cfe6-49e4-a115-58ce702741cd",
   "metadata": {},
   "outputs": [
    {
     "data": {
      "text/plain": [
       "9"
      ]
     },
     "execution_count": 42,
     "metadata": {},
     "output_type": "execute_result"
    }
   ],
   "source": [
    "#인덱싱도 가능\n",
    "arr1d[-1]   "
   ]
  },
  {
   "cell_type": "code",
   "execution_count": 43,
   "id": "238891b2-0308-4135-935d-5172d0329a20",
   "metadata": {},
   "outputs": [
    {
     "name": "stdout",
     "output_type": "stream",
     "text": [
      "2차원 배열:\n",
      " [[1 2 3]\n",
      " [4 5 6]\n",
      " [7 8 9]]\n"
     ]
    }
   ],
   "source": [
    "arr2d = np.array([[1, 2, 3], [4, 5, 6], [7, 8, 9]])\n",
    "print(\"2차원 배열:\\n\", arr2d)"
   ]
  },
  {
   "cell_type": "code",
   "execution_count": 45,
   "id": "e58f5af8-596f-4d53-97fd-ec78839ecae3",
   "metadata": {},
   "outputs": [
    {
     "data": {
      "text/plain": [
       "9"
      ]
     },
     "execution_count": 45,
     "metadata": {},
     "output_type": "execute_result"
    }
   ],
   "source": [
    "# 특정 요소 접근: arr[행, 열]\n",
    "arr2d[0, 0]        # 콤마를 기준으로 접근\n",
    "arr2d[2, 2]    # 3행 3열 = 9"
   ]
  },
  {
   "cell_type": "markdown",
   "id": "bdafe9a3-c562-4b6f-857b-bd6108159a91",
   "metadata": {},
   "source": [
    "* 슬라이싱: ```:```을 사용하여 특정 범위를 선택합니다. [start:stop:step]"
   ]
  },
  {
   "cell_type": "code",
   "execution_count": 52,
   "id": "a75fb2e5-6cfe-45c8-a385-7230cb6aaa2c",
   "metadata": {},
   "outputs": [
    {
     "data": {
      "text/plain": [
       "array([0, 2, 4, 6, 8])"
      ]
     },
     "execution_count": 52,
     "metadata": {},
     "output_type": "execute_result"
    }
   ],
   "source": [
    "# 1차원 배열 슬라이싱\n",
    "arr1d[:5]\n",
    "arr1d[:]       # 처음부터 끝까지\n",
    "arr1d[::2]     # 처음부터 끝까지 2씩 증가시키면서"
   ]
  },
  {
   "cell_type": "code",
   "execution_count": 53,
   "id": "a1b16c82-6353-4e71-a045-b6ca18f5f9b2",
   "metadata": {},
   "outputs": [
    {
     "data": {
      "text/plain": [
       "array([[2, 3],\n",
       "       [5, 6]])"
      ]
     },
     "execution_count": 53,
     "metadata": {},
     "output_type": "execute_result"
    }
   ],
   "source": [
    "arr2d[:2, 1:3]   # 0열빼고 1열,2열만"
   ]
  },
  {
   "cell_type": "code",
   "execution_count": 54,
   "id": "3899de17-4f92-4ab1-a997-5764117eda61",
   "metadata": {},
   "outputs": [
    {
     "data": {
      "text/plain": [
       "array([1, 2, 3])"
      ]
     },
     "execution_count": 54,
     "metadata": {},
     "output_type": "execute_result"
    }
   ],
   "source": [
    "# 첫 번째 행 전체\n",
    "arr2d[0]"
   ]
  },
  {
   "cell_type": "code",
   "execution_count": 56,
   "id": "2ead2be6-3568-4520-8609-e329ba0bc293",
   "metadata": {},
   "outputs": [
    {
     "data": {
      "text/plain": [
       "array([2, 5, 8])"
      ]
     },
     "execution_count": 56,
     "metadata": {},
     "output_type": "execute_result"
    }
   ],
   "source": [
    "# 두 번째 열 전체\n",
    "arr2d[:, 1]    # 행은 모든행, 열은 1열"
   ]
  },
  {
   "cell_type": "markdown",
   "id": "2c4fa877-b055-4030-aa70-083750d06113",
   "metadata": {},
   "source": [
    "* 불리언 인덱싱 (Boolean Indexing): 조건을 만족하는 요소만 선택합니다. 매우 강력한 기능입니다."
   ]
  },
  {
   "cell_type": "code",
   "execution_count": 59,
   "id": "3d2ba373-5d5c-4f01-b98d-369884326c89",
   "metadata": {},
   "outputs": [
    {
     "data": {
      "text/plain": [
       "array([4, 5, 6])"
      ]
     },
     "execution_count": 59,
     "metadata": {},
     "output_type": "execute_result"
    }
   ],
   "source": [
    "arr = np.array([1, 2, 3, 4, 5, 6])\n",
    "arr[arr > 3]"
   ]
  },
  {
   "cell_type": "code",
   "execution_count": 88,
   "id": "06fb2f2d-b6cd-4895-9582-da363bda4d60",
   "metadata": {},
   "outputs": [],
   "source": [
    "# 조건을 직접 사용 가능"
   ]
  },
  {
   "cell_type": "code",
   "execution_count": 64,
   "id": "791445e2-ea38-4263-9e57-5ed47efc34a4",
   "metadata": {},
   "outputs": [
    {
     "data": {
      "text/plain": [
       "array([4, 5, 6])"
      ]
     },
     "execution_count": 64,
     "metadata": {},
     "output_type": "execute_result"
    }
   ],
   "source": [
    "# 2차원 배열에도 적용 가능  /  3보다 큰 요소 가져오기\n",
    "arr2d = np.array([[1, 2], [3, 4], [5, 6]])\n",
    "arr2d[arr2d > 3]         # 1차원 벡터"
   ]
  },
  {
   "cell_type": "markdown",
   "id": "2600859a-f911-4daa-949c-8e53f362321b",
   "metadata": {},
   "source": [
    "### 배열 연산\n",
    "NumPy 배열은 요소별(element-wise) 연산을 매우 효율적으로 수행합니다."
   ]
  },
  {
   "cell_type": "code",
   "execution_count": 66,
   "id": "5dd52589-8a73-47d6-8156-46eeff1fbf8b",
   "metadata": {},
   "outputs": [
    {
     "name": "stdout",
     "output_type": "stream",
     "text": [
      "[5 7 9]\n",
      "[-3 -3 -3]\n",
      "[ 4 10 18]\n",
      "[0.25 0.4  0.5 ]\n",
      "[  1  32 729]\n"
     ]
    }
   ],
   "source": [
    "a = np.array([1, 2, 3])\n",
    "b = np.array([4, 5, 6])\n",
    "\n",
    "print(a + b)\n",
    "print(a - b)\n",
    "print(a * b)     # 행렬곱아니고 같은위치에있는것끼리 그냥 곱함\n",
    "print(a / b)\n",
    "print(a ** b)"
   ]
  },
  {
   "cell_type": "markdown",
   "id": "9c44a937-929a-44fa-a378-d18dcc8f82ae",
   "metadata": {},
   "source": [
    "* 스칼라 연산: 배열과 단일 값(스칼라) 간의 연산"
   ]
  },
  {
   "cell_type": "code",
   "execution_count": 67,
   "id": "67e0514a-3497-4373-91be-483802083a4c",
   "metadata": {},
   "outputs": [
    {
     "data": {
      "text/plain": [
       "array([[11, 12],\n",
       "       [13, 14]])"
      ]
     },
     "execution_count": 67,
     "metadata": {},
     "output_type": "execute_result"
    }
   ],
   "source": [
    "arr = np.array([[1, 2], [3, 4]])\n",
    "arr + 10"
   ]
  },
  {
   "cell_type": "markdown",
   "id": "d9d5c2ef-f2aa-4561-8d3a-43363bcd6392",
   "metadata": {},
   "source": [
    "* 브로드캐스팅 (Broadcasting): NumPy가 다른 shape를 가진 배열 간의 연산을 가능하게 하는 강력한 메커니즘입니다. 특정 규칙에 따라 작은 배열이 큰 배열의 shape에 맞춰 확장되어 연산됩니다. (딥러닝에서 매우 중요!)"
   ]
  },
  {
   "cell_type": "code",
   "execution_count": 71,
   "id": "9c780c19-75cb-49cd-bede-de74731f2256",
   "metadata": {},
   "outputs": [
    {
     "data": {
      "text/plain": [
       "array([[11, 22, 33],\n",
       "       [14, 25, 36],\n",
       "       [17, 28, 39]])"
      ]
     },
     "execution_count": 71,
     "metadata": {},
     "output_type": "execute_result"
    }
   ],
   "source": [
    "matrix = np.array([[1, 2, 3], [4, 5, 6], [7, 8, 9]])              # 3행 3열\n",
    "vector = np.array([10, 20, 30]) # 1차원 배열 (1x3 처럼 간주됨)    # 1행 3열\n",
    "\n",
    "# 자동으로 행의 크기를 맞춰서 더해줌\n",
    "matrix + vector           # 모든행에 10,20,30 으로 더해짐"
   ]
  },
  {
   "cell_type": "code",
   "execution_count": 93,
   "id": "9d871e10-933c-4cae-a65a-8c66cdecf5e0",
   "metadata": {},
   "outputs": [],
   "source": [
    "# vector가 matrix의 각 행에 더해짐"
   ]
  },
  {
   "cell_type": "code",
   "execution_count": 76,
   "id": "b39c43cb-5345-4c3e-a32b-2dd7a11e8587",
   "metadata": {},
   "outputs": [
    {
     "data": {
      "text/plain": [
       "array([[10],\n",
       "       [20],\n",
       "       [30]])"
      ]
     },
     "execution_count": 76,
     "metadata": {},
     "output_type": "execute_result"
    }
   ],
   "source": [
    "# 열 벡터와의 연산 (reshape 필요)\n",
    "vector2 = np.array([[10], [20], [30]])\n",
    "vector2"
   ]
  },
  {
   "cell_type": "code",
   "execution_count": 77,
   "id": "aac0750f-aad3-4638-863b-6675f521d2e6",
   "metadata": {},
   "outputs": [
    {
     "data": {
      "text/plain": [
       "array([[11, 12, 13],\n",
       "       [24, 25, 26],\n",
       "       [37, 38, 39]])"
      ]
     },
     "execution_count": 77,
     "metadata": {},
     "output_type": "execute_result"
    }
   ],
   "source": [
    "matrix + vector2"
   ]
  },
  {
   "cell_type": "markdown",
   "id": "8287d6da-dd6b-4d56-acb5-174ce9d30c19",
   "metadata": {},
   "source": [
    "* 유니버설 함수 (Universal Functions, ufuncs): 배열의 각 요소에 대해 연산을 수행하는 함수들입니다. 매우 빠릅니다."
   ]
  },
  {
   "cell_type": "code",
   "execution_count": 80,
   "id": "dbc68be6-b67b-4a2d-9345-7c847df37d6f",
   "metadata": {},
   "outputs": [
    {
     "name": "stdout",
     "output_type": "stream",
     "text": [
      "[1. 2. 3. 4.]\n",
      "[2.71828183e+00 5.45981500e+01 8.10308393e+03 8.88611052e+06]\n",
      "[0.         1.38629436 2.19722458 2.77258872]\n",
      "[ 0.84147098 -0.7568025   0.41211849 -0.28790332]\n"
     ]
    }
   ],
   "source": [
    "arr = np.array([1, 4, 9, 16])\n",
    "print(np.sqrt(arr))\n",
    "print(np.exp(arr))\n",
    "print(np.log(arr))       # 자연로그\n",
    "print(np.sin(arr))"
   ]
  },
  {
   "cell_type": "markdown",
   "id": "cf7e5772-aefa-47f4-b15c-a2480ee5d294",
   "metadata": {},
   "source": [
    "### 기본 선형대수 연산\n",
    "딥러닝은 선형대수에 기반하므로, 행렬 곱, 전치 등은 필수입니다."
   ]
  },
  {
   "cell_type": "code",
   "execution_count": 84,
   "id": "46d45139-5ba1-48cd-8f70-29b6513fd752",
   "metadata": {},
   "outputs": [
    {
     "data": {
      "text/plain": [
       "array([[5, 6],\n",
       "       [7, 8]])"
      ]
     },
     "execution_count": 84,
     "metadata": {},
     "output_type": "execute_result"
    }
   ],
   "source": [
    "mat_a = np.array([[1, 2], [3, 4]])\n",
    "mat_b = np.array([[5, 6], [7, 8]])\n",
    "mat_b"
   ]
  },
  {
   "cell_type": "code",
   "execution_count": 85,
   "id": "2f3a83a1-2b17-4fb3-b0e3-b77b1ea24854",
   "metadata": {},
   "outputs": [
    {
     "data": {
      "text/plain": [
       "array([[ 5, 12],\n",
       "       [21, 32]])"
      ]
     },
     "execution_count": 85,
     "metadata": {},
     "output_type": "execute_result"
    }
   ],
   "source": [
    "# 요소별 곱셈 (element-wise multiplication)\n",
    "mat_a * mat_b"
   ]
  },
  {
   "cell_type": "code",
   "execution_count": 88,
   "id": "e26d383f-3cbf-4c4a-9bf9-8003b15da7d1",
   "metadata": {},
   "outputs": [
    {
     "data": {
      "text/plain": [
       "array([[19, 22],\n",
       "       [43, 50]])"
      ]
     },
     "execution_count": 88,
     "metadata": {},
     "output_type": "execute_result"
    }
   ],
   "source": [
    "# 행렬 곱셈 (Matrix multiplication)\n",
    "A = mat_a @ mat_b\n",
    "A"
   ]
  },
  {
   "cell_type": "code",
   "execution_count": 89,
   "id": "ebf55310-665c-44bb-94cd-23e49bced27b",
   "metadata": {},
   "outputs": [
    {
     "data": {
      "text/plain": [
       "array([[19, 43],\n",
       "       [22, 50]])"
      ]
     },
     "execution_count": 89,
     "metadata": {},
     "output_type": "execute_result"
    }
   ],
   "source": [
    "# 전치 행렬 (Transpose)\n",
    "A.T        # 행과 열을 바꿈"
   ]
  },
  {
   "cell_type": "markdown",
   "id": "45f98eef-ab32-452a-8f5d-1fe49b9af937",
   "metadata": {},
   "source": [
    "### 배열 형태 변경 (Reshaping)\n",
    "배열의 차원이나 형태를 바꾸는 기능입니다. 데이터의 총 개수는 유지되어야 합니다."
   ]
  },
  {
   "cell_type": "code",
   "execution_count": 90,
   "id": "e9fab0f2-ea87-4f94-8006-2b52cb171ef9",
   "metadata": {},
   "outputs": [
    {
     "data": {
      "text/plain": [
       "array([ 0,  1,  2,  3,  4,  5,  6,  7,  8,  9, 10, 11])"
      ]
     },
     "execution_count": 90,
     "metadata": {},
     "output_type": "execute_result"
    }
   ],
   "source": [
    "arr = np.arange(12) # [ 0  1  2  3  4  5  6  7  8  9 10 11]\n",
    "arr"
   ]
  },
  {
   "cell_type": "code",
   "execution_count": 105,
   "id": "0795583e-c621-4c17-bc6a-635a4fe5031c",
   "metadata": {},
   "outputs": [
    {
     "data": {
      "text/plain": [
       "array([[ 0,  1,  2,  3],\n",
       "       [ 4,  5,  6,  7],\n",
       "       [ 8,  9, 10, 11]])"
      ]
     },
     "execution_count": 105,
     "metadata": {},
     "output_type": "execute_result"
    }
   ],
   "source": [
    "# 3행 4열의 2차원 배열로 변경\n",
    "arr.reshape(3, 4) "
   ]
  },
  {
   "cell_type": "code",
   "execution_count": 103,
   "id": "8ee222bb-0154-4d7b-a141-4405875e1e88",
   "metadata": {},
   "outputs": [
    {
     "data": {
      "text/plain": [
       "array([[ 0,  1,  2,  3],\n",
       "       [ 4,  5,  6,  7],\n",
       "       [ 8,  9, 10, 11]])"
      ]
     },
     "execution_count": 103,
     "metadata": {},
     "output_type": "execute_result"
    }
   ],
   "source": [
    "# -1을 사용하면 해당 차원의 크기를 자동으로 계산\n",
    "A = arr.reshape(-1, 4)      # -1로 하면 자동 \n",
    "A"
   ]
  },
  {
   "cell_type": "code",
   "execution_count": 104,
   "id": "dc27a595-30fb-4a20-bc83-fdaef6f28844",
   "metadata": {},
   "outputs": [
    {
     "data": {
      "text/plain": [
       "array([ 0,  1,  2,  3,  4,  5,  6,  7,  8,  9, 10, 11])"
      ]
     },
     "execution_count": 104,
     "metadata": {},
     "output_type": "execute_result"
    }
   ],
   "source": [
    "# 다차원 배열을 1차원으로 펼치기 (Flatten)\n",
    "A.flatten()          # 1차원으로 쭉 펴줌"
   ]
  },
  {
   "cell_type": "markdown",
   "id": "01bd321a-bd34-429d-85e3-54f14053f613",
   "metadata": {},
   "source": [
    "### 집계 함수 (Aggregation)\n",
    "배열 전체 또는 특정 축(axis)을 기준으로 합계, 평균, 최대/최소값 등을 계산합니다."
   ]
  },
  {
   "cell_type": "code",
   "execution_count": 107,
   "id": "b2016412-f655-4ab4-b7a1-8036fb8ed367",
   "metadata": {},
   "outputs": [
    {
     "data": {
      "text/plain": [
       "array([[1, 2, 3],\n",
       "       [4, 5, 6]])"
      ]
     },
     "execution_count": 107,
     "metadata": {},
     "output_type": "execute_result"
    }
   ],
   "source": [
    "arr = np.array([[1, 2, 3], [4, 5, 6]])\n",
    "arr"
   ]
  },
  {
   "cell_type": "code",
   "execution_count": 109,
   "id": "dbd92f8c-06bf-4430-b0a7-e95b03cb9300",
   "metadata": {},
   "outputs": [
    {
     "name": "stdout",
     "output_type": "stream",
     "text": [
      "21\n",
      "3.5\n",
      "3.5\n",
      "6\n",
      "1\n",
      "1.707825127659933\n"
     ]
    }
   ],
   "source": [
    "print(np.sum(arr))      # 요소들의 합\n",
    "print(np.mean(arr))     # 요소들의 평균\n",
    "print(np.median(arr))  \n",
    "print(np.max(arr))\n",
    "print(np.min(arr))\n",
    "print(np.std(arr))"
   ]
  },
  {
   "cell_type": "code",
   "execution_count": 113,
   "id": "8c5e40f8-6128-4de5-b652-b0fb0c36a8fb",
   "metadata": {},
   "outputs": [
    {
     "name": "stdout",
     "output_type": "stream",
     "text": [
      "[2.5 3.5 4.5]\n",
      "[2. 5.]\n"
     ]
    }
   ],
   "source": [
    "print(np.mean(arr, axis = 0))        # 아랫방향으로 평균을 구한다\n",
    "print(np.mean(arr, axis = 1))        # 오른쪽방향으로 평균을 구한다"
   ]
  },
  {
   "cell_type": "markdown",
   "id": "001835f6-e8aa-438d-9467-95b08b0e2b0d",
   "metadata": {},
   "source": [
    "# 연습문제\n",
    "1. 파이썬 리스트 my_list = [10, 20, 30, 40, 50]를 사용하여 NumPy 1차원 배열 arr1d를 만드세요. 생성된 배열을 출력하세요."
   ]
  },
  {
   "cell_type": "code",
   "execution_count": 114,
   "id": "8c1f41d7-855e-4a99-8bf7-b925ab276775",
   "metadata": {},
   "outputs": [
    {
     "data": {
      "text/plain": [
       "array([10, 20, 30, 40, 50])"
      ]
     },
     "execution_count": 114,
     "metadata": {},
     "output_type": "execute_result"
    }
   ],
   "source": [
    "my_list = [10, 20, 30, 40, 50]\n",
    "arr1d = np.array(my_list)\n",
    "arr1d"
   ]
  },
  {
   "cell_type": "markdown",
   "id": "44683f4d-75bd-454e-9550-70d2b00764fc",
   "metadata": {},
   "source": [
    "2. 3행 4열 크기의 모든 요소가 0인 NumPy 배열 zeros_arr를 만드세요. 생성된 배열의 shape (형태)과 dtype (데이터 타입)을 출력하세요."
   ]
  },
  {
   "cell_type": "code",
   "execution_count": 120,
   "id": "1134ae59-9efb-49cf-923c-af4bcdfad0d5",
   "metadata": {},
   "outputs": [
    {
     "name": "stdout",
     "output_type": "stream",
     "text": [
      "(3, 4)\n",
      "float64\n"
     ]
    }
   ],
   "source": [
    "zeros_arr = np.zeros((3, 4))\n",
    "print(zeros_arr.shape)\n",
    "print(zeros_arr.dtype)"
   ]
  },
  {
   "cell_type": "markdown",
   "id": "5dea95a7-906c-479b-a9fc-f42d8e827935",
   "metadata": {},
   "source": [
    "3. np.arange() 함수를 사용하여 0부터 8까지의 정수로 구성된 NumPy 배열을 만든 후, 이 배열을 3x3 크기의 2차원 배열 mat3x3으로 변형(reshape)하세요. 생성된 mat3x3 배열을 출력하세요."
   ]
  },
  {
   "cell_type": "code",
   "execution_count": 124,
   "id": "8905c46a-5df8-401d-92d3-8f92ce1f0064",
   "metadata": {},
   "outputs": [
    {
     "data": {
      "text/plain": [
       "array([[0, 1, 2],\n",
       "       [3, 4, 5],\n",
       "       [6, 7, 8]])"
      ]
     },
     "execution_count": 124,
     "metadata": {},
     "output_type": "execute_result"
    }
   ],
   "source": [
    "mat3x3 = np.arange(0,9).reshape(3,3)\n",
    "mat3x3"
   ]
  },
  {
   "cell_type": "markdown",
   "id": "df40eefa-b080-4cf0-a77a-5df286ed5362",
   "metadata": {},
   "source": [
    "4. 다음과 같은 2차원 배열 arr = np.array([[1, 2, 3], [4, 5, 6], [7, 8, 9]])가 주어졌습니다.\n",
    "* (a) 2행 3열의 요소 (값: 6)를 인덱싱을 사용하여 추출하세요.\n",
    "* (b) 마지막 두 행과 첫 두 열로 이루어진 부분 배열 ([[4, 5], [7, 8]])을 슬라이싱을 사용하여 추출하세요."
   ]
  },
  {
   "cell_type": "code",
   "execution_count": 128,
   "id": "321d4dff-e8c3-421e-96d1-8a6ab7295385",
   "metadata": {},
   "outputs": [
    {
     "name": "stdout",
     "output_type": "stream",
     "text": [
      "6\n",
      "[[4 5]\n",
      " [7 8]]\n"
     ]
    }
   ],
   "source": [
    "arr = np.array([[1, 2, 3], [4, 5, 6], [7, 8, 9]])\n",
    "print(arr[1, 2])\n",
    "print(arr[1:, :2])"
   ]
  },
  {
   "cell_type": "markdown",
   "id": "64052570-2811-4341-8859-6b3a7af1ebde",
   "metadata": {},
   "source": [
    "5. 1부터 50까지의 정수 난수(포함)로 구성된 4x5 크기의 배열 rand_arr를 만드세요. 그런 다음, 이 배열의 요소들 중에서 25보다 큰 값들만 추출하여 새로운 배열 filtered_arr를 만드세요. filtered_arr를 출력하세요."
   ]
  },
  {
   "cell_type": "code",
   "execution_count": 130,
   "id": "08c63a73-f7a3-41e6-8f61-7d9e7d776191",
   "metadata": {},
   "outputs": [
    {
     "data": {
      "text/plain": [
       "array([42, 39, 44, 50, 35, 48, 30, 47, 43, 32])"
      ]
     },
     "execution_count": 130,
     "metadata": {},
     "output_type": "execute_result"
    }
   ],
   "source": [
    "rand_arr = np.random.randint(1, 51, size = (4,5))\n",
    "filtered_arr = rand_arr[rand_arr>25]\n",
    "filtered_arr"
   ]
  },
  {
   "cell_type": "markdown",
   "id": "b9a11111-7144-43c4-8e9c-961753a0e243",
   "metadata": {},
   "source": [
    "6. 두 개의 NumPy 배열 a = np.array([1, 2, 3]) 와 b = np.array([4, 5, 6]) 가 주어졌을 때, 두 배열의 요소별 합 (a + b)과 요소별 곱 (a * b)을 계산하여 각각 출력하세요."
   ]
  },
  {
   "cell_type": "code",
   "execution_count": 132,
   "id": "601850a5-6123-46e6-b7c4-106c8d16572d",
   "metadata": {},
   "outputs": [
    {
     "name": "stdout",
     "output_type": "stream",
     "text": [
      "[5 7 9]\n",
      "[ 4 10 18]\n"
     ]
    }
   ],
   "source": [
    "a = np.array([1, 2, 3])\n",
    "b = np.array([4, 5, 6])\n",
    "\n",
    "print(a + b)\n",
    "print(a * b)"
   ]
  },
  {
   "cell_type": "markdown",
   "id": "6b80ef27-2c08-43ff-b291-49dff0c1d768",
   "metadata": {},
   "source": [
    "7. 2차원 배열 matrix = np.array([[1, 1, 1], [2, 2, 2], [3, 3, 3]]) 와 1차원 배열 vector = np.array([10, 20, 30]) 가 있을 때, 브로드캐스팅을 이용하여 matrix의 각 행에 vector를 더한 결과 배열 broadcast_sum을 계산하고 출력하세요."
   ]
  },
  {
   "cell_type": "code",
   "execution_count": 134,
   "id": "9dc3b17c-0954-46ac-9ad7-1c942e4588e4",
   "metadata": {},
   "outputs": [
    {
     "data": {
      "text/plain": [
       "array([[11, 21, 31],\n",
       "       [12, 22, 32],\n",
       "       [13, 23, 33]])"
      ]
     },
     "execution_count": 134,
     "metadata": {},
     "output_type": "execute_result"
    }
   ],
   "source": [
    "matrix = np.array([[1, 1, 1], [2, 2, 2], [3, 3, 3]])\n",
    "vector = np.array([10, 20, 30])\n",
    "\n",
    "broadcast_sum = matrix + vector\n",
    "broadcast_sum"
   ]
  },
  {
   "cell_type": "markdown",
   "id": "59ae586f-0a10-4499-ba81-23e8e926bef6",
   "metadata": {},
   "source": [
    "8. 배열 arr_sq = np.array([1, 4, 9, 16, 25]) 가 주어졌습니다.\n",
    "* (a) 각 요소의 제곱근을 계산한 배열 sqrt_arr를 만드세요.\n",
    "* (b) sqrt_arr 배열의 모든 요소의 평균값을 계산하여 출력하세요-."
   ]
  },
  {
   "cell_type": "code",
   "execution_count": 136,
   "id": "42c1da98-1ae3-463f-b1c6-4c3cd1be11e9",
   "metadata": {},
   "outputs": [
    {
     "data": {
      "text/plain": [
       "3.0"
      ]
     },
     "execution_count": 136,
     "metadata": {},
     "output_type": "execute_result"
    }
   ],
   "source": [
    "arr_sq = np.array([1, 4, 9, 16, 25])\n",
    "sqrt_arr = np.sqrt(arr_sq)\n",
    "np.mean(sqrt_arr)"
   ]
  },
  {
   "cell_type": "markdown",
   "id": "1e7e44fd-02dd-4254-8a95-93c8ca0d1ef0",
   "metadata": {},
   "source": [
    "9. 두 개의 행렬 mat_a = np.array([[1, 0], [2, 1]]) 와 mat_b = np.array([[4, 1], [0, 2]]) 가 주어졌습니다.\n",
    "* (a) 두 행렬의 행렬 곱을 계산하여 mat_product에 저장하세요.\n",
    "* (b) 결과 행렬 mat_product의 전치(Transpose) 행렬을 구하여 출력하세요."
   ]
  },
  {
   "cell_type": "code",
   "execution_count": 143,
   "id": "d328c552-c6d4-4cdd-8377-bb9066197d39",
   "metadata": {},
   "outputs": [
    {
     "data": {
      "text/plain": [
       "array([[4, 8],\n",
       "       [1, 4]])"
      ]
     },
     "execution_count": 143,
     "metadata": {},
     "output_type": "execute_result"
    }
   ],
   "source": [
    "mat_a = np.array([[1, 0], [2, 1]])\n",
    "mat_b = np.array([[4, 1], [0, 2]]) \n",
    "\n",
    "mat_product = mat_a @ mat_b\n",
    "mat_product.T"
   ]
  },
  {
   "cell_type": "markdown",
   "id": "644bbd66-2567-48c0-986e-50bed38a2beb",
   "metadata": {},
   "source": [
    "10. 다음과 같은 3x4 배열 data = np.array([[10, 20, 30, 40], [50, 60, 70, 80], [90, 10, 20, 30]]) 가 주어졌습니다.\n",
    "* (a) 각 열(column)의 합계를 계산하여 출력하세요.\n",
    "* (b) 각 행(row)의 최댓값을 계산하여 출력하세요."
   ]
  },
  {
   "cell_type": "code",
   "execution_count": 144,
   "id": "2770678f-1c5b-469c-b1fc-ba031d477aab",
   "metadata": {},
   "outputs": [
    {
     "name": "stdout",
     "output_type": "stream",
     "text": [
      "[150  90 120 150]\n",
      "[40 80 90]\n"
     ]
    }
   ],
   "source": [
    "data = np.array([[10, 20, 30, 40], [50, 60, 70, 80], [90, 10, 20, 30]]) \n",
    "print(np.sum(data, axis = 0))\n",
    "print(np.max(data, axis = 1))"
   ]
  },
  {
   "cell_type": "code",
   "execution_count": null,
   "id": "1e2db2c2-c146-409c-b24b-162667543440",
   "metadata": {},
   "outputs": [],
   "source": []
  }
 ],
 "metadata": {
  "kernelspec": {
   "display_name": "Python 3 (ipykernel)",
   "language": "python",
   "name": "python3"
  },
  "language_info": {
   "codemirror_mode": {
    "name": "ipython",
    "version": 3
   },
   "file_extension": ".py",
   "mimetype": "text/x-python",
   "name": "python",
   "nbconvert_exporter": "python",
   "pygments_lexer": "ipython3",
   "version": "3.12.7"
  }
 },
 "nbformat": 4,
 "nbformat_minor": 5
}
