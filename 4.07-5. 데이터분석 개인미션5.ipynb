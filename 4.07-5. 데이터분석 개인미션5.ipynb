{
 "cells": [
  {
   "cell_type": "markdown",
   "id": "b6e51126-f869-4953-a6b5-544d63c68930",
   "metadata": {},
   "source": [
    "# <Personal Mession - 데이터 분석(5)>"
   ]
  },
  {
   "cell_type": "markdown",
   "id": "a811d86b-3cfa-44ca-a74b-17b04cb60561",
   "metadata": {},
   "source": [
    "# 1. 데이터 불러오기\n",
    "- `12_Data.csv` 파일을 불러와 변수 `df1`에 저장합니다.\n",
    "- **참고:** 이 데이터는 체강 세포 이미지 데이터를 기반으로 하며, 구강 내 암세포(M)와 정상세포(B)의 기하학적 특성을 수치화한 자료입니다."
   ]
  },
  {
   "cell_type": "code",
   "execution_count": 1,
   "id": "48440342-4310-4c81-ad12-63476c692dde",
   "metadata": {},
   "outputs": [
    {
     "data": {
      "text/html": [
       "<div>\n",
       "<style scoped>\n",
       "    .dataframe tbody tr th:only-of-type {\n",
       "        vertical-align: middle;\n",
       "    }\n",
       "\n",
       "    .dataframe tbody tr th {\n",
       "        vertical-align: top;\n",
       "    }\n",
       "\n",
       "    .dataframe thead th {\n",
       "        text-align: right;\n",
       "    }\n",
       "</style>\n",
       "<table border=\"1\" class=\"dataframe\">\n",
       "  <thead>\n",
       "    <tr style=\"text-align: right;\">\n",
       "      <th></th>\n",
       "      <th>Image ID</th>\n",
       "      <th>Diagnosis</th>\n",
       "      <th>Mean Radius</th>\n",
       "      <th>Mean Perimeter</th>\n",
       "      <th>Mean Area</th>\n",
       "      <th>Mean Texture</th>\n",
       "      <th>Mean Smoothness</th>\n",
       "      <th>Mean Compactness</th>\n",
       "      <th>Mean Concavity</th>\n",
       "      <th>Mean Concave Points</th>\n",
       "      <th>...</th>\n",
       "      <th>SE Radius</th>\n",
       "      <th>SE Perimeter</th>\n",
       "      <th>SE Area</th>\n",
       "      <th>SE Texture</th>\n",
       "      <th>SE Smoothness</th>\n",
       "      <th>SE Compactness</th>\n",
       "      <th>SE Concavity</th>\n",
       "      <th>SE Concave Points</th>\n",
       "      <th>SE Symmetry</th>\n",
       "      <th>SE Fractal Dim</th>\n",
       "    </tr>\n",
       "  </thead>\n",
       "  <tbody>\n",
       "    <tr>\n",
       "      <th>0</th>\n",
       "      <td>842302</td>\n",
       "      <td>M</td>\n",
       "      <td>17.99</td>\n",
       "      <td>122.80</td>\n",
       "      <td>1001.0</td>\n",
       "      <td>10.38</td>\n",
       "      <td>0.12</td>\n",
       "      <td>0.27760</td>\n",
       "      <td>0.3001</td>\n",
       "      <td>0.1471</td>\n",
       "      <td>...</td>\n",
       "      <td>1.0950</td>\n",
       "      <td>8.589</td>\n",
       "      <td>153.40</td>\n",
       "      <td>0.9053</td>\n",
       "      <td>0.0064</td>\n",
       "      <td>0.0490</td>\n",
       "      <td>0.0537</td>\n",
       "      <td>0.0159</td>\n",
       "      <td>0.0300</td>\n",
       "      <td>0.0062</td>\n",
       "    </tr>\n",
       "    <tr>\n",
       "      <th>1</th>\n",
       "      <td>842517</td>\n",
       "      <td>M</td>\n",
       "      <td>20.57</td>\n",
       "      <td>132.90</td>\n",
       "      <td>1326.0</td>\n",
       "      <td>17.77</td>\n",
       "      <td>0.08</td>\n",
       "      <td>0.07864</td>\n",
       "      <td>0.0869</td>\n",
       "      <td>0.0702</td>\n",
       "      <td>...</td>\n",
       "      <td>0.5435</td>\n",
       "      <td>3.398</td>\n",
       "      <td>74.08</td>\n",
       "      <td>0.7339</td>\n",
       "      <td>0.0052</td>\n",
       "      <td>0.0131</td>\n",
       "      <td>0.0186</td>\n",
       "      <td>0.0134</td>\n",
       "      <td>0.0139</td>\n",
       "      <td>0.0035</td>\n",
       "    </tr>\n",
       "    <tr>\n",
       "      <th>2</th>\n",
       "      <td>84300903</td>\n",
       "      <td>M</td>\n",
       "      <td>19.69</td>\n",
       "      <td>130.00</td>\n",
       "      <td>1203.0</td>\n",
       "      <td>21.25</td>\n",
       "      <td>0.11</td>\n",
       "      <td>0.15990</td>\n",
       "      <td>0.1974</td>\n",
       "      <td>0.1279</td>\n",
       "      <td>...</td>\n",
       "      <td>0.7456</td>\n",
       "      <td>4.585</td>\n",
       "      <td>94.03</td>\n",
       "      <td>0.7869</td>\n",
       "      <td>0.0062</td>\n",
       "      <td>0.0401</td>\n",
       "      <td>0.0383</td>\n",
       "      <td>0.0206</td>\n",
       "      <td>0.0225</td>\n",
       "      <td>0.0046</td>\n",
       "    </tr>\n",
       "    <tr>\n",
       "      <th>3</th>\n",
       "      <td>84348301</td>\n",
       "      <td>M</td>\n",
       "      <td>11.42</td>\n",
       "      <td>77.58</td>\n",
       "      <td>386.1</td>\n",
       "      <td>20.38</td>\n",
       "      <td>0.14</td>\n",
       "      <td>0.28390</td>\n",
       "      <td>0.2414</td>\n",
       "      <td>0.1052</td>\n",
       "      <td>...</td>\n",
       "      <td>0.4956</td>\n",
       "      <td>3.445</td>\n",
       "      <td>27.23</td>\n",
       "      <td>1.1560</td>\n",
       "      <td>0.0091</td>\n",
       "      <td>0.0746</td>\n",
       "      <td>0.0566</td>\n",
       "      <td>0.0187</td>\n",
       "      <td>0.0596</td>\n",
       "      <td>0.0092</td>\n",
       "    </tr>\n",
       "    <tr>\n",
       "      <th>4</th>\n",
       "      <td>84358402</td>\n",
       "      <td>M</td>\n",
       "      <td>20.29</td>\n",
       "      <td>135.10</td>\n",
       "      <td>1297.0</td>\n",
       "      <td>14.34</td>\n",
       "      <td>0.10</td>\n",
       "      <td>0.13280</td>\n",
       "      <td>0.1980</td>\n",
       "      <td>0.1043</td>\n",
       "      <td>...</td>\n",
       "      <td>0.7572</td>\n",
       "      <td>5.438</td>\n",
       "      <td>94.44</td>\n",
       "      <td>0.7813</td>\n",
       "      <td>0.0115</td>\n",
       "      <td>0.0246</td>\n",
       "      <td>0.0569</td>\n",
       "      <td>0.0189</td>\n",
       "      <td>0.0176</td>\n",
       "      <td>0.0051</td>\n",
       "    </tr>\n",
       "  </tbody>\n",
       "</table>\n",
       "<p>5 rows × 32 columns</p>\n",
       "</div>"
      ],
      "text/plain": [
       "   Image ID Diagnosis  Mean Radius  Mean Perimeter  Mean Area  Mean Texture  \\\n",
       "0    842302         M        17.99          122.80     1001.0         10.38   \n",
       "1    842517         M        20.57          132.90     1326.0         17.77   \n",
       "2  84300903         M        19.69          130.00     1203.0         21.25   \n",
       "3  84348301         M        11.42           77.58      386.1         20.38   \n",
       "4  84358402         M        20.29          135.10     1297.0         14.34   \n",
       "\n",
       "   Mean Smoothness  Mean Compactness  Mean Concavity  Mean Concave Points  \\\n",
       "0             0.12           0.27760          0.3001               0.1471   \n",
       "1             0.08           0.07864          0.0869               0.0702   \n",
       "2             0.11           0.15990          0.1974               0.1279   \n",
       "3             0.14           0.28390          0.2414               0.1052   \n",
       "4             0.10           0.13280          0.1980               0.1043   \n",
       "\n",
       "   ...  SE Radius  SE Perimeter  SE Area  SE Texture  SE Smoothness  \\\n",
       "0  ...     1.0950         8.589   153.40      0.9053         0.0064   \n",
       "1  ...     0.5435         3.398    74.08      0.7339         0.0052   \n",
       "2  ...     0.7456         4.585    94.03      0.7869         0.0062   \n",
       "3  ...     0.4956         3.445    27.23      1.1560         0.0091   \n",
       "4  ...     0.7572         5.438    94.44      0.7813         0.0115   \n",
       "\n",
       "   SE Compactness  SE Concavity  SE Concave Points  SE Symmetry  \\\n",
       "0          0.0490        0.0537             0.0159       0.0300   \n",
       "1          0.0131        0.0186             0.0134       0.0139   \n",
       "2          0.0401        0.0383             0.0206       0.0225   \n",
       "3          0.0746        0.0566             0.0187       0.0596   \n",
       "4          0.0246        0.0569             0.0189       0.0176   \n",
       "\n",
       "   SE Fractal Dim  \n",
       "0          0.0062  \n",
       "1          0.0035  \n",
       "2          0.0046  \n",
       "3          0.0092  \n",
       "4          0.0051  \n",
       "\n",
       "[5 rows x 32 columns]"
      ]
     },
     "execution_count": 1,
     "metadata": {},
     "output_type": "execute_result"
    }
   ],
   "source": [
    "import pandas as pd\n",
    "df1 = pd.read_csv(\"Data/12_Data.csv\")\n",
    "df1.head()"
   ]
  },
  {
   "cell_type": "markdown",
   "id": "233c2813-e941-4a57-a1b6-910a55d0a628",
   "metadata": {},
   "source": [
    "# 2. 기술 통계량 확인\n",
    "- 이름에 \"Max\"가 포함된 컬럼들의 기술 통계량을 확인합니다."
   ]
  },
  {
   "cell_type": "code",
   "execution_count": 7,
   "id": "fbb1c16d-638a-471e-80ad-a46784ff6153",
   "metadata": {},
   "outputs": [
    {
     "name": "stdout",
     "output_type": "stream",
     "text": [
      "<class 'pandas.core.frame.DataFrame'>\n",
      "RangeIndex: 569 entries, 0 to 568\n",
      "Data columns (total 32 columns):\n",
      " #   Column               Non-Null Count  Dtype  \n",
      "---  ------               --------------  -----  \n",
      " 0   Image ID             569 non-null    int64  \n",
      " 1   Diagnosis            569 non-null    object \n",
      " 2   Mean Radius          569 non-null    float64\n",
      " 3   Mean Perimeter       569 non-null    float64\n",
      " 4   Mean Area            569 non-null    float64\n",
      " 5   Mean Texture         569 non-null    float64\n",
      " 6   Mean Smoothness      569 non-null    float64\n",
      " 7   Mean Compactness     569 non-null    float64\n",
      " 8   Mean Concavity       569 non-null    float64\n",
      " 9   Mean Concave Points  569 non-null    float64\n",
      " 10  Mean Symmetry        569 non-null    float64\n",
      " 11  Mean Fractal Dim     569 non-null    float64\n",
      " 12  Max Radius           569 non-null    float64\n",
      " 13  Max Perimeter        569 non-null    float64\n",
      " 14  Max Area             569 non-null    float64\n",
      " 15  Max Texture          569 non-null    float64\n",
      " 16  Max Smoothness       569 non-null    float64\n",
      " 17  Max Compactness      569 non-null    float64\n",
      " 18  Max Concavity        569 non-null    float64\n",
      " 19  Max Concave Points   569 non-null    float64\n",
      " 20  Max Symmetry         569 non-null    float64\n",
      " 21  Max Fractal Dim      569 non-null    float64\n",
      " 22  SE Radius            569 non-null    float64\n",
      " 23  SE Perimeter         569 non-null    float64\n",
      " 24  SE Area              569 non-null    float64\n",
      " 25  SE Texture           569 non-null    float64\n",
      " 26  SE Smoothness        569 non-null    float64\n",
      " 27  SE Compactness       569 non-null    float64\n",
      " 28  SE Concavity         569 non-null    float64\n",
      " 29  SE Concave Points    569 non-null    float64\n",
      " 30  SE Symmetry          569 non-null    float64\n",
      " 31  SE Fractal Dim       569 non-null    float64\n",
      "dtypes: float64(30), int64(1), object(1)\n",
      "memory usage: 142.4+ KB\n"
     ]
    }
   ],
   "source": [
    "df1.info()"
   ]
  },
  {
   "cell_type": "code",
   "execution_count": 9,
   "id": "ca05ca0c-28de-458e-9e6e-ca195e292008",
   "metadata": {},
   "outputs": [
    {
     "data": {
      "text/html": [
       "<div>\n",
       "<style scoped>\n",
       "    .dataframe tbody tr th:only-of-type {\n",
       "        vertical-align: middle;\n",
       "    }\n",
       "\n",
       "    .dataframe tbody tr th {\n",
       "        vertical-align: top;\n",
       "    }\n",
       "\n",
       "    .dataframe thead th {\n",
       "        text-align: right;\n",
       "    }\n",
       "</style>\n",
       "<table border=\"1\" class=\"dataframe\">\n",
       "  <thead>\n",
       "    <tr style=\"text-align: right;\">\n",
       "      <th></th>\n",
       "      <th>Max Radius</th>\n",
       "      <th>Max Perimeter</th>\n",
       "      <th>Max Area</th>\n",
       "      <th>Max Texture</th>\n",
       "      <th>Max Smoothness</th>\n",
       "      <th>Max Compactness</th>\n",
       "      <th>Max Concavity</th>\n",
       "      <th>Max Concave Points</th>\n",
       "      <th>Max Symmetry</th>\n",
       "      <th>Max Fractal Dim</th>\n",
       "    </tr>\n",
       "  </thead>\n",
       "  <tbody>\n",
       "    <tr>\n",
       "      <th>count</th>\n",
       "      <td>569.000000</td>\n",
       "      <td>569.000000</td>\n",
       "      <td>569.000000</td>\n",
       "      <td>569.000000</td>\n",
       "      <td>569.000000</td>\n",
       "      <td>569.000000</td>\n",
       "      <td>569.000000</td>\n",
       "      <td>569.000000</td>\n",
       "      <td>569.000000</td>\n",
       "      <td>569.000000</td>\n",
       "    </tr>\n",
       "    <tr>\n",
       "      <th>mean</th>\n",
       "      <td>16.269209</td>\n",
       "      <td>107.261213</td>\n",
       "      <td>880.583128</td>\n",
       "      <td>25.677223</td>\n",
       "      <td>0.132197</td>\n",
       "      <td>0.254253</td>\n",
       "      <td>0.272250</td>\n",
       "      <td>0.114745</td>\n",
       "      <td>0.290316</td>\n",
       "      <td>0.083989</td>\n",
       "    </tr>\n",
       "    <tr>\n",
       "      <th>std</th>\n",
       "      <td>4.833217</td>\n",
       "      <td>33.602542</td>\n",
       "      <td>569.356993</td>\n",
       "      <td>6.146258</td>\n",
       "      <td>0.023292</td>\n",
       "      <td>0.157357</td>\n",
       "      <td>0.208666</td>\n",
       "      <td>0.065767</td>\n",
       "      <td>0.062011</td>\n",
       "      <td>0.018185</td>\n",
       "    </tr>\n",
       "    <tr>\n",
       "      <th>min</th>\n",
       "      <td>7.930000</td>\n",
       "      <td>50.410000</td>\n",
       "      <td>185.200000</td>\n",
       "      <td>12.020000</td>\n",
       "      <td>0.070000</td>\n",
       "      <td>0.030000</td>\n",
       "      <td>0.000000</td>\n",
       "      <td>0.000000</td>\n",
       "      <td>0.160000</td>\n",
       "      <td>0.060000</td>\n",
       "    </tr>\n",
       "    <tr>\n",
       "      <th>25%</th>\n",
       "      <td>13.010000</td>\n",
       "      <td>84.110000</td>\n",
       "      <td>515.300000</td>\n",
       "      <td>21.080000</td>\n",
       "      <td>0.120000</td>\n",
       "      <td>0.150000</td>\n",
       "      <td>0.110000</td>\n",
       "      <td>0.060000</td>\n",
       "      <td>0.250000</td>\n",
       "      <td>0.070000</td>\n",
       "    </tr>\n",
       "    <tr>\n",
       "      <th>50%</th>\n",
       "      <td>14.970000</td>\n",
       "      <td>97.660000</td>\n",
       "      <td>686.500000</td>\n",
       "      <td>25.410000</td>\n",
       "      <td>0.130000</td>\n",
       "      <td>0.210000</td>\n",
       "      <td>0.230000</td>\n",
       "      <td>0.100000</td>\n",
       "      <td>0.280000</td>\n",
       "      <td>0.080000</td>\n",
       "    </tr>\n",
       "    <tr>\n",
       "      <th>75%</th>\n",
       "      <td>18.790000</td>\n",
       "      <td>125.400000</td>\n",
       "      <td>1084.000000</td>\n",
       "      <td>29.720000</td>\n",
       "      <td>0.150000</td>\n",
       "      <td>0.340000</td>\n",
       "      <td>0.380000</td>\n",
       "      <td>0.160000</td>\n",
       "      <td>0.320000</td>\n",
       "      <td>0.090000</td>\n",
       "    </tr>\n",
       "    <tr>\n",
       "      <th>max</th>\n",
       "      <td>36.040000</td>\n",
       "      <td>251.200000</td>\n",
       "      <td>4254.000000</td>\n",
       "      <td>49.540000</td>\n",
       "      <td>0.220000</td>\n",
       "      <td>1.060000</td>\n",
       "      <td>1.250000</td>\n",
       "      <td>0.290000</td>\n",
       "      <td>0.660000</td>\n",
       "      <td>0.210000</td>\n",
       "    </tr>\n",
       "  </tbody>\n",
       "</table>\n",
       "</div>"
      ],
      "text/plain": [
       "       Max Radius  Max Perimeter     Max Area  Max Texture  Max Smoothness  \\\n",
       "count  569.000000     569.000000   569.000000   569.000000      569.000000   \n",
       "mean    16.269209     107.261213   880.583128    25.677223        0.132197   \n",
       "std      4.833217      33.602542   569.356993     6.146258        0.023292   \n",
       "min      7.930000      50.410000   185.200000    12.020000        0.070000   \n",
       "25%     13.010000      84.110000   515.300000    21.080000        0.120000   \n",
       "50%     14.970000      97.660000   686.500000    25.410000        0.130000   \n",
       "75%     18.790000     125.400000  1084.000000    29.720000        0.150000   \n",
       "max     36.040000     251.200000  4254.000000    49.540000        0.220000   \n",
       "\n",
       "       Max Compactness  Max Concavity  Max Concave Points  Max Symmetry  \\\n",
       "count       569.000000     569.000000          569.000000    569.000000   \n",
       "mean          0.254253       0.272250            0.114745      0.290316   \n",
       "std           0.157357       0.208666            0.065767      0.062011   \n",
       "min           0.030000       0.000000            0.000000      0.160000   \n",
       "25%           0.150000       0.110000            0.060000      0.250000   \n",
       "50%           0.210000       0.230000            0.100000      0.280000   \n",
       "75%           0.340000       0.380000            0.160000      0.320000   \n",
       "max           1.060000       1.250000            0.290000      0.660000   \n",
       "\n",
       "       Max Fractal Dim  \n",
       "count       569.000000  \n",
       "mean          0.083989  \n",
       "std           0.018185  \n",
       "min           0.060000  \n",
       "25%           0.070000  \n",
       "50%           0.080000  \n",
       "75%           0.090000  \n",
       "max           0.210000  "
      ]
     },
     "execution_count": 9,
     "metadata": {},
     "output_type": "execute_result"
    }
   ],
   "source": [
    "cols = list(df1.columns)\n",
    "df1[cols[12:22]].describe()"
   ]
  },
  {
   "cell_type": "markdown",
   "id": "92f5d7c5-d426-4431-b660-d9d18bd408a2",
   "metadata": {},
   "source": [
    "# 3. 이상치 개수 계산\n",
    "- `Mean Radius(세포 평균 반지름)` 값 중, 전체 평균에서 표준편차의 3배 이상 벗어난 데이터의 개수를 구합니다."
   ]
  },
  {
   "cell_type": "code",
   "execution_count": 20,
   "id": "67859d12-5728-469a-a31f-1ac0223f23ae",
   "metadata": {},
   "outputs": [
    {
     "data": {
      "text/plain": [
       "5"
      ]
     },
     "execution_count": 20,
     "metadata": {},
     "output_type": "execute_result"
    }
   ],
   "source": [
    "outliers = df1[(df1[\"Mean Radius\"] > df1[\"Mean Radius\"].mean() + 3 * df1[\"Mean Radius\"].std()) |\n",
    "                (df1[\"Mean Radius\"] < df1[\"Mean Radius\"].mean() - 3 * df1[\"Mean Radius\"].std())]\n",
    "outliers.shape[0]"
   ]
  },
  {
   "cell_type": "markdown",
   "id": "58bcfeb0-56e6-452e-8cef-41d1e95d5aa5",
   "metadata": {},
   "source": [
    "# 4. 가설 검정 1: 진단에 따른 평균 반지름 차이\n",
    "- `Diagnosis`(진단: 암세포 vs. 정상세포)에 따라 `Mean Radius`의 대표값(예: 평균 또는 중앙값)에 차이가 있는지 가설 검정을 수행합니다."
   ]
  },
  {
   "cell_type": "markdown",
   "id": "fbbeb766-84bf-4bcd-8038-d2dd0d925193",
   "metadata": {},
   "source": [
    "H0 : Diagnosis(진단: 암세포 vs. 정상세포)에 따라 Mean Radius의 대표값(예: 평균 또는 중앙값)에 차이가 없다  \n",
    "H1 : Diagnosis에 따라 Mean Radius의 대표값에 차이가 있다"
   ]
  },
  {
   "cell_type": "code",
   "execution_count": 21,
   "id": "01bdd1c2-a404-49d7-ae5d-60952e296dec",
   "metadata": {},
   "outputs": [
    {
     "data": {
      "text/plain": [
       "array(['M', 'B'], dtype=object)"
      ]
     },
     "execution_count": 21,
     "metadata": {},
     "output_type": "execute_result"
    }
   ],
   "source": [
    "df1[\"Diagnosis\"].unique()"
   ]
  },
  {
   "cell_type": "code",
   "execution_count": 27,
   "id": "d4c0a34c-030f-438c-88c2-8ed28f6055ff",
   "metadata": {},
   "outputs": [],
   "source": [
    "class1 = df1[df1[\"Diagnosis\"] == \"M\"][\"Mean Radius\"]\n",
    "class2 = df1[df1[\"Diagnosis\"] == \"B\"][\"Mean Radius\"]"
   ]
  },
  {
   "cell_type": "code",
   "execution_count": 28,
   "id": "6c9f443e-d880-4100-a397-28abcb5b67b6",
   "metadata": {},
   "outputs": [
    {
     "data": {
      "image/png": "[encoded data removed]",
      "text/plain": [
       "<Figure size 640x480 with 1 Axes>"
      ]
     },
     "metadata": {},
     "output_type": "display_data"
    }
   ],
   "source": [
    "import numpy as np\n",
    "import matplotlib.pyplot as plt\n",
    "import scipy.stats as stats\n",
    "import koreanize_matplotlib\n",
    "\n",
    "plt.hist(class1, alpha = 0.5, bins = \"auto\", edgecolor = \"black\")\n",
    "plt.hist(class2, alpha = 0.5, bins = \"auto\", edgecolor = \"black\")\n",
    "plt.legend([\"class1\", \"class2\"])\n",
    "plt.show()"
   ]
  },
  {
   "cell_type": "code",
   "execution_count": 31,
   "id": "8e862798-857d-4d0d-a03a-756b1517cea9",
   "metadata": {},
   "outputs": [
    {
     "name": "stdout",
     "output_type": "stream",
     "text": [
      "ShapiroResult(statistic=0.9776597278513985, pvalue=0.0018945730576488433)\n",
      "ShapiroResult(statistic=0.9966646824573794, pvalue=0.6709533998638375)\n"
     ]
    }
   ],
   "source": [
    "# 정규성 검정 - 샤피로 윌크 테스트\n",
    "print(stats.shapiro(class1))\n",
    "print(stats.shapiro(class2))\n",
    "\n",
    "# class2는 p > 0.05 => 정규분포 따르나,  class1는 정규분포 따르지 x."
   ]
  },
  {
   "cell_type": "code",
   "execution_count": 32,
   "id": "25b19d8e-d6f4-4089-bbee-49e7e0b1fe4b",
   "metadata": {},
   "outputs": [
    {
     "data": {
      "text/plain": [
       "MannwhitneyuResult(statistic=70955.0, pvalue=2.6928488423482514e-68)"
      ]
     },
     "execution_count": 32,
     "metadata": {},
     "output_type": "execute_result"
    }
   ],
   "source": [
    "# 맨 휘트니 U 검정: 두 집단의 중앙값으로 차이 비교\n",
    "\n",
    "stats.mannwhitneyu(class1, class2)\n",
    "# p < 0.05  =>  귀무가설 기각. 두 집단의 대표값에 차이가 있다 "
   ]
  },
  {
   "cell_type": "markdown",
   "id": "b88b3398-c4d5-4732-9bb8-89dffb6553ba",
   "metadata": {},
   "source": [
    "# 5. 가설 검정 2: 두 변수 간 상관 관계\n",
    "- `Mean Radius`와 `Mean Smoothness`(세포 평균 곡률/매끄러움 정도) 간의 상관 관계를 검정하고, 상관 계수를 계산합니다."
   ]
  },
  {
   "cell_type": "code",
   "execution_count": 37,
   "id": "3dc5ca65-4cc7-415a-98f5-5a38f41526f6",
   "metadata": {},
   "outputs": [],
   "source": [
    "X = df1[\"Mean Radius\"]\n",
    "Y = df1[\"Mean Smoothness\"]"
   ]
  },
  {
   "cell_type": "code",
   "execution_count": 38,
   "id": "518b40a4-4aef-45c5-a340-37aec18def13",
   "metadata": {},
   "outputs": [
    {
     "name": "stdout",
     "output_type": "stream",
     "text": [
      "ShapiroResult(statistic=0.9410492796418057, pvalue=3.086457095215049e-14)\n",
      "ShapiroResult(statistic=0.9516884036590084, pvalue=1.0845622190340562e-12)\n",
      "PearsonRResult(statistic=0.14710904224485516, pvalue=0.00043064807613751486)\n"
     ]
    },
    {
     "data": {
      "image/png": "[encoded data removed]",
      "text/plain": [
       "<Figure size 640x480 with 1 Axes>"
      ]
     },
     "metadata": {},
     "output_type": "display_data"
    }
   ],
   "source": [
    "import matplotlib.pyplot as plt\n",
    "import koreanize_matplotlib\n",
    "import scipy.stats as stats\n",
    "from scipy.stats import pearsonr\n",
    "\n",
    "print(stats.shapiro(X))\n",
    "print(stats.shapiro(Y))\n",
    "\n",
    "print(pearsonr(X, Y))\n",
    "\n",
    "plt.scatter(X, Y)\n",
    "plt.grid()\n",
    "plt.show()\n",
    "\n",
    "# shapiro 결과 ; 둘다 0.05보다 크므로 정규성을 띤다\n",
    "# pearson 결과 ; 두 변수 간 상관관계가 없고(상관계수 0.15), 유의성을 따른다 "
   ]
  },
  {
   "cell_type": "code",
   "execution_count": 41,
   "id": "d5e70e66-408c-4461-a1be-4f3e059cd011",
   "metadata": {},
   "outputs": [
    {
     "name": "stdout",
     "output_type": "stream",
     "text": [
      "SignificanceResult(statistic=0.125935259003714, pvalue=0.002617573533346598)\n"
     ]
    }
   ],
   "source": [
    "from scipy.stats import spearmanr\n",
    "\n",
    "print(spearmanr(X, Y))\n",
    "\n",
    "# spearman 결과 ; 두 변수 간 상관관계가 없고(상관계수 0.13), 유의성을 따른다 "
   ]
  },
  {
   "cell_type": "markdown",
   "id": "9a61a381-9cec-4f78-8227-790c0fbd60ba",
   "metadata": {},
   "source": [
    "# 6. 정규성 검정 및 시각화\n",
    "- 이름에 'Mean'이 포함된 모든 컬럼에 대해 정규성 검정을 실시합니다.\n",
    "- 정규분포를 따르는 컬럼들을 대상으로 히스토그램을 시각화합니다"
   ]
  },
  {
   "cell_type": "code",
   "execution_count": 47,
   "id": "613384b4-5661-4ecc-8e16-1ca43df38f0e",
   "metadata": {},
   "outputs": [
    {
     "data": {
      "text/plain": [
       "['Mean Radius',\n",
       " 'Mean Perimeter',\n",
       " 'Mean Area',\n",
       " 'Mean Texture',\n",
       " 'Mean Smoothness',\n",
       " 'Mean Compactness',\n",
       " 'Mean Concavity',\n",
       " 'Mean Concave Points',\n",
       " 'Mean Symmetry',\n",
       " 'Mean Fractal Dim']"
      ]
     },
     "execution_count": 47,
     "metadata": {},
     "output_type": "execute_result"
    }
   ],
   "source": [
    "mean_cols = [col for col in df1.columns if 'Mean' in col]\n",
    "mean_cols"
   ]
  },
  {
   "cell_type": "code",
   "execution_count": 48,
   "id": "cef5fa2d-267a-4293-b20a-67bd9f33746d",
   "metadata": {},
   "outputs": [
    {
     "name": "stdout",
     "output_type": "stream",
     "text": [
      "Mean Radius: p-value = 0.0000\n",
      "Mean Perimeter: p-value = 0.0000\n",
      "Mean Area: p-value = 0.0000\n",
      "Mean Texture: p-value = 0.0000\n",
      "Mean Smoothness: p-value = 0.0000\n",
      "Mean Compactness: p-value = 0.0000\n",
      "Mean Concavity: p-value = 0.0000\n",
      "Mean Concave Points: p-value = 0.0000\n",
      "Mean Symmetry: p-value = 0.0000\n",
      "Mean Fractal Dim: p-value = 0.0000\n"
     ]
    }
   ],
   "source": [
    "normal_cols = []\n",
    "for col in mean_cols:\n",
    "    stat, p = shapiro(df1[col])\n",
    "    print(f\"{col}: p-value = {p:.4f}\")\n",
    "    if p > 0.05:\n",
    "        normal_cols.append(col)\n",
    "\n",
    "# 이름에 'Mean'이 포함된 칼럼들 중 정규분포를 따르는 칼럼이 존재하지 않음."
   ]
  },
  {
   "cell_type": "markdown",
   "id": "7662fdae-421e-4729-8302-f2087ad722f7",
   "metadata": {},
   "source": [
    "# 7. 분류 모델 생성 & 8. 모델 성능 평가\n",
    "- **목표:** 세포의 기하학적 특성을 입력받아 암세포와 정상세포를 분류하는 성능 좋은 모델 생성\n",
    "- **입력 변수(X):** 이름에 'Mean'이 포함된 모든 컬럼\n",
    "- **목표 변수(Y):** `Diagnosis`\n",
    "- **알고리즘:** 분류 모델\n",
    "- **데이터 분할:** 학습 데이터와 검증 데이터의 비율을 75% : 25%로 분리\n",
    "- **모델 저장:** 생성한 모델을 `model_cell.sav`로 저장\n",
    "\n",
    "- Accuracy, Recall, Precision, F1 Score 등 다양한 지표를 활용하여 분류 모델의 성능을 평가합니다."
   ]
  },
  {
   "cell_type": "code",
   "execution_count": 80,
   "id": "73f6c68d-3a76-48ea-b4d1-3dfb8863a68f",
   "metadata": {},
   "outputs": [
    {
     "name": "stdout",
     "output_type": "stream",
     "text": [
      "LogisticRegression: 평균 정확도 = 0.9342\n",
      "RandomForest: 평균 정확도 = 0.9483\n",
      "XGBoost: 평균 정확도 = 0.9436\n",
      "SVM: 평균 정확도 = 0.9342\n",
      "KNN: 평균 정확도 = 0.9460\n"
     ]
    }
   ],
   "source": [
    "import pandas as pd\n",
    "import numpy as np\n",
    "from sklearn.model_selection import train_test_split, cross_val_score\n",
    "from sklearn.preprocessing import LabelEncoder, StandardScaler\n",
    "from sklearn.metrics import accuracy_score, f1_score, classification_report\n",
    "from sklearn.linear_model import LogisticRegression\n",
    "from sklearn.ensemble import RandomForestClassifier\n",
    "from sklearn.svm import SVC\n",
    "from sklearn.neighbors import KNeighborsClassifier\n",
    "from xgboost import XGBClassifier\n",
    "import joblib\n",
    "import seaborn as sns\n",
    "import matplotlib.pyplot as plt\n",
    "import warnings\n",
    "warnings.filterwarnings(action='ignore')\n",
    "\n",
    "mean_cols = [col for col in df1.columns if 'Mean' in col]\n",
    "X = df1[mean_cols]\n",
    "Y = LabelEncoder().fit_transform(df1['Diagnosis'])  # M=1, B=0\n",
    "\n",
    "scaler = StandardScaler()\n",
    "X_scaled = scaler.fit_transform(X)\n",
    "\n",
    "train_x, test_x, train_y, test_y = train_test_split(X_scaled, Y, test_size=0.25, random_state=42, stratify=Y)\n",
    "\n",
    "models = {\n",
    "    'LogisticRegression': LogisticRegression(max_iter=1000),\n",
    "    'RandomForest': RandomForestClassifier(random_state=42),\n",
    "    'XGBoost': XGBClassifier(use_label_encoder=False, eval_metric='logloss'),\n",
    "    'SVM': SVC(),\n",
    "    'KNN': KNeighborsClassifier()\n",
    "}\n",
    "\n",
    "results = []\n",
    "best_model = None\n",
    "best_score = 0\n",
    "\n",
    "# 교차검증 결과\n",
    "for name, model in models.items():\n",
    "    scores = cross_val_score(model, train_x, train_y, cv=5, scoring='accuracy')\n",
    "    mean_score = scores.mean()\n",
    "    print(f\"{name}: 평균 정확도 = {mean_score:.4f}\")\n",
    "    \n",
    "    if mean_score > best_score:\n",
    "        best_score = mean_score\n",
    "        best_model = model\n",
    "\n",
    "    results.append({'Model': name, 'Accuracy': mean_score})"
   ]
  },
  {
   "cell_type": "code",
   "execution_count": 81,
   "id": "6555c613-5bd2-4dab-8c74-65eb3f399661",
   "metadata": {},
   "outputs": [
    {
     "name": "stdout",
     "output_type": "stream",
     "text": [
      "Accuracy: 0.9300699300699301\n",
      "F1 Score: 0.9019607843137255\n"
     ]
    }
   ],
   "source": [
    "best_model.fit(train_x, train_y)\n",
    "pred = best_model.predict(test_x)\n",
    "\n",
    "# 테스트셋 평가 결과\n",
    "print(\"Accuracy:\", accuracy_score(test_y, pred))\n",
    "print(\"F1 Score:\", f1_score(test_y, pred))"
   ]
  },
  {
   "cell_type": "code",
   "execution_count": 82,
   "id": "cf73ad63-3358-424d-8955-891c136c0f3b",
   "metadata": {},
   "outputs": [
    {
     "name": "stdout",
     "output_type": "stream",
     "text": [
      "              precision    recall  f1-score   support\n",
      "\n",
      "      Benign       0.93      0.97      0.95        90\n",
      "   Malignant       0.94      0.87      0.90        53\n",
      "\n",
      "    accuracy                           0.93       143\n",
      "   macro avg       0.93      0.92      0.92       143\n",
      "weighted avg       0.93      0.93      0.93       143\n",
      "\n"
     ]
    },
    {
     "data": {
      "image/png": "[encoded data removed]",
      "text/plain": [
       "<Figure size 800x500 with 1 Axes>"
      ]
     },
     "metadata": {},
     "output_type": "display_data"
    },
    {
     "data": {
      "text/plain": [
       "['model_cell.sav']"
      ]
     },
     "execution_count": 82,
     "metadata": {},
     "output_type": "execute_result"
    }
   ],
   "source": [
    "# Classification Report\n",
    "print(classification_report(test_y, pred, target_names=['Benign', 'Malignant']))\n",
    "\n",
    "df_results = pd.DataFrame(results).sort_values(by='Accuracy', ascending=False)\n",
    "\n",
    "plt.figure(figsize=(8,5))\n",
    "sns.barplot(x='Accuracy', y='Model', data=df_results, palette='viridis')\n",
    "plt.title(\"Model Accuracy Comparison\")\n",
    "plt.xlim(0.9, 1.0)\n",
    "plt.show()\n",
    "\n",
    "joblib.dump(best_model, 'model_cell.sav')"
   ]
  },
  {
   "cell_type": "code",
   "execution_count": null,
   "id": "19afd24b-509d-4128-9603-b52534e4e884",
   "metadata": {},
   "outputs": [],
   "source": []
  },
  {
   "cell_type": "code",
   "execution_count": 83,
   "id": "7db7c9ec-29fb-4154-9d96-54f573803493",
   "metadata": {},
   "outputs": [
    {
     "name": "stdout",
     "output_type": "stream",
     "text": [
      "Accuracy : 0.9300699300699301\n",
      "Precision: 0.9387755102040817\n",
      "Recall   : 0.8679245283018868\n",
      "F1 Score : 0.9019607843137255\n"
     ]
    }
   ],
   "source": [
    "from sklearn.metrics import precision_score, recall_score\n",
    "\n",
    "print(\"Accuracy :\", accuracy_score(test_y, pred))\n",
    "print(\"Precision:\", precision_score(test_y, pred))\n",
    "print(\"Recall   :\", recall_score(test_y, pred))\n",
    "print(\"F1 Score :\", f1_score(test_y, pred))"
   ]
  },
  {
   "cell_type": "markdown",
   "id": "62b6d56b-bb3e-411c-966c-ae81abf0bc05",
   "metadata": {},
   "source": [
    "# 9. Precision-Recall Curve 시각화 및 최적 Threshold 계산\n",
    "- 분류 모델의 Precision과 Recall Curve를 시각화합니다.\n",
    "- 이를 통해 최적의 Threshold 값을 산출합니다."
   ]
  },
  {
   "cell_type": "code",
   "execution_count": 84,
   "id": "4ee75ef6-7b30-4253-a0e5-4e254ee61b3e",
   "metadata": {},
   "outputs": [
    {
     "name": "stdout",
     "output_type": "stream",
     "text": [
      "최적 Threshold: 0.4300\n",
      "최고 F1 Score: 0.9333\n"
     ]
    }
   ],
   "source": [
    "from sklearn.metrics import precision_recall_curve\n",
    "from sklearn.metrics import auc\n",
    "\n",
    "if hasattr(best_model, \"predict_proba\"):\n",
    "    pred_proba = best_model.predict_proba(test_x)[:, 1]\n",
    "else:\n",
    "    pred_proba = best_model.decision_function(test_x)\n",
    "\n",
    "# Precision-Recall\n",
    "precision, recall, thresholds = precision_recall_curve(test_y, pred_proba)\n",
    "\n",
    "# F1\n",
    "f1_scores = 2 * (precision * recall) / (precision + recall + 1e-10)\n",
    "best_threshold = thresholds[np.argmax(f1_scores)]\n",
    "\n",
    "print(f\"최적 Threshold: {best_threshold:.4f}\")\n",
    "print(f\"최고 F1 Score: {max(f1_scores):.4f}\")"
   ]
  },
  {
   "cell_type": "code",
   "execution_count": 85,
   "id": "64844bfe-66b8-456e-9d71-01578ce8dea3",
   "metadata": {},
   "outputs": [
    {
     "data": {
      "image/png": "[encoded data removed]",
      "text/plain": [
       "<Figure size 800x600 with 1 Axes>"
      ]
     },
     "metadata": {},
     "output_type": "display_data"
    }
   ],
   "source": [
    "# F1 vs Threshold 그래프\n",
    "plt.figure(figsize=(8,6))\n",
    "plt.plot(thresholds, f1_scores[:-1], label=\"F1 Score\")\n",
    "plt.axvline(x=best_threshold, color='red', linestyle='--', label=f\"Best Threshold: {best_threshold:.4f}\")\n",
    "plt.xlabel(\"Threshold\")\n",
    "plt.ylabel(\"F1 Score\")\n",
    "plt.title(\"F1 Score vs Threshold\")\n",
    "plt.legend()\n",
    "plt.grid()\n",
    "plt.show()"
   ]
  },
  {
   "cell_type": "code",
   "execution_count": 86,
   "id": "d4a07e6f-94e4-4270-bbad-24f5b82d9086",
   "metadata": {},
   "outputs": [
    {
     "data": {
      "image/png": "[encoded data removed]",
      "text/plain": [
       "<Figure size 800x600 with 1 Axes>"
      ]
     },
     "metadata": {},
     "output_type": "display_data"
    }
   ],
   "source": [
    "# Precision-Recall Curve\n",
    "plt.figure(figsize=(8,6))\n",
    "plt.plot(recall, precision, label=f\"PR Curve (AUC={auc(recall, precision):.4f})\")\n",
    "plt.xlabel(\"Recall\")\n",
    "plt.ylabel(\"Precision\")\n",
    "plt.title(\"Precision-Recall Curve\")\n",
    "plt.legend()\n",
    "plt.grid()\n",
    "plt.show()"
   ]
  },
  {
   "cell_type": "markdown",
   "id": "bd6bc581-2381-43e7-90d4-8df886f3210d",
   "metadata": {},
   "source": [
    "# 10. ROC 곡선 및 AUC 계산\n",
    "- 앞서 계산한 최적의 Threshold를 적용하여 테스트 셋을 분류합니다.\n",
    "- ROC 곡선을 시각화하고 AUC 값을 계산하여 모델의 성능을 최종 평가합니다."
   ]
  },
  {
   "cell_type": "code",
   "execution_count": 87,
   "id": "155df78a-6f7d-43cb-8b7e-c03aaaf35b71",
   "metadata": {},
   "outputs": [
    {
     "data": {
      "image/png": "[encoded data removed]",
      "text/plain": [
       "<Figure size 800x600 with 1 Axes>"
      ]
     },
     "metadata": {},
     "output_type": "display_data"
    }
   ],
   "source": [
    "from sklearn.metrics import roc_curve, roc_auc_score\n",
    "\n",
    "pred_opt = (pred_proba >= best_threshold).astype(int)\n",
    "\n",
    "# ROC Curve\n",
    "fpr, tpr, _ = roc_curve(test_y, pred_proba)\n",
    "roc_auc = roc_auc_score(test_y, pred_proba)\n",
    "\n",
    "plt.figure(figsize=(8,6))\n",
    "plt.plot(fpr, tpr, label=f\"ROC Curve (AUC = {roc_auc:.4f})\")\n",
    "plt.plot([0, 1], [0, 1], linestyle='--', color='gray')\n",
    "plt.xlabel(\"False Positive Rate\")\n",
    "plt.ylabel(\"True Positive Rate\")\n",
    "plt.title(\"ROC Curve\")\n",
    "plt.legend()\n",
    "plt.grid()\n",
    "plt.show()"
   ]
  },
  {
   "cell_type": "code",
   "execution_count": 88,
   "id": "a9a54373-dda7-4b3c-87e8-e46429f70920",
   "metadata": {},
   "outputs": [
    {
     "name": "stdout",
     "output_type": "stream",
     "text": [
      "Accuracy : 0.951048951048951\n",
      "Precision: 0.9423076923076923\n",
      "Recall   : 0.9245283018867925\n",
      "F1 Score : 0.9333333333333333\n",
      "ROC AUC  : 0.9851153039832284\n"
     ]
    }
   ],
   "source": [
    "# 최적 Threshold 적용 후 성능\n",
    "print(\"Accuracy :\", accuracy_score(test_y, pred_opt))\n",
    "print(\"Precision:\", precision_score(test_y, pred_opt))\n",
    "print(\"Recall   :\", recall_score(test_y, pred_opt))\n",
    "print(\"F1 Score :\", f1_score(test_y, pred_opt))\n",
    "print(\"ROC AUC  :\", roc_auc)"
   ]
  },
  {
   "cell_type": "code",
   "execution_count": null,
   "id": "4f3d864b-675e-40e5-bbdb-e7f534f8b2c6",
   "metadata": {},
   "outputs": [],
   "source": []
  },
  {
   "cell_type": "code",
   "execution_count": null,
   "id": "367a1387-1568-4f3f-8756-cd36d9b4d947",
   "metadata": {},
   "outputs": [],
   "source": []
  }
 ],
 "metadata": {
  "kernelspec": {
   "display_name": "Python 3 (ipykernel)",
   "language": "python",
   "name": "python3"
  },
  "language_info": {
   "codemirror_mode": {
    "name": "ipython",
    "version": 3
   },
   "file_extension": ".py",
   "mimetype": "text/x-python",
   "name": "python",
   "nbconvert_exporter": "python",
   "pygments_lexer": "ipython3",
   "version": "3.12.7"
  }
 },
 "nbformat": 4,
 "nbformat_minor": 5
}
