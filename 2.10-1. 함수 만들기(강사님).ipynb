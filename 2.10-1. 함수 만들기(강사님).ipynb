{
 "cells": [
  {
   "cell_type": "markdown",
   "id": "f37326ab-e70e-4063-a512-7f76acda1e35",
   "metadata": {},
   "source": [
    "# 함수란?\n",
    "* 함수(function) 는 재사용 가능한 코드 블록입니다.\n",
    "* 특정 작업(기능)을 수행하는 코드들을 묶어 놓음으로써,\n",
    "    * 재사용성(코드를 여러 곳에서 반복해서 사용 가능),\n",
    "    * 가독성(코드 구조가 명확해짐),\n",
    "    * 유지보수(한 곳만 수정해도 전체가 반영됨)\n",
    "\n",
    "파이썬에서 함수를 정의할 때는 def 키워드를 사용합니다."
   ]
  },
  {
   "cell_type": "markdown",
   "id": "44fb1804-3e3d-4603-af2b-e8b0f22f4702",
   "metadata": {},
   "source": [
    "## 1. 함수의 기본 구조\n",
    "* 함수 정의(Declaration)\n",
    "    * def 키워드로 시작하고, 함수 이름 뒤에 괄호 ( )와 콜론 :으로 정의를 마칩니다.\n",
    "    * 들여쓰기(Indentation)로 함수의 코드 블록을 구분합니다.\n",
    "    * 반환값이 필요하면 return 키워드를 사용합니다. (필요 없으면 return 생략 가능)\n",
    "\n",
    "```\n",
    "def 함수이름(매개변수1, 매개변수2, ...):\n",
    "    # 함수가 수행할 문장들\n",
    "    # 필요하다면 return 결과값\n",
    "```\n",
    "\n",
    "* 함수 호출(Call)\n",
    "    * 정의된 함수를 실제로 사용(실행)할 때는 함수 이름 뒤에 괄호를 써서 호출합니다.\n",
    " \n",
    "```\n",
    "함수이름(인자1, 인자2, ...)\n",
    "```"
   ]
  },
  {
   "cell_type": "markdown",
   "id": "14a2b0b8-61a2-4e10-950e-2dec8898e888",
   "metadata": {},
   "source": [
    "* 매개변수와 반환값이 없는 함수"
   ]
  },
  {
   "cell_type": "code",
   "execution_count": 1,
   "id": "b218fa2a-c64f-42e8-a75a-f0178d248fea",
   "metadata": {},
   "outputs": [
    {
     "name": "stdout",
     "output_type": "stream",
     "text": [
      "Hello, Python!\n"
     ]
    }
   ],
   "source": [
    "def say_hello():\n",
    "    print(\"Hello, Python!\")\n",
    "\n",
    "# 함수 호출\n",
    "say_hello()"
   ]
  },
  {
   "cell_type": "markdown",
   "id": "c80a9a84-045a-4e7c-9ee9-f6e803b16bd7",
   "metadata": {},
   "source": [
    "* 매개변수는 있지만, 반환값이 없는 함수"
   ]
  },
  {
   "cell_type": "code",
   "execution_count": 2,
   "id": "ca31d41c-0e77-4f6e-9462-7a056726b528",
   "metadata": {},
   "outputs": [
    {
     "name": "stdout",
     "output_type": "stream",
     "text": [
      "안녕하세요, 홍길동님!\n",
      "안녕하세요, Alice님!\n"
     ]
    }
   ],
   "source": [
    "def greet(name):\n",
    "    print(f\"안녕하세요, {name}님!\")\n",
    "\n",
    "greet(\"홍길동\")\n",
    "greet(\"Alice\")"
   ]
  },
  {
   "cell_type": "markdown",
   "id": "59b3fc4d-3617-409b-a2af-1f3200d65370",
   "metadata": {},
   "source": [
    "* 반환값이 있는 함수"
   ]
  },
  {
   "cell_type": "code",
   "execution_count": 3,
   "id": "ace3c95d-b831-408f-adce-e72ec7979d46",
   "metadata": {},
   "outputs": [
    {
     "name": "stdout",
     "output_type": "stream",
     "text": [
      "8\n"
     ]
    }
   ],
   "source": [
    "def add(a, b):\n",
    "    return a + b  # a와 b의 합을 반환\n",
    "\n",
    "result = add(3, 5)\n",
    "print(result)  # 8"
   ]
  },
  {
   "cell_type": "markdown",
   "id": "67c640fc-043d-4752-8cfe-ea4e27f524d8",
   "metadata": {},
   "source": [
    "* 여러 개의 값을 반환하기\n",
    "    * 파이썬에서는 한 번에 여러 값을 반환할 수 있습니다.\n",
    "    * 튜플 형태로 묶여 반환됩니다."
   ]
  },
  {
   "cell_type": "code",
   "execution_count": 4,
   "id": "64e02a3d-6e93-40b8-899a-421a3b37d1c2",
   "metadata": {},
   "outputs": [
    {
     "name": "stdout",
     "output_type": "stream",
     "text": [
      "(15, 5, 50, 2.0)\n",
      "15 5 50 2.0\n"
     ]
    }
   ],
   "source": [
    "def calc(a, b):\n",
    "    return a+b, a-b, a*b, a/b  # 4개 값 반환\n",
    "\n",
    "result_tuple = calc(10, 5)\n",
    "print(result_tuple)   # (15, 5, 50, 2.0)\n",
    "\n",
    "# 언패킹(unpacking)을 사용해 개별 변수로 받기\n",
    "add_val, sub_val, mul_val, div_val = calc(10, 5)\n",
    "print(add_val, sub_val, mul_val, div_val)  # 15 5 50 2.0"
   ]
  },
  {
   "cell_type": "markdown",
   "id": "0651f2ff-27f8-4470-bf9a-a45b551b6f87",
   "metadata": {},
   "source": [
    "* 기본값 매개변수(Default Parameter): 매개변수에 기본값을 지정해 두면, 함수 호출 시 해당 매개변수를 생략할 수 있습니다."
   ]
  },
  {
   "cell_type": "code",
   "execution_count": 5,
   "id": "45a3e423-a26a-45b1-9134-c67d77e8af33",
   "metadata": {},
   "outputs": [
    {
     "name": "stdout",
     "output_type": "stream",
     "text": [
      "이름: 홍길동, 나이: 20\n",
      "이름: Alice, 나이: 25\n"
     ]
    }
   ],
   "source": [
    "def introduce(name, age=20):\n",
    "    print(f\"이름: {name}, 나이: {age}\")\n",
    "\n",
    "introduce(\"홍길동\")           # 이름: 홍길동, 나이: 20\n",
    "introduce(\"Alice\", age=25)   # 이름: Alice, 나이: 25"
   ]
  },
  {
   "cell_type": "markdown",
   "id": "d15ad488-47c1-4ff2-89a0-92c453233f64",
   "metadata": {},
   "source": [
    "* 키워드 인자(Keyword Argument): 인자 순서가 헷갈리지 않도록, 매개변수 이름을 명시해서 함수를 호출할 수 있습니다."
   ]
  },
  {
   "cell_type": "code",
   "execution_count": 6,
   "id": "43a5d24b-8780-4b73-91fe-3ba29e77c82a",
   "metadata": {},
   "outputs": [
    {
     "name": "stdout",
     "output_type": "stream",
     "text": [
      "Alice님, 안녕하세요\n",
      "홍길동님, 반갑습니다\n"
     ]
    }
   ],
   "source": [
    "def greet(name, message):\n",
    "    print(f\"{name}님, {message}\")\n",
    "\n",
    "# 일반적인 순서 호출\n",
    "greet(\"Alice\", \"안녕하세요\")\n",
    "\n",
    "# 키워드 인자를 이용한 호출\n",
    "greet(message=\"반갑습니다\", name=\"홍길동\")"
   ]
  },
  {
   "cell_type": "markdown",
   "id": "417f3e2f-985e-44dd-8165-0334d667e69e",
   "metadata": {},
   "source": [
    "* 가변 인자(*args): 함수가 얼마나 많은 인자를 받을지 모를 때, *args를 사용해 가변 인자를 처리할 수 있습니다."
   ]
  },
  {
   "cell_type": "code",
   "execution_count": 7,
   "id": "36dcc74f-392a-4251-8dae-39a8a8b62691",
   "metadata": {},
   "outputs": [
    {
     "name": "stdout",
     "output_type": "stream",
     "text": [
      "6\n",
      "30\n"
     ]
    }
   ],
   "source": [
    "def sum_numbers(*args):\n",
    "    total = 0\n",
    "    for num in args:\n",
    "        total += num\n",
    "    return total\n",
    "\n",
    "print(sum_numbers(1, 2, 3))        # 6\n",
    "print(sum_numbers(4, 5, 6, 7, 8))  # 30"
   ]
  },
  {
   "cell_type": "markdown",
   "id": "02ea91f4-11a4-4624-996c-db2e2f77925e",
   "metadata": {},
   "source": [
    "* 가변 키워드 인자(**kwargs): **kwargs를 사용하면, 키워드 인자들을 딕셔너리 형태로 전달받을 수 있습니다."
   ]
  },
  {
   "cell_type": "code",
   "execution_count": 8,
   "id": "8598a968-f2ef-4b08-8b6e-206223fe597a",
   "metadata": {},
   "outputs": [
    {
     "name": "stdout",
     "output_type": "stream",
     "text": [
      "name : 홍길동\n",
      "age : 30\n",
      "job : 프로그래머\n"
     ]
    }
   ],
   "source": [
    "def print_user_info(**kwargs):\n",
    "    for key, value in kwargs.items():\n",
    "        print(key, \":\", value)\n",
    "\n",
    "print_user_info(name=\"홍길동\", age=30, job=\"프로그래머\")\n",
    "# name : 홍길동\n",
    "# age : 30\n",
    "# job : 프로그래머"
   ]
  },
  {
   "cell_type": "markdown",
   "id": "8a0d1429-0a4e-4c4c-b6a7-ea0c9a32621d",
   "metadata": {},
   "source": [
    "## 2. 함수의 스코프(Scope)\n",
    "* 지역 변수(Local Variable) : 함수 내부에서 선언된 변수. 함수 내부에서만 유효합니다.\n",
    "* 전역 변수(Global Variable) : 함수 외부에서 선언된 변수. 모든 함수에서 접근 가능(단, 함수 안에서 값을 변경하려면 global 키워드 사용해야 함)."
   ]
  },
  {
   "cell_type": "code",
   "execution_count": 9,
   "id": "b4ea23d9-6b32-4a4b-8326-10311d36bffe",
   "metadata": {},
   "outputs": [
    {
     "name": "stdout",
     "output_type": "stream",
     "text": [
      "함수 내부 x: 5\n",
      "함수 외부 x: 10\n"
     ]
    }
   ],
   "source": [
    "x = 10  # 전역 변수\n",
    "\n",
    "def my_func():\n",
    "    x = 5   # 지역 변수 (함수 내에서만 유효)\n",
    "    print(\"함수 내부 x:\", x)\n",
    "\n",
    "my_func()  # 함수 내부 x: 5\n",
    "print(\"함수 외부 x:\", x)  # 함수 외부 x: 10"
   ]
  },
  {
   "cell_type": "markdown",
   "id": "d66dc8e5-5c56-4fe0-adf7-b1f544b2265e",
   "metadata": {},
   "source": [
    "## 3. 클로저(Closure)\n",
    "* 클로저(Closure) 란, 외부 함수의 스코프(변수)를 내부 함수가 참조(캡처)하고 있는 실행 환경을 말합니다.\n",
    "* 파이썬에서 함수를 정의할 때, 중첩 함수(함수 안에 함수를 선언) 구조가 가능하며, 이때 내부 함수가 외부 함수의 지역 변수 등에 접근할 수 있습니다.\n",
    "* 내부 함수가 외부 함수의 유효 범위(Scope) 가 끝난 뒤에도, 그 값을 계속 참조할 수 있는 상태를 클로저라고 부릅니다."
   ]
  },
  {
   "cell_type": "code",
   "execution_count": 10,
   "id": "5e5c1ff0-56ad-4281-a7ed-02c310e0cea1",
   "metadata": {},
   "outputs": [
    {
     "name": "stdout",
     "output_type": "stream",
     "text": [
      "30\n",
      "6\n",
      "50\n",
      "10\n"
     ]
    }
   ],
   "source": [
    "def make_multiplier(n):\n",
    "    # 외부 함수: n 값을 인자로 받아,\n",
    "    # 내부 함수 mul에서 참조하도록 함\n",
    "    def mul(x):\n",
    "        return x * n\n",
    "    return mul\n",
    "\n",
    "# make_multiplier(3)는 mul이라는 내부 함수를 반환,\n",
    "# 이때 mul 함수는 n=3 이라는 상태를 기억하고 있음 (클로저)\n",
    "mul3 = make_multiplier(3)\n",
    "mul5 = make_multiplier(5)\n",
    "\n",
    "print(mul3(10))  # 30  (10 * 3)\n",
    "print(mul3(2))   # 6   (2 * 3)\n",
    "\n",
    "print(mul5(10))  # 50  (10 * 5)\n",
    "print(mul5(2))   # 10  (2 * 5)"
   ]
  },
  {
   "cell_type": "markdown",
   "id": "dc328ace-d516-4cd6-996b-67e060b78b75",
   "metadata": {},
   "source": [
    "## 4. 데코레이터\n",
    "* 데코레이터(Decorator) 는 함수(또는 클래스)를 “감싸” 추가적인 기능을 부여하거나, 행동을 수정할 수 있는 고급 함수 기법입니다.\n",
    "* 말 그대로 “꾸며주는” 개념인데, 원본 함수를 수정하지 않고도 부가기능(로깅, 권한 검사, 캐싱, 실행 전/후 메시지 등)을 추가할 수 있어 유용합니다."
   ]
  },
  {
   "cell_type": "code",
   "execution_count": 11,
   "id": "5e474d81-f72b-400c-9c60-3b4f65bb2dba",
   "metadata": {},
   "outputs": [
    {
     "name": "stdout",
     "output_type": "stream",
     "text": [
      "함수 시작합니다\n",
      "실제 함수 로직\n",
      "함수 끝났습니다\n"
     ]
    }
   ],
   "source": [
    "def my_decorator(func):\n",
    "    def wrapper(*args, **kwargs):\n",
    "        print(\"함수 시작합니다\")     # 부가기능 1\n",
    "        result = func(*args, **kwargs)  # 원본 함수 로직\n",
    "        print(\"함수 끝났습니다\")     # 부가기능 2\n",
    "        return result\n",
    "    return wrapper\n",
    "\n",
    "@my_decorator\n",
    "def test():\n",
    "    print(\"실제 함수 로직\")\n",
    "\n",
    "test()\n",
    "\n",
    "# 결과:\n",
    "# 함수 시작합니다\n",
    "# 실제 함수 로직\n",
    "# 함수 끝났습니다"
   ]
  },
  {
   "cell_type": "markdown",
   "id": "d12fb8f5-b21c-4dc1-bcda-49b08cb01d87",
   "metadata": {},
   "source": [
    "## 연습문제\n",
    "1. \"Hello, Python!\" 문자열을 출력하는 함수를 정의하고, 그 함수를 호출하여 화면에 메시지를 출력해보세요."
   ]
  },
  {
   "cell_type": "code",
   "execution_count": 2,
   "id": "db6e716e-bd51-40f6-b864-4b72df72e1d3",
   "metadata": {},
   "outputs": [
    {
     "data": {
      "text/plain": [
       "'Hello, Python!'"
      ]
     },
     "execution_count": 2,
     "metadata": {},
     "output_type": "execute_result"
    }
   ],
   "source": [
    "def f():\n",
    "    return \"Hello, Python!\"\n",
    "\n",
    "x = f()\n",
    "x"
   ]
  },
  {
   "cell_type": "markdown",
   "id": "cba5cbc9-4d8d-465a-b3a6-a49e48f8d4ef",
   "metadata": {},
   "source": [
    "2. 두 개의 정수를 매개변수로 받아서 그 곱을 반환하는 함수를 작성하세요."
   ]
  },
  {
   "cell_type": "code",
   "execution_count": 32,
   "id": "af61d479-e239-4d91-983e-dd82931e7305",
   "metadata": {},
   "outputs": [
    {
     "data": {
      "text/plain": [
       "18"
      ]
     },
     "execution_count": 32,
     "metadata": {},
     "output_type": "execute_result"
    }
   ],
   "source": [
    "def f(A, B):\n",
    "    return A * B\n",
    "\n",
    "z = f(3, 6)\n",
    "z"
   ]
  },
  {
   "cell_type": "markdown",
   "id": "7db7daf4-e847-4bc8-845f-c8bde65ae50c",
   "metadata": {},
   "source": [
    "3. 두 개의 문자열을 인자로 받아서 두 문자열을 이어 붙인 결과를 반환하는 함수를 작성하세요."
   ]
  },
  {
   "cell_type": "code",
   "execution_count": 33,
   "id": "86d1d824-c4c2-47b9-b6a5-4453f0863e5c",
   "metadata": {},
   "outputs": [
    {
     "data": {
      "text/plain": [
       "'hi hello'"
      ]
     },
     "execution_count": 33,
     "metadata": {},
     "output_type": "execute_result"
    }
   ],
   "source": [
    "def f(A, B):\n",
    "    return A + \" \" + B\n",
    "\n",
    "f(\"hi\", \"hello\")"
   ]
  },
  {
   "cell_type": "markdown",
   "id": "a55c88b5-2960-42b3-8772-0fdfcf1c3c72",
   "metadata": {},
   "source": [
    "4. 하나의 정수를 인자로 받아 그 숫자의 제곱을 반환하는 함수를 정의하세요."
   ]
  },
  {
   "cell_type": "code",
   "execution_count": 34,
   "id": "4ab7c267-490e-494b-9dc3-8ee3700aea5f",
   "metadata": {},
   "outputs": [
    {
     "data": {
      "text/plain": [
       "100"
      ]
     },
     "execution_count": 34,
     "metadata": {},
     "output_type": "execute_result"
    }
   ],
   "source": [
    "def f(A):\n",
    "    return A ** 2\n",
    "\n",
    "f(10)"
   ]
  },
  {
   "cell_type": "markdown",
   "id": "2aa20d57-c5b3-4364-be35-4e7fb3448225",
   "metadata": {},
   "source": [
    "5. 숫자들이 저장된 리스트를 인자로 받아, 리스트 내 모든 숫자의 합을 반환하는 함수를 작성하세요."
   ]
  },
  {
   "cell_type": "code",
   "execution_count": 39,
   "id": "485ed9c9-303a-455e-a0cb-e10a5d68e992",
   "metadata": {},
   "outputs": [
    {
     "name": "stdout",
     "output_type": "stream",
     "text": [
      "[1, 2, 3, 4]\n"
     ]
    }
   ],
   "source": [
    "def f(x):\n",
    "    return sum(x)\n",
    "\n",
    "print([1,2,3,4])"
   ]
  },
  {
   "cell_type": "markdown",
   "id": "330303a6-8ad6-4456-b99d-83b5eaec6b98",
   "metadata": {},
   "source": [
    "6. 정수를 하나 입력받아 그 수가 짝수이면 \"짝수\", 홀수이면 \"홀수\"라는 문자열을 반환하는 함수를 작성하세요."
   ]
  },
  {
   "cell_type": "code",
   "execution_count": 42,
   "id": "0e1e9494-8c18-4b89-81c7-e08a5c8fc25c",
   "metadata": {},
   "outputs": [
    {
     "name": "stdin",
     "output_type": "stream",
     "text": [
      "A 입력:  30\n"
     ]
    },
    {
     "name": "stdout",
     "output_type": "stream",
     "text": [
      "짝수\n"
     ]
    }
   ],
   "source": [
    "def f(A):\n",
    "    if (A % 2 == 0):\n",
    "        return \"짝수\"\n",
    "    else:\n",
    "        return \"홀수\"\n",
    "\n",
    "x = int(input(\"A 입력: \"))\n",
    "print(f(x))"
   ]
  },
  {
   "cell_type": "markdown",
   "id": "efc1a0f5-3f53-4348-aaf2-f829588c1d67",
   "metadata": {},
   "source": [
    "7. 섭씨 온도를 입력받아 화씨 온도로 변환한 값을 반환하는 함수를 정의하세요.\n",
    "\n",
    "```\n",
    "  화씨 = (섭씨 × 9/5) + 32\n",
    "```"
   ]
  },
  {
   "cell_type": "code",
   "execution_count": 23,
   "id": "e6818934-02c1-49d2-92cb-18d91b365a34",
   "metadata": {},
   "outputs": [
    {
     "name": "stdin",
     "output_type": "stream",
     "text": [
      "섭씨 온도 입력:  36\n"
     ]
    },
    {
     "name": "stdout",
     "output_type": "stream",
     "text": [
      "96.8\n"
     ]
    }
   ],
   "source": [
    "def f(A):\n",
    "    return print((A * 9/5) + 32)\n",
    "\n",
    "x = int(input(\"섭씨 온도 입력: \"))\n",
    "f(x)"
   ]
  },
  {
   "cell_type": "markdown",
   "id": "6ae5b16c-d206-49a6-930b-2d4564747c4a",
   "metadata": {},
   "source": [
    "8. 두 개의 숫자를 인자로 받아서 둘 중 큰 값을 반환하는 함수를 작성하세요."
   ]
  },
  {
   "cell_type": "code",
   "execution_count": 24,
   "id": "c716196b-de41-4be1-a103-03c5c16ec536",
   "metadata": {},
   "outputs": [
    {
     "name": "stdin",
     "output_type": "stream",
     "text": [
      "숫자1 입력:  10\n",
      "숫자2 입력:  20\n"
     ]
    },
    {
     "name": "stdout",
     "output_type": "stream",
     "text": [
      "20\n"
     ]
    }
   ],
   "source": [
    "def f(A, B):\n",
    "    if (A > B):\n",
    "        print(A)\n",
    "    else:\n",
    "        print(B)\n",
    "  # if 쓸 필요없이 걍 return max(A, B)하면 됨.\n",
    "\n",
    "x = input(\"숫자1 입력: \")\n",
    "y = input(\"숫자2 입력: \")\n",
    "f(x, y)"
   ]
  },
  {
   "cell_type": "markdown",
   "id": "bbf366e9-21b6-4f22-8c9d-fa3d0391455d",
   "metadata": {},
   "source": [
    "9. 정수를 인자로 받아 그 수의 팩토리얼(예: 4! = 4×3×2×1)을 계산하여 반환하는 함수를 작성하세요."
   ]
  },
  {
   "cell_type": "code",
   "execution_count": 44,
   "id": "1539416d-6c46-4a2d-bb28-4abad696e15c",
   "metadata": {},
   "outputs": [
    {
     "data": {
      "text/plain": [
       "120"
      ]
     },
     "execution_count": 44,
     "metadata": {},
     "output_type": "execute_result"
    }
   ],
   "source": [
    "def f(n):\n",
    "    total = 1\n",
    "    for i in range(1, n+1):\n",
    "        total *= i\n",
    "    return total\n",
    "f(5)"
   ]
  },
  {
   "cell_type": "code",
   "execution_count": 45,
   "id": "6ac38e89-93ca-4cc5-9c77-7b529a5845b0",
   "metadata": {},
   "outputs": [],
   "source": [
    "# 팩토리얼을 재귀함수로 푸는 법\n",
    "def fac(n):\n",
    "    if n == 1:\n",
    "        return 1    # 1! = 1 이므로 \n",
    "    else:\n",
    "        return n * fac(n-1)     # fac함수 안에 fac함수 자신을 불러옴 "
   ]
  },
  {
   "cell_type": "code",
   "execution_count": null,
   "id": "187d1f2f-17f0-4a81-8252-a86289720d7a",
   "metadata": {},
   "outputs": [],
   "source": [
    "# fac(4)  =  4 * fac(3)  =  4 * 3 * fac(2)  =  4 * 3 * 2 * fac(1)  =  4 * 3 * 2 * 1"
   ]
  },
  {
   "cell_type": "code",
   "execution_count": null,
   "id": "248acd94-6f2f-4748-b88f-7c31d4ee37f0",
   "metadata": {},
   "outputs": [],
   "source": []
  }
 ],
 "metadata": {
  "kernelspec": {
   "display_name": "Python 3 (ipykernel)",
   "language": "python",
   "name": "python3"
  },
  "language_info": {
   "codemirror_mode": {
    "name": "ipython",
    "version": 3
   },
   "file_extension": ".py",
   "mimetype": "text/x-python",
   "name": "python",
   "nbconvert_exporter": "python",
   "pygments_lexer": "ipython3",
   "version": "3.12.7"
  }
 },
 "nbformat": 4,
 "nbformat_minor": 5
}
