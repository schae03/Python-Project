{
 "cells": [
  {
   "cell_type": "markdown",
   "id": "55d697c3-ffd3-447d-8fb0-bd3116560628",
   "metadata": {},
   "source": [
    "# 딕셔너리(Dictionary)란 무엇인가?\n",
    "딕셔너리는 키(key)와 값(value)을 한 쌍으로 저장하는 파이썬의 자료형입니다.\n",
    "\n",
    "* 리스트(list)나 튜플(tuple)처럼 순서가 정해져 있지는 않습니다. (파이썬 3.7+부터 내부적으로는 입력 순서를 유지하지만, 일반적으로 순서보다는 키로 접근하는 자료 구조라고 이해하면 됩니다).\n",
    "* 변경(mutable)이 가능하기 때문에, 데이터를 수정, 추가, 삭제할 수 있습니다.\n",
    "* 중괄호 {} 안에 키:값 형태로 작성하며, 키는 중복될 수 없습니다. (나중에 저장한 키의 값으로 덮어쓰게 됨)."
   ]
  },
  {
   "cell_type": "code",
   "execution_count": 1,
   "id": "570562b0-1df6-45e9-8498-a7ff1fabbaa1",
   "metadata": {},
   "outputs": [
    {
     "name": "stdout",
     "output_type": "stream",
     "text": [
      "{'이름': '홍길동', '나이': 30, '직업': '프로그래머'}\n"
     ]
    }
   ],
   "source": [
    "# 딕셔너리 예시\n",
    "person = {\n",
    "    \"이름\": \"홍길동\",\n",
    "    \"나이\": 30,\n",
    "    \"직업\": \"프로그래머\"\n",
    "}\n",
    "\n",
    "print(person)  "
   ]
  },
  {
   "cell_type": "markdown",
   "id": "089b0f51-7004-41b7-86cf-1747c88ff93e",
   "metadata": {},
   "source": [
    "## 1. 딕셔너리의 생성과 기본 사용\n",
    "* 빈 딕셔너리 생성"
   ]
  },
  {
   "cell_type": "code",
   "execution_count": 2,
   "id": "b624b2d4-4a89-4273-8a4d-cc379f61802b",
   "metadata": {},
   "outputs": [],
   "source": [
    "empty_dict = {}\n",
    "# 또는\n",
    "empty_dict = dict()"
   ]
  },
  {
   "cell_type": "markdown",
   "id": "9077cda4-e18b-46c4-862e-d552a566176b",
   "metadata": {},
   "source": [
    "* 키-값 쌍을 추가하며 생성"
   ]
  },
  {
   "cell_type": "code",
   "execution_count": 3,
   "id": "255ebe5a-6592-4dde-8581-8351b788ab11",
   "metadata": {},
   "outputs": [
    {
     "name": "stdout",
     "output_type": "stream",
     "text": [
      "{'국어': 90, '영어': 85, '수학': 95}\n"
     ]
    }
   ],
   "source": [
    "scores = {\n",
    "    \"국어\": 90,\n",
    "    \"영어\": 85,\n",
    "    \"수학\": 95\n",
    "}\n",
    "print(scores)  "
   ]
  },
  {
   "cell_type": "markdown",
   "id": "fb4ae3c1-4107-4d33-9009-fe71e0846377",
   "metadata": {},
   "source": [
    "* 다양한 자료형을 값으로 사용 가능"
   ]
  },
  {
   "cell_type": "code",
   "execution_count": 4,
   "id": "3173483e-29e8-4a0c-b914-fa0ce60d1f75",
   "metadata": {},
   "outputs": [
    {
     "name": "stdout",
     "output_type": "stream",
     "text": [
      "{'이름': '홍길동', '나이': 30, '취미': ['독서', '등산', '코딩'], '기혼여부': True}\n"
     ]
    }
   ],
   "source": [
    "mixed_data = {\n",
    "    \"이름\": \"홍길동\",\n",
    "    \"나이\": 30,\n",
    "    \"취미\": [\"독서\", \"등산\", \"코딩\"],\n",
    "    \"기혼여부\": True\n",
    "}\n",
    "\n",
    "print(mixed_data)"
   ]
  },
  {
   "cell_type": "markdown",
   "id": "18a10a15-e243-4648-bc62-b76bb81d3ee8",
   "metadata": {},
   "source": [
    "## 2. 딕셔너리 요소 접근 방법\n",
    "* 키를 사용한 접근 (존재하지 않는 키를 사용하면 KeyError가 발생합니다.)"
   ]
  },
  {
   "cell_type": "code",
   "execution_count": 5,
   "id": "e41f95ea-2f09-4acc-98f5-737c4d325e74",
   "metadata": {},
   "outputs": [
    {
     "name": "stdout",
     "output_type": "stream",
     "text": [
      "홍길동\n",
      "30\n"
     ]
    }
   ],
   "source": [
    "person = {\"이름\": \"홍길동\", \"나이\": 30}\n",
    "\n",
    "print(person[\"이름\"])  # \"홍길동\" 출력\n",
    "print(person[\"나이\"])  # 30 출력"
   ]
  },
  {
   "cell_type": "markdown",
   "id": "8c744a13-00a9-48ae-b9dd-383ce3a527a9",
   "metadata": {},
   "source": [
    "* ```get()``` 메서드 사용 (get(key, default) 형태로 사용하면, 키가 존재하지 않을 때 에러 대신 기본값을 리턴합니다.)"
   ]
  },
  {
   "cell_type": "code",
   "execution_count": 6,
   "id": "94bc07cf-e04d-4cb1-b49a-1153265efef0",
   "metadata": {},
   "outputs": [
    {
     "name": "stdout",
     "output_type": "stream",
     "text": [
      "None\n",
      "20\n"
     ]
    }
   ],
   "source": [
    "person = {\"이름\": \"홍길동\"}\n",
    "\n",
    "print(person.get(\"나이\"))       # None 출력 (키가 없을 경우)\n",
    "print(person.get(\"나이\", 20))   # 두 번째 인자를 기본값으로 설정 가능 → 20"
   ]
  },
  {
   "cell_type": "markdown",
   "id": "04164a46-3a16-463e-a808-02fdec561ccf",
   "metadata": {},
   "source": [
    "## 3. 딕셔너리 요소 수정, 추가, 삭제\n",
    "* 수정"
   ]
  },
  {
   "cell_type": "code",
   "execution_count": 7,
   "id": "e2586f24-2c08-41c7-832b-9e322f43665d",
   "metadata": {},
   "outputs": [
    {
     "name": "stdout",
     "output_type": "stream",
     "text": [
      "{'이름': '홍길동', '나이': 35}\n"
     ]
    }
   ],
   "source": [
    "person = {\"이름\": \"홍길동\", \"나이\": 30}\n",
    "person[\"나이\"] = 35   # 키가 이미 존재하면 값을 덮어씀\n",
    "print(person)"
   ]
  },
  {
   "cell_type": "markdown",
   "id": "bf165f30-52d2-4b92-944c-5a3c5a549242",
   "metadata": {},
   "source": [
    "* 추가"
   ]
  },
  {
   "cell_type": "code",
   "execution_count": 8,
   "id": "6819bfc6-d118-47b5-a500-f80473361a45",
   "metadata": {},
   "outputs": [
    {
     "name": "stdout",
     "output_type": "stream",
     "text": [
      "{'이름': '홍길동', '직업': '프로그래머'}\n"
     ]
    }
   ],
   "source": [
    "person = {\"이름\": \"홍길동\"}\n",
    "person[\"직업\"] = \"프로그래머\"  # 존재하지 않는 키이면 새로 추가\n",
    "print(person)"
   ]
  },
  {
   "cell_type": "markdown",
   "id": "e9beaf48-32f8-4196-a37f-ce513bdc4b0e",
   "metadata": {},
   "source": [
    "* 삭제"
   ]
  },
  {
   "cell_type": "code",
   "execution_count": 9,
   "id": "fb70c2ca-460d-4d77-807b-519b39ac80e2",
   "metadata": {},
   "outputs": [
    {
     "name": "stdout",
     "output_type": "stream",
     "text": [
      "{'이름': '홍길동', '직업': '프로그래머'}\n",
      "프로그래머\n",
      "{'이름': '홍길동'}\n"
     ]
    }
   ],
   "source": [
    "person = {\"이름\": \"홍길동\", \"나이\": 30, \"직업\": \"프로그래머\"}\n",
    "del person[\"나이\"]       # 특정 키 삭제\n",
    "print(person)\n",
    "# 결과: {'이름': '홍길동', '직업': '프로그래머'}\n",
    "\n",
    "# pop() 메서드로 삭제\n",
    "job = person.pop(\"직업\")  \n",
    "print(job)              # \"프로그래머\" 출력\n",
    "print(person)           # {'이름': '홍길동'}"
   ]
  },
  {
   "cell_type": "markdown",
   "id": "9afe9893-cd48-44ae-842e-c70f3fd97a5a",
   "metadata": {},
   "source": [
    "* 전체 삭제"
   ]
  },
  {
   "cell_type": "code",
   "execution_count": 10,
   "id": "ec921457-08c1-43a2-9a37-cb09536fdf12",
   "metadata": {},
   "outputs": [
    {
     "name": "stdout",
     "output_type": "stream",
     "text": [
      "{}\n"
     ]
    }
   ],
   "source": [
    "person.clear()\n",
    "print(person)"
   ]
  },
  {
   "cell_type": "markdown",
   "id": "00cf826f-6a99-443a-9935-55ec1e4c9906",
   "metadata": {},
   "source": [
    "## 4. 딕셔너리의 주요 메서드\n",
    "* ```keys()```: 딕셔너리의 모든 키를 반환"
   ]
  },
  {
   "cell_type": "code",
   "execution_count": 11,
   "id": "f5e42fb0-0e0b-44c0-b941-b19f83e92097",
   "metadata": {},
   "outputs": [
    {
     "name": "stdout",
     "output_type": "stream",
     "text": [
      "dict_keys(['국어', '영어', '수학'])\n"
     ]
    }
   ],
   "source": [
    "scores = {\"국어\": 90, \"영어\": 85, \"수학\": 95}\n",
    "print(scores.keys())"
   ]
  },
  {
   "cell_type": "markdown",
   "id": "81d031ce-8cfd-452f-8cae-bba5412fa4d0",
   "metadata": {},
   "source": [
    "* ```values()```: 딕셔너리의 모든 값을 반환"
   ]
  },
  {
   "cell_type": "code",
   "execution_count": 12,
   "id": "6e51aa3e-88b7-41f5-9a55-b2a439f39086",
   "metadata": {},
   "outputs": [
    {
     "name": "stdout",
     "output_type": "stream",
     "text": [
      "dict_values([90, 85, 95])\n"
     ]
    }
   ],
   "source": [
    "print(scores.values())"
   ]
  },
  {
   "cell_type": "markdown",
   "id": "9d82309a-26c6-4710-81f1-2ce6cf044ae4",
   "metadata": {},
   "source": [
    "* ```items()```: (키, 값) 쌍을 튜플 형태로 묶어 반환"
   ]
  },
  {
   "cell_type": "code",
   "execution_count": 13,
   "id": "6a102024-e05e-4dec-90a8-64d57588be5a",
   "metadata": {},
   "outputs": [
    {
     "name": "stdout",
     "output_type": "stream",
     "text": [
      "dict_items([('국어', 90), ('영어', 85), ('수학', 95)])\n"
     ]
    }
   ],
   "source": [
    "print(scores.items())"
   ]
  },
  {
   "cell_type": "markdown",
   "id": "ae50c212-4b1b-4783-beb6-7167afbdccd5",
   "metadata": {},
   "source": [
    "* ```update()```: 다른 딕셔너리의 키-값을 추가하거나 갱신"
   ]
  },
  {
   "cell_type": "code",
   "execution_count": 14,
   "id": "7d7516a4-8301-481d-bd4c-9fc3cec2370e",
   "metadata": {},
   "outputs": [
    {
     "name": "stdout",
     "output_type": "stream",
     "text": [
      "{'국어': 95, '영어': 85, '수학': 95, '과학': 100}\n"
     ]
    }
   ],
   "source": [
    "new_scores = {\"과학\": 100, \"국어\": 95}   # 이미 있던 '국어'는 업데이트\n",
    "scores.update(new_scores)\n",
    "print(scores)"
   ]
  },
  {
   "cell_type": "markdown",
   "id": "841c7e3b-9728-4e3d-aa15-01c713c23d2d",
   "metadata": {},
   "source": [
    "* ```in``` 연산자: 딕셔너리에 특정 키가 존재하는지 여부"
   ]
  },
  {
   "cell_type": "code",
   "execution_count": 15,
   "id": "af044af6-a288-4947-aaa5-ecf96760ce61",
   "metadata": {},
   "outputs": [
    {
     "name": "stdout",
     "output_type": "stream",
     "text": [
      "True\n",
      "False\n"
     ]
    }
   ],
   "source": [
    "# 문자열, 리스트, 튜플 등 다른 자료형에도 적용 가능\n",
    "\n",
    "print(\"국어\" in scores)  # True\n",
    "print(\"사회\" in scores)  # False"
   ]
  },
  {
   "cell_type": "markdown",
   "id": "750c4f1b-f9ff-4476-814c-ab7006fac8d7",
   "metadata": {},
   "source": [
    "## 연습문제\n",
    "1. 아래 정보를 이용하여 person이라는 이름의 딕셔너리를 생성하세요.\n",
    "* 이름: \"홍길동\"\n",
    "* 나이: 20\n",
    "* 도시: \"서울\""
   ]
  },
  {
   "cell_type": "code",
   "execution_count": 1,
   "id": "3490b75d-1260-4956-b776-f754fe60e82e",
   "metadata": {},
   "outputs": [
    {
     "data": {
      "text/plain": [
       "{'이름': '홍길동', '나이': 20, '도시': '서울'}"
      ]
     },
     "execution_count": 1,
     "metadata": {},
     "output_type": "execute_result"
    }
   ],
   "source": [
    "person = {\"이름\" : \"홍길동\",\n",
    "         \"나이\" : 20,\n",
    "         \"도시\" : \"서울\"}\n",
    "person"
   ]
  },
  {
   "cell_type": "markdown",
   "id": "3aee91fd-2f22-4eac-ae31-7daf4449564d",
   "metadata": {},
   "source": [
    "2. 문제 1에서 만든 person 딕셔너리에서 '나이'에 해당하는 값을 출력하는 코드를 작성하세요."
   ]
  },
  {
   "cell_type": "code",
   "execution_count": 2,
   "id": "e4d2231e-b5ca-4d55-8bbb-e27dd5912d5f",
   "metadata": {},
   "outputs": [
    {
     "data": {
      "text/plain": [
       "20"
      ]
     },
     "execution_count": 2,
     "metadata": {},
     "output_type": "execute_result"
    }
   ],
   "source": [
    "person[\"나이\"]"
   ]
  },
  {
   "cell_type": "markdown",
   "id": "fddcd4fd-cc44-4167-8814-7f0573d4a697",
   "metadata": {},
   "source": [
    "3. person 딕셔너리에 새로운 항목 '학년'을 추가하고, 그 값으로 3을 저장하는 코드를 작성하세요."
   ]
  },
  {
   "cell_type": "code",
   "execution_count": 3,
   "id": "ac6e6bee-bd5b-4a46-b27f-8c5625af3b1c",
   "metadata": {},
   "outputs": [
    {
     "data": {
      "text/plain": [
       "{'이름': '홍길동', '나이': 20, '도시': '서울', '학년': 3}"
      ]
     },
     "execution_count": 3,
     "metadata": {},
     "output_type": "execute_result"
    }
   ],
   "source": [
    "person[\"학년\"] = 3\n",
    "person"
   ]
  },
  {
   "cell_type": "markdown",
   "id": "b99158c1-4ee9-44e6-a8df-e11c494496b2",
   "metadata": {},
   "source": [
    "4. person 딕셔너리의 '도시' 값을 \"부산\"으로 수정하는 코드를 작성하세요."
   ]
  },
  {
   "cell_type": "code",
   "execution_count": 4,
   "id": "d3ab324d-c953-4b64-8c93-4f2dbe2eba36",
   "metadata": {},
   "outputs": [
    {
     "data": {
      "text/plain": [
       "{'이름': '홍길동', '나이': 20, '도시': '부산', '학년': 3}"
      ]
     },
     "execution_count": 4,
     "metadata": {},
     "output_type": "execute_result"
    }
   ],
   "source": [
    "person[\"도시\"] = \"부산\"\n",
    "person"
   ]
  },
  {
   "cell_type": "markdown",
   "id": "eeeb1c12-7851-415a-8210-0bc36c528776",
   "metadata": {},
   "source": [
    "5. person 딕셔너리에서 '학년' 항목을 삭제하는 코드를 작성하세요."
   ]
  },
  {
   "cell_type": "code",
   "execution_count": 5,
   "id": "63c34326-0813-4c26-b527-566ec1a3d42b",
   "metadata": {},
   "outputs": [
    {
     "data": {
      "text/plain": [
       "{'이름': '홍길동', '나이': 20, '도시': '부산'}"
      ]
     },
     "execution_count": 5,
     "metadata": {},
     "output_type": "execute_result"
    }
   ],
   "source": [
    "del person[\"학년\"]\n",
    "person"
   ]
  },
  {
   "cell_type": "markdown",
   "id": "86d8b887-1486-4e8f-8320-1dd5433756ec",
   "metadata": {},
   "source": [
    "6. 사용자로부터 키를 입력받아, 그 키가 person 딕셔너리에 존재하는지 확인하는 코드를 작성하세요.\n",
    "* 만약 해당 키가 존재하면 \"존재합니다\"를,\n",
    "* 존재하지 않으면 \"존재하지 않습니다\"를 출력하도록 하세요."
   ]
  },
  {
   "cell_type": "code",
   "execution_count": 10,
   "id": "106f88d1-17b0-4633-a8ff-a82c1e219c6f",
   "metadata": {},
   "outputs": [
    {
     "name": "stdin",
     "output_type": "stream",
     "text": [
      "입력:  이름\n"
     ]
    },
    {
     "data": {
      "text/plain": [
       "'존재하지 않습니다'"
      ]
     },
     "execution_count": 10,
     "metadata": {},
     "output_type": "execute_result"
    }
   ],
   "source": [
    "key = input(\"입력: \")\n",
    "person.get(key, \"존재하지 않습니다\")"
   ]
  },
  {
   "cell_type": "markdown",
   "id": "b477113a-51a4-43f0-bb5b-b0c2b4dc8abe",
   "metadata": {},
   "source": [
    "7. 두 개의 딕셔너리 student_info와 additional_info를 하나로 합치는 코드를 작성하세요."
   ]
  },
  {
   "cell_type": "code",
   "execution_count": 11,
   "id": "472ba035-5cc6-4437-b4ab-7fc5341a5dd7",
   "metadata": {},
   "outputs": [
    {
     "data": {
      "text/plain": [
       "{'이름': '장원영', '나이': 20, '학년': 3, '학교': '서울대'}"
      ]
     },
     "execution_count": 11,
     "metadata": {},
     "output_type": "execute_result"
    }
   ],
   "source": [
    "student_info = {'이름': '홍길동', '나이': 20}\n",
    "additional_info = {'학년': 3, '학교': '서울대', '이름' : \"장원영\"}\n",
    "\n",
    "student_info.update(additional_info)\n",
    "student_info"
   ]
  },
  {
   "cell_type": "code",
   "execution_count": null,
   "id": "d66de329-15fb-4d66-9d80-36f01746ac23",
   "metadata": {},
   "outputs": [],
   "source": []
  }
 ],
 "metadata": {
  "kernelspec": {
   "display_name": "Python 3 (ipykernel)",
   "language": "python",
   "name": "python3"
  },
  "language_info": {
   "codemirror_mode": {
    "name": "ipython",
    "version": 3
   },
   "file_extension": ".py",
   "mimetype": "text/x-python",
   "name": "python",
   "nbconvert_exporter": "python",
   "pygments_lexer": "ipython3",
   "version": "3.12.7"
  }
 },
 "nbformat": 4,
 "nbformat_minor": 5
}
