{
 "cells": [
  {
   "cell_type": "code",
   "execution_count": 14,
   "id": "aad58fcb-f706-4b17-bfbc-490ad2324ecf",
   "metadata": {},
   "outputs": [
    {
     "name": "stdout",
     "output_type": "stream",
     "text": [
      "python \"is' too fun\n",
      "python 'is' \n",
      "too \tfun\n",
      "python 'is\" too\n",
      "\n",
      "fun\n"
     ]
    }
   ],
   "source": [
    "# 문자열 자료형\n",
    "a = 'python \"is\\' too fun'    # 작은따옴표 안에는 큰따옴표만 적을 수 O.  혹은 \\'로 작은따옴표 표현 가능.\n",
    "b = \"python 'is' \\ntoo \\tfun\"    # 엔터치려면 \\n, 탭은 \\t\n",
    "c = \"\"\"python 'is\" too\n",
    "\n",
    "fun\"\"\"                        # 따옴표 세개는 만능\n",
    "\n",
    "print(a)\n",
    "print(b)\n",
    "print(c)"
   ]
  },
  {
   "cell_type": "code",
   "execution_count": 18,
   "id": "114d200d-874c-4b20-94b0-920d0f3ec778",
   "metadata": {},
   "outputs": [
    {
     "data": {
      "text/plain": [
       "'n'"
      ]
     },
     "execution_count": 18,
     "metadata": {},
     "output_type": "execute_result"
    }
   ],
   "source": [
    "a = 'python is too fun'\n",
    "\n",
    "# a의 0번째에 접근 : a[0]\n",
    "# 하나씩 접근 : 인덱싱\n",
    "\n",
    "a[-1]   # 맨뒷자리글자"
   ]
  },
  {
   "cell_type": "code",
   "execution_count": 19,
   "id": "3b915afa-4cbd-43e8-9941-9b99a2d5bc89",
   "metadata": {},
   "outputs": [
    {
     "data": {
      "text/plain": [
       "'thon i'"
      ]
     },
     "execution_count": 19,
     "metadata": {},
     "output_type": "execute_result"
    }
   ],
   "source": [
    "# 여러개 접근 : 슬라이싱\n",
    "a[2:8]  # 2번째부터 시작해서 8번째 >>>전<<<★까지. 공백포함"
   ]
  },
  {
   "cell_type": "code",
   "execution_count": 20,
   "id": "5c6bac68-35f6-4f65-919a-364c3df076df",
   "metadata": {},
   "outputs": [
    {
     "data": {
      "text/plain": [
       "'python i'"
      ]
     },
     "execution_count": 20,
     "metadata": {},
     "output_type": "execute_result"
    }
   ],
   "source": [
    "a[:8]    # 처음부터 8번째전까지\n",
    "a[2:]    # 2번째부터 끝까지"
   ]
  },
  {
   "cell_type": "code",
   "execution_count": 22,
   "id": "37bdb13f-c0b0-4701-8e95-b68bd921bafe",
   "metadata": {},
   "outputs": [
    {
     "data": {
      "text/plain": [
       "'to s'"
      ]
     },
     "execution_count": 22,
     "metadata": {},
     "output_type": "execute_result"
    }
   ],
   "source": [
    "a[2:10:2]    # 2번째부터 10번째전까지 2씩 증가시키면서 접근해라.  =  2,4,6,8번째에 접근"
   ]
  },
  {
   "cell_type": "code",
   "execution_count": 24,
   "id": "4c84980f-f4ce-4b5e-beb4-b6a4324ada39",
   "metadata": {},
   "outputs": [
    {
     "data": {
      "text/plain": [
       "'nuf oot si nohtyp'"
      ]
     },
     "execution_count": 24,
     "metadata": {},
     "output_type": "execute_result"
    }
   ],
   "source": [
    "a[::-1]   # 데이터를 한번에 뒤집을때\n",
    "\n",
    "#증가값이 -1 : 마지막점이 시작점이 됨"
   ]
  },
  {
   "cell_type": "code",
   "execution_count": 28,
   "id": "be3af08a-109f-4cb5-a29d-58b504138e88",
   "metadata": {},
   "outputs": [
    {
     "data": {
      "text/plain": [
       "'python is too fun!'"
      ]
     },
     "execution_count": 28,
     "metadata": {},
     "output_type": "execute_result"
    }
   ],
   "source": [
    "# 문자열 연산\n",
    "a = \"python\"\n",
    "b = \" is too fun!\"\n",
    "\n",
    "a + b    # python is too fun!\n",
    "a * 3    # pythonpythonpython\n",
    "a = a + b\n",
    "a"
   ]
  },
  {
   "cell_type": "code",
   "execution_count": 30,
   "id": "0882621b-a91c-485b-8d2a-5198d2839778",
   "metadata": {},
   "outputs": [
    {
     "data": {
      "text/plain": [
       "18"
      ]
     },
     "execution_count": 30,
     "metadata": {},
     "output_type": "execute_result"
    }
   ],
   "source": [
    "len(a)  # Length.  글자개수 (공백도 포함)"
   ]
  },
  {
   "cell_type": "code",
   "execution_count": 40,
   "id": "5af2a1b3-5adb-4ebc-810b-05e9e1e48e59",
   "metadata": {},
   "outputs": [
    {
     "name": "stdout",
     "output_type": "stream",
     "text": [
      "PYTHON IS TOO FUN!\n",
      "python is too fun!\n",
      "Python is too fun!\n",
      "Python Is Too Fun!\n",
      "PYTHON IS TOO FUN!\n"
     ]
    }
   ],
   "source": [
    "# 문자열.함수()  //  문자열 전용 함수\n",
    "# print(), max(), min() ... // 내장함수\n",
    "\n",
    "print(a.upper())\n",
    "print(a.lower())\n",
    "print(a.capitalize())   # 문장의 첫 글자만 대문자로\n",
    "print(a.title())        # 각 단어의 첫 글자를 대문자로\n",
    "print(a.swapcase())     # 소문자는 대문자로, 대문자는 소문자로"
   ]
  },
  {
   "cell_type": "code",
   "execution_count": 48,
   "id": "7ed2bb94-d48b-4440-9e93-8cda7a7044bc",
   "metadata": {},
   "outputs": [
    {
     "name": "stdout",
     "output_type": "stream",
     "text": [
      "python         \t   \n",
      "        \t    python\n",
      "python\n",
      "python+++++++++++\n"
     ]
    }
   ],
   "source": [
    "a = \"        \\t    python         \\t   \"\n",
    "print(a.lstrip())    # 왼쪽 공백을 없애줌 (탭 포함)\n",
    "print(a.rstrip())    # 오른쪽 공백을 없애줌\n",
    "print(a.strip())     # 양쪽 공백을 없애줌\n",
    "\n",
    "a = \"++++++++++python+++++++++++\"\n",
    "print(a.lstrip(\"+\"))    # 왼쪽 +를 없애줌"
   ]
  },
  {
   "cell_type": "code",
   "execution_count": 58,
   "id": "738d93b8-852e-4154-87c7-675fd7bf6f18",
   "metadata": {},
   "outputs": [
    {
     "name": "stdout",
     "output_type": "stream",
     "text": [
      "['python', 'is', 'too', 'fun!']\n"
     ]
    },
    {
     "data": {
      "text/plain": [
       "['python', 'is', 'too', 'fun!']"
      ]
     },
     "execution_count": 58,
     "metadata": {},
     "output_type": "execute_result"
    }
   ],
   "source": [
    "a = 'python is too fun!'\n",
    "print(a.split())       # 빈도분석.  공백을 기준으로 자르라는 뜻\n",
    "\n",
    "a = 'python,is,too,fun!'\n",
    "b = a.split(\",\")    # 콤마를 기준으로 자르라는 뜻\n",
    "b"
   ]
  },
  {
   "cell_type": "code",
   "execution_count": 55,
   "id": "859d153a-f4df-4ee8-b630-bb6f9944fa46",
   "metadata": {},
   "outputs": [
    {
     "data": {
      "text/plain": [
       "'a -> b -> c -> d -> e'"
      ]
     },
     "execution_count": 55,
     "metadata": {},
     "output_type": "execute_result"
    }
   ],
   "source": [
    "\" -> \".join(\"abcde\")      # 내가 입력한 ->를 abcde 사이에 참가시켜라"
   ]
  },
  {
   "cell_type": "code",
   "execution_count": 60,
   "id": "c1070d5d-bb09-4171-8684-058921933561",
   "metadata": {},
   "outputs": [
    {
     "data": {
      "text/plain": [
       "'python -> is -> too -> fun!'"
      ]
     },
     "execution_count": 60,
     "metadata": {},
     "output_type": "execute_result"
    }
   ],
   "source": [
    "\" -> \".join(b)       # join 괄호 안에 리스트도 넣을 수 있음"
   ]
  },
  {
   "cell_type": "code",
   "execution_count": 67,
   "id": "18f126aa-87ce-4222-bbcc-23249e406106",
   "metadata": {},
   "outputs": [
    {
     "name": "stdout",
     "output_type": "stream",
     "text": [
      "java is too fun!\n",
      "python is too fun!\n"
     ]
    }
   ],
   "source": [
    "a = \"python is too fun!\"\n",
    "print(a.replace(\"python\", \"java\"))   # a의 python이라는 단어를 java로 바꾼 걸 보여줌\n",
    "print(a)                             # 기존의 a값은 변하지 않음"
   ]
  },
  {
   "cell_type": "code",
   "execution_count": 75,
   "id": "31c116cb-c964-4897-b4c4-3ef9b5faaa08",
   "metadata": {},
   "outputs": [
    {
     "data": {
      "text/plain": [
       "'나의 이름은 홍길동이고, 40.12살입니다.'"
      ]
     },
     "execution_count": 75,
     "metadata": {},
     "output_type": "execute_result"
    }
   ],
   "source": [
    "name = \"홍길동\"\n",
    "age = 40.1234512345\n",
    "\n",
    "f\"나의 이름은 {name}이고, {age:.2f}살입니다.\"        # 맨앞에 f넣으면 변수반영 가능.   숫자 뒤에 ':.2f'넣으면 소수점 짧게 표현 가능"
   ]
  },
  {
   "cell_type": "code",
   "execution_count": 84,
   "id": "8a6d8880-b01c-4e79-bfaf-8d9c4cbcfb15",
   "metadata": {},
   "outputs": [
    {
     "name": "stdout",
     "output_type": "stream",
     "text": [
      "True\n",
      "True\n",
      "True\n",
      "True\n"
     ]
    }
   ],
   "source": [
    "print(\"안녕\".isalpha())            # isalpha : 이게 알파벳으로만 구성되어있나 (한글도 ㄱㅊ)\n",
    "print(\"1212312\".isdigit())        # isdigit : 이게 숫자로만 구성되어있나\n",
    "print(\"hello123\".isalnum())       # isalnum : 이게 숫자와 알파벳으로만 구성되어있나.    공백이 있어도 안됨\n",
    "print(\"HELLO\".isupper())"
   ]
  },
  {
   "cell_type": "code",
   "execution_count": 87,
   "id": "35d6a863-181d-4333-9ef4-03b09a8a79df",
   "metadata": {},
   "outputs": [
    {
     "name": "stdout",
     "output_type": "stream",
     "text": [
      "10\n",
      "-1\n",
      "10\n"
     ]
    }
   ],
   "source": [
    "quote = \"Life is short, You need Python.\"\n",
    "print(quote.find(\"o\"))   # 가장 먼저 발견한 것 하나만\n",
    "print(quote.find(\"z\"))   # 없으면 -1\n",
    "\n",
    "print(quote.index(\"o\"))  # 기능면에서 find와 동일하나, 없으면 -1아니고 error"
   ]
  },
  {
   "cell_type": "code",
   "execution_count": null,
   "id": "5ce01911-a3db-4bfa-b485-81697df5ab99",
   "metadata": {},
   "outputs": [],
   "source": []
  }
 ],
 "metadata": {
  "kernelspec": {
   "display_name": "Python 3 (ipykernel)",
   "language": "python",
   "name": "python3"
  },
  "language_info": {
   "codemirror_mode": {
    "name": "ipython",
    "version": 3
   },
   "file_extension": ".py",
   "mimetype": "text/x-python",
   "name": "python",
   "nbconvert_exporter": "python",
   "pygments_lexer": "ipython3",
   "version": "3.12.7"
  }
 },
 "nbformat": 4,
 "nbformat_minor": 5
}
