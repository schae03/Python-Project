{
 "cells": [
  {
   "cell_type": "markdown",
   "id": "215566d0-a3bb-4fc4-8959-328e0677f8e8",
   "metadata": {},
   "source": [
    "# 동질성 검정\n",
    "동질성 검정은 여러 집단이 특정 범주형 변수의 분포에서 동일한 특성을 가지는지 여부를 검정하는 통계적 방법입니다. 예를 들어, 두 개 이상의 지역에서 특정 제품의 선호도가 동일한지, 혹은 두 개 이상의 집단에서 질병 발생률이 동일한지를 알아볼 때 사용합니다.\n",
    "\n",
    "* 귀무가설 (H₀): 모든 집단이 동일한 분포를 가진다.\n",
    "* 대립가설 (H₁): 적어도 한 집단은 다른 분포를 가진다.\n",
    "\n",
    "동질성 검정과 독립성 검정은 목적과 적용 상황은 다르지만, 해석만 다를뿐 분석 방법이 동일하다.\n",
    "\n",
    "* 독립성 검정: 성별이 운동 선호도에 영향을 주는가? (두 범주형 변수 간 연관성이 있는가?)\n",
    "* 동질성 검정: 2개의 다른 학교에서 학생들의 운동 선호도가 동일한가? (서로 다른 그룹 또는 모집단이 동일한 범주 분포를 가졌는가?)"
   ]
  },
  {
   "cell_type": "code",
   "execution_count": 7,
   "id": "83b3ca34-a11c-4d02-b74c-db8f3cf07ad0",
   "metadata": {},
   "outputs": [
    {
     "data": {
      "text/plain": [
       "Chi2ContingencyResult(statistic=7.520833333333334, pvalue=0.006098945931214352, dof=1, expected_freq=array([[40., 60.],\n",
       "       [40., 60.]]))"
      ]
     },
     "execution_count": 7,
     "metadata": {},
     "output_type": "execute_result"
    }
   ],
   "source": [
    "import pandas as pd\n",
    "import scipy.stats as stats\n",
    "\n",
    "# 귀무가설: 두 학과의 동아리 가입 비율은 동일하다.\n",
    "# 대립가설: 두 학과의 동아리 가입 비율은 동일하지 않다.\n",
    "\n",
    "data = {\n",
    "    '학과': ['통계학과']*100 + ['컴퓨터공학과']*100,\n",
    "    '동아리가입여부': ['가입']*50 + ['미가입']*50 + ['가입']*30 + ['미가입']*70\n",
    "}\n",
    "\n",
    "df = pd.DataFrame(data)\n",
    "df = pd.crosstab(index = df[\"학과\"], columns = df[\"동아리가입여부\"])\n",
    "\n",
    "stats.chi2_contingency(df)"
   ]
  },
  {
   "cell_type": "markdown",
   "id": "862fa538-a531-4b5e-9b10-b43cd31aa651",
   "metadata": {},
   "source": [
    "## 연습문제\n",
    "\n",
    "1. [독립성 검정] 한 대학교에서 학생들의 성별과 좋아하는 과목(수학, 과학, 문학) 간의 관계를 조사하였습니다. 조사 결과는 다음과 같이 나타났습니다.\n",
    "\n",
    "* 귀무가설(H₀): 성별과 좋아하는 과목은 서로 독립이다.\n",
    "* 대립가설(H₁): 성별과 좋아하는 과목은 서로 독립이 아니다.\n",
    "\n",
    "유의수준 0.05에서 위 데이터를 바탕으로 카이제곱 독립성 검정을 실시하여, 성별과 좋아하는 과목 사이에 통계적으로 유의한 관계가 있는지 검정하시오."
   ]
  },
  {
   "cell_type": "code",
   "execution_count": 16,
   "id": "d0eb03fd-c651-47ba-a9f8-0673541133a4",
   "metadata": {},
   "outputs": [
    {
     "data": {
      "text/plain": [
       "Chi2ContingencyResult(statistic=2.678571428571429, pvalue=0.26203276801401193, dof=2, expected_freq=array([[40., 35., 25.],\n",
       "       [40., 35., 25.]]))"
      ]
     },
     "execution_count": 16,
     "metadata": {},
     "output_type": "execute_result"
    }
   ],
   "source": [
    "import numpy as np\n",
    "from scipy.stats import chi2_contingency\n",
    "\n",
    "# 데이터 구성: 행은 성별, 열은 과목\n",
    "data = np.array([[45, 30, 25],\n",
    "                 [35, 40, 25]])\n",
    "stats.chi2_contingency(data)"
   ]
  },
  {
   "cell_type": "code",
   "execution_count": null,
   "id": "eafdad98-d326-4245-a3f0-abaed3590562",
   "metadata": {},
   "outputs": [],
   "source": [
    "# pvalue = 0.262 > 0.05 ;  귀무가설 기각X.  성별과 좋아하는 과목은 서로 독립이 아니다."
   ]
  },
  {
   "cell_type": "markdown",
   "id": "873c1975-fff2-4fc9-8fd2-1a94d9ea70b2",
   "metadata": {},
   "source": [
    "2. [동질성 검정] 세 지역(지역 A, 지역 B, 지역 C)의 소비자들이 선호하는 음료(탄산음료, 주스, 물)에 대해 조사를 진행하였습니다. 조사 결과는 다음과 같습니다.\n",
    "\n",
    "* 귀무가설(H₀): 세 지역의 소비자들이 선호하는 음료 분포는 동일하다.\n",
    "* 대립가설(H₁): 세 지역의 소비자들이 선호하는 음료 분포는 동일하지 않다.\n",
    "\n",
    "유의수준 0.05에서 위 데이터를 바탕으로 카이제곱 동질성 검정을 실시하여, 세 지역 간 음료 선호 분포에 차이가 있는지 검정하시오."
   ]
  },
  {
   "cell_type": "code",
   "execution_count": 15,
   "id": "ea44a934-da13-499d-baf5-2d78ca1e1a7b",
   "metadata": {},
   "outputs": [
    {
     "data": {
      "text/plain": [
       "Chi2ContingencyResult(statistic=9.583333333333334, pvalue=0.04806281086119778, dof=4, expected_freq=array([[40., 30., 30.],\n",
       "       [40., 30., 30.],\n",
       "       [40., 30., 30.]]))"
      ]
     },
     "execution_count": 15,
     "metadata": {},
     "output_type": "execute_result"
    }
   ],
   "source": [
    "# 데이터 구성: 행은 지역, 열은 음료 종류\n",
    "data = np.array([[40, 30, 30],\n",
    "                 [35, 25, 40],\n",
    "                 [45, 35, 20]])\n",
    "stats.chi2_contingency(data)"
   ]
  },
  {
   "cell_type": "code",
   "execution_count": null,
   "id": "eee58380-f581-4848-b2a0-7f744255e08e",
   "metadata": {},
   "outputs": [],
   "source": [
    "# pvalue = 0.048 < 0.05 ;  귀무가설 기각.  세 지역의 소비자들이 선호하는 음료 분포는 동일하다."
   ]
  }
 ],
 "metadata": {
  "kernelspec": {
   "display_name": "Python 3 (ipykernel)",
   "language": "python",
   "name": "python3"
  },
  "language_info": {
   "codemirror_mode": {
    "name": "ipython",
    "version": 3
   },
   "file_extension": ".py",
   "mimetype": "text/x-python",
   "name": "python",
   "nbconvert_exporter": "python",
   "pygments_lexer": "ipython3",
   "version": "3.12.7"
  }
 },
 "nbformat": 4,
 "nbformat_minor": 5
}
