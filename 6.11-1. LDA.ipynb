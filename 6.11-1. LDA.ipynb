{
 "cells": [
  {
   "cell_type": "code",
   "execution_count": 3,
   "id": "473d514c-3257-49b2-93ca-dfba24b8fc2d",
   "metadata": {},
   "outputs": [],
   "source": [
    "# LDA 토픽모델링:\n",
    "\n",
    "from konlpy.tag import Okt\n",
    "# !pip install gensim\n",
    "from gensim.corpora import Dictionary\n",
    "from gensim.models import LdaModel\n",
    "\n",
    "documents = [\n",
    "    \"국토교통부는 부동산 투기 근절을 위해 강력한 세금 정책을 예고했습니다. 다주택자에 대한 규제가 핵심입니다.\",\n",
    "    \"정부의 새로운 공급 대책 발표 이후, 부동산 시장의 반응은 엇갈리고 있습니다. 전문가들은 정책의 실효성에 주목합니다.\",\n",
    "    \"치솟는 집값 안정을 위해 정부는 대출 총량 규제를 더욱 강화할 방침입니다. 서민들의 내 집 마련이 어려워지고 있습니다.\",\n",
    "    \"이번 부동산 정책은 신혼부부와 청년층을 위한 특별 공급 물량 확대에 초점을 맞추고 있습니다.\",\n",
    "    \"부동산 시장의 과열을 막기 위해 금리 인상과 같은 금융 정책이 함께 동원되어야 한다는 목소리가 높습니다.\",\n",
    "    \"최근 반려동물을 가족처럼 여기는 사람들이 늘어나면서 펫팸족이라는 신조어가 생겼습니다. 동물에 대한 사랑이 깊어지고 있습니다.\",\n",
    "    \"유기견 보호소에서는 매일 새로운 강아지들이 구조되고 있습니다. 많은 유기견들이 새로운 가족을 기다리며 입양을 희망합니다.\",\n",
    "    \"강아지 입양 전에는 신중한 고민이 필요합니다. 한 생명을 책임지는 일이기에 사랑과 헌신이 중요합니다.\",\n",
    "    \"동물보호단체는 유기동물 안락사를 줄이기 위해 사회적인 관심과 적극적인 입양 캠페인이 필요하다고 강조했습니다.\",\n",
    "    \"길고양이들을 위한 겨울나기 쉼터가 마련되었습니다. 시민들의 따뜻한 사랑 덕분에 동물들이 추운 겨울을 보낼 수 있게 됐습니다.\"\n",
    "]"
   ]
  },
  {
   "cell_type": "code",
   "execution_count": 4,
   "id": "33c889d4-cc18-4e6d-8ce4-29f8ff5470f0",
   "metadata": {},
   "outputs": [
    {
     "data": {
      "text/plain": [
       "[['국토교통부', '부동산', '투기', '근절', '위해', '세금', '정책', '예고', '주택', '대한', '규제', '핵심'],\n",
       " ['정부', '공급', '대책', '발표', '이후', '부동산', '시장', '반응', '전문가', '정책', '실효', '주목'],\n",
       " ['집값', '안정', '위해', '정부', '대출', '총량', '규제', '더욱', '방침', '서민', '내', '집', '마련'],\n",
       " ['이번', '부동산', '정책', '신혼부부', '청년', '층', '위', '특별', '공급', '물량', '확대', '초점'],\n",
       " ['부동산', '시장', '과열', '위해', '금리', '인상', '금융', '정책', '동원', '목소리'],\n",
       " ['최근', '반려동물', '가족', '사람', '펫팸족', '신조어', '동물', '대한', '사랑'],\n",
       " ['유기견', '보호', '소', '매일', '강아지', '구조', '유기견', '가족', '입양', '희망'],\n",
       " ['강아지', '입양', '전', '고민', '생명', '이기', '사랑', '헌신'],\n",
       " ['동물보호', '단체', '유기동물', '안락사', '위해', '사회', '관심', '적극', '입양', '캠페인', '강조'],\n",
       " ['길고양이', '위', '겨울나기', '터', '마련', '시민', '사랑', '덕분', '동물', '겨울', '수']]"
      ]
     },
     "execution_count": 4,
     "metadata": {},
     "output_type": "execute_result"
    }
   ],
   "source": [
    "okt = Okt()\n",
    "tokenized_docs = [okt.nouns(i) for i in documents]        # 각각의 문장 내에서 토큰화 \n",
    "tokenized_docs"
   ]
  },
  {
   "cell_type": "code",
   "execution_count": 8,
   "id": "af8f2126-67f5-4173-94eb-adbf423a2e59",
   "metadata": {
    "scrolled": true
   },
   "outputs": [
    {
     "data": {
      "text/plain": [
       "[(0, '국토교통부'),\n",
       " (1, '규제'),\n",
       " (2, '근절'),\n",
       " (3, '대한'),\n",
       " (4, '부동산'),\n",
       " (5, '세금'),\n",
       " (6, '예고'),\n",
       " (7, '위해'),\n",
       " (8, '정책'),\n",
       " (9, '주택'),\n",
       " (10, '투기'),\n",
       " (11, '핵심'),\n",
       " (12, '공급'),\n",
       " (13, '대책'),\n",
       " (14, '반응'),\n",
       " (15, '발표'),\n",
       " (16, '시장'),\n",
       " (17, '실효'),\n",
       " (18, '이후'),\n",
       " (19, '전문가'),\n",
       " (20, '정부'),\n",
       " (21, '주목'),\n",
       " (22, '내'),\n",
       " (23, '대출'),\n",
       " (24, '더욱'),\n",
       " (25, '마련'),\n",
       " (26, '방침'),\n",
       " (27, '서민'),\n",
       " (28, '안정'),\n",
       " (29, '집'),\n",
       " (30, '집값'),\n",
       " (31, '총량'),\n",
       " (32, '물량'),\n",
       " (33, '신혼부부'),\n",
       " (34, '위'),\n",
       " (35, '이번'),\n",
       " (36, '청년'),\n",
       " (37, '초점'),\n",
       " (38, '층'),\n",
       " (39, '특별'),\n",
       " (40, '확대'),\n",
       " (41, '과열'),\n",
       " (42, '금리'),\n",
       " (43, '금융'),\n",
       " (44, '동원'),\n",
       " (45, '목소리'),\n",
       " (46, '인상'),\n",
       " (47, '가족'),\n",
       " (48, '동물'),\n",
       " (49, '반려동물'),\n",
       " (50, '사람'),\n",
       " (51, '사랑'),\n",
       " (52, '신조어'),\n",
       " (53, '최근'),\n",
       " (54, '펫팸족'),\n",
       " (55, '강아지'),\n",
       " (56, '구조'),\n",
       " (57, '매일'),\n",
       " (58, '보호'),\n",
       " (59, '소'),\n",
       " (60, '유기견'),\n",
       " (61, '입양'),\n",
       " (62, '희망'),\n",
       " (63, '고민'),\n",
       " (64, '생명'),\n",
       " (65, '이기'),\n",
       " (66, '전'),\n",
       " (67, '헌신'),\n",
       " (68, '강조'),\n",
       " (69, '관심'),\n",
       " (70, '단체'),\n",
       " (71, '동물보호'),\n",
       " (72, '사회'),\n",
       " (73, '안락사'),\n",
       " (74, '유기동물'),\n",
       " (75, '적극'),\n",
       " (76, '캠페인'),\n",
       " (77, '겨울'),\n",
       " (78, '겨울나기'),\n",
       " (79, '길고양이'),\n",
       " (80, '덕분'),\n",
       " (81, '수'),\n",
       " (82, '시민'),\n",
       " (83, '터')]"
      ]
     },
     "execution_count": 8,
     "metadata": {},
     "output_type": "execute_result"
    }
   ],
   "source": [
    "dictionary = Dictionary(tokenized_docs)\n",
    "list(dictionary.items())     # 라벨링한 단어들"
   ]
  },
  {
   "cell_type": "code",
   "execution_count": 10,
   "id": "cafffbaf-8567-455f-95b6-2733bb36951a",
   "metadata": {
    "scrolled": true
   },
   "outputs": [
    {
     "data": {
      "text/plain": [
       "[[(0, 1),\n",
       "  (1, 1),\n",
       "  (2, 1),\n",
       "  (3, 1),\n",
       "  (4, 1),\n",
       "  (5, 1),\n",
       "  (6, 1),\n",
       "  (7, 1),\n",
       "  (8, 1),\n",
       "  (9, 1),\n",
       "  (10, 1),\n",
       "  (11, 1)],\n",
       " [(4, 1),\n",
       "  (8, 1),\n",
       "  (12, 1),\n",
       "  (13, 1),\n",
       "  (14, 1),\n",
       "  (15, 1),\n",
       "  (16, 1),\n",
       "  (17, 1),\n",
       "  (18, 1),\n",
       "  (19, 1),\n",
       "  (20, 1),\n",
       "  (21, 1)],\n",
       " [(1, 1),\n",
       "  (7, 1),\n",
       "  (20, 1),\n",
       "  (22, 1),\n",
       "  (23, 1),\n",
       "  (24, 1),\n",
       "  (25, 1),\n",
       "  (26, 1),\n",
       "  (27, 1),\n",
       "  (28, 1),\n",
       "  (29, 1),\n",
       "  (30, 1),\n",
       "  (31, 1)],\n",
       " [(4, 1),\n",
       "  (8, 1),\n",
       "  (12, 1),\n",
       "  (32, 1),\n",
       "  (33, 1),\n",
       "  (34, 1),\n",
       "  (35, 1),\n",
       "  (36, 1),\n",
       "  (37, 1),\n",
       "  (38, 1),\n",
       "  (39, 1),\n",
       "  (40, 1)],\n",
       " [(4, 1),\n",
       "  (7, 1),\n",
       "  (8, 1),\n",
       "  (16, 1),\n",
       "  (41, 1),\n",
       "  (42, 1),\n",
       "  (43, 1),\n",
       "  (44, 1),\n",
       "  (45, 1),\n",
       "  (46, 1)],\n",
       " [(3, 1),\n",
       "  (47, 1),\n",
       "  (48, 1),\n",
       "  (49, 1),\n",
       "  (50, 1),\n",
       "  (51, 1),\n",
       "  (52, 1),\n",
       "  (53, 1),\n",
       "  (54, 1)],\n",
       " [(47, 1),\n",
       "  (55, 1),\n",
       "  (56, 1),\n",
       "  (57, 1),\n",
       "  (58, 1),\n",
       "  (59, 1),\n",
       "  (60, 2),\n",
       "  (61, 1),\n",
       "  (62, 1)],\n",
       " [(51, 1), (55, 1), (61, 1), (63, 1), (64, 1), (65, 1), (66, 1), (67, 1)],\n",
       " [(7, 1),\n",
       "  (61, 1),\n",
       "  (68, 1),\n",
       "  (69, 1),\n",
       "  (70, 1),\n",
       "  (71, 1),\n",
       "  (72, 1),\n",
       "  (73, 1),\n",
       "  (74, 1),\n",
       "  (75, 1),\n",
       "  (76, 1)],\n",
       " [(25, 1),\n",
       "  (34, 1),\n",
       "  (48, 1),\n",
       "  (51, 1),\n",
       "  (77, 1),\n",
       "  (78, 1),\n",
       "  (79, 1),\n",
       "  (80, 1),\n",
       "  (81, 1),\n",
       "  (82, 1),\n",
       "  (83, 1)]]"
      ]
     },
     "execution_count": 10,
     "metadata": {},
     "output_type": "execute_result"
    }
   ],
   "source": [
    "# 각 문서마다 해당 단어가 몇번 나왔는지\n",
    "# 각 문서별 [단어 ID, 단어빈도] 형태.\n",
    "\n",
    "corpus = [dictionary.doc2bow(doc) for doc in tokenized_docs]\n",
    "corpus"
   ]
  },
  {
   "cell_type": "code",
   "execution_count": 13,
   "id": "b3081bd6-73f7-4928-ba08-17b5ac3b630e",
   "metadata": {},
   "outputs": [
    {
     "name": "stdout",
     "output_type": "stream",
     "text": [
      "토픽수 : 2, Values : 0.3555376383295846\n",
      "토픽수 : 3, Values : 0.29988481068704925\n",
      "토픽수 : 4, Values : 0.21175958883501284\n",
      "토픽수 : 5, Values : 0.287468683346741\n",
      "토픽수 : 6, Values : 0.37300396048254947\n",
      "토픽수 : 7, Values : 0.3972116184678166\n",
      "토픽수 : 8, Values : 0.3989612340916461\n",
      "토픽수 : 9, Values : 0.337472795638718\n",
      "토픽수 : 10, Values : 0.3182337567394131\n"
     ]
    }
   ],
   "source": [
    "from gensim.models import CoherenceModel\n",
    "\n",
    "values = []\n",
    "\n",
    "for n in range(2, 11):\n",
    "    model = LdaModel(corpus=corpus, id2word=dictionary,\n",
    "                     num_topics=n, passes=100)       # corpus와 dictionary로 학습한 LDA모델. 평균적으로 100번 학습 \n",
    "\n",
    "    co = CoherenceModel(model=model, texts=tokenized_docs,\n",
    "                        dictionary=dictionary)\n",
    "    values.append(co.get_coherence())\n",
    "    print(f\"토픽수 : {n}, Values : {co.get_coherence()}\")"
   ]
  },
  {
   "cell_type": "code",
   "execution_count": 14,
   "id": "17fde7ea-e0dc-4910-b4ac-68e642db0cfc",
   "metadata": {},
   "outputs": [
    {
     "data": {
      "image/png": "[encoded data removed]",
      "text/plain": [
       "<Figure size 640x480 with 1 Axes>"
      ]
     },
     "metadata": {},
     "output_type": "display_data"
    }
   ],
   "source": [
    "import matplotlib.pyplot as plt\n",
    "plt.plot(values, marker = \"o\")\n",
    "plt.grid()\n",
    "plt.show()"
   ]
  },
  {
   "cell_type": "code",
   "execution_count": 22,
   "id": "5ccef0a0-dc6a-43b4-b0b7-ec2d4e0bd172",
   "metadata": {},
   "outputs": [
    {
     "data": {
      "text/plain": [
       "[(0, '0.037*\"입양\" + 0.027*\"사랑\" + 0.027*\"유기견\" + 0.027*\"강아지\" + 0.027*\"위\"'),\n",
       " (1, '0.036*\"부동산\" + 0.036*\"정책\" + 0.036*\"위해\" + 0.025*\"규제\" + 0.025*\"정부\"')]"
      ]
     },
     "execution_count": 22,
     "metadata": {},
     "output_type": "execute_result"
    }
   ],
   "source": [
    "# 0: 동물관련 토픽\n",
    "# 1: 부동산 정책 및 규제\n",
    "\n",
    "model = LdaModel(corpus, num_topics=2, id2word=dictionary, passes=100)      # 토픽은 더이상 줄이기 애매할때까지 줄일 것\n",
    "topics = model.print_topics(num_words=5)\n",
    "topics"
   ]
  },
  {
   "cell_type": "code",
   "execution_count": 32,
   "id": "abaf1af7-8914-484e-9a89-b129e2fb9016",
   "metadata": {},
   "outputs": [
    {
     "name": "stdout",
     "output_type": "stream",
     "text": [
      "0번째 문서 토픽 : [(0, 0.040699385), (1, 0.9593006)] - 1\n",
      "1번째 문서 토픽 : [(0, 0.041546285), (1, 0.9584537)] - 1\n",
      "2번째 문서 토픽 : [(0, 0.03827419), (1, 0.96172583)] - 1\n",
      "3번째 문서 토픽 : [(0, 0.94772494), (1, 0.052275073)] - 0\n",
      "4번째 문서 토픽 : [(0, 0.048343953), (1, 0.95165604)] - 1\n",
      "5번째 문서 토픽 : [(0, 0.063341804), (1, 0.9366582)] - 1\n",
      "6번째 문서 토픽 : [(0, 0.95186114), (1, 0.048138846)] - 0\n",
      "7번째 문서 토픽 : [(0, 0.9417439), (1, 0.058256134)] - 0\n",
      "8번째 문서 토픽 : [(0, 0.9525053), (1, 0.047494695)] - 0\n",
      "9번째 문서 토픽 : [(0, 0.9538014), (1, 0.046198625)] - 0\n"
     ]
    }
   ],
   "source": [
    "import numpy as np\n",
    "\n",
    "def make_topic(x):\n",
    "    check = []\n",
    "    for i in x:\n",
    "        check.append(i[1])\n",
    "    return np.argmax(check)\n",
    "\n",
    "box = []\n",
    "for i, doc_bow in enumerate(corpus):\n",
    "    doc_topic = model.get_document_topics(doc_bow)\n",
    "    print(f\"{i}번째 문서 토픽 : {doc_topic} - {make_topic(doc_topic)}\")\n",
    "    box.append(make_topic(doc_topic))\n",
    "# 0번째 문서는  4% 확률로 1번 토픽, 95% 확률로 2번 토픽 "
   ]
  },
  {
   "cell_type": "code",
   "execution_count": 33,
   "id": "ef5df665-cc1b-4f01-8488-c37a2e8d1b51",
   "metadata": {},
   "outputs": [
    {
     "data": {
      "text/plain": [
       "[1, 1, 1, 0, 1, 1, 0, 0, 0, 0]"
      ]
     },
     "execution_count": 33,
     "metadata": {},
     "output_type": "execute_result"
    }
   ],
   "source": [
    "box"
   ]
  },
  {
   "cell_type": "code",
   "execution_count": 34,
   "id": "914a161c-eeed-4c99-a660-453a80970bc1",
   "metadata": {},
   "outputs": [
    {
     "data": {
      "text/html": [
       "<div>\n",
       "<style scoped>\n",
       "    .dataframe tbody tr th:only-of-type {\n",
       "        vertical-align: middle;\n",
       "    }\n",
       "\n",
       "    .dataframe tbody tr th {\n",
       "        vertical-align: top;\n",
       "    }\n",
       "\n",
       "    .dataframe thead th {\n",
       "        text-align: right;\n",
       "    }\n",
       "</style>\n",
       "<table border=\"1\" class=\"dataframe\">\n",
       "  <thead>\n",
       "    <tr style=\"text-align: right;\">\n",
       "      <th></th>\n",
       "      <th>내용</th>\n",
       "      <th>토픽</th>\n",
       "    </tr>\n",
       "  </thead>\n",
       "  <tbody>\n",
       "    <tr>\n",
       "      <th>0</th>\n",
       "      <td>국토교통부는 부동산 투기 근절을 위해 강력한 세금 정책을 예고했습니다. 다주택자에 ...</td>\n",
       "      <td>1</td>\n",
       "    </tr>\n",
       "    <tr>\n",
       "      <th>1</th>\n",
       "      <td>정부의 새로운 공급 대책 발표 이후, 부동산 시장의 반응은 엇갈리고 있습니다. 전문...</td>\n",
       "      <td>1</td>\n",
       "    </tr>\n",
       "    <tr>\n",
       "      <th>2</th>\n",
       "      <td>치솟는 집값 안정을 위해 정부는 대출 총량 규제를 더욱 강화할 방침입니다. 서민들의...</td>\n",
       "      <td>1</td>\n",
       "    </tr>\n",
       "    <tr>\n",
       "      <th>3</th>\n",
       "      <td>이번 부동산 정책은 신혼부부와 청년층을 위한 특별 공급 물량 확대에 초점을 맞추고 ...</td>\n",
       "      <td>0</td>\n",
       "    </tr>\n",
       "    <tr>\n",
       "      <th>4</th>\n",
       "      <td>부동산 시장의 과열을 막기 위해 금리 인상과 같은 금융 정책이 함께 동원되어야 한다...</td>\n",
       "      <td>1</td>\n",
       "    </tr>\n",
       "    <tr>\n",
       "      <th>5</th>\n",
       "      <td>최근 반려동물을 가족처럼 여기는 사람들이 늘어나면서 펫팸족이라는 신조어가 생겼습니다...</td>\n",
       "      <td>1</td>\n",
       "    </tr>\n",
       "    <tr>\n",
       "      <th>6</th>\n",
       "      <td>유기견 보호소에서는 매일 새로운 강아지들이 구조되고 있습니다. 많은 유기견들이 새로...</td>\n",
       "      <td>0</td>\n",
       "    </tr>\n",
       "    <tr>\n",
       "      <th>7</th>\n",
       "      <td>강아지 입양 전에는 신중한 고민이 필요합니다. 한 생명을 책임지는 일이기에 사랑과 ...</td>\n",
       "      <td>0</td>\n",
       "    </tr>\n",
       "    <tr>\n",
       "      <th>8</th>\n",
       "      <td>동물보호단체는 유기동물 안락사를 줄이기 위해 사회적인 관심과 적극적인 입양 캠페인이...</td>\n",
       "      <td>0</td>\n",
       "    </tr>\n",
       "    <tr>\n",
       "      <th>9</th>\n",
       "      <td>길고양이들을 위한 겨울나기 쉼터가 마련되었습니다. 시민들의 따뜻한 사랑 덕분에 동물...</td>\n",
       "      <td>0</td>\n",
       "    </tr>\n",
       "  </tbody>\n",
       "</table>\n",
       "</div>"
      ],
      "text/plain": [
       "                                                  내용  토픽\n",
       "0  국토교통부는 부동산 투기 근절을 위해 강력한 세금 정책을 예고했습니다. 다주택자에 ...   1\n",
       "1  정부의 새로운 공급 대책 발표 이후, 부동산 시장의 반응은 엇갈리고 있습니다. 전문...   1\n",
       "2  치솟는 집값 안정을 위해 정부는 대출 총량 규제를 더욱 강화할 방침입니다. 서민들의...   1\n",
       "3  이번 부동산 정책은 신혼부부와 청년층을 위한 특별 공급 물량 확대에 초점을 맞추고 ...   0\n",
       "4  부동산 시장의 과열을 막기 위해 금리 인상과 같은 금융 정책이 함께 동원되어야 한다...   1\n",
       "5  최근 반려동물을 가족처럼 여기는 사람들이 늘어나면서 펫팸족이라는 신조어가 생겼습니다...   1\n",
       "6  유기견 보호소에서는 매일 새로운 강아지들이 구조되고 있습니다. 많은 유기견들이 새로...   0\n",
       "7  강아지 입양 전에는 신중한 고민이 필요합니다. 한 생명을 책임지는 일이기에 사랑과 ...   0\n",
       "8  동물보호단체는 유기동물 안락사를 줄이기 위해 사회적인 관심과 적극적인 입양 캠페인이...   0\n",
       "9  길고양이들을 위한 겨울나기 쉼터가 마련되었습니다. 시민들의 따뜻한 사랑 덕분에 동물...   0"
      ]
     },
     "execution_count": 34,
     "metadata": {},
     "output_type": "execute_result"
    }
   ],
   "source": [
    "import pandas as pd\n",
    "result = pd.DataFrame(documents, columns = [\"내용\"])\n",
    "result[\"토픽\"] = box\n",
    "result"
   ]
  },
  {
   "cell_type": "code",
   "execution_count": 35,
   "id": "e0efa155-67bb-4d2e-bd0c-6b6f18bb6b61",
   "metadata": {},
   "outputs": [
    {
     "data": {
      "text/html": [
       "\n",
       "<link rel=\"stylesheet\" type=\"text/css\" href=\"https://cdn.jsdelivr.net/gh/bmabey/pyLDAvis@3.4.0/pyLDAvis/js/ldavis.v1.0.0.css\">\n",
       "\n",
       "\n",
       "<div id=\"ldavis_el725722441842161104218654753\" style=\"background-color:white;\"></div>\n",
       "<script type=\"text/javascript\">\n",
       "\n",
       "var ldavis_el725722441842161104218654753_data = {\"mdsDat\": {\"x\": [0.06613593938145627, -0.06613593938145627], \"y\": [0.0, 0.0], \"topics\": [1, 2], \"cluster\": [1, 1], \"Freq\": [51.91390041193282, 48.08609958806718]}, \"tinfo\": {\"Term\": [\"\\uc785\\uc591\", \"\\uc720\\uae30\\uacac\", \"\\uac15\\uc544\\uc9c0\", \"\\uc704\", \"\\uaddc\\uc81c\", \"\\uc815\\ubd80\", \"\\uc2dc\\uc7a5\", \"\\ub300\\ud55c\", \"\\ubd80\\ub3d9\\uc0b0\", \"\\uc815\\ucc45\", \"\\uc704\\ud574\", \"\\uad6c\\uc870\", \"\\ub9e4\\uc77c\", \"\\ubcf4\\ud638\", \"\\uc18c\", \"\\ud76c\\ub9dd\", \"\\ud130\", \"\\uaca8\\uc6b8\\ub098\\uae30\", \"\\uc2dc\\ubbfc\", \"\\uc218\", \"\\ub355\\ubd84\", \"\\uaca8\\uc6b8\", \"\\uae38\\uace0\\uc591\\uc774\", \"\\uc720\\uae30\\ub3d9\\ubb3c\", \"\\ub3d9\\ubb3c\\ubcf4\\ud638\", \"\\ucea0\\ud398\\uc778\", \"\\uc801\\uadf9\", \"\\uc0ac\\ud68c\", \"\\uac15\\uc870\", \"\\uad00\\uc2ec\", \"\\uaddc\\uc81c\", \"\\uc815\\ubd80\", \"\\uc2dc\\uc7a5\", \"\\ub300\\ud55c\", \"\\ub0b4\", \"\\ub300\\ucd9c\", \"\\ub354\\uc6b1\", \"\\ubc29\\uce68\", \"\\uc11c\\ubbfc\", \"\\uc548\\uc815\", \"\\uc9d1\", \"\\uc9d1\\uac12\", \"\\ucd1d\\ub7c9\", \"\\uad6d\\ud1a0\\uad50\\ud1b5\\ubd80\", \"\\uadfc\\uc808\", \"\\uc138\\uae08\", \"\\uc608\\uace0\", \"\\uc8fc\\ud0dd\", \"\\ud22c\\uae30\", \"\\ud575\\uc2ec\", \"\\ub300\\ucc45\", \"\\ubc18\\uc751\", \"\\ubc1c\\ud45c\", \"\\uc2e4\\ud6a8\", \"\\uc774\\ud6c4\", \"\\uc804\\ubb38\\uac00\", \"\\uc8fc\\ubaa9\", \"\\uacfc\\uc5f4\", \"\\uae08\\ub9ac\", \"\\uae08\\uc735\", \"\\ubd80\\ub3d9\\uc0b0\", \"\\uc815\\ucc45\", \"\\uc704\\ud574\", \"\\uacf5\\uae09\", \"\\ub9c8\\ub828\", \"\\uc785\\uc591\", \"\\uc720\\uae30\\uacac\", \"\\uac15\\uc544\\uc9c0\", \"\\uc704\", \"\\uad6c\\uc870\", \"\\ub9e4\\uc77c\", \"\\ubcf4\\ud638\", \"\\uc18c\", \"\\ud76c\\ub9dd\", \"\\uaca8\\uc6b8\", \"\\uaca8\\uc6b8\\ub098\\uae30\", \"\\uae38\\uace0\\uc591\\uc774\", \"\\ub355\\ubd84\", \"\\uc218\", \"\\uc2dc\\ubbfc\", \"\\ud130\", \"\\uac15\\uc870\", \"\\uad00\\uc2ec\", \"\\ub2e8\\uccb4\", \"\\ub3d9\\ubb3c\\ubcf4\\ud638\", \"\\uc0ac\\ud68c\", \"\\uc548\\ub77d\\uc0ac\", \"\\uc720\\uae30\\ub3d9\\ubb3c\", \"\\uc801\\uadf9\", \"\\ucea0\\ud398\\uc778\", \"\\uace0\\ubbfc\", \"\\uc0dd\\uba85\", \"\\uc774\\uae30\", \"\\uc804\", \"\\ud5cc\\uc2e0\", \"\\uc0ac\\ub791\", \"\\uac00\\uc871\", \"\\ub3d9\\ubb3c\", \"\\ub9c8\\ub828\"], \"Freq\": [2.0, 1.0, 1.0, 1.0, 1.0, 1.0, 1.0, 1.0, 2.0, 2.0, 2.0, 1.0, 1.0, 1.0, 1.0, 1.0, 1.0, 1.0, 1.0, 1.0, 1.0, 1.0, 1.0, 1.0, 1.0, 1.0, 1.0, 1.0, 1.0, 1.0, 1.4279105437069122, 1.4278818246463236, 1.427731336768839, 1.4273011774576942, 0.856360143627235, 0.856360143627235, 0.856360143627235, 0.856360143627235, 0.856360143627235, 0.856360143627235, 0.856360143627235, 0.856360143627235, 0.856360143627235, 0.8563064650921711, 0.8563064650921711, 0.8563064650921711, 0.8563064650921711, 0.8563064650921711, 0.8563064650921711, 0.8563064650921711, 0.856250750114629, 0.856250750114629, 0.856250750114629, 0.856250750114629, 0.856250750114629, 0.856250750114629, 0.856250750114629, 0.8560674702915995, 0.8560674702915995, 0.8560674702915995, 2.02952483965793, 2.02952483965793, 2.019891317974062, 0.8619967553242652, 0.8587686806976234, 1.9341451309340352, 1.381279874517567, 1.3811456094934993, 1.3809936423805236, 0.8283166278493836, 0.8283166278493836, 0.8283166278493836, 0.8283166278493836, 0.8283166278493836, 0.8283000865531909, 0.8283000865531909, 0.8283000865531909, 0.8283000865531909, 0.8283000865531909, 0.8283000865531909, 0.8283000865531909, 0.8282202820540152, 0.8282202820540152, 0.8282202820540152, 0.8282202820540152, 0.8282202820540152, 0.8282202820540152, 0.8282202820540152, 0.8282202820540152, 0.8282202820540152, 0.82805506255754, 0.82805506255754, 0.82805506255754, 0.82805506255754, 0.82805506255754, 1.4037493391072875, 0.8368787316500326, 0.8367554941567601, 0.8281655313309444], \"Total\": [2.0, 1.0, 1.0, 1.0, 1.0, 1.0, 1.0, 1.0, 2.0, 2.0, 2.0, 1.0, 1.0, 1.0, 1.0, 1.0, 1.0, 1.0, 1.0, 1.0, 1.0, 1.0, 1.0, 1.0, 1.0, 1.0, 1.0, 1.0, 1.0, 1.0, 1.7054711238698588, 1.7054701187353476, 1.705465020145452, 1.7054509808395544, 1.1338666260130132, 1.1338666260130132, 1.1338666260130132, 1.1338666260130132, 1.1338666260130132, 1.1338666260130132, 1.1338666260130132, 1.1338666260130132, 1.1338666260130132, 1.133864844585595, 1.133864844585595, 1.133864844585595, 1.133864844585595, 1.133864844585595, 1.133864844585595, 1.133864844585595, 1.1338631548356766, 1.1338631548356766, 1.1338631548356766, 1.1338631548356766, 1.1338631548356766, 1.1338631548356766, 1.1338631548356766, 1.133857041000817, 1.133857041000817, 1.133857041000817, 2.831043600347758, 2.831043600347758, 2.8307299866421656, 1.687039367320195, 1.6869342120285677, 2.221324875794319, 1.6683254491484276, 1.6683298710787664, 1.668334945010737, 1.115329253885278, 1.115329253885278, 1.115329253885278, 1.115329253885278, 1.115329253885278, 1.1153298395924907, 1.1153298395924907, 1.1153298395924907, 1.1153298395924907, 1.1153298395924907, 1.1153298395924907, 1.1153298395924907, 1.1153324326889678, 1.1153324326889678, 1.1153324326889678, 1.1153324326889678, 1.1153324326889678, 1.1153324326889678, 1.1153324326889678, 1.1153324326889678, 1.1153324326889678, 1.115337934953574, 1.115337934953574, 1.115337934953574, 1.115337934953574, 1.115337934953574, 2.2391691624639423, 1.6866408016482022, 1.6866450245674696, 1.6869342120285677], \"Category\": [\"Default\", \"Default\", \"Default\", \"Default\", \"Default\", \"Default\", \"Default\", \"Default\", \"Default\", \"Default\", \"Default\", \"Default\", \"Default\", \"Default\", \"Default\", \"Default\", \"Default\", \"Default\", \"Default\", \"Default\", \"Default\", \"Default\", \"Default\", \"Default\", \"Default\", \"Default\", \"Default\", \"Default\", \"Default\", \"Default\", \"Topic1\", \"Topic1\", \"Topic1\", \"Topic1\", \"Topic1\", \"Topic1\", \"Topic1\", \"Topic1\", \"Topic1\", \"Topic1\", \"Topic1\", \"Topic1\", \"Topic1\", \"Topic1\", \"Topic1\", \"Topic1\", \"Topic1\", \"Topic1\", \"Topic1\", \"Topic1\", \"Topic1\", \"Topic1\", \"Topic1\", \"Topic1\", \"Topic1\", \"Topic1\", \"Topic1\", \"Topic1\", \"Topic1\", \"Topic1\", \"Topic1\", \"Topic1\", \"Topic1\", \"Topic1\", \"Topic1\", \"Topic2\", \"Topic2\", \"Topic2\", \"Topic2\", \"Topic2\", \"Topic2\", \"Topic2\", \"Topic2\", \"Topic2\", \"Topic2\", \"Topic2\", \"Topic2\", \"Topic2\", \"Topic2\", \"Topic2\", \"Topic2\", \"Topic2\", \"Topic2\", \"Topic2\", \"Topic2\", \"Topic2\", \"Topic2\", \"Topic2\", \"Topic2\", \"Topic2\", \"Topic2\", \"Topic2\", \"Topic2\", \"Topic2\", \"Topic2\", \"Topic2\", \"Topic2\", \"Topic2\", \"Topic2\"], \"logprob\": [30.0, 29.0, 28.0, 27.0, 26.0, 25.0, 24.0, 23.0, 22.0, 21.0, 20.0, 19.0, 18.0, 17.0, 16.0, 15.0, 14.0, 13.0, 12.0, 11.0, 10.0, 9.0, 8.0, 7.0, 6.0, 5.0, 4.0, 3.0, 2.0, 1.0, -3.6703, -3.6704, -3.6705, -3.6708, -4.1816, -4.1816, -4.1816, -4.1816, -4.1816, -4.1816, -4.1816, -4.1816, -4.1816, -4.1817, -4.1817, -4.1817, -4.1817, -4.1817, -4.1817, -4.1817, -4.1817, -4.1817, -4.1817, -4.1817, -4.1817, -4.1817, -4.1817, -4.182, -4.182, -4.182, -3.3187, -3.3187, -3.3235, -4.1751, -4.1788, -3.2903, -3.6269, -3.627, -3.6272, -4.1383, -4.1383, -4.1383, -4.1383, -4.1383, -4.1383, -4.1383, -4.1383, -4.1383, -4.1383, -4.1383, -4.1383, -4.1384, -4.1384, -4.1384, -4.1384, -4.1384, -4.1384, -4.1384, -4.1384, -4.1384, -4.1386, -4.1386, -4.1386, -4.1386, -4.1386, -3.6108, -4.128, -4.1282, -4.1385], \"loglift\": [30.0, 29.0, 28.0, 27.0, 26.0, 25.0, 24.0, 23.0, 22.0, 21.0, 20.0, 19.0, 18.0, 17.0, 16.0, 15.0, 14.0, 13.0, 12.0, 11.0, 10.0, 9.0, 8.0, 7.0, 6.0, 5.0, 4.0, 3.0, 2.0, 1.0, 0.478, 0.4779, 0.4778, 0.4775, 0.3749, 0.3749, 0.3749, 0.3749, 0.3749, 0.3749, 0.3749, 0.3749, 0.3749, 0.3748, 0.3748, 0.3748, 0.3748, 0.3748, 0.3748, 0.3748, 0.3748, 0.3748, 0.3748, 0.3748, 0.3748, 0.3748, 0.3748, 0.3746, 0.3746, 0.3746, 0.3227, 0.3227, 0.3181, -0.0159, -0.0196, 0.5937, 0.5434, 0.5433, 0.5432, 0.4347, 0.4347, 0.4347, 0.4347, 0.4347, 0.4346, 0.4346, 0.4346, 0.4346, 0.4346, 0.4346, 0.4346, 0.4345, 0.4345, 0.4345, 0.4345, 0.4345, 0.4345, 0.4345, 0.4345, 0.4345, 0.4343, 0.4343, 0.4343, 0.4343, 0.4343, 0.2652, 0.0314, 0.0312, 0.0207]}, \"token.table\": {\"Topic\": [1, 2, 2, 2, 2, 2, 2, 1, 2, 1, 2, 2, 1, 1, 1, 1, 1, 2, 1, 2, 1, 1, 1, 1, 2, 1, 2, 2, 1, 2, 2, 1, 1, 1, 2, 1, 2, 1, 2, 2, 2, 1, 1, 2, 2, 2, 1, 1, 2, 1, 1, 2, 1, 2, 2, 2, 2, 1, 2, 2, 2, 1, 1, 1, 2, 1, 1, 1, 1, 1, 2, 2, 1, 1, 2, 2], \"Freq\": [0.592894467525504, 0.592894467525504, 0.599401843325736, 0.8965936708117493, 0.8965957553555378, 0.8965957553555378, 0.89658924767194, 0.5927543952862618, 0.5927543952862618, 0.8819453986168609, 0.8965936708117493, 0.8965962261964119, 0.8819393288143439, 0.5863482447776162, 0.8819393288143439, 0.8819453986168609, 0.8819453986168609, 0.8965957553555378, 0.8819379431920268, 0.8965936708117493, 0.8819406431324806, 0.8819379431920268, 0.5863551701191217, 0.8819379431920268, 0.8965957553555378, 0.5928929830723831, 0.5928929830723831, 0.8965936708117493, 0.5927913447184657, 0.5927913447184657, 0.8965962261964119, 0.8819406431324806, 0.8819406431324806, 0.8819379431920268, 0.8965962261964119, 0.7064532668286442, 0.3532266334143221, 0.4465942175175446, 0.4465942175175446, 0.8965936708117493, 0.89658924767194, 0.8819379431920268, 0.8819393288143439, 0.8965962261964119, 0.8965957553555378, 0.8965957553555378, 0.5863503432716047, 0.8819406431324806, 0.8965936708117493, 0.8819379431920268, 0.8819393288143439, 0.599400020355963, 0.7065315340699153, 0.35326576703495766, 0.5994034320524424, 0.8965936708117493, 0.89658924767194, 0.8819406431324806, 0.9003635721158636, 0.8965936708117493, 0.89658924767194, 0.8819406431324806, 0.5863485903473508, 0.7064532668286442, 0.3532266334143221, 0.8819406431324806, 0.8819393288143439, 0.8819379431920268, 0.8819379431920268, 0.8819379431920268, 0.8965936708117493, 0.8965957553555378, 0.8819393288143439, 0.8819393288143439, 0.89658924767194, 0.8965962261964119], \"Term\": [\"\\uac00\\uc871\", \"\\uac00\\uc871\", \"\\uac15\\uc544\\uc9c0\", \"\\uac15\\uc870\", \"\\uaca8\\uc6b8\", \"\\uaca8\\uc6b8\\ub098\\uae30\", \"\\uace0\\ubbfc\", \"\\uacf5\\uae09\", \"\\uacf5\\uae09\", \"\\uacfc\\uc5f4\", \"\\uad00\\uc2ec\", \"\\uad6c\\uc870\", \"\\uad6d\\ud1a0\\uad50\\ud1b5\\ubd80\", \"\\uaddc\\uc81c\", \"\\uadfc\\uc808\", \"\\uae08\\ub9ac\", \"\\uae08\\uc735\", \"\\uae38\\uace0\\uc591\\uc774\", \"\\ub0b4\", \"\\ub2e8\\uccb4\", \"\\ub300\\ucc45\", \"\\ub300\\ucd9c\", \"\\ub300\\ud55c\", \"\\ub354\\uc6b1\", \"\\ub355\\ubd84\", \"\\ub3d9\\ubb3c\", \"\\ub3d9\\ubb3c\", \"\\ub3d9\\ubb3c\\ubcf4\\ud638\", \"\\ub9c8\\ub828\", \"\\ub9c8\\ub828\", \"\\ub9e4\\uc77c\", \"\\ubc18\\uc751\", \"\\ubc1c\\ud45c\", \"\\ubc29\\uce68\", \"\\ubcf4\\ud638\", \"\\ubd80\\ub3d9\\uc0b0\", \"\\ubd80\\ub3d9\\uc0b0\", \"\\uc0ac\\ub791\", \"\\uc0ac\\ub791\", \"\\uc0ac\\ud68c\", \"\\uc0dd\\uba85\", \"\\uc11c\\ubbfc\", \"\\uc138\\uae08\", \"\\uc18c\", \"\\uc218\", \"\\uc2dc\\ubbfc\", \"\\uc2dc\\uc7a5\", \"\\uc2e4\\ud6a8\", \"\\uc548\\ub77d\\uc0ac\", \"\\uc548\\uc815\", \"\\uc608\\uace0\", \"\\uc704\", \"\\uc704\\ud574\", \"\\uc704\\ud574\", \"\\uc720\\uae30\\uacac\", \"\\uc720\\uae30\\ub3d9\\ubb3c\", \"\\uc774\\uae30\", \"\\uc774\\ud6c4\", \"\\uc785\\uc591\", \"\\uc801\\uadf9\", \"\\uc804\", \"\\uc804\\ubb38\\uac00\", \"\\uc815\\ubd80\", \"\\uc815\\ucc45\", \"\\uc815\\ucc45\", \"\\uc8fc\\ubaa9\", \"\\uc8fc\\ud0dd\", \"\\uc9d1\", \"\\uc9d1\\uac12\", \"\\ucd1d\\ub7c9\", \"\\ucea0\\ud398\\uc778\", \"\\ud130\", \"\\ud22c\\uae30\", \"\\ud575\\uc2ec\", \"\\ud5cc\\uc2e0\", \"\\ud76c\\ub9dd\"]}, \"R\": 30, \"lambda.step\": 0.01, \"plot.opts\": {\"xlab\": \"PC1\", \"ylab\": \"PC2\"}, \"topic.order\": [2, 1]};\n",
       "\n",
       "function LDAvis_load_lib(url, callback){\n",
       "  var s = document.createElement('script');\n",
       "  s.src = url;\n",
       "  s.async = true;\n",
       "  s.onreadystatechange = s.onload = callback;\n",
       "  s.onerror = function(){console.warn(\"failed to load library \" + url);};\n",
       "  document.getElementsByTagName(\"head\")[0].appendChild(s);\n",
       "}\n",
       "\n",
       "if(typeof(LDAvis) !== \"undefined\"){\n",
       "   // already loaded: just create the visualization\n",
       "   !function(LDAvis){\n",
       "       new LDAvis(\"#\" + \"ldavis_el725722441842161104218654753\", ldavis_el725722441842161104218654753_data);\n",
       "   }(LDAvis);\n",
       "}else if(typeof define === \"function\" && define.amd){\n",
       "   // require.js is available: use it to load d3/LDAvis\n",
       "   require.config({paths: {d3: \"https://d3js.org/d3.v5\"}});\n",
       "   require([\"d3\"], function(d3){\n",
       "      window.d3 = d3;\n",
       "      LDAvis_load_lib(\"https://cdn.jsdelivr.net/gh/bmabey/pyLDAvis@3.4.0/pyLDAvis/js/ldavis.v3.0.0.js\", function(){\n",
       "        new LDAvis(\"#\" + \"ldavis_el725722441842161104218654753\", ldavis_el725722441842161104218654753_data);\n",
       "      });\n",
       "    });\n",
       "}else{\n",
       "    // require.js not available: dynamically load d3 & LDAvis\n",
       "    LDAvis_load_lib(\"https://d3js.org/d3.v5.js\", function(){\n",
       "         LDAvis_load_lib(\"https://cdn.jsdelivr.net/gh/bmabey/pyLDAvis@3.4.0/pyLDAvis/js/ldavis.v3.0.0.js\", function(){\n",
       "                 new LDAvis(\"#\" + \"ldavis_el725722441842161104218654753\", ldavis_el725722441842161104218654753_data);\n",
       "            })\n",
       "         });\n",
       "}\n",
       "</script>"
      ],
      "text/plain": [
       "<IPython.core.display.HTML object>"
      ]
     },
     "execution_count": 35,
     "metadata": {},
     "output_type": "execute_result"
    }
   ],
   "source": [
    "# !pip install pyLDAvis\n",
    "import pyLDAvis\n",
    "import pyLDAvis.gensim_models\n",
    "\n",
    "A = pyLDAvis.gensim_models.prepare(model, corpus, dictionary)\n",
    "pyLDAvis.display(A)"
   ]
  },
  {
   "cell_type": "code",
   "execution_count": null,
   "id": "d09b86c1-c557-498e-acc5-01fdc02bd7bf",
   "metadata": {},
   "outputs": [],
   "source": []
  },
  {
   "cell_type": "code",
   "execution_count": null,
   "id": "3aa851e2-5576-46f1-94cb-e6bcd7f347a3",
   "metadata": {},
   "outputs": [],
   "source": []
  },
  {
   "cell_type": "code",
   "execution_count": null,
   "id": "5bfc08d8-0037-440f-b79a-804572cbc2f5",
   "metadata": {},
   "outputs": [],
   "source": []
  }
 ],
 "metadata": {
  "kernelspec": {
   "display_name": "Python 3 (ipykernel)",
   "language": "python",
   "name": "python3"
  },
  "language_info": {
   "codemirror_mode": {
    "name": "ipython",
    "version": 3
   },
   "file_extension": ".py",
   "mimetype": "text/x-python",
   "name": "python",
   "nbconvert_exporter": "python",
   "pygments_lexer": "ipython3",
   "version": "3.12.7"
  }
 },
 "nbformat": 4,
 "nbformat_minor": 5
}
