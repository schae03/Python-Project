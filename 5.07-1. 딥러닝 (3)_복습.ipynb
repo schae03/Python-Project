{
 "cells": [
  {
   "cell_type": "markdown",
   "id": "331a2877-8d68-4dcc-a792-b6afe08102b4",
   "metadata": {},
   "source": [
    "# 딥러닝 (3)\n",
    "## 오차제곱합\n",
    "모델이 예측한 값과 실제 값이 얼마나 차이 나는지(이것을 '오차'라고 해요) 측정합니다. 이 오차들을 '제곱'해서 모두 더한 값이 바로 오차제곱합(SSE) 입니다. SSE 값이 작을수록 모델이 예측을 더 잘한다고 볼 수 있습니다."
   ]
  },
  {
   "cell_type": "code",
   "execution_count": 109,
   "id": "f210c293-a44c-4f12-9df3-cb12e5c7ca0b",
   "metadata": {},
   "outputs": [],
   "source": [
    "import numpy as np\n",
    "# 실제 시험 점수 (우리가 이미 알고 있는 정답 값)\n",
    "actual_scores = np.array([60, 75, 80, 85, 95])"
   ]
  },
  {
   "cell_type": "code",
   "execution_count": 2,
   "id": "e27c45e1-7026-48d5-b28c-fb8cf7302c4f",
   "metadata": {},
   "outputs": [],
   "source": [
    "# 모델이 예측한 시험 점수\n",
    "predicted_scores = np.array([55, 78, 75, 88, 92])"
   ]
  },
  {
   "cell_type": "code",
   "execution_count": 3,
   "id": "31be6a3c-f835-4af6-a849-1e2edec999f0",
   "metadata": {},
   "outputs": [
    {
     "name": "stdout",
     "output_type": "stream",
     "text": [
      "각 학생별 오차: [ 5 -3  5 -3  3]\n"
     ]
    }
   ],
   "source": [
    "# 1단계: 각 학생별 오차 계산 (실제 값 - 예측 값)\n",
    "errors = actual_scores - predicted_scores\n",
    "print(f\"각 학생별 오차: {errors}\")"
   ]
  },
  {
   "cell_type": "code",
   "execution_count": 4,
   "id": "9ab483f5-ccda-4224-8af7-0f0c9cbccb10",
   "metadata": {},
   "outputs": [
    {
     "name": "stdout",
     "output_type": "stream",
     "text": [
      "각 오차의 제곱: [25  9 25  9  9]\n"
     ]
    }
   ],
   "source": [
    "# 2단계: 각 오차를 제곱\n",
    "squared_errors = errors ** 2\n",
    "# 또는 squared_errors = np.square(errors) 와 같이 계산해도 됩니다.\n",
    "print(f\"각 오차의 제곱: {squared_errors}\")"
   ]
  },
  {
   "cell_type": "code",
   "execution_count": 5,
   "id": "be13b06b-8f0e-4e27-a43f-a526c57ba71b",
   "metadata": {},
   "outputs": [
    {
     "name": "stdout",
     "output_type": "stream",
     "text": [
      "오차제곱합 (SSE): 77\n"
     ]
    }
   ],
   "source": [
    "# 3단계: 제곱된 오차들을 모두 합하기 (SSE 계산)\n",
    "sse = np.sum(squared_errors)\n",
    "print(f\"오차제곱합 (SSE): {sse}\")"
   ]
  },
  {
   "cell_type": "code",
   "execution_count": 6,
   "id": "f54b5cff-327e-40b2-8978-63e9378fab03",
   "metadata": {},
   "outputs": [],
   "source": [
    "def sum_squares_error(p, r):\n",
    "    return np.sum((p - r) ** 2)"
   ]
  },
  {
   "cell_type": "code",
   "execution_count": 7,
   "id": "b9e59829-4c04-4f49-a737-9d8247320573",
   "metadata": {},
   "outputs": [],
   "source": [
    "import numpy as np\n",
    "real = np.array([0, 0, 1, 0, 0, 0, 0, 0, 0, 0])\n",
    "pred = np.array([0.1, 0.05, 0.6, 0, 0.05, 0.1, 0, 0.1, 0, 0])"
   ]
  },
  {
   "cell_type": "code",
   "execution_count": 8,
   "id": "1377f908-6fd4-48a5-8015-e437d1da8073",
   "metadata": {},
   "outputs": [
    {
     "data": {
      "text/plain": [
       "0.19500000000000006"
      ]
     },
     "execution_count": 8,
     "metadata": {},
     "output_type": "execute_result"
    }
   ],
   "source": [
    "sum_squares_error(pred, real)"
   ]
  },
  {
   "cell_type": "code",
   "execution_count": 9,
   "id": "d208bfdc-d8d0-4cc8-a2e0-c20d393da399",
   "metadata": {},
   "outputs": [],
   "source": [
    "real = np.array([0, 0, 0, 1, 0, 0, 0, 0, 0, 0])\n",
    "pred = np.array([0.1, 0.05, 0.6, 0, 0.05, 0.1, 0, 0.1, 0, 0])"
   ]
  },
  {
   "cell_type": "code",
   "execution_count": 10,
   "id": "967debda-bd3d-4160-81bc-f960ec4c0bfb",
   "metadata": {},
   "outputs": [
    {
     "data": {
      "text/plain": [
       "1.3949999999999998"
      ]
     },
     "execution_count": 10,
     "metadata": {},
     "output_type": "execute_result"
    }
   ],
   "source": [
    "sum_squares_error(pred, real)"
   ]
  },
  {
   "cell_type": "markdown",
   "id": "cd222634-3fde-4185-8d3b-641acb988c93",
   "metadata": {},
   "source": [
    "## 교차 엔트로피 오차\n",
    "교차 엔트로피 오차는 주로 ```카테고리(범주)```를 맞추는 분류 문제에 사용됩니다. 모델이 예측한 확률 분포와 실제 정답의 확률 분포가 얼마나 다른지를 측정합니다. 모델이 틀린 답을 높은 확률로 예측할수록 오차(벌점)를 크게 주고, 맞는 답을 높은 확률로 예측할수록 오차를 작게 줍니다."
   ]
  },
  {
   "cell_type": "code",
   "execution_count": 17,
   "id": "9887e884-8d45-4899-a3a3-30771d2b1599",
   "metadata": {},
   "outputs": [
    {
     "data": {
      "text/plain": [
       "0.510825457099338"
      ]
     },
     "execution_count": 17,
     "metadata": {},
     "output_type": "execute_result"
    }
   ],
   "source": [
    "import numpy as np\n",
    "\n",
    "real = np.array([0, 0, 1, 0, 0, 0, 0, 0, 0, 0])          # 정답은 2\n",
    "# real = np.array([0, 0, 0, 1, 0, 0, 0, 0, 0, 0])   # 정답 3이라고 조작하고 보면 오차 커지는 것 확인 가능\n",
    "pred = np.array([0.1, 0.05, 0.6, 0, 0.05, 0.1, 0, 0.1, 0, 0])     # 0일확률이 0.1, 1일확률이 0.05, ...\n",
    "\n",
    "-sum(real * np.log(pred + 1e-7))      # log0은 불가능하므로 아주 작은값을 더해줌\n",
    "# real을 곱해주면 컴퓨터가 정답이라고 예측한 부분만 도드라짐"
   ]
  },
  {
   "cell_type": "code",
   "execution_count": null,
   "id": "91911f41-2537-480b-8e6e-1153bf758423",
   "metadata": {},
   "outputs": [],
   "source": []
  },
  {
   "cell_type": "code",
   "execution_count": 18,
   "id": "5112c063-095d-4bf3-942f-eaec9c8a017b",
   "metadata": {},
   "outputs": [],
   "source": [
    "def cross_entropy_error(y, t):\n",
    "    delta = 1e-9\n",
    "    if y.ndim == 1:\n",
    "        t = t.reshape(-1, t.size)\n",
    "        y = y.reshape(-1, y.size)\n",
    "    size = len(t)\n",
    "    return -np.sum(np.log(y[np.arange(size), t] + delta)) / size"
   ]
  },
  {
   "cell_type": "code",
   "execution_count": 27,
   "id": "ab1b84b6-4891-41e0-b193-8ea569405f76",
   "metadata": {},
   "outputs": [
    {
     "data": {
      "text/plain": [
       "0.6553707545052504"
      ]
     },
     "execution_count": 27,
     "metadata": {},
     "output_type": "execute_result"
    }
   ],
   "source": [
    "import numpy as np\n",
    "\n",
    "real = np.array([3,2, 0])      # 원핫인코딩으로 안돼있고 정답이3, 정답이2 이런식으로 그냥 나와있는경우\n",
    "pred = np.array([[0.1, 0.2, 0.3, 0.4],\n",
    "                 [0.1, 0.2, 0.7, 0.1],\n",
    "                 [0.5, 0.1, 0.1, 0.3]])\n",
    "\n",
    "length = len(pred)\n",
    "\n",
    "-sum(np.log(pred[np.arange(length), real] + 1e-7)) / length     # pred의 0,1,2행에 대해 real값을 가져와라\n",
    "# 원핫인코딩으로 안되어있는경우, cross entropy 이용하여 총 오차 평균 구한다"
   ]
  },
  {
   "cell_type": "markdown",
   "id": "9d8224c1-80c8-4b65-ad69-2c7cd2d3f593",
   "metadata": {},
   "source": [
    "## 편미분 (Partial Derivative)\n",
    "편미분은 함수에 입력 변수가 여러 개 있을 때 사용합니다. 여러 입력 변수 중 딱 하나만 변수 취급하고, 나머지 변수들은 숫자(상수)처럼 고정시킨 상태에서 미분합니다. 즉, 특정 변수의 아주 작은 변화가 함수의 결과값을 얼마나 변화시키는지 보는 것입니다."
   ]
  },
  {
   "cell_type": "code",
   "execution_count": 28,
   "id": "29edbc3e-b6ef-44a2-9de4-99ed8c700dfd",
   "metadata": {},
   "outputs": [],
   "source": [
    "def numerical_diff(f, x):\n",
    "    h = 1e-9\n",
    "    return (f(x+h) - f(x-h)) / (2 * h)      # 미분공식"
   ]
  },
  {
   "cell_type": "code",
   "execution_count": 29,
   "id": "03fcaa10-4560-420e-a11a-defd1b60893b",
   "metadata": {},
   "outputs": [],
   "source": [
    "def func1(x):\n",
    "    return x ** 2"
   ]
  },
  {
   "cell_type": "code",
   "execution_count": 31,
   "id": "a2ad66ac-391e-4de4-8236-608f2e2e71fa",
   "metadata": {},
   "outputs": [
    {
     "data": {
      "text/plain": [
       "4.000000330961484"
      ]
     },
     "execution_count": 31,
     "metadata": {},
     "output_type": "execute_result"
    }
   ],
   "source": [
    "numerical_diff(func1, 2)      # 이 함수를 2에 대해 미분해라 => 4"
   ]
  },
  {
   "cell_type": "code",
   "execution_count": 32,
   "id": "ef949218-5aa9-488a-9b7f-0eab84264d4a",
   "metadata": {},
   "outputs": [],
   "source": [
    "import matplotlib.pyplot as plt"
   ]
  },
  {
   "cell_type": "code",
   "execution_count": 54,
   "id": "aa4c93f5-9bf3-496d-bcab-81c84634f833",
   "metadata": {},
   "outputs": [],
   "source": [
    "def func2(x):\n",
    "    return x[0] ** 2 + x[1] ** 2\n",
    "\n",
    "def numerical_gradient(f, x):          # 여러개값을 따로따로 미분해주는 함수 (1차원)\n",
    "    h = 1e-7\n",
    "    grad = np.zeros_like(x)\n",
    "    \n",
    "    # 4개 들어있는 걸 하나하나 미분\n",
    "    for idx in np.ndindex(x.shape):     # (0,0), (0,1), (1,0), (1,1)에 차례로 접근\n",
    "        tmp = x[idx]\n",
    "\n",
    "        x[idx] = tmp + h       # 0번째만 살짝 h만큼 더해서 저장\n",
    "        f1 = f(x)          # 그때의 함수값도 찾아놓는다\n",
    "\n",
    "        x[idx] = tmp - h \n",
    "        f2 = f(x)\n",
    "\n",
    "        grad[idx] = (f1 - f2) / (2*h)\n",
    "        x[idx] = tmp\n",
    "        \n",
    "    return grad        # for문이 끝나면 기울기값만 return"
   ]
  },
  {
   "cell_type": "code",
   "execution_count": 56,
   "id": "1454bc3f-8783-4c68-a13b-fb7d69c45ea0",
   "metadata": {},
   "outputs": [
    {
     "data": {
      "text/plain": [
       "array([25000000, 35000000])"
      ]
     },
     "execution_count": 56,
     "metadata": {},
     "output_type": "execute_result"
    }
   ],
   "source": [
    "a = np.array([3,4])\n",
    "numerical_gradient(func2, a)"
   ]
  },
  {
   "cell_type": "code",
   "execution_count": null,
   "id": "0a8b261f-ce98-4644-9067-142bdae087a5",
   "metadata": {},
   "outputs": [],
   "source": []
  },
  {
   "cell_type": "markdown",
   "id": "c2affde6-8a65-4acc-942e-569298a97e23",
   "metadata": {},
   "source": [
    "## 딥러닝 구현하기"
   ]
  },
  {
   "cell_type": "code",
   "execution_count": 58,
   "id": "2804a187-f39e-4c01-94cd-5f6bd917d094",
   "metadata": {},
   "outputs": [],
   "source": [
    "def sigmoid(x):\n",
    "    return 1 / (1 + np.exp(-x))\n",
    "\n",
    "def softmax(x):\n",
    "    if x.ndim == 1:            # 1차원일때 확률값으로 구하는 법\n",
    "        c = np.max(x)\n",
    "        exp_a = np.exp(x-c)\n",
    "        sum_exp_a = np.sum(exp_a)\n",
    "        y = exp_a / sum_exp_a\n",
    "        return y\n",
    "    elif x.ndim == 2:            # 2차원일때 확률값으로 구하는 법\n",
    "        c = np.max(x, axis = 1).reshape(-1, 1)\n",
    "        exp_a = np.exp(x - c)\n",
    "        sum_exp_a = np.sum(exp_a, axis = 1).reshape(-1, 1)\n",
    "        y = exp_a / sum_exp_a\n",
    "        return y"
   ]
  },
  {
   "cell_type": "code",
   "execution_count": 70,
   "id": "fc2ba71a-5f4d-4580-b764-887c27f1c93b",
   "metadata": {},
   "outputs": [],
   "source": [
    "class TwoLayerNet:\n",
    "    \n",
    "    # 가중치 초기화\n",
    "    def __init__(self, I, H, O):       # 입력층의 노드개수, 은닉층의 노드개수, 출력층의 노드개수\n",
    "        self.params = {}\n",
    "        self.params[\"w1\"] = np.random.randn(I, H)     # I행 H열만큼 \n",
    "        self.params[\"b1\"] = np.random.randn(H)        # 은닉층의 노드개수만큼 더해지게\n",
    "        \n",
    "        self.params[\"w2\"] = np.random.randn(H, O)     # H행 O열만큼 \n",
    "        self.params[\"b2\"] = np.random.randn(O)\n",
    "    \n",
    "    # 예측함수\n",
    "    def predict(self, x):       \n",
    "        w1, w2 = self.params[\"w1\"], self.params[\"w2\"]\n",
    "        b1, b2 = self.params[\"b1\"], self.params[\"b2\"]\n",
    "        a1 = x @ w1 + b1\n",
    "        z1 = sigmoid(a1)\n",
    "        a2 = z1 @ w2 + b2        # 출력층 값\n",
    "        y = softmax(a2)       # 분류모델이니까 softmax로 \n",
    "        return y\n",
    "\n",
    "    # 오차 계산\n",
    "    def loss(self, x, t):\n",
    "        y = self.predict(x)\n",
    "        return cross_entropy_error(y, t)\n",
    "\n",
    "    # 정확도 구해줌\n",
    "    def accuracy(self, x, t):\n",
    "        y = self.predict(x)\n",
    "        y = np.argmax(y, axis = 1)    # 컴퓨터가 정확히 몇으로 예측했는지 확인 가능\n",
    "        t = np.argmax(t, axis = 1)   # 실제값도\n",
    "        accuracy = sum(y == t) / len(y)     # 컴퓨터와 예측한 값과 실제값 비교해 몇 개 맞았는지\n",
    "        return accuracy\n",
    "\n",
    "    # 미분해주는 함수\n",
    "    def numerical_gradient(self, x, t):\n",
    "        loss = lambda i : self.loss(x, t)\n",
    "        grads = {}\n",
    "        grads[\"w1\"] = numerical_gradient(loss, self.params[\"w1\"])    # loss함수에 대해 가중치 하나씩 꺼내서 미분해라\n",
    "        grads[\"b1\"] = numerical_gradient(loss, self.params[\"b1\"])  \n",
    "        grads[\"w2\"] = numerical_gradient(loss, self.params[\"w2\"]) \n",
    "        grads[\"b2\"] = numerical_gradient(loss, self.params[\"b2\"])  \n",
    "        return grads"
   ]
  },
  {
   "cell_type": "code",
   "execution_count": 74,
   "id": "be490b22-b622-4483-a63c-eb65a973eae3",
   "metadata": {},
   "outputs": [
    {
     "name": "stderr",
     "output_type": "stream",
     "text": [
      "100%|███████████████████████████████████████████████████████████████████████████| 10000/10000 [00:39<00:00, 251.69it/s]\n"
     ]
    }
   ],
   "source": [
    "from sklearn.datasets import load_iris\n",
    "from sklearn.model_selection import train_test_split\n",
    "from tqdm import tqdm\n",
    "\n",
    "iris = load_iris()\n",
    "\n",
    "X = iris.data     # 문제집\n",
    "Y = iris.target   # 정답지\n",
    "\n",
    "train_x, test_x, train_y, test_y = train_test_split(X, Y)       # 훈련set, 시험set으로 나눠줌\n",
    "\n",
    "net = TwoLayerNet(4, 8, 3)\n",
    "\n",
    "loss_box = []\n",
    "test_loss_box = []\n",
    "\n",
    "for i in tqdm(range(10000)):\n",
    "    mask = np.random.choice(len(train_x), 50)\n",
    "    x_batch = train_x[mask]\n",
    "    t_batch = train_y[mask]\n",
    "    grad = net.numerical_gradient(x_batch, t_batch)\n",
    "\n",
    "    for key in (\"w1\", \"b1\", \"w2\", \"b2\"):\n",
    "        net.params[key] -= grad[key] * 0.1\n",
    "\n",
    "    loss = net.loss(x_batch, t_batch)\n",
    "    test_loss = net.loss(test_x, test_y)\n",
    "    \n",
    "    loss_box.append(loss)\n",
    "    test_loss_box.append(test_loss)"
   ]
  },
  {
   "cell_type": "code",
   "execution_count": 75,
   "id": "03f4819b-2ef1-437a-a8ce-c254ab709131",
   "metadata": {},
   "outputs": [
    {
     "data": {
      "image/png": "[encoded data removed]",
      "text/plain": [
       "<Figure size 640x480 with 1 Axes>"
      ]
     },
     "metadata": {},
     "output_type": "display_data"
    }
   ],
   "source": [
    "import matplotlib.pyplot as plt\n",
    "\n",
    "plt.plot(loss_box)\n",
    "plt.grid()\n",
    "plt.show()"
   ]
  },
  {
   "cell_type": "code",
   "execution_count": 76,
   "id": "a8cfbbbf-d06b-47e2-a716-a9079b0b0e0c",
   "metadata": {},
   "outputs": [
    {
     "data": {
      "text/plain": [
       "array([[3.48651834e-04, 1.79077964e-01, 8.20573384e-01],\n",
       "       [1.61201409e-03, 9.97286595e-01, 1.10139113e-03],\n",
       "       [7.12893148e-05, 3.31464675e-02, 9.66782243e-01],\n",
       "       [9.95640781e-01, 4.31146795e-03, 4.77506526e-05],\n",
       "       [1.50823723e-03, 9.95945221e-01, 2.54654139e-03],\n",
       "       [5.64550899e-05, 2.65510307e-02, 9.73392514e-01],\n",
       "       [3.44876151e-05, 1.57429912e-02, 9.84222521e-01],\n",
       "       [1.66800850e-03, 9.96621726e-01, 1.71026535e-03],\n",
       "       [9.94533429e-01, 5.40643842e-03, 6.01330053e-05],\n",
       "       [1.71593422e-03, 9.97020246e-01, 1.26381984e-03],\n",
       "       [3.33741168e-04, 1.71129940e-01, 8.28536318e-01],\n",
       "       [1.24840832e-03, 7.04107007e-01, 2.94644584e-01],\n",
       "       [1.27368670e-04, 6.17708756e-02, 9.38101756e-01],\n",
       "       [1.45409649e-03, 9.95234204e-01, 3.31169922e-03],\n",
       "       [9.98198108e-01, 1.77885316e-03, 2.30392050e-05],\n",
       "       [9.98066734e-01, 1.90878897e-03, 2.44770075e-05],\n",
       "       [9.97653414e-01, 2.31763612e-03, 2.89495153e-05],\n",
       "       [3.12397602e-05, 1.42289720e-02, 9.85739788e-01],\n",
       "       [9.97948289e-01, 2.02596975e-03, 2.57413855e-05],\n",
       "       [1.26172169e-04, 6.11789697e-02, 9.38694858e-01],\n",
       "       [1.31527767e-03, 7.37045366e-01, 2.61639356e-01],\n",
       "       [1.60142995e-03, 9.97238990e-01, 1.15957966e-03],\n",
       "       [1.49056045e-03, 9.89512847e-01, 8.99659296e-03],\n",
       "       [1.48573100e-03, 8.68218049e-01, 1.30296220e-01],\n",
       "       [1.39209514e-03, 8.33573928e-01, 1.65033977e-01],\n",
       "       [1.70540686e-03, 9.97225822e-01, 1.06877094e-03],\n",
       "       [9.97926828e-01, 2.04723088e-03, 2.59411396e-05],\n",
       "       [3.88744258e-05, 1.77027358e-02, 9.82258390e-01],\n",
       "       [3.27252394e-05, 1.49116208e-02, 9.85055654e-01],\n",
       "       [2.84664614e-05, 1.28864723e-02, 9.87085061e-01],\n",
       "       [9.97340073e-01, 2.62782881e-03, 3.20978639e-05],\n",
       "       [1.51634669e-03, 8.82999614e-01, 1.15484039e-01],\n",
       "       [4.29581128e-04, 2.20891998e-01, 7.78678421e-01],\n",
       "       [9.97786512e-01, 2.18608537e-03, 2.74026944e-05],\n",
       "       [1.46946464e-03, 9.96590029e-01, 1.94050637e-03],\n",
       "       [2.75615982e-05, 1.25341154e-02, 9.87438323e-01],\n",
       "       [2.99180299e-03, 9.95885329e-01, 1.12286781e-03],\n",
       "       [9.97764709e-01, 2.20758408e-03, 2.77071684e-05]])"
      ]
     },
     "execution_count": 76,
     "metadata": {},
     "output_type": "execute_result"
    }
   ],
   "source": [
    "pred = net.predict(test_x)\n",
    "pred"
   ]
  },
  {
   "cell_type": "code",
   "execution_count": 77,
   "id": "4ed6d538-73b6-4844-92b7-5c988d49bef2",
   "metadata": {},
   "outputs": [
    {
     "data": {
      "text/plain": [
       "array([2, 1, 2, 0, 1, 2, 2, 1, 0, 1, 2, 1, 2, 1, 0, 0, 0, 2, 0, 2, 1, 1,\n",
       "       1, 1, 1, 1, 0, 2, 2, 2, 0, 1, 2, 0, 1, 2, 1, 0], dtype=int64)"
      ]
     },
     "execution_count": 77,
     "metadata": {},
     "output_type": "execute_result"
    }
   ],
   "source": [
    "np.argmax(pred, axis = 1)"
   ]
  },
  {
   "cell_type": "code",
   "execution_count": 79,
   "id": "99235d5a-a39e-4718-846a-a88caf1ee2dd",
   "metadata": {
    "scrolled": true
   },
   "outputs": [
    {
     "name": "stdout",
     "output_type": "stream",
     "text": [
      "              precision    recall  f1-score   support\n",
      "\n",
      "           0       1.00      1.00      1.00        10\n",
      "           1       0.67      1.00      0.80        10\n",
      "           2       1.00      0.72      0.84        18\n",
      "\n",
      "    accuracy                           0.87        38\n",
      "   macro avg       0.89      0.91      0.88        38\n",
      "weighted avg       0.91      0.87      0.87        38\n",
      "\n"
     ]
    }
   ],
   "source": [
    "from sklearn.metrics import classification_report\n",
    "report = classification_report(test_y, np.argmax(pred, axis = 1))\n",
    "print(report)"
   ]
  },
  {
   "cell_type": "code",
   "execution_count": null,
   "id": "ababd14e-c036-4b22-86a7-13f336e3208e",
   "metadata": {},
   "outputs": [],
   "source": []
  },
  {
   "cell_type": "markdown",
   "id": "fae68b1f-9f6c-49b4-9db4-289e1be36cf3",
   "metadata": {},
   "source": [
    "## 연습문제\n",
    "1. 오차제곱합 (SSE) 계산: 실제 값 배열 actual = np.array([10, 20, 30, 40])과 모델 예측 값 배열 predicted = np.array([12, 18, 33, 38])이 주어졌을 때, 넘파이(NumPy)를 사용하여 오차제곱합(SSE)을 계산하는 코드를 작성하세요."
   ]
  },
  {
   "cell_type": "code",
   "execution_count": 116,
   "id": "dc98df3a-5ee6-435d-8589-a935e116b3fe",
   "metadata": {},
   "outputs": [
    {
     "data": {
      "text/plain": [
       "21"
      ]
     },
     "execution_count": 116,
     "metadata": {},
     "output_type": "execute_result"
    }
   ],
   "source": [
    "import numpy as np\n",
    "\n",
    "actual = np.array([10, 20, 30, 40])\n",
    "predicted = np.array([12, 18, 33, 38])\n",
    "\n",
    "errors = actual - predicted\n",
    "np.sum(errors ** 2)\n",
    "# sum_squares_error(predicted, actual)"
   ]
  },
  {
   "cell_type": "markdown",
   "id": "16ca7091-aea0-4a76-8823-a57c48fe169a",
   "metadata": {},
   "source": [
    "2. 교차 엔트로피 오차 (CEE) 계산: 실제 정답 레이블(원-핫 인코딩) t = np.array([0, 1, 0])와 모델의 예측 확률 y = np.array([0.1, 0.8, 0.1])가 주어졌을 때, 넘파이를 사용하여 교차 엔트로피 오차(CEE)를 계산하는 코드를 작성하세요 (로그 계산 시 delta = 1e-7 사용)."
   ]
  },
  {
   "cell_type": "code",
   "execution_count": 84,
   "id": "9454fc58-3dc2-46a8-95b5-f022915ec4ad",
   "metadata": {},
   "outputs": [
    {
     "data": {
      "text/plain": [
       "0.22314342631421757"
      ]
     },
     "execution_count": 84,
     "metadata": {},
     "output_type": "execute_result"
    }
   ],
   "source": [
    "t = np.array([0, 1, 0])\n",
    "y = np.array([0.1, 0.8, 0.1])\n",
    "\n",
    "-np.sum(np.log(y + 1e-7) * t)"
   ]
  },
  {
   "cell_type": "code",
   "execution_count": 85,
   "id": "64f56771-758f-49d7-937c-b3bf95ab4918",
   "metadata": {},
   "outputs": [
    {
     "data": {
      "text/plain": [
       "0.22314342631421757"
      ]
     },
     "execution_count": 85,
     "metadata": {},
     "output_type": "execute_result"
    }
   ],
   "source": [
    "def cross_entropy_error(p, r):\n",
    "    return -np.sum(r * np.log(p + 1e-7))\n",
    "\n",
    "cross_entropy_error(y, t)"
   ]
  },
  {
   "cell_type": "markdown",
   "id": "2baf05f9-0866-4eb2-b5a7-8e10540afc5f",
   "metadata": {},
   "source": [
    "3. 수치 미분 (Numerical Differentiation): 함수 f(x)=0.5x^2+2x+1 가 주어졌을 때, x=3 에서의 수치 미분 값을 구하는 코드를 작성하세요 (h=1e−4)."
   ]
  },
  {
   "cell_type": "code",
   "execution_count": 87,
   "id": "238d7d01-d414-419d-9b07-032624a14b3d",
   "metadata": {},
   "outputs": [
    {
     "data": {
      "text/plain": [
       "5.0000000000149925"
      ]
     },
     "execution_count": 87,
     "metadata": {},
     "output_type": "execute_result"
    }
   ],
   "source": [
    "def numerical_diff(f, x):\n",
    "    h = 1e-4\n",
    "    return (f(x+h) - f(x-h)) / (2 * h)\n",
    "\n",
    "def func1(x):\n",
    "    return 0.5 * x**2 + 2 * x + 1\n",
    "    \n",
    "numerical_diff(func1, 3)"
   ]
  },
  {
   "cell_type": "markdown",
   "id": "08f3989b-ee11-4225-8f4a-0cfdbae500ed",
   "metadata": {},
   "source": [
    "4. 기울기 (Gradient) 계산: 함수 f(x0,x1) = x0^2 + x1^3 이 주어졌을 때, 점 (x0=2,x1=3) 에서의 기울기(각 변수에 대한 편미분 벡터)를 numerical_gradient 함수를 사용하여 구하는 코드를 작성하세요."
   ]
  },
  {
   "cell_type": "code",
   "execution_count": 89,
   "id": "465f8a19-ef25-48be-b18d-183358966e82",
   "metadata": {},
   "outputs": [
    {
     "data": {
      "text/plain": [
       "array([15000000, 95000000])"
      ]
     },
     "execution_count": 89,
     "metadata": {},
     "output_type": "execute_result"
    }
   ],
   "source": [
    "def numerical_gradient(f, x):\n",
    "    h = 1e-7\n",
    "    grad = np.zeros_like(x)\n",
    "    \n",
    "    for idx in np.ndindex(x.shape):\n",
    "        val = x[idx]\n",
    "        x[idx] = val + h\n",
    "        fxh1 = f(x)\n",
    "\n",
    "        x[idx] = val - h\n",
    "        fxh2 = f(x)\n",
    "\n",
    "        grad[idx] = (fxh1 - fxh2) / (2*h)\n",
    "        x[idx] = val\n",
    "\n",
    "    return grad\n",
    "\n",
    "def func2(x):\n",
    "    return x[0] ** 2 + x[1] ** 3 \n",
    "\n",
    "a = np.array([2, 3])\n",
    "numerical_gradient(func2, a)"
   ]
  },
  {
   "cell_type": "markdown",
   "id": "6c9edca1-ad28-451c-bb8e-ddaa0f5339ec",
   "metadata": {},
   "source": [
    "5. fish.csv 파일로 생선을 분류하는 딥러닝 모델을 만들어보세요."
   ]
  },
  {
   "cell_type": "code",
   "execution_count": 98,
   "id": "b09a652d-3edf-4d3b-8acf-f7ce45533728",
   "metadata": {},
   "outputs": [],
   "source": [
    "# cross entropy 수정\n",
    "def cross_entropy_error(p, r):\n",
    "    size = len(p)\n",
    "    return -np.sum(np.log(p[np.arange(size), r] + 1e-7)) / size     # 예측값의 np.arange(size)만큼의 행의 r열 "
   ]
  },
  {
   "cell_type": "code",
   "execution_count": 119,
   "id": "2cc7c47e-010c-48b5-8b2f-f4ee201d8fed",
   "metadata": {},
   "outputs": [],
   "source": [
    "from sklearn.preprocessing import LabelEncoder, StandardScaler\n",
    "from sklearn.model_selection import train_test_split\n",
    "from tqdm import tqdm\n",
    "\n",
    "df = pd.read_csv(\"Data/fish.csv\")\n",
    "\n",
    "X = df.drop(\"target\", axis = 1).values\n",
    "Y = df[\"target\"].values\n",
    "\n",
    "encoder = LabelEncoder()\n",
    "Y = encoder.fit_transform(Y) \n",
    "\n",
    "train_x, test_x, train_y, test_y = train_test_split(X, Y)       # 훈련set, 시험set\n",
    "\n",
    "ss = StandardScaler()\n",
    "train_scaled = ss.fit_transform(train_x)\n",
    "test_scaled = ss.transform(test_x)"
   ]
  },
  {
   "cell_type": "code",
   "execution_count": 121,
   "id": "3667a72d-7097-43ce-ac74-109505f66812",
   "metadata": {},
   "outputs": [
    {
     "name": "stderr",
     "output_type": "stream",
     "text": [
      "100%|███████████████████████████████████████████████████████████████████████████| 10000/10000 [00:14<00:00, 704.15it/s]\n"
     ]
    }
   ],
   "source": [
    "net = TwoLayerNet(2, 4, 2)     # 입력층: 특성2개(length, weight) / 은닉층은 임의로 / 출력층: 클래스 2개(bream(돔), smelt(빙어))\n",
    "\n",
    "loss_box = []\n",
    "test_loss_box = []\n",
    "\n",
    "for i in tqdm(range(10000)):\n",
    "    mask = np.random.choice(len(train_x), 10)\n",
    "    \n",
    "    x_batch = train_scaled[mask]\n",
    "    t_batch = train_y[mask]\n",
    "    \n",
    "    grad = net.numerical_gradient(x_batch, t_batch)\n",
    "\n",
    "    for key in (\"w1\", \"b1\", \"w2\", \"b2\"):\n",
    "        net.params[key] -= grad[key] * 0.1\n",
    "\n",
    "    loss = net.loss(x_batch, t_batch)\n",
    "    test_loss = net.loss(test_scaled, test_y)\n",
    "    \n",
    "    loss_box.append(loss)\n",
    "    test_loss_box.append(test_loss)"
   ]
  },
  {
   "cell_type": "code",
   "execution_count": 122,
   "id": "bed4c413-a569-4bbb-a3d8-88c4695206a0",
   "metadata": {},
   "outputs": [
    {
     "data": {
      "image/png": "[encoded data removed]",
      "text/plain": [
       "<Figure size 640x480 with 1 Axes>"
      ]
     },
     "metadata": {},
     "output_type": "display_data"
    }
   ],
   "source": [
    "import matplotlib.pyplot as plt\n",
    "\n",
    "plt.plot(loss_box)\n",
    "plt.grid()\n",
    "plt.show()"
   ]
  },
  {
   "cell_type": "code",
   "execution_count": 123,
   "id": "6ab1c0b6-9655-473c-b01c-3f6ad93649ef",
   "metadata": {},
   "outputs": [
    {
     "name": "stdout",
     "output_type": "stream",
     "text": [
      "              precision    recall  f1-score   support\n",
      "\n",
      "           0       1.00      1.00      1.00        10\n",
      "           1       1.00      1.00      1.00         3\n",
      "\n",
      "    accuracy                           1.00        13\n",
      "   macro avg       1.00      1.00      1.00        13\n",
      "weighted avg       1.00      1.00      1.00        13\n",
      "\n"
     ]
    }
   ],
   "source": [
    "pred = np.argmax(net.predict(test_scaled), axis = 1)\n",
    "\n",
    "from sklearn.metrics import classification_report\n",
    "report = classification_report(test_y, pred)\n",
    "print(report)"
   ]
  },
  {
   "cell_type": "markdown",
   "id": "84de7470-ba87-486d-a962-2cd7f6e4f73e",
   "metadata": {},
   "source": [
    "6. mnist.dat 파일을 활용해서 이미지 데이터를 분류하는 딥러닝 모델을 만들어보시고, 문제점을 찾아보세요."
   ]
  },
  {
   "cell_type": "code",
   "execution_count": 128,
   "id": "c51bc1a4-93be-47de-9173-a7415059fbe4",
   "metadata": {},
   "outputs": [],
   "source": [
    "import pickle\n",
    "f = open(\"Data/mnist.dat\", 'rb')\n",
    "train, test = pickle.load(f)\n",
    "f.close()"
   ]
  },
  {
   "cell_type": "code",
   "execution_count": 129,
   "id": "d65f50d7-e61c-4c66-a86d-ee1d52f6bb28",
   "metadata": {},
   "outputs": [],
   "source": [
    "train_x, train_y = train\n",
    "test_x, test_y = test"
   ]
  },
  {
   "cell_type": "code",
   "execution_count": 130,
   "id": "9cecd135-b79f-4e82-91f2-96baad9c68fe",
   "metadata": {},
   "outputs": [
    {
     "data": {
      "text/plain": [
       "((60000, 28, 28), (60000,), (10000, 28, 28), (10000,))"
      ]
     },
     "execution_count": 130,
     "metadata": {},
     "output_type": "execute_result"
    }
   ],
   "source": [
    "train_x.shape, train_y.shape, test_x.shape, test_y.shape"
   ]
  },
  {
   "cell_type": "code",
   "execution_count": 132,
   "id": "245cd8a4-5535-4817-ab60-c69eaa5b69ff",
   "metadata": {},
   "outputs": [],
   "source": [
    "train_scaled = train_x.reshape(-1, 784) / 255      # 쭉늘려라\n",
    "test_scaled = test_x.reshape(-1, 784) / 255"
   ]
  },
  {
   "cell_type": "code",
   "execution_count": 133,
   "id": "09001419-b6ed-4504-a675-2d556a6b73e6",
   "metadata": {},
   "outputs": [
    {
     "name": "stderr",
     "output_type": "stream",
     "text": [
      "  0%|                                                                                        | 0/10000 [10:14<?, ?it/s]\n"
     ]
    },
    {
     "ename": "KeyboardInterrupt",
     "evalue": "",
     "output_type": "error",
     "traceback": [
      "\u001b[1;31m---------------------------------------------------------------------------\u001b[0m",
      "\u001b[1;31mKeyboardInterrupt\u001b[0m                         Traceback (most recent call last)",
      "Cell \u001b[1;32mIn[133], line 12\u001b[0m\n\u001b[0;32m      9\u001b[0m x_batch \u001b[38;5;241m=\u001b[39m train_scaled[mask]\n\u001b[0;32m     10\u001b[0m t_batch \u001b[38;5;241m=\u001b[39m train_y[mask]\n\u001b[1;32m---> 12\u001b[0m grad \u001b[38;5;241m=\u001b[39m net\u001b[38;5;241m.\u001b[39mnumerical_gradient(x_batch, t_batch)\n\u001b[0;32m     14\u001b[0m \u001b[38;5;28;01mfor\u001b[39;00m key \u001b[38;5;129;01min\u001b[39;00m (\u001b[38;5;124m\"\u001b[39m\u001b[38;5;124mw1\u001b[39m\u001b[38;5;124m\"\u001b[39m, \u001b[38;5;124m\"\u001b[39m\u001b[38;5;124mb1\u001b[39m\u001b[38;5;124m\"\u001b[39m, \u001b[38;5;124m\"\u001b[39m\u001b[38;5;124mw2\u001b[39m\u001b[38;5;124m\"\u001b[39m, \u001b[38;5;124m\"\u001b[39m\u001b[38;5;124mb2\u001b[39m\u001b[38;5;124m\"\u001b[39m):\n\u001b[0;32m     15\u001b[0m     net\u001b[38;5;241m.\u001b[39mparams[key] \u001b[38;5;241m-\u001b[39m\u001b[38;5;241m=\u001b[39m grad[key] \u001b[38;5;241m*\u001b[39m \u001b[38;5;241m0.1\u001b[39m\n",
      "Cell \u001b[1;32mIn[70], line 39\u001b[0m, in \u001b[0;36mTwoLayerNet.numerical_gradient\u001b[1;34m(self, x, t)\u001b[0m\n\u001b[0;32m     37\u001b[0m loss \u001b[38;5;241m=\u001b[39m \u001b[38;5;28;01mlambda\u001b[39;00m i : \u001b[38;5;28mself\u001b[39m\u001b[38;5;241m.\u001b[39mloss(x, t)\n\u001b[0;32m     38\u001b[0m grads \u001b[38;5;241m=\u001b[39m {}\n\u001b[1;32m---> 39\u001b[0m grads[\u001b[38;5;124m\"\u001b[39m\u001b[38;5;124mw1\u001b[39m\u001b[38;5;124m\"\u001b[39m] \u001b[38;5;241m=\u001b[39m numerical_gradient(loss, \u001b[38;5;28mself\u001b[39m\u001b[38;5;241m.\u001b[39mparams[\u001b[38;5;124m\"\u001b[39m\u001b[38;5;124mw1\u001b[39m\u001b[38;5;124m\"\u001b[39m])    \u001b[38;5;66;03m# loss함수에 대해 가중치 하나씩 꺼내서 미분해라\u001b[39;00m\n\u001b[0;32m     40\u001b[0m grads[\u001b[38;5;124m\"\u001b[39m\u001b[38;5;124mb1\u001b[39m\u001b[38;5;124m\"\u001b[39m] \u001b[38;5;241m=\u001b[39m numerical_gradient(loss, \u001b[38;5;28mself\u001b[39m\u001b[38;5;241m.\u001b[39mparams[\u001b[38;5;124m\"\u001b[39m\u001b[38;5;124mb1\u001b[39m\u001b[38;5;124m\"\u001b[39m])  \n\u001b[0;32m     41\u001b[0m grads[\u001b[38;5;124m\"\u001b[39m\u001b[38;5;124mw2\u001b[39m\u001b[38;5;124m\"\u001b[39m] \u001b[38;5;241m=\u001b[39m numerical_gradient(loss, \u001b[38;5;28mself\u001b[39m\u001b[38;5;241m.\u001b[39mparams[\u001b[38;5;124m\"\u001b[39m\u001b[38;5;124mw2\u001b[39m\u001b[38;5;124m\"\u001b[39m]) \n",
      "Cell \u001b[1;32mIn[89], line 11\u001b[0m, in \u001b[0;36mnumerical_gradient\u001b[1;34m(f, x)\u001b[0m\n\u001b[0;32m      8\u001b[0m fxh1 \u001b[38;5;241m=\u001b[39m f(x)\n\u001b[0;32m     10\u001b[0m x[idx] \u001b[38;5;241m=\u001b[39m val \u001b[38;5;241m-\u001b[39m h\n\u001b[1;32m---> 11\u001b[0m fxh2 \u001b[38;5;241m=\u001b[39m f(x)\n\u001b[0;32m     13\u001b[0m grad[idx] \u001b[38;5;241m=\u001b[39m (fxh1 \u001b[38;5;241m-\u001b[39m fxh2) \u001b[38;5;241m/\u001b[39m (\u001b[38;5;241m2\u001b[39m\u001b[38;5;241m*\u001b[39mh)\n\u001b[0;32m     14\u001b[0m x[idx] \u001b[38;5;241m=\u001b[39m val\n",
      "Cell \u001b[1;32mIn[70], line 37\u001b[0m, in \u001b[0;36mTwoLayerNet.numerical_gradient.<locals>.<lambda>\u001b[1;34m(i)\u001b[0m\n\u001b[0;32m     36\u001b[0m \u001b[38;5;28;01mdef\u001b[39;00m \u001b[38;5;21mnumerical_gradient\u001b[39m(\u001b[38;5;28mself\u001b[39m, x, t):\n\u001b[1;32m---> 37\u001b[0m     loss \u001b[38;5;241m=\u001b[39m \u001b[38;5;28;01mlambda\u001b[39;00m i : \u001b[38;5;28mself\u001b[39m\u001b[38;5;241m.\u001b[39mloss(x, t)\n\u001b[0;32m     38\u001b[0m     grads \u001b[38;5;241m=\u001b[39m {}\n\u001b[0;32m     39\u001b[0m     grads[\u001b[38;5;124m\"\u001b[39m\u001b[38;5;124mw1\u001b[39m\u001b[38;5;124m\"\u001b[39m] \u001b[38;5;241m=\u001b[39m numerical_gradient(loss, \u001b[38;5;28mself\u001b[39m\u001b[38;5;241m.\u001b[39mparams[\u001b[38;5;124m\"\u001b[39m\u001b[38;5;124mw1\u001b[39m\u001b[38;5;124m\"\u001b[39m])    \u001b[38;5;66;03m# loss함수에 대해 가중치 하나씩 꺼내서 미분해라\u001b[39;00m\n",
      "Cell \u001b[1;32mIn[70], line 24\u001b[0m, in \u001b[0;36mTwoLayerNet.loss\u001b[1;34m(self, x, t)\u001b[0m\n\u001b[0;32m     23\u001b[0m \u001b[38;5;28;01mdef\u001b[39;00m \u001b[38;5;21mloss\u001b[39m(\u001b[38;5;28mself\u001b[39m, x, t):\n\u001b[1;32m---> 24\u001b[0m     y \u001b[38;5;241m=\u001b[39m \u001b[38;5;28mself\u001b[39m\u001b[38;5;241m.\u001b[39mpredict(x)\n\u001b[0;32m     25\u001b[0m     \u001b[38;5;28;01mreturn\u001b[39;00m cross_entropy_error(y, t)\n",
      "Cell \u001b[1;32mIn[70], line 17\u001b[0m, in \u001b[0;36mTwoLayerNet.predict\u001b[1;34m(self, x)\u001b[0m\n\u001b[0;32m     15\u001b[0m b1, b2 \u001b[38;5;241m=\u001b[39m \u001b[38;5;28mself\u001b[39m\u001b[38;5;241m.\u001b[39mparams[\u001b[38;5;124m\"\u001b[39m\u001b[38;5;124mb1\u001b[39m\u001b[38;5;124m\"\u001b[39m], \u001b[38;5;28mself\u001b[39m\u001b[38;5;241m.\u001b[39mparams[\u001b[38;5;124m\"\u001b[39m\u001b[38;5;124mb2\u001b[39m\u001b[38;5;124m\"\u001b[39m]\n\u001b[0;32m     16\u001b[0m a1 \u001b[38;5;241m=\u001b[39m x \u001b[38;5;241m@\u001b[39m w1 \u001b[38;5;241m+\u001b[39m b1\n\u001b[1;32m---> 17\u001b[0m z1 \u001b[38;5;241m=\u001b[39m sigmoid(a1)\n\u001b[0;32m     18\u001b[0m a2 \u001b[38;5;241m=\u001b[39m z1 \u001b[38;5;241m@\u001b[39m w2 \u001b[38;5;241m+\u001b[39m b2        \u001b[38;5;66;03m# 출력층 값\u001b[39;00m\n\u001b[0;32m     19\u001b[0m y \u001b[38;5;241m=\u001b[39m softmax(a2)       \u001b[38;5;66;03m# 분류모델이니까 softmax로 \u001b[39;00m\n",
      "Cell \u001b[1;32mIn[58], line 1\u001b[0m, in \u001b[0;36msigmoid\u001b[1;34m(x)\u001b[0m\n\u001b[1;32m----> 1\u001b[0m \u001b[38;5;28;01mdef\u001b[39;00m \u001b[38;5;21msigmoid\u001b[39m(x):\n\u001b[0;32m      2\u001b[0m     \u001b[38;5;28;01mreturn\u001b[39;00m \u001b[38;5;241m1\u001b[39m \u001b[38;5;241m/\u001b[39m (\u001b[38;5;241m1\u001b[39m \u001b[38;5;241m+\u001b[39m np\u001b[38;5;241m.\u001b[39mexp(\u001b[38;5;241m-\u001b[39mx))\n\u001b[0;32m      4\u001b[0m \u001b[38;5;28;01mdef\u001b[39;00m \u001b[38;5;21msoftmax\u001b[39m(x):\n",
      "\u001b[1;31mKeyboardInterrupt\u001b[0m: "
     ]
    }
   ],
   "source": [
    "net = TwoLayerNet(784, 500, 10)\n",
    "\n",
    "loss_box = []\n",
    "test_loss_box = []\n",
    "\n",
    "for i in tqdm(range(10000)):\n",
    "    mask = np.random.choice(len(train_x), 1000)\n",
    "    \n",
    "    x_batch = train_scaled[mask]\n",
    "    t_batch = train_y[mask]\n",
    "    \n",
    "    grad = net.numerical_gradient(x_batch, t_batch)\n",
    "\n",
    "    for key in (\"w1\", \"b1\", \"w2\", \"b2\"):\n",
    "        net.params[key] -= grad[key] * 0.1\n",
    "\n",
    "    loss = net.loss(x_batch, t_batch)\n",
    "    test_loss = net.loss(test_scaled, test_y)\n",
    "    \n",
    "    loss_box.append(loss)\n",
    "    test_loss_box.append(test_loss)\n",
    "\n",
    "# 가중치를 하나하나 꺼내서 미분해서 학습하는 방법은 너무 오래걸려서 0%에서 거의 멈춤  =>  오차역전파 사용해서 수정할 수 있다\n",
    "# 오차역전파 : 신경망의 출력층에서 입력층 방향으로 미분을 효율적으로 계산하여 각 가중치에 대한 기울기(gradient)를 빠르게 구함"
   ]
  },
  {
   "cell_type": "code",
   "execution_count": null,
   "id": "87049d3c-3dfb-48ae-b37a-d7ac19cec4b6",
   "metadata": {},
   "outputs": [],
   "source": []
  },
  {
   "cell_type": "code",
   "execution_count": null,
   "id": "1e895f76-6c2b-4efc-b8be-0d5cd454c72f",
   "metadata": {},
   "outputs": [],
   "source": []
  }
 ],
 "metadata": {
  "kernelspec": {
   "display_name": "Python 3 (ipykernel)",
   "language": "python",
   "name": "python3"
  },
  "language_info": {
   "codemirror_mode": {
    "name": "ipython",
    "version": 3
   },
   "file_extension": ".py",
   "mimetype": "text/x-python",
   "name": "python",
   "nbconvert_exporter": "python",
   "pygments_lexer": "ipython3",
   "version": "3.12.7"
  }
 },
 "nbformat": 4,
 "nbformat_minor": 5
}
