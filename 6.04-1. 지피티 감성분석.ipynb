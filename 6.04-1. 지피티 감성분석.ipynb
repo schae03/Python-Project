{
 "cells": [
  {
   "cell_type": "code",
   "execution_count": 12,
   "id": "3b0eec16-a5ec-4300-8ba4-bf149e0839d6",
   "metadata": {},
   "outputs": [],
   "source": [
    "# !pip install openai\n",
    "from openai import OpenAI\n",
    "\n",
    "key = \"\"\"\n",
    "\n",
    "\"\"\"\n",
    "\n",
    "client = OpenAI(api_key=key)"
   ]
  },
  {
   "cell_type": "code",
   "execution_count": 13,
   "id": "83bac6e3-c9f8-450c-acba-a4ba34efd7a9",
   "metadata": {},
   "outputs": [],
   "source": [
    "response = client.responses.create(\n",
    "    model = \"o4-mini\",\n",
    "    input = \"너는 포켓몬마스터야. 가장 약한 포켓몬이 누구인지 알려줘.\"\n",
    ")"
   ]
  },
  {
   "cell_type": "code",
   "execution_count": 14,
   "id": "0b35d3b0-3f2f-486d-bf09-2b6e0cdae234",
   "metadata": {},
   "outputs": [
    {
     "name": "stdout",
     "output_type": "stream",
     "text": [
      "포켓몬의 “약함”을 평가하는 기준은 여러 가지가 있지만, 일반적으로 많이 쓰이는 것은 ‘종족값 합(base stat total)’이 가장 낮은 포켓몬을 꼽는 방법입니다.\n",
      "\n",
      "1. 솔로 형태까지 포함했을 때  \n",
      "   - Wishiwashi(단독 ‘솔로 모드’)  \n",
      "     • 종족값 합 175(HP45ㆍ공격20ㆍ방어20ㆍ특수공격25ㆍ특수방어25ㆍ스피드40)  \n",
      "     • 단, 떼 지어 있을 때(스쿼드 모드)에는 훨씬 강해집니다.\n",
      "\n",
      "2. 일반(폼 변화 아닌) 포켓몬 중 최하위  \n",
      "   - Sunkern(해바라기씨)  \n",
      "     • 종족값 합 180(HP30ㆍ공격30ㆍ방어30ㆍ특수공격30ㆍ특수방어30ㆍ스피드30)  \n",
      "     • 모든 스탯이 30으로 고르게 낮아, 공식 최약체로 자주 언급됩니다.\n",
      "\n",
      "3. 세대별 비교 (참고)  \n",
      "   - 1세대 최약체:  \n",
      "     • Caterpie·Weedle(각 195)  \n",
      "     • Magikarp(200)이 ‘도발용 약캐’로 유명  \n",
      "   - 이후 세대에도 Sunkern이 줄곧 최하위권을 차지\n",
      "\n",
      "정리하면, 변신 형태를 포함하면 솔로 상태의 Wishiwashi(종족값 175)가 가장 낮고, 통상 폼만 놓고 보면 Sunkern(종족값 180)이 “가장 약한 포켓몬”으로 널리 알려져 있습니다.\n"
     ]
    }
   ],
   "source": [
    "print(response.output_text)"
   ]
  },
  {
   "cell_type": "markdown",
   "id": "92e4d2f4-c97f-485f-b173-286c37d77ee1",
   "metadata": {},
   "source": [
    "## 인공지능 감성분석 \n",
    "> 자동화프로그램 만들때 편하게 쓸 수 있을듯"
   ]
  },
  {
   "cell_type": "code",
   "execution_count": 18,
   "id": "fd82e54d-a2ad-46ed-80fb-37664a55ec25",
   "metadata": {},
   "outputs": [],
   "source": [
    "import pandas as pd\n",
    "df = pd.read_excel(\"Data/인터파크 리뷰 데이터.xlsx\")\n",
    "df[\"TEXT\"] = df[\"제목\"] + \" \" + df[\"내용\"]\n",
    "\n",
    "box = []\n",
    "for i in df[\"TEXT\"]:\n",
    "    response = client.responses.create(\n",
    "    model = \"o4-mini\",\n",
    "    input = f\"{i} // 이 내용이 긍정으로 쓰였으면 '긍정', 부정으로 쓰였으면 '부정', 중립이면 '중립' 이라고 명확하게 단답으로만 대답해줘.\")\n",
    "    box.append(response.output_text)"
   ]
  },
  {
   "cell_type": "code",
   "execution_count": 19,
   "id": "c8a3d82a-9e6f-4f4b-9a48-75ff9fccc5cf",
   "metadata": {},
   "outputs": [
    {
     "data": {
      "text/html": [
       "<div>\n",
       "<style scoped>\n",
       "    .dataframe tbody tr th:only-of-type {\n",
       "        vertical-align: middle;\n",
       "    }\n",
       "\n",
       "    .dataframe tbody tr th {\n",
       "        vertical-align: top;\n",
       "    }\n",
       "\n",
       "    .dataframe thead th {\n",
       "        text-align: right;\n",
       "    }\n",
       "</style>\n",
       "<table border=\"1\" class=\"dataframe\">\n",
       "  <thead>\n",
       "    <tr style=\"text-align: right;\">\n",
       "      <th></th>\n",
       "      <th>제목</th>\n",
       "      <th>내용</th>\n",
       "      <th>TEXT</th>\n",
       "      <th>인공지능 감석분석 결과</th>\n",
       "    </tr>\n",
       "  </thead>\n",
       "  <tbody>\n",
       "    <tr>\n",
       "      <th>0</th>\n",
       "      <td>기대만큼 좋았던 전시회</td>\n",
       "      <td>전시회를 본지 시간이 좀 지나서 감동이 좀 가라앉기는 했지만 작품과 작가의 인생을 ...</td>\n",
       "      <td>기대만큼 좋았던 전시회 전시회를 본지 시간이 좀 지나서 감동이 좀 가라앉기는 했지만...</td>\n",
       "      <td>긍정</td>\n",
       "    </tr>\n",
       "    <tr>\n",
       "      <th>1</th>\n",
       "      <td>생각보다 별로였어요.</td>\n",
       "      <td>노르웨이 뭉크미술관을 다녀와서 그런가... 같은 그림이 여러개 전시되어 있다보니 전...</td>\n",
       "      <td>생각보다 별로였어요. 노르웨이 뭉크미술관을 다녀와서 그런가... 같은 그림이 여러개...</td>\n",
       "      <td>부정</td>\n",
       "    </tr>\n",
       "    <tr>\n",
       "      <th>2</th>\n",
       "      <td>볼게 많아서 좋더라고요</td>\n",
       "      <td>근데 다음선약시간 빠듯하게 와서ㅠ 다시 관람하러 갈거지 말입니다. 뭉크는 사랑입니다...</td>\n",
       "      <td>볼게 많아서 좋더라고요 근데 다음선약시간 빠듯하게 와서ㅠ 다시 관람하러 갈거지 말입...</td>\n",
       "      <td>긍정</td>\n",
       "    </tr>\n",
       "    <tr>\n",
       "      <th>3</th>\n",
       "      <td>워낙 유명한 화가</td>\n",
       "      <td>워낙 유명한 화가라 기대하고 갔는데\\n그림이 전체적으로 어두운 느낌이라 전시를 보고...</td>\n",
       "      <td>워낙 유명한 화가 워낙 유명한 화가라 기대하고 갔는데\\n그림이 전체적으로 어두운 느...</td>\n",
       "      <td>부정</td>\n",
       "    </tr>\n",
       "    <tr>\n",
       "      <th>4</th>\n",
       "      <td>그럭저럭</td>\n",
       "      <td>뭉크의 연대기와 작품을 볼수있는건 좋았지만, 작품설명문과 글씨가 다소 작고, 전시그...</td>\n",
       "      <td>그럭저럭 뭉크의 연대기와 작품을 볼수있는건 좋았지만, 작품설명문과 글씨가 다소 작고...</td>\n",
       "      <td>부정</td>\n",
       "    </tr>\n",
       "    <tr>\n",
       "      <th>5</th>\n",
       "      <td>1년만의 예술의전당</td>\n",
       "      <td>행복한추억 만들어주신 예술의전당 감사드리며...\\n뭉크전시 잘보고 즐겁게보고 왔습니...</td>\n",
       "      <td>1년만의 예술의전당 행복한추억 만들어주신 예술의전당 감사드리며...\\n뭉크전시 잘보...</td>\n",
       "      <td>긍정</td>\n",
       "    </tr>\n",
       "    <tr>\n",
       "      <th>6</th>\n",
       "      <td>많은 걸 느낄 수 있었던 시간</td>\n",
       "      <td>뭉크를 좋아하지 않아도 관람할만한 가치가 있는 전시라 생각하는데 아무래도 평일인데도...</td>\n",
       "      <td>많은 걸 느낄 수 있었던 시간 뭉크를 좋아하지 않아도 관람할만한 가치가 있는 전시라...</td>\n",
       "      <td>긍정</td>\n",
       "    </tr>\n",
       "    <tr>\n",
       "      <th>7</th>\n",
       "      <td>공간적 여유가 조금 아쉬웠지만 좋았습니다.</td>\n",
       "      <td>뭉크의 일생을 따라 구분연출된 다양하고 좋은 작품들을 볼 수 있는 좋은 기회였습니다...</td>\n",
       "      <td>공간적 여유가 조금 아쉬웠지만 좋았습니다. 뭉크의 일생을 따라 구분연출된 다양하고 ...</td>\n",
       "      <td>긍정</td>\n",
       "    </tr>\n",
       "    <tr>\n",
       "      <th>8</th>\n",
       "      <td>뭉크전</td>\n",
       "      <td>뭉크 개인의 예술사에서 여러 예술사적 시도를 보여준 작품 전시가 너무 멋졌습니다. ...</td>\n",
       "      <td>뭉크전 뭉크 개인의 예술사에서 여러 예술사적 시도를 보여준 작품 전시가 너무 멋졌습...</td>\n",
       "      <td>긍정</td>\n",
       "    </tr>\n",
       "    <tr>\n",
       "      <th>9</th>\n",
       "      <td>좋아요</td>\n",
       "      <td>뭉크의 고난과 극복이 우리내삶과 닮아있다고해서\\n인기가 많다고 하던데\\n아직 그정도...</td>\n",
       "      <td>좋아요 뭉크의 고난과 극복이 우리내삶과 닮아있다고해서\\n인기가 많다고 하던데\\n아직...</td>\n",
       "      <td>긍정</td>\n",
       "    </tr>\n",
       "  </tbody>\n",
       "</table>\n",
       "</div>"
      ],
      "text/plain": [
       "                        제목                                                 내용  \\\n",
       "0             기대만큼 좋았던 전시회  전시회를 본지 시간이 좀 지나서 감동이 좀 가라앉기는 했지만 작품과 작가의 인생을 ...   \n",
       "1              생각보다 별로였어요.  노르웨이 뭉크미술관을 다녀와서 그런가... 같은 그림이 여러개 전시되어 있다보니 전...   \n",
       "2             볼게 많아서 좋더라고요  근데 다음선약시간 빠듯하게 와서ㅠ 다시 관람하러 갈거지 말입니다. 뭉크는 사랑입니다...   \n",
       "3                워낙 유명한 화가  워낙 유명한 화가라 기대하고 갔는데\\n그림이 전체적으로 어두운 느낌이라 전시를 보고...   \n",
       "4                     그럭저럭  뭉크의 연대기와 작품을 볼수있는건 좋았지만, 작품설명문과 글씨가 다소 작고, 전시그...   \n",
       "5               1년만의 예술의전당  행복한추억 만들어주신 예술의전당 감사드리며...\\n뭉크전시 잘보고 즐겁게보고 왔습니...   \n",
       "6         많은 걸 느낄 수 있었던 시간  뭉크를 좋아하지 않아도 관람할만한 가치가 있는 전시라 생각하는데 아무래도 평일인데도...   \n",
       "7  공간적 여유가 조금 아쉬웠지만 좋았습니다.  뭉크의 일생을 따라 구분연출된 다양하고 좋은 작품들을 볼 수 있는 좋은 기회였습니다...   \n",
       "8                      뭉크전  뭉크 개인의 예술사에서 여러 예술사적 시도를 보여준 작품 전시가 너무 멋졌습니다. ...   \n",
       "9                      좋아요  뭉크의 고난과 극복이 우리내삶과 닮아있다고해서\\n인기가 많다고 하던데\\n아직 그정도...   \n",
       "\n",
       "                                                TEXT 인공지능 감석분석 결과  \n",
       "0  기대만큼 좋았던 전시회 전시회를 본지 시간이 좀 지나서 감동이 좀 가라앉기는 했지만...           긍정  \n",
       "1  생각보다 별로였어요. 노르웨이 뭉크미술관을 다녀와서 그런가... 같은 그림이 여러개...           부정  \n",
       "2  볼게 많아서 좋더라고요 근데 다음선약시간 빠듯하게 와서ㅠ 다시 관람하러 갈거지 말입...           긍정  \n",
       "3  워낙 유명한 화가 워낙 유명한 화가라 기대하고 갔는데\\n그림이 전체적으로 어두운 느...           부정  \n",
       "4  그럭저럭 뭉크의 연대기와 작품을 볼수있는건 좋았지만, 작품설명문과 글씨가 다소 작고...           부정  \n",
       "5  1년만의 예술의전당 행복한추억 만들어주신 예술의전당 감사드리며...\\n뭉크전시 잘보...           긍정  \n",
       "6  많은 걸 느낄 수 있었던 시간 뭉크를 좋아하지 않아도 관람할만한 가치가 있는 전시라...           긍정  \n",
       "7  공간적 여유가 조금 아쉬웠지만 좋았습니다. 뭉크의 일생을 따라 구분연출된 다양하고 ...           긍정  \n",
       "8  뭉크전 뭉크 개인의 예술사에서 여러 예술사적 시도를 보여준 작품 전시가 너무 멋졌습...           긍정  \n",
       "9  좋아요 뭉크의 고난과 극복이 우리내삶과 닮아있다고해서\\n인기가 많다고 하던데\\n아직...           긍정  "
      ]
     },
     "execution_count": 19,
     "metadata": {},
     "output_type": "execute_result"
    }
   ],
   "source": [
    "df[\"인공지능 감석분석 결과\"] = box\n",
    "df"
   ]
  },
  {
   "cell_type": "markdown",
   "id": "77d3f774-498f-4aee-b237-e689fd5e3e68",
   "metadata": {},
   "source": [
    "## 그림도 그릴수있음"
   ]
  },
  {
   "cell_type": "code",
   "execution_count": 37,
   "id": "8bcad1cf-5219-481d-adf6-ae9a5c29d962",
   "metadata": {},
   "outputs": [],
   "source": [
    "import base64\n",
    "\n",
    "prompt = \"첨부된 이미지에 사람처럼 보이는 부분에 남자 캐릭터를 그려줘. 스타일은 간단한 만화처럼 그려줘. 1번부터 4번까지 말풍선에  '안녕하세요', '홍길동입니다', '오늘은 AI 4컷', '그림을 그려보겠습니다'\"\n",
    "\n",
    "result = client.images.edit(\n",
    "    model = \"gpt-image-1\",\n",
    "    image = [open(\"Data/4컷.png\", \"rb\")],\n",
    "    prompt=prompt\n",
    ")"
   ]
  },
  {
   "cell_type": "code",
   "execution_count": 41,
   "id": "83ed1a3d-fb6a-4532-80ef-5068e018c5e0",
   "metadata": {},
   "outputs": [],
   "source": [
    "import base64\n",
    "\n",
    "prompt = \"\"\"흰색 배경에 '따뜻한 휴식' 이라는 라벨이 붙은 선물 바구니의 사실적인 이미지를 생성해줘.\n",
    "라벨과 손글씨체 글꼴이 포함되어있고, 참고 사진이 모두 포함되어있어야해.\"\"\"\n",
    "\n",
    "result = client.images.edit(\n",
    "    model = \"gpt-image-1\",\n",
    "    image = [open(\"Data/body-lotion.png\", \"rb\"),\n",
    "            open(\"Data/bath-bomb.png\", \"rb\"),\n",
    "            open(\"Data/incense-kit.png\", \"rb\"),\n",
    "            open(\"Data/soap.png\", \"rb\")],\n",
    "    prompt=prompt\n",
    ")"
   ]
  },
  {
   "cell_type": "code",
   "execution_count": 42,
   "id": "a810e54b-f5e7-4ab5-adc1-18460b7a9917",
   "metadata": {},
   "outputs": [],
   "source": [
    "import base64\n",
    "\n",
    "A = result.data[0].b64_json\n",
    "image = base64.b64decode(A)\n",
    "\n",
    "f = open(\"my_image.png\", \"wb\")\n",
    "f.write(image)\n",
    "f.close()"
   ]
  },
  {
   "cell_type": "code",
   "execution_count": null,
   "id": "d995c5bb-ecc3-4f24-a191-591f077e04a4",
   "metadata": {},
   "outputs": [],
   "source": []
  },
  {
   "cell_type": "code",
   "execution_count": null,
   "id": "7ab245a8-c3ed-42a3-ad1d-61f3f2a36ec6",
   "metadata": {},
   "outputs": [],
   "source": []
  },
  {
   "cell_type": "code",
   "execution_count": null,
   "id": "bce2c5bf-1bf4-4513-ba19-6e08c4760035",
   "metadata": {},
   "outputs": [],
   "source": []
  },
  {
   "cell_type": "code",
   "execution_count": null,
   "id": "c82615ee-6d3c-4ebd-b9d2-ae7a510cdecd",
   "metadata": {},
   "outputs": [],
   "source": []
  },
  {
   "cell_type": "code",
   "execution_count": null,
   "id": "08d1ef32-93ff-4a68-bfa9-e80b4b85a22b",
   "metadata": {},
   "outputs": [],
   "source": []
  }
 ],
 "metadata": {
  "kernelspec": {
   "display_name": "Python 3 (ipykernel)",
   "language": "python",
   "name": "python3"
  },
  "language_info": {
   "codemirror_mode": {
    "name": "ipython",
    "version": 3
   },
   "file_extension": ".py",
   "mimetype": "text/x-python",
   "name": "python",
   "nbconvert_exporter": "python",
   "pygments_lexer": "ipython3",
   "version": "3.12.7"
  }
 },
 "nbformat": 4,
 "nbformat_minor": 5
}
