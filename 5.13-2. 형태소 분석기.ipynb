{
 "cells": [
  {
   "cell_type": "markdown",
   "id": "3b098fe2-c00e-4cc9-84a7-214ed2e37845",
   "metadata": {},
   "source": [
    "# 형태소 분석기\n",
    "- Kkma: 서울대학교 형태소 분석기 // 꼼꼼하지만 많이 느림\n",
    "- Okt: 트위터에서 만든 형태소 분석기 // 최신 경향 반영한 단어 잘 잡아주고 빠름"
   ]
  },
  {
   "cell_type": "code",
   "execution_count": 43,
   "id": "1e24b14d-fad5-45a9-b9c5-ba4b6f87c13b",
   "metadata": {},
   "outputs": [
    {
     "data": {
      "text/plain": [
       "['아버지', '가방']"
      ]
     },
     "execution_count": 43,
     "metadata": {},
     "output_type": "execute_result"
    }
   ],
   "source": [
    "from konlpy.tag import Kkma, Okt\n",
    "\n",
    "text = \"아버지가방에들어가신다\"\n",
    "\n",
    "# 명사만 추출\n",
    "model = Okt()\n",
    "model.nouns(text)"
   ]
  },
  {
   "cell_type": "code",
   "execution_count": null,
   "id": "fb693201-b978-450b-974c-9e69f25d9191",
   "metadata": {},
   "outputs": [],
   "source": []
  }
 ],
 "metadata": {
  "kernelspec": {
   "display_name": "Python 3 (ipykernel)",
   "language": "python",
   "name": "python3"
  },
  "language_info": {
   "codemirror_mode": {
    "name": "ipython",
    "version": 3
   },
   "file_extension": ".py",
   "mimetype": "text/x-python",
   "name": "python",
   "nbconvert_exporter": "python",
   "pygments_lexer": "ipython3",
   "version": "3.12.7"
  }
 },
 "nbformat": 4,
 "nbformat_minor": 5
}
