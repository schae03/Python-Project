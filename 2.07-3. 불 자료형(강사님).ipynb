{
 "cells": [
  {
   "cell_type": "markdown",
   "id": "75d621b4-478b-4290-8cf3-ffc03d1c9c99",
   "metadata": {},
   "source": [
    "# 불 자료형이란?\n",
    "불 자료형(Boolean Type) 은 참(True)과 거짓(False)을 나타내는 자료형입니다.\n",
    "* 파이썬에서는 bool 타입이 이에 해당합니다.\n",
    "* True와 False는 파이썬 내장 상수로, 논리 연산, 조건문 등에 사용됩니다."
   ]
  },
  {
   "cell_type": "code",
   "execution_count": 1,
   "id": "f778f585-3f30-49da-b8c7-4695685be1ab",
   "metadata": {},
   "outputs": [
    {
     "name": "stdout",
     "output_type": "stream",
     "text": [
      "True\n",
      "<class 'bool'>\n"
     ]
    }
   ],
   "source": [
    "is_raining = True\n",
    "is_sunny = False\n",
    "\n",
    "print(is_raining)  # True\n",
    "print(type(is_raining))  # <class 'bool'>"
   ]
  },
  {
   "cell_type": "markdown",
   "id": "bbf357b5-ec38-4328-9e4b-70d1d5f77d7c",
   "metadata": {},
   "source": [
    "## 불 자료형 생성 방법\n",
    "### 직접 True / False 할당\n",
    "가장 간단하게 변수를 True 혹은 False로 선언할 수 있습니다."
   ]
  },
  {
   "cell_type": "code",
   "execution_count": 2,
   "id": "18cc3570-aa5f-4a37-b45c-94e033ef1bb1",
   "metadata": {},
   "outputs": [
    {
     "name": "stdout",
     "output_type": "stream",
     "text": [
      "True\n",
      "<class 'bool'>\n"
     ]
    }
   ],
   "source": [
    "flag = True\n",
    "print(flag)     # True\n",
    "print(type(flag))  # <class 'bool'>"
   ]
  },
  {
   "cell_type": "markdown",
   "id": "049766d1-4dc6-4c24-89af-9f2e68ad6152",
   "metadata": {},
   "source": [
    "### 비교 연산자 결과\n",
    "==, !=, >, <, >=, <=와 같은 비교 연산자를 사용하면 결과가 불 자료형으로 나옵니다."
   ]
  },
  {
   "cell_type": "code",
   "execution_count": 3,
   "id": "b79ba225-8c5b-4c79-b16d-ac7b14227ecb",
   "metadata": {},
   "outputs": [
    {
     "name": "stdout",
     "output_type": "stream",
     "text": [
      "True\n",
      "False\n",
      "True\n"
     ]
    }
   ],
   "source": [
    "a = 10\n",
    "b = 5\n",
    "print(a > b)   # True\n",
    "print(a == b)  # False\n",
    "print(a != b)  # True"
   ]
  },
  {
   "cell_type": "markdown",
   "id": "cc63182f-59a6-4732-82d3-25ffc61b5295",
   "metadata": {},
   "source": [
    "### 논리 연산자 결과\n",
    "and, or, not 등의 논리 연산자 또한 결과로 불 자료형을 반환합니다."
   ]
  },
  {
   "cell_type": "code",
   "execution_count": 4,
   "id": "a070101f-daac-41e1-b065-1d50349ce822",
   "metadata": {},
   "outputs": [
    {
     "name": "stdout",
     "output_type": "stream",
     "text": [
      "False\n",
      "True\n",
      "False\n"
     ]
    }
   ],
   "source": [
    "x = True\n",
    "y = False\n",
    "print(x and y)  # False\n",
    "print(x or y)   # True\n",
    "print(not x)    # False"
   ]
  },
  {
   "cell_type": "markdown",
   "id": "939b7334-0baf-4547-b878-8be79e2e9582",
   "metadata": {},
   "source": [
    "### bool() 함수 사용\n",
    "* 어떤 값이 참(True)인지 거짓(False)인지 확인할 때, bool(값) 형태로 사용합니다.\n",
    "* 파이썬에서 빈 값(0, \"\", [], {}, None)은 False로, 비어있지 않은 값은 True로 평가됩니다."
   ]
  },
  {
   "cell_type": "code",
   "execution_count": 5,
   "id": "3dd1ed97-f24b-4048-8e9f-54b2fe3bb8f0",
   "metadata": {},
   "outputs": [
    {
     "name": "stdout",
     "output_type": "stream",
     "text": [
      "False\n",
      "False\n",
      "False\n",
      "True\n",
      "True\n",
      "True\n"
     ]
    }
   ],
   "source": [
    "print(bool(0))        # False\n",
    "print(bool(\"\"))       # False\n",
    "print(bool([]))       # False\n",
    "print(bool(123))      # True\n",
    "print(bool(\"Hello\"))  # True\n",
    "print(bool([1, 2]))   # True"
   ]
  },
  {
   "cell_type": "markdown",
   "id": "fecdbe4c-3f15-42ba-ab2a-50f2d5be69ef",
   "metadata": {},
   "source": [
    "###  타입 변환\n",
    "* True를 int()로 바꾸면 1, False를 int()로 바꾸면 0입니다"
   ]
  },
  {
   "cell_type": "code",
   "execution_count": 7,
   "id": "1442446c-0121-48dd-b429-e7c6dfb82b0a",
   "metadata": {},
   "outputs": [
    {
     "name": "stdout",
     "output_type": "stream",
     "text": [
      "1\n",
      "0\n"
     ]
    }
   ],
   "source": [
    "print(int(True))   # 1\n",
    "print(int(False))  # 0"
   ]
  },
  {
   "cell_type": "markdown",
   "id": "7ae44270-653f-492b-b8d0-c319a472b49e",
   "metadata": {},
   "source": [
    "## 연습문제\n",
    "1. 불 자료형 변수 is_student를 True로 선언하고, 그 값을 출력하는 코드를 작성하세요."
   ]
  },
  {
   "cell_type": "code",
   "execution_count": 1,
   "id": "49269764-a8c2-41fc-adb9-203ea3b6ad2c",
   "metadata": {},
   "outputs": [
    {
     "data": {
      "text/plain": [
       "True"
      ]
     },
     "execution_count": 1,
     "metadata": {},
     "output_type": "execute_result"
    }
   ],
   "source": [
    "is_student = True\n",
    "is_student"
   ]
  },
  {
   "cell_type": "markdown",
   "id": "2729eee8-a561-49f8-a606-7ea1325622e4",
   "metadata": {},
   "source": [
    "2. 불 자료형 변수 is_online을 False로 선언하고, 그 값을 출력하는 코드를 작성하세요."
   ]
  },
  {
   "cell_type": "code",
   "execution_count": 2,
   "id": "19d2e1b9-184e-4595-b106-99c26d9460fe",
   "metadata": {},
   "outputs": [
    {
     "data": {
      "text/plain": [
       "False"
      ]
     },
     "execution_count": 2,
     "metadata": {},
     "output_type": "execute_result"
    }
   ],
   "source": [
    "is_online = False\n",
    "is_online"
   ]
  },
  {
   "cell_type": "markdown",
   "id": "7221ee5e-da2b-4b64-813b-2dc60018b93d",
   "metadata": {},
   "source": [
    "3. 관계 연산자를 사용하여 표현식 5 > 2의 결과를 변수 result에 저장하고, 그 값을 출력하는 코드를 작성하세요."
   ]
  },
  {
   "cell_type": "code",
   "execution_count": 4,
   "id": "0fcfaa99-4168-4591-aec6-ad0ed84cf75d",
   "metadata": {},
   "outputs": [
    {
     "data": {
      "text/plain": [
       "True"
      ]
     },
     "execution_count": 4,
     "metadata": {},
     "output_type": "execute_result"
    }
   ],
   "source": [
    "result = 5 > 2\n",
    "result"
   ]
  },
  {
   "cell_type": "raw",
   "id": "22f6fb94-3eb5-4888-a081-e6dafaa3911f",
   "metadata": {},
   "source": [
    "4. 관계 연산자를 사용하여 표현식 5 < 2의 결과를 변수 result에 저장하고, 그 값을 출력하는 코드를 작성하세요."
   ]
  },
  {
   "cell_type": "code",
   "execution_count": 5,
   "id": "669ba88e-b553-4087-8bc8-202c72574644",
   "metadata": {},
   "outputs": [
    {
     "data": {
      "text/plain": [
       "False"
      ]
     },
     "execution_count": 5,
     "metadata": {},
     "output_type": "execute_result"
    }
   ],
   "source": [
    "result = 5 < 2\n",
    "result"
   ]
  },
  {
   "cell_type": "markdown",
   "id": "62383365-0fd7-421c-9429-80a850143737",
   "metadata": {},
   "source": [
    "5. 동등 비교 연산자(==)를 사용하여 표현식 5 == 5의 결과를 변수 result에 저장하고, 그 값을 출력하는 코드를 작성하세요."
   ]
  },
  {
   "cell_type": "code",
   "execution_count": 13,
   "id": "7d2922eb-7005-4014-be33-37add1b0cbcf",
   "metadata": {},
   "outputs": [
    {
     "data": {
      "text/plain": [
       "True"
      ]
     },
     "execution_count": 13,
     "metadata": {},
     "output_type": "execute_result"
    }
   ],
   "source": [
    "result = (5 == 5)      # 괄호 없어도 ㄱㅊ\n",
    "result"
   ]
  },
  {
   "cell_type": "markdown",
   "id": "97374baf-1db2-4fb5-abca-8cadac438758",
   "metadata": {},
   "source": [
    "6. 부등 비교 연산자(!=)를 사용하여 표현식 5 != 5의 결과를 변수 result에 저장하고, 그 값을 출력하는 코드를 작성하세요."
   ]
  },
  {
   "cell_type": "code",
   "execution_count": 7,
   "id": "d955943e-16cd-445e-8fda-200936658d18",
   "metadata": {},
   "outputs": [
    {
     "data": {
      "text/plain": [
       "False"
      ]
     },
     "execution_count": 7,
     "metadata": {},
     "output_type": "execute_result"
    }
   ],
   "source": [
    "result = (5 != 5)\n",
    "result"
   ]
  },
  {
   "cell_type": "markdown",
   "id": "3b7186a0-9acd-4d14-b5c8-7f7b8f4b350c",
   "metadata": {},
   "source": [
    "7. 논리 연산자 not을 사용하여 표현식 not True의 결과를 변수 result에 저장하고, 그 값을 출력하는 코드를 작성하세요."
   ]
  },
  {
   "cell_type": "code",
   "execution_count": 8,
   "id": "231e8b7b-425c-4ecf-9f1b-cfadda1d33bf",
   "metadata": {},
   "outputs": [
    {
     "data": {
      "text/plain": [
       "False"
      ]
     },
     "execution_count": 8,
     "metadata": {},
     "output_type": "execute_result"
    }
   ],
   "source": [
    "result = not True\n",
    "result"
   ]
  },
  {
   "cell_type": "markdown",
   "id": "62b7a866-15a8-43e0-bed2-8bb57061f307",
   "metadata": {},
   "source": [
    "8. 논리 연산자 not을 사용하여 표현식 not False의 결과를 변수 result에 저장하고, 그 값을 출력하는 코드를 작성하세요."
   ]
  },
  {
   "cell_type": "code",
   "execution_count": 9,
   "id": "73c0ba5e-77df-4553-81e0-9252b0536e17",
   "metadata": {},
   "outputs": [
    {
     "data": {
      "text/plain": [
       "True"
      ]
     },
     "execution_count": 9,
     "metadata": {},
     "output_type": "execute_result"
    }
   ],
   "source": [
    "result = not False\n",
    "result"
   ]
  },
  {
   "cell_type": "markdown",
   "id": "2446bb85-45c4-4736-a51e-b1412e1ccec4",
   "metadata": {},
   "source": [
    "9. bool() 함수를 사용하여 다음 값들을 불 자료형으로 변환한 후 각각 출력하는 코드를 작성하세요.\n",
    "* 숫자 0\n",
    "* 숫자 1\n",
    "* 빈 문자열 \"\"\n",
    "* 문자열 \"Hello\""
   ]
  },
  {
   "cell_type": "code",
   "execution_count": 11,
   "id": "e147ebe6-f878-4a7a-9ddd-c132589c6d6b",
   "metadata": {},
   "outputs": [
    {
     "data": {
      "text/plain": [
       "(False, True, False, True)"
      ]
     },
     "execution_count": 11,
     "metadata": {},
     "output_type": "execute_result"
    }
   ],
   "source": [
    "bool(0), bool(1), bool(\"\"), bool(\"Hello\")"
   ]
  },
  {
   "cell_type": "markdown",
   "id": "8c60412b-29ce-43ac-82ec-4d2f20c4e928",
   "metadata": {},
   "source": [
    "10. 관계 연산자와 논리 연산자를 결합하여 표현식 (3 > 1) and (2 < 5)의 결과를 변수 result에 저장하고, 그 값을 출력하는 코드를 작성하세요."
   ]
  },
  {
   "cell_type": "code",
   "execution_count": 12,
   "id": "a57eb36f-45a0-41c6-840f-233929fe154a",
   "metadata": {},
   "outputs": [
    {
     "data": {
      "text/plain": [
       "True"
      ]
     },
     "execution_count": 12,
     "metadata": {},
     "output_type": "execute_result"
    }
   ],
   "source": [
    "result = (3 > 1) and (2 < 5)\n",
    "result"
   ]
  },
  {
   "cell_type": "code",
   "execution_count": null,
   "id": "e4bc1dc9-0d88-4dba-977c-20e2bf9a639d",
   "metadata": {},
   "outputs": [],
   "source": []
  }
 ],
 "metadata": {
  "kernelspec": {
   "display_name": "Python 3 (ipykernel)",
   "language": "python",
   "name": "python3"
  },
  "language_info": {
   "codemirror_mode": {
    "name": "ipython",
    "version": 3
   },
   "file_extension": ".py",
   "mimetype": "text/x-python",
   "name": "python",
   "nbconvert_exporter": "python",
   "pygments_lexer": "ipython3",
   "version": "3.12.7"
  }
 },
 "nbformat": 4,
 "nbformat_minor": 5
}
