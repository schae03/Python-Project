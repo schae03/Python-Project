{
 "cells": [
  {
   "cell_type": "markdown",
   "id": "cadd17d8-bae5-460c-be66-60f4c7d18fc3",
   "metadata": {},
   "source": [
    "# 독립성 검정\n",
    "독립성 검정(Chi-square test of independence)은 두 개 이상의 범주형 변수 간에 ```연관성(상관관계)```이 있는지를 판단하는 통계적 방법입니다.\n",
    "즉, 한 변수의 범주가 다른 변수의 범주와 관련이 있는지를 검증합니다. 예를 들어, \"흡연 여부\"와 \"심장 질환 발생\"이라는 두 범주형 변수 사이에 연관성이 있는지(즉, 서로 독립적인지 아닌지)를 알아보고자 할 때 사용합니다.\n",
    "\n",
    "* 귀무가설(H₀): 두 변수는 서로 독립적이다.\n",
    "* 대립가설(H₁): 두 변수는 독립적이지 않다."
   ]
  },
  {
   "cell_type": "code",
   "execution_count": 1,
   "id": "0072ad56-42f9-47a4-b1d5-a138e153def8",
   "metadata": {},
   "outputs": [
    {
     "data": {
      "text/html": [
       "<div>\n",
       "<style scoped>\n",
       "    .dataframe tbody tr th:only-of-type {\n",
       "        vertical-align: middle;\n",
       "    }\n",
       "\n",
       "    .dataframe tbody tr th {\n",
       "        vertical-align: top;\n",
       "    }\n",
       "\n",
       "    .dataframe thead th {\n",
       "        text-align: right;\n",
       "    }\n",
       "</style>\n",
       "<table border=\"1\" class=\"dataframe\">\n",
       "  <thead>\n",
       "    <tr style=\"text-align: right;\">\n",
       "      <th></th>\n",
       "      <th>좋아함</th>\n",
       "      <th>좋아하지 않음</th>\n",
       "    </tr>\n",
       "  </thead>\n",
       "  <tbody>\n",
       "    <tr>\n",
       "      <th>남자</th>\n",
       "      <td>80</td>\n",
       "      <td>30</td>\n",
       "    </tr>\n",
       "    <tr>\n",
       "      <th>여자</th>\n",
       "      <td>90</td>\n",
       "      <td>10</td>\n",
       "    </tr>\n",
       "  </tbody>\n",
       "</table>\n",
       "</div>"
      ],
      "text/plain": [
       "    좋아함  좋아하지 않음\n",
       "남자   80       30\n",
       "여자   90       10"
      ]
     },
     "execution_count": 1,
     "metadata": {},
     "output_type": "execute_result"
    }
   ],
   "source": [
    "import pandas as pd\n",
    "from scipy import stats\n",
    "\n",
    "# 귀무가설: 성별과 운동 선호도는 독립적이다.\n",
    "# 대립가설: 성별과 운동 선호도는 독립적이지 않다.\n",
    "\n",
    "df = pd.DataFrame({'좋아함': [80, 90],\n",
    "                   '좋아하지 않음': [30, 10]},\n",
    "                  index=['남자', '여자'])\n",
    "df"
   ]
  },
  {
   "cell_type": "code",
   "execution_count": 3,
   "id": "edff86c1-9904-4f22-8dcb-a0009432a0ac",
   "metadata": {},
   "outputs": [
    {
     "data": {
      "text/html": [
       "<div>\n",
       "<style scoped>\n",
       "    .dataframe tbody tr th:only-of-type {\n",
       "        vertical-align: middle;\n",
       "    }\n",
       "\n",
       "    .dataframe tbody tr th {\n",
       "        vertical-align: top;\n",
       "    }\n",
       "\n",
       "    .dataframe thead th {\n",
       "        text-align: right;\n",
       "    }\n",
       "</style>\n",
       "<table border=\"1\" class=\"dataframe\">\n",
       "  <thead>\n",
       "    <tr style=\"text-align: right;\">\n",
       "      <th></th>\n",
       "      <th>좋아함</th>\n",
       "      <th>좋아하지 않음</th>\n",
       "    </tr>\n",
       "  </thead>\n",
       "  <tbody>\n",
       "    <tr>\n",
       "      <th>남자</th>\n",
       "      <td>89.047619</td>\n",
       "      <td>20.952381</td>\n",
       "    </tr>\n",
       "    <tr>\n",
       "      <th>여자</th>\n",
       "      <td>80.952381</td>\n",
       "      <td>19.047619</td>\n",
       "    </tr>\n",
       "  </tbody>\n",
       "</table>\n",
       "</div>"
      ],
      "text/plain": [
       "          좋아함    좋아하지 않음\n",
       "남자  89.047619  20.952381\n",
       "여자  80.952381  19.047619"
      ]
     },
     "execution_count": 3,
     "metadata": {},
     "output_type": "execute_result"
    }
   ],
   "source": [
    "# 기대빈도 표 만들기 \n",
    "\n",
    "df2 = pd.DataFrame([[170*110 / 210,  110*40 / 210], [170*100 / 210, 100*40 /210]],          \n",
    "                   index = [\"남자\", \"여자\"], columns = [\"좋아함\", \"좋아하지 않음\"])\n",
    "df2\n",
    "\n",
    "# 공정하다고 기대되는 기대빈도표 "
   ]
  },
  {
   "cell_type": "code",
   "execution_count": 9,
   "id": "938138d2-c8c7-4d15-a7e0-ad90f1508e48",
   "metadata": {},
   "outputs": [
    {
     "data": {
      "text/plain": [
       "9.045792112299466"
      ]
     },
     "execution_count": 9,
     "metadata": {},
     "output_type": "execute_result"
    }
   ],
   "source": [
    "# 교차표 기반 카이제곱 검정.    식의 결과값은 이럼 \n",
    "((abs(df - df2) - 0.5) ** 2 / df2).sum().sum()"
   ]
  },
  {
   "cell_type": "code",
   "execution_count": 11,
   "id": "6763f1cd-9d0d-4acb-bc18-2e6615acbe84",
   "metadata": {},
   "outputs": [
    {
     "data": {
      "text/plain": [
       "Chi2ContingencyResult(statistic=9.045792112299468, pvalue=0.0026330012530379632, dof=1, expected_freq=array([[89.04761905, 20.95238095],\n",
       "       [80.95238095, 19.04761905]]))"
      ]
     },
     "execution_count": 11,
     "metadata": {},
     "output_type": "execute_result"
    }
   ],
   "source": [
    "# 교차표 기반 카이제곱 검정 (함수)    -    함수쓰면 기대빈도표 만들필요없음 \n",
    "stats.chi2_contingency(df)\n",
    "\n",
    "# 기대빈도? : 9.045792112299468\n",
    "# p < 0.05 ; 귀무가설 기각   성별과 운동선호도는 독립적이지 않다 "
   ]
  },
  {
   "cell_type": "code",
   "execution_count": null,
   "id": "459fe0be-8b66-4a73-b646-4ad729aec1d0",
   "metadata": {},
   "outputs": [],
   "source": []
  },
  {
   "cell_type": "markdown",
   "id": "b3e1aa38-6c4a-449e-81e9-716266fadd13",
   "metadata": {},
   "source": [
    "## 연습문제\n",
    "1. 어느 조사에서 두 도시(A도시, B도시)의 주민들을 대상으로 집에서 직접 요리한 집밥과 외식을 선호하는지 조사하였습니다. 조사 결과는 아래와 같이 나타났습니다.\n",
    "\n",
    "* 귀무가설(H₀): 도시와 식사 선호도는 서로 독립이다.\n",
    "* 대립가설(H₁): 도시와 식사 선호도는 서로 독립이 아니다.\n",
    "\n",
    "이 자료를 바탕으로 독립성 검정을 수행하여, 두 변수(도시, 식사 선호)가 독립인지 아닌지를 판단하시오."
   ]
  },
  {
   "cell_type": "code",
   "execution_count": 14,
   "id": "ff422728-b499-4ff9-9330-b1c874ef937b",
   "metadata": {},
   "outputs": [
    {
     "data": {
      "text/html": [
       "<div>\n",
       "<style scoped>\n",
       "    .dataframe tbody tr th:only-of-type {\n",
       "        vertical-align: middle;\n",
       "    }\n",
       "\n",
       "    .dataframe tbody tr th {\n",
       "        vertical-align: top;\n",
       "    }\n",
       "\n",
       "    .dataframe thead th {\n",
       "        text-align: right;\n",
       "    }\n",
       "</style>\n",
       "<table border=\"1\" class=\"dataframe\">\n",
       "  <thead>\n",
       "    <tr style=\"text-align: right;\">\n",
       "      <th></th>\n",
       "      <th>집밥 선호</th>\n",
       "      <th>외식 선호</th>\n",
       "    </tr>\n",
       "  </thead>\n",
       "  <tbody>\n",
       "    <tr>\n",
       "      <th>A도시</th>\n",
       "      <td>45</td>\n",
       "      <td>55</td>\n",
       "    </tr>\n",
       "    <tr>\n",
       "      <th>B도시</th>\n",
       "      <td>30</td>\n",
       "      <td>70</td>\n",
       "    </tr>\n",
       "  </tbody>\n",
       "</table>\n",
       "</div>"
      ],
      "text/plain": [
       "     집밥 선호  외식 선호\n",
       "A도시     45     55\n",
       "B도시     30     70"
      ]
     },
     "execution_count": 14,
     "metadata": {},
     "output_type": "execute_result"
    }
   ],
   "source": [
    "# 데이터 프레임 생성\n",
    "data = {'집밥 선호': [45, 30],  \n",
    "        '외식 선호': [55, 70]} \n",
    "\n",
    "df = pd.DataFrame(data, index=['A도시', 'B도시'])\n",
    "df"
   ]
  },
  {
   "cell_type": "code",
   "execution_count": 15,
   "id": "958a239a-1545-4ea8-915c-05f7f0f50a5d",
   "metadata": {},
   "outputs": [
    {
     "data": {
      "text/html": [
       "<div>\n",
       "<style scoped>\n",
       "    .dataframe tbody tr th:only-of-type {\n",
       "        vertical-align: middle;\n",
       "    }\n",
       "\n",
       "    .dataframe tbody tr th {\n",
       "        vertical-align: top;\n",
       "    }\n",
       "\n",
       "    .dataframe thead th {\n",
       "        text-align: right;\n",
       "    }\n",
       "</style>\n",
       "<table border=\"1\" class=\"dataframe\">\n",
       "  <thead>\n",
       "    <tr style=\"text-align: right;\">\n",
       "      <th></th>\n",
       "      <th>집밥선호</th>\n",
       "      <th>외식선호</th>\n",
       "    </tr>\n",
       "  </thead>\n",
       "  <tbody>\n",
       "    <tr>\n",
       "      <th>A도시</th>\n",
       "      <td>37.5</td>\n",
       "      <td>62.5</td>\n",
       "    </tr>\n",
       "    <tr>\n",
       "      <th>B도시</th>\n",
       "      <td>37.5</td>\n",
       "      <td>62.5</td>\n",
       "    </tr>\n",
       "  </tbody>\n",
       "</table>\n",
       "</div>"
      ],
      "text/plain": [
       "     집밥선호  외식선호\n",
       "A도시  37.5  62.5\n",
       "B도시  37.5  62.5"
      ]
     },
     "execution_count": 15,
     "metadata": {},
     "output_type": "execute_result"
    }
   ],
   "source": [
    "# 기대빈도 표 만들기 \n",
    "\n",
    "df2 = pd.DataFrame([[75*100 / 200, 125*100 / 200], [75*100 / 200, 125*100 / 200]],          \n",
    "                   index = [\"A도시\", \"B도시\"], columns = [\"집밥선호\", \"외식선호\"])\n",
    "df2"
   ]
  },
  {
   "cell_type": "code",
   "execution_count": 16,
   "id": "9e3de23b-1beb-4688-812e-3005947db599",
   "metadata": {},
   "outputs": [
    {
     "data": {
      "text/plain": [
       "Chi2ContingencyResult(statistic=4.181333333333333, pvalue=0.04087153408900628, dof=1, expected_freq=array([[37.5, 62.5],\n",
       "       [37.5, 62.5]]))"
      ]
     },
     "execution_count": 16,
     "metadata": {},
     "output_type": "execute_result"
    }
   ],
   "source": [
    "stats.chi2_contingency(df)\n",
    "\n",
    "# p < 0.05 ; 귀무가설 기각.   도시와 식사 선호도는 서로 독립이 아니다."
   ]
  },
  {
   "cell_type": "code",
   "execution_count": null,
   "id": "ba0ad96e-0686-42b5-ae18-5495010c3ad9",
   "metadata": {},
   "outputs": [],
   "source": []
  },
  {
   "cell_type": "markdown",
   "id": "a1e5096c-c7b6-4eed-848a-0e1edf683305",
   "metadata": {},
   "source": [
    "2. 한 대학에서 학생들의 성별(남자, 여자)과 전공(공학, 인문, 사회)을 조사하였습니다. 그 결과는 아래와 같습니다.\n",
    "\n",
    "* 귀무가설(H₀): 성별과 전공 선택은 서로 독립이다.\n",
    "* 대립가설(H₁): 성별과 전공 선택은 서로 독립이 아니다.\n",
    "\n",
    "이 자료를 이용하여 독립성 검정을 수행하고, 성별에 따라 전공 선택에 차이가 있는지 판단하시오."
   ]
  },
  {
   "cell_type": "code",
   "execution_count": 18,
   "id": "842e055e-1670-46dc-b32f-5f7c2f4ac22c",
   "metadata": {},
   "outputs": [
    {
     "data": {
      "text/html": [
       "<div>\n",
       "<style scoped>\n",
       "    .dataframe tbody tr th:only-of-type {\n",
       "        vertical-align: middle;\n",
       "    }\n",
       "\n",
       "    .dataframe tbody tr th {\n",
       "        vertical-align: top;\n",
       "    }\n",
       "\n",
       "    .dataframe thead th {\n",
       "        text-align: right;\n",
       "    }\n",
       "</style>\n",
       "<table border=\"1\" class=\"dataframe\">\n",
       "  <thead>\n",
       "    <tr style=\"text-align: right;\">\n",
       "      <th></th>\n",
       "      <th>공학</th>\n",
       "      <th>인문</th>\n",
       "      <th>사회</th>\n",
       "    </tr>\n",
       "  </thead>\n",
       "  <tbody>\n",
       "    <tr>\n",
       "      <th>남자</th>\n",
       "      <td>50</td>\n",
       "      <td>20</td>\n",
       "      <td>30</td>\n",
       "    </tr>\n",
       "    <tr>\n",
       "      <th>여자</th>\n",
       "      <td>30</td>\n",
       "      <td>40</td>\n",
       "      <td>30</td>\n",
       "    </tr>\n",
       "  </tbody>\n",
       "</table>\n",
       "</div>"
      ],
      "text/plain": [
       "    공학  인문  사회\n",
       "남자  50  20  30\n",
       "여자  30  40  30"
      ]
     },
     "execution_count": 18,
     "metadata": {},
     "output_type": "execute_result"
    }
   ],
   "source": [
    "data = {'공학': [50, 30],\n",
    "        '인문': [20, 40],\n",
    "        '사회': [30, 30]}\n",
    "df = pd.DataFrame(data, index=['남자', '여자'])\n",
    "df"
   ]
  },
  {
   "cell_type": "code",
   "execution_count": 19,
   "id": "cb92bffe-7761-4257-979a-cc5a301cfbfc",
   "metadata": {},
   "outputs": [
    {
     "data": {
      "text/plain": [
       "Chi2ContingencyResult(statistic=11.666666666666668, pvalue=0.0029282996948181853, dof=2, expected_freq=array([[40., 30., 30.],\n",
       "       [40., 30., 30.]]))"
      ]
     },
     "execution_count": 19,
     "metadata": {},
     "output_type": "execute_result"
    }
   ],
   "source": [
    "stats.chi2_contingency(df)\n",
    "\n",
    "# p < 0.05 ; 귀무가설 기각.   성별과 전공 선택은 서로 독립이 아니다."
   ]
  },
  {
   "cell_type": "code",
   "execution_count": null,
   "id": "de15f8fc-58f2-47f3-91c4-1d8036cee313",
   "metadata": {},
   "outputs": [],
   "source": []
  }
 ],
 "metadata": {
  "kernelspec": {
   "display_name": "Python 3 (ipykernel)",
   "language": "python",
   "name": "python3"
  },
  "language_info": {
   "codemirror_mode": {
    "name": "ipython",
    "version": 3
   },
   "file_extension": ".py",
   "mimetype": "text/x-python",
   "name": "python",
   "nbconvert_exporter": "python",
   "pygments_lexer": "ipython3",
   "version": "3.12.7"
  }
 },
 "nbformat": 4,
 "nbformat_minor": 5
}
