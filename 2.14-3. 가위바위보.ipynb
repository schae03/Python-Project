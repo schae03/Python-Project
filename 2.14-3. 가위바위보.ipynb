{
 "cells": [
  {
   "cell_type": "code",
   "execution_count": 6,
   "id": "d6a2de9c-676a-4669-8526-e7c51c5bc664",
   "metadata": {},
   "outputs": [
    {
     "data": {
      "text/plain": [
       "'바위'"
      ]
     },
     "execution_count": 6,
     "metadata": {},
     "output_type": "execute_result"
    }
   ],
   "source": [
    "import random\n",
    "com = random.choice(['가위', '바위', '보'])\n",
    "com"
   ]
  },
  {
   "cell_type": "code",
   "execution_count": 48,
   "id": "7969f477-02b9-4ff6-8d1d-f73cd6850686",
   "metadata": {},
   "outputs": [
    {
     "name": "stdin",
     "output_type": "stream",
     "text": [
      "이름을 입력하세요:  최길동\n",
      "가위바위보 중 하나 입력:  가위\n"
     ]
    },
    {
     "name": "stdout",
     "output_type": "stream",
     "text": [
      "가위였습니다. 비겼습니다\n"
     ]
    },
    {
     "name": "stdin",
     "output_type": "stream",
     "text": [
      "가위바위보 중 하나 입력:  ㄱㅏ위\n"
     ]
    },
    {
     "name": "stdout",
     "output_type": "stream",
     "text": [
      "보였습니다. 님이졌습니다\n",
      "\n",
      "<랭킹>\n",
      "1등. 김길동 : 3점\n",
      "2등. 홍길동 : 1점\n",
      "3등. 이길동 : 1점\n",
      "4등. 최길동 : 0점\n",
      "\n"
     ]
    },
    {
     "name": "stdin",
     "output_type": "stream",
     "text": [
      "그만하고싶으면 0,  계속할거면 1 :  0\n"
     ]
    }
   ],
   "source": [
    "import pickle\n",
    "import random\n",
    "\n",
    "\n",
    "try:\n",
    "    f = open(\"game.dat\", \"rb\")\n",
    "    box = pickle.load(f)\n",
    "    f.close()\n",
    "except FileNotFoundError:\n",
    "    box = []\n",
    "\n",
    "\n",
    "def game():\n",
    "    score_sum = 0\n",
    "    score_cnt = 1\n",
    "    while True:\n",
    "        com = random.choice(['가위', '바위', '보'])\n",
    "        me = input(\"가위바위보 중 하나 입력: \")\n",
    "        if (com == \"가위\" and me == \"바위\") or (com == \"바위\" and me == \"보\") or (com == \"보\" and me == \"가위\"):\n",
    "            print(f\"{com}였습니다. 님이이겼습니다\")\n",
    "            score_sum += score_cnt\n",
    "            score_cnt *= 2\n",
    "            print(f\"현재점수: {score_sum}\")\n",
    "        elif com == me:\n",
    "            print(f\"{com}였습니다. 비겼습니다\")\n",
    "            score_cnt = 1\n",
    "        else:\n",
    "            print(f\"{com}였습니다. 님이졌습니다\")\n",
    "            break\n",
    "    return score_sum\n",
    "\n",
    "\n",
    "def game_start():\n",
    "    name = input(\"이름을 입력하세요: \")\n",
    "    score_sum = game()\n",
    "    A = [name, score_sum]\n",
    "    if A not in box:\n",
    "        box.append(A)\n",
    "        box.sort(key = lambda x: x[1], reverse = True)\n",
    "        f = open(\"game.dat\", \"wb\")\n",
    "        pickle.dump(box, f)\n",
    "        f.close()\n",
    "        \n",
    "\n",
    "def show_info():\n",
    "    print(f\"\\n<랭킹>\")\n",
    "    for idx, i in enumerate(box):\n",
    "        print(f\"{idx+1}등. {i[0]} : {i[1]}점\")\n",
    "    print()\n",
    "\n",
    "\n",
    "while True:\n",
    "    game_start()\n",
    "    show_info()\n",
    "\n",
    "    n = int(input(\"그만하고싶으면 0,  계속할거면 1 : \"))\n",
    "    if n == 0:\n",
    "        break\n",
    "    \n",
    "    print()"
   ]
  },
  {
   "cell_type": "code",
   "execution_count": null,
   "id": "474d188d-a828-4817-bcd1-ff35b3e1a7ee",
   "metadata": {},
   "outputs": [],
   "source": []
  },
  {
   "cell_type": "code",
   "execution_count": null,
   "id": "9b80bae5-8d09-4e44-93eb-a21e99072f24",
   "metadata": {},
   "outputs": [],
   "source": []
  },
  {
   "cell_type": "code",
   "execution_count": null,
   "id": "0c0a6c0c-3294-44c8-9841-05b4ee3eb82e",
   "metadata": {},
   "outputs": [],
   "source": []
  }
 ],
 "metadata": {
  "kernelspec": {
   "display_name": "Python 3 (ipykernel)",
   "language": "python",
   "name": "python3"
  },
  "language_info": {
   "codemirror_mode": {
    "name": "ipython",
    "version": 3
   },
   "file_extension": ".py",
   "mimetype": "text/x-python",
   "name": "python",
   "nbconvert_exporter": "python",
   "pygments_lexer": "ipython3",
   "version": "3.12.7"
  }
 },
 "nbformat": 4,
 "nbformat_minor": 5
}
