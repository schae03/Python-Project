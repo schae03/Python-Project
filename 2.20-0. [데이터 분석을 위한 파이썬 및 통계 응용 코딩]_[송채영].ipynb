{
 "cells": [
  {
   "cell_type": "markdown",
   "id": "22a29506-2cfc-4e9f-b659-06a4511c6d5f",
   "metadata": {},
   "source": [
    "# iM DiGItal Banker Academy\n",
    "## 데이터분석 전문가 양성 과정 4기\n",
    "[데이터 분석을 위한 파이썬 및 통계 응용 코딩] 중간 평가 안내\n",
    "\n",
    "### 안내사항\n",
    "* 평가 중 ```ChatGPT 사용은 금지```됩니다.\n",
    "* 인터넷 검색은 불가하며, 단 강의 노트 및 교재는 참고하실 수 있습니다.\n",
    "* 평가 시간은 오후 1시30분부터 오후 4시까지입니다.\n",
    "* 제출하는 코드에는 반드시 실행 결과가 출력되어야 합니다.\n",
    "* 평가 완료 후, 코드를 ipynb 파일로 저장하고 파일명에 ```[이름]``` 부분 안에 이름을 지우고 반드시 본인의 성명을 기입하여 제출해 주시기 바랍니다.\n",
    "* 문제당 4점이며 부분점수는 없습니다.\n",
    "* 시험 결과 공개 후 이의제기가 가능하며, 타당할 시 추가 점수 부여 가능합니다."
   ]
  },
  {
   "cell_type": "markdown",
   "id": "7a40a4b9-a1fc-4615-ad54-f42b68953b2d",
   "metadata": {},
   "source": [
    "1. 파이썬을 이용하여 \"Hello, Python!\" 을 출력하는 프로그램을 작성하세요."
   ]
  },
  {
   "cell_type": "code",
   "execution_count": 1,
   "id": "07fdb507-37df-4366-a6ea-854f26989baa",
   "metadata": {},
   "outputs": [
    {
     "name": "stdout",
     "output_type": "stream",
     "text": [
      "Hello, Python!\n"
     ]
    }
   ],
   "source": [
    "print(\"Hello, Python!\")"
   ]
  },
  {
   "cell_type": "markdown",
   "id": "8d6c4f1e-ac51-4e09-9549-acd9c3f7599e",
   "metadata": {},
   "source": [
    "2. 변수 a에 5, b에 10을 할당하고 두 변수의 합을 출력하는 프로그램을 작성하세요."
   ]
  },
  {
   "cell_type": "code",
   "execution_count": 2,
   "id": "8126f15e-6ce6-4fdb-ae7e-dab7863d23d1",
   "metadata": {},
   "outputs": [
    {
     "name": "stdout",
     "output_type": "stream",
     "text": [
      "15\n"
     ]
    }
   ],
   "source": [
    "a = 5\n",
    "b = 10\n",
    "print(a + b)"
   ]
  },
  {
   "cell_type": "markdown",
   "id": "5b0aa19b-e899-4b88-a26a-8734102e6e6e",
   "metadata": {},
   "source": [
    "3. 사용자로부터 정수를 입력받아 해당 숫자가 짝수이면 \"짝수\", 홀수이면 \"홀수\"를 출력하는 프로그램을 작성하세요."
   ]
  },
  {
   "cell_type": "code",
   "execution_count": 4,
   "id": "575b1fff-b751-4984-8f86-e80949f03578",
   "metadata": {},
   "outputs": [
    {
     "name": "stdin",
     "output_type": "stream",
     "text": [
      "입력:  21\n"
     ]
    },
    {
     "name": "stdout",
     "output_type": "stream",
     "text": [
      "홀수\n"
     ]
    }
   ],
   "source": [
    "n = input(\"입력: \")\n",
    "if int(n) % 2 == 0:\n",
    "    print(\"짝수\")\n",
    "else:\n",
    "    print(\"홀수\")"
   ]
  },
  {
   "cell_type": "markdown",
   "id": "881c1244-f253-4397-bc04-1cc995906d93",
   "metadata": {},
   "source": [
    "4. 리스트 [1, 2, 3, 4, 5]의 각 요소를 하나씩 출력하는 프로그램을 작성하세요."
   ]
  },
  {
   "cell_type": "code",
   "execution_count": 5,
   "id": "e973a0b4-3757-4654-8532-f18a7e1b2264",
   "metadata": {},
   "outputs": [
    {
     "name": "stdout",
     "output_type": "stream",
     "text": [
      "1\n",
      "2\n",
      "3\n",
      "4\n",
      "5\n"
     ]
    }
   ],
   "source": [
    "my_list = [1, 2, 3, 4, 5]\n",
    "for i in range(0,5):\n",
    "    print(my_list[i])"
   ]
  },
  {
   "cell_type": "markdown",
   "id": "a3de0a3f-7049-4267-83fa-17a7f3b8f0fd",
   "metadata": {},
   "source": [
    "5. 두 수를 인자로 받아 곱한 결과를 반환하는 함수를 정의하고, 예시로 4와 5의 곱을 출력하는 프로그램을 작성하세요."
   ]
  },
  {
   "cell_type": "code",
   "execution_count": 6,
   "id": "f12bb8de-0d03-4e75-a5e2-8e2f528c5608",
   "metadata": {},
   "outputs": [
    {
     "name": "stdin",
     "output_type": "stream",
     "text": [
      "숫자1 입력:  4\n",
      "숫자2 입력:  5\n"
     ]
    },
    {
     "name": "stdout",
     "output_type": "stream",
     "text": [
      "20\n"
     ]
    }
   ],
   "source": [
    "n1 = int(input(\"숫자1 입력: \"))\n",
    "n2 = int(input(\"숫자2 입력: \"))\n",
    "print(n1 * n2)"
   ]
  },
  {
   "cell_type": "markdown",
   "id": "73c52cad-e608-453c-9653-b0232231d8fc",
   "metadata": {},
   "source": [
    "6. 딕셔너리 fruits에 \"apple\": 3, \"banana\": 5, \"orange\": 2의 값을 저장한 후, \"banana\"의 값을 출력하는 프로그램을 작성하세요."
   ]
  },
  {
   "cell_type": "code",
   "execution_count": 7,
   "id": "94c20b77-6e9b-4b64-87d1-2e6787d619f5",
   "metadata": {},
   "outputs": [
    {
     "name": "stdout",
     "output_type": "stream",
     "text": [
      "5\n"
     ]
    }
   ],
   "source": [
    "fruits = {\n",
    "    \"apple\": 3, \n",
    "    \"banana\": 5, \n",
    "    \"orange\": 2\n",
    "}\n",
    "print(fruits[\"banana\"])"
   ]
  },
  {
   "cell_type": "markdown",
   "id": "51a26fc5-fa01-4869-adb5-8186b7e6aeeb",
   "metadata": {},
   "source": [
    "7. while문을 사용하여 1부터 5까지의 숫자를 출력하는 프로그램을 작성하세요."
   ]
  },
  {
   "cell_type": "code",
   "execution_count": 8,
   "id": "230f4b4a-33ce-4506-983e-6b59c9c13446",
   "metadata": {},
   "outputs": [
    {
     "name": "stdout",
     "output_type": "stream",
     "text": [
      "1\n",
      "2\n",
      "3\n",
      "4\n",
      "5\n"
     ]
    }
   ],
   "source": [
    "num = 1\n",
    "while num <= 5:\n",
    "    print(num)\n",
    "    num += 1"
   ]
  },
  {
   "cell_type": "markdown",
   "id": "68ca1a78-b243-470e-a1a3-f0e3c0d1b5ce",
   "metadata": {},
   "source": [
    "8. Seaborn의 tips 데이터셋을 불러와서 첫 5개 행을 출력하는 코드를 작성하세요."
   ]
  },
  {
   "cell_type": "code",
   "execution_count": 9,
   "id": "ccff6586-bc31-450f-a8f1-40fec3f57010",
   "metadata": {},
   "outputs": [
    {
     "data": {
      "text/html": [
       "<div>\n",
       "<style scoped>\n",
       "    .dataframe tbody tr th:only-of-type {\n",
       "        vertical-align: middle;\n",
       "    }\n",
       "\n",
       "    .dataframe tbody tr th {\n",
       "        vertical-align: top;\n",
       "    }\n",
       "\n",
       "    .dataframe thead th {\n",
       "        text-align: right;\n",
       "    }\n",
       "</style>\n",
       "<table border=\"1\" class=\"dataframe\">\n",
       "  <thead>\n",
       "    <tr style=\"text-align: right;\">\n",
       "      <th></th>\n",
       "      <th>total_bill</th>\n",
       "      <th>tip</th>\n",
       "      <th>sex</th>\n",
       "      <th>smoker</th>\n",
       "      <th>day</th>\n",
       "      <th>time</th>\n",
       "      <th>size</th>\n",
       "    </tr>\n",
       "  </thead>\n",
       "  <tbody>\n",
       "    <tr>\n",
       "      <th>0</th>\n",
       "      <td>16.99</td>\n",
       "      <td>1.01</td>\n",
       "      <td>Female</td>\n",
       "      <td>No</td>\n",
       "      <td>Sun</td>\n",
       "      <td>Dinner</td>\n",
       "      <td>2</td>\n",
       "    </tr>\n",
       "    <tr>\n",
       "      <th>1</th>\n",
       "      <td>10.34</td>\n",
       "      <td>1.66</td>\n",
       "      <td>Male</td>\n",
       "      <td>No</td>\n",
       "      <td>Sun</td>\n",
       "      <td>Dinner</td>\n",
       "      <td>3</td>\n",
       "    </tr>\n",
       "    <tr>\n",
       "      <th>2</th>\n",
       "      <td>21.01</td>\n",
       "      <td>3.50</td>\n",
       "      <td>Male</td>\n",
       "      <td>No</td>\n",
       "      <td>Sun</td>\n",
       "      <td>Dinner</td>\n",
       "      <td>3</td>\n",
       "    </tr>\n",
       "    <tr>\n",
       "      <th>3</th>\n",
       "      <td>23.68</td>\n",
       "      <td>3.31</td>\n",
       "      <td>Male</td>\n",
       "      <td>No</td>\n",
       "      <td>Sun</td>\n",
       "      <td>Dinner</td>\n",
       "      <td>2</td>\n",
       "    </tr>\n",
       "    <tr>\n",
       "      <th>4</th>\n",
       "      <td>24.59</td>\n",
       "      <td>3.61</td>\n",
       "      <td>Female</td>\n",
       "      <td>No</td>\n",
       "      <td>Sun</td>\n",
       "      <td>Dinner</td>\n",
       "      <td>4</td>\n",
       "    </tr>\n",
       "  </tbody>\n",
       "</table>\n",
       "</div>"
      ],
      "text/plain": [
       "   total_bill   tip     sex smoker  day    time  size\n",
       "0       16.99  1.01  Female     No  Sun  Dinner     2\n",
       "1       10.34  1.66    Male     No  Sun  Dinner     3\n",
       "2       21.01  3.50    Male     No  Sun  Dinner     3\n",
       "3       23.68  3.31    Male     No  Sun  Dinner     2\n",
       "4       24.59  3.61  Female     No  Sun  Dinner     4"
      ]
     },
     "execution_count": 9,
     "metadata": {},
     "output_type": "execute_result"
    }
   ],
   "source": [
    "import seaborn as sns\n",
    "tips = sns.load_dataset(\"tips\")\n",
    "tips.head()"
   ]
  },
  {
   "cell_type": "markdown",
   "id": "507e637d-3454-421b-9485-e2f0f2c237bc",
   "metadata": {},
   "source": [
    "9. tips 데이터셋의 수치형 변수들에 대해 평균, 표준편차, 최소값, 사분위수 등을 포함한 기본 통계량을 출력하세요."
   ]
  },
  {
   "cell_type": "code",
   "execution_count": 10,
   "id": "0305b837-0355-48ea-b878-17bcc446da49",
   "metadata": {},
   "outputs": [
    {
     "data": {
      "text/html": [
       "<div>\n",
       "<style scoped>\n",
       "    .dataframe tbody tr th:only-of-type {\n",
       "        vertical-align: middle;\n",
       "    }\n",
       "\n",
       "    .dataframe tbody tr th {\n",
       "        vertical-align: top;\n",
       "    }\n",
       "\n",
       "    .dataframe thead th {\n",
       "        text-align: right;\n",
       "    }\n",
       "</style>\n",
       "<table border=\"1\" class=\"dataframe\">\n",
       "  <thead>\n",
       "    <tr style=\"text-align: right;\">\n",
       "      <th></th>\n",
       "      <th>total_bill</th>\n",
       "      <th>tip</th>\n",
       "      <th>size</th>\n",
       "    </tr>\n",
       "  </thead>\n",
       "  <tbody>\n",
       "    <tr>\n",
       "      <th>count</th>\n",
       "      <td>244.000000</td>\n",
       "      <td>244.000000</td>\n",
       "      <td>244.000000</td>\n",
       "    </tr>\n",
       "    <tr>\n",
       "      <th>mean</th>\n",
       "      <td>19.785943</td>\n",
       "      <td>2.998279</td>\n",
       "      <td>2.569672</td>\n",
       "    </tr>\n",
       "    <tr>\n",
       "      <th>std</th>\n",
       "      <td>8.902412</td>\n",
       "      <td>1.383638</td>\n",
       "      <td>0.951100</td>\n",
       "    </tr>\n",
       "    <tr>\n",
       "      <th>min</th>\n",
       "      <td>3.070000</td>\n",
       "      <td>1.000000</td>\n",
       "      <td>1.000000</td>\n",
       "    </tr>\n",
       "    <tr>\n",
       "      <th>25%</th>\n",
       "      <td>13.347500</td>\n",
       "      <td>2.000000</td>\n",
       "      <td>2.000000</td>\n",
       "    </tr>\n",
       "    <tr>\n",
       "      <th>50%</th>\n",
       "      <td>17.795000</td>\n",
       "      <td>2.900000</td>\n",
       "      <td>2.000000</td>\n",
       "    </tr>\n",
       "    <tr>\n",
       "      <th>75%</th>\n",
       "      <td>24.127500</td>\n",
       "      <td>3.562500</td>\n",
       "      <td>3.000000</td>\n",
       "    </tr>\n",
       "    <tr>\n",
       "      <th>max</th>\n",
       "      <td>50.810000</td>\n",
       "      <td>10.000000</td>\n",
       "      <td>6.000000</td>\n",
       "    </tr>\n",
       "  </tbody>\n",
       "</table>\n",
       "</div>"
      ],
      "text/plain": [
       "       total_bill         tip        size\n",
       "count  244.000000  244.000000  244.000000\n",
       "mean    19.785943    2.998279    2.569672\n",
       "std      8.902412    1.383638    0.951100\n",
       "min      3.070000    1.000000    1.000000\n",
       "25%     13.347500    2.000000    2.000000\n",
       "50%     17.795000    2.900000    2.000000\n",
       "75%     24.127500    3.562500    3.000000\n",
       "max     50.810000   10.000000    6.000000"
      ]
     },
     "execution_count": 10,
     "metadata": {},
     "output_type": "execute_result"
    }
   ],
   "source": [
    "tips.describe()"
   ]
  },
  {
   "cell_type": "markdown",
   "id": "ad8dd01b-1dcf-410c-a14d-cc81a18b59b6",
   "metadata": {},
   "source": [
    "10. tips 데이터셋에서 팁(tip) 열의 평균 값을 계산하여 출력하는 코드를 작성하세요."
   ]
  },
  {
   "cell_type": "code",
   "execution_count": 11,
   "id": "d3301643-c798-4d18-a813-2cd00c7fd7d4",
   "metadata": {},
   "outputs": [
    {
     "data": {
      "text/plain": [
       "2.99827868852459"
      ]
     },
     "execution_count": 11,
     "metadata": {},
     "output_type": "execute_result"
    }
   ],
   "source": [
    "tips[\"tip\"].mean()"
   ]
  },
  {
   "cell_type": "markdown",
   "id": "4c363a85-6c31-4a93-943c-ffaf531cc694",
   "metadata": {},
   "source": [
    "11. tips 데이터셋을 요일(day)별로 그룹화한 후, 각 요일의 총 계산 금액(total_bill) 평균을 계산하여 출력하세요."
   ]
  },
  {
   "cell_type": "code",
   "execution_count": 18,
   "id": "be2b538c-62a9-4f1b-9c09-eeb8d46ef89d",
   "metadata": {},
   "outputs": [
    {
     "data": {
      "text/plain": [
       "day\n",
       "Thur    17.682742\n",
       "Fri     17.151579\n",
       "Sat     20.441379\n",
       "Sun     21.410000\n",
       "Name: total_bill, dtype: float64"
      ]
     },
     "execution_count": 18,
     "metadata": {},
     "output_type": "execute_result"
    }
   ],
   "source": [
    "tips.groupby(\"day\")[\"total_bill\"].mean()"
   ]
  },
  {
   "cell_type": "markdown",
   "id": "0872189e-23d1-42ac-bfe8-edf250a46660",
   "metadata": {},
   "source": [
    "12. tips 데이터셋에서 성별(sex)별로 팁을 가장 많이 낸 행을 출력하세요."
   ]
  },
  {
   "cell_type": "code",
   "execution_count": 35,
   "id": "af6e6d46-4646-4c28-b2ff-9985c499a97e",
   "metadata": {},
   "outputs": [
    {
     "data": {
      "text/plain": [
       "sex\n",
       "Male      10.0\n",
       "Female     6.5\n",
       "Name: tip, dtype: float64"
      ]
     },
     "execution_count": 35,
     "metadata": {},
     "output_type": "execute_result"
    }
   ],
   "source": [
    "tips.groupby(\"sex\")[\"tip\"].max()"
   ]
  },
  {
   "cell_type": "markdown",
   "id": "27bbcf35-c386-4ec8-9b44-510c8c3055bc",
   "metadata": {},
   "source": [
    "13. tips 데이터셋에 tip_percentage라는 새 열을 추가하여, 각 행의 팁 비율(팁/총 계산 금액 * 100)을 계산한 후 팁 비율이 가장 높은 상위 5개 행을 출력하세요."
   ]
  },
  {
   "cell_type": "code",
   "execution_count": 127,
   "id": "91b6ea85-8385-486b-87a5-da92bb8aab24",
   "metadata": {},
   "outputs": [
    {
     "data": {
      "text/html": [
       "<div>\n",
       "<style scoped>\n",
       "    .dataframe tbody tr th:only-of-type {\n",
       "        vertical-align: middle;\n",
       "    }\n",
       "\n",
       "    .dataframe tbody tr th {\n",
       "        vertical-align: top;\n",
       "    }\n",
       "\n",
       "    .dataframe thead th {\n",
       "        text-align: right;\n",
       "    }\n",
       "</style>\n",
       "<table border=\"1\" class=\"dataframe\">\n",
       "  <thead>\n",
       "    <tr style=\"text-align: right;\">\n",
       "      <th></th>\n",
       "      <th>total_bill</th>\n",
       "      <th>tip</th>\n",
       "      <th>sex</th>\n",
       "      <th>smoker</th>\n",
       "      <th>day</th>\n",
       "      <th>time</th>\n",
       "      <th>size</th>\n",
       "      <th>tip_percentage</th>\n",
       "    </tr>\n",
       "  </thead>\n",
       "  <tbody>\n",
       "    <tr>\n",
       "      <th>172</th>\n",
       "      <td>7.25</td>\n",
       "      <td>5.15</td>\n",
       "      <td>Male</td>\n",
       "      <td>Yes</td>\n",
       "      <td>Sun</td>\n",
       "      <td>Dinner</td>\n",
       "      <td>2</td>\n",
       "      <td>71.034483</td>\n",
       "    </tr>\n",
       "    <tr>\n",
       "      <th>178</th>\n",
       "      <td>9.60</td>\n",
       "      <td>4.00</td>\n",
       "      <td>Female</td>\n",
       "      <td>Yes</td>\n",
       "      <td>Sun</td>\n",
       "      <td>Dinner</td>\n",
       "      <td>2</td>\n",
       "      <td>41.666667</td>\n",
       "    </tr>\n",
       "    <tr>\n",
       "      <th>67</th>\n",
       "      <td>3.07</td>\n",
       "      <td>1.00</td>\n",
       "      <td>Female</td>\n",
       "      <td>Yes</td>\n",
       "      <td>Sat</td>\n",
       "      <td>Dinner</td>\n",
       "      <td>1</td>\n",
       "      <td>32.573290</td>\n",
       "    </tr>\n",
       "    <tr>\n",
       "      <th>232</th>\n",
       "      <td>11.61</td>\n",
       "      <td>3.39</td>\n",
       "      <td>Male</td>\n",
       "      <td>No</td>\n",
       "      <td>Sat</td>\n",
       "      <td>Dinner</td>\n",
       "      <td>2</td>\n",
       "      <td>29.198966</td>\n",
       "    </tr>\n",
       "    <tr>\n",
       "      <th>183</th>\n",
       "      <td>23.17</td>\n",
       "      <td>6.50</td>\n",
       "      <td>Male</td>\n",
       "      <td>Yes</td>\n",
       "      <td>Sun</td>\n",
       "      <td>Dinner</td>\n",
       "      <td>4</td>\n",
       "      <td>28.053517</td>\n",
       "    </tr>\n",
       "  </tbody>\n",
       "</table>\n",
       "</div>"
      ],
      "text/plain": [
       "     total_bill   tip     sex smoker  day    time  size  tip_percentage\n",
       "172        7.25  5.15    Male    Yes  Sun  Dinner     2       71.034483\n",
       "178        9.60  4.00  Female    Yes  Sun  Dinner     2       41.666667\n",
       "67         3.07  1.00  Female    Yes  Sat  Dinner     1       32.573290\n",
       "232       11.61  3.39    Male     No  Sat  Dinner     2       29.198966\n",
       "183       23.17  6.50    Male    Yes  Sun  Dinner     4       28.053517"
      ]
     },
     "execution_count": 127,
     "metadata": {},
     "output_type": "execute_result"
    }
   ],
   "source": [
    "tips[\"tip_percentage\"] = tips[\"tip\"] / tips[\"total_bill\"] * 100\n",
    "tips.sort_values(\"tip_percentage\", ascending = False).head()"
   ]
  },
  {
   "cell_type": "markdown",
   "id": "4ee31058-ccae-4553-b08e-26709ee2aef8",
   "metadata": {},
   "source": [
    "14. tips 데이터셋에서 팁(tip) 값이 5보다 큰 행들만 필터링하여 출력하는 코드를 작성하세요."
   ]
  },
  {
   "cell_type": "code",
   "execution_count": 128,
   "id": "575382cf-864a-4262-ac3f-0a9b44d0ee44",
   "metadata": {},
   "outputs": [
    {
     "data": {
      "text/html": [
       "<div>\n",
       "<style scoped>\n",
       "    .dataframe tbody tr th:only-of-type {\n",
       "        vertical-align: middle;\n",
       "    }\n",
       "\n",
       "    .dataframe tbody tr th {\n",
       "        vertical-align: top;\n",
       "    }\n",
       "\n",
       "    .dataframe thead th {\n",
       "        text-align: right;\n",
       "    }\n",
       "</style>\n",
       "<table border=\"1\" class=\"dataframe\">\n",
       "  <thead>\n",
       "    <tr style=\"text-align: right;\">\n",
       "      <th></th>\n",
       "      <th>total_bill</th>\n",
       "      <th>tip</th>\n",
       "      <th>sex</th>\n",
       "      <th>smoker</th>\n",
       "      <th>day</th>\n",
       "      <th>time</th>\n",
       "      <th>size</th>\n",
       "      <th>tip_percentage</th>\n",
       "    </tr>\n",
       "  </thead>\n",
       "  <tbody>\n",
       "    <tr>\n",
       "      <th>23</th>\n",
       "      <td>39.42</td>\n",
       "      <td>7.58</td>\n",
       "      <td>Male</td>\n",
       "      <td>No</td>\n",
       "      <td>Sat</td>\n",
       "      <td>Dinner</td>\n",
       "      <td>4</td>\n",
       "      <td>19.228818</td>\n",
       "    </tr>\n",
       "    <tr>\n",
       "      <th>44</th>\n",
       "      <td>30.40</td>\n",
       "      <td>5.60</td>\n",
       "      <td>Male</td>\n",
       "      <td>No</td>\n",
       "      <td>Sun</td>\n",
       "      <td>Dinner</td>\n",
       "      <td>4</td>\n",
       "      <td>18.421053</td>\n",
       "    </tr>\n",
       "    <tr>\n",
       "      <th>47</th>\n",
       "      <td>32.40</td>\n",
       "      <td>6.00</td>\n",
       "      <td>Male</td>\n",
       "      <td>No</td>\n",
       "      <td>Sun</td>\n",
       "      <td>Dinner</td>\n",
       "      <td>4</td>\n",
       "      <td>18.518519</td>\n",
       "    </tr>\n",
       "    <tr>\n",
       "      <th>52</th>\n",
       "      <td>34.81</td>\n",
       "      <td>5.20</td>\n",
       "      <td>Female</td>\n",
       "      <td>No</td>\n",
       "      <td>Sun</td>\n",
       "      <td>Dinner</td>\n",
       "      <td>4</td>\n",
       "      <td>14.938236</td>\n",
       "    </tr>\n",
       "    <tr>\n",
       "      <th>59</th>\n",
       "      <td>48.27</td>\n",
       "      <td>6.73</td>\n",
       "      <td>Male</td>\n",
       "      <td>No</td>\n",
       "      <td>Sat</td>\n",
       "      <td>Dinner</td>\n",
       "      <td>4</td>\n",
       "      <td>13.942407</td>\n",
       "    </tr>\n",
       "    <tr>\n",
       "      <th>85</th>\n",
       "      <td>34.83</td>\n",
       "      <td>5.17</td>\n",
       "      <td>Female</td>\n",
       "      <td>No</td>\n",
       "      <td>Thur</td>\n",
       "      <td>Lunch</td>\n",
       "      <td>4</td>\n",
       "      <td>14.843526</td>\n",
       "    </tr>\n",
       "    <tr>\n",
       "      <th>88</th>\n",
       "      <td>24.71</td>\n",
       "      <td>5.85</td>\n",
       "      <td>Male</td>\n",
       "      <td>No</td>\n",
       "      <td>Thur</td>\n",
       "      <td>Lunch</td>\n",
       "      <td>2</td>\n",
       "      <td>23.674626</td>\n",
       "    </tr>\n",
       "    <tr>\n",
       "      <th>116</th>\n",
       "      <td>29.93</td>\n",
       "      <td>5.07</td>\n",
       "      <td>Male</td>\n",
       "      <td>No</td>\n",
       "      <td>Sun</td>\n",
       "      <td>Dinner</td>\n",
       "      <td>4</td>\n",
       "      <td>16.939526</td>\n",
       "    </tr>\n",
       "    <tr>\n",
       "      <th>141</th>\n",
       "      <td>34.30</td>\n",
       "      <td>6.70</td>\n",
       "      <td>Male</td>\n",
       "      <td>No</td>\n",
       "      <td>Thur</td>\n",
       "      <td>Lunch</td>\n",
       "      <td>6</td>\n",
       "      <td>19.533528</td>\n",
       "    </tr>\n",
       "    <tr>\n",
       "      <th>155</th>\n",
       "      <td>29.85</td>\n",
       "      <td>5.14</td>\n",
       "      <td>Female</td>\n",
       "      <td>No</td>\n",
       "      <td>Sun</td>\n",
       "      <td>Dinner</td>\n",
       "      <td>5</td>\n",
       "      <td>17.219430</td>\n",
       "    </tr>\n",
       "    <tr>\n",
       "      <th>170</th>\n",
       "      <td>50.81</td>\n",
       "      <td>10.00</td>\n",
       "      <td>Male</td>\n",
       "      <td>Yes</td>\n",
       "      <td>Sat</td>\n",
       "      <td>Dinner</td>\n",
       "      <td>3</td>\n",
       "      <td>19.681165</td>\n",
       "    </tr>\n",
       "    <tr>\n",
       "      <th>172</th>\n",
       "      <td>7.25</td>\n",
       "      <td>5.15</td>\n",
       "      <td>Male</td>\n",
       "      <td>Yes</td>\n",
       "      <td>Sun</td>\n",
       "      <td>Dinner</td>\n",
       "      <td>2</td>\n",
       "      <td>71.034483</td>\n",
       "    </tr>\n",
       "    <tr>\n",
       "      <th>181</th>\n",
       "      <td>23.33</td>\n",
       "      <td>5.65</td>\n",
       "      <td>Male</td>\n",
       "      <td>Yes</td>\n",
       "      <td>Sun</td>\n",
       "      <td>Dinner</td>\n",
       "      <td>2</td>\n",
       "      <td>24.217745</td>\n",
       "    </tr>\n",
       "    <tr>\n",
       "      <th>183</th>\n",
       "      <td>23.17</td>\n",
       "      <td>6.50</td>\n",
       "      <td>Male</td>\n",
       "      <td>Yes</td>\n",
       "      <td>Sun</td>\n",
       "      <td>Dinner</td>\n",
       "      <td>4</td>\n",
       "      <td>28.053517</td>\n",
       "    </tr>\n",
       "    <tr>\n",
       "      <th>211</th>\n",
       "      <td>25.89</td>\n",
       "      <td>5.16</td>\n",
       "      <td>Male</td>\n",
       "      <td>Yes</td>\n",
       "      <td>Sat</td>\n",
       "      <td>Dinner</td>\n",
       "      <td>4</td>\n",
       "      <td>19.930475</td>\n",
       "    </tr>\n",
       "    <tr>\n",
       "      <th>212</th>\n",
       "      <td>48.33</td>\n",
       "      <td>9.00</td>\n",
       "      <td>Male</td>\n",
       "      <td>No</td>\n",
       "      <td>Sat</td>\n",
       "      <td>Dinner</td>\n",
       "      <td>4</td>\n",
       "      <td>18.621974</td>\n",
       "    </tr>\n",
       "    <tr>\n",
       "      <th>214</th>\n",
       "      <td>28.17</td>\n",
       "      <td>6.50</td>\n",
       "      <td>Female</td>\n",
       "      <td>Yes</td>\n",
       "      <td>Sat</td>\n",
       "      <td>Dinner</td>\n",
       "      <td>3</td>\n",
       "      <td>23.074192</td>\n",
       "    </tr>\n",
       "    <tr>\n",
       "      <th>239</th>\n",
       "      <td>29.03</td>\n",
       "      <td>5.92</td>\n",
       "      <td>Male</td>\n",
       "      <td>No</td>\n",
       "      <td>Sat</td>\n",
       "      <td>Dinner</td>\n",
       "      <td>3</td>\n",
       "      <td>20.392697</td>\n",
       "    </tr>\n",
       "  </tbody>\n",
       "</table>\n",
       "</div>"
      ],
      "text/plain": [
       "     total_bill    tip     sex smoker   day    time  size  tip_percentage\n",
       "23        39.42   7.58    Male     No   Sat  Dinner     4       19.228818\n",
       "44        30.40   5.60    Male     No   Sun  Dinner     4       18.421053\n",
       "47        32.40   6.00    Male     No   Sun  Dinner     4       18.518519\n",
       "52        34.81   5.20  Female     No   Sun  Dinner     4       14.938236\n",
       "59        48.27   6.73    Male     No   Sat  Dinner     4       13.942407\n",
       "85        34.83   5.17  Female     No  Thur   Lunch     4       14.843526\n",
       "88        24.71   5.85    Male     No  Thur   Lunch     2       23.674626\n",
       "116       29.93   5.07    Male     No   Sun  Dinner     4       16.939526\n",
       "141       34.30   6.70    Male     No  Thur   Lunch     6       19.533528\n",
       "155       29.85   5.14  Female     No   Sun  Dinner     5       17.219430\n",
       "170       50.81  10.00    Male    Yes   Sat  Dinner     3       19.681165\n",
       "172        7.25   5.15    Male    Yes   Sun  Dinner     2       71.034483\n",
       "181       23.33   5.65    Male    Yes   Sun  Dinner     2       24.217745\n",
       "183       23.17   6.50    Male    Yes   Sun  Dinner     4       28.053517\n",
       "211       25.89   5.16    Male    Yes   Sat  Dinner     4       19.930475\n",
       "212       48.33   9.00    Male     No   Sat  Dinner     4       18.621974\n",
       "214       28.17   6.50  Female    Yes   Sat  Dinner     3       23.074192\n",
       "239       29.03   5.92    Male     No   Sat  Dinner     3       20.392697"
      ]
     },
     "execution_count": 128,
     "metadata": {},
     "output_type": "execute_result"
    }
   ],
   "source": [
    "tips[tips[\"tip\"] > 5]"
   ]
  },
  {
   "cell_type": "markdown",
   "id": "25bcb346-abd6-47cc-8079-3ac32d89d605",
   "metadata": {},
   "source": [
    "15. tips 데이터셋을 요일(day)과 식사 시간(time, Lunch/Dinner)별로 그룹화하여 각 그룹의 평균 팁(tip) 값을 계산하고 출력하는 코드를 작성하세요."
   ]
  },
  {
   "cell_type": "code",
   "execution_count": 129,
   "id": "1ed6e436-6e8f-430d-8809-ad16c706ef9e",
   "metadata": {},
   "outputs": [
    {
     "data": {
      "text/plain": [
       "day   time  \n",
       "Thur  Lunch     2.767705\n",
       "      Dinner    3.000000\n",
       "Fri   Lunch     2.382857\n",
       "      Dinner    2.940000\n",
       "Sat   Lunch          NaN\n",
       "      Dinner    2.993103\n",
       "Sun   Lunch          NaN\n",
       "      Dinner    3.255132\n",
       "Name: tip, dtype: float64"
      ]
     },
     "execution_count": 129,
     "metadata": {},
     "output_type": "execute_result"
    }
   ],
   "source": [
    "tips.groupby([\"day\", \"time\"])[\"tip\"].mean()"
   ]
  },
  {
   "cell_type": "markdown",
   "id": "95348c86-bdc6-4cd8-bac5-de9b70731de4",
   "metadata": {},
   "source": [
    "16. tips 데이터셋을 사용하여, 요일(day)을 인덱스로, 식사 시간(time)을 열로 하는 피벗 테이블을 작성하고, 각 셀에는 해당 그룹의 평균 팁(tip)이 들어가도록 하세요."
   ]
  },
  {
   "cell_type": "code",
   "execution_count": 130,
   "id": "60d85d9f-dc8c-4646-916f-2c9f391999ac",
   "metadata": {},
   "outputs": [
    {
     "data": {
      "text/html": [
       "<div>\n",
       "<style scoped>\n",
       "    .dataframe tbody tr th:only-of-type {\n",
       "        vertical-align: middle;\n",
       "    }\n",
       "\n",
       "    .dataframe tbody tr th {\n",
       "        vertical-align: top;\n",
       "    }\n",
       "\n",
       "    .dataframe thead th {\n",
       "        text-align: right;\n",
       "    }\n",
       "</style>\n",
       "<table border=\"1\" class=\"dataframe\">\n",
       "  <thead>\n",
       "    <tr style=\"text-align: right;\">\n",
       "      <th>time</th>\n",
       "      <th>Lunch</th>\n",
       "      <th>Dinner</th>\n",
       "    </tr>\n",
       "    <tr>\n",
       "      <th>day</th>\n",
       "      <th></th>\n",
       "      <th></th>\n",
       "    </tr>\n",
       "  </thead>\n",
       "  <tbody>\n",
       "    <tr>\n",
       "      <th>Thur</th>\n",
       "      <td>2.767705</td>\n",
       "      <td>3.000000</td>\n",
       "    </tr>\n",
       "    <tr>\n",
       "      <th>Fri</th>\n",
       "      <td>2.382857</td>\n",
       "      <td>2.940000</td>\n",
       "    </tr>\n",
       "    <tr>\n",
       "      <th>Sat</th>\n",
       "      <td>NaN</td>\n",
       "      <td>2.993103</td>\n",
       "    </tr>\n",
       "    <tr>\n",
       "      <th>Sun</th>\n",
       "      <td>NaN</td>\n",
       "      <td>3.255132</td>\n",
       "    </tr>\n",
       "  </tbody>\n",
       "</table>\n",
       "</div>"
      ],
      "text/plain": [
       "time     Lunch    Dinner\n",
       "day                     \n",
       "Thur  2.767705  3.000000\n",
       "Fri   2.382857  2.940000\n",
       "Sat        NaN  2.993103\n",
       "Sun        NaN  3.255132"
      ]
     },
     "execution_count": 130,
     "metadata": {},
     "output_type": "execute_result"
    }
   ],
   "source": [
    "tips.pivot_table(index = \"day\", columns = \"time\",\n",
    "                 values = \"tip\", aggfunc = \"mean\")"
   ]
  },
  {
   "cell_type": "markdown",
   "id": "a5a635a0-991b-4c31-8dbf-518478603fb3",
   "metadata": {},
   "source": [
    "17. 아래 DataFrame에서 'Region'을 인덱스로, 'Product'를 열로 하여 'Sales' 값의 합계를 계산하는 pivot table을 작성하세요."
   ]
  },
  {
   "cell_type": "code",
   "execution_count": 39,
   "id": "b5ef771f-9703-4769-ba1f-2ec2f07520d0",
   "metadata": {},
   "outputs": [
    {
     "data": {
      "text/html": [
       "<div>\n",
       "<style scoped>\n",
       "    .dataframe tbody tr th:only-of-type {\n",
       "        vertical-align: middle;\n",
       "    }\n",
       "\n",
       "    .dataframe tbody tr th {\n",
       "        vertical-align: top;\n",
       "    }\n",
       "\n",
       "    .dataframe thead th {\n",
       "        text-align: right;\n",
       "    }\n",
       "</style>\n",
       "<table border=\"1\" class=\"dataframe\">\n",
       "  <thead>\n",
       "    <tr style=\"text-align: right;\">\n",
       "      <th>Product</th>\n",
       "      <th>A</th>\n",
       "      <th>B</th>\n",
       "    </tr>\n",
       "    <tr>\n",
       "      <th>Region</th>\n",
       "      <th></th>\n",
       "      <th></th>\n",
       "    </tr>\n",
       "  </thead>\n",
       "  <tbody>\n",
       "    <tr>\n",
       "      <th>North</th>\n",
       "      <td>220</td>\n",
       "      <td>150</td>\n",
       "    </tr>\n",
       "    <tr>\n",
       "      <th>South</th>\n",
       "      <td>200</td>\n",
       "      <td>300</td>\n",
       "    </tr>\n",
       "  </tbody>\n",
       "</table>\n",
       "</div>"
      ],
      "text/plain": [
       "Product    A    B\n",
       "Region           \n",
       "North    220  150\n",
       "South    200  300"
      ]
     },
     "execution_count": 39,
     "metadata": {},
     "output_type": "execute_result"
    }
   ],
   "source": [
    "import pandas as pd\n",
    "df = pd.DataFrame({\n",
    "    'Region': ['North', 'South', 'North', 'South', 'North'],\n",
    "    'Product': ['A', 'A', 'B', 'B', 'A'],\n",
    "    'Sales': [100, 200, 150, 300, 120]\n",
    "})\n",
    "\n",
    "df.pivot_table(index = \"Region\", columns = \"Product\",\n",
    "              values = \"Sales\", aggfunc = \"sum\")"
   ]
  },
  {
   "cell_type": "markdown",
   "id": "0de34032-986c-46b8-94ee-0c2bd2e96e9b",
   "metadata": {},
   "source": [
    "18. 아래 DataFrame을 사용하여, 'Region'과 'Product'를 기준으로 'Sales'의 합계와 평균을 동시에 계산하는 pivot table을 작성하세요."
   ]
  },
  {
   "cell_type": "code",
   "execution_count": 40,
   "id": "825d10b5-a28c-4dd5-9fb2-d91a59f3a566",
   "metadata": {},
   "outputs": [
    {
     "data": {
      "text/html": [
       "<div>\n",
       "<style scoped>\n",
       "    .dataframe tbody tr th:only-of-type {\n",
       "        vertical-align: middle;\n",
       "    }\n",
       "\n",
       "    .dataframe tbody tr th {\n",
       "        vertical-align: top;\n",
       "    }\n",
       "\n",
       "    .dataframe thead tr th {\n",
       "        text-align: left;\n",
       "    }\n",
       "\n",
       "    .dataframe thead tr:last-of-type th {\n",
       "        text-align: right;\n",
       "    }\n",
       "</style>\n",
       "<table border=\"1\" class=\"dataframe\">\n",
       "  <thead>\n",
       "    <tr>\n",
       "      <th></th>\n",
       "      <th colspan=\"2\" halign=\"left\">sum</th>\n",
       "      <th colspan=\"2\" halign=\"left\">mean</th>\n",
       "    </tr>\n",
       "    <tr>\n",
       "      <th>Product</th>\n",
       "      <th>C</th>\n",
       "      <th>D</th>\n",
       "      <th>C</th>\n",
       "      <th>D</th>\n",
       "    </tr>\n",
       "    <tr>\n",
       "      <th>Region</th>\n",
       "      <th></th>\n",
       "      <th></th>\n",
       "      <th></th>\n",
       "      <th></th>\n",
       "    </tr>\n",
       "  </thead>\n",
       "  <tbody>\n",
       "    <tr>\n",
       "      <th>East</th>\n",
       "      <td>600</td>\n",
       "      <td>300</td>\n",
       "      <td>300.0</td>\n",
       "      <td>300.0</td>\n",
       "    </tr>\n",
       "    <tr>\n",
       "      <th>West</th>\n",
       "      <td>150</td>\n",
       "      <td>600</td>\n",
       "      <td>150.0</td>\n",
       "      <td>300.0</td>\n",
       "    </tr>\n",
       "  </tbody>\n",
       "</table>\n",
       "</div>"
      ],
      "text/plain": [
       "         sum        mean       \n",
       "Product    C    D      C      D\n",
       "Region                         \n",
       "East     600  300  300.0  300.0\n",
       "West     150  600  150.0  300.0"
      ]
     },
     "execution_count": 40,
     "metadata": {},
     "output_type": "execute_result"
    }
   ],
   "source": [
    "df = pd.DataFrame({\n",
    "    'Region': ['East', 'West', 'East', 'West', 'East', 'West'],\n",
    "    'Product': ['C', 'C', 'D', 'D', 'C', 'D'],\n",
    "    'Sales': [250, 150, 300, 400, 350, 200]\n",
    "})\n",
    "\n",
    "df.pivot_table(index = \"Region\", columns = \"Product\",\n",
    "              values = \"Sales\", aggfunc = [\"sum\", \"mean\"])"
   ]
  },
  {
   "cell_type": "markdown",
   "id": "7c242dc2-b7e0-4c57-9d8e-799beb7644ac",
   "metadata": {},
   "source": [
    "19. 아래 DataFrame에서 'Category'와 'Type'을 기준으로 'Value'의 합계를 계산하는 pivot table을 작성한 후, 결과에 포함된 NaN 값을 0으로 대체하는 코드를 작성하세요."
   ]
  },
  {
   "cell_type": "code",
   "execution_count": 43,
   "id": "f6fb6d02-2553-4164-9c99-510f36cd7e3d",
   "metadata": {},
   "outputs": [
    {
     "data": {
      "text/html": [
       "<div>\n",
       "<style scoped>\n",
       "    .dataframe tbody tr th:only-of-type {\n",
       "        vertical-align: middle;\n",
       "    }\n",
       "\n",
       "    .dataframe tbody tr th {\n",
       "        vertical-align: top;\n",
       "    }\n",
       "\n",
       "    .dataframe thead th {\n",
       "        text-align: right;\n",
       "    }\n",
       "</style>\n",
       "<table border=\"1\" class=\"dataframe\">\n",
       "  <thead>\n",
       "    <tr style=\"text-align: right;\">\n",
       "      <th>Type</th>\n",
       "      <th>A</th>\n",
       "      <th>B</th>\n",
       "    </tr>\n",
       "    <tr>\n",
       "      <th>Category</th>\n",
       "      <th></th>\n",
       "      <th></th>\n",
       "    </tr>\n",
       "  </thead>\n",
       "  <tbody>\n",
       "    <tr>\n",
       "      <th>X</th>\n",
       "      <td>10</td>\n",
       "      <td>20</td>\n",
       "    </tr>\n",
       "    <tr>\n",
       "      <th>Y</th>\n",
       "      <td>30</td>\n",
       "      <td>40</td>\n",
       "    </tr>\n",
       "    <tr>\n",
       "      <th>Z</th>\n",
       "      <td>50</td>\n",
       "      <td>0</td>\n",
       "    </tr>\n",
       "  </tbody>\n",
       "</table>\n",
       "</div>"
      ],
      "text/plain": [
       "Type       A   B\n",
       "Category        \n",
       "X         10  20\n",
       "Y         30  40\n",
       "Z         50   0"
      ]
     },
     "execution_count": 43,
     "metadata": {},
     "output_type": "execute_result"
    }
   ],
   "source": [
    "df = pd.DataFrame({\n",
    "    'Category': ['X', 'X', 'Y', 'Y', 'Z'],\n",
    "    'Type': ['A', 'B', 'A', 'B', 'A'],\n",
    "    'Value': [10, 20, 30, 40, 50]\n",
    "})\n",
    "\n",
    "df.pivot_table(index = \"Category\", columns = \"Type\",\n",
    "              values = \"Value\", aggfunc = \"sum\", fill_value = 0)"
   ]
  },
  {
   "cell_type": "markdown",
   "id": "8100fba7-0187-425c-a781-0ed252f6e2ff",
   "metadata": {},
   "source": [
    "20. 아래 DataFrame에서 'id' 열을 식별자로 하고, 나머지 점수 열('score1', 'score2', 'score3')을 하나의 변수 열로 변환하는 melt 코드를 작성하세요. 그리고 melt로 변환한 결과 DataFrame에서, 기본 열 이름인 'variable'과 'value'를 각각 'Subject'와 'Score'로 변경하여 출력하는 코드를 작성하세요."
   ]
  },
  {
   "cell_type": "code",
   "execution_count": 44,
   "id": "bf2251c4-f986-4fea-af86-2c3aebec1021",
   "metadata": {},
   "outputs": [
    {
     "data": {
      "text/html": [
       "<div>\n",
       "<style scoped>\n",
       "    .dataframe tbody tr th:only-of-type {\n",
       "        vertical-align: middle;\n",
       "    }\n",
       "\n",
       "    .dataframe tbody tr th {\n",
       "        vertical-align: top;\n",
       "    }\n",
       "\n",
       "    .dataframe thead th {\n",
       "        text-align: right;\n",
       "    }\n",
       "</style>\n",
       "<table border=\"1\" class=\"dataframe\">\n",
       "  <thead>\n",
       "    <tr style=\"text-align: right;\">\n",
       "      <th></th>\n",
       "      <th>id</th>\n",
       "      <th>Subject</th>\n",
       "      <th>Score</th>\n",
       "    </tr>\n",
       "  </thead>\n",
       "  <tbody>\n",
       "    <tr>\n",
       "      <th>0</th>\n",
       "      <td>1</td>\n",
       "      <td>score1</td>\n",
       "      <td>80</td>\n",
       "    </tr>\n",
       "    <tr>\n",
       "      <th>1</th>\n",
       "      <td>2</td>\n",
       "      <td>score1</td>\n",
       "      <td>85</td>\n",
       "    </tr>\n",
       "    <tr>\n",
       "      <th>2</th>\n",
       "      <td>3</td>\n",
       "      <td>score1</td>\n",
       "      <td>90</td>\n",
       "    </tr>\n",
       "    <tr>\n",
       "      <th>3</th>\n",
       "      <td>1</td>\n",
       "      <td>score2</td>\n",
       "      <td>70</td>\n",
       "    </tr>\n",
       "    <tr>\n",
       "      <th>4</th>\n",
       "      <td>2</td>\n",
       "      <td>score2</td>\n",
       "      <td>75</td>\n",
       "    </tr>\n",
       "    <tr>\n",
       "      <th>5</th>\n",
       "      <td>3</td>\n",
       "      <td>score2</td>\n",
       "      <td>80</td>\n",
       "    </tr>\n",
       "    <tr>\n",
       "      <th>6</th>\n",
       "      <td>1</td>\n",
       "      <td>score3</td>\n",
       "      <td>60</td>\n",
       "    </tr>\n",
       "    <tr>\n",
       "      <th>7</th>\n",
       "      <td>2</td>\n",
       "      <td>score3</td>\n",
       "      <td>65</td>\n",
       "    </tr>\n",
       "    <tr>\n",
       "      <th>8</th>\n",
       "      <td>3</td>\n",
       "      <td>score3</td>\n",
       "      <td>70</td>\n",
       "    </tr>\n",
       "  </tbody>\n",
       "</table>\n",
       "</div>"
      ],
      "text/plain": [
       "   id Subject  Score\n",
       "0   1  score1     80\n",
       "1   2  score1     85\n",
       "2   3  score1     90\n",
       "3   1  score2     70\n",
       "4   2  score2     75\n",
       "5   3  score2     80\n",
       "6   1  score3     60\n",
       "7   2  score3     65\n",
       "8   3  score3     70"
      ]
     },
     "execution_count": 44,
     "metadata": {},
     "output_type": "execute_result"
    }
   ],
   "source": [
    "df = pd.DataFrame({\n",
    "    'id': [1, 2, 3],\n",
    "    'score1': [80, 85, 90],\n",
    "    'score2': [70, 75, 80],\n",
    "    'score3': [60, 65, 70]\n",
    "})\n",
    "\n",
    "pd.melt(df, id_vars = \"id\", var_name = \"Subject\", value_name = \"Score\")"
   ]
  },
  {
   "cell_type": "code",
   "execution_count": 56,
   "id": "c2475733-fd36-4a06-9b3c-a95dec0c8939",
   "metadata": {},
   "outputs": [],
   "source": [
    "import numpy as np\n",
    "import matplotlib.pyplot as plt\n",
    "import scipy.stats as stats\n",
    "import koreanize_matplotlib"
   ]
  },
  {
   "cell_type": "markdown",
   "id": "7165da48-504c-4932-9fdc-fbadc55531e3",
   "metadata": {},
   "source": [
    "21. 한 커피 제조회사는 새로 출시한 커피가 카페인 함량이 평균 95 미만이라고 주장하고 있습니다. 커피 제조회사의 주장이 타당하지 검정하세요.  \n",
    "(유의수준 0.05)\n",
    "\n",
    "* 귀무가설 : 카페인 함량이 평균 95mg 보다 같거나 크다.\n",
    "* 대립가설 : 카페인 함량이 평균 95mg 보다 작다."
   ]
  },
  {
   "cell_type": "code",
   "execution_count": 184,
   "id": "d123239c-aafa-4bf9-858d-94b4d6f59c4e",
   "metadata": {},
   "outputs": [
    {
     "data": {
      "image/png": "[encoded data removed]",
      "text/plain": [
       "<Figure size 640x480 with 1 Axes>"
      ]
     },
     "metadata": {},
     "output_type": "display_data"
    }
   ],
   "source": [
    "df = pd.DataFrame({\n",
    "    'Caffeine(mg)': [\n",
    "        94.2, 93.7, 95.5, 93.9, 94.0, 95.2, 94.7, 93.5, 92.8, 94.4,\n",
    "        93.8, 94.6, 93.3, 95.1, 94.3, 94.9, 93.9, 94.8, 95.0, 94.2,\n",
    "        93.7, 94.4, 95.1, 94.0, 93.6\n",
    "    ]\n",
    "})\n",
    "\n",
    "plt.hist(df[\"Caffeine(mg)\"])\n",
    "plt.show()"
   ]
  },
  {
   "cell_type": "code",
   "execution_count": 185,
   "id": "01137ede-b1cf-483c-a90c-b996bf1aab35",
   "metadata": {},
   "outputs": [
    {
     "data": {
      "image/png": "[encoded data removed]",
      "text/plain": [
       "<Figure size 640x480 with 1 Axes>"
      ]
     },
     "metadata": {},
     "output_type": "display_data"
    }
   ],
   "source": [
    "# Q-Q plot\n",
    "stats.probplot(df[\"Caffeine(mg)\"], dist = \"norm\", plot = plt)\n",
    "plt.show()"
   ]
  },
  {
   "cell_type": "code",
   "execution_count": 186,
   "id": "98b8e50c-0a21-4c02-a0e2-700ebe5692ba",
   "metadata": {},
   "outputs": [
    {
     "data": {
      "text/plain": [
       "(0.9826578166170536, 0.9322031137746971)"
      ]
     },
     "execution_count": 186,
     "metadata": {},
     "output_type": "execute_result"
    }
   ],
   "source": [
    "# 샤피로윌크 검정 \n",
    "# 귀무가설 : 이 분포가 정규성을 보인다\n",
    "# 대립가설 : 이 분포가 정규성을 보이지 않는다 \n",
    "\n",
    "values, p = stats.shapiro(df['Caffeine(mg)'])        \n",
    "values, p\n",
    "# p > 0.05  =>  귀무가설 기각X. 정규성을 보인다"
   ]
  },
  {
   "cell_type": "code",
   "execution_count": 187,
   "id": "330402eb-3c23-45d3-b8bb-2fc7d27ca4ae",
   "metadata": {},
   "outputs": [
    {
     "data": {
      "text/plain": [
       "(-5.501737036221897, 5.8686553916715e-06)"
      ]
     },
     "execution_count": 187,
     "metadata": {},
     "output_type": "execute_result"
    }
   ],
   "source": [
    "values, p = stats.ttest_1samp(df['Caffeine(mg)'], 95,\n",
    "                              alternative = \"less\") \n",
    "values, p\n",
    "\n",
    "# p < 0.05  =>  귀무가설 기각. 카페인 함량이 평균 95mg 보다 작다."
   ]
  },
  {
   "cell_type": "markdown",
   "id": "4a419753-782d-4327-aadb-3053edb5230f",
   "metadata": {},
   "source": [
    "22. 스마트폰 사용자 집단을 두 그룹으로 나누어 한 그룹에는 새로운 충전기, 다른 그룹에는 기존 충전기를 제공하고 두 그룹의 평균 충전 시간을 비교했다. 새로운 충전기가 더 빠르다고 할 수 있는지 검정하세요.  \n",
    "(유의수준 0.05)"
   ]
  },
  {
   "cell_type": "code",
   "execution_count": 177,
   "id": "c2fbad36-5c47-4911-847a-99a04d912209",
   "metadata": {},
   "outputs": [
    {
     "data": {
      "image/png": "[encoded data removed]",
      "text/plain": [
       "<Figure size 640x480 with 1 Axes>"
      ]
     },
     "metadata": {},
     "output_type": "display_data"
    }
   ],
   "source": [
    "df = pd.DataFrame({\n",
    "    '충전기': ['New'] * 10 + ['Old'] * 10,\n",
    "    '충전시간': [\n",
    "        1.5, 1.6, 1.4, 1.7, 1.5, 1.6, 1.7, 1.4, 1.6, 1.5,\n",
    "        1.7, 1.8, 1.7, 1.9, 1.8, 1.7, 1.8, 1.9, 1.7, 1.6\n",
    "    ]\n",
    "})\n",
    "\n",
    "class1 = df[df[\"충전기\"] == \"New\"].reset_index()[\"충전시간\"]\n",
    "class2 = df[df[\"충전기\"] == \"Old\"].reset_index()[\"충전시간\"]\n",
    "\n",
    "plt.hist(class1, alpha = 0.5, bins = \"auto\", edgecolor = \"black\")\n",
    "plt.hist(class2, alpha = 0.5, bins = \"auto\", edgecolor = \"black\")\n",
    "plt.legend([\"class1\", \"class2\"])\n",
    "plt.show()"
   ]
  },
  {
   "cell_type": "code",
   "execution_count": 179,
   "id": "e8c99f1c-b3c6-4bcb-b580-df1abc25b074",
   "metadata": {},
   "outputs": [
    {
     "name": "stdout",
     "output_type": "stream",
     "text": [
      "ShapiroResult(statistic=0.9065684572704982, pvalue=0.25824165549017347)\n",
      "ShapiroResult(statistic=0.9044355911726943, pvalue=0.2449121806027384)\n"
     ]
    }
   ],
   "source": [
    "# 샤피로 윌크 검정\n",
    "# 귀무가설 : 해당 분포가 정규성을 보인다\n",
    "# 대립가설 : 해당 분포가 정규성을 보이지 않는다 \n",
    "\n",
    "print(stats.shapiro(class1))\n",
    "print(stats.shapiro(class2))\n",
    "# 둘 다 p > 0.05  =>  귀무가설 기각X. 둘 다 정규분포를 따른다 "
   ]
  },
  {
   "cell_type": "code",
   "execution_count": 180,
   "id": "3bfbe21e-6588-463b-a5b0-3b99c913c8c6",
   "metadata": {},
   "outputs": [
    {
     "data": {
      "text/plain": [
       "LeveneResult(statistic=0.20000000000000173, pvalue=0.6600556531895849)"
      ]
     },
     "execution_count": 180,
     "metadata": {},
     "output_type": "execute_result"
    }
   ],
   "source": [
    "# 분산이 동일한지 검정\n",
    "stats.levene(class1, class2)        \n",
    "# p > 0.05  =>  귀무가설 기각x. 분산이 동일하다 "
   ]
  },
  {
   "cell_type": "code",
   "execution_count": 182,
   "id": "1ba48256-d9f5-4909-b619-931bed37a0a8",
   "metadata": {},
   "outputs": [
    {
     "data": {
      "text/plain": [
       "TtestResult(statistic=-4.582575694955849, pvalue=0.00011546547787696304, df=18.0)"
      ]
     },
     "execution_count": 182,
     "metadata": {},
     "output_type": "execute_result"
    }
   ],
   "source": [
    "# 귀무가설 : 두 그룹의 평균 충전 시간은 같다.\n",
    "# 대립가설 : 새로운 충전기가 기존 충전기보다 더 빠르다 = 평균 충전 시간이 더 짧다 \n",
    "\n",
    "stats.ttest_ind(class1, class2, equal_var = True, alternative = \"less\")\n",
    "# p < 0.05  =>  귀무가설 기각.  새로운 충전기가 기존 충전기보다 더 빠르다"
   ]
  },
  {
   "cell_type": "markdown",
   "id": "fbd58b85-ba16-4cca-94b8-ed75c92a6874",
   "metadata": {},
   "source": [
    "23. 새로 개발한 교육과정에 참여하면 학습 시간이 단축된다고 주장한다. 기존 교육 방법과 새로운 교육 방법을 적용한 결과에 대해 새로운 교육 방법이 교육 시간을 단축시키는지 검정하세요. 모집단은 정규 분포를 따른다고 가정합니다.  \n",
    "(유의수준 0.05)"
   ]
  },
  {
   "cell_type": "code",
   "execution_count": 117,
   "id": "8ab60ece-793b-4a72-b0db-c45ce2894584",
   "metadata": {},
   "outputs": [
    {
     "data": {
      "text/html": [
       "<div>\n",
       "<style scoped>\n",
       "    .dataframe tbody tr th:only-of-type {\n",
       "        vertical-align: middle;\n",
       "    }\n",
       "\n",
       "    .dataframe tbody tr th {\n",
       "        vertical-align: top;\n",
       "    }\n",
       "\n",
       "    .dataframe thead th {\n",
       "        text-align: right;\n",
       "    }\n",
       "</style>\n",
       "<table border=\"1\" class=\"dataframe\">\n",
       "  <thead>\n",
       "    <tr style=\"text-align: right;\">\n",
       "      <th></th>\n",
       "      <th>User</th>\n",
       "      <th>기존방법</th>\n",
       "      <th>새로운방법</th>\n",
       "      <th>줄어든시간</th>\n",
       "    </tr>\n",
       "  </thead>\n",
       "  <tbody>\n",
       "    <tr>\n",
       "      <th>0</th>\n",
       "      <td>1</td>\n",
       "      <td>60.4</td>\n",
       "      <td>59.8</td>\n",
       "      <td>0.6</td>\n",
       "    </tr>\n",
       "    <tr>\n",
       "      <th>1</th>\n",
       "      <td>2</td>\n",
       "      <td>60.7</td>\n",
       "      <td>60.2</td>\n",
       "      <td>0.5</td>\n",
       "    </tr>\n",
       "    <tr>\n",
       "      <th>2</th>\n",
       "      <td>3</td>\n",
       "      <td>60.5</td>\n",
       "      <td>60.1</td>\n",
       "      <td>0.4</td>\n",
       "    </tr>\n",
       "    <tr>\n",
       "      <th>3</th>\n",
       "      <td>4</td>\n",
       "      <td>60.3</td>\n",
       "      <td>59.9</td>\n",
       "      <td>0.4</td>\n",
       "    </tr>\n",
       "    <tr>\n",
       "      <th>4</th>\n",
       "      <td>5</td>\n",
       "      <td>60.8</td>\n",
       "      <td>59.7</td>\n",
       "      <td>1.1</td>\n",
       "    </tr>\n",
       "    <tr>\n",
       "      <th>5</th>\n",
       "      <td>6</td>\n",
       "      <td>60.6</td>\n",
       "      <td>58.4</td>\n",
       "      <td>2.2</td>\n",
       "    </tr>\n",
       "    <tr>\n",
       "      <th>6</th>\n",
       "      <td>7</td>\n",
       "      <td>60.2</td>\n",
       "      <td>57.0</td>\n",
       "      <td>3.2</td>\n",
       "    </tr>\n",
       "    <tr>\n",
       "      <th>7</th>\n",
       "      <td>8</td>\n",
       "      <td>60.5</td>\n",
       "      <td>60.3</td>\n",
       "      <td>0.2</td>\n",
       "    </tr>\n",
       "    <tr>\n",
       "      <th>8</th>\n",
       "      <td>9</td>\n",
       "      <td>60.7</td>\n",
       "      <td>59.6</td>\n",
       "      <td>1.1</td>\n",
       "    </tr>\n",
       "    <tr>\n",
       "      <th>9</th>\n",
       "      <td>10</td>\n",
       "      <td>60.4</td>\n",
       "      <td>59.8</td>\n",
       "      <td>0.6</td>\n",
       "    </tr>\n",
       "  </tbody>\n",
       "</table>\n",
       "</div>"
      ],
      "text/plain": [
       "   User  기존방법  새로운방법  줄어든시간\n",
       "0     1  60.4   59.8    0.6\n",
       "1     2  60.7   60.2    0.5\n",
       "2     3  60.5   60.1    0.4\n",
       "3     4  60.3   59.9    0.4\n",
       "4     5  60.8   59.7    1.1\n",
       "5     6  60.6   58.4    2.2\n",
       "6     7  60.2   57.0    3.2\n",
       "7     8  60.5   60.3    0.2\n",
       "8     9  60.7   59.6    1.1\n",
       "9    10  60.4   59.8    0.6"
      ]
     },
     "execution_count": 117,
     "metadata": {},
     "output_type": "execute_result"
    }
   ],
   "source": [
    "df = pd.DataFrame({\n",
    "    'User': list(range(1, 11)),\n",
    "    '기존방법': [60.4, 60.7, 60.5, 60.3, 60.8, 60.6, 60.2, 60.5, 60.7, 60.4],\n",
    "    '새로운방법': [59.8, 60.2, 60.1, 59.9, 59.7, 58.4, 57.0, 60.3, 59.6, 59.8]\n",
    "})\n",
    "\n",
    "# 귀무가설: 기존 교육방법과 새로운 교육방법의 교육 시간에 차이가 없다\n",
    "# 대립가설: 기존 교육방법과 새로운 교육방법의 교육 시간에 차이가 있다 = 전보다 더 좋다\n",
    "#                  = 새로운 교육 방법이 교육 시간을 단축시킨다\n",
    "\n",
    "df[\"줄어든시간\"] = df[\"기존방법\"] - df[\"새로운방법\"]\n",
    "df"
   ]
  },
  {
   "cell_type": "code",
   "execution_count": 118,
   "id": "c504cb8e-2b19-4e47-b678-735e66257916",
   "metadata": {},
   "outputs": [
    {
     "data": {
      "image/png": "[encoded data removed]",
      "text/plain": [
       "<Figure size 640x480 with 1 Axes>"
      ]
     },
     "metadata": {},
     "output_type": "display_data"
    }
   ],
   "source": [
    "plt.hist(df[\"줄어든시간\"])\n",
    "plt.show()"
   ]
  },
  {
   "cell_type": "code",
   "execution_count": 119,
   "id": "48d78fea-6414-4160-9348-46757c5c967f",
   "metadata": {},
   "outputs": [
    {
     "data": {
      "image/png": "[encoded data removed]",
      "text/plain": [
       "<Figure size 640x480 with 1 Axes>"
      ]
     },
     "metadata": {},
     "output_type": "display_data"
    }
   ],
   "source": [
    "# Q-Q plot\n",
    "stats.probplot(df[\"줄어든시간\"], dist = \"norm\", plot = plt)\n",
    "plt.show()"
   ]
  },
  {
   "cell_type": "code",
   "execution_count": 120,
   "id": "a82a3f72-1e4a-4f67-bc64-005e287b961f",
   "metadata": {},
   "outputs": [
    {
     "data": {
      "text/plain": [
       "(0.782923502611104, 0.008985928943897126)"
      ]
     },
     "execution_count": 120,
     "metadata": {},
     "output_type": "execute_result"
    }
   ],
   "source": [
    "# 샤피로 윌크 검정\n",
    "# 귀무가설 : 이 분포가 정규성을 보인다\n",
    "# 대립가설 : 이 분포가 정규성을 보이지 않는다 \n",
    "\n",
    "values, p = stats.shapiro(df['줄어든시간'])  \n",
    "values, p\n",
    "\n",
    "# p < 0.05  =>  귀무가설 기각.  정규성을 보이지 않는다 "
   ]
  },
  {
   "cell_type": "code",
   "execution_count": 122,
   "id": "850f02fa-8216-4970-bb3a-c130bb5b6d10",
   "metadata": {},
   "outputs": [
    {
     "data": {
      "text/plain": [
       "WilcoxonResult(statistic=0.0, pvalue=0.0009765625)"
      ]
     },
     "execution_count": 122,
     "metadata": {},
     "output_type": "execute_result"
    }
   ],
   "source": [
    "# 정규성 보이지 않으므로 중앙값으로 확인\n",
    "stats.wilcoxon(df[\"새로운방법\"], df[\"기존방법\"], alternative = \"less\")\n",
    "\n",
    "# p < 0.05  =>  귀무가설 기각.  새로운 교육 방법이 교육 시간을 단축시킨다 "
   ]
  },
  {
   "cell_type": "markdown",
   "id": "d520467d-6836-476b-a48a-e7a03ac87f67",
   "metadata": {},
   "source": [
    "24. 각 캠프의 세미나 등록 여부를 조사한 결과는 아래와 같다. 캠프와 세미나 등록 여부가 서로 독립적인지 검정하세요.  \n",
    "(유의수준 0.05)"
   ]
  },
  {
   "cell_type": "code",
   "execution_count": 113,
   "id": "bf9dc8bb-6441-4ed5-9ca2-6d0652038604",
   "metadata": {},
   "outputs": [
    {
     "data": {
      "text/plain": [
       "Chi2ContingencyResult(statistic=0.03535714285714309, pvalue=0.8508492527705047, dof=1, expected_freq=array([[48.88888889, 31.11111111],\n",
       "       [61.11111111, 38.88888889]]))"
      ]
     },
     "execution_count": 113,
     "metadata": {},
     "output_type": "execute_result"
    }
   ],
   "source": [
    "df = pd.DataFrame({\n",
    "        '캠프': ['빅분기']*80 + ['정처기']*100,\n",
    "        '등록여부': ['등록']*50 + ['등록안함']*30 + ['등록']*60 + ['등록안함']*40\n",
    "})\n",
    "\n",
    "df2 = pd.crosstab(index = df['캠프'], columns = df[\"등록여부\"])\n",
    "stats.chi2_contingency(df2)\n",
    "\n",
    "# p > 0.05  =>  귀무가설 기각X. 캠프와 세미나 등록 여부는 독립적이다."
   ]
  },
  {
   "cell_type": "markdown",
   "id": "ea1a7336-0f97-40de-9e83-9a43a98dbb4e",
   "metadata": {},
   "source": [
    "25. 하루 동안 받는 이메일 중 스팸 이메일이 도착할 확률이 0.1라고 가정합니다. 하루에 총 50개의 이메일을 받는다고 할 때, 스팸 이메일이 10개 이상으로 도착할 누적 확률을 계산하세요."
   ]
  },
  {
   "cell_type": "code",
   "execution_count": 125,
   "id": "4a84987a-465b-4e78-aa00-487e0cd17c3d",
   "metadata": {},
   "outputs": [
    {
     "data": {
      "text/plain": [
       "0.024537935704591396"
      ]
     },
     "execution_count": 125,
     "metadata": {},
     "output_type": "execute_result"
    }
   ],
   "source": [
    "# 10개 이상 도착 = 1 - (9개 이하)\n",
    "\n",
    "from scipy.stats import binom\n",
    "1 - binom.cdf(9, 50, 0.1)"
   ]
  },
  {
   "cell_type": "code",
   "execution_count": null,
   "id": "53b9f117-514e-4acb-ba13-6f1c796cc00f",
   "metadata": {},
   "outputs": [],
   "source": []
  },
  {
   "cell_type": "code",
   "execution_count": null,
   "id": "9e9a4de1-4638-4a19-9d37-17ce7972539d",
   "metadata": {},
   "outputs": [],
   "source": []
  }
 ],
 "metadata": {
  "kernelspec": {
   "display_name": "Python 3 (ipykernel)",
   "language": "python",
   "name": "python3"
  },
  "language_info": {
   "codemirror_mode": {
    "name": "ipython",
    "version": 3
   },
   "file_extension": ".py",
   "mimetype": "text/x-python",
   "name": "python",
   "nbconvert_exporter": "python",
   "pygments_lexer": "ipython3",
   "version": "3.12.7"
  }
 },
 "nbformat": 4,
 "nbformat_minor": 5
}
