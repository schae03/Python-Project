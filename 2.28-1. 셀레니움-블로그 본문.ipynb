{
 "cells": [
  {
   "cell_type": "code",
   "execution_count": 1,
   "id": "34e1888c-b663-4078-b0e7-74e7398f5e7d",
   "metadata": {},
   "outputs": [
    {
     "data": {
      "text/html": [
       "<div>\n",
       "<style scoped>\n",
       "    .dataframe tbody tr th:only-of-type {\n",
       "        vertical-align: middle;\n",
       "    }\n",
       "\n",
       "    .dataframe tbody tr th {\n",
       "        vertical-align: top;\n",
       "    }\n",
       "\n",
       "    .dataframe thead th {\n",
       "        text-align: right;\n",
       "    }\n",
       "</style>\n",
       "<table border=\"1\" class=\"dataframe\">\n",
       "  <thead>\n",
       "    <tr style=\"text-align: right;\">\n",
       "      <th></th>\n",
       "      <th>날짜</th>\n",
       "      <th>제목</th>\n",
       "      <th>링크</th>\n",
       "    </tr>\n",
       "  </thead>\n",
       "  <tbody>\n",
       "    <tr>\n",
       "      <th>0</th>\n",
       "      <td>2015.02.02.</td>\n",
       "      <td>서울둘레길 1-2(서울) 2015.01.31</td>\n",
       "      <td>https://blog.naver.com/kurum_be/220260342448</td>\n",
       "    </tr>\n",
       "    <tr>\n",
       "      <th>1</th>\n",
       "      <td>2015.02.21.</td>\n",
       "      <td>[서울둘레길] 1코스 ( 1 - 1 ) 수락 불암산코스</td>\n",
       "      <td>https://blog.naver.com/wkrdms5505/220278632249</td>\n",
       "    </tr>\n",
       "    <tr>\n",
       "      <th>2</th>\n",
       "      <td>2015.02.23.</td>\n",
       "      <td>[서울둘레길_1코스] 수락.불암산 코스</td>\n",
       "      <td>https://blog.naver.com/nodongja98/220281209127</td>\n",
       "    </tr>\n",
       "    <tr>\n",
       "      <th>3</th>\n",
       "      <td>2015.02.23.</td>\n",
       "      <td>서울둘레길 1코스(창포원~화랑대역) 17.34km</td>\n",
       "      <td>https://blog.naver.com/chaijen_9207/220281233544</td>\n",
       "    </tr>\n",
       "    <tr>\n",
       "      <th>4</th>\n",
       "      <td>2015.02.27.</td>\n",
       "      <td>서울둘레길 스탬프투어 완주. 2015년</td>\n",
       "      <td>https://blog.naver.com/chammaja1/220284874829</td>\n",
       "    </tr>\n",
       "    <tr>\n",
       "      <th>...</th>\n",
       "      <td>...</td>\n",
       "      <td>...</td>\n",
       "      <td>...</td>\n",
       "    </tr>\n",
       "    <tr>\n",
       "      <th>284</th>\n",
       "      <td>2023.04.26</td>\n",
       "      <td>서울둘레길 1코스 수락.불암산 1-1-2 걷기 (수락산 만남의 광장~당고개역)</td>\n",
       "      <td>https://blog.naver.com/seoultrailwalker/223086...</td>\n",
       "    </tr>\n",
       "    <tr>\n",
       "      <th>285</th>\n",
       "      <td>2023.04.27</td>\n",
       "      <td>서울 둘레길 1코스</td>\n",
       "      <td>https://blog.naver.com/lsy5091/223086400357</td>\n",
       "    </tr>\n",
       "    <tr>\n",
       "      <th>286</th>\n",
       "      <td>2023.04.28</td>\n",
       "      <td>혼자걷는 서울둘레길1코스 창포원에서 당고개까지 트레킹~힘들었지만 잘했어♡</td>\n",
       "      <td>https://blog.naver.com/inbest9/223088367418</td>\n",
       "    </tr>\n",
       "    <tr>\n",
       "      <th>287</th>\n",
       "      <td>2023.04.28</td>\n",
       "      <td>서울둘레길</td>\n",
       "      <td>https://blog.naver.com/hsw31318/223088431453</td>\n",
       "    </tr>\n",
       "    <tr>\n",
       "      <th>288</th>\n",
       "      <td>2023.04.29</td>\n",
       "      <td>서울 둘레길 1-1 코스 수락 불암산 코스</td>\n",
       "      <td>https://blog.naver.com/mohalai/223089557217</td>\n",
       "    </tr>\n",
       "  </tbody>\n",
       "</table>\n",
       "<p>289 rows × 3 columns</p>\n",
       "</div>"
      ],
      "text/plain": [
       "              날짜                                           제목  \\\n",
       "0    2015.02.02.                     서울둘레길 1-2(서울) 2015.01.31   \n",
       "1    2015.02.21.               [서울둘레길] 1코스 ( 1 - 1 ) 수락 불암산코스   \n",
       "2    2015.02.23.                        [서울둘레길_1코스] 수락.불암산 코스   \n",
       "3    2015.02.23.                  서울둘레길 1코스(창포원~화랑대역) 17.34km   \n",
       "4    2015.02.27.                        서울둘레길 스탬프투어 완주. 2015년   \n",
       "..           ...                                          ...   \n",
       "284   2023.04.26  서울둘레길 1코스 수락.불암산 1-1-2 걷기 (수락산 만남의 광장~당고개역)   \n",
       "285   2023.04.27                                   서울 둘레길 1코스   \n",
       "286   2023.04.28     혼자걷는 서울둘레길1코스 창포원에서 당고개까지 트레킹~힘들었지만 잘했어♡   \n",
       "287   2023.04.28                                        서울둘레길   \n",
       "288   2023.04.29                      서울 둘레길 1-1 코스 수락 불암산 코스   \n",
       "\n",
       "                                                    링크  \n",
       "0         https://blog.naver.com/kurum_be/220260342448  \n",
       "1       https://blog.naver.com/wkrdms5505/220278632249  \n",
       "2       https://blog.naver.com/nodongja98/220281209127  \n",
       "3     https://blog.naver.com/chaijen_9207/220281233544  \n",
       "4        https://blog.naver.com/chammaja1/220284874829  \n",
       "..                                                 ...  \n",
       "284  https://blog.naver.com/seoultrailwalker/223086...  \n",
       "285        https://blog.naver.com/lsy5091/223086400357  \n",
       "286        https://blog.naver.com/inbest9/223088367418  \n",
       "287       https://blog.naver.com/hsw31318/223088431453  \n",
       "288        https://blog.naver.com/mohalai/223089557217  \n",
       "\n",
       "[289 rows x 3 columns]"
      ]
     },
     "execution_count": 1,
     "metadata": {},
     "output_type": "execute_result"
    }
   ],
   "source": [
    "import pandas as pd\n",
    "df = pd.read_excel(\"Data/Naver Blog.xlsx\", header = None)\n",
    "df.columns = [\"날짜\", \"제목\", \"링크\"]\n",
    "df"
   ]
  },
  {
   "cell_type": "code",
   "execution_count": 2,
   "id": "7499081b-341e-4f70-b816-583a9edcf158",
   "metadata": {},
   "outputs": [],
   "source": [
    "import undetected_chromedriver as uc\n",
    "from selenium.webdriver.common.by import By\n",
    "from selenium.webdriver.common.keys import Keys\n",
    "import time"
   ]
  },
  {
   "cell_type": "markdown",
   "id": "654f7f2e-4bc8-43da-be23-8618ba350547",
   "metadata": {},
   "source": [
    "# 네이버블로그 본문 내용 가져오기"
   ]
  },
  {
   "cell_type": "code",
   "execution_count": 13,
   "id": "4ce163e1-2bec-44c7-98d5-97ff2d5ae24f",
   "metadata": {},
   "outputs": [],
   "source": [
    "driver = uc.Chrome()\n",
    "driver.get(\"https://blog.naver.com/kurum_be/220260342448\")"
   ]
  },
  {
   "cell_type": "code",
   "execution_count": 14,
   "id": "1aab6bef-98fe-4eb0-9790-41e08f34cbff",
   "metadata": {},
   "outputs": [
    {
     "data": {
      "text/plain": [
       "'            서울 둘레길1-2(수락,불암코스2)\\n위 치 : 서울 노원구,중랑구\\n일시 : 2015.01.31(토) 맑음 기온 -8.5~0.8도(서울 기상청)\\n코 스 : 당고개역(10:20)-철쭉동산(10:34)-불암산전망대(11:24)-학도암(11:57)-\\n           백사마을입구(12:29)-백세문(13:29)-화랑대역(13:50)\\n            약 7.7km  3시간30분\\n교 통 : 지하철(4호선  당고개역)  ,화랑대역(지하철6호선)\\n          누구랑  ~ 나,야생화님외 5명. 7명이서..설렁. 설렁~~~ \\n      : 서울 둘레길 완주 시작은 좋았는데 자주 가지지 않는다\\n             內相 이랑 산에 잘 안가던 친구몇 데리고 가자니 시간도 잘 안맞고..\\n             두번째 서울 둘레길 트레킹에 나섰다\\n             짧은 거리지만 환자? 들이 몇 있어 놀이 하듯 설렁 설렁..\\n             그래도 집에서 딩글 딩굴. 시체 놀이보단 훨 나아~~~\\n \\n    10시 당고개역에서 만나기로 했으나 처음 온 친구들위해 도봉산역 창포원으로 스탬프카드를  얻으로 갔다 오다 내가 지각.\\n그래도 이런 족쇄라도 채워나야 사명감 갖고 보람을 갖고 장장 157km의 둘레길을 완주할 마음이 식지 않겠지???\\n    당고개역 4번출구로 나와 길건너 마을길로 10여분 가면 산들머리\\n      그리고 곧 1차 갔을때 스탬프있던 철쭉동산 우체통앞.\\n오늘 처음온 친구들은 여기서 시작 인증도장 꽉~~.\\n    약수터.  썰렁한 기운인데도 장기에 열중하시는 주민분도 계시네.\\n    요즘 매일 기온이 영하8도 내외에 시작해 한낮에도 0도 안팎에 머무르는 쌀쌀한 날씨가 계속이다\\n지난번 설악산 울산바위에 갔다  왔더니 무릎이 영 신통치 않아  일반적 산행하기에 머뭇거려진다\\n에 ~~휴 이러다 정말 가고 싶은산 하나도 못가고 둘레길이나 다녀야 하는 신세가 되려는지..\\n    이건 무슨 바위인데 고이 모시고 울타리까지 해놓았는지..설명이 없네\\n    국민배우 최불암선생님 시비가 여기도 있네...\\n    불암산 전망대에 올망 졸망..오늘 트레킹 친구들.\\n    전망대에서 본 불암산  능선\\n    이곳 둘레길에도 안내 표지는 잘 돼있다 초보자도 안내표시만 따라가도 길잃을 염려없이 잘 갈 수 있다\\n    이 길엔 요런 바위도 목표물이 된다. 넓적바위\\n    학도암.\\n학이 날아와 놀았다는 학도암\\n  \\ufeff 새로 건물을 짓고있는 공사장 같은 느낌.   \\n    학도암에 와서 삐놓지 말고 보아야할 서울시 유형문화재124호 마애 관음 보살좌상\\n약13m의 바위에 새겨진 보살상이다\\n\\n\\n\\n\\n    왕복 600m거리의 학도암을 오르내린 길은 오늘 길중 젤 가파른길 같았다\\n그만큼 큰 굴곡없는 오늘의 둘레길\\n    중계동104번지라 해서 백사마을이라 한다\\n서울의 마지막 달동네라 하는데..\\n    어델가나 이 계단..휴~~\\n    등로길엔 가끔 벙커도 보인다.  이곳엔 문도 해달아 놨네\\n\\n\\n    산책로 같은 둘레길 이제 오늘코스의 막바지에~~\\n  공능산 백세문. \\n    백세문을 지나서는 대로다.  20여분 인도를 따라 내려가니 화랑대역.\\n꼭 4번 출구로 와야  1코스 마지막 도장과 2코스 시작도장이 같이 있다.\\n스탬프도장찍으며 완주하시려는 분들  여기선 도장찍는 순서를 잘 해야.  잘못하면 순서가 바뀔 수 있다\\n오늘 둘레길 탐방은 여기서 마무리\\n담주 2코스 예정하고 점심겸 하산주하고 헤어짐.  수고했어요 친구들~~'"
      ]
     },
     "execution_count": 14,
     "metadata": {},
     "output_type": "execute_result"
    }
   ],
   "source": [
    "# ctrl + shift + I 로 검사버튼 열기\n",
    "\n",
    "driver.switch_to.frame(\"mainFrame\")      # 지금 보고 있는 창을 mainframe으로 바꿔라 \n",
    "driver.find_element(By.ID, \"postViewArea\").text\n",
    "\n",
    "# 두번실행하면  이미 mainframe으로 바뀐상태에서 또 돌리는 거라서 에러남"
   ]
  },
  {
   "cell_type": "code",
   "execution_count": 21,
   "id": "28f44749-97f3-42c8-866c-bf8c8ea7ddfe",
   "metadata": {},
   "outputs": [],
   "source": [
    "box = []"
   ]
  },
  {
   "cell_type": "code",
   "execution_count": 22,
   "id": "afefc548-4cf7-44e7-b1ad-62ef8f58392f",
   "metadata": {},
   "outputs": [
    {
     "ename": "InvalidArgumentException",
     "evalue": "Message: invalid argument: 'url' must be a string\n  (Session info: chrome=133.0.6943.128)\nStacktrace:\n\tGetHandleVerifier [0x01160B43+25139]\n\t(No symbol) [0x010F13F4]\n\t(No symbol) [0x00FD04E3]\n\t(No symbol) [0x0105F4EE]\n\t(No symbol) [0x0103CFCC]\n\t(No symbol) [0x0105E778]\n\t(No symbol) [0x0103CDC6]\n\t(No symbol) [0x0100BDE9]\n\t(No symbol) [0x0100D124]\n\tGetHandleVerifier [0x01464373+3185251]\n\tGetHandleVerifier [0x0148291A+3309578]\n\tGetHandleVerifier [0x0147CF42+3286578]\n\tGetHandleVerifier [0x011F7AE0+643536]\n\t(No symbol) [0x010FA20D]\n\t(No symbol) [0x010F70B8]\n\t(No symbol) [0x010F7257]\n\t(No symbol) [0x010E9E00]\n\tBaseThreadInitThunk [0x76B27BA9+25]\n\tRtlInitializeExceptionChain [0x7748C0CB+107]\n\tRtlClearBits [0x7748C04F+191]\n",
     "output_type": "error",
     "traceback": [
      "\u001b[1;31m---------------------------------------------------------------------------\u001b[0m",
      "\u001b[1;31mInvalidArgumentException\u001b[0m                  Traceback (most recent call last)",
      "Cell \u001b[1;32mIn[22], line 3\u001b[0m\n\u001b[0;32m      1\u001b[0m \u001b[38;5;28;01mfor\u001b[39;00m i \u001b[38;5;129;01min\u001b[39;00m \u001b[38;5;28mrange\u001b[39m(\u001b[38;5;28mlen\u001b[39m(box), \u001b[38;5;28mlen\u001b[39m(df[\u001b[38;5;124m\"\u001b[39m\u001b[38;5;124m링크\u001b[39m\u001b[38;5;124m\"\u001b[39m])):\n\u001b[0;32m      2\u001b[0m     driver\u001b[38;5;241m.\u001b[39mimplicitly_wait(\u001b[38;5;241m10\u001b[39m)        \u001b[38;5;66;03m# 페이지가 다 뜰때까지 최소 10초 기다려라\u001b[39;00m\n\u001b[1;32m----> 3\u001b[0m     driver\u001b[38;5;241m.\u001b[39mget(i)\n\u001b[0;32m      5\u001b[0m     \u001b[38;5;28;01mtry\u001b[39;00m:\n\u001b[0;32m      6\u001b[0m         driver\u001b[38;5;241m.\u001b[39mswitch_to\u001b[38;5;241m.\u001b[39mframe(\u001b[38;5;124m\"\u001b[39m\u001b[38;5;124mmainFrame\u001b[39m\u001b[38;5;124m\"\u001b[39m)   \u001b[38;5;66;03m# 블로그글이 아닌 다른 곳으로 이동된 경우 \u001b[39;00m\n",
      "File \u001b[1;32m~\\anaconda3\\Lib\\site-packages\\undetected_chromedriver\\__init__.py:665\u001b[0m, in \u001b[0;36mChrome.get\u001b[1;34m(self, url)\u001b[0m\n\u001b[0;32m    662\u001b[0m \u001b[38;5;28;01mdef\u001b[39;00m \u001b[38;5;21mget\u001b[39m(\u001b[38;5;28mself\u001b[39m, url):\n\u001b[0;32m    663\u001b[0m     \u001b[38;5;66;03m# if self._get_cdc_props():\u001b[39;00m\n\u001b[0;32m    664\u001b[0m     \u001b[38;5;66;03m#     self._hook_remove_cdc_props()\u001b[39;00m\n\u001b[1;32m--> 665\u001b[0m     \u001b[38;5;28;01mreturn\u001b[39;00m \u001b[38;5;28msuper\u001b[39m()\u001b[38;5;241m.\u001b[39mget(url)\n",
      "File \u001b[1;32m~\\anaconda3\\Lib\\site-packages\\selenium\\webdriver\\remote\\webdriver.py:454\u001b[0m, in \u001b[0;36mWebDriver.get\u001b[1;34m(self, url)\u001b[0m\n\u001b[0;32m    436\u001b[0m \u001b[38;5;28;01mdef\u001b[39;00m \u001b[38;5;21mget\u001b[39m(\u001b[38;5;28mself\u001b[39m, url: \u001b[38;5;28mstr\u001b[39m) \u001b[38;5;241m-\u001b[39m\u001b[38;5;241m>\u001b[39m \u001b[38;5;28;01mNone\u001b[39;00m:\n\u001b[0;32m    437\u001b[0m \u001b[38;5;250m    \u001b[39m\u001b[38;5;124;03m\"\"\"Navigate the browser to the specified URL in the current window or\u001b[39;00m\n\u001b[0;32m    438\u001b[0m \u001b[38;5;124;03m    tab.\u001b[39;00m\n\u001b[0;32m    439\u001b[0m \n\u001b[1;32m   (...)\u001b[0m\n\u001b[0;32m    452\u001b[0m \u001b[38;5;124;03m    >>> driver.get(\"https://example.com\")\u001b[39;00m\n\u001b[0;32m    453\u001b[0m \u001b[38;5;124;03m    \"\"\"\u001b[39;00m\n\u001b[1;32m--> 454\u001b[0m     \u001b[38;5;28mself\u001b[39m\u001b[38;5;241m.\u001b[39mexecute(Command\u001b[38;5;241m.\u001b[39mGET, {\u001b[38;5;124m\"\u001b[39m\u001b[38;5;124murl\u001b[39m\u001b[38;5;124m\"\u001b[39m: url})\n",
      "File \u001b[1;32m~\\anaconda3\\Lib\\site-packages\\selenium\\webdriver\\remote\\webdriver.py:429\u001b[0m, in \u001b[0;36mWebDriver.execute\u001b[1;34m(self, driver_command, params)\u001b[0m\n\u001b[0;32m    427\u001b[0m response \u001b[38;5;241m=\u001b[39m \u001b[38;5;28mself\u001b[39m\u001b[38;5;241m.\u001b[39mcommand_executor\u001b[38;5;241m.\u001b[39mexecute(driver_command, params)\n\u001b[0;32m    428\u001b[0m \u001b[38;5;28;01mif\u001b[39;00m response:\n\u001b[1;32m--> 429\u001b[0m     \u001b[38;5;28mself\u001b[39m\u001b[38;5;241m.\u001b[39merror_handler\u001b[38;5;241m.\u001b[39mcheck_response(response)\n\u001b[0;32m    430\u001b[0m     response[\u001b[38;5;124m\"\u001b[39m\u001b[38;5;124mvalue\u001b[39m\u001b[38;5;124m\"\u001b[39m] \u001b[38;5;241m=\u001b[39m \u001b[38;5;28mself\u001b[39m\u001b[38;5;241m.\u001b[39m_unwrap_value(response\u001b[38;5;241m.\u001b[39mget(\u001b[38;5;124m\"\u001b[39m\u001b[38;5;124mvalue\u001b[39m\u001b[38;5;124m\"\u001b[39m, \u001b[38;5;28;01mNone\u001b[39;00m))\n\u001b[0;32m    431\u001b[0m     \u001b[38;5;28;01mreturn\u001b[39;00m response\n",
      "File \u001b[1;32m~\\anaconda3\\Lib\\site-packages\\selenium\\webdriver\\remote\\errorhandler.py:232\u001b[0m, in \u001b[0;36mErrorHandler.check_response\u001b[1;34m(self, response)\u001b[0m\n\u001b[0;32m    230\u001b[0m         alert_text \u001b[38;5;241m=\u001b[39m value[\u001b[38;5;124m\"\u001b[39m\u001b[38;5;124malert\u001b[39m\u001b[38;5;124m\"\u001b[39m]\u001b[38;5;241m.\u001b[39mget(\u001b[38;5;124m\"\u001b[39m\u001b[38;5;124mtext\u001b[39m\u001b[38;5;124m\"\u001b[39m)\n\u001b[0;32m    231\u001b[0m     \u001b[38;5;28;01mraise\u001b[39;00m exception_class(message, screen, stacktrace, alert_text)  \u001b[38;5;66;03m# type: ignore[call-arg]  # mypy is not smart enough here\u001b[39;00m\n\u001b[1;32m--> 232\u001b[0m \u001b[38;5;28;01mraise\u001b[39;00m exception_class(message, screen, stacktrace)\n",
      "\u001b[1;31mInvalidArgumentException\u001b[0m: Message: invalid argument: 'url' must be a string\n  (Session info: chrome=133.0.6943.128)\nStacktrace:\n\tGetHandleVerifier [0x01160B43+25139]\n\t(No symbol) [0x010F13F4]\n\t(No symbol) [0x00FD04E3]\n\t(No symbol) [0x0105F4EE]\n\t(No symbol) [0x0103CFCC]\n\t(No symbol) [0x0105E778]\n\t(No symbol) [0x0103CDC6]\n\t(No symbol) [0x0100BDE9]\n\t(No symbol) [0x0100D124]\n\tGetHandleVerifier [0x01464373+3185251]\n\tGetHandleVerifier [0x0148291A+3309578]\n\tGetHandleVerifier [0x0147CF42+3286578]\n\tGetHandleVerifier [0x011F7AE0+643536]\n\t(No symbol) [0x010FA20D]\n\t(No symbol) [0x010F70B8]\n\t(No symbol) [0x010F7257]\n\t(No symbol) [0x010E9E00]\n\tBaseThreadInitThunk [0x76B27BA9+25]\n\tRtlInitializeExceptionChain [0x7748C0CB+107]\n\tRtlClearBits [0x7748C04F+191]\n"
     ]
    }
   ],
   "source": [
    "for i in range(len(box), len(df[\"링크\"])):\n",
    "    driver.implicitly_wait(10)        # 페이지가 다 뜰때까지 최소 10초 기다려라\n",
    "    driver.get(i)\n",
    "    \n",
    "    try:\n",
    "        driver.switch_to.frame(\"mainFrame\")   # 블로그글이 아닌 다른 곳으로 이동된 경우 \n",
    "    except:\n",
    "        continue                              # 다음 글로 넘어가도록\n",
    "        \n",
    "    content = \"\"\n",
    "    \n",
    "    try:\n",
    "        content = driver.find_element(By.ID, \"postViewArea\").text.strip()       # 이 코드에서 오류가 나면 \n",
    "    except:                                                                     # 이거로\n",
    "        try:\n",
    "            content = driver.find_element(By.CSS_SELECTOR, \"se-main-container\").text.strip()       # 이 코드에서 오류가 나면 \n",
    "        except:\n",
    "            pass                                                                                   # 지나쳐라\n",
    "\n",
    "    \n",
    "        \n",
    "    box.append(content)"
   ]
  },
  {
   "cell_type": "code",
   "execution_count": null,
   "id": "f68a4f13-08df-428f-98d0-c8fa18d9e22b",
   "metadata": {},
   "outputs": [],
   "source": []
  },
  {
   "cell_type": "code",
   "execution_count": null,
   "id": "91d73fc9-69d7-419d-8741-ace7088744f6",
   "metadata": {},
   "outputs": [],
   "source": []
  },
  {
   "cell_type": "code",
   "execution_count": null,
   "id": "ba6bae1b-7c0a-4579-9a90-723fdb8297cc",
   "metadata": {},
   "outputs": [],
   "source": []
  }
 ],
 "metadata": {
  "kernelspec": {
   "display_name": "Python 3 (ipykernel)",
   "language": "python",
   "name": "python3"
  },
  "language_info": {
   "codemirror_mode": {
    "name": "ipython",
    "version": 3
   },
   "file_extension": ".py",
   "mimetype": "text/x-python",
   "name": "python",
   "nbconvert_exporter": "python",
   "pygments_lexer": "ipython3",
   "version": "3.12.7"
  }
 },
 "nbformat": 4,
 "nbformat_minor": 5
}
