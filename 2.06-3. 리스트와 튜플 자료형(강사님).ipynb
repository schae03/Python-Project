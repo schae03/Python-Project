{
 "cells": [
  {
   "cell_type": "markdown",
   "id": "c151a40b-6317-49a9-a868-eae942185b34",
   "metadata": {},
   "source": [
    "# 리스트란?\n",
    "* 파이썬의 리스트는 여러 개의 데이터를 순서 있게 나열하여 관리할 수 있는 자료형입니다.\n",
    "* 대괄호 []를 사용하여 표현합니다.\n",
    "* 리스트는 가변(Mutable) 자료형으로, 생성 이후에도 데이터 수정, 추가, 삭제가 가능합니다.\n",
    "* 하나의 리스트 안에 다양한 자료형(정수, 문자열, 리스트 등)도 함께 저장할 수 있습니다."
   ]
  },
  {
   "cell_type": "code",
   "execution_count": 1,
   "id": "c78ac8f2-87f9-49c2-a983-3f9ba32c2785",
   "metadata": {},
   "outputs": [
    {
     "name": "stdout",
     "output_type": "stream",
     "text": [
      "[10, 20, 30, 40]\n",
      "[1, 'Hello', True, [2, 3]]\n"
     ]
    }
   ],
   "source": [
    "# 리스트 예시\n",
    "numbers = [10, 20, 30, 40]\n",
    "mixed_list = [1, \"Hello\", True, [2, 3]]\n",
    "print(numbers)      # [10, 20, 30, 40]\n",
    "print(mixed_list)   # [1, 'Hello', True, [2, 3]]"
   ]
  },
  {
   "cell_type": "markdown",
   "id": "2af5d13c-8675-4805-85c1-80464f48ea6e",
   "metadata": {},
   "source": [
    "## 1. 리스트 인덱싱(Indexing) & 슬라이싱(Slicing)\n",
    "* 인덱싱\n",
    "리스트의 각 요소는 0부터 시작하는 인덱스를 가집니다. 또한 음수 인덱스를 사용하면 뒤에서부터 접근할 수 있습니다."
   ]
  },
  {
   "cell_type": "code",
   "execution_count": 2,
   "id": "b9766a95-464f-4fed-ad22-51c7c1ec538f",
   "metadata": {},
   "outputs": [
    {
     "name": "stdout",
     "output_type": "stream",
     "text": [
      "10\n",
      "30\n",
      "50\n"
     ]
    }
   ],
   "source": [
    "my_list = [10, 20, 30, 40, 50]\n",
    "print(my_list[0])   # 10\n",
    "print(my_list[2])   # 30\n",
    "print(my_list[-1])  # 50 (마지막 요소)"
   ]
  },
  {
   "cell_type": "markdown",
   "id": "d7ebfb63-a7aa-4bcb-a470-6f028fa555ab",
   "metadata": {},
   "source": [
    "* 슬라이싱\n",
    "[start:end:step] 형태로 잘라낼 수 있습니다. end 인덱스는 포함되지 않는다는 점에 주의하세요."
   ]
  },
  {
   "cell_type": "code",
   "execution_count": 3,
   "id": "4c3ff815-a57e-4897-a24b-40816aa7925d",
   "metadata": {},
   "outputs": [
    {
     "name": "stdout",
     "output_type": "stream",
     "text": [
      "[20, 30]\n",
      "[10, 20, 30]\n",
      "[30, 40, 50]\n",
      "[10, 30, 50]\n",
      "[50, 40, 30, 20, 10]\n"
     ]
    }
   ],
   "source": [
    "my_list = [10, 20, 30, 40, 50]\n",
    "print(my_list[1:3])   # [20, 30] (인덱스 1부터 3 전까지)\n",
    "print(my_list[:3])    # [10, 20, 30] (처음부터 3 전까지)\n",
    "print(my_list[2:])    # [30, 40, 50] (인덱스 2부터 끝까지)\n",
    "print(my_list[::2])   # [10, 30, 50] (2칸씩 건너뛰며)\n",
    "print(my_list[::-1])  # [50, 40, 30, 20, 10] (리스트 뒤집기)"
   ]
  },
  {
   "cell_type": "markdown",
   "id": "d3853375-9ecc-42a0-b4b2-371854355324",
   "metadata": {},
   "source": [
    "## 2. 리스트 주요 메서드\n",
    "### 추가\n",
    "* append(x): 리스트 끝에 요소 x 추가\n",
    "* insert(idx, x): 리스트 특정 위치(idx) 에 요소 x 삽입\n",
    "* extend(다른_시퀀스): 리스트 뒤에 다른 리스트나 시퀀스 요소들을 한 번에 확장"
   ]
  },
  {
   "cell_type": "code",
   "execution_count": 4,
   "id": "3678de3c-ce27-4a90-9050-636043178f42",
   "metadata": {},
   "outputs": [
    {
     "name": "stdout",
     "output_type": "stream",
     "text": [
      "[1, 2, 3, 4]\n",
      "[1, 10, 2, 3, 4]\n",
      "[1, 10, 2, 3, 4, 5, 6]\n"
     ]
    }
   ],
   "source": [
    "my_list = [1, 2, 3]\n",
    "my_list.append(4)      \n",
    "print(my_list)         # [1, 2, 3, 4]\n",
    "\n",
    "my_list.insert(1, 10)  \n",
    "print(my_list)         # [1, 10, 2, 3, 4]\n",
    "\n",
    "my_list.extend([5, 6]) \n",
    "print(my_list)         # [1, 10, 2, 3, 4, 5, 6]"
   ]
  },
  {
   "cell_type": "markdown",
   "id": "cbc36f4c-f916-4cec-8253-e536bc4a20df",
   "metadata": {},
   "source": [
    "### 삭제\n",
    "* del 리스트[인덱스]: 인덱스를 통해 요소 삭제\n",
    "* pop([인덱스]): 인덱스로 요소를 꺼내며 삭제(인덱스 생략 시 마지막 요소)\n",
    "* remove(x): 값이 x인 첫 번째 요소를 찾아 삭제\n",
    "* clear(): 리스트의 모든 요소 삭제 (빈 리스트로 만듦)"
   ]
  },
  {
   "cell_type": "code",
   "execution_count": 5,
   "id": "fa588fed-22a7-45a9-b5b3-827f493df97f",
   "metadata": {},
   "outputs": [
    {
     "name": "stdout",
     "output_type": "stream",
     "text": [
      "[10, 30, 40, 50]\n",
      "40\n",
      "[10, 30, 50]\n",
      "[10, 50]\n",
      "[]\n"
     ]
    }
   ],
   "source": [
    "my_list = [10, 20, 30, 40, 50]\n",
    "del my_list[1]         \n",
    "print(my_list)         # [10, 30, 40, 50]\n",
    "\n",
    "removed_item = my_list.pop(2)  \n",
    "print(removed_item)    # 40 (꺼낸 값)\n",
    "print(my_list)         # [10, 30, 50]\n",
    "\n",
    "my_list.remove(30)\n",
    "print(my_list)         # [10, 50]\n",
    "\n",
    "my_list.clear()\n",
    "print(my_list)         # []"
   ]
  },
  {
   "cell_type": "markdown",
   "id": "a2462563-3560-49c2-af87-b2c885a4a1ee",
   "metadata": {},
   "source": [
    "### 정렬 & 기타\n",
    "* sort(): 리스트 자체를 오름차순으로 정렬 (파괴적 메서드)\n",
    "* sort(reverse=True) → 내림차순 정렬\n",
    "* reverse(): 리스트 순서를 역순으로 뒤집음 (파괴적 메서드, 정렬과 다름 주의)\n",
    "* index(x): 값 x의 인덱스(위치)를 반환 (존재하지 않으면 에러)\n",
    "* count(x): 리스트에서 x가 몇 번 등장하는지 반환"
   ]
  },
  {
   "cell_type": "code",
   "execution_count": 6,
   "id": "7c0fec65-ed2d-4926-85de-17c3b0310168",
   "metadata": {},
   "outputs": [
    {
     "name": "stdout",
     "output_type": "stream",
     "text": [
      "[1, 2, 3, 4, 5]\n",
      "[5, 4, 3, 2, 1]\n",
      "2\n",
      "1\n"
     ]
    }
   ],
   "source": [
    "my_list = [3, 1, 4, 2, 5]\n",
    "my_list.sort()\n",
    "print(my_list)  # [1, 2, 3, 4, 5]\n",
    "\n",
    "my_list.reverse()\n",
    "print(my_list)  # [5, 4, 3, 2, 1]\n",
    "\n",
    "idx = my_list.index(3)\n",
    "print(idx)      # 2  (인덱스는 0부터 시작)\n",
    "\n",
    "cnt = my_list.count(4)\n",
    "print(cnt)      # 1  (값 4는 1번 등장)"
   ]
  },
  {
   "cell_type": "markdown",
   "id": "590424b5-2fbf-4ff3-af8f-299ba95e6ef7",
   "metadata": {},
   "source": [
    "# 튜플이란?\n",
    "* 튜플은 리스트와 거의 유사하지만, 한 번 생성하면 내부 요소를 변경할 수 없는(불변, Immutable) 자료형입니다.\n",
    "* 괄호 ()를 사용해 표현합니다.\n",
    "* 요소의 추가, 삭제, 수정이 불가하므로, 변경이 없어야 하는 데이터를 묶어 관리할 때 유용합니다.\n",
    "* 나머지 시퀀스적 특성(인덱싱, 슬라이싱)은 리스트와 거의 동일합니다.\n",
    "* 참고: 튜플을 생성할 때 ()를 생략하기도 합니다. 예: my_tuple = 1, 2, 3"
   ]
  },
  {
   "cell_type": "code",
   "execution_count": 7,
   "id": "fff5c75e-c9f4-4713-8bb9-d54d7de78523",
   "metadata": {},
   "outputs": [
    {
     "name": "stdout",
     "output_type": "stream",
     "text": [
      "(1, 2, 3)\n",
      "1\n",
      "(2, 3)\n"
     ]
    }
   ],
   "source": [
    "my_tuple = (1, 2, 3)\n",
    "print(my_tuple)      # (1, 2, 3)\n",
    "print(my_tuple[0])   # 1\n",
    "print(my_tuple[1:])  # (2, 3)\n",
    "\n",
    "# my_tuple[0] = 10    # 오류: 튜플은 값 변경 불가"
   ]
  },
  {
   "cell_type": "markdown",
   "id": "6cc4c20c-96e9-42be-bb26-2153781aa40b",
   "metadata": {},
   "source": [
    "## 1. 튜플 주요 메서드\n",
    "* count(value): 튜플 내에서 value가 몇 번 등장하는지 횟수를 반환합니다."
   ]
  },
  {
   "cell_type": "code",
   "execution_count": 8,
   "id": "37d2622d-f8e2-4cb4-9e44-810b621586e9",
   "metadata": {},
   "outputs": [
    {
     "name": "stdout",
     "output_type": "stream",
     "text": [
      "3\n"
     ]
    }
   ],
   "source": [
    "my_tuple = (1, 2, 3, 2, 2)\n",
    "print(my_tuple.count(2))  \n",
    "# 3 (값 2가 3번 등장)"
   ]
  },
  {
   "cell_type": "markdown",
   "id": "04da3eab-d3ed-4b92-900e-2460f196fac4",
   "metadata": {},
   "source": [
    "* index(value): 튜플 내에서 value가 처음으로 나타나는 인덱스(위치) 를 반환합니다. 만약 해당 값이 없으면 ValueError가 발생합니다."
   ]
  },
  {
   "cell_type": "code",
   "execution_count": 9,
   "id": "ade28bba-b0af-4005-abc4-351bd8d265df",
   "metadata": {},
   "outputs": [
    {
     "name": "stdout",
     "output_type": "stream",
     "text": [
      "1\n"
     ]
    }
   ],
   "source": [
    "my_tuple = (1, 2, 3, 2, 2)\n",
    "print(my_tuple.index(2))\n",
    "# 1 (인덱스는 0부터 시작하므로, 값 2가 처음 나오는 위치는 1)"
   ]
  },
  {
   "cell_type": "markdown",
   "id": "4725ba89-af00-416c-87e8-640c2bb499df",
   "metadata": {},
   "source": [
    "## 2. 튜플 패킹(Packing) & 언패킹(Unpacking)\n",
    "* 튜플 패킹(Packing): 여러 개의 값을 하나의 튜플로 묶는(패킹하는) 과정을 말합니다. 기본적으로 튜플은 괄호 () 안에 여러 요소를 쉼표로 구분해 넣어서 생성할 수 있습니다."
   ]
  },
  {
   "cell_type": "code",
   "execution_count": 10,
   "id": "0a33fb50-bd23-4546-8e7e-b8794ae137b0",
   "metadata": {},
   "outputs": [
    {
     "name": "stdout",
     "output_type": "stream",
     "text": [
      "(10, 20, 30)\n",
      "(10, 20, 30)\n"
     ]
    }
   ],
   "source": [
    "# 튜플 패킹 예시\n",
    "my_tuple = (10, 20, 30)\n",
    "print(my_tuple)  \n",
    "# (10, 20, 30)\n",
    "\n",
    "# 괄호를 생략해도 튜플로 패킹됨\n",
    "my_tuple2 = 10, 20, 30\n",
    "print(my_tuple2) \n",
    "# (10, 20, 30)"
   ]
  },
  {
   "cell_type": "markdown",
   "id": "f9342f15-db5a-44c1-9cb6-7756970aa9ea",
   "metadata": {},
   "source": [
    "* 튜플 언패킹(Unpacking): 이미 묶여 있는 튜플을 여러 개의 변수에 풀어서 할당하는 과정을 말합니다. 튜플의 요소 개수와 할당받는 변수의 개수가 일치해야 합니다."
   ]
  },
  {
   "cell_type": "code",
   "execution_count": 11,
   "id": "9516c740-e396-409d-b6b7-a0df652d7ffc",
   "metadata": {},
   "outputs": [
    {
     "name": "stdout",
     "output_type": "stream",
     "text": [
      "10 20 30\n"
     ]
    }
   ],
   "source": [
    "my_tuple = (10, 20, 30)\n",
    "# 튜플 언패킹\n",
    "x, y, z = my_tuple\n",
    "\n",
    "print(x, y, z)  "
   ]
  },
  {
   "cell_type": "markdown",
   "id": "f7127a58-11b6-47e0-9d47-7703f5f917ee",
   "metadata": {},
   "source": [
    "* 언패킹 시 변수 개수와 요소 개수: 튜플의 요소 개수와 변수가 정확히 일치하지 않으면 에러가 발생하지만, 별(*) 문법을 사용하면 가변적으로 처리할 수 있습니다."
   ]
  },
  {
   "cell_type": "code",
   "execution_count": 12,
   "id": "c698276e-a48f-4f6b-bfbd-1e14f4acb50e",
   "metadata": {},
   "outputs": [
    {
     "name": "stdout",
     "output_type": "stream",
     "text": [
      "1\n",
      "2\n",
      "[3, 4, 5]\n",
      "[1, 2, 3]\n",
      "4\n",
      "5\n"
     ]
    }
   ],
   "source": [
    "# 별(*)을 활용한 언패킹\n",
    "numbers = (1, 2, 3, 4, 5)\n",
    "\n",
    "a, b, *rest = numbers\n",
    "print(a)     # 1\n",
    "print(b)     # 2\n",
    "print(rest)  # [3, 4, 5]  (리스트 형태로 묶임)\n",
    "\n",
    "# 여러 위치에서도 별(*) 사용 가능\n",
    "*x, y, z = numbers\n",
    "print(x)  # [1, 2, 3]\n",
    "print(y)  # 4\n",
    "print(z)  # 5"
   ]
  },
  {
   "cell_type": "markdown",
   "id": "8ea81c74-435c-42c5-85ca-578c7f23173d",
   "metadata": {},
   "source": [
    "* 언패킹 응용: 변수 교환 - 파이썬에서는 튜플 언패킹을 이용해 간단히 두 변수의 값을 교환할 수 있습니다."
   ]
  },
  {
   "cell_type": "code",
   "execution_count": 13,
   "id": "29d39f4f-c4b1-4c0a-be5f-6da9059a8eac",
   "metadata": {},
   "outputs": [
    {
     "name": "stdout",
     "output_type": "stream",
     "text": [
      "20 10\n"
     ]
    }
   ],
   "source": [
    "x = 10\n",
    "y = 20\n",
    "\n",
    "x, y = y, x  # 간단한 교환\n",
    "print(x, y)  # 20 10"
   ]
  },
  {
   "cell_type": "markdown",
   "id": "948f088c-f94f-485e-96bb-1116503248f3",
   "metadata": {},
   "source": [
    "## 3. list() & tuple()\n",
    "* list()"
   ]
  },
  {
   "cell_type": "code",
   "execution_count": 1,
   "id": "08edba8e-14c4-423f-8d97-a4dfc024b7bd",
   "metadata": {},
   "outputs": [
    {
     "name": "stdout",
     "output_type": "stream",
     "text": [
      "['h', 'e', 'l', 'l', 'o']\n",
      "[1, 2, 3]\n",
      "[4, 5, 6]\n",
      "['a', 'b']\n"
     ]
    }
   ],
   "source": [
    "# 문자열 → 리스트\n",
    "print(list(\"hello\"))  # ['h', 'e', 'l', 'l', 'o']\n",
    "\n",
    "# 튜플 → 리스트\n",
    "print(list((1, 2, 3)))  # [1, 2, 3]\n",
    "\n",
    "# 집합 → 리스트\n",
    "print(list({4, 5, 6}))  # [4, 5, 6] (순서는 비결정적)\n",
    "\n",
    "# 딕셔너리 → 리스트 (키만 포함)\n",
    "print(list({\"a\": 1, \"b\": 2}))  # ['a', 'b']"
   ]
  },
  {
   "cell_type": "code",
   "execution_count": 2,
   "id": "d5f5f0fe-e220-4219-a0ab-3ecee3514489",
   "metadata": {},
   "outputs": [
    {
     "name": "stdout",
     "output_type": "stream",
     "text": [
      "[]\n"
     ]
    }
   ],
   "source": [
    "empty_list = list()\n",
    "print(empty_list)  # []"
   ]
  },
  {
   "cell_type": "code",
   "execution_count": 3,
   "id": "3ed807e6-c195-451a-a064-34de84e5c373",
   "metadata": {},
   "outputs": [
    {
     "name": "stdout",
     "output_type": "stream",
     "text": [
      "[0, 1, 2, 3, 4]\n"
     ]
    }
   ],
   "source": [
    "# range 객체 → 리스트\n",
    "print(list(range(5)))  # [0, 1, 2, 3, 4]"
   ]
  },
  {
   "cell_type": "markdown",
   "id": "02dba55b-8e20-455f-985d-26c953e8a539",
   "metadata": {},
   "source": [
    "* tuple()"
   ]
  },
  {
   "cell_type": "code",
   "execution_count": 4,
   "id": "25bfad7c-8729-4c31-ad6a-265ea02962a2",
   "metadata": {},
   "outputs": [
    {
     "name": "stdout",
     "output_type": "stream",
     "text": [
      "('h', 'e', 'l', 'l', 'o')\n",
      "(1, 2, 3)\n",
      "(4, 5, 6)\n",
      "('a', 'b')\n"
     ]
    }
   ],
   "source": [
    "# 문자열 → 튜플\n",
    "print(tuple(\"hello\"))  # ('h', 'e', 'l', 'l', 'o')\n",
    "\n",
    "# 리스트 → 튜플\n",
    "print(tuple([1, 2, 3]))  # (1, 2, 3)\n",
    "\n",
    "# 집합 → 튜플\n",
    "print(tuple({4, 5, 6}))  # (4, 5, 6) (순서는 비결정적)\n",
    "\n",
    "# 딕셔너리 → 튜플 (키만 포함)\n",
    "print(tuple({\"a\": 1, \"b\": 2}))  # ('a', 'b')"
   ]
  },
  {
   "cell_type": "code",
   "execution_count": 5,
   "id": "ff0f7d34-8ae3-4fa0-818e-b264f7aa97e9",
   "metadata": {},
   "outputs": [
    {
     "name": "stdout",
     "output_type": "stream",
     "text": [
      "()\n"
     ]
    }
   ],
   "source": [
    "empty_tuple = tuple()\n",
    "print(empty_tuple)  # ()"
   ]
  },
  {
   "cell_type": "code",
   "execution_count": 6,
   "id": "151a6175-a7a5-45ab-9499-2a6a2b43b5f8",
   "metadata": {},
   "outputs": [
    {
     "name": "stdout",
     "output_type": "stream",
     "text": [
      "(0, 1, 2, 3, 4)\n"
     ]
    }
   ],
   "source": [
    "# range 객체 → 튜플\n",
    "print(tuple(range(5)))  # (0, 1, 2, 3, 4)"
   ]
  },
  {
   "cell_type": "markdown",
   "id": "8040982d-f312-4a64-bf94-f65308aad7aa",
   "metadata": {},
   "source": [
    "## 연습문제\n",
    "1. 리스트 생성: 숫자 1, 2, 3을 담고 있는 리스트를 생성하고, 리스트 전체를 출력하세요."
   ]
  },
  {
   "cell_type": "code",
   "execution_count": 1,
   "id": "7072dbf6-e053-4f57-8db4-68729ba7ad4b",
   "metadata": {},
   "outputs": [
    {
     "data": {
      "text/plain": [
       "[1, 2, 3]"
      ]
     },
     "execution_count": 1,
     "metadata": {},
     "output_type": "execute_result"
    }
   ],
   "source": [
    "a = [1,2,3]\n",
    "a"
   ]
  },
  {
   "cell_type": "markdown",
   "id": "bc60b4ef-7c05-486e-a8bd-2abfc8150352",
   "metadata": {},
   "source": [
    "2. 리스트 [10, 20, 30, 40, 50]에서 인덱싱을 사용해 첫 번째 요소(10)와 마지막 요소(50)를 출력해보세요."
   ]
  },
  {
   "cell_type": "code",
   "execution_count": 4,
   "id": "d12a5521-ab1a-4476-ac18-fc395959e98d",
   "metadata": {},
   "outputs": [
    {
     "name": "stdout",
     "output_type": "stream",
     "text": [
      "10 50\n"
     ]
    }
   ],
   "source": [
    "a = [10, 20, 30, 40, 50]\n",
    "print(a[0], a[4])           # 마지막은 -1이라고 생각 "
   ]
  },
  {
   "cell_type": "markdown",
   "id": "d3a49657-5dde-4dd0-8ed2-6f3e22ccad71",
   "metadata": {},
   "source": [
    "3. 리스트 [1, 2, 3, 4, 5]에서 슬라이싱을 사용해 [2, 3, 4]만 추출해서 출력해보세요."
   ]
  },
  {
   "cell_type": "code",
   "execution_count": 6,
   "id": "7ae5bcbb-fb80-4e57-b86d-2b0843e5e43b",
   "metadata": {},
   "outputs": [
    {
     "data": {
      "text/plain": [
       "[2, 3, 4]"
      ]
     },
     "execution_count": 6,
     "metadata": {},
     "output_type": "execute_result"
    }
   ],
   "source": [
    "a =  [1, 2, 3, 4, 5]\n",
    "a[1:4]       # 마지막 전까지니까 a[1:-1]과 같음"
   ]
  },
  {
   "cell_type": "markdown",
   "id": "e936ce98-1814-4717-8490-02c9f64ac3b0",
   "metadata": {},
   "source": [
    "4. 리스트 [\"apple\", \"banana\"]에 \"orange\"를 append()를 이용해 추가하고 결과를 출력하세요."
   ]
  },
  {
   "cell_type": "code",
   "execution_count": 9,
   "id": "069a7abc-3fd4-4a17-8353-0e71e3776e1d",
   "metadata": {},
   "outputs": [
    {
     "data": {
      "text/plain": [
       "['apple', 'banana', 'orange']"
      ]
     },
     "execution_count": 9,
     "metadata": {},
     "output_type": "execute_result"
    }
   ],
   "source": [
    "a = [\"apple\", \"banana\"]\n",
    "a.append(\"orange\")\n",
    "a"
   ]
  },
  {
   "cell_type": "markdown",
   "id": "450d7ffc-2408-4d90-a6e8-9186c092b9d9",
   "metadata": {},
   "source": [
    "5. 튜플 (10, 20, 30)에서 **두 번째 요소(20)**만 인덱싱을 통해 출력해보세요."
   ]
  },
  {
   "cell_type": "code",
   "execution_count": 32,
   "id": "006f87f1-6ded-48b1-aa11-d6f119d2042e",
   "metadata": {},
   "outputs": [
    {
     "data": {
      "text/plain": [
       "20"
      ]
     },
     "execution_count": 32,
     "metadata": {},
     "output_type": "execute_result"
    }
   ],
   "source": [
    "a = (10, 20, 30)\n",
    "a[1]"
   ]
  },
  {
   "cell_type": "markdown",
   "id": "efc1e11c-e844-4e2b-b47f-0f4f6195b047",
   "metadata": {},
   "source": [
    "6. 리스트 a = [1, 2]에 extend() 메서드를 사용해 [3, 4]를 합쳐 새로운 리스트를 만들고 출력하세요."
   ]
  },
  {
   "cell_type": "code",
   "execution_count": 34,
   "id": "1dffde2b-dad5-464b-82cb-cd0adfb5a369",
   "metadata": {},
   "outputs": [
    {
     "data": {
      "text/plain": [
       "[1, 2, 3, 4]"
      ]
     },
     "execution_count": 34,
     "metadata": {},
     "output_type": "execute_result"
    }
   ],
   "source": [
    "a = [1, 2]\n",
    "b = [3, 4]\n",
    "a.extend(b)\n",
    "a"
   ]
  },
  {
   "cell_type": "markdown",
   "id": "85fe96d1-9732-4bf0-ba36-a0c01e100de5",
   "metadata": {},
   "source": [
    "7. 리스트 numbers = [3, 1, 4, 2, 5]를 오름차순으로 정렬(sort())한 뒤 출력하세요. 이후 내림차순으로도 정렬(sort(reverse=True))하고 결과를 출력해보세요."
   ]
  },
  {
   "cell_type": "code",
   "execution_count": 20,
   "id": "50a9c00c-fa72-4a42-bd4f-234fafede038",
   "metadata": {},
   "outputs": [
    {
     "name": "stdout",
     "output_type": "stream",
     "text": [
      "[5, 4, 3, 2, 1]\n"
     ]
    }
   ],
   "source": [
    "numbers = [3, 1, 4, 2, 5]\n",
    "#numbers.sort()\n",
    "numbers.sort(reverse=True)\n",
    "print(numbers)"
   ]
  },
  {
   "cell_type": "markdown",
   "id": "c2294eed-1046-4ad6-91f0-95e41f1fd858",
   "metadata": {},
   "source": [
    "8. 리스트 fruits = [\"apple\", \"banana\", \"cherry\"]에서 \"banana\"를 remove()로 삭제하고 결과를 출력하세요. 이후 pop()을 사용해 마지막 요소를 꺼내고, 꺼낸 요소와 최종 리스트를 모두 출력해보세요."
   ]
  },
  {
   "cell_type": "code",
   "execution_count": 21,
   "id": "3a8cbf60-ced5-47b5-8435-d02cc0dc8a5b",
   "metadata": {},
   "outputs": [
    {
     "name": "stdout",
     "output_type": "stream",
     "text": [
      "['apple', 'cherry']\n",
      "cherry ['apple']\n"
     ]
    }
   ],
   "source": [
    "fruits = [\"apple\", \"banana\", \"cherry\"]\n",
    "fruits.remove(\"banana\")\n",
    "print(fruits)\n",
    "a = fruits.pop(1)\n",
    "print(a, fruits)"
   ]
  },
  {
   "cell_type": "markdown",
   "id": "863e4497-e3bf-443c-a6f7-0c77113122df",
   "metadata": {},
   "source": [
    "9. 튜플 x, y, z = (10, 20, 30)을 언패킹하여 x, y, z 값을 각각 출력해보세요."
   ]
  },
  {
   "cell_type": "code",
   "execution_count": 22,
   "id": "469b0acb-49b1-4473-90ca-195f93a366f0",
   "metadata": {},
   "outputs": [
    {
     "name": "stdout",
     "output_type": "stream",
     "text": [
      "10 20 30\n"
     ]
    }
   ],
   "source": [
    "x, y, z = (10, 20, 30)\n",
    "print(x,y,z)"
   ]
  },
  {
   "cell_type": "markdown",
   "id": "6e757d2e-e3f2-47d2-b5ef-68a30b74c9ce",
   "metadata": {},
   "source": [
    "10. 튜플 my_tuple = (1, 2, 3, 4, 5)에서 슬라이싱을 사용해 처음 3개(1, 2, 3)만 추출해서 출력해보세요."
   ]
  },
  {
   "cell_type": "code",
   "execution_count": 24,
   "id": "6d4119c2-657e-401e-b7a3-0f56bcdae606",
   "metadata": {},
   "outputs": [
    {
     "data": {
      "text/plain": [
       "(1, 2, 3)"
      ]
     },
     "execution_count": 24,
     "metadata": {},
     "output_type": "execute_result"
    }
   ],
   "source": [
    "my_tuple = (1, 2, 3, 4, 5)\n",
    "my_tuple[:3]"
   ]
  },
  {
   "cell_type": "markdown",
   "id": "430038c1-01f7-42be-9237-94d68922ed91",
   "metadata": {},
   "source": [
    "11. 리스트 data = [5, 3, 1, 4, 2]에 대해 reverse()를 사용해 순서를 단순히 뒤집은 결과와 sort()를 사용해 오름차순 정렬한 결과, 두 결과가 어떻게 다른지 비교해서 출력해보세요."
   ]
  },
  {
   "cell_type": "code",
   "execution_count": 26,
   "id": "1ae27c97-81bd-457e-84a1-900bb02adcbb",
   "metadata": {},
   "outputs": [
    {
     "name": "stdout",
     "output_type": "stream",
     "text": [
      "[2, 4, 1, 3, 5]\n",
      "[1, 2, 3, 4, 5]\n"
     ]
    }
   ],
   "source": [
    "data = [5, 3, 1, 4, 2]\n",
    "data.reverse()\n",
    "print(data)\n",
    "data = [5, 3, 1, 4, 2]\n",
    "data.sort()\n",
    "print(data)"
   ]
  },
  {
   "cell_type": "markdown",
   "id": "1d45e0b8-789c-4cf9-aff7-0c7f05698511",
   "metadata": {},
   "source": [
    "12. 튜플 t1 = (1, 2), t2 = (3, 4)를 더하기 연산자로 합쳐 (1, 2, 3, 4)를 만들고, 결과를 출력해보세요."
   ]
  },
  {
   "cell_type": "code",
   "execution_count": 27,
   "id": "99846d16-8ed6-4862-8f90-75e220a21216",
   "metadata": {},
   "outputs": [
    {
     "data": {
      "text/plain": [
       "(1, 2, 3, 4)"
      ]
     },
     "execution_count": 27,
     "metadata": {},
     "output_type": "execute_result"
    }
   ],
   "source": [
    "t1 = (1, 2)\n",
    "t2 = (3, 4)\n",
    "\n",
    "t1 + t2"
   ]
  },
  {
   "cell_type": "markdown",
   "id": "b432eb09-6fd1-471b-a5b1-58a66f58ad22",
   "metadata": {},
   "source": [
    "13. 튜플 (1,2,3)을 튜플 (4,3,2,1)로 만들어보세요."
   ]
  },
  {
   "cell_type": "code",
   "execution_count": 31,
   "id": "19e2ed8e-a1bf-4a0a-9f45-8d78ed8e22a4",
   "metadata": {},
   "outputs": [
    {
     "data": {
      "text/plain": [
       "(4, 3, 2, 1)"
      ]
     },
     "execution_count": 31,
     "metadata": {},
     "output_type": "execute_result"
    }
   ],
   "source": [
    "a = list((1,2,3))\n",
    "a.append(4)\n",
    "a.reverse()\n",
    "tuple(a)"
   ]
  },
  {
   "cell_type": "code",
   "execution_count": null,
   "id": "04f1c606-43c9-4c6e-bfc9-411dc3cdc96f",
   "metadata": {},
   "outputs": [],
   "source": []
  }
 ],
 "metadata": {
  "kernelspec": {
   "display_name": "Python 3 (ipykernel)",
   "language": "python",
   "name": "python3"
  },
  "language_info": {
   "codemirror_mode": {
    "name": "ipython",
    "version": 3
   },
   "file_extension": ".py",
   "mimetype": "text/x-python",
   "name": "python",
   "nbconvert_exporter": "python",
   "pygments_lexer": "ipython3",
   "version": "3.12.7"
  }
 },
 "nbformat": 4,
 "nbformat_minor": 5
}
