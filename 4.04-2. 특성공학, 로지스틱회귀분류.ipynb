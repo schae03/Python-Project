{
 "cells": [
  {
   "cell_type": "code",
   "execution_count": 1,
   "id": "dd77ddd2-ce77-42d8-a620-e6d4d319d255",
   "metadata": {},
   "outputs": [
    {
     "data": {
      "text/html": [
       "<div>\n",
       "<style scoped>\n",
       "    .dataframe tbody tr th:only-of-type {\n",
       "        vertical-align: middle;\n",
       "    }\n",
       "\n",
       "    .dataframe tbody tr th {\n",
       "        vertical-align: top;\n",
       "    }\n",
       "\n",
       "    .dataframe thead th {\n",
       "        text-align: right;\n",
       "    }\n",
       "</style>\n",
       "<table border=\"1\" class=\"dataframe\">\n",
       "  <thead>\n",
       "    <tr style=\"text-align: right;\">\n",
       "      <th></th>\n",
       "      <th>length</th>\n",
       "      <th>weight</th>\n",
       "    </tr>\n",
       "  </thead>\n",
       "  <tbody>\n",
       "    <tr>\n",
       "      <th>0</th>\n",
       "      <td>8.4</td>\n",
       "      <td>5.9</td>\n",
       "    </tr>\n",
       "    <tr>\n",
       "      <th>1</th>\n",
       "      <td>13.7</td>\n",
       "      <td>32.0</td>\n",
       "    </tr>\n",
       "    <tr>\n",
       "      <th>2</th>\n",
       "      <td>15.0</td>\n",
       "      <td>40.0</td>\n",
       "    </tr>\n",
       "    <tr>\n",
       "      <th>3</th>\n",
       "      <td>16.2</td>\n",
       "      <td>51.5</td>\n",
       "    </tr>\n",
       "    <tr>\n",
       "      <th>4</th>\n",
       "      <td>17.4</td>\n",
       "      <td>70.0</td>\n",
       "    </tr>\n",
       "  </tbody>\n",
       "</table>\n",
       "</div>"
      ],
      "text/plain": [
       "   length  weight\n",
       "0     8.4     5.9\n",
       "1    13.7    32.0\n",
       "2    15.0    40.0\n",
       "3    16.2    51.5\n",
       "4    17.4    70.0"
      ]
     },
     "execution_count": 1,
     "metadata": {},
     "output_type": "execute_result"
    }
   ],
   "source": [
    "from sklearn.linear_model import LinearRegression, ElasticNet\n",
    "import pandas as pd\n",
    "perch = pd.read_csv(\"Data/perch.csv\")\n",
    "perch.head()"
   ]
  },
  {
   "cell_type": "code",
   "execution_count": 3,
   "id": "a004754e-6725-4b77-a87e-bebc783fe251",
   "metadata": {},
   "outputs": [
    {
     "data": {
      "text/html": [
       "<div>\n",
       "<style scoped>\n",
       "    .dataframe tbody tr th:only-of-type {\n",
       "        vertical-align: middle;\n",
       "    }\n",
       "\n",
       "    .dataframe tbody tr th {\n",
       "        vertical-align: top;\n",
       "    }\n",
       "\n",
       "    .dataframe thead th {\n",
       "        text-align: right;\n",
       "    }\n",
       "</style>\n",
       "<table border=\"1\" class=\"dataframe\">\n",
       "  <thead>\n",
       "    <tr style=\"text-align: right;\">\n",
       "      <th></th>\n",
       "      <th>length</th>\n",
       "      <th>weight</th>\n",
       "      <th>length^2</th>\n",
       "    </tr>\n",
       "  </thead>\n",
       "  <tbody>\n",
       "    <tr>\n",
       "      <th>0</th>\n",
       "      <td>8.4</td>\n",
       "      <td>5.9</td>\n",
       "      <td>70.56</td>\n",
       "    </tr>\n",
       "    <tr>\n",
       "      <th>1</th>\n",
       "      <td>13.7</td>\n",
       "      <td>32.0</td>\n",
       "      <td>187.69</td>\n",
       "    </tr>\n",
       "    <tr>\n",
       "      <th>2</th>\n",
       "      <td>15.0</td>\n",
       "      <td>40.0</td>\n",
       "      <td>225.00</td>\n",
       "    </tr>\n",
       "    <tr>\n",
       "      <th>3</th>\n",
       "      <td>16.2</td>\n",
       "      <td>51.5</td>\n",
       "      <td>262.44</td>\n",
       "    </tr>\n",
       "    <tr>\n",
       "      <th>4</th>\n",
       "      <td>17.4</td>\n",
       "      <td>70.0</td>\n",
       "      <td>302.76</td>\n",
       "    </tr>\n",
       "  </tbody>\n",
       "</table>\n",
       "</div>"
      ],
      "text/plain": [
       "   length  weight  length^2\n",
       "0     8.4     5.9     70.56\n",
       "1    13.7    32.0    187.69\n",
       "2    15.0    40.0    225.00\n",
       "3    16.2    51.5    262.44\n",
       "4    17.4    70.0    302.76"
      ]
     },
     "execution_count": 3,
     "metadata": {},
     "output_type": "execute_result"
    }
   ],
   "source": [
    "perch[\"length^2\"] = perch[\"length\"] ** 2     # length의 제곱을 파생변수로 추가 \n",
    "perch.head()"
   ]
  },
  {
   "cell_type": "code",
   "execution_count": 4,
   "id": "d328d7a1-0b48-4d16-899d-d524d4289521",
   "metadata": {},
   "outputs": [
    {
     "data": {
      "text/html": [
       "<style>#sk-container-id-1 {\n",
       "  /* Definition of color scheme common for light and dark mode */\n",
       "  --sklearn-color-text: black;\n",
       "  --sklearn-color-line: gray;\n",
       "  /* Definition of color scheme for unfitted estimators */\n",
       "  --sklearn-color-unfitted-level-0: #fff5e6;\n",
       "  --sklearn-color-unfitted-level-1: #f6e4d2;\n",
       "  --sklearn-color-unfitted-level-2: #ffe0b3;\n",
       "  --sklearn-color-unfitted-level-3: chocolate;\n",
       "  /* Definition of color scheme for fitted estimators */\n",
       "  --sklearn-color-fitted-level-0: #f0f8ff;\n",
       "  --sklearn-color-fitted-level-1: #d4ebff;\n",
       "  --sklearn-color-fitted-level-2: #b3dbfd;\n",
       "  --sklearn-color-fitted-level-3: cornflowerblue;\n",
       "\n",
       "  /* Specific color for light theme */\n",
       "  --sklearn-color-text-on-default-background: var(--sg-text-color, var(--theme-code-foreground, var(--jp-content-font-color1, black)));\n",
       "  --sklearn-color-background: var(--sg-background-color, var(--theme-background, var(--jp-layout-color0, white)));\n",
       "  --sklearn-color-border-box: var(--sg-text-color, var(--theme-code-foreground, var(--jp-content-font-color1, black)));\n",
       "  --sklearn-color-icon: #696969;\n",
       "\n",
       "  @media (prefers-color-scheme: dark) {\n",
       "    /* Redefinition of color scheme for dark theme */\n",
       "    --sklearn-color-text-on-default-background: var(--sg-text-color, var(--theme-code-foreground, var(--jp-content-font-color1, white)));\n",
       "    --sklearn-color-background: var(--sg-background-color, var(--theme-background, var(--jp-layout-color0, #111)));\n",
       "    --sklearn-color-border-box: var(--sg-text-color, var(--theme-code-foreground, var(--jp-content-font-color1, white)));\n",
       "    --sklearn-color-icon: #878787;\n",
       "  }\n",
       "}\n",
       "\n",
       "#sk-container-id-1 {\n",
       "  color: var(--sklearn-color-text);\n",
       "}\n",
       "\n",
       "#sk-container-id-1 pre {\n",
       "  padding: 0;\n",
       "}\n",
       "\n",
       "#sk-container-id-1 input.sk-hidden--visually {\n",
       "  border: 0;\n",
       "  clip: rect(1px 1px 1px 1px);\n",
       "  clip: rect(1px, 1px, 1px, 1px);\n",
       "  height: 1px;\n",
       "  margin: -1px;\n",
       "  overflow: hidden;\n",
       "  padding: 0;\n",
       "  position: absolute;\n",
       "  width: 1px;\n",
       "}\n",
       "\n",
       "#sk-container-id-1 div.sk-dashed-wrapped {\n",
       "  border: 1px dashed var(--sklearn-color-line);\n",
       "  margin: 0 0.4em 0.5em 0.4em;\n",
       "  box-sizing: border-box;\n",
       "  padding-bottom: 0.4em;\n",
       "  background-color: var(--sklearn-color-background);\n",
       "}\n",
       "\n",
       "#sk-container-id-1 div.sk-container {\n",
       "  /* jupyter's `normalize.less` sets `[hidden] { display: none; }`\n",
       "     but bootstrap.min.css set `[hidden] { display: none !important; }`\n",
       "     so we also need the `!important` here to be able to override the\n",
       "     default hidden behavior on the sphinx rendered scikit-learn.org.\n",
       "     See: https://github.com/scikit-learn/scikit-learn/issues/21755 */\n",
       "  display: inline-block !important;\n",
       "  position: relative;\n",
       "}\n",
       "\n",
       "#sk-container-id-1 div.sk-text-repr-fallback {\n",
       "  display: none;\n",
       "}\n",
       "\n",
       "div.sk-parallel-item,\n",
       "div.sk-serial,\n",
       "div.sk-item {\n",
       "  /* draw centered vertical line to link estimators */\n",
       "  background-image: linear-gradient(var(--sklearn-color-text-on-default-background), var(--sklearn-color-text-on-default-background));\n",
       "  background-size: 2px 100%;\n",
       "  background-repeat: no-repeat;\n",
       "  background-position: center center;\n",
       "}\n",
       "\n",
       "/* Parallel-specific style estimator block */\n",
       "\n",
       "#sk-container-id-1 div.sk-parallel-item::after {\n",
       "  content: \"\";\n",
       "  width: 100%;\n",
       "  border-bottom: 2px solid var(--sklearn-color-text-on-default-background);\n",
       "  flex-grow: 1;\n",
       "}\n",
       "\n",
       "#sk-container-id-1 div.sk-parallel {\n",
       "  display: flex;\n",
       "  align-items: stretch;\n",
       "  justify-content: center;\n",
       "  background-color: var(--sklearn-color-background);\n",
       "  position: relative;\n",
       "}\n",
       "\n",
       "#sk-container-id-1 div.sk-parallel-item {\n",
       "  display: flex;\n",
       "  flex-direction: column;\n",
       "}\n",
       "\n",
       "#sk-container-id-1 div.sk-parallel-item:first-child::after {\n",
       "  align-self: flex-end;\n",
       "  width: 50%;\n",
       "}\n",
       "\n",
       "#sk-container-id-1 div.sk-parallel-item:last-child::after {\n",
       "  align-self: flex-start;\n",
       "  width: 50%;\n",
       "}\n",
       "\n",
       "#sk-container-id-1 div.sk-parallel-item:only-child::after {\n",
       "  width: 0;\n",
       "}\n",
       "\n",
       "/* Serial-specific style estimator block */\n",
       "\n",
       "#sk-container-id-1 div.sk-serial {\n",
       "  display: flex;\n",
       "  flex-direction: column;\n",
       "  align-items: center;\n",
       "  background-color: var(--sklearn-color-background);\n",
       "  padding-right: 1em;\n",
       "  padding-left: 1em;\n",
       "}\n",
       "\n",
       "\n",
       "/* Toggleable style: style used for estimator/Pipeline/ColumnTransformer box that is\n",
       "clickable and can be expanded/collapsed.\n",
       "- Pipeline and ColumnTransformer use this feature and define the default style\n",
       "- Estimators will overwrite some part of the style using the `sk-estimator` class\n",
       "*/\n",
       "\n",
       "/* Pipeline and ColumnTransformer style (default) */\n",
       "\n",
       "#sk-container-id-1 div.sk-toggleable {\n",
       "  /* Default theme specific background. It is overwritten whether we have a\n",
       "  specific estimator or a Pipeline/ColumnTransformer */\n",
       "  background-color: var(--sklearn-color-background);\n",
       "}\n",
       "\n",
       "/* Toggleable label */\n",
       "#sk-container-id-1 label.sk-toggleable__label {\n",
       "  cursor: pointer;\n",
       "  display: block;\n",
       "  width: 100%;\n",
       "  margin-bottom: 0;\n",
       "  padding: 0.5em;\n",
       "  box-sizing: border-box;\n",
       "  text-align: center;\n",
       "}\n",
       "\n",
       "#sk-container-id-1 label.sk-toggleable__label-arrow:before {\n",
       "  /* Arrow on the left of the label */\n",
       "  content: \"▸\";\n",
       "  float: left;\n",
       "  margin-right: 0.25em;\n",
       "  color: var(--sklearn-color-icon);\n",
       "}\n",
       "\n",
       "#sk-container-id-1 label.sk-toggleable__label-arrow:hover:before {\n",
       "  color: var(--sklearn-color-text);\n",
       "}\n",
       "\n",
       "/* Toggleable content - dropdown */\n",
       "\n",
       "#sk-container-id-1 div.sk-toggleable__content {\n",
       "  max-height: 0;\n",
       "  max-width: 0;\n",
       "  overflow: hidden;\n",
       "  text-align: left;\n",
       "  /* unfitted */\n",
       "  background-color: var(--sklearn-color-unfitted-level-0);\n",
       "}\n",
       "\n",
       "#sk-container-id-1 div.sk-toggleable__content.fitted {\n",
       "  /* fitted */\n",
       "  background-color: var(--sklearn-color-fitted-level-0);\n",
       "}\n",
       "\n",
       "#sk-container-id-1 div.sk-toggleable__content pre {\n",
       "  margin: 0.2em;\n",
       "  border-radius: 0.25em;\n",
       "  color: var(--sklearn-color-text);\n",
       "  /* unfitted */\n",
       "  background-color: var(--sklearn-color-unfitted-level-0);\n",
       "}\n",
       "\n",
       "#sk-container-id-1 div.sk-toggleable__content.fitted pre {\n",
       "  /* unfitted */\n",
       "  background-color: var(--sklearn-color-fitted-level-0);\n",
       "}\n",
       "\n",
       "#sk-container-id-1 input.sk-toggleable__control:checked~div.sk-toggleable__content {\n",
       "  /* Expand drop-down */\n",
       "  max-height: 200px;\n",
       "  max-width: 100%;\n",
       "  overflow: auto;\n",
       "}\n",
       "\n",
       "#sk-container-id-1 input.sk-toggleable__control:checked~label.sk-toggleable__label-arrow:before {\n",
       "  content: \"▾\";\n",
       "}\n",
       "\n",
       "/* Pipeline/ColumnTransformer-specific style */\n",
       "\n",
       "#sk-container-id-1 div.sk-label input.sk-toggleable__control:checked~label.sk-toggleable__label {\n",
       "  color: var(--sklearn-color-text);\n",
       "  background-color: var(--sklearn-color-unfitted-level-2);\n",
       "}\n",
       "\n",
       "#sk-container-id-1 div.sk-label.fitted input.sk-toggleable__control:checked~label.sk-toggleable__label {\n",
       "  background-color: var(--sklearn-color-fitted-level-2);\n",
       "}\n",
       "\n",
       "/* Estimator-specific style */\n",
       "\n",
       "/* Colorize estimator box */\n",
       "#sk-container-id-1 div.sk-estimator input.sk-toggleable__control:checked~label.sk-toggleable__label {\n",
       "  /* unfitted */\n",
       "  background-color: var(--sklearn-color-unfitted-level-2);\n",
       "}\n",
       "\n",
       "#sk-container-id-1 div.sk-estimator.fitted input.sk-toggleable__control:checked~label.sk-toggleable__label {\n",
       "  /* fitted */\n",
       "  background-color: var(--sklearn-color-fitted-level-2);\n",
       "}\n",
       "\n",
       "#sk-container-id-1 div.sk-label label.sk-toggleable__label,\n",
       "#sk-container-id-1 div.sk-label label {\n",
       "  /* The background is the default theme color */\n",
       "  color: var(--sklearn-color-text-on-default-background);\n",
       "}\n",
       "\n",
       "/* On hover, darken the color of the background */\n",
       "#sk-container-id-1 div.sk-label:hover label.sk-toggleable__label {\n",
       "  color: var(--sklearn-color-text);\n",
       "  background-color: var(--sklearn-color-unfitted-level-2);\n",
       "}\n",
       "\n",
       "/* Label box, darken color on hover, fitted */\n",
       "#sk-container-id-1 div.sk-label.fitted:hover label.sk-toggleable__label.fitted {\n",
       "  color: var(--sklearn-color-text);\n",
       "  background-color: var(--sklearn-color-fitted-level-2);\n",
       "}\n",
       "\n",
       "/* Estimator label */\n",
       "\n",
       "#sk-container-id-1 div.sk-label label {\n",
       "  font-family: monospace;\n",
       "  font-weight: bold;\n",
       "  display: inline-block;\n",
       "  line-height: 1.2em;\n",
       "}\n",
       "\n",
       "#sk-container-id-1 div.sk-label-container {\n",
       "  text-align: center;\n",
       "}\n",
       "\n",
       "/* Estimator-specific */\n",
       "#sk-container-id-1 div.sk-estimator {\n",
       "  font-family: monospace;\n",
       "  border: 1px dotted var(--sklearn-color-border-box);\n",
       "  border-radius: 0.25em;\n",
       "  box-sizing: border-box;\n",
       "  margin-bottom: 0.5em;\n",
       "  /* unfitted */\n",
       "  background-color: var(--sklearn-color-unfitted-level-0);\n",
       "}\n",
       "\n",
       "#sk-container-id-1 div.sk-estimator.fitted {\n",
       "  /* fitted */\n",
       "  background-color: var(--sklearn-color-fitted-level-0);\n",
       "}\n",
       "\n",
       "/* on hover */\n",
       "#sk-container-id-1 div.sk-estimator:hover {\n",
       "  /* unfitted */\n",
       "  background-color: var(--sklearn-color-unfitted-level-2);\n",
       "}\n",
       "\n",
       "#sk-container-id-1 div.sk-estimator.fitted:hover {\n",
       "  /* fitted */\n",
       "  background-color: var(--sklearn-color-fitted-level-2);\n",
       "}\n",
       "\n",
       "/* Specification for estimator info (e.g. \"i\" and \"?\") */\n",
       "\n",
       "/* Common style for \"i\" and \"?\" */\n",
       "\n",
       ".sk-estimator-doc-link,\n",
       "a:link.sk-estimator-doc-link,\n",
       "a:visited.sk-estimator-doc-link {\n",
       "  float: right;\n",
       "  font-size: smaller;\n",
       "  line-height: 1em;\n",
       "  font-family: monospace;\n",
       "  background-color: var(--sklearn-color-background);\n",
       "  border-radius: 1em;\n",
       "  height: 1em;\n",
       "  width: 1em;\n",
       "  text-decoration: none !important;\n",
       "  margin-left: 1ex;\n",
       "  /* unfitted */\n",
       "  border: var(--sklearn-color-unfitted-level-1) 1pt solid;\n",
       "  color: var(--sklearn-color-unfitted-level-1);\n",
       "}\n",
       "\n",
       ".sk-estimator-doc-link.fitted,\n",
       "a:link.sk-estimator-doc-link.fitted,\n",
       "a:visited.sk-estimator-doc-link.fitted {\n",
       "  /* fitted */\n",
       "  border: var(--sklearn-color-fitted-level-1) 1pt solid;\n",
       "  color: var(--sklearn-color-fitted-level-1);\n",
       "}\n",
       "\n",
       "/* On hover */\n",
       "div.sk-estimator:hover .sk-estimator-doc-link:hover,\n",
       ".sk-estimator-doc-link:hover,\n",
       "div.sk-label-container:hover .sk-estimator-doc-link:hover,\n",
       ".sk-estimator-doc-link:hover {\n",
       "  /* unfitted */\n",
       "  background-color: var(--sklearn-color-unfitted-level-3);\n",
       "  color: var(--sklearn-color-background);\n",
       "  text-decoration: none;\n",
       "}\n",
       "\n",
       "div.sk-estimator.fitted:hover .sk-estimator-doc-link.fitted:hover,\n",
       ".sk-estimator-doc-link.fitted:hover,\n",
       "div.sk-label-container:hover .sk-estimator-doc-link.fitted:hover,\n",
       ".sk-estimator-doc-link.fitted:hover {\n",
       "  /* fitted */\n",
       "  background-color: var(--sklearn-color-fitted-level-3);\n",
       "  color: var(--sklearn-color-background);\n",
       "  text-decoration: none;\n",
       "}\n",
       "\n",
       "/* Span, style for the box shown on hovering the info icon */\n",
       ".sk-estimator-doc-link span {\n",
       "  display: none;\n",
       "  z-index: 9999;\n",
       "  position: relative;\n",
       "  font-weight: normal;\n",
       "  right: .2ex;\n",
       "  padding: .5ex;\n",
       "  margin: .5ex;\n",
       "  width: min-content;\n",
       "  min-width: 20ex;\n",
       "  max-width: 50ex;\n",
       "  color: var(--sklearn-color-text);\n",
       "  box-shadow: 2pt 2pt 4pt #999;\n",
       "  /* unfitted */\n",
       "  background: var(--sklearn-color-unfitted-level-0);\n",
       "  border: .5pt solid var(--sklearn-color-unfitted-level-3);\n",
       "}\n",
       "\n",
       ".sk-estimator-doc-link.fitted span {\n",
       "  /* fitted */\n",
       "  background: var(--sklearn-color-fitted-level-0);\n",
       "  border: var(--sklearn-color-fitted-level-3);\n",
       "}\n",
       "\n",
       ".sk-estimator-doc-link:hover span {\n",
       "  display: block;\n",
       "}\n",
       "\n",
       "/* \"?\"-specific style due to the `<a>` HTML tag */\n",
       "\n",
       "#sk-container-id-1 a.estimator_doc_link {\n",
       "  float: right;\n",
       "  font-size: 1rem;\n",
       "  line-height: 1em;\n",
       "  font-family: monospace;\n",
       "  background-color: var(--sklearn-color-background);\n",
       "  border-radius: 1rem;\n",
       "  height: 1rem;\n",
       "  width: 1rem;\n",
       "  text-decoration: none;\n",
       "  /* unfitted */\n",
       "  color: var(--sklearn-color-unfitted-level-1);\n",
       "  border: var(--sklearn-color-unfitted-level-1) 1pt solid;\n",
       "}\n",
       "\n",
       "#sk-container-id-1 a.estimator_doc_link.fitted {\n",
       "  /* fitted */\n",
       "  border: var(--sklearn-color-fitted-level-1) 1pt solid;\n",
       "  color: var(--sklearn-color-fitted-level-1);\n",
       "}\n",
       "\n",
       "/* On hover */\n",
       "#sk-container-id-1 a.estimator_doc_link:hover {\n",
       "  /* unfitted */\n",
       "  background-color: var(--sklearn-color-unfitted-level-3);\n",
       "  color: var(--sklearn-color-background);\n",
       "  text-decoration: none;\n",
       "}\n",
       "\n",
       "#sk-container-id-1 a.estimator_doc_link.fitted:hover {\n",
       "  /* fitted */\n",
       "  background-color: var(--sklearn-color-fitted-level-3);\n",
       "}\n",
       "</style><div id=\"sk-container-id-1\" class=\"sk-top-container\"><div class=\"sk-text-repr-fallback\"><pre>LinearRegression()</pre><b>In a Jupyter environment, please rerun this cell to show the HTML representation or trust the notebook. <br />On GitHub, the HTML representation is unable to render, please try loading this page with nbviewer.org.</b></div><div class=\"sk-container\" hidden><div class=\"sk-item\"><div class=\"sk-estimator fitted sk-toggleable\"><input class=\"sk-toggleable__control sk-hidden--visually\" id=\"sk-estimator-id-1\" type=\"checkbox\" checked><label for=\"sk-estimator-id-1\" class=\"sk-toggleable__label fitted sk-toggleable__label-arrow fitted\">&nbsp;&nbsp;LinearRegression<a class=\"sk-estimator-doc-link fitted\" rel=\"noreferrer\" target=\"_blank\" href=\"https://scikit-learn.org/1.5/modules/generated/sklearn.linear_model.LinearRegression.html\">?<span>Documentation for LinearRegression</span></a><span class=\"sk-estimator-doc-link fitted\">i<span>Fitted</span></span></label><div class=\"sk-toggleable__content fitted\"><pre>LinearRegression()</pre></div> </div></div></div></div>"
      ],
      "text/plain": [
       "LinearRegression()"
      ]
     },
     "execution_count": 4,
     "metadata": {},
     "output_type": "execute_result"
    }
   ],
   "source": [
    "from sklearn.linear_model import LinearRegression\n",
    "\n",
    "X = perch.drop(\"weight\", axis = 1).values\n",
    "Y = perch[\"weight\"].values\n",
    "\n",
    "model = LinearRegression()\n",
    "model.fit(X, Y)"
   ]
  },
  {
   "cell_type": "code",
   "execution_count": 6,
   "id": "2ab71709-f835-4b98-a632-61736ea34b23",
   "metadata": {},
   "outputs": [
    {
     "data": {
      "image/png": "[encoded data removed]",
      "text/plain": [
       "<Figure size 640x480 with 1 Axes>"
      ]
     },
     "metadata": {},
     "output_type": "display_data"
    }
   ],
   "source": [
    "import matplotlib.pyplot as plt\n",
    "plt.scatter(X[:,0], Y)\n",
    "plt.grid()\n",
    "plt.show()"
   ]
  },
  {
   "cell_type": "code",
   "execution_count": 8,
   "id": "dab86266-b728-4a38-897b-0f75d25ccd9f",
   "metadata": {},
   "outputs": [
    {
     "data": {
      "text/plain": [
       "array([-22.4189282 ,   1.02094922])"
      ]
     },
     "execution_count": 8,
     "metadata": {},
     "output_type": "execute_result"
    }
   ],
   "source": [
    "model.coef_"
   ]
  },
  {
   "cell_type": "code",
   "execution_count": 9,
   "id": "9fb89984-38b9-4130-89b8-ed751d0280ab",
   "metadata": {},
   "outputs": [
    {
     "data": {
      "text/plain": [
       "131.64531969896075"
      ]
     },
     "execution_count": 9,
     "metadata": {},
     "output_type": "execute_result"
    }
   ],
   "source": [
    "model.intercept_"
   ]
  },
  {
   "cell_type": "code",
   "execution_count": 10,
   "id": "796295dd-b1f1-4766-b0d2-7a2a7475f209",
   "metadata": {},
   "outputs": [
    {
     "data": {
      "text/plain": [
       "array([10, 11, 12, 13, 14, 15, 16, 17, 18, 19, 20, 21, 22, 23, 24, 25, 26,\n",
       "       27, 28, 29, 30, 31, 32, 33, 34, 35, 36, 37, 38, 39, 40, 41, 42, 43,\n",
       "       44, 45])"
      ]
     },
     "execution_count": 10,
     "metadata": {},
     "output_type": "execute_result"
    }
   ],
   "source": [
    "import numpy as np\n",
    "point = np.arange(10,46)\n",
    "point"
   ]
  },
  {
   "cell_type": "code",
   "execution_count": 11,
   "id": "15f02b1a-65c5-44a6-aabc-c15e0093f778",
   "metadata": {},
   "outputs": [
    {
     "data": {
      "image/png": "[encoded data removed]",
      "text/plain": [
       "<Figure size 640x480 with 1 Axes>"
      ]
     },
     "metadata": {},
     "output_type": "display_data"
    }
   ],
   "source": [
    "import matplotlib.pyplot as plt\n",
    "plt.scatter(X[:,0], Y)\n",
    "plt.plot(point, point*-22.4189282 + (point**2)*1.02094922 + 131.64531969896075, color = \"red\")\n",
    "plt.grid()\n",
    "plt.show()"
   ]
  },
  {
   "cell_type": "markdown",
   "id": "0fba6d1e-8c50-4e99-9dce-90c88064618e",
   "metadata": {},
   "source": [
    "# 특성공학"
   ]
  },
  {
   "cell_type": "code",
   "execution_count": 19,
   "id": "7f54cf21-14cb-4970-b7e9-99b8472e1d1b",
   "metadata": {},
   "outputs": [
    {
     "name": "stdout",
     "output_type": "stream",
     "text": [
      "0.9345727190845482\n",
      "0.9670276974663286\n"
     ]
    }
   ],
   "source": [
    "perch = pd.read_csv(\"Data/perch2.csv\")\n",
    "\n",
    "# 문제지 정답지\n",
    "X = perch.drop(\"weight\", axis = 1)\n",
    "Y = perch[\"weight\"]\n",
    "\n",
    "# 데이터분할\n",
    "from sklearn.model_selection import train_test_split\n",
    "from sklearn.preprocessing import StandardScaler\n",
    "train_x, test_x, train_y, test_y = train_test_split(X, Y)\n",
    "\n",
    "# 표준화\n",
    "ss = StandardScaler()\n",
    "train_scaled = ss.fit_transform(train_x)\n",
    "test_scaled = ss.transform(test_x)\n",
    "\n",
    "# 모델학습\n",
    "model = LinearRegression()\n",
    "model.fit(train_scaled, train_y)\n",
    "\n",
    "print(model.score(train_scaled, train_y))\n",
    "print(model.score(test_scaled, test_y))\n",
    "\n",
    "# 잘학습했다?"
   ]
  },
  {
   "cell_type": "code",
   "execution_count": 35,
   "id": "6bc5b0d8-4bfe-4b98-b73c-3e24b6ca5f73",
   "metadata": {},
   "outputs": [
    {
     "data": {
      "text/plain": [
       "(56, 34)"
      ]
     },
     "execution_count": 35,
     "metadata": {},
     "output_type": "execute_result"
    }
   ],
   "source": [
    "# 특성공학 => 특성을 강제적으로 늘린다\n",
    "from sklearn.preprocessing import PolynomialFeatures\n",
    "poly = PolynomialFeatures(degree=4, include_bias = False)\n",
    "# degree=2라는건 2제곱까지 허용한다는 뜻\n",
    "# include_bias가 True면 편향을 만들어준다 = 값이 1인걸 만들어준다? (모델의 절편을 학습할 수 있도록)\n",
    "\n",
    "X2 = poly.fit_transform(X)\n",
    "X2.shape\n",
    "# 56행 3열이었던게 56행 9열로 바뀜 << 특성이 6개가 늘어남"
   ]
  },
  {
   "cell_type": "code",
   "execution_count": 36,
   "id": "bc250239-bcb2-4dd2-87e8-1a435a40a9c4",
   "metadata": {},
   "outputs": [
    {
     "data": {
      "text/plain": [
       "array(['length', ' height', ' width', 'length^2', 'length  height',\n",
       "       'length  width', ' height^2', ' height  width', ' width^2',\n",
       "       'length^3', 'length^2  height', 'length^2  width',\n",
       "       'length  height^2', 'length  height  width', 'length  width^2',\n",
       "       ' height^3', ' height^2  width', ' height  width^2', ' width^3',\n",
       "       'length^4', 'length^3  height', 'length^3  width',\n",
       "       'length^2  height^2', 'length^2  height  width',\n",
       "       'length^2  width^2', 'length  height^3', 'length  height^2  width',\n",
       "       'length  height  width^2', 'length  width^3', ' height^4',\n",
       "       ' height^3  width', ' height^2  width^2', ' height  width^3',\n",
       "       ' width^4'], dtype=object)"
      ]
     },
     "execution_count": 36,
     "metadata": {},
     "output_type": "execute_result"
    }
   ],
   "source": [
    "poly.get_feature_names_out()\n",
    "# 어떤게 추가됐는지 확인 가능"
   ]
  },
  {
   "cell_type": "code",
   "execution_count": 44,
   "id": "2b2cc107-abe8-4da1-978f-728dcc78eccc",
   "metadata": {},
   "outputs": [
    {
     "name": "stdout",
     "output_type": "stream",
     "text": [
      "0.992977538048854\n",
      "0.9680873084066751\n"
     ]
    }
   ],
   "source": [
    "# 특성이 늘어난  X2로 다시 확인\n",
    "\n",
    "# 데이터분할\n",
    "from sklearn.model_selection import train_test_split\n",
    "from sklearn.preprocessing import StandardScaler\n",
    "train_x, test_x, train_y, test_y = train_test_split(X2, Y)\n",
    "\n",
    "# 표준화\n",
    "ss = StandardScaler()\n",
    "train_scaled = ss.fit_transform(train_x)\n",
    "test_scaled = ss.transform(test_x)\n",
    "\n",
    "# 모델학습\n",
    "from sklearn.linear_model import Ridge, Lasso, ElasticNet\n",
    "#model = LinearRegression()\n",
    "model = Ridge(alpha = 1)\n",
    "model.fit(train_scaled, train_y)\n",
    "\n",
    "print(model.score(train_scaled, train_y))\n",
    "print(model.score(test_scaled, test_y))\n",
    "\n",
    "# degree를 4로늘렸을때에는 과적합남 (음수값이 나온다는건 다틀렸다는것)\n",
    "# 다중공산성 문제는 포기하는 것.  성능을 높이는 것이 주목적.\n",
    "# 과적합난상관에선 규제를줄수있다 -- ridge로해보면 성능 높게나타남"
   ]
  },
  {
   "cell_type": "markdown",
   "id": "aef83533-531e-42ae-955e-a2cf58c23398",
   "metadata": {},
   "source": [
    "# 로지스틱 회귀"
   ]
  },
  {
   "cell_type": "markdown",
   "id": "7368e649-513f-436d-bec4-f79741d1c14d",
   "metadata": {},
   "source": [
    "### 선형회귀 => 회귀   \n",
    "### 로지스틱 회귀 => 분류(회귀가 아니고 분류임)"
   ]
  },
  {
   "cell_type": "markdown",
   "id": "64bd5a78-15be-4d01-a75e-62eca6b795b7",
   "metadata": {},
   "source": [
    "왜 이름이 \"로지스틱 회귀\"일까?   \n",
    "\n",
    "수학적으로 \"회귀처럼 생긴 식을 로지스틱 함수에 넣어서 확률로 바꾼다\"는 의미에서 이름이 붙은 것.   \n",
    "즉, 내부적으로는 선형 조합 w·x + b을 만들고, 여기에 시그모이드 같은 함수를 씌워서 분류를 진행함  \n",
    "\n",
    "수학적으로는 회귀 방식(logistic function + linear model)을 사용"
   ]
  },
  {
   "cell_type": "code",
   "execution_count": 45,
   "id": "e52f2b6f-e401-4f5a-b85f-f355c90b80a0",
   "metadata": {},
   "outputs": [],
   "source": [
    "# y = ax + b  ->  시그모이드(y)\n",
    "def sigmoid(x):\n",
    "    return 1 / (1 + np.exp(-x))"
   ]
  },
  {
   "cell_type": "code",
   "execution_count": 46,
   "id": "be220382-8a61-4ae3-bc9e-1c4ede7c5535",
   "metadata": {},
   "outputs": [
    {
     "data": {
      "image/png": "[encoded data removed]",
      "text/plain": [
       "<Figure size 640x480 with 1 Axes>"
      ]
     },
     "metadata": {},
     "output_type": "display_data"
    }
   ],
   "source": [
    "a = np.arange(-5, 5, 0.1)\n",
    "b = sigmoid(a)\n",
    "\n",
    "plt.plot(a, b)\n",
    "plt.grid()\n",
    "plt.show()\n",
    "\n",
    "# 0 ~ 1 사이 값으로 나타남"
   ]
  },
  {
   "cell_type": "markdown",
   "id": "d10954dd-865f-44eb-8796-fe4f3a5df9ac",
   "metadata": {},
   "source": [
    "# 로지스틱 회귀로 분류모델 만들기"
   ]
  },
  {
   "cell_type": "markdown",
   "id": "1e7c8f4a-f537-42c4-b33a-fd42b57b4d56",
   "metadata": {},
   "source": [
    "# - 이진분류"
   ]
  },
  {
   "cell_type": "code",
   "execution_count": 47,
   "id": "e1f43cf1-611c-4b0f-8f55-e6edabb9eeb2",
   "metadata": {},
   "outputs": [
    {
     "data": {
      "text/html": [
       "<div>\n",
       "<style scoped>\n",
       "    .dataframe tbody tr th:only-of-type {\n",
       "        vertical-align: middle;\n",
       "    }\n",
       "\n",
       "    .dataframe tbody tr th {\n",
       "        vertical-align: top;\n",
       "    }\n",
       "\n",
       "    .dataframe thead th {\n",
       "        text-align: right;\n",
       "    }\n",
       "</style>\n",
       "<table border=\"1\" class=\"dataframe\">\n",
       "  <thead>\n",
       "    <tr style=\"text-align: right;\">\n",
       "      <th></th>\n",
       "      <th>length</th>\n",
       "      <th>weight</th>\n",
       "      <th>target</th>\n",
       "    </tr>\n",
       "  </thead>\n",
       "  <tbody>\n",
       "    <tr>\n",
       "      <th>0</th>\n",
       "      <td>25.4</td>\n",
       "      <td>242.0</td>\n",
       "      <td>0</td>\n",
       "    </tr>\n",
       "    <tr>\n",
       "      <th>1</th>\n",
       "      <td>26.3</td>\n",
       "      <td>290.0</td>\n",
       "      <td>0</td>\n",
       "    </tr>\n",
       "    <tr>\n",
       "      <th>2</th>\n",
       "      <td>26.5</td>\n",
       "      <td>340.0</td>\n",
       "      <td>0</td>\n",
       "    </tr>\n",
       "    <tr>\n",
       "      <th>3</th>\n",
       "      <td>29.0</td>\n",
       "      <td>363.0</td>\n",
       "      <td>0</td>\n",
       "    </tr>\n",
       "    <tr>\n",
       "      <th>4</th>\n",
       "      <td>29.0</td>\n",
       "      <td>430.0</td>\n",
       "      <td>0</td>\n",
       "    </tr>\n",
       "  </tbody>\n",
       "</table>\n",
       "</div>"
      ],
      "text/plain": [
       "   length  weight  target\n",
       "0    25.4   242.0       0\n",
       "1    26.3   290.0       0\n",
       "2    26.5   340.0       0\n",
       "3    29.0   363.0       0\n",
       "4    29.0   430.0       0"
      ]
     },
     "execution_count": 47,
     "metadata": {},
     "output_type": "execute_result"
    }
   ],
   "source": [
    "from sklearn.preprocessing import LabelEncoder\n",
    "\n",
    "encoder = LabelEncoder()\n",
    "\n",
    "fish = pd.read_csv(\"Data/fish.csv\")\n",
    "fish[\"target\"] = encoder.fit_transform(fish[\"target\"])       # fish의 타겟값을 encoder로 만들어준다\n",
    "fish.head()"
   ]
  },
  {
   "cell_type": "code",
   "execution_count": 49,
   "id": "e06f4d51-6b76-48f5-afc2-da31f0138708",
   "metadata": {},
   "outputs": [
    {
     "data": {
      "text/plain": [
       "array(['bream', 'smelt'], dtype=object)"
      ]
     },
     "execution_count": 49,
     "metadata": {},
     "output_type": "execute_result"
    }
   ],
   "source": [
    "encoder.classes_\n",
    "\n",
    "# target값에서 0은 bream, 1은 smelt을 나타낸다"
   ]
  },
  {
   "cell_type": "code",
   "execution_count": 61,
   "id": "e21d7ff9-3d80-40e1-85c6-e8200200f14a",
   "metadata": {},
   "outputs": [
    {
     "name": "stdout",
     "output_type": "stream",
     "text": [
      "1.0\n",
      "1.0\n"
     ]
    }
   ],
   "source": [
    "from sklearn.linear_model import LogisticRegression         # 경사하강법 써서 학습함 \n",
    "\n",
    "# 문제집,정답지\n",
    "X = fish.drop(\"target\", axis = 1)\n",
    "Y = fish[\"target\"]\n",
    "\n",
    "# 데이터 분할\n",
    "from sklearn.model_selection import train_test_split\n",
    "train_x, test_x, train_y, test_y = train_test_split(X, Y)\n",
    "\n",
    "# 표준화  -  표준화해줘야 신뢰도있는 결과를 얻을 수 있음\n",
    "from sklearn.preprocessing import StandardScaler\n",
    "ss = StandardScaler()\n",
    "train_scaled = ss.fit_transform(train_x)\n",
    "test_scaled = ss.transform(test_x)\n",
    "\n",
    "#model = LogisticRegression()\n",
    "# l2 : 릿지,  l1 : 라쏘\n",
    "model = LogisticRegression(penalty=\"l2\", C=1)\n",
    "#model = LogisticRegression(penalty=\"l1\", C=1, solver=\"saga\") \n",
    "\n",
    "model.fit(train_scaled, train_y)     # 표준화된 훈련데이터로 학습\n",
    "\n",
    "print(model.score(train_scaled, train_y))\n",
    "print(model.score(test_scaled, test_y))\n",
    "\n",
    "# 선형회귀를 시그모이드에 넣은것이라"
   ]
  },
  {
   "cell_type": "code",
   "execution_count": 56,
   "id": "51a23fbd-18f6-4a5c-b54b-8590aaf2c732",
   "metadata": {},
   "outputs": [
    {
     "data": {
      "text/plain": [
       "array([[-1.82267656, -1.35536621]])"
      ]
     },
     "execution_count": 56,
     "metadata": {},
     "output_type": "execute_result"
    }
   ],
   "source": [
    "model.coef_         # 기울기"
   ]
  },
  {
   "cell_type": "code",
   "execution_count": 55,
   "id": "c6aeeb73-e90d-42f5-843b-3ab80d75748c",
   "metadata": {},
   "outputs": [
    {
     "data": {
      "text/plain": [
       "array([-1.78162379])"
      ]
     },
     "execution_count": 55,
     "metadata": {},
     "output_type": "execute_result"
    }
   ],
   "source": [
    "model.intercept_      # 절편"
   ]
  },
  {
   "cell_type": "markdown",
   "id": "99319464-4bc9-422d-b38a-e88c65c276f8",
   "metadata": {},
   "source": [
    "--------"
   ]
  },
  {
   "cell_type": "markdown",
   "id": "e8d1efb7-02f8-4320-8e70-f867e3d6e5f5",
   "metadata": {},
   "source": [
    "# - 다중분류"
   ]
  },
  {
   "cell_type": "code",
   "execution_count": 65,
   "id": "79eca01a-7ef8-4ad0-a0c4-eed54dcd3ed9",
   "metadata": {},
   "outputs": [
    {
     "data": {
      "text/html": [
       "<div>\n",
       "<style scoped>\n",
       "    .dataframe tbody tr th:only-of-type {\n",
       "        vertical-align: middle;\n",
       "    }\n",
       "\n",
       "    .dataframe tbody tr th {\n",
       "        vertical-align: top;\n",
       "    }\n",
       "\n",
       "    .dataframe thead th {\n",
       "        text-align: right;\n",
       "    }\n",
       "</style>\n",
       "<table border=\"1\" class=\"dataframe\">\n",
       "  <thead>\n",
       "    <tr style=\"text-align: right;\">\n",
       "      <th></th>\n",
       "      <th>sepal_length</th>\n",
       "      <th>sepal_width</th>\n",
       "      <th>petal_length</th>\n",
       "      <th>petal_width</th>\n",
       "      <th>species</th>\n",
       "    </tr>\n",
       "  </thead>\n",
       "  <tbody>\n",
       "    <tr>\n",
       "      <th>0</th>\n",
       "      <td>5.1</td>\n",
       "      <td>3.5</td>\n",
       "      <td>1.4</td>\n",
       "      <td>0.2</td>\n",
       "      <td>setosa</td>\n",
       "    </tr>\n",
       "    <tr>\n",
       "      <th>1</th>\n",
       "      <td>4.9</td>\n",
       "      <td>3.0</td>\n",
       "      <td>1.4</td>\n",
       "      <td>0.2</td>\n",
       "      <td>setosa</td>\n",
       "    </tr>\n",
       "    <tr>\n",
       "      <th>2</th>\n",
       "      <td>4.7</td>\n",
       "      <td>3.2</td>\n",
       "      <td>1.3</td>\n",
       "      <td>0.2</td>\n",
       "      <td>setosa</td>\n",
       "    </tr>\n",
       "    <tr>\n",
       "      <th>3</th>\n",
       "      <td>4.6</td>\n",
       "      <td>3.1</td>\n",
       "      <td>1.5</td>\n",
       "      <td>0.2</td>\n",
       "      <td>setosa</td>\n",
       "    </tr>\n",
       "    <tr>\n",
       "      <th>4</th>\n",
       "      <td>5.0</td>\n",
       "      <td>3.6</td>\n",
       "      <td>1.4</td>\n",
       "      <td>0.2</td>\n",
       "      <td>setosa</td>\n",
       "    </tr>\n",
       "  </tbody>\n",
       "</table>\n",
       "</div>"
      ],
      "text/plain": [
       "   sepal_length  sepal_width  petal_length  petal_width species\n",
       "0           5.1          3.5           1.4          0.2  setosa\n",
       "1           4.9          3.0           1.4          0.2  setosa\n",
       "2           4.7          3.2           1.3          0.2  setosa\n",
       "3           4.6          3.1           1.5          0.2  setosa\n",
       "4           5.0          3.6           1.4          0.2  setosa"
      ]
     },
     "execution_count": 65,
     "metadata": {},
     "output_type": "execute_result"
    }
   ],
   "source": [
    "# 로지스틱 회귀 구현\n",
    "import seaborn as sns\n",
    "iris = sns.load_dataset(\"iris\")                   # 3종류의 꽃\n",
    "iris.head()"
   ]
  },
  {
   "cell_type": "code",
   "execution_count": 68,
   "id": "664b6041-9068-45f9-8574-5ca0aa07c6d3",
   "metadata": {},
   "outputs": [
    {
     "data": {
      "text/html": [
       "<div>\n",
       "<style scoped>\n",
       "    .dataframe tbody tr th:only-of-type {\n",
       "        vertical-align: middle;\n",
       "    }\n",
       "\n",
       "    .dataframe tbody tr th {\n",
       "        vertical-align: top;\n",
       "    }\n",
       "\n",
       "    .dataframe thead th {\n",
       "        text-align: right;\n",
       "    }\n",
       "</style>\n",
       "<table border=\"1\" class=\"dataframe\">\n",
       "  <thead>\n",
       "    <tr style=\"text-align: right;\">\n",
       "      <th></th>\n",
       "      <th>sepal_length</th>\n",
       "      <th>sepal_width</th>\n",
       "      <th>petal_length</th>\n",
       "      <th>petal_width</th>\n",
       "      <th>species</th>\n",
       "    </tr>\n",
       "  </thead>\n",
       "  <tbody>\n",
       "    <tr>\n",
       "      <th>0</th>\n",
       "      <td>5.1</td>\n",
       "      <td>3.5</td>\n",
       "      <td>1.4</td>\n",
       "      <td>0.2</td>\n",
       "      <td>0</td>\n",
       "    </tr>\n",
       "    <tr>\n",
       "      <th>1</th>\n",
       "      <td>4.9</td>\n",
       "      <td>3.0</td>\n",
       "      <td>1.4</td>\n",
       "      <td>0.2</td>\n",
       "      <td>0</td>\n",
       "    </tr>\n",
       "    <tr>\n",
       "      <th>2</th>\n",
       "      <td>4.7</td>\n",
       "      <td>3.2</td>\n",
       "      <td>1.3</td>\n",
       "      <td>0.2</td>\n",
       "      <td>0</td>\n",
       "    </tr>\n",
       "    <tr>\n",
       "      <th>3</th>\n",
       "      <td>4.6</td>\n",
       "      <td>3.1</td>\n",
       "      <td>1.5</td>\n",
       "      <td>0.2</td>\n",
       "      <td>0</td>\n",
       "    </tr>\n",
       "    <tr>\n",
       "      <th>4</th>\n",
       "      <td>5.0</td>\n",
       "      <td>3.6</td>\n",
       "      <td>1.4</td>\n",
       "      <td>0.2</td>\n",
       "      <td>0</td>\n",
       "    </tr>\n",
       "  </tbody>\n",
       "</table>\n",
       "</div>"
      ],
      "text/plain": [
       "   sepal_length  sepal_width  petal_length  petal_width  species\n",
       "0           5.1          3.5           1.4          0.2        0\n",
       "1           4.9          3.0           1.4          0.2        0\n",
       "2           4.7          3.2           1.3          0.2        0\n",
       "3           4.6          3.1           1.5          0.2        0\n",
       "4           5.0          3.6           1.4          0.2        0"
      ]
     },
     "execution_count": 68,
     "metadata": {},
     "output_type": "execute_result"
    }
   ],
   "source": [
    "from sklearn.preprocessing import LabelEncoder\n",
    "\n",
    "encoder = LabelEncoder()\n",
    "\n",
    "iris[\"species\"] = encoder.fit_transform(iris[\"species\"])       # fish의 타겟값을 encoder로 만들어준다\n",
    "iris.head()"
   ]
  },
  {
   "cell_type": "code",
   "execution_count": 69,
   "id": "2701b2f8-bcfb-4f2c-9bdf-f2cea63c733c",
   "metadata": {},
   "outputs": [
    {
     "data": {
      "text/plain": [
       "array(['setosa', 'versicolor', 'virginica'], dtype=object)"
      ]
     },
     "execution_count": 69,
     "metadata": {},
     "output_type": "execute_result"
    }
   ],
   "source": [
    "encoder.classes_\n",
    "\n",
    "# species값에서 0은 setosa, 1은 versicolor, 2는 virginica를 나타낸다"
   ]
  },
  {
   "cell_type": "code",
   "execution_count": 78,
   "id": "f6cd9122-8bc9-4058-8daa-eb91c180a9dd",
   "metadata": {},
   "outputs": [],
   "source": [
    "from sklearn.linear_model import LogisticRegression \n",
    "\n",
    "# 문제집,정답지\n",
    "X = iris.drop(\"species\", axis = 1)\n",
    "Y = iris[\"species\"]\n",
    "\n",
    "# 데이터 분할\n",
    "from sklearn.model_selection import train_test_split\n",
    "train_x, test_x, train_y, test_y = train_test_split(X, Y)\n",
    "\n",
    "# 표준화  -  표준화해줘야 신뢰도있는 결과를 얻을 수 있음\n",
    "from sklearn.preprocessing import StandardScaler\n",
    "ss = StandardScaler()\n",
    "train_scaled = ss.fit_transform(train_x)\n",
    "test_scaled = ss.transform(test_x)"
   ]
  },
  {
   "cell_type": "code",
   "execution_count": 87,
   "id": "73a43f31-bd79-46e2-9c5b-dfac1fa6ed81",
   "metadata": {},
   "outputs": [
    {
     "name": "stdout",
     "output_type": "stream",
     "text": [
      "0.9736842105263158\n"
     ]
    }
   ],
   "source": [
    "model = LogisticRegression()\n",
    "#model = LogisticRegression(penalty=\"l2\", C=1)        # 릿지\n",
    "#model = LogisticRegression(penalty=\"l1\", C=1, solver=\"saga\")         # 라쏘\n",
    "\n",
    "model.fit(train_scaled, train_y)     # 표준화된 훈련데이터로 학습\n",
    "\n",
    "# 모델평가\n",
    "#print(model.score(train_scaled, train_y))\n",
    "print(model.score(test_scaled, test_y))"
   ]
  },
  {
   "cell_type": "code",
   "execution_count": 91,
   "id": "27617369-3787-45ee-a203-eb93f09fb03f",
   "metadata": {},
   "outputs": [
    {
     "data": {
      "text/plain": [
       "array([[0.99, 0.01, 0.  ],\n",
       "       [0.  , 0.52, 0.48],\n",
       "       [0.98, 0.02, 0.  ],\n",
       "       [0.  , 0.05, 0.95],\n",
       "       [0.  , 0.75, 0.25],\n",
       "       [0.15, 0.83, 0.02],\n",
       "       [0.97, 0.03, 0.  ],\n",
       "       [0.96, 0.04, 0.  ],\n",
       "       [0.  , 0.15, 0.85],\n",
       "       [0.02, 0.78, 0.2 ],\n",
       "       [0.01, 0.93, 0.06],\n",
       "       [0.04, 0.91, 0.06],\n",
       "       [0.98, 0.02, 0.  ],\n",
       "       [0.  , 0.03, 0.97],\n",
       "       [0.01, 0.71, 0.28],\n",
       "       [0.  , 0.08, 0.92],\n",
       "       [0.  , 0.04, 0.96],\n",
       "       [0.  , 0.06, 0.94],\n",
       "       [0.  , 0.06, 0.94],\n",
       "       [0.99, 0.01, 0.  ],\n",
       "       [0.98, 0.02, 0.  ],\n",
       "       [0.99, 0.01, 0.  ],\n",
       "       [0.08, 0.71, 0.22],\n",
       "       [0.05, 0.85, 0.1 ],\n",
       "       [0.97, 0.03, 0.  ],\n",
       "       [0.  , 0.39, 0.61],\n",
       "       [0.04, 0.92, 0.03],\n",
       "       [0.97, 0.03, 0.  ],\n",
       "       [0.12, 0.84, 0.05],\n",
       "       [0.04, 0.9 , 0.06],\n",
       "       [0.99, 0.01, 0.  ],\n",
       "       [0.  , 0.2 , 0.8 ],\n",
       "       [0.03, 0.91, 0.06],\n",
       "       [0.04, 0.78, 0.18],\n",
       "       [0.  , 0.13, 0.87],\n",
       "       [0.  , 0.66, 0.33],\n",
       "       [0.03, 0.81, 0.16],\n",
       "       [0.01, 0.82, 0.17]])"
      ]
     },
     "execution_count": 91,
     "metadata": {},
     "output_type": "execute_result"
    }
   ],
   "source": [
    "np.round(model.predict_proba(test_scaled), 2)\n",
    "# 다 확률값으로 나온다\n",
    "# 로지스틱회귀로 구해주면 k최근접과 달리 정확하게 구할 수 있다?"
   ]
  },
  {
   "cell_type": "code",
   "execution_count": 84,
   "id": "6330033c-16d7-4cc4-9f9d-a7ed21cc14b5",
   "metadata": {},
   "outputs": [
    {
     "data": {
      "text/plain": [
       "array([[-0.99317404,  1.09242579, -1.78947433, -1.66329084],\n",
       "       [ 0.49742837, -0.27298284, -0.24306794, -0.74767175],\n",
       "       [ 0.49574567, -0.81944295,  2.03254227,  2.41096259]])"
      ]
     },
     "execution_count": 84,
     "metadata": {},
     "output_type": "execute_result"
    }
   ],
   "source": [
    "model.coef_         # 기울기\n",
    "# 분류해야하는게 많아지면 (=다중분류가 되면) 기울기가 늘어나게 됨.\n",
    "# 꽃의 특성이 4가지, 꽃의 종류가 3가지 => 4 * 3 = 12개의 기울기 만들어짐\n",
    "# 꽃 종류마다 편향이 다 다름 (b1, b2, b3)"
   ]
  },
  {
   "cell_type": "code",
   "execution_count": 85,
   "id": "f98ea7dd-9db4-4515-b39a-19602b63c48f",
   "metadata": {},
   "outputs": [
    {
     "data": {
      "text/plain": [
       "array([-0.14798671,  1.72095808, -1.57297136])"
      ]
     },
     "execution_count": 85,
     "metadata": {},
     "output_type": "execute_result"
    }
   ],
   "source": [
    "model.intercept_      # 절편"
   ]
  },
  {
   "cell_type": "code",
   "execution_count": 95,
   "id": "f1af3dfd-dce9-4040-ab43-c68c1960daaf",
   "metadata": {},
   "outputs": [
    {
     "data": {
      "text/plain": [
       "array([0.00819871, 0.90142542, 0.09037587])"
      ]
     },
     "execution_count": 95,
     "metadata": {},
     "output_type": "execute_result"
    }
   ],
   "source": [
    "a = np.array([0.3, 5, 2.7])        # y1,y2,y3 값이라 가정\n",
    "\n",
    "exp_a = np.exp(a)\n",
    "exp_a / sum(exp_a)     # 세 확률 다 더하면 1"
   ]
  },
  {
   "cell_type": "code",
   "execution_count": 96,
   "id": "71e97444-6d80-44ce-9071-319cb8e20c07",
   "metadata": {},
   "outputs": [],
   "source": [
    "# y1,y2,y3가 클때\n",
    "a = np.array([1000, 1010, 990]) \n",
    "c = max(a)    # 가장 큰 값을 c 에 저장\n",
    "exp_a = np.exp(a-c)"
   ]
  },
  {
   "cell_type": "markdown",
   "id": "fd4b354e-f69c-4a31-b116-2a31db9a72af",
   "metadata": {},
   "source": [
    "## => 이진이면 시그모이드로, 다중이면 자연상수꼴로...(소프트맥스)"
   ]
  },
  {
   "cell_type": "code",
   "execution_count": null,
   "id": "e05a79d4-71b6-454a-81fc-47fe6387ee32",
   "metadata": {},
   "outputs": [],
   "source": []
  },
  {
   "cell_type": "code",
   "execution_count": null,
   "id": "754e2203-d3a0-49d0-a804-d8336fb40571",
   "metadata": {},
   "outputs": [],
   "source": []
  },
  {
   "cell_type": "code",
   "execution_count": null,
   "id": "eaadc1f8-efbe-449b-b384-3ebeaacbe0e5",
   "metadata": {},
   "outputs": [],
   "source": []
  }
 ],
 "metadata": {
  "kernelspec": {
   "display_name": "Python 3 (ipykernel)",
   "language": "python",
   "name": "python3"
  },
  "language_info": {
   "codemirror_mode": {
    "name": "ipython",
    "version": 3
   },
   "file_extension": ".py",
   "mimetype": "text/x-python",
   "name": "python",
   "nbconvert_exporter": "python",
   "pygments_lexer": "ipython3",
   "version": "3.12.7"
  }
 },
 "nbformat": 4,
 "nbformat_minor": 5
}
