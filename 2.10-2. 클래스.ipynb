{
 "cells": [
  {
   "cell_type": "code",
   "execution_count": 7,
   "id": "65a0a9d9-55b7-4e02-a059-7a8769314f5e",
   "metadata": {},
   "outputs": [],
   "source": [
    "# 클래스: 붕어빵을 만드는 틀  //  객체를 만들어내는 도구\n",
    "# 함수와 변수들을 모아놓는 주머니\n",
    "# 잘몰라도됨\n",
    "\n",
    "# 은행 클래스\n",
    "class Bank:\n",
    "    \n",
    "    #객체를 만들때 자동으로 딱 한번 실행되는 함수\n",
    "    def __init__(self):          # 입금하지 않아도 머니 바로 볼 수 있음\n",
    "        print(\"가입을 축하합니다.\")\n",
    "        self.money = 0\n",
    "        \n",
    "    def deposit(self, x):        # 입금 기능\n",
    "        self.money += x"
   ]
  },
  {
   "cell_type": "code",
   "execution_count": 4,
   "id": "d791f834-30ed-466c-be21-87e56a3f356a",
   "metadata": {},
   "outputs": [],
   "source": [
    "# person1은 Bank에서 제공하는 모든 기능을 사용할 수 있는 권한\n",
    "person1 = Bank()\n",
    "person1.deposit(70000)      # person1이 7만원을 입금함; 뱅크클래스에 저장"
   ]
  },
  {
   "cell_type": "code",
   "execution_count": 3,
   "id": "094cc58c-a79b-4500-a03e-2ba63e2f3eb5",
   "metadata": {},
   "outputs": [],
   "source": [
    "person2 = Bank()\n",
    "person2.deposit(30000)      # person2이 3만원을 입금함; 뱅크클래스에 저장"
   ]
  },
  {
   "cell_type": "code",
   "execution_count": 12,
   "id": "a1c95377-b0f3-4f0c-9d46-9ce2ddbce1fb",
   "metadata": {},
   "outputs": [
    {
     "name": "stdout",
     "output_type": "stream",
     "text": [
      "70000\n",
      "30000\n"
     ]
    }
   ],
   "source": [
    "print(person1.money)\n",
    "print(person2.money)"
   ]
  },
  {
   "cell_type": "code",
   "execution_count": 9,
   "id": "231a56d6-f215-454d-8f6a-d7fea195cc81",
   "metadata": {},
   "outputs": [
    {
     "name": "stdout",
     "output_type": "stream",
     "text": [
      "가입을 축하합니다.\n"
     ]
    },
    {
     "data": {
      "text/plain": [
       "80000"
      ]
     },
     "execution_count": 9,
     "metadata": {},
     "output_type": "execute_result"
    }
   ],
   "source": [
    "person3 = Bank()\n",
    "person3.deposit(30000)\n",
    "person3.deposit(50000)\n",
    "person3.money"
   ]
  },
  {
   "cell_type": "code",
   "execution_count": 15,
   "id": "beefe812-ddf1-43fc-b3fe-9968837039eb",
   "metadata": {},
   "outputs": [],
   "source": [
    "# Bank2는 Bank에서 제공하는 모든 기능을 상속받는다.\n",
    "class Bank2(Bank):\n",
    "    pass                 # 뭐라도 적어야할땐 pass. 아무기능없음"
   ]
  },
  {
   "cell_type": "code",
   "execution_count": 17,
   "id": "6a0a0f11-82c4-4e6f-bd27-4bbbb1bdf08f",
   "metadata": {},
   "outputs": [
    {
     "name": "stdout",
     "output_type": "stream",
     "text": [
      "가입을 축하합니다.\n"
     ]
    }
   ],
   "source": [
    "person4 = Bank2()        # 결과: 가입을 축하합니다      <<  __init__기능, deposit기능 있다는 것"
   ]
  },
  {
   "cell_type": "code",
   "execution_count": null,
   "id": "4a4df4a1-21ed-4b44-b47e-c6cb8848ef76",
   "metadata": {},
   "outputs": [],
   "source": []
  }
 ],
 "metadata": {
  "kernelspec": {
   "display_name": "Python 3 (ipykernel)",
   "language": "python",
   "name": "python3"
  },
  "language_info": {
   "codemirror_mode": {
    "name": "ipython",
    "version": 3
   },
   "file_extension": ".py",
   "mimetype": "text/x-python",
   "name": "python",
   "nbconvert_exporter": "python",
   "pygments_lexer": "ipython3",
   "version": "3.12.7"
  }
 },
 "nbformat": 4,
 "nbformat_minor": 5
}
