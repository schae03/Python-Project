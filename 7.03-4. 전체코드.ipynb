{
 "cells": [
  {
   "cell_type": "code",
   "execution_count": 2,
   "id": "b480575a-d7cf-45a4-a362-73518d43bcf1",
   "metadata": {},
   "outputs": [
    {
     "data": {
      "text/html": [
       "<div>\n",
       "<style scoped>\n",
       "    .dataframe tbody tr th:only-of-type {\n",
       "        vertical-align: middle;\n",
       "    }\n",
       "\n",
       "    .dataframe tbody tr th {\n",
       "        vertical-align: top;\n",
       "    }\n",
       "\n",
       "    .dataframe thead th {\n",
       "        text-align: right;\n",
       "    }\n",
       "</style>\n",
       "<table border=\"1\" class=\"dataframe\">\n",
       "  <thead>\n",
       "    <tr style=\"text-align: right;\">\n",
       "      <th></th>\n",
       "      <th>Symbol</th>\n",
       "      <th>Name</th>\n",
       "      <th>Sector</th>\n",
       "      <th>Industry</th>\n",
       "    </tr>\n",
       "  </thead>\n",
       "  <tbody>\n",
       "    <tr>\n",
       "      <th>0</th>\n",
       "      <td>MMM</td>\n",
       "      <td>3M</td>\n",
       "      <td>Industrials</td>\n",
       "      <td>Industrial Conglomerates</td>\n",
       "    </tr>\n",
       "    <tr>\n",
       "      <th>1</th>\n",
       "      <td>AOS</td>\n",
       "      <td>A. O. Smith</td>\n",
       "      <td>Industrials</td>\n",
       "      <td>Building Products</td>\n",
       "    </tr>\n",
       "    <tr>\n",
       "      <th>2</th>\n",
       "      <td>ABT</td>\n",
       "      <td>Abbott Laboratories</td>\n",
       "      <td>Health Care</td>\n",
       "      <td>Health Care Equipment</td>\n",
       "    </tr>\n",
       "    <tr>\n",
       "      <th>3</th>\n",
       "      <td>ABBV</td>\n",
       "      <td>AbbVie</td>\n",
       "      <td>Health Care</td>\n",
       "      <td>Biotechnology</td>\n",
       "    </tr>\n",
       "    <tr>\n",
       "      <th>4</th>\n",
       "      <td>ACN</td>\n",
       "      <td>Accenture</td>\n",
       "      <td>Information Technology</td>\n",
       "      <td>IT Consulting &amp; Other Services</td>\n",
       "    </tr>\n",
       "  </tbody>\n",
       "</table>\n",
       "</div>"
      ],
      "text/plain": [
       "  Symbol                 Name                  Sector  \\\n",
       "0    MMM                   3M             Industrials   \n",
       "1    AOS          A. O. Smith             Industrials   \n",
       "2    ABT  Abbott Laboratories             Health Care   \n",
       "3   ABBV               AbbVie             Health Care   \n",
       "4    ACN            Accenture  Information Technology   \n",
       "\n",
       "                         Industry  \n",
       "0        Industrial Conglomerates  \n",
       "1               Building Products  \n",
       "2           Health Care Equipment  \n",
       "3                   Biotechnology  \n",
       "4  IT Consulting & Other Services  "
      ]
     },
     "execution_count": 2,
     "metadata": {},
     "output_type": "execute_result"
    }
   ],
   "source": [
    "# 정밀도: 72~82\n",
    "import FinanceDataReader as fdr\n",
    "\n",
    "sp500 = fdr.StockListing(\"S&P500\")\n",
    "sp500.head()"
   ]
  },
  {
   "cell_type": "code",
   "execution_count": 10,
   "id": "b059dc87-46a9-4b75-ac1c-527b2d1c896c",
   "metadata": {},
   "outputs": [
    {
     "data": {
      "text/plain": [
       "1980-12-12          NaN\n",
       "1980-12-15          NaN\n",
       "1980-12-16          NaN\n",
       "1980-12-17          NaN\n",
       "1980-12-18          NaN\n",
       "                ...    \n",
       "2025-06-26    49.621039\n",
       "2025-06-27    49.770113\n",
       "2025-06-30    56.806887\n",
       "2025-07-01    60.653082\n",
       "2025-07-02    66.289029\n",
       "Name: Close, Length: 11229, dtype: float64"
      ]
     },
     "execution_count": 10,
     "metadata": {},
     "output_type": "execute_result"
    }
   ],
   "source": [
    "def make_rsi(close, periods = 14):\n",
    "    delta = close.diff()\n",
    "    gain = delta.where(delta > 0, 0).ewm(alpha = 1/periods, min_periods = periods, adjust = False).mean()\n",
    "    loss = -delta.where(delta < 0, 0).ewm(alpha = 1/periods, min_periods = periods, adjust = False).mean()\n",
    "    rs = gain / (loss + 1e-9)\n",
    "    return 100 - (100 / (1 + rs))\n",
    "\n",
    "df = fdr.DataReader(\"AAPL\")\n",
    "make_rsi(df['Close'])"
   ]
  },
  {
   "cell_type": "code",
   "execution_count": 14,
   "id": "b2ce9802-cbc0-42c3-9896-03565e26f1f3",
   "metadata": {},
   "outputs": [
    {
     "name": "stderr",
     "output_type": "stream",
     "text": [
      "100%|████████████████████████████████████████████████████████████████████████████████| 503/503 [05:34<00:00,  1.51it/s]\n"
     ]
    }
   ],
   "source": [
    "from tqdm import tqdm\n",
    "import pandas as pd\n",
    "\n",
    "sp500_dic = {}\n",
    "for i in tqdm(range(len(sp500))):\n",
    "    try:\n",
    "        row = sp500.iloc[i]\n",
    "        symbol = row['Symbol']\n",
    "        name = row['Name']\n",
    "        df = fdr.DataReader(symbol)\n",
    "        df['RSI'] = make_rsi(df['Close'])\n",
    "        df['Change'] = df['Close'].pct_change() * 100\n",
    "        df = df.dropna()\n",
    "        sp500_dic[symbol] = [name, df]\n",
    "    except:\n",
    "        continue"
   ]
  },
  {
   "cell_type": "code",
   "execution_count": 20,
   "id": "73b19009-51bb-4544-966d-69b56c61b094",
   "metadata": {},
   "outputs": [],
   "source": [
    "# 왜 특성을 추가해도 성능이 비슷한가? 왜 항상 좋게 나오는가?\n",
    "# 데이터 누수 문제\n",
    "year = 2017\n",
    "period = 40\n",
    "\n",
    "train_x = []\n",
    "train_y = []\n",
    "test_x = []\n",
    "test_y = []\n",
    "\n",
    "for symbol in sp500_dic:\n",
    "    \n",
    "    name = sp500_dic[symbol][0]\n",
    "    df = sp500_dic[symbol][1].copy()[['Close', 'Change', 'RSI']]\n",
    "\n",
    "    train = df[df.index.year < year].values\n",
    "    test = df[df.index.year >= year].values\n",
    "\n",
    "    for i in range(len(train) - period):\n",
    "        a = train[i, 1:]\n",
    "        before = train[i, 0]\n",
    "        after = train[i+period, 0]\n",
    "        b = (after-before)/before*100 >= 5\n",
    "        train_x.append(a)\n",
    "        train_y.append(b)\n",
    "\n",
    "    for i in range(len(test) - period):\n",
    "        a = test[i, 1:]\n",
    "        before = test[i, 0]\n",
    "        after = test[i+period, 0]\n",
    "        b = (after-before)/before*100 >= 5\n",
    "        test_x.append(a)\n",
    "        test_y.append(b)"
   ]
  },
  {
   "cell_type": "code",
   "execution_count": 21,
   "id": "d889fa41-e932-4bfe-be53-d385286c1974",
   "metadata": {},
   "outputs": [
    {
     "name": "stdout",
     "output_type": "stream",
     "text": [
      "              precision    recall  f1-score   support\n",
      "\n",
      "       False       0.62      1.00      0.76    632592\n",
      "        True       0.50      0.01      0.01    394302\n",
      "\n",
      "    accuracy                           0.62   1026894\n",
      "   macro avg       0.56      0.50      0.39   1026894\n",
      "weighted avg       0.57      0.62      0.47   1026894\n",
      "\n"
     ]
    }
   ],
   "source": [
    "from sklearn.metrics import classification_report\n",
    "from xgboost import XGBClassifier\n",
    "\n",
    "model = XGBClassifier()\n",
    "model.fit(train_x, train_y)\n",
    "\n",
    "pred = model.predict(test_x)\n",
    "\n",
    "report = classification_report(test_y, pred)\n",
    "print(report)"
   ]
  },
  {
   "cell_type": "code",
   "execution_count": 25,
   "id": "b74c5adc-5e27-4337-8754-24433169982b",
   "metadata": {},
   "outputs": [
    {
     "name": "stdout",
     "output_type": "stream",
     "text": [
      "100000번 시행했을때, 약 3.1671241833119863건\n"
     ]
    }
   ],
   "source": [
    "from scipy.stats import norm\n",
    "\n",
    "sigma = 4\n",
    "A = norm.cdf(-sigma)\n",
    "\n",
    "n = 100000\n",
    "\n",
    "print(f\"{n}번 시행했을때, 약 {n * A}건\")"
   ]
  },
  {
   "cell_type": "code",
   "execution_count": 26,
   "id": "07626fa3-29e2-4ffe-a308-44a4e98b7c00",
   "metadata": {},
   "outputs": [
    {
     "data": {
      "text/plain": [
       "3.2665824620458253e-28"
      ]
     },
     "execution_count": 26,
     "metadata": {},
     "output_type": "execute_result"
    }
   ],
   "source": [
    "2 ** 530 * 0.4 ** 470"
   ]
  },
  {
   "cell_type": "code",
   "execution_count": 27,
   "id": "854dd6c4-3e7e-471b-8abe-b02b74327ad5",
   "metadata": {},
   "outputs": [
    {
     "data": {
      "text/plain": [
       "22850689.634863265"
      ]
     },
     "execution_count": 27,
     "metadata": {},
     "output_type": "execute_result"
    }
   ],
   "source": [
    "(4/3) ** 470 * (4/5) ** 530"
   ]
  },
  {
   "cell_type": "code",
   "execution_count": 29,
   "id": "62e7a4fa-8d5b-48fd-aefb-6ee40305d237",
   "metadata": {},
   "outputs": [
    {
     "data": {
      "text/plain": [
       "13.228756555322953"
      ]
     },
     "execution_count": 29,
     "metadata": {},
     "output_type": "execute_result"
    }
   ],
   "source": [
    "(250 * 0.7) ** (1/2)"
   ]
  },
  {
   "cell_type": "code",
   "execution_count": 30,
   "id": "bde23ae4-9894-430d-bcc0-b72b87ce7bf0",
   "metadata": {},
   "outputs": [
    {
     "data": {
      "text/plain": [
       "3.8461538461538463"
      ]
     },
     "execution_count": 30,
     "metadata": {},
     "output_type": "execute_result"
    }
   ],
   "source": [
    "50 / 13"
   ]
  },
  {
   "cell_type": "code",
   "execution_count": 32,
   "id": "aef75339-369f-4a32-9c77-9d7a1a2cf9be",
   "metadata": {},
   "outputs": [
    {
     "data": {
      "text/plain": [
       "13.693063937629153"
      ]
     },
     "execution_count": 32,
     "metadata": {},
     "output_type": "execute_result"
    }
   ],
   "source": [
    "(250 * (3/4)) ** (1/2)"
   ]
  },
  {
   "cell_type": "code",
   "execution_count": 33,
   "id": "2c04d6d6-64f0-49af-8150-f2670fa311e9",
   "metadata": {},
   "outputs": [
    {
     "data": {
      "text/plain": [
       "0.10000000000000009"
      ]
     },
     "execution_count": 33,
     "metadata": {},
     "output_type": "execute_result"
    }
   ],
   "source": [
    "# 켈리 방정식\n",
    "# p : 승리확률, b : 배당률(1000원 건다 - 2000원 순수익 b = 2)\n",
    "def kelly1(p, b):\n",
    "    q = 1 - p\n",
    "    result = (b * p - q) / b\n",
    "    return max(0, result)\n",
    "\n",
    "kelly1(0.55, 1)"
   ]
  },
  {
   "cell_type": "code",
   "execution_count": 38,
   "id": "ec93b31e-9845-4a70-b54f-4ca9ff6c2da5",
   "metadata": {},
   "outputs": [
    {
     "data": {
      "text/plain": [
       "0.24999999999999947"
      ]
     },
     "execution_count": 38,
     "metadata": {},
     "output_type": "execute_result"
    }
   ],
   "source": [
    "def kelly2(p, win_rate, loss_rate):\n",
    "    q = 1 - p\n",
    "    \n",
    "    if (p * win_rate) <= (q * loss_rate):\n",
    "        return 0\n",
    "\n",
    "    A = p * win_rate - q * loss_rate\n",
    "    B = win_rate * loss_rate\n",
    "\n",
    "    result = A / B\n",
    "    return max(0, result)\n",
    "\n",
    "# 승률 60%, 이기면 20%, 지면 10%를 잃는다.\n",
    "kelly2(0.35, 0.2, 0.1);"
   ]
  },
  {
   "cell_type": "code",
   "execution_count": 39,
   "id": "eb808f02-2a94-4c07-a723-d9602461c227",
   "metadata": {},
   "outputs": [
    {
     "data": {
      "text/plain": [
       "0.16"
      ]
     },
     "execution_count": 39,
     "metadata": {},
     "output_type": "execute_result"
    }
   ],
   "source": [
    "# 2번\n",
    "kelly1(0.40, 2.5)"
   ]
  },
  {
   "cell_type": "code",
   "execution_count": 40,
   "id": "874242b9-7180-49a4-801d-e35fb3f897c2",
   "metadata": {},
   "outputs": [
    {
     "data": {
      "text/plain": [
       "0"
      ]
     },
     "execution_count": 40,
     "metadata": {},
     "output_type": "execute_result"
    }
   ],
   "source": [
    "# 3번: 이길 확률 30%, 2배\n",
    "kelly1(0.30, 2)"
   ]
  },
  {
   "cell_type": "code",
   "execution_count": 41,
   "id": "db4f0009-a993-4d2a-88c0-5cc5e7c6fc89",
   "metadata": {},
   "outputs": [
    {
     "data": {
      "text/plain": [
       "0"
      ]
     },
     "execution_count": 41,
     "metadata": {},
     "output_type": "execute_result"
    }
   ],
   "source": [
    "# 4번: 승률 50% 이기면 15%, 지면 15%\n",
    "kelly2(0.5, 0.15, 0.15)"
   ]
  },
  {
   "cell_type": "code",
   "execution_count": 42,
   "id": "a004f9e9-d59c-44b8-a79c-678bba499acc",
   "metadata": {},
   "outputs": [
    {
     "data": {
      "text/plain": [
       "2.666666666666667"
      ]
     },
     "execution_count": 42,
     "metadata": {},
     "output_type": "execute_result"
    }
   ],
   "source": [
    "# 5번: 승률 45%, 이기면 30%, 지면 10%\n",
    "kelly2(0.45, 0.3, 0.1)"
   ]
  },
  {
   "cell_type": "code",
   "execution_count": 43,
   "id": "3ae6fb28-b4bb-4076-81cb-0abf45017a04",
   "metadata": {},
   "outputs": [
    {
     "data": {
      "text/plain": [
       "0"
      ]
     },
     "execution_count": 43,
     "metadata": {},
     "output_type": "execute_result"
    }
   ],
   "source": [
    "# 6번: 승률 70%, 이기면 10%, 지면 30%\n",
    "kelly2(0.7, 0.1, 0.3)"
   ]
  },
  {
   "cell_type": "code",
   "execution_count": 45,
   "id": "2cf551e9-0689-4836-ac4e-63cc42881c61",
   "metadata": {},
   "outputs": [
    {
     "data": {
      "text/html": [
       "<div>\n",
       "<style scoped>\n",
       "    .dataframe tbody tr th:only-of-type {\n",
       "        vertical-align: middle;\n",
       "    }\n",
       "\n",
       "    .dataframe tbody tr th {\n",
       "        vertical-align: top;\n",
       "    }\n",
       "\n",
       "    .dataframe thead th {\n",
       "        text-align: right;\n",
       "    }\n",
       "</style>\n",
       "<table border=\"1\" class=\"dataframe\">\n",
       "  <thead>\n",
       "    <tr style=\"text-align: right;\">\n",
       "      <th></th>\n",
       "      <th>TSLA</th>\n",
       "      <th>AAPL</th>\n",
       "      <th>NVDA</th>\n",
       "    </tr>\n",
       "  </thead>\n",
       "  <tbody>\n",
       "    <tr>\n",
       "      <th>2010-06-29</th>\n",
       "      <td>1.592667</td>\n",
       "      <td>7.698982</td>\n",
       "      <td>0.240238</td>\n",
       "    </tr>\n",
       "    <tr>\n",
       "      <th>2010-06-30</th>\n",
       "      <td>1.588667</td>\n",
       "      <td>7.559529</td>\n",
       "      <td>0.234048</td>\n",
       "    </tr>\n",
       "    <tr>\n",
       "      <th>2010-07-01</th>\n",
       "      <td>1.464000</td>\n",
       "      <td>7.467864</td>\n",
       "      <td>0.237945</td>\n",
       "    </tr>\n",
       "    <tr>\n",
       "      <th>2010-07-02</th>\n",
       "      <td>1.280000</td>\n",
       "      <td>7.421580</td>\n",
       "      <td>0.234965</td>\n",
       "    </tr>\n",
       "    <tr>\n",
       "      <th>2010-07-06</th>\n",
       "      <td>1.074000</td>\n",
       "      <td>7.472374</td>\n",
       "      <td>0.232444</td>\n",
       "    </tr>\n",
       "    <tr>\n",
       "      <th>...</th>\n",
       "      <td>...</td>\n",
       "      <td>...</td>\n",
       "      <td>...</td>\n",
       "    </tr>\n",
       "    <tr>\n",
       "      <th>2025-06-26</th>\n",
       "      <td>325.779999</td>\n",
       "      <td>201.000000</td>\n",
       "      <td>155.020004</td>\n",
       "    </tr>\n",
       "    <tr>\n",
       "      <th>2025-06-27</th>\n",
       "      <td>323.630005</td>\n",
       "      <td>201.080002</td>\n",
       "      <td>157.750000</td>\n",
       "    </tr>\n",
       "    <tr>\n",
       "      <th>2025-06-30</th>\n",
       "      <td>317.660004</td>\n",
       "      <td>205.169998</td>\n",
       "      <td>157.990005</td>\n",
       "    </tr>\n",
       "    <tr>\n",
       "      <th>2025-07-01</th>\n",
       "      <td>300.709991</td>\n",
       "      <td>207.820007</td>\n",
       "      <td>153.300003</td>\n",
       "    </tr>\n",
       "    <tr>\n",
       "      <th>2025-07-02</th>\n",
       "      <td>315.649994</td>\n",
       "      <td>212.440002</td>\n",
       "      <td>157.250000</td>\n",
       "    </tr>\n",
       "  </tbody>\n",
       "</table>\n",
       "<p>3776 rows × 3 columns</p>\n",
       "</div>"
      ],
      "text/plain": [
       "                  TSLA        AAPL        NVDA\n",
       "2010-06-29    1.592667    7.698982    0.240238\n",
       "2010-06-30    1.588667    7.559529    0.234048\n",
       "2010-07-01    1.464000    7.467864    0.237945\n",
       "2010-07-02    1.280000    7.421580    0.234965\n",
       "2010-07-06    1.074000    7.472374    0.232444\n",
       "...                ...         ...         ...\n",
       "2025-06-26  325.779999  201.000000  155.020004\n",
       "2025-06-27  323.630005  201.080002  157.750000\n",
       "2025-06-30  317.660004  205.169998  157.990005\n",
       "2025-07-01  300.709991  207.820007  153.300003\n",
       "2025-07-02  315.649994  212.440002  157.250000\n",
       "\n",
       "[3776 rows x 3 columns]"
      ]
     },
     "execution_count": 45,
     "metadata": {},
     "output_type": "execute_result"
    }
   ],
   "source": [
    "import FinanceDataReader as fdr\n",
    "\n",
    "stocks = ['TSLA', \"AAPL\", \"NVDA\"]\n",
    "\n",
    "df = fdr.DataReader(stocks).dropna()\n",
    "df"
   ]
  },
  {
   "cell_type": "code",
   "execution_count": 47,
   "id": "09b5463c-15c2-45a7-80af-4ef888eb808e",
   "metadata": {},
   "outputs": [
    {
     "data": {
      "text/html": [
       "<div>\n",
       "<style scoped>\n",
       "    .dataframe tbody tr th:only-of-type {\n",
       "        vertical-align: middle;\n",
       "    }\n",
       "\n",
       "    .dataframe tbody tr th {\n",
       "        vertical-align: top;\n",
       "    }\n",
       "\n",
       "    .dataframe thead th {\n",
       "        text-align: right;\n",
       "    }\n",
       "</style>\n",
       "<table border=\"1\" class=\"dataframe\">\n",
       "  <thead>\n",
       "    <tr style=\"text-align: right;\">\n",
       "      <th></th>\n",
       "      <th>TSLA</th>\n",
       "      <th>AAPL</th>\n",
       "      <th>NVDA</th>\n",
       "    </tr>\n",
       "  </thead>\n",
       "  <tbody>\n",
       "    <tr>\n",
       "      <th>2010-06-29</th>\n",
       "      <td>NaN</td>\n",
       "      <td>NaN</td>\n",
       "      <td>NaN</td>\n",
       "    </tr>\n",
       "    <tr>\n",
       "      <th>2010-06-30</th>\n",
       "      <td>-0.002511</td>\n",
       "      <td>-0.018113</td>\n",
       "      <td>-0.025763</td>\n",
       "    </tr>\n",
       "    <tr>\n",
       "      <th>2010-07-01</th>\n",
       "      <td>-0.078473</td>\n",
       "      <td>-0.012126</td>\n",
       "      <td>0.016650</td>\n",
       "    </tr>\n",
       "    <tr>\n",
       "      <th>2010-07-02</th>\n",
       "      <td>-0.125683</td>\n",
       "      <td>-0.006198</td>\n",
       "      <td>-0.012524</td>\n",
       "    </tr>\n",
       "    <tr>\n",
       "      <th>2010-07-06</th>\n",
       "      <td>-0.160937</td>\n",
       "      <td>0.006844</td>\n",
       "      <td>-0.010731</td>\n",
       "    </tr>\n",
       "    <tr>\n",
       "      <th>...</th>\n",
       "      <td>...</td>\n",
       "      <td>...</td>\n",
       "      <td>...</td>\n",
       "    </tr>\n",
       "    <tr>\n",
       "      <th>2025-06-26</th>\n",
       "      <td>-0.005404</td>\n",
       "      <td>-0.002778</td>\n",
       "      <td>0.004601</td>\n",
       "    </tr>\n",
       "    <tr>\n",
       "      <th>2025-06-27</th>\n",
       "      <td>-0.006600</td>\n",
       "      <td>0.000398</td>\n",
       "      <td>0.017611</td>\n",
       "    </tr>\n",
       "    <tr>\n",
       "      <th>2025-06-30</th>\n",
       "      <td>-0.018447</td>\n",
       "      <td>0.020340</td>\n",
       "      <td>0.001521</td>\n",
       "    </tr>\n",
       "    <tr>\n",
       "      <th>2025-07-01</th>\n",
       "      <td>-0.053359</td>\n",
       "      <td>0.012916</td>\n",
       "      <td>-0.029685</td>\n",
       "    </tr>\n",
       "    <tr>\n",
       "      <th>2025-07-02</th>\n",
       "      <td>0.049682</td>\n",
       "      <td>0.022231</td>\n",
       "      <td>0.025766</td>\n",
       "    </tr>\n",
       "  </tbody>\n",
       "</table>\n",
       "<p>3776 rows × 3 columns</p>\n",
       "</div>"
      ],
      "text/plain": [
       "                TSLA      AAPL      NVDA\n",
       "2010-06-29       NaN       NaN       NaN\n",
       "2010-06-30 -0.002511 -0.018113 -0.025763\n",
       "2010-07-01 -0.078473 -0.012126  0.016650\n",
       "2010-07-02 -0.125683 -0.006198 -0.012524\n",
       "2010-07-06 -0.160937  0.006844 -0.010731\n",
       "...              ...       ...       ...\n",
       "2025-06-26 -0.005404 -0.002778  0.004601\n",
       "2025-06-27 -0.006600  0.000398  0.017611\n",
       "2025-06-30 -0.018447  0.020340  0.001521\n",
       "2025-07-01 -0.053359  0.012916 -0.029685\n",
       "2025-07-02  0.049682  0.022231  0.025766\n",
       "\n",
       "[3776 rows x 3 columns]"
      ]
     },
     "execution_count": 47,
     "metadata": {},
     "output_type": "execute_result"
    }
   ],
   "source": [
    "# 각 종목별로 일간 수익률\n",
    "daily_ret = df.pct_change()\n",
    "daily_ret"
   ]
  },
  {
   "cell_type": "code",
   "execution_count": 50,
   "id": "4e6a33da-d0ae-4b3b-a7f6-282077dc8768",
   "metadata": {},
   "outputs": [
    {
     "data": {
      "text/plain": [
       "TSLA    0.521155\n",
       "AAPL    0.261442\n",
       "NVDA    0.538328\n",
       "dtype: float64"
      ]
     },
     "execution_count": 50,
     "metadata": {},
     "output_type": "execute_result"
    }
   ],
   "source": [
    "# 종목별 연간 평균 수익률\n",
    "annual_ret = daily_ret.mean() * 252\n",
    "annual_ret"
   ]
  },
  {
   "cell_type": "code",
   "execution_count": 66,
   "id": "c21a45ca-8209-4468-897c-22271cccaaa1",
   "metadata": {},
   "outputs": [
    {
     "data": {
      "text/plain": [
       "array([[0.24823703, 0.99077059],\n",
       "       [0.99077059, 4.0284079 ]])"
      ]
     },
     "execution_count": 66,
     "metadata": {},
     "output_type": "execute_result"
    }
   ],
   "source": [
    "# 위험(리스크) : 변동성이 크다. -> 공분산\n",
    "import numpy as np\n",
    "\n",
    "study = [2, 3, 5, 6, 8]\n",
    "scores = [65, 70, 75, 80, 90]\n",
    "\n",
    "mean_study = np.mean(study)\n",
    "mean_scores = np.mean(scores)\n",
    "\n",
    "study2 = [i - mean_study for i in study]\n",
    "scores2 = [i - mean_scores for i in scores]\n",
    "\n",
    "A = sum([i * j for i, j in zip(study2, scores2)])\n",
    "\n",
    "result = A / (len(study2) - 1)\n",
    "\n",
    "A = np.array([study, scores])\n",
    "B = np.cov(A)\n",
    "\n",
    "var_study = B[0,0]\n",
    "var_scores = B[1,1]\n",
    "var = B[0,1]\n",
    "\n",
    "std_study = np.sqrt(var_study)\n",
    "std_scores = np.sqrt(var_scores)\n",
    "\n",
    "corr = B / (std_study * std_scores)\n",
    "corr"
   ]
  },
  {
   "cell_type": "code",
   "execution_count": 69,
   "id": "4bbef2be-e96a-41d5-b16e-4d4496e6f6b4",
   "metadata": {},
   "outputs": [
    {
     "data": {
      "text/html": [
       "<div>\n",
       "<style scoped>\n",
       "    .dataframe tbody tr th:only-of-type {\n",
       "        vertical-align: middle;\n",
       "    }\n",
       "\n",
       "    .dataframe tbody tr th {\n",
       "        vertical-align: top;\n",
       "    }\n",
       "\n",
       "    .dataframe thead th {\n",
       "        text-align: right;\n",
       "    }\n",
       "</style>\n",
       "<table border=\"1\" class=\"dataframe\">\n",
       "  <thead>\n",
       "    <tr style=\"text-align: right;\">\n",
       "      <th></th>\n",
       "      <th>TSLA</th>\n",
       "      <th>AAPL</th>\n",
       "      <th>NVDA</th>\n",
       "    </tr>\n",
       "  </thead>\n",
       "  <tbody>\n",
       "    <tr>\n",
       "      <th>TSLA</th>\n",
       "      <td>0.001341</td>\n",
       "      <td>0.000242</td>\n",
       "      <td>0.000396</td>\n",
       "    </tr>\n",
       "    <tr>\n",
       "      <th>AAPL</th>\n",
       "      <td>0.000242</td>\n",
       "      <td>0.000317</td>\n",
       "      <td>0.000250</td>\n",
       "    </tr>\n",
       "    <tr>\n",
       "      <th>NVDA</th>\n",
       "      <td>0.000396</td>\n",
       "      <td>0.000250</td>\n",
       "      <td>0.000842</td>\n",
       "    </tr>\n",
       "  </tbody>\n",
       "</table>\n",
       "</div>"
      ],
      "text/plain": [
       "          TSLA      AAPL      NVDA\n",
       "TSLA  0.001341  0.000242  0.000396\n",
       "AAPL  0.000242  0.000317  0.000250\n",
       "NVDA  0.000396  0.000250  0.000842"
      ]
     },
     "execution_count": 69,
     "metadata": {},
     "output_type": "execute_result"
    }
   ],
   "source": [
    "daily_cov = daily_ret.cov()\n",
    "daily_cov"
   ]
  },
  {
   "cell_type": "code",
   "execution_count": 71,
   "id": "9f15dcba-83a0-4a90-8653-ea31b4014019",
   "metadata": {},
   "outputs": [
    {
     "data": {
      "text/html": [
       "<div>\n",
       "<style scoped>\n",
       "    .dataframe tbody tr th:only-of-type {\n",
       "        vertical-align: middle;\n",
       "    }\n",
       "\n",
       "    .dataframe tbody tr th {\n",
       "        vertical-align: top;\n",
       "    }\n",
       "\n",
       "    .dataframe thead th {\n",
       "        text-align: right;\n",
       "    }\n",
       "</style>\n",
       "<table border=\"1\" class=\"dataframe\">\n",
       "  <thead>\n",
       "    <tr style=\"text-align: right;\">\n",
       "      <th></th>\n",
       "      <th>TSLA</th>\n",
       "      <th>AAPL</th>\n",
       "      <th>NVDA</th>\n",
       "    </tr>\n",
       "  </thead>\n",
       "  <tbody>\n",
       "    <tr>\n",
       "      <th>TSLA</th>\n",
       "      <td>0.337954</td>\n",
       "      <td>0.060861</td>\n",
       "      <td>0.099804</td>\n",
       "    </tr>\n",
       "    <tr>\n",
       "      <th>AAPL</th>\n",
       "      <td>0.060861</td>\n",
       "      <td>0.079802</td>\n",
       "      <td>0.063029</td>\n",
       "    </tr>\n",
       "    <tr>\n",
       "      <th>NVDA</th>\n",
       "      <td>0.099804</td>\n",
       "      <td>0.063029</td>\n",
       "      <td>0.212301</td>\n",
       "    </tr>\n",
       "  </tbody>\n",
       "</table>\n",
       "</div>"
      ],
      "text/plain": [
       "          TSLA      AAPL      NVDA\n",
       "TSLA  0.337954  0.060861  0.099804\n",
       "AAPL  0.060861  0.079802  0.063029\n",
       "NVDA  0.099804  0.063029  0.212301"
      ]
     },
     "execution_count": 71,
     "metadata": {},
     "output_type": "execute_result"
    }
   ],
   "source": [
    "# 연간 리스크\n",
    "annual_cov = daily_cov * 252\n",
    "annual_cov"
   ]
  },
  {
   "cell_type": "code",
   "execution_count": 86,
   "id": "473a9c6e-923a-45e4-9744-3d018212919d",
   "metadata": {},
   "outputs": [
    {
     "data": {
      "text/html": [
       "<div>\n",
       "<style scoped>\n",
       "    .dataframe tbody tr th:only-of-type {\n",
       "        vertical-align: middle;\n",
       "    }\n",
       "\n",
       "    .dataframe tbody tr th {\n",
       "        vertical-align: top;\n",
       "    }\n",
       "\n",
       "    .dataframe thead th {\n",
       "        text-align: right;\n",
       "    }\n",
       "</style>\n",
       "<table border=\"1\" class=\"dataframe\">\n",
       "  <thead>\n",
       "    <tr style=\"text-align: right;\">\n",
       "      <th></th>\n",
       "      <th>Returns</th>\n",
       "      <th>Risk</th>\n",
       "      <th>Sharpe</th>\n",
       "      <th>TSLA</th>\n",
       "      <th>AAPL</th>\n",
       "      <th>NVDA</th>\n",
       "    </tr>\n",
       "  </thead>\n",
       "  <tbody>\n",
       "    <tr>\n",
       "      <th>0</th>\n",
       "      <td>0.465101</td>\n",
       "      <td>0.366989</td>\n",
       "      <td>1.185596</td>\n",
       "      <td>0.373331</td>\n",
       "      <td>0.241313</td>\n",
       "      <td>0.385356</td>\n",
       "    </tr>\n",
       "    <tr>\n",
       "      <th>1</th>\n",
       "      <td>0.435328</td>\n",
       "      <td>0.343929</td>\n",
       "      <td>1.178524</td>\n",
       "      <td>0.339362</td>\n",
       "      <td>0.350945</td>\n",
       "      <td>0.309693</td>\n",
       "    </tr>\n",
       "    <tr>\n",
       "      <th>2</th>\n",
       "      <td>0.422715</td>\n",
       "      <td>0.325414</td>\n",
       "      <td>1.206818</td>\n",
       "      <td>0.220299</td>\n",
       "      <td>0.403884</td>\n",
       "      <td>0.375817</td>\n",
       "    </tr>\n",
       "    <tr>\n",
       "      <th>3</th>\n",
       "      <td>0.460526</td>\n",
       "      <td>0.433905</td>\n",
       "      <td>0.992213</td>\n",
       "      <td>0.656140</td>\n",
       "      <td>0.240296</td>\n",
       "      <td>0.103564</td>\n",
       "    </tr>\n",
       "    <tr>\n",
       "      <th>4</th>\n",
       "      <td>0.422956</td>\n",
       "      <td>0.395444</td>\n",
       "      <td>0.993708</td>\n",
       "      <td>0.570509</td>\n",
       "      <td>0.381292</td>\n",
       "      <td>0.048199</td>\n",
       "    </tr>\n",
       "    <tr>\n",
       "      <th>...</th>\n",
       "      <td>...</td>\n",
       "      <td>...</td>\n",
       "      <td>...</td>\n",
       "      <td>...</td>\n",
       "      <td>...</td>\n",
       "      <td>...</td>\n",
       "    </tr>\n",
       "    <tr>\n",
       "      <th>9995</th>\n",
       "      <td>0.410420</td>\n",
       "      <td>0.368241</td>\n",
       "      <td>1.033072</td>\n",
       "      <td>0.492806</td>\n",
       "      <td>0.431388</td>\n",
       "      <td>0.075806</td>\n",
       "    </tr>\n",
       "    <tr>\n",
       "      <th>9996</th>\n",
       "      <td>0.454700</td>\n",
       "      <td>0.407919</td>\n",
       "      <td>1.041137</td>\n",
       "      <td>0.581065</td>\n",
       "      <td>0.265992</td>\n",
       "      <td>0.152943</td>\n",
       "    </tr>\n",
       "    <tr>\n",
       "      <th>9997</th>\n",
       "      <td>0.463653</td>\n",
       "      <td>0.361365</td>\n",
       "      <td>1.200041</td>\n",
       "      <td>0.117737</td>\n",
       "      <td>0.262394</td>\n",
       "      <td>0.619869</td>\n",
       "    </tr>\n",
       "    <tr>\n",
       "      <th>9998</th>\n",
       "      <td>0.377885</td>\n",
       "      <td>0.298325</td>\n",
       "      <td>1.166128</td>\n",
       "      <td>0.139285</td>\n",
       "      <td>0.570815</td>\n",
       "      <td>0.289900</td>\n",
       "    </tr>\n",
       "    <tr>\n",
       "      <th>9999</th>\n",
       "      <td>0.390004</td>\n",
       "      <td>0.315122</td>\n",
       "      <td>1.142426</td>\n",
       "      <td>0.007451</td>\n",
       "      <td>0.535222</td>\n",
       "      <td>0.457326</td>\n",
       "    </tr>\n",
       "  </tbody>\n",
       "</table>\n",
       "<p>10000 rows × 6 columns</p>\n",
       "</div>"
      ],
      "text/plain": [
       "       Returns      Risk    Sharpe      TSLA      AAPL      NVDA\n",
       "0     0.465101  0.366989  1.185596  0.373331  0.241313  0.385356\n",
       "1     0.435328  0.343929  1.178524  0.339362  0.350945  0.309693\n",
       "2     0.422715  0.325414  1.206818  0.220299  0.403884  0.375817\n",
       "3     0.460526  0.433905  0.992213  0.656140  0.240296  0.103564\n",
       "4     0.422956  0.395444  0.993708  0.570509  0.381292  0.048199\n",
       "...        ...       ...       ...       ...       ...       ...\n",
       "9995  0.410420  0.368241  1.033072  0.492806  0.431388  0.075806\n",
       "9996  0.454700  0.407919  1.041137  0.581065  0.265992  0.152943\n",
       "9997  0.463653  0.361365  1.200041  0.117737  0.262394  0.619869\n",
       "9998  0.377885  0.298325  1.166128  0.139285  0.570815  0.289900\n",
       "9999  0.390004  0.315122  1.142426  0.007451  0.535222  0.457326\n",
       "\n",
       "[10000 rows x 6 columns]"
      ]
     },
     "execution_count": 86,
     "metadata": {},
     "output_type": "execute_result"
    }
   ],
   "source": [
    "import pandas as pd\n",
    "\n",
    "total = []\n",
    "\n",
    "for n in range(10000):\n",
    "    \n",
    "    weights = np.random.random(len(stocks))\n",
    "    weights /= np.sum(weights)\n",
    "\n",
    "    returns = np.dot(weights, annual_ret)\n",
    "    risk = np.sqrt(np.dot(weights.T, np.dot(annual_cov, weights)))\n",
    "    sharpe_ratio = (returns - 0.03) / risk\n",
    "\n",
    "    total.append([returns, risk, sharpe_ratio] + list(weights))\n",
    "\n",
    "df = pd.DataFrame(total, columns = ['Returns', 'Risk', 'Sharpe'] + stocks)\n",
    "df"
   ]
  },
  {
   "cell_type": "code",
   "execution_count": 87,
   "id": "dd07198c-22bd-4dff-aa36-bc393e2cb0c8",
   "metadata": {},
   "outputs": [
    {
     "data": {
      "text/html": [
       "<div>\n",
       "<style scoped>\n",
       "    .dataframe tbody tr th:only-of-type {\n",
       "        vertical-align: middle;\n",
       "    }\n",
       "\n",
       "    .dataframe tbody tr th {\n",
       "        vertical-align: top;\n",
       "    }\n",
       "\n",
       "    .dataframe thead th {\n",
       "        text-align: right;\n",
       "    }\n",
       "</style>\n",
       "<table border=\"1\" class=\"dataframe\">\n",
       "  <thead>\n",
       "    <tr style=\"text-align: right;\">\n",
       "      <th></th>\n",
       "      <th>Returns</th>\n",
       "      <th>Risk</th>\n",
       "      <th>Sharpe</th>\n",
       "      <th>TSLA</th>\n",
       "      <th>AAPL</th>\n",
       "      <th>NVDA</th>\n",
       "    </tr>\n",
       "  </thead>\n",
       "  <tbody>\n",
       "    <tr>\n",
       "      <th>4572</th>\n",
       "      <td>0.459902</td>\n",
       "      <td>0.352764</td>\n",
       "      <td>1.218668</td>\n",
       "      <td>0.220509</td>\n",
       "      <td>0.269568</td>\n",
       "      <td>0.509923</td>\n",
       "    </tr>\n",
       "  </tbody>\n",
       "</table>\n",
       "</div>"
      ],
      "text/plain": [
       "       Returns      Risk    Sharpe      TSLA      AAPL      NVDA\n",
       "4572  0.459902  0.352764  1.218668  0.220509  0.269568  0.509923"
      ]
     },
     "execution_count": 87,
     "metadata": {},
     "output_type": "execute_result"
    }
   ],
   "source": [
    "max_sharpe = df[df['Sharpe'] == df['Sharpe'].max()]\n",
    "max_sharpe"
   ]
  },
  {
   "cell_type": "code",
   "execution_count": 88,
   "id": "7bd0f06d-a7a7-4dbd-8f04-42f8a9204a70",
   "metadata": {},
   "outputs": [
    {
     "data": {
      "image/png": "[encoded data removed]",
      "text/plain": [
       "<Figure size 640x480 with 2 Axes>"
      ]
     },
     "metadata": {},
     "output_type": "display_data"
    }
   ],
   "source": [
    "import matplotlib.pyplot as plt\n",
    "\n",
    "df.plot.scatter(x = 'Risk', y = 'Returns', grid = True,\n",
    "                cmap = 'viridis', c = \"Sharpe\", edgecolor = 'k')\n",
    "\n",
    "plt.scatter(x = max_sharpe['Risk'], y = max_sharpe['Returns'],\n",
    "            c = 'r', marker = '*', s = 300)\n",
    "\n",
    "plt.show()"
   ]
  },
  {
   "cell_type": "code",
   "execution_count": null,
   "id": "712b085e-6b58-4757-8354-59c7a0e9b922",
   "metadata": {},
   "outputs": [],
   "source": []
  }
 ],
 "metadata": {
  "kernelspec": {
   "display_name": "Python 3 (ipykernel)",
   "language": "python",
   "name": "python3"
  },
  "language_info": {
   "codemirror_mode": {
    "name": "ipython",
    "version": 3
   },
   "file_extension": ".py",
   "mimetype": "text/x-python",
   "name": "python",
   "nbconvert_exporter": "python",
   "pygments_lexer": "ipython3",
   "version": "3.12.7"
  }
 },
 "nbformat": 4,
 "nbformat_minor": 5
}
