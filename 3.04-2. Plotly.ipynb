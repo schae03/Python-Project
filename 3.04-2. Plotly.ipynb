{
 "cells": [
  {
   "cell_type": "markdown",
   "id": "b23e1865-c5fe-47e2-aef0-caa0d1a45a6e",
   "metadata": {},
   "source": [
    "# 만질 수 있는 시각화: Plotly"
   ]
  },
  {
   "cell_type": "code",
   "execution_count": 3,
   "id": "17ec50c8-c834-454a-b988-d5474485f4a2",
   "metadata": {},
   "outputs": [
    {
     "data": {
      "text/html": [
       "<div>\n",
       "<style scoped>\n",
       "    .dataframe tbody tr th:only-of-type {\n",
       "        vertical-align: middle;\n",
       "    }\n",
       "\n",
       "    .dataframe tbody tr th {\n",
       "        vertical-align: top;\n",
       "    }\n",
       "\n",
       "    .dataframe thead th {\n",
       "        text-align: right;\n",
       "    }\n",
       "</style>\n",
       "<table border=\"1\" class=\"dataframe\">\n",
       "  <thead>\n",
       "    <tr style=\"text-align: right;\">\n",
       "      <th></th>\n",
       "      <th>OrderID</th>\n",
       "      <th>OrderDate</th>\n",
       "      <th>Gender</th>\n",
       "      <th>AgeGroup</th>\n",
       "      <th>Channel</th>\n",
       "      <th>ShipDate</th>\n",
       "      <th>ItemCode</th>\n",
       "      <th>MapCode</th>\n",
       "      <th>Quantity</th>\n",
       "      <th>Revenue</th>\n",
       "      <th>...</th>\n",
       "      <th>Category</th>\n",
       "      <th>Item Type</th>\n",
       "      <th>Region</th>\n",
       "      <th>Country</th>\n",
       "      <th>Code2</th>\n",
       "      <th>Code3</th>\n",
       "      <th>Latitude</th>\n",
       "      <th>Longitude</th>\n",
       "      <th>year</th>\n",
       "      <th>month</th>\n",
       "    </tr>\n",
       "  </thead>\n",
       "  <tbody>\n",
       "    <tr>\n",
       "      <th>0</th>\n",
       "      <td>100013196</td>\n",
       "      <td>2020-03-20</td>\n",
       "      <td>Female</td>\n",
       "      <td>30s</td>\n",
       "      <td>Online</td>\n",
       "      <td>2020-03-22</td>\n",
       "      <td>D10002</td>\n",
       "      <td>34</td>\n",
       "      <td>46</td>\n",
       "      <td>35576.60</td>\n",
       "      <td>...</td>\n",
       "      <td>Office</td>\n",
       "      <td>Office Supplies</td>\n",
       "      <td>Asia</td>\n",
       "      <td>Taiwan</td>\n",
       "      <td>TW</td>\n",
       "      <td>TWN</td>\n",
       "      <td>23.697810</td>\n",
       "      <td>120.960515</td>\n",
       "      <td>2020</td>\n",
       "      <td>3</td>\n",
       "    </tr>\n",
       "    <tr>\n",
       "      <th>1</th>\n",
       "      <td>100061261</td>\n",
       "      <td>2018-06-20</td>\n",
       "      <td>Female</td>\n",
       "      <td>50s</td>\n",
       "      <td>Offline</td>\n",
       "      <td>NaN</td>\n",
       "      <td>D10001</td>\n",
       "      <td>5</td>\n",
       "      <td>69</td>\n",
       "      <td>10222.80</td>\n",
       "      <td>...</td>\n",
       "      <td>Home</td>\n",
       "      <td>Household</td>\n",
       "      <td>Asia</td>\n",
       "      <td>China</td>\n",
       "      <td>CN</td>\n",
       "      <td>CHN</td>\n",
       "      <td>35.861660</td>\n",
       "      <td>104.195397</td>\n",
       "      <td>2018</td>\n",
       "      <td>6</td>\n",
       "    </tr>\n",
       "    <tr>\n",
       "      <th>2</th>\n",
       "      <td>100071990</td>\n",
       "      <td>2020-06-20</td>\n",
       "      <td>Female</td>\n",
       "      <td>20s</td>\n",
       "      <td>Online</td>\n",
       "      <td>2020-06-22</td>\n",
       "      <td>D10001</td>\n",
       "      <td>3</td>\n",
       "      <td>53</td>\n",
       "      <td>31731.50</td>\n",
       "      <td>...</td>\n",
       "      <td>Home</td>\n",
       "      <td>Household</td>\n",
       "      <td>Europe</td>\n",
       "      <td>Belgium</td>\n",
       "      <td>BE</td>\n",
       "      <td>BEL</td>\n",
       "      <td>50.503887</td>\n",
       "      <td>4.469936</td>\n",
       "      <td>2020</td>\n",
       "      <td>6</td>\n",
       "    </tr>\n",
       "    <tr>\n",
       "      <th>3</th>\n",
       "      <td>100074136</td>\n",
       "      <td>2019-04-12</td>\n",
       "      <td>Male</td>\n",
       "      <td>40s</td>\n",
       "      <td>Online</td>\n",
       "      <td>2019-04-15</td>\n",
       "      <td>C10003</td>\n",
       "      <td>31</td>\n",
       "      <td>84</td>\n",
       "      <td>30739.60</td>\n",
       "      <td>...</td>\n",
       "      <td>Foods</td>\n",
       "      <td>Vegetables</td>\n",
       "      <td>Asia</td>\n",
       "      <td>South Korea</td>\n",
       "      <td>KR</td>\n",
       "      <td>KOR</td>\n",
       "      <td>35.907757</td>\n",
       "      <td>127.766922</td>\n",
       "      <td>2019</td>\n",
       "      <td>4</td>\n",
       "    </tr>\n",
       "    <tr>\n",
       "      <th>4</th>\n",
       "      <td>100103318</td>\n",
       "      <td>2018-03-27</td>\n",
       "      <td>Male</td>\n",
       "      <td>30s</td>\n",
       "      <td>Offline</td>\n",
       "      <td>NaN</td>\n",
       "      <td>C10004</td>\n",
       "      <td>7</td>\n",
       "      <td>56</td>\n",
       "      <td>62652.90</td>\n",
       "      <td>...</td>\n",
       "      <td>Foods</td>\n",
       "      <td>Fruits</td>\n",
       "      <td>America</td>\n",
       "      <td>Cuba</td>\n",
       "      <td>CU</td>\n",
       "      <td>CUB</td>\n",
       "      <td>21.300000</td>\n",
       "      <td>-80.000000</td>\n",
       "      <td>2018</td>\n",
       "      <td>3</td>\n",
       "    </tr>\n",
       "    <tr>\n",
       "      <th>...</th>\n",
       "      <td>...</td>\n",
       "      <td>...</td>\n",
       "      <td>...</td>\n",
       "      <td>...</td>\n",
       "      <td>...</td>\n",
       "      <td>...</td>\n",
       "      <td>...</td>\n",
       "      <td>...</td>\n",
       "      <td>...</td>\n",
       "      <td>...</td>\n",
       "      <td>...</td>\n",
       "      <td>...</td>\n",
       "      <td>...</td>\n",
       "      <td>...</td>\n",
       "      <td>...</td>\n",
       "      <td>...</td>\n",
       "      <td>...</td>\n",
       "      <td>...</td>\n",
       "      <td>...</td>\n",
       "      <td>...</td>\n",
       "      <td>...</td>\n",
       "    </tr>\n",
       "    <tr>\n",
       "      <th>27652</th>\n",
       "      <td>999944102</td>\n",
       "      <td>2018-04-23</td>\n",
       "      <td>Male</td>\n",
       "      <td>30s</td>\n",
       "      <td>Offline</td>\n",
       "      <td>NaN</td>\n",
       "      <td>D10002</td>\n",
       "      <td>5</td>\n",
       "      <td>55</td>\n",
       "      <td>30235.45</td>\n",
       "      <td>...</td>\n",
       "      <td>Office</td>\n",
       "      <td>Office Supplies</td>\n",
       "      <td>Asia</td>\n",
       "      <td>China</td>\n",
       "      <td>CN</td>\n",
       "      <td>CHN</td>\n",
       "      <td>35.861660</td>\n",
       "      <td>104.195397</td>\n",
       "      <td>2018</td>\n",
       "      <td>4</td>\n",
       "    </tr>\n",
       "    <tr>\n",
       "      <th>27653</th>\n",
       "      <td>999951398</td>\n",
       "      <td>2018-02-18</td>\n",
       "      <td>Female</td>\n",
       "      <td>30s</td>\n",
       "      <td>Online</td>\n",
       "      <td>2018-02-25</td>\n",
       "      <td>C10002</td>\n",
       "      <td>38</td>\n",
       "      <td>63</td>\n",
       "      <td>12194.19</td>\n",
       "      <td>...</td>\n",
       "      <td>Foods</td>\n",
       "      <td>Beverages</td>\n",
       "      <td>Europe</td>\n",
       "      <td>United Kingdom</td>\n",
       "      <td>GB</td>\n",
       "      <td>GBR</td>\n",
       "      <td>51.513330</td>\n",
       "      <td>-0.088947</td>\n",
       "      <td>2018</td>\n",
       "      <td>2</td>\n",
       "    </tr>\n",
       "    <tr>\n",
       "      <th>27654</th>\n",
       "      <td>999998605</td>\n",
       "      <td>2018-11-25</td>\n",
       "      <td>Female</td>\n",
       "      <td>60s</td>\n",
       "      <td>Offline</td>\n",
       "      <td>2018-11-25</td>\n",
       "      <td>B10001</td>\n",
       "      <td>4</td>\n",
       "      <td>57</td>\n",
       "      <td>21593.28</td>\n",
       "      <td>...</td>\n",
       "      <td>Clothes</td>\n",
       "      <td>Clothes</td>\n",
       "      <td>America</td>\n",
       "      <td>Canada</td>\n",
       "      <td>CA</td>\n",
       "      <td>CAN</td>\n",
       "      <td>45.423494</td>\n",
       "      <td>-75.697933</td>\n",
       "      <td>2018</td>\n",
       "      <td>11</td>\n",
       "    </tr>\n",
       "    <tr>\n",
       "      <th>27655</th>\n",
       "      <td>999999463</td>\n",
       "      <td>2020-09-02</td>\n",
       "      <td>Female</td>\n",
       "      <td>40s</td>\n",
       "      <td>Online</td>\n",
       "      <td>2020-09-07</td>\n",
       "      <td>C10006</td>\n",
       "      <td>5</td>\n",
       "      <td>44</td>\n",
       "      <td>36596.83</td>\n",
       "      <td>...</td>\n",
       "      <td>Foods</td>\n",
       "      <td>Cereal</td>\n",
       "      <td>Asia</td>\n",
       "      <td>China</td>\n",
       "      <td>CN</td>\n",
       "      <td>CHN</td>\n",
       "      <td>35.861660</td>\n",
       "      <td>104.195397</td>\n",
       "      <td>2020</td>\n",
       "      <td>9</td>\n",
       "    </tr>\n",
       "    <tr>\n",
       "      <th>27656</th>\n",
       "      <td>249375331</td>\n",
       "      <td>2017-01-11</td>\n",
       "      <td>Male</td>\n",
       "      <td>40s</td>\n",
       "      <td>Online</td>\n",
       "      <td>2017-01-20</td>\n",
       "      <td>B10001</td>\n",
       "      <td>1</td>\n",
       "      <td>41</td>\n",
       "      <td>13305.64</td>\n",
       "      <td>...</td>\n",
       "      <td>Clothes</td>\n",
       "      <td>Clothes</td>\n",
       "      <td>Oceania</td>\n",
       "      <td>Australia</td>\n",
       "      <td>AU</td>\n",
       "      <td>AUS</td>\n",
       "      <td>-35.306944</td>\n",
       "      <td>149.124297</td>\n",
       "      <td>2017</td>\n",
       "      <td>1</td>\n",
       "    </tr>\n",
       "  </tbody>\n",
       "</table>\n",
       "<p>27657 rows × 21 columns</p>\n",
       "</div>"
      ],
      "text/plain": [
       "         OrderID  OrderDate  Gender AgeGroup  Channel    ShipDate ItemCode  \\\n",
       "0      100013196 2020-03-20  Female      30s   Online  2020-03-22   D10002   \n",
       "1      100061261 2018-06-20  Female      50s  Offline         NaN   D10001   \n",
       "2      100071990 2020-06-20  Female      20s   Online  2020-06-22   D10001   \n",
       "3      100074136 2019-04-12    Male      40s   Online  2019-04-15   C10003   \n",
       "4      100103318 2018-03-27    Male      30s  Offline         NaN   C10004   \n",
       "...          ...        ...     ...      ...      ...         ...      ...   \n",
       "27652  999944102 2018-04-23    Male      30s  Offline         NaN   D10002   \n",
       "27653  999951398 2018-02-18  Female      30s   Online  2018-02-25   C10002   \n",
       "27654  999998605 2018-11-25  Female      60s  Offline  2018-11-25   B10001   \n",
       "27655  999999463 2020-09-02  Female      40s   Online  2020-09-07   C10006   \n",
       "27656  249375331 2017-01-11    Male      40s   Online  2017-01-20   B10001   \n",
       "\n",
       "       MapCode  Quantity   Revenue  ...  Category        Item Type   Region  \\\n",
       "0           34        46  35576.60  ...    Office  Office Supplies     Asia   \n",
       "1            5        69  10222.80  ...      Home        Household     Asia   \n",
       "2            3        53  31731.50  ...      Home        Household   Europe   \n",
       "3           31        84  30739.60  ...     Foods       Vegetables     Asia   \n",
       "4            7        56  62652.90  ...     Foods           Fruits  America   \n",
       "...        ...       ...       ...  ...       ...              ...      ...   \n",
       "27652        5        55  30235.45  ...    Office  Office Supplies     Asia   \n",
       "27653       38        63  12194.19  ...     Foods        Beverages   Europe   \n",
       "27654        4        57  21593.28  ...   Clothes          Clothes  America   \n",
       "27655        5        44  36596.83  ...     Foods           Cereal     Asia   \n",
       "27656        1        41  13305.64  ...   Clothes          Clothes  Oceania   \n",
       "\n",
       "              Country Code2 Code3   Latitude   Longitude  year  month  \n",
       "0              Taiwan    TW   TWN  23.697810  120.960515  2020      3  \n",
       "1               China    CN   CHN  35.861660  104.195397  2018      6  \n",
       "2             Belgium    BE   BEL  50.503887    4.469936  2020      6  \n",
       "3         South Korea    KR   KOR  35.907757  127.766922  2019      4  \n",
       "4                Cuba    CU   CUB  21.300000  -80.000000  2018      3  \n",
       "...               ...   ...   ...        ...         ...   ...    ...  \n",
       "27652           China    CN   CHN  35.861660  104.195397  2018      4  \n",
       "27653  United Kingdom    GB   GBR  51.513330   -0.088947  2018      2  \n",
       "27654          Canada    CA   CAN  45.423494  -75.697933  2018     11  \n",
       "27655           China    CN   CHN  35.861660  104.195397  2020      9  \n",
       "27656       Australia    AU   AUS -35.306944  149.124297  2017      1  \n",
       "\n",
       "[27657 rows x 21 columns]"
      ]
     },
     "execution_count": 3,
     "metadata": {},
     "output_type": "execute_result"
    }
   ],
   "source": [
    "# 만질 수 있는 시각화: Plotly\n",
    "\n",
    "import pandas as pd\n",
    "df = pd.read_csv(\"Data/Data.csv\")\n",
    "df[\"OrderDate\"] = pd.to_datetime(df[\"OrderDate\"])     # 날짜 타입으로 만들어주기\n",
    "df[\"year\"] = df[\"OrderDate\"].dt.year\n",
    "df[\"month\"] = df[\"OrderDate\"].dt.month        # 연과 월 뽑아내기\n",
    "df"
   ]
  },
  {
   "cell_type": "code",
   "execution_count": 8,
   "id": "53486f42-110d-4616-b1a2-e09cbe56596c",
   "metadata": {},
   "outputs": [
    {
     "data": {
      "text/plain": [
       "0             Taiwan\n",
       "2            Belgium\n",
       "5            Vietnam\n",
       "8              Spain\n",
       "9              China\n",
       "            ...     \n",
       "27630          Yemen\n",
       "27636         Sweden\n",
       "27637    Philippines\n",
       "27640          Yemen\n",
       "27655          China\n",
       "Name: Country, Length: 8567, dtype: object"
      ]
     },
     "execution_count": 8,
     "metadata": {},
     "output_type": "execute_result"
    }
   ],
   "source": [
    "import warnings\n",
    "warnings.filterwarnings(\"ignore\")\n",
    "\n",
    "df20 = df[df[\"year\"] == 2020]\n",
    "df20[\"Margin\"] = df20[\"Revenue\"] - df20[\"Cost\"]      # 순수익 구해줌"
   ]
  },
  {
   "cell_type": "code",
   "execution_count": 15,
   "id": "32ce4531-2155-439d-809c-b31447c83717",
   "metadata": {},
   "outputs": [
    {
     "data": {
      "text/html": [
       "<div>\n",
       "<style scoped>\n",
       "    .dataframe tbody tr th:only-of-type {\n",
       "        vertical-align: middle;\n",
       "    }\n",
       "\n",
       "    .dataframe tbody tr th {\n",
       "        vertical-align: top;\n",
       "    }\n",
       "\n",
       "    .dataframe thead th {\n",
       "        text-align: right;\n",
       "    }\n",
       "</style>\n",
       "<table border=\"1\" class=\"dataframe\">\n",
       "  <thead>\n",
       "    <tr style=\"text-align: right;\">\n",
       "      <th></th>\n",
       "      <th>Revenue</th>\n",
       "      <th>Margin</th>\n",
       "    </tr>\n",
       "    <tr>\n",
       "      <th>Country</th>\n",
       "      <th></th>\n",
       "      <th></th>\n",
       "    </tr>\n",
       "  </thead>\n",
       "  <tbody>\n",
       "    <tr>\n",
       "      <th>Australia</th>\n",
       "      <td>17937580.10</td>\n",
       "      <td>5.998658e+06</td>\n",
       "    </tr>\n",
       "    <tr>\n",
       "      <th>Austria</th>\n",
       "      <td>3618448.90</td>\n",
       "      <td>1.193857e+06</td>\n",
       "    </tr>\n",
       "    <tr>\n",
       "      <th>Belgium</th>\n",
       "      <td>6990961.80</td>\n",
       "      <td>2.331454e+06</td>\n",
       "    </tr>\n",
       "    <tr>\n",
       "      <th>Canada</th>\n",
       "      <td>12659751.70</td>\n",
       "      <td>3.981548e+06</td>\n",
       "    </tr>\n",
       "    <tr>\n",
       "      <th>China</th>\n",
       "      <td>35419012.93</td>\n",
       "      <td>1.143323e+07</td>\n",
       "    </tr>\n",
       "  </tbody>\n",
       "</table>\n",
       "</div>"
      ],
      "text/plain": [
       "               Revenue        Margin\n",
       "Country                             \n",
       "Australia  17937580.10  5.998658e+06\n",
       "Austria     3618448.90  1.193857e+06\n",
       "Belgium     6990961.80  2.331454e+06\n",
       "Canada     12659751.70  3.981548e+06\n",
       "China      35419012.93  1.143323e+07"
      ]
     },
     "execution_count": 15,
     "metadata": {},
     "output_type": "execute_result"
    }
   ],
   "source": [
    "# 국가별로 매출과 이익 합계 산출\n",
    "df_g = df20.groupby(\"Country\")[[\"Revenue\", \"Margin\"]].sum()\n",
    "df_g.head()"
   ]
  },
  {
   "cell_type": "code",
   "execution_count": 22,
   "id": "72ff0f24-6292-4234-92db-804a210d12b2",
   "metadata": {},
   "outputs": [
    {
     "data": {
      "text/html": [
       "<div>\n",
       "<style scoped>\n",
       "    .dataframe tbody tr th:only-of-type {\n",
       "        vertical-align: middle;\n",
       "    }\n",
       "\n",
       "    .dataframe tbody tr th {\n",
       "        vertical-align: top;\n",
       "    }\n",
       "\n",
       "    .dataframe thead th {\n",
       "        text-align: right;\n",
       "    }\n",
       "</style>\n",
       "<table border=\"1\" class=\"dataframe\">\n",
       "  <thead>\n",
       "    <tr style=\"text-align: right;\">\n",
       "      <th></th>\n",
       "      <th>Revenue</th>\n",
       "      <th>Margin</th>\n",
       "      <th>Rank</th>\n",
       "    </tr>\n",
       "    <tr>\n",
       "      <th>Country</th>\n",
       "      <th></th>\n",
       "      <th></th>\n",
       "      <th></th>\n",
       "    </tr>\n",
       "  </thead>\n",
       "  <tbody>\n",
       "    <tr>\n",
       "      <th>China</th>\n",
       "      <td>35419012.93</td>\n",
       "      <td>11433231.09</td>\n",
       "      <td>1</td>\n",
       "    </tr>\n",
       "    <tr>\n",
       "      <th>United States of America</th>\n",
       "      <td>30921686.00</td>\n",
       "      <td>10058265.87</td>\n",
       "      <td>2</td>\n",
       "    </tr>\n",
       "    <tr>\n",
       "      <th>Australia</th>\n",
       "      <td>17937580.10</td>\n",
       "      <td>5998658.34</td>\n",
       "      <td>3</td>\n",
       "    </tr>\n",
       "    <tr>\n",
       "      <th>Canada</th>\n",
       "      <td>12659751.70</td>\n",
       "      <td>3981548.49</td>\n",
       "      <td>4</td>\n",
       "    </tr>\n",
       "    <tr>\n",
       "      <th>Japan</th>\n",
       "      <td>11144287.40</td>\n",
       "      <td>3429964.29</td>\n",
       "      <td>5</td>\n",
       "    </tr>\n",
       "    <tr>\n",
       "      <th>Russia</th>\n",
       "      <td>10409143.00</td>\n",
       "      <td>3230082.90</td>\n",
       "      <td>6</td>\n",
       "    </tr>\n",
       "    <tr>\n",
       "      <th>Sweden</th>\n",
       "      <td>9347376.63</td>\n",
       "      <td>3072071.39</td>\n",
       "      <td>7</td>\n",
       "    </tr>\n",
       "    <tr>\n",
       "      <th>South Korea</th>\n",
       "      <td>9333921.70</td>\n",
       "      <td>3062749.61</td>\n",
       "      <td>8</td>\n",
       "    </tr>\n",
       "    <tr>\n",
       "      <th>Spain</th>\n",
       "      <td>9294640.60</td>\n",
       "      <td>3052992.63</td>\n",
       "      <td>9</td>\n",
       "    </tr>\n",
       "    <tr>\n",
       "      <th>Iceland</th>\n",
       "      <td>8828988.90</td>\n",
       "      <td>3032787.99</td>\n",
       "      <td>10</td>\n",
       "    </tr>\n",
       "  </tbody>\n",
       "</table>\n",
       "</div>"
      ],
      "text/plain": [
       "                             Revenue      Margin  Rank\n",
       "Country                                               \n",
       "China                    35419012.93 11433231.09     1\n",
       "United States of America 30921686.00 10058265.87     2\n",
       "Australia                17937580.10  5998658.34     3\n",
       "Canada                   12659751.70  3981548.49     4\n",
       "Japan                    11144287.40  3429964.29     5\n",
       "Russia                   10409143.00  3230082.90     6\n",
       "Sweden                    9347376.63  3072071.39     7\n",
       "South Korea               9333921.70  3062749.61     8\n",
       "Spain                     9294640.60  3052992.63     9\n",
       "Iceland                   8828988.90  3032787.99    10"
      ]
     },
     "execution_count": 22,
     "metadata": {},
     "output_type": "execute_result"
    }
   ],
   "source": [
    "pd.options.display.float_format = \"{:.2f}\".format      # e+06 이런식으로 나오는 거 숫자로 나오게 바꿔줌 \n",
    "\n",
    "df_g = df_g.sort_values(\"Margin\", ascending = False)\n",
    "df_g[\"Rank\"] = range(1, len(df_g) + 1)\n",
    "\n",
    "top10 = df_g.head(10)\n",
    "top10"
   ]
  },
  {
   "cell_type": "markdown",
   "id": "391f13c9-4bdc-4d39-8f1f-0700d4bdf4c0",
   "metadata": {},
   "source": [
    "# 막대그래프"
   ]
  },
  {
   "cell_type": "code",
   "execution_count": 25,
   "id": "f2708381-2ba3-40ef-b517-f872be957c46",
   "metadata": {},
   "outputs": [
    {
     "data": {
      "application/vnd.plotly.v1+json": {
       "config": {
        "plotlyServerURL": "https://plot.ly"
       },
       "data": [
        {
         "text": [
          11433231.09,
          10058265.87,
          5998658.34,
          3981548.49,
          3429964.29,
          3230082.9,
          3072071.39,
          3062749.61,
          3052992.63,
          3032787.99
         ],
         "type": "bar",
         "x": [
          "China",
          "United States of America",
          "Australia",
          "Canada",
          "Japan",
          "Russia",
          "Sweden",
          "South Korea",
          "Spain",
          "Iceland"
         ],
         "y": [
          11433231.086,
          10058265.871,
          5998658.345,
          3981548.487,
          3429964.29,
          3230082.899,
          3072071.3880000003,
          3062749.609,
          3052992.629,
          3032787.988
         ]
        }
       ],
       "layout": {
        "height": 500,
        "template": {
         "data": {
          "bar": [
           {
            "error_x": {
             "color": "#2a3f5f"
            },
            "error_y": {
             "color": "#2a3f5f"
            },
            "marker": {
             "line": {
              "color": "#E5ECF6",
              "width": 0.5
             },
             "pattern": {
              "fillmode": "overlay",
              "size": 10,
              "solidity": 0.2
             }
            },
            "type": "bar"
           }
          ],
          "barpolar": [
           {
            "marker": {
             "line": {
              "color": "#E5ECF6",
              "width": 0.5
             },
             "pattern": {
              "fillmode": "overlay",
              "size": 10,
              "solidity": 0.2
             }
            },
            "type": "barpolar"
           }
          ],
          "carpet": [
           {
            "aaxis": {
             "endlinecolor": "#2a3f5f",
             "gridcolor": "white",
             "linecolor": "white",
             "minorgridcolor": "white",
             "startlinecolor": "#2a3f5f"
            },
            "baxis": {
             "endlinecolor": "#2a3f5f",
             "gridcolor": "white",
             "linecolor": "white",
             "minorgridcolor": "white",
             "startlinecolor": "#2a3f5f"
            },
            "type": "carpet"
           }
          ],
          "choropleth": [
           {
            "colorbar": {
             "outlinewidth": 0,
             "ticks": ""
            },
            "type": "choropleth"
           }
          ],
          "contour": [
           {
            "colorbar": {
             "outlinewidth": 0,
             "ticks": ""
            },
            "colorscale": [
             [
              0,
              "#0d0887"
             ],
             [
              0.1111111111111111,
              "#46039f"
             ],
             [
              0.2222222222222222,
              "#7201a8"
             ],
             [
              0.3333333333333333,
              "#9c179e"
             ],
             [
              0.4444444444444444,
              "#bd3786"
             ],
             [
              0.5555555555555556,
              "#d8576b"
             ],
             [
              0.6666666666666666,
              "#ed7953"
             ],
             [
              0.7777777777777778,
              "#fb9f3a"
             ],
             [
              0.8888888888888888,
              "#fdca26"
             ],
             [
              1,
              "#f0f921"
             ]
            ],
            "type": "contour"
           }
          ],
          "contourcarpet": [
           {
            "colorbar": {
             "outlinewidth": 0,
             "ticks": ""
            },
            "type": "contourcarpet"
           }
          ],
          "heatmap": [
           {
            "colorbar": {
             "outlinewidth": 0,
             "ticks": ""
            },
            "colorscale": [
             [
              0,
              "#0d0887"
             ],
             [
              0.1111111111111111,
              "#46039f"
             ],
             [
              0.2222222222222222,
              "#7201a8"
             ],
             [
              0.3333333333333333,
              "#9c179e"
             ],
             [
              0.4444444444444444,
              "#bd3786"
             ],
             [
              0.5555555555555556,
              "#d8576b"
             ],
             [
              0.6666666666666666,
              "#ed7953"
             ],
             [
              0.7777777777777778,
              "#fb9f3a"
             ],
             [
              0.8888888888888888,
              "#fdca26"
             ],
             [
              1,
              "#f0f921"
             ]
            ],
            "type": "heatmap"
           }
          ],
          "heatmapgl": [
           {
            "colorbar": {
             "outlinewidth": 0,
             "ticks": ""
            },
            "colorscale": [
             [
              0,
              "#0d0887"
             ],
             [
              0.1111111111111111,
              "#46039f"
             ],
             [
              0.2222222222222222,
              "#7201a8"
             ],
             [
              0.3333333333333333,
              "#9c179e"
             ],
             [
              0.4444444444444444,
              "#bd3786"
             ],
             [
              0.5555555555555556,
              "#d8576b"
             ],
             [
              0.6666666666666666,
              "#ed7953"
             ],
             [
              0.7777777777777778,
              "#fb9f3a"
             ],
             [
              0.8888888888888888,
              "#fdca26"
             ],
             [
              1,
              "#f0f921"
             ]
            ],
            "type": "heatmapgl"
           }
          ],
          "histogram": [
           {
            "marker": {
             "pattern": {
              "fillmode": "overlay",
              "size": 10,
              "solidity": 0.2
             }
            },
            "type": "histogram"
           }
          ],
          "histogram2d": [
           {
            "colorbar": {
             "outlinewidth": 0,
             "ticks": ""
            },
            "colorscale": [
             [
              0,
              "#0d0887"
             ],
             [
              0.1111111111111111,
              "#46039f"
             ],
             [
              0.2222222222222222,
              "#7201a8"
             ],
             [
              0.3333333333333333,
              "#9c179e"
             ],
             [
              0.4444444444444444,
              "#bd3786"
             ],
             [
              0.5555555555555556,
              "#d8576b"
             ],
             [
              0.6666666666666666,
              "#ed7953"
             ],
             [
              0.7777777777777778,
              "#fb9f3a"
             ],
             [
              0.8888888888888888,
              "#fdca26"
             ],
             [
              1,
              "#f0f921"
             ]
            ],
            "type": "histogram2d"
           }
          ],
          "histogram2dcontour": [
           {
            "colorbar": {
             "outlinewidth": 0,
             "ticks": ""
            },
            "colorscale": [
             [
              0,
              "#0d0887"
             ],
             [
              0.1111111111111111,
              "#46039f"
             ],
             [
              0.2222222222222222,
              "#7201a8"
             ],
             [
              0.3333333333333333,
              "#9c179e"
             ],
             [
              0.4444444444444444,
              "#bd3786"
             ],
             [
              0.5555555555555556,
              "#d8576b"
             ],
             [
              0.6666666666666666,
              "#ed7953"
             ],
             [
              0.7777777777777778,
              "#fb9f3a"
             ],
             [
              0.8888888888888888,
              "#fdca26"
             ],
             [
              1,
              "#f0f921"
             ]
            ],
            "type": "histogram2dcontour"
           }
          ],
          "mesh3d": [
           {
            "colorbar": {
             "outlinewidth": 0,
             "ticks": ""
            },
            "type": "mesh3d"
           }
          ],
          "parcoords": [
           {
            "line": {
             "colorbar": {
              "outlinewidth": 0,
              "ticks": ""
             }
            },
            "type": "parcoords"
           }
          ],
          "pie": [
           {
            "automargin": true,
            "type": "pie"
           }
          ],
          "scatter": [
           {
            "fillpattern": {
             "fillmode": "overlay",
             "size": 10,
             "solidity": 0.2
            },
            "type": "scatter"
           }
          ],
          "scatter3d": [
           {
            "line": {
             "colorbar": {
              "outlinewidth": 0,
              "ticks": ""
             }
            },
            "marker": {
             "colorbar": {
              "outlinewidth": 0,
              "ticks": ""
             }
            },
            "type": "scatter3d"
           }
          ],
          "scattercarpet": [
           {
            "marker": {
             "colorbar": {
              "outlinewidth": 0,
              "ticks": ""
             }
            },
            "type": "scattercarpet"
           }
          ],
          "scattergeo": [
           {
            "marker": {
             "colorbar": {
              "outlinewidth": 0,
              "ticks": ""
             }
            },
            "type": "scattergeo"
           }
          ],
          "scattergl": [
           {
            "marker": {
             "colorbar": {
              "outlinewidth": 0,
              "ticks": ""
             }
            },
            "type": "scattergl"
           }
          ],
          "scattermapbox": [
           {
            "marker": {
             "colorbar": {
              "outlinewidth": 0,
              "ticks": ""
             }
            },
            "type": "scattermapbox"
           }
          ],
          "scatterpolar": [
           {
            "marker": {
             "colorbar": {
              "outlinewidth": 0,
              "ticks": ""
             }
            },
            "type": "scatterpolar"
           }
          ],
          "scatterpolargl": [
           {
            "marker": {
             "colorbar": {
              "outlinewidth": 0,
              "ticks": ""
             }
            },
            "type": "scatterpolargl"
           }
          ],
          "scatterternary": [
           {
            "marker": {
             "colorbar": {
              "outlinewidth": 0,
              "ticks": ""
             }
            },
            "type": "scatterternary"
           }
          ],
          "surface": [
           {
            "colorbar": {
             "outlinewidth": 0,
             "ticks": ""
            },
            "colorscale": [
             [
              0,
              "#0d0887"
             ],
             [
              0.1111111111111111,
              "#46039f"
             ],
             [
              0.2222222222222222,
              "#7201a8"
             ],
             [
              0.3333333333333333,
              "#9c179e"
             ],
             [
              0.4444444444444444,
              "#bd3786"
             ],
             [
              0.5555555555555556,
              "#d8576b"
             ],
             [
              0.6666666666666666,
              "#ed7953"
             ],
             [
              0.7777777777777778,
              "#fb9f3a"
             ],
             [
              0.8888888888888888,
              "#fdca26"
             ],
             [
              1,
              "#f0f921"
             ]
            ],
            "type": "surface"
           }
          ],
          "table": [
           {
            "cells": {
             "fill": {
              "color": "#EBF0F8"
             },
             "line": {
              "color": "white"
             }
            },
            "header": {
             "fill": {
              "color": "#C8D4E3"
             },
             "line": {
              "color": "white"
             }
            },
            "type": "table"
           }
          ]
         },
         "layout": {
          "annotationdefaults": {
           "arrowcolor": "#2a3f5f",
           "arrowhead": 0,
           "arrowwidth": 1
          },
          "autotypenumbers": "strict",
          "coloraxis": {
           "colorbar": {
            "outlinewidth": 0,
            "ticks": ""
           }
          },
          "colorscale": {
           "diverging": [
            [
             0,
             "#8e0152"
            ],
            [
             0.1,
             "#c51b7d"
            ],
            [
             0.2,
             "#de77ae"
            ],
            [
             0.3,
             "#f1b6da"
            ],
            [
             0.4,
             "#fde0ef"
            ],
            [
             0.5,
             "#f7f7f7"
            ],
            [
             0.6,
             "#e6f5d0"
            ],
            [
             0.7,
             "#b8e186"
            ],
            [
             0.8,
             "#7fbc41"
            ],
            [
             0.9,
             "#4d9221"
            ],
            [
             1,
             "#276419"
            ]
           ],
           "sequential": [
            [
             0,
             "#0d0887"
            ],
            [
             0.1111111111111111,
             "#46039f"
            ],
            [
             0.2222222222222222,
             "#7201a8"
            ],
            [
             0.3333333333333333,
             "#9c179e"
            ],
            [
             0.4444444444444444,
             "#bd3786"
            ],
            [
             0.5555555555555556,
             "#d8576b"
            ],
            [
             0.6666666666666666,
             "#ed7953"
            ],
            [
             0.7777777777777778,
             "#fb9f3a"
            ],
            [
             0.8888888888888888,
             "#fdca26"
            ],
            [
             1,
             "#f0f921"
            ]
           ],
           "sequentialminus": [
            [
             0,
             "#0d0887"
            ],
            [
             0.1111111111111111,
             "#46039f"
            ],
            [
             0.2222222222222222,
             "#7201a8"
            ],
            [
             0.3333333333333333,
             "#9c179e"
            ],
            [
             0.4444444444444444,
             "#bd3786"
            ],
            [
             0.5555555555555556,
             "#d8576b"
            ],
            [
             0.6666666666666666,
             "#ed7953"
            ],
            [
             0.7777777777777778,
             "#fb9f3a"
            ],
            [
             0.8888888888888888,
             "#fdca26"
            ],
            [
             1,
             "#f0f921"
            ]
           ]
          },
          "colorway": [
           "#636efa",
           "#EF553B",
           "#00cc96",
           "#ab63fa",
           "#FFA15A",
           "#19d3f3",
           "#FF6692",
           "#B6E880",
           "#FF97FF",
           "#FECB52"
          ],
          "font": {
           "color": "#2a3f5f"
          },
          "geo": {
           "bgcolor": "white",
           "lakecolor": "white",
           "landcolor": "#E5ECF6",
           "showlakes": true,
           "showland": true,
           "subunitcolor": "white"
          },
          "hoverlabel": {
           "align": "left"
          },
          "hovermode": "closest",
          "mapbox": {
           "style": "light"
          },
          "paper_bgcolor": "white",
          "plot_bgcolor": "#E5ECF6",
          "polar": {
           "angularaxis": {
            "gridcolor": "white",
            "linecolor": "white",
            "ticks": ""
           },
           "bgcolor": "#E5ECF6",
           "radialaxis": {
            "gridcolor": "white",
            "linecolor": "white",
            "ticks": ""
           }
          },
          "scene": {
           "xaxis": {
            "backgroundcolor": "#E5ECF6",
            "gridcolor": "white",
            "gridwidth": 2,
            "linecolor": "white",
            "showbackground": true,
            "ticks": "",
            "zerolinecolor": "white"
           },
           "yaxis": {
            "backgroundcolor": "#E5ECF6",
            "gridcolor": "white",
            "gridwidth": 2,
            "linecolor": "white",
            "showbackground": true,
            "ticks": "",
            "zerolinecolor": "white"
           },
           "zaxis": {
            "backgroundcolor": "#E5ECF6",
            "gridcolor": "white",
            "gridwidth": 2,
            "linecolor": "white",
            "showbackground": true,
            "ticks": "",
            "zerolinecolor": "white"
           }
          },
          "shapedefaults": {
           "line": {
            "color": "#2a3f5f"
           }
          },
          "ternary": {
           "aaxis": {
            "gridcolor": "white",
            "linecolor": "white",
            "ticks": ""
           },
           "baxis": {
            "gridcolor": "white",
            "linecolor": "white",
            "ticks": ""
           },
           "bgcolor": "#E5ECF6",
           "caxis": {
            "gridcolor": "white",
            "linecolor": "white",
            "ticks": ""
           }
          },
          "title": {
           "x": 0.05
          },
          "xaxis": {
           "automargin": true,
           "gridcolor": "white",
           "linecolor": "white",
           "ticks": "",
           "title": {
            "standoff": 15
           },
           "zerolinecolor": "white",
           "zerolinewidth": 2
          },
          "yaxis": {
           "automargin": true,
           "gridcolor": "white",
           "linecolor": "white",
           "ticks": "",
           "title": {
            "standoff": 15
           },
           "zerolinecolor": "white",
           "zerolinewidth": 2
          }
         }
        },
        "title": {
         "text": "Bar Chart"
        },
        "width": 500,
        "xaxis": {
         "autorange": true,
         "range": [
          -0.5,
          9.5
         ],
         "type": "category"
        },
        "yaxis": {
         "autorange": true,
         "range": [
          0,
          12034980.090526314
         ],
         "type": "linear"
        }
       }
      },
      "image/png": "[encoded data removed]",
      "text/html": [
       "<div>                            <div id=\"77b7835a-fa0f-4d7b-bd08-568fc8d4a744\" class=\"plotly-graph-div\" style=\"height:500px; width:500px;\"></div>            <script type=\"text/javascript\">                require([\"plotly\"], function(Plotly) {                    window.PLOTLYENV=window.PLOTLYENV || {};                                    if (document.getElementById(\"77b7835a-fa0f-4d7b-bd08-568fc8d4a744\")) {                    Plotly.newPlot(                        \"77b7835a-fa0f-4d7b-bd08-568fc8d4a744\",                        [{\"text\":[11433231.09,10058265.87,5998658.34,3981548.49,3429964.29,3230082.9,3072071.39,3062749.61,3052992.63,3032787.99],\"x\":[\"China\",\"United States of America\",\"Australia\",\"Canada\",\"Japan\",\"Russia\",\"Sweden\",\"South Korea\",\"Spain\",\"Iceland\"],\"y\":[11433231.086,10058265.871,5998658.345,3981548.487,3429964.29,3230082.899,3072071.3880000003,3062749.609,3052992.629,3032787.988],\"type\":\"bar\"}],                        {\"height\":500,\"title\":{\"text\":\"Bar Chart\"},\"width\":500,\"template\":{\"data\":{\"histogram2dcontour\":[{\"type\":\"histogram2dcontour\",\"colorbar\":{\"outlinewidth\":0,\"ticks\":\"\"},\"colorscale\":[[0.0,\"#0d0887\"],[0.1111111111111111,\"#46039f\"],[0.2222222222222222,\"#7201a8\"],[0.3333333333333333,\"#9c179e\"],[0.4444444444444444,\"#bd3786\"],[0.5555555555555556,\"#d8576b\"],[0.6666666666666666,\"#ed7953\"],[0.7777777777777778,\"#fb9f3a\"],[0.8888888888888888,\"#fdca26\"],[1.0,\"#f0f921\"]]}],\"choropleth\":[{\"type\":\"choropleth\",\"colorbar\":{\"outlinewidth\":0,\"ticks\":\"\"}}],\"histogram2d\":[{\"type\":\"histogram2d\",\"colorbar\":{\"outlinewidth\":0,\"ticks\":\"\"},\"colorscale\":[[0.0,\"#0d0887\"],[0.1111111111111111,\"#46039f\"],[0.2222222222222222,\"#7201a8\"],[0.3333333333333333,\"#9c179e\"],[0.4444444444444444,\"#bd3786\"],[0.5555555555555556,\"#d8576b\"],[0.6666666666666666,\"#ed7953\"],[0.7777777777777778,\"#fb9f3a\"],[0.8888888888888888,\"#fdca26\"],[1.0,\"#f0f921\"]]}],\"heatmap\":[{\"type\":\"heatmap\",\"colorbar\":{\"outlinewidth\":0,\"ticks\":\"\"},\"colorscale\":[[0.0,\"#0d0887\"],[0.1111111111111111,\"#46039f\"],[0.2222222222222222,\"#7201a8\"],[0.3333333333333333,\"#9c179e\"],[0.4444444444444444,\"#bd3786\"],[0.5555555555555556,\"#d8576b\"],[0.6666666666666666,\"#ed7953\"],[0.7777777777777778,\"#fb9f3a\"],[0.8888888888888888,\"#fdca26\"],[1.0,\"#f0f921\"]]}],\"heatmapgl\":[{\"type\":\"heatmapgl\",\"colorbar\":{\"outlinewidth\":0,\"ticks\":\"\"},\"colorscale\":[[0.0,\"#0d0887\"],[0.1111111111111111,\"#46039f\"],[0.2222222222222222,\"#7201a8\"],[0.3333333333333333,\"#9c179e\"],[0.4444444444444444,\"#bd3786\"],[0.5555555555555556,\"#d8576b\"],[0.6666666666666666,\"#ed7953\"],[0.7777777777777778,\"#fb9f3a\"],[0.8888888888888888,\"#fdca26\"],[1.0,\"#f0f921\"]]}],\"contourcarpet\":[{\"type\":\"contourcarpet\",\"colorbar\":{\"outlinewidth\":0,\"ticks\":\"\"}}],\"contour\":[{\"type\":\"contour\",\"colorbar\":{\"outlinewidth\":0,\"ticks\":\"\"},\"colorscale\":[[0.0,\"#0d0887\"],[0.1111111111111111,\"#46039f\"],[0.2222222222222222,\"#7201a8\"],[0.3333333333333333,\"#9c179e\"],[0.4444444444444444,\"#bd3786\"],[0.5555555555555556,\"#d8576b\"],[0.6666666666666666,\"#ed7953\"],[0.7777777777777778,\"#fb9f3a\"],[0.8888888888888888,\"#fdca26\"],[1.0,\"#f0f921\"]]}],\"surface\":[{\"type\":\"surface\",\"colorbar\":{\"outlinewidth\":0,\"ticks\":\"\"},\"colorscale\":[[0.0,\"#0d0887\"],[0.1111111111111111,\"#46039f\"],[0.2222222222222222,\"#7201a8\"],[0.3333333333333333,\"#9c179e\"],[0.4444444444444444,\"#bd3786\"],[0.5555555555555556,\"#d8576b\"],[0.6666666666666666,\"#ed7953\"],[0.7777777777777778,\"#fb9f3a\"],[0.8888888888888888,\"#fdca26\"],[1.0,\"#f0f921\"]]}],\"mesh3d\":[{\"type\":\"mesh3d\",\"colorbar\":{\"outlinewidth\":0,\"ticks\":\"\"}}],\"scatter\":[{\"fillpattern\":{\"fillmode\":\"overlay\",\"size\":10,\"solidity\":0.2},\"type\":\"scatter\"}],\"parcoords\":[{\"type\":\"parcoords\",\"line\":{\"colorbar\":{\"outlinewidth\":0,\"ticks\":\"\"}}}],\"scatterpolargl\":[{\"type\":\"scatterpolargl\",\"marker\":{\"colorbar\":{\"outlinewidth\":0,\"ticks\":\"\"}}}],\"bar\":[{\"error_x\":{\"color\":\"#2a3f5f\"},\"error_y\":{\"color\":\"#2a3f5f\"},\"marker\":{\"line\":{\"color\":\"#E5ECF6\",\"width\":0.5},\"pattern\":{\"fillmode\":\"overlay\",\"size\":10,\"solidity\":0.2}},\"type\":\"bar\"}],\"scattergeo\":[{\"type\":\"scattergeo\",\"marker\":{\"colorbar\":{\"outlinewidth\":0,\"ticks\":\"\"}}}],\"scatterpolar\":[{\"type\":\"scatterpolar\",\"marker\":{\"colorbar\":{\"outlinewidth\":0,\"ticks\":\"\"}}}],\"histogram\":[{\"marker\":{\"pattern\":{\"fillmode\":\"overlay\",\"size\":10,\"solidity\":0.2}},\"type\":\"histogram\"}],\"scattergl\":[{\"type\":\"scattergl\",\"marker\":{\"colorbar\":{\"outlinewidth\":0,\"ticks\":\"\"}}}],\"scatter3d\":[{\"type\":\"scatter3d\",\"line\":{\"colorbar\":{\"outlinewidth\":0,\"ticks\":\"\"}},\"marker\":{\"colorbar\":{\"outlinewidth\":0,\"ticks\":\"\"}}}],\"scattermapbox\":[{\"type\":\"scattermapbox\",\"marker\":{\"colorbar\":{\"outlinewidth\":0,\"ticks\":\"\"}}}],\"scatterternary\":[{\"type\":\"scatterternary\",\"marker\":{\"colorbar\":{\"outlinewidth\":0,\"ticks\":\"\"}}}],\"scattercarpet\":[{\"type\":\"scattercarpet\",\"marker\":{\"colorbar\":{\"outlinewidth\":0,\"ticks\":\"\"}}}],\"carpet\":[{\"aaxis\":{\"endlinecolor\":\"#2a3f5f\",\"gridcolor\":\"white\",\"linecolor\":\"white\",\"minorgridcolor\":\"white\",\"startlinecolor\":\"#2a3f5f\"},\"baxis\":{\"endlinecolor\":\"#2a3f5f\",\"gridcolor\":\"white\",\"linecolor\":\"white\",\"minorgridcolor\":\"white\",\"startlinecolor\":\"#2a3f5f\"},\"type\":\"carpet\"}],\"table\":[{\"cells\":{\"fill\":{\"color\":\"#EBF0F8\"},\"line\":{\"color\":\"white\"}},\"header\":{\"fill\":{\"color\":\"#C8D4E3\"},\"line\":{\"color\":\"white\"}},\"type\":\"table\"}],\"barpolar\":[{\"marker\":{\"line\":{\"color\":\"#E5ECF6\",\"width\":0.5},\"pattern\":{\"fillmode\":\"overlay\",\"size\":10,\"solidity\":0.2}},\"type\":\"barpolar\"}],\"pie\":[{\"automargin\":true,\"type\":\"pie\"}]},\"layout\":{\"autotypenumbers\":\"strict\",\"colorway\":[\"#636efa\",\"#EF553B\",\"#00cc96\",\"#ab63fa\",\"#FFA15A\",\"#19d3f3\",\"#FF6692\",\"#B6E880\",\"#FF97FF\",\"#FECB52\"],\"font\":{\"color\":\"#2a3f5f\"},\"hovermode\":\"closest\",\"hoverlabel\":{\"align\":\"left\"},\"paper_bgcolor\":\"white\",\"plot_bgcolor\":\"#E5ECF6\",\"polar\":{\"bgcolor\":\"#E5ECF6\",\"angularaxis\":{\"gridcolor\":\"white\",\"linecolor\":\"white\",\"ticks\":\"\"},\"radialaxis\":{\"gridcolor\":\"white\",\"linecolor\":\"white\",\"ticks\":\"\"}},\"ternary\":{\"bgcolor\":\"#E5ECF6\",\"aaxis\":{\"gridcolor\":\"white\",\"linecolor\":\"white\",\"ticks\":\"\"},\"baxis\":{\"gridcolor\":\"white\",\"linecolor\":\"white\",\"ticks\":\"\"},\"caxis\":{\"gridcolor\":\"white\",\"linecolor\":\"white\",\"ticks\":\"\"}},\"coloraxis\":{\"colorbar\":{\"outlinewidth\":0,\"ticks\":\"\"}},\"colorscale\":{\"sequential\":[[0.0,\"#0d0887\"],[0.1111111111111111,\"#46039f\"],[0.2222222222222222,\"#7201a8\"],[0.3333333333333333,\"#9c179e\"],[0.4444444444444444,\"#bd3786\"],[0.5555555555555556,\"#d8576b\"],[0.6666666666666666,\"#ed7953\"],[0.7777777777777778,\"#fb9f3a\"],[0.8888888888888888,\"#fdca26\"],[1.0,\"#f0f921\"]],\"sequentialminus\":[[0.0,\"#0d0887\"],[0.1111111111111111,\"#46039f\"],[0.2222222222222222,\"#7201a8\"],[0.3333333333333333,\"#9c179e\"],[0.4444444444444444,\"#bd3786\"],[0.5555555555555556,\"#d8576b\"],[0.6666666666666666,\"#ed7953\"],[0.7777777777777778,\"#fb9f3a\"],[0.8888888888888888,\"#fdca26\"],[1.0,\"#f0f921\"]],\"diverging\":[[0,\"#8e0152\"],[0.1,\"#c51b7d\"],[0.2,\"#de77ae\"],[0.3,\"#f1b6da\"],[0.4,\"#fde0ef\"],[0.5,\"#f7f7f7\"],[0.6,\"#e6f5d0\"],[0.7,\"#b8e186\"],[0.8,\"#7fbc41\"],[0.9,\"#4d9221\"],[1,\"#276419\"]]},\"xaxis\":{\"gridcolor\":\"white\",\"linecolor\":\"white\",\"ticks\":\"\",\"title\":{\"standoff\":15},\"zerolinecolor\":\"white\",\"automargin\":true,\"zerolinewidth\":2},\"yaxis\":{\"gridcolor\":\"white\",\"linecolor\":\"white\",\"ticks\":\"\",\"title\":{\"standoff\":15},\"zerolinecolor\":\"white\",\"automargin\":true,\"zerolinewidth\":2},\"scene\":{\"xaxis\":{\"backgroundcolor\":\"#E5ECF6\",\"gridcolor\":\"white\",\"linecolor\":\"white\",\"showbackground\":true,\"ticks\":\"\",\"zerolinecolor\":\"white\",\"gridwidth\":2},\"yaxis\":{\"backgroundcolor\":\"#E5ECF6\",\"gridcolor\":\"white\",\"linecolor\":\"white\",\"showbackground\":true,\"ticks\":\"\",\"zerolinecolor\":\"white\",\"gridwidth\":2},\"zaxis\":{\"backgroundcolor\":\"#E5ECF6\",\"gridcolor\":\"white\",\"linecolor\":\"white\",\"showbackground\":true,\"ticks\":\"\",\"zerolinecolor\":\"white\",\"gridwidth\":2}},\"shapedefaults\":{\"line\":{\"color\":\"#2a3f5f\"}},\"annotationdefaults\":{\"arrowcolor\":\"#2a3f5f\",\"arrowhead\":0,\"arrowwidth\":1},\"geo\":{\"bgcolor\":\"white\",\"landcolor\":\"#E5ECF6\",\"subunitcolor\":\"white\",\"showland\":true,\"showlakes\":true,\"lakecolor\":\"white\"},\"title\":{\"x\":0.05},\"mapbox\":{\"style\":\"light\"}}}},                        {\"responsive\": true}                    ).then(function(){\n",
       "                            \n",
       "var gd = document.getElementById('77b7835a-fa0f-4d7b-bd08-568fc8d4a744');\n",
       "var x = new MutationObserver(function (mutations, observer) {{\n",
       "        var display = window.getComputedStyle(gd).display;\n",
       "        if (!display || display === 'none') {{\n",
       "            console.log([gd, 'removed!']);\n",
       "            Plotly.purge(gd);\n",
       "            observer.disconnect();\n",
       "        }}\n",
       "}});\n",
       "\n",
       "// Listen for the removal of the full notebook cells\n",
       "var notebookContainer = gd.closest('#notebook-container');\n",
       "if (notebookContainer) {{\n",
       "    x.observe(notebookContainer, {childList: true});\n",
       "}}\n",
       "\n",
       "// Listen for the clearing of the current output cell\n",
       "var outputEl = gd.closest('.output');\n",
       "if (outputEl) {{\n",
       "    x.observe(outputEl, {childList: true});\n",
       "}}\n",
       "\n",
       "                        })                };                });            </script>        </div>"
      ]
     },
     "metadata": {},
     "output_type": "display_data"
    }
   ],
   "source": [
    "import plotly.graph_objects as go\n",
    "\n",
    "A = go.Bar(x = top10.index, y = top10[\"Margin\"],      # 막대그래프를 만든다\n",
    "           text = round(top10[\"Margin\"],2))\n",
    "\n",
    "data = [A]                          # 리스트를 만들어서 A를 넣는다 <<  여러개 그릴 경우에 data = [A, B] 이런식으로 쓰기위해\n",
    "\n",
    "layout = go.Layout(title = \"Bar Chart\", width = 500, height = 500)       # 레이아웃 적절히 설정해 도화지 만듦\n",
    "\n",
    "fig = go.Figure(data, layout)\n",
    "fig.show()"
   ]
  },
  {
   "cell_type": "code",
   "execution_count": 28,
   "id": "5dc99ad5-517d-4a34-b038-49712a6e4a4d",
   "metadata": {},
   "outputs": [
    {
     "data": {
      "application/vnd.plotly.v1+json": {
       "config": {
        "plotlyServerURL": "https://plot.ly"
       },
       "data": [
        {
         "name": "Margin",
         "orientation": "h",
         "type": "bar",
         "x": [
          11433231.086,
          10058265.871,
          5998658.345,
          3981548.487,
          3429964.29,
          3230082.899,
          3072071.3880000003,
          3062749.609,
          3052992.629,
          3032787.988
         ],
         "y": [
          "China",
          "United States of America",
          "Australia",
          "Canada",
          "Japan",
          "Russia",
          "Sweden",
          "South Korea",
          "Spain",
          "Iceland"
         ]
        },
        {
         "name": "Revenue",
         "orientation": "h",
         "type": "bar",
         "x": [
          35419012.93,
          30921686,
          17937580.1,
          12659751.7,
          11144287.4,
          10409143,
          9347376.63,
          9333921.7,
          9294640.6,
          8828988.9
         ],
         "y": [
          "China",
          "United States of America",
          "Australia",
          "Canada",
          "Japan",
          "Russia",
          "Sweden",
          "South Korea",
          "Spain",
          "Iceland"
         ]
        }
       ],
       "layout": {
        "height": 500,
        "template": {
         "data": {
          "bar": [
           {
            "error_x": {
             "color": "#2a3f5f"
            },
            "error_y": {
             "color": "#2a3f5f"
            },
            "marker": {
             "line": {
              "color": "#E5ECF6",
              "width": 0.5
             },
             "pattern": {
              "fillmode": "overlay",
              "size": 10,
              "solidity": 0.2
             }
            },
            "type": "bar"
           }
          ],
          "barpolar": [
           {
            "marker": {
             "line": {
              "color": "#E5ECF6",
              "width": 0.5
             },
             "pattern": {
              "fillmode": "overlay",
              "size": 10,
              "solidity": 0.2
             }
            },
            "type": "barpolar"
           }
          ],
          "carpet": [
           {
            "aaxis": {
             "endlinecolor": "#2a3f5f",
             "gridcolor": "white",
             "linecolor": "white",
             "minorgridcolor": "white",
             "startlinecolor": "#2a3f5f"
            },
            "baxis": {
             "endlinecolor": "#2a3f5f",
             "gridcolor": "white",
             "linecolor": "white",
             "minorgridcolor": "white",
             "startlinecolor": "#2a3f5f"
            },
            "type": "carpet"
           }
          ],
          "choropleth": [
           {
            "colorbar": {
             "outlinewidth": 0,
             "ticks": ""
            },
            "type": "choropleth"
           }
          ],
          "contour": [
           {
            "colorbar": {
             "outlinewidth": 0,
             "ticks": ""
            },
            "colorscale": [
             [
              0,
              "#0d0887"
             ],
             [
              0.1111111111111111,
              "#46039f"
             ],
             [
              0.2222222222222222,
              "#7201a8"
             ],
             [
              0.3333333333333333,
              "#9c179e"
             ],
             [
              0.4444444444444444,
              "#bd3786"
             ],
             [
              0.5555555555555556,
              "#d8576b"
             ],
             [
              0.6666666666666666,
              "#ed7953"
             ],
             [
              0.7777777777777778,
              "#fb9f3a"
             ],
             [
              0.8888888888888888,
              "#fdca26"
             ],
             [
              1,
              "#f0f921"
             ]
            ],
            "type": "contour"
           }
          ],
          "contourcarpet": [
           {
            "colorbar": {
             "outlinewidth": 0,
             "ticks": ""
            },
            "type": "contourcarpet"
           }
          ],
          "heatmap": [
           {
            "colorbar": {
             "outlinewidth": 0,
             "ticks": ""
            },
            "colorscale": [
             [
              0,
              "#0d0887"
             ],
             [
              0.1111111111111111,
              "#46039f"
             ],
             [
              0.2222222222222222,
              "#7201a8"
             ],
             [
              0.3333333333333333,
              "#9c179e"
             ],
             [
              0.4444444444444444,
              "#bd3786"
             ],
             [
              0.5555555555555556,
              "#d8576b"
             ],
             [
              0.6666666666666666,
              "#ed7953"
             ],
             [
              0.7777777777777778,
              "#fb9f3a"
             ],
             [
              0.8888888888888888,
              "#fdca26"
             ],
             [
              1,
              "#f0f921"
             ]
            ],
            "type": "heatmap"
           }
          ],
          "heatmapgl": [
           {
            "colorbar": {
             "outlinewidth": 0,
             "ticks": ""
            },
            "colorscale": [
             [
              0,
              "#0d0887"
             ],
             [
              0.1111111111111111,
              "#46039f"
             ],
             [
              0.2222222222222222,
              "#7201a8"
             ],
             [
              0.3333333333333333,
              "#9c179e"
             ],
             [
              0.4444444444444444,
              "#bd3786"
             ],
             [
              0.5555555555555556,
              "#d8576b"
             ],
             [
              0.6666666666666666,
              "#ed7953"
             ],
             [
              0.7777777777777778,
              "#fb9f3a"
             ],
             [
              0.8888888888888888,
              "#fdca26"
             ],
             [
              1,
              "#f0f921"
             ]
            ],
            "type": "heatmapgl"
           }
          ],
          "histogram": [
           {
            "marker": {
             "pattern": {
              "fillmode": "overlay",
              "size": 10,
              "solidity": 0.2
             }
            },
            "type": "histogram"
           }
          ],
          "histogram2d": [
           {
            "colorbar": {
             "outlinewidth": 0,
             "ticks": ""
            },
            "colorscale": [
             [
              0,
              "#0d0887"
             ],
             [
              0.1111111111111111,
              "#46039f"
             ],
             [
              0.2222222222222222,
              "#7201a8"
             ],
             [
              0.3333333333333333,
              "#9c179e"
             ],
             [
              0.4444444444444444,
              "#bd3786"
             ],
             [
              0.5555555555555556,
              "#d8576b"
             ],
             [
              0.6666666666666666,
              "#ed7953"
             ],
             [
              0.7777777777777778,
              "#fb9f3a"
             ],
             [
              0.8888888888888888,
              "#fdca26"
             ],
             [
              1,
              "#f0f921"
             ]
            ],
            "type": "histogram2d"
           }
          ],
          "histogram2dcontour": [
           {
            "colorbar": {
             "outlinewidth": 0,
             "ticks": ""
            },
            "colorscale": [
             [
              0,
              "#0d0887"
             ],
             [
              0.1111111111111111,
              "#46039f"
             ],
             [
              0.2222222222222222,
              "#7201a8"
             ],
             [
              0.3333333333333333,
              "#9c179e"
             ],
             [
              0.4444444444444444,
              "#bd3786"
             ],
             [
              0.5555555555555556,
              "#d8576b"
             ],
             [
              0.6666666666666666,
              "#ed7953"
             ],
             [
              0.7777777777777778,
              "#fb9f3a"
             ],
             [
              0.8888888888888888,
              "#fdca26"
             ],
             [
              1,
              "#f0f921"
             ]
            ],
            "type": "histogram2dcontour"
           }
          ],
          "mesh3d": [
           {
            "colorbar": {
             "outlinewidth": 0,
             "ticks": ""
            },
            "type": "mesh3d"
           }
          ],
          "parcoords": [
           {
            "line": {
             "colorbar": {
              "outlinewidth": 0,
              "ticks": ""
             }
            },
            "type": "parcoords"
           }
          ],
          "pie": [
           {
            "automargin": true,
            "type": "pie"
           }
          ],
          "scatter": [
           {
            "fillpattern": {
             "fillmode": "overlay",
             "size": 10,
             "solidity": 0.2
            },
            "type": "scatter"
           }
          ],
          "scatter3d": [
           {
            "line": {
             "colorbar": {
              "outlinewidth": 0,
              "ticks": ""
             }
            },
            "marker": {
             "colorbar": {
              "outlinewidth": 0,
              "ticks": ""
             }
            },
            "type": "scatter3d"
           }
          ],
          "scattercarpet": [
           {
            "marker": {
             "colorbar": {
              "outlinewidth": 0,
              "ticks": ""
             }
            },
            "type": "scattercarpet"
           }
          ],
          "scattergeo": [
           {
            "marker": {
             "colorbar": {
              "outlinewidth": 0,
              "ticks": ""
             }
            },
            "type": "scattergeo"
           }
          ],
          "scattergl": [
           {
            "marker": {
             "colorbar": {
              "outlinewidth": 0,
              "ticks": ""
             }
            },
            "type": "scattergl"
           }
          ],
          "scattermapbox": [
           {
            "marker": {
             "colorbar": {
              "outlinewidth": 0,
              "ticks": ""
             }
            },
            "type": "scattermapbox"
           }
          ],
          "scatterpolar": [
           {
            "marker": {
             "colorbar": {
              "outlinewidth": 0,
              "ticks": ""
             }
            },
            "type": "scatterpolar"
           }
          ],
          "scatterpolargl": [
           {
            "marker": {
             "colorbar": {
              "outlinewidth": 0,
              "ticks": ""
             }
            },
            "type": "scatterpolargl"
           }
          ],
          "scatterternary": [
           {
            "marker": {
             "colorbar": {
              "outlinewidth": 0,
              "ticks": ""
             }
            },
            "type": "scatterternary"
           }
          ],
          "surface": [
           {
            "colorbar": {
             "outlinewidth": 0,
             "ticks": ""
            },
            "colorscale": [
             [
              0,
              "#0d0887"
             ],
             [
              0.1111111111111111,
              "#46039f"
             ],
             [
              0.2222222222222222,
              "#7201a8"
             ],
             [
              0.3333333333333333,
              "#9c179e"
             ],
             [
              0.4444444444444444,
              "#bd3786"
             ],
             [
              0.5555555555555556,
              "#d8576b"
             ],
             [
              0.6666666666666666,
              "#ed7953"
             ],
             [
              0.7777777777777778,
              "#fb9f3a"
             ],
             [
              0.8888888888888888,
              "#fdca26"
             ],
             [
              1,
              "#f0f921"
             ]
            ],
            "type": "surface"
           }
          ],
          "table": [
           {
            "cells": {
             "fill": {
              "color": "#EBF0F8"
             },
             "line": {
              "color": "white"
             }
            },
            "header": {
             "fill": {
              "color": "#C8D4E3"
             },
             "line": {
              "color": "white"
             }
            },
            "type": "table"
           }
          ]
         },
         "layout": {
          "annotationdefaults": {
           "arrowcolor": "#2a3f5f",
           "arrowhead": 0,
           "arrowwidth": 1
          },
          "autotypenumbers": "strict",
          "coloraxis": {
           "colorbar": {
            "outlinewidth": 0,
            "ticks": ""
           }
          },
          "colorscale": {
           "diverging": [
            [
             0,
             "#8e0152"
            ],
            [
             0.1,
             "#c51b7d"
            ],
            [
             0.2,
             "#de77ae"
            ],
            [
             0.3,
             "#f1b6da"
            ],
            [
             0.4,
             "#fde0ef"
            ],
            [
             0.5,
             "#f7f7f7"
            ],
            [
             0.6,
             "#e6f5d0"
            ],
            [
             0.7,
             "#b8e186"
            ],
            [
             0.8,
             "#7fbc41"
            ],
            [
             0.9,
             "#4d9221"
            ],
            [
             1,
             "#276419"
            ]
           ],
           "sequential": [
            [
             0,
             "#0d0887"
            ],
            [
             0.1111111111111111,
             "#46039f"
            ],
            [
             0.2222222222222222,
             "#7201a8"
            ],
            [
             0.3333333333333333,
             "#9c179e"
            ],
            [
             0.4444444444444444,
             "#bd3786"
            ],
            [
             0.5555555555555556,
             "#d8576b"
            ],
            [
             0.6666666666666666,
             "#ed7953"
            ],
            [
             0.7777777777777778,
             "#fb9f3a"
            ],
            [
             0.8888888888888888,
             "#fdca26"
            ],
            [
             1,
             "#f0f921"
            ]
           ],
           "sequentialminus": [
            [
             0,
             "#0d0887"
            ],
            [
             0.1111111111111111,
             "#46039f"
            ],
            [
             0.2222222222222222,
             "#7201a8"
            ],
            [
             0.3333333333333333,
             "#9c179e"
            ],
            [
             0.4444444444444444,
             "#bd3786"
            ],
            [
             0.5555555555555556,
             "#d8576b"
            ],
            [
             0.6666666666666666,
             "#ed7953"
            ],
            [
             0.7777777777777778,
             "#fb9f3a"
            ],
            [
             0.8888888888888888,
             "#fdca26"
            ],
            [
             1,
             "#f0f921"
            ]
           ]
          },
          "colorway": [
           "#636efa",
           "#EF553B",
           "#00cc96",
           "#ab63fa",
           "#FFA15A",
           "#19d3f3",
           "#FF6692",
           "#B6E880",
           "#FF97FF",
           "#FECB52"
          ],
          "font": {
           "color": "#2a3f5f"
          },
          "geo": {
           "bgcolor": "white",
           "lakecolor": "white",
           "landcolor": "#E5ECF6",
           "showlakes": true,
           "showland": true,
           "subunitcolor": "white"
          },
          "hoverlabel": {
           "align": "left"
          },
          "hovermode": "closest",
          "mapbox": {
           "style": "light"
          },
          "paper_bgcolor": "white",
          "plot_bgcolor": "#E5ECF6",
          "polar": {
           "angularaxis": {
            "gridcolor": "white",
            "linecolor": "white",
            "ticks": ""
           },
           "bgcolor": "#E5ECF6",
           "radialaxis": {
            "gridcolor": "white",
            "linecolor": "white",
            "ticks": ""
           }
          },
          "scene": {
           "xaxis": {
            "backgroundcolor": "#E5ECF6",
            "gridcolor": "white",
            "gridwidth": 2,
            "linecolor": "white",
            "showbackground": true,
            "ticks": "",
            "zerolinecolor": "white"
           },
           "yaxis": {
            "backgroundcolor": "#E5ECF6",
            "gridcolor": "white",
            "gridwidth": 2,
            "linecolor": "white",
            "showbackground": true,
            "ticks": "",
            "zerolinecolor": "white"
           },
           "zaxis": {
            "backgroundcolor": "#E5ECF6",
            "gridcolor": "white",
            "gridwidth": 2,
            "linecolor": "white",
            "showbackground": true,
            "ticks": "",
            "zerolinecolor": "white"
           }
          },
          "shapedefaults": {
           "line": {
            "color": "#2a3f5f"
           }
          },
          "ternary": {
           "aaxis": {
            "gridcolor": "white",
            "linecolor": "white",
            "ticks": ""
           },
           "baxis": {
            "gridcolor": "white",
            "linecolor": "white",
            "ticks": ""
           },
           "bgcolor": "#E5ECF6",
           "caxis": {
            "gridcolor": "white",
            "linecolor": "white",
            "ticks": ""
           }
          },
          "title": {
           "x": 0.05
          },
          "xaxis": {
           "automargin": true,
           "gridcolor": "white",
           "linecolor": "white",
           "ticks": "",
           "title": {
            "standoff": 15
           },
           "zerolinecolor": "white",
           "zerolinewidth": 2
          },
          "yaxis": {
           "automargin": true,
           "gridcolor": "white",
           "linecolor": "white",
           "ticks": "",
           "title": {
            "standoff": 15
           },
           "zerolinecolor": "white",
           "zerolinewidth": 2
          }
         }
        },
        "title": {
         "text": "Bar Chart"
        },
        "width": 500,
        "xaxis": {
         "autorange": true,
         "range": [
          0,
          37283171.50526316
         ],
         "type": "linear"
        },
        "yaxis": {
         "autorange": true,
         "range": [
          9.5,
          -0.5
         ],
         "type": "category"
        }
       }
      },
      "image/png": "[encoded data removed]",
      "text/html": [
       "<div>                            <div id=\"22fa9ed8-381f-4780-8192-b96d3987370f\" class=\"plotly-graph-div\" style=\"height:500px; width:500px;\"></div>            <script type=\"text/javascript\">                require([\"plotly\"], function(Plotly) {                    window.PLOTLYENV=window.PLOTLYENV || {};                                    if (document.getElementById(\"22fa9ed8-381f-4780-8192-b96d3987370f\")) {                    Plotly.newPlot(                        \"22fa9ed8-381f-4780-8192-b96d3987370f\",                        [{\"name\":\"Margin\",\"orientation\":\"h\",\"x\":[11433231.086,10058265.871,5998658.345,3981548.487,3429964.29,3230082.899,3072071.3880000003,3062749.609,3052992.629,3032787.988],\"y\":[\"China\",\"United States of America\",\"Australia\",\"Canada\",\"Japan\",\"Russia\",\"Sweden\",\"South Korea\",\"Spain\",\"Iceland\"],\"type\":\"bar\"},{\"name\":\"Revenue\",\"orientation\":\"h\",\"x\":[35419012.93,30921686.0,17937580.1,12659751.7,11144287.4,10409143.0,9347376.63,9333921.7,9294640.6,8828988.9],\"y\":[\"China\",\"United States of America\",\"Australia\",\"Canada\",\"Japan\",\"Russia\",\"Sweden\",\"South Korea\",\"Spain\",\"Iceland\"],\"type\":\"bar\"}],                        {\"height\":500,\"title\":{\"text\":\"Bar Chart\"},\"width\":500,\"yaxis\":{\"autorange\":\"reversed\"},\"template\":{\"data\":{\"histogram2dcontour\":[{\"type\":\"histogram2dcontour\",\"colorbar\":{\"outlinewidth\":0,\"ticks\":\"\"},\"colorscale\":[[0.0,\"#0d0887\"],[0.1111111111111111,\"#46039f\"],[0.2222222222222222,\"#7201a8\"],[0.3333333333333333,\"#9c179e\"],[0.4444444444444444,\"#bd3786\"],[0.5555555555555556,\"#d8576b\"],[0.6666666666666666,\"#ed7953\"],[0.7777777777777778,\"#fb9f3a\"],[0.8888888888888888,\"#fdca26\"],[1.0,\"#f0f921\"]]}],\"choropleth\":[{\"type\":\"choropleth\",\"colorbar\":{\"outlinewidth\":0,\"ticks\":\"\"}}],\"histogram2d\":[{\"type\":\"histogram2d\",\"colorbar\":{\"outlinewidth\":0,\"ticks\":\"\"},\"colorscale\":[[0.0,\"#0d0887\"],[0.1111111111111111,\"#46039f\"],[0.2222222222222222,\"#7201a8\"],[0.3333333333333333,\"#9c179e\"],[0.4444444444444444,\"#bd3786\"],[0.5555555555555556,\"#d8576b\"],[0.6666666666666666,\"#ed7953\"],[0.7777777777777778,\"#fb9f3a\"],[0.8888888888888888,\"#fdca26\"],[1.0,\"#f0f921\"]]}],\"heatmap\":[{\"type\":\"heatmap\",\"colorbar\":{\"outlinewidth\":0,\"ticks\":\"\"},\"colorscale\":[[0.0,\"#0d0887\"],[0.1111111111111111,\"#46039f\"],[0.2222222222222222,\"#7201a8\"],[0.3333333333333333,\"#9c179e\"],[0.4444444444444444,\"#bd3786\"],[0.5555555555555556,\"#d8576b\"],[0.6666666666666666,\"#ed7953\"],[0.7777777777777778,\"#fb9f3a\"],[0.8888888888888888,\"#fdca26\"],[1.0,\"#f0f921\"]]}],\"heatmapgl\":[{\"type\":\"heatmapgl\",\"colorbar\":{\"outlinewidth\":0,\"ticks\":\"\"},\"colorscale\":[[0.0,\"#0d0887\"],[0.1111111111111111,\"#46039f\"],[0.2222222222222222,\"#7201a8\"],[0.3333333333333333,\"#9c179e\"],[0.4444444444444444,\"#bd3786\"],[0.5555555555555556,\"#d8576b\"],[0.6666666666666666,\"#ed7953\"],[0.7777777777777778,\"#fb9f3a\"],[0.8888888888888888,\"#fdca26\"],[1.0,\"#f0f921\"]]}],\"contourcarpet\":[{\"type\":\"contourcarpet\",\"colorbar\":{\"outlinewidth\":0,\"ticks\":\"\"}}],\"contour\":[{\"type\":\"contour\",\"colorbar\":{\"outlinewidth\":0,\"ticks\":\"\"},\"colorscale\":[[0.0,\"#0d0887\"],[0.1111111111111111,\"#46039f\"],[0.2222222222222222,\"#7201a8\"],[0.3333333333333333,\"#9c179e\"],[0.4444444444444444,\"#bd3786\"],[0.5555555555555556,\"#d8576b\"],[0.6666666666666666,\"#ed7953\"],[0.7777777777777778,\"#fb9f3a\"],[0.8888888888888888,\"#fdca26\"],[1.0,\"#f0f921\"]]}],\"surface\":[{\"type\":\"surface\",\"colorbar\":{\"outlinewidth\":0,\"ticks\":\"\"},\"colorscale\":[[0.0,\"#0d0887\"],[0.1111111111111111,\"#46039f\"],[0.2222222222222222,\"#7201a8\"],[0.3333333333333333,\"#9c179e\"],[0.4444444444444444,\"#bd3786\"],[0.5555555555555556,\"#d8576b\"],[0.6666666666666666,\"#ed7953\"],[0.7777777777777778,\"#fb9f3a\"],[0.8888888888888888,\"#fdca26\"],[1.0,\"#f0f921\"]]}],\"mesh3d\":[{\"type\":\"mesh3d\",\"colorbar\":{\"outlinewidth\":0,\"ticks\":\"\"}}],\"scatter\":[{\"fillpattern\":{\"fillmode\":\"overlay\",\"size\":10,\"solidity\":0.2},\"type\":\"scatter\"}],\"parcoords\":[{\"type\":\"parcoords\",\"line\":{\"colorbar\":{\"outlinewidth\":0,\"ticks\":\"\"}}}],\"scatterpolargl\":[{\"type\":\"scatterpolargl\",\"marker\":{\"colorbar\":{\"outlinewidth\":0,\"ticks\":\"\"}}}],\"bar\":[{\"error_x\":{\"color\":\"#2a3f5f\"},\"error_y\":{\"color\":\"#2a3f5f\"},\"marker\":{\"line\":{\"color\":\"#E5ECF6\",\"width\":0.5},\"pattern\":{\"fillmode\":\"overlay\",\"size\":10,\"solidity\":0.2}},\"type\":\"bar\"}],\"scattergeo\":[{\"type\":\"scattergeo\",\"marker\":{\"colorbar\":{\"outlinewidth\":0,\"ticks\":\"\"}}}],\"scatterpolar\":[{\"type\":\"scatterpolar\",\"marker\":{\"colorbar\":{\"outlinewidth\":0,\"ticks\":\"\"}}}],\"histogram\":[{\"marker\":{\"pattern\":{\"fillmode\":\"overlay\",\"size\":10,\"solidity\":0.2}},\"type\":\"histogram\"}],\"scattergl\":[{\"type\":\"scattergl\",\"marker\":{\"colorbar\":{\"outlinewidth\":0,\"ticks\":\"\"}}}],\"scatter3d\":[{\"type\":\"scatter3d\",\"line\":{\"colorbar\":{\"outlinewidth\":0,\"ticks\":\"\"}},\"marker\":{\"colorbar\":{\"outlinewidth\":0,\"ticks\":\"\"}}}],\"scattermapbox\":[{\"type\":\"scattermapbox\",\"marker\":{\"colorbar\":{\"outlinewidth\":0,\"ticks\":\"\"}}}],\"scatterternary\":[{\"type\":\"scatterternary\",\"marker\":{\"colorbar\":{\"outlinewidth\":0,\"ticks\":\"\"}}}],\"scattercarpet\":[{\"type\":\"scattercarpet\",\"marker\":{\"colorbar\":{\"outlinewidth\":0,\"ticks\":\"\"}}}],\"carpet\":[{\"aaxis\":{\"endlinecolor\":\"#2a3f5f\",\"gridcolor\":\"white\",\"linecolor\":\"white\",\"minorgridcolor\":\"white\",\"startlinecolor\":\"#2a3f5f\"},\"baxis\":{\"endlinecolor\":\"#2a3f5f\",\"gridcolor\":\"white\",\"linecolor\":\"white\",\"minorgridcolor\":\"white\",\"startlinecolor\":\"#2a3f5f\"},\"type\":\"carpet\"}],\"table\":[{\"cells\":{\"fill\":{\"color\":\"#EBF0F8\"},\"line\":{\"color\":\"white\"}},\"header\":{\"fill\":{\"color\":\"#C8D4E3\"},\"line\":{\"color\":\"white\"}},\"type\":\"table\"}],\"barpolar\":[{\"marker\":{\"line\":{\"color\":\"#E5ECF6\",\"width\":0.5},\"pattern\":{\"fillmode\":\"overlay\",\"size\":10,\"solidity\":0.2}},\"type\":\"barpolar\"}],\"pie\":[{\"automargin\":true,\"type\":\"pie\"}]},\"layout\":{\"autotypenumbers\":\"strict\",\"colorway\":[\"#636efa\",\"#EF553B\",\"#00cc96\",\"#ab63fa\",\"#FFA15A\",\"#19d3f3\",\"#FF6692\",\"#B6E880\",\"#FF97FF\",\"#FECB52\"],\"font\":{\"color\":\"#2a3f5f\"},\"hovermode\":\"closest\",\"hoverlabel\":{\"align\":\"left\"},\"paper_bgcolor\":\"white\",\"plot_bgcolor\":\"#E5ECF6\",\"polar\":{\"bgcolor\":\"#E5ECF6\",\"angularaxis\":{\"gridcolor\":\"white\",\"linecolor\":\"white\",\"ticks\":\"\"},\"radialaxis\":{\"gridcolor\":\"white\",\"linecolor\":\"white\",\"ticks\":\"\"}},\"ternary\":{\"bgcolor\":\"#E5ECF6\",\"aaxis\":{\"gridcolor\":\"white\",\"linecolor\":\"white\",\"ticks\":\"\"},\"baxis\":{\"gridcolor\":\"white\",\"linecolor\":\"white\",\"ticks\":\"\"},\"caxis\":{\"gridcolor\":\"white\",\"linecolor\":\"white\",\"ticks\":\"\"}},\"coloraxis\":{\"colorbar\":{\"outlinewidth\":0,\"ticks\":\"\"}},\"colorscale\":{\"sequential\":[[0.0,\"#0d0887\"],[0.1111111111111111,\"#46039f\"],[0.2222222222222222,\"#7201a8\"],[0.3333333333333333,\"#9c179e\"],[0.4444444444444444,\"#bd3786\"],[0.5555555555555556,\"#d8576b\"],[0.6666666666666666,\"#ed7953\"],[0.7777777777777778,\"#fb9f3a\"],[0.8888888888888888,\"#fdca26\"],[1.0,\"#f0f921\"]],\"sequentialminus\":[[0.0,\"#0d0887\"],[0.1111111111111111,\"#46039f\"],[0.2222222222222222,\"#7201a8\"],[0.3333333333333333,\"#9c179e\"],[0.4444444444444444,\"#bd3786\"],[0.5555555555555556,\"#d8576b\"],[0.6666666666666666,\"#ed7953\"],[0.7777777777777778,\"#fb9f3a\"],[0.8888888888888888,\"#fdca26\"],[1.0,\"#f0f921\"]],\"diverging\":[[0,\"#8e0152\"],[0.1,\"#c51b7d\"],[0.2,\"#de77ae\"],[0.3,\"#f1b6da\"],[0.4,\"#fde0ef\"],[0.5,\"#f7f7f7\"],[0.6,\"#e6f5d0\"],[0.7,\"#b8e186\"],[0.8,\"#7fbc41\"],[0.9,\"#4d9221\"],[1,\"#276419\"]]},\"xaxis\":{\"gridcolor\":\"white\",\"linecolor\":\"white\",\"ticks\":\"\",\"title\":{\"standoff\":15},\"zerolinecolor\":\"white\",\"automargin\":true,\"zerolinewidth\":2},\"yaxis\":{\"gridcolor\":\"white\",\"linecolor\":\"white\",\"ticks\":\"\",\"title\":{\"standoff\":15},\"zerolinecolor\":\"white\",\"automargin\":true,\"zerolinewidth\":2},\"scene\":{\"xaxis\":{\"backgroundcolor\":\"#E5ECF6\",\"gridcolor\":\"white\",\"linecolor\":\"white\",\"showbackground\":true,\"ticks\":\"\",\"zerolinecolor\":\"white\",\"gridwidth\":2},\"yaxis\":{\"backgroundcolor\":\"#E5ECF6\",\"gridcolor\":\"white\",\"linecolor\":\"white\",\"showbackground\":true,\"ticks\":\"\",\"zerolinecolor\":\"white\",\"gridwidth\":2},\"zaxis\":{\"backgroundcolor\":\"#E5ECF6\",\"gridcolor\":\"white\",\"linecolor\":\"white\",\"showbackground\":true,\"ticks\":\"\",\"zerolinecolor\":\"white\",\"gridwidth\":2}},\"shapedefaults\":{\"line\":{\"color\":\"#2a3f5f\"}},\"annotationdefaults\":{\"arrowcolor\":\"#2a3f5f\",\"arrowhead\":0,\"arrowwidth\":1},\"geo\":{\"bgcolor\":\"white\",\"landcolor\":\"#E5ECF6\",\"subunitcolor\":\"white\",\"showland\":true,\"showlakes\":true,\"lakecolor\":\"white\"},\"title\":{\"x\":0.05},\"mapbox\":{\"style\":\"light\"}}}},                        {\"responsive\": true}                    ).then(function(){\n",
       "                            \n",
       "var gd = document.getElementById('22fa9ed8-381f-4780-8192-b96d3987370f');\n",
       "var x = new MutationObserver(function (mutations, observer) {{\n",
       "        var display = window.getComputedStyle(gd).display;\n",
       "        if (!display || display === 'none') {{\n",
       "            console.log([gd, 'removed!']);\n",
       "            Plotly.purge(gd);\n",
       "            observer.disconnect();\n",
       "        }}\n",
       "}});\n",
       "\n",
       "// Listen for the removal of the full notebook cells\n",
       "var notebookContainer = gd.closest('#notebook-container');\n",
       "if (notebookContainer) {{\n",
       "    x.observe(notebookContainer, {childList: true});\n",
       "}}\n",
       "\n",
       "// Listen for the clearing of the current output cell\n",
       "var outputEl = gd.closest('.output');\n",
       "if (outputEl) {{\n",
       "    x.observe(outputEl, {childList: true});\n",
       "}}\n",
       "\n",
       "                        })                };                });            </script>        </div>"
      ]
     },
     "metadata": {},
     "output_type": "display_data"
    }
   ],
   "source": [
    "# 응용  -  겹쳐서 그리기\n",
    "\n",
    "A = go.Bar(y = top10.index, x = top10[\"Margin\"],    # x,y 바꿔서 눕혀져있는 그래프 그림\n",
    "           name = \"Margin\", orientation = \"h\")  \n",
    "B = go.Bar(y = top10.index, x = top10[\"Revenue\"], \n",
    "           name = \"Revenue\", orientation = \"h\")\n",
    "\n",
    "data = [A, B]\n",
    "\n",
    "layout = go.Layout(title = \"Bar Chart\", width = 500, height = 500,\n",
    "                   yaxis = {\"autorange\" : \"reversed\"})\n",
    "\n",
    "fig = go.Figure(data, layout)\n",
    "fig.show()"
   ]
  },
  {
   "cell_type": "markdown",
   "id": "da6e442b-86fd-42e9-913d-ac65f0478ad5",
   "metadata": {},
   "source": [
    "# 산점도 & 선 그래프"
   ]
  },
  {
   "cell_type": "code",
   "execution_count": 40,
   "id": "d7d9d67d-e53e-4b54-a1fa-d89c8d5dcc69",
   "metadata": {},
   "outputs": [
    {
     "data": {
      "application/vnd.plotly.v1+json": {
       "config": {
        "plotlyServerURL": "https://plot.ly"
       },
       "data": [
        {
         "marker": {
          "size": 10
         },
         "mode": "lines+markers",
         "type": "scatter",
         "x": [
          1,
          2,
          3,
          4,
          5,
          6,
          7,
          8,
          9,
          10,
          11,
          12
         ],
         "y": [
          20446510.5,
          25512832.1,
          32081823.1,
          34434264.2,
          28702236.3,
          25812728.7,
          21502762.55,
          18648831.2,
          21644550.73,
          25355761.61,
          23228029.1,
          24136188.03
         ]
        }
       ],
       "layout": {
        "autosize": true,
        "template": {
         "data": {
          "bar": [
           {
            "error_x": {
             "color": "#2a3f5f"
            },
            "error_y": {
             "color": "#2a3f5f"
            },
            "marker": {
             "line": {
              "color": "#E5ECF6",
              "width": 0.5
             },
             "pattern": {
              "fillmode": "overlay",
              "size": 10,
              "solidity": 0.2
             }
            },
            "type": "bar"
           }
          ],
          "barpolar": [
           {
            "marker": {
             "line": {
              "color": "#E5ECF6",
              "width": 0.5
             },
             "pattern": {
              "fillmode": "overlay",
              "size": 10,
              "solidity": 0.2
             }
            },
            "type": "barpolar"
           }
          ],
          "carpet": [
           {
            "aaxis": {
             "endlinecolor": "#2a3f5f",
             "gridcolor": "white",
             "linecolor": "white",
             "minorgridcolor": "white",
             "startlinecolor": "#2a3f5f"
            },
            "baxis": {
             "endlinecolor": "#2a3f5f",
             "gridcolor": "white",
             "linecolor": "white",
             "minorgridcolor": "white",
             "startlinecolor": "#2a3f5f"
            },
            "type": "carpet"
           }
          ],
          "choropleth": [
           {
            "colorbar": {
             "outlinewidth": 0,
             "ticks": ""
            },
            "type": "choropleth"
           }
          ],
          "contour": [
           {
            "colorbar": {
             "outlinewidth": 0,
             "ticks": ""
            },
            "colorscale": [
             [
              0,
              "#0d0887"
             ],
             [
              0.1111111111111111,
              "#46039f"
             ],
             [
              0.2222222222222222,
              "#7201a8"
             ],
             [
              0.3333333333333333,
              "#9c179e"
             ],
             [
              0.4444444444444444,
              "#bd3786"
             ],
             [
              0.5555555555555556,
              "#d8576b"
             ],
             [
              0.6666666666666666,
              "#ed7953"
             ],
             [
              0.7777777777777778,
              "#fb9f3a"
             ],
             [
              0.8888888888888888,
              "#fdca26"
             ],
             [
              1,
              "#f0f921"
             ]
            ],
            "type": "contour"
           }
          ],
          "contourcarpet": [
           {
            "colorbar": {
             "outlinewidth": 0,
             "ticks": ""
            },
            "type": "contourcarpet"
           }
          ],
          "heatmap": [
           {
            "colorbar": {
             "outlinewidth": 0,
             "ticks": ""
            },
            "colorscale": [
             [
              0,
              "#0d0887"
             ],
             [
              0.1111111111111111,
              "#46039f"
             ],
             [
              0.2222222222222222,
              "#7201a8"
             ],
             [
              0.3333333333333333,
              "#9c179e"
             ],
             [
              0.4444444444444444,
              "#bd3786"
             ],
             [
              0.5555555555555556,
              "#d8576b"
             ],
             [
              0.6666666666666666,
              "#ed7953"
             ],
             [
              0.7777777777777778,
              "#fb9f3a"
             ],
             [
              0.8888888888888888,
              "#fdca26"
             ],
             [
              1,
              "#f0f921"
             ]
            ],
            "type": "heatmap"
           }
          ],
          "heatmapgl": [
           {
            "colorbar": {
             "outlinewidth": 0,
             "ticks": ""
            },
            "colorscale": [
             [
              0,
              "#0d0887"
             ],
             [
              0.1111111111111111,
              "#46039f"
             ],
             [
              0.2222222222222222,
              "#7201a8"
             ],
             [
              0.3333333333333333,
              "#9c179e"
             ],
             [
              0.4444444444444444,
              "#bd3786"
             ],
             [
              0.5555555555555556,
              "#d8576b"
             ],
             [
              0.6666666666666666,
              "#ed7953"
             ],
             [
              0.7777777777777778,
              "#fb9f3a"
             ],
             [
              0.8888888888888888,
              "#fdca26"
             ],
             [
              1,
              "#f0f921"
             ]
            ],
            "type": "heatmapgl"
           }
          ],
          "histogram": [
           {
            "marker": {
             "pattern": {
              "fillmode": "overlay",
              "size": 10,
              "solidity": 0.2
             }
            },
            "type": "histogram"
           }
          ],
          "histogram2d": [
           {
            "colorbar": {
             "outlinewidth": 0,
             "ticks": ""
            },
            "colorscale": [
             [
              0,
              "#0d0887"
             ],
             [
              0.1111111111111111,
              "#46039f"
             ],
             [
              0.2222222222222222,
              "#7201a8"
             ],
             [
              0.3333333333333333,
              "#9c179e"
             ],
             [
              0.4444444444444444,
              "#bd3786"
             ],
             [
              0.5555555555555556,
              "#d8576b"
             ],
             [
              0.6666666666666666,
              "#ed7953"
             ],
             [
              0.7777777777777778,
              "#fb9f3a"
             ],
             [
              0.8888888888888888,
              "#fdca26"
             ],
             [
              1,
              "#f0f921"
             ]
            ],
            "type": "histogram2d"
           }
          ],
          "histogram2dcontour": [
           {
            "colorbar": {
             "outlinewidth": 0,
             "ticks": ""
            },
            "colorscale": [
             [
              0,
              "#0d0887"
             ],
             [
              0.1111111111111111,
              "#46039f"
             ],
             [
              0.2222222222222222,
              "#7201a8"
             ],
             [
              0.3333333333333333,
              "#9c179e"
             ],
             [
              0.4444444444444444,
              "#bd3786"
             ],
             [
              0.5555555555555556,
              "#d8576b"
             ],
             [
              0.6666666666666666,
              "#ed7953"
             ],
             [
              0.7777777777777778,
              "#fb9f3a"
             ],
             [
              0.8888888888888888,
              "#fdca26"
             ],
             [
              1,
              "#f0f921"
             ]
            ],
            "type": "histogram2dcontour"
           }
          ],
          "mesh3d": [
           {
            "colorbar": {
             "outlinewidth": 0,
             "ticks": ""
            },
            "type": "mesh3d"
           }
          ],
          "parcoords": [
           {
            "line": {
             "colorbar": {
              "outlinewidth": 0,
              "ticks": ""
             }
            },
            "type": "parcoords"
           }
          ],
          "pie": [
           {
            "automargin": true,
            "type": "pie"
           }
          ],
          "scatter": [
           {
            "fillpattern": {
             "fillmode": "overlay",
             "size": 10,
             "solidity": 0.2
            },
            "type": "scatter"
           }
          ],
          "scatter3d": [
           {
            "line": {
             "colorbar": {
              "outlinewidth": 0,
              "ticks": ""
             }
            },
            "marker": {
             "colorbar": {
              "outlinewidth": 0,
              "ticks": ""
             }
            },
            "type": "scatter3d"
           }
          ],
          "scattercarpet": [
           {
            "marker": {
             "colorbar": {
              "outlinewidth": 0,
              "ticks": ""
             }
            },
            "type": "scattercarpet"
           }
          ],
          "scattergeo": [
           {
            "marker": {
             "colorbar": {
              "outlinewidth": 0,
              "ticks": ""
             }
            },
            "type": "scattergeo"
           }
          ],
          "scattergl": [
           {
            "marker": {
             "colorbar": {
              "outlinewidth": 0,
              "ticks": ""
             }
            },
            "type": "scattergl"
           }
          ],
          "scattermapbox": [
           {
            "marker": {
             "colorbar": {
              "outlinewidth": 0,
              "ticks": ""
             }
            },
            "type": "scattermapbox"
           }
          ],
          "scatterpolar": [
           {
            "marker": {
             "colorbar": {
              "outlinewidth": 0,
              "ticks": ""
             }
            },
            "type": "scatterpolar"
           }
          ],
          "scatterpolargl": [
           {
            "marker": {
             "colorbar": {
              "outlinewidth": 0,
              "ticks": ""
             }
            },
            "type": "scatterpolargl"
           }
          ],
          "scatterternary": [
           {
            "marker": {
             "colorbar": {
              "outlinewidth": 0,
              "ticks": ""
             }
            },
            "type": "scatterternary"
           }
          ],
          "surface": [
           {
            "colorbar": {
             "outlinewidth": 0,
             "ticks": ""
            },
            "colorscale": [
             [
              0,
              "#0d0887"
             ],
             [
              0.1111111111111111,
              "#46039f"
             ],
             [
              0.2222222222222222,
              "#7201a8"
             ],
             [
              0.3333333333333333,
              "#9c179e"
             ],
             [
              0.4444444444444444,
              "#bd3786"
             ],
             [
              0.5555555555555556,
              "#d8576b"
             ],
             [
              0.6666666666666666,
              "#ed7953"
             ],
             [
              0.7777777777777778,
              "#fb9f3a"
             ],
             [
              0.8888888888888888,
              "#fdca26"
             ],
             [
              1,
              "#f0f921"
             ]
            ],
            "type": "surface"
           }
          ],
          "table": [
           {
            "cells": {
             "fill": {
              "color": "#EBF0F8"
             },
             "line": {
              "color": "white"
             }
            },
            "header": {
             "fill": {
              "color": "#C8D4E3"
             },
             "line": {
              "color": "white"
             }
            },
            "type": "table"
           }
          ]
         },
         "layout": {
          "annotationdefaults": {
           "arrowcolor": "#2a3f5f",
           "arrowhead": 0,
           "arrowwidth": 1
          },
          "autotypenumbers": "strict",
          "coloraxis": {
           "colorbar": {
            "outlinewidth": 0,
            "ticks": ""
           }
          },
          "colorscale": {
           "diverging": [
            [
             0,
             "#8e0152"
            ],
            [
             0.1,
             "#c51b7d"
            ],
            [
             0.2,
             "#de77ae"
            ],
            [
             0.3,
             "#f1b6da"
            ],
            [
             0.4,
             "#fde0ef"
            ],
            [
             0.5,
             "#f7f7f7"
            ],
            [
             0.6,
             "#e6f5d0"
            ],
            [
             0.7,
             "#b8e186"
            ],
            [
             0.8,
             "#7fbc41"
            ],
            [
             0.9,
             "#4d9221"
            ],
            [
             1,
             "#276419"
            ]
           ],
           "sequential": [
            [
             0,
             "#0d0887"
            ],
            [
             0.1111111111111111,
             "#46039f"
            ],
            [
             0.2222222222222222,
             "#7201a8"
            ],
            [
             0.3333333333333333,
             "#9c179e"
            ],
            [
             0.4444444444444444,
             "#bd3786"
            ],
            [
             0.5555555555555556,
             "#d8576b"
            ],
            [
             0.6666666666666666,
             "#ed7953"
            ],
            [
             0.7777777777777778,
             "#fb9f3a"
            ],
            [
             0.8888888888888888,
             "#fdca26"
            ],
            [
             1,
             "#f0f921"
            ]
           ],
           "sequentialminus": [
            [
             0,
             "#0d0887"
            ],
            [
             0.1111111111111111,
             "#46039f"
            ],
            [
             0.2222222222222222,
             "#7201a8"
            ],
            [
             0.3333333333333333,
             "#9c179e"
            ],
            [
             0.4444444444444444,
             "#bd3786"
            ],
            [
             0.5555555555555556,
             "#d8576b"
            ],
            [
             0.6666666666666666,
             "#ed7953"
            ],
            [
             0.7777777777777778,
             "#fb9f3a"
            ],
            [
             0.8888888888888888,
             "#fdca26"
            ],
            [
             1,
             "#f0f921"
            ]
           ]
          },
          "colorway": [
           "#636efa",
           "#EF553B",
           "#00cc96",
           "#ab63fa",
           "#FFA15A",
           "#19d3f3",
           "#FF6692",
           "#B6E880",
           "#FF97FF",
           "#FECB52"
          ],
          "font": {
           "color": "#2a3f5f"
          },
          "geo": {
           "bgcolor": "white",
           "lakecolor": "white",
           "landcolor": "#E5ECF6",
           "showlakes": true,
           "showland": true,
           "subunitcolor": "white"
          },
          "hoverlabel": {
           "align": "left"
          },
          "hovermode": "closest",
          "mapbox": {
           "style": "light"
          },
          "paper_bgcolor": "white",
          "plot_bgcolor": "#E5ECF6",
          "polar": {
           "angularaxis": {
            "gridcolor": "white",
            "linecolor": "white",
            "ticks": ""
           },
           "bgcolor": "#E5ECF6",
           "radialaxis": {
            "gridcolor": "white",
            "linecolor": "white",
            "ticks": ""
           }
          },
          "scene": {
           "xaxis": {
            "backgroundcolor": "#E5ECF6",
            "gridcolor": "white",
            "gridwidth": 2,
            "linecolor": "white",
            "showbackground": true,
            "ticks": "",
            "zerolinecolor": "white"
           },
           "yaxis": {
            "backgroundcolor": "#E5ECF6",
            "gridcolor": "white",
            "gridwidth": 2,
            "linecolor": "white",
            "showbackground": true,
            "ticks": "",
            "zerolinecolor": "white"
           },
           "zaxis": {
            "backgroundcolor": "#E5ECF6",
            "gridcolor": "white",
            "gridwidth": 2,
            "linecolor": "white",
            "showbackground": true,
            "ticks": "",
            "zerolinecolor": "white"
           }
          },
          "shapedefaults": {
           "line": {
            "color": "#2a3f5f"
           }
          },
          "ternary": {
           "aaxis": {
            "gridcolor": "white",
            "linecolor": "white",
            "ticks": ""
           },
           "baxis": {
            "gridcolor": "white",
            "linecolor": "white",
            "ticks": ""
           },
           "bgcolor": "#E5ECF6",
           "caxis": {
            "gridcolor": "white",
            "linecolor": "white",
            "ticks": ""
           }
          },
          "title": {
           "x": 0.05
          },
          "xaxis": {
           "automargin": true,
           "gridcolor": "white",
           "linecolor": "white",
           "ticks": "",
           "title": {
            "standoff": 15
           },
           "zerolinecolor": "white",
           "zerolinewidth": 2
          },
          "yaxis": {
           "automargin": true,
           "gridcolor": "white",
           "linecolor": "white",
           "ticks": "",
           "title": {
            "standoff": 15
           },
           "zerolinecolor": "white",
           "zerolinewidth": 2
          }
         }
        },
        "title": {
         "text": "Scatter & Line Plot"
        },
        "xaxis": {
         "autorange": true,
         "range": [
          0.2902079834646685,
          12.709792016535332
         ],
         "type": "linear"
        },
        "yaxis": {
         "autorange": true,
         "range": [
          17038611.445819397,
          36044483.954180606
         ],
         "type": "linear"
        }
       }
      },
      "image/png": "[encoded data removed]",
      "text/html": [
       "<div>                            <div id=\"90b59696-5f58-4c60-9b61-9f7df0cf90a2\" class=\"plotly-graph-div\" style=\"height:525px; width:100%;\"></div>            <script type=\"text/javascript\">                require([\"plotly\"], function(Plotly) {                    window.PLOTLYENV=window.PLOTLYENV || {};                                    if (document.getElementById(\"90b59696-5f58-4c60-9b61-9f7df0cf90a2\")) {                    Plotly.newPlot(                        \"90b59696-5f58-4c60-9b61-9f7df0cf90a2\",                        [{\"marker\":{\"size\":10},\"mode\":\"lines+markers\",\"x\":[1,2,3,4,5,6,7,8,9,10,11,12],\"y\":[20446510.5,25512832.1,32081823.1,34434264.2,28702236.3,25812728.7,21502762.55,18648831.2,21644550.73,25355761.61,23228029.1,24136188.03],\"type\":\"scatter\"}],                        {\"title\":{\"text\":\"Scatter & Line Plot\"},\"template\":{\"data\":{\"histogram2dcontour\":[{\"type\":\"histogram2dcontour\",\"colorbar\":{\"outlinewidth\":0,\"ticks\":\"\"},\"colorscale\":[[0.0,\"#0d0887\"],[0.1111111111111111,\"#46039f\"],[0.2222222222222222,\"#7201a8\"],[0.3333333333333333,\"#9c179e\"],[0.4444444444444444,\"#bd3786\"],[0.5555555555555556,\"#d8576b\"],[0.6666666666666666,\"#ed7953\"],[0.7777777777777778,\"#fb9f3a\"],[0.8888888888888888,\"#fdca26\"],[1.0,\"#f0f921\"]]}],\"choropleth\":[{\"type\":\"choropleth\",\"colorbar\":{\"outlinewidth\":0,\"ticks\":\"\"}}],\"histogram2d\":[{\"type\":\"histogram2d\",\"colorbar\":{\"outlinewidth\":0,\"ticks\":\"\"},\"colorscale\":[[0.0,\"#0d0887\"],[0.1111111111111111,\"#46039f\"],[0.2222222222222222,\"#7201a8\"],[0.3333333333333333,\"#9c179e\"],[0.4444444444444444,\"#bd3786\"],[0.5555555555555556,\"#d8576b\"],[0.6666666666666666,\"#ed7953\"],[0.7777777777777778,\"#fb9f3a\"],[0.8888888888888888,\"#fdca26\"],[1.0,\"#f0f921\"]]}],\"heatmap\":[{\"type\":\"heatmap\",\"colorbar\":{\"outlinewidth\":0,\"ticks\":\"\"},\"colorscale\":[[0.0,\"#0d0887\"],[0.1111111111111111,\"#46039f\"],[0.2222222222222222,\"#7201a8\"],[0.3333333333333333,\"#9c179e\"],[0.4444444444444444,\"#bd3786\"],[0.5555555555555556,\"#d8576b\"],[0.6666666666666666,\"#ed7953\"],[0.7777777777777778,\"#fb9f3a\"],[0.8888888888888888,\"#fdca26\"],[1.0,\"#f0f921\"]]}],\"heatmapgl\":[{\"type\":\"heatmapgl\",\"colorbar\":{\"outlinewidth\":0,\"ticks\":\"\"},\"colorscale\":[[0.0,\"#0d0887\"],[0.1111111111111111,\"#46039f\"],[0.2222222222222222,\"#7201a8\"],[0.3333333333333333,\"#9c179e\"],[0.4444444444444444,\"#bd3786\"],[0.5555555555555556,\"#d8576b\"],[0.6666666666666666,\"#ed7953\"],[0.7777777777777778,\"#fb9f3a\"],[0.8888888888888888,\"#fdca26\"],[1.0,\"#f0f921\"]]}],\"contourcarpet\":[{\"type\":\"contourcarpet\",\"colorbar\":{\"outlinewidth\":0,\"ticks\":\"\"}}],\"contour\":[{\"type\":\"contour\",\"colorbar\":{\"outlinewidth\":0,\"ticks\":\"\"},\"colorscale\":[[0.0,\"#0d0887\"],[0.1111111111111111,\"#46039f\"],[0.2222222222222222,\"#7201a8\"],[0.3333333333333333,\"#9c179e\"],[0.4444444444444444,\"#bd3786\"],[0.5555555555555556,\"#d8576b\"],[0.6666666666666666,\"#ed7953\"],[0.7777777777777778,\"#fb9f3a\"],[0.8888888888888888,\"#fdca26\"],[1.0,\"#f0f921\"]]}],\"surface\":[{\"type\":\"surface\",\"colorbar\":{\"outlinewidth\":0,\"ticks\":\"\"},\"colorscale\":[[0.0,\"#0d0887\"],[0.1111111111111111,\"#46039f\"],[0.2222222222222222,\"#7201a8\"],[0.3333333333333333,\"#9c179e\"],[0.4444444444444444,\"#bd3786\"],[0.5555555555555556,\"#d8576b\"],[0.6666666666666666,\"#ed7953\"],[0.7777777777777778,\"#fb9f3a\"],[0.8888888888888888,\"#fdca26\"],[1.0,\"#f0f921\"]]}],\"mesh3d\":[{\"type\":\"mesh3d\",\"colorbar\":{\"outlinewidth\":0,\"ticks\":\"\"}}],\"scatter\":[{\"fillpattern\":{\"fillmode\":\"overlay\",\"size\":10,\"solidity\":0.2},\"type\":\"scatter\"}],\"parcoords\":[{\"type\":\"parcoords\",\"line\":{\"colorbar\":{\"outlinewidth\":0,\"ticks\":\"\"}}}],\"scatterpolargl\":[{\"type\":\"scatterpolargl\",\"marker\":{\"colorbar\":{\"outlinewidth\":0,\"ticks\":\"\"}}}],\"bar\":[{\"error_x\":{\"color\":\"#2a3f5f\"},\"error_y\":{\"color\":\"#2a3f5f\"},\"marker\":{\"line\":{\"color\":\"#E5ECF6\",\"width\":0.5},\"pattern\":{\"fillmode\":\"overlay\",\"size\":10,\"solidity\":0.2}},\"type\":\"bar\"}],\"scattergeo\":[{\"type\":\"scattergeo\",\"marker\":{\"colorbar\":{\"outlinewidth\":0,\"ticks\":\"\"}}}],\"scatterpolar\":[{\"type\":\"scatterpolar\",\"marker\":{\"colorbar\":{\"outlinewidth\":0,\"ticks\":\"\"}}}],\"histogram\":[{\"marker\":{\"pattern\":{\"fillmode\":\"overlay\",\"size\":10,\"solidity\":0.2}},\"type\":\"histogram\"}],\"scattergl\":[{\"type\":\"scattergl\",\"marker\":{\"colorbar\":{\"outlinewidth\":0,\"ticks\":\"\"}}}],\"scatter3d\":[{\"type\":\"scatter3d\",\"line\":{\"colorbar\":{\"outlinewidth\":0,\"ticks\":\"\"}},\"marker\":{\"colorbar\":{\"outlinewidth\":0,\"ticks\":\"\"}}}],\"scattermapbox\":[{\"type\":\"scattermapbox\",\"marker\":{\"colorbar\":{\"outlinewidth\":0,\"ticks\":\"\"}}}],\"scatterternary\":[{\"type\":\"scatterternary\",\"marker\":{\"colorbar\":{\"outlinewidth\":0,\"ticks\":\"\"}}}],\"scattercarpet\":[{\"type\":\"scattercarpet\",\"marker\":{\"colorbar\":{\"outlinewidth\":0,\"ticks\":\"\"}}}],\"carpet\":[{\"aaxis\":{\"endlinecolor\":\"#2a3f5f\",\"gridcolor\":\"white\",\"linecolor\":\"white\",\"minorgridcolor\":\"white\",\"startlinecolor\":\"#2a3f5f\"},\"baxis\":{\"endlinecolor\":\"#2a3f5f\",\"gridcolor\":\"white\",\"linecolor\":\"white\",\"minorgridcolor\":\"white\",\"startlinecolor\":\"#2a3f5f\"},\"type\":\"carpet\"}],\"table\":[{\"cells\":{\"fill\":{\"color\":\"#EBF0F8\"},\"line\":{\"color\":\"white\"}},\"header\":{\"fill\":{\"color\":\"#C8D4E3\"},\"line\":{\"color\":\"white\"}},\"type\":\"table\"}],\"barpolar\":[{\"marker\":{\"line\":{\"color\":\"#E5ECF6\",\"width\":0.5},\"pattern\":{\"fillmode\":\"overlay\",\"size\":10,\"solidity\":0.2}},\"type\":\"barpolar\"}],\"pie\":[{\"automargin\":true,\"type\":\"pie\"}]},\"layout\":{\"autotypenumbers\":\"strict\",\"colorway\":[\"#636efa\",\"#EF553B\",\"#00cc96\",\"#ab63fa\",\"#FFA15A\",\"#19d3f3\",\"#FF6692\",\"#B6E880\",\"#FF97FF\",\"#FECB52\"],\"font\":{\"color\":\"#2a3f5f\"},\"hovermode\":\"closest\",\"hoverlabel\":{\"align\":\"left\"},\"paper_bgcolor\":\"white\",\"plot_bgcolor\":\"#E5ECF6\",\"polar\":{\"bgcolor\":\"#E5ECF6\",\"angularaxis\":{\"gridcolor\":\"white\",\"linecolor\":\"white\",\"ticks\":\"\"},\"radialaxis\":{\"gridcolor\":\"white\",\"linecolor\":\"white\",\"ticks\":\"\"}},\"ternary\":{\"bgcolor\":\"#E5ECF6\",\"aaxis\":{\"gridcolor\":\"white\",\"linecolor\":\"white\",\"ticks\":\"\"},\"baxis\":{\"gridcolor\":\"white\",\"linecolor\":\"white\",\"ticks\":\"\"},\"caxis\":{\"gridcolor\":\"white\",\"linecolor\":\"white\",\"ticks\":\"\"}},\"coloraxis\":{\"colorbar\":{\"outlinewidth\":0,\"ticks\":\"\"}},\"colorscale\":{\"sequential\":[[0.0,\"#0d0887\"],[0.1111111111111111,\"#46039f\"],[0.2222222222222222,\"#7201a8\"],[0.3333333333333333,\"#9c179e\"],[0.4444444444444444,\"#bd3786\"],[0.5555555555555556,\"#d8576b\"],[0.6666666666666666,\"#ed7953\"],[0.7777777777777778,\"#fb9f3a\"],[0.8888888888888888,\"#fdca26\"],[1.0,\"#f0f921\"]],\"sequentialminus\":[[0.0,\"#0d0887\"],[0.1111111111111111,\"#46039f\"],[0.2222222222222222,\"#7201a8\"],[0.3333333333333333,\"#9c179e\"],[0.4444444444444444,\"#bd3786\"],[0.5555555555555556,\"#d8576b\"],[0.6666666666666666,\"#ed7953\"],[0.7777777777777778,\"#fb9f3a\"],[0.8888888888888888,\"#fdca26\"],[1.0,\"#f0f921\"]],\"diverging\":[[0,\"#8e0152\"],[0.1,\"#c51b7d\"],[0.2,\"#de77ae\"],[0.3,\"#f1b6da\"],[0.4,\"#fde0ef\"],[0.5,\"#f7f7f7\"],[0.6,\"#e6f5d0\"],[0.7,\"#b8e186\"],[0.8,\"#7fbc41\"],[0.9,\"#4d9221\"],[1,\"#276419\"]]},\"xaxis\":{\"gridcolor\":\"white\",\"linecolor\":\"white\",\"ticks\":\"\",\"title\":{\"standoff\":15},\"zerolinecolor\":\"white\",\"automargin\":true,\"zerolinewidth\":2},\"yaxis\":{\"gridcolor\":\"white\",\"linecolor\":\"white\",\"ticks\":\"\",\"title\":{\"standoff\":15},\"zerolinecolor\":\"white\",\"automargin\":true,\"zerolinewidth\":2},\"scene\":{\"xaxis\":{\"backgroundcolor\":\"#E5ECF6\",\"gridcolor\":\"white\",\"linecolor\":\"white\",\"showbackground\":true,\"ticks\":\"\",\"zerolinecolor\":\"white\",\"gridwidth\":2},\"yaxis\":{\"backgroundcolor\":\"#E5ECF6\",\"gridcolor\":\"white\",\"linecolor\":\"white\",\"showbackground\":true,\"ticks\":\"\",\"zerolinecolor\":\"white\",\"gridwidth\":2},\"zaxis\":{\"backgroundcolor\":\"#E5ECF6\",\"gridcolor\":\"white\",\"linecolor\":\"white\",\"showbackground\":true,\"ticks\":\"\",\"zerolinecolor\":\"white\",\"gridwidth\":2}},\"shapedefaults\":{\"line\":{\"color\":\"#2a3f5f\"}},\"annotationdefaults\":{\"arrowcolor\":\"#2a3f5f\",\"arrowhead\":0,\"arrowwidth\":1},\"geo\":{\"bgcolor\":\"white\",\"landcolor\":\"#E5ECF6\",\"subunitcolor\":\"white\",\"showland\":true,\"showlakes\":true,\"lakecolor\":\"white\"},\"title\":{\"x\":0.05},\"mapbox\":{\"style\":\"light\"}}}},                        {\"responsive\": true}                    ).then(function(){\n",
       "                            \n",
       "var gd = document.getElementById('90b59696-5f58-4c60-9b61-9f7df0cf90a2');\n",
       "var x = new MutationObserver(function (mutations, observer) {{\n",
       "        var display = window.getComputedStyle(gd).display;\n",
       "        if (!display || display === 'none') {{\n",
       "            console.log([gd, 'removed!']);\n",
       "            Plotly.purge(gd);\n",
       "            observer.disconnect();\n",
       "        }}\n",
       "}});\n",
       "\n",
       "// Listen for the removal of the full notebook cells\n",
       "var notebookContainer = gd.closest('#notebook-container');\n",
       "if (notebookContainer) {{\n",
       "    x.observe(notebookContainer, {childList: true});\n",
       "}}\n",
       "\n",
       "// Listen for the clearing of the current output cell\n",
       "var outputEl = gd.closest('.output');\n",
       "if (outputEl) {{\n",
       "    x.observe(outputEl, {childList: true});\n",
       "}}\n",
       "\n",
       "                        })                };                });            </script>        </div>"
      ]
     },
     "metadata": {},
     "output_type": "display_data"
    }
   ],
   "source": [
    "# 산점도 & 선 그래프\n",
    "df_g = df.groupby([\"year\", \"month\"])[\"Revenue\"].sum().reset_index()   # 연도별,월별 매출액\n",
    "df_g_20 = df_g[df_g[\"year\"] == 2020]\n",
    "\n",
    "A = go.Scatter(x = df_g_20[\"month\"], y = df_g_20[\"Revenue\"], mode = \"lines+markers\", marker = {\"size\" : 10})\n",
    "                                                        #선만그리고 싶으면 lines, 산점도만 그리고 싶으면 markers\n",
    "data = [A]\n",
    "layout = go.Layout(title = \"Scatter & Line Plot\")\n",
    "\n",
    "fig = go.Figure(data, layout)\n",
    "fig.show()"
   ]
  },
  {
   "cell_type": "code",
   "execution_count": 54,
   "id": "756b6ba9-f088-4979-8fc0-2e8280410fc4",
   "metadata": {},
   "outputs": [
    {
     "data": {
      "application/vnd.plotly.v1+json": {
       "config": {
        "plotlyServerURL": "https://plot.ly"
       },
       "data": [
        {
         "marker": {
          "size": 10
         },
         "name": "2017",
         "type": "scatter",
         "x": [
          1,
          2,
          3,
          4,
          5,
          6,
          7,
          8,
          9,
          10,
          11,
          12
         ],
         "y": [
          14710353.64,
          14334223.3,
          15247314.8,
          13827194.1,
          15047864.9,
          14695711.3,
          14746419.1,
          12994363.68,
          14085637,
          13629209.7,
          14395820.6,
          13249997.7
         ]
        },
        {
         "marker": {
          "size": 10
         },
         "name": "2018",
         "type": "scatter",
         "x": [
          1,
          2,
          3,
          4,
          5,
          6,
          7,
          8,
          9,
          10,
          11,
          12
         ],
         "y": [
          15946844.3,
          14139983.99,
          14627847.35,
          11872132.87,
          10198040.3,
          10304328.3,
          9673126.8,
          9508977.4,
          13675326.71,
          15807948.2,
          19234400.98,
          26099567.86
         ]
        },
        {
         "marker": {
          "size": 10
         },
         "name": "2019",
         "type": "scatter",
         "x": [
          1,
          2,
          3,
          4,
          5,
          6,
          7,
          8,
          9,
          10,
          11,
          12
         ],
         "y": [
          27337630.5,
          16238213.7,
          18634656.43,
          19408618.51,
          17715785.4,
          18434772.22,
          19989941.9,
          16724458.2,
          15547999.93,
          16282997.8,
          14226250.42,
          13667742.08
         ]
        },
        {
         "marker": {
          "size": 10
         },
         "name": "2020",
         "type": "scatter",
         "x": [
          1,
          2,
          3,
          4,
          5,
          6,
          7,
          8,
          9,
          10,
          11,
          12
         ],
         "y": [
          20446510.5,
          25512832.1,
          32081823.1,
          34434264.2,
          28702236.3,
          25812728.7,
          21502762.55,
          18648831.2,
          21644550.73,
          25355761.61,
          23228029.1,
          24136188.03
         ]
        }
       ],
       "layout": {
        "autosize": true,
        "template": {
         "data": {
          "bar": [
           {
            "error_x": {
             "color": "#2a3f5f"
            },
            "error_y": {
             "color": "#2a3f5f"
            },
            "marker": {
             "line": {
              "color": "#E5ECF6",
              "width": 0.5
             },
             "pattern": {
              "fillmode": "overlay",
              "size": 10,
              "solidity": 0.2
             }
            },
            "type": "bar"
           }
          ],
          "barpolar": [
           {
            "marker": {
             "line": {
              "color": "#E5ECF6",
              "width": 0.5
             },
             "pattern": {
              "fillmode": "overlay",
              "size": 10,
              "solidity": 0.2
             }
            },
            "type": "barpolar"
           }
          ],
          "carpet": [
           {
            "aaxis": {
             "endlinecolor": "#2a3f5f",
             "gridcolor": "white",
             "linecolor": "white",
             "minorgridcolor": "white",
             "startlinecolor": "#2a3f5f"
            },
            "baxis": {
             "endlinecolor": "#2a3f5f",
             "gridcolor": "white",
             "linecolor": "white",
             "minorgridcolor": "white",
             "startlinecolor": "#2a3f5f"
            },
            "type": "carpet"
           }
          ],
          "choropleth": [
           {
            "colorbar": {
             "outlinewidth": 0,
             "ticks": ""
            },
            "type": "choropleth"
           }
          ],
          "contour": [
           {
            "colorbar": {
             "outlinewidth": 0,
             "ticks": ""
            },
            "colorscale": [
             [
              0,
              "#0d0887"
             ],
             [
              0.1111111111111111,
              "#46039f"
             ],
             [
              0.2222222222222222,
              "#7201a8"
             ],
             [
              0.3333333333333333,
              "#9c179e"
             ],
             [
              0.4444444444444444,
              "#bd3786"
             ],
             [
              0.5555555555555556,
              "#d8576b"
             ],
             [
              0.6666666666666666,
              "#ed7953"
             ],
             [
              0.7777777777777778,
              "#fb9f3a"
             ],
             [
              0.8888888888888888,
              "#fdca26"
             ],
             [
              1,
              "#f0f921"
             ]
            ],
            "type": "contour"
           }
          ],
          "contourcarpet": [
           {
            "colorbar": {
             "outlinewidth": 0,
             "ticks": ""
            },
            "type": "contourcarpet"
           }
          ],
          "heatmap": [
           {
            "colorbar": {
             "outlinewidth": 0,
             "ticks": ""
            },
            "colorscale": [
             [
              0,
              "#0d0887"
             ],
             [
              0.1111111111111111,
              "#46039f"
             ],
             [
              0.2222222222222222,
              "#7201a8"
             ],
             [
              0.3333333333333333,
              "#9c179e"
             ],
             [
              0.4444444444444444,
              "#bd3786"
             ],
             [
              0.5555555555555556,
              "#d8576b"
             ],
             [
              0.6666666666666666,
              "#ed7953"
             ],
             [
              0.7777777777777778,
              "#fb9f3a"
             ],
             [
              0.8888888888888888,
              "#fdca26"
             ],
             [
              1,
              "#f0f921"
             ]
            ],
            "type": "heatmap"
           }
          ],
          "heatmapgl": [
           {
            "colorbar": {
             "outlinewidth": 0,
             "ticks": ""
            },
            "colorscale": [
             [
              0,
              "#0d0887"
             ],
             [
              0.1111111111111111,
              "#46039f"
             ],
             [
              0.2222222222222222,
              "#7201a8"
             ],
             [
              0.3333333333333333,
              "#9c179e"
             ],
             [
              0.4444444444444444,
              "#bd3786"
             ],
             [
              0.5555555555555556,
              "#d8576b"
             ],
             [
              0.6666666666666666,
              "#ed7953"
             ],
             [
              0.7777777777777778,
              "#fb9f3a"
             ],
             [
              0.8888888888888888,
              "#fdca26"
             ],
             [
              1,
              "#f0f921"
             ]
            ],
            "type": "heatmapgl"
           }
          ],
          "histogram": [
           {
            "marker": {
             "pattern": {
              "fillmode": "overlay",
              "size": 10,
              "solidity": 0.2
             }
            },
            "type": "histogram"
           }
          ],
          "histogram2d": [
           {
            "colorbar": {
             "outlinewidth": 0,
             "ticks": ""
            },
            "colorscale": [
             [
              0,
              "#0d0887"
             ],
             [
              0.1111111111111111,
              "#46039f"
             ],
             [
              0.2222222222222222,
              "#7201a8"
             ],
             [
              0.3333333333333333,
              "#9c179e"
             ],
             [
              0.4444444444444444,
              "#bd3786"
             ],
             [
              0.5555555555555556,
              "#d8576b"
             ],
             [
              0.6666666666666666,
              "#ed7953"
             ],
             [
              0.7777777777777778,
              "#fb9f3a"
             ],
             [
              0.8888888888888888,
              "#fdca26"
             ],
             [
              1,
              "#f0f921"
             ]
            ],
            "type": "histogram2d"
           }
          ],
          "histogram2dcontour": [
           {
            "colorbar": {
             "outlinewidth": 0,
             "ticks": ""
            },
            "colorscale": [
             [
              0,
              "#0d0887"
             ],
             [
              0.1111111111111111,
              "#46039f"
             ],
             [
              0.2222222222222222,
              "#7201a8"
             ],
             [
              0.3333333333333333,
              "#9c179e"
             ],
             [
              0.4444444444444444,
              "#bd3786"
             ],
             [
              0.5555555555555556,
              "#d8576b"
             ],
             [
              0.6666666666666666,
              "#ed7953"
             ],
             [
              0.7777777777777778,
              "#fb9f3a"
             ],
             [
              0.8888888888888888,
              "#fdca26"
             ],
             [
              1,
              "#f0f921"
             ]
            ],
            "type": "histogram2dcontour"
           }
          ],
          "mesh3d": [
           {
            "colorbar": {
             "outlinewidth": 0,
             "ticks": ""
            },
            "type": "mesh3d"
           }
          ],
          "parcoords": [
           {
            "line": {
             "colorbar": {
              "outlinewidth": 0,
              "ticks": ""
             }
            },
            "type": "parcoords"
           }
          ],
          "pie": [
           {
            "automargin": true,
            "type": "pie"
           }
          ],
          "scatter": [
           {
            "fillpattern": {
             "fillmode": "overlay",
             "size": 10,
             "solidity": 0.2
            },
            "type": "scatter"
           }
          ],
          "scatter3d": [
           {
            "line": {
             "colorbar": {
              "outlinewidth": 0,
              "ticks": ""
             }
            },
            "marker": {
             "colorbar": {
              "outlinewidth": 0,
              "ticks": ""
             }
            },
            "type": "scatter3d"
           }
          ],
          "scattercarpet": [
           {
            "marker": {
             "colorbar": {
              "outlinewidth": 0,
              "ticks": ""
             }
            },
            "type": "scattercarpet"
           }
          ],
          "scattergeo": [
           {
            "marker": {
             "colorbar": {
              "outlinewidth": 0,
              "ticks": ""
             }
            },
            "type": "scattergeo"
           }
          ],
          "scattergl": [
           {
            "marker": {
             "colorbar": {
              "outlinewidth": 0,
              "ticks": ""
             }
            },
            "type": "scattergl"
           }
          ],
          "scattermapbox": [
           {
            "marker": {
             "colorbar": {
              "outlinewidth": 0,
              "ticks": ""
             }
            },
            "type": "scattermapbox"
           }
          ],
          "scatterpolar": [
           {
            "marker": {
             "colorbar": {
              "outlinewidth": 0,
              "ticks": ""
             }
            },
            "type": "scatterpolar"
           }
          ],
          "scatterpolargl": [
           {
            "marker": {
             "colorbar": {
              "outlinewidth": 0,
              "ticks": ""
             }
            },
            "type": "scatterpolargl"
           }
          ],
          "scatterternary": [
           {
            "marker": {
             "colorbar": {
              "outlinewidth": 0,
              "ticks": ""
             }
            },
            "type": "scatterternary"
           }
          ],
          "surface": [
           {
            "colorbar": {
             "outlinewidth": 0,
             "ticks": ""
            },
            "colorscale": [
             [
              0,
              "#0d0887"
             ],
             [
              0.1111111111111111,
              "#46039f"
             ],
             [
              0.2222222222222222,
              "#7201a8"
             ],
             [
              0.3333333333333333,
              "#9c179e"
             ],
             [
              0.4444444444444444,
              "#bd3786"
             ],
             [
              0.5555555555555556,
              "#d8576b"
             ],
             [
              0.6666666666666666,
              "#ed7953"
             ],
             [
              0.7777777777777778,
              "#fb9f3a"
             ],
             [
              0.8888888888888888,
              "#fdca26"
             ],
             [
              1,
              "#f0f921"
             ]
            ],
            "type": "surface"
           }
          ],
          "table": [
           {
            "cells": {
             "fill": {
              "color": "#EBF0F8"
             },
             "line": {
              "color": "white"
             }
            },
            "header": {
             "fill": {
              "color": "#C8D4E3"
             },
             "line": {
              "color": "white"
             }
            },
            "type": "table"
           }
          ]
         },
         "layout": {
          "annotationdefaults": {
           "arrowcolor": "#2a3f5f",
           "arrowhead": 0,
           "arrowwidth": 1
          },
          "autotypenumbers": "strict",
          "coloraxis": {
           "colorbar": {
            "outlinewidth": 0,
            "ticks": ""
           }
          },
          "colorscale": {
           "diverging": [
            [
             0,
             "#8e0152"
            ],
            [
             0.1,
             "#c51b7d"
            ],
            [
             0.2,
             "#de77ae"
            ],
            [
             0.3,
             "#f1b6da"
            ],
            [
             0.4,
             "#fde0ef"
            ],
            [
             0.5,
             "#f7f7f7"
            ],
            [
             0.6,
             "#e6f5d0"
            ],
            [
             0.7,
             "#b8e186"
            ],
            [
             0.8,
             "#7fbc41"
            ],
            [
             0.9,
             "#4d9221"
            ],
            [
             1,
             "#276419"
            ]
           ],
           "sequential": [
            [
             0,
             "#0d0887"
            ],
            [
             0.1111111111111111,
             "#46039f"
            ],
            [
             0.2222222222222222,
             "#7201a8"
            ],
            [
             0.3333333333333333,
             "#9c179e"
            ],
            [
             0.4444444444444444,
             "#bd3786"
            ],
            [
             0.5555555555555556,
             "#d8576b"
            ],
            [
             0.6666666666666666,
             "#ed7953"
            ],
            [
             0.7777777777777778,
             "#fb9f3a"
            ],
            [
             0.8888888888888888,
             "#fdca26"
            ],
            [
             1,
             "#f0f921"
            ]
           ],
           "sequentialminus": [
            [
             0,
             "#0d0887"
            ],
            [
             0.1111111111111111,
             "#46039f"
            ],
            [
             0.2222222222222222,
             "#7201a8"
            ],
            [
             0.3333333333333333,
             "#9c179e"
            ],
            [
             0.4444444444444444,
             "#bd3786"
            ],
            [
             0.5555555555555556,
             "#d8576b"
            ],
            [
             0.6666666666666666,
             "#ed7953"
            ],
            [
             0.7777777777777778,
             "#fb9f3a"
            ],
            [
             0.8888888888888888,
             "#fdca26"
            ],
            [
             1,
             "#f0f921"
            ]
           ]
          },
          "colorway": [
           "#636efa",
           "#EF553B",
           "#00cc96",
           "#ab63fa",
           "#FFA15A",
           "#19d3f3",
           "#FF6692",
           "#B6E880",
           "#FF97FF",
           "#FECB52"
          ],
          "font": {
           "color": "#2a3f5f"
          },
          "geo": {
           "bgcolor": "white",
           "lakecolor": "white",
           "landcolor": "#E5ECF6",
           "showlakes": true,
           "showland": true,
           "subunitcolor": "white"
          },
          "hoverlabel": {
           "align": "left"
          },
          "hovermode": "closest",
          "mapbox": {
           "style": "light"
          },
          "paper_bgcolor": "white",
          "plot_bgcolor": "#E5ECF6",
          "polar": {
           "angularaxis": {
            "gridcolor": "white",
            "linecolor": "white",
            "ticks": ""
           },
           "bgcolor": "#E5ECF6",
           "radialaxis": {
            "gridcolor": "white",
            "linecolor": "white",
            "ticks": ""
           }
          },
          "scene": {
           "xaxis": {
            "backgroundcolor": "#E5ECF6",
            "gridcolor": "white",
            "gridwidth": 2,
            "linecolor": "white",
            "showbackground": true,
            "ticks": "",
            "zerolinecolor": "white"
           },
           "yaxis": {
            "backgroundcolor": "#E5ECF6",
            "gridcolor": "white",
            "gridwidth": 2,
            "linecolor": "white",
            "showbackground": true,
            "ticks": "",
            "zerolinecolor": "white"
           },
           "zaxis": {
            "backgroundcolor": "#E5ECF6",
            "gridcolor": "white",
            "gridwidth": 2,
            "linecolor": "white",
            "showbackground": true,
            "ticks": "",
            "zerolinecolor": "white"
           }
          },
          "shapedefaults": {
           "line": {
            "color": "#2a3f5f"
           }
          },
          "ternary": {
           "aaxis": {
            "gridcolor": "white",
            "linecolor": "white",
            "ticks": ""
           },
           "baxis": {
            "gridcolor": "white",
            "linecolor": "white",
            "ticks": ""
           },
           "bgcolor": "#E5ECF6",
           "caxis": {
            "gridcolor": "white",
            "linecolor": "white",
            "ticks": ""
           }
          },
          "title": {
           "x": 0.05
          },
          "xaxis": {
           "automargin": true,
           "gridcolor": "white",
           "linecolor": "white",
           "ticks": "",
           "title": {
            "standoff": 15
           },
           "zerolinecolor": "white",
           "zerolinewidth": 2
          },
          "yaxis": {
           "automargin": true,
           "gridcolor": "white",
           "linecolor": "white",
           "ticks": "",
           "title": {
            "standoff": 15
           },
           "zerolinecolor": "white",
           "zerolinewidth": 2
          }
         }
        },
        "title": {
         "text": "Scatter Plot"
        },
        "xaxis": {
         "autorange": true,
         "range": [
          0.28713201012388434,
          12.712867989876116
         ],
         "type": "linear"
        },
        "yaxis": {
         "autorange": true,
         "range": [
          6966431.422073578,
          36976810.17792642
         ],
         "type": "linear"
        }
       }
      },
      "image/png": "[encoded data removed]",
      "text/html": [
       "<div>                            <div id=\"71c92d11-e17f-43df-908a-4b1a203c8b7d\" class=\"plotly-graph-div\" style=\"height:525px; width:100%;\"></div>            <script type=\"text/javascript\">                require([\"plotly\"], function(Plotly) {                    window.PLOTLYENV=window.PLOTLYENV || {};                                    if (document.getElementById(\"71c92d11-e17f-43df-908a-4b1a203c8b7d\")) {                    Plotly.newPlot(                        \"71c92d11-e17f-43df-908a-4b1a203c8b7d\",                        [{\"marker\":{\"size\":10},\"name\":\"2017\",\"x\":[1,2,3,4,5,6,7,8,9,10,11,12],\"y\":[14710353.64,14334223.3,15247314.8,13827194.1,15047864.9,14695711.3,14746419.1,12994363.68,14085637.0,13629209.7,14395820.6,13249997.7],\"type\":\"scatter\"},{\"marker\":{\"size\":10},\"name\":\"2018\",\"x\":[1,2,3,4,5,6,7,8,9,10,11,12],\"y\":[15946844.3,14139983.99,14627847.35,11872132.87,10198040.3,10304328.3,9673126.8,9508977.4,13675326.71,15807948.2,19234400.98,26099567.86],\"type\":\"scatter\"},{\"marker\":{\"size\":10},\"name\":\"2019\",\"x\":[1,2,3,4,5,6,7,8,9,10,11,12],\"y\":[27337630.5,16238213.7,18634656.43,19408618.51,17715785.4,18434772.22,19989941.9,16724458.2,15547999.93,16282997.8,14226250.42,13667742.08],\"type\":\"scatter\"},{\"marker\":{\"size\":10},\"name\":\"2020\",\"x\":[1,2,3,4,5,6,7,8,9,10,11,12],\"y\":[20446510.5,25512832.1,32081823.1,34434264.2,28702236.3,25812728.7,21502762.55,18648831.2,21644550.73,25355761.61,23228029.1,24136188.03],\"type\":\"scatter\"}],                        {\"title\":{\"text\":\"Scatter Plot\"},\"template\":{\"data\":{\"histogram2dcontour\":[{\"type\":\"histogram2dcontour\",\"colorbar\":{\"outlinewidth\":0,\"ticks\":\"\"},\"colorscale\":[[0.0,\"#0d0887\"],[0.1111111111111111,\"#46039f\"],[0.2222222222222222,\"#7201a8\"],[0.3333333333333333,\"#9c179e\"],[0.4444444444444444,\"#bd3786\"],[0.5555555555555556,\"#d8576b\"],[0.6666666666666666,\"#ed7953\"],[0.7777777777777778,\"#fb9f3a\"],[0.8888888888888888,\"#fdca26\"],[1.0,\"#f0f921\"]]}],\"choropleth\":[{\"type\":\"choropleth\",\"colorbar\":{\"outlinewidth\":0,\"ticks\":\"\"}}],\"histogram2d\":[{\"type\":\"histogram2d\",\"colorbar\":{\"outlinewidth\":0,\"ticks\":\"\"},\"colorscale\":[[0.0,\"#0d0887\"],[0.1111111111111111,\"#46039f\"],[0.2222222222222222,\"#7201a8\"],[0.3333333333333333,\"#9c179e\"],[0.4444444444444444,\"#bd3786\"],[0.5555555555555556,\"#d8576b\"],[0.6666666666666666,\"#ed7953\"],[0.7777777777777778,\"#fb9f3a\"],[0.8888888888888888,\"#fdca26\"],[1.0,\"#f0f921\"]]}],\"heatmap\":[{\"type\":\"heatmap\",\"colorbar\":{\"outlinewidth\":0,\"ticks\":\"\"},\"colorscale\":[[0.0,\"#0d0887\"],[0.1111111111111111,\"#46039f\"],[0.2222222222222222,\"#7201a8\"],[0.3333333333333333,\"#9c179e\"],[0.4444444444444444,\"#bd3786\"],[0.5555555555555556,\"#d8576b\"],[0.6666666666666666,\"#ed7953\"],[0.7777777777777778,\"#fb9f3a\"],[0.8888888888888888,\"#fdca26\"],[1.0,\"#f0f921\"]]}],\"heatmapgl\":[{\"type\":\"heatmapgl\",\"colorbar\":{\"outlinewidth\":0,\"ticks\":\"\"},\"colorscale\":[[0.0,\"#0d0887\"],[0.1111111111111111,\"#46039f\"],[0.2222222222222222,\"#7201a8\"],[0.3333333333333333,\"#9c179e\"],[0.4444444444444444,\"#bd3786\"],[0.5555555555555556,\"#d8576b\"],[0.6666666666666666,\"#ed7953\"],[0.7777777777777778,\"#fb9f3a\"],[0.8888888888888888,\"#fdca26\"],[1.0,\"#f0f921\"]]}],\"contourcarpet\":[{\"type\":\"contourcarpet\",\"colorbar\":{\"outlinewidth\":0,\"ticks\":\"\"}}],\"contour\":[{\"type\":\"contour\",\"colorbar\":{\"outlinewidth\":0,\"ticks\":\"\"},\"colorscale\":[[0.0,\"#0d0887\"],[0.1111111111111111,\"#46039f\"],[0.2222222222222222,\"#7201a8\"],[0.3333333333333333,\"#9c179e\"],[0.4444444444444444,\"#bd3786\"],[0.5555555555555556,\"#d8576b\"],[0.6666666666666666,\"#ed7953\"],[0.7777777777777778,\"#fb9f3a\"],[0.8888888888888888,\"#fdca26\"],[1.0,\"#f0f921\"]]}],\"surface\":[{\"type\":\"surface\",\"colorbar\":{\"outlinewidth\":0,\"ticks\":\"\"},\"colorscale\":[[0.0,\"#0d0887\"],[0.1111111111111111,\"#46039f\"],[0.2222222222222222,\"#7201a8\"],[0.3333333333333333,\"#9c179e\"],[0.4444444444444444,\"#bd3786\"],[0.5555555555555556,\"#d8576b\"],[0.6666666666666666,\"#ed7953\"],[0.7777777777777778,\"#fb9f3a\"],[0.8888888888888888,\"#fdca26\"],[1.0,\"#f0f921\"]]}],\"mesh3d\":[{\"type\":\"mesh3d\",\"colorbar\":{\"outlinewidth\":0,\"ticks\":\"\"}}],\"scatter\":[{\"fillpattern\":{\"fillmode\":\"overlay\",\"size\":10,\"solidity\":0.2},\"type\":\"scatter\"}],\"parcoords\":[{\"type\":\"parcoords\",\"line\":{\"colorbar\":{\"outlinewidth\":0,\"ticks\":\"\"}}}],\"scatterpolargl\":[{\"type\":\"scatterpolargl\",\"marker\":{\"colorbar\":{\"outlinewidth\":0,\"ticks\":\"\"}}}],\"bar\":[{\"error_x\":{\"color\":\"#2a3f5f\"},\"error_y\":{\"color\":\"#2a3f5f\"},\"marker\":{\"line\":{\"color\":\"#E5ECF6\",\"width\":0.5},\"pattern\":{\"fillmode\":\"overlay\",\"size\":10,\"solidity\":0.2}},\"type\":\"bar\"}],\"scattergeo\":[{\"type\":\"scattergeo\",\"marker\":{\"colorbar\":{\"outlinewidth\":0,\"ticks\":\"\"}}}],\"scatterpolar\":[{\"type\":\"scatterpolar\",\"marker\":{\"colorbar\":{\"outlinewidth\":0,\"ticks\":\"\"}}}],\"histogram\":[{\"marker\":{\"pattern\":{\"fillmode\":\"overlay\",\"size\":10,\"solidity\":0.2}},\"type\":\"histogram\"}],\"scattergl\":[{\"type\":\"scattergl\",\"marker\":{\"colorbar\":{\"outlinewidth\":0,\"ticks\":\"\"}}}],\"scatter3d\":[{\"type\":\"scatter3d\",\"line\":{\"colorbar\":{\"outlinewidth\":0,\"ticks\":\"\"}},\"marker\":{\"colorbar\":{\"outlinewidth\":0,\"ticks\":\"\"}}}],\"scattermapbox\":[{\"type\":\"scattermapbox\",\"marker\":{\"colorbar\":{\"outlinewidth\":0,\"ticks\":\"\"}}}],\"scatterternary\":[{\"type\":\"scatterternary\",\"marker\":{\"colorbar\":{\"outlinewidth\":0,\"ticks\":\"\"}}}],\"scattercarpet\":[{\"type\":\"scattercarpet\",\"marker\":{\"colorbar\":{\"outlinewidth\":0,\"ticks\":\"\"}}}],\"carpet\":[{\"aaxis\":{\"endlinecolor\":\"#2a3f5f\",\"gridcolor\":\"white\",\"linecolor\":\"white\",\"minorgridcolor\":\"white\",\"startlinecolor\":\"#2a3f5f\"},\"baxis\":{\"endlinecolor\":\"#2a3f5f\",\"gridcolor\":\"white\",\"linecolor\":\"white\",\"minorgridcolor\":\"white\",\"startlinecolor\":\"#2a3f5f\"},\"type\":\"carpet\"}],\"table\":[{\"cells\":{\"fill\":{\"color\":\"#EBF0F8\"},\"line\":{\"color\":\"white\"}},\"header\":{\"fill\":{\"color\":\"#C8D4E3\"},\"line\":{\"color\":\"white\"}},\"type\":\"table\"}],\"barpolar\":[{\"marker\":{\"line\":{\"color\":\"#E5ECF6\",\"width\":0.5},\"pattern\":{\"fillmode\":\"overlay\",\"size\":10,\"solidity\":0.2}},\"type\":\"barpolar\"}],\"pie\":[{\"automargin\":true,\"type\":\"pie\"}]},\"layout\":{\"autotypenumbers\":\"strict\",\"colorway\":[\"#636efa\",\"#EF553B\",\"#00cc96\",\"#ab63fa\",\"#FFA15A\",\"#19d3f3\",\"#FF6692\",\"#B6E880\",\"#FF97FF\",\"#FECB52\"],\"font\":{\"color\":\"#2a3f5f\"},\"hovermode\":\"closest\",\"hoverlabel\":{\"align\":\"left\"},\"paper_bgcolor\":\"white\",\"plot_bgcolor\":\"#E5ECF6\",\"polar\":{\"bgcolor\":\"#E5ECF6\",\"angularaxis\":{\"gridcolor\":\"white\",\"linecolor\":\"white\",\"ticks\":\"\"},\"radialaxis\":{\"gridcolor\":\"white\",\"linecolor\":\"white\",\"ticks\":\"\"}},\"ternary\":{\"bgcolor\":\"#E5ECF6\",\"aaxis\":{\"gridcolor\":\"white\",\"linecolor\":\"white\",\"ticks\":\"\"},\"baxis\":{\"gridcolor\":\"white\",\"linecolor\":\"white\",\"ticks\":\"\"},\"caxis\":{\"gridcolor\":\"white\",\"linecolor\":\"white\",\"ticks\":\"\"}},\"coloraxis\":{\"colorbar\":{\"outlinewidth\":0,\"ticks\":\"\"}},\"colorscale\":{\"sequential\":[[0.0,\"#0d0887\"],[0.1111111111111111,\"#46039f\"],[0.2222222222222222,\"#7201a8\"],[0.3333333333333333,\"#9c179e\"],[0.4444444444444444,\"#bd3786\"],[0.5555555555555556,\"#d8576b\"],[0.6666666666666666,\"#ed7953\"],[0.7777777777777778,\"#fb9f3a\"],[0.8888888888888888,\"#fdca26\"],[1.0,\"#f0f921\"]],\"sequentialminus\":[[0.0,\"#0d0887\"],[0.1111111111111111,\"#46039f\"],[0.2222222222222222,\"#7201a8\"],[0.3333333333333333,\"#9c179e\"],[0.4444444444444444,\"#bd3786\"],[0.5555555555555556,\"#d8576b\"],[0.6666666666666666,\"#ed7953\"],[0.7777777777777778,\"#fb9f3a\"],[0.8888888888888888,\"#fdca26\"],[1.0,\"#f0f921\"]],\"diverging\":[[0,\"#8e0152\"],[0.1,\"#c51b7d\"],[0.2,\"#de77ae\"],[0.3,\"#f1b6da\"],[0.4,\"#fde0ef\"],[0.5,\"#f7f7f7\"],[0.6,\"#e6f5d0\"],[0.7,\"#b8e186\"],[0.8,\"#7fbc41\"],[0.9,\"#4d9221\"],[1,\"#276419\"]]},\"xaxis\":{\"gridcolor\":\"white\",\"linecolor\":\"white\",\"ticks\":\"\",\"title\":{\"standoff\":15},\"zerolinecolor\":\"white\",\"automargin\":true,\"zerolinewidth\":2},\"yaxis\":{\"gridcolor\":\"white\",\"linecolor\":\"white\",\"ticks\":\"\",\"title\":{\"standoff\":15},\"zerolinecolor\":\"white\",\"automargin\":true,\"zerolinewidth\":2},\"scene\":{\"xaxis\":{\"backgroundcolor\":\"#E5ECF6\",\"gridcolor\":\"white\",\"linecolor\":\"white\",\"showbackground\":true,\"ticks\":\"\",\"zerolinecolor\":\"white\",\"gridwidth\":2},\"yaxis\":{\"backgroundcolor\":\"#E5ECF6\",\"gridcolor\":\"white\",\"linecolor\":\"white\",\"showbackground\":true,\"ticks\":\"\",\"zerolinecolor\":\"white\",\"gridwidth\":2},\"zaxis\":{\"backgroundcolor\":\"#E5ECF6\",\"gridcolor\":\"white\",\"linecolor\":\"white\",\"showbackground\":true,\"ticks\":\"\",\"zerolinecolor\":\"white\",\"gridwidth\":2}},\"shapedefaults\":{\"line\":{\"color\":\"#2a3f5f\"}},\"annotationdefaults\":{\"arrowcolor\":\"#2a3f5f\",\"arrowhead\":0,\"arrowwidth\":1},\"geo\":{\"bgcolor\":\"white\",\"landcolor\":\"#E5ECF6\",\"subunitcolor\":\"white\",\"showland\":true,\"showlakes\":true,\"lakecolor\":\"white\"},\"title\":{\"x\":0.05},\"mapbox\":{\"style\":\"light\"}}}},                        {\"responsive\": true}                    ).then(function(){\n",
       "                            \n",
       "var gd = document.getElementById('71c92d11-e17f-43df-908a-4b1a203c8b7d');\n",
       "var x = new MutationObserver(function (mutations, observer) {{\n",
       "        var display = window.getComputedStyle(gd).display;\n",
       "        if (!display || display === 'none') {{\n",
       "            console.log([gd, 'removed!']);\n",
       "            Plotly.purge(gd);\n",
       "            observer.disconnect();\n",
       "        }}\n",
       "}});\n",
       "\n",
       "// Listen for the removal of the full notebook cells\n",
       "var notebookContainer = gd.closest('#notebook-container');\n",
       "if (notebookContainer) {{\n",
       "    x.observe(notebookContainer, {childList: true});\n",
       "}}\n",
       "\n",
       "// Listen for the clearing of the current output cell\n",
       "var outputEl = gd.closest('.output');\n",
       "if (outputEl) {{\n",
       "    x.observe(outputEl, {childList: true});\n",
       "}}\n",
       "\n",
       "                        })                };                });            </script>        </div>"
      ]
     },
     "metadata": {},
     "output_type": "display_data"
    }
   ],
   "source": [
    "# 퀴즈: 연도 별로 산점도 & 선그래프 겹쳐서 그리기\n",
    "\n",
    "box = []\n",
    "for i in df_g['year'].unique():\n",
    "    A = df_g[df_g['year'] == i]\n",
    "    box.append(go.Scatter(x = A['month'], y = A['Revenue'], \n",
    "                          name = str(i), marker = dict(size = 10)))\n",
    "\n",
    "layout = go.Layout(title = 'Scatter Plot')\n",
    "fig = go.Figure(box, layout)\n",
    "fig.show()"
   ]
  },
  {
   "cell_type": "markdown",
   "id": "c927d0b8-641a-40e9-84d0-c7f3c639f11a",
   "metadata": {},
   "source": [
    "# 파이 차트"
   ]
  },
  {
   "cell_type": "code",
   "execution_count": 67,
   "id": "415295d9-a835-404d-bcaa-a797c1f36792",
   "metadata": {},
   "outputs": [
    {
     "data": {
      "application/vnd.plotly.v1+json": {
       "config": {
        "plotlyServerURL": "https://plot.ly"
       },
       "data": [
        {
         "hole": 0.4,
         "labels": [
          "20s",
          "30s",
          "40s",
          "50s",
          "60s"
         ],
         "pull": [
          0,
          0,
          0.2,
          0,
          0
         ],
         "textinfo": "label+percent",
         "type": "pie",
         "values": [
          74300516.43,
          91370774.95,
          59707855.34,
          49720921.4,
          26406450
         ]
        }
       ],
       "layout": {
        "height": 500,
        "template": {
         "data": {
          "bar": [
           {
            "error_x": {
             "color": "#2a3f5f"
            },
            "error_y": {
             "color": "#2a3f5f"
            },
            "marker": {
             "line": {
              "color": "#E5ECF6",
              "width": 0.5
             },
             "pattern": {
              "fillmode": "overlay",
              "size": 10,
              "solidity": 0.2
             }
            },
            "type": "bar"
           }
          ],
          "barpolar": [
           {
            "marker": {
             "line": {
              "color": "#E5ECF6",
              "width": 0.5
             },
             "pattern": {
              "fillmode": "overlay",
              "size": 10,
              "solidity": 0.2
             }
            },
            "type": "barpolar"
           }
          ],
          "carpet": [
           {
            "aaxis": {
             "endlinecolor": "#2a3f5f",
             "gridcolor": "white",
             "linecolor": "white",
             "minorgridcolor": "white",
             "startlinecolor": "#2a3f5f"
            },
            "baxis": {
             "endlinecolor": "#2a3f5f",
             "gridcolor": "white",
             "linecolor": "white",
             "minorgridcolor": "white",
             "startlinecolor": "#2a3f5f"
            },
            "type": "carpet"
           }
          ],
          "choropleth": [
           {
            "colorbar": {
             "outlinewidth": 0,
             "ticks": ""
            },
            "type": "choropleth"
           }
          ],
          "contour": [
           {
            "colorbar": {
             "outlinewidth": 0,
             "ticks": ""
            },
            "colorscale": [
             [
              0,
              "#0d0887"
             ],
             [
              0.1111111111111111,
              "#46039f"
             ],
             [
              0.2222222222222222,
              "#7201a8"
             ],
             [
              0.3333333333333333,
              "#9c179e"
             ],
             [
              0.4444444444444444,
              "#bd3786"
             ],
             [
              0.5555555555555556,
              "#d8576b"
             ],
             [
              0.6666666666666666,
              "#ed7953"
             ],
             [
              0.7777777777777778,
              "#fb9f3a"
             ],
             [
              0.8888888888888888,
              "#fdca26"
             ],
             [
              1,
              "#f0f921"
             ]
            ],
            "type": "contour"
           }
          ],
          "contourcarpet": [
           {
            "colorbar": {
             "outlinewidth": 0,
             "ticks": ""
            },
            "type": "contourcarpet"
           }
          ],
          "heatmap": [
           {
            "colorbar": {
             "outlinewidth": 0,
             "ticks": ""
            },
            "colorscale": [
             [
              0,
              "#0d0887"
             ],
             [
              0.1111111111111111,
              "#46039f"
             ],
             [
              0.2222222222222222,
              "#7201a8"
             ],
             [
              0.3333333333333333,
              "#9c179e"
             ],
             [
              0.4444444444444444,
              "#bd3786"
             ],
             [
              0.5555555555555556,
              "#d8576b"
             ],
             [
              0.6666666666666666,
              "#ed7953"
             ],
             [
              0.7777777777777778,
              "#fb9f3a"
             ],
             [
              0.8888888888888888,
              "#fdca26"
             ],
             [
              1,
              "#f0f921"
             ]
            ],
            "type": "heatmap"
           }
          ],
          "heatmapgl": [
           {
            "colorbar": {
             "outlinewidth": 0,
             "ticks": ""
            },
            "colorscale": [
             [
              0,
              "#0d0887"
             ],
             [
              0.1111111111111111,
              "#46039f"
             ],
             [
              0.2222222222222222,
              "#7201a8"
             ],
             [
              0.3333333333333333,
              "#9c179e"
             ],
             [
              0.4444444444444444,
              "#bd3786"
             ],
             [
              0.5555555555555556,
              "#d8576b"
             ],
             [
              0.6666666666666666,
              "#ed7953"
             ],
             [
              0.7777777777777778,
              "#fb9f3a"
             ],
             [
              0.8888888888888888,
              "#fdca26"
             ],
             [
              1,
              "#f0f921"
             ]
            ],
            "type": "heatmapgl"
           }
          ],
          "histogram": [
           {
            "marker": {
             "pattern": {
              "fillmode": "overlay",
              "size": 10,
              "solidity": 0.2
             }
            },
            "type": "histogram"
           }
          ],
          "histogram2d": [
           {
            "colorbar": {
             "outlinewidth": 0,
             "ticks": ""
            },
            "colorscale": [
             [
              0,
              "#0d0887"
             ],
             [
              0.1111111111111111,
              "#46039f"
             ],
             [
              0.2222222222222222,
              "#7201a8"
             ],
             [
              0.3333333333333333,
              "#9c179e"
             ],
             [
              0.4444444444444444,
              "#bd3786"
             ],
             [
              0.5555555555555556,
              "#d8576b"
             ],
             [
              0.6666666666666666,
              "#ed7953"
             ],
             [
              0.7777777777777778,
              "#fb9f3a"
             ],
             [
              0.8888888888888888,
              "#fdca26"
             ],
             [
              1,
              "#f0f921"
             ]
            ],
            "type": "histogram2d"
           }
          ],
          "histogram2dcontour": [
           {
            "colorbar": {
             "outlinewidth": 0,
             "ticks": ""
            },
            "colorscale": [
             [
              0,
              "#0d0887"
             ],
             [
              0.1111111111111111,
              "#46039f"
             ],
             [
              0.2222222222222222,
              "#7201a8"
             ],
             [
              0.3333333333333333,
              "#9c179e"
             ],
             [
              0.4444444444444444,
              "#bd3786"
             ],
             [
              0.5555555555555556,
              "#d8576b"
             ],
             [
              0.6666666666666666,
              "#ed7953"
             ],
             [
              0.7777777777777778,
              "#fb9f3a"
             ],
             [
              0.8888888888888888,
              "#fdca26"
             ],
             [
              1,
              "#f0f921"
             ]
            ],
            "type": "histogram2dcontour"
           }
          ],
          "mesh3d": [
           {
            "colorbar": {
             "outlinewidth": 0,
             "ticks": ""
            },
            "type": "mesh3d"
           }
          ],
          "parcoords": [
           {
            "line": {
             "colorbar": {
              "outlinewidth": 0,
              "ticks": ""
             }
            },
            "type": "parcoords"
           }
          ],
          "pie": [
           {
            "automargin": true,
            "type": "pie"
           }
          ],
          "scatter": [
           {
            "fillpattern": {
             "fillmode": "overlay",
             "size": 10,
             "solidity": 0.2
            },
            "type": "scatter"
           }
          ],
          "scatter3d": [
           {
            "line": {
             "colorbar": {
              "outlinewidth": 0,
              "ticks": ""
             }
            },
            "marker": {
             "colorbar": {
              "outlinewidth": 0,
              "ticks": ""
             }
            },
            "type": "scatter3d"
           }
          ],
          "scattercarpet": [
           {
            "marker": {
             "colorbar": {
              "outlinewidth": 0,
              "ticks": ""
             }
            },
            "type": "scattercarpet"
           }
          ],
          "scattergeo": [
           {
            "marker": {
             "colorbar": {
              "outlinewidth": 0,
              "ticks": ""
             }
            },
            "type": "scattergeo"
           }
          ],
          "scattergl": [
           {
            "marker": {
             "colorbar": {
              "outlinewidth": 0,
              "ticks": ""
             }
            },
            "type": "scattergl"
           }
          ],
          "scattermapbox": [
           {
            "marker": {
             "colorbar": {
              "outlinewidth": 0,
              "ticks": ""
             }
            },
            "type": "scattermapbox"
           }
          ],
          "scatterpolar": [
           {
            "marker": {
             "colorbar": {
              "outlinewidth": 0,
              "ticks": ""
             }
            },
            "type": "scatterpolar"
           }
          ],
          "scatterpolargl": [
           {
            "marker": {
             "colorbar": {
              "outlinewidth": 0,
              "ticks": ""
             }
            },
            "type": "scatterpolargl"
           }
          ],
          "scatterternary": [
           {
            "marker": {
             "colorbar": {
              "outlinewidth": 0,
              "ticks": ""
             }
            },
            "type": "scatterternary"
           }
          ],
          "surface": [
           {
            "colorbar": {
             "outlinewidth": 0,
             "ticks": ""
            },
            "colorscale": [
             [
              0,
              "#0d0887"
             ],
             [
              0.1111111111111111,
              "#46039f"
             ],
             [
              0.2222222222222222,
              "#7201a8"
             ],
             [
              0.3333333333333333,
              "#9c179e"
             ],
             [
              0.4444444444444444,
              "#bd3786"
             ],
             [
              0.5555555555555556,
              "#d8576b"
             ],
             [
              0.6666666666666666,
              "#ed7953"
             ],
             [
              0.7777777777777778,
              "#fb9f3a"
             ],
             [
              0.8888888888888888,
              "#fdca26"
             ],
             [
              1,
              "#f0f921"
             ]
            ],
            "type": "surface"
           }
          ],
          "table": [
           {
            "cells": {
             "fill": {
              "color": "#EBF0F8"
             },
             "line": {
              "color": "white"
             }
            },
            "header": {
             "fill": {
              "color": "#C8D4E3"
             },
             "line": {
              "color": "white"
             }
            },
            "type": "table"
           }
          ]
         },
         "layout": {
          "annotationdefaults": {
           "arrowcolor": "#2a3f5f",
           "arrowhead": 0,
           "arrowwidth": 1
          },
          "autotypenumbers": "strict",
          "coloraxis": {
           "colorbar": {
            "outlinewidth": 0,
            "ticks": ""
           }
          },
          "colorscale": {
           "diverging": [
            [
             0,
             "#8e0152"
            ],
            [
             0.1,
             "#c51b7d"
            ],
            [
             0.2,
             "#de77ae"
            ],
            [
             0.3,
             "#f1b6da"
            ],
            [
             0.4,
             "#fde0ef"
            ],
            [
             0.5,
             "#f7f7f7"
            ],
            [
             0.6,
             "#e6f5d0"
            ],
            [
             0.7,
             "#b8e186"
            ],
            [
             0.8,
             "#7fbc41"
            ],
            [
             0.9,
             "#4d9221"
            ],
            [
             1,
             "#276419"
            ]
           ],
           "sequential": [
            [
             0,
             "#0d0887"
            ],
            [
             0.1111111111111111,
             "#46039f"
            ],
            [
             0.2222222222222222,
             "#7201a8"
            ],
            [
             0.3333333333333333,
             "#9c179e"
            ],
            [
             0.4444444444444444,
             "#bd3786"
            ],
            [
             0.5555555555555556,
             "#d8576b"
            ],
            [
             0.6666666666666666,
             "#ed7953"
            ],
            [
             0.7777777777777778,
             "#fb9f3a"
            ],
            [
             0.8888888888888888,
             "#fdca26"
            ],
            [
             1,
             "#f0f921"
            ]
           ],
           "sequentialminus": [
            [
             0,
             "#0d0887"
            ],
            [
             0.1111111111111111,
             "#46039f"
            ],
            [
             0.2222222222222222,
             "#7201a8"
            ],
            [
             0.3333333333333333,
             "#9c179e"
            ],
            [
             0.4444444444444444,
             "#bd3786"
            ],
            [
             0.5555555555555556,
             "#d8576b"
            ],
            [
             0.6666666666666666,
             "#ed7953"
            ],
            [
             0.7777777777777778,
             "#fb9f3a"
            ],
            [
             0.8888888888888888,
             "#fdca26"
            ],
            [
             1,
             "#f0f921"
            ]
           ]
          },
          "colorway": [
           "#636efa",
           "#EF553B",
           "#00cc96",
           "#ab63fa",
           "#FFA15A",
           "#19d3f3",
           "#FF6692",
           "#B6E880",
           "#FF97FF",
           "#FECB52"
          ],
          "font": {
           "color": "#2a3f5f"
          },
          "geo": {
           "bgcolor": "white",
           "lakecolor": "white",
           "landcolor": "#E5ECF6",
           "showlakes": true,
           "showland": true,
           "subunitcolor": "white"
          },
          "hoverlabel": {
           "align": "left"
          },
          "hovermode": "closest",
          "mapbox": {
           "style": "light"
          },
          "paper_bgcolor": "white",
          "plot_bgcolor": "#E5ECF6",
          "polar": {
           "angularaxis": {
            "gridcolor": "white",
            "linecolor": "white",
            "ticks": ""
           },
           "bgcolor": "#E5ECF6",
           "radialaxis": {
            "gridcolor": "white",
            "linecolor": "white",
            "ticks": ""
           }
          },
          "scene": {
           "xaxis": {
            "backgroundcolor": "#E5ECF6",
            "gridcolor": "white",
            "gridwidth": 2,
            "linecolor": "white",
            "showbackground": true,
            "ticks": "",
            "zerolinecolor": "white"
           },
           "yaxis": {
            "backgroundcolor": "#E5ECF6",
            "gridcolor": "white",
            "gridwidth": 2,
            "linecolor": "white",
            "showbackground": true,
            "ticks": "",
            "zerolinecolor": "white"
           },
           "zaxis": {
            "backgroundcolor": "#E5ECF6",
            "gridcolor": "white",
            "gridwidth": 2,
            "linecolor": "white",
            "showbackground": true,
            "ticks": "",
            "zerolinecolor": "white"
           }
          },
          "shapedefaults": {
           "line": {
            "color": "#2a3f5f"
           }
          },
          "ternary": {
           "aaxis": {
            "gridcolor": "white",
            "linecolor": "white",
            "ticks": ""
           },
           "baxis": {
            "gridcolor": "white",
            "linecolor": "white",
            "ticks": ""
           },
           "bgcolor": "#E5ECF6",
           "caxis": {
            "gridcolor": "white",
            "linecolor": "white",
            "ticks": ""
           }
          },
          "title": {
           "x": 0.05
          },
          "xaxis": {
           "automargin": true,
           "gridcolor": "white",
           "linecolor": "white",
           "ticks": "",
           "title": {
            "standoff": 15
           },
           "zerolinecolor": "white",
           "zerolinewidth": 2
          },
          "yaxis": {
           "automargin": true,
           "gridcolor": "white",
           "linecolor": "white",
           "ticks": "",
           "title": {
            "standoff": 15
           },
           "zerolinecolor": "white",
           "zerolinewidth": 2
          }
         }
        },
        "title": {
         "text": "Pie Chart"
        },
        "width": 500
       }
      },
      "image/png": "[encoded data removed]",
      "text/html": [
       "<div>                            <div id=\"9c4c0edd-9b3a-4032-8bba-085af84ee8bb\" class=\"plotly-graph-div\" style=\"height:500px; width:500px;\"></div>            <script type=\"text/javascript\">                require([\"plotly\"], function(Plotly) {                    window.PLOTLYENV=window.PLOTLYENV || {};                                    if (document.getElementById(\"9c4c0edd-9b3a-4032-8bba-085af84ee8bb\")) {                    Plotly.newPlot(                        \"9c4c0edd-9b3a-4032-8bba-085af84ee8bb\",                        [{\"hole\":0.4,\"labels\":[\"20s\",\"30s\",\"40s\",\"50s\",\"60s\"],\"pull\":[0,0,0.2,0,0],\"textinfo\":\"label+percent\",\"values\":[74300516.43,91370774.95,59707855.34,49720921.4,26406450.0],\"type\":\"pie\"}],                        {\"height\":500,\"title\":{\"text\":\"Pie Chart\"},\"width\":500,\"template\":{\"data\":{\"histogram2dcontour\":[{\"type\":\"histogram2dcontour\",\"colorbar\":{\"outlinewidth\":0,\"ticks\":\"\"},\"colorscale\":[[0.0,\"#0d0887\"],[0.1111111111111111,\"#46039f\"],[0.2222222222222222,\"#7201a8\"],[0.3333333333333333,\"#9c179e\"],[0.4444444444444444,\"#bd3786\"],[0.5555555555555556,\"#d8576b\"],[0.6666666666666666,\"#ed7953\"],[0.7777777777777778,\"#fb9f3a\"],[0.8888888888888888,\"#fdca26\"],[1.0,\"#f0f921\"]]}],\"choropleth\":[{\"type\":\"choropleth\",\"colorbar\":{\"outlinewidth\":0,\"ticks\":\"\"}}],\"histogram2d\":[{\"type\":\"histogram2d\",\"colorbar\":{\"outlinewidth\":0,\"ticks\":\"\"},\"colorscale\":[[0.0,\"#0d0887\"],[0.1111111111111111,\"#46039f\"],[0.2222222222222222,\"#7201a8\"],[0.3333333333333333,\"#9c179e\"],[0.4444444444444444,\"#bd3786\"],[0.5555555555555556,\"#d8576b\"],[0.6666666666666666,\"#ed7953\"],[0.7777777777777778,\"#fb9f3a\"],[0.8888888888888888,\"#fdca26\"],[1.0,\"#f0f921\"]]}],\"heatmap\":[{\"type\":\"heatmap\",\"colorbar\":{\"outlinewidth\":0,\"ticks\":\"\"},\"colorscale\":[[0.0,\"#0d0887\"],[0.1111111111111111,\"#46039f\"],[0.2222222222222222,\"#7201a8\"],[0.3333333333333333,\"#9c179e\"],[0.4444444444444444,\"#bd3786\"],[0.5555555555555556,\"#d8576b\"],[0.6666666666666666,\"#ed7953\"],[0.7777777777777778,\"#fb9f3a\"],[0.8888888888888888,\"#fdca26\"],[1.0,\"#f0f921\"]]}],\"heatmapgl\":[{\"type\":\"heatmapgl\",\"colorbar\":{\"outlinewidth\":0,\"ticks\":\"\"},\"colorscale\":[[0.0,\"#0d0887\"],[0.1111111111111111,\"#46039f\"],[0.2222222222222222,\"#7201a8\"],[0.3333333333333333,\"#9c179e\"],[0.4444444444444444,\"#bd3786\"],[0.5555555555555556,\"#d8576b\"],[0.6666666666666666,\"#ed7953\"],[0.7777777777777778,\"#fb9f3a\"],[0.8888888888888888,\"#fdca26\"],[1.0,\"#f0f921\"]]}],\"contourcarpet\":[{\"type\":\"contourcarpet\",\"colorbar\":{\"outlinewidth\":0,\"ticks\":\"\"}}],\"contour\":[{\"type\":\"contour\",\"colorbar\":{\"outlinewidth\":0,\"ticks\":\"\"},\"colorscale\":[[0.0,\"#0d0887\"],[0.1111111111111111,\"#46039f\"],[0.2222222222222222,\"#7201a8\"],[0.3333333333333333,\"#9c179e\"],[0.4444444444444444,\"#bd3786\"],[0.5555555555555556,\"#d8576b\"],[0.6666666666666666,\"#ed7953\"],[0.7777777777777778,\"#fb9f3a\"],[0.8888888888888888,\"#fdca26\"],[1.0,\"#f0f921\"]]}],\"surface\":[{\"type\":\"surface\",\"colorbar\":{\"outlinewidth\":0,\"ticks\":\"\"},\"colorscale\":[[0.0,\"#0d0887\"],[0.1111111111111111,\"#46039f\"],[0.2222222222222222,\"#7201a8\"],[0.3333333333333333,\"#9c179e\"],[0.4444444444444444,\"#bd3786\"],[0.5555555555555556,\"#d8576b\"],[0.6666666666666666,\"#ed7953\"],[0.7777777777777778,\"#fb9f3a\"],[0.8888888888888888,\"#fdca26\"],[1.0,\"#f0f921\"]]}],\"mesh3d\":[{\"type\":\"mesh3d\",\"colorbar\":{\"outlinewidth\":0,\"ticks\":\"\"}}],\"scatter\":[{\"fillpattern\":{\"fillmode\":\"overlay\",\"size\":10,\"solidity\":0.2},\"type\":\"scatter\"}],\"parcoords\":[{\"type\":\"parcoords\",\"line\":{\"colorbar\":{\"outlinewidth\":0,\"ticks\":\"\"}}}],\"scatterpolargl\":[{\"type\":\"scatterpolargl\",\"marker\":{\"colorbar\":{\"outlinewidth\":0,\"ticks\":\"\"}}}],\"bar\":[{\"error_x\":{\"color\":\"#2a3f5f\"},\"error_y\":{\"color\":\"#2a3f5f\"},\"marker\":{\"line\":{\"color\":\"#E5ECF6\",\"width\":0.5},\"pattern\":{\"fillmode\":\"overlay\",\"size\":10,\"solidity\":0.2}},\"type\":\"bar\"}],\"scattergeo\":[{\"type\":\"scattergeo\",\"marker\":{\"colorbar\":{\"outlinewidth\":0,\"ticks\":\"\"}}}],\"scatterpolar\":[{\"type\":\"scatterpolar\",\"marker\":{\"colorbar\":{\"outlinewidth\":0,\"ticks\":\"\"}}}],\"histogram\":[{\"marker\":{\"pattern\":{\"fillmode\":\"overlay\",\"size\":10,\"solidity\":0.2}},\"type\":\"histogram\"}],\"scattergl\":[{\"type\":\"scattergl\",\"marker\":{\"colorbar\":{\"outlinewidth\":0,\"ticks\":\"\"}}}],\"scatter3d\":[{\"type\":\"scatter3d\",\"line\":{\"colorbar\":{\"outlinewidth\":0,\"ticks\":\"\"}},\"marker\":{\"colorbar\":{\"outlinewidth\":0,\"ticks\":\"\"}}}],\"scattermapbox\":[{\"type\":\"scattermapbox\",\"marker\":{\"colorbar\":{\"outlinewidth\":0,\"ticks\":\"\"}}}],\"scatterternary\":[{\"type\":\"scatterternary\",\"marker\":{\"colorbar\":{\"outlinewidth\":0,\"ticks\":\"\"}}}],\"scattercarpet\":[{\"type\":\"scattercarpet\",\"marker\":{\"colorbar\":{\"outlinewidth\":0,\"ticks\":\"\"}}}],\"carpet\":[{\"aaxis\":{\"endlinecolor\":\"#2a3f5f\",\"gridcolor\":\"white\",\"linecolor\":\"white\",\"minorgridcolor\":\"white\",\"startlinecolor\":\"#2a3f5f\"},\"baxis\":{\"endlinecolor\":\"#2a3f5f\",\"gridcolor\":\"white\",\"linecolor\":\"white\",\"minorgridcolor\":\"white\",\"startlinecolor\":\"#2a3f5f\"},\"type\":\"carpet\"}],\"table\":[{\"cells\":{\"fill\":{\"color\":\"#EBF0F8\"},\"line\":{\"color\":\"white\"}},\"header\":{\"fill\":{\"color\":\"#C8D4E3\"},\"line\":{\"color\":\"white\"}},\"type\":\"table\"}],\"barpolar\":[{\"marker\":{\"line\":{\"color\":\"#E5ECF6\",\"width\":0.5},\"pattern\":{\"fillmode\":\"overlay\",\"size\":10,\"solidity\":0.2}},\"type\":\"barpolar\"}],\"pie\":[{\"automargin\":true,\"type\":\"pie\"}]},\"layout\":{\"autotypenumbers\":\"strict\",\"colorway\":[\"#636efa\",\"#EF553B\",\"#00cc96\",\"#ab63fa\",\"#FFA15A\",\"#19d3f3\",\"#FF6692\",\"#B6E880\",\"#FF97FF\",\"#FECB52\"],\"font\":{\"color\":\"#2a3f5f\"},\"hovermode\":\"closest\",\"hoverlabel\":{\"align\":\"left\"},\"paper_bgcolor\":\"white\",\"plot_bgcolor\":\"#E5ECF6\",\"polar\":{\"bgcolor\":\"#E5ECF6\",\"angularaxis\":{\"gridcolor\":\"white\",\"linecolor\":\"white\",\"ticks\":\"\"},\"radialaxis\":{\"gridcolor\":\"white\",\"linecolor\":\"white\",\"ticks\":\"\"}},\"ternary\":{\"bgcolor\":\"#E5ECF6\",\"aaxis\":{\"gridcolor\":\"white\",\"linecolor\":\"white\",\"ticks\":\"\"},\"baxis\":{\"gridcolor\":\"white\",\"linecolor\":\"white\",\"ticks\":\"\"},\"caxis\":{\"gridcolor\":\"white\",\"linecolor\":\"white\",\"ticks\":\"\"}},\"coloraxis\":{\"colorbar\":{\"outlinewidth\":0,\"ticks\":\"\"}},\"colorscale\":{\"sequential\":[[0.0,\"#0d0887\"],[0.1111111111111111,\"#46039f\"],[0.2222222222222222,\"#7201a8\"],[0.3333333333333333,\"#9c179e\"],[0.4444444444444444,\"#bd3786\"],[0.5555555555555556,\"#d8576b\"],[0.6666666666666666,\"#ed7953\"],[0.7777777777777778,\"#fb9f3a\"],[0.8888888888888888,\"#fdca26\"],[1.0,\"#f0f921\"]],\"sequentialminus\":[[0.0,\"#0d0887\"],[0.1111111111111111,\"#46039f\"],[0.2222222222222222,\"#7201a8\"],[0.3333333333333333,\"#9c179e\"],[0.4444444444444444,\"#bd3786\"],[0.5555555555555556,\"#d8576b\"],[0.6666666666666666,\"#ed7953\"],[0.7777777777777778,\"#fb9f3a\"],[0.8888888888888888,\"#fdca26\"],[1.0,\"#f0f921\"]],\"diverging\":[[0,\"#8e0152\"],[0.1,\"#c51b7d\"],[0.2,\"#de77ae\"],[0.3,\"#f1b6da\"],[0.4,\"#fde0ef\"],[0.5,\"#f7f7f7\"],[0.6,\"#e6f5d0\"],[0.7,\"#b8e186\"],[0.8,\"#7fbc41\"],[0.9,\"#4d9221\"],[1,\"#276419\"]]},\"xaxis\":{\"gridcolor\":\"white\",\"linecolor\":\"white\",\"ticks\":\"\",\"title\":{\"standoff\":15},\"zerolinecolor\":\"white\",\"automargin\":true,\"zerolinewidth\":2},\"yaxis\":{\"gridcolor\":\"white\",\"linecolor\":\"white\",\"ticks\":\"\",\"title\":{\"standoff\":15},\"zerolinecolor\":\"white\",\"automargin\":true,\"zerolinewidth\":2},\"scene\":{\"xaxis\":{\"backgroundcolor\":\"#E5ECF6\",\"gridcolor\":\"white\",\"linecolor\":\"white\",\"showbackground\":true,\"ticks\":\"\",\"zerolinecolor\":\"white\",\"gridwidth\":2},\"yaxis\":{\"backgroundcolor\":\"#E5ECF6\",\"gridcolor\":\"white\",\"linecolor\":\"white\",\"showbackground\":true,\"ticks\":\"\",\"zerolinecolor\":\"white\",\"gridwidth\":2},\"zaxis\":{\"backgroundcolor\":\"#E5ECF6\",\"gridcolor\":\"white\",\"linecolor\":\"white\",\"showbackground\":true,\"ticks\":\"\",\"zerolinecolor\":\"white\",\"gridwidth\":2}},\"shapedefaults\":{\"line\":{\"color\":\"#2a3f5f\"}},\"annotationdefaults\":{\"arrowcolor\":\"#2a3f5f\",\"arrowhead\":0,\"arrowwidth\":1},\"geo\":{\"bgcolor\":\"white\",\"landcolor\":\"#E5ECF6\",\"subunitcolor\":\"white\",\"showland\":true,\"showlakes\":true,\"lakecolor\":\"white\"},\"title\":{\"x\":0.05},\"mapbox\":{\"style\":\"light\"}}}},                        {\"responsive\": true}                    ).then(function(){\n",
       "                            \n",
       "var gd = document.getElementById('9c4c0edd-9b3a-4032-8bba-085af84ee8bb');\n",
       "var x = new MutationObserver(function (mutations, observer) {{\n",
       "        var display = window.getComputedStyle(gd).display;\n",
       "        if (!display || display === 'none') {{\n",
       "            console.log([gd, 'removed!']);\n",
       "            Plotly.purge(gd);\n",
       "            observer.disconnect();\n",
       "        }}\n",
       "}});\n",
       "\n",
       "// Listen for the removal of the full notebook cells\n",
       "var notebookContainer = gd.closest('#notebook-container');\n",
       "if (notebookContainer) {{\n",
       "    x.observe(notebookContainer, {childList: true});\n",
       "}}\n",
       "\n",
       "// Listen for the clearing of the current output cell\n",
       "var outputEl = gd.closest('.output');\n",
       "if (outputEl) {{\n",
       "    x.observe(outputEl, {childList: true});\n",
       "}}\n",
       "\n",
       "                        })                };                });            </script>        </div>"
      ]
     },
     "metadata": {},
     "output_type": "display_data"
    }
   ],
   "source": [
    "# 파이 차트 그리기\n",
    "\n",
    "df_g1 = df20.groupby(\"AgeGroup\", as_index = False)[\"Revenue\"].sum()    # as_index = False :  reset_index하는 것과 같음\n",
    "\n",
    "A = go.Pie(labels = df_g1[\"AgeGroup\"],\n",
    "           values = df_g1[\"Revenue\"],\n",
    "           hole = 0.4,                # 도넛처럼 중앙에 구멍뚫리게 하는 법\n",
    "           textinfo = \"label + percent\",      # label만 표시할수도, percent만 표시할수도, 같이할수도 O.\n",
    "           pull = [0, 0, 0.2, 0, 0])      # 쪼개져서 벌어지게 하는 법\n",
    "\n",
    "data = [A]\n",
    "layout = go.Layout(title = 'Pie Chart', width = 500, height = 500)\n",
    "fig = go.Figure(data, layout)\n",
    "fig.show()"
   ]
  },
  {
   "cell_type": "code",
   "execution_count": 69,
   "id": "0fd7624a-05dd-4c52-9c1e-c12d65bc2436",
   "metadata": {},
   "outputs": [
    {
     "data": {
      "application/vnd.plotly.v1+json": {
       "config": {
        "plotlyServerURL": "https://plot.ly"
       },
       "data": [
        {
         "link": {
          "source": [
           0,
           0
          ],
          "target": [
           1,
           2
          ],
          "value": [
           100,
           200
          ]
         },
         "node": {
          "label": [
           "Africa",
           "Offline",
           "Online"
          ],
          "x": [
           0.013531799729364006,
           0.9918809201623816,
           0.986468200270636
          ],
          "y": [
           0.48148148148148157,
           0.8518518518518521,
           0.29629629629629656
          ]
         },
         "type": "sankey"
        }
       ],
       "layout": {
        "autosize": true,
        "font": {
         "size": 15
        },
        "template": {
         "data": {
          "bar": [
           {
            "error_x": {
             "color": "#2a3f5f"
            },
            "error_y": {
             "color": "#2a3f5f"
            },
            "marker": {
             "line": {
              "color": "#E5ECF6",
              "width": 0.5
             },
             "pattern": {
              "fillmode": "overlay",
              "size": 10,
              "solidity": 0.2
             }
            },
            "type": "bar"
           }
          ],
          "barpolar": [
           {
            "marker": {
             "line": {
              "color": "#E5ECF6",
              "width": 0.5
             },
             "pattern": {
              "fillmode": "overlay",
              "size": 10,
              "solidity": 0.2
             }
            },
            "type": "barpolar"
           }
          ],
          "carpet": [
           {
            "aaxis": {
             "endlinecolor": "#2a3f5f",
             "gridcolor": "white",
             "linecolor": "white",
             "minorgridcolor": "white",
             "startlinecolor": "#2a3f5f"
            },
            "baxis": {
             "endlinecolor": "#2a3f5f",
             "gridcolor": "white",
             "linecolor": "white",
             "minorgridcolor": "white",
             "startlinecolor": "#2a3f5f"
            },
            "type": "carpet"
           }
          ],
          "choropleth": [
           {
            "colorbar": {
             "outlinewidth": 0,
             "ticks": ""
            },
            "type": "choropleth"
           }
          ],
          "contour": [
           {
            "colorbar": {
             "outlinewidth": 0,
             "ticks": ""
            },
            "colorscale": [
             [
              0,
              "#0d0887"
             ],
             [
              0.1111111111111111,
              "#46039f"
             ],
             [
              0.2222222222222222,
              "#7201a8"
             ],
             [
              0.3333333333333333,
              "#9c179e"
             ],
             [
              0.4444444444444444,
              "#bd3786"
             ],
             [
              0.5555555555555556,
              "#d8576b"
             ],
             [
              0.6666666666666666,
              "#ed7953"
             ],
             [
              0.7777777777777778,
              "#fb9f3a"
             ],
             [
              0.8888888888888888,
              "#fdca26"
             ],
             [
              1,
              "#f0f921"
             ]
            ],
            "type": "contour"
           }
          ],
          "contourcarpet": [
           {
            "colorbar": {
             "outlinewidth": 0,
             "ticks": ""
            },
            "type": "contourcarpet"
           }
          ],
          "heatmap": [
           {
            "colorbar": {
             "outlinewidth": 0,
             "ticks": ""
            },
            "colorscale": [
             [
              0,
              "#0d0887"
             ],
             [
              0.1111111111111111,
              "#46039f"
             ],
             [
              0.2222222222222222,
              "#7201a8"
             ],
             [
              0.3333333333333333,
              "#9c179e"
             ],
             [
              0.4444444444444444,
              "#bd3786"
             ],
             [
              0.5555555555555556,
              "#d8576b"
             ],
             [
              0.6666666666666666,
              "#ed7953"
             ],
             [
              0.7777777777777778,
              "#fb9f3a"
             ],
             [
              0.8888888888888888,
              "#fdca26"
             ],
             [
              1,
              "#f0f921"
             ]
            ],
            "type": "heatmap"
           }
          ],
          "heatmapgl": [
           {
            "colorbar": {
             "outlinewidth": 0,
             "ticks": ""
            },
            "colorscale": [
             [
              0,
              "#0d0887"
             ],
             [
              0.1111111111111111,
              "#46039f"
             ],
             [
              0.2222222222222222,
              "#7201a8"
             ],
             [
              0.3333333333333333,
              "#9c179e"
             ],
             [
              0.4444444444444444,
              "#bd3786"
             ],
             [
              0.5555555555555556,
              "#d8576b"
             ],
             [
              0.6666666666666666,
              "#ed7953"
             ],
             [
              0.7777777777777778,
              "#fb9f3a"
             ],
             [
              0.8888888888888888,
              "#fdca26"
             ],
             [
              1,
              "#f0f921"
             ]
            ],
            "type": "heatmapgl"
           }
          ],
          "histogram": [
           {
            "marker": {
             "pattern": {
              "fillmode": "overlay",
              "size": 10,
              "solidity": 0.2
             }
            },
            "type": "histogram"
           }
          ],
          "histogram2d": [
           {
            "colorbar": {
             "outlinewidth": 0,
             "ticks": ""
            },
            "colorscale": [
             [
              0,
              "#0d0887"
             ],
             [
              0.1111111111111111,
              "#46039f"
             ],
             [
              0.2222222222222222,
              "#7201a8"
             ],
             [
              0.3333333333333333,
              "#9c179e"
             ],
             [
              0.4444444444444444,
              "#bd3786"
             ],
             [
              0.5555555555555556,
              "#d8576b"
             ],
             [
              0.6666666666666666,
              "#ed7953"
             ],
             [
              0.7777777777777778,
              "#fb9f3a"
             ],
             [
              0.8888888888888888,
              "#fdca26"
             ],
             [
              1,
              "#f0f921"
             ]
            ],
            "type": "histogram2d"
           }
          ],
          "histogram2dcontour": [
           {
            "colorbar": {
             "outlinewidth": 0,
             "ticks": ""
            },
            "colorscale": [
             [
              0,
              "#0d0887"
             ],
             [
              0.1111111111111111,
              "#46039f"
             ],
             [
              0.2222222222222222,
              "#7201a8"
             ],
             [
              0.3333333333333333,
              "#9c179e"
             ],
             [
              0.4444444444444444,
              "#bd3786"
             ],
             [
              0.5555555555555556,
              "#d8576b"
             ],
             [
              0.6666666666666666,
              "#ed7953"
             ],
             [
              0.7777777777777778,
              "#fb9f3a"
             ],
             [
              0.8888888888888888,
              "#fdca26"
             ],
             [
              1,
              "#f0f921"
             ]
            ],
            "type": "histogram2dcontour"
           }
          ],
          "mesh3d": [
           {
            "colorbar": {
             "outlinewidth": 0,
             "ticks": ""
            },
            "type": "mesh3d"
           }
          ],
          "parcoords": [
           {
            "line": {
             "colorbar": {
              "outlinewidth": 0,
              "ticks": ""
             }
            },
            "type": "parcoords"
           }
          ],
          "pie": [
           {
            "automargin": true,
            "type": "pie"
           }
          ],
          "scatter": [
           {
            "fillpattern": {
             "fillmode": "overlay",
             "size": 10,
             "solidity": 0.2
            },
            "type": "scatter"
           }
          ],
          "scatter3d": [
           {
            "line": {
             "colorbar": {
              "outlinewidth": 0,
              "ticks": ""
             }
            },
            "marker": {
             "colorbar": {
              "outlinewidth": 0,
              "ticks": ""
             }
            },
            "type": "scatter3d"
           }
          ],
          "scattercarpet": [
           {
            "marker": {
             "colorbar": {
              "outlinewidth": 0,
              "ticks": ""
             }
            },
            "type": "scattercarpet"
           }
          ],
          "scattergeo": [
           {
            "marker": {
             "colorbar": {
              "outlinewidth": 0,
              "ticks": ""
             }
            },
            "type": "scattergeo"
           }
          ],
          "scattergl": [
           {
            "marker": {
             "colorbar": {
              "outlinewidth": 0,
              "ticks": ""
             }
            },
            "type": "scattergl"
           }
          ],
          "scattermapbox": [
           {
            "marker": {
             "colorbar": {
              "outlinewidth": 0,
              "ticks": ""
             }
            },
            "type": "scattermapbox"
           }
          ],
          "scatterpolar": [
           {
            "marker": {
             "colorbar": {
              "outlinewidth": 0,
              "ticks": ""
             }
            },
            "type": "scatterpolar"
           }
          ],
          "scatterpolargl": [
           {
            "marker": {
             "colorbar": {
              "outlinewidth": 0,
              "ticks": ""
             }
            },
            "type": "scatterpolargl"
           }
          ],
          "scatterternary": [
           {
            "marker": {
             "colorbar": {
              "outlinewidth": 0,
              "ticks": ""
             }
            },
            "type": "scatterternary"
           }
          ],
          "surface": [
           {
            "colorbar": {
             "outlinewidth": 0,
             "ticks": ""
            },
            "colorscale": [
             [
              0,
              "#0d0887"
             ],
             [
              0.1111111111111111,
              "#46039f"
             ],
             [
              0.2222222222222222,
              "#7201a8"
             ],
             [
              0.3333333333333333,
              "#9c179e"
             ],
             [
              0.4444444444444444,
              "#bd3786"
             ],
             [
              0.5555555555555556,
              "#d8576b"
             ],
             [
              0.6666666666666666,
              "#ed7953"
             ],
             [
              0.7777777777777778,
              "#fb9f3a"
             ],
             [
              0.8888888888888888,
              "#fdca26"
             ],
             [
              1,
              "#f0f921"
             ]
            ],
            "type": "surface"
           }
          ],
          "table": [
           {
            "cells": {
             "fill": {
              "color": "#EBF0F8"
             },
             "line": {
              "color": "white"
             }
            },
            "header": {
             "fill": {
              "color": "#C8D4E3"
             },
             "line": {
              "color": "white"
             }
            },
            "type": "table"
           }
          ]
         },
         "layout": {
          "annotationdefaults": {
           "arrowcolor": "#2a3f5f",
           "arrowhead": 0,
           "arrowwidth": 1
          },
          "autotypenumbers": "strict",
          "coloraxis": {
           "colorbar": {
            "outlinewidth": 0,
            "ticks": ""
           }
          },
          "colorscale": {
           "diverging": [
            [
             0,
             "#8e0152"
            ],
            [
             0.1,
             "#c51b7d"
            ],
            [
             0.2,
             "#de77ae"
            ],
            [
             0.3,
             "#f1b6da"
            ],
            [
             0.4,
             "#fde0ef"
            ],
            [
             0.5,
             "#f7f7f7"
            ],
            [
             0.6,
             "#e6f5d0"
            ],
            [
             0.7,
             "#b8e186"
            ],
            [
             0.8,
             "#7fbc41"
            ],
            [
             0.9,
             "#4d9221"
            ],
            [
             1,
             "#276419"
            ]
           ],
           "sequential": [
            [
             0,
             "#0d0887"
            ],
            [
             0.1111111111111111,
             "#46039f"
            ],
            [
             0.2222222222222222,
             "#7201a8"
            ],
            [
             0.3333333333333333,
             "#9c179e"
            ],
            [
             0.4444444444444444,
             "#bd3786"
            ],
            [
             0.5555555555555556,
             "#d8576b"
            ],
            [
             0.6666666666666666,
             "#ed7953"
            ],
            [
             0.7777777777777778,
             "#fb9f3a"
            ],
            [
             0.8888888888888888,
             "#fdca26"
            ],
            [
             1,
             "#f0f921"
            ]
           ],
           "sequentialminus": [
            [
             0,
             "#0d0887"
            ],
            [
             0.1111111111111111,
             "#46039f"
            ],
            [
             0.2222222222222222,
             "#7201a8"
            ],
            [
             0.3333333333333333,
             "#9c179e"
            ],
            [
             0.4444444444444444,
             "#bd3786"
            ],
            [
             0.5555555555555556,
             "#d8576b"
            ],
            [
             0.6666666666666666,
             "#ed7953"
            ],
            [
             0.7777777777777778,
             "#fb9f3a"
            ],
            [
             0.8888888888888888,
             "#fdca26"
            ],
            [
             1,
             "#f0f921"
            ]
           ]
          },
          "colorway": [
           "#636efa",
           "#EF553B",
           "#00cc96",
           "#ab63fa",
           "#FFA15A",
           "#19d3f3",
           "#FF6692",
           "#B6E880",
           "#FF97FF",
           "#FECB52"
          ],
          "font": {
           "color": "#2a3f5f"
          },
          "geo": {
           "bgcolor": "white",
           "lakecolor": "white",
           "landcolor": "#E5ECF6",
           "showlakes": true,
           "showland": true,
           "subunitcolor": "white"
          },
          "hoverlabel": {
           "align": "left"
          },
          "hovermode": "closest",
          "mapbox": {
           "style": "light"
          },
          "paper_bgcolor": "white",
          "plot_bgcolor": "#E5ECF6",
          "polar": {
           "angularaxis": {
            "gridcolor": "white",
            "linecolor": "white",
            "ticks": ""
           },
           "bgcolor": "#E5ECF6",
           "radialaxis": {
            "gridcolor": "white",
            "linecolor": "white",
            "ticks": ""
           }
          },
          "scene": {
           "xaxis": {
            "backgroundcolor": "#E5ECF6",
            "gridcolor": "white",
            "gridwidth": 2,
            "linecolor": "white",
            "showbackground": true,
            "ticks": "",
            "zerolinecolor": "white"
           },
           "yaxis": {
            "backgroundcolor": "#E5ECF6",
            "gridcolor": "white",
            "gridwidth": 2,
            "linecolor": "white",
            "showbackground": true,
            "ticks": "",
            "zerolinecolor": "white"
           },
           "zaxis": {
            "backgroundcolor": "#E5ECF6",
            "gridcolor": "white",
            "gridwidth": 2,
            "linecolor": "white",
            "showbackground": true,
            "ticks": "",
            "zerolinecolor": "white"
           }
          },
          "shapedefaults": {
           "line": {
            "color": "#2a3f5f"
           }
          },
          "ternary": {
           "aaxis": {
            "gridcolor": "white",
            "linecolor": "white",
            "ticks": ""
           },
           "baxis": {
            "gridcolor": "white",
            "linecolor": "white",
            "ticks": ""
           },
           "bgcolor": "#E5ECF6",
           "caxis": {
            "gridcolor": "white",
            "linecolor": "white",
            "ticks": ""
           }
          },
          "title": {
           "x": 0.05
          },
          "xaxis": {
           "automargin": true,
           "gridcolor": "white",
           "linecolor": "white",
           "ticks": "",
           "title": {
            "standoff": 15
           },
           "zerolinecolor": "white",
           "zerolinewidth": 2
          },
          "yaxis": {
           "automargin": true,
           "gridcolor": "white",
           "linecolor": "white",
           "ticks": "",
           "title": {
            "standoff": 15
           },
           "zerolinecolor": "white",
           "zerolinewidth": 2
          }
         }
        },
        "title": {
         "text": "Sankey Diagram"
        }
       }
      },
      "image/png": "[encoded data removed]",
      "text/html": [
       "<div>                            <div id=\"cb344692-36a9-4aef-8083-eca3360e1064\" class=\"plotly-graph-div\" style=\"height:525px; width:100%;\"></div>            <script type=\"text/javascript\">                require([\"plotly\"], function(Plotly) {                    window.PLOTLYENV=window.PLOTLYENV || {};                                    if (document.getElementById(\"cb344692-36a9-4aef-8083-eca3360e1064\")) {                    Plotly.newPlot(                        \"cb344692-36a9-4aef-8083-eca3360e1064\",                        [{\"link\":{\"source\":[0,0],\"target\":[1,2],\"value\":[100,200]},\"node\":{\"label\":[\"Africa\",\"Offline\",\"Online\"]},\"type\":\"sankey\"}],                        {\"font\":{\"size\":15},\"title\":{\"text\":\"Sankey Diagram\"},\"template\":{\"data\":{\"histogram2dcontour\":[{\"type\":\"histogram2dcontour\",\"colorbar\":{\"outlinewidth\":0,\"ticks\":\"\"},\"colorscale\":[[0.0,\"#0d0887\"],[0.1111111111111111,\"#46039f\"],[0.2222222222222222,\"#7201a8\"],[0.3333333333333333,\"#9c179e\"],[0.4444444444444444,\"#bd3786\"],[0.5555555555555556,\"#d8576b\"],[0.6666666666666666,\"#ed7953\"],[0.7777777777777778,\"#fb9f3a\"],[0.8888888888888888,\"#fdca26\"],[1.0,\"#f0f921\"]]}],\"choropleth\":[{\"type\":\"choropleth\",\"colorbar\":{\"outlinewidth\":0,\"ticks\":\"\"}}],\"histogram2d\":[{\"type\":\"histogram2d\",\"colorbar\":{\"outlinewidth\":0,\"ticks\":\"\"},\"colorscale\":[[0.0,\"#0d0887\"],[0.1111111111111111,\"#46039f\"],[0.2222222222222222,\"#7201a8\"],[0.3333333333333333,\"#9c179e\"],[0.4444444444444444,\"#bd3786\"],[0.5555555555555556,\"#d8576b\"],[0.6666666666666666,\"#ed7953\"],[0.7777777777777778,\"#fb9f3a\"],[0.8888888888888888,\"#fdca26\"],[1.0,\"#f0f921\"]]}],\"heatmap\":[{\"type\":\"heatmap\",\"colorbar\":{\"outlinewidth\":0,\"ticks\":\"\"},\"colorscale\":[[0.0,\"#0d0887\"],[0.1111111111111111,\"#46039f\"],[0.2222222222222222,\"#7201a8\"],[0.3333333333333333,\"#9c179e\"],[0.4444444444444444,\"#bd3786\"],[0.5555555555555556,\"#d8576b\"],[0.6666666666666666,\"#ed7953\"],[0.7777777777777778,\"#fb9f3a\"],[0.8888888888888888,\"#fdca26\"],[1.0,\"#f0f921\"]]}],\"heatmapgl\":[{\"type\":\"heatmapgl\",\"colorbar\":{\"outlinewidth\":0,\"ticks\":\"\"},\"colorscale\":[[0.0,\"#0d0887\"],[0.1111111111111111,\"#46039f\"],[0.2222222222222222,\"#7201a8\"],[0.3333333333333333,\"#9c179e\"],[0.4444444444444444,\"#bd3786\"],[0.5555555555555556,\"#d8576b\"],[0.6666666666666666,\"#ed7953\"],[0.7777777777777778,\"#fb9f3a\"],[0.8888888888888888,\"#fdca26\"],[1.0,\"#f0f921\"]]}],\"contourcarpet\":[{\"type\":\"contourcarpet\",\"colorbar\":{\"outlinewidth\":0,\"ticks\":\"\"}}],\"contour\":[{\"type\":\"contour\",\"colorbar\":{\"outlinewidth\":0,\"ticks\":\"\"},\"colorscale\":[[0.0,\"#0d0887\"],[0.1111111111111111,\"#46039f\"],[0.2222222222222222,\"#7201a8\"],[0.3333333333333333,\"#9c179e\"],[0.4444444444444444,\"#bd3786\"],[0.5555555555555556,\"#d8576b\"],[0.6666666666666666,\"#ed7953\"],[0.7777777777777778,\"#fb9f3a\"],[0.8888888888888888,\"#fdca26\"],[1.0,\"#f0f921\"]]}],\"surface\":[{\"type\":\"surface\",\"colorbar\":{\"outlinewidth\":0,\"ticks\":\"\"},\"colorscale\":[[0.0,\"#0d0887\"],[0.1111111111111111,\"#46039f\"],[0.2222222222222222,\"#7201a8\"],[0.3333333333333333,\"#9c179e\"],[0.4444444444444444,\"#bd3786\"],[0.5555555555555556,\"#d8576b\"],[0.6666666666666666,\"#ed7953\"],[0.7777777777777778,\"#fb9f3a\"],[0.8888888888888888,\"#fdca26\"],[1.0,\"#f0f921\"]]}],\"mesh3d\":[{\"type\":\"mesh3d\",\"colorbar\":{\"outlinewidth\":0,\"ticks\":\"\"}}],\"scatter\":[{\"fillpattern\":{\"fillmode\":\"overlay\",\"size\":10,\"solidity\":0.2},\"type\":\"scatter\"}],\"parcoords\":[{\"type\":\"parcoords\",\"line\":{\"colorbar\":{\"outlinewidth\":0,\"ticks\":\"\"}}}],\"scatterpolargl\":[{\"type\":\"scatterpolargl\",\"marker\":{\"colorbar\":{\"outlinewidth\":0,\"ticks\":\"\"}}}],\"bar\":[{\"error_x\":{\"color\":\"#2a3f5f\"},\"error_y\":{\"color\":\"#2a3f5f\"},\"marker\":{\"line\":{\"color\":\"#E5ECF6\",\"width\":0.5},\"pattern\":{\"fillmode\":\"overlay\",\"size\":10,\"solidity\":0.2}},\"type\":\"bar\"}],\"scattergeo\":[{\"type\":\"scattergeo\",\"marker\":{\"colorbar\":{\"outlinewidth\":0,\"ticks\":\"\"}}}],\"scatterpolar\":[{\"type\":\"scatterpolar\",\"marker\":{\"colorbar\":{\"outlinewidth\":0,\"ticks\":\"\"}}}],\"histogram\":[{\"marker\":{\"pattern\":{\"fillmode\":\"overlay\",\"size\":10,\"solidity\":0.2}},\"type\":\"histogram\"}],\"scattergl\":[{\"type\":\"scattergl\",\"marker\":{\"colorbar\":{\"outlinewidth\":0,\"ticks\":\"\"}}}],\"scatter3d\":[{\"type\":\"scatter3d\",\"line\":{\"colorbar\":{\"outlinewidth\":0,\"ticks\":\"\"}},\"marker\":{\"colorbar\":{\"outlinewidth\":0,\"ticks\":\"\"}}}],\"scattermapbox\":[{\"type\":\"scattermapbox\",\"marker\":{\"colorbar\":{\"outlinewidth\":0,\"ticks\":\"\"}}}],\"scatterternary\":[{\"type\":\"scatterternary\",\"marker\":{\"colorbar\":{\"outlinewidth\":0,\"ticks\":\"\"}}}],\"scattercarpet\":[{\"type\":\"scattercarpet\",\"marker\":{\"colorbar\":{\"outlinewidth\":0,\"ticks\":\"\"}}}],\"carpet\":[{\"aaxis\":{\"endlinecolor\":\"#2a3f5f\",\"gridcolor\":\"white\",\"linecolor\":\"white\",\"minorgridcolor\":\"white\",\"startlinecolor\":\"#2a3f5f\"},\"baxis\":{\"endlinecolor\":\"#2a3f5f\",\"gridcolor\":\"white\",\"linecolor\":\"white\",\"minorgridcolor\":\"white\",\"startlinecolor\":\"#2a3f5f\"},\"type\":\"carpet\"}],\"table\":[{\"cells\":{\"fill\":{\"color\":\"#EBF0F8\"},\"line\":{\"color\":\"white\"}},\"header\":{\"fill\":{\"color\":\"#C8D4E3\"},\"line\":{\"color\":\"white\"}},\"type\":\"table\"}],\"barpolar\":[{\"marker\":{\"line\":{\"color\":\"#E5ECF6\",\"width\":0.5},\"pattern\":{\"fillmode\":\"overlay\",\"size\":10,\"solidity\":0.2}},\"type\":\"barpolar\"}],\"pie\":[{\"automargin\":true,\"type\":\"pie\"}]},\"layout\":{\"autotypenumbers\":\"strict\",\"colorway\":[\"#636efa\",\"#EF553B\",\"#00cc96\",\"#ab63fa\",\"#FFA15A\",\"#19d3f3\",\"#FF6692\",\"#B6E880\",\"#FF97FF\",\"#FECB52\"],\"font\":{\"color\":\"#2a3f5f\"},\"hovermode\":\"closest\",\"hoverlabel\":{\"align\":\"left\"},\"paper_bgcolor\":\"white\",\"plot_bgcolor\":\"#E5ECF6\",\"polar\":{\"bgcolor\":\"#E5ECF6\",\"angularaxis\":{\"gridcolor\":\"white\",\"linecolor\":\"white\",\"ticks\":\"\"},\"radialaxis\":{\"gridcolor\":\"white\",\"linecolor\":\"white\",\"ticks\":\"\"}},\"ternary\":{\"bgcolor\":\"#E5ECF6\",\"aaxis\":{\"gridcolor\":\"white\",\"linecolor\":\"white\",\"ticks\":\"\"},\"baxis\":{\"gridcolor\":\"white\",\"linecolor\":\"white\",\"ticks\":\"\"},\"caxis\":{\"gridcolor\":\"white\",\"linecolor\":\"white\",\"ticks\":\"\"}},\"coloraxis\":{\"colorbar\":{\"outlinewidth\":0,\"ticks\":\"\"}},\"colorscale\":{\"sequential\":[[0.0,\"#0d0887\"],[0.1111111111111111,\"#46039f\"],[0.2222222222222222,\"#7201a8\"],[0.3333333333333333,\"#9c179e\"],[0.4444444444444444,\"#bd3786\"],[0.5555555555555556,\"#d8576b\"],[0.6666666666666666,\"#ed7953\"],[0.7777777777777778,\"#fb9f3a\"],[0.8888888888888888,\"#fdca26\"],[1.0,\"#f0f921\"]],\"sequentialminus\":[[0.0,\"#0d0887\"],[0.1111111111111111,\"#46039f\"],[0.2222222222222222,\"#7201a8\"],[0.3333333333333333,\"#9c179e\"],[0.4444444444444444,\"#bd3786\"],[0.5555555555555556,\"#d8576b\"],[0.6666666666666666,\"#ed7953\"],[0.7777777777777778,\"#fb9f3a\"],[0.8888888888888888,\"#fdca26\"],[1.0,\"#f0f921\"]],\"diverging\":[[0,\"#8e0152\"],[0.1,\"#c51b7d\"],[0.2,\"#de77ae\"],[0.3,\"#f1b6da\"],[0.4,\"#fde0ef\"],[0.5,\"#f7f7f7\"],[0.6,\"#e6f5d0\"],[0.7,\"#b8e186\"],[0.8,\"#7fbc41\"],[0.9,\"#4d9221\"],[1,\"#276419\"]]},\"xaxis\":{\"gridcolor\":\"white\",\"linecolor\":\"white\",\"ticks\":\"\",\"title\":{\"standoff\":15},\"zerolinecolor\":\"white\",\"automargin\":true,\"zerolinewidth\":2},\"yaxis\":{\"gridcolor\":\"white\",\"linecolor\":\"white\",\"ticks\":\"\",\"title\":{\"standoff\":15},\"zerolinecolor\":\"white\",\"automargin\":true,\"zerolinewidth\":2},\"scene\":{\"xaxis\":{\"backgroundcolor\":\"#E5ECF6\",\"gridcolor\":\"white\",\"linecolor\":\"white\",\"showbackground\":true,\"ticks\":\"\",\"zerolinecolor\":\"white\",\"gridwidth\":2},\"yaxis\":{\"backgroundcolor\":\"#E5ECF6\",\"gridcolor\":\"white\",\"linecolor\":\"white\",\"showbackground\":true,\"ticks\":\"\",\"zerolinecolor\":\"white\",\"gridwidth\":2},\"zaxis\":{\"backgroundcolor\":\"#E5ECF6\",\"gridcolor\":\"white\",\"linecolor\":\"white\",\"showbackground\":true,\"ticks\":\"\",\"zerolinecolor\":\"white\",\"gridwidth\":2}},\"shapedefaults\":{\"line\":{\"color\":\"#2a3f5f\"}},\"annotationdefaults\":{\"arrowcolor\":\"#2a3f5f\",\"arrowhead\":0,\"arrowwidth\":1},\"geo\":{\"bgcolor\":\"white\",\"landcolor\":\"#E5ECF6\",\"subunitcolor\":\"white\",\"showland\":true,\"showlakes\":true,\"lakecolor\":\"white\"},\"title\":{\"x\":0.05},\"mapbox\":{\"style\":\"light\"}}}},                        {\"responsive\": true}                    ).then(function(){\n",
       "                            \n",
       "var gd = document.getElementById('cb344692-36a9-4aef-8083-eca3360e1064');\n",
       "var x = new MutationObserver(function (mutations, observer) {{\n",
       "        var display = window.getComputedStyle(gd).display;\n",
       "        if (!display || display === 'none') {{\n",
       "            console.log([gd, 'removed!']);\n",
       "            Plotly.purge(gd);\n",
       "            observer.disconnect();\n",
       "        }}\n",
       "}});\n",
       "\n",
       "// Listen for the removal of the full notebook cells\n",
       "var notebookContainer = gd.closest('#notebook-container');\n",
       "if (notebookContainer) {{\n",
       "    x.observe(notebookContainer, {childList: true});\n",
       "}}\n",
       "\n",
       "// Listen for the clearing of the current output cell\n",
       "var outputEl = gd.closest('.output');\n",
       "if (outputEl) {{\n",
       "    x.observe(outputEl, {childList: true});\n",
       "}}\n",
       "\n",
       "                        })                };                });            </script>        </div>"
      ]
     },
     "metadata": {},
     "output_type": "display_data"
    }
   ],
   "source": [
    "# 생키 다이어그램 차트 그리기\n",
    "\n",
    "A = go.Sankey(node = dict(label = [\"Africa\", \"Offline\", \"Online\"]),\n",
    "              link = dict(source = [0, 0],\n",
    "                          target = [1, 2],        # 아프리카에서 오프라인으로, 아프리카에서 온라인으로\n",
    "                          value = [100, 200]))\n",
    "\n",
    "data = [A]\n",
    "layout = go.Layout(title = 'Sankey Diagram', font_size = 15)\n",
    "fig = go.Figure(data, layout)\n",
    "fig.show()"
   ]
  },
  {
   "cell_type": "code",
   "execution_count": 70,
   "id": "d43fa9f4-8b88-4bbe-b9cb-4d1e2290032d",
   "metadata": {},
   "outputs": [
    {
     "data": {
      "application/vnd.plotly.v1+json": {
       "config": {
        "plotlyServerURL": "https://plot.ly"
       },
       "data": [
        {
         "link": {
          "source": [
           0,
           0,
           1,
           1,
           2,
           2,
           2
          ],
          "target": [
           1,
           2,
           3,
           4,
           5,
           3,
           3
          ],
          "value": [
           100,
           200,
           100,
           300,
           200,
           500
          ]
         },
         "node": {
          "label": [
           "Africa",
           "Offline",
           "Online",
           "Food",
           "Home",
           "Office"
          ],
          "x": [
           0.04330175977921131,
           0.2104194857916103,
           0.5,
           1.040595399188092,
           0.7361299052774019,
           1.0081190798376185
          ],
          "y": [
           0.17199927784003582,
           0.8585858585858587,
           0.2474747474747474,
           0.521212078826596,
           0.8939393939393939,
           0.0404040192112777
          ]
         },
         "type": "sankey"
        }
       ],
       "layout": {
        "autosize": true,
        "font": {
         "size": 15
        },
        "template": {
         "data": {
          "bar": [
           {
            "error_x": {
             "color": "#2a3f5f"
            },
            "error_y": {
             "color": "#2a3f5f"
            },
            "marker": {
             "line": {
              "color": "#E5ECF6",
              "width": 0.5
             },
             "pattern": {
              "fillmode": "overlay",
              "size": 10,
              "solidity": 0.2
             }
            },
            "type": "bar"
           }
          ],
          "barpolar": [
           {
            "marker": {
             "line": {
              "color": "#E5ECF6",
              "width": 0.5
             },
             "pattern": {
              "fillmode": "overlay",
              "size": 10,
              "solidity": 0.2
             }
            },
            "type": "barpolar"
           }
          ],
          "carpet": [
           {
            "aaxis": {
             "endlinecolor": "#2a3f5f",
             "gridcolor": "white",
             "linecolor": "white",
             "minorgridcolor": "white",
             "startlinecolor": "#2a3f5f"
            },
            "baxis": {
             "endlinecolor": "#2a3f5f",
             "gridcolor": "white",
             "linecolor": "white",
             "minorgridcolor": "white",
             "startlinecolor": "#2a3f5f"
            },
            "type": "carpet"
           }
          ],
          "choropleth": [
           {
            "colorbar": {
             "outlinewidth": 0,
             "ticks": ""
            },
            "type": "choropleth"
           }
          ],
          "contour": [
           {
            "colorbar": {
             "outlinewidth": 0,
             "ticks": ""
            },
            "colorscale": [
             [
              0,
              "#0d0887"
             ],
             [
              0.1111111111111111,
              "#46039f"
             ],
             [
              0.2222222222222222,
              "#7201a8"
             ],
             [
              0.3333333333333333,
              "#9c179e"
             ],
             [
              0.4444444444444444,
              "#bd3786"
             ],
             [
              0.5555555555555556,
              "#d8576b"
             ],
             [
              0.6666666666666666,
              "#ed7953"
             ],
             [
              0.7777777777777778,
              "#fb9f3a"
             ],
             [
              0.8888888888888888,
              "#fdca26"
             ],
             [
              1,
              "#f0f921"
             ]
            ],
            "type": "contour"
           }
          ],
          "contourcarpet": [
           {
            "colorbar": {
             "outlinewidth": 0,
             "ticks": ""
            },
            "type": "contourcarpet"
           }
          ],
          "heatmap": [
           {
            "colorbar": {
             "outlinewidth": 0,
             "ticks": ""
            },
            "colorscale": [
             [
              0,
              "#0d0887"
             ],
             [
              0.1111111111111111,
              "#46039f"
             ],
             [
              0.2222222222222222,
              "#7201a8"
             ],
             [
              0.3333333333333333,
              "#9c179e"
             ],
             [
              0.4444444444444444,
              "#bd3786"
             ],
             [
              0.5555555555555556,
              "#d8576b"
             ],
             [
              0.6666666666666666,
              "#ed7953"
             ],
             [
              0.7777777777777778,
              "#fb9f3a"
             ],
             [
              0.8888888888888888,
              "#fdca26"
             ],
             [
              1,
              "#f0f921"
             ]
            ],
            "type": "heatmap"
           }
          ],
          "heatmapgl": [
           {
            "colorbar": {
             "outlinewidth": 0,
             "ticks": ""
            },
            "colorscale": [
             [
              0,
              "#0d0887"
             ],
             [
              0.1111111111111111,
              "#46039f"
             ],
             [
              0.2222222222222222,
              "#7201a8"
             ],
             [
              0.3333333333333333,
              "#9c179e"
             ],
             [
              0.4444444444444444,
              "#bd3786"
             ],
             [
              0.5555555555555556,
              "#d8576b"
             ],
             [
              0.6666666666666666,
              "#ed7953"
             ],
             [
              0.7777777777777778,
              "#fb9f3a"
             ],
             [
              0.8888888888888888,
              "#fdca26"
             ],
             [
              1,
              "#f0f921"
             ]
            ],
            "type": "heatmapgl"
           }
          ],
          "histogram": [
           {
            "marker": {
             "pattern": {
              "fillmode": "overlay",
              "size": 10,
              "solidity": 0.2
             }
            },
            "type": "histogram"
           }
          ],
          "histogram2d": [
           {
            "colorbar": {
             "outlinewidth": 0,
             "ticks": ""
            },
            "colorscale": [
             [
              0,
              "#0d0887"
             ],
             [
              0.1111111111111111,
              "#46039f"
             ],
             [
              0.2222222222222222,
              "#7201a8"
             ],
             [
              0.3333333333333333,
              "#9c179e"
             ],
             [
              0.4444444444444444,
              "#bd3786"
             ],
             [
              0.5555555555555556,
              "#d8576b"
             ],
             [
              0.6666666666666666,
              "#ed7953"
             ],
             [
              0.7777777777777778,
              "#fb9f3a"
             ],
             [
              0.8888888888888888,
              "#fdca26"
             ],
             [
              1,
              "#f0f921"
             ]
            ],
            "type": "histogram2d"
           }
          ],
          "histogram2dcontour": [
           {
            "colorbar": {
             "outlinewidth": 0,
             "ticks": ""
            },
            "colorscale": [
             [
              0,
              "#0d0887"
             ],
             [
              0.1111111111111111,
              "#46039f"
             ],
             [
              0.2222222222222222,
              "#7201a8"
             ],
             [
              0.3333333333333333,
              "#9c179e"
             ],
             [
              0.4444444444444444,
              "#bd3786"
             ],
             [
              0.5555555555555556,
              "#d8576b"
             ],
             [
              0.6666666666666666,
              "#ed7953"
             ],
             [
              0.7777777777777778,
              "#fb9f3a"
             ],
             [
              0.8888888888888888,
              "#fdca26"
             ],
             [
              1,
              "#f0f921"
             ]
            ],
            "type": "histogram2dcontour"
           }
          ],
          "mesh3d": [
           {
            "colorbar": {
             "outlinewidth": 0,
             "ticks": ""
            },
            "type": "mesh3d"
           }
          ],
          "parcoords": [
           {
            "line": {
             "colorbar": {
              "outlinewidth": 0,
              "ticks": ""
             }
            },
            "type": "parcoords"
           }
          ],
          "pie": [
           {
            "automargin": true,
            "type": "pie"
           }
          ],
          "scatter": [
           {
            "fillpattern": {
             "fillmode": "overlay",
             "size": 10,
             "solidity": 0.2
            },
            "type": "scatter"
           }
          ],
          "scatter3d": [
           {
            "line": {
             "colorbar": {
              "outlinewidth": 0,
              "ticks": ""
             }
            },
            "marker": {
             "colorbar": {
              "outlinewidth": 0,
              "ticks": ""
             }
            },
            "type": "scatter3d"
           }
          ],
          "scattercarpet": [
           {
            "marker": {
             "colorbar": {
              "outlinewidth": 0,
              "ticks": ""
             }
            },
            "type": "scattercarpet"
           }
          ],
          "scattergeo": [
           {
            "marker": {
             "colorbar": {
              "outlinewidth": 0,
              "ticks": ""
             }
            },
            "type": "scattergeo"
           }
          ],
          "scattergl": [
           {
            "marker": {
             "colorbar": {
              "outlinewidth": 0,
              "ticks": ""
             }
            },
            "type": "scattergl"
           }
          ],
          "scattermapbox": [
           {
            "marker": {
             "colorbar": {
              "outlinewidth": 0,
              "ticks": ""
             }
            },
            "type": "scattermapbox"
           }
          ],
          "scatterpolar": [
           {
            "marker": {
             "colorbar": {
              "outlinewidth": 0,
              "ticks": ""
             }
            },
            "type": "scatterpolar"
           }
          ],
          "scatterpolargl": [
           {
            "marker": {
             "colorbar": {
              "outlinewidth": 0,
              "ticks": ""
             }
            },
            "type": "scatterpolargl"
           }
          ],
          "scatterternary": [
           {
            "marker": {
             "colorbar": {
              "outlinewidth": 0,
              "ticks": ""
             }
            },
            "type": "scatterternary"
           }
          ],
          "surface": [
           {
            "colorbar": {
             "outlinewidth": 0,
             "ticks": ""
            },
            "colorscale": [
             [
              0,
              "#0d0887"
             ],
             [
              0.1111111111111111,
              "#46039f"
             ],
             [
              0.2222222222222222,
              "#7201a8"
             ],
             [
              0.3333333333333333,
              "#9c179e"
             ],
             [
              0.4444444444444444,
              "#bd3786"
             ],
             [
              0.5555555555555556,
              "#d8576b"
             ],
             [
              0.6666666666666666,
              "#ed7953"
             ],
             [
              0.7777777777777778,
              "#fb9f3a"
             ],
             [
              0.8888888888888888,
              "#fdca26"
             ],
             [
              1,
              "#f0f921"
             ]
            ],
            "type": "surface"
           }
          ],
          "table": [
           {
            "cells": {
             "fill": {
              "color": "#EBF0F8"
             },
             "line": {
              "color": "white"
             }
            },
            "header": {
             "fill": {
              "color": "#C8D4E3"
             },
             "line": {
              "color": "white"
             }
            },
            "type": "table"
           }
          ]
         },
         "layout": {
          "annotationdefaults": {
           "arrowcolor": "#2a3f5f",
           "arrowhead": 0,
           "arrowwidth": 1
          },
          "autotypenumbers": "strict",
          "coloraxis": {
           "colorbar": {
            "outlinewidth": 0,
            "ticks": ""
           }
          },
          "colorscale": {
           "diverging": [
            [
             0,
             "#8e0152"
            ],
            [
             0.1,
             "#c51b7d"
            ],
            [
             0.2,
             "#de77ae"
            ],
            [
             0.3,
             "#f1b6da"
            ],
            [
             0.4,
             "#fde0ef"
            ],
            [
             0.5,
             "#f7f7f7"
            ],
            [
             0.6,
             "#e6f5d0"
            ],
            [
             0.7,
             "#b8e186"
            ],
            [
             0.8,
             "#7fbc41"
            ],
            [
             0.9,
             "#4d9221"
            ],
            [
             1,
             "#276419"
            ]
           ],
           "sequential": [
            [
             0,
             "#0d0887"
            ],
            [
             0.1111111111111111,
             "#46039f"
            ],
            [
             0.2222222222222222,
             "#7201a8"
            ],
            [
             0.3333333333333333,
             "#9c179e"
            ],
            [
             0.4444444444444444,
             "#bd3786"
            ],
            [
             0.5555555555555556,
             "#d8576b"
            ],
            [
             0.6666666666666666,
             "#ed7953"
            ],
            [
             0.7777777777777778,
             "#fb9f3a"
            ],
            [
             0.8888888888888888,
             "#fdca26"
            ],
            [
             1,
             "#f0f921"
            ]
           ],
           "sequentialminus": [
            [
             0,
             "#0d0887"
            ],
            [
             0.1111111111111111,
             "#46039f"
            ],
            [
             0.2222222222222222,
             "#7201a8"
            ],
            [
             0.3333333333333333,
             "#9c179e"
            ],
            [
             0.4444444444444444,
             "#bd3786"
            ],
            [
             0.5555555555555556,
             "#d8576b"
            ],
            [
             0.6666666666666666,
             "#ed7953"
            ],
            [
             0.7777777777777778,
             "#fb9f3a"
            ],
            [
             0.8888888888888888,
             "#fdca26"
            ],
            [
             1,
             "#f0f921"
            ]
           ]
          },
          "colorway": [
           "#636efa",
           "#EF553B",
           "#00cc96",
           "#ab63fa",
           "#FFA15A",
           "#19d3f3",
           "#FF6692",
           "#B6E880",
           "#FF97FF",
           "#FECB52"
          ],
          "font": {
           "color": "#2a3f5f"
          },
          "geo": {
           "bgcolor": "white",
           "lakecolor": "white",
           "landcolor": "#E5ECF6",
           "showlakes": true,
           "showland": true,
           "subunitcolor": "white"
          },
          "hoverlabel": {
           "align": "left"
          },
          "hovermode": "closest",
          "mapbox": {
           "style": "light"
          },
          "paper_bgcolor": "white",
          "plot_bgcolor": "#E5ECF6",
          "polar": {
           "angularaxis": {
            "gridcolor": "white",
            "linecolor": "white",
            "ticks": ""
           },
           "bgcolor": "#E5ECF6",
           "radialaxis": {
            "gridcolor": "white",
            "linecolor": "white",
            "ticks": ""
           }
          },
          "scene": {
           "xaxis": {
            "backgroundcolor": "#E5ECF6",
            "gridcolor": "white",
            "gridwidth": 2,
            "linecolor": "white",
            "showbackground": true,
            "ticks": "",
            "zerolinecolor": "white"
           },
           "yaxis": {
            "backgroundcolor": "#E5ECF6",
            "gridcolor": "white",
            "gridwidth": 2,
            "linecolor": "white",
            "showbackground": true,
            "ticks": "",
            "zerolinecolor": "white"
           },
           "zaxis": {
            "backgroundcolor": "#E5ECF6",
            "gridcolor": "white",
            "gridwidth": 2,
            "linecolor": "white",
            "showbackground": true,
            "ticks": "",
            "zerolinecolor": "white"
           }
          },
          "shapedefaults": {
           "line": {
            "color": "#2a3f5f"
           }
          },
          "ternary": {
           "aaxis": {
            "gridcolor": "white",
            "linecolor": "white",
            "ticks": ""
           },
           "baxis": {
            "gridcolor": "white",
            "linecolor": "white",
            "ticks": ""
           },
           "bgcolor": "#E5ECF6",
           "caxis": {
            "gridcolor": "white",
            "linecolor": "white",
            "ticks": ""
           }
          },
          "title": {
           "x": 0.05
          },
          "xaxis": {
           "automargin": true,
           "gridcolor": "white",
           "linecolor": "white",
           "ticks": "",
           "title": {
            "standoff": 15
           },
           "zerolinecolor": "white",
           "zerolinewidth": 2
          },
          "yaxis": {
           "automargin": true,
           "gridcolor": "white",
           "linecolor": "white",
           "ticks": "",
           "title": {
            "standoff": 15
           },
           "zerolinecolor": "white",
           "zerolinewidth": 2
          }
         }
        },
        "title": {
         "text": "Sankey Diagram"
        }
       }
      },
      "image/png": "[encoded data removed]",
      "text/html": [
       "<div>                            <div id=\"dd1959e5-20ac-4874-bfea-ef9654b5cf24\" class=\"plotly-graph-div\" style=\"height:525px; width:100%;\"></div>            <script type=\"text/javascript\">                require([\"plotly\"], function(Plotly) {                    window.PLOTLYENV=window.PLOTLYENV || {};                                    if (document.getElementById(\"dd1959e5-20ac-4874-bfea-ef9654b5cf24\")) {                    Plotly.newPlot(                        \"dd1959e5-20ac-4874-bfea-ef9654b5cf24\",                        [{\"link\":{\"source\":[0,0,1,1,2,2,2],\"target\":[1,2,3,4,5,3,3],\"value\":[100,200,100,300,200,500]},\"node\":{\"label\":[\"Africa\",\"Offline\",\"Online\",\"Food\",\"Home\",\"Office\"]},\"type\":\"sankey\"}],                        {\"font\":{\"size\":15},\"title\":{\"text\":\"Sankey Diagram\"},\"template\":{\"data\":{\"histogram2dcontour\":[{\"type\":\"histogram2dcontour\",\"colorbar\":{\"outlinewidth\":0,\"ticks\":\"\"},\"colorscale\":[[0.0,\"#0d0887\"],[0.1111111111111111,\"#46039f\"],[0.2222222222222222,\"#7201a8\"],[0.3333333333333333,\"#9c179e\"],[0.4444444444444444,\"#bd3786\"],[0.5555555555555556,\"#d8576b\"],[0.6666666666666666,\"#ed7953\"],[0.7777777777777778,\"#fb9f3a\"],[0.8888888888888888,\"#fdca26\"],[1.0,\"#f0f921\"]]}],\"choropleth\":[{\"type\":\"choropleth\",\"colorbar\":{\"outlinewidth\":0,\"ticks\":\"\"}}],\"histogram2d\":[{\"type\":\"histogram2d\",\"colorbar\":{\"outlinewidth\":0,\"ticks\":\"\"},\"colorscale\":[[0.0,\"#0d0887\"],[0.1111111111111111,\"#46039f\"],[0.2222222222222222,\"#7201a8\"],[0.3333333333333333,\"#9c179e\"],[0.4444444444444444,\"#bd3786\"],[0.5555555555555556,\"#d8576b\"],[0.6666666666666666,\"#ed7953\"],[0.7777777777777778,\"#fb9f3a\"],[0.8888888888888888,\"#fdca26\"],[1.0,\"#f0f921\"]]}],\"heatmap\":[{\"type\":\"heatmap\",\"colorbar\":{\"outlinewidth\":0,\"ticks\":\"\"},\"colorscale\":[[0.0,\"#0d0887\"],[0.1111111111111111,\"#46039f\"],[0.2222222222222222,\"#7201a8\"],[0.3333333333333333,\"#9c179e\"],[0.4444444444444444,\"#bd3786\"],[0.5555555555555556,\"#d8576b\"],[0.6666666666666666,\"#ed7953\"],[0.7777777777777778,\"#fb9f3a\"],[0.8888888888888888,\"#fdca26\"],[1.0,\"#f0f921\"]]}],\"heatmapgl\":[{\"type\":\"heatmapgl\",\"colorbar\":{\"outlinewidth\":0,\"ticks\":\"\"},\"colorscale\":[[0.0,\"#0d0887\"],[0.1111111111111111,\"#46039f\"],[0.2222222222222222,\"#7201a8\"],[0.3333333333333333,\"#9c179e\"],[0.4444444444444444,\"#bd3786\"],[0.5555555555555556,\"#d8576b\"],[0.6666666666666666,\"#ed7953\"],[0.7777777777777778,\"#fb9f3a\"],[0.8888888888888888,\"#fdca26\"],[1.0,\"#f0f921\"]]}],\"contourcarpet\":[{\"type\":\"contourcarpet\",\"colorbar\":{\"outlinewidth\":0,\"ticks\":\"\"}}],\"contour\":[{\"type\":\"contour\",\"colorbar\":{\"outlinewidth\":0,\"ticks\":\"\"},\"colorscale\":[[0.0,\"#0d0887\"],[0.1111111111111111,\"#46039f\"],[0.2222222222222222,\"#7201a8\"],[0.3333333333333333,\"#9c179e\"],[0.4444444444444444,\"#bd3786\"],[0.5555555555555556,\"#d8576b\"],[0.6666666666666666,\"#ed7953\"],[0.7777777777777778,\"#fb9f3a\"],[0.8888888888888888,\"#fdca26\"],[1.0,\"#f0f921\"]]}],\"surface\":[{\"type\":\"surface\",\"colorbar\":{\"outlinewidth\":0,\"ticks\":\"\"},\"colorscale\":[[0.0,\"#0d0887\"],[0.1111111111111111,\"#46039f\"],[0.2222222222222222,\"#7201a8\"],[0.3333333333333333,\"#9c179e\"],[0.4444444444444444,\"#bd3786\"],[0.5555555555555556,\"#d8576b\"],[0.6666666666666666,\"#ed7953\"],[0.7777777777777778,\"#fb9f3a\"],[0.8888888888888888,\"#fdca26\"],[1.0,\"#f0f921\"]]}],\"mesh3d\":[{\"type\":\"mesh3d\",\"colorbar\":{\"outlinewidth\":0,\"ticks\":\"\"}}],\"scatter\":[{\"fillpattern\":{\"fillmode\":\"overlay\",\"size\":10,\"solidity\":0.2},\"type\":\"scatter\"}],\"parcoords\":[{\"type\":\"parcoords\",\"line\":{\"colorbar\":{\"outlinewidth\":0,\"ticks\":\"\"}}}],\"scatterpolargl\":[{\"type\":\"scatterpolargl\",\"marker\":{\"colorbar\":{\"outlinewidth\":0,\"ticks\":\"\"}}}],\"bar\":[{\"error_x\":{\"color\":\"#2a3f5f\"},\"error_y\":{\"color\":\"#2a3f5f\"},\"marker\":{\"line\":{\"color\":\"#E5ECF6\",\"width\":0.5},\"pattern\":{\"fillmode\":\"overlay\",\"size\":10,\"solidity\":0.2}},\"type\":\"bar\"}],\"scattergeo\":[{\"type\":\"scattergeo\",\"marker\":{\"colorbar\":{\"outlinewidth\":0,\"ticks\":\"\"}}}],\"scatterpolar\":[{\"type\":\"scatterpolar\",\"marker\":{\"colorbar\":{\"outlinewidth\":0,\"ticks\":\"\"}}}],\"histogram\":[{\"marker\":{\"pattern\":{\"fillmode\":\"overlay\",\"size\":10,\"solidity\":0.2}},\"type\":\"histogram\"}],\"scattergl\":[{\"type\":\"scattergl\",\"marker\":{\"colorbar\":{\"outlinewidth\":0,\"ticks\":\"\"}}}],\"scatter3d\":[{\"type\":\"scatter3d\",\"line\":{\"colorbar\":{\"outlinewidth\":0,\"ticks\":\"\"}},\"marker\":{\"colorbar\":{\"outlinewidth\":0,\"ticks\":\"\"}}}],\"scattermapbox\":[{\"type\":\"scattermapbox\",\"marker\":{\"colorbar\":{\"outlinewidth\":0,\"ticks\":\"\"}}}],\"scatterternary\":[{\"type\":\"scatterternary\",\"marker\":{\"colorbar\":{\"outlinewidth\":0,\"ticks\":\"\"}}}],\"scattercarpet\":[{\"type\":\"scattercarpet\",\"marker\":{\"colorbar\":{\"outlinewidth\":0,\"ticks\":\"\"}}}],\"carpet\":[{\"aaxis\":{\"endlinecolor\":\"#2a3f5f\",\"gridcolor\":\"white\",\"linecolor\":\"white\",\"minorgridcolor\":\"white\",\"startlinecolor\":\"#2a3f5f\"},\"baxis\":{\"endlinecolor\":\"#2a3f5f\",\"gridcolor\":\"white\",\"linecolor\":\"white\",\"minorgridcolor\":\"white\",\"startlinecolor\":\"#2a3f5f\"},\"type\":\"carpet\"}],\"table\":[{\"cells\":{\"fill\":{\"color\":\"#EBF0F8\"},\"line\":{\"color\":\"white\"}},\"header\":{\"fill\":{\"color\":\"#C8D4E3\"},\"line\":{\"color\":\"white\"}},\"type\":\"table\"}],\"barpolar\":[{\"marker\":{\"line\":{\"color\":\"#E5ECF6\",\"width\":0.5},\"pattern\":{\"fillmode\":\"overlay\",\"size\":10,\"solidity\":0.2}},\"type\":\"barpolar\"}],\"pie\":[{\"automargin\":true,\"type\":\"pie\"}]},\"layout\":{\"autotypenumbers\":\"strict\",\"colorway\":[\"#636efa\",\"#EF553B\",\"#00cc96\",\"#ab63fa\",\"#FFA15A\",\"#19d3f3\",\"#FF6692\",\"#B6E880\",\"#FF97FF\",\"#FECB52\"],\"font\":{\"color\":\"#2a3f5f\"},\"hovermode\":\"closest\",\"hoverlabel\":{\"align\":\"left\"},\"paper_bgcolor\":\"white\",\"plot_bgcolor\":\"#E5ECF6\",\"polar\":{\"bgcolor\":\"#E5ECF6\",\"angularaxis\":{\"gridcolor\":\"white\",\"linecolor\":\"white\",\"ticks\":\"\"},\"radialaxis\":{\"gridcolor\":\"white\",\"linecolor\":\"white\",\"ticks\":\"\"}},\"ternary\":{\"bgcolor\":\"#E5ECF6\",\"aaxis\":{\"gridcolor\":\"white\",\"linecolor\":\"white\",\"ticks\":\"\"},\"baxis\":{\"gridcolor\":\"white\",\"linecolor\":\"white\",\"ticks\":\"\"},\"caxis\":{\"gridcolor\":\"white\",\"linecolor\":\"white\",\"ticks\":\"\"}},\"coloraxis\":{\"colorbar\":{\"outlinewidth\":0,\"ticks\":\"\"}},\"colorscale\":{\"sequential\":[[0.0,\"#0d0887\"],[0.1111111111111111,\"#46039f\"],[0.2222222222222222,\"#7201a8\"],[0.3333333333333333,\"#9c179e\"],[0.4444444444444444,\"#bd3786\"],[0.5555555555555556,\"#d8576b\"],[0.6666666666666666,\"#ed7953\"],[0.7777777777777778,\"#fb9f3a\"],[0.8888888888888888,\"#fdca26\"],[1.0,\"#f0f921\"]],\"sequentialminus\":[[0.0,\"#0d0887\"],[0.1111111111111111,\"#46039f\"],[0.2222222222222222,\"#7201a8\"],[0.3333333333333333,\"#9c179e\"],[0.4444444444444444,\"#bd3786\"],[0.5555555555555556,\"#d8576b\"],[0.6666666666666666,\"#ed7953\"],[0.7777777777777778,\"#fb9f3a\"],[0.8888888888888888,\"#fdca26\"],[1.0,\"#f0f921\"]],\"diverging\":[[0,\"#8e0152\"],[0.1,\"#c51b7d\"],[0.2,\"#de77ae\"],[0.3,\"#f1b6da\"],[0.4,\"#fde0ef\"],[0.5,\"#f7f7f7\"],[0.6,\"#e6f5d0\"],[0.7,\"#b8e186\"],[0.8,\"#7fbc41\"],[0.9,\"#4d9221\"],[1,\"#276419\"]]},\"xaxis\":{\"gridcolor\":\"white\",\"linecolor\":\"white\",\"ticks\":\"\",\"title\":{\"standoff\":15},\"zerolinecolor\":\"white\",\"automargin\":true,\"zerolinewidth\":2},\"yaxis\":{\"gridcolor\":\"white\",\"linecolor\":\"white\",\"ticks\":\"\",\"title\":{\"standoff\":15},\"zerolinecolor\":\"white\",\"automargin\":true,\"zerolinewidth\":2},\"scene\":{\"xaxis\":{\"backgroundcolor\":\"#E5ECF6\",\"gridcolor\":\"white\",\"linecolor\":\"white\",\"showbackground\":true,\"ticks\":\"\",\"zerolinecolor\":\"white\",\"gridwidth\":2},\"yaxis\":{\"backgroundcolor\":\"#E5ECF6\",\"gridcolor\":\"white\",\"linecolor\":\"white\",\"showbackground\":true,\"ticks\":\"\",\"zerolinecolor\":\"white\",\"gridwidth\":2},\"zaxis\":{\"backgroundcolor\":\"#E5ECF6\",\"gridcolor\":\"white\",\"linecolor\":\"white\",\"showbackground\":true,\"ticks\":\"\",\"zerolinecolor\":\"white\",\"gridwidth\":2}},\"shapedefaults\":{\"line\":{\"color\":\"#2a3f5f\"}},\"annotationdefaults\":{\"arrowcolor\":\"#2a3f5f\",\"arrowhead\":0,\"arrowwidth\":1},\"geo\":{\"bgcolor\":\"white\",\"landcolor\":\"#E5ECF6\",\"subunitcolor\":\"white\",\"showland\":true,\"showlakes\":true,\"lakecolor\":\"white\"},\"title\":{\"x\":0.05},\"mapbox\":{\"style\":\"light\"}}}},                        {\"responsive\": true}                    ).then(function(){\n",
       "                            \n",
       "var gd = document.getElementById('dd1959e5-20ac-4874-bfea-ef9654b5cf24');\n",
       "var x = new MutationObserver(function (mutations, observer) {{\n",
       "        var display = window.getComputedStyle(gd).display;\n",
       "        if (!display || display === 'none') {{\n",
       "            console.log([gd, 'removed!']);\n",
       "            Plotly.purge(gd);\n",
       "            observer.disconnect();\n",
       "        }}\n",
       "}});\n",
       "\n",
       "// Listen for the removal of the full notebook cells\n",
       "var notebookContainer = gd.closest('#notebook-container');\n",
       "if (notebookContainer) {{\n",
       "    x.observe(notebookContainer, {childList: true});\n",
       "}}\n",
       "\n",
       "// Listen for the clearing of the current output cell\n",
       "var outputEl = gd.closest('.output');\n",
       "if (outputEl) {{\n",
       "    x.observe(outputEl, {childList: true});\n",
       "}}\n",
       "\n",
       "                        })                };                });            </script>        </div>"
      ]
     },
     "metadata": {},
     "output_type": "display_data"
    }
   ],
   "source": [
    "# 생키 다이어그램 차트 그리기\n",
    "\n",
    "A = go.Sankey(node = dict(label = [\"Africa\", \"Offline\", \"Online\", \"Food\", \"Home\", \"Office\"]),\n",
    "              link = dict(source = [0, 0, 1, 1, 2, 2, 2],\n",
    "                          target = [1, 2, 3, 4, 5, 3, 3],\n",
    "                          value = [100, 200, 100, 300, 200, 500]))\n",
    "\n",
    "data = [A]\n",
    "layout = go.Layout(title = 'Sankey Diagram', font_size = 15)\n",
    "fig = go.Figure(data, layout)\n",
    "fig.show()"
   ]
  },
  {
   "cell_type": "code",
   "execution_count": 73,
   "id": "535b1462-b3e1-4fe9-8287-77dc5d7b2dad",
   "metadata": {},
   "outputs": [
    {
     "data": {
      "text/plain": [
       "array([1, 1, 2, 2, 3, 3])"
      ]
     },
     "execution_count": 73,
     "metadata": {},
     "output_type": "execute_result"
    }
   ],
   "source": [
    "import numpy as np\n",
    "arr = np.array([1,2,3])\n",
    "np.repeat(arr, 2)      # arr을 2번 반복해라 ->  11 22 33 (123123아님)"
   ]
  },
  {
   "cell_type": "code",
   "execution_count": 75,
   "id": "6da6a2fd-a94e-47e1-b6c0-7018b2f0af1d",
   "metadata": {},
   "outputs": [
    {
     "data": {
      "text/plain": [
       "array([0, 0, 0, 1, 1, 1, 2, 2, 2])"
      ]
     },
     "execution_count": 75,
     "metadata": {},
     "output_type": "execute_result"
    }
   ],
   "source": [
    "np.repeat(range(0,len(arr)), len(arr))       # 0부터 2까지 3번 반복해라; 000 111 222"
   ]
  },
  {
   "cell_type": "code",
   "execution_count": 79,
   "id": "fd8c2fc4-49c3-4b04-a3fb-404a870192c6",
   "metadata": {},
   "outputs": [
    {
     "data": {
      "text/html": [
       "<div>\n",
       "<style scoped>\n",
       "    .dataframe tbody tr th:only-of-type {\n",
       "        vertical-align: middle;\n",
       "    }\n",
       "\n",
       "    .dataframe tbody tr th {\n",
       "        vertical-align: top;\n",
       "    }\n",
       "\n",
       "    .dataframe thead th {\n",
       "        text-align: right;\n",
       "    }\n",
       "</style>\n",
       "<table border=\"1\" class=\"dataframe\">\n",
       "  <thead>\n",
       "    <tr style=\"text-align: right;\">\n",
       "      <th></th>\n",
       "      <th>Region</th>\n",
       "      <th>Channel</th>\n",
       "      <th>Category</th>\n",
       "      <th>Revenue</th>\n",
       "    </tr>\n",
       "  </thead>\n",
       "  <tbody>\n",
       "    <tr>\n",
       "      <th>251</th>\n",
       "      <td>Africa</td>\n",
       "      <td>Offline</td>\n",
       "      <td>Beauty &amp; Health</td>\n",
       "      <td>30153.90</td>\n",
       "    </tr>\n",
       "    <tr>\n",
       "      <th>906</th>\n",
       "      <td>Africa</td>\n",
       "      <td>Offline</td>\n",
       "      <td>Beauty &amp; Health</td>\n",
       "      <td>37879.40</td>\n",
       "    </tr>\n",
       "    <tr>\n",
       "      <th>2009</th>\n",
       "      <td>Africa</td>\n",
       "      <td>Offline</td>\n",
       "      <td>Beauty &amp; Health</td>\n",
       "      <td>30171.10</td>\n",
       "    </tr>\n",
       "    <tr>\n",
       "      <th>2687</th>\n",
       "      <td>Africa</td>\n",
       "      <td>Offline</td>\n",
       "      <td>Beauty &amp; Health</td>\n",
       "      <td>37120.40</td>\n",
       "    </tr>\n",
       "    <tr>\n",
       "      <th>3225</th>\n",
       "      <td>Africa</td>\n",
       "      <td>Offline</td>\n",
       "      <td>Beauty &amp; Health</td>\n",
       "      <td>30551.30</td>\n",
       "    </tr>\n",
       "    <tr>\n",
       "      <th>...</th>\n",
       "      <td>...</td>\n",
       "      <td>...</td>\n",
       "      <td>...</td>\n",
       "      <td>...</td>\n",
       "    </tr>\n",
       "    <tr>\n",
       "      <th>13569</th>\n",
       "      <td>Oceania</td>\n",
       "      <td>Online</td>\n",
       "      <td>Office</td>\n",
       "      <td>36624.30</td>\n",
       "    </tr>\n",
       "    <tr>\n",
       "      <th>15226</th>\n",
       "      <td>Oceania</td>\n",
       "      <td>Online</td>\n",
       "      <td>Office</td>\n",
       "      <td>38334.60</td>\n",
       "    </tr>\n",
       "    <tr>\n",
       "      <th>15234</th>\n",
       "      <td>Oceania</td>\n",
       "      <td>Online</td>\n",
       "      <td>Office</td>\n",
       "      <td>30180.80</td>\n",
       "    </tr>\n",
       "    <tr>\n",
       "      <th>18422</th>\n",
       "      <td>Oceania</td>\n",
       "      <td>Online</td>\n",
       "      <td>Office</td>\n",
       "      <td>35212.90</td>\n",
       "    </tr>\n",
       "    <tr>\n",
       "      <th>22074</th>\n",
       "      <td>Oceania</td>\n",
       "      <td>Online</td>\n",
       "      <td>Office</td>\n",
       "      <td>30483.70</td>\n",
       "    </tr>\n",
       "  </tbody>\n",
       "</table>\n",
       "<p>8567 rows × 4 columns</p>\n",
       "</div>"
      ],
      "text/plain": [
       "        Region  Channel         Category  Revenue\n",
       "251     Africa  Offline  Beauty & Health 30153.90\n",
       "906     Africa  Offline  Beauty & Health 37879.40\n",
       "2009    Africa  Offline  Beauty & Health 30171.10\n",
       "2687    Africa  Offline  Beauty & Health 37120.40\n",
       "3225    Africa  Offline  Beauty & Health 30551.30\n",
       "...        ...      ...              ...      ...\n",
       "13569  Oceania   Online           Office 36624.30\n",
       "15226  Oceania   Online           Office 38334.60\n",
       "15234  Oceania   Online           Office 30180.80\n",
       "18422  Oceania   Online           Office 35212.90\n",
       "22074  Oceania   Online           Office 30483.70\n",
       "\n",
       "[8567 rows x 4 columns]"
      ]
     },
     "execution_count": 79,
     "metadata": {},
     "output_type": "execute_result"
    }
   ],
   "source": [
    "df_g = df20.iloc[:, [13,4,11,9]]    # 해당하는 열만 가져옴 \n",
    "df_g = df_g.sort_values([\"Region\", \"Channel\", \"Category\"])\n",
    "df_g"
   ]
  },
  {
   "cell_type": "code",
   "execution_count": 81,
   "id": "fdd45f6a-20da-4adc-8777-827ce0931d75",
   "metadata": {},
   "outputs": [
    {
     "data": {
      "text/html": [
       "<div>\n",
       "<style scoped>\n",
       "    .dataframe tbody tr th:only-of-type {\n",
       "        vertical-align: middle;\n",
       "    }\n",
       "\n",
       "    .dataframe tbody tr th {\n",
       "        vertical-align: top;\n",
       "    }\n",
       "\n",
       "    .dataframe thead th {\n",
       "        text-align: right;\n",
       "    }\n",
       "</style>\n",
       "<table border=\"1\" class=\"dataframe\">\n",
       "  <thead>\n",
       "    <tr style=\"text-align: right;\">\n",
       "      <th></th>\n",
       "      <th>Region</th>\n",
       "      <th>Channel</th>\n",
       "      <th>Revenue</th>\n",
       "    </tr>\n",
       "  </thead>\n",
       "  <tbody>\n",
       "    <tr>\n",
       "      <th>0</th>\n",
       "      <td>Africa</td>\n",
       "      <td>Offline</td>\n",
       "      <td>4015718.10</td>\n",
       "    </tr>\n",
       "    <tr>\n",
       "      <th>1</th>\n",
       "      <td>Africa</td>\n",
       "      <td>Online</td>\n",
       "      <td>12342417.50</td>\n",
       "    </tr>\n",
       "    <tr>\n",
       "      <th>2</th>\n",
       "      <td>America</td>\n",
       "      <td>Offline</td>\n",
       "      <td>13206995.20</td>\n",
       "    </tr>\n",
       "    <tr>\n",
       "      <th>3</th>\n",
       "      <td>America</td>\n",
       "      <td>Online</td>\n",
       "      <td>39311590.60</td>\n",
       "    </tr>\n",
       "    <tr>\n",
       "      <th>4</th>\n",
       "      <td>Asia</td>\n",
       "      <td>Offline</td>\n",
       "      <td>27794901.85</td>\n",
       "    </tr>\n",
       "    <tr>\n",
       "      <th>5</th>\n",
       "      <td>Asia</td>\n",
       "      <td>Online</td>\n",
       "      <td>80291457.54</td>\n",
       "    </tr>\n",
       "    <tr>\n",
       "      <th>6</th>\n",
       "      <td>Europe</td>\n",
       "      <td>Offline</td>\n",
       "      <td>27142873.33</td>\n",
       "    </tr>\n",
       "    <tr>\n",
       "      <th>7</th>\n",
       "      <td>Europe</td>\n",
       "      <td>Online</td>\n",
       "      <td>75434600.10</td>\n",
       "    </tr>\n",
       "    <tr>\n",
       "      <th>8</th>\n",
       "      <td>Oceania</td>\n",
       "      <td>Offline</td>\n",
       "      <td>5444565.40</td>\n",
       "    </tr>\n",
       "    <tr>\n",
       "      <th>9</th>\n",
       "      <td>Oceania</td>\n",
       "      <td>Online</td>\n",
       "      <td>16521398.50</td>\n",
       "    </tr>\n",
       "  </tbody>\n",
       "</table>\n",
       "</div>"
      ],
      "text/plain": [
       "    Region  Channel     Revenue\n",
       "0   Africa  Offline  4015718.10\n",
       "1   Africa   Online 12342417.50\n",
       "2  America  Offline 13206995.20\n",
       "3  America   Online 39311590.60\n",
       "4     Asia  Offline 27794901.85\n",
       "5     Asia   Online 80291457.54\n",
       "6   Europe  Offline 27142873.33\n",
       "7   Europe   Online 75434600.10\n",
       "8  Oceania  Offline  5444565.40\n",
       "9  Oceania   Online 16521398.50"
      ]
     },
     "execution_count": 81,
     "metadata": {},
     "output_type": "execute_result"
    }
   ],
   "source": [
    "value1 = df_g.groupby([\"Region\", \"Channel\"])[\"Revenue\"].sum().reset_index()\n",
    "value1"
   ]
  },
  {
   "cell_type": "code",
   "execution_count": 82,
   "id": "0f53e8a9-bbca-4581-9c9e-3a35884a627b",
   "metadata": {},
   "outputs": [
    {
     "data": {
      "text/html": [
       "<div>\n",
       "<style scoped>\n",
       "    .dataframe tbody tr th:only-of-type {\n",
       "        vertical-align: middle;\n",
       "    }\n",
       "\n",
       "    .dataframe tbody tr th {\n",
       "        vertical-align: top;\n",
       "    }\n",
       "\n",
       "    .dataframe thead th {\n",
       "        text-align: right;\n",
       "    }\n",
       "</style>\n",
       "<table border=\"1\" class=\"dataframe\">\n",
       "  <thead>\n",
       "    <tr style=\"text-align: right;\">\n",
       "      <th></th>\n",
       "      <th>Channel</th>\n",
       "      <th>Category</th>\n",
       "      <th>Revenue</th>\n",
       "    </tr>\n",
       "  </thead>\n",
       "  <tbody>\n",
       "    <tr>\n",
       "      <th>0</th>\n",
       "      <td>Offline</td>\n",
       "      <td>Beauty &amp; Health</td>\n",
       "      <td>12873974.40</td>\n",
       "    </tr>\n",
       "    <tr>\n",
       "      <th>1</th>\n",
       "      <td>Offline</td>\n",
       "      <td>Clothes</td>\n",
       "      <td>2482423.20</td>\n",
       "    </tr>\n",
       "    <tr>\n",
       "      <th>2</th>\n",
       "      <td>Offline</td>\n",
       "      <td>Foods</td>\n",
       "      <td>57785592.18</td>\n",
       "    </tr>\n",
       "    <tr>\n",
       "      <th>3</th>\n",
       "      <td>Offline</td>\n",
       "      <td>Home</td>\n",
       "      <td>2770573.30</td>\n",
       "    </tr>\n",
       "    <tr>\n",
       "      <th>4</th>\n",
       "      <td>Offline</td>\n",
       "      <td>Office</td>\n",
       "      <td>1692490.80</td>\n",
       "    </tr>\n",
       "    <tr>\n",
       "      <th>5</th>\n",
       "      <td>Online</td>\n",
       "      <td>Beauty &amp; Health</td>\n",
       "      <td>37548449.20</td>\n",
       "    </tr>\n",
       "    <tr>\n",
       "      <th>6</th>\n",
       "      <td>Online</td>\n",
       "      <td>Clothes</td>\n",
       "      <td>6740321.60</td>\n",
       "    </tr>\n",
       "    <tr>\n",
       "      <th>7</th>\n",
       "      <td>Online</td>\n",
       "      <td>Foods</td>\n",
       "      <td>158206931.14</td>\n",
       "    </tr>\n",
       "    <tr>\n",
       "      <th>8</th>\n",
       "      <td>Online</td>\n",
       "      <td>Home</td>\n",
       "      <td>14696612.50</td>\n",
       "    </tr>\n",
       "    <tr>\n",
       "      <th>9</th>\n",
       "      <td>Online</td>\n",
       "      <td>Office</td>\n",
       "      <td>6709149.80</td>\n",
       "    </tr>\n",
       "  </tbody>\n",
       "</table>\n",
       "</div>"
      ],
      "text/plain": [
       "   Channel         Category      Revenue\n",
       "0  Offline  Beauty & Health  12873974.40\n",
       "1  Offline          Clothes   2482423.20\n",
       "2  Offline            Foods  57785592.18\n",
       "3  Offline             Home   2770573.30\n",
       "4  Offline           Office   1692490.80\n",
       "5   Online  Beauty & Health  37548449.20\n",
       "6   Online          Clothes   6740321.60\n",
       "7   Online            Foods 158206931.14\n",
       "8   Online             Home  14696612.50\n",
       "9   Online           Office   6709149.80"
      ]
     },
     "execution_count": 82,
     "metadata": {},
     "output_type": "execute_result"
    }
   ],
   "source": [
    "value2 = df_g.groupby([\"Channel\", \"Category\"])[\"Revenue\"].sum().reset_index()\n",
    "value2"
   ]
  },
  {
   "cell_type": "code",
   "execution_count": 87,
   "id": "7784e5e2-f60e-4fe6-90ad-aee1f29345eb",
   "metadata": {},
   "outputs": [
    {
     "data": {
      "text/plain": [
       "['Africa',\n",
       " 'America',\n",
       " 'Asia',\n",
       " 'Europe',\n",
       " 'Oceania',\n",
       " 'Offline',\n",
       " 'Online',\n",
       " 'Beauty & Health',\n",
       " 'Clothes',\n",
       " 'Foods',\n",
       " 'Home',\n",
       " 'Office']"
      ]
     },
     "execution_count": 87,
     "metadata": {},
     "output_type": "execute_result"
    }
   ],
   "source": [
    "c1 = list(df_g[\"Region\"].unique())\n",
    "c2 = list(df_g[\"Channel\"].unique())\n",
    "c3 = list(df_g[\"Category\"].unique())\n",
    "\n",
    "labels = c1 + c2 + c3\n",
    "labels"
   ]
  },
  {
   "cell_type": "code",
   "execution_count": 92,
   "id": "1f31a820-6c84-4188-a624-cd8b815e4b6a",
   "metadata": {},
   "outputs": [
    {
     "data": {
      "text/plain": [
       "[0, 0, 1, 1, 2, 2, 3, 3, 4, 4, 5, 5, 5, 5, 5, 6, 6, 6, 6, 6]"
      ]
     },
     "execution_count": 92,
     "metadata": {},
     "output_type": "execute_result"
    }
   ],
   "source": [
    "source1 = list(np.repeat(range(0, len(c1)), len(c2)))\n",
    "source2 = list(np.repeat(range(len(c1), len(c1)+len(c2)), len(c3)))\n",
    "\n",
    "source = source1 + source2\n",
    "source"
   ]
  },
  {
   "cell_type": "code",
   "execution_count": 97,
   "id": "20fd0418-4f2a-4528-9eb2-e40cbf8bab9f",
   "metadata": {},
   "outputs": [
    {
     "data": {
      "text/plain": [
       "[5, 6, 5, 6, 5, 6, 5, 6, 5, 6, 7, 8, 9, 10, 11, 7, 8, 9, 10, 11]"
      ]
     },
     "execution_count": 97,
     "metadata": {},
     "output_type": "execute_result"
    }
   ],
   "source": [
    "target1 = list(range(len(c1), len(c1)+len(c2))) * len(c1)         # online / offline\n",
    "target2 = list(range(len(c1)+len(c2), len(c1)+len(c2)+len(c3))) * len(c2)\n",
    "target = target1 + target2\n",
    "target"
   ]
  },
  {
   "cell_type": "code",
   "execution_count": 98,
   "id": "ddd51a31-f8ae-44d7-8780-c9ea0aed24d6",
   "metadata": {},
   "outputs": [
    {
     "data": {
      "text/plain": [
       "[4015718.1,\n",
       " 12342417.5,\n",
       " 13206995.2,\n",
       " 39311590.6,\n",
       " 27794901.85,\n",
       " 80291457.54,\n",
       " 27142873.330000002,\n",
       " 75434600.1,\n",
       " 5444565.4,\n",
       " 16521398.5,\n",
       " 12873974.4,\n",
       " 2482423.2,\n",
       " 57785592.18,\n",
       " 2770573.3,\n",
       " 1692490.8,\n",
       " 37548449.2,\n",
       " 6740321.6,\n",
       " 158206931.14,\n",
       " 14696612.5,\n",
       " 6709149.8]"
      ]
     },
     "execution_count": 98,
     "metadata": {},
     "output_type": "execute_result"
    }
   ],
   "source": [
    "values = list(value1[\"Revenue\"]) + list(value2[\"Revenue\"])\n",
    "values"
   ]
  },
  {
   "cell_type": "code",
   "execution_count": 106,
   "id": "7143ea9d-3d9d-4539-a58e-4af936dc3cae",
   "metadata": {},
   "outputs": [
    {
     "data": {
      "application/vnd.plotly.v1+json": {
       "config": {
        "plotlyServerURL": "https://plot.ly"
       },
       "data": [
        {
         "link": {
          "source": [
           0,
           0,
           1,
           1,
           2,
           2,
           3,
           3,
           4,
           4,
           5,
           5,
           5,
           5,
           5,
           6,
           6,
           6,
           6,
           6
          ],
          "target": [
           5,
           6,
           5,
           6,
           5,
           6,
           5,
           6,
           5,
           6,
           7,
           8,
           9,
           10,
           11,
           7,
           8,
           9,
           10,
           11
          ],
          "value": [
           4015718.1,
           12342417.5,
           13206995.2,
           39311590.6,
           27794901.85,
           80291457.54,
           27142873.330000002,
           75434600.1,
           5444565.4,
           16521398.5,
           12873974.4,
           2482423.2,
           57785592.18,
           2770573.3,
           1692490.8,
           37548449.2,
           6740321.6,
           158206931.14,
           14696612.5,
           6709149.8
          ]
         },
         "node": {
          "color": "blue",
          "label": [
           "Africa",
           "America",
           "Asia",
           "Europe",
           "Oceania",
           "Offline",
           "Online",
           "Beauty & Health",
           "Clothes",
           "Foods",
           "Home",
           "Office"
          ],
          "thickness": 20,
          "x": [
           0.013531799729364006,
           0.013531799729364006,
           0.013531799729364006,
           0.013531799729364006,
           0.013531799729364006,
           0.4986468200270636,
           0.5,
           0.986468200270636,
           0.986468200270636,
           0.986468200270636,
           0.986468200270636,
           0.986468200270636
          ],
          "y": [
           0.9849292592946628,
           0.6587764949260276,
           0.09957989932242488,
           0.4047754756841304,
           0.8385101778589849,
           0.9285025095128076,
           0.20628028729058573,
           0.5555528296590786,
           0.8649111264453277,
           0.19899378467355464,
           0.7292105979732281,
           0.9922595734576235
          ]
         },
         "type": "sankey"
        }
       ],
       "layout": {
        "autosize": true,
        "font": {
         "size": 20
        },
        "template": {
         "data": {
          "bar": [
           {
            "error_x": {
             "color": "#2a3f5f"
            },
            "error_y": {
             "color": "#2a3f5f"
            },
            "marker": {
             "line": {
              "color": "#E5ECF6",
              "width": 0.5
             },
             "pattern": {
              "fillmode": "overlay",
              "size": 10,
              "solidity": 0.2
             }
            },
            "type": "bar"
           }
          ],
          "barpolar": [
           {
            "marker": {
             "line": {
              "color": "#E5ECF6",
              "width": 0.5
             },
             "pattern": {
              "fillmode": "overlay",
              "size": 10,
              "solidity": 0.2
             }
            },
            "type": "barpolar"
           }
          ],
          "carpet": [
           {
            "aaxis": {
             "endlinecolor": "#2a3f5f",
             "gridcolor": "white",
             "linecolor": "white",
             "minorgridcolor": "white",
             "startlinecolor": "#2a3f5f"
            },
            "baxis": {
             "endlinecolor": "#2a3f5f",
             "gridcolor": "white",
             "linecolor": "white",
             "minorgridcolor": "white",
             "startlinecolor": "#2a3f5f"
            },
            "type": "carpet"
           }
          ],
          "choropleth": [
           {
            "colorbar": {
             "outlinewidth": 0,
             "ticks": ""
            },
            "type": "choropleth"
           }
          ],
          "contour": [
           {
            "colorbar": {
             "outlinewidth": 0,
             "ticks": ""
            },
            "colorscale": [
             [
              0,
              "#0d0887"
             ],
             [
              0.1111111111111111,
              "#46039f"
             ],
             [
              0.2222222222222222,
              "#7201a8"
             ],
             [
              0.3333333333333333,
              "#9c179e"
             ],
             [
              0.4444444444444444,
              "#bd3786"
             ],
             [
              0.5555555555555556,
              "#d8576b"
             ],
             [
              0.6666666666666666,
              "#ed7953"
             ],
             [
              0.7777777777777778,
              "#fb9f3a"
             ],
             [
              0.8888888888888888,
              "#fdca26"
             ],
             [
              1,
              "#f0f921"
             ]
            ],
            "type": "contour"
           }
          ],
          "contourcarpet": [
           {
            "colorbar": {
             "outlinewidth": 0,
             "ticks": ""
            },
            "type": "contourcarpet"
           }
          ],
          "heatmap": [
           {
            "colorbar": {
             "outlinewidth": 0,
             "ticks": ""
            },
            "colorscale": [
             [
              0,
              "#0d0887"
             ],
             [
              0.1111111111111111,
              "#46039f"
             ],
             [
              0.2222222222222222,
              "#7201a8"
             ],
             [
              0.3333333333333333,
              "#9c179e"
             ],
             [
              0.4444444444444444,
              "#bd3786"
             ],
             [
              0.5555555555555556,
              "#d8576b"
             ],
             [
              0.6666666666666666,
              "#ed7953"
             ],
             [
              0.7777777777777778,
              "#fb9f3a"
             ],
             [
              0.8888888888888888,
              "#fdca26"
             ],
             [
              1,
              "#f0f921"
             ]
            ],
            "type": "heatmap"
           }
          ],
          "heatmapgl": [
           {
            "colorbar": {
             "outlinewidth": 0,
             "ticks": ""
            },
            "colorscale": [
             [
              0,
              "#0d0887"
             ],
             [
              0.1111111111111111,
              "#46039f"
             ],
             [
              0.2222222222222222,
              "#7201a8"
             ],
             [
              0.3333333333333333,
              "#9c179e"
             ],
             [
              0.4444444444444444,
              "#bd3786"
             ],
             [
              0.5555555555555556,
              "#d8576b"
             ],
             [
              0.6666666666666666,
              "#ed7953"
             ],
             [
              0.7777777777777778,
              "#fb9f3a"
             ],
             [
              0.8888888888888888,
              "#fdca26"
             ],
             [
              1,
              "#f0f921"
             ]
            ],
            "type": "heatmapgl"
           }
          ],
          "histogram": [
           {
            "marker": {
             "pattern": {
              "fillmode": "overlay",
              "size": 10,
              "solidity": 0.2
             }
            },
            "type": "histogram"
           }
          ],
          "histogram2d": [
           {
            "colorbar": {
             "outlinewidth": 0,
             "ticks": ""
            },
            "colorscale": [
             [
              0,
              "#0d0887"
             ],
             [
              0.1111111111111111,
              "#46039f"
             ],
             [
              0.2222222222222222,
              "#7201a8"
             ],
             [
              0.3333333333333333,
              "#9c179e"
             ],
             [
              0.4444444444444444,
              "#bd3786"
             ],
             [
              0.5555555555555556,
              "#d8576b"
             ],
             [
              0.6666666666666666,
              "#ed7953"
             ],
             [
              0.7777777777777778,
              "#fb9f3a"
             ],
             [
              0.8888888888888888,
              "#fdca26"
             ],
             [
              1,
              "#f0f921"
             ]
            ],
            "type": "histogram2d"
           }
          ],
          "histogram2dcontour": [
           {
            "colorbar": {
             "outlinewidth": 0,
             "ticks": ""
            },
            "colorscale": [
             [
              0,
              "#0d0887"
             ],
             [
              0.1111111111111111,
              "#46039f"
             ],
             [
              0.2222222222222222,
              "#7201a8"
             ],
             [
              0.3333333333333333,
              "#9c179e"
             ],
             [
              0.4444444444444444,
              "#bd3786"
             ],
             [
              0.5555555555555556,
              "#d8576b"
             ],
             [
              0.6666666666666666,
              "#ed7953"
             ],
             [
              0.7777777777777778,
              "#fb9f3a"
             ],
             [
              0.8888888888888888,
              "#fdca26"
             ],
             [
              1,
              "#f0f921"
             ]
            ],
            "type": "histogram2dcontour"
           }
          ],
          "mesh3d": [
           {
            "colorbar": {
             "outlinewidth": 0,
             "ticks": ""
            },
            "type": "mesh3d"
           }
          ],
          "parcoords": [
           {
            "line": {
             "colorbar": {
              "outlinewidth": 0,
              "ticks": ""
             }
            },
            "type": "parcoords"
           }
          ],
          "pie": [
           {
            "automargin": true,
            "type": "pie"
           }
          ],
          "scatter": [
           {
            "fillpattern": {
             "fillmode": "overlay",
             "size": 10,
             "solidity": 0.2
            },
            "type": "scatter"
           }
          ],
          "scatter3d": [
           {
            "line": {
             "colorbar": {
              "outlinewidth": 0,
              "ticks": ""
             }
            },
            "marker": {
             "colorbar": {
              "outlinewidth": 0,
              "ticks": ""
             }
            },
            "type": "scatter3d"
           }
          ],
          "scattercarpet": [
           {
            "marker": {
             "colorbar": {
              "outlinewidth": 0,
              "ticks": ""
             }
            },
            "type": "scattercarpet"
           }
          ],
          "scattergeo": [
           {
            "marker": {
             "colorbar": {
              "outlinewidth": 0,
              "ticks": ""
             }
            },
            "type": "scattergeo"
           }
          ],
          "scattergl": [
           {
            "marker": {
             "colorbar": {
              "outlinewidth": 0,
              "ticks": ""
             }
            },
            "type": "scattergl"
           }
          ],
          "scattermapbox": [
           {
            "marker": {
             "colorbar": {
              "outlinewidth": 0,
              "ticks": ""
             }
            },
            "type": "scattermapbox"
           }
          ],
          "scatterpolar": [
           {
            "marker": {
             "colorbar": {
              "outlinewidth": 0,
              "ticks": ""
             }
            },
            "type": "scatterpolar"
           }
          ],
          "scatterpolargl": [
           {
            "marker": {
             "colorbar": {
              "outlinewidth": 0,
              "ticks": ""
             }
            },
            "type": "scatterpolargl"
           }
          ],
          "scatterternary": [
           {
            "marker": {
             "colorbar": {
              "outlinewidth": 0,
              "ticks": ""
             }
            },
            "type": "scatterternary"
           }
          ],
          "surface": [
           {
            "colorbar": {
             "outlinewidth": 0,
             "ticks": ""
            },
            "colorscale": [
             [
              0,
              "#0d0887"
             ],
             [
              0.1111111111111111,
              "#46039f"
             ],
             [
              0.2222222222222222,
              "#7201a8"
             ],
             [
              0.3333333333333333,
              "#9c179e"
             ],
             [
              0.4444444444444444,
              "#bd3786"
             ],
             [
              0.5555555555555556,
              "#d8576b"
             ],
             [
              0.6666666666666666,
              "#ed7953"
             ],
             [
              0.7777777777777778,
              "#fb9f3a"
             ],
             [
              0.8888888888888888,
              "#fdca26"
             ],
             [
              1,
              "#f0f921"
             ]
            ],
            "type": "surface"
           }
          ],
          "table": [
           {
            "cells": {
             "fill": {
              "color": "#EBF0F8"
             },
             "line": {
              "color": "white"
             }
            },
            "header": {
             "fill": {
              "color": "#C8D4E3"
             },
             "line": {
              "color": "white"
             }
            },
            "type": "table"
           }
          ]
         },
         "layout": {
          "annotationdefaults": {
           "arrowcolor": "#2a3f5f",
           "arrowhead": 0,
           "arrowwidth": 1
          },
          "autotypenumbers": "strict",
          "coloraxis": {
           "colorbar": {
            "outlinewidth": 0,
            "ticks": ""
           }
          },
          "colorscale": {
           "diverging": [
            [
             0,
             "#8e0152"
            ],
            [
             0.1,
             "#c51b7d"
            ],
            [
             0.2,
             "#de77ae"
            ],
            [
             0.3,
             "#f1b6da"
            ],
            [
             0.4,
             "#fde0ef"
            ],
            [
             0.5,
             "#f7f7f7"
            ],
            [
             0.6,
             "#e6f5d0"
            ],
            [
             0.7,
             "#b8e186"
            ],
            [
             0.8,
             "#7fbc41"
            ],
            [
             0.9,
             "#4d9221"
            ],
            [
             1,
             "#276419"
            ]
           ],
           "sequential": [
            [
             0,
             "#0d0887"
            ],
            [
             0.1111111111111111,
             "#46039f"
            ],
            [
             0.2222222222222222,
             "#7201a8"
            ],
            [
             0.3333333333333333,
             "#9c179e"
            ],
            [
             0.4444444444444444,
             "#bd3786"
            ],
            [
             0.5555555555555556,
             "#d8576b"
            ],
            [
             0.6666666666666666,
             "#ed7953"
            ],
            [
             0.7777777777777778,
             "#fb9f3a"
            ],
            [
             0.8888888888888888,
             "#fdca26"
            ],
            [
             1,
             "#f0f921"
            ]
           ],
           "sequentialminus": [
            [
             0,
             "#0d0887"
            ],
            [
             0.1111111111111111,
             "#46039f"
            ],
            [
             0.2222222222222222,
             "#7201a8"
            ],
            [
             0.3333333333333333,
             "#9c179e"
            ],
            [
             0.4444444444444444,
             "#bd3786"
            ],
            [
             0.5555555555555556,
             "#d8576b"
            ],
            [
             0.6666666666666666,
             "#ed7953"
            ],
            [
             0.7777777777777778,
             "#fb9f3a"
            ],
            [
             0.8888888888888888,
             "#fdca26"
            ],
            [
             1,
             "#f0f921"
            ]
           ]
          },
          "colorway": [
           "#636efa",
           "#EF553B",
           "#00cc96",
           "#ab63fa",
           "#FFA15A",
           "#19d3f3",
           "#FF6692",
           "#B6E880",
           "#FF97FF",
           "#FECB52"
          ],
          "font": {
           "color": "#2a3f5f"
          },
          "geo": {
           "bgcolor": "white",
           "lakecolor": "white",
           "landcolor": "#E5ECF6",
           "showlakes": true,
           "showland": true,
           "subunitcolor": "white"
          },
          "hoverlabel": {
           "align": "left"
          },
          "hovermode": "closest",
          "mapbox": {
           "style": "light"
          },
          "paper_bgcolor": "white",
          "plot_bgcolor": "#E5ECF6",
          "polar": {
           "angularaxis": {
            "gridcolor": "white",
            "linecolor": "white",
            "ticks": ""
           },
           "bgcolor": "#E5ECF6",
           "radialaxis": {
            "gridcolor": "white",
            "linecolor": "white",
            "ticks": ""
           }
          },
          "scene": {
           "xaxis": {
            "backgroundcolor": "#E5ECF6",
            "gridcolor": "white",
            "gridwidth": 2,
            "linecolor": "white",
            "showbackground": true,
            "ticks": "",
            "zerolinecolor": "white"
           },
           "yaxis": {
            "backgroundcolor": "#E5ECF6",
            "gridcolor": "white",
            "gridwidth": 2,
            "linecolor": "white",
            "showbackground": true,
            "ticks": "",
            "zerolinecolor": "white"
           },
           "zaxis": {
            "backgroundcolor": "#E5ECF6",
            "gridcolor": "white",
            "gridwidth": 2,
            "linecolor": "white",
            "showbackground": true,
            "ticks": "",
            "zerolinecolor": "white"
           }
          },
          "shapedefaults": {
           "line": {
            "color": "#2a3f5f"
           }
          },
          "ternary": {
           "aaxis": {
            "gridcolor": "white",
            "linecolor": "white",
            "ticks": ""
           },
           "baxis": {
            "gridcolor": "white",
            "linecolor": "white",
            "ticks": ""
           },
           "bgcolor": "#E5ECF6",
           "caxis": {
            "gridcolor": "white",
            "linecolor": "white",
            "ticks": ""
           }
          },
          "title": {
           "x": 0.05
          },
          "xaxis": {
           "automargin": true,
           "gridcolor": "white",
           "linecolor": "white",
           "ticks": "",
           "title": {
            "standoff": 15
           },
           "zerolinecolor": "white",
           "zerolinewidth": 2
          },
          "yaxis": {
           "automargin": true,
           "gridcolor": "white",
           "linecolor": "white",
           "ticks": "",
           "title": {
            "standoff": 15
           },
           "zerolinecolor": "white",
           "zerolinewidth": 2
          }
         }
        },
        "title": {
         "text": "Sankey Diagram"
        }
       }
      },
      "image/png": "[encoded data removed]",
      "text/html": [
       "<div>                            <div id=\"a965e866-c92e-40cf-ae41-bc0df3289710\" class=\"plotly-graph-div\" style=\"height:525px; width:100%;\"></div>            <script type=\"text/javascript\">                require([\"plotly\"], function(Plotly) {                    window.PLOTLYENV=window.PLOTLYENV || {};                                    if (document.getElementById(\"a965e866-c92e-40cf-ae41-bc0df3289710\")) {                    Plotly.newPlot(                        \"a965e866-c92e-40cf-ae41-bc0df3289710\",                        [{\"link\":{\"source\":[0,0,1,1,2,2,3,3,4,4,5,5,5,5,5,6,6,6,6,6],\"target\":[5,6,5,6,5,6,5,6,5,6,7,8,9,10,11,7,8,9,10,11],\"value\":[4015718.1,12342417.5,13206995.2,39311590.6,27794901.85,80291457.54,27142873.330000002,75434600.1,5444565.4,16521398.5,12873974.4,2482423.2,57785592.18,2770573.3,1692490.8,37548449.2,6740321.6,158206931.14,14696612.5,6709149.8]},\"node\":{\"color\":\"blue\",\"label\":[\"Africa\",\"America\",\"Asia\",\"Europe\",\"Oceania\",\"Offline\",\"Online\",\"Beauty & Health\",\"Clothes\",\"Foods\",\"Home\",\"Office\"],\"thickness\":20},\"type\":\"sankey\"}],                        {\"font\":{\"size\":20},\"title\":{\"text\":\"Sankey Diagram\"},\"template\":{\"data\":{\"histogram2dcontour\":[{\"type\":\"histogram2dcontour\",\"colorbar\":{\"outlinewidth\":0,\"ticks\":\"\"},\"colorscale\":[[0.0,\"#0d0887\"],[0.1111111111111111,\"#46039f\"],[0.2222222222222222,\"#7201a8\"],[0.3333333333333333,\"#9c179e\"],[0.4444444444444444,\"#bd3786\"],[0.5555555555555556,\"#d8576b\"],[0.6666666666666666,\"#ed7953\"],[0.7777777777777778,\"#fb9f3a\"],[0.8888888888888888,\"#fdca26\"],[1.0,\"#f0f921\"]]}],\"choropleth\":[{\"type\":\"choropleth\",\"colorbar\":{\"outlinewidth\":0,\"ticks\":\"\"}}],\"histogram2d\":[{\"type\":\"histogram2d\",\"colorbar\":{\"outlinewidth\":0,\"ticks\":\"\"},\"colorscale\":[[0.0,\"#0d0887\"],[0.1111111111111111,\"#46039f\"],[0.2222222222222222,\"#7201a8\"],[0.3333333333333333,\"#9c179e\"],[0.4444444444444444,\"#bd3786\"],[0.5555555555555556,\"#d8576b\"],[0.6666666666666666,\"#ed7953\"],[0.7777777777777778,\"#fb9f3a\"],[0.8888888888888888,\"#fdca26\"],[1.0,\"#f0f921\"]]}],\"heatmap\":[{\"type\":\"heatmap\",\"colorbar\":{\"outlinewidth\":0,\"ticks\":\"\"},\"colorscale\":[[0.0,\"#0d0887\"],[0.1111111111111111,\"#46039f\"],[0.2222222222222222,\"#7201a8\"],[0.3333333333333333,\"#9c179e\"],[0.4444444444444444,\"#bd3786\"],[0.5555555555555556,\"#d8576b\"],[0.6666666666666666,\"#ed7953\"],[0.7777777777777778,\"#fb9f3a\"],[0.8888888888888888,\"#fdca26\"],[1.0,\"#f0f921\"]]}],\"heatmapgl\":[{\"type\":\"heatmapgl\",\"colorbar\":{\"outlinewidth\":0,\"ticks\":\"\"},\"colorscale\":[[0.0,\"#0d0887\"],[0.1111111111111111,\"#46039f\"],[0.2222222222222222,\"#7201a8\"],[0.3333333333333333,\"#9c179e\"],[0.4444444444444444,\"#bd3786\"],[0.5555555555555556,\"#d8576b\"],[0.6666666666666666,\"#ed7953\"],[0.7777777777777778,\"#fb9f3a\"],[0.8888888888888888,\"#fdca26\"],[1.0,\"#f0f921\"]]}],\"contourcarpet\":[{\"type\":\"contourcarpet\",\"colorbar\":{\"outlinewidth\":0,\"ticks\":\"\"}}],\"contour\":[{\"type\":\"contour\",\"colorbar\":{\"outlinewidth\":0,\"ticks\":\"\"},\"colorscale\":[[0.0,\"#0d0887\"],[0.1111111111111111,\"#46039f\"],[0.2222222222222222,\"#7201a8\"],[0.3333333333333333,\"#9c179e\"],[0.4444444444444444,\"#bd3786\"],[0.5555555555555556,\"#d8576b\"],[0.6666666666666666,\"#ed7953\"],[0.7777777777777778,\"#fb9f3a\"],[0.8888888888888888,\"#fdca26\"],[1.0,\"#f0f921\"]]}],\"surface\":[{\"type\":\"surface\",\"colorbar\":{\"outlinewidth\":0,\"ticks\":\"\"},\"colorscale\":[[0.0,\"#0d0887\"],[0.1111111111111111,\"#46039f\"],[0.2222222222222222,\"#7201a8\"],[0.3333333333333333,\"#9c179e\"],[0.4444444444444444,\"#bd3786\"],[0.5555555555555556,\"#d8576b\"],[0.6666666666666666,\"#ed7953\"],[0.7777777777777778,\"#fb9f3a\"],[0.8888888888888888,\"#fdca26\"],[1.0,\"#f0f921\"]]}],\"mesh3d\":[{\"type\":\"mesh3d\",\"colorbar\":{\"outlinewidth\":0,\"ticks\":\"\"}}],\"scatter\":[{\"fillpattern\":{\"fillmode\":\"overlay\",\"size\":10,\"solidity\":0.2},\"type\":\"scatter\"}],\"parcoords\":[{\"type\":\"parcoords\",\"line\":{\"colorbar\":{\"outlinewidth\":0,\"ticks\":\"\"}}}],\"scatterpolargl\":[{\"type\":\"scatterpolargl\",\"marker\":{\"colorbar\":{\"outlinewidth\":0,\"ticks\":\"\"}}}],\"bar\":[{\"error_x\":{\"color\":\"#2a3f5f\"},\"error_y\":{\"color\":\"#2a3f5f\"},\"marker\":{\"line\":{\"color\":\"#E5ECF6\",\"width\":0.5},\"pattern\":{\"fillmode\":\"overlay\",\"size\":10,\"solidity\":0.2}},\"type\":\"bar\"}],\"scattergeo\":[{\"type\":\"scattergeo\",\"marker\":{\"colorbar\":{\"outlinewidth\":0,\"ticks\":\"\"}}}],\"scatterpolar\":[{\"type\":\"scatterpolar\",\"marker\":{\"colorbar\":{\"outlinewidth\":0,\"ticks\":\"\"}}}],\"histogram\":[{\"marker\":{\"pattern\":{\"fillmode\":\"overlay\",\"size\":10,\"solidity\":0.2}},\"type\":\"histogram\"}],\"scattergl\":[{\"type\":\"scattergl\",\"marker\":{\"colorbar\":{\"outlinewidth\":0,\"ticks\":\"\"}}}],\"scatter3d\":[{\"type\":\"scatter3d\",\"line\":{\"colorbar\":{\"outlinewidth\":0,\"ticks\":\"\"}},\"marker\":{\"colorbar\":{\"outlinewidth\":0,\"ticks\":\"\"}}}],\"scattermapbox\":[{\"type\":\"scattermapbox\",\"marker\":{\"colorbar\":{\"outlinewidth\":0,\"ticks\":\"\"}}}],\"scatterternary\":[{\"type\":\"scatterternary\",\"marker\":{\"colorbar\":{\"outlinewidth\":0,\"ticks\":\"\"}}}],\"scattercarpet\":[{\"type\":\"scattercarpet\",\"marker\":{\"colorbar\":{\"outlinewidth\":0,\"ticks\":\"\"}}}],\"carpet\":[{\"aaxis\":{\"endlinecolor\":\"#2a3f5f\",\"gridcolor\":\"white\",\"linecolor\":\"white\",\"minorgridcolor\":\"white\",\"startlinecolor\":\"#2a3f5f\"},\"baxis\":{\"endlinecolor\":\"#2a3f5f\",\"gridcolor\":\"white\",\"linecolor\":\"white\",\"minorgridcolor\":\"white\",\"startlinecolor\":\"#2a3f5f\"},\"type\":\"carpet\"}],\"table\":[{\"cells\":{\"fill\":{\"color\":\"#EBF0F8\"},\"line\":{\"color\":\"white\"}},\"header\":{\"fill\":{\"color\":\"#C8D4E3\"},\"line\":{\"color\":\"white\"}},\"type\":\"table\"}],\"barpolar\":[{\"marker\":{\"line\":{\"color\":\"#E5ECF6\",\"width\":0.5},\"pattern\":{\"fillmode\":\"overlay\",\"size\":10,\"solidity\":0.2}},\"type\":\"barpolar\"}],\"pie\":[{\"automargin\":true,\"type\":\"pie\"}]},\"layout\":{\"autotypenumbers\":\"strict\",\"colorway\":[\"#636efa\",\"#EF553B\",\"#00cc96\",\"#ab63fa\",\"#FFA15A\",\"#19d3f3\",\"#FF6692\",\"#B6E880\",\"#FF97FF\",\"#FECB52\"],\"font\":{\"color\":\"#2a3f5f\"},\"hovermode\":\"closest\",\"hoverlabel\":{\"align\":\"left\"},\"paper_bgcolor\":\"white\",\"plot_bgcolor\":\"#E5ECF6\",\"polar\":{\"bgcolor\":\"#E5ECF6\",\"angularaxis\":{\"gridcolor\":\"white\",\"linecolor\":\"white\",\"ticks\":\"\"},\"radialaxis\":{\"gridcolor\":\"white\",\"linecolor\":\"white\",\"ticks\":\"\"}},\"ternary\":{\"bgcolor\":\"#E5ECF6\",\"aaxis\":{\"gridcolor\":\"white\",\"linecolor\":\"white\",\"ticks\":\"\"},\"baxis\":{\"gridcolor\":\"white\",\"linecolor\":\"white\",\"ticks\":\"\"},\"caxis\":{\"gridcolor\":\"white\",\"linecolor\":\"white\",\"ticks\":\"\"}},\"coloraxis\":{\"colorbar\":{\"outlinewidth\":0,\"ticks\":\"\"}},\"colorscale\":{\"sequential\":[[0.0,\"#0d0887\"],[0.1111111111111111,\"#46039f\"],[0.2222222222222222,\"#7201a8\"],[0.3333333333333333,\"#9c179e\"],[0.4444444444444444,\"#bd3786\"],[0.5555555555555556,\"#d8576b\"],[0.6666666666666666,\"#ed7953\"],[0.7777777777777778,\"#fb9f3a\"],[0.8888888888888888,\"#fdca26\"],[1.0,\"#f0f921\"]],\"sequentialminus\":[[0.0,\"#0d0887\"],[0.1111111111111111,\"#46039f\"],[0.2222222222222222,\"#7201a8\"],[0.3333333333333333,\"#9c179e\"],[0.4444444444444444,\"#bd3786\"],[0.5555555555555556,\"#d8576b\"],[0.6666666666666666,\"#ed7953\"],[0.7777777777777778,\"#fb9f3a\"],[0.8888888888888888,\"#fdca26\"],[1.0,\"#f0f921\"]],\"diverging\":[[0,\"#8e0152\"],[0.1,\"#c51b7d\"],[0.2,\"#de77ae\"],[0.3,\"#f1b6da\"],[0.4,\"#fde0ef\"],[0.5,\"#f7f7f7\"],[0.6,\"#e6f5d0\"],[0.7,\"#b8e186\"],[0.8,\"#7fbc41\"],[0.9,\"#4d9221\"],[1,\"#276419\"]]},\"xaxis\":{\"gridcolor\":\"white\",\"linecolor\":\"white\",\"ticks\":\"\",\"title\":{\"standoff\":15},\"zerolinecolor\":\"white\",\"automargin\":true,\"zerolinewidth\":2},\"yaxis\":{\"gridcolor\":\"white\",\"linecolor\":\"white\",\"ticks\":\"\",\"title\":{\"standoff\":15},\"zerolinecolor\":\"white\",\"automargin\":true,\"zerolinewidth\":2},\"scene\":{\"xaxis\":{\"backgroundcolor\":\"#E5ECF6\",\"gridcolor\":\"white\",\"linecolor\":\"white\",\"showbackground\":true,\"ticks\":\"\",\"zerolinecolor\":\"white\",\"gridwidth\":2},\"yaxis\":{\"backgroundcolor\":\"#E5ECF6\",\"gridcolor\":\"white\",\"linecolor\":\"white\",\"showbackground\":true,\"ticks\":\"\",\"zerolinecolor\":\"white\",\"gridwidth\":2},\"zaxis\":{\"backgroundcolor\":\"#E5ECF6\",\"gridcolor\":\"white\",\"linecolor\":\"white\",\"showbackground\":true,\"ticks\":\"\",\"zerolinecolor\":\"white\",\"gridwidth\":2}},\"shapedefaults\":{\"line\":{\"color\":\"#2a3f5f\"}},\"annotationdefaults\":{\"arrowcolor\":\"#2a3f5f\",\"arrowhead\":0,\"arrowwidth\":1},\"geo\":{\"bgcolor\":\"white\",\"landcolor\":\"#E5ECF6\",\"subunitcolor\":\"white\",\"showland\":true,\"showlakes\":true,\"lakecolor\":\"white\"},\"title\":{\"x\":0.05},\"mapbox\":{\"style\":\"light\"}}}},                        {\"responsive\": true}                    ).then(function(){\n",
       "                            \n",
       "var gd = document.getElementById('a965e866-c92e-40cf-ae41-bc0df3289710');\n",
       "var x = new MutationObserver(function (mutations, observer) {{\n",
       "        var display = window.getComputedStyle(gd).display;\n",
       "        if (!display || display === 'none') {{\n",
       "            console.log([gd, 'removed!']);\n",
       "            Plotly.purge(gd);\n",
       "            observer.disconnect();\n",
       "        }}\n",
       "}});\n",
       "\n",
       "// Listen for the removal of the full notebook cells\n",
       "var notebookContainer = gd.closest('#notebook-container');\n",
       "if (notebookContainer) {{\n",
       "    x.observe(notebookContainer, {childList: true});\n",
       "}}\n",
       "\n",
       "// Listen for the clearing of the current output cell\n",
       "var outputEl = gd.closest('.output');\n",
       "if (outputEl) {{\n",
       "    x.observe(outputEl, {childList: true});\n",
       "}}\n",
       "\n",
       "                        })                };                });            </script>        </div>"
      ]
     },
     "metadata": {},
     "output_type": "display_data"
    }
   ],
   "source": [
    "# 생키 다이어그램 차트 그리기\n",
    "\n",
    "A = go.Sankey(node = dict(label = labels, color = \"blue\", thickness = 20),\n",
    "              link = dict(source = source,\n",
    "                          target = target, \n",
    "                          value = values))\n",
    "\n",
    "data = [A]\n",
    "layout = go.Layout(title = 'Sankey Diagram', font_size = 20)\n",
    "fig = go.Figure(data, layout)\n",
    "fig.show()"
   ]
  },
  {
   "cell_type": "code",
   "execution_count": 110,
   "id": "6f9d27d4-ae00-4c73-8870-24e1b7a62bb1",
   "metadata": {},
   "outputs": [
    {
     "data": {
      "application/vnd.plotly.v1+json": {
       "config": {
        "plotlyServerURL": "https://plot.ly"
       },
       "data": [
        {
         "name": "Asia",
         "type": "box",
         "y": [
          35576.6,
          37321.3,
          30023.2,
          30671.8,
          39459.7,
          39509.3,
          30122.9,
          32627.8,
          31313.3,
          38032.7,
          38113.9,
          31316.7,
          30245.6,
          36673.2,
          30163.2,
          33292.7,
          30850.2,
          39355,
          38432.1,
          36841.4,
          38228.3,
          30538.6,
          31616,
          39074.4,
          39664.3,
          39436,
          31663.5,
          30378.8,
          30592,
          37465.1,
          39951.9,
          30751.6,
          30448,
          31203.6,
          39144.1,
          36617.1,
          39467.2,
          38049,
          30759.1,
          37576.2,
          38105.8,
          30492,
          30795.8,
          27352.2,
          31293,
          38554.1,
          31385,
          39778.3,
          30241.5,
          32435.1,
          31661.9,
          39781.4,
          34705.1,
          32651,
          31337,
          31298.1,
          37594,
          39782.7,
          36254.3,
          32173.2,
          34682.4,
          39725.9,
          31807.3,
          30838.6,
          38637.4,
          39661.5,
          36237.2,
          32388.5,
          31926.4,
          38381.1,
          37134.3,
          31254.4,
          31480.2,
          39151.7,
          39634.7,
          31280.4,
          31619.7,
          30218.7,
          38813.1,
          37413.7,
          36918.4,
          39217.9,
          39754.2,
          39375.2,
          39843.3,
          31668.6,
          30402.9,
          31070.5,
          39469.9,
          39090,
          30299.8,
          37897.4,
          30680.9,
          35958.4,
          35630,
          31656.4,
          30304.7,
          36499.4,
          35237.5,
          30188.8,
          31724.5,
          38582.1,
          30548,
          33651.3,
          36996.9,
          30594.4,
          34254.3,
          37455.7,
          38037.7,
          30322.6,
          38243.9,
          36904.8,
          38144.9,
          38473.5,
          31585,
          30214.2,
          30837.5,
          35972,
          30361,
          31370.2,
          30855.5,
          36346.9,
          39516,
          31281.4,
          39993.6,
          39687,
          38310.3,
          36694.3,
          39715.9,
          30091,
          36695.8,
          39090.5,
          30730.9,
          36860.2,
          39083.1,
          38404.7,
          38794.1,
          31486.6,
          39170.2,
          39144.5,
          35577.3,
          39284.2,
          30586,
          33285.3,
          30879.2,
          39191.3,
          38784.2,
          34141.9,
          33698.4,
          30274.2,
          37827.6,
          30752.7,
          36619.4,
          39583.6,
          37428.7,
          30456.2,
          30005.3,
          38500,
          36576,
          30387,
          31642,
          33304.4,
          30590.6,
          31095.5,
          30732.3,
          38395.8,
          38806.7,
          30596.3,
          37170.9,
          37616.2,
          31236.8,
          30482.5,
          38310.1,
          38957.8,
          37399.7,
          31446.5,
          37243.2,
          30331.1,
          38209.9,
          32086.4,
          38149.8,
          37166.5,
          38009.2,
          35396.1,
          37273.8,
          30506,
          39727.7,
          30049.7,
          30463,
          37287.5,
          33905,
          39921.2,
          38300.7,
          38082.1,
          37960.7,
          31427.8,
          30169.1,
          37807.7,
          39983.4,
          30182,
          39184.9,
          30306.3,
          31112.1,
          32016.5,
          36518.1,
          31593.6,
          30378.7,
          34647.2,
          35427.3,
          34814.2,
          30295.8,
          39997.6,
          30923.6,
          36452.4,
          30381.9,
          30506.3,
          37537.9,
          39186.4,
          39725.6,
          39924.2,
          39930.5,
          32317.2,
          39375.4,
          33767.7,
          38435.5,
          37908.2,
          38190.2,
          30003.9,
          39382.4,
          35075.2,
          36820.9,
          38542,
          39211.4,
          31220.2,
          31228.8,
          30175.4,
          30596.2,
          30259.8,
          30006.2,
          31337,
          37172.5,
          36107.4,
          38884.6,
          30772,
          37973.2,
          38113.2,
          38363.5,
          30407.4,
          30893.9,
          35060.4,
          30186.5,
          36900.4,
          39492.7,
          31961.7,
          39683.1,
          30018.1,
          37809.1,
          30624.4,
          36512.9,
          30203.2,
          39847.1,
          29724.1,
          30693.9,
          37078,
          38762.4,
          35118.8,
          35399.8,
          39996.7,
          39061.5,
          39881.4,
          31142.4,
          30236.3,
          37541.3,
          37216.1,
          39570.3,
          35135.7,
          30963.5,
          30662.7,
          39616.4,
          31342.1,
          30383,
          31092.7,
          39792.4,
          38923.5,
          39644.3,
          39619.7,
          34023.8,
          37406.6,
          30343.8,
          39409.4,
          39525.6,
          32787.5,
          31202.4,
          30038.7,
          31802.5,
          34279.7,
          39148.4,
          34976.1,
          31709.6,
          38768.7,
          30661.5,
          35965.2,
          39414.8,
          31668.3,
          30834.5,
          39166.7,
          31673.1,
          30488.3,
          36648.8,
          37329.7,
          39123.3,
          30740.6,
          39710,
          39966.5,
          37175.6,
          39137.8,
          31557.1,
          39383.8,
          30687.5,
          31512.3,
          30559.6,
          31093.5,
          31308.6,
          30930.6,
          32292.6,
          34091.6,
          39874.5,
          37181.6,
          30798.3,
          30731.7,
          31163.2,
          30204.9,
          31476.8,
          26527,
          38261.8,
          30595.4,
          38077.6,
          38057.6,
          30866.7,
          34865.1,
          31612.5,
          35313.8,
          39080.7,
          38202,
          37059.9,
          38009.1,
          38600.7,
          39734.3,
          39201.6,
          32086.3,
          38551,
          38869.7,
          38616.3,
          35708.8,
          39499.7,
          34027.4,
          38966,
          31031,
          38808.6,
          35591.5,
          30460.8,
          35762.8,
          31417.2,
          36690.5,
          38742,
          39176.2,
          30992.2,
          30123.2,
          35907.1,
          30857.1,
          34271.4,
          39052.2,
          39915.4,
          34414.7,
          32077.4,
          35956.7,
          38195,
          36515.4,
          39668.8,
          31741.1,
          39180.7,
          39030.2,
          31542.2,
          38706.5,
          34354.3,
          39876,
          35639.5,
          38363.9,
          36869.8,
          39660.3,
          39266.3,
          38780.4,
          30799,
          35667.4,
          31490.2,
          30230.7,
          30069.3,
          39941.7,
          37978.6,
          30050.8,
          38746.9,
          36126.1,
          37921.8,
          30351.5,
          32540.5,
          37706.5,
          38757.3,
          31326.4,
          39773.1,
          35262.1,
          37948.8,
          34700,
          39936.2,
          36035.8,
          30541.8,
          37579.8,
          30741.8,
          31122,
          30624.6,
          31318.8,
          31052,
          39577.9,
          39029.1,
          39737,
          31158.3,
          39562.4,
          30795.8,
          35977.9,
          31764.7,
          36835,
          37623.2,
          30184.8,
          30446.4,
          31558.1,
          30147.1,
          39183.4,
          30565.8,
          30203.6,
          38113,
          30151.2,
          38650.3,
          35503.1,
          35664.4,
          30129.9,
          37292,
          30930.4,
          38326.3,
          38522.5,
          30318.1,
          30579.9,
          30061.2,
          32133.4,
          35935.7,
          39730.6,
          30748.1,
          35756.7,
          35839.3,
          33371.9,
          30531.3,
          36213.4,
          36075.1,
          30855.5,
          38548.1,
          39654.9,
          36207.3,
          35520.8,
          39785.1,
          30217.7,
          32039.5,
          30456,
          31055.2,
          38933.9,
          30228.5,
          30968.7,
          30545,
          35378.9,
          31019.6,
          39208.7,
          30648.9,
          31420.6,
          31839.4,
          30436.5,
          30596.3,
          30965.5,
          31958.4,
          38661,
          39951.9,
          37576.8,
          38057.1,
          36796.2,
          30876.5,
          30330.3,
          31425.7,
          29821.7,
          35167.5,
          31070.8,
          31182.5,
          30251.3,
          38904,
          39304.8,
          32426.5,
          39515,
          30482.7,
          38144.5,
          39362.5,
          37895.2,
          34454.7,
          37987,
          38717.3,
          36066.5,
          30449.9,
          38971.3,
          39282.5,
          30048.8,
          37834,
          38371.1,
          30757,
          39001.3,
          39127.6,
          39149,
          39941.9,
          31162.3,
          37261.9,
          30389.2,
          31147.8,
          38247.8,
          37067.2,
          30666.7,
          39220.4,
          35957.4,
          39900.9,
          38279,
          31228.8,
          30020.4,
          39460,
          37552.8,
          38029.4,
          38326.3,
          31569.2,
          30793.6,
          38708.7,
          37117,
          39334.2,
          37042.4,
          30204.5,
          30629.9,
          39055.6,
          37401.7,
          31100,
          38851.4,
          38776.8,
          36973,
          39934.5,
          30647.8,
          37839.3,
          37897,
          38558.1,
          39242.3,
          39077.7,
          38812.7,
          38421.7,
          36940.8,
          39078,
          30641.6,
          34980.2,
          37700.1,
          31056.3,
          38104.8,
          39330.8,
          37753.8,
          33495.5,
          30682.7,
          37177.6,
          38544.7,
          32709.3,
          31802.5,
          38243.9,
          35511.9,
          39909,
          39180.3,
          36448.1,
          36339,
          34561.6,
          38768.1,
          37932.6,
          39388.7,
          35925.4,
          36924.3,
          38444.5,
          34582.6,
          30241.8,
          37442.5,
          34123.1,
          39958.7,
          38364.2,
          33731.7,
          38513.6,
          38426.2,
          35193.7,
          36519.1,
          39978.6,
          38311.4,
          30104.7,
          30297.6,
          39290.6,
          38018.2,
          31435.1,
          38742.5,
          30017.8,
          30376.7,
          37698,
          39412.3,
          30795.8,
          38520.8,
          31324.9,
          39013.4,
          37049.8,
          38912.2,
          31610.8,
          35869.6,
          38869.3,
          39624.1,
          34175,
          39852.7,
          34438.4,
          35868,
          38382.2,
          30973.8,
          34543.6,
          30645.7,
          36820.9,
          39147.7,
          38439.8,
          32557.5,
          30817.4,
          39990.3,
          32267.8,
          38658.8,
          30999.2,
          34391.4,
          30381.9,
          31536.4,
          38543.3,
          32630.3,
          38344.2,
          30438.1,
          38568.4,
          37192.2,
          34814.7,
          37276.4,
          30933.8,
          39208.6,
          31599.3,
          37628.2,
          30281.1,
          38131.6,
          31409.1,
          30781,
          30022.7,
          39232.5,
          35259.6,
          39622.8,
          30359.7,
          38310.4,
          39460,
          36606.1,
          30942.1,
          36798.7,
          37862.5,
          37166.3,
          39905,
          36236.7,
          33146.7,
          39526,
          30592.9,
          39550.3,
          37975.7,
          31482.2,
          39397.3,
          31362.4,
          36575.9,
          30856.6,
          37928.5,
          31595.7,
          39150.6,
          32130.6,
          37452.5,
          38559.9,
          39765.9,
          30673.1,
          36126.1,
          38958.3,
          37398.5,
          39699,
          39969.3,
          39108.7,
          36116,
          30342.4,
          38782.8,
          35080.1,
          32120.6,
          39961.3,
          37417.2,
          31629.9,
          32487.4,
          30423.6,
          38974.4,
          31593.6,
          39399.3,
          32530.7,
          36176.3,
          37485.8,
          39227.8,
          36249.7,
          37514.1,
          32042.2,
          37709.2,
          30908.6,
          36122.8,
          37302.2,
          30171.4,
          31526.8,
          30042.1,
          38877.8,
          37600.9,
          35181.4,
          31032.5,
          37176,
          30638.2,
          38911.6,
          37765.7,
          31464.6,
          38559.4,
          37263,
          35430,
          31475.7,
          30019,
          38879.5,
          33003.1,
          38780.6,
          38475.8,
          38016.3,
          38079.1,
          39097.3,
          31968.7,
          36466.3,
          37486.2,
          38127.5,
          31926.4,
          32069.6,
          30447.3,
          33875.1,
          34582.6,
          35940.1,
          30148.8,
          33252,
          36138.7,
          38661.3,
          32098.2,
          38082.3,
          30779.4,
          30554.6,
          31100.5,
          39166.7,
          38799.5,
          39456.5,
          36140.7,
          30696.3,
          32377,
          31036,
          39470.7,
          38656.8,
          39786.7,
          39566.7,
          30586.1,
          39014.2,
          39299.2,
          37967.5,
          39560.1,
          32148.9,
          36833.6,
          34410.5,
          30346.2,
          32069.6,
          38617.2,
          39069.6,
          31547.1,
          31903.2,
          30221.3,
          36741.9,
          36719.6,
          30095.2,
          38388.4,
          30926.5,
          33351,
          30646.4,
          31271.7,
          34739.8,
          39666.5,
          36972.3,
          34612.8,
          38745.3,
          37723.4,
          38672.7,
          37577.9,
          38713,
          30089.7,
          38723.9,
          37283.1,
          38730,
          31988.9,
          31890.1,
          30260.8,
          39073.1,
          39924,
          39584.4,
          39583.2,
          37789.6,
          38251,
          36652.2,
          36320.9,
          30188.8,
          32056.3,
          36175,
          32187.6,
          39802,
          36535.1,
          30597.3,
          30404,
          30264.3,
          38297.5,
          38845.5,
          30575.7,
          30781.4,
          38166.1,
          30782.5,
          30324.5,
          38474.3,
          39650.1,
          38706.6,
          30291.3,
          38806.7,
          30632,
          38887.8,
          38401.9,
          34790.8,
          39480,
          30035.4,
          39618.6,
          30050.9,
          39955.9,
          39600.3,
          37987,
          39557.3,
          30725.2,
          39050.7,
          39879.3,
          30596.3,
          31875,
          31967.9,
          38128,
          38115.2,
          30309.8,
          39412.8,
          39982.2,
          35840.2,
          36697.4,
          39768.8,
          37248.8,
          38544.7,
          30402.3,
          39336.2,
          37949.1,
          38390.1,
          31375.1,
          39643.4,
          31420.6,
          37501.8,
          30039.5,
          30796,
          33680.1,
          30037.1,
          30059.2,
          38543.3,
          39111.2,
          31008.7,
          37000.1,
          37485.6,
          30139,
          29497.8,
          38199,
          35265.6,
          39739.3,
          31905,
          30081.7,
          32197.6,
          30487.9,
          37700,
          37733.8,
          36540.5,
          35082.6,
          39124.1,
          37676.5,
          39362.5,
          31561.5,
          34790.8,
          32032.5,
          36426.8,
          30506.4,
          37491.1,
          39196.2,
          30735.4,
          33356.9,
          39757.8,
          38525.5,
          38358.4,
          32705.4,
          38498.8,
          31162,
          30181.6,
          38363.5,
          31297,
          30259.1,
          30588.3,
          30544.9,
          39666.2,
          39329.5,
          36350.6,
          36914.6,
          31570.7,
          39906.9,
          38566.8,
          36476.1,
          38334.3,
          30607.5,
          36350.6,
          37719.7,
          30122.6,
          30568.4,
          38225.1,
          30597.7,
          38223.9,
          38876.7,
          39732.6,
          30558.4,
          37790.3,
          39560,
          39986,
          30063.2,
          30699.9,
          39003.3,
          30038.9,
          37806.1,
          36780.6,
          31595.5,
          36147.2,
          37721.5,
          38274.1,
          30225.8,
          39014.8,
          39587.5,
          34330.7,
          39720.6,
          35701.9,
          39874.3,
          30460.8,
          37536.3,
          30228.4,
          30761.5,
          33632.7,
          37960.9,
          37733.6,
          31771.8,
          39513.6,
          38040.8,
          35479,
          38622,
          39832.3,
          30997.6,
          38434,
          36433,
          37818.6,
          39737,
          39005.7,
          31196.5,
          31857.5,
          36843.3,
          30247.8,
          31956,
          38710.7,
          31558.3,
          31072.3,
          31453.9,
          31800.7,
          31031,
          30009.1,
          38303.4,
          38890.3,
          39407.7,
          36336,
          39010.7,
          30299.3,
          30010.4,
          38197.3,
          30248.5,
          35318.9,
          39625.3,
          39346.6,
          39281.2,
          33087.2,
          38108.2,
          37815.7,
          31607.6,
          38269.5,
          38525.5,
          38949.3,
          38837.5,
          37316,
          38935.6,
          39321.5,
          35753.5,
          39939.9,
          30042.5,
          30932.2,
          30123.7,
          32416.1,
          38528,
          31026.7,
          38453.4,
          30452.8,
          39847.1,
          35181.2,
          38942.4,
          38771.6,
          38807.3,
          38291.5,
          38378.1,
          30374.6,
          37543.9,
          31599.4,
          39301.8,
          36518.9,
          35742.1,
          38327.1,
          30392.3,
          37573.1,
          36945.5,
          38779.7,
          37207.8,
          39657.7,
          36064.5,
          32050.7,
          37644.6,
          30440.8,
          38935.6,
          30260,
          36171.9,
          38368.8,
          37311.7,
          33072.8,
          30951.2,
          38758.7,
          31310,
          31807,
          31014.2,
          39042.3,
          36992.1,
          30501.6,
          32465.5,
          38091.4,
          31621.6,
          30175.6,
          36623.9,
          38714.1,
          37934.6,
          30074,
          39734.6,
          30218.8,
          39712.3,
          36228.3,
          39812.9,
          36316,
          37381.9,
          39912.5,
          39826.1,
          30097.1,
          31083.1,
          39759.9,
          31217.9,
          39198.6,
          32474.2,
          37283.1,
          38106.6,
          39179.8,
          37479,
          30668,
          30346,
          30087.4,
          39047.7,
          39280.5,
          37933.7,
          35166.4,
          39363.7,
          37037.5,
          30166.2,
          39346.9,
          31864.4,
          37887.3,
          30304.6,
          30894.8,
          30661.9,
          38608.7,
          35300.3,
          39303.4,
          37773,
          30625.2,
          30175.2,
          37181.8,
          39815.3,
          30082.5,
          35872.6,
          36779.2,
          30825.9,
          30739.7,
          30613.8,
          32148,
          36979.5,
          38739.2,
          39968.7,
          37970.1,
          30448.7,
          37444.3,
          31674.7,
          31325.4,
          39215.3,
          30032.6,
          38935.4,
          34577.6,
          38951,
          37611.7,
          31629.9,
          31575.1,
          37698,
          37550.8,
          30893.5,
          38558.6,
          30134.6,
          37777.8,
          30204.5,
          39401.9,
          37585.4,
          30828.7,
          31225.2,
          39672.5,
          31832.5,
          38723.7,
          38067.8,
          37317.3,
          38607.4,
          32629.5,
          39016.2,
          30816.6,
          36609.6,
          37485.4,
          30994.3,
          30178,
          37826.3,
          30647,
          31411.6,
          31215.6,
          30543.1,
          39840.3,
          38312.1,
          30438.1,
          39444.3,
          38902.3,
          37864.3,
          38876.1,
          31166.2,
          38789,
          30353.3,
          31603.2,
          30355.9,
          38396.7,
          36674.1,
          37600.9,
          39533.8,
          36968.5,
          38187.3,
          35556.1,
          30332.3,
          32105.7,
          39533.7,
          39705,
          31501.7,
          36690.4,
          30457,
          39325.7,
          38163.2,
          36646.1,
          39647.9,
          39942.4,
          31626.1,
          37936.1,
          36387,
          37667,
          39875,
          39653.6,
          39285.4,
          38795.8,
          38645.1,
          32148.7,
          38122.8,
          37920.8,
          39569,
          31050.9,
          39959.6,
          37572.8,
          30579.6,
          36427.1,
          39149.9,
          39910.5,
          33888.7,
          37099.6,
          36945.5,
          38691.4,
          30041.8,
          32794.3,
          35839.3,
          39346.9,
          38887.2,
          36938.9,
          39278.9,
          31336.4,
          30720,
          38249.8,
          38242.7,
          38208.1,
          30825.6,
          30361,
          34018.6,
          39332.5,
          30800.3,
          37522,
          34991.5,
          30261.5,
          37514.7,
          30195.7,
          39352.8,
          38880.3,
          34782.3,
          39016.7,
          35667.5,
          30684.2,
          32033.7,
          38299.7,
          31630.9,
          38193.3,
          34182,
          30959.4,
          39103.8,
          39877.2,
          31457.5,
          30072.9,
          36045.5,
          31333.3,
          39772.9,
          38910.5,
          39736.7,
          31775.2,
          38179.1,
          30668.2,
          37376.6,
          39175.3,
          30038.9,
          39513.8,
          35751.7,
          39958.7,
          30544,
          36512,
          33085.7,
          39187.9,
          38937.1,
          37692.9,
          37913.8,
          31512.2,
          38214.2,
          30380.7,
          39520.6,
          38872.3,
          38045.5,
          33884,
          38412.3,
          35315.7,
          39090,
          31796.8,
          32010.6,
          38091.4,
          31472.2,
          30311.1,
          30049.5,
          31217.2,
          37979.1,
          31321.2,
          30592.5,
          31812.9,
          31353.5,
          32730.5,
          38215,
          36256.2,
          38845.5,
          37583.9,
          35563.6,
          32829.7,
          30100.3,
          39980.9,
          31139.9,
          39528.2,
          30340.4,
          39274.1,
          30768.4,
          31629.1,
          30332,
          33309,
          37256.7,
          37450.6,
          37929.1,
          39329.8,
          39527,
          36870.2,
          30418.9,
          34363.8,
          39828.8,
          37165.1,
          38242.9,
          39636.7,
          31304.4,
          30384.5,
          35728.9,
          30294.6,
          30086.4,
          37585.4,
          37512.1,
          37166,
          36768,
          38992,
          38359.2,
          31038.7,
          39890.3,
          36919.3,
          31272,
          30711.8,
          30369.9,
          30172.7,
          31503.1,
          39177.1,
          39321.5,
          37383.8,
          31480.6,
          38232,
          39837.7,
          34878.3,
          37954.4,
          30955.7,
          39185.3,
          30608.8,
          30058.9,
          37936.7,
          35941.4,
          39905,
          30050.1,
          39853.5,
          37219.3,
          39687.7,
          32591.5,
          34032.3,
          39275.5,
          39245.1,
          39868.4,
          30563,
          34134,
          39958.7,
          35413,
          38845.6,
          31069.3,
          38319.9,
          37360.4,
          37812,
          37586,
          39709.3,
          37539,
          39121.2,
          37605.8,
          37486.6,
          38828.2,
          38862.4,
          38860.7,
          33624.5,
          39969.3,
          30130.7,
          30344.6,
          39212,
          30138.3,
          39491.9,
          31205.1,
          30145.3,
          38317.7,
          30924.9,
          31724.1,
          37425.4,
          39729.4,
          32573.1,
          38968.3,
          35637.2,
          30204.5,
          39942.1,
          36454.3,
          31432.2,
          39975.2,
          30681.2,
          33876.3,
          38386.3,
          37300.5,
          36666.7,
          31176.8,
          30004.7,
          30973.4,
          39898.8,
          30336.4,
          38419,
          31503.4,
          39530,
          38199,
          37106.9,
          38477.6,
          30880.3,
          39250.6,
          37722.7,
          30216.8,
          30229,
          39321.5,
          30171.7,
          36906.4,
          36291,
          39511.5,
          38331.4,
          30428.7,
          31935.8,
          30156.4,
          37711.7,
          38858.8,
          34010.1,
          33809.2,
          30111.7,
          39648.1,
          30225.2,
          38851.6,
          30995.2,
          32090.5,
          30318.3,
          37316.2,
          38176.7,
          37236.4,
          32829.7,
          30122.5,
          30429.1,
          38792.3,
          39811.6,
          30460.1,
          35830.7,
          37013.4,
          35570.9,
          39499.5,
          37970.5,
          33228.5,
          35765.8,
          37465.4,
          35738,
          39840.3,
          35251.3,
          32328.2,
          39312,
          30434.2,
          37981.1,
          30437.7,
          39601.2,
          39679.4,
          39264.9,
          30271.3,
          31780,
          38237,
          35996,
          39781.2,
          30460.3,
          39507.6,
          37706.5,
          31115.8,
          31551.8,
          30635.1,
          30943.2,
          38577.8,
          38048.8,
          38180,
          30493.8,
          31201.9,
          30509.7,
          31251.6,
          38174.9,
          38593.6,
          39409.7,
          32063.8,
          32544.8,
          31313.8,
          33664.7,
          38650.6,
          32666.9,
          38944,
          38153.6,
          32021.5,
          31186.4,
          30452,
          30838.3,
          39648.1,
          38341.8,
          30528.4,
          30036.1,
          37943.9,
          37358.3,
          30776.4,
          35059.3,
          38123,
          38080.9,
          38233.7,
          39900.2,
          37833.2,
          36460.9,
          31436.1,
          33985.7,
          30275.7,
          39183.8,
          38651,
          37576.2,
          30592.3,
          37409.3,
          39620.7,
          34953.1,
          37515.8,
          37597.1,
          30355,
          31417.5,
          37489.2,
          38091.6,
          30584.3,
          31838.4,
          30928.4,
          31849.6,
          39957.9,
          39644.2,
          31744.4,
          31221.2,
          37858.4,
          39582.2,
          37537.3,
          37087.8,
          31964.4,
          36460.6,
          31279.4,
          36700.7,
          31584.7,
          33167.6,
          39415.9,
          31622.2,
          29012.7,
          38382.3,
          39838.4,
          38987.5,
          38675.4,
          30272.6,
          38638.2,
          30054.5,
          39202.4,
          35505,
          32828.3,
          36345.6,
          30947.4,
          39014.2,
          31149.2,
          39410.8,
          38607,
          30235.8,
          30543.1,
          39581.9,
          30637.3,
          34026.8,
          39281.6,
          30549,
          30927.5,
          30625.2,
          38027.3,
          38665.4,
          37724,
          35238.4,
          31084.8,
          31405.5,
          38858.8,
          39082,
          30980.5,
          38259.4,
          39731.4,
          37898.2,
          39549.7,
          39989.4,
          33698.4,
          37104.4,
          39166.7,
          33358.6,
          31501.9,
          30123,
          37941.9,
          30415.3,
          30581,
          34913.6,
          39324.1,
          32154.8,
          36723.3,
          38771.4,
          36869.8,
          35947.7,
          30043.9,
          31658.5,
          30854.7,
          38345.6,
          31447.3,
          30709.3,
          36512.6,
          31182.6,
          39355.6,
          31517.7,
          39024.2,
          31408.5,
          30290.3,
          38014.2,
          36087.1,
          35402.9,
          37258.8,
          38726.3,
          37306.2,
          31055.2,
          30498.9,
          30634,
          37317.3,
          31729.9,
          38800.6,
          39787.4,
          35115.4,
          37953.5,
          30677.6,
          31257.7,
          37062.5,
          30964.3,
          39172.2,
          38469.7,
          39329,
          39855.6,
          30825.9,
          38720.3,
          30382.4,
          38341.8,
          39727.7,
          37623.3,
          38927,
          36077.4,
          32551.9,
          38093,
          37628.9,
          36256.9,
          30960.2,
          39217.9,
          30551.5,
          30252.1,
          38745.6,
          30472.4,
          39164,
          31939.3,
          31038,
          37434.4,
          38291.4,
          31072.8,
          35050.5,
          34788,
          30906.8,
          36915.7,
          36049.9,
          31584.7,
          30715.1,
          36339.6,
          37774.4,
          36270.6,
          30997.6,
          38170.6,
          31060.4,
          31461.4,
          30129.9,
          35399.7,
          39228.7,
          37853.6,
          39361.8,
          38677.1,
          38799.7,
          30070.9,
          36920,
          30347,
          39082,
          36699.2,
          30192.7,
          30798.2,
          30180.6,
          36945.9,
          30972.1,
          30550,
          36518.6,
          37792.5,
          31879.3,
          37091.5,
          39955.7,
          39518.6,
          38341,
          39709.3,
          39855.4,
          30706,
          36964.8,
          39258.9,
          38905.4,
          37400.9,
          38635,
          30501,
          30300.1,
          30550.2,
          39546.1,
          38442.9,
          30237.6,
          30550,
          37661.1,
          30327.1,
          32485.1,
          30262.7,
          31032.5,
          30009,
          39831.2,
          39885.1,
          31365.3,
          30388,
          38467.7,
          36538.5,
          38772,
          37436.3,
          39587.5,
          30312.1,
          31408.5,
          38834.3,
          39375.8,
          37146.8,
          30028,
          30671.5,
          30486,
          38511.2,
          38673.2,
          31594,
          31196.5,
          35139.8,
          39652.4,
          39788.7,
          39519.9,
          35857.6,
          37725.5,
          30680.9,
          30448.8,
          38285.5,
          31803.9,
          37804.4,
          30331.9,
          30040.2,
          37940.1,
          38836.1,
          39770.3,
          30091.8,
          38017.6,
          27798.3,
          37963.2,
          36233.3,
          39394.5,
          32703.3,
          39290.2,
          39807.1,
          38651.9,
          31148.9,
          38360.7,
          31179.6,
          35731.4,
          38067.5,
          30390.9,
          30859.9,
          35118.3,
          38442.3,
          37662.6,
          38163.2,
          31882.9,
          31950.7,
          39171.6,
          38348.3,
          39803.9,
          39179.9,
          31129.5,
          37144.6,
          31467,
          30204.9,
          30869.9,
          32488,
          38039.6,
          38872.3,
          39433.3,
          37959.7,
          30560.5,
          31454.1,
          38142,
          30167.8,
          30017.3,
          39208.9,
          35615.4,
          38172.5,
          37381.9,
          32039.3,
          30510.5,
          31585.8,
          37786.7,
          30743.7,
          36606.7,
          30091.8,
          38380.3,
          38558.7,
          30060.8,
          35461.9,
          36832.4,
          33611.2,
          39337.8,
          39064.7,
          39444.3,
          30780.9,
          38405.6,
          39893.5,
          31025.9,
          37777.1,
          39222.8,
          39320.7,
          37872.5,
          30237.3,
          38815,
          31219,
          37042.5,
          35166.4,
          38387.7,
          38352.9,
          31479.9,
          39502.6,
          39921.1,
          35226.7,
          38081,
          31843.1,
          30011.4,
          30570,
          37627.6,
          35127.9,
          39132.2,
          39773,
          39371.8,
          39538.8,
          30771.9,
          34229.2,
          39022.5,
          36998.8,
          36081.6,
          30593.9,
          36402.5,
          30215,
          30961.7,
          30307.9,
          31662,
          31133.1,
          39396.1,
          30812,
          31056,
          38771.6,
          36997.1,
          39772.7,
          39957.6,
          37053.9,
          37829.5,
          39953,
          31932.9,
          38199.6,
          38036,
          30595.9,
          38228.3,
          38425.2,
          30291.9,
          31700.6,
          30416.7,
          30876.5,
          30205.2,
          39325.3,
          30999.9,
          30667.9,
          33725.4,
          36750.3,
          38558.6,
          38684.7,
          36065.2,
          35770.6,
          35461.8,
          37302.2,
          31484.8,
          39427,
          37741.6,
          33884,
          39162.8,
          38806.6,
          36308.7,
          39715.1,
          35478.7,
          38107,
          36228.8,
          30830.7,
          37907.6,
          39651.1,
          37114.6,
          39821.6,
          31513.1,
          39138.5,
          30422.9,
          30587.2,
          30994.9,
          36499.9,
          30860.4,
          37853.6,
          36675.4,
          30972.9,
          30735.6,
          34994.1,
          34693.4,
          39973.9,
          39354.8,
          31182.6,
          32216.8,
          30831.1,
          39041,
          38341,
          37577.8,
          37537.4,
          31132.7,
          32398.7,
          31477.7,
          31060.3,
          37500.7,
          30202.3,
          39246.8,
          31141.3,
          31793.6,
          30191.8,
          31405.6,
          33895.6,
          39224.3,
          30575.1,
          37376.3,
          39681.6,
          38459,
          38774.1,
          30748.6,
          35728.1,
          36852.7,
          38970.8,
          39796.8,
          30896.4,
          38941.2,
          36168.2,
          39328,
          30656,
          39717.7,
          35891.4,
          36122.8,
          39243.5,
          39812.8,
          38164,
          39480.3,
          32495.1,
          38486.1,
          39230.2,
          30862.5,
          36959,
          38391.2,
          37203.5,
          30324.5,
          38848.2,
          30411.3,
          32388,
          31213.7,
          36902.3,
          30450.7,
          39498,
          38783.9,
          36649.9,
          32291.7,
          37973.2,
          39414.8,
          30358.2,
          39703.7,
          35186,
          38001.5,
          30105.8,
          31054.7,
          30609.1,
          35986.1,
          35720.7,
          30306.3,
          31161.8,
          37620.2,
          30813.3,
          30559,
          39427.1,
          39092.5,
          39876.8,
          30646.4,
          36259.7,
          35816.2,
          35723.4,
          30529.1,
          30826.3,
          39635.5,
          31791.7,
          38170.7,
          39920.4,
          31894.6,
          39727.1,
          36487.4,
          30663.2,
          38526.5,
          31074,
          36515.4,
          30443.5,
          39900.8,
          39460.2,
          30891.5,
          35509,
          39037.7,
          30419.3,
          39944,
          38381.1,
          30321.6,
          30286.7,
          35962.4,
          30777.3,
          31079.3,
          32573.1,
          39200.4,
          38778.5,
          38259.5,
          31740.7,
          39781.2,
          37480.1,
          38178.9,
          35305.7,
          39290.2,
          35176.1,
          37273,
          35415.8,
          38507.9,
          37267.4,
          38816,
          37225.5,
          39871.2,
          31014.8,
          31396.2,
          39696.2,
          38129.5,
          37857.7,
          36585.1,
          37754.5,
          39826.1,
          30550.2,
          30558.9,
          39460,
          30686.8,
          30390.7,
          32348,
          38541,
          36487.6,
          31536.5,
          30341,
          38161.7,
          31385.1,
          34366.4,
          30010.5,
          36902.3,
          30855,
          38952.5,
          39841.3,
          39430.4,
          35429.1,
          39305.6,
          38759,
          37891.7,
          30228.6,
          39244.9,
          31006.5,
          38072.5,
          37724,
          35578.7,
          34456.5,
          30624.4,
          30791.3,
          31446.1,
          30485.5,
          39502.4,
          38433.6,
          38876.7,
          30447.4,
          35508.7,
          38959.7,
          39331.6,
          31873.1,
          30660.6,
          37000.1,
          30117.2,
          33664.9,
          39849,
          38641.6,
          31977.8,
          38052,
          39737.3,
          39953.5,
          31588,
          35700.8,
          37075.8,
          30671.9,
          39931.7,
          30657.1,
          31187.9,
          38958.3,
          38116.5,
          30671.4,
          30074.8,
          30967.9,
          37971,
          31207.7,
          31018.7,
          32301,
          30628.8,
          39805.4,
          30470.5,
          39431.3,
          38245.8,
          38275.9,
          30199.3,
          30803.3,
          39186.9,
          32004,
          30177,
          39394.9,
          30461.8,
          31414.1,
          39556.2,
          31102.3,
          31131.2,
          31173.6,
          35455.3,
          39066.7,
          35079.4,
          30108.6,
          36699.4,
          39434.6,
          38378.4,
          38009.9,
          30552.2,
          36684.6,
          39730.9,
          30273.6,
          30313.7,
          38585.7,
          30853.6,
          30405.4,
          30346.4,
          30583.1,
          35620.3,
          37897.4,
          37971.2,
          35925.4,
          30306.3,
          32466.7,
          39603.3,
          34324.5,
          31068.7,
          30097.5,
          39527.5,
          36308.6,
          33040.8,
          31617.2,
          39704.3,
          30842.8,
          31532.9,
          37613.2,
          39818,
          36791.4,
          37516.2,
          32663.2,
          34414.7,
          30817.6,
          37613.2,
          33449.2,
          39300.6,
          37376,
          37941.6,
          36194,
          39717.3,
          30581,
          38676.8,
          31325.2,
          37418.7,
          34586.3,
          31650.3,
          31771.7,
          32032.1,
          32328.4,
          31174.1,
          39853.6,
          30511.4,
          39028.9,
          39692,
          39360.2,
          39359.3,
          39237.9,
          37126.8,
          38150.7,
          37401.7,
          37745.3,
          31744.5,
          38543.1,
          37488.3,
          37468.8,
          39309.4,
          30591.1,
          30308.9,
          31043,
          32903.8,
          39222.5,
          38916.6,
          38153.3,
          33267.4,
          31206.9,
          38755.5,
          36280.2,
          38250,
          39859.1,
          31046,
          37987.2,
          36316.5,
          30670.7,
          34816.8,
          31228.5,
          31966.6,
          39535.2,
          38354.7,
          37072.3,
          37502.1,
          39607.2,
          39885.6,
          30491.6,
          30263.3,
          38997.9,
          39453.1,
          37110.6,
          30742.4,
          31825.4,
          31408.4,
          38316.2,
          34687.5,
          39597.8,
          36140.3,
          35698.8,
          30284.6,
          38395.8,
          31355.3,
          30542.7,
          30210.3,
          35215.6,
          37834,
          39165.6,
          33544.4,
          31490.2,
          30181.6,
          31321.5,
          31427.1,
          30891.5,
          39210.3,
          38459.5,
          39348.4,
          39089.8,
          36030.6,
          38774.3,
          39619.3,
          31517.7,
          35050.5,
          39500.9,
          30000.2,
          39541.9,
          37705.5,
          37486.2,
          39840.1,
          37506.5,
          39973.5,
          38582.8,
          30004.5,
          37091.3,
          30435.7,
          39345.7,
          37596.5,
          31390,
          30562.9,
          31445.8,
          37609.8,
          36432.6,
          39024.4,
          30951.6,
          30262,
          31016.6,
          39016.7,
          30163.8,
          39250.5,
          31575.1,
          37656.2,
          34035,
          31286.7,
          38333,
          37341.8,
          30422.5,
          30523.6,
          36293.9,
          35620.9,
          32286.3,
          38830.8,
          30866.2,
          37157.1,
          39390.7,
          38940.2,
          30111,
          30515.1,
          39956.3,
          38303,
          30479.8,
          38233.7,
          37842.6,
          36747.6,
          39690.4,
          30700.6,
          39566.7,
          39337.8,
          38100.6,
          31700.5,
          38338.3,
          37802.5,
          30587.7,
          27822.4,
          32170.8,
          39905,
          30028.1,
          31000,
          39441.6,
          36141.3,
          32022.8,
          39217.1,
          30622.3,
          39480.2,
          30069.2,
          37610.8,
          39700,
          38391,
          31726.9,
          38788.1,
          31068.1,
          37579.8,
          30641.2,
          34582.6,
          37366.6,
          38569.4,
          39004.7,
          37719.7,
          39623,
          30564.8,
          31423.4,
          32405.3,
          39076.5,
          30528.9,
          33301.2,
          34781.1,
          31423.4,
          37912.3,
          32358.2,
          31318.3,
          39471.4,
          30116.6,
          31782.1,
          31650.9,
          39582.6,
          37720.1,
          39687,
          30153.9,
          38846.5,
          31629.1,
          37626.5,
          30188.3,
          30415.8,
          38926.4,
          35823.9,
          34091.6,
          32337.3,
          37505,
          35948.8,
          39152.7,
          30568.1,
          30188.9,
          38041.1,
          38762,
          32194.9,
          30637.3,
          39620.4,
          32525.9,
          38661,
          31930.9,
          31014.1,
          38060.9,
          32087.2,
          38622.9,
          37621.5,
          30218.8,
          37916.8,
          30884.2,
          31176.8,
          38475,
          36954.4,
          32069.5,
          39748.8,
          31718.9,
          32256.3,
          38128.7,
          39351.5,
          39100.3,
          31156.4,
          36802.4,
          31255.2,
          39967.4,
          30117.9,
          37880,
          31566.7,
          35190.4,
          38199,
          37926.9,
          38393.5,
          39278.9,
          39985.5,
          37362,
          37938.7,
          35471.2,
          38130,
          39742.1,
          35754.7,
          37895.2,
          37781.8,
          39557.4,
          30365.6,
          39815.3,
          30147.5,
          33651.1,
          31585,
          30609.8,
          38534.7,
          31875.7,
          37381.3,
          39670.9,
          35450,
          37483.6,
          31589.3,
          30909.5,
          34774.2,
          30752.9,
          39231.3,
          30927.8,
          36867.6,
          34021.2,
          37479,
          30096.4,
          33452,
          33431.7,
          39409.1,
          39866.8,
          30255.7,
          30769.6,
          39049.3,
          30358.3,
          35969.1,
          38456.8,
          38249.1,
          38465.3,
          38141.9,
          38989.8,
          30107.3,
          38228.3,
          38612,
          35535.1,
          39637.3,
          39252.3,
          39930.1,
          30006.2,
          38490.5,
          37148.1,
          38201.2,
          39792.6,
          33247.6,
          38173.5,
          38090.8,
          31515.2,
          31689.1,
          39555.2,
          30700.1,
          30636.5,
          39644.6,
          35987.9,
          37690.1,
          30717.3,
          30202.3,
          35614.1,
          34938.9,
          36375.7,
          30104,
          37046.1,
          32454.8,
          37853.8,
          35113.7,
          31097.1,
          31161.4,
          30147.9,
          38110.1,
          31002.6,
          30365.4,
          38441.8,
          30268.1,
          30326.8,
          37707.5,
          34284.3,
          38441.5,
          39141.3,
          39066.8,
          31140.3,
          30125.1,
          30845.1,
          39702.4,
          37504.3,
          33120.6,
          39976.4,
          38629,
          37659.5,
          37928.5,
          39546.3,
          39553.7,
          38543.3,
          31125.7,
          39011.3,
          38618.2,
          34631.5,
          39030.7,
          37613.2,
          39705.9,
          39965.7,
          36893,
          30757,
          38057.3,
          38382.7,
          31175.9,
          38522.2,
          30433,
          30017,
          39799.9,
          39526.2,
          36426.8,
          30188.2,
          31075.6,
          38057.1,
          39694.4,
          39580.2,
          39873.7,
          35692.4,
          34875.2,
          30890.3,
          35855.5,
          30459.3,
          36510.3,
          30748.1,
          38845.6,
          39308.7,
          31320.5,
          34058,
          38155.6,
          30452,
          38276.5,
          39297,
          36590.6,
          31740.7,
          38007.7,
          39526.4,
          39472.3,
          37196.4,
          39601.8,
          30153.9,
          31066.8,
          38879.7,
          39103.8,
          34436.1,
          39888.2,
          35669.7,
          30458.4,
          39585.8,
          39033.7,
          35768.6,
          37225.5,
          32092.8,
          30976.6,
          37087,
          39909.1,
          30513.9,
          35717.6,
          38495.4,
          36983.2,
          31459.2,
          39371.1,
          30947.4,
          38173.9,
          30977.7,
          30818.2,
          31758.3,
          38358,
          34043.1,
          30219.1,
          39696,
          30917.3,
          30406.1,
          39265.1,
          39293.4,
          30816.7,
          35252.3,
          39024.5,
          36201.8,
          38512.6,
          30533.2,
          39067.8,
          30066.1,
          37887.3,
          30041.3,
          37586.7,
          31396.4,
          39624.1,
          31100,
          39316.9,
          37697.1,
          38080,
          30094.4,
          30736.1,
          37754.5,
          37948.1,
          36579.2,
          37761.5,
          30341.4,
          37160.8,
          39923.4,
          30229.4,
          37235.8,
          30363.3,
          39360.2,
          35359.3,
          35709.4,
          39105.9,
          38810.8,
          32294.1,
          30275.1,
          39898.1,
          31216.9,
          37264.6,
          31689.9,
          30396.7,
          32208.9,
          37896.1,
          31644.1,
          36478,
          39396.8,
          37927.2,
          30849.2,
          32232.6,
          31547.1,
          38064.2,
          30053.8,
          39921.1,
          39466.1,
          30811,
          37700.2,
          37974.1,
          30251.2,
          34141.9,
          37884.8,
          38569.8,
          30887.3,
          39353.8,
          37468.7,
          38214.2,
          35654.6,
          39979.2,
          38240.1,
          38316.3,
          31436.7,
          37353.6,
          31027.9,
          30011.5,
          30469,
          38587.1,
          39320.1,
          30055.6,
          31280.4,
          30047.4,
          30910.7,
          30964.9,
          33928.7,
          30137.6,
          39346.3,
          34569.7,
          35434.9,
          36867.6,
          38075.9,
          30369.3,
          31216.9,
          38363,
          39297,
          38150.8,
          33212.2,
          37598.9,
          39519.2,
          39910.5,
          34019.8,
          38070.6,
          30560.5,
          30831.4,
          38616.3,
          35978.2,
          39964.9,
          30951.6,
          39644.6,
          31359.3,
          36965.1,
          39666.9,
          39000.4,
          30743.6,
          30521.1,
          30697.6,
          37731.3,
          36063,
          35325,
          39363.1,
          39991.3,
          31088.3,
          33222.3,
          30790.9,
          39861.7,
          38929.5,
          30253.6,
          36280.2,
          31444.7,
          31275.1,
          31878.3,
          30566.7,
          38517.8,
          37073.2,
          31396.2,
          38901.6,
          34560.3,
          37948.8,
          37462.8,
          30313.3,
          38262.2,
          30233,
          30460.1,
          30515.6,
          37079.1,
          38427.6,
          39162.9,
          39727.2,
          32694.7,
          37585,
          30561.5,
          37845.6,
          31914.5,
          30110,
          38177.1,
          32170.5,
          35497.1,
          39788.8,
          31663.9,
          30530.8,
          31669.3,
          38799.4,
          35282.3,
          37712.8,
          37202.7,
          37269.9,
          30531.2,
          30682.9,
          30037.1,
          31256.5,
          30317.7,
          38152.8,
          37663.9,
          37943.4,
          36250.4,
          39507,
          34454,
          33859.6,
          30079.9,
          31318,
          30164.4,
          30063.4,
          37231.1,
          38213.6,
          39909,
          32157.7,
          31211.7,
          31556.7,
          31438.3,
          36804.3,
          30587.7,
          38466.7,
          32610.9,
          36136.7,
          37727.9,
          30686.8,
          37133.4,
          38752.7,
          35839.7,
          30422.9,
          38228.4,
          37358.3,
          35906.4,
          38107.9,
          39187.6,
          32046.3,
          30887.5,
          30229.1,
          37332.9,
          38557.1,
          30161.4,
          36988.6,
          31251.2,
          27862.4,
          30078.2,
          38709.8,
          38801.9,
          31080.2,
          39969.1,
          34465.8,
          38452.8,
          39626.2,
          32711.3,
          30711.3,
          37730.8,
          30699.9,
          39898.1,
          30893.9,
          31558.1,
          39956.1,
          31024.6,
          30395.7,
          31215.6,
          36124.6,
          39711.2,
          39149.9,
          37731.3,
          39140.7,
          31236.1,
          38008.9,
          32148,
          34166.9,
          31442.5,
          31598.8,
          30576.7,
          38020.2,
          38266.8,
          38607,
          35193.7,
          31484.8,
          35789.8,
          37491.6,
          30737.4,
          39234.3,
          36280.2,
          36281.7,
          31614.7,
          39955,
          38070.6,
          30235.9,
          30642.8,
          38344,
          36920.7,
          30020.4,
          33856.5,
          38893.4,
          30312.7,
          36595.5,
          35964.2,
          38686.3,
          37185.6,
          39022.5,
          39280,
          39905.7,
          32344.9,
          30899.3,
          39295.4,
          31767.2,
          30104.1,
          37973.5,
          32733.7,
          30064.1,
          39456.7,
          39430.6,
          37981.8,
          39280.5,
          30412.2,
          31552.8,
          37711.7,
          34668.3,
          30556.9,
          30646,
          37690.1,
          37724,
          37769.9,
          39614.8,
          30007,
          31756.1,
          33531.5,
          39805.2,
          36556.1,
          36025.5,
          31720.7,
          30461.6,
          39206.7,
          38701.1,
          32002,
          34182.9,
          39850.8,
          36747.1,
          39843.3,
          31067.2,
          37005.9,
          31109.6,
          37443.9,
          39842,
          37466.7,
          39816.5,
          31444.7,
          36611.2,
          36278.5,
          31325.5,
          38378.9,
          38857.6,
          39059,
          32978.4,
          37322.3,
          30213.7,
          37882,
          36336,
          36821.2,
          38771,
          30978.1,
          35511.5,
          30567.7,
          39108.7,
          30599.9,
          38629,
          38573.9,
          32459.4,
          36248.5,
          30186.6,
          30421.6,
          31176.8,
          31451,
          39236.3,
          30718.5,
          30607.7,
          37922.7,
          39680.9,
          39308.8,
          39064.3,
          37415.2,
          31480.7,
          30077.3,
          31195.2,
          39694.9,
          30946.5,
          36970.3,
          31272.4,
          39899.9,
          38846.9,
          37103.1,
          31169.3,
          36052.6,
          36867.4,
          31465.2,
          30995.3,
          38663.5,
          32861,
          39458.5,
          33392.1,
          39661,
          37069.6,
          31086.5,
          39874.3,
          36100.8,
          30909.7,
          30847.7,
          38691,
          37837.8,
          37748.7,
          30443.4,
          35414.8,
          30807.6,
          30567.1,
          36867.2,
          30239.1,
          30155.2,
          39712.3,
          38076.4,
          30596.6,
          39504.4,
          30711.4,
          39977.6,
          37411.2,
          31917.1,
          30691.9,
          39982.1,
          30017.5,
          39734.1,
          30490.6,
          39212.3,
          32053.8,
          38124,
          30592.7,
          39934.4,
          37109.7,
          32226.8,
          33301.2,
          31863.1,
          39257.7,
          35402.9,
          31508.8,
          37764.01,
          36639.85,
          36596.83
         ]
        }
       ],
       "layout": {
        "autosize": true,
        "font": {
         "size": 20
        },
        "template": {
         "data": {
          "bar": [
           {
            "error_x": {
             "color": "#2a3f5f"
            },
            "error_y": {
             "color": "#2a3f5f"
            },
            "marker": {
             "line": {
              "color": "#E5ECF6",
              "width": 0.5
             },
             "pattern": {
              "fillmode": "overlay",
              "size": 10,
              "solidity": 0.2
             }
            },
            "type": "bar"
           }
          ],
          "barpolar": [
           {
            "marker": {
             "line": {
              "color": "#E5ECF6",
              "width": 0.5
             },
             "pattern": {
              "fillmode": "overlay",
              "size": 10,
              "solidity": 0.2
             }
            },
            "type": "barpolar"
           }
          ],
          "carpet": [
           {
            "aaxis": {
             "endlinecolor": "#2a3f5f",
             "gridcolor": "white",
             "linecolor": "white",
             "minorgridcolor": "white",
             "startlinecolor": "#2a3f5f"
            },
            "baxis": {
             "endlinecolor": "#2a3f5f",
             "gridcolor": "white",
             "linecolor": "white",
             "minorgridcolor": "white",
             "startlinecolor": "#2a3f5f"
            },
            "type": "carpet"
           }
          ],
          "choropleth": [
           {
            "colorbar": {
             "outlinewidth": 0,
             "ticks": ""
            },
            "type": "choropleth"
           }
          ],
          "contour": [
           {
            "colorbar": {
             "outlinewidth": 0,
             "ticks": ""
            },
            "colorscale": [
             [
              0,
              "#0d0887"
             ],
             [
              0.1111111111111111,
              "#46039f"
             ],
             [
              0.2222222222222222,
              "#7201a8"
             ],
             [
              0.3333333333333333,
              "#9c179e"
             ],
             [
              0.4444444444444444,
              "#bd3786"
             ],
             [
              0.5555555555555556,
              "#d8576b"
             ],
             [
              0.6666666666666666,
              "#ed7953"
             ],
             [
              0.7777777777777778,
              "#fb9f3a"
             ],
             [
              0.8888888888888888,
              "#fdca26"
             ],
             [
              1,
              "#f0f921"
             ]
            ],
            "type": "contour"
           }
          ],
          "contourcarpet": [
           {
            "colorbar": {
             "outlinewidth": 0,
             "ticks": ""
            },
            "type": "contourcarpet"
           }
          ],
          "heatmap": [
           {
            "colorbar": {
             "outlinewidth": 0,
             "ticks": ""
            },
            "colorscale": [
             [
              0,
              "#0d0887"
             ],
             [
              0.1111111111111111,
              "#46039f"
             ],
             [
              0.2222222222222222,
              "#7201a8"
             ],
             [
              0.3333333333333333,
              "#9c179e"
             ],
             [
              0.4444444444444444,
              "#bd3786"
             ],
             [
              0.5555555555555556,
              "#d8576b"
             ],
             [
              0.6666666666666666,
              "#ed7953"
             ],
             [
              0.7777777777777778,
              "#fb9f3a"
             ],
             [
              0.8888888888888888,
              "#fdca26"
             ],
             [
              1,
              "#f0f921"
             ]
            ],
            "type": "heatmap"
           }
          ],
          "heatmapgl": [
           {
            "colorbar": {
             "outlinewidth": 0,
             "ticks": ""
            },
            "colorscale": [
             [
              0,
              "#0d0887"
             ],
             [
              0.1111111111111111,
              "#46039f"
             ],
             [
              0.2222222222222222,
              "#7201a8"
             ],
             [
              0.3333333333333333,
              "#9c179e"
             ],
             [
              0.4444444444444444,
              "#bd3786"
             ],
             [
              0.5555555555555556,
              "#d8576b"
             ],
             [
              0.6666666666666666,
              "#ed7953"
             ],
             [
              0.7777777777777778,
              "#fb9f3a"
             ],
             [
              0.8888888888888888,
              "#fdca26"
             ],
             [
              1,
              "#f0f921"
             ]
            ],
            "type": "heatmapgl"
           }
          ],
          "histogram": [
           {
            "marker": {
             "pattern": {
              "fillmode": "overlay",
              "size": 10,
              "solidity": 0.2
             }
            },
            "type": "histogram"
           }
          ],
          "histogram2d": [
           {
            "colorbar": {
             "outlinewidth": 0,
             "ticks": ""
            },
            "colorscale": [
             [
              0,
              "#0d0887"
             ],
             [
              0.1111111111111111,
              "#46039f"
             ],
             [
              0.2222222222222222,
              "#7201a8"
             ],
             [
              0.3333333333333333,
              "#9c179e"
             ],
             [
              0.4444444444444444,
              "#bd3786"
             ],
             [
              0.5555555555555556,
              "#d8576b"
             ],
             [
              0.6666666666666666,
              "#ed7953"
             ],
             [
              0.7777777777777778,
              "#fb9f3a"
             ],
             [
              0.8888888888888888,
              "#fdca26"
             ],
             [
              1,
              "#f0f921"
             ]
            ],
            "type": "histogram2d"
           }
          ],
          "histogram2dcontour": [
           {
            "colorbar": {
             "outlinewidth": 0,
             "ticks": ""
            },
            "colorscale": [
             [
              0,
              "#0d0887"
             ],
             [
              0.1111111111111111,
              "#46039f"
             ],
             [
              0.2222222222222222,
              "#7201a8"
             ],
             [
              0.3333333333333333,
              "#9c179e"
             ],
             [
              0.4444444444444444,
              "#bd3786"
             ],
             [
              0.5555555555555556,
              "#d8576b"
             ],
             [
              0.6666666666666666,
              "#ed7953"
             ],
             [
              0.7777777777777778,
              "#fb9f3a"
             ],
             [
              0.8888888888888888,
              "#fdca26"
             ],
             [
              1,
              "#f0f921"
             ]
            ],
            "type": "histogram2dcontour"
           }
          ],
          "mesh3d": [
           {
            "colorbar": {
             "outlinewidth": 0,
             "ticks": ""
            },
            "type": "mesh3d"
           }
          ],
          "parcoords": [
           {
            "line": {
             "colorbar": {
              "outlinewidth": 0,
              "ticks": ""
             }
            },
            "type": "parcoords"
           }
          ],
          "pie": [
           {
            "automargin": true,
            "type": "pie"
           }
          ],
          "scatter": [
           {
            "fillpattern": {
             "fillmode": "overlay",
             "size": 10,
             "solidity": 0.2
            },
            "type": "scatter"
           }
          ],
          "scatter3d": [
           {
            "line": {
             "colorbar": {
              "outlinewidth": 0,
              "ticks": ""
             }
            },
            "marker": {
             "colorbar": {
              "outlinewidth": 0,
              "ticks": ""
             }
            },
            "type": "scatter3d"
           }
          ],
          "scattercarpet": [
           {
            "marker": {
             "colorbar": {
              "outlinewidth": 0,
              "ticks": ""
             }
            },
            "type": "scattercarpet"
           }
          ],
          "scattergeo": [
           {
            "marker": {
             "colorbar": {
              "outlinewidth": 0,
              "ticks": ""
             }
            },
            "type": "scattergeo"
           }
          ],
          "scattergl": [
           {
            "marker": {
             "colorbar": {
              "outlinewidth": 0,
              "ticks": ""
             }
            },
            "type": "scattergl"
           }
          ],
          "scattermapbox": [
           {
            "marker": {
             "colorbar": {
              "outlinewidth": 0,
              "ticks": ""
             }
            },
            "type": "scattermapbox"
           }
          ],
          "scatterpolar": [
           {
            "marker": {
             "colorbar": {
              "outlinewidth": 0,
              "ticks": ""
             }
            },
            "type": "scatterpolar"
           }
          ],
          "scatterpolargl": [
           {
            "marker": {
             "colorbar": {
              "outlinewidth": 0,
              "ticks": ""
             }
            },
            "type": "scatterpolargl"
           }
          ],
          "scatterternary": [
           {
            "marker": {
             "colorbar": {
              "outlinewidth": 0,
              "ticks": ""
             }
            },
            "type": "scatterternary"
           }
          ],
          "surface": [
           {
            "colorbar": {
             "outlinewidth": 0,
             "ticks": ""
            },
            "colorscale": [
             [
              0,
              "#0d0887"
             ],
             [
              0.1111111111111111,
              "#46039f"
             ],
             [
              0.2222222222222222,
              "#7201a8"
             ],
             [
              0.3333333333333333,
              "#9c179e"
             ],
             [
              0.4444444444444444,
              "#bd3786"
             ],
             [
              0.5555555555555556,
              "#d8576b"
             ],
             [
              0.6666666666666666,
              "#ed7953"
             ],
             [
              0.7777777777777778,
              "#fb9f3a"
             ],
             [
              0.8888888888888888,
              "#fdca26"
             ],
             [
              1,
              "#f0f921"
             ]
            ],
            "type": "surface"
           }
          ],
          "table": [
           {
            "cells": {
             "fill": {
              "color": "#EBF0F8"
             },
             "line": {
              "color": "white"
             }
            },
            "header": {
             "fill": {
              "color": "#C8D4E3"
             },
             "line": {
              "color": "white"
             }
            },
            "type": "table"
           }
          ]
         },
         "layout": {
          "annotationdefaults": {
           "arrowcolor": "#2a3f5f",
           "arrowhead": 0,
           "arrowwidth": 1
          },
          "autotypenumbers": "strict",
          "coloraxis": {
           "colorbar": {
            "outlinewidth": 0,
            "ticks": ""
           }
          },
          "colorscale": {
           "diverging": [
            [
             0,
             "#8e0152"
            ],
            [
             0.1,
             "#c51b7d"
            ],
            [
             0.2,
             "#de77ae"
            ],
            [
             0.3,
             "#f1b6da"
            ],
            [
             0.4,
             "#fde0ef"
            ],
            [
             0.5,
             "#f7f7f7"
            ],
            [
             0.6,
             "#e6f5d0"
            ],
            [
             0.7,
             "#b8e186"
            ],
            [
             0.8,
             "#7fbc41"
            ],
            [
             0.9,
             "#4d9221"
            ],
            [
             1,
             "#276419"
            ]
           ],
           "sequential": [
            [
             0,
             "#0d0887"
            ],
            [
             0.1111111111111111,
             "#46039f"
            ],
            [
             0.2222222222222222,
             "#7201a8"
            ],
            [
             0.3333333333333333,
             "#9c179e"
            ],
            [
             0.4444444444444444,
             "#bd3786"
            ],
            [
             0.5555555555555556,
             "#d8576b"
            ],
            [
             0.6666666666666666,
             "#ed7953"
            ],
            [
             0.7777777777777778,
             "#fb9f3a"
            ],
            [
             0.8888888888888888,
             "#fdca26"
            ],
            [
             1,
             "#f0f921"
            ]
           ],
           "sequentialminus": [
            [
             0,
             "#0d0887"
            ],
            [
             0.1111111111111111,
             "#46039f"
            ],
            [
             0.2222222222222222,
             "#7201a8"
            ],
            [
             0.3333333333333333,
             "#9c179e"
            ],
            [
             0.4444444444444444,
             "#bd3786"
            ],
            [
             0.5555555555555556,
             "#d8576b"
            ],
            [
             0.6666666666666666,
             "#ed7953"
            ],
            [
             0.7777777777777778,
             "#fb9f3a"
            ],
            [
             0.8888888888888888,
             "#fdca26"
            ],
            [
             1,
             "#f0f921"
            ]
           ]
          },
          "colorway": [
           "#636efa",
           "#EF553B",
           "#00cc96",
           "#ab63fa",
           "#FFA15A",
           "#19d3f3",
           "#FF6692",
           "#B6E880",
           "#FF97FF",
           "#FECB52"
          ],
          "font": {
           "color": "#2a3f5f"
          },
          "geo": {
           "bgcolor": "white",
           "lakecolor": "white",
           "landcolor": "#E5ECF6",
           "showlakes": true,
           "showland": true,
           "subunitcolor": "white"
          },
          "hoverlabel": {
           "align": "left"
          },
          "hovermode": "closest",
          "mapbox": {
           "style": "light"
          },
          "paper_bgcolor": "white",
          "plot_bgcolor": "#E5ECF6",
          "polar": {
           "angularaxis": {
            "gridcolor": "white",
            "linecolor": "white",
            "ticks": ""
           },
           "bgcolor": "#E5ECF6",
           "radialaxis": {
            "gridcolor": "white",
            "linecolor": "white",
            "ticks": ""
           }
          },
          "scene": {
           "xaxis": {
            "backgroundcolor": "#E5ECF6",
            "gridcolor": "white",
            "gridwidth": 2,
            "linecolor": "white",
            "showbackground": true,
            "ticks": "",
            "zerolinecolor": "white"
           },
           "yaxis": {
            "backgroundcolor": "#E5ECF6",
            "gridcolor": "white",
            "gridwidth": 2,
            "linecolor": "white",
            "showbackground": true,
            "ticks": "",
            "zerolinecolor": "white"
           },
           "zaxis": {
            "backgroundcolor": "#E5ECF6",
            "gridcolor": "white",
            "gridwidth": 2,
            "linecolor": "white",
            "showbackground": true,
            "ticks": "",
            "zerolinecolor": "white"
           }
          },
          "shapedefaults": {
           "line": {
            "color": "#2a3f5f"
           }
          },
          "ternary": {
           "aaxis": {
            "gridcolor": "white",
            "linecolor": "white",
            "ticks": ""
           },
           "baxis": {
            "gridcolor": "white",
            "linecolor": "white",
            "ticks": ""
           },
           "bgcolor": "#E5ECF6",
           "caxis": {
            "gridcolor": "white",
            "linecolor": "white",
            "ticks": ""
           }
          },
          "title": {
           "x": 0.05
          },
          "xaxis": {
           "automargin": true,
           "gridcolor": "white",
           "linecolor": "white",
           "ticks": "",
           "title": {
            "standoff": 15
           },
           "zerolinecolor": "white",
           "zerolinewidth": 2
          },
          "yaxis": {
           "automargin": true,
           "gridcolor": "white",
           "linecolor": "white",
           "ticks": "",
           "title": {
            "standoff": 15
           },
           "zerolinecolor": "white",
           "zerolinewidth": 2
          }
         }
        },
        "title": {
         "text": "Box Plot"
        },
        "xaxis": {
         "autorange": true,
         "range": [
          -0.5,
          0.5
         ],
         "type": "category"
        },
        "yaxis": {
         "autorange": true,
         "range": [
          25778.633333333335,
          40745.96666666667
         ],
         "type": "linear"
        }
       }
      },
      "image/png": "[encoded data removed]",
      "text/html": [
       "<div>                            <div id=\"6c270c9c-b6aa-4f21-a491-b46c44e592ca\" class=\"plotly-graph-div\" style=\"height:525px; width:100%;\"></div>            <script type=\"text/javascript\">                require([\"plotly\"], function(Plotly) {                    window.PLOTLYENV=window.PLOTLYENV || {};                                    if (document.getElementById(\"6c270c9c-b6aa-4f21-a491-b46c44e592ca\")) {                    Plotly.newPlot(                        \"6c270c9c-b6aa-4f21-a491-b46c44e592ca\",                        [{\"name\":\"Asia\",\"y\":[35576.6,37321.3,30023.2,30671.8,39459.7,39509.3,30122.9,32627.8,31313.3,38032.7,38113.9,31316.7,30245.6,36673.2,30163.2,33292.7,30850.2,39355.0,38432.1,36841.4,38228.3,30538.6,31616.0,39074.4,39664.3,39436.0,31663.5,30378.8,30592.0,37465.1,39951.9,30751.6,30448.0,31203.6,39144.1,36617.1,39467.2,38049.0,30759.1,37576.2,38105.8,30492.0,30795.8,27352.2,31293.0,38554.1,31385.0,39778.3,30241.5,32435.1,31661.9,39781.4,34705.1,32651.0,31337.0,31298.1,37594.0,39782.7,36254.3,32173.2,34682.4,39725.9,31807.3,30838.6,38637.4,39661.5,36237.2,32388.5,31926.4,38381.1,37134.3,31254.4,31480.2,39151.7,39634.7,31280.4,31619.7,30218.7,38813.1,37413.7,36918.4,39217.9,39754.2,39375.2,39843.3,31668.6,30402.9,31070.5,39469.9,39090.0,30299.8,37897.4,30680.9,35958.4,35630.0,31656.4,30304.7,36499.4,35237.5,30188.8,31724.5,38582.1,30548.0,33651.3,36996.9,30594.4,34254.3,37455.7,38037.7,30322.6,38243.9,36904.8,38144.9,38473.5,31585.0,30214.2,30837.5,35972.0,30361.0,31370.2,30855.5,36346.9,39516.0,31281.4,39993.6,39687.0,38310.3,36694.3,39715.9,30091.0,36695.8,39090.5,30730.9,36860.2,39083.1,38404.7,38794.1,31486.6,39170.2,39144.5,35577.3,39284.2,30586.0,33285.3,30879.2,39191.3,38784.2,34141.9,33698.4,30274.2,37827.6,30752.7,36619.4,39583.6,37428.7,30456.2,30005.3,38500.0,36576.0,30387.0,31642.0,33304.4,30590.6,31095.5,30732.3,38395.8,38806.7,30596.3,37170.9,37616.2,31236.8,30482.5,38310.1,38957.8,37399.7,31446.5,37243.2,30331.1,38209.9,32086.4,38149.8,37166.5,38009.2,35396.1,37273.8,30506.0,39727.7,30049.7,30463.0,37287.5,33905.0,39921.2,38300.7,38082.1,37960.7,31427.8,30169.1,37807.7,39983.4,30182.0,39184.9,30306.3,31112.1,32016.5,36518.1,31593.6,30378.7,34647.2,35427.3,34814.2,30295.8,39997.6,30923.6,36452.4,30381.9,30506.3,37537.9,39186.4,39725.6,39924.2,39930.5,32317.2,39375.4,33767.7,38435.5,37908.2,38190.2,30003.9,39382.4,35075.2,36820.9,38542.0,39211.4,31220.2,31228.8,30175.4,30596.2,30259.8,30006.2,31337.0,37172.5,36107.4,38884.6,30772.0,37973.2,38113.2,38363.5,30407.4,30893.9,35060.4,30186.5,36900.4,39492.7,31961.7,39683.1,30018.1,37809.1,30624.4,36512.9,30203.2,39847.1,29724.1,30693.9,37078.0,38762.4,35118.8,35399.8,39996.7,39061.5,39881.4,31142.4,30236.3,37541.3,37216.1,39570.3,35135.7,30963.5,30662.7,39616.4,31342.1,30383.0,31092.7,39792.4,38923.5,39644.3,39619.7,34023.8,37406.6,30343.8,39409.4,39525.6,32787.5,31202.4,30038.7,31802.5,34279.7,39148.4,34976.1,31709.6,38768.7,30661.5,35965.2,39414.8,31668.3,30834.5,39166.7,31673.1,30488.3,36648.8,37329.7,39123.3,30740.6,39710.0,39966.5,37175.6,39137.8,31557.1,39383.8,30687.5,31512.3,30559.6,31093.5,31308.6,30930.6,32292.6,34091.6,39874.5,37181.6,30798.3,30731.7,31163.2,30204.9,31476.8,26527.0,38261.8,30595.4,38077.6,38057.6,30866.7,34865.1,31612.5,35313.8,39080.7,38202.0,37059.9,38009.1,38600.7,39734.3,39201.6,32086.3,38551.0,38869.7,38616.3,35708.8,39499.7,34027.4,38966.0,31031.0,38808.6,35591.5,30460.8,35762.8,31417.2,36690.5,38742.0,39176.2,30992.2,30123.2,35907.1,30857.1,34271.4,39052.2,39915.4,34414.7,32077.4,35956.7,38195.0,36515.4,39668.8,31741.1,39180.7,39030.2,31542.2,38706.5,34354.3,39876.0,35639.5,38363.9,36869.8,39660.3,39266.3,38780.4,30799.0,35667.4,31490.2,30230.7,30069.3,39941.7,37978.6,30050.8,38746.9,36126.1,37921.8,30351.5,32540.5,37706.5,38757.3,31326.4,39773.1,35262.1,37948.8,34700.0,39936.2,36035.8,30541.8,37579.8,30741.8,31122.0,30624.6,31318.8,31052.0,39577.9,39029.1,39737.0,31158.3,39562.4,30795.8,35977.9,31764.7,36835.0,37623.2,30184.8,30446.4,31558.1,30147.1,39183.4,30565.8,30203.6,38113.0,30151.2,38650.3,35503.1,35664.4,30129.9,37292.0,30930.4,38326.3,38522.5,30318.1,30579.9,30061.2,32133.4,35935.7,39730.6,30748.1,35756.7,35839.3,33371.9,30531.3,36213.4,36075.1,30855.5,38548.1,39654.9,36207.3,35520.8,39785.1,30217.7,32039.5,30456.0,31055.2,38933.9,30228.5,30968.7,30545.0,35378.9,31019.6,39208.7,30648.9,31420.6,31839.4,30436.5,30596.3,30965.5,31958.4,38661.0,39951.9,37576.8,38057.1,36796.2,30876.5,30330.3,31425.7,29821.7,35167.5,31070.8,31182.5,30251.3,38904.0,39304.8,32426.5,39515.0,30482.7,38144.5,39362.5,37895.2,34454.7,37987.0,38717.3,36066.5,30449.9,38971.3,39282.5,30048.8,37834.0,38371.1,30757.0,39001.3,39127.6,39149.0,39941.9,31162.3,37261.9,30389.2,31147.8,38247.8,37067.2,30666.7,39220.4,35957.4,39900.9,38279.0,31228.8,30020.4,39460.0,37552.8,38029.4,38326.3,31569.2,30793.6,38708.7,37117.0,39334.2,37042.4,30204.5,30629.9,39055.6,37401.7,31100.0,38851.4,38776.8,36973.0,39934.5,30647.8,37839.3,37897.0,38558.1,39242.3,39077.7,38812.7,38421.7,36940.8,39078.0,30641.6,34980.2,37700.1,31056.3,38104.8,39330.8,37753.8,33495.5,30682.7,37177.6,38544.7,32709.3,31802.5,38243.9,35511.9,39909.0,39180.3,36448.1,36339.0,34561.6,38768.1,37932.6,39388.7,35925.4,36924.3,38444.5,34582.6,30241.8,37442.5,34123.1,39958.7,38364.2,33731.7,38513.6,38426.2,35193.7,36519.1,39978.6,38311.4,30104.7,30297.6,39290.6,38018.2,31435.1,38742.5,30017.8,30376.7,37698.0,39412.3,30795.8,38520.8,31324.9,39013.4,37049.8,38912.2,31610.8,35869.6,38869.3,39624.1,34175.0,39852.7,34438.4,35868.0,38382.2,30973.8,34543.6,30645.7,36820.9,39147.7,38439.8,32557.5,30817.4,39990.3,32267.8,38658.8,30999.2,34391.4,30381.9,31536.4,38543.3,32630.3,38344.2,30438.1,38568.4,37192.2,34814.7,37276.4,30933.8,39208.6,31599.3,37628.2,30281.1,38131.6,31409.1,30781.0,30022.7,39232.5,35259.6,39622.8,30359.7,38310.4,39460.0,36606.1,30942.1,36798.7,37862.5,37166.3,39905.0,36236.7,33146.7,39526.0,30592.9,39550.3,37975.7,31482.2,39397.3,31362.4,36575.9,30856.6,37928.5,31595.7,39150.6,32130.6,37452.5,38559.9,39765.9,30673.1,36126.1,38958.3,37398.5,39699.0,39969.3,39108.7,36116.0,30342.4,38782.8,35080.1,32120.6,39961.3,37417.2,31629.9,32487.4,30423.6,38974.4,31593.6,39399.3,32530.7,36176.3,37485.8,39227.8,36249.7,37514.1,32042.2,37709.2,30908.6,36122.8,37302.2,30171.4,31526.8,30042.1,38877.8,37600.9,35181.4,31032.5,37176.0,30638.2,38911.6,37765.7,31464.6,38559.4,37263.0,35430.0,31475.7,30019.0,38879.5,33003.1,38780.6,38475.8,38016.3,38079.1,39097.3,31968.7,36466.3,37486.2,38127.5,31926.4,32069.6,30447.3,33875.1,34582.6,35940.1,30148.8,33252.0,36138.7,38661.3,32098.2,38082.3,30779.4,30554.6,31100.5,39166.7,38799.5,39456.5,36140.7,30696.3,32377.0,31036.0,39470.7,38656.8,39786.7,39566.7,30586.1,39014.2,39299.2,37967.5,39560.1,32148.9,36833.6,34410.5,30346.2,32069.6,38617.2,39069.6,31547.1,31903.2,30221.3,36741.9,36719.6,30095.2,38388.4,30926.5,33351.0,30646.4,31271.7,34739.8,39666.5,36972.3,34612.8,38745.3,37723.4,38672.7,37577.9,38713.0,30089.7,38723.9,37283.1,38730.0,31988.9,31890.1,30260.8,39073.1,39924.0,39584.4,39583.2,37789.6,38251.0,36652.2,36320.9,30188.8,32056.3,36175.0,32187.6,39802.0,36535.1,30597.3,30404.0,30264.3,38297.5,38845.5,30575.7,30781.4,38166.1,30782.5,30324.5,38474.3,39650.1,38706.6,30291.3,38806.7,30632.0,38887.8,38401.9,34790.8,39480.0,30035.4,39618.6,30050.9,39955.9,39600.3,37987.0,39557.3,30725.2,39050.7,39879.3,30596.3,31875.0,31967.9,38128.0,38115.2,30309.8,39412.8,39982.2,35840.2,36697.4,39768.8,37248.8,38544.7,30402.3,39336.2,37949.1,38390.1,31375.1,39643.4,31420.6,37501.8,30039.5,30796.0,33680.1,30037.1,30059.2,38543.3,39111.2,31008.7,37000.1,37485.6,30139.0,29497.8,38199.0,35265.6,39739.3,31905.0,30081.7,32197.6,30487.9,37700.0,37733.8,36540.5,35082.6,39124.1,37676.5,39362.5,31561.5,34790.8,32032.5,36426.8,30506.4,37491.1,39196.2,30735.4,33356.9,39757.8,38525.5,38358.4,32705.4,38498.8,31162.0,30181.6,38363.5,31297.0,30259.1,30588.3,30544.9,39666.2,39329.5,36350.6,36914.6,31570.7,39906.9,38566.8,36476.1,38334.3,30607.5,36350.6,37719.7,30122.6,30568.4,38225.1,30597.7,38223.9,38876.7,39732.6,30558.4,37790.3,39560.0,39986.0,30063.2,30699.9,39003.3,30038.9,37806.1,36780.6,31595.5,36147.2,37721.5,38274.1,30225.8,39014.8,39587.5,34330.7,39720.6,35701.9,39874.3,30460.8,37536.3,30228.4,30761.5,33632.7,37960.9,37733.6,31771.8,39513.6,38040.8,35479.0,38622.0,39832.3,30997.6,38434.0,36433.0,37818.6,39737.0,39005.7,31196.5,31857.5,36843.3,30247.8,31956.0,38710.7,31558.3,31072.3,31453.9,31800.7,31031.0,30009.1,38303.4,38890.3,39407.7,36336.0,39010.7,30299.3,30010.4,38197.3,30248.5,35318.9,39625.3,39346.6,39281.2,33087.2,38108.2,37815.7,31607.6,38269.5,38525.5,38949.3,38837.5,37316.0,38935.6,39321.5,35753.5,39939.9,30042.5,30932.2,30123.7,32416.1,38528.0,31026.7,38453.4,30452.8,39847.1,35181.2,38942.4,38771.6,38807.3,38291.5,38378.1,30374.6,37543.9,31599.4,39301.8,36518.9,35742.1,38327.1,30392.3,37573.1,36945.5,38779.7,37207.8,39657.7,36064.5,32050.7,37644.6,30440.8,38935.6,30260.0,36171.9,38368.8,37311.7,33072.8,30951.2,38758.7,31310.0,31807.0,31014.2,39042.3,36992.1,30501.6,32465.5,38091.4,31621.6,30175.6,36623.9,38714.1,37934.6,30074.0,39734.6,30218.8,39712.3,36228.3,39812.9,36316.0,37381.9,39912.5,39826.1,30097.1,31083.1,39759.9,31217.9,39198.6,32474.2,37283.1,38106.6,39179.8,37479.0,30668.0,30346.0,30087.4,39047.7,39280.5,37933.7,35166.4,39363.7,37037.5,30166.2,39346.9,31864.4,37887.3,30304.6,30894.8,30661.9,38608.7,35300.3,39303.4,37773.0,30625.2,30175.2,37181.8,39815.3,30082.5,35872.6,36779.2,30825.9,30739.7,30613.8,32148.0,36979.5,38739.2,39968.7,37970.1,30448.7,37444.3,31674.7,31325.4,39215.3,30032.6,38935.4,34577.6,38951.0,37611.7,31629.9,31575.1,37698.0,37550.8,30893.5,38558.6,30134.6,37777.8,30204.5,39401.9,37585.4,30828.7,31225.2,39672.5,31832.5,38723.7,38067.8,37317.3,38607.4,32629.5,39016.2,30816.6,36609.6,37485.4,30994.3,30178.0,37826.3,30647.0,31411.6,31215.6,30543.1,39840.3,38312.1,30438.1,39444.3,38902.3,37864.3,38876.1,31166.2,38789.0,30353.3,31603.2,30355.9,38396.7,36674.1,37600.9,39533.8,36968.5,38187.3,35556.1,30332.3,32105.7,39533.7,39705.0,31501.7,36690.4,30457.0,39325.7,38163.2,36646.1,39647.9,39942.4,31626.1,37936.1,36387.0,37667.0,39875.0,39653.6,39285.4,38795.8,38645.1,32148.7,38122.8,37920.8,39569.0,31050.9,39959.6,37572.8,30579.6,36427.1,39149.9,39910.5,33888.7,37099.6,36945.5,38691.4,30041.8,32794.3,35839.3,39346.9,38887.2,36938.9,39278.9,31336.4,30720.0,38249.8,38242.7,38208.1,30825.6,30361.0,34018.6,39332.5,30800.3,37522.0,34991.5,30261.5,37514.7,30195.7,39352.8,38880.3,34782.3,39016.7,35667.5,30684.2,32033.7,38299.7,31630.9,38193.3,34182.0,30959.4,39103.8,39877.2,31457.5,30072.9,36045.5,31333.3,39772.9,38910.5,39736.7,31775.2,38179.1,30668.2,37376.6,39175.3,30038.9,39513.8,35751.7,39958.7,30544.0,36512.0,33085.7,39187.9,38937.1,37692.9,37913.8,31512.2,38214.2,30380.7,39520.6,38872.3,38045.5,33884.0,38412.3,35315.7,39090.0,31796.8,32010.6,38091.4,31472.2,30311.1,30049.5,31217.2,37979.1,31321.2,30592.5,31812.9,31353.5,32730.5,38215.0,36256.2,38845.5,37583.9,35563.6,32829.7,30100.3,39980.9,31139.9,39528.2,30340.4,39274.1,30768.4,31629.1,30332.0,33309.0,37256.7,37450.6,37929.1,39329.8,39527.0,36870.2,30418.9,34363.8,39828.8,37165.1,38242.9,39636.7,31304.4,30384.5,35728.9,30294.6,30086.4,37585.4,37512.1,37166.0,36768.0,38992.0,38359.2,31038.7,39890.3,36919.3,31272.0,30711.8,30369.9,30172.7,31503.1,39177.1,39321.5,37383.8,31480.6,38232.0,39837.7,34878.3,37954.4,30955.7,39185.3,30608.8,30058.9,37936.7,35941.4,39905.0,30050.1,39853.5,37219.3,39687.7,32591.5,34032.3,39275.5,39245.1,39868.4,30563.0,34134.0,39958.7,35413.0,38845.6,31069.3,38319.9,37360.4,37812.0,37586.0,39709.3,37539.0,39121.2,37605.8,37486.6,38828.2,38862.4,38860.7,33624.5,39969.3,30130.7,30344.6,39212.0,30138.3,39491.9,31205.1,30145.3,38317.7,30924.9,31724.1,37425.4,39729.4,32573.1,38968.3,35637.2,30204.5,39942.1,36454.3,31432.2,39975.2,30681.2,33876.3,38386.3,37300.5,36666.7,31176.8,30004.7,30973.4,39898.8,30336.4,38419.0,31503.4,39530.0,38199.0,37106.9,38477.6,30880.3,39250.6,37722.7,30216.8,30229.0,39321.5,30171.7,36906.4,36291.0,39511.5,38331.4,30428.7,31935.8,30156.4,37711.7,38858.8,34010.1,33809.2,30111.7,39648.1,30225.2,38851.6,30995.2,32090.5,30318.3,37316.2,38176.7,37236.4,32829.7,30122.5,30429.1,38792.3,39811.6,30460.1,35830.7,37013.4,35570.9,39499.5,37970.5,33228.5,35765.8,37465.4,35738.0,39840.3,35251.3,32328.2,39312.0,30434.2,37981.1,30437.7,39601.2,39679.4,39264.9,30271.3,31780.0,38237.0,35996.0,39781.2,30460.3,39507.6,37706.5,31115.8,31551.8,30635.1,30943.2,38577.8,38048.8,38180.0,30493.8,31201.9,30509.7,31251.6,38174.9,38593.6,39409.7,32063.8,32544.8,31313.8,33664.7,38650.6,32666.9,38944.0,38153.6,32021.5,31186.4,30452.0,30838.3,39648.1,38341.8,30528.4,30036.1,37943.9,37358.3,30776.4,35059.3,38123.0,38080.9,38233.7,39900.2,37833.2,36460.9,31436.1,33985.7,30275.7,39183.8,38651.0,37576.2,30592.3,37409.3,39620.7,34953.1,37515.8,37597.1,30355.0,31417.5,37489.2,38091.6,30584.3,31838.4,30928.4,31849.6,39957.9,39644.2,31744.4,31221.2,37858.4,39582.2,37537.3,37087.8,31964.4,36460.6,31279.4,36700.7,31584.7,33167.6,39415.9,31622.2,29012.7,38382.3,39838.4,38987.5,38675.4,30272.6,38638.2,30054.5,39202.4,35505.0,32828.3,36345.6,30947.4,39014.2,31149.2,39410.8,38607.0,30235.8,30543.1,39581.9,30637.3,34026.8,39281.6,30549.0,30927.5,30625.2,38027.3,38665.4,37724.0,35238.4,31084.8,31405.5,38858.8,39082.0,30980.5,38259.4,39731.4,37898.2,39549.7,39989.4,33698.4,37104.4,39166.7,33358.6,31501.9,30123.0,37941.9,30415.3,30581.0,34913.6,39324.1,32154.8,36723.3,38771.4,36869.8,35947.7,30043.9,31658.5,30854.7,38345.6,31447.3,30709.3,36512.6,31182.6,39355.6,31517.7,39024.2,31408.5,30290.3,38014.2,36087.1,35402.9,37258.8,38726.3,37306.2,31055.2,30498.9,30634.0,37317.3,31729.9,38800.6,39787.4,35115.4,37953.5,30677.6,31257.7,37062.5,30964.3,39172.2,38469.7,39329.0,39855.6,30825.9,38720.3,30382.4,38341.8,39727.7,37623.3,38927.0,36077.4,32551.9,38093.0,37628.9,36256.9,30960.2,39217.9,30551.5,30252.1,38745.6,30472.4,39164.0,31939.3,31038.0,37434.4,38291.4,31072.8,35050.5,34788.0,30906.8,36915.7,36049.9,31584.7,30715.1,36339.6,37774.4,36270.6,30997.6,38170.6,31060.4,31461.4,30129.9,35399.7,39228.7,37853.6,39361.8,38677.1,38799.7,30070.9,36920.0,30347.0,39082.0,36699.2,30192.7,30798.2,30180.6,36945.9,30972.1,30550.0,36518.6,37792.5,31879.3,37091.5,39955.7,39518.6,38341.0,39709.3,39855.4,30706.0,36964.8,39258.9,38905.4,37400.9,38635.0,30501.0,30300.1,30550.2,39546.1,38442.9,30237.6,30550.0,37661.1,30327.1,32485.1,30262.7,31032.5,30009.0,39831.2,39885.1,31365.3,30388.0,38467.7,36538.5,38772.0,37436.3,39587.5,30312.1,31408.5,38834.3,39375.8,37146.8,30028.0,30671.5,30486.0,38511.2,38673.2,31594.0,31196.5,35139.8,39652.4,39788.7,39519.9,35857.6,37725.5,30680.9,30448.8,38285.5,31803.9,37804.4,30331.9,30040.2,37940.1,38836.1,39770.3,30091.8,38017.6,27798.3,37963.2,36233.3,39394.5,32703.3,39290.2,39807.1,38651.9,31148.9,38360.7,31179.6,35731.4,38067.5,30390.9,30859.9,35118.3,38442.3,37662.6,38163.2,31882.9,31950.7,39171.6,38348.3,39803.9,39179.9,31129.5,37144.6,31467.0,30204.9,30869.9,32488.0,38039.6,38872.3,39433.3,37959.7,30560.5,31454.1,38142.0,30167.8,30017.3,39208.9,35615.4,38172.5,37381.9,32039.3,30510.5,31585.8,37786.7,30743.7,36606.7,30091.8,38380.3,38558.7,30060.8,35461.9,36832.4,33611.2,39337.8,39064.7,39444.3,30780.9,38405.6,39893.5,31025.9,37777.1,39222.8,39320.7,37872.5,30237.3,38815.0,31219.0,37042.5,35166.4,38387.7,38352.9,31479.9,39502.6,39921.1,35226.7,38081.0,31843.1,30011.4,30570.0,37627.6,35127.9,39132.2,39773.0,39371.8,39538.8,30771.9,34229.2,39022.5,36998.8,36081.6,30593.9,36402.5,30215.0,30961.7,30307.9,31662.0,31133.1,39396.1,30812.0,31056.0,38771.6,36997.1,39772.7,39957.6,37053.9,37829.5,39953.0,31932.9,38199.6,38036.0,30595.9,38228.3,38425.2,30291.9,31700.6,30416.7,30876.5,30205.2,39325.3,30999.9,30667.9,33725.4,36750.3,38558.6,38684.7,36065.2,35770.6,35461.8,37302.2,31484.8,39427.0,37741.6,33884.0,39162.8,38806.6,36308.7,39715.1,35478.7,38107.0,36228.8,30830.7,37907.6,39651.1,37114.6,39821.6,31513.1,39138.5,30422.9,30587.2,30994.9,36499.9,30860.4,37853.6,36675.4,30972.9,30735.6,34994.1,34693.4,39973.9,39354.8,31182.6,32216.8,30831.1,39041.0,38341.0,37577.8,37537.4,31132.7,32398.7,31477.7,31060.3,37500.7,30202.3,39246.8,31141.3,31793.6,30191.8,31405.6,33895.6,39224.3,30575.1,37376.3,39681.6,38459.0,38774.1,30748.6,35728.1,36852.7,38970.8,39796.8,30896.4,38941.2,36168.2,39328.0,30656.0,39717.7,35891.4,36122.8,39243.5,39812.8,38164.0,39480.3,32495.1,38486.1,39230.2,30862.5,36959.0,38391.2,37203.5,30324.5,38848.2,30411.3,32388.0,31213.7,36902.3,30450.7,39498.0,38783.9,36649.9,32291.7,37973.2,39414.8,30358.2,39703.7,35186.0,38001.5,30105.8,31054.7,30609.1,35986.1,35720.7,30306.3,31161.8,37620.2,30813.3,30559.0,39427.1,39092.5,39876.8,30646.4,36259.7,35816.2,35723.4,30529.1,30826.3,39635.5,31791.7,38170.7,39920.4,31894.6,39727.1,36487.4,30663.2,38526.5,31074.0,36515.4,30443.5,39900.8,39460.2,30891.5,35509.0,39037.7,30419.3,39944.0,38381.1,30321.6,30286.7,35962.4,30777.3,31079.3,32573.1,39200.4,38778.5,38259.5,31740.7,39781.2,37480.1,38178.9,35305.7,39290.2,35176.1,37273.0,35415.8,38507.9,37267.4,38816.0,37225.5,39871.2,31014.8,31396.2,39696.2,38129.5,37857.7,36585.1,37754.5,39826.1,30550.2,30558.9,39460.0,30686.8,30390.7,32348.0,38541.0,36487.6,31536.5,30341.0,38161.7,31385.1,34366.4,30010.5,36902.3,30855.0,38952.5,39841.3,39430.4,35429.1,39305.6,38759.0,37891.7,30228.6,39244.9,31006.5,38072.5,37724.0,35578.7,34456.5,30624.4,30791.3,31446.1,30485.5,39502.4,38433.6,38876.7,30447.4,35508.7,38959.7,39331.6,31873.1,30660.6,37000.1,30117.2,33664.9,39849.0,38641.6,31977.8,38052.0,39737.3,39953.5,31588.0,35700.8,37075.8,30671.9,39931.7,30657.1,31187.9,38958.3,38116.5,30671.4,30074.8,30967.9,37971.0,31207.7,31018.7,32301.0,30628.8,39805.4,30470.5,39431.3,38245.8,38275.9,30199.3,30803.3,39186.9,32004.0,30177.0,39394.9,30461.8,31414.1,39556.2,31102.3,31131.2,31173.6,35455.3,39066.7,35079.4,30108.6,36699.4,39434.6,38378.4,38009.9,30552.2,36684.6,39730.9,30273.6,30313.7,38585.7,30853.6,30405.4,30346.4,30583.1,35620.3,37897.4,37971.2,35925.4,30306.3,32466.7,39603.3,34324.5,31068.7,30097.5,39527.5,36308.6,33040.8,31617.2,39704.3,30842.8,31532.9,37613.2,39818.0,36791.4,37516.2,32663.2,34414.7,30817.6,37613.2,33449.2,39300.6,37376.0,37941.6,36194.0,39717.3,30581.0,38676.8,31325.2,37418.7,34586.3,31650.3,31771.7,32032.1,32328.4,31174.1,39853.6,30511.4,39028.9,39692.0,39360.2,39359.3,39237.9,37126.8,38150.7,37401.7,37745.3,31744.5,38543.1,37488.3,37468.8,39309.4,30591.1,30308.9,31043.0,32903.8,39222.5,38916.6,38153.3,33267.4,31206.9,38755.5,36280.2,38250.0,39859.1,31046.0,37987.2,36316.5,30670.7,34816.8,31228.5,31966.6,39535.2,38354.7,37072.3,37502.1,39607.2,39885.6,30491.6,30263.3,38997.9,39453.1,37110.6,30742.4,31825.4,31408.4,38316.2,34687.5,39597.8,36140.3,35698.8,30284.6,38395.8,31355.3,30542.7,30210.3,35215.6,37834.0,39165.6,33544.4,31490.2,30181.6,31321.5,31427.1,30891.5,39210.3,38459.5,39348.4,39089.8,36030.6,38774.3,39619.3,31517.7,35050.5,39500.9,30000.2,39541.9,37705.5,37486.2,39840.1,37506.5,39973.5,38582.8,30004.5,37091.3,30435.7,39345.7,37596.5,31390.0,30562.9,31445.8,37609.8,36432.6,39024.4,30951.6,30262.0,31016.6,39016.7,30163.8,39250.5,31575.1,37656.2,34035.0,31286.7,38333.0,37341.8,30422.5,30523.6,36293.9,35620.9,32286.3,38830.8,30866.2,37157.1,39390.7,38940.2,30111.0,30515.1,39956.3,38303.0,30479.8,38233.7,37842.6,36747.6,39690.4,30700.6,39566.7,39337.8,38100.6,31700.5,38338.3,37802.5,30587.7,27822.4,32170.8,39905.0,30028.1,31000.0,39441.6,36141.3,32022.8,39217.1,30622.3,39480.2,30069.2,37610.8,39700.0,38391.0,31726.9,38788.1,31068.1,37579.8,30641.2,34582.6,37366.6,38569.4,39004.7,37719.7,39623.0,30564.8,31423.4,32405.3,39076.5,30528.9,33301.2,34781.1,31423.4,37912.3,32358.2,31318.3,39471.4,30116.6,31782.1,31650.9,39582.6,37720.1,39687.0,30153.9,38846.5,31629.1,37626.5,30188.3,30415.8,38926.4,35823.9,34091.6,32337.3,37505.0,35948.8,39152.7,30568.1,30188.9,38041.1,38762.0,32194.9,30637.3,39620.4,32525.9,38661.0,31930.9,31014.1,38060.9,32087.2,38622.9,37621.5,30218.8,37916.8,30884.2,31176.8,38475.0,36954.4,32069.5,39748.8,31718.9,32256.3,38128.7,39351.5,39100.3,31156.4,36802.4,31255.2,39967.4,30117.9,37880.0,31566.7,35190.4,38199.0,37926.9,38393.5,39278.9,39985.5,37362.0,37938.7,35471.2,38130.0,39742.1,35754.7,37895.2,37781.8,39557.4,30365.6,39815.3,30147.5,33651.1,31585.0,30609.8,38534.7,31875.7,37381.3,39670.9,35450.0,37483.6,31589.3,30909.5,34774.2,30752.9,39231.3,30927.8,36867.6,34021.2,37479.0,30096.4,33452.0,33431.7,39409.1,39866.8,30255.7,30769.6,39049.3,30358.3,35969.1,38456.8,38249.1,38465.3,38141.9,38989.8,30107.3,38228.3,38612.0,35535.1,39637.3,39252.3,39930.1,30006.2,38490.5,37148.1,38201.2,39792.6,33247.6,38173.5,38090.8,31515.2,31689.1,39555.2,30700.1,30636.5,39644.6,35987.9,37690.1,30717.3,30202.3,35614.1,34938.9,36375.7,30104.0,37046.1,32454.8,37853.8,35113.7,31097.1,31161.4,30147.9,38110.1,31002.6,30365.4,38441.8,30268.1,30326.8,37707.5,34284.3,38441.5,39141.3,39066.8,31140.3,30125.1,30845.1,39702.4,37504.3,33120.6,39976.4,38629.0,37659.5,37928.5,39546.3,39553.7,38543.3,31125.7,39011.3,38618.2,34631.5,39030.7,37613.2,39705.9,39965.7,36893.0,30757.0,38057.3,38382.7,31175.9,38522.2,30433.0,30017.0,39799.9,39526.2,36426.8,30188.2,31075.6,38057.1,39694.4,39580.2,39873.7,35692.4,34875.2,30890.3,35855.5,30459.3,36510.3,30748.1,38845.6,39308.7,31320.5,34058.0,38155.6,30452.0,38276.5,39297.0,36590.6,31740.7,38007.7,39526.4,39472.3,37196.4,39601.8,30153.9,31066.8,38879.7,39103.8,34436.1,39888.2,35669.7,30458.4,39585.8,39033.7,35768.6,37225.5,32092.8,30976.6,37087.0,39909.1,30513.9,35717.6,38495.4,36983.2,31459.2,39371.1,30947.4,38173.9,30977.7,30818.2,31758.3,38358.0,34043.1,30219.1,39696.0,30917.3,30406.1,39265.1,39293.4,30816.7,35252.3,39024.5,36201.8,38512.6,30533.2,39067.8,30066.1,37887.3,30041.3,37586.7,31396.4,39624.1,31100.0,39316.9,37697.1,38080.0,30094.4,30736.1,37754.5,37948.1,36579.2,37761.5,30341.4,37160.8,39923.4,30229.4,37235.8,30363.3,39360.2,35359.3,35709.4,39105.9,38810.8,32294.1,30275.1,39898.1,31216.9,37264.6,31689.9,30396.7,32208.9,37896.1,31644.1,36478.0,39396.8,37927.2,30849.2,32232.6,31547.1,38064.2,30053.8,39921.1,39466.1,30811.0,37700.2,37974.1,30251.2,34141.9,37884.8,38569.8,30887.3,39353.8,37468.7,38214.2,35654.6,39979.2,38240.1,38316.3,31436.7,37353.6,31027.9,30011.5,30469.0,38587.1,39320.1,30055.6,31280.4,30047.4,30910.7,30964.9,33928.7,30137.6,39346.3,34569.7,35434.9,36867.6,38075.9,30369.3,31216.9,38363.0,39297.0,38150.8,33212.2,37598.9,39519.2,39910.5,34019.8,38070.6,30560.5,30831.4,38616.3,35978.2,39964.9,30951.6,39644.6,31359.3,36965.1,39666.9,39000.4,30743.6,30521.1,30697.6,37731.3,36063.0,35325.0,39363.1,39991.3,31088.3,33222.3,30790.9,39861.7,38929.5,30253.6,36280.2,31444.7,31275.1,31878.3,30566.7,38517.8,37073.2,31396.2,38901.6,34560.3,37948.8,37462.8,30313.3,38262.2,30233.0,30460.1,30515.6,37079.1,38427.6,39162.9,39727.2,32694.7,37585.0,30561.5,37845.6,31914.5,30110.0,38177.1,32170.5,35497.1,39788.8,31663.9,30530.8,31669.3,38799.4,35282.3,37712.8,37202.7,37269.9,30531.2,30682.9,30037.1,31256.5,30317.7,38152.8,37663.9,37943.4,36250.4,39507.0,34454.0,33859.6,30079.9,31318.0,30164.4,30063.4,37231.1,38213.6,39909.0,32157.7,31211.7,31556.7,31438.3,36804.3,30587.7,38466.7,32610.9,36136.7,37727.9,30686.8,37133.4,38752.7,35839.7,30422.9,38228.4,37358.3,35906.4,38107.9,39187.6,32046.3,30887.5,30229.1,37332.9,38557.1,30161.4,36988.6,31251.2,27862.4,30078.2,38709.8,38801.9,31080.2,39969.1,34465.8,38452.8,39626.2,32711.3,30711.3,37730.8,30699.9,39898.1,30893.9,31558.1,39956.1,31024.6,30395.7,31215.6,36124.6,39711.2,39149.9,37731.3,39140.7,31236.1,38008.9,32148.0,34166.9,31442.5,31598.8,30576.7,38020.2,38266.8,38607.0,35193.7,31484.8,35789.8,37491.6,30737.4,39234.3,36280.2,36281.7,31614.7,39955.0,38070.6,30235.9,30642.8,38344.0,36920.7,30020.4,33856.5,38893.4,30312.7,36595.5,35964.2,38686.3,37185.6,39022.5,39280.0,39905.7,32344.9,30899.3,39295.4,31767.2,30104.1,37973.5,32733.7,30064.1,39456.7,39430.6,37981.8,39280.5,30412.2,31552.8,37711.7,34668.3,30556.9,30646.0,37690.1,37724.0,37769.9,39614.8,30007.0,31756.1,33531.5,39805.2,36556.1,36025.5,31720.7,30461.6,39206.7,38701.1,32002.0,34182.9,39850.8,36747.1,39843.3,31067.2,37005.9,31109.6,37443.9,39842.0,37466.7,39816.5,31444.7,36611.2,36278.5,31325.5,38378.9,38857.6,39059.0,32978.4,37322.3,30213.7,37882.0,36336.0,36821.2,38771.0,30978.1,35511.5,30567.7,39108.7,30599.9,38629.0,38573.9,32459.4,36248.5,30186.6,30421.6,31176.8,31451.0,39236.3,30718.5,30607.7,37922.7,39680.9,39308.8,39064.3,37415.2,31480.7,30077.3,31195.2,39694.9,30946.5,36970.3,31272.4,39899.9,38846.9,37103.1,31169.3,36052.6,36867.4,31465.2,30995.3,38663.5,32861.0,39458.5,33392.1,39661.0,37069.6,31086.5,39874.3,36100.8,30909.7,30847.7,38691.0,37837.8,37748.7,30443.4,35414.8,30807.6,30567.1,36867.2,30239.1,30155.2,39712.3,38076.4,30596.6,39504.4,30711.4,39977.6,37411.2,31917.1,30691.9,39982.1,30017.5,39734.1,30490.6,39212.3,32053.8,38124.0,30592.7,39934.4,37109.7,32226.8,33301.2,31863.1,39257.7,35402.9,31508.8,37764.01,36639.85,36596.83],\"type\":\"box\"}],                        {\"font\":{\"size\":20},\"title\":{\"text\":\"Box Plot\"},\"template\":{\"data\":{\"histogram2dcontour\":[{\"type\":\"histogram2dcontour\",\"colorbar\":{\"outlinewidth\":0,\"ticks\":\"\"},\"colorscale\":[[0.0,\"#0d0887\"],[0.1111111111111111,\"#46039f\"],[0.2222222222222222,\"#7201a8\"],[0.3333333333333333,\"#9c179e\"],[0.4444444444444444,\"#bd3786\"],[0.5555555555555556,\"#d8576b\"],[0.6666666666666666,\"#ed7953\"],[0.7777777777777778,\"#fb9f3a\"],[0.8888888888888888,\"#fdca26\"],[1.0,\"#f0f921\"]]}],\"choropleth\":[{\"type\":\"choropleth\",\"colorbar\":{\"outlinewidth\":0,\"ticks\":\"\"}}],\"histogram2d\":[{\"type\":\"histogram2d\",\"colorbar\":{\"outlinewidth\":0,\"ticks\":\"\"},\"colorscale\":[[0.0,\"#0d0887\"],[0.1111111111111111,\"#46039f\"],[0.2222222222222222,\"#7201a8\"],[0.3333333333333333,\"#9c179e\"],[0.4444444444444444,\"#bd3786\"],[0.5555555555555556,\"#d8576b\"],[0.6666666666666666,\"#ed7953\"],[0.7777777777777778,\"#fb9f3a\"],[0.8888888888888888,\"#fdca26\"],[1.0,\"#f0f921\"]]}],\"heatmap\":[{\"type\":\"heatmap\",\"colorbar\":{\"outlinewidth\":0,\"ticks\":\"\"},\"colorscale\":[[0.0,\"#0d0887\"],[0.1111111111111111,\"#46039f\"],[0.2222222222222222,\"#7201a8\"],[0.3333333333333333,\"#9c179e\"],[0.4444444444444444,\"#bd3786\"],[0.5555555555555556,\"#d8576b\"],[0.6666666666666666,\"#ed7953\"],[0.7777777777777778,\"#fb9f3a\"],[0.8888888888888888,\"#fdca26\"],[1.0,\"#f0f921\"]]}],\"heatmapgl\":[{\"type\":\"heatmapgl\",\"colorbar\":{\"outlinewidth\":0,\"ticks\":\"\"},\"colorscale\":[[0.0,\"#0d0887\"],[0.1111111111111111,\"#46039f\"],[0.2222222222222222,\"#7201a8\"],[0.3333333333333333,\"#9c179e\"],[0.4444444444444444,\"#bd3786\"],[0.5555555555555556,\"#d8576b\"],[0.6666666666666666,\"#ed7953\"],[0.7777777777777778,\"#fb9f3a\"],[0.8888888888888888,\"#fdca26\"],[1.0,\"#f0f921\"]]}],\"contourcarpet\":[{\"type\":\"contourcarpet\",\"colorbar\":{\"outlinewidth\":0,\"ticks\":\"\"}}],\"contour\":[{\"type\":\"contour\",\"colorbar\":{\"outlinewidth\":0,\"ticks\":\"\"},\"colorscale\":[[0.0,\"#0d0887\"],[0.1111111111111111,\"#46039f\"],[0.2222222222222222,\"#7201a8\"],[0.3333333333333333,\"#9c179e\"],[0.4444444444444444,\"#bd3786\"],[0.5555555555555556,\"#d8576b\"],[0.6666666666666666,\"#ed7953\"],[0.7777777777777778,\"#fb9f3a\"],[0.8888888888888888,\"#fdca26\"],[1.0,\"#f0f921\"]]}],\"surface\":[{\"type\":\"surface\",\"colorbar\":{\"outlinewidth\":0,\"ticks\":\"\"},\"colorscale\":[[0.0,\"#0d0887\"],[0.1111111111111111,\"#46039f\"],[0.2222222222222222,\"#7201a8\"],[0.3333333333333333,\"#9c179e\"],[0.4444444444444444,\"#bd3786\"],[0.5555555555555556,\"#d8576b\"],[0.6666666666666666,\"#ed7953\"],[0.7777777777777778,\"#fb9f3a\"],[0.8888888888888888,\"#fdca26\"],[1.0,\"#f0f921\"]]}],\"mesh3d\":[{\"type\":\"mesh3d\",\"colorbar\":{\"outlinewidth\":0,\"ticks\":\"\"}}],\"scatter\":[{\"fillpattern\":{\"fillmode\":\"overlay\",\"size\":10,\"solidity\":0.2},\"type\":\"scatter\"}],\"parcoords\":[{\"type\":\"parcoords\",\"line\":{\"colorbar\":{\"outlinewidth\":0,\"ticks\":\"\"}}}],\"scatterpolargl\":[{\"type\":\"scatterpolargl\",\"marker\":{\"colorbar\":{\"outlinewidth\":0,\"ticks\":\"\"}}}],\"bar\":[{\"error_x\":{\"color\":\"#2a3f5f\"},\"error_y\":{\"color\":\"#2a3f5f\"},\"marker\":{\"line\":{\"color\":\"#E5ECF6\",\"width\":0.5},\"pattern\":{\"fillmode\":\"overlay\",\"size\":10,\"solidity\":0.2}},\"type\":\"bar\"}],\"scattergeo\":[{\"type\":\"scattergeo\",\"marker\":{\"colorbar\":{\"outlinewidth\":0,\"ticks\":\"\"}}}],\"scatterpolar\":[{\"type\":\"scatterpolar\",\"marker\":{\"colorbar\":{\"outlinewidth\":0,\"ticks\":\"\"}}}],\"histogram\":[{\"marker\":{\"pattern\":{\"fillmode\":\"overlay\",\"size\":10,\"solidity\":0.2}},\"type\":\"histogram\"}],\"scattergl\":[{\"type\":\"scattergl\",\"marker\":{\"colorbar\":{\"outlinewidth\":0,\"ticks\":\"\"}}}],\"scatter3d\":[{\"type\":\"scatter3d\",\"line\":{\"colorbar\":{\"outlinewidth\":0,\"ticks\":\"\"}},\"marker\":{\"colorbar\":{\"outlinewidth\":0,\"ticks\":\"\"}}}],\"scattermapbox\":[{\"type\":\"scattermapbox\",\"marker\":{\"colorbar\":{\"outlinewidth\":0,\"ticks\":\"\"}}}],\"scatterternary\":[{\"type\":\"scatterternary\",\"marker\":{\"colorbar\":{\"outlinewidth\":0,\"ticks\":\"\"}}}],\"scattercarpet\":[{\"type\":\"scattercarpet\",\"marker\":{\"colorbar\":{\"outlinewidth\":0,\"ticks\":\"\"}}}],\"carpet\":[{\"aaxis\":{\"endlinecolor\":\"#2a3f5f\",\"gridcolor\":\"white\",\"linecolor\":\"white\",\"minorgridcolor\":\"white\",\"startlinecolor\":\"#2a3f5f\"},\"baxis\":{\"endlinecolor\":\"#2a3f5f\",\"gridcolor\":\"white\",\"linecolor\":\"white\",\"minorgridcolor\":\"white\",\"startlinecolor\":\"#2a3f5f\"},\"type\":\"carpet\"}],\"table\":[{\"cells\":{\"fill\":{\"color\":\"#EBF0F8\"},\"line\":{\"color\":\"white\"}},\"header\":{\"fill\":{\"color\":\"#C8D4E3\"},\"line\":{\"color\":\"white\"}},\"type\":\"table\"}],\"barpolar\":[{\"marker\":{\"line\":{\"color\":\"#E5ECF6\",\"width\":0.5},\"pattern\":{\"fillmode\":\"overlay\",\"size\":10,\"solidity\":0.2}},\"type\":\"barpolar\"}],\"pie\":[{\"automargin\":true,\"type\":\"pie\"}]},\"layout\":{\"autotypenumbers\":\"strict\",\"colorway\":[\"#636efa\",\"#EF553B\",\"#00cc96\",\"#ab63fa\",\"#FFA15A\",\"#19d3f3\",\"#FF6692\",\"#B6E880\",\"#FF97FF\",\"#FECB52\"],\"font\":{\"color\":\"#2a3f5f\"},\"hovermode\":\"closest\",\"hoverlabel\":{\"align\":\"left\"},\"paper_bgcolor\":\"white\",\"plot_bgcolor\":\"#E5ECF6\",\"polar\":{\"bgcolor\":\"#E5ECF6\",\"angularaxis\":{\"gridcolor\":\"white\",\"linecolor\":\"white\",\"ticks\":\"\"},\"radialaxis\":{\"gridcolor\":\"white\",\"linecolor\":\"white\",\"ticks\":\"\"}},\"ternary\":{\"bgcolor\":\"#E5ECF6\",\"aaxis\":{\"gridcolor\":\"white\",\"linecolor\":\"white\",\"ticks\":\"\"},\"baxis\":{\"gridcolor\":\"white\",\"linecolor\":\"white\",\"ticks\":\"\"},\"caxis\":{\"gridcolor\":\"white\",\"linecolor\":\"white\",\"ticks\":\"\"}},\"coloraxis\":{\"colorbar\":{\"outlinewidth\":0,\"ticks\":\"\"}},\"colorscale\":{\"sequential\":[[0.0,\"#0d0887\"],[0.1111111111111111,\"#46039f\"],[0.2222222222222222,\"#7201a8\"],[0.3333333333333333,\"#9c179e\"],[0.4444444444444444,\"#bd3786\"],[0.5555555555555556,\"#d8576b\"],[0.6666666666666666,\"#ed7953\"],[0.7777777777777778,\"#fb9f3a\"],[0.8888888888888888,\"#fdca26\"],[1.0,\"#f0f921\"]],\"sequentialminus\":[[0.0,\"#0d0887\"],[0.1111111111111111,\"#46039f\"],[0.2222222222222222,\"#7201a8\"],[0.3333333333333333,\"#9c179e\"],[0.4444444444444444,\"#bd3786\"],[0.5555555555555556,\"#d8576b\"],[0.6666666666666666,\"#ed7953\"],[0.7777777777777778,\"#fb9f3a\"],[0.8888888888888888,\"#fdca26\"],[1.0,\"#f0f921\"]],\"diverging\":[[0,\"#8e0152\"],[0.1,\"#c51b7d\"],[0.2,\"#de77ae\"],[0.3,\"#f1b6da\"],[0.4,\"#fde0ef\"],[0.5,\"#f7f7f7\"],[0.6,\"#e6f5d0\"],[0.7,\"#b8e186\"],[0.8,\"#7fbc41\"],[0.9,\"#4d9221\"],[1,\"#276419\"]]},\"xaxis\":{\"gridcolor\":\"white\",\"linecolor\":\"white\",\"ticks\":\"\",\"title\":{\"standoff\":15},\"zerolinecolor\":\"white\",\"automargin\":true,\"zerolinewidth\":2},\"yaxis\":{\"gridcolor\":\"white\",\"linecolor\":\"white\",\"ticks\":\"\",\"title\":{\"standoff\":15},\"zerolinecolor\":\"white\",\"automargin\":true,\"zerolinewidth\":2},\"scene\":{\"xaxis\":{\"backgroundcolor\":\"#E5ECF6\",\"gridcolor\":\"white\",\"linecolor\":\"white\",\"showbackground\":true,\"ticks\":\"\",\"zerolinecolor\":\"white\",\"gridwidth\":2},\"yaxis\":{\"backgroundcolor\":\"#E5ECF6\",\"gridcolor\":\"white\",\"linecolor\":\"white\",\"showbackground\":true,\"ticks\":\"\",\"zerolinecolor\":\"white\",\"gridwidth\":2},\"zaxis\":{\"backgroundcolor\":\"#E5ECF6\",\"gridcolor\":\"white\",\"linecolor\":\"white\",\"showbackground\":true,\"ticks\":\"\",\"zerolinecolor\":\"white\",\"gridwidth\":2}},\"shapedefaults\":{\"line\":{\"color\":\"#2a3f5f\"}},\"annotationdefaults\":{\"arrowcolor\":\"#2a3f5f\",\"arrowhead\":0,\"arrowwidth\":1},\"geo\":{\"bgcolor\":\"white\",\"landcolor\":\"#E5ECF6\",\"subunitcolor\":\"white\",\"showland\":true,\"showlakes\":true,\"lakecolor\":\"white\"},\"title\":{\"x\":0.05},\"mapbox\":{\"style\":\"light\"}}}},                        {\"responsive\": true}                    ).then(function(){\n",
       "                            \n",
       "var gd = document.getElementById('6c270c9c-b6aa-4f21-a491-b46c44e592ca');\n",
       "var x = new MutationObserver(function (mutations, observer) {{\n",
       "        var display = window.getComputedStyle(gd).display;\n",
       "        if (!display || display === 'none') {{\n",
       "            console.log([gd, 'removed!']);\n",
       "            Plotly.purge(gd);\n",
       "            observer.disconnect();\n",
       "        }}\n",
       "}});\n",
       "\n",
       "// Listen for the removal of the full notebook cells\n",
       "var notebookContainer = gd.closest('#notebook-container');\n",
       "if (notebookContainer) {{\n",
       "    x.observe(notebookContainer, {childList: true});\n",
       "}}\n",
       "\n",
       "// Listen for the clearing of the current output cell\n",
       "var outputEl = gd.closest('.output');\n",
       "if (outputEl) {{\n",
       "    x.observe(outputEl, {childList: true});\n",
       "}}\n",
       "\n",
       "                        })                };                });            </script>        </div>"
      ]
     },
     "metadata": {},
     "output_type": "display_data"
    }
   ],
   "source": [
    "# 상자 그래프 그리기 // 대륙별로 상자 그래프 그리기\n",
    "\n",
    "df_g = df20[[\"Region\", \"Revenue\"]]\n",
    "\n",
    "A = df_g[df_g[\"Region\"] == \"Asia\"]\n",
    "A = go.Box(y = A[\"Revenue\"], name = \"Asia\")\n",
    "\n",
    "data = [A]\n",
    "layout = go.Layout(title = 'Box Plot', font_size = 20)\n",
    "fig = go.Figure(data, layout)\n",
    "fig.show()"
   ]
  },
  {
   "cell_type": "code",
   "execution_count": 124,
   "id": "0c9a209a-cc0d-451c-8491-621cc294d4d9",
   "metadata": {},
   "outputs": [
    {
     "data": {
      "text/plain": [
       "Region\n",
       "Africa     16358135.60\n",
       "America    52518585.80\n",
       "Asia      108086359.39\n",
       "Europe    102577473.43\n",
       "Oceania    21965963.90\n",
       "Name: Revenue, dtype: float64"
      ]
     },
     "execution_count": 124,
     "metadata": {},
     "output_type": "execute_result"
    }
   ],
   "source": [
    "# 상자 그래프 그리기 // 대륙별로 상자 그래프 그리기\n",
    "df_g = df20[[\"Region\", \"Revenue\"]]\n",
    "df_g.groupby(\"Region\")[\"Revenue\"].sum()\n"
   ]
  },
  {
   "cell_type": "code",
   "execution_count": null,
   "id": "087f430f-ef58-4e49-935f-9eb246a926cd",
   "metadata": {},
   "outputs": [],
   "source": [
    "\n",
    "data = [A]\n",
    "layout = go.Layout(title = 'Box Plot', font_size = 20)\n",
    "fig = go.Figure(data, layout)\n",
    "fig.show()"
   ]
  }
 ],
 "metadata": {
  "kernelspec": {
   "display_name": "Python 3 (ipykernel)",
   "language": "python",
   "name": "python3"
  },
  "language_info": {
   "codemirror_mode": {
    "name": "ipython",
    "version": 3
   },
   "file_extension": ".py",
   "mimetype": "text/x-python",
   "name": "python",
   "nbconvert_exporter": "python",
   "pygments_lexer": "ipython3",
   "version": "3.12.7"
  }
 },
 "nbformat": 4,
 "nbformat_minor": 5
}
