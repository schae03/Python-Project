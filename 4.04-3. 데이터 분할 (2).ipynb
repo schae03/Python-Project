{
 "cells": [
  {
   "cell_type": "markdown",
   "id": "fa89c542-eb7b-45c9-906a-c1fa0f0d0bdb",
   "metadata": {},
   "source": [
    "# 데이터 분할\n",
    "머신러닝 모델을 개발하고 평가하는 과정에서 ```데이터 분할(Data Splitting)```은 매우 중요하고 기본적인 단계입니다. 데이터를 적절하게 분할하지 않으면 모델의 성능을 과대평가하거나(과적합, Overfitting), 실제 새로운 데이터에 대한 예측 능력을 제대로 파악하기 어렵습니다.\n",
    "\n",
    "1. 모델 성능의 일반화(Generalization) 능력 평가\n",
    "2. 과적합(Overfitting) 방지 및 탐지\n",
    "3. 하이퍼파라미터 튜닝(Hyperparameter Tuning)"
   ]
  },
  {
   "cell_type": "code",
   "execution_count": 1,
   "id": "5aa5d718-e1af-4a13-a015-c3900ca43415",
   "metadata": {},
   "outputs": [
    {
     "data": {
      "text/html": [
       "<div>\n",
       "<style scoped>\n",
       "    .dataframe tbody tr th:only-of-type {\n",
       "        vertical-align: middle;\n",
       "    }\n",
       "\n",
       "    .dataframe tbody tr th {\n",
       "        vertical-align: top;\n",
       "    }\n",
       "\n",
       "    .dataframe thead th {\n",
       "        text-align: right;\n",
       "    }\n",
       "</style>\n",
       "<table border=\"1\" class=\"dataframe\">\n",
       "  <thead>\n",
       "    <tr style=\"text-align: right;\">\n",
       "      <th></th>\n",
       "      <th>Species</th>\n",
       "      <th>Weight</th>\n",
       "      <th>Length</th>\n",
       "      <th>Diagonal</th>\n",
       "      <th>Height</th>\n",
       "      <th>Width</th>\n",
       "    </tr>\n",
       "  </thead>\n",
       "  <tbody>\n",
       "    <tr>\n",
       "      <th>0</th>\n",
       "      <td>Bream</td>\n",
       "      <td>242.0</td>\n",
       "      <td>25.4</td>\n",
       "      <td>30.0</td>\n",
       "      <td>11.5200</td>\n",
       "      <td>4.0200</td>\n",
       "    </tr>\n",
       "    <tr>\n",
       "      <th>1</th>\n",
       "      <td>Bream</td>\n",
       "      <td>290.0</td>\n",
       "      <td>26.3</td>\n",
       "      <td>31.2</td>\n",
       "      <td>12.4800</td>\n",
       "      <td>4.3056</td>\n",
       "    </tr>\n",
       "    <tr>\n",
       "      <th>2</th>\n",
       "      <td>Bream</td>\n",
       "      <td>340.0</td>\n",
       "      <td>26.5</td>\n",
       "      <td>31.1</td>\n",
       "      <td>12.3778</td>\n",
       "      <td>4.6961</td>\n",
       "    </tr>\n",
       "    <tr>\n",
       "      <th>3</th>\n",
       "      <td>Bream</td>\n",
       "      <td>363.0</td>\n",
       "      <td>29.0</td>\n",
       "      <td>33.5</td>\n",
       "      <td>12.7300</td>\n",
       "      <td>4.4555</td>\n",
       "    </tr>\n",
       "    <tr>\n",
       "      <th>4</th>\n",
       "      <td>Bream</td>\n",
       "      <td>430.0</td>\n",
       "      <td>29.0</td>\n",
       "      <td>34.0</td>\n",
       "      <td>12.4440</td>\n",
       "      <td>5.1340</td>\n",
       "    </tr>\n",
       "  </tbody>\n",
       "</table>\n",
       "</div>"
      ],
      "text/plain": [
       "  Species  Weight  Length  Diagonal   Height   Width\n",
       "0   Bream   242.0    25.4      30.0  11.5200  4.0200\n",
       "1   Bream   290.0    26.3      31.2  12.4800  4.3056\n",
       "2   Bream   340.0    26.5      31.1  12.3778  4.6961\n",
       "3   Bream   363.0    29.0      33.5  12.7300  4.4555\n",
       "4   Bream   430.0    29.0      34.0  12.4440  5.1340"
      ]
     },
     "execution_count": 1,
     "metadata": {},
     "output_type": "execute_result"
    }
   ],
   "source": [
    "import pandas as pd\n",
    "fish = pd.read_csv(\"Data/fish2.csv\")\n",
    "fish.head()"
   ]
  },
  {
   "cell_type": "code",
   "execution_count": 2,
   "id": "f576b7ff-f2a0-4bea-a787-21d404c0f65b",
   "metadata": {},
   "outputs": [
    {
     "name": "stdout",
     "output_type": "stream",
     "text": [
      "<class 'pandas.core.frame.DataFrame'>\n",
      "RangeIndex: 159 entries, 0 to 158\n",
      "Data columns (total 6 columns):\n",
      " #   Column    Non-Null Count  Dtype  \n",
      "---  ------    --------------  -----  \n",
      " 0   Species   159 non-null    object \n",
      " 1   Weight    159 non-null    float64\n",
      " 2   Length    159 non-null    float64\n",
      " 3   Diagonal  159 non-null    float64\n",
      " 4   Height    159 non-null    float64\n",
      " 5   Width     159 non-null    float64\n",
      "dtypes: float64(5), object(1)\n",
      "memory usage: 7.6+ KB\n"
     ]
    }
   ],
   "source": [
    "fish.info()"
   ]
  },
  {
   "cell_type": "code",
   "execution_count": 4,
   "id": "bbb15673-3d3e-4d4d-8c64-2f611a7b48cd",
   "metadata": {},
   "outputs": [],
   "source": [
    "X = fish.drop(\"Species\", axis = 1).values\n",
    "Y = fish['Species'].values"
   ]
  },
  {
   "cell_type": "markdown",
   "id": "2714016f-9d71-429b-858c-cef9a99f55b8",
   "metadata": {},
   "source": [
    "## 홀드아웃 방식 (Hold-out Method)\n",
    "전체 데이터를 단순히 훈련 세트와 테스트 세트 (또는 훈련/검증/테스트 세트)로 한 번만 나누는 가장 간단한 방법입니다."
   ]
  },
  {
   "cell_type": "code",
   "execution_count": 5,
   "id": "c18d8d40-56d1-40eb-a105-d009772ca6a6",
   "metadata": {},
   "outputs": [],
   "source": [
    "from sklearn.model_selection import train_test_split\n",
    "from sklearn.neighbors import KNeighborsClassifier\n",
    "from sklearn.preprocessing import StandardScaler\n",
    "\n",
    "train_x, test_x, train_y, test_y = train_test_split(X, Y, test_size = 0.2)\n",
    "\n",
    "ss = StandardScaler()\n",
    "train_scaled = ss.fit_transform(train_x)\n",
    "test_scaled = ss.transform(test_x)"
   ]
  },
  {
   "cell_type": "code",
   "execution_count": 6,
   "id": "3aa090b7-14cc-4bf6-b7e0-f609a52e2377",
   "metadata": {},
   "outputs": [
    {
     "data": {
      "text/plain": [
       "0.65625"
      ]
     },
     "execution_count": 6,
     "metadata": {},
     "output_type": "execute_result"
    }
   ],
   "source": [
    "model = KNeighborsClassifier()\n",
    "model.fit(train_scaled, train_y)\n",
    "model.score(test_scaled, test_y)"
   ]
  },
  {
   "cell_type": "markdown",
   "id": "455ab4db-db9b-467a-837f-4f0d1551b22d",
   "metadata": {},
   "source": [
    "## K-겹 교차 검증 (K-Fold Cross-Validation)\n",
    "데이터를 K개의 동일한 크기의 부분집합(폴드, Fold)으로 나눕니다. 총 K번의 반복을 수행하며, 매번 다른 폴드를 ```테스트 세트(또는 검증 세트)```로 사용하고 나머지 K-1개의 폴드를 훈련 세트로 사용합니다. K번의 평가 결과를 평균내어 모델의 최종 성능을 추정합니다."
   ]
  },
  {
   "cell_type": "code",
   "execution_count": 14,
   "id": "849ffabe-19ec-4b41-882a-35ef25a8a44d",
   "metadata": {},
   "outputs": [
    {
     "data": {
      "text/plain": [
       "0.8119999999999999"
      ]
     },
     "execution_count": 14,
     "metadata": {},
     "output_type": "execute_result"
    }
   ],
   "source": [
    "from sklearn.model_selection import KFold, cross_val_score\n",
    "\n",
    "kfold = KFold(n_splits=5, shuffle=True)        # 등분을 5개로 나눔\n",
    "\n",
    "model = KNeighborsClassifier()\n",
    "# scores = cross_val_score(model, X, Y, cv = kfold)        # 5개의 성능 \n",
    "scores = cross_val_score(model, train_scaled, train_y, cv = kfold)        # 표준화된 데이터로 성능평가도 가능\n",
    "scores.mean()         # 성능의 평균"
   ]
  },
  {
   "cell_type": "markdown",
   "id": "1b26f017-2593-4e1a-93cb-02ca4a2fe084",
   "metadata": {},
   "source": [
    "## 계층별 K-겹 교차 검증 (Stratified K-Fold Cross-Validation):\n",
    "K-겹 교차 검증과 유사하지만, 각 폴드에 클래스(타겟)의 분포가 원본 데이터와 동일하게 유지되도록 합니다. 불균형 데이터셋(Imbalanced Dataset, 클래스 비율이 매우 다른 데이터셋)에서 특히 중요합니다."
   ]
  },
  {
   "cell_type": "code",
   "execution_count": 11,
   "id": "71ea5d7c-da21-4af4-94f3-cab6e76faaf5",
   "metadata": {},
   "outputs": [
    {
     "data": {
      "text/plain": [
       "0.5725806451612903"
      ]
     },
     "execution_count": 11,
     "metadata": {},
     "output_type": "execute_result"
    }
   ],
   "source": [
    "from sklearn.model_selection import StratifiedKFold\n",
    "\n",
    "kfold = StratifiedKFold(n_splits=5, shuffle=True)     # 섞긴섞는데 생선들의 비율을 맞춰서 섞겠다\n",
    "\n",
    "scores = cross_val_score(model, X, Y, cv = kfold)        # 5개의 성능 \n",
    "scores.mean()         # 성능의 평균"
   ]
  },
  {
   "cell_type": "markdown",
   "id": "13b8542b-1466-4bf6-a7b1-c0c82ef56350",
   "metadata": {},
   "source": [
    "## Leave-One-Out 교차 검증 (LOOCV):\n",
    "K-겹 교차 검증의 특별한 경우로, K를 데이터 포인트의 수와 같게 설정합니다. (즉, 하나의 데이터 포인트를 테스트 세트로 사용하고 나머지를 학습 세트로 사용). 데이터가 매우 적을 때 사용할 수 있지만, 계산 비용이 매우 큽니다."
   ]
  },
  {
   "cell_type": "code",
   "execution_count": 13,
   "id": "c8c62389-ca66-4e38-af36-13d25ef3d580",
   "metadata": {},
   "outputs": [
    {
     "data": {
      "text/plain": [
       "0.5660377358490566"
      ]
     },
     "execution_count": 13,
     "metadata": {},
     "output_type": "execute_result"
    }
   ],
   "source": [
    "from sklearn.model_selection import LeaveOneOut\n",
    "\n",
    "loo = LeaveOneOut()        # 들어온 데이터 개수만큼 등분\n",
    "\n",
    "scores = cross_val_score(model, X, Y, cv = loo)        # 맞히면1, 못맞히면 0으로\n",
    "scores.mean()         # 성능의 평균"
   ]
  }
 ],
 "metadata": {
  "kernelspec": {
   "display_name": "Python 3 (ipykernel)",
   "language": "python",
   "name": "python3"
  },
  "language_info": {
   "codemirror_mode": {
    "name": "ipython",
    "version": 3
   },
   "file_extension": ".py",
   "mimetype": "text/x-python",
   "name": "python",
   "nbconvert_exporter": "python",
   "pygments_lexer": "ipython3",
   "version": "3.12.7"
  }
 },
 "nbformat": 4,
 "nbformat_minor": 5
}
