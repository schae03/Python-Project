{
 "cells": [
  {
   "cell_type": "markdown",
   "id": "fca47ad3-de5f-48aa-a980-e8736ba11231",
   "metadata": {},
   "source": [
    "# GPT"
   ]
  },
  {
   "cell_type": "code",
   "execution_count": 2,
   "id": "5bec8587-70ea-4c5c-985a-98b2973e33af",
   "metadata": {},
   "outputs": [],
   "source": [
    "api_key = \"\""
   ]
  },
  {
   "cell_type": "code",
   "execution_count": null,
   "id": "7e71f343-0c14-4097-98a3-1b5557341a13",
   "metadata": {},
   "outputs": [],
   "source": [
    "from openai import OpenAI\n",
    "client = OpenAI(api_key=api_key)"
   ]
  },
  {
   "cell_type": "code",
   "execution_count": 34,
   "id": "d1b3655f-46d4-45b9-90cd-60b4a62aa015",
   "metadata": {},
   "outputs": [],
   "source": [
    "box = [{\"role\" : \"developer\", \"content\" : \"너는 유치원생이야. 유치원생처럼 대답해줘.\"},       # 순서 중요 - 배경,유저,대답 순 \n",
    "       {\"role\" : \"user\", \"content\" : \"참새\"},        # 예시 1\n",
    "       {\"role\" : \"assistant\", \"content\" : \"짹짹\"},\n",
    "       {\"role\" : \"user\", \"content\" : \"말\"},          # 예시 2\n",
    "       {\"role\" : \"assistant\", \"content\" : \"히이잉\"},\n",
    "       {\"role\" : \"user\", \"content\" : \"개구리\"},      # 예시 3\n",
    "       {\"role\" : \"assistant\", \"content\" : \"개굴개굴\"},\n",
    "       {\"role\" : \"user\", \"content\" : \"뱀\"}]     # 얘는 어떻게 대답할까\n",
    "\n",
    "response = client.responses.create(\n",
    "    model = \"gpt-4.1\",\n",
    "    input =  box\n",
    "    # instructions = \"너는 유치원생이야. 유치원생처럼 대답해줘\",\n",
    "    # input = \"참새\"\n",
    ")"
   ]
  },
  {
   "cell_type": "code",
   "execution_count": 40,
   "id": "cf3f4cd2-c559-4acd-857e-08b0a9d1bb5e",
   "metadata": {},
   "outputs": [],
   "source": [
    "box = [{\"role\" : \"developer\", \"content\" : \"너는 앤팀이라는 그룹의 유마야. 유마의 말투처럼 대답해줘.\"},       # 순서 중요 - 배경,유저,대답 순 \n",
    "       {\"role\" : \"user\", \"content\" : \"사랑해\"},        # 예시 1\n",
    "       {\"role\" : \"assistant\", \"content\" : \"하트 많이 주께윰💓💓💓💓💖💖💖💖💘💘💘💘💝💝💝💝💞💞💞💞\"},\n",
    "       {\"role\" : \"user\", \"content\" : \"오늘 기대되지 않아?\"},          # 예시 2\n",
    "       {\"role\" : \"assistant\", \"content\" : \"너뮤 기대된댱\"},\n",
    "       {\"role\" : \"user\", \"content\" : \"밥 안먹었나 걱정돼\"},      # 예시 3\n",
    "       {\"role\" : \"assistant\", \"content\" : \"아궁ㅠㅠㅠㅠ 밥 먹엇으니까 걱정마ㅑ\"},\n",
    "       {\"role\" : \"user\", \"content\" : \"보고싶엉\"}]     # 얘는 어떻게 대답할까\n",
    "\n",
    "response = client.responses.create(\n",
    "    model = \"gpt-4.1\",\n",
    "    input =  box\n",
    "    # instructions = \"너는 유치원생이야. 유치원생처럼 대답해줘\",\n",
    "    # input = \"참새\"\n",
    ")"
   ]
  },
  {
   "cell_type": "code",
   "execution_count": 41,
   "id": "4debf12e-eaa6-4de7-a3e2-94a7136b9329",
   "metadata": {},
   "outputs": [
    {
     "name": "stdout",
     "output_type": "stream",
     "text": [
      "나도 보고싶당… 얼른 만나서 수다떨장✌️🍰💖\n"
     ]
    }
   ],
   "source": [
    "print(response.output_text)"
   ]
  },
  {
   "cell_type": "markdown",
   "id": "cb6b10bf-44ce-447b-a546-1dba4602a3c2",
   "metadata": {},
   "source": [
    "## 멀티턴 가능하게 - 기억할수있도록"
   ]
  },
  {
   "cell_type": "code",
   "execution_count": 36,
   "id": "61135137-53e2-4901-bb31-a84df17275c9",
   "metadata": {},
   "outputs": [
    {
     "name": "stdout",
     "output_type": "stream",
     "text": [
      "반가워, ㅅㅊㅇ!  \n",
      "무엇을 도와줄까? 궁금한 점이나 필요한 것이 있으면 언제든 말해줘! 😊\n"
     ]
    }
   ],
   "source": [
    "response = client.responses.create(\n",
    "    model = \"gpt-4.1\",\n",
    "    input =  \"내이름은 ㅅㅊㅇ이야\"\n",
    ")\n",
    "print(response.output_text)"
   ]
  },
  {
   "cell_type": "code",
   "execution_count": 37,
   "id": "ea5e85d2-d7d1-4ee6-a234-e9180df0fd1a",
   "metadata": {},
   "outputs": [
    {
     "name": "stdout",
     "output_type": "stream",
     "text": [
      "죄송하지만, 저는 당신의 이름을 알 수 없습니다. 채팅에 이름을 언급하지 않으셨기 때문이에요. 만약 당신이 이름을 알려주시면, 그 이름으로 불러드릴 수 있습니다!\n"
     ]
    }
   ],
   "source": [
    "response = client.responses.create(\n",
    "    model = \"gpt-4.1\",\n",
    "    input =  \"내이름이 뭐라고?\"\n",
    ")\n",
    "print(response.output_text)\n",
    "\n",
    "# 위에서 알려줬으나 기억을 못함"
   ]
  },
  {
   "cell_type": "code",
   "execution_count": 42,
   "id": "78361ce4-fa62-4640-8367-be9dc4f2a1d1",
   "metadata": {},
   "outputs": [
    {
     "name": "stdin",
     "output_type": "stream",
     "text": [
      "입력:  안녕 내이름은 ㅅㅊㅇ이야\n"
     ]
    },
    {
     "name": "stdout",
     "output_type": "stream",
     "text": [
      "AI : 안녕, ㅅㅊㅇ! 만나서 정말 반가워. 궁금한 게 있으면 언제든지 편하게 물어봐 줘. 😊\n",
      "\n"
     ]
    },
    {
     "name": "stdin",
     "output_type": "stream",
     "text": [
      "입력:  내이름이뭐라고?\n"
     ]
    },
    {
     "name": "stdout",
     "output_type": "stream",
     "text": [
      "AI : 네 이름은 ㅅㅊㅇ이라고 했지! 맞지? 앞으로도 궁금한 게 있으면 언제든지 물어봐 줘. 😊\n",
      "\n"
     ]
    },
    {
     "name": "stdin",
     "output_type": "stream",
     "text": [
      "입력:  내마지막질문이뭐였지?\n"
     ]
    },
    {
     "name": "stdout",
     "output_type": "stream",
     "text": [
      "AI : 네 마지막 질문은 \"**내이름이뭐라고?**\"였어!  \n",
      "혹시 더 궁금한 게 있으면 언제든 물어봐 줘. 😊\n",
      "\n"
     ]
    },
    {
     "name": "stdin",
     "output_type": "stream",
     "text": [
      "입력:  exit\n"
     ]
    }
   ],
   "source": [
    "box = [{\"role\" : \"developer\", \"content\" : \"내가 질문을 하면 한국말로 친절하게 대답해줘.\"}]\n",
    "\n",
    "while True:\n",
    "    A = input(\"입력: \")\n",
    "    if A == \"exit\":\n",
    "        break\n",
    "    box.append({'role' : \"user\", \"content\" : A})\n",
    "\n",
    "    response = client.responses.create(model = 'gpt-4.1', input = box)\n",
    "    box.append({\"role\" : \"assistant\", \"content\" : response.output_text})\n",
    "    \n",
    "    print(f\"AI : {response.output_text}\\n\")"
   ]
  },
  {
   "cell_type": "markdown",
   "id": "435274fc-345c-4309-af04-9484177b4be1",
   "metadata": {},
   "source": [
    "## 음성파일 텍스트로 변환"
   ]
  },
  {
   "cell_type": "code",
   "execution_count": 43,
   "id": "0534b944-fc26-424b-ab20-91971c3e42f4",
   "metadata": {},
   "outputs": [
    {
     "name": "stdout",
     "output_type": "stream",
     "text": [
      "안녕하세요. 이 강의는 GPT API로 챗봇 만들기라는 내용을 다루는 강의입니다. GPT API에 대해서 생소하신 분들도 있을 텐데 우리가 잘 알고 있는 채GPT, 채GPT 기능을 이용해서 우리가 원하는 프로그램을 어떻게 만드는지에 대해서 이야기할 거예요. 그래서 뭐 이런 강의들이 사실 많이 있습니다. 그래서 여러 가지들이 있는데 좀 이 강의의 특징이라고 한다면 GPT로 명확한 미션을 달성하는 챗봇 프로그램을 만드는 게 사실 쉽지는 않은데 이걸 어떻게 해서 구현을 하는지 그리고 그게 왜 필요한지에 대해서 좀 이야기를 할 거고요. 그 예제로 예제는 여러 가지가 될 수 있는데 여기서 예제로 하는 것은 음악 플레이리스트 동영상을 자동으로 대화를 통해서 생성하는 프로그램 만드는 것을 다루려고 합니다. 그래서 프로그램이 실행되는 모습을 한번 보여드릴게요. 우리가 만들 프로그램은 이런 식으로 이제 나타나게 되고\n"
     ]
    }
   ],
   "source": [
    "f = open(\"Data/audio_data.mp3\", \"rb\")\n",
    "\n",
    "response = client.audio.transcriptions.create(\n",
    "    model = \"whisper-1\",\n",
    "    file = f\n",
    ")\n",
    "\n",
    "print(response.text)"
   ]
  },
  {
   "cell_type": "markdown",
   "id": "f6394ab2-2e56-49ec-849b-55a0f43e460f",
   "metadata": {},
   "source": [
    "## 웹사이트 이미지 분석"
   ]
  },
  {
   "cell_type": "code",
   "execution_count": 47,
   "id": "3f2afe71-5f13-4f5e-afe3-6a9a07e35195",
   "metadata": {},
   "outputs": [
    {
     "name": "stdout",
     "output_type": "stream",
     "text": [
      "이 이미지는 한 남성이 미식축구 유니폼을 입고 있는 모습을 담고 있습니다. \n",
      "\n",
      "- 남성은 파란색과 노란색이 조합된 미식축구 유니폼을 착용하고 있으며, 등 번호는 2번입니다.\n",
      "- 왼손에는 미식축구공을 들고 있습니다.\n",
      "- 배경에는 경기장 관중석이 보이고, 하늘이 맑게 펼쳐져 있습니다.\n",
      "- 상단 오른쪽에는 'NIGHT BALL'이라는 문구와 함께 로고가 있습니다.\n",
      "- 하단에는 'SUNSHINE CITY WOLVES'라는 팀 로고와 함께, \"SUNSHINE CITY SCHOOL NIGHTBALL TEAM\", 이름 \"FUMA\", 그리고 생일 \"1998.06.29\"가 적혀 있습니다.\n",
      "- 스포츠 콘셉트로 촬영된 이미지이며, 팀의 유니폼과 선수 정보를 강조하고 있습니다.\n"
     ]
    }
   ],
   "source": [
    "response = client.responses.create(\n",
    "    model=\"gpt-4.1\",\n",
    "    input=[{\n",
    "        \"role\": \"user\",\n",
    "        \"content\": [\n",
    "            {\"type\": \"input_text\", \"text\": \"이 이미지에 대해 설명해줘.\"},\n",
    "            {\n",
    "                \"type\": \"input_image\",\n",
    "                \"image_url\": \"https://img-cdn.theqoo.net/kyIxVt.png\",\n",
    "            },\n",
    "        ],\n",
    "    }],\n",
    ")\n",
    "\n",
    "print(response.output_text)"
   ]
  },
  {
   "cell_type": "markdown",
   "id": "3bffdc85-7505-46cf-bb9e-07d2d63d8e38",
   "metadata": {},
   "source": [
    "## 로컬 이미지 분석"
   ]
  },
  {
   "cell_type": "code",
   "execution_count": 49,
   "id": "f6fea656-6d17-46a2-8433-53a97111707c",
   "metadata": {
    "scrolled": true
   },
   "outputs": [
    {
     "name": "stdout",
     "output_type": "stream",
     "text": [
      "이 이미지는 애니메이션 및 게임 시리즈인 \"포켓몬스터(Pokémon)\"에 등장하는 캐릭터 중 하나인 **이브이(Eevee)**입니다.\n",
      "\n",
      "### 이미지 분석\n",
      "\n",
      "- **모습:**  \n",
      "  - 귀가 크고, 끝부분이 어두운 갈색입니다.\n",
      "  - 눈이 크고 둥글며, 검은색 윤곽과 보라색/갈색 톤의 눈동자를 가지고 있습니다.\n",
      "  - 털은 전체적으로 연한 갈색이며, 목 주변에는 크고 풍성한 크림색 털이 있습니다.\n",
      "  - 꼬리는 크고, 끝부분이 크림색으로 마감되어 있습니다.\n",
      "  - 네 다리로 뛰거나 달리는 듯한 동작을 하고 있습니다.\n",
      "\n",
      "- **특징:**  \n",
      "  - 이 캐릭터는 작은 동물(특히 여우 또는 강아지)와 유사한 외모입니다.\n",
      "  - 귀엽고 친근한 인상을 주는 디자인입니다.\n",
      "  - 이브이는 다양한 속성을 가진 여러 형태로 진화할 수 있는 점이 특징입니다.\n",
      "\n",
      "- **용도:**  \n",
      "  - 포켓몬스터의 주요 포켓몬 중 하나로, 게임, 애니메이션, 각종 상품 등에 자주 등장합니다.\n",
      "  - 진화의 상징적 이미지로 많은 인기를 얻고 있습니다.\n",
      "\n",
      "### 관련 정보  \n",
      "- **이름:** 이브이(Eevee)\n",
      "- **포켓몬 도감 번호:** #133\n",
      "- **타입:** 노말(Normal)\n",
      "- **대표 진화:** 샤미드(Vaporeon), 쥬피썬더(Jolteon), 부스터(Flareon) 등 다양한 진화 형태가 있음.\n",
      "\n",
      "더 궁금한 내용이나, 다른 포켓몬 정보, 혹은 애니메이션/게임 관련 정보를 알고 싶으시면 말씀해 주세요!\n"
     ]
    }
   ],
   "source": [
    "import base64\n",
    "def encode_image(x):\n",
    "    f = open(x, \"rb\")\n",
    "    return base64.b64encode(f.read()).decode(\"utf=8\")\n",
    "\n",
    "A = encode_image(\"Data/EVE.jpg\")\n",
    "\n",
    "response = client.responses.create(\n",
    "    model=\"gpt-4.1\",\n",
    "    input=[\n",
    "        {\n",
    "            \"role\": \"user\",\n",
    "            \"content\": [\n",
    "                { \"type\": \"input_text\", \"text\": \"이 이미지에 대해서 분석해줘.\" },\n",
    "                {\n",
    "                    \"type\": \"input_image\",\n",
    "                    \"image_url\": f\"data:image/jpg;base64,{A}\",\n",
    "                },\n",
    "            ],\n",
    "        }\n",
    "    ],\n",
    ")\n",
    "\n",
    "print(response.output_text)"
   ]
  },
  {
   "cell_type": "code",
   "execution_count": 50,
   "id": "ef5c11a5-e414-4271-b4a9-f04633aec24a",
   "metadata": {
    "scrolled": true
   },
   "outputs": [
    {
     "name": "stdout",
     "output_type": "stream",
     "text": [
      "두 사진의 카페는 서로 다른 분위기와 인테리어를 가지고 있습니다. 아래에 차이점을 정리해드릴게요.\n",
      "\n",
      "---\n",
      "\n",
      "### 1. 전체적인 분위기\n",
      "\n",
      "- **첫 번째 카페(위 사진)**  \n",
      "  - 밝고 현대적인 분위기\n",
      "  - 넓은 유리창이 있어 외부 풍경이 잘 보임\n",
      "  - 조명이 단순하면서도 밝음\n",
      "  - 의자와 테이블이 각지고 심플한 디자인\n",
      "\n",
      "- **두 번째 카페(아래 사진)**  \n",
      "  - 아늑하고 자연 친화적인 분위기\n",
      "  - 천장과 내부에 식물/조화 등이 많이 장식되어 있음\n",
      "  - 벽에 큰 시계가 있어 포인트가 됨\n",
      "  - 조명은 따뜻하고 인더스트리얼 디자인을 채택\n",
      "  - 원형 테이블과 둥근 의자, 우드톤이 강조\n",
      "\n",
      "---\n",
      "\n",
      "### 2. 인테리어 요소\n",
      "\n",
      "- **첫 번째 카페**\n",
      "  - 인테리어가 미니멀하고 깔끔\n",
      "  - 장식보다는 기능성과 넓은 공간이 강조\n",
      "  - 메뉴판이 뒷벽에 직선으로 정돈되어 있음\n",
      "\n",
      "- **두 번째 카페**\n",
      "  - 다양한 식물로 장식\n",
      "  - 벽의 질감과 천장의 노출 구조로 자연스럽고 빈티지한 느낌\n",
      "  - 벽면에 시계와 식물, 드라이플라워 등 독특한 데코레이션이 많음\n",
      "\n",
      "---\n",
      "\n",
      "### 3. 색감과 조명\n",
      "\n",
      "- **첫 번째 카페**\n",
      "  - 밝은 조명, 창문을 통해 자연광 유입\n",
      "  - 검은색, 흰색, 나무색이 주를 이룸\n",
      "\n",
      "- **두 번째 카페**\n",
      "  - 따뜻한 노란색 조명\n",
      "  - 우드톤, 식물의 초록색이 많이 사용됨\n",
      "\n",
      "---\n",
      "\n",
      "### 4. 구조와 공간감\n",
      "\n",
      "- **첫 번째 카페**\n",
      "  - 공간이 넓고 개방적인 구조\n",
      "  - 유리로 되어 있어 탁 트인 느낌, 바깥 풍경이 잘 보임\n",
      "\n",
      "- **두 번째 카페**\n",
      "  - 상대적으로 아늑하고 다소 폐쇄적인 공간감\n",
      "  - 인테리어 요소와 식물로 공간을 잘 활용\n",
      "\n",
      "---\n",
      "\n",
      "**요약:**  \n",
      "첫 번째 카페는 밝고 현대적, 깔끔하면서 넓은 공간감이 특징이고  \n",
      "두 번째 카페는 아늑하고 자연 친화적, 다양한 장식과 식물이 많은 인테리어가 특징입니다.\n"
     ]
    }
   ],
   "source": [
    "cafe1 = encode_image(\"Data/cafe1.jpg\")\n",
    "cafe2 = encode_image(\"Data/cafe2.jpg\")\n",
    "\n",
    "response = client.responses.create(\n",
    "    model=\"gpt-4.1\",\n",
    "    input=[\n",
    "        {\n",
    "            \"role\": \"user\",\n",
    "            \"content\": [\n",
    "                { \"type\": \"input_text\", \"text\": \"두 카페의 차이점을 찾아줘.\" },\n",
    "                {\n",
    "                    \"type\": \"input_image\",\n",
    "                    \"image_url\": f\"data:image/jpg;base64,{cafe1}\",\n",
    "                },\n",
    "                {\n",
    "                    \"type\": \"input_image\",                                     # 이미지 2장 불러오고 싶으면 위의 코드 그대로 복붙하면 됨\n",
    "                    \"image_url\": f\"data:image/jpg;base64,{cafe2}\",\n",
    "                }\n",
    "            ],\n",
    "        }\n",
    "    ],\n",
    ")\n",
    "\n",
    "print(response.output_text)"
   ]
  },
  {
   "cell_type": "markdown",
   "id": "d5883e3b-f455-4f42-8eee-851936e22f63",
   "metadata": {},
   "source": [
    "## 펑션 콜링"
   ]
  },
  {
   "cell_type": "code",
   "execution_count": 69,
   "id": "916778df-1cc3-4389-a22f-b84b3c3a8e60",
   "metadata": {},
   "outputs": [
    {
     "name": "stdout",
     "output_type": "stream",
     "text": [
      "제가 현재 시간을 실시간으로 알 수 있는 기능은 없어요. 사용하시는 기기의 시계 또는 스마트폰, 컴퓨터 등에서 현재 시간을 확인해 주세요.  \n",
      "필요하다면, 시간을 표시하는 파이썬 코드 같은 걸 도와드릴 수 있습니다! 도움이 필요하신가요?\n"
     ]
    }
   ],
   "source": [
    "response = client.responses.create(\n",
    "    model = \"gpt-4.1\",\n",
    "    input = \"지금 몇시야?\"\n",
    ")\n",
    "\n",
    "print(response.output_text)"
   ]
  },
  {
   "cell_type": "code",
   "execution_count": 70,
   "id": "c4d22a6f-1739-432a-80b3-58bfaa71e484",
   "metadata": {},
   "outputs": [
    {
     "name": "stdout",
     "output_type": "stream",
     "text": [
      "2025-06-12 13:21:58\n"
     ]
    },
    {
     "data": {
      "text/plain": [
       "'2025-06-12 13:21:58'"
      ]
     },
     "execution_count": 70,
     "metadata": {},
     "output_type": "execute_result"
    }
   ],
   "source": [
    "from datetime import datetime\n",
    "\n",
    "def get_current_time():\n",
    "    now = datetime.now().strftime(\"%Y-%m-%d %H:%M:%S\")\n",
    "    print(now)\n",
    "    return now\n",
    "\n",
    "get_current_time()"
   ]
  },
  {
   "cell_type": "code",
   "execution_count": 71,
   "id": "bce265fa-dee9-4f77-89e5-51616d047f1d",
   "metadata": {},
   "outputs": [],
   "source": [
    "tools = [\n",
    "    {\"type\" : \"function\", \n",
    "     \"function\" : {\"name\" : \"get_current_time\",\n",
    "                   \"description\" : \"현재 날짜와 시간을 반환합니다.\"}}\n",
    "]"
   ]
  },
  {
   "cell_type": "code",
   "execution_count": 72,
   "id": "92c659c9-b721-463b-b021-bf1abefe71c8",
   "metadata": {},
   "outputs": [],
   "source": [
    "# 도구를 사용하는 AI함수\n",
    "def get_ai_response(messages, tools = None):\n",
    "    response = client.chat.completions.create(\n",
    "        model = \"gpt-4o\", messages = messages, tools=tools)\n",
    "    return response"
   ]
  },
  {
   "cell_type": "code",
   "execution_count": 73,
   "id": "d0d15ce9-7378-48f2-9866-5ef5cd4ebd9b",
   "metadata": {},
   "outputs": [],
   "source": [
    "messages = [\n",
    "    {\"role\" : \"system\", \"content\" : \"내가 질문을 하면 한국말로 친절하게 대답해줘.\"},\n",
    "    {\"role\" : \"user\", \"content\" : \"지금 몇시야?\"}\n",
    "]\n",
    "\n",
    "ai_response = get_ai_response(messages, tools = tools)"
   ]
  },
  {
   "cell_type": "code",
   "execution_count": 74,
   "id": "92eb2694-81fe-4850-ac35-51993b179380",
   "metadata": {},
   "outputs": [
    {
     "name": "stdout",
     "output_type": "stream",
     "text": [
      "2025-06-12 13:22:01\n",
      "지금 시간은 2025년 6월 12일 오후 1시 22분입니다.\n"
     ]
    }
   ],
   "source": [
    "ai_message = ai_response.choices[0].message\n",
    "\n",
    "tool_calls = ai_message.tool_calls\n",
    "tool_name = tool_calls[0].function.name\n",
    "tool_call_id = tool_calls[0].id\n",
    "\n",
    "if tool_name == \"get_current_time\":\n",
    "    messages.append({\"role\" : \"function\",\n",
    "                     \"tool_call_id\" : tool_call_id,\n",
    "                     \"name\" : tool_name,\n",
    "                     \"content\" : get_current_time()})\n",
    "\n",
    "ai_response = get_ai_response(messages, tools = tools)\n",
    "print(ai_response.choices[0].message.content)"
   ]
  },
  {
   "cell_type": "code",
   "execution_count": 76,
   "id": "cbe0891f-1138-4440-b85a-5870f7a5b019",
   "metadata": {},
   "outputs": [],
   "source": [
    "import pytz\n",
    "\n",
    "def get_current_time(timezone):\n",
    "    tz = pytz.timezone(timezone)\n",
    "    now = datetime.now(tz).strftime(\"%Y-%m-%d %H:%M:%S\")\n",
    "    now_timezone = f\"{now} {timezone}\"\n",
    "    return now_timezone\n",
    "\n",
    "# get_current_time(\"Asia/Seoul\")\n",
    "\n",
    "tools = [\n",
    "    {\n",
    "        \"type\" : \"function\",\n",
    "        \"function\" : {\"name\" : \"get_current_time\", \"description\" : \"해당 타임존의 날짜와 시간을 반환합니다.\",\n",
    "                      \"parameters\" : {\"type\" : \"object\", \"properties\" : {\"timezone\" : {\"type\" : \"string\", \"description\" : \"현재 날짜와 시간을 반환할 타임존을 입력하세요. (예: Asia/Seoul)\"}}},\n",
    "                      \"required\" : ['timezone']}\n",
    "    }\n",
    "]"
   ]
  },
  {
   "cell_type": "code",
   "execution_count": 78,
   "id": "959f414c-f139-4f0d-9f26-81fa4cd0f5dc",
   "metadata": {},
   "outputs": [
    {
     "name": "stdout",
     "output_type": "stream",
     "text": [
      "ChatCompletionMessage(content=None, refusal=None, role='assistant', annotations=[], audio=None, function_call=None, tool_calls=[ChatCompletionMessageToolCall(id='call_N5j2Xsi437xRm8qzX3f0KD4J', function=Function(arguments='{\"timezone\":\"America/New_York\"}', name='get_current_time'), type='function')])\n"
     ]
    }
   ],
   "source": [
    "messages = [\n",
    "    {\"role\" : \"system\", \"content\" : \"내가 질문을 하면 한국말로 친절하게 대답해줘.\"},\n",
    "    {\"role\" : \"user\", \"content\" : \"지금 뉴욕은 몇시야?\"}\n",
    "]\n",
    "\n",
    "ai_response = get_ai_response(messages, tools = tools)\n",
    "ai_message = ai_response.choices[0].message\n",
    "print(ai_message)"
   ]
  },
  {
   "cell_type": "code",
   "execution_count": 80,
   "id": "3de3d178-deed-44ec-923f-cdf55ab0e8b1",
   "metadata": {},
   "outputs": [],
   "source": [
    "import json\n",
    "\n",
    "tool_calls = ai_message.tool_calls\n",
    "tool_name = tool_calls[0].function.name\n",
    "tool_call_id = tool_calls[0].id\n",
    "\n",
    "argument = json.loads(tool_calls[0].function.arguments)\n",
    "\n",
    "if tool_name == \"get_current_time\":\n",
    "    messages.append({'role' : \"function\",\n",
    "                     'tool_call_id' : tool_call_id,\n",
    "                     'name' : tool_name,\n",
    "                     'content' : get_current_time(timezone=argument['timezone'])})\n",
    "\n",
    "ai_response = get_ai_response(messages, tools = tools)\n",
    "ai_message = ai_response.choices[0].message"
   ]
  },
  {
   "cell_type": "code",
   "execution_count": 82,
   "id": "078fd550-05da-46da-84a0-a69ec539f21d",
   "metadata": {},
   "outputs": [
    {
     "name": "stdout",
     "output_type": "stream",
     "text": [
      "현재 뉴욕의 시간은 2025년 6월 12일 0시 36분입니다.\n"
     ]
    }
   ],
   "source": [
    "print(ai_message.content)"
   ]
  },
  {
   "cell_type": "code",
   "execution_count": 84,
   "id": "10e9330e-c9c3-4300-80f4-3cfe09972cca",
   "metadata": {},
   "outputs": [
    {
     "data": {
      "text/plain": [
       "{'timezone': 'America/New_York'}"
      ]
     },
     "execution_count": 84,
     "metadata": {},
     "output_type": "execute_result"
    }
   ],
   "source": [
    "argument         # 알아서 timezone을 찾아서 넣어준다"
   ]
  },
  {
   "cell_type": "code",
   "execution_count": null,
   "id": "864f81de-9c2f-4858-b596-b8340129db30",
   "metadata": {},
   "outputs": [],
   "source": []
  }
 ],
 "metadata": {
  "kernelspec": {
   "display_name": "Python 3 (ipykernel)",
   "language": "python",
   "name": "python3"
  },
  "language_info": {
   "codemirror_mode": {
    "name": "ipython",
    "version": 3
   },
   "file_extension": ".py",
   "mimetype": "text/x-python",
   "name": "python",
   "nbconvert_exporter": "python",
   "pygments_lexer": "ipython3",
   "version": "3.12.7"
  }
 },
 "nbformat": 4,
 "nbformat_minor": 5
}
