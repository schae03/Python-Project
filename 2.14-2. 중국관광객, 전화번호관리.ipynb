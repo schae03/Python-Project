{
 "cells": [
  {
   "cell_type": "code",
   "execution_count": 8,
   "id": "a5292a07-df9d-4121-abb5-0c7de1e5840f",
   "metadata": {},
   "outputs": [
    {
     "data": {
      "text/html": [
       "<div>\n",
       "<style scoped>\n",
       "    .dataframe tbody tr th:only-of-type {\n",
       "        vertical-align: middle;\n",
       "    }\n",
       "\n",
       "    .dataframe tbody tr th {\n",
       "        vertical-align: top;\n",
       "    }\n",
       "\n",
       "    .dataframe thead th {\n",
       "        text-align: right;\n",
       "    }\n",
       "</style>\n",
       "<table border=\"1\" class=\"dataframe\">\n",
       "  <thead>\n",
       "    <tr style=\"text-align: right;\">\n",
       "      <th></th>\n",
       "      <th>국적</th>\n",
       "      <th>관광</th>\n",
       "      <th>상용</th>\n",
       "      <th>공용</th>\n",
       "      <th>유학/연수</th>\n",
       "      <th>기타</th>\n",
       "      <th>계</th>\n",
       "    </tr>\n",
       "  </thead>\n",
       "  <tbody>\n",
       "    <tr>\n",
       "      <th>0</th>\n",
       "      <td>아시아주</td>\n",
       "      <td>329131.0</td>\n",
       "      <td>18238.0</td>\n",
       "      <td>421.0</td>\n",
       "      <td>4339.0</td>\n",
       "      <td>80916.0</td>\n",
       "      <td>433045.0</td>\n",
       "    </tr>\n",
       "    <tr>\n",
       "      <th>1</th>\n",
       "      <td>일본</td>\n",
       "      <td>202825.0</td>\n",
       "      <td>1750.0</td>\n",
       "      <td>89.0</td>\n",
       "      <td>549.0</td>\n",
       "      <td>3971.0</td>\n",
       "      <td>209184.0</td>\n",
       "    </tr>\n",
       "    <tr>\n",
       "      <th>2</th>\n",
       "      <td>대만</td>\n",
       "      <td>35788.0</td>\n",
       "      <td>41.0</td>\n",
       "      <td>17.0</td>\n",
       "      <td>37.0</td>\n",
       "      <td>516.0</td>\n",
       "      <td>36399.0</td>\n",
       "    </tr>\n",
       "    <tr>\n",
       "      <th>3</th>\n",
       "      <td>홍콩</td>\n",
       "      <td>13874.0</td>\n",
       "      <td>55.0</td>\n",
       "      <td>0.0</td>\n",
       "      <td>21.0</td>\n",
       "      <td>595.0</td>\n",
       "      <td>14545.0</td>\n",
       "    </tr>\n",
       "    <tr>\n",
       "      <th>4</th>\n",
       "      <td>마카오</td>\n",
       "      <td>554.0</td>\n",
       "      <td>0.0</td>\n",
       "      <td>0.0</td>\n",
       "      <td>0.0</td>\n",
       "      <td>0.0</td>\n",
       "      <td>554.0</td>\n",
       "    </tr>\n",
       "    <tr>\n",
       "      <th>...</th>\n",
       "      <td>...</td>\n",
       "      <td>...</td>\n",
       "      <td>...</td>\n",
       "      <td>...</td>\n",
       "      <td>...</td>\n",
       "      <td>...</td>\n",
       "      <td>...</td>\n",
       "    </tr>\n",
       "    <tr>\n",
       "      <th>62</th>\n",
       "      <td>아프리카 기타</td>\n",
       "      <td>349.0</td>\n",
       "      <td>594.0</td>\n",
       "      <td>25.0</td>\n",
       "      <td>86.0</td>\n",
       "      <td>296.0</td>\n",
       "      <td>1350.0</td>\n",
       "    </tr>\n",
       "    <tr>\n",
       "      <th>63</th>\n",
       "      <td>기타대륙</td>\n",
       "      <td>10.0</td>\n",
       "      <td>3.0</td>\n",
       "      <td>0.0</td>\n",
       "      <td>0.0</td>\n",
       "      <td>0.0</td>\n",
       "      <td>13.0</td>\n",
       "    </tr>\n",
       "    <tr>\n",
       "      <th>64</th>\n",
       "      <td>국적미상</td>\n",
       "      <td>10.0</td>\n",
       "      <td>3.0</td>\n",
       "      <td>0.0</td>\n",
       "      <td>0.0</td>\n",
       "      <td>0.0</td>\n",
       "      <td>13.0</td>\n",
       "    </tr>\n",
       "    <tr>\n",
       "      <th>65</th>\n",
       "      <td>교포소계</td>\n",
       "      <td>0.0</td>\n",
       "      <td>0.0</td>\n",
       "      <td>0.0</td>\n",
       "      <td>0.0</td>\n",
       "      <td>22537.0</td>\n",
       "      <td>22537.0</td>\n",
       "    </tr>\n",
       "    <tr>\n",
       "      <th>66</th>\n",
       "      <td>교포</td>\n",
       "      <td>0.0</td>\n",
       "      <td>0.0</td>\n",
       "      <td>0.0</td>\n",
       "      <td>0.0</td>\n",
       "      <td>22537.0</td>\n",
       "      <td>22537.0</td>\n",
       "    </tr>\n",
       "  </tbody>\n",
       "</table>\n",
       "<p>67 rows × 7 columns</p>\n",
       "</div>"
      ],
      "text/plain": [
       "         국적        관광       상용     공용   유학/연수       기타         계\n",
       "0      아시아주  329131.0  18238.0  421.0  4339.0  80916.0  433045.0\n",
       "1        일본  202825.0   1750.0   89.0   549.0   3971.0  209184.0\n",
       "2        대만   35788.0     41.0   17.0    37.0    516.0   36399.0\n",
       "3        홍콩   13874.0     55.0    0.0    21.0    595.0   14545.0\n",
       "4       마카오     554.0      0.0    0.0     0.0      0.0     554.0\n",
       "..      ...       ...      ...    ...     ...      ...       ...\n",
       "62  아프리카 기타     349.0    594.0   25.0    86.0    296.0    1350.0\n",
       "63     기타대륙      10.0      3.0    0.0     0.0      0.0      13.0\n",
       "64     국적미상      10.0      3.0    0.0     0.0      0.0      13.0\n",
       "65     교포소계       0.0      0.0    0.0     0.0  22537.0   22537.0\n",
       "66       교포       0.0      0.0    0.0     0.0  22537.0   22537.0\n",
       "\n",
       "[67 rows x 7 columns]"
      ]
     },
     "execution_count": 8,
     "metadata": {},
     "output_type": "execute_result"
    }
   ],
   "source": [
    "# 중국인 관광객 변화 추이\n",
    "import pandas as pd \n",
    "\n",
    "df = pd.read_excel(\"Data/한국관광데이터/kto_201001.xlsx\", header = 1,       # 두번째줄부터 열이름으로 사용하겠다\n",
    "                   usecols = \"A:G\").iloc[:-4]            # usecol - A부터 G칼럼까지만 쓰겠다  /  iloc - 뒤쪽 4줄은 빼고 가져오겠다 \n",
    "                   \n",
    "df"
   ]
  },
  {
   "cell_type": "code",
   "execution_count": 25,
   "id": "df522cfc-d973-41ef-8e7d-3ab004b4e934",
   "metadata": {},
   "outputs": [
    {
     "name": "stderr",
     "output_type": "stream",
     "text": [
      "  0%|                                                                                           | 0/11 [00:00<?, ?it/s]"
     ]
    },
    {
     "name": "stdout",
     "output_type": "stream",
     "text": [
      "2010 01\n",
      "2010 02\n",
      "2010 03\n",
      "2010 04\n",
      "2010 05\n",
      "2010 06\n",
      "2010 07\n",
      "2010 08\n",
      "2010 09\n"
     ]
    },
    {
     "name": "stderr",
     "output_type": "stream",
     "text": [
      "  9%|███████▌                                                                           | 1/11 [00:00<00:05,  1.70it/s]"
     ]
    },
    {
     "name": "stdout",
     "output_type": "stream",
     "text": [
      "2010 10\n",
      "2010 11\n",
      "2010 12\n",
      "2011 01\n",
      "2011 02\n",
      "2011 03\n",
      "2011 04\n",
      "2011 05\n",
      "2011 06\n",
      "2011 07\n",
      "2011 08\n",
      "2011 09\n",
      "2011 10\n",
      "2011 11\n",
      "2011 12\n"
     ]
    },
    {
     "name": "stderr",
     "output_type": "stream",
     "text": [
      " 18%|███████████████                                                                    | 2/11 [00:01<00:05,  1.64it/s]"
     ]
    },
    {
     "name": "stdout",
     "output_type": "stream",
     "text": [
      "2012 01\n",
      "2012 02\n",
      "2012 03\n",
      "2012 04\n",
      "2012 05\n",
      "2012 06\n",
      "2012 07\n",
      "2012 08\n",
      "2012 09\n"
     ]
    },
    {
     "name": "stderr",
     "output_type": "stream",
     "text": [
      " 27%|██████████████████████▋                                                            | 3/11 [00:01<00:04,  1.70it/s]"
     ]
    },
    {
     "name": "stdout",
     "output_type": "stream",
     "text": [
      "2012 10\n",
      "2012 11\n",
      "2012 12\n",
      "2013 01\n",
      "2013 02\n",
      "2013 03\n",
      "2013 04\n",
      "2013 05\n",
      "2013 06\n",
      "2013 07\n",
      "2013 08\n",
      "2013 09\n",
      "2013 10\n",
      "2013 11\n",
      "2013 12\n"
     ]
    },
    {
     "name": "stderr",
     "output_type": "stream",
     "text": [
      " 36%|██████████████████████████████▏                                                    | 4/11 [00:02<00:04,  1.73it/s]"
     ]
    },
    {
     "name": "stdout",
     "output_type": "stream",
     "text": [
      "2014 01\n",
      "2014 02\n",
      "2014 03\n",
      "2014 04\n",
      "2014 05\n",
      "2014 06\n",
      "2014 07\n",
      "2014 08\n",
      "2014 09\n",
      "2014 10\n",
      "2014 11\n",
      "2014 12\n"
     ]
    },
    {
     "name": "stderr",
     "output_type": "stream",
     "text": [
      " 45%|█████████████████████████████████████▋                                             | 5/11 [00:02<00:03,  1.86it/s]"
     ]
    },
    {
     "name": "stdout",
     "output_type": "stream",
     "text": [
      "2015 01\n",
      "2015 02\n",
      "2015 03\n",
      "2015 04\n",
      "2015 05\n",
      "2015 06\n",
      "2015 07\n",
      "2015 08\n",
      "2015 09\n",
      "2015 10\n"
     ]
    },
    {
     "name": "stderr",
     "output_type": "stream",
     "text": [
      " 55%|█████████████████████████████████████████████▎                                     | 6/11 [00:03<00:02,  1.75it/s]"
     ]
    },
    {
     "name": "stdout",
     "output_type": "stream",
     "text": [
      "2015 11\n",
      "2015 12\n",
      "2016 01\n",
      "2016 02\n",
      "2016 03\n",
      "2016 04\n",
      "2016 05\n",
      "2016 06\n",
      "2016 07\n",
      "2016 08\n",
      "2016 09\n",
      "2016 10\n"
     ]
    },
    {
     "name": "stderr",
     "output_type": "stream",
     "text": [
      " 64%|████████████████████████████████████████████████████▊                              | 7/11 [00:04<00:02,  1.73it/s]"
     ]
    },
    {
     "name": "stdout",
     "output_type": "stream",
     "text": [
      "2016 11\n",
      "2016 12\n",
      "2017 01\n",
      "2017 02\n",
      "2017 03\n",
      "2017 04\n",
      "2017 05\n",
      "2017 06\n",
      "2017 07\n",
      "2017 08\n",
      "2017 09\n",
      "2017 10\n",
      "2017 11\n",
      "2017 12\n"
     ]
    },
    {
     "name": "stderr",
     "output_type": "stream",
     "text": [
      " 73%|████████████████████████████████████████████████████████████▎                      | 8/11 [00:04<00:01,  1.75it/s]"
     ]
    },
    {
     "name": "stdout",
     "output_type": "stream",
     "text": [
      "2018 01\n",
      "2018 02\n",
      "2018 03\n",
      "2018 04\n",
      "2018 05\n",
      "2018 06\n",
      "2018 07\n",
      "2018 08\n",
      "2018 09\n"
     ]
    },
    {
     "name": "stderr",
     "output_type": "stream",
     "text": [
      " 82%|███████████████████████████████████████████████████████████████████▉               | 9/11 [00:05<00:01,  1.71it/s]"
     ]
    },
    {
     "name": "stdout",
     "output_type": "stream",
     "text": [
      "2018 10\n",
      "2018 11\n",
      "2018 12\n",
      "2019 01\n",
      "2019 02\n",
      "2019 03\n",
      "2019 04\n",
      "2019 05\n",
      "2019 06\n",
      "2019 07\n",
      "2019 08\n",
      "2019 09\n",
      "2019 10\n",
      "2019 11\n",
      "2019 12\n"
     ]
    },
    {
     "name": "stderr",
     "output_type": "stream",
     "text": [
      " 91%|██████████████████████████████████████████████████████████████████████████▌       | 10/11 [00:05<00:00,  1.68it/s]"
     ]
    },
    {
     "name": "stdout",
     "output_type": "stream",
     "text": [
      "2020 01\n",
      "2020 02\n",
      "2020 03\n",
      "2020 04\n",
      "2020 05\n"
     ]
    },
    {
     "name": "stderr",
     "output_type": "stream",
     "text": [
      "100%|██████████████████████████████████████████████████████████████████████████████████| 11/11 [00:06<00:00,  1.81it/s]"
     ]
    },
    {
     "name": "stdout",
     "output_type": "stream",
     "text": [
      "2020 06\n"
     ]
    },
    {
     "name": "stderr",
     "output_type": "stream",
     "text": [
      "\n"
     ]
    }
   ],
   "source": [
    "from tqdm import tqdm       # tqdm: for문의 진행상황을 알려주는 도구\n",
    "\n",
    "total = []\n",
    "for y in tqdm(range(2010, 2021)):      # 2010~2020년\n",
    "    for m in range(1, 13):             # 1~12월 \n",
    "        year = y\n",
    "        month = str(m).zfill(2)      # 2자리가 안되면 0채워줌 \n",
    "        print(year, month)\n",
    "        if year == 2020 and m == 6:         # 2020년 6월 되면 for문 빠져나옴\n",
    "            break\n",
    "        df = pd.read_excel(f\"Data/한국관광데이터/kto_{year}{month}.xlsx\", \n",
    "                           header = 1, usecols = \"A:G\", skipfooter = 4)\n",
    "        df['YEAR'] = y\n",
    "        df['MONTH'] = m\n",
    "        df['DATE'] = f\"{y}-{m}\"           # 두개의 파생변수 date에 넣는 것  => 총 열 세개추가됨 \n",
    "        total.append(df)"
   ]
  },
  {
   "cell_type": "code",
   "execution_count": 12,
   "id": "4970e17e-74af-4137-b913-5ae68d80134b",
   "metadata": {},
   "outputs": [
    {
     "data": {
      "text/plain": [
       "125"
      ]
     },
     "execution_count": 12,
     "metadata": {},
     "output_type": "execute_result"
    }
   ],
   "source": [
    "len(total)"
   ]
  },
  {
   "cell_type": "code",
   "execution_count": 28,
   "id": "a901fa46-311a-4755-baf8-5a42b689e8e5",
   "metadata": {},
   "outputs": [
    {
     "data": {
      "text/html": [
       "<div>\n",
       "<style scoped>\n",
       "    .dataframe tbody tr th:only-of-type {\n",
       "        vertical-align: middle;\n",
       "    }\n",
       "\n",
       "    .dataframe tbody tr th {\n",
       "        vertical-align: top;\n",
       "    }\n",
       "\n",
       "    .dataframe thead th {\n",
       "        text-align: right;\n",
       "    }\n",
       "</style>\n",
       "<table border=\"1\" class=\"dataframe\">\n",
       "  <thead>\n",
       "    <tr style=\"text-align: right;\">\n",
       "      <th></th>\n",
       "      <th>국적</th>\n",
       "      <th>관광</th>\n",
       "      <th>상용</th>\n",
       "      <th>공용</th>\n",
       "      <th>유학/연수</th>\n",
       "      <th>기타</th>\n",
       "      <th>계</th>\n",
       "      <th>YEAR</th>\n",
       "      <th>MONTH</th>\n",
       "    </tr>\n",
       "    <tr>\n",
       "      <th>DATE</th>\n",
       "      <th></th>\n",
       "      <th></th>\n",
       "      <th></th>\n",
       "      <th></th>\n",
       "      <th></th>\n",
       "      <th></th>\n",
       "      <th></th>\n",
       "      <th></th>\n",
       "      <th></th>\n",
       "    </tr>\n",
       "  </thead>\n",
       "  <tbody>\n",
       "    <tr>\n",
       "      <th>2010-01-01</th>\n",
       "      <td>중국</td>\n",
       "      <td>40425</td>\n",
       "      <td>11930</td>\n",
       "      <td>55</td>\n",
       "      <td>2751</td>\n",
       "      <td>36091</td>\n",
       "      <td>91252</td>\n",
       "      <td>2010</td>\n",
       "      <td>1</td>\n",
       "    </tr>\n",
       "    <tr>\n",
       "      <th>2010-02-01</th>\n",
       "      <td>중국</td>\n",
       "      <td>60590</td>\n",
       "      <td>7907</td>\n",
       "      <td>68</td>\n",
       "      <td>29546</td>\n",
       "      <td>42460</td>\n",
       "      <td>140571</td>\n",
       "      <td>2010</td>\n",
       "      <td>2</td>\n",
       "    </tr>\n",
       "    <tr>\n",
       "      <th>2010-03-01</th>\n",
       "      <td>중국</td>\n",
       "      <td>50330</td>\n",
       "      <td>13549</td>\n",
       "      <td>174</td>\n",
       "      <td>14924</td>\n",
       "      <td>62480</td>\n",
       "      <td>141457</td>\n",
       "      <td>2010</td>\n",
       "      <td>3</td>\n",
       "    </tr>\n",
       "    <tr>\n",
       "      <th>2010-04-01</th>\n",
       "      <td>중국</td>\n",
       "      <td>84252</td>\n",
       "      <td>13306</td>\n",
       "      <td>212</td>\n",
       "      <td>2199</td>\n",
       "      <td>47711</td>\n",
       "      <td>147680</td>\n",
       "      <td>2010</td>\n",
       "      <td>4</td>\n",
       "    </tr>\n",
       "    <tr>\n",
       "      <th>2010-05-01</th>\n",
       "      <td>중국</td>\n",
       "      <td>89056</td>\n",
       "      <td>12325</td>\n",
       "      <td>360</td>\n",
       "      <td>2931</td>\n",
       "      <td>49394</td>\n",
       "      <td>154066</td>\n",
       "      <td>2010</td>\n",
       "      <td>5</td>\n",
       "    </tr>\n",
       "    <tr>\n",
       "      <th>...</th>\n",
       "      <td>...</td>\n",
       "      <td>...</td>\n",
       "      <td>...</td>\n",
       "      <td>...</td>\n",
       "      <td>...</td>\n",
       "      <td>...</td>\n",
       "      <td>...</td>\n",
       "      <td>...</td>\n",
       "      <td>...</td>\n",
       "    </tr>\n",
       "    <tr>\n",
       "      <th>2020-01-01</th>\n",
       "      <td>중국</td>\n",
       "      <td>393336</td>\n",
       "      <td>2813</td>\n",
       "      <td>99</td>\n",
       "      <td>10433</td>\n",
       "      <td>75000</td>\n",
       "      <td>481681</td>\n",
       "      <td>2020</td>\n",
       "      <td>1</td>\n",
       "    </tr>\n",
       "    <tr>\n",
       "      <th>2020-02-01</th>\n",
       "      <td>중국</td>\n",
       "      <td>49520</td>\n",
       "      <td>715</td>\n",
       "      <td>11</td>\n",
       "      <td>20753</td>\n",
       "      <td>33087</td>\n",
       "      <td>104086</td>\n",
       "      <td>2020</td>\n",
       "      <td>2</td>\n",
       "    </tr>\n",
       "    <tr>\n",
       "      <th>2020-03-01</th>\n",
       "      <td>중국</td>\n",
       "      <td>5040</td>\n",
       "      <td>115</td>\n",
       "      <td>2</td>\n",
       "      <td>7388</td>\n",
       "      <td>4050</td>\n",
       "      <td>16595</td>\n",
       "      <td>2020</td>\n",
       "      <td>3</td>\n",
       "    </tr>\n",
       "    <tr>\n",
       "      <th>2020-04-01</th>\n",
       "      <td>중국</td>\n",
       "      <td>522</td>\n",
       "      <td>71</td>\n",
       "      <td>0</td>\n",
       "      <td>1112</td>\n",
       "      <td>2230</td>\n",
       "      <td>3935</td>\n",
       "      <td>2020</td>\n",
       "      <td>4</td>\n",
       "    </tr>\n",
       "    <tr>\n",
       "      <th>2020-05-01</th>\n",
       "      <td>중국</td>\n",
       "      <td>179</td>\n",
       "      <td>70</td>\n",
       "      <td>2</td>\n",
       "      <td>1189</td>\n",
       "      <td>3684</td>\n",
       "      <td>5124</td>\n",
       "      <td>2020</td>\n",
       "      <td>5</td>\n",
       "    </tr>\n",
       "  </tbody>\n",
       "</table>\n",
       "<p>125 rows × 9 columns</p>\n",
       "</div>"
      ],
      "text/plain": [
       "            국적      관광     상용   공용  유학/연수     기타       계  YEAR  MONTH\n",
       "DATE                                                                 \n",
       "2010-01-01  중국   40425  11930   55   2751  36091   91252  2010      1\n",
       "2010-02-01  중국   60590   7907   68  29546  42460  140571  2010      2\n",
       "2010-03-01  중국   50330  13549  174  14924  62480  141457  2010      3\n",
       "2010-04-01  중국   84252  13306  212   2199  47711  147680  2010      4\n",
       "2010-05-01  중국   89056  12325  360   2931  49394  154066  2010      5\n",
       "...         ..     ...    ...  ...    ...    ...     ...   ...    ...\n",
       "2020-01-01  중국  393336   2813   99  10433  75000  481681  2020      1\n",
       "2020-02-01  중국   49520    715   11  20753  33087  104086  2020      2\n",
       "2020-03-01  중국    5040    115    2   7388   4050   16595  2020      3\n",
       "2020-04-01  중국     522     71    0   1112   2230    3935  2020      4\n",
       "2020-05-01  중국     179     70    2   1189   3684    5124  2020      5\n",
       "\n",
       "[125 rows x 9 columns]"
      ]
     },
     "execution_count": 28,
     "metadata": {},
     "output_type": "execute_result"
    }
   ],
   "source": [
    "import koreanize_matplotlib\n",
    "\n",
    "df = pd.concat(total, ignore_index = True)       # 125개의 데이터 다 가져와서 하나의 데이터프레임으로 만듦 \n",
    "df['DATE'] = pd.to_datetime(df[\"DATE\"])              # DATE를 datetime형태로 인식하도록 변환\n",
    "df = df.set_index(\"DATE\")                   # 인덱스를 DATE열로 설정   DATE열을 기준으로 함 \n",
    "\n",
    "china = df[df[\"국적\"] == \"중국\"]          # 데이터프레임에서 국적이 중국인것만 데이터프레임형태로 가져와서 china로 저장 \n",
    "china"
   ]
  },
  {
   "cell_type": "code",
   "execution_count": 29,
   "id": "d5942f57-e8eb-4aa7-8aad-ca3f6764a8ea",
   "metadata": {},
   "outputs": [
    {
     "data": {
      "text/plain": [
       "<Axes: xlabel='DATE'>"
      ]
     },
     "execution_count": 29,
     "metadata": {},
     "output_type": "execute_result"
    },
    {
     "data": {
      "image/png": "[encoded data removed]",
      "text/plain": [
       "<Figure size 640x480 with 1 Axes>"
      ]
     },
     "metadata": {},
     "output_type": "display_data"
    }
   ],
   "source": [
    "china[\"관광\"].plot()       # 중국인관광객 변화추이 플롯형태로 확인 "
   ]
  },
  {
   "cell_type": "code",
   "execution_count": 34,
   "id": "bed06c09-0f8b-40e5-9243-66b7b7221637",
   "metadata": {},
   "outputs": [
    {
     "data": {
      "text/plain": [
       "<Axes: xlabel='MONTH', ylabel='YEAR'>"
      ]
     },
     "execution_count": 34,
     "metadata": {},
     "output_type": "execute_result"
    },
    {
     "data": {
      "image/png": "[encoded data removed]",
      "text/plain": [
       "<Figure size 640x480 with 2 Axes>"
      ]
     },
     "metadata": {},
     "output_type": "display_data"
    }
   ],
   "source": [
    "table = df.pivot_table(index = \"YEAR\", columns = \"MONTH\",\n",
    "                       values = \"관광\")\n",
    "\n",
    "sns.heatmap(table, cmap = \"Blues\")"
   ]
  },
  {
   "cell_type": "code",
   "execution_count": null,
   "id": "4f28c08e-049a-42bb-8240-770a325b54d5",
   "metadata": {},
   "outputs": [],
   "source": [
    "# 2015년 6~8월에 양상이 다름 => 메르스\n",
    "# 2017년 => 사드보복 "
   ]
  },
  {
   "cell_type": "code",
   "execution_count": 54,
   "id": "a2d82519-a18c-4267-9798-e3c8c5fbcdee",
   "metadata": {},
   "outputs": [
    {
     "name": "stdout",
     "output_type": "stream",
     "text": [
      "\n",
      "    전화번호 관리 프로그램\n",
      "    \n",
      "    1. 전화번호 입력\n",
      "    2. 전화번호 조회\n",
      "    3. 전화번호 삭제\n",
      "    4. 종료\n",
      "    \n"
     ]
    },
    {
     "name": "stdin",
     "output_type": "stream",
     "text": [
      "입력:  1\n",
      "이름:  이이이\n",
      "번호:  01022222222\n"
     ]
    },
    {
     "name": "stdout",
     "output_type": "stream",
     "text": [
      "전화번호 저장 완료!\n",
      "\n",
      "\n",
      "    전화번호 관리 프로그램\n",
      "    \n",
      "    1. 전화번호 입력\n",
      "    2. 전화번호 조회\n",
      "    3. 전화번호 삭제\n",
      "    4. 종료\n",
      "    \n"
     ]
    },
    {
     "name": "stdin",
     "output_type": "stream",
     "text": [
      "입력:  2\n"
     ]
    },
    {
     "name": "stdout",
     "output_type": "stream",
     "text": [
      "01023456789 장원영\n",
      "01098765432 홍길동\n",
      "01011111111 김김김\n",
      "01022222222 이이이\n",
      "\n",
      "\n",
      "    전화번호 관리 프로그램\n",
      "    \n",
      "    1. 전화번호 입력\n",
      "    2. 전화번호 조회\n",
      "    3. 전화번호 삭제\n",
      "    4. 종료\n",
      "    \n"
     ]
    },
    {
     "name": "stdin",
     "output_type": "stream",
     "text": [
      "입력:  3\n",
      "입력:  01022222222\n"
     ]
    },
    {
     "name": "stdout",
     "output_type": "stream",
     "text": [
      "전화번호 삭제 완료!\n",
      "\n",
      "\n",
      "    전화번호 관리 프로그램\n",
      "    \n",
      "    1. 전화번호 입력\n",
      "    2. 전화번호 조회\n",
      "    3. 전화번호 삭제\n",
      "    4. 종료\n",
      "    \n"
     ]
    },
    {
     "name": "stdin",
     "output_type": "stream",
     "text": [
      "입력:  2\n"
     ]
    },
    {
     "name": "stdout",
     "output_type": "stream",
     "text": [
      "01023456789 장원영\n",
      "01098765432 홍길동\n",
      "01011111111 김김김\n",
      "\n",
      "\n",
      "    전화번호 관리 프로그램\n",
      "    \n",
      "    1. 전화번호 입력\n",
      "    2. 전화번호 조회\n",
      "    3. 전화번호 삭제\n",
      "    4. 종료\n",
      "    \n"
     ]
    },
    {
     "name": "stdin",
     "output_type": "stream",
     "text": [
      "입력:  4\n"
     ]
    }
   ],
   "source": [
    "import pickle\n",
    "\n",
    "#### 전화번호 관리 프로그램\n",
    "# 퀴즈: 전화번호를 입력하면 삭제해주는 기능 만들기.\n",
    "\n",
    "f = open(\"phone.dat\", 'rb')\n",
    "phone_box = pickle.load(f)\n",
    "f.close()\n",
    "\n",
    "def del_numbers():\n",
    "    numbers = input(\"입력: \")\n",
    "    for idx, i in enumerate(phone_box):\n",
    "        if numbers == i[1]:\n",
    "            del phone_box[idx]\n",
    "            print(\"전화번호 삭제 완료!\")\n",
    "            f = open(\"phone.dat\", \"wb\")\n",
    "            pickle.dump(phone_box, f)           # 삭제 반영\n",
    "            f.close()\n",
    "\n",
    "def show_info():\n",
    "    for name, phone in phone_box:\n",
    "        print(f\"{phone} {name}\")       # 종료후 다시 실행했을때도 전화번호 남아있음\n",
    "\n",
    "def add_numbers():\n",
    "    name = input(\"이름: \")\n",
    "    number = input(\"번호: \")\n",
    "    A = [name, number]\n",
    "    if A not in phone_box:\n",
    "        phone_box.append(A)\n",
    "        print(\"전화번호 저장 완료!\")\n",
    "        f = open(\"phone.dat\", \"wb\")      # phone_box에 새로운게 들어갈때마다 저장\n",
    "        pickle.dump(phone_box, f)\n",
    "        f.close()\n",
    "\n",
    "\n",
    "while True:\n",
    "    print(\"\"\"\n",
    "    전화번호 관리 프로그램\n",
    "    \n",
    "    1. 전화번호 입력\n",
    "    2. 전화번호 조회\n",
    "    3. 전화번호 삭제\n",
    "    4. 종료\n",
    "    \"\"\")\n",
    "\n",
    "    n = int(input(\"입력: \"))\n",
    "    if n == 1:\n",
    "        add_numbers()\n",
    "    elif n == 2:\n",
    "        show_info()\n",
    "    elif n == 3:\n",
    "        del_numbers()\n",
    "    elif n == 4:\n",
    "        break\n",
    "\n",
    "    print()"
   ]
  },
  {
   "cell_type": "code",
   "execution_count": null,
   "id": "774da0b7-8835-4592-a987-d9e49439634a",
   "metadata": {},
   "outputs": [],
   "source": []
  },
  {
   "cell_type": "code",
   "execution_count": null,
   "id": "1f140d7d-855c-40ab-8bae-e44c17fe2f2b",
   "metadata": {},
   "outputs": [],
   "source": []
  },
  {
   "cell_type": "code",
   "execution_count": null,
   "id": "114faa37-0e02-4b8d-8038-666fae7a3a48",
   "metadata": {},
   "outputs": [],
   "source": []
  },
  {
   "cell_type": "code",
   "execution_count": null,
   "id": "3f5597fd-1f10-4f01-90ae-c548eb83f40e",
   "metadata": {},
   "outputs": [],
   "source": []
  },
  {
   "cell_type": "code",
   "execution_count": null,
   "id": "dbd3e48e-deb8-4a94-b33d-9f70ff14ffd1",
   "metadata": {},
   "outputs": [],
   "source": []
  }
 ],
 "metadata": {
  "kernelspec": {
   "display_name": "Python 3 (ipykernel)",
   "language": "python",
   "name": "python3"
  },
  "language_info": {
   "codemirror_mode": {
    "name": "ipython",
    "version": 3
   },
   "file_extension": ".py",
   "mimetype": "text/x-python",
   "name": "python",
   "nbconvert_exporter": "python",
   "pygments_lexer": "ipython3",
   "version": "3.12.7"
  }
 },
 "nbformat": 4,
 "nbformat_minor": 5
}
