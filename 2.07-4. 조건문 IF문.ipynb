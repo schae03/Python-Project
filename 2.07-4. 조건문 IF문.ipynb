{
 "cells": [
  {
   "cell_type": "code",
   "execution_count": 1,
   "id": "a929aa71-040f-463a-b316-7989f410cb8b",
   "metadata": {},
   "outputs": [
    {
     "name": "stdout",
     "output_type": "stream",
     "text": [
      "Taxi\n"
     ]
    }
   ],
   "source": [
    "# 조건문 IF문\n",
    "money = True\n",
    "if money == True:\n",
    "    print(\"Taxi\")"
   ]
  },
  {
   "cell_type": "code",
   "execution_count": 6,
   "id": "940457fe-4f8e-49a3-b49b-02c3f95278bb",
   "metadata": {},
   "outputs": [
    {
     "name": "stdout",
     "output_type": "stream",
     "text": [
      "Walk\n"
     ]
    }
   ],
   "source": [
    "money = 2000\n",
    "card = True\n",
    "if money >= 3000 and card == True:\n",
    "    print('Taxi')       # 들여쓰기로 if문 구분됨\n",
    "else:  # else 뒤에는 조건 X\n",
    "    print(\"Walk\")"
   ]
  },
  {
   "cell_type": "code",
   "execution_count": 9,
   "id": "90ee1b4f-6b56-4584-90f2-b792bb9389e6",
   "metadata": {},
   "outputs": [
    {
     "name": "stdout",
     "output_type": "stream",
     "text": [
      "Taxi\n"
     ]
    }
   ],
   "source": [
    "pocket = ['paper', 'phone']\n",
    "\n",
    "if \"money\" in pocket:\n",
    "    print('Taxi')\n",
    "elif card == True:        # elif 문은 여러개 쓸 수 O.\n",
    "    print('Taxi')\n",
    "else:\n",
    "    print('Walk')"
   ]
  },
  {
   "cell_type": "code",
   "execution_count": 10,
   "id": "8cb89243-ded5-465c-a120-e88d96e2b43f",
   "metadata": {},
   "outputs": [
    {
     "name": "stdout",
     "output_type": "stream",
     "text": [
      "B\n"
     ]
    }
   ],
   "source": [
    "score = 85\n",
    "if score >= 90:\n",
    "    print('A')\n",
    "elif score >= 80:\n",
    "    print('B')\n",
    "elif score >= 70:\n",
    "    print('C')\n",
    "elif score >= 60:\n",
    "    print('D')\n",
    "else:\n",
    "    print('F')"
   ]
  },
  {
   "cell_type": "code",
   "execution_count": 13,
   "id": "3988085b-914b-4d37-ae59-3b2488343db8",
   "metadata": {},
   "outputs": [
    {
     "name": "stdout",
     "output_type": "stream",
     "text": [
      "합격\n"
     ]
    }
   ],
   "source": [
    "# 퀴즈: score값이 80점 이상이면 message변수에 \"합격\"\n",
    "# 아니면 message변수에 \"불합격\"을 넣고, message변수를 출력해보세요\n",
    "\n",
    "score = 85\n",
    "if score >= 80:\n",
    "    message = \"합격\"\n",
    "else:\n",
    "    message = \"불합격\"\n",
    "print(message)"
   ]
  },
  {
   "cell_type": "code",
   "execution_count": 14,
   "id": "69927bbe-ecd9-445d-a4eb-98b6077a941d",
   "metadata": {},
   "outputs": [
    {
     "data": {
      "text/plain": [
       "'합격'"
      ]
     },
     "execution_count": 14,
     "metadata": {},
     "output_type": "execute_result"
    }
   ],
   "source": [
    "score = 99\n",
    "message = \"합격\" if score >= 80 else \"불합격\"         # 한 줄로 작성도 가능.  추천은 X\n",
    "message"
   ]
  },
  {
   "cell_type": "code",
   "execution_count": null,
   "id": "565fbf1f-f16c-494c-96a5-cfc275f2cc8f",
   "metadata": {},
   "outputs": [],
   "source": []
  }
 ],
 "metadata": {
  "kernelspec": {
   "display_name": "Python 3 (ipykernel)",
   "language": "python",
   "name": "python3"
  },
  "language_info": {
   "codemirror_mode": {
    "name": "ipython",
    "version": 3
   },
   "file_extension": ".py",
   "mimetype": "text/x-python",
   "name": "python",
   "nbconvert_exporter": "python",
   "pygments_lexer": "ipython3",
   "version": "3.12.7"
  }
 },
 "nbformat": 4,
 "nbformat_minor": 5
}
