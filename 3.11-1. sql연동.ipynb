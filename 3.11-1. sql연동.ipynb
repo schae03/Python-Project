{
 "cells": [
  {
   "cell_type": "code",
   "execution_count": 1,
   "id": "dd574402-134a-46e1-8c3e-6dc7180d607a",
   "metadata": {},
   "outputs": [],
   "source": [
    "import mysql.connector\n",
    "import pandas as pd"
   ]
  },
  {
   "cell_type": "code",
   "execution_count": 2,
   "id": "77a7725e-71f2-4816-aef2-c6923a5cd223",
   "metadata": {},
   "outputs": [],
   "source": [
    "conn = mysql.connector.connect(\n",
    "    host = \"localhost\",\n",
    "    user = \"root\",\n",
    "    password = \"Chayang0902!\",\n",
    "    database = \"coupang_main\"\n",
    ")"
   ]
  },
  {
   "cell_type": "code",
   "execution_count": 3,
   "id": "04275c94-52e8-4acc-b89e-5bb8be3413cb",
   "metadata": {},
   "outputs": [],
   "source": [
    "# 데이터베이스 제어 권한\n",
    "cursor = conn.cursor()\n",
    "cursor.execute(\"SELECT * FROM item;\")\n",
    "rows = cursor.fetchall()"
   ]
  },
  {
   "cell_type": "code",
   "execution_count": 6,
   "id": "397724b8-9987-427b-8e68-ab5b6b00643a",
   "metadata": {},
   "outputs": [
    {
     "data": {
      "text/html": [
       "<div>\n",
       "<style scoped>\n",
       "    .dataframe tbody tr th:only-of-type {\n",
       "        vertical-align: middle;\n",
       "    }\n",
       "\n",
       "    .dataframe tbody tr th {\n",
       "        vertical-align: top;\n",
       "    }\n",
       "\n",
       "    .dataframe thead th {\n",
       "        text-align: right;\n",
       "    }\n",
       "</style>\n",
       "<table border=\"1\" class=\"dataframe\">\n",
       "  <thead>\n",
       "    <tr style=\"text-align: right;\">\n",
       "      <th></th>\n",
       "      <th>id</th>\n",
       "      <th>name</th>\n",
       "      <th>gender</th>\n",
       "      <th>price</th>\n",
       "      <th>description</th>\n",
       "      <th>registration_date</th>\n",
       "    </tr>\n",
       "  </thead>\n",
       "  <tbody>\n",
       "    <tr>\n",
       "      <th>0</th>\n",
       "      <td>1</td>\n",
       "      <td>남녀 공용 오버핏 반팔 라운드 티셔츠</td>\n",
       "      <td>u</td>\n",
       "      <td>22000</td>\n",
       "      <td>캐쥬얼한 무드를 연출할 수 있는 오버핏 반팔 티셔츠입니다, 깔끔한 라운드넥 디자인이...</td>\n",
       "      <td>2018-03-21</td>\n",
       "    </tr>\n",
       "    <tr>\n",
       "      <th>1</th>\n",
       "      <td>2</td>\n",
       "      <td>남성용 밴딩 린넨 와이드 팬츠</td>\n",
       "      <td>m</td>\n",
       "      <td>33000</td>\n",
       "      <td>매 시즌 사랑받았던, 여름에 꼭 필요한 핫한 밴딩 와이드 팬츠입니다. 베이직한 디자...</td>\n",
       "      <td>2019-08-11</td>\n",
       "    </tr>\n",
       "    <tr>\n",
       "      <th>2</th>\n",
       "      <td>3</td>\n",
       "      <td>남성용 순면 러닝</td>\n",
       "      <td>m</td>\n",
       "      <td>9000</td>\n",
       "      <td>속옷 전문기업의 봉제 기술로 세탁 후에도 깔끔하게 유지됩니다. 봉제선이 최소화되어 ...</td>\n",
       "      <td>2018-04-15</td>\n",
       "    </tr>\n",
       "    <tr>\n",
       "      <th>3</th>\n",
       "      <td>4</td>\n",
       "      <td>무지 7부 반팔 티셔츠</td>\n",
       "      <td>u</td>\n",
       "      <td>13000</td>\n",
       "      <td>유니크한 디테일과 편안한 핏을 위해 최적의 소재를 사용해 만든 젊은 컨셉의 티셔츠입...</td>\n",
       "      <td>2019-05-14</td>\n",
       "    </tr>\n",
       "    <tr>\n",
       "      <th>4</th>\n",
       "      <td>5</td>\n",
       "      <td>브루너 반팔 티셔츠</td>\n",
       "      <td>m</td>\n",
       "      <td>20000</td>\n",
       "      <td>뉴욕 스트릿의 감성이 살아나는 패턴이 있는 티셔츠입니다. 나만의 개성을 티셔츠로 드...</td>\n",
       "      <td>2019-05-14</td>\n",
       "    </tr>\n",
       "  </tbody>\n",
       "</table>\n",
       "</div>"
      ],
      "text/plain": [
       "   id                  name gender  price  \\\n",
       "0   1  남녀 공용 오버핏 반팔 라운드 티셔츠      u  22000   \n",
       "1   2      남성용 밴딩 린넨 와이드 팬츠      m  33000   \n",
       "2   3             남성용 순면 러닝      m   9000   \n",
       "3   4          무지 7부 반팔 티셔츠      u  13000   \n",
       "4   5            브루너 반팔 티셔츠      m  20000   \n",
       "\n",
       "                                         description registration_date  \n",
       "0  캐쥬얼한 무드를 연출할 수 있는 오버핏 반팔 티셔츠입니다, 깔끔한 라운드넥 디자인이...        2018-03-21  \n",
       "1  매 시즌 사랑받았던, 여름에 꼭 필요한 핫한 밴딩 와이드 팬츠입니다. 베이직한 디자...        2019-08-11  \n",
       "2  속옷 전문기업의 봉제 기술로 세탁 후에도 깔끔하게 유지됩니다. 봉제선이 최소화되어 ...        2018-04-15  \n",
       "3  유니크한 디테일과 편안한 핏을 위해 최적의 소재를 사용해 만든 젊은 컨셉의 티셔츠입...        2019-05-14  \n",
       "4  뉴욕 스트릿의 감성이 살아나는 패턴이 있는 티셔츠입니다. 나만의 개성을 티셔츠로 드...        2019-05-14  "
      ]
     },
     "execution_count": 6,
     "metadata": {},
     "output_type": "execute_result"
    }
   ],
   "source": [
    "columns = [i[0] for i in cursor.description]\n",
    "df = pd.DataFrame(rows, columns = columns)\n",
    "df.head()"
   ]
  },
  {
   "cell_type": "code",
   "execution_count": null,
   "id": "68914db8-ceb2-4237-a3a5-cc38af85977b",
   "metadata": {},
   "outputs": [],
   "source": []
  },
  {
   "cell_type": "code",
   "execution_count": null,
   "id": "a11e5c5f-910a-4b91-9ddd-6fd116f2dda1",
   "metadata": {},
   "outputs": [],
   "source": []
  },
  {
   "cell_type": "code",
   "execution_count": null,
   "id": "a5e7956c-9eeb-41be-b22d-4f7eae4b21d6",
   "metadata": {},
   "outputs": [],
   "source": []
  }
 ],
 "metadata": {
  "kernelspec": {
   "display_name": "Python 3 (ipykernel)",
   "language": "python",
   "name": "python3"
  },
  "language_info": {
   "codemirror_mode": {
    "name": "ipython",
    "version": 3
   },
   "file_extension": ".py",
   "mimetype": "text/x-python",
   "name": "python",
   "nbconvert_exporter": "python",
   "pygments_lexer": "ipython3",
   "version": "3.12.7"
  }
 },
 "nbformat": 4,
 "nbformat_minor": 5
}
