{
 "cells": [
  {
   "cell_type": "code",
   "execution_count": 1,
   "id": "695a9013-7395-49e0-aa3e-ecd3fa9ef731",
   "metadata": {},
   "outputs": [
    {
     "name": "stdout",
     "output_type": "stream",
     "text": [
      "100000번 실행했을때, 약 3.1671241833119863건\n"
     ]
    }
   ],
   "source": [
    "from scipy.stats import norm\n",
    "\n",
    "sigma = 4\n",
    "A = norm.cdf(-sigma)\n",
    "n = 100000\n",
    "\n",
    "print(f\"{n}번 실행했을때, 약 {n * A}건\")\n",
    "# 동전 100번 던지는 시험을 10만번 했을때, 앞면이 나오는 경우가 3건"
   ]
  },
  {
   "cell_type": "code",
   "execution_count": 2,
   "id": "5c9718b9-9d42-475d-b7cd-f155f31d3894",
   "metadata": {},
   "outputs": [
    {
     "data": {
      "text/plain": [
       "22850689.634863265"
      ]
     },
     "execution_count": 2,
     "metadata": {},
     "output_type": "execute_result"
    }
   ],
   "source": [
    "(4/3) ** 470 * (4/5) ** 530"
   ]
  },
  {
   "cell_type": "markdown",
   "id": "88056d5e-9ec2-444e-8169-a8c6f5e46104",
   "metadata": {},
   "source": [
    "### 어떤 특별한 동전은 앞면이 나올 확률이 55%라고 합니다. 당신은 친구와 이 동전으로 내기를 합니다. 돈을 걸고 맞추면 건 돈의 1배를 받고, 틀리면 건 돈을 모두 잃습니다. 이 내기에 참여한다면, 자본의 몇 %를 베팅해야 할까요?"
   ]
  },
  {
   "cell_type": "raw",
   "id": "6d2512cb-fd7b-4fb7-a15a-098795180f91",
   "metadata": {},
   "source": [
    "(x+1)^55 * (1-x)^45\n",
    "10%를 투자했을때 65%의 수익을 얻을수있다"
   ]
  },
  {
   "cell_type": "code",
   "execution_count": 5,
   "id": "3363bd3c-305d-4c44-9a0b-4b86fa9ea20c",
   "metadata": {},
   "outputs": [
    {
     "data": {
      "text/plain": [
       "0.10000000000000009"
      ]
     },
     "execution_count": 5,
     "metadata": {},
     "output_type": "execute_result"
    }
   ],
   "source": [
    "# 켈리 방정식\n",
    "# p:이길확률, b:배당률(1000원 건다 - 2000원 순수익 b =2)\n",
    "def kelly1(p, b):       \n",
    "    q = 1 - p     # q:질확률\n",
    "    result = (b * p - q) / b\n",
    "    return max(0, result)\n",
    "\n",
    "kelly1(0.55, 1)"
   ]
  },
  {
   "cell_type": "code",
   "execution_count": 9,
   "id": "dfa9d1cc-9468-4602-9e74-4e0156ff1265",
   "metadata": {},
   "outputs": [
    {
     "data": {
      "text/plain": [
       "0.24999999999999947"
      ]
     },
     "execution_count": 9,
     "metadata": {},
     "output_type": "execute_result"
    }
   ],
   "source": [
    "def kelly2(p, win_rate, loss_rate):    #p:이길확률, win_rate:승리시수익률, loss_rate:손실률\n",
    "    q = 1 - p\n",
    "    if (p * win_rate) <= (q * loss_rate):    # 손실수익이 더 큰경우\n",
    "        return 0\n",
    "\n",
    "    A = p * win_rate - q * loss_rate\n",
    "    B = win_rate * loss_rate\n",
    "\n",
    "    result = A/B\n",
    "    return max(0, result)\n",
    "\n",
    "# 승률 35%, 이기면 20%, 지면 10%를 잃는다\n",
    "kelly2(0.35, 0.2, 0.1)"
   ]
  },
  {
   "cell_type": "code",
   "execution_count": null,
   "id": "fdce903d-bf57-4c71-9a19-09465ad94e95",
   "metadata": {},
   "outputs": [],
   "source": []
  }
 ],
 "metadata": {
  "kernelspec": {
   "display_name": "Python 3 (ipykernel)",
   "language": "python",
   "name": "python3"
  },
  "language_info": {
   "codemirror_mode": {
    "name": "ipython",
    "version": 3
   },
   "file_extension": ".py",
   "mimetype": "text/x-python",
   "name": "python",
   "nbconvert_exporter": "python",
   "pygments_lexer": "ipython3",
   "version": "3.12.7"
  }
 },
 "nbformat": 4,
 "nbformat_minor": 5
}
