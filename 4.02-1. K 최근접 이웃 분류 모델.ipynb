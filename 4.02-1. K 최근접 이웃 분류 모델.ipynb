{
 "cells": [
  {
   "cell_type": "markdown",
   "id": "857f01e1-bc1a-4277-be93-8e3f06b3632c",
   "metadata": {},
   "source": [
    "# <K-Nearest Neighbors, KNN>\n",
    "K-최근접 이웃(KNN) 알고리즘은 머신 러닝의 지도 학습(Supervised Learning) 알고리즘 중 하나로, 분류(Classification)와 회귀(Regression) 문제 모두에 사용될 수 있는 간단하면서도 강력한 알고리즘입니다. KNN은 새로운 데이터가 주어졌을 때, 기존 데이터 중에서 가장 가까운 k개의 이웃을 찾아 그 이웃들의 정보를 바탕으로 새로운 데이터를 예측합니다."
   ]
  },
  {
   "cell_type": "code",
   "execution_count": 6,
   "id": "7abe8981-a184-4028-8f21-b917122b2da9",
   "metadata": {},
   "outputs": [
    {
     "data": {
      "text/html": [
       "<div>\n",
       "<style scoped>\n",
       "    .dataframe tbody tr th:only-of-type {\n",
       "        vertical-align: middle;\n",
       "    }\n",
       "\n",
       "    .dataframe tbody tr th {\n",
       "        vertical-align: top;\n",
       "    }\n",
       "\n",
       "    .dataframe thead th {\n",
       "        text-align: right;\n",
       "    }\n",
       "</style>\n",
       "<table border=\"1\" class=\"dataframe\">\n",
       "  <thead>\n",
       "    <tr style=\"text-align: right;\">\n",
       "      <th></th>\n",
       "      <th>length</th>\n",
       "      <th>weight</th>\n",
       "      <th>target</th>\n",
       "    </tr>\n",
       "  </thead>\n",
       "  <tbody>\n",
       "    <tr>\n",
       "      <th>0</th>\n",
       "      <td>25.4</td>\n",
       "      <td>242.0</td>\n",
       "      <td>bream</td>\n",
       "    </tr>\n",
       "    <tr>\n",
       "      <th>1</th>\n",
       "      <td>26.3</td>\n",
       "      <td>290.0</td>\n",
       "      <td>bream</td>\n",
       "    </tr>\n",
       "    <tr>\n",
       "      <th>2</th>\n",
       "      <td>26.5</td>\n",
       "      <td>340.0</td>\n",
       "      <td>bream</td>\n",
       "    </tr>\n",
       "    <tr>\n",
       "      <th>3</th>\n",
       "      <td>29.0</td>\n",
       "      <td>363.0</td>\n",
       "      <td>bream</td>\n",
       "    </tr>\n",
       "    <tr>\n",
       "      <th>4</th>\n",
       "      <td>29.0</td>\n",
       "      <td>430.0</td>\n",
       "      <td>bream</td>\n",
       "    </tr>\n",
       "  </tbody>\n",
       "</table>\n",
       "</div>"
      ],
      "text/plain": [
       "   length  weight target\n",
       "0    25.4   242.0  bream\n",
       "1    26.3   290.0  bream\n",
       "2    26.5   340.0  bream\n",
       "3    29.0   363.0  bream\n",
       "4    29.0   430.0  bream"
      ]
     },
     "execution_count": 6,
     "metadata": {},
     "output_type": "execute_result"
    }
   ],
   "source": [
    "import pandas as pd\n",
    "\n",
    "fish = pd.read_csv(\"Data/fish.csv\") \n",
    "fish.head()"
   ]
  },
  {
   "cell_type": "markdown",
   "id": "a9a6d89b-8c6f-4872-848d-b5c02bd97352",
   "metadata": {},
   "source": [
    "length, weight가 문제집  \n",
    "target이 정답지"
   ]
  },
  {
   "cell_type": "code",
   "execution_count": 53,
   "id": "12ac4e88-e874-4aea-8677-ab49d5256557",
   "metadata": {},
   "outputs": [
    {
     "data": {
      "image/png": "[encoded data removed]",
      "text/plain": [
       "<Figure size 640x480 with 1 Axes>"
      ]
     },
     "metadata": {},
     "output_type": "display_data"
    }
   ],
   "source": [
    "import seaborn as sns\n",
    "import matplotlib.pyplot as plt\n",
    "\n",
    "sns.scatterplot(data=fish, x = \"length\", y = \"weight\", hue = \"target\")\n",
    "plt.scatter(35, 650, marker = \"^\", color = \"red\")       # 길이가 35, 무게가 650인 점 표시\n",
    "plt.grid()\n",
    "plt.show()\n",
    "\n",
    "# bream: 돔, smelt: 빙어"
   ]
  },
  {
   "cell_type": "markdown",
   "id": "843adb96-1e1c-44e0-b56c-f11500bfa3bf",
   "metadata": {},
   "source": [
    "# 문제집과 정답지 만들기"
   ]
  },
  {
   "cell_type": "code",
   "execution_count": 54,
   "id": "155434fc-cfbf-4b71-aa15-da7aa71743d6",
   "metadata": {},
   "outputs": [],
   "source": [
    "# 문제집 : 2차원 행렬, 정답지 : 1차원 행렬이어야함  \n",
    "# => 문제집을 length로만 하고 싶어도 괄호 두개. fish[[\"length\"]]\n",
    "\n",
    "X = fish[[\"length\", \"weight\"]].values       # 문제집\n",
    "Y = fish[\"target\"].values                   # 정답지\n",
    "\n",
    "# .values 붙이면 행렬로 바꿔줌"
   ]
  },
  {
   "cell_type": "markdown",
   "id": "a1d482a7-bfdd-4e4d-a402-c556fbf30b93",
   "metadata": {},
   "source": [
    "# KNN 분류 모델 만들기"
   ]
  },
  {
   "cell_type": "code",
   "execution_count": 55,
   "id": "077cd32f-faee-4b98-b969-c7d7b2f51a3e",
   "metadata": {},
   "outputs": [],
   "source": [
    "from sklearn.neighbors import KNeighborsClassifier\n",
    "model = KNeighborsClassifier()"
   ]
  },
  {
   "cell_type": "markdown",
   "id": "937f87f0-7cee-49bd-93a1-b715b88c8d3d",
   "metadata": {},
   "source": [
    "# KNN 분류 모델 학습하기"
   ]
  },
  {
   "cell_type": "code",
   "execution_count": 56,
   "id": "19ba0acd-92b0-4a1a-951a-ce5f0d106cac",
   "metadata": {},
   "outputs": [
    {
     "data": {
      "text/html": [
       "<style>#sk-container-id-3 {\n",
       "  /* Definition of color scheme common for light and dark mode */\n",
       "  --sklearn-color-text: black;\n",
       "  --sklearn-color-line: gray;\n",
       "  /* Definition of color scheme for unfitted estimators */\n",
       "  --sklearn-color-unfitted-level-0: #fff5e6;\n",
       "  --sklearn-color-unfitted-level-1: #f6e4d2;\n",
       "  --sklearn-color-unfitted-level-2: #ffe0b3;\n",
       "  --sklearn-color-unfitted-level-3: chocolate;\n",
       "  /* Definition of color scheme for fitted estimators */\n",
       "  --sklearn-color-fitted-level-0: #f0f8ff;\n",
       "  --sklearn-color-fitted-level-1: #d4ebff;\n",
       "  --sklearn-color-fitted-level-2: #b3dbfd;\n",
       "  --sklearn-color-fitted-level-3: cornflowerblue;\n",
       "\n",
       "  /* Specific color for light theme */\n",
       "  --sklearn-color-text-on-default-background: var(--sg-text-color, var(--theme-code-foreground, var(--jp-content-font-color1, black)));\n",
       "  --sklearn-color-background: var(--sg-background-color, var(--theme-background, var(--jp-layout-color0, white)));\n",
       "  --sklearn-color-border-box: var(--sg-text-color, var(--theme-code-foreground, var(--jp-content-font-color1, black)));\n",
       "  --sklearn-color-icon: #696969;\n",
       "\n",
       "  @media (prefers-color-scheme: dark) {\n",
       "    /* Redefinition of color scheme for dark theme */\n",
       "    --sklearn-color-text-on-default-background: var(--sg-text-color, var(--theme-code-foreground, var(--jp-content-font-color1, white)));\n",
       "    --sklearn-color-background: var(--sg-background-color, var(--theme-background, var(--jp-layout-color0, #111)));\n",
       "    --sklearn-color-border-box: var(--sg-text-color, var(--theme-code-foreground, var(--jp-content-font-color1, white)));\n",
       "    --sklearn-color-icon: #878787;\n",
       "  }\n",
       "}\n",
       "\n",
       "#sk-container-id-3 {\n",
       "  color: var(--sklearn-color-text);\n",
       "}\n",
       "\n",
       "#sk-container-id-3 pre {\n",
       "  padding: 0;\n",
       "}\n",
       "\n",
       "#sk-container-id-3 input.sk-hidden--visually {\n",
       "  border: 0;\n",
       "  clip: rect(1px 1px 1px 1px);\n",
       "  clip: rect(1px, 1px, 1px, 1px);\n",
       "  height: 1px;\n",
       "  margin: -1px;\n",
       "  overflow: hidden;\n",
       "  padding: 0;\n",
       "  position: absolute;\n",
       "  width: 1px;\n",
       "}\n",
       "\n",
       "#sk-container-id-3 div.sk-dashed-wrapped {\n",
       "  border: 1px dashed var(--sklearn-color-line);\n",
       "  margin: 0 0.4em 0.5em 0.4em;\n",
       "  box-sizing: border-box;\n",
       "  padding-bottom: 0.4em;\n",
       "  background-color: var(--sklearn-color-background);\n",
       "}\n",
       "\n",
       "#sk-container-id-3 div.sk-container {\n",
       "  /* jupyter's `normalize.less` sets `[hidden] { display: none; }`\n",
       "     but bootstrap.min.css set `[hidden] { display: none !important; }`\n",
       "     so we also need the `!important` here to be able to override the\n",
       "     default hidden behavior on the sphinx rendered scikit-learn.org.\n",
       "     See: https://github.com/scikit-learn/scikit-learn/issues/21755 */\n",
       "  display: inline-block !important;\n",
       "  position: relative;\n",
       "}\n",
       "\n",
       "#sk-container-id-3 div.sk-text-repr-fallback {\n",
       "  display: none;\n",
       "}\n",
       "\n",
       "div.sk-parallel-item,\n",
       "div.sk-serial,\n",
       "div.sk-item {\n",
       "  /* draw centered vertical line to link estimators */\n",
       "  background-image: linear-gradient(var(--sklearn-color-text-on-default-background), var(--sklearn-color-text-on-default-background));\n",
       "  background-size: 2px 100%;\n",
       "  background-repeat: no-repeat;\n",
       "  background-position: center center;\n",
       "}\n",
       "\n",
       "/* Parallel-specific style estimator block */\n",
       "\n",
       "#sk-container-id-3 div.sk-parallel-item::after {\n",
       "  content: \"\";\n",
       "  width: 100%;\n",
       "  border-bottom: 2px solid var(--sklearn-color-text-on-default-background);\n",
       "  flex-grow: 1;\n",
       "}\n",
       "\n",
       "#sk-container-id-3 div.sk-parallel {\n",
       "  display: flex;\n",
       "  align-items: stretch;\n",
       "  justify-content: center;\n",
       "  background-color: var(--sklearn-color-background);\n",
       "  position: relative;\n",
       "}\n",
       "\n",
       "#sk-container-id-3 div.sk-parallel-item {\n",
       "  display: flex;\n",
       "  flex-direction: column;\n",
       "}\n",
       "\n",
       "#sk-container-id-3 div.sk-parallel-item:first-child::after {\n",
       "  align-self: flex-end;\n",
       "  width: 50%;\n",
       "}\n",
       "\n",
       "#sk-container-id-3 div.sk-parallel-item:last-child::after {\n",
       "  align-self: flex-start;\n",
       "  width: 50%;\n",
       "}\n",
       "\n",
       "#sk-container-id-3 div.sk-parallel-item:only-child::after {\n",
       "  width: 0;\n",
       "}\n",
       "\n",
       "/* Serial-specific style estimator block */\n",
       "\n",
       "#sk-container-id-3 div.sk-serial {\n",
       "  display: flex;\n",
       "  flex-direction: column;\n",
       "  align-items: center;\n",
       "  background-color: var(--sklearn-color-background);\n",
       "  padding-right: 1em;\n",
       "  padding-left: 1em;\n",
       "}\n",
       "\n",
       "\n",
       "/* Toggleable style: style used for estimator/Pipeline/ColumnTransformer box that is\n",
       "clickable and can be expanded/collapsed.\n",
       "- Pipeline and ColumnTransformer use this feature and define the default style\n",
       "- Estimators will overwrite some part of the style using the `sk-estimator` class\n",
       "*/\n",
       "\n",
       "/* Pipeline and ColumnTransformer style (default) */\n",
       "\n",
       "#sk-container-id-3 div.sk-toggleable {\n",
       "  /* Default theme specific background. It is overwritten whether we have a\n",
       "  specific estimator or a Pipeline/ColumnTransformer */\n",
       "  background-color: var(--sklearn-color-background);\n",
       "}\n",
       "\n",
       "/* Toggleable label */\n",
       "#sk-container-id-3 label.sk-toggleable__label {\n",
       "  cursor: pointer;\n",
       "  display: block;\n",
       "  width: 100%;\n",
       "  margin-bottom: 0;\n",
       "  padding: 0.5em;\n",
       "  box-sizing: border-box;\n",
       "  text-align: center;\n",
       "}\n",
       "\n",
       "#sk-container-id-3 label.sk-toggleable__label-arrow:before {\n",
       "  /* Arrow on the left of the label */\n",
       "  content: \"▸\";\n",
       "  float: left;\n",
       "  margin-right: 0.25em;\n",
       "  color: var(--sklearn-color-icon);\n",
       "}\n",
       "\n",
       "#sk-container-id-3 label.sk-toggleable__label-arrow:hover:before {\n",
       "  color: var(--sklearn-color-text);\n",
       "}\n",
       "\n",
       "/* Toggleable content - dropdown */\n",
       "\n",
       "#sk-container-id-3 div.sk-toggleable__content {\n",
       "  max-height: 0;\n",
       "  max-width: 0;\n",
       "  overflow: hidden;\n",
       "  text-align: left;\n",
       "  /* unfitted */\n",
       "  background-color: var(--sklearn-color-unfitted-level-0);\n",
       "}\n",
       "\n",
       "#sk-container-id-3 div.sk-toggleable__content.fitted {\n",
       "  /* fitted */\n",
       "  background-color: var(--sklearn-color-fitted-level-0);\n",
       "}\n",
       "\n",
       "#sk-container-id-3 div.sk-toggleable__content pre {\n",
       "  margin: 0.2em;\n",
       "  border-radius: 0.25em;\n",
       "  color: var(--sklearn-color-text);\n",
       "  /* unfitted */\n",
       "  background-color: var(--sklearn-color-unfitted-level-0);\n",
       "}\n",
       "\n",
       "#sk-container-id-3 div.sk-toggleable__content.fitted pre {\n",
       "  /* unfitted */\n",
       "  background-color: var(--sklearn-color-fitted-level-0);\n",
       "}\n",
       "\n",
       "#sk-container-id-3 input.sk-toggleable__control:checked~div.sk-toggleable__content {\n",
       "  /* Expand drop-down */\n",
       "  max-height: 200px;\n",
       "  max-width: 100%;\n",
       "  overflow: auto;\n",
       "}\n",
       "\n",
       "#sk-container-id-3 input.sk-toggleable__control:checked~label.sk-toggleable__label-arrow:before {\n",
       "  content: \"▾\";\n",
       "}\n",
       "\n",
       "/* Pipeline/ColumnTransformer-specific style */\n",
       "\n",
       "#sk-container-id-3 div.sk-label input.sk-toggleable__control:checked~label.sk-toggleable__label {\n",
       "  color: var(--sklearn-color-text);\n",
       "  background-color: var(--sklearn-color-unfitted-level-2);\n",
       "}\n",
       "\n",
       "#sk-container-id-3 div.sk-label.fitted input.sk-toggleable__control:checked~label.sk-toggleable__label {\n",
       "  background-color: var(--sklearn-color-fitted-level-2);\n",
       "}\n",
       "\n",
       "/* Estimator-specific style */\n",
       "\n",
       "/* Colorize estimator box */\n",
       "#sk-container-id-3 div.sk-estimator input.sk-toggleable__control:checked~label.sk-toggleable__label {\n",
       "  /* unfitted */\n",
       "  background-color: var(--sklearn-color-unfitted-level-2);\n",
       "}\n",
       "\n",
       "#sk-container-id-3 div.sk-estimator.fitted input.sk-toggleable__control:checked~label.sk-toggleable__label {\n",
       "  /* fitted */\n",
       "  background-color: var(--sklearn-color-fitted-level-2);\n",
       "}\n",
       "\n",
       "#sk-container-id-3 div.sk-label label.sk-toggleable__label,\n",
       "#sk-container-id-3 div.sk-label label {\n",
       "  /* The background is the default theme color */\n",
       "  color: var(--sklearn-color-text-on-default-background);\n",
       "}\n",
       "\n",
       "/* On hover, darken the color of the background */\n",
       "#sk-container-id-3 div.sk-label:hover label.sk-toggleable__label {\n",
       "  color: var(--sklearn-color-text);\n",
       "  background-color: var(--sklearn-color-unfitted-level-2);\n",
       "}\n",
       "\n",
       "/* Label box, darken color on hover, fitted */\n",
       "#sk-container-id-3 div.sk-label.fitted:hover label.sk-toggleable__label.fitted {\n",
       "  color: var(--sklearn-color-text);\n",
       "  background-color: var(--sklearn-color-fitted-level-2);\n",
       "}\n",
       "\n",
       "/* Estimator label */\n",
       "\n",
       "#sk-container-id-3 div.sk-label label {\n",
       "  font-family: monospace;\n",
       "  font-weight: bold;\n",
       "  display: inline-block;\n",
       "  line-height: 1.2em;\n",
       "}\n",
       "\n",
       "#sk-container-id-3 div.sk-label-container {\n",
       "  text-align: center;\n",
       "}\n",
       "\n",
       "/* Estimator-specific */\n",
       "#sk-container-id-3 div.sk-estimator {\n",
       "  font-family: monospace;\n",
       "  border: 1px dotted var(--sklearn-color-border-box);\n",
       "  border-radius: 0.25em;\n",
       "  box-sizing: border-box;\n",
       "  margin-bottom: 0.5em;\n",
       "  /* unfitted */\n",
       "  background-color: var(--sklearn-color-unfitted-level-0);\n",
       "}\n",
       "\n",
       "#sk-container-id-3 div.sk-estimator.fitted {\n",
       "  /* fitted */\n",
       "  background-color: var(--sklearn-color-fitted-level-0);\n",
       "}\n",
       "\n",
       "/* on hover */\n",
       "#sk-container-id-3 div.sk-estimator:hover {\n",
       "  /* unfitted */\n",
       "  background-color: var(--sklearn-color-unfitted-level-2);\n",
       "}\n",
       "\n",
       "#sk-container-id-3 div.sk-estimator.fitted:hover {\n",
       "  /* fitted */\n",
       "  background-color: var(--sklearn-color-fitted-level-2);\n",
       "}\n",
       "\n",
       "/* Specification for estimator info (e.g. \"i\" and \"?\") */\n",
       "\n",
       "/* Common style for \"i\" and \"?\" */\n",
       "\n",
       ".sk-estimator-doc-link,\n",
       "a:link.sk-estimator-doc-link,\n",
       "a:visited.sk-estimator-doc-link {\n",
       "  float: right;\n",
       "  font-size: smaller;\n",
       "  line-height: 1em;\n",
       "  font-family: monospace;\n",
       "  background-color: var(--sklearn-color-background);\n",
       "  border-radius: 1em;\n",
       "  height: 1em;\n",
       "  width: 1em;\n",
       "  text-decoration: none !important;\n",
       "  margin-left: 1ex;\n",
       "  /* unfitted */\n",
       "  border: var(--sklearn-color-unfitted-level-1) 1pt solid;\n",
       "  color: var(--sklearn-color-unfitted-level-1);\n",
       "}\n",
       "\n",
       ".sk-estimator-doc-link.fitted,\n",
       "a:link.sk-estimator-doc-link.fitted,\n",
       "a:visited.sk-estimator-doc-link.fitted {\n",
       "  /* fitted */\n",
       "  border: var(--sklearn-color-fitted-level-1) 1pt solid;\n",
       "  color: var(--sklearn-color-fitted-level-1);\n",
       "}\n",
       "\n",
       "/* On hover */\n",
       "div.sk-estimator:hover .sk-estimator-doc-link:hover,\n",
       ".sk-estimator-doc-link:hover,\n",
       "div.sk-label-container:hover .sk-estimator-doc-link:hover,\n",
       ".sk-estimator-doc-link:hover {\n",
       "  /* unfitted */\n",
       "  background-color: var(--sklearn-color-unfitted-level-3);\n",
       "  color: var(--sklearn-color-background);\n",
       "  text-decoration: none;\n",
       "}\n",
       "\n",
       "div.sk-estimator.fitted:hover .sk-estimator-doc-link.fitted:hover,\n",
       ".sk-estimator-doc-link.fitted:hover,\n",
       "div.sk-label-container:hover .sk-estimator-doc-link.fitted:hover,\n",
       ".sk-estimator-doc-link.fitted:hover {\n",
       "  /* fitted */\n",
       "  background-color: var(--sklearn-color-fitted-level-3);\n",
       "  color: var(--sklearn-color-background);\n",
       "  text-decoration: none;\n",
       "}\n",
       "\n",
       "/* Span, style for the box shown on hovering the info icon */\n",
       ".sk-estimator-doc-link span {\n",
       "  display: none;\n",
       "  z-index: 9999;\n",
       "  position: relative;\n",
       "  font-weight: normal;\n",
       "  right: .2ex;\n",
       "  padding: .5ex;\n",
       "  margin: .5ex;\n",
       "  width: min-content;\n",
       "  min-width: 20ex;\n",
       "  max-width: 50ex;\n",
       "  color: var(--sklearn-color-text);\n",
       "  box-shadow: 2pt 2pt 4pt #999;\n",
       "  /* unfitted */\n",
       "  background: var(--sklearn-color-unfitted-level-0);\n",
       "  border: .5pt solid var(--sklearn-color-unfitted-level-3);\n",
       "}\n",
       "\n",
       ".sk-estimator-doc-link.fitted span {\n",
       "  /* fitted */\n",
       "  background: var(--sklearn-color-fitted-level-0);\n",
       "  border: var(--sklearn-color-fitted-level-3);\n",
       "}\n",
       "\n",
       ".sk-estimator-doc-link:hover span {\n",
       "  display: block;\n",
       "}\n",
       "\n",
       "/* \"?\"-specific style due to the `<a>` HTML tag */\n",
       "\n",
       "#sk-container-id-3 a.estimator_doc_link {\n",
       "  float: right;\n",
       "  font-size: 1rem;\n",
       "  line-height: 1em;\n",
       "  font-family: monospace;\n",
       "  background-color: var(--sklearn-color-background);\n",
       "  border-radius: 1rem;\n",
       "  height: 1rem;\n",
       "  width: 1rem;\n",
       "  text-decoration: none;\n",
       "  /* unfitted */\n",
       "  color: var(--sklearn-color-unfitted-level-1);\n",
       "  border: var(--sklearn-color-unfitted-level-1) 1pt solid;\n",
       "}\n",
       "\n",
       "#sk-container-id-3 a.estimator_doc_link.fitted {\n",
       "  /* fitted */\n",
       "  border: var(--sklearn-color-fitted-level-1) 1pt solid;\n",
       "  color: var(--sklearn-color-fitted-level-1);\n",
       "}\n",
       "\n",
       "/* On hover */\n",
       "#sk-container-id-3 a.estimator_doc_link:hover {\n",
       "  /* unfitted */\n",
       "  background-color: var(--sklearn-color-unfitted-level-3);\n",
       "  color: var(--sklearn-color-background);\n",
       "  text-decoration: none;\n",
       "}\n",
       "\n",
       "#sk-container-id-3 a.estimator_doc_link.fitted:hover {\n",
       "  /* fitted */\n",
       "  background-color: var(--sklearn-color-fitted-level-3);\n",
       "}\n",
       "</style><div id=\"sk-container-id-3\" class=\"sk-top-container\"><div class=\"sk-text-repr-fallback\"><pre>KNeighborsClassifier()</pre><b>In a Jupyter environment, please rerun this cell to show the HTML representation or trust the notebook. <br />On GitHub, the HTML representation is unable to render, please try loading this page with nbviewer.org.</b></div><div class=\"sk-container\" hidden><div class=\"sk-item\"><div class=\"sk-estimator fitted sk-toggleable\"><input class=\"sk-toggleable__control sk-hidden--visually\" id=\"sk-estimator-id-3\" type=\"checkbox\" checked><label for=\"sk-estimator-id-3\" class=\"sk-toggleable__label fitted sk-toggleable__label-arrow fitted\">&nbsp;&nbsp;KNeighborsClassifier<a class=\"sk-estimator-doc-link fitted\" rel=\"noreferrer\" target=\"_blank\" href=\"https://scikit-learn.org/1.5/modules/generated/sklearn.neighbors.KNeighborsClassifier.html\">?<span>Documentation for KNeighborsClassifier</span></a><span class=\"sk-estimator-doc-link fitted\">i<span>Fitted</span></span></label><div class=\"sk-toggleable__content fitted\"><pre>KNeighborsClassifier()</pre></div> </div></div></div></div>"
      ],
      "text/plain": [
       "KNeighborsClassifier()"
      ]
     },
     "execution_count": 56,
     "metadata": {},
     "output_type": "execute_result"
    }
   ],
   "source": [
    "model.fit(X, Y)"
   ]
  },
  {
   "cell_type": "markdown",
   "id": "cab6005d-2ba1-4cc1-b3e7-0259cb047c89",
   "metadata": {},
   "source": [
    "# 길이가 35cm이고 무게가 650g인 생선 종류 예측하기"
   ]
  },
  {
   "cell_type": "code",
   "execution_count": 57,
   "id": "fc7156cd-3af0-4e64-86f1-d050a82f1df5",
   "metadata": {},
   "outputs": [
    {
     "data": {
      "text/plain": [
       "array(['bream'], dtype=object)"
      ]
     },
     "execution_count": 57,
     "metadata": {},
     "output_type": "execute_result"
    }
   ],
   "source": [
    "import warnings\n",
    "warnings.filterwarnings(\"ignore\")\n",
    "\n",
    "A = [[35, 650]]   # 2차원 리스트로 표현해야함 \n",
    "model.predict(A)\n",
    "# 돔이라는 예측결과 나옴. 근데 얘를 얼마만큼 믿어야할까? 성능확인"
   ]
  },
  {
   "cell_type": "markdown",
   "id": "fc3a1200-6894-4f81-a2a3-e9e98d241ed5",
   "metadata": {},
   "source": [
    "# KNN 분류 모델 성능 확인하기"
   ]
  },
  {
   "cell_type": "code",
   "execution_count": 58,
   "id": "1fe794c9-fff1-41b6-8b2e-518da6ffaa3f",
   "metadata": {},
   "outputs": [
    {
     "data": {
      "text/plain": [
       "array(['bream', 'bream', 'bream', 'bream', 'bream', 'bream', 'bream',\n",
       "       'bream', 'bream', 'bream', 'bream', 'bream', 'bream', 'bream',\n",
       "       'bream', 'bream', 'bream', 'bream', 'bream', 'bream', 'bream',\n",
       "       'bream', 'bream', 'bream', 'bream', 'bream', 'bream', 'bream',\n",
       "       'bream', 'bream', 'bream', 'bream', 'bream', 'bream', 'bream',\n",
       "       'smelt', 'smelt', 'smelt', 'smelt', 'smelt', 'smelt', 'smelt',\n",
       "       'smelt', 'smelt', 'smelt', 'smelt', 'smelt', 'smelt', 'smelt'],\n",
       "      dtype=object)"
      ]
     },
     "execution_count": 58,
     "metadata": {},
     "output_type": "execute_result"
    }
   ],
   "source": [
    "pred = model.predict(X)     # 문제집을 가지고 정답을 예측함 \n",
    "pred    # 예측값"
   ]
  },
  {
   "cell_type": "code",
   "execution_count": 59,
   "id": "a8d4eecc-5816-45d1-9cf6-14cfb1ca9b5b",
   "metadata": {},
   "outputs": [
    {
     "data": {
      "text/plain": [
       "array(['bream', 'bream', 'bream', 'bream', 'bream', 'bream', 'bream',\n",
       "       'bream', 'bream', 'bream', 'bream', 'bream', 'bream', 'bream',\n",
       "       'bream', 'bream', 'bream', 'bream', 'bream', 'bream', 'bream',\n",
       "       'bream', 'bream', 'bream', 'bream', 'bream', 'bream', 'bream',\n",
       "       'bream', 'bream', 'bream', 'bream', 'bream', 'bream', 'bream',\n",
       "       'smelt', 'smelt', 'smelt', 'smelt', 'smelt', 'smelt', 'smelt',\n",
       "       'smelt', 'smelt', 'smelt', 'smelt', 'smelt', 'smelt', 'smelt'],\n",
       "      dtype=object)"
      ]
     },
     "execution_count": 59,
     "metadata": {},
     "output_type": "execute_result"
    }
   ],
   "source": [
    "Y    # 실제값"
   ]
  },
  {
   "cell_type": "code",
   "execution_count": 60,
   "id": "0773379f-c325-4bbe-9a70-1d59d891d0b5",
   "metadata": {},
   "outputs": [
    {
     "data": {
      "text/plain": [
       "1.0"
      ]
     },
     "execution_count": 60,
     "metadata": {},
     "output_type": "execute_result"
    }
   ],
   "source": [
    "sum(pred == Y) / len(Y)      # 정확도\n",
    "# 같으면 true, 틀리면 false 일때 맞는 것의 비율 (1이면 다 맞은 것)"
   ]
  },
  {
   "cell_type": "code",
   "execution_count": 61,
   "id": "9b90fa27-562e-46b9-8bab-e5cbfc096c88",
   "metadata": {},
   "outputs": [
    {
     "data": {
      "text/plain": [
       "1.0"
      ]
     },
     "execution_count": 61,
     "metadata": {},
     "output_type": "execute_result"
    }
   ],
   "source": [
    "model.score(X, Y)       # X로 예측한 값과 Y를 비교해서 정확도로 표시해라   (위의 과정과 동일)"
   ]
  },
  {
   "cell_type": "code",
   "execution_count": 62,
   "id": "f1fdbcc9-e8a8-4dbd-929a-e35c3e0cd87b",
   "metadata": {},
   "outputs": [
    {
     "data": {
      "text/plain": [
       "array(['bream'], dtype=object)"
      ]
     },
     "execution_count": 62,
     "metadata": {},
     "output_type": "execute_result"
    }
   ],
   "source": [
    "A = [[35, 650]]\n",
    "model.predict(A)"
   ]
  },
  {
   "cell_type": "code",
   "execution_count": 63,
   "id": "dfd50de3-80cb-4c87-b59d-cf55479d0f5d",
   "metadata": {},
   "outputs": [
    {
     "data": {
      "text/plain": [
       "array([[1., 0.]])"
      ]
     },
     "execution_count": 63,
     "metadata": {},
     "output_type": "execute_result"
    }
   ],
   "source": [
    "model.predict_proba(A)      \n",
    "\n",
    "# 0일 확률이 100%, 1일 확률이 0%"
   ]
  },
  {
   "cell_type": "code",
   "execution_count": 64,
   "id": "b9dd9302-e8d1-4f3e-ad3b-7dab9117d37d",
   "metadata": {},
   "outputs": [
    {
     "data": {
      "text/plain": [
       "array(['bream', 'smelt'], dtype=object)"
      ]
     },
     "execution_count": 64,
     "metadata": {},
     "output_type": "execute_result"
    }
   ],
   "source": [
    "model.classes_\n",
    "\n",
    "# 0이 bream, 1이 smelt를 의미"
   ]
  },
  {
   "cell_type": "code",
   "execution_count": 65,
   "id": "38fc4e24-068b-474c-a327-ea730d6fda9f",
   "metadata": {},
   "outputs": [
    {
     "data": {
      "text/plain": [
       "(array([[ 1.5       , 30.        , 30.00416638, 35.0142828 , 40.02811512]]),\n",
       " array([[19, 23, 22, 21, 18]], dtype=int64))"
      ]
     },
     "execution_count": 65,
     "metadata": {},
     "output_type": "execute_result"
    }
   ],
   "source": [
    "distance, idx = model.kneighbors(A)\n",
    "distance, idx\n",
    "\n",
    "# 가장 가까운 데이터들의 거리값, 위치값 반환해줌"
   ]
  },
  {
   "cell_type": "code",
   "execution_count": 66,
   "id": "2a1fbb07-ee2c-47a4-8e05-e7968c8d348d",
   "metadata": {},
   "outputs": [
    {
     "data": {
      "image/png": "[encoded data removed]",
      "text/plain": [
       "<Figure size 640x480 with 1 Axes>"
      ]
     },
     "metadata": {},
     "output_type": "display_data"
    }
   ],
   "source": [
    "# 범위 구해줌\n",
    "\n",
    "sns.scatterplot(data=fish, x = \"length\", y = \"weight\", hue = \"target\")\n",
    "plt.scatter(35, 650, marker = \"^\", color = \"red\")\n",
    "plt.scatter(X[idx,0], X[idx,1], marker = \"D\", color = \"green\")     # X[idx,0] : idx열의 length,   X[idx,1] : idx열의 weight\n",
    "plt.grid()\n",
    "plt.show()"
   ]
  },
  {
   "cell_type": "code",
   "execution_count": null,
   "id": "ea58758a-d0d0-4281-9a2d-c2a07812cd19",
   "metadata": {},
   "outputs": [],
   "source": []
  },
  {
   "cell_type": "markdown",
   "id": "73c0485e-eb08-4770-9964-7a37153ffdbf",
   "metadata": {},
   "source": [
    "# 데이터 분할하기"
   ]
  },
  {
   "cell_type": "markdown",
   "id": "9b276e13-c59e-4dbe-b930-6fe413982263",
   "metadata": {},
   "source": [
    "훈련데이터로만 학습을 하고, 시험데이터로 분류를 해보겠다 "
   ]
  },
  {
   "cell_type": "code",
   "execution_count": 68,
   "id": "12e64d0c-3129-4e2f-a921-6245ec75b26c",
   "metadata": {},
   "outputs": [],
   "source": [
    "from sklearn.model_selection import train_test_split   # 랜덤으로 섞어줄뿐만 아니라, 훈련데이터와 시험데이터의 타겟값의비율도 맞춰줌\n",
    "train_x, test_x, train_y, test_y = train_test_split(X, Y, test_size = 0.2)\n",
    "                                                        # 시험데이터에게 20%를 할당하겠다\n",
    "\n",
    "# 훈련데이터의 문제집, 시험데이터의 문제집, 훈련데이터의 정답지, 시험데이터의 정답지  순으로 적어야함\n",
    "\n",
    "# 문제집의 80%가 훈련데이터에, 20%가 시험데이터에 들어간다\n",
    "# 정답지의 80%가 훈련데이터에, 20%가 시험데이터에 들어간다"
   ]
  },
  {
   "cell_type": "code",
   "execution_count": 69,
   "id": "ebcba762-29a2-4069-8438-664f7bb4e16f",
   "metadata": {},
   "outputs": [
    {
     "data": {
      "image/png": "[encoded data removed]",
      "text/plain": [
       "<Figure size 640x480 with 1 Axes>"
      ]
     },
     "metadata": {},
     "output_type": "display_data"
    }
   ],
   "source": [
    "plt.scatter(train_x[:, 0], train_x[:, 1])     # 훈련데이터의 전체 범위에 대해 length, weight 표시\n",
    "plt.scatter(test_x[:, 0], test_x[:, 1])     # 시험데이터의 전체 범위에 대해 length, weight 표시\n",
    "plt.legend([\"train\", \"test\"])\n",
    "plt.grid()\n",
    "plt.show()"
   ]
  },
  {
   "cell_type": "code",
   "execution_count": 71,
   "id": "41a7a06c-4d4c-498c-97ad-3c5b357a4770",
   "metadata": {},
   "outputs": [
    {
     "data": {
      "text/plain": [
       "(39, 10)"
      ]
     },
     "execution_count": 71,
     "metadata": {},
     "output_type": "execute_result"
    }
   ],
   "source": [
    "len(train_x), len(test_x)"
   ]
  },
  {
   "cell_type": "code",
   "execution_count": 74,
   "id": "8785099e-9a4a-4f10-9b05-a642b2e76be3",
   "metadata": {},
   "outputs": [
    {
     "data": {
      "text/plain": [
       "1.0"
      ]
     },
     "execution_count": 74,
     "metadata": {},
     "output_type": "execute_result"
    }
   ],
   "source": [
    "# 훈련데이터로 학습\n",
    "model = KNeighborsClassifier()\n",
    "model.fit(train_x, train_y)\n",
    "model.score(test_x, test_y)   # test_x로 예측한 값과 test_y를 비교하라 "
   ]
  },
  {
   "cell_type": "code",
   "execution_count": 76,
   "id": "dc718cec-d45b-4244-9f52-88c47cee665a",
   "metadata": {},
   "outputs": [
    {
     "data": {
      "image/png": "[encoded data removed]",
      "text/plain": [
       "<Figure size 640x480 with 1 Axes>"
      ]
     },
     "metadata": {},
     "output_type": "display_data"
    }
   ],
   "source": [
    "plt.scatter(train_x[:, 0], train_x[:, 1])     # 훈련데이터의 전체 범위에 대해 length, weight 표시\n",
    "plt.scatter(25, 150, marker = \"^\")\n",
    "plt.grid()\n",
    "plt.show()"
   ]
  },
  {
   "cell_type": "code",
   "execution_count": 77,
   "id": "4b340db4-825d-4994-9cba-f4c5e504961c",
   "metadata": {},
   "outputs": [
    {
     "data": {
      "text/plain": [
       "array(['smelt'], dtype=object)"
      ]
     },
     "execution_count": 77,
     "metadata": {},
     "output_type": "execute_result"
    }
   ],
   "source": [
    "A = [[25,150]]             # 길이가 25, 무게가 150인 것에 대해 예측을 해보라했을 때\n",
    "model.predict(A)\n",
    "\n",
    "# 빙어라고 예측을 한다.. 돔이 나와야하는데"
   ]
  },
  {
   "cell_type": "code",
   "execution_count": 78,
   "id": "22f47193-604b-4e7c-94d1-521e56b19209",
   "metadata": {},
   "outputs": [
    {
     "data": {
      "text/plain": [
       "array([[ 9,  0, 15, 22, 21]], dtype=int64)"
      ]
     },
     "execution_count": 78,
     "metadata": {},
     "output_type": "execute_result"
    }
   ],
   "source": [
    "distance, idx = model.kneighbors(A)\n",
    "idx"
   ]
  },
  {
   "cell_type": "code",
   "execution_count": 82,
   "id": "d8ea2348-3396-4f30-8806-b8153ac4284e",
   "metadata": {},
   "outputs": [
    {
     "data": {
      "image/png": "[encoded data removed]",
      "text/plain": [
       "<Figure size 640x480 with 1 Axes>"
      ]
     },
     "metadata": {},
     "output_type": "display_data"
    }
   ],
   "source": [
    "plt.scatter(train_x[:, 0], train_x[:, 1])\n",
    "plt.scatter(25, 150, marker = \"^\")\n",
    "plt.scatter(train_x[idx, 0], train_x[idx,1], marker = \"D\")        # 컴퓨터가 가깝다고 인식한 5개의 점 파악해보기\n",
    "plt.xlim(0,1000)\n",
    "plt.grid()\n",
    "plt.show()\n",
    "\n",
    "# y축은 200단위로 움직이는 반면, x축은 5단위로 움직여서  컴퓨터는 빙어 쪽이랑 더 가깝게 인식한 듯   =>   표준화를 해주자"
   ]
  },
  {
   "cell_type": "code",
   "execution_count": 83,
   "id": "e3471063-7805-46c2-88d4-725f6044589a",
   "metadata": {},
   "outputs": [
    {
     "data": {
      "text/plain": [
       "array([[0.2, 0.8]])"
      ]
     },
     "execution_count": 83,
     "metadata": {},
     "output_type": "execute_result"
    }
   ],
   "source": [
    "model.predict_proba(A)"
   ]
  },
  {
   "cell_type": "code",
   "execution_count": null,
   "id": "25b6b594-a4c4-4386-8bfe-38de933d0703",
   "metadata": {},
   "outputs": [],
   "source": []
  },
  {
   "cell_type": "markdown",
   "id": "16d43ee9-8140-4538-b334-53ef014473ed",
   "metadata": {},
   "source": [
    "# 데이터 표준화"
   ]
  },
  {
   "cell_type": "code",
   "execution_count": 87,
   "id": "8893b16b-9c9e-4387-be16-1dc538a36d75",
   "metadata": {},
   "outputs": [],
   "source": [
    "mean = train_x.mean(axis = 0)     # 길이데이터 평균과 무게데이터 평균 구해줌\n",
    "std = train_x.std(axis = 0)       # 길이데이터 표준편차와 무게데이터 표준편차 구해줌"
   ]
  },
  {
   "cell_type": "code",
   "execution_count": 94,
   "id": "3a11c8ce-9a44-478d-8c08-7a14a4616090",
   "metadata": {},
   "outputs": [],
   "source": [
    "train_scaled = (train_x - mean) / std\n",
    "test_scaled = (test_x - mean) / std        \n",
    "\n",
    "# 시험데이터에  훈련데이터의 평균을 빼고 훈련데이터의 표준편차로 나눠도되나?  \n",
    "# =>  시험데이터는 모르기 때문에 새로운 데이터가 들어오더라도 자기가 학습한 걸 기반으로 (=훈련데이터로) 표준화를 시켜줘야함"
   ]
  },
  {
   "cell_type": "code",
   "execution_count": 95,
   "id": "211c8b73-7b43-4d0a-9d68-10e12c399125",
   "metadata": {},
   "outputs": [
    {
     "data": {
      "image/png": "[encoded data removed]",
      "text/plain": [
       "<Figure size 640x480 with 1 Axes>"
      ]
     },
     "metadata": {},
     "output_type": "display_data"
    }
   ],
   "source": [
    "plt.scatter(train_scaled[:, 0], train_scaled[:, 1])\n",
    "plt.show()\n",
    "\n",
    "# 축만 바뀌고 형태는 그대로다  =>  시험데이터도 훈련데이터로 표준화해줘도 괜찮다"
   ]
  },
  {
   "cell_type": "code",
   "execution_count": 96,
   "id": "8bc22f55-fd45-4305-8b86-7dff2ea2e77b",
   "metadata": {},
   "outputs": [
    {
     "data": {
      "text/plain": [
       "1.0"
      ]
     },
     "execution_count": 96,
     "metadata": {},
     "output_type": "execute_result"
    }
   ],
   "source": [
    "# 표준화한 데이터를 기반으로 다시 학습\n",
    "\n",
    "model = KNeighborsClassifier()\n",
    "model.fit(train_scaled, train_y)\n",
    "model.score(test_scaled, test_y)"
   ]
  },
  {
   "cell_type": "code",
   "execution_count": 98,
   "id": "508cf136-df37-4ccd-9886-37b6aac72c60",
   "metadata": {},
   "outputs": [
    {
     "data": {
      "text/plain": [
       "array(['bream'], dtype=object)"
      ]
     },
     "execution_count": 98,
     "metadata": {},
     "output_type": "execute_result"
    }
   ],
   "source": [
    "# 길이가 25, 무게가 150인 생선과 가장 가까운 데이터를 시각화\n",
    "\n",
    "A = ([25, 150] - mean) / std     # 예측하고 싶은 데이터도 표준화해서 예측\n",
    "model.predict([A])"
   ]
  },
  {
   "cell_type": "code",
   "execution_count": null,
   "id": "942eba60-6fbd-462d-89dc-c4cc28b272e5",
   "metadata": {},
   "outputs": [],
   "source": []
  },
  {
   "cell_type": "code",
   "execution_count": 101,
   "id": "42972567-983c-4037-b0bc-c20f9f8f1327",
   "metadata": {},
   "outputs": [
    {
     "data": {
      "text/plain": [
       "array([[ 9, 29,  6,  1, 10]], dtype=int64)"
      ]
     },
     "execution_count": 101,
     "metadata": {},
     "output_type": "execute_result"
    }
   ],
   "source": [
    "_, idx = model.kneighbors([A])\n",
    "idx"
   ]
  },
  {
   "cell_type": "code",
   "execution_count": 102,
   "id": "a13092c3-e857-489d-bc85-ca563c9eae96",
   "metadata": {},
   "outputs": [
    {
     "data": {
      "image/png": "[encoded data removed]",
      "text/plain": [
       "<Figure size 640x480 with 1 Axes>"
      ]
     },
     "metadata": {},
     "output_type": "display_data"
    }
   ],
   "source": [
    "plt.scatter(train_scaled[:, 0], train_scaled[:, 1])     # 훈련데이터의 전체 범위에 대해 length, weight 표시\n",
    "plt.scatter(A[0], A[1], marker = \"^\")\n",
    "plt.scatter(train_scaled[idx, 0], train_scaled[idx,1], marker = \"D\")\n",
    "plt.grid()\n",
    "plt.show()"
   ]
  },
  {
   "cell_type": "code",
   "execution_count": null,
   "id": "94462f92-a636-4016-a9d2-da94c02c4a7e",
   "metadata": {},
   "outputs": [],
   "source": []
  },
  {
   "cell_type": "markdown",
   "id": "e2b82933-4bd9-4a78-aca9-aabb71e69b44",
   "metadata": {},
   "source": [
    "# 최적의 K 값 찾기"
   ]
  },
  {
   "cell_type": "code",
   "execution_count": 103,
   "id": "c80d2362-3516-429c-acf8-d1717f4427d0",
   "metadata": {},
   "outputs": [],
   "source": [
    "# 데이터에 따라 최적의 이웃수가 다를 수가 있음. 루트(데이터개수)\n",
    "model = KNeighborsClassifier()\n",
    "model.fit(train_scaled, train_y)\n",
    "box = []\n",
    "for n in range(1, 31):       # 1~30까지 이웃숫자를 바꿔가면서 성능을 test해보려한다\n",
    "    model.n_neighbors = n \n",
    "    score = model.score(test_scaled, test_y)\n",
    "    box.append(score)"
   ]
  },
  {
   "cell_type": "code",
   "execution_count": 104,
   "id": "7e72950e-f324-4f2c-9f7b-fb69ebe5762b",
   "metadata": {},
   "outputs": [
    {
     "data": {
      "image/png": "[encoded data removed]",
      "text/plain": [
       "<Figure size 640x480 with 1 Axes>"
      ]
     },
     "metadata": {},
     "output_type": "display_data"
    }
   ],
   "source": [
    "plt.plot(range(1,31), box)\n",
    "plt.grid()\n",
    "plt.show()\n",
    "\n",
    "# 다수결에서 빙어는 다 틀렸다는 뜻?\n",
    "# 최적의 K : 0~17 정도까지 성능이 다 좋으니까 그 사이에서 골라줄 것"
   ]
  },
  {
   "cell_type": "code",
   "execution_count": 105,
   "id": "5157edf6-5b5e-4089-a25c-b3f612416812",
   "metadata": {},
   "outputs": [],
   "source": [
    "model.n_neighbors = 3"
   ]
  },
  {
   "cell_type": "code",
   "execution_count": null,
   "id": "0e0b0100-01d4-47cb-9279-4677e90ba480",
   "metadata": {},
   "outputs": [],
   "source": []
  },
  {
   "cell_type": "markdown",
   "id": "0b936b90-2307-47c6-afd8-11b45dc62d1e",
   "metadata": {},
   "source": [
    "# <KNN 모델 거리 계산>\n",
    "* 유클리드 거리 (Euclidean Distance): 두 점 사이의 직선 거리를 계산하는 가장 일반적인 방법입니다."
   ]
  },
  {
   "cell_type": "code",
   "execution_count": 106,
   "id": "27da23f3-4ae4-4826-b2ed-7a353b959ffd",
   "metadata": {},
   "outputs": [],
   "source": [
    "model = KNeighborsClassifier(metric = \"euclidean\")      # 가장 효율적인 방법을 사용해 점과점사이를 계산한다 "
   ]
  },
  {
   "cell_type": "markdown",
   "id": "9c4c8d20-4cae-4fe2-85a0-e38ca4fe5d9e",
   "metadata": {},
   "source": [
    "* 맨해튼 거리 (Manhattan Distance): 두 점 사이의 거리를 각 좌표 축을 따라 이동하는 거리로 계산합니다. (L1 거리라고도 합니다.)"
   ]
  },
  {
   "cell_type": "code",
   "execution_count": 107,
   "id": "2dda9a9a-0358-4c50-93f6-bbe259d72e20",
   "metadata": {},
   "outputs": [],
   "source": [
    "model = KNeighborsClassifier(metric = \"manhattan\") "
   ]
  },
  {
   "cell_type": "code",
   "execution_count": 113,
   "id": "188184fe-29e3-4c36-9f1b-3de3152e30bf",
   "metadata": {},
   "outputs": [
    {
     "data": {
      "image/png": "[encoded data removed]",
      "text/plain": [
       "<Figure size 640x480 with 1 Axes>"
      ]
     },
     "metadata": {},
     "output_type": "display_data"
    }
   ],
   "source": [
    "# 데이터 표준화 - Z-Score 표준화 방법 (평균 0, 표준편차 1)\n",
    "\n",
    "sns.boxplot(data=fish, x=\"target\", y=\"length\")\n",
    "plt.show()\n",
    "\n",
    "# 평균에 영향을 줄 것 같은 이상치만 없애주면 됨"
   ]
  },
  {
   "cell_type": "code",
   "execution_count": 114,
   "id": "ec634d23-2581-47af-9812-c26c903ad2da",
   "metadata": {},
   "outputs": [
    {
     "data": {
      "text/html": [
       "<div>\n",
       "<style scoped>\n",
       "    .dataframe tbody tr th:only-of-type {\n",
       "        vertical-align: middle;\n",
       "    }\n",
       "\n",
       "    .dataframe tbody tr th {\n",
       "        vertical-align: top;\n",
       "    }\n",
       "\n",
       "    .dataframe thead th {\n",
       "        text-align: right;\n",
       "    }\n",
       "</style>\n",
       "<table border=\"1\" class=\"dataframe\">\n",
       "  <thead>\n",
       "    <tr style=\"text-align: right;\">\n",
       "      <th></th>\n",
       "      <th>length</th>\n",
       "      <th>weight</th>\n",
       "    </tr>\n",
       "  </thead>\n",
       "  <tbody>\n",
       "    <tr>\n",
       "      <th>count</th>\n",
       "      <td>49.000000</td>\n",
       "      <td>49.000000</td>\n",
       "    </tr>\n",
       "    <tr>\n",
       "      <th>mean</th>\n",
       "      <td>27.055102</td>\n",
       "      <td>444.500000</td>\n",
       "    </tr>\n",
       "    <tr>\n",
       "      <th>std</th>\n",
       "      <td>10.242804</td>\n",
       "      <td>328.143233</td>\n",
       "    </tr>\n",
       "    <tr>\n",
       "      <th>min</th>\n",
       "      <td>9.800000</td>\n",
       "      <td>6.700000</td>\n",
       "    </tr>\n",
       "    <tr>\n",
       "      <th>25%</th>\n",
       "      <td>14.300000</td>\n",
       "      <td>19.700000</td>\n",
       "    </tr>\n",
       "    <tr>\n",
       "      <th>50%</th>\n",
       "      <td>31.000000</td>\n",
       "      <td>500.000000</td>\n",
       "    </tr>\n",
       "    <tr>\n",
       "      <th>75%</th>\n",
       "      <td>34.500000</td>\n",
       "      <td>700.000000</td>\n",
       "    </tr>\n",
       "    <tr>\n",
       "      <th>max</th>\n",
       "      <td>41.000000</td>\n",
       "      <td>1000.000000</td>\n",
       "    </tr>\n",
       "  </tbody>\n",
       "</table>\n",
       "</div>"
      ],
      "text/plain": [
       "          length       weight\n",
       "count  49.000000    49.000000\n",
       "mean   27.055102   444.500000\n",
       "std    10.242804   328.143233\n",
       "min     9.800000     6.700000\n",
       "25%    14.300000    19.700000\n",
       "50%    31.000000   500.000000\n",
       "75%    34.500000   700.000000\n",
       "max    41.000000  1000.000000"
      ]
     },
     "execution_count": 114,
     "metadata": {},
     "output_type": "execute_result"
    }
   ],
   "source": [
    "fish.describe()"
   ]
  },
  {
   "cell_type": "markdown",
   "id": "be6fffc8-e068-4618-9b4a-59b70c6d9ddd",
   "metadata": {},
   "source": [
    "# 라이브러리로"
   ]
  },
  {
   "cell_type": "code",
   "execution_count": 122,
   "id": "568b0933-d1a9-4126-9060-ef5cf51df280",
   "metadata": {},
   "outputs": [],
   "source": [
    "from sklearn.preprocessing import StandardScaler       # 표준화 라이브러리\n",
    "\n",
    "ss = StandardScaler()\n",
    "train_scaled = ss.fit_transform(train_x)           # 훈련데이터의 평균과 표준편차를 학습하고 변환해라 \n",
    "test_scaled = ss.transform(test_x)             # 테스트데이터에 대해서도"
   ]
  },
  {
   "cell_type": "markdown",
   "id": "4bc44407-2fa1-4a35-8cfd-df2b9000ae7f",
   "metadata": {},
   "source": [
    "# 이상치 때문에 평균을 믿을 수 없을 때 - Robust Scaler"
   ]
  },
  {
   "cell_type": "code",
   "execution_count": 123,
   "id": "6ec66275-fa09-43d2-a3f4-3f6cb69b4fea",
   "metadata": {},
   "outputs": [],
   "source": [
    "# Robust Scaler : 중앙값을 빼고 IQR로 나눔   (기존에 하던건 평균을 빼고 표준편차로 나눴었음)\n",
    "import numpy as np\n",
    "\n",
    "median = np.median(train_x, axis = 0)      # 길이데이터의 중앙값과 무게데이터의 중앙값 \n",
    "IQR = np.quantile(train_x, 0.75, axis = 0) - np.quantile(train_x, 0.25, axis = 0)           # 0.75에 해당하는 값(Q3)에서 0.25에 해당하는 값(Q1) 빼기"
   ]
  },
  {
   "cell_type": "code",
   "execution_count": 124,
   "id": "1ab973ae-9dae-46ad-9cf9-ad3c73ba7d7c",
   "metadata": {},
   "outputs": [
    {
     "data": {
      "text/plain": [
       "array([[-1.11486486, -0.84368685],\n",
       "       [ 0.03378378, -0.28117037],\n",
       "       [ 0.23648649,  0.39539584],\n",
       "       [ 0.37162162,  0.87865741],\n",
       "       [ 0.10135135,  0.35146296],\n",
       "       [-0.05405405,  0.        ],\n",
       "       [-0.10135135, -0.19330463],\n",
       "       [ 0.23648649,  0.38660926],\n",
       "       [-0.03378378, -0.04393287],\n",
       "       [-0.41216216, -0.45338722],\n",
       "       [-0.16891892, -0.12301204],\n",
       "       [ 0.64189189,  0.79079167],\n",
       "       [-1.41891892, -0.86547755],\n",
       "       [-0.10135135, -0.08786574],\n",
       "       [ 0.03378378,  0.17573148],\n",
       "       [-1.29054054, -0.85510939],\n",
       "       [-1.38513514, -0.86161146],\n",
       "       [-0.12162162,  0.        ],\n",
       "       [ 0.30405405,  0.37606537],\n",
       "       [ 0.23648649,  0.31631667],\n",
       "       [-0.03378378,  0.        ],\n",
       "       [-1.33108108, -0.86125999],\n",
       "       [-1.25      , -0.85721817],\n",
       "       [ 0.2027027 ,  0.21087778],\n",
       "       [ 0.        ,  0.        ],\n",
       "       [-1.36486486, -0.86336877],\n",
       "       [-1.31756757, -0.86143573],\n",
       "       [ 0.13513514,  0.26359722],\n",
       "       [ 0.47297297,  0.79957824],\n",
       "       [-0.16891892, -0.24075213],\n",
       "       [ 0.16891892,  0.13179861],\n",
       "       [ 0.23648649,  0.35146296],\n",
       "       [ 0.54054054,  0.7468588 ],\n",
       "       [ 0.30405405,  0.61506019],\n",
       "       [ 0.64189189,  0.83472454],\n",
       "       [-1.37162162, -0.86143573],\n",
       "       [ 0.03378378,  0.17573148],\n",
       "       [ 0.10135135,  0.35146296],\n",
       "       [-1.41216216, -0.86635621]])"
      ]
     },
     "execution_count": 124,
     "metadata": {},
     "output_type": "execute_result"
    }
   ],
   "source": [
    "train_scaled = (train_x - median) / IQR\n",
    "test_scaled = (test_x - median) / IQR\n",
    "\n",
    "train_scaled"
   ]
  },
  {
   "cell_type": "code",
   "execution_count": 125,
   "id": "6d0b499f-e095-47e0-b05c-e641a2ccb119",
   "metadata": {},
   "outputs": [
    {
     "data": {
      "text/plain": [
       "array([[-1.11486486, -0.84368685],\n",
       "       [ 0.03378378, -0.28117037],\n",
       "       [ 0.23648649,  0.39539584],\n",
       "       [ 0.37162162,  0.87865741],\n",
       "       [ 0.10135135,  0.35146296],\n",
       "       [-0.05405405,  0.        ],\n",
       "       [-0.10135135, -0.19330463],\n",
       "       [ 0.23648649,  0.38660926],\n",
       "       [-0.03378378, -0.04393287],\n",
       "       [-0.41216216, -0.45338722],\n",
       "       [-0.16891892, -0.12301204],\n",
       "       [ 0.64189189,  0.79079167],\n",
       "       [-1.41891892, -0.86547755],\n",
       "       [-0.10135135, -0.08786574],\n",
       "       [ 0.03378378,  0.17573148],\n",
       "       [-1.29054054, -0.85510939],\n",
       "       [-1.38513514, -0.86161146],\n",
       "       [-0.12162162,  0.        ],\n",
       "       [ 0.30405405,  0.37606537],\n",
       "       [ 0.23648649,  0.31631667],\n",
       "       [-0.03378378,  0.        ],\n",
       "       [-1.33108108, -0.86125999],\n",
       "       [-1.25      , -0.85721817],\n",
       "       [ 0.2027027 ,  0.21087778],\n",
       "       [ 0.        ,  0.        ],\n",
       "       [-1.36486486, -0.86336877],\n",
       "       [-1.31756757, -0.86143573],\n",
       "       [ 0.13513514,  0.26359722],\n",
       "       [ 0.47297297,  0.79957824],\n",
       "       [-0.16891892, -0.24075213],\n",
       "       [ 0.16891892,  0.13179861],\n",
       "       [ 0.23648649,  0.35146296],\n",
       "       [ 0.54054054,  0.7468588 ],\n",
       "       [ 0.30405405,  0.61506019],\n",
       "       [ 0.64189189,  0.83472454],\n",
       "       [-1.37162162, -0.86143573],\n",
       "       [ 0.03378378,  0.17573148],\n",
       "       [ 0.10135135,  0.35146296],\n",
       "       [-1.41216216, -0.86635621]])"
      ]
     },
     "execution_count": 125,
     "metadata": {},
     "output_type": "execute_result"
    }
   ],
   "source": [
    "from sklearn.preprocessing import RobustScaler\n",
    "\n",
    "rb = RobustScaler()\n",
    "rb.fit_transform(train_x)"
   ]
  },
  {
   "cell_type": "markdown",
   "id": "637255cd-d0c0-407b-9167-c9bb2eaf742e",
   "metadata": {},
   "source": [
    "# MinMax : 최대값을 1로 최소값을 0으로 하는 방법"
   ]
  },
  {
   "cell_type": "code",
   "execution_count": 130,
   "id": "bd093d2d-2202-4215-babb-3221212dcbb9",
   "metadata": {},
   "outputs": [
    {
     "data": {
      "text/plain": [
       "array([[1.47540984e-01, 1.29909366e-02],\n",
       "       [7.04918033e-01, 3.35347432e-01],\n",
       "       [8.03278689e-01, 7.23061430e-01],\n",
       "       [8.68852459e-01, 1.00000000e+00],\n",
       "       [7.37704918e-01, 6.97885196e-01],\n",
       "       [6.62295082e-01, 4.96475327e-01],\n",
       "       [6.39344262e-01, 3.85699899e-01],\n",
       "       [8.03278689e-01, 7.18026183e-01],\n",
       "       [6.72131148e-01, 4.71299094e-01],\n",
       "       [4.88524590e-01, 2.36656596e-01],\n",
       "       [6.06557377e-01, 4.25981873e-01],\n",
       "       [1.00000000e+00, 9.49647533e-01],\n",
       "       [0.00000000e+00, 5.03524673e-04],\n",
       "       [6.39344262e-01, 4.46122860e-01],\n",
       "       [7.04918033e-01, 5.97180262e-01],\n",
       "       [6.22950820e-02, 6.44511581e-03],\n",
       "       [1.63934426e-02, 2.71903323e-03],\n",
       "       [6.29508197e-01, 4.96475327e-01],\n",
       "       [8.36065574e-01, 7.11983887e-01],\n",
       "       [8.03278689e-01, 6.77744209e-01],\n",
       "       [6.72131148e-01, 4.96475327e-01],\n",
       "       [4.26229508e-02, 2.92044310e-03],\n",
       "       [8.19672131e-02, 5.23665660e-03],\n",
       "       [7.86885246e-01, 6.17321249e-01],\n",
       "       [6.88524590e-01, 4.96475327e-01],\n",
       "       [2.62295082e-02, 1.71198389e-03],\n",
       "       [4.91803279e-02, 2.81973817e-03],\n",
       "       [7.54098361e-01, 6.47532729e-01],\n",
       "       [9.18032787e-01, 9.54682779e-01],\n",
       "       [6.06557377e-01, 3.58509567e-01],\n",
       "       [7.70491803e-01, 5.72004028e-01],\n",
       "       [8.03278689e-01, 6.97885196e-01],\n",
       "       [9.50819672e-01, 9.24471299e-01],\n",
       "       [8.36065574e-01, 8.48942598e-01],\n",
       "       [1.00000000e+00, 9.74823766e-01],\n",
       "       [2.29508197e-02, 2.81973817e-03],\n",
       "       [7.04918033e-01, 5.97180262e-01],\n",
       "       [7.37704918e-01, 6.97885196e-01],\n",
       "       [3.27868852e-03, 0.00000000e+00]])"
      ]
     },
     "execution_count": 130,
     "metadata": {},
     "output_type": "execute_result"
    }
   ],
   "source": [
    "# MinMax : 최대값을 1로 최소값을 0으로 하는 방법\n",
    "min_value = train_x.min(axis = 0)\n",
    "max_value = train_x.max(axis = 0)\n",
    "\n",
    "train_scaled = (train_x - min_value) / (max_value - min_value)          # 정규화?\n",
    "test_scaled = (test_x - min_value) / (max_value - min_value)\n",
    "# pd.DataFrame(train_scaled).describe()\n",
    "\n",
    "train_scaled"
   ]
  },
  {
   "cell_type": "code",
   "execution_count": 131,
   "id": "95994331-bf2a-4f99-bb6b-f90d4d45145e",
   "metadata": {},
   "outputs": [
    {
     "data": {
      "text/plain": [
       "array([[1.47540984e-01, 1.29909366e-02],\n",
       "       [7.04918033e-01, 3.35347432e-01],\n",
       "       [8.03278689e-01, 7.23061430e-01],\n",
       "       [8.68852459e-01, 1.00000000e+00],\n",
       "       [7.37704918e-01, 6.97885196e-01],\n",
       "       [6.62295082e-01, 4.96475327e-01],\n",
       "       [6.39344262e-01, 3.85699899e-01],\n",
       "       [8.03278689e-01, 7.18026183e-01],\n",
       "       [6.72131148e-01, 4.71299094e-01],\n",
       "       [4.88524590e-01, 2.36656596e-01],\n",
       "       [6.06557377e-01, 4.25981873e-01],\n",
       "       [1.00000000e+00, 9.49647533e-01],\n",
       "       [0.00000000e+00, 5.03524673e-04],\n",
       "       [6.39344262e-01, 4.46122860e-01],\n",
       "       [7.04918033e-01, 5.97180262e-01],\n",
       "       [6.22950820e-02, 6.44511581e-03],\n",
       "       [1.63934426e-02, 2.71903323e-03],\n",
       "       [6.29508197e-01, 4.96475327e-01],\n",
       "       [8.36065574e-01, 7.11983887e-01],\n",
       "       [8.03278689e-01, 6.77744209e-01],\n",
       "       [6.72131148e-01, 4.96475327e-01],\n",
       "       [4.26229508e-02, 2.92044310e-03],\n",
       "       [8.19672131e-02, 5.23665660e-03],\n",
       "       [7.86885246e-01, 6.17321249e-01],\n",
       "       [6.88524590e-01, 4.96475327e-01],\n",
       "       [2.62295082e-02, 1.71198389e-03],\n",
       "       [4.91803279e-02, 2.81973817e-03],\n",
       "       [7.54098361e-01, 6.47532729e-01],\n",
       "       [9.18032787e-01, 9.54682779e-01],\n",
       "       [6.06557377e-01, 3.58509567e-01],\n",
       "       [7.70491803e-01, 5.72004028e-01],\n",
       "       [8.03278689e-01, 6.97885196e-01],\n",
       "       [9.50819672e-01, 9.24471299e-01],\n",
       "       [8.36065574e-01, 8.48942598e-01],\n",
       "       [1.00000000e+00, 9.74823766e-01],\n",
       "       [2.29508197e-02, 2.81973817e-03],\n",
       "       [7.04918033e-01, 5.97180262e-01],\n",
       "       [7.37704918e-01, 6.97885196e-01],\n",
       "       [3.27868852e-03, 0.00000000e+00]])"
      ]
     },
     "execution_count": 131,
     "metadata": {},
     "output_type": "execute_result"
    }
   ],
   "source": [
    "# 라이브러리 함수 활용\n",
    "\n",
    "from sklearn.preprocessing import MinMaxScaler\n",
    "mm = MinMaxScaler()         # 이미지 데이터를 다룰 때 자주 사용. 이미지는 0~255 이므로 이상치 없어서\n",
    "mm.fit_transform(train_x)"
   ]
  },
  {
   "cell_type": "markdown",
   "id": "c71ec42e-6e61-46c1-a7de-7f6c88a018ac",
   "metadata": {},
   "source": [
    "# MaxAbsScaler"
   ]
  },
  {
   "cell_type": "code",
   "execution_count": 135,
   "id": "d9110ced-50c7-4e64-96db-467e0d074c95",
   "metadata": {},
   "outputs": [
    {
     "data": {
      "text/plain": [
       "array([[0.36585366, 0.0199    ],\n",
       "       [0.7804878 , 0.34      ],\n",
       "       [0.85365854, 0.725     ],\n",
       "       [0.90243902, 1.        ],\n",
       "       [0.80487805, 0.7       ],\n",
       "       [0.74878049, 0.5       ],\n",
       "       [0.73170732, 0.39      ],\n",
       "       [0.85365854, 0.72      ],\n",
       "       [0.75609756, 0.475     ],\n",
       "       [0.6195122 , 0.242     ],\n",
       "       [0.70731707, 0.43      ],\n",
       "       [1.        , 0.95      ],\n",
       "       [0.25609756, 0.0075    ],\n",
       "       [0.73170732, 0.45      ],\n",
       "       [0.7804878 , 0.6       ],\n",
       "       [0.30243902, 0.0134    ],\n",
       "       [0.26829268, 0.0097    ],\n",
       "       [0.72439024, 0.5       ],\n",
       "       [0.87804878, 0.714     ],\n",
       "       [0.85365854, 0.68      ],\n",
       "       [0.75609756, 0.5       ],\n",
       "       [0.28780488, 0.0099    ],\n",
       "       [0.31707317, 0.0122    ],\n",
       "       [0.84146341, 0.62      ],\n",
       "       [0.76829268, 0.5       ],\n",
       "       [0.27560976, 0.0087    ],\n",
       "       [0.29268293, 0.0098    ],\n",
       "       [0.81707317, 0.65      ],\n",
       "       [0.93902439, 0.955     ],\n",
       "       [0.70731707, 0.363     ],\n",
       "       [0.82926829, 0.575     ],\n",
       "       [0.85365854, 0.7       ],\n",
       "       [0.96341463, 0.925     ],\n",
       "       [0.87804878, 0.85      ],\n",
       "       [1.        , 0.975     ],\n",
       "       [0.27317073, 0.0098    ],\n",
       "       [0.7804878 , 0.6       ],\n",
       "       [0.80487805, 0.7       ],\n",
       "       [0.25853659, 0.007     ]])"
      ]
     },
     "execution_count": 135,
     "metadata": {},
     "output_type": "execute_result"
    }
   ],
   "source": [
    "# MaxAbsScaler : -1 ~ 1  //  0으로 대칭되면 좋을 것 같은 데이터에서 자주 사용\n",
    "# MinMax를 음수까지 확장한 버전 \n",
    "\n",
    "train_x / abs(train_x.max(axis = 0))       # 훈련데이터를  ??를 다 양수로 바꾼걸로 나눔 "
   ]
  },
  {
   "cell_type": "code",
   "execution_count": 138,
   "id": "04fcfd56-41ee-4f0e-a177-d4f15fa293ed",
   "metadata": {},
   "outputs": [
    {
     "data": {
      "text/plain": [
       "array([[0.36585366, 0.0199    ],\n",
       "       [0.7804878 , 0.34      ],\n",
       "       [0.85365854, 0.725     ],\n",
       "       [0.90243902, 1.        ],\n",
       "       [0.80487805, 0.7       ],\n",
       "       [0.74878049, 0.5       ],\n",
       "       [0.73170732, 0.39      ],\n",
       "       [0.85365854, 0.72      ],\n",
       "       [0.75609756, 0.475     ],\n",
       "       [0.6195122 , 0.242     ],\n",
       "       [0.70731707, 0.43      ],\n",
       "       [1.        , 0.95      ],\n",
       "       [0.25609756, 0.0075    ],\n",
       "       [0.73170732, 0.45      ],\n",
       "       [0.7804878 , 0.6       ],\n",
       "       [0.30243902, 0.0134    ],\n",
       "       [0.26829268, 0.0097    ],\n",
       "       [0.72439024, 0.5       ],\n",
       "       [0.87804878, 0.714     ],\n",
       "       [0.85365854, 0.68      ],\n",
       "       [0.75609756, 0.5       ],\n",
       "       [0.28780488, 0.0099    ],\n",
       "       [0.31707317, 0.0122    ],\n",
       "       [0.84146341, 0.62      ],\n",
       "       [0.76829268, 0.5       ],\n",
       "       [0.27560976, 0.0087    ],\n",
       "       [0.29268293, 0.0098    ],\n",
       "       [0.81707317, 0.65      ],\n",
       "       [0.93902439, 0.955     ],\n",
       "       [0.70731707, 0.363     ],\n",
       "       [0.82926829, 0.575     ],\n",
       "       [0.85365854, 0.7       ],\n",
       "       [0.96341463, 0.925     ],\n",
       "       [0.87804878, 0.85      ],\n",
       "       [1.        , 0.975     ],\n",
       "       [0.27317073, 0.0098    ],\n",
       "       [0.7804878 , 0.6       ],\n",
       "       [0.80487805, 0.7       ],\n",
       "       [0.25853659, 0.007     ]])"
      ]
     },
     "execution_count": 138,
     "metadata": {},
     "output_type": "execute_result"
    }
   ],
   "source": [
    "from sklearn.preprocessing import MaxAbsScaler\n",
    "\n",
    "mas = MaxAbsScaler()\n",
    "mas.fit_transform(train_x)"
   ]
  },
  {
   "cell_type": "code",
   "execution_count": 139,
   "id": "d0e2d287-cae9-4271-b36d-4ee29936a7da",
   "metadata": {},
   "outputs": [
    {
     "data": {
      "text/html": [
       "<style>#sk-container-id-4 {\n",
       "  /* Definition of color scheme common for light and dark mode */\n",
       "  --sklearn-color-text: black;\n",
       "  --sklearn-color-line: gray;\n",
       "  /* Definition of color scheme for unfitted estimators */\n",
       "  --sklearn-color-unfitted-level-0: #fff5e6;\n",
       "  --sklearn-color-unfitted-level-1: #f6e4d2;\n",
       "  --sklearn-color-unfitted-level-2: #ffe0b3;\n",
       "  --sklearn-color-unfitted-level-3: chocolate;\n",
       "  /* Definition of color scheme for fitted estimators */\n",
       "  --sklearn-color-fitted-level-0: #f0f8ff;\n",
       "  --sklearn-color-fitted-level-1: #d4ebff;\n",
       "  --sklearn-color-fitted-level-2: #b3dbfd;\n",
       "  --sklearn-color-fitted-level-3: cornflowerblue;\n",
       "\n",
       "  /* Specific color for light theme */\n",
       "  --sklearn-color-text-on-default-background: var(--sg-text-color, var(--theme-code-foreground, var(--jp-content-font-color1, black)));\n",
       "  --sklearn-color-background: var(--sg-background-color, var(--theme-background, var(--jp-layout-color0, white)));\n",
       "  --sklearn-color-border-box: var(--sg-text-color, var(--theme-code-foreground, var(--jp-content-font-color1, black)));\n",
       "  --sklearn-color-icon: #696969;\n",
       "\n",
       "  @media (prefers-color-scheme: dark) {\n",
       "    /* Redefinition of color scheme for dark theme */\n",
       "    --sklearn-color-text-on-default-background: var(--sg-text-color, var(--theme-code-foreground, var(--jp-content-font-color1, white)));\n",
       "    --sklearn-color-background: var(--sg-background-color, var(--theme-background, var(--jp-layout-color0, #111)));\n",
       "    --sklearn-color-border-box: var(--sg-text-color, var(--theme-code-foreground, var(--jp-content-font-color1, white)));\n",
       "    --sklearn-color-icon: #878787;\n",
       "  }\n",
       "}\n",
       "\n",
       "#sk-container-id-4 {\n",
       "  color: var(--sklearn-color-text);\n",
       "}\n",
       "\n",
       "#sk-container-id-4 pre {\n",
       "  padding: 0;\n",
       "}\n",
       "\n",
       "#sk-container-id-4 input.sk-hidden--visually {\n",
       "  border: 0;\n",
       "  clip: rect(1px 1px 1px 1px);\n",
       "  clip: rect(1px, 1px, 1px, 1px);\n",
       "  height: 1px;\n",
       "  margin: -1px;\n",
       "  overflow: hidden;\n",
       "  padding: 0;\n",
       "  position: absolute;\n",
       "  width: 1px;\n",
       "}\n",
       "\n",
       "#sk-container-id-4 div.sk-dashed-wrapped {\n",
       "  border: 1px dashed var(--sklearn-color-line);\n",
       "  margin: 0 0.4em 0.5em 0.4em;\n",
       "  box-sizing: border-box;\n",
       "  padding-bottom: 0.4em;\n",
       "  background-color: var(--sklearn-color-background);\n",
       "}\n",
       "\n",
       "#sk-container-id-4 div.sk-container {\n",
       "  /* jupyter's `normalize.less` sets `[hidden] { display: none; }`\n",
       "     but bootstrap.min.css set `[hidden] { display: none !important; }`\n",
       "     so we also need the `!important` here to be able to override the\n",
       "     default hidden behavior on the sphinx rendered scikit-learn.org.\n",
       "     See: https://github.com/scikit-learn/scikit-learn/issues/21755 */\n",
       "  display: inline-block !important;\n",
       "  position: relative;\n",
       "}\n",
       "\n",
       "#sk-container-id-4 div.sk-text-repr-fallback {\n",
       "  display: none;\n",
       "}\n",
       "\n",
       "div.sk-parallel-item,\n",
       "div.sk-serial,\n",
       "div.sk-item {\n",
       "  /* draw centered vertical line to link estimators */\n",
       "  background-image: linear-gradient(var(--sklearn-color-text-on-default-background), var(--sklearn-color-text-on-default-background));\n",
       "  background-size: 2px 100%;\n",
       "  background-repeat: no-repeat;\n",
       "  background-position: center center;\n",
       "}\n",
       "\n",
       "/* Parallel-specific style estimator block */\n",
       "\n",
       "#sk-container-id-4 div.sk-parallel-item::after {\n",
       "  content: \"\";\n",
       "  width: 100%;\n",
       "  border-bottom: 2px solid var(--sklearn-color-text-on-default-background);\n",
       "  flex-grow: 1;\n",
       "}\n",
       "\n",
       "#sk-container-id-4 div.sk-parallel {\n",
       "  display: flex;\n",
       "  align-items: stretch;\n",
       "  justify-content: center;\n",
       "  background-color: var(--sklearn-color-background);\n",
       "  position: relative;\n",
       "}\n",
       "\n",
       "#sk-container-id-4 div.sk-parallel-item {\n",
       "  display: flex;\n",
       "  flex-direction: column;\n",
       "}\n",
       "\n",
       "#sk-container-id-4 div.sk-parallel-item:first-child::after {\n",
       "  align-self: flex-end;\n",
       "  width: 50%;\n",
       "}\n",
       "\n",
       "#sk-container-id-4 div.sk-parallel-item:last-child::after {\n",
       "  align-self: flex-start;\n",
       "  width: 50%;\n",
       "}\n",
       "\n",
       "#sk-container-id-4 div.sk-parallel-item:only-child::after {\n",
       "  width: 0;\n",
       "}\n",
       "\n",
       "/* Serial-specific style estimator block */\n",
       "\n",
       "#sk-container-id-4 div.sk-serial {\n",
       "  display: flex;\n",
       "  flex-direction: column;\n",
       "  align-items: center;\n",
       "  background-color: var(--sklearn-color-background);\n",
       "  padding-right: 1em;\n",
       "  padding-left: 1em;\n",
       "}\n",
       "\n",
       "\n",
       "/* Toggleable style: style used for estimator/Pipeline/ColumnTransformer box that is\n",
       "clickable and can be expanded/collapsed.\n",
       "- Pipeline and ColumnTransformer use this feature and define the default style\n",
       "- Estimators will overwrite some part of the style using the `sk-estimator` class\n",
       "*/\n",
       "\n",
       "/* Pipeline and ColumnTransformer style (default) */\n",
       "\n",
       "#sk-container-id-4 div.sk-toggleable {\n",
       "  /* Default theme specific background. It is overwritten whether we have a\n",
       "  specific estimator or a Pipeline/ColumnTransformer */\n",
       "  background-color: var(--sklearn-color-background);\n",
       "}\n",
       "\n",
       "/* Toggleable label */\n",
       "#sk-container-id-4 label.sk-toggleable__label {\n",
       "  cursor: pointer;\n",
       "  display: block;\n",
       "  width: 100%;\n",
       "  margin-bottom: 0;\n",
       "  padding: 0.5em;\n",
       "  box-sizing: border-box;\n",
       "  text-align: center;\n",
       "}\n",
       "\n",
       "#sk-container-id-4 label.sk-toggleable__label-arrow:before {\n",
       "  /* Arrow on the left of the label */\n",
       "  content: \"▸\";\n",
       "  float: left;\n",
       "  margin-right: 0.25em;\n",
       "  color: var(--sklearn-color-icon);\n",
       "}\n",
       "\n",
       "#sk-container-id-4 label.sk-toggleable__label-arrow:hover:before {\n",
       "  color: var(--sklearn-color-text);\n",
       "}\n",
       "\n",
       "/* Toggleable content - dropdown */\n",
       "\n",
       "#sk-container-id-4 div.sk-toggleable__content {\n",
       "  max-height: 0;\n",
       "  max-width: 0;\n",
       "  overflow: hidden;\n",
       "  text-align: left;\n",
       "  /* unfitted */\n",
       "  background-color: var(--sklearn-color-unfitted-level-0);\n",
       "}\n",
       "\n",
       "#sk-container-id-4 div.sk-toggleable__content.fitted {\n",
       "  /* fitted */\n",
       "  background-color: var(--sklearn-color-fitted-level-0);\n",
       "}\n",
       "\n",
       "#sk-container-id-4 div.sk-toggleable__content pre {\n",
       "  margin: 0.2em;\n",
       "  border-radius: 0.25em;\n",
       "  color: var(--sklearn-color-text);\n",
       "  /* unfitted */\n",
       "  background-color: var(--sklearn-color-unfitted-level-0);\n",
       "}\n",
       "\n",
       "#sk-container-id-4 div.sk-toggleable__content.fitted pre {\n",
       "  /* unfitted */\n",
       "  background-color: var(--sklearn-color-fitted-level-0);\n",
       "}\n",
       "\n",
       "#sk-container-id-4 input.sk-toggleable__control:checked~div.sk-toggleable__content {\n",
       "  /* Expand drop-down */\n",
       "  max-height: 200px;\n",
       "  max-width: 100%;\n",
       "  overflow: auto;\n",
       "}\n",
       "\n",
       "#sk-container-id-4 input.sk-toggleable__control:checked~label.sk-toggleable__label-arrow:before {\n",
       "  content: \"▾\";\n",
       "}\n",
       "\n",
       "/* Pipeline/ColumnTransformer-specific style */\n",
       "\n",
       "#sk-container-id-4 div.sk-label input.sk-toggleable__control:checked~label.sk-toggleable__label {\n",
       "  color: var(--sklearn-color-text);\n",
       "  background-color: var(--sklearn-color-unfitted-level-2);\n",
       "}\n",
       "\n",
       "#sk-container-id-4 div.sk-label.fitted input.sk-toggleable__control:checked~label.sk-toggleable__label {\n",
       "  background-color: var(--sklearn-color-fitted-level-2);\n",
       "}\n",
       "\n",
       "/* Estimator-specific style */\n",
       "\n",
       "/* Colorize estimator box */\n",
       "#sk-container-id-4 div.sk-estimator input.sk-toggleable__control:checked~label.sk-toggleable__label {\n",
       "  /* unfitted */\n",
       "  background-color: var(--sklearn-color-unfitted-level-2);\n",
       "}\n",
       "\n",
       "#sk-container-id-4 div.sk-estimator.fitted input.sk-toggleable__control:checked~label.sk-toggleable__label {\n",
       "  /* fitted */\n",
       "  background-color: var(--sklearn-color-fitted-level-2);\n",
       "}\n",
       "\n",
       "#sk-container-id-4 div.sk-label label.sk-toggleable__label,\n",
       "#sk-container-id-4 div.sk-label label {\n",
       "  /* The background is the default theme color */\n",
       "  color: var(--sklearn-color-text-on-default-background);\n",
       "}\n",
       "\n",
       "/* On hover, darken the color of the background */\n",
       "#sk-container-id-4 div.sk-label:hover label.sk-toggleable__label {\n",
       "  color: var(--sklearn-color-text);\n",
       "  background-color: var(--sklearn-color-unfitted-level-2);\n",
       "}\n",
       "\n",
       "/* Label box, darken color on hover, fitted */\n",
       "#sk-container-id-4 div.sk-label.fitted:hover label.sk-toggleable__label.fitted {\n",
       "  color: var(--sklearn-color-text);\n",
       "  background-color: var(--sklearn-color-fitted-level-2);\n",
       "}\n",
       "\n",
       "/* Estimator label */\n",
       "\n",
       "#sk-container-id-4 div.sk-label label {\n",
       "  font-family: monospace;\n",
       "  font-weight: bold;\n",
       "  display: inline-block;\n",
       "  line-height: 1.2em;\n",
       "}\n",
       "\n",
       "#sk-container-id-4 div.sk-label-container {\n",
       "  text-align: center;\n",
       "}\n",
       "\n",
       "/* Estimator-specific */\n",
       "#sk-container-id-4 div.sk-estimator {\n",
       "  font-family: monospace;\n",
       "  border: 1px dotted var(--sklearn-color-border-box);\n",
       "  border-radius: 0.25em;\n",
       "  box-sizing: border-box;\n",
       "  margin-bottom: 0.5em;\n",
       "  /* unfitted */\n",
       "  background-color: var(--sklearn-color-unfitted-level-0);\n",
       "}\n",
       "\n",
       "#sk-container-id-4 div.sk-estimator.fitted {\n",
       "  /* fitted */\n",
       "  background-color: var(--sklearn-color-fitted-level-0);\n",
       "}\n",
       "\n",
       "/* on hover */\n",
       "#sk-container-id-4 div.sk-estimator:hover {\n",
       "  /* unfitted */\n",
       "  background-color: var(--sklearn-color-unfitted-level-2);\n",
       "}\n",
       "\n",
       "#sk-container-id-4 div.sk-estimator.fitted:hover {\n",
       "  /* fitted */\n",
       "  background-color: var(--sklearn-color-fitted-level-2);\n",
       "}\n",
       "\n",
       "/* Specification for estimator info (e.g. \"i\" and \"?\") */\n",
       "\n",
       "/* Common style for \"i\" and \"?\" */\n",
       "\n",
       ".sk-estimator-doc-link,\n",
       "a:link.sk-estimator-doc-link,\n",
       "a:visited.sk-estimator-doc-link {\n",
       "  float: right;\n",
       "  font-size: smaller;\n",
       "  line-height: 1em;\n",
       "  font-family: monospace;\n",
       "  background-color: var(--sklearn-color-background);\n",
       "  border-radius: 1em;\n",
       "  height: 1em;\n",
       "  width: 1em;\n",
       "  text-decoration: none !important;\n",
       "  margin-left: 1ex;\n",
       "  /* unfitted */\n",
       "  border: var(--sklearn-color-unfitted-level-1) 1pt solid;\n",
       "  color: var(--sklearn-color-unfitted-level-1);\n",
       "}\n",
       "\n",
       ".sk-estimator-doc-link.fitted,\n",
       "a:link.sk-estimator-doc-link.fitted,\n",
       "a:visited.sk-estimator-doc-link.fitted {\n",
       "  /* fitted */\n",
       "  border: var(--sklearn-color-fitted-level-1) 1pt solid;\n",
       "  color: var(--sklearn-color-fitted-level-1);\n",
       "}\n",
       "\n",
       "/* On hover */\n",
       "div.sk-estimator:hover .sk-estimator-doc-link:hover,\n",
       ".sk-estimator-doc-link:hover,\n",
       "div.sk-label-container:hover .sk-estimator-doc-link:hover,\n",
       ".sk-estimator-doc-link:hover {\n",
       "  /* unfitted */\n",
       "  background-color: var(--sklearn-color-unfitted-level-3);\n",
       "  color: var(--sklearn-color-background);\n",
       "  text-decoration: none;\n",
       "}\n",
       "\n",
       "div.sk-estimator.fitted:hover .sk-estimator-doc-link.fitted:hover,\n",
       ".sk-estimator-doc-link.fitted:hover,\n",
       "div.sk-label-container:hover .sk-estimator-doc-link.fitted:hover,\n",
       ".sk-estimator-doc-link.fitted:hover {\n",
       "  /* fitted */\n",
       "  background-color: var(--sklearn-color-fitted-level-3);\n",
       "  color: var(--sklearn-color-background);\n",
       "  text-decoration: none;\n",
       "}\n",
       "\n",
       "/* Span, style for the box shown on hovering the info icon */\n",
       ".sk-estimator-doc-link span {\n",
       "  display: none;\n",
       "  z-index: 9999;\n",
       "  position: relative;\n",
       "  font-weight: normal;\n",
       "  right: .2ex;\n",
       "  padding: .5ex;\n",
       "  margin: .5ex;\n",
       "  width: min-content;\n",
       "  min-width: 20ex;\n",
       "  max-width: 50ex;\n",
       "  color: var(--sklearn-color-text);\n",
       "  box-shadow: 2pt 2pt 4pt #999;\n",
       "  /* unfitted */\n",
       "  background: var(--sklearn-color-unfitted-level-0);\n",
       "  border: .5pt solid var(--sklearn-color-unfitted-level-3);\n",
       "}\n",
       "\n",
       ".sk-estimator-doc-link.fitted span {\n",
       "  /* fitted */\n",
       "  background: var(--sklearn-color-fitted-level-0);\n",
       "  border: var(--sklearn-color-fitted-level-3);\n",
       "}\n",
       "\n",
       ".sk-estimator-doc-link:hover span {\n",
       "  display: block;\n",
       "}\n",
       "\n",
       "/* \"?\"-specific style due to the `<a>` HTML tag */\n",
       "\n",
       "#sk-container-id-4 a.estimator_doc_link {\n",
       "  float: right;\n",
       "  font-size: 1rem;\n",
       "  line-height: 1em;\n",
       "  font-family: monospace;\n",
       "  background-color: var(--sklearn-color-background);\n",
       "  border-radius: 1rem;\n",
       "  height: 1rem;\n",
       "  width: 1rem;\n",
       "  text-decoration: none;\n",
       "  /* unfitted */\n",
       "  color: var(--sklearn-color-unfitted-level-1);\n",
       "  border: var(--sklearn-color-unfitted-level-1) 1pt solid;\n",
       "}\n",
       "\n",
       "#sk-container-id-4 a.estimator_doc_link.fitted {\n",
       "  /* fitted */\n",
       "  border: var(--sklearn-color-fitted-level-1) 1pt solid;\n",
       "  color: var(--sklearn-color-fitted-level-1);\n",
       "}\n",
       "\n",
       "/* On hover */\n",
       "#sk-container-id-4 a.estimator_doc_link:hover {\n",
       "  /* unfitted */\n",
       "  background-color: var(--sklearn-color-unfitted-level-3);\n",
       "  color: var(--sklearn-color-background);\n",
       "  text-decoration: none;\n",
       "}\n",
       "\n",
       "#sk-container-id-4 a.estimator_doc_link.fitted:hover {\n",
       "  /* fitted */\n",
       "  background-color: var(--sklearn-color-fitted-level-3);\n",
       "}\n",
       "</style><div id=\"sk-container-id-4\" class=\"sk-top-container\"><div class=\"sk-text-repr-fallback\"><pre>KNeighborsClassifier()</pre><b>In a Jupyter environment, please rerun this cell to show the HTML representation or trust the notebook. <br />On GitHub, the HTML representation is unable to render, please try loading this page with nbviewer.org.</b></div><div class=\"sk-container\" hidden><div class=\"sk-item\"><div class=\"sk-estimator fitted sk-toggleable\"><input class=\"sk-toggleable__control sk-hidden--visually\" id=\"sk-estimator-id-4\" type=\"checkbox\" checked><label for=\"sk-estimator-id-4\" class=\"sk-toggleable__label fitted sk-toggleable__label-arrow fitted\">&nbsp;&nbsp;KNeighborsClassifier<a class=\"sk-estimator-doc-link fitted\" rel=\"noreferrer\" target=\"_blank\" href=\"https://scikit-learn.org/1.5/modules/generated/sklearn.neighbors.KNeighborsClassifier.html\">?<span>Documentation for KNeighborsClassifier</span></a><span class=\"sk-estimator-doc-link fitted\">i<span>Fitted</span></span></label><div class=\"sk-toggleable__content fitted\"><pre>KNeighborsClassifier()</pre></div> </div></div></div></div>"
      ],
      "text/plain": [
       "KNeighborsClassifier()"
      ]
     },
     "execution_count": 139,
     "metadata": {},
     "output_type": "execute_result"
    }
   ],
   "source": [
    "# 정확도, 정밀도(예측한 값들 중에서 몇 개 맞았냐), 재현율(전체에서 몇 개를 잡아냈냐)\n",
    "\n",
    "model = KNeighborsClassifier()\n",
    "model.fit(train_scaled, train_y)     # 모델 만들어 표준화된 데이터로 학습시킴"
   ]
  },
  {
   "cell_type": "code",
   "execution_count": 140,
   "id": "1ec2c752-6a48-4c3f-8cec-fb30753cff23",
   "metadata": {},
   "outputs": [],
   "source": [
    "pred = model.predict(test_scaled)    # 모델에게 예측하라 함"
   ]
  },
  {
   "cell_type": "code",
   "execution_count": 143,
   "id": "6c5027ce-bb3c-4cbb-979b-7b2284980cae",
   "metadata": {},
   "outputs": [
    {
     "name": "stdout",
     "output_type": "stream",
     "text": [
      "              precision    recall  f1-score   support\n",
      "\n",
      "       bream       1.00      1.00      1.00         6\n",
      "       smelt       1.00      1.00      1.00         4\n",
      "\n",
      "    accuracy                           1.00        10\n",
      "   macro avg       1.00      1.00      1.00        10\n",
      "weighted avg       1.00      1.00      1.00        10\n",
      "\n"
     ]
    }
   ],
   "source": [
    "from sklearn.metrics import classification_report\n",
    "report = classification_report(test_y, pred)        # 실제값을 먼저 입력하고 예측값을 뒤에\n",
    "print(report)\n",
    "                # 정밀도    # 재현율   # 정확도\n",
    "              # bream 1.00     1.00    \n",
    "                                    # accuracy 1.00"
   ]
  },
  {
   "cell_type": "code",
   "execution_count": null,
   "id": "8c0ea6ff-aa8d-4445-aa00-a6533db4f216",
   "metadata": {},
   "outputs": [],
   "source": []
  }
 ],
 "metadata": {
  "kernelspec": {
   "display_name": "Python 3 (ipykernel)",
   "language": "python",
   "name": "python3"
  },
  "language_info": {
   "codemirror_mode": {
    "name": "ipython",
    "version": 3
   },
   "file_extension": ".py",
   "mimetype": "text/x-python",
   "name": "python",
   "nbconvert_exporter": "python",
   "pygments_lexer": "ipython3",
   "version": "3.12.7"
  }
 },
 "nbformat": 4,
 "nbformat_minor": 5
}
