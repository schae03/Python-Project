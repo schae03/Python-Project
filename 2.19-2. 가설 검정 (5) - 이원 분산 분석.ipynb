{
 "cells": [
  {
   "cell_type": "markdown",
   "id": "2f5a1280-893d-4cdf-8886-33e9f2db8caa",
   "metadata": {},
   "source": [
    "# 이원 분산 분석\n",
    "이원 분산 분석(Two-way ANOVA)은 두 개의 범주형 독립변수(요인)가 종속변수에 미치는 영향을 동시에 검정하는 통계 기법입니다. 이 분석을 통해 각 요인의 주 효과(Main Effect)와 두 요인 간의 상호작용(Interaction Effect)이 종속변수에 미치는 영향을 파악할 수 있습니다.\n",
    "\n",
    "이원 분산 분석에서는 세 가지 가설을 검정합니다.\n",
    "\n",
    "```\n",
    "요인 A의 주 효과\n",
    "귀무가설 : 요인 A의 모든 수준에서 종속변수의 평균이 동일하다.\n",
    "대립가설 : 적어도 한 수준에서 평균에 차이가 있다.\n",
    "\n",
    "요인 B의 주 효과\n",
    "귀무가설 : 요인 B의 모든 수준에서 종속변수의 평균이 동일하다.\n",
    "대립가설 : 적어도 한 수준에서 평균에 차이가 있다.\n",
    "\n",
    "상호작용 효과\n",
    "귀무가설 : 요인 A와 요인 B 간에 상호작용 효과가 없다.\n",
    "대립가설 : 요인 A와 요인 B가 결합하여 종속변수에 미치는 영향이 다르다.\n",
    "```\n",
    "\n",
    "* 정규성: 각 그룹(요인 조합)의 잔차가 정규분포를 따라야 합니다.\n",
    "* 등분산성(동질성): 모든 그룹의 분산이 동일해야 합니다.\n",
    "* 독립성: 각 관측치는 서로 독립적이어야 합니다."
   ]
  },
  {
   "cell_type": "code",
   "execution_count": 5,
   "id": "556e79d0-0220-421f-a473-3115a40e12a3",
   "metadata": {},
   "outputs": [
    {
     "data": {
      "text/html": [
       "<div>\n",
       "<style scoped>\n",
       "    .dataframe tbody tr th:only-of-type {\n",
       "        vertical-align: middle;\n",
       "    }\n",
       "\n",
       "    .dataframe tbody tr th {\n",
       "        vertical-align: top;\n",
       "    }\n",
       "\n",
       "    .dataframe thead th {\n",
       "        text-align: right;\n",
       "    }\n",
       "</style>\n",
       "<table border=\"1\" class=\"dataframe\">\n",
       "  <thead>\n",
       "    <tr style=\"text-align: right;\">\n",
       "      <th></th>\n",
       "      <th>나무</th>\n",
       "      <th>비료</th>\n",
       "      <th>성장률</th>\n",
       "    </tr>\n",
       "  </thead>\n",
       "  <tbody>\n",
       "    <tr>\n",
       "      <th>0</th>\n",
       "      <td>A</td>\n",
       "      <td>1</td>\n",
       "      <td>54.967142</td>\n",
       "    </tr>\n",
       "    <tr>\n",
       "      <th>1</th>\n",
       "      <td>A</td>\n",
       "      <td>1</td>\n",
       "      <td>48.617357</td>\n",
       "    </tr>\n",
       "    <tr>\n",
       "      <th>2</th>\n",
       "      <td>A</td>\n",
       "      <td>1</td>\n",
       "      <td>56.476885</td>\n",
       "    </tr>\n",
       "    <tr>\n",
       "      <th>3</th>\n",
       "      <td>A</td>\n",
       "      <td>1</td>\n",
       "      <td>65.230299</td>\n",
       "    </tr>\n",
       "    <tr>\n",
       "      <th>4</th>\n",
       "      <td>A</td>\n",
       "      <td>1</td>\n",
       "      <td>47.658466</td>\n",
       "    </tr>\n",
       "    <tr>\n",
       "      <th>...</th>\n",
       "      <td>...</td>\n",
       "      <td>...</td>\n",
       "      <td>...</td>\n",
       "    </tr>\n",
       "    <tr>\n",
       "      <th>115</th>\n",
       "      <td>D</td>\n",
       "      <td>3</td>\n",
       "      <td>74.015473</td>\n",
       "    </tr>\n",
       "    <tr>\n",
       "      <th>116</th>\n",
       "      <td>D</td>\n",
       "      <td>3</td>\n",
       "      <td>70.652882</td>\n",
       "    </tr>\n",
       "    <tr>\n",
       "      <th>117</th>\n",
       "      <td>D</td>\n",
       "      <td>3</td>\n",
       "      <td>59.313220</td>\n",
       "    </tr>\n",
       "    <tr>\n",
       "      <th>118</th>\n",
       "      <td>D</td>\n",
       "      <td>3</td>\n",
       "      <td>82.428228</td>\n",
       "    </tr>\n",
       "    <tr>\n",
       "      <th>119</th>\n",
       "      <td>D</td>\n",
       "      <td>3</td>\n",
       "      <td>78.519330</td>\n",
       "    </tr>\n",
       "  </tbody>\n",
       "</table>\n",
       "<p>120 rows × 3 columns</p>\n",
       "</div>"
      ],
      "text/plain": [
       "    나무  비료        성장률\n",
       "0    A   1  54.967142\n",
       "1    A   1  48.617357\n",
       "2    A   1  56.476885\n",
       "3    A   1  65.230299\n",
       "4    A   1  47.658466\n",
       "..  ..  ..        ...\n",
       "115  D   3  74.015473\n",
       "116  D   3  70.652882\n",
       "117  D   3  59.313220\n",
       "118  D   3  82.428228\n",
       "119  D   3  78.519330\n",
       "\n",
       "[120 rows x 3 columns]"
      ]
     },
     "execution_count": 5,
     "metadata": {},
     "output_type": "execute_result"
    }
   ],
   "source": [
    "import pandas as pd\n",
    "\n",
    "tree = pd.read_csv(\"Data/tree.csv\")\n",
    "tree\n",
    "# 나무 ABCD, 비료 123"
   ]
  },
  {
   "cell_type": "code",
   "execution_count": 11,
   "id": "7f4480b0-09d8-4414-8b2e-87614416f809",
   "metadata": {},
   "outputs": [
    {
     "data": {
      "image/png": "[encoded data removed]",
      "text/plain": [
       "<Figure size 640x480 with 1 Axes>"
      ]
     },
     "metadata": {},
     "output_type": "display_data"
    }
   ],
   "source": [
    "import seaborn as sns\n",
    "import koreanize_matplotlib\n",
    "import matplotlib.pyplot as plt\n",
    "\n",
    "# 나무별 비료별 성장률 차이가 있는지 \n",
    "sns.boxplot(data=tree, x = \"나무\", y = \"성장률\", hue = \"비료\")\n",
    "plt.show()\n",
    "\n",
    "# 일단은 그림상으로는 성장률의 차이가 존재하는 것처럼 보임"
   ]
  },
  {
   "cell_type": "code",
   "execution_count": 8,
   "id": "34cf4c21-4acc-493b-9340-8d5eaf5c5f4f",
   "metadata": {},
   "outputs": [],
   "source": [
    "# 정규성 test... 원래처럼하면?\n",
    "\n",
    "# 나무 A이면서 비료 1,2,3\n",
    "# 나무 B이면서 비료 1,2,3\n",
    "# 나무 C이면서 비료 1,2,3\n",
    "# 나무 D이면서 비료 1,2,3        # 원래 하던것처럼 하면 12번해야됨   =>    groupby 활용"
   ]
  },
  {
   "cell_type": "code",
   "execution_count": 15,
   "id": "1acb4bf2-03f1-4b61-9efa-686ba86df4ad",
   "metadata": {},
   "outputs": [
    {
     "name": "stdout",
     "output_type": "stream",
     "text": [
      "('A', 1) : 정규성을 만족합니다\n",
      "('A', 2) : 정규성을 만족합니다\n",
      "('A', 3) : 정규성을 만족합니다\n",
      "('B', 1) : 정규성을 만족합니다\n",
      "('B', 2) : 정규성을 만족합니다\n",
      "('B', 3) : 정규성을 만족합니다\n",
      "('C', 1) : 정규성을 만족합니다\n",
      "('C', 2) : 정규성을 만족합니다\n",
      "('C', 3) : 정규성을 만족합니다\n",
      "('D', 1) : 정규성을 만족합니다\n",
      "('D', 2) : 정규성을 만족합니다\n",
      "('D', 3) : 정규성을 만족합니다\n"
     ]
    }
   ],
   "source": [
    "# 정규성 만족하는지 확인 - groupby, shapiro\n",
    "\n",
    "from statsmodels.formula.api import ols\n",
    "import statsmodels.api as sm\n",
    "import numpy as np\n",
    "import scipy.stats as stats\n",
    "\n",
    "for name, df in tree.groupby([\"나무\", \"비료\"]):         # groupby로 그룹화 \n",
    "        st, p = stats.shapiro(df[\"성장률\"])\n",
    "        if p > 0.05:\n",
    "            print(f\"{name} : 정규성을 만족합니다\")"
   ]
  },
  {
   "cell_type": "code",
   "execution_count": 19,
   "id": "c80fb1b3-40ff-4529-a09d-697e16c5c943",
   "metadata": {},
   "outputs": [
    {
     "data": {
      "text/plain": [
       "LeveneResult(statistic=0.6304294467759749, pvalue=0.7993202544770085)"
      ]
     },
     "execution_count": 19,
     "metadata": {},
     "output_type": "execute_result"
    }
   ],
   "source": [
    "# 분산이 동일한지 확인 - groupby, levene*\n",
    "\n",
    "box = []\n",
    "for name, df in tree.groupby([\"나무\", \"비료\"]):         # groupby로 그룹화 \n",
    "    box.append(df[\"성장률\"])\n",
    "box\n",
    "\n",
    "stats.levene(*box)\n",
    "\n",
    "# p > 0.05 ; 분산도 동일하다고 추론 가능"
   ]
  },
  {
   "cell_type": "code",
   "execution_count": 17,
   "id": "780ae6f6-a5be-46ec-bf9b-8d7e2cf5a1f9",
   "metadata": {},
   "outputs": [
    {
     "data": {
      "text/plain": [
       "(3, 4)"
      ]
     },
     "execution_count": 17,
     "metadata": {},
     "output_type": "execute_result"
    }
   ],
   "source": [
    "# 참고: *이 있으면 변수가 몇개든 ㄱㅊ음\n",
    "\n",
    "def func(*x):\n",
    "    return x\n",
    "\n",
    "func(3,4)"
   ]
  },
  {
   "cell_type": "code",
   "execution_count": 22,
   "id": "99d1f689-fd65-4b9e-8127-6f68cf9028c7",
   "metadata": {},
   "outputs": [
    {
     "data": {
      "text/html": [
       "<div>\n",
       "<style scoped>\n",
       "    .dataframe tbody tr th:only-of-type {\n",
       "        vertical-align: middle;\n",
       "    }\n",
       "\n",
       "    .dataframe tbody tr th {\n",
       "        vertical-align: top;\n",
       "    }\n",
       "\n",
       "    .dataframe thead th {\n",
       "        text-align: right;\n",
       "    }\n",
       "</style>\n",
       "<table border=\"1\" class=\"dataframe\">\n",
       "  <thead>\n",
       "    <tr style=\"text-align: right;\">\n",
       "      <th></th>\n",
       "      <th>df</th>\n",
       "      <th>sum_sq</th>\n",
       "      <th>mean_sq</th>\n",
       "      <th>F</th>\n",
       "      <th>PR(&gt;F)</th>\n",
       "    </tr>\n",
       "  </thead>\n",
       "  <tbody>\n",
       "    <tr>\n",
       "      <th>C(나무)</th>\n",
       "      <td>3.0</td>\n",
       "      <td>4783.353938</td>\n",
       "      <td>1594.451313</td>\n",
       "      <td>18.855528</td>\n",
       "      <td>6.600012e-10</td>\n",
       "    </tr>\n",
       "    <tr>\n",
       "      <th>C(비료)</th>\n",
       "      <td>2.0</td>\n",
       "      <td>1127.924259</td>\n",
       "      <td>563.962129</td>\n",
       "      <td>6.669256</td>\n",
       "      <td>1.857612e-03</td>\n",
       "    </tr>\n",
       "    <tr>\n",
       "      <th>C(나무):C(비료)</th>\n",
       "      <td>6.0</td>\n",
       "      <td>717.520672</td>\n",
       "      <td>119.586779</td>\n",
       "      <td>1.414199</td>\n",
       "      <td>2.157357e-01</td>\n",
       "    </tr>\n",
       "    <tr>\n",
       "      <th>Residual</th>\n",
       "      <td>108.0</td>\n",
       "      <td>9132.639448</td>\n",
       "      <td>84.561476</td>\n",
       "      <td>NaN</td>\n",
       "      <td>NaN</td>\n",
       "    </tr>\n",
       "  </tbody>\n",
       "</table>\n",
       "</div>"
      ],
      "text/plain": [
       "                df       sum_sq      mean_sq          F        PR(>F)\n",
       "C(나무)          3.0  4783.353938  1594.451313  18.855528  6.600012e-10\n",
       "C(비료)          2.0  1127.924259   563.962129   6.669256  1.857612e-03\n",
       "C(나무):C(비료)    6.0   717.520672   119.586779   1.414199  2.157357e-01\n",
       "Residual     108.0  9132.639448    84.561476        NaN           NaN"
      ]
     },
     "execution_count": 22,
     "metadata": {},
     "output_type": "execute_result"
    }
   ],
   "source": [
    "# 차이가 있는지 확인하는 방법 (이원분산분석)  - ols, stats.anova_lm\n",
    "\n",
    "# 성장 차이를 보고 싶다 = variable을 가지고 value를 보고싶다 = value를 종속변수(y)로.\n",
    "# 범주형 변수일 때는 앞에 C붙여줄것\n",
    "\n",
    "from statsmodels.formula.api import ols\n",
    "import statsmodels.api as sm\n",
    "\n",
    "model = ols(\"성장률 ~ C(나무) + C(비료) + C(나무):C(비료)\", data=tree).fit()\n",
    "sm.stats.anova_lm(model)\n",
    "\n",
    "# 나무, 비료, 나무&비료의 상호작용의 p < 0.05 ; H0기각. 적어도 두 개의 분산에 유의미한 차이가 있다"
   ]
  },
  {
   "cell_type": "code",
   "execution_count": 23,
   "id": "1eec5567-e133-46f2-834f-5843f454f999",
   "metadata": {},
   "outputs": [
    {
     "name": "stdout",
     "output_type": "stream",
     "text": [
      "Multiple Comparison of Means - Tukey HSD, FWER=0.05 \n",
      "====================================================\n",
      "group1 group2 meandiff p-adj   lower   upper  reject\n",
      "----------------------------------------------------\n",
      "     A      B   5.6698 0.1143 -0.8776 12.2173  False\n",
      "     A      C  12.0103    0.0  5.4628 18.5578   True\n",
      "     A      D   16.679    0.0 10.1315 23.2264   True\n",
      "     B      C   6.3405 0.0614  -0.207 12.8879  False\n",
      "     B      D  11.0091 0.0002  4.4616 17.5566   True\n",
      "     C      D   4.6686 0.2517 -1.8788 11.2161  False\n",
      "----------------------------------------------------\n"
     ]
    }
   ],
   "source": [
    "# 사후 분석 - pairwise_tukeyhsd\n",
    "\n",
    "# 어떤 나무가 유의미한지 확인 \n",
    "from statsmodels.stats.multicomp import pairwise_tukeyhsd\n",
    "\n",
    "report = pairwise_tukeyhsd(endog = tree[\"성장률\"], \n",
    "                           groups = tree['나무'], alpha = 0.05)\n",
    "print(report)\n",
    "\n",
    "# A와 B의 p > 0.05: 두 그룹의 평균차이는 통계적으로 유의하지 않다 "
   ]
  },
  {
   "cell_type": "code",
   "execution_count": 26,
   "id": "9c2e60c0-2b6f-4158-ac7a-6c0be9d36319",
   "metadata": {},
   "outputs": [
    {
     "data": {
      "image/png": "[encoded data removed]",
      "text/plain": [
       "<Figure size 1000x600 with 1 Axes>"
      ]
     },
     "metadata": {},
     "output_type": "display_data"
    }
   ],
   "source": [
    "report.plot_simultaneous()\n",
    "plt.grid()\n",
    "plt.show()"
   ]
  },
  {
   "cell_type": "code",
   "execution_count": null,
   "id": "c8c47f18-8e79-4fbf-8598-2aa23634bb06",
   "metadata": {},
   "outputs": [],
   "source": [
    "# 어떤 비료가 유의미한지 확인 \n",
    "report2 = pairwise_tukeyhsd(endog = tree[\"성장률\"], \n",
    "                           groups = tree['나무'], alpha = 0.05)\n",
    "print(report2)"
   ]
  },
  {
   "cell_type": "markdown",
   "id": "60687bac-b5a5-4de5-a9ad-819c48416a28",
   "metadata": {},
   "source": [
    "## 연습문제\n",
    "한 연구자가 체중 감량에 미치는 두 가지 요인의 효과를 조사하고자 하였습니다.\n",
    "\n",
    "```\n",
    "요인 1: 식이 요법 (Diet)\n",
    "    - 수준: 고단백 (HighProtein), 저탄수화물 (LowCarb), 균형 잡힌 식단 (Balanced)\n",
    "\n",
    "요인 2: 운동 강도 (Exercise)\n",
    "    - 수준: 낮음 (Low), 높음 (High)\n",
    "```\n",
    "\n",
    "주효과와 상호작용 효과를 포함하는 이원 분산 분석 모형을 구축하세요. (유의수준 0.05)"
   ]
  },
  {
   "cell_type": "code",
   "execution_count": 46,
   "id": "b98de037-df1c-431f-836b-112f4cd1a891",
   "metadata": {},
   "outputs": [
    {
     "data": {
      "text/html": [
       "<div>\n",
       "<style scoped>\n",
       "    .dataframe tbody tr th:only-of-type {\n",
       "        vertical-align: middle;\n",
       "    }\n",
       "\n",
       "    .dataframe tbody tr th {\n",
       "        vertical-align: top;\n",
       "    }\n",
       "\n",
       "    .dataframe thead th {\n",
       "        text-align: right;\n",
       "    }\n",
       "</style>\n",
       "<table border=\"1\" class=\"dataframe\">\n",
       "  <thead>\n",
       "    <tr style=\"text-align: right;\">\n",
       "      <th></th>\n",
       "      <th>Diet</th>\n",
       "      <th>Exercise</th>\n",
       "      <th>WeightLoss</th>\n",
       "    </tr>\n",
       "  </thead>\n",
       "  <tbody>\n",
       "    <tr>\n",
       "      <th>0</th>\n",
       "      <td>HighProtein</td>\n",
       "      <td>Low</td>\n",
       "      <td>3.0</td>\n",
       "    </tr>\n",
       "    <tr>\n",
       "      <th>1</th>\n",
       "      <td>HighProtein</td>\n",
       "      <td>Low</td>\n",
       "      <td>3.5</td>\n",
       "    </tr>\n",
       "    <tr>\n",
       "      <th>2</th>\n",
       "      <td>HighProtein</td>\n",
       "      <td>Low</td>\n",
       "      <td>3.1</td>\n",
       "    </tr>\n",
       "    <tr>\n",
       "      <th>3</th>\n",
       "      <td>HighProtein</td>\n",
       "      <td>Low</td>\n",
       "      <td>3.3</td>\n",
       "    </tr>\n",
       "    <tr>\n",
       "      <th>4</th>\n",
       "      <td>HighProtein</td>\n",
       "      <td>Low</td>\n",
       "      <td>3.2</td>\n",
       "    </tr>\n",
       "    <tr>\n",
       "      <th>5</th>\n",
       "      <td>HighProtein</td>\n",
       "      <td>High</td>\n",
       "      <td>4.0</td>\n",
       "    </tr>\n",
       "    <tr>\n",
       "      <th>6</th>\n",
       "      <td>HighProtein</td>\n",
       "      <td>High</td>\n",
       "      <td>4.2</td>\n",
       "    </tr>\n",
       "    <tr>\n",
       "      <th>7</th>\n",
       "      <td>HighProtein</td>\n",
       "      <td>High</td>\n",
       "      <td>3.8</td>\n",
       "    </tr>\n",
       "    <tr>\n",
       "      <th>8</th>\n",
       "      <td>HighProtein</td>\n",
       "      <td>High</td>\n",
       "      <td>4.1</td>\n",
       "    </tr>\n",
       "    <tr>\n",
       "      <th>9</th>\n",
       "      <td>HighProtein</td>\n",
       "      <td>High</td>\n",
       "      <td>4.0</td>\n",
       "    </tr>\n",
       "    <tr>\n",
       "      <th>10</th>\n",
       "      <td>LowCarb</td>\n",
       "      <td>Low</td>\n",
       "      <td>2.8</td>\n",
       "    </tr>\n",
       "    <tr>\n",
       "      <th>11</th>\n",
       "      <td>LowCarb</td>\n",
       "      <td>Low</td>\n",
       "      <td>2.9</td>\n",
       "    </tr>\n",
       "    <tr>\n",
       "      <th>12</th>\n",
       "      <td>LowCarb</td>\n",
       "      <td>Low</td>\n",
       "      <td>3.0</td>\n",
       "    </tr>\n",
       "    <tr>\n",
       "      <th>13</th>\n",
       "      <td>LowCarb</td>\n",
       "      <td>Low</td>\n",
       "      <td>2.7</td>\n",
       "    </tr>\n",
       "    <tr>\n",
       "      <th>14</th>\n",
       "      <td>LowCarb</td>\n",
       "      <td>Low</td>\n",
       "      <td>2.8</td>\n",
       "    </tr>\n",
       "    <tr>\n",
       "      <th>15</th>\n",
       "      <td>LowCarb</td>\n",
       "      <td>High</td>\n",
       "      <td>3.5</td>\n",
       "    </tr>\n",
       "    <tr>\n",
       "      <th>16</th>\n",
       "      <td>LowCarb</td>\n",
       "      <td>High</td>\n",
       "      <td>3.6</td>\n",
       "    </tr>\n",
       "    <tr>\n",
       "      <th>17</th>\n",
       "      <td>LowCarb</td>\n",
       "      <td>High</td>\n",
       "      <td>3.4</td>\n",
       "    </tr>\n",
       "    <tr>\n",
       "      <th>18</th>\n",
       "      <td>LowCarb</td>\n",
       "      <td>High</td>\n",
       "      <td>3.5</td>\n",
       "    </tr>\n",
       "    <tr>\n",
       "      <th>19</th>\n",
       "      <td>LowCarb</td>\n",
       "      <td>High</td>\n",
       "      <td>3.7</td>\n",
       "    </tr>\n",
       "    <tr>\n",
       "      <th>20</th>\n",
       "      <td>Balanced</td>\n",
       "      <td>Low</td>\n",
       "      <td>2.5</td>\n",
       "    </tr>\n",
       "    <tr>\n",
       "      <th>21</th>\n",
       "      <td>Balanced</td>\n",
       "      <td>Low</td>\n",
       "      <td>2.6</td>\n",
       "    </tr>\n",
       "    <tr>\n",
       "      <th>22</th>\n",
       "      <td>Balanced</td>\n",
       "      <td>Low</td>\n",
       "      <td>2.4</td>\n",
       "    </tr>\n",
       "    <tr>\n",
       "      <th>23</th>\n",
       "      <td>Balanced</td>\n",
       "      <td>Low</td>\n",
       "      <td>2.7</td>\n",
       "    </tr>\n",
       "    <tr>\n",
       "      <th>24</th>\n",
       "      <td>Balanced</td>\n",
       "      <td>Low</td>\n",
       "      <td>2.5</td>\n",
       "    </tr>\n",
       "    <tr>\n",
       "      <th>25</th>\n",
       "      <td>Balanced</td>\n",
       "      <td>High</td>\n",
       "      <td>3.0</td>\n",
       "    </tr>\n",
       "    <tr>\n",
       "      <th>26</th>\n",
       "      <td>Balanced</td>\n",
       "      <td>High</td>\n",
       "      <td>3.1</td>\n",
       "    </tr>\n",
       "    <tr>\n",
       "      <th>27</th>\n",
       "      <td>Balanced</td>\n",
       "      <td>High</td>\n",
       "      <td>2.9</td>\n",
       "    </tr>\n",
       "    <tr>\n",
       "      <th>28</th>\n",
       "      <td>Balanced</td>\n",
       "      <td>High</td>\n",
       "      <td>3.0</td>\n",
       "    </tr>\n",
       "    <tr>\n",
       "      <th>29</th>\n",
       "      <td>Balanced</td>\n",
       "      <td>High</td>\n",
       "      <td>3.2</td>\n",
       "    </tr>\n",
       "  </tbody>\n",
       "</table>\n",
       "</div>"
      ],
      "text/plain": [
       "           Diet Exercise  WeightLoss\n",
       "0   HighProtein      Low         3.0\n",
       "1   HighProtein      Low         3.5\n",
       "2   HighProtein      Low         3.1\n",
       "3   HighProtein      Low         3.3\n",
       "4   HighProtein      Low         3.2\n",
       "5   HighProtein     High         4.0\n",
       "6   HighProtein     High         4.2\n",
       "7   HighProtein     High         3.8\n",
       "8   HighProtein     High         4.1\n",
       "9   HighProtein     High         4.0\n",
       "10      LowCarb      Low         2.8\n",
       "11      LowCarb      Low         2.9\n",
       "12      LowCarb      Low         3.0\n",
       "13      LowCarb      Low         2.7\n",
       "14      LowCarb      Low         2.8\n",
       "15      LowCarb     High         3.5\n",
       "16      LowCarb     High         3.6\n",
       "17      LowCarb     High         3.4\n",
       "18      LowCarb     High         3.5\n",
       "19      LowCarb     High         3.7\n",
       "20     Balanced      Low         2.5\n",
       "21     Balanced      Low         2.6\n",
       "22     Balanced      Low         2.4\n",
       "23     Balanced      Low         2.7\n",
       "24     Balanced      Low         2.5\n",
       "25     Balanced     High         3.0\n",
       "26     Balanced     High         3.1\n",
       "27     Balanced     High         2.9\n",
       "28     Balanced     High         3.0\n",
       "29     Balanced     High         3.2"
      ]
     },
     "execution_count": 46,
     "metadata": {},
     "output_type": "execute_result"
    }
   ],
   "source": [
    "df = pd.read_csv(\"Data/식이요법과 운동강도.csv\")\n",
    "df"
   ]
  },
  {
   "cell_type": "code",
   "execution_count": 47,
   "id": "9ac76e67-b1d3-4ce4-9519-494817ea59b5",
   "metadata": {},
   "outputs": [
    {
     "data": {
      "image/png": "[encoded data removed]",
      "text/plain": [
       "<Figure size 640x480 with 1 Axes>"
      ]
     },
     "metadata": {},
     "output_type": "display_data"
    }
   ],
   "source": [
    "import seaborn as sns\n",
    "import koreanize_matplotlib\n",
    "import matplotlib.pyplot as plt\n",
    "\n",
    "# 식이요법별 운동강도별 체중감량의 차이가 있는지 \n",
    "sns.boxplot(data=df, x = \"Diet\", y = \"WeightLoss\", hue = \"Exercise\")\n",
    "plt.show()\n",
    "\n",
    "# 일단은 그림상으로는 체중감량의 차이가 존재하는 것처럼 보임"
   ]
  },
  {
   "cell_type": "code",
   "execution_count": 48,
   "id": "9f1feddb-728a-4dc7-b6dc-2c930d1f728d",
   "metadata": {},
   "outputs": [
    {
     "name": "stdout",
     "output_type": "stream",
     "text": [
      "('Balanced', 'High') : 정규성을 만족합니다\n",
      "('Balanced', 'Low') : 정규성을 만족합니다\n",
      "('HighProtein', 'High') : 정규성을 만족합니다\n",
      "('HighProtein', 'Low') : 정규성을 만족합니다\n",
      "('LowCarb', 'High') : 정규성을 만족합니다\n",
      "('LowCarb', 'Low') : 정규성을 만족합니다\n"
     ]
    }
   ],
   "source": [
    "# 정규성 만족하는지 확인 - groupby, shapiro\n",
    "\n",
    "from statsmodels.formula.api import ols\n",
    "import statsmodels.api as sm\n",
    "import numpy as np\n",
    "import scipy.stats as stats\n",
    "\n",
    "for i, j in df.groupby([\"Diet\", \"Exercise\"]):         # groupby로 그룹화 \n",
    "        st, p = stats.shapiro(j[\"WeightLoss\"])\n",
    "        if p > 0.05:\n",
    "            print(f\"{i} : 정규성을 만족합니다\")\n",
    "\n",
    "# 다 정규성 만족함 확인가능 "
   ]
  },
  {
   "cell_type": "code",
   "execution_count": 49,
   "id": "adf46927-2af5-4b0f-8472-b8b68720d5ee",
   "metadata": {},
   "outputs": [
    {
     "data": {
      "text/plain": [
       "LeveneResult(statistic=0.3450980392156847, pvalue=0.8802963672362956)"
      ]
     },
     "execution_count": 49,
     "metadata": {},
     "output_type": "execute_result"
    }
   ],
   "source": [
    "# 분산이 동일한지 확인 - groupby, levene*\n",
    "\n",
    "box = []\n",
    "for i, j in df.groupby([\"Diet\", \"Exercise\"]):         # groupby로 그룹화 \n",
    "    box.append(j[\"WeightLoss\"])\n",
    "box\n",
    "\n",
    "stats.levene(*box)\n",
    "\n",
    "# p > 0.05 ; 분산도 동일하다고 추론 가능"
   ]
  },
  {
   "cell_type": "code",
   "execution_count": 50,
   "id": "e0392706-c6b2-4003-8c32-6fd87e715b85",
   "metadata": {},
   "outputs": [
    {
     "data": {
      "text/html": [
       "<div>\n",
       "<style scoped>\n",
       "    .dataframe tbody tr th:only-of-type {\n",
       "        vertical-align: middle;\n",
       "    }\n",
       "\n",
       "    .dataframe tbody tr th {\n",
       "        vertical-align: top;\n",
       "    }\n",
       "\n",
       "    .dataframe thead th {\n",
       "        text-align: right;\n",
       "    }\n",
       "</style>\n",
       "<table border=\"1\" class=\"dataframe\">\n",
       "  <thead>\n",
       "    <tr style=\"text-align: right;\">\n",
       "      <th></th>\n",
       "      <th>df</th>\n",
       "      <th>sum_sq</th>\n",
       "      <th>mean_sq</th>\n",
       "      <th>F</th>\n",
       "      <th>PR(&gt;F)</th>\n",
       "    </tr>\n",
       "  </thead>\n",
       "  <tbody>\n",
       "    <tr>\n",
       "      <th>C(Diet)</th>\n",
       "      <td>2.0</td>\n",
       "      <td>3.446000</td>\n",
       "      <td>1.723000</td>\n",
       "      <td>93.135135</td>\n",
       "      <td>4.888779e-12</td>\n",
       "    </tr>\n",
       "    <tr>\n",
       "      <th>C(Exercise)</th>\n",
       "      <td>1.0</td>\n",
       "      <td>3.333333</td>\n",
       "      <td>3.333333</td>\n",
       "      <td>180.180180</td>\n",
       "      <td>1.187511e-12</td>\n",
       "    </tr>\n",
       "    <tr>\n",
       "      <th>C(Diet):C(Exercise)</th>\n",
       "      <td>2.0</td>\n",
       "      <td>0.116667</td>\n",
       "      <td>0.058333</td>\n",
       "      <td>3.153153</td>\n",
       "      <td>6.083294e-02</td>\n",
       "    </tr>\n",
       "    <tr>\n",
       "      <th>Residual</th>\n",
       "      <td>24.0</td>\n",
       "      <td>0.444000</td>\n",
       "      <td>0.018500</td>\n",
       "      <td>NaN</td>\n",
       "      <td>NaN</td>\n",
       "    </tr>\n",
       "  </tbody>\n",
       "</table>\n",
       "</div>"
      ],
      "text/plain": [
       "                       df    sum_sq   mean_sq           F        PR(>F)\n",
       "C(Diet)               2.0  3.446000  1.723000   93.135135  4.888779e-12\n",
       "C(Exercise)           1.0  3.333333  3.333333  180.180180  1.187511e-12\n",
       "C(Diet):C(Exercise)   2.0  0.116667  0.058333    3.153153  6.083294e-02\n",
       "Residual             24.0  0.444000  0.018500         NaN           NaN"
      ]
     },
     "execution_count": 50,
     "metadata": {},
     "output_type": "execute_result"
    }
   ],
   "source": [
    "# 차이가 있는지 확인하는 방법 (이원분산분석)  - ols, stats.anova_lm\n",
    "\n",
    "# 체중 감량 차이를 보고 싶다 = variable을 가지고 value를 보고싶다 = value를 종속변수(y)로.\n",
    "# 범주형 변수일 때는 앞에 C붙여줄것\n",
    "\n",
    "from statsmodels.formula.api import ols\n",
    "import statsmodels.api as sm\n",
    "\n",
    "model = ols(\"WeightLoss ~ C(Diet) + C(Exercise) + C(Diet):C(Exercise)\", data=df).fit()\n",
    "# model = ols(\"WeightLoss ~ C(Diet) * C(Exercise)\", data=df).fit()                   <<   이렇게 * 로 표현해서 해도 됨.\n",
    "sm.stats.anova_lm(model)\n",
    "\n",
    "# Diet, Exercise의 p < 0.05 ; H0기각. 적어도 두 개의 분산에 유의미한 차이가 있다\n",
    "# Diet&Exercise의 상호작용의 p > 0.05 ;  효과가 없다?"
   ]
  },
  {
   "cell_type": "code",
   "execution_count": 51,
   "id": "9dbb79e5-dbf5-4854-afc9-3c7c986ba09e",
   "metadata": {},
   "outputs": [
    {
     "name": "stdout",
     "output_type": "stream",
     "text": [
      "     Multiple Comparison of Means - Tukey HSD, FWER=0.05      \n",
      "==============================================================\n",
      "   group1      group2   meandiff p-adj   lower   upper  reject\n",
      "--------------------------------------------------------------\n",
      "   Balanced HighProtein     0.83 0.0001  0.4089  1.2511   True\n",
      "   Balanced     LowCarb      0.4  0.065 -0.0211  0.8211  False\n",
      "HighProtein     LowCarb    -0.43 0.0446 -0.8511 -0.0089   True\n",
      "--------------------------------------------------------------\n"
     ]
    }
   ],
   "source": [
    "# 사후 분석 - pairwise_tukeyhsd\n",
    "\n",
    "# 어떤 식이요법이 유의미한지 확인 \n",
    "from statsmodels.stats.multicomp import pairwise_tukeyhsd\n",
    "\n",
    "report = pairwise_tukeyhsd(endog = df[\"WeightLoss\"], \n",
    "                           groups = df['Diet'], alpha = 0.05)\n",
    "print(report)\n",
    "\n",
    "# Balanced와 LowCarb의 p > 0.05: 두 그룹의 평균차이는 통계적으로 유의하지 않다. 효과가 없다"
   ]
  },
  {
   "cell_type": "code",
   "execution_count": 52,
   "id": "bf9295a9-1864-4f92-b916-90fcab9c2348",
   "metadata": {},
   "outputs": [
    {
     "data": {
      "image/png": "[encoded data removed]",
      "text/plain": [
       "<Figure size 1000x600 with 1 Axes>"
      ]
     },
     "metadata": {},
     "output_type": "display_data"
    }
   ],
   "source": [
    "report.plot_simultaneous()\n",
    "plt.grid()\n",
    "plt.show()"
   ]
  },
  {
   "cell_type": "code",
   "execution_count": null,
   "id": "5fe31f94-12bc-4bef-864c-c0a76fa0d57e",
   "metadata": {},
   "outputs": [],
   "source": []
  }
 ],
 "metadata": {
  "kernelspec": {
   "display_name": "Python 3 (ipykernel)",
   "language": "python",
   "name": "python3"
  },
  "language_info": {
   "codemirror_mode": {
    "name": "ipython",
    "version": 3
   },
   "file_extension": ".py",
   "mimetype": "text/x-python",
   "name": "python",
   "nbconvert_exporter": "python",
   "pygments_lexer": "ipython3",
   "version": "3.12.7"
  }
 },
 "nbformat": 4,
 "nbformat_minor": 5
}
