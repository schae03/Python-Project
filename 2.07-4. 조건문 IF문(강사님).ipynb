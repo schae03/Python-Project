{
 "cells": [
  {
   "cell_type": "markdown",
   "id": "0e6031be-f900-4a66-b54a-b9c93fd99626",
   "metadata": {},
   "source": [
    "# IF 조건문\n",
    "* if 문의 기본 형식\n",
    "```\n",
    "if 조건식:\n",
    "    # 조건식이 True일 때 실행될 코드\n",
    "```"
   ]
  },
  {
   "cell_type": "code",
   "execution_count": 1,
   "id": "b044ada1-8cb6-4361-a272-bd1138310da1",
   "metadata": {},
   "outputs": [
    {
     "name": "stdout",
     "output_type": "stream",
     "text": [
      "성인입니다.\n"
     ]
    }
   ],
   "source": [
    "age = 20\n",
    "if age >= 19:\n",
    "    print(\"성인입니다.\")  # age가 19 이상이면 이 문장 출력"
   ]
  },
  {
   "cell_type": "markdown",
   "id": "7bbb0728-28b0-4a50-b3ce-bf36a2937c41",
   "metadata": {},
   "source": [
    "* if ~ else 구조\n",
    "\n",
    "```\n",
    "if 조건식:\n",
    "    # 조건식이 True일 때 실행\n",
    "else:\n",
    "    # 조건식이 False일 때 실행\n",
    "```"
   ]
  },
  {
   "cell_type": "code",
   "execution_count": 2,
   "id": "96471df7-314a-4a3c-94b0-59e35c772b45",
   "metadata": {},
   "outputs": [
    {
     "name": "stdout",
     "output_type": "stream",
     "text": [
      "홀수입니다.\n"
     ]
    }
   ],
   "source": [
    "num = 3\n",
    "if num % 2 == 0:\n",
    "    print(\"짝수입니다.\")\n",
    "else:\n",
    "    print(\"홀수입니다.\")"
   ]
  },
  {
   "cell_type": "markdown",
   "id": "8044f945-e569-4b74-a9a8-a50c596cca69",
   "metadata": {},
   "source": [
    "* if ~ elif ~ else 구조\n",
    "    * 여러 조건을 순차적으로 판단할 때 사용합니다.\n",
    "    * elif는 원하는 만큼 이어서 사용할 수 있습니다.\n",
    "    * elif 블록이 실행되면, 나머지 elif는 건너뜁니다(우선순위는 위에서부터). \n",
    "\n",
    "```\n",
    "if 조건식1:\n",
    "    # 조건식1이 True일 때\n",
    "elif 조건식2:\n",
    "    # 조건식2가 True일 때\n",
    "else:\n",
    "    # 위 조건들이 모두 False일 때\n",
    "```"
   ]
  },
  {
   "cell_type": "code",
   "execution_count": 3,
   "id": "d0546fc2-857c-4822-b1ca-88eaa72a9e30",
   "metadata": {},
   "outputs": [
    {
     "name": "stdout",
     "output_type": "stream",
     "text": [
      "등급: B\n"
     ]
    }
   ],
   "source": [
    "score = 85\n",
    "\n",
    "if score >= 90:\n",
    "    print(\"등급: A\")\n",
    "elif score >= 80:\n",
    "    print(\"등급: B\")\n",
    "elif score >= 70:\n",
    "    print(\"등급: C\")\n",
    "else:\n",
    "    print(\"등급: D 또는 F\")"
   ]
  },
  {
   "cell_type": "markdown",
   "id": "fe8bed53-be38-497f-93a7-f6bb6fdf1cd6",
   "metadata": {},
   "source": [
    "* 중첩 IF문"
   ]
  },
  {
   "cell_type": "code",
   "execution_count": 4,
   "id": "387cb115-cde5-41a1-8ddf-8ee0b0a62725",
   "metadata": {},
   "outputs": [
    {
     "name": "stdout",
     "output_type": "stream",
     "text": [
      "성인 회원입니다.\n"
     ]
    }
   ],
   "source": [
    "age = 20\n",
    "is_member = True\n",
    "\n",
    "if age >= 19:\n",
    "    if is_member:\n",
    "        print(\"성인 회원입니다.\")\n",
    "    else:\n",
    "        print(\"성인이지만 회원은 아닙니다.\")\n",
    "else:\n",
    "    print(\"미성년자입니다.\")"
   ]
  },
  {
   "cell_type": "markdown",
   "id": "9cb72234-6bb5-4efa-8c32-0734f159db15",
   "metadata": {},
   "source": [
    "* 조건부 표현식 (삼항 연산자): 간단한 if ~ else 구문을 한 줄로 표현할 때 사용됩니다."
   ]
  },
  {
   "cell_type": "code",
   "execution_count": 5,
   "id": "05413438-5c53-4deb-908f-2c544310a7ba",
   "metadata": {},
   "outputs": [
    {
     "name": "stdout",
     "output_type": "stream",
     "text": [
      "양수\n"
     ]
    }
   ],
   "source": [
    "x = 10\n",
    "result = \"양수\" if x > 0 else \"음수 또는 0\"\n",
    "print(result)  # \"양수\""
   ]
  },
  {
   "cell_type": "markdown",
   "id": "2d42f8aa-9436-4afd-a87d-6127ffac394f",
   "metadata": {},
   "source": [
    "## 연습문제\n",
    "1. 변수 num에 정수 값을 저장한 후, num이 0보다 크면 \"num은 양수입니다\"를 출력하는 코드를 작성하세요."
   ]
  },
  {
   "cell_type": "code",
   "execution_count": 1,
   "id": "31f00dfd-83c0-4f95-824b-19eb9ee7e6fd",
   "metadata": {},
   "outputs": [
    {
     "name": "stdout",
     "output_type": "stream",
     "text": [
      "num은 양수입니다\n"
     ]
    }
   ],
   "source": [
    "num = 30\n",
    "if num > 0:\n",
    "    print(\"num은 양수입니다\")"
   ]
  },
  {
   "cell_type": "markdown",
   "id": "15d3c516-4767-4148-9d8f-cbd43e464d2e",
   "metadata": {},
   "source": [
    "2. 변수 age에 정수 값을 저장한 후, age가 18 이상이면 \"성인입니다\" 그렇지 않으면 \"미성년자입니다\" 를 출력하는 코드를 작성하세요."
   ]
  },
  {
   "cell_type": "code",
   "execution_count": 2,
   "id": "4d585bcb-5174-48ab-8ea8-a66a974261d7",
   "metadata": {},
   "outputs": [
    {
     "name": "stdout",
     "output_type": "stream",
     "text": [
      "성인입니다\n"
     ]
    }
   ],
   "source": [
    "age = 23\n",
    "if age >= 18:\n",
    "    print(\"성인입니다\")\n",
    "else:\n",
    "    print(\"미성년자입니다\")"
   ]
  },
  {
   "cell_type": "markdown",
   "id": "7ae47ddd-b7f7-4914-9ab5-d8bd990ba255",
   "metadata": {},
   "source": [
    "3. 사용자로부터 정수를 입력받아, 입력된 값에 따라 아래와 같이 출력하는 코드를 작성하세요.\n",
    "* 입력값이 0보다 크면: \"양수입니다\"\n",
    "* 입력값이 0이면: \"0입니다\"\n",
    "* 입력값이 0보다 작으면: \"음수입니다\""
   ]
  },
  {
   "cell_type": "code",
   "execution_count": 14,
   "id": "6edadbd9-86aa-42af-9ff0-8291a9d8b28d",
   "metadata": {},
   "outputs": [
    {
     "name": "stdin",
     "output_type": "stream",
     "text": [
      "입력:  30\n"
     ]
    },
    {
     "name": "stdout",
     "output_type": "stream",
     "text": [
      "양수입니다\n"
     ]
    }
   ],
   "source": [
    "a = int(input(\"입력: \"))        # input 함수는 기본으로 문자열형식.\n",
    "if a > 0:\n",
    "    print(\"양수입니다\")\n",
    "elif a == 0:\n",
    "    print(\"0입니다\")\n",
    "else:\n",
    "    print(\"음수입니다\")"
   ]
  },
  {
   "cell_type": "markdown",
   "id": "b4da2b88-021c-4ac6-aae0-63278e953aeb",
   "metadata": {},
   "source": [
    "4. 변수 score에 시험 점수를 저장한 후,\n",
    "* score가 90 이상이면 \"A학점\"\n",
    "* 80 이상이면 \"B학점\"\n",
    "* 70 이상이면 \"C학점\"\n",
    "* 그 외의 경우에는 \"F학점\"\n",
    "\n",
    "을 출력하는 코드를 작성하세요."
   ]
  },
  {
   "cell_type": "code",
   "execution_count": 7,
   "id": "6cf20aa1-f1bd-495a-a7d9-78b220d11bfe",
   "metadata": {},
   "outputs": [
    {
     "name": "stdout",
     "output_type": "stream",
     "text": [
      "A학점\n"
     ]
    }
   ],
   "source": [
    "score = 99\n",
    "if score >= 90:\n",
    "    print(\"A학점\")\n",
    "elif score >= 80:\n",
    "    print(\"B학점\")\n",
    "elif score >= 70:\n",
    "    print(\"C학점\")\n",
    "else:\n",
    "    print(\"F학점\")"
   ]
  },
  {
   "cell_type": "markdown",
   "id": "d10db42c-6951-4541-b395-4e495f3bbdf4",
   "metadata": {},
   "source": [
    "5. 두 개의 변수 a와 b에 정수 값을 저장한 후,\n",
    "* a가 b보다 크면 \"a가 더 큽니다\"\n",
    "* a와 b가 같으면 \"두 수는 같습니다\"\n",
    "* a가 b보다 작으면 \"b가 더 큽니다\"\n",
    "\n",
    "를 출력하는 코드를 작성하세요."
   ]
  },
  {
   "cell_type": "code",
   "execution_count": 8,
   "id": "b4413478-c152-46d5-ace4-d27b47e287b4",
   "metadata": {},
   "outputs": [
    {
     "name": "stdout",
     "output_type": "stream",
     "text": [
      "b가 더 큽니다\n"
     ]
    }
   ],
   "source": [
    "a = 10\n",
    "b = 20\n",
    "if a > b:\n",
    "    print(\"a가 더 큽니다\")\n",
    "elif a == b:\n",
    "    print(\"두 수는 같습니다\")\n",
    "else:\n",
    "    print(\"b가 더 큽니다\")"
   ]
  },
  {
   "cell_type": "markdown",
   "id": "ec75140d-6185-4dc8-8001-56983acb1313",
   "metadata": {},
   "source": [
    "6. 변수 word에 문자열 값을 저장한 후,\n",
    "* word가 \"python\"과 같으면 \"정답입니다\"\n",
    "* 그렇지 않으면 \"오답입니다\"\n",
    "\n",
    "를 출력하는 코드를 작성하세요."
   ]
  },
  {
   "cell_type": "code",
   "execution_count": 9,
   "id": "8df17861-68bb-4dcb-b6e1-0cd8bcff6726",
   "metadata": {},
   "outputs": [
    {
     "name": "stdout",
     "output_type": "stream",
     "text": [
      "오답입니다\n"
     ]
    }
   ],
   "source": [
    "word = \"PYTHON\"\n",
    "if word == \"python\":\n",
    "    print(\"정답입니다\")\n",
    "else:\n",
    "    print(\"오답입니다\")"
   ]
  },
  {
   "cell_type": "markdown",
   "id": "ca42c4e7-feb9-42d0-ad63-7ac17cd9279b",
   "metadata": {},
   "source": [
    "7. 변수 flag에 불리언 값을 저장한 후,\n",
    "* flag가 True이면 \"참입니다\"\n",
    "* flag가 False이면 \"거짓입니다\"\n",
    "\n",
    "를 출력하는 코드를 작성하세요."
   ]
  },
  {
   "cell_type": "code",
   "execution_count": 10,
   "id": "fcbd747e-f36a-4aa0-852f-20ee6a2f6098",
   "metadata": {},
   "outputs": [
    {
     "name": "stdout",
     "output_type": "stream",
     "text": [
      "참입니다\n"
     ]
    }
   ],
   "source": [
    "flag = True\n",
    "if flag == True:        # 그냥 >> if flag: << 해도 괜춘\n",
    "    print(\"참입니다\")\n",
    "else:\n",
    "    print(\"거짓입니다\")"
   ]
  },
  {
   "cell_type": "markdown",
   "id": "ed781271-f98d-4d8a-8ee8-e0c49e41fc78",
   "metadata": {},
   "source": [
    "8. 사용자로부터 문자열을 입력받아, 회문이면 \"회문입니다.\" 회문이 아니면 \"회문이 아닙니다.\" 를 출력하는 코드를 작성하세요.  \n",
    "(회문이란, 앞에서부터 읽으나 뒤에서부터 읽으나 똑같은 문장을 말합니다.)"
   ]
  },
  {
   "cell_type": "code",
   "execution_count": 12,
   "id": "bd49313b-d533-4dd2-9f28-612ccf9f6baf",
   "metadata": {},
   "outputs": [
    {
     "name": "stdin",
     "output_type": "stream",
     "text": [
      "입력:  기러기\n"
     ]
    },
    {
     "name": "stdout",
     "output_type": "stream",
     "text": [
      "회문입니다\n"
     ]
    }
   ],
   "source": [
    "a = input(\"입력: \")\n",
    "if a[::-1] == a:\n",
    "    print(\"회문입니다\")\n",
    "else:\n",
    "    print(\"회문이 아닙니다\")"
   ]
  },
  {
   "cell_type": "markdown",
   "id": "9d04d90c-ef2b-463f-b8c7-6c19daa1a552",
   "metadata": {},
   "source": [
    "9. 정수 3개(num1, num2, num3)를 입력받아, 가장 큰 수를 출력하는 코드를 작성하세요.  \n",
    "(max() 함수는 사용할 수 없습니다.)"
   ]
  },
  {
   "cell_type": "code",
   "execution_count": 16,
   "id": "1c32a76d-2ec1-463d-8b7f-31187a788a58",
   "metadata": {},
   "outputs": [
    {
     "name": "stdin",
     "output_type": "stream",
     "text": [
      "num1:  10\n",
      "num2:  20\n",
      "num3:  30\n"
     ]
    },
    {
     "name": "stdout",
     "output_type": "stream",
     "text": [
      "30\n"
     ]
    }
   ],
   "source": [
    "num1 = int(input(\"num1: \"))\n",
    "num2 = int(input(\"num2: \"))\n",
    "num3 = int(input(\"num3: \"))\n",
    "\n",
    "if num1 > num2 and num1 > num3:\n",
    "    print(num1)\n",
    "elif num2 > num3:\n",
    "    print(num2)\n",
    "else:\n",
    "    print(num3)\n",
    "\n",
    "# max_value = 0\n",
    "# if a >= max_value:\n",
    "#   max_value = a\n",
    "# if b >= max_value:\n",
    "#   max_value = b\n",
    "# if c >= max_value:\n",
    "#   max_value = c\n",
    "# max_value"
   ]
  },
  {
   "cell_type": "markdown",
   "id": "1b87ede6-0c16-4d9d-8fb8-17851964a70c",
   "metadata": {},
   "source": [
    "10. 사용자로부터 나이를 입력받아,\n",
    "* 나이가 0보다 작거나 120보다 크면 \"잘못된 나이입니다\"\n",
    "* 그렇지 않으면 \"올바른 나이입니다\"\n",
    "\n",
    "를 출력하는 코드를 작성하세요."
   ]
  },
  {
   "cell_type": "code",
   "execution_count": 18,
   "id": "96bcc10a-96f0-4ad1-938b-b19bf97bf0b5",
   "metadata": {},
   "outputs": [
    {
     "name": "stdin",
     "output_type": "stream",
     "text": [
      "age:  300\n"
     ]
    },
    {
     "name": "stdout",
     "output_type": "stream",
     "text": [
      "잘못된 나이입니다\n"
     ]
    }
   ],
   "source": [
    "age = int(input(\"age: \"))\n",
    "if age < 0 or age> 120:\n",
    "    print(\"잘못된 나이입니다\")\n",
    "else:\n",
    "    print(\"올바른 나이입니다\")"
   ]
  },
  {
   "cell_type": "code",
   "execution_count": null,
   "id": "eda5979f-3006-49cf-8811-792d7c5249f9",
   "metadata": {},
   "outputs": [],
   "source": []
  }
 ],
 "metadata": {
  "kernelspec": {
   "display_name": "Python 3 (ipykernel)",
   "language": "python",
   "name": "python3"
  },
  "language_info": {
   "codemirror_mode": {
    "name": "ipython",
    "version": 3
   },
   "file_extension": ".py",
   "mimetype": "text/x-python",
   "name": "python",
   "nbconvert_exporter": "python",
   "pygments_lexer": "ipython3",
   "version": "3.12.7"
  }
 },
 "nbformat": 4,
 "nbformat_minor": 5
}
