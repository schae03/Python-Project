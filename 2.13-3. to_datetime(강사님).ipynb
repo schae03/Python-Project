{
 "cells": [
  {
   "cell_type": "markdown",
   "id": "9490972b-7229-4bbe-b808-40d9edca1ca5",
   "metadata": {},
   "source": [
    "# to_datetime\n",
    "pandas.to_datetime 함수는 문자열, 숫자, 리스트, 시리즈 등 다양한 형태의 날짜/시간 정보를 판다스의 datetime 객체(주로 Timestamp 또는 DatetimeIndex)로 변환해 주는 매우 유용한 도구입니다. 이를 통해 날짜와 관련된 연산, 비교, 인덱싱 등을 쉽게 할 수 있습니다."
   ]
  },
  {
   "cell_type": "code",
   "execution_count": 1,
   "id": "2aed508d-1a7a-448d-adcc-b39d27560e41",
   "metadata": {},
   "outputs": [
    {
     "name": "stdout",
     "output_type": "stream",
     "text": [
      "DatetimeIndex(['2025-02-13', '2025-03-01', '2025-04-15'], dtype='datetime64[ns]', freq=None)\n"
     ]
    }
   ],
   "source": [
    "import pandas as pd\n",
    "\n",
    "# 날짜 문자열 데이터\n",
    "date_str = ['2025-02-13', '2025-03-01', '2025-04-15']\n",
    "dates = pd.to_datetime(date_str)\n",
    "print(dates)"
   ]
  },
  {
   "cell_type": "markdown",
   "id": "578f5a81-bac6-4ba0-af56-3e5f2e7ccd52",
   "metadata": {},
   "source": [
    "## 날짜 형식 지정 및 에러 처리\n",
    "\n",
    "* 연도 관련\n",
    "    * %Y: 4자리 연도 (예: 2025)\n",
    "    * %y: 2자리 연도 (예: 25)\n",
    "\n",
    "* 월, 일 관련\n",
    "    * %m: 2자리 월 (예: 02 – 01부터 12까지)\n",
    "    * %d: 2자리 일 (예: 13 – 01부터 31까지)\n",
    "\n",
    "* 시간 관련\n",
    "    * %H: 24시간제 시간 (예: 14 – 00부터 23까지)\n",
    "    * %I: 12시간제 시간 (예: 02 – 01부터 12까지)\n",
    "    * %M: 분 (예: 30 – 00부터 59까지)\n",
    "    * %S: 초 (예: 45 – 00부터 59까지)\n",
    "    * %f: 마이크로초 (예: 000000 – 000000부터 999999까지)\n",
    "\n",
    "* 기타\n",
    "    * %p: 오전/오후 표시 (예: AM 또는 PM)\n",
    "    * %a: 요일의 축약형 (예: Mon)\n",
    "    * %A: 요일의 전체 이름 (예: Monday)\n",
    "    * %b: 월의 축약형 (예: Feb)\n",
    "    * %B: 월의 전체 이름 (예: February)"
   ]
  },
  {
   "cell_type": "code",
   "execution_count": 2,
   "id": "9f716475-41c2-4655-8456-72a8305cda83",
   "metadata": {},
   "outputs": [
    {
     "name": "stdout",
     "output_type": "stream",
     "text": [
      "DatetimeIndex(['2025-02-13', '2025-03-01', '2025-04-15'], dtype='datetime64[ns]', freq=None)\n"
     ]
    }
   ],
   "source": [
    "# 다양한 형식의 날짜 문자열\n",
    "date_str = ['13-02-2025', '01-03-2025', '15-04-2025']\n",
    "\n",
    "# dayfirst 옵션을 True로 설정하여 '일-월-연도' 형식으로 파싱\n",
    "dates = pd.to_datetime(date_str, format='%d-%m-%Y', dayfirst=True)\n",
    "print(dates)"
   ]
  },
  {
   "cell_type": "code",
   "execution_count": 5,
   "id": "2faec6ec-e355-4fe1-b394-11466a5bf2d9",
   "metadata": {},
   "outputs": [
    {
     "name": "stdout",
     "output_type": "stream",
     "text": [
      "DatetimeIndex(['2025-02-13 14:30:00', '2025-03-01 09:15:00'], dtype='datetime64[ns]', freq=None)\n"
     ]
    }
   ],
   "source": [
    "date_str = ['2025-02-13 14:30:00', '2025-03-01 09:15:00']\n",
    "# 날짜와 시간이 포함된 문자열의 형식 지정\n",
    "dates = pd.to_datetime(date_str, format='%Y-%m-%d %H:%M:%S')\n",
    "print(dates)"
   ]
  },
  {
   "cell_type": "markdown",
   "id": "b982328b-cc84-4892-a214-587c2332a417",
   "metadata": {},
   "source": [
    "* 숫자 데이터를 datetime으로 변환"
   ]
  },
  {
   "cell_type": "code",
   "execution_count": 3,
   "id": "eac5b284-d7eb-42ab-a239-7d1d41d8f189",
   "metadata": {},
   "outputs": [
    {
     "name": "stdout",
     "output_type": "stream",
     "text": [
      "DatetimeIndex(['2024-11-06 21:20:00', '2024-11-07 21:20:00',\n",
      "               '2024-11-08 21:20:00'],\n",
      "              dtype='datetime64[ns]', freq=None)\n"
     ]
    }
   ],
   "source": [
    "# Unix 타임스탬프(초 단위) 데이터\n",
    "timestamps = [1730928000, 1731014400, 1731100800]\n",
    "dates = pd.to_datetime(timestamps, unit='s')\n",
    "print(dates)"
   ]
  },
  {
   "cell_type": "markdown",
   "id": "e6cb2db9-5bf2-4ab9-95bb-9f9da5e0cd62",
   "metadata": {},
   "source": [
    "* 잘못된 날짜 처리"
   ]
  },
  {
   "cell_type": "code",
   "execution_count": 4,
   "id": "67b14b89-b9c4-464e-b5bc-6f6e5fbdb240",
   "metadata": {},
   "outputs": [
    {
     "name": "stdout",
     "output_type": "stream",
     "text": [
      "DatetimeIndex(['2025-02-13', 'NaT', '2025-04-15'], dtype='datetime64[ns]', freq=None)\n"
     ]
    }
   ],
   "source": [
    "date_str = ['2025-02-13', 'invalid date', '2025-04-15']\n",
    "\n",
    "# errors='coerce' 옵션 사용하여 잘못된 날짜는 NaT로 처리\n",
    "dates = pd.to_datetime(date_str, errors='coerce')\n",
    "print(dates)"
   ]
  },
  {
   "cell_type": "markdown",
   "id": "f020fe3d-c94a-488c-81cd-79b98d51d276",
   "metadata": {},
   "source": [
    "## .dt 접근자\n",
    "Pandas의 .dt 접근자는 datetime 형식의 데이터를 담고 있는 Series 또는 Index에서 날짜와 시간 관련 속성이나 메소드를 벡터화하여 쉽게 사용할 수 있도록 제공하는 도구입니다. 즉, 각각의 datetime 값에 대해 개별적으로 반복문을 사용하지 않고 한 번에 날짜, 시간, 요일 등의 정보를 추출하거나 조작할 수 있습니다.\n",
    "\n",
    "* 연도, 월, 일 추출"
   ]
  },
  {
   "cell_type": "code",
   "execution_count": 14,
   "id": "e731440f-86db-4426-8a41-edcd5ae2e0f3",
   "metadata": {},
   "outputs": [
    {
     "name": "stdout",
     "output_type": "stream",
     "text": [
      "0    2025\n",
      "1    2025\n",
      "dtype: int32\n"
     ]
    }
   ],
   "source": [
    "dates = pd.Series(pd.to_datetime(['2025-02-13 14:30:00', '2025-03-01 09:15:00']))\n",
    "print(dates.dt.year)"
   ]
  },
  {
   "cell_type": "code",
   "execution_count": 15,
   "id": "195665dc-373b-43bf-91ef-aea270c782df",
   "metadata": {},
   "outputs": [
    {
     "name": "stdout",
     "output_type": "stream",
     "text": [
      "0    2\n",
      "1    3\n",
      "dtype: int32\n"
     ]
    }
   ],
   "source": [
    "print(dates.dt.month)"
   ]
  },
  {
   "cell_type": "code",
   "execution_count": 21,
   "id": "56d26dd8-7c58-48f5-80c8-32864e324b3a",
   "metadata": {},
   "outputs": [
    {
     "name": "stdout",
     "output_type": "stream",
     "text": [
      "0    13\n",
      "1     1\n",
      "dtype: int32\n"
     ]
    }
   ],
   "source": [
    "print(dates.dt.day)"
   ]
  },
  {
   "cell_type": "markdown",
   "id": "b0a4321e-9442-426e-8852-8afee39e1d66",
   "metadata": {},
   "source": [
    "* 시간 정보 추출 (시간, 분, 초 등)"
   ]
  },
  {
   "cell_type": "code",
   "execution_count": 18,
   "id": "cdb07958-c1bb-4944-81ba-76c9ea7fdb82",
   "metadata": {},
   "outputs": [
    {
     "name": "stdout",
     "output_type": "stream",
     "text": [
      "0    14\n",
      "1     9\n",
      "dtype: int32\n"
     ]
    }
   ],
   "source": [
    "print(dates.dt.hour)"
   ]
  },
  {
   "cell_type": "code",
   "execution_count": 19,
   "id": "4908f5c1-fecf-4be8-914a-367b3929aa78",
   "metadata": {},
   "outputs": [
    {
     "name": "stdout",
     "output_type": "stream",
     "text": [
      "0    30\n",
      "1    15\n",
      "dtype: int32\n"
     ]
    }
   ],
   "source": [
    "print(dates.dt.minute)"
   ]
  },
  {
   "cell_type": "code",
   "execution_count": 20,
   "id": "53d1ce05-01c2-4324-ada5-5929ba346b00",
   "metadata": {},
   "outputs": [
    {
     "name": "stdout",
     "output_type": "stream",
     "text": [
      "0    0\n",
      "1    0\n",
      "dtype: int32\n"
     ]
    }
   ],
   "source": [
    "print(dates.dt.second)"
   ]
  },
  {
   "cell_type": "markdown",
   "id": "580bc5a9-ef22-4e89-bb22-82595a4d4e3d",
   "metadata": {},
   "source": [
    "* 숫자로 요일 반환 (월요일=0, 일요일=6)"
   ]
  },
  {
   "cell_type": "code",
   "execution_count": 22,
   "id": "cb22181c-de52-4f4c-87b2-2f51bf71320b",
   "metadata": {},
   "outputs": [
    {
     "name": "stdout",
     "output_type": "stream",
     "text": [
      "0    3\n",
      "1    5\n",
      "dtype: int32\n"
     ]
    }
   ],
   "source": [
    "print(dates.dt.dayofweek)"
   ]
  },
  {
   "cell_type": "markdown",
   "id": "32df59b5-5aaa-46b6-9f30-e5f57c8a9fc1",
   "metadata": {},
   "source": [
    "* 요일 이름 반환"
   ]
  },
  {
   "cell_type": "code",
   "execution_count": 23,
   "id": "0c63cd7f-13d7-446c-a5e0-804378fe5fdc",
   "metadata": {},
   "outputs": [
    {
     "name": "stdout",
     "output_type": "stream",
     "text": [
      "0    Thursday\n",
      "1    Saturday\n",
      "dtype: object\n"
     ]
    }
   ],
   "source": [
    "print(dates.dt.day_name())"
   ]
  },
  {
   "cell_type": "markdown",
   "id": "b7755f7a-2100-499c-8700-7d9174f8ee35",
   "metadata": {},
   "source": [
    "* is_month_end / is_month_start:\n",
    "해당 날짜가 월말 또는 월초인지 여부를 Boolean 값으로 반환합니다."
   ]
  },
  {
   "cell_type": "code",
   "execution_count": 25,
   "id": "f264b1f3-d90b-4e5a-a04c-6d3a9b82107b",
   "metadata": {},
   "outputs": [
    {
     "name": "stdout",
     "output_type": "stream",
     "text": [
      "0    False\n",
      "1    False\n",
      "dtype: bool\n"
     ]
    }
   ],
   "source": [
    "print(dates.dt.is_month_end)"
   ]
  },
  {
   "cell_type": "code",
   "execution_count": 26,
   "id": "a05b611c-3455-4553-bae4-9233ba7a40c9",
   "metadata": {},
   "outputs": [
    {
     "name": "stdout",
     "output_type": "stream",
     "text": [
      "0    False\n",
      "1     True\n",
      "dtype: bool\n"
     ]
    }
   ],
   "source": [
    "print(dates.dt.is_month_start)"
   ]
  },
  {
   "cell_type": "markdown",
   "id": "b0d23635-0055-43a2-afaf-bfad203a0dde",
   "metadata": {},
   "source": [
    "* quarter:\n",
    "정보를 추출할 수 있습니다."
   ]
  },
  {
   "cell_type": "code",
   "execution_count": 29,
   "id": "c31d4e9c-bf8f-4ed9-9727-c93013c75394",
   "metadata": {},
   "outputs": [
    {
     "name": "stdout",
     "output_type": "stream",
     "text": [
      "0    1\n",
      "1    1\n",
      "dtype: int32\n"
     ]
    }
   ],
   "source": [
    "print(dates.dt.quarter)"
   ]
  },
  {
   "cell_type": "markdown",
   "id": "f36fb844-9788-411b-8db0-e57a8dcbb4bd",
   "metadata": {},
   "source": [
    "* to_period() 메소드:\n",
    "datetime 데이터를 특정 기간(period)으로 변환합니다."
   ]
  },
  {
   "cell_type": "code",
   "execution_count": 30,
   "id": "03b8c24a-0559-4b61-a2bc-150f6b7bc698",
   "metadata": {},
   "outputs": [
    {
     "data": {
      "text/plain": [
       "0    2025-02\n",
       "1    2025-03\n",
       "dtype: period[M]"
      ]
     },
     "execution_count": 30,
     "metadata": {},
     "output_type": "execute_result"
    }
   ],
   "source": [
    "dates.dt.to_period('M')"
   ]
  },
  {
   "cell_type": "markdown",
   "id": "9174f94d-8fcf-4666-93b2-78139939b59e",
   "metadata": {},
   "source": [
    "## 연습문제\n",
    "1. 다음 리스트에 포함된 날짜 문자열을 pd.to_datetime를 이용해 datetime 객체로 변환해보세요."
   ]
  },
  {
   "cell_type": "code",
   "execution_count": 3,
   "id": "6fb3417e-42d3-479e-8ca7-a3528275521f",
   "metadata": {},
   "outputs": [
    {
     "data": {
      "text/plain": [
       "DatetimeIndex(['2025-02-13', '2025-03-01', '2025-04-15'], dtype='datetime64[ns]', freq=None)"
      ]
     },
     "execution_count": 3,
     "metadata": {},
     "output_type": "execute_result"
    }
   ],
   "source": [
    "import pandas as pd\n",
    "date_list = ['2025-02-13', '2025-03-01', '2025-04-15']\n",
    "pd.to_datetime(date_list)"
   ]
  },
  {
   "cell_type": "markdown",
   "id": "3d1e3fc1-bcac-42e5-928d-fa5557ffcefd",
   "metadata": {},
   "source": [
    "2. 날짜 문자열이 'DD/MM/YYYY' 형식으로 주어졌습니다. 이를 datetime으로 변환할 때 올바른 format을 지정해서 변환해보세요."
   ]
  },
  {
   "cell_type": "code",
   "execution_count": 6,
   "id": "2c2bc3d0-9121-40e4-9ee1-34dc96721d88",
   "metadata": {},
   "outputs": [
    {
     "data": {
      "text/plain": [
       "DatetimeIndex(['2025-02-13', '2025-03-01', '2025-04-15'], dtype='datetime64[ns]', freq=None)"
      ]
     },
     "execution_count": 6,
     "metadata": {},
     "output_type": "execute_result"
    }
   ],
   "source": [
    "date_list = ['13/02/2025', '01/03/2025', '15/04/2025']\n",
    "pd.to_datetime(date_list, format = \"%d/%m/%Y\")"
   ]
  },
  {
   "cell_type": "markdown",
   "id": "6f5789cc-b967-4629-88eb-f716cc43deb1",
   "metadata": {},
   "source": [
    "3. 다음 리스트에는 잘못된 형식의 날짜 문자열이 포함되어 있습니다. errors='coerce' 옵션을 사용해 파싱할 수 없는 값은 NaT로 처리하도록 변환해보세요."
   ]
  },
  {
   "cell_type": "code",
   "execution_count": 7,
   "id": "e1dbc51e-1931-43e8-b4c0-72d8749eff95",
   "metadata": {},
   "outputs": [
    {
     "data": {
      "text/plain": [
       "DatetimeIndex(['2025-02-13', 'NaT', '2025-04-15'], dtype='datetime64[ns]', freq=None)"
      ]
     },
     "execution_count": 7,
     "metadata": {},
     "output_type": "execute_result"
    }
   ],
   "source": [
    "date_list = ['2025-02-13', 'invalid date', '2025-04-15']\n",
    "pd.to_datetime(date_list, errors=\"coerce\")"
   ]
  },
  {
   "cell_type": "markdown",
   "id": "63ae9a0e-6570-466e-9d3b-501f5acbbdb6",
   "metadata": {},
   "source": [
    "4. 다음 리스트의 각 문자열에는 날짜와 시간이 함께 포함되어 있습니다. 이를 datetime 객체로 변환해보세요."
   ]
  },
  {
   "cell_type": "code",
   "execution_count": 9,
   "id": "ca43146d-f987-46de-a18d-25ef576fe5ed",
   "metadata": {},
   "outputs": [
    {
     "data": {
      "text/plain": [
       "DatetimeIndex(['2025-02-13 14:30:00', '2025-03-01 09:15:00',\n",
       "               '2025-04-15 20:45:00'],\n",
       "              dtype='datetime64[ns]', freq=None)"
      ]
     },
     "execution_count": 9,
     "metadata": {},
     "output_type": "execute_result"
    }
   ],
   "source": [
    "date_list = ['2025-02-13 14:30:00', '2025-03-01 09:15:00', '2025-04-15 20:45:00']\n",
    "pd.to_datetime(date_list)"
   ]
  },
  {
   "cell_type": "markdown",
   "id": "1b345d42-0707-4433-b387-d0c21f9fdd16",
   "metadata": {},
   "source": [
    "5. 다음 리스트는 Unix 타임스탬프(초 단위)를 나타냅니다. unit 파라미터를 활용하여 이를 datetime으로 변환해보세요."
   ]
  },
  {
   "cell_type": "code",
   "execution_count": 10,
   "id": "f341a244-6da9-4d5f-9e48-e7dd942b57ff",
   "metadata": {},
   "outputs": [
    {
     "data": {
      "text/plain": [
       "DatetimeIndex(['2024-11-06 21:20:00', '2024-11-07 21:20:00',\n",
       "               '2024-11-08 21:20:00'],\n",
       "              dtype='datetime64[ns]', freq=None)"
      ]
     },
     "execution_count": 10,
     "metadata": {},
     "output_type": "execute_result"
    }
   ],
   "source": [
    "timestamps = [1730928000, 1731014400, 1731100800]\n",
    "pd.to_datetime(timestamps, unit = \"s\")"
   ]
  },
  {
   "cell_type": "markdown",
   "id": "88e5e9ea-3ac7-429f-8f84-fd76a35ff8d7",
   "metadata": {},
   "source": [
    "6. 다음 리스트는 밀리초 단위의 타임스탬프입니다. unit='ms' 옵션을 사용하여 datetime 객체로 변환하세요."
   ]
  },
  {
   "cell_type": "code",
   "execution_count": 11,
   "id": "dc0ab0e8-54d0-4841-a204-09367b4d57d9",
   "metadata": {},
   "outputs": [
    {
     "data": {
      "text/plain": [
       "DatetimeIndex([       '1970-01-21 00:48:48', '1970-01-21 00:50:14.400000',\n",
       "               '1970-01-21 00:51:40.800000'],\n",
       "              dtype='datetime64[ns]', freq=None)"
      ]
     },
     "execution_count": 11,
     "metadata": {},
     "output_type": "execute_result"
    }
   ],
   "source": [
    "timestamps_ms = [1730928000000, 1731014400000, 1731100800000]\n",
    "pd.to_datetime(timestamps, unit = \"ms\")"
   ]
  },
  {
   "cell_type": "markdown",
   "id": "dc6afe4e-048b-4076-88be-49428944b419",
   "metadata": {},
   "source": [
    "7. 아래 DataFrame에는 각 사용자의 가입일과 생년월일이 문자열로 저장되어 있습니다.\n",
    "이 정보를 이용해 가입일 기준 나이를 계산하는 새로운 열 나이를 추가하세요."
   ]
  },
  {
   "cell_type": "code",
   "execution_count": 16,
   "id": "119063b7-0530-4ac8-be4b-69640d77ff3a",
   "metadata": {},
   "outputs": [
    {
     "data": {
      "text/html": [
       "<div>\n",
       "<style scoped>\n",
       "    .dataframe tbody tr th:only-of-type {\n",
       "        vertical-align: middle;\n",
       "    }\n",
       "\n",
       "    .dataframe tbody tr th {\n",
       "        vertical-align: top;\n",
       "    }\n",
       "\n",
       "    .dataframe thead th {\n",
       "        text-align: right;\n",
       "    }\n",
       "</style>\n",
       "<table border=\"1\" class=\"dataframe\">\n",
       "  <thead>\n",
       "    <tr style=\"text-align: right;\">\n",
       "      <th></th>\n",
       "      <th>가입일</th>\n",
       "      <th>생년월일</th>\n",
       "      <th>나이</th>\n",
       "    </tr>\n",
       "  </thead>\n",
       "  <tbody>\n",
       "    <tr>\n",
       "      <th>0</th>\n",
       "      <td>2025-02-13</td>\n",
       "      <td>1990-05-20</td>\n",
       "      <td>35</td>\n",
       "    </tr>\n",
       "    <tr>\n",
       "      <th>1</th>\n",
       "      <td>2025-06-10</td>\n",
       "      <td>1985-12-30</td>\n",
       "      <td>40</td>\n",
       "    </tr>\n",
       "    <tr>\n",
       "      <th>2</th>\n",
       "      <td>2025-01-01</td>\n",
       "      <td>2000-07-10</td>\n",
       "      <td>25</td>\n",
       "    </tr>\n",
       "  </tbody>\n",
       "</table>\n",
       "</div>"
      ],
      "text/plain": [
       "          가입일        생년월일  나이\n",
       "0  2025-02-13  1990-05-20  35\n",
       "1  2025-06-10  1985-12-30  40\n",
       "2  2025-01-01  2000-07-10  25"
      ]
     },
     "execution_count": 16,
     "metadata": {},
     "output_type": "execute_result"
    }
   ],
   "source": [
    "data = {\n",
    "    '가입일': ['2025-02-13', '2025-06-10', '2025-01-01'],\n",
    "    '생년월일': ['1990-05-20', '1985-12-30', '2000-07-10']\n",
    "}\n",
    "\n",
    "df = pd.DataFrame(data)\n",
    "df\n",
    "\n",
    "df[\"나이\"] = pd.to_datetime(df[\"가입일\"]).dt.year - pd.to_datetime(df[\"생년월일\"]).dt.year\n",
    "df"
   ]
  },
  {
   "cell_type": "code",
   "execution_count": null,
   "id": "ef910c1b-0389-4601-82ae-cef39ffff972",
   "metadata": {},
   "outputs": [],
   "source": []
  }
 ],
 "metadata": {
  "kernelspec": {
   "display_name": "Python 3 (ipykernel)",
   "language": "python",
   "name": "python3"
  },
  "language_info": {
   "codemirror_mode": {
    "name": "ipython",
    "version": 3
   },
   "file_extension": ".py",
   "mimetype": "text/x-python",
   "name": "python",
   "nbconvert_exporter": "python",
   "pygments_lexer": "ipython3",
   "version": "3.12.7"
  }
 },
 "nbformat": 4,
 "nbformat_minor": 5
}
